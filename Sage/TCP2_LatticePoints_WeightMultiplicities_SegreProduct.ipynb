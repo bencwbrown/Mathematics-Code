{
 "cells": [
  {
   "cell_type": "code",
   "execution_count": 1,
   "metadata": {},
   "outputs": [],
   "source": [
    "from sympy import *\n",
    "from sympy.vector import Vector\n",
    "from sympy.vector import CoordSys3D\n",
    "import IPython.display as disp\n",
    "\n",
    "N = CoordSys3D('N')\n",
    "\n",
    "t, k, a = symbols( 't k a' )\n",
    "# init_printing(use_unicode=True)\n",
    "init_printing(use_latex='mathjax')\n",
    "\n",
    "# Define the vector which is not parallel to any edge vector, which will tend to zero:\n",
    "\n",
    "Phi = t*(N.i + 2*N.j)\n",
    "\n",
    "# Set the fixed points of the action; P denotes those that belong\n",
    "# to the core, and Q those that come from the cut extended core:\n",
    "\n",
    "def P12(k,a):\n",
    "    return Vector.zero\n",
    "\n",
    "def P23(k,a):\n",
    "    return k*N.i\n",
    "\n",
    "def P13(k,a):\n",
    "    return k*N.j\n",
    "\n",
    "def Q12_1(k,a):\n",
    "    return -a*N.j\n",
    "\n",
    "def Q12_2(k,a):\n",
    "    return -a*N.i\n",
    "\n",
    "def Q23_2(k,a):\n",
    "    return (k+a)*N.i\n",
    "\n",
    "def Q23_3(k,a):\n",
    "    return (k+a)*N.i - a*N.j\n",
    "\n",
    "def Q13_1(k,a):\n",
    "    return (k+a)*N.j\n",
    "\n",
    "def Q13_3(k,a):\n",
    "    return -a*N.i + (k+a)*N.j\n",
    "\n",
    "# Basis for the edge/weight vectors for the points \n",
    "\n",
    "v1 = N.i\n",
    "\n",
    "v2 = N.j\n",
    "\n",
    "# Define the term which is summed over each fixed point,\n",
    "# representing the character for the representation\n",
    "\n",
    "def f(P, edge1, edge2):\n",
    "    return exp( Phi.dot(P) ) / ( (1 - exp( Phi.dot(edge1) ) ) * ( 1 - exp( Phi.dot(edge2) ) ) )\n",
    "\n",
    "def g(P, edge1, edge2, edge3, edge4):\n",
    "    return exp( Phi.dot(P) ) / ( (1 - exp( Phi.dot(edge1) ) ) * ( 1 - exp( Phi.dot(edge2) ) ) * ( 1 - exp( Phi.dot(edge3) ) ) * ( 1 - exp( Phi.dot(edge4) ) ) )\n",
    "\n",
    "# For each of the right-angled triangles:\n",
    "\n",
    "def Delta1(k,a):\n",
    "    return f(P23(k,a), -v1, -v1 + v2 ) * ( f(0*v1 + 0*v2, v1, v1 - v2) + f(a*v1, -v1, -v2) + f(a*v1 - a*v2, v2, -v1 + v2) )\n",
    "\n",
    "def Delta2(k,a):\n",
    "    return f(P13(k,a), v1 - v2, -v2 ) * ( f(0*v1 + 0*v2, v2, -v1 + v2) + f(a*v2, -v1, -v2) + f(-a*v1 + a*v2, v1, v1 - v2) )\n",
    "\n",
    "def Delta3(k,a):\n",
    "    return f(P12(k,a), v1 , v2 ) * ( f(0*v1 + 0*v2, -v1, -v2) + f(-a*v1, v1, v1 - v2) + f(-a*v2, v2, -v1 + v2) )\n",
    "\n",
    "def Sum(k,a):\n",
    "    return Delta1(k,a) + Delta2(k,a) + Delta3(k,a)"
   ]
  },
  {
   "cell_type": "code",
   "execution_count": 2,
   "metadata": {},
   "outputs": [],
   "source": [
    "# Take the limit as t -> 0 to get the Euler characteristic:\n",
    "\n",
    "def EulerCalculation(k,a):\n",
    "    return limit(Sum(k,a),t,0)\n",
    "\n",
    "# Euler characteristic from Index Theorem:\n",
    "def Euler(k,a):\n",
    "    return simplify( Rational(1,4) * ( (a+1)*(a+2)*(k+a+1)*(k+a+2) ) )\n",
    "\n",
    "# Lattice point count:\n",
    "def LatticePoints(k,a):\n",
    "    return simplify(Rational(1,2)*(k+1)*(k+2) + 3*a*(k+a+1))\n",
    "\n",
    "# Different of the a-level and the (a-1)-level of the cut for the Euler characteristic:\n",
    "def CutDiff(k,a):\n",
    "    return factor(Euler(k,a) - Euler(k,a-1))\n",
    "\n"
   ]
  },
  {
   "cell_type": "code",
   "execution_count": 3,
   "metadata": {},
   "outputs": [
    {
     "data": {
      "text/latex": [
       "$\\displaystyle \\frac{\\left(a + 1\\right) \\left(a + 2\\right) \\left(a + k + 1\\right) \\left(a + k + 2\\right)}{4}$"
      ],
      "text/plain": [
       "(a + 1)⋅(a + 2)⋅(a + k + 1)⋅(a + k + 2)\n",
       "───────────────────────────────────────\n",
       "                   4                   "
      ]
     },
     "metadata": {},
     "output_type": "display_data"
    },
    {
     "data": {
      "text/latex": [
       "$\\displaystyle 3 a \\left(a + k + 1\\right) + \\frac{\\left(k + 1\\right) \\left(k + 2\\right)}{2}$"
      ],
      "text/plain": [
       "                  (k + 1)⋅(k + 2)\n",
       "3⋅a⋅(a + k + 1) + ───────────────\n",
       "                         2       "
      ]
     },
     "metadata": {},
     "output_type": "display_data"
    },
    {
     "data": {
      "text/latex": [
       "$\\displaystyle \\frac{\\left(a + 1\\right) \\left(a + k + 1\\right) \\left(2 a + k + 2\\right)}{2}$"
      ],
      "text/plain": [
       "(a + 1)⋅(a + k + 1)⋅(2⋅a + k + 2)\n",
       "─────────────────────────────────\n",
       "                2                "
      ]
     },
     "metadata": {},
     "output_type": "display_data"
    }
   ],
   "source": [
    "disp.display(factor(EulerCalculation(k,a))) # Letting t -> 0  to obtain the Euler characteristic (n.b. degree-0 term in a is equal to lattice point count for CP2's polytope)\n",
    "disp.display(LatticePoints(k,a))\n",
    "disp.display(CutDiff(k,a))"
   ]
  },
  {
   "cell_type": "markdown",
   "metadata": {},
   "source": [
    "---\n",
    "\n",
    "## Summarising:\n",
    "\n",
    "$$ \\begin{split} \\chi(M_{\\leq a}, \\mathcal{L}_{\\leq a}^{k}) &= \\frac{(a+1)(a+2)}{2} \\cdot \\frac{(k+a+1)(k+a+2)}{2}, \\\\ \\#\\{ \\mathbb{Z}^{2} \\cap \\mathcal{P} \\} &= \\frac{(k+1)(k+2)}{2} + 3a(k+a+1). \\end{split} $$\n",
    "\n",
    "---\n",
    "\n",
    "## Conjecture:\n",
    "\n",
    "$$ \\begin{split} &H^{0}(M_{\\leq a}; \\mathcal{L}_{\\leq a}^{k}) \\cong \\bigoplus_{m \\leq a} H^{0}(M ; \\mathcal{L}^{k})_{m} \\\\ & \\\\ \\implies &H^{0}(M; \\mathcal{L}^{k})_{m} \\cong \\frac{H^{0}(M_{\\leq a}; \\mathcal{L}_{\\leq a}^{k})}{H^{0}(M_{\\leq (a-1)}; \\mathcal{L}_{\\leq (a-1)}^{k})}, \\\\ & \\\\ &h^{0}(M; \\mathcal{L}^{k})_{m} = h^{0}(M_{\\leq a}; \\mathcal{L}_{\\leq a}^{k}) - h^{0}(M_{\\leq (a-1)}; \\mathcal{L}_{\\leq (a-1)}^{k}). \\end{split} $$\n",
    "\n",
    "---\n",
    "\n",
    "## An Idea:\n",
    "\n",
    "Since\n",
    "\n",
    "$$ \\begin{split} \\chi\\left(M_{\\leq a}, \\mathcal{L}_{\\leq a}^{k}\\right) &= \\frac{(a+1)(a+2)}{2} \\cdot \\frac{(k+a+1)(k+a+2)}{2} \\\\ & \\\\ &= \\chi\\left(\\mathbb{CP}^{2}; \\mathcal{O}(a)\\right) \\cdot \\chi\\left(\\mathbb{CP}^{2}; \\mathcal{O}(k + a)\\right), \\end{split} $$\n",
    "\n",
    "does\n",
    "\n",
    "$$ H^{0}(M_{\\leq a}; \\mathcal{L}_{\\leq a}^{k}) \\cong \\bigoplus_{m \\leq a} \\{ \\text{\"$k$-weight monomials for $K$\"} \\} \\otimes \\{ \\text{\"$m$-weight monomials for $S^{1}$\"} \\}? $$\n",
    "\n",
    "Or more importantly,\n",
    "\n",
    "$$ H^{0}(M; \\mathcal{L}^{k})_{a} \\cong \\{ \\text{\"$k$-weight monomials for $K$\"} \\} \\otimes \\{ \\text{\"$a$-weight monomials for $S^{1}$\"} \\}? $$\n",
    "\n",
    "----\n",
    "\n",
    "For example,\n",
    "\n",
    "### a = 0:\n",
    "\n",
    "$$ \\{ z_{1}^{l}z_{2}^{m}z_{3}^{n} : l + m + n = k \\}, \\qquad \\text{for } \\Delta_{\\{1,2,3\\}} = F_{1} \\cap F_{2} \\cap F_{3}. $$\n",
    "\n",
    "### a = 1:\n",
    "\n",
    "$$ \\begin{split} &\\{ z_{1}^{l}z_{2}^{m}w_{3} : l + m - 1 = k \\}, \\qquad \\text{for } \\Delta_{\\{1,2\\}} = F_{1} \\cap F_{2} \\cap G_{3}. \\\\ & \\\\ &\\{ z_{1}^{l}w_{2}z_{3}^{n} : l - 1 + n = k \\}, \\qquad \\text{for } \\Delta_{\\{1,3\\}} = F_{1} \\cap G_{2} \\cap F_{3}. \\\\ \\ & \\\\ &\\{ w_{1}^{1}z_{2}^{m}z_{3}^{n} : -1 + m + n = k \\}, \\qquad \\text{for } \\Delta_{\\{2,3\\}} = G_{1} \\cap F_{2} \\cap F_{3}. \\end{split} $$\n",
    "\n",
    "### a = 2:\n",
    "\n",
    "$$ \\begin{split} &\\{ z_{1}^{l}z_{2}^{m}w_{3}^{2} : l + m - 2 = k \\}, \\qquad \\text{for } \\Delta_{\\{1,2\\}} = F_{1} \\cap F_{2} \\cap G_{3}. \\\\ & \\\\ &\\{ z_{1}^{l}w_{2}^{2}z_{3}^{n} : l - 2 + n = k \\}, \\qquad \\text{for } \\Delta_{\\{1,3\\}} = F_{1} \\cap G_{2} \\cap F_{3}. \\\\ \\ & \\\\ &\\{ w_{1}^{2}z_{2}^{m}z_{3}^{n} : -2 + m + n = k \\}, \\qquad \\text{for } \\Delta_{\\{2,3\\}} = G_{1} \\cap F_{2} \\cap F_{3}. \\\\ & \\\\ & \\{ z_{1}^{l}w_{2}^{m}w_{3}^{n} : m + n = 2;\\quad l = k + 2 \\}, \\qquad \\text{for } \\Delta_{\\{1\\}} = F_{1} \\cap G_{2} \\cap G_{3}. \\\\ & \\\\ &\\{ w_{1}^{l}z_{2}^{m}w_{3}^{n} : l + n = 2;\\quad m = k + 2 \\}, \\qquad \\text{for } \\Delta_{\\{2\\}} = G_{1} \\cap F_{2} \\cap G_{3}. \\\\ & \\\\ &\\{ w_{1}^{l}w_{2}^{m}z_{3}^{n} : l + m = 2;\\quad n = k + 2 \\}, \\qquad \\text{for } \\Delta_{\\{3\\}} = G_{1} \\cap G_{2} \\cap F_{3}. \\end{split} $$\n",
    "\n",
    "## General a?\n",
    "\n",
    "$$ \\begin{split} &\\{ z_{1}^{l}z_{2}^{m}w_{3}^{a} : l + m - a = k \\}, \\\\ & \\\\ &\\{ z_{1}^{l}w_{2}^{a}z_{3}^{n} : l - a + n = k \\}, \\\\ \\ & \\\\ &\\{ w_{1}^{a}z_{2}^{m}z_{3}^{n} : -a + m + n = k \\}, \\\\ & \\\\ & \\{ z_{1}^{l}w_{2}^{m}w_{3}^{n} : m + n = a;\\quad l = k + a \\}, \\\\ & \\\\ &\\{ w_{1}^{l}z_{2}^{m}w_{3}^{n} : l + n = a;\\quad m = k + a \\}, \\\\ & \\\\ &\\{ w_{1}^{l}w_{2}^{m}z_{3}^{n} : l + m = a;\\quad n = k + a \\}. \\end{split} $$\n"
   ]
  },
  {
   "cell_type": "code",
   "execution_count": 4,
   "metadata": {},
   "outputs": [
    {
     "data": {
      "text/latex": [
       "$\\displaystyle \\frac{\\left(k + 1\\right) \\left(k + 2\\right)}{2}$"
      ],
      "text/plain": [
       "(k + 1)⋅(k + 2)\n",
       "───────────────\n",
       "       2       "
      ]
     },
     "metadata": {},
     "output_type": "display_data"
    },
    {
     "data": {
      "text/latex": [
       "$\\displaystyle \\frac{k^{2}}{2} + \\frac{9 k}{2} + 7$"
      ],
      "text/plain": [
       " 2          \n",
       "k    9⋅k    \n",
       "── + ─── + 7\n",
       "2     2     "
      ]
     },
     "metadata": {},
     "output_type": "display_data"
    },
    {
     "data": {
      "text/latex": [
       "$\\displaystyle \\frac{k^{2}}{2} + \\frac{15 k}{2} + 19$"
      ],
      "text/plain": [
       " 2            \n",
       "k    15⋅k     \n",
       "── + ──── + 19\n",
       "2     2       "
      ]
     },
     "metadata": {},
     "output_type": "display_data"
    },
    {
     "data": {
      "text/latex": [
       "$\\displaystyle \\frac{k^{2}}{2} + \\frac{21 k}{2} + 37$"
      ],
      "text/plain": [
       " 2            \n",
       "k    21⋅k     \n",
       "── + ──── + 37\n",
       "2     2       "
      ]
     },
     "metadata": {},
     "output_type": "display_data"
    },
    {
     "data": {
      "text/latex": [
       "$\\displaystyle \\frac{k^{2}}{2} + \\frac{27 k}{2} + 61$"
      ],
      "text/plain": [
       " 2            \n",
       "k    27⋅k     \n",
       "── + ──── + 61\n",
       "2     2       "
      ]
     },
     "metadata": {},
     "output_type": "display_data"
    },
    {
     "data": {
      "text/latex": [
       "$\\displaystyle \\frac{k^{2}}{2} + \\frac{33 k}{2} + 91$"
      ],
      "text/plain": [
       " 2            \n",
       "k    33⋅k     \n",
       "── + ──── + 91\n",
       "2     2       "
      ]
     },
     "metadata": {},
     "output_type": "display_data"
    },
    {
     "data": {
      "text/latex": [
       "$\\displaystyle \\frac{k^{2}}{2} + \\frac{39 k}{2} + 127$"
      ],
      "text/plain": [
       " 2             \n",
       "k    39⋅k      \n",
       "── + ──── + 127\n",
       "2     2        "
      ]
     },
     "metadata": {},
     "output_type": "display_data"
    },
    {
     "data": {
      "text/latex": [
       "$\\displaystyle \\frac{k^{2}}{2} + \\frac{45 k}{2} + 169$"
      ],
      "text/plain": [
       " 2             \n",
       "k    45⋅k      \n",
       "── + ──── + 169\n",
       "2     2        "
      ]
     },
     "metadata": {},
     "output_type": "display_data"
    },
    {
     "data": {
      "text/latex": [
       "$\\displaystyle \\frac{k^{2}}{2} + \\frac{51 k}{2} + 217$"
      ],
      "text/plain": [
       " 2             \n",
       "k    51⋅k      \n",
       "── + ──── + 217\n",
       "2     2        "
      ]
     },
     "metadata": {},
     "output_type": "display_data"
    },
    {
     "data": {
      "text/latex": [
       "$\\displaystyle \\frac{k^{2}}{2} + \\frac{57 k}{2} + 271$"
      ],
      "text/plain": [
       " 2             \n",
       "k    57⋅k      \n",
       "── + ──── + 271\n",
       "2     2        "
      ]
     },
     "metadata": {},
     "output_type": "display_data"
    }
   ],
   "source": [
    "for a in range(0, 10):\n",
    "    disp.display(LatticePoints(k,a))"
   ]
  },
  {
   "cell_type": "code",
   "execution_count": 20,
   "metadata": {},
   "outputs": [
    {
     "data": {
      "text/latex": [
       "$\\displaystyle \\frac{\\left(k + 1\\right) \\left(k + 2\\right)}{2}$"
      ],
      "text/plain": [
       "(k + 1)⋅(k + 2)\n",
       "───────────────\n",
       "       2       "
      ]
     },
     "metadata": {},
     "output_type": "display_data"
    },
    {
     "data": {
      "text/latex": [
       "$\\displaystyle \\left(k + 2\\right) \\left(k + 4\\right)$"
      ],
      "text/plain": [
       "(k + 2)⋅(k + 4)"
      ]
     },
     "metadata": {},
     "output_type": "display_data"
    },
    {
     "data": {
      "text/latex": [
       "$\\displaystyle \\frac{3 \\left(k + 3\\right) \\left(k + 6\\right)}{2}$"
      ],
      "text/plain": [
       "3⋅(k + 3)⋅(k + 6)\n",
       "─────────────────\n",
       "        2        "
      ]
     },
     "metadata": {},
     "output_type": "display_data"
    },
    {
     "data": {
      "text/latex": [
       "$\\displaystyle 2 \\left(k + 4\\right) \\left(k + 8\\right)$"
      ],
      "text/plain": [
       "2⋅(k + 4)⋅(k + 8)"
      ]
     },
     "metadata": {},
     "output_type": "display_data"
    },
    {
     "data": {
      "text/latex": [
       "$\\displaystyle \\frac{5 \\left(k + 5\\right) \\left(k + 10\\right)}{2}$"
      ],
      "text/plain": [
       "5⋅(k + 5)⋅(k + 10)\n",
       "──────────────────\n",
       "        2         "
      ]
     },
     "metadata": {},
     "output_type": "display_data"
    },
    {
     "data": {
      "text/latex": [
       "$\\displaystyle 3 \\left(k + 6\\right) \\left(k + 12\\right)$"
      ],
      "text/plain": [
       "3⋅(k + 6)⋅(k + 12)"
      ]
     },
     "metadata": {},
     "output_type": "display_data"
    },
    {
     "data": {
      "text/latex": [
       "$\\displaystyle \\frac{7 \\left(k + 7\\right) \\left(k + 14\\right)}{2}$"
      ],
      "text/plain": [
       "7⋅(k + 7)⋅(k + 14)\n",
       "──────────────────\n",
       "        2         "
      ]
     },
     "metadata": {},
     "output_type": "display_data"
    },
    {
     "data": {
      "text/latex": [
       "$\\displaystyle 4 \\left(k + 8\\right) \\left(k + 16\\right)$"
      ],
      "text/plain": [
       "4⋅(k + 8)⋅(k + 16)"
      ]
     },
     "metadata": {},
     "output_type": "display_data"
    },
    {
     "data": {
      "text/latex": [
       "$\\displaystyle \\frac{9 \\left(k + 9\\right) \\left(k + 18\\right)}{2}$"
      ],
      "text/plain": [
       "9⋅(k + 9)⋅(k + 18)\n",
       "──────────────────\n",
       "        2         "
      ]
     },
     "metadata": {},
     "output_type": "display_data"
    },
    {
     "data": {
      "text/latex": [
       "$\\displaystyle 5 \\left(k + 10\\right) \\left(k + 20\\right)$"
      ],
      "text/plain": [
       "5⋅(k + 10)⋅(k + 20)"
      ]
     },
     "metadata": {},
     "output_type": "display_data"
    }
   ],
   "source": [
    "for a in range(0, 10):\n",
    "    disp.display(simplify(CutDiff(k,a)))\n",
    "    \n",
    "a = symbols('a')"
   ]
  },
  {
   "cell_type": "code",
   "execution_count": 23,
   "metadata": {},
   "outputs": [],
   "source": []
  },
  {
   "cell_type": "code",
   "execution_count": 28,
   "metadata": {},
   "outputs": [
    {
     "data": {
      "text/latex": [
       "$\\displaystyle \\frac{\\left(k + 1\\right) \\left(k + 2\\right)}{2}$"
      ],
      "text/plain": [
       "(k + 1)⋅(k + 2)\n",
       "───────────────\n",
       "       2       "
      ]
     },
     "metadata": {},
     "output_type": "display_data"
    },
    {
     "data": {
      "text/latex": [
       "$\\displaystyle \\frac{k^{2}}{2} + \\frac{9 k}{2} + 7$"
      ],
      "text/plain": [
       " 2          \n",
       "k    9⋅k    \n",
       "── + ─── + 7\n",
       "2     2     "
      ]
     },
     "metadata": {},
     "output_type": "display_data"
    },
    {
     "data": {
      "text/latex": [
       "$\\displaystyle \\frac{k^{2}}{2} + \\frac{15 k}{2} + 19$"
      ],
      "text/plain": [
       " 2            \n",
       "k    15⋅k     \n",
       "── + ──── + 19\n",
       "2     2       "
      ]
     },
     "metadata": {},
     "output_type": "display_data"
    },
    {
     "data": {
      "text/latex": [
       "$\\displaystyle \\frac{k^{2}}{2} + \\frac{21 k}{2} + 37$"
      ],
      "text/plain": [
       " 2            \n",
       "k    21⋅k     \n",
       "── + ──── + 37\n",
       "2     2       "
      ]
     },
     "metadata": {},
     "output_type": "display_data"
    },
    {
     "data": {
      "text/latex": [
       "$\\displaystyle \\frac{k^{2}}{2} + \\frac{27 k}{2} + 61$"
      ],
      "text/plain": [
       " 2            \n",
       "k    27⋅k     \n",
       "── + ──── + 61\n",
       "2     2       "
      ]
     },
     "metadata": {},
     "output_type": "display_data"
    }
   ],
   "source": [
    "for a in range(0, 5):\n",
    "    disp.display(LatticePoints(k,a))\n",
    "    \n",
    "a = symbols('a')"
   ]
  },
  {
   "cell_type": "code",
   "execution_count": null,
   "metadata": {},
   "outputs": [],
   "source": []
  },
  {
   "cell_type": "code",
   "execution_count": 18,
   "metadata": {},
   "outputs": [
    {
     "data": {
      "text/latex": [
       "$\\displaystyle 10$"
      ],
      "text/plain": [
       "10"
      ]
     },
     "metadata": {},
     "output_type": "display_data"
    },
    {
     "data": {
      "text/latex": [
       "$\\displaystyle 35$"
      ],
      "text/plain": [
       "35"
      ]
     },
     "metadata": {},
     "output_type": "display_data"
    },
    {
     "data": {
      "text/latex": [
       "$\\displaystyle 81$"
      ],
      "text/plain": [
       "81"
      ]
     },
     "metadata": {},
     "output_type": "display_data"
    },
    {
     "data": {
      "text/latex": [
       "$\\displaystyle 154$"
      ],
      "text/plain": [
       "154"
      ]
     },
     "metadata": {},
     "output_type": "display_data"
    },
    {
     "data": {
      "text/latex": [
       "$\\displaystyle 260$"
      ],
      "text/plain": [
       "260"
      ]
     },
     "metadata": {},
     "output_type": "display_data"
    }
   ],
   "source": [
    "for a in range(0, 5):\n",
    "    disp.display(simplify(CutDiff(3,a)))\n",
    "    \n",
    "a = symbols('a')"
   ]
  },
  {
   "cell_type": "code",
   "execution_count": 32,
   "metadata": {},
   "outputs": [
    {
     "data": {
      "text/latex": [
       "$\\displaystyle \\frac{\\left(k + 1\\right) \\left(k + 2\\right)}{2}$"
      ],
      "text/plain": [
       "(k + 1)⋅(k + 2)\n",
       "───────────────\n",
       "       2       "
      ]
     },
     "metadata": {},
     "output_type": "display_data"
    },
    {
     "data": {
      "text/latex": [
       "$\\displaystyle \\left(k + 2\\right) \\left(k + 4\\right)$"
      ],
      "text/plain": [
       "(k + 2)⋅(k + 4)"
      ]
     },
     "metadata": {},
     "output_type": "display_data"
    },
    {
     "data": {
      "text/latex": [
       "$\\displaystyle \\frac{3 \\left(k + 3\\right) \\left(k + 6\\right)}{2}$"
      ],
      "text/plain": [
       "3⋅(k + 3)⋅(k + 6)\n",
       "─────────────────\n",
       "        2        "
      ]
     },
     "metadata": {},
     "output_type": "display_data"
    },
    {
     "data": {
      "text/latex": [
       "$\\displaystyle 2 \\left(k + 4\\right) \\left(k + 8\\right)$"
      ],
      "text/plain": [
       "2⋅(k + 4)⋅(k + 8)"
      ]
     },
     "metadata": {},
     "output_type": "display_data"
    },
    {
     "data": {
      "text/latex": [
       "$\\displaystyle \\frac{5 \\left(k + 5\\right) \\left(k + 10\\right)}{2}$"
      ],
      "text/plain": [
       "5⋅(k + 5)⋅(k + 10)\n",
       "──────────────────\n",
       "        2         "
      ]
     },
     "metadata": {},
     "output_type": "display_data"
    }
   ],
   "source": [
    "for a in range(0, 5):\n",
    "    disp.display(simplify(CutDiff(k,a)))\n",
    "\n",
    "a = symbols('a')"
   ]
  },
  {
   "cell_type": "code",
   "execution_count": 34,
   "metadata": {},
   "outputs": [
    {
     "data": {
      "text/latex": [
       "$\\displaystyle 6 a + 3 k$"
      ],
      "text/plain": [
       "6⋅a + 3⋅k"
      ]
     },
     "execution_count": 34,
     "metadata": {},
     "output_type": "execute_result"
    }
   ],
   "source": [
    "simplify(LatticePoints(k,a) - LatticePoints(k,a-1) )"
   ]
  },
  {
   "cell_type": "code",
   "execution_count": 3,
   "metadata": {},
   "outputs": [
    {
     "data": {
      "text/plain": [
       "Scheme morphism:\n",
       "  From: Product of projective spaces P^1 x P^2 over Complex Field with 53 bits of precision\n",
       "  To:   Closed subscheme of Projective Space of dimension 5 over Complex Field with 53 bits of precision defined by:\n",
       "  -u2*u4 + u1*u5,\n",
       "  -u2*u3 + u0*u5,\n",
       "  -u1*u3 + u0*u4\n",
       "  Defn: Defined by sending (z0 : z1 , z2 : z3 : z4) to \n",
       "        (z0*z2 : z0*z3 : z0*z4 : z1*z2 : z1*z3 : z1*z4)."
      ]
     },
     "execution_count": 3,
     "metadata": {},
     "output_type": "execute_result"
    }
   ],
   "source": [
    "# P1 = ProjectiveSpace(ZZ, 1, 'x')\n",
    "T = ProductProjectiveSpaces([1, 2], CC, 'z')\n",
    "\n",
    "T.segre_embedding()"
   ]
  },
  {
   "cell_type": "markdown",
   "metadata": {},
   "source": [
    "$$ H^{0}\\left(\\mathbb{CP}^{2}; \\mathcal{O}(a)\\right) \\cong \\mathbb{C}[ w_{1}^{a_{1}}w_{2}^{a_{2}}w_{3}^{a_{3}} : a_{1} + a_{2} + a_{3} = a]. $$"
   ]
  },
  {
   "cell_type": "code",
   "execution_count": null,
   "metadata": {},
   "outputs": [],
   "source": []
  },
  {
   "cell_type": "code",
   "execution_count": null,
   "metadata": {},
   "outputs": [],
   "source": []
  }
 ],
 "metadata": {
  "kernelspec": {
   "display_name": "Python 3",
   "language": "python",
   "name": "python3"
  },
  "language_info": {
   "codemirror_mode": {
    "name": "ipython",
    "version": 3
   },
   "file_extension": ".py",
   "mimetype": "text/x-python",
   "name": "python",
   "nbconvert_exporter": "python",
   "pygments_lexer": "ipython3",
   "version": "3.8.5"
  }
 },
 "nbformat": 4,
 "nbformat_minor": 4
}
