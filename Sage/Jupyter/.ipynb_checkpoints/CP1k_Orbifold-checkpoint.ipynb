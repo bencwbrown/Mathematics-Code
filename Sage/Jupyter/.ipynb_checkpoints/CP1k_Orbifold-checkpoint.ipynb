{
 "cells": [
  {
   "cell_type": "code",
   "execution_count": 3,
   "metadata": {},
   "outputs": [],
   "source": [
    "from sympy import *\n",
    "from sympy.vector import Vector\n",
    "from sympy.vector import CoordSys3D\n",
    "import itertools\n",
    "N = CoordSys3D('N')\n",
    "\n",
    "x, t, k, d, q, l = symbols( 'x t k d q l' )\n",
    "init_printing(use_unicode=True)\n",
    "\n",
    "# Define the weights for the weighted projective space:\n",
    "\n",
    "Q = [1, k]"
   ]
  },
  {
   "cell_type": "markdown",
   "metadata": {},
   "source": [
    "Define the product of factors that appear in the denominator for the Lefschetz number, that is:\n",
    "\n",
    "$$\\prod_{m \\neq n} \\bigg(1 - e^{(1 - q_{m}/q_{n})t} \\cdot e^{(q_{m}/q_{n})q} \\bigg)$$"
   ]
  },
  {
   "cell_type": "code",
   "execution_count": 2,
   "metadata": {},
   "outputs": [
    {
     "data": {
      "image/png": "[encoded data removed]",
      "text/latex": [
       "$\\displaystyle \\left[ 1, \\  k\\right]$"
      ],
      "text/plain": [
       "[1, k]"
      ]
     },
     "execution_count": 2,
     "metadata": {},
     "output_type": "execute_result"
    }
   ],
   "source": [
    "#def Factor(Qm, Qr, P):\n",
    "#    return ( 1 - ( exp( 2*pi*I*t*( 1 - Rational(Qm, Qr) ) ) ) * exp( 2*pi*I*P*Rational(Qm, Qr) ) )\n",
    "\n",
    "#def Term(Qm, Qr, P, d):\n",
    "#    return exp( 2*pi*I*t*d / Qr ) / ( Factor(Qm, Qr, P) * Factor(Qm, Qr, P) ) \n",
    "\n",
    "# Term(Q[2], Q[1], 2, d)\n",
    "# simplify( exp( 2*pi*I*t*d/Q[2] ) / ( Factor(Q[0], Q[2], q) * Factor(Q[1], Q[2], q) ) )\n",
    "\n",
    "Q"
   ]
  },
  {
   "cell_type": "code",
   "execution_count": 76,
   "metadata": {},
   "outputs": [
    {
     "data": {
      "image/png": "[encoded data removed]",
      "text/latex": [
       "$\\displaystyle \\frac{1}{1 - e^{i t}}$"
      ],
      "text/plain": [
       "   1    \n",
       "────────\n",
       "     ⅈ⋅t\n",
       "1 - ℯ   "
      ]
     },
     "execution_count": 76,
     "metadata": {},
     "output_type": "execute_result"
    }
   ],
   "source": [
    "#def Exp(t):\n",
    "#    return exp( 2*pi*I*t )\n",
    "\n",
    "def Exp(t):\n",
    "    return exp( 2*pi*I*t )\n",
    "\n",
    "def TermAtInf(t,k,l):\n",
    "    return 1 / ( 1 - simplify(exp(-t*I/k)*Exp(-l/k)) ) \n",
    "\n",
    "def TermAtZero(t):\n",
    "    return 1 / ( 1 - exp(I*t) )\n",
    "\n",
    "#TermAtInf(t,k,l)\n",
    "\n",
    "TermAtZero(t)"
   ]
  },
  {
   "cell_type": "code",
   "execution_count": 77,
   "metadata": {},
   "outputs": [],
   "source": [
    "from sympy.abc import i, n\n",
    "\n",
    "def SumAtInf(t,k):\n",
    "    return Rational(1,k)*Sum(TermAtInf(t,k,l), (l, 0, k-1)).doit()\n",
    "\n",
    "def SumAtZero(t):\n",
    "    return TermAtZero(t)"
   ]
  },
  {
   "cell_type": "code",
   "execution_count": 78,
   "metadata": {},
   "outputs": [
    {
     "data": {
      "image/png": "[encoded data removed]",
      "text/latex": [
       "$\\displaystyle \\frac{1}{3 \\left(1 - e^{\\frac{i \\left(- t - 2 \\pi\\right)}{3}}\\right)} + \\frac{1}{3 \\left(1 - e^{\\frac{i \\left(- t - 4 \\pi\\right)}{3}}\\right)} + \\frac{1}{3 \\left(1 - e^{- \\frac{i t}{3}}\\right)}$"
      ],
      "text/plain": [
       "          1                       1                   1       \n",
       "───────────────────── + ───────────────────── + ──────────────\n",
       "  ⎛     ⅈ⋅(-t - 2⋅π)⎞     ⎛     ⅈ⋅(-t - 4⋅π)⎞     ⎛     -ⅈ⋅t ⎞\n",
       "  ⎜     ────────────⎟     ⎜     ────────────⎟     ⎜     ─────⎟\n",
       "  ⎜          3      ⎟     ⎜          3      ⎟     ⎜       3  ⎟\n",
       "3⋅⎝1 - ℯ            ⎠   3⋅⎝1 - ℯ            ⎠   3⋅⎝1 - ℯ     ⎠"
      ]
     },
     "execution_count": 78,
     "metadata": {},
     "output_type": "execute_result"
    }
   ],
   "source": [
    "SumAtInf(t,3)"
   ]
  },
  {
   "cell_type": "code",
   "execution_count": 79,
   "metadata": {},
   "outputs": [
    {
     "data": {
      "image/png": "[encoded data removed]",
      "text/latex": [
       "$\\displaystyle \\frac{1}{1 - e^{i t}}$"
      ],
      "text/plain": [
       "   1    \n",
       "────────\n",
       "     ⅈ⋅t\n",
       "1 - ℯ   "
      ]
     },
     "execution_count": 79,
     "metadata": {},
     "output_type": "execute_result"
    }
   ],
   "source": [
    "SumAtZero(t)"
   ]
  },
  {
   "cell_type": "code",
   "execution_count": 80,
   "metadata": {},
   "outputs": [],
   "source": [
    "def TotalSum(t,k):\n",
    "    return SumAtInf(t,k) + SumAtZero(t)"
   ]
  },
  {
   "cell_type": "code",
   "execution_count": 97,
   "metadata": {},
   "outputs": [
    {
     "data": {
      "image/png": "[encoded data removed]",
      "text/latex": [
       "$\\displaystyle \\frac{\\sqrt[3]{-1}}{3} - \\frac{\\left(-1\\right)^{\\frac{2}{3}}}{3} + \\frac{2}{3} + O\\left(t\\right)$"
      ],
      "text/plain": [
       "3 ____       2/3           \n",
       "╲╱ -1    (-1)      2       \n",
       "────── - ─────── + ─ + O(t)\n",
       "  3         3      3       "
      ]
     },
     "execution_count": 97,
     "metadata": {},
     "output_type": "execute_result"
    }
   ],
   "source": [
    "def SeriesTotalSum(t,k):\n",
    "    return series(TotalSum(t,k), t, 0, 1)\n",
    "\n",
    "def LimitTotalSum(k):\n",
    "    return limit(SeriesTotalSum(t,k), t, 0)\n",
    "\n",
    "simplify(SeriesTotalSum(t,3))\n",
    "\n",
    "#LimitTotalSum(3)"
   ]
  },
  {
   "cell_type": "code",
   "execution_count": 85,
   "metadata": {},
   "outputs": [
    {
     "data": {
      "image/png": "[encoded data removed]",
      "text/latex": [
       "$\\displaystyle 1$"
      ],
      "text/plain": [
       "1"
      ]
     },
     "execution_count": 85,
     "metadata": {},
     "output_type": "execute_result"
    }
   ],
   "source": [
    "limit(TotalSum(t,3),t,0)"
   ]
  },
  {
   "cell_type": "code",
   "execution_count": 10,
   "metadata": {},
   "outputs": [
    {
     "data": {
      "image/png": "[encoded data removed]",
      "text/latex": [
       "$\\displaystyle \\left[ 1, \\  - \\frac{1}{2} - \\frac{\\sqrt{3} i}{2}, \\  - \\frac{1}{2} + \\frac{\\sqrt{3} i}{2}\\right]$"
      ],
      "text/plain": [
       "⎡     1   √3⋅ⅈ    1   √3⋅ⅈ⎤\n",
       "⎢1, - ─ - ────, - ─ + ────⎥\n",
       "⎣     2    2      2    2  ⎦"
      ]
     },
     "execution_count": 10,
     "metadata": {},
     "output_type": "execute_result"
    }
   ],
   "source": [
    "[rootof(x**3 - 1,i) for i in range(3)]"
   ]
  },
  {
   "cell_type": "code",
   "execution_count": 10,
   "metadata": {},
   "outputs": [
    {
     "name": "stdout",
     "output_type": "stream",
     "text": [
      "1\n",
      "2\n",
      "3\n",
      "4\n",
      "5\n"
     ]
    }
   ],
   "source": [
    "m = 6\n",
    "for n in range(1,6):\n",
    "    print(n)"
   ]
  },
  {
   "cell_type": "code",
   "execution_count": 12,
   "metadata": {},
   "outputs": [
    {
     "data": {
      "image/png": "[encoded data removed]",
      "text/latex": [
       "$\\displaystyle 6$"
      ],
      "text/plain": [
       "6"
      ]
     },
     "execution_count": 12,
     "metadata": {},
     "output_type": "execute_result"
    }
   ],
   "source": [
    "P = [1,6]\n",
    "P[-1]"
   ]
  },
  {
   "cell_type": "code",
   "execution_count": null,
   "metadata": {},
   "outputs": [],
   "source": []
  }
 ],
 "metadata": {
  "kernelspec": {
   "display_name": "Python 3",
   "language": "python",
   "name": "python3"
  },
  "language_info": {
   "codemirror_mode": {
    "name": "ipython",
    "version": 3
   },
   "file_extension": ".py",
   "mimetype": "text/x-python",
   "name": "python",
   "nbconvert_exporter": "python",
   "pygments_lexer": "ipython3",
   "version": "3.8.5"
  }
 },
 "nbformat": 4,
 "nbformat_minor": 4
}
