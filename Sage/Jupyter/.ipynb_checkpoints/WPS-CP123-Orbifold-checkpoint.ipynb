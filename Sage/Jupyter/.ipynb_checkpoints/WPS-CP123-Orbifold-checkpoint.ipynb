{
 "cells": [
  {
   "cell_type": "code",
   "execution_count": 2,
   "metadata": {},
   "outputs": [],
   "source": [
    "from sympy import *\n",
    "import numpy as np\n",
    "from sympy.vector import Vector\n",
    "from sympy.vector import CoordSys3D\n",
    "import IPython.display as disp\n",
    "\n",
    "N = CoordSys3D('N')\n",
    "\n",
    "t, a, b, m = symbols( 't a b m' )\n",
    "p,q = symbols('p q', integer=True)\n",
    "# init_printing(use_unicode=True)\n",
    "init_printing(use_latex='mathjax')\n",
    "\n",
    "# Basis for the edge/weight vectors for the points \n",
    "\n",
    "v1 = N.i\n",
    "v2 = N.j\n",
    "\n",
    "# Define the vector which is not parallel to any edge vector, which will tend to zero:\n",
    "\n",
    "Phi = t*(v1 + (a*b +1)*v2)\n",
    "\n",
    "# Set the fixed points of the action; P denotes those that belong\n",
    "# to the core, and Q those that come from the cut extended core:\n",
    "\n",
    "def P12(a,b):\n",
    "    return Vector.zero\n",
    "\n",
    "def P23(a,b):\n",
    "    return a*v1\n",
    "\n",
    "def P13(a,b):\n",
    "    return b*v2"
   ]
  },
  {
   "cell_type": "code",
   "execution_count": 3,
   "metadata": {},
   "outputs": [
    {
     "data": {
      "text/latex": [
       "$\\displaystyle \\mathbf{\\hat{0}}$"
      ],
      "text/plain": [
       "0"
      ]
     },
     "metadata": {},
     "output_type": "display_data"
    },
    {
     "data": {
      "text/latex": [
       "$\\displaystyle (a)\\mathbf{\\hat{i}_{N}}$"
      ],
      "text/plain": [
       "a*N.i"
      ]
     },
     "metadata": {},
     "output_type": "display_data"
    },
    {
     "data": {
      "text/latex": [
       "$\\displaystyle (b)\\mathbf{\\hat{j}_{N}}$"
      ],
      "text/plain": [
       "b*N.j"
      ]
     },
     "metadata": {},
     "output_type": "display_data"
    }
   ],
   "source": [
    "disp.display(P12(a,b))\n",
    "disp.display(P23(a,b))\n",
    "disp.display(P13(a,b))"
   ]
  },
  {
   "cell_type": "code",
   "execution_count": 17,
   "metadata": {},
   "outputs": [],
   "source": [
    "# Define the term which is summed over each fixed point,\n",
    "# representing the character for the representation\n",
    "\n",
    "def P(P, edge1, edge2, edge3, edge4):\n",
    "    return exp( Phi.dot(P) ) / ( (1 - exp( Phi.dot(edge1) ) ) * ( 1 - exp( Phi.dot(edge2) ) ) * ( 1 - exp( Phi.dot(edge3) ) ) * ( 1 - exp( Phi.dot(edge4) ) ) )\n",
    "\n",
    "def Q(P, edge1, edge2):\n",
    "    return exp( Phi.dot(P) ) / ( (1 - exp( Phi.dot(edge1) ) ) * ( 1 - exp( Phi.dot(edge2) ) ) )\n",
    "\n",
    "def Exp(p, q):\n",
    "    return exp( 2*pi*I*Rational(p,q) )\n",
    "\n",
    "# Term for the orbifold points:\n",
    "\n",
    "def UnityRootTerm(Q, k, order, edge1, edge2):\n",
    "    return ( Rational(1, order) * exp( Phi.dot(Q) ) ) / ( (1 - ( Exp(k, order) * exp( Rational(1, order) * Phi.dot(edge1) ) ) ) * ( 1 - ( Exp(k, order) * exp( Rational(1, order) * Phi.dot(edge2) ) ) ) )\n",
    "\n",
    "# def UnityRootTerm(Q, k, order, edge1, edge2):\n",
    "#     return ( Rational(1, order) * exp( Phi.dot(Q) ) ) / ( (1 - ( Exp(k, order) * exp( Phi.dot(edge1) ) ) ) * ( 1 - ( Exp(k, order) * exp( Phi.dot(edge2) ) ) ) )\n",
    "\n",
    "\n",
    "# Iterates the sum over each q-th root of unity (where q == order):\n",
    "\n",
    "def OrbiCharacter(Q, order, edge1, edge2):\n",
    "    return sum([UnityRootTerm(Q, k, order, edge1, edge2) for k in range(0,order)])\n"
   ]
  },
  {
   "cell_type": "markdown",
   "metadata": {},
   "source": [
    "# C.f. Karshon et al.; \n",
    "\n",
    "Question: Need $\\exp\\left( 2\\pi i \\langle \\alpha_{p,j},\\, \\gamma \\rangle\\right)$ each for $\\gamma \\in \\Gamma_{P}$? In denominator, as section of $\\text{Aut}(\\tilde{TM})$? Where $\\alpha_{p,j} \\in (\\mathfrak{t}^{d})^{\\ast}$ are the edge vectors to each vertex $P \\in \\Delta$."
   ]
  },
  {
   "cell_type": "code",
   "execution_count": 8,
   "metadata": {},
   "outputs": [
    {
     "data": {
      "text/latex": [
       "$\\displaystyle \\frac{1}{\\left(1 - e^{t}\\right) \\left(1 - e^{t \\left(a b + 1\\right)}\\right)}$"
      ],
      "text/plain": [
       "             1             \n",
       "───────────────────────────\n",
       "⎛     t⎞ ⎛     t⋅(a⋅b + 1)⎞\n",
       "⎝1 - ℯ ⎠⋅⎝1 - ℯ           ⎠"
      ]
     },
     "execution_count": 8,
     "metadata": {},
     "output_type": "execute_result"
    }
   ],
   "source": [
    "# The factor for the orbifold point P12 = (0, 0):\n",
    "\n",
    "OrbiCharacter(P12(a,b), 1, v1, v2)"
   ]
  },
  {
   "cell_type": "code",
   "execution_count": 13,
   "metadata": {},
   "outputs": [
    {
     "data": {
      "text/latex": [
       "$\\displaystyle \\frac{e^{a t}}{3 \\left(1 - e^{- t}\\right) \\left(1 - e^{3 t \\left(a b + 1\\right) - 2 t}\\right)} + \\frac{e^{a t}}{3 \\left(1 - e^{- t} e^{\\frac{2 i \\pi}{3}}\\right) \\left(- e^{\\frac{2 i \\pi}{3}} e^{3 t \\left(a b + 1\\right) - 2 t} + 1\\right)} + \\frac{e^{a t}}{3 \\left(1 - e^{- t} e^{- \\frac{2 i \\pi}{3}}\\right) \\left(- e^{- \\frac{2 i \\pi}{3}} e^{3 t \\left(a b + 1\\right) - 2 t} + 1\\right)}$"
      ],
      "text/plain": [
       "                  a⋅t                                              a⋅t        \n",
       "                 ℯ                                                ℯ           \n",
       "────────────────────────────────────── + ─────────────────────────────────────\n",
       "  ⎛     -t⎞ ⎛     3⋅t⋅(a⋅b + 1) - 2⋅t⎞     ⎛         2⋅ⅈ⋅π⎞ ⎛   2⋅ⅈ⋅π         \n",
       "3⋅⎝1 - ℯ  ⎠⋅⎝1 - ℯ                   ⎠     ⎜         ─────⎟ ⎜   ─────         \n",
       "                                           ⎜     -t    3  ⎟ ⎜     3    3⋅t⋅(a⋅\n",
       "                                         3⋅⎝1 - ℯ  ⋅ℯ     ⎠⋅⎝- ℯ     ⋅ℯ       \n",
       "\n",
       "                                                a⋅t                           \n",
       "                                               ℯ                              \n",
       "───────────────── + ──────────────────────────────────────────────────────────\n",
       "                ⎞     ⎛         -2⋅ⅈ⋅π ⎞ ⎛   -2⋅ⅈ⋅π                          ⎞\n",
       "                ⎟     ⎜         ───────⎟ ⎜   ───────                         ⎟\n",
       "b + 1) - 2⋅t    ⎟     ⎜     -t     3   ⎟ ⎜      3     3⋅t⋅(a⋅b + 1) - 2⋅t    ⎟\n",
       "             + 1⎠   3⋅⎝1 - ℯ  ⋅ℯ       ⎠⋅⎝- ℯ       ⋅ℯ                    + 1⎠"
      ]
     },
     "execution_count": 13,
     "metadata": {},
     "output_type": "execute_result"
    }
   ],
   "source": [
    "# The factor for the orbifold point P23 = (a, 0):\n",
    "\n",
    "OrbiCharacter(P23(a,b), 3, -2*v1 + 3*v2, -v1)"
   ]
  },
  {
   "cell_type": "code",
   "execution_count": 14,
   "metadata": {},
   "outputs": [
    {
     "data": {
      "text/latex": [
       "$\\displaystyle \\frac{e^{b t \\left(a b + 1\\right)}}{2 \\left(1 + e^{- t \\left(a b + 1\\right)}\\right) \\left(e^{- 3 t \\left(a b + 1\\right) + 2 t} + 1\\right)} + \\frac{e^{b t \\left(a b + 1\\right)}}{2 \\left(1 - e^{- t \\left(a b + 1\\right)}\\right) \\left(1 - e^{- 3 t \\left(a b + 1\\right) + 2 t}\\right)}$"
      ],
      "text/plain": [
       "                   b⋅t⋅(a⋅b + 1)                                       b⋅t⋅(a⋅\n",
       "                  ℯ                                                   ℯ       \n",
       "───────────────────────────────────────────────── + ──────────────────────────\n",
       "  ⎛     -t⋅(a⋅b + 1)⎞ ⎛ -3⋅t⋅(a⋅b + 1) + 2⋅t    ⎞     ⎛     -t⋅(a⋅b + 1)⎞ ⎛   \n",
       "2⋅⎝1 + ℯ            ⎠⋅⎝ℯ                     + 1⎠   2⋅⎝1 - ℯ            ⎠⋅⎝1 -\n",
       "\n",
       "b + 1)                 \n",
       "                       \n",
       "───────────────────────\n",
       "  -3⋅t⋅(a⋅b + 1) + 2⋅t⎞\n",
       " ℯ                    ⎠"
      ]
     },
     "execution_count": 14,
     "metadata": {},
     "output_type": "execute_result"
    }
   ],
   "source": [
    "# The factor for the orbifold point P13 = (0, b):\n",
    "\n",
    "OrbiCharacter(P13(a,b), 2, 2*v1 - 3*v2, -v2)"
   ]
  },
  {
   "cell_type": "code",
   "execution_count": 18,
   "metadata": {},
   "outputs": [
    {
     "data": {
      "text/latex": [
       "$\\displaystyle \\frac{e^{b t \\left(a b + 1\\right)}}{2 \\left(1 + e^{- \\frac{t \\left(a b + 1\\right)}{2}}\\right) \\left(e^{- \\frac{3 t \\left(a b + 1\\right)}{2} + t} + 1\\right)} + \\frac{e^{b t \\left(a b + 1\\right)}}{2 \\left(1 - e^{- \\frac{t \\left(a b + 1\\right)}{2}}\\right) \\left(1 - e^{- \\frac{3 t \\left(a b + 1\\right)}{2} + t}\\right)} + \\frac{1}{\\left(1 - e^{t}\\right) \\left(1 - e^{t \\left(a b + 1\\right)}\\right)} + \\frac{e^{a t}}{3 \\left(1 - e^{- \\frac{t}{3}}\\right) \\left(1 - e^{t \\left(a b + 1\\right) - \\frac{2 t}{3}}\\right)} + \\frac{e^{a t}}{3 \\left(1 - e^{- \\frac{t}{3}} e^{\\frac{2 i \\pi}{3}}\\right) \\left(- e^{\\frac{2 i \\pi}{3}} e^{t \\left(a b + 1\\right) - \\frac{2 t}{3}} + 1\\right)} + \\frac{e^{a t}}{3 \\left(1 - e^{- \\frac{t}{3}} e^{- \\frac{2 i \\pi}{3}}\\right) \\left(- e^{- \\frac{2 i \\pi}{3}} e^{t \\left(a b + 1\\right) - \\frac{2 t}{3}} + 1\\right)}$"
      ],
      "text/plain": [
       "                   b⋅t⋅(a⋅b + 1)                                       b⋅t⋅(a⋅\n",
       "                  ℯ                                                   ℯ       \n",
       "───────────────────────────────────────────────── + ──────────────────────────\n",
       "  ⎛     -t⋅(a⋅b + 1) ⎞ ⎛   3⋅t⋅(a⋅b + 1)        ⎞     ⎛     -t⋅(a⋅b + 1) ⎞ ⎛  \n",
       "  ⎜     ─────────────⎟ ⎜ - ───────────── + t    ⎟     ⎜     ─────────────⎟ ⎜  \n",
       "  ⎜           2      ⎟ ⎜         2              ⎟     ⎜           2      ⎟ ⎜  \n",
       "2⋅⎝1 + ℯ             ⎠⋅⎝ℯ                    + 1⎠   2⋅⎝1 - ℯ             ⎠⋅⎝1 \n",
       "\n",
       "b + 1)                                                                    a⋅t \n",
       "                                       1                                 ℯ    \n",
       "─────────────────────── + ─────────────────────────── + ──────────────────────\n",
       "     3⋅t⋅(a⋅b + 1)    ⎞   ⎛     t⎞ ⎛     t⋅(a⋅b + 1)⎞     ⎛     -t ⎞ ⎛        \n",
       "   - ───────────── + t⎟   ⎝1 - ℯ ⎠⋅⎝1 - ℯ           ⎠     ⎜     ───⎟ ⎜     t⋅(\n",
       "           2          ⎟                                   ⎜      3 ⎟ ⎜        \n",
       "- ℯ                   ⎠                                 3⋅⎝1 - ℯ   ⎠⋅⎝1 - ℯ   \n",
       "\n",
       "                                            a⋅t                               \n",
       "                                           ℯ                                  \n",
       "─────────────── + ───────────────────────────────────────────────────── + ────\n",
       "           2⋅t⎞     ⎛     -t   2⋅ⅈ⋅π⎞ ⎛   2⋅ⅈ⋅π                2⋅t    ⎞     ⎛ \n",
       "a⋅b + 1) - ───⎟     ⎜     ───  ─────⎟ ⎜   ─────  t⋅(a⋅b + 1) - ───    ⎟     ⎜ \n",
       "            3 ⎟     ⎜      3     3  ⎟ ⎜     3                   3     ⎟     ⎜ \n",
       "              ⎠   3⋅⎝1 - ℯ   ⋅ℯ     ⎠⋅⎝- ℯ     ⋅ℯ                  + 1⎠   3⋅⎝1\n",
       "\n",
       "                        a⋅t                          \n",
       "                       ℯ                             \n",
       "─────────────────────────────────────────────────────\n",
       "    -t   -2⋅ⅈ⋅π ⎞ ⎛   -2⋅ⅈ⋅π                 2⋅t    ⎞\n",
       "    ───  ───────⎟ ⎜   ───────  t⋅(a⋅b + 1) - ───    ⎟\n",
       "     3      3   ⎟ ⎜      3                    3     ⎟\n",
       " - ℯ   ⋅ℯ       ⎠⋅⎝- ℯ       ⋅ℯ                  + 1⎠"
      ]
     },
     "metadata": {},
     "output_type": "display_data"
    }
   ],
   "source": [
    "# Equivariant Index (with respect to the 1-PSG given by exp(t*Phi) ):\n",
    "\n",
    "def Char(a,b):\n",
    "    return OrbiCharacter(P12(a,b), 1, v1, v2) + OrbiCharacter(P23(a,b), 3, -2*v1 + 3*v2, -v1) + OrbiCharacter(P13(a,b), 2, 2*v1 - 3*v2, -v2)\n",
    "\n",
    "disp.display(Char(a,b))"
   ]
  },
  {
   "cell_type": "markdown",
   "metadata": {},
   "source": [
    "Let $\\mu : M \\rightarrow (\\mathfrak{t}^{d})^{\\ast}$ be the moment map, $p \\in M^{T}$ an isolated-fixed point, $\\mu_{q}$ a $q$-th root of unity, that is, $\\mu_{q} = e^{\\tfrac{2 \\pi i}{q}}$, and $\\Phi = t(1,q+1) \\in \\mathfrak{t}^{d}$ the generator of a $1$-PSG, whose image in $T^{d}$ is dense; what this says is that $\\langle \\mu(x),\\, \\Phi(t) \\rangle \\neq 0$ for $\\mu(x) \\in H_{i}$, $i = 1, \\ldots, n$.\n",
    "\n",
    "Then the equivariant index theorem yields the character for the $T^{d}$-represenation of $H^{0}(M; \\mathcal{L})$:\n",
    "\n",
    "$$ \\chi\\left(\\Phi(t)\\right) = \\sum\\limits_{p \\in M^{T}} \\frac{1}{q} \\sum\\limits_{k = 1}^{q} \\frac{e^{\\langle \\mu(p),\\, \\Phi(t) \\rangle}}{\\prod_{j = 1}^{d} \\left(1 - \\mu_{q}^{k} \\cdot e^{\\langle \\lambda_{p,j},\\, \\Phi(t) \\rangle} \\right) } $$"
   ]
  },
  {
   "cell_type": "code",
   "execution_count": 19,
   "metadata": {},
   "outputs": [
    {
     "data": {
      "text/latex": [
       "$\\displaystyle - \\infty \\operatorname{sign}{\\left(\\frac{3 a - 2 b}{3 a b + 1} \\right)}$"
      ],
      "text/plain": [
       "       ⎛3⋅a - 2⋅b⎞\n",
       "-∞⋅sign⎜─────────⎟\n",
       "       ⎝3⋅a⋅b + 1⎠"
      ]
     },
     "execution_count": 19,
     "metadata": {},
     "output_type": "execute_result"
    }
   ],
   "source": [
    "limit(Char(a,b), t, 0)"
   ]
  },
  {
   "cell_type": "code",
   "execution_count": 32,
   "metadata": {},
   "outputs": [
    {
     "data": {
      "text/latex": [
       "$\\displaystyle a b + a + \\frac{3 b^{2}}{2} + \\frac{13 b}{6} + \\frac{8}{9}$"
      ],
      "text/plain": [
       "             2           \n",
       "          3⋅b    13⋅b   8\n",
       "a⋅b + a + ──── + ──── + ─\n",
       "           2      6     9"
      ]
     },
     "execution_count": 32,
     "metadata": {},
     "output_type": "execute_result"
    }
   ],
   "source": [
    "limit(Characters(a,b,3,3), t, 0)"
   ]
  }
 ],
 "metadata": {
  "kernelspec": {
   "display_name": "Python 3",
   "language": "python",
   "name": "python3"
  },
  "language_info": {
   "codemirror_mode": {
    "name": "ipython",
    "version": 3
   },
   "file_extension": ".py",
   "mimetype": "text/x-python",
   "name": "python",
   "nbconvert_exporter": "python",
   "pygments_lexer": "ipython3",
   "version": "3.7.3"
  }
 },
 "nbformat": 4,
 "nbformat_minor": 4
}
