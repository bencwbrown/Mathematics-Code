{
 "cells": [
  {
   "cell_type": "code",
   "execution_count": 1,
   "metadata": {},
   "outputs": [],
   "source": [
    "from sympy import *\n",
    "from sympy.vector import Vector\n",
    "from sympy.vector import CoordSys3D\n",
    "N = CoordSys3D('N')\n",
    "\n",
    "t, k, a = symbols( 't k a' )\n",
    "init_printing(use_unicode=True)\n",
    "\n",
    "# Define the vector which is not parallel to any edge vector, which will tend to zero:\n",
    "\n",
    "Phi = t*(N.i + 2*N.j)\n",
    "\n",
    "# Set the fixed points of the action; P denotes those that belong\n",
    "# to the core, and Q those that come from the cut extended core:\n",
    "\n",
    "def P12(k,a):\n",
    "    return Vector.zero\n",
    "\n",
    "def P23(k,a):\n",
    "    return k*N.i\n",
    "\n",
    "def P13(k,a):\n",
    "    return k*N.j\n",
    "\n",
    "def Q12_1(k,a):\n",
    "    return -a*N.j\n",
    "\n",
    "def Q12_2(k,a):\n",
    "    return -a*N.i\n",
    "\n",
    "def Q23_2(k,a):\n",
    "    return (k+a)*N.i\n",
    "\n",
    "def Q23_3(k,a):\n",
    "    return (k+a)*N.i - a*N.j\n",
    "\n",
    "def Q13_1(k,a):\n",
    "    return (k+a)*N.j\n",
    "\n",
    "def Q13_3(k,a):\n",
    "    return -a*N.i + (k+a)*N.j\n",
    "\n",
    "# Basis for the edge/weight vectors for the points \n",
    "\n",
    "v1 = N.i\n",
    "\n",
    "v2 = N.j\n",
    "\n",
    "# Define the term which is summed over each fixed point,\n",
    "# representing the character for the representation\n",
    "\n",
    "def f(P, edge1, edge2):\n",
    "    return exp( Phi.dot(P) ) / ( (1 - exp( Phi.dot(edge1) ) ) * ( 1 - exp( Phi.dot(edge2) ) ) )\n",
    "\n",
    "def g(P, edge1, edge2, edge3, edge4):\n",
    "    return exp( Phi.dot(P) ) / ( (1 - exp( Phi.dot(edge1) ) ) * ( 1 - exp( Phi.dot(edge2) ) ) * ( 1 - exp( Phi.dot(edge3) ) ) * ( 1 - exp( Phi.dot(edge4) ) ) )\n",
    "\n",
    "# For each of the right-angled triangles:\n",
    "\n",
    "def Delta1(k,a):\n",
    "    return f(P23(k,a), -v1, -v1 + v2 ) * ( f(0*v1 + 0*v2, v1, v1 - v2) + f(a*v1, -v1, -v2) + f(a*v1 - a*v2, v2, -v1 + v2) )\n",
    "\n",
    "def Delta2(k,a):\n",
    "    return f(P13(k,a), v1 - v2, -v2 ) * ( f(0*v1 + 0*v2, v2, -v1 + v2) + f(a*v2, -v1, -v2) + f(-a*v1 + a*v2, v1, v1 - v2) )\n",
    "\n",
    "def Delta3(k,a):\n",
    "    return f(P12(k,a), v1 , v2 ) * ( f(0*v1 + 0*v2, -v1, -v2) + f(-a*v1, v1, v1 - v2) + f(-a*v2, v2, -v1 + v2) )\n",
    "\n",
    "\n",
    "def Sum(k,a):\n",
    "    return Delta1(k,a) + Delta2(k,a) + Delta3(k,a)\n",
    "\n",
    "# Take the limit as t -> 0 to get the Euler characteristic(?)\n",
    "\n",
    "def EulerCalculation(k,a):\n",
    "    return limit(Sum(k,a),t,0)\n"
   ]
  },
  {
   "cell_type": "code",
   "execution_count": 2,
   "metadata": {},
   "outputs": [
    {
     "data": {
      "image/png": "[encoded data removed]",
      "text/latex": [
       "$\\displaystyle \\frac{a^{4}}{4} + \\frac{a^{3} k}{2} + \\frac{3 a^{3}}{2} + \\frac{a^{2} k^{2}}{4} + \\frac{9 a^{2} k}{4} + \\frac{13 a^{2}}{4} + \\frac{3 a k^{2}}{4} + \\frac{13 a k}{4} + 3 a + \\frac{k^{2}}{2} + \\frac{3 k}{2} + 1$"
      ],
      "text/plain": [
       " 4    3        3    2  2      2         2        2                   2        \n",
       "a    a ⋅k   3⋅a    a ⋅k    9⋅a ⋅k   13⋅a    3⋅a⋅k    13⋅a⋅k         k    3⋅k  \n",
       "── + ──── + ──── + ───── + ────── + ───── + ────── + ────── + 3⋅a + ── + ─── +\n",
       "4     2      2       4       4        4       4        4            2     2   \n",
       "\n",
       "  \n",
       "  \n",
       " 1\n",
       "  "
      ]
     },
     "execution_count": 2,
     "metadata": {},
     "output_type": "execute_result"
    }
   ],
   "source": [
    "EulerCalculation(k,a) # Letting t -> 0  to obtain the Euler characteristic (n.b. degree-0 term in a is equal to lattice point count for CP2's polytope)"
   ]
  },
  {
   "cell_type": "code",
   "execution_count": 3,
   "metadata": {},
   "outputs": [
    {
     "data": {
      "image/png": "[encoded data removed]",
      "text/latex": [
       "$\\displaystyle \\frac{\\left(a + 1\\right) \\left(a + 2\\right) \\left(a + k + 1\\right) \\left(a + k + 2\\right)}{4}$"
      ],
      "text/plain": [
       "(a + 1)⋅(a + 2)⋅(a + k + 1)⋅(a + k + 2)\n",
       "───────────────────────────────────────\n",
       "                   4                   "
      ]
     },
     "execution_count": 3,
     "metadata": {},
     "output_type": "execute_result"
    }
   ],
   "source": [
    "factor(EulerCalculation(k,a))"
   ]
  },
  {
   "cell_type": "code",
   "execution_count": 4,
   "metadata": {},
   "outputs": [],
   "source": [
    "def Euler(k,a):\n",
    "    return simplify( Rational(1,4) * ( (a+1)*(a+2)*(a+k+1)*(a+k+2) ) )"
   ]
  },
  {
   "cell_type": "code",
   "execution_count": 5,
   "metadata": {},
   "outputs": [
    {
     "data": {
      "image/png": "[encoded data removed]",
      "text/latex": [
       "$\\displaystyle \\frac{\\left(a + 1\\right) \\left(a + 2\\right) \\left(a + k + 1\\right) \\left(a + k + 2\\right)}{4}$"
      ],
      "text/plain": [
       "(a + 1)⋅(a + 2)⋅(a + k + 1)⋅(a + k + 2)\n",
       "───────────────────────────────────────\n",
       "                   4                   "
      ]
     },
     "execution_count": 5,
     "metadata": {},
     "output_type": "execute_result"
    }
   ],
   "source": [
    "Euler(k,a)"
   ]
  },
  {
   "cell_type": "code",
   "execution_count": 6,
   "metadata": {},
   "outputs": [
    {
     "data": {
      "image/png": "[encoded data removed]",
      "text/latex": [
       "$\\displaystyle \\frac{\\left(k + 1\\right) \\left(k + 2\\right)}{2}$"
      ],
      "text/plain": [
       "(k + 1)⋅(k + 2)\n",
       "───────────────\n",
       "       2       "
      ]
     },
     "execution_count": 6,
     "metadata": {},
     "output_type": "execute_result"
    }
   ],
   "source": [
    "Euler(k,0) # The usual formula for the number of lattice points in the dilated 2-simplex"
   ]
  },
  {
   "cell_type": "code",
   "execution_count": 7,
   "metadata": {},
   "outputs": [
    {
     "data": {
      "image/png": "[encoded data removed]",
      "text/latex": [
       "$\\displaystyle 1$"
      ],
      "text/plain": [
       "1"
      ]
     },
     "execution_count": 7,
     "metadata": {},
     "output_type": "execute_result"
    }
   ],
   "source": [
    "Euler(0,0) # When the simplex is just a point"
   ]
  },
  {
   "cell_type": "code",
   "execution_count": 17,
   "metadata": {},
   "outputs": [
    {
     "data": {
      "image/png": "[encoded data removed]",
      "text/latex": [
       "$\\displaystyle 3$"
      ],
      "text/plain": [
       "3"
      ]
     },
     "execution_count": 17,
     "metadata": {},
     "output_type": "execute_result"
    }
   ],
   "source": [
    "Euler(1,0) # When the lattice points are just the three vertices"
   ]
  },
  {
   "cell_type": "code",
   "execution_count": 13,
   "metadata": {},
   "outputs": [],
   "source": [
    "def Diff(k,a):\n",
    "    return Euler(k,a) - Euler(k,a-1)"
   ]
  },
  {
   "cell_type": "code",
   "execution_count": 14,
   "metadata": {},
   "outputs": [
    {
     "data": {
      "image/png": "[encoded data removed]",
      "text/latex": [
       "$\\displaystyle - \\frac{\\left(k + 1\\right) \\left(k + 2\\right)}{2} + \\frac{3 \\left(k + 2\\right) \\left(k + 3\\right)}{2}$"
      ],
      "text/plain": [
       "  (k + 1)⋅(k + 2)   3⋅(k + 2)⋅(k + 3)\n",
       "- ─────────────── + ─────────────────\n",
       "         2                  2        "
      ]
     },
     "execution_count": 14,
     "metadata": {},
     "output_type": "execute_result"
    }
   ],
   "source": [
    "Diff(k,1)"
   ]
  },
  {
   "cell_type": "code",
   "execution_count": 19,
   "metadata": {},
   "outputs": [],
   "source": [
    "def EulerDifference(k,a):\n",
    "    return simplify(factor(Diff(k,a)))"
   ]
  },
  {
   "cell_type": "code",
   "execution_count": 20,
   "metadata": {},
   "outputs": [
    {
     "data": {
      "image/png": "[encoded data removed]",
      "text/latex": [
       "$\\displaystyle \\frac{\\left(a + 1\\right) \\left(a + k + 1\\right) \\left(2 a + k + 2\\right)}{2}$"
      ],
      "text/plain": [
       "(a + 1)⋅(a + k + 1)⋅(2⋅a + k + 2)\n",
       "─────────────────────────────────\n",
       "                2                "
      ]
     },
     "execution_count": 20,
     "metadata": {},
     "output_type": "execute_result"
    }
   ],
   "source": [
    "EulerDifference(k,a)"
   ]
  },
  {
   "cell_type": "code",
   "execution_count": 25,
   "metadata": {},
   "outputs": [
    {
     "data": {
      "image/png": "[encoded data removed]",
      "text/latex": [
       "$\\displaystyle \\left(k + 2\\right) \\left(k + 4\\right)$"
      ],
      "text/plain": [
       "(k + 2)⋅(k + 4)"
      ]
     },
     "execution_count": 25,
     "metadata": {},
     "output_type": "execute_result"
    }
   ],
   "source": [
    "EulerDifference(k,1)"
   ]
  },
  {
   "cell_type": "code",
   "execution_count": 26,
   "metadata": {},
   "outputs": [
    {
     "data": {
      "image/png": "[encoded data removed]",
      "text/latex": [
       "$\\displaystyle 18$"
      ],
      "text/plain": [
       "18"
      ]
     },
     "execution_count": 26,
     "metadata": {},
     "output_type": "execute_result"
    }
   ],
   "source": [
    "Euler(1,1)"
   ]
  },
  {
   "cell_type": "code",
   "execution_count": null,
   "metadata": {},
   "outputs": [],
   "source": []
  }
 ],
 "metadata": {
  "kernelspec": {
   "display_name": "Python 3",
   "language": "python",
   "name": "python3"
  },
  "language_info": {
   "codemirror_mode": {
    "name": "ipython",
    "version": 3
   },
   "file_extension": ".py",
   "mimetype": "text/x-python",
   "name": "python",
   "nbconvert_exporter": "python",
   "pygments_lexer": "ipython3",
   "version": "3.8.5"
  }
 },
 "nbformat": 4,
 "nbformat_minor": 4
}
