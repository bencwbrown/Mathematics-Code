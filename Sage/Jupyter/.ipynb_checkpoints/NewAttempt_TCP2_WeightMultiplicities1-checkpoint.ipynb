{
 "cells": [
  {
   "cell_type": "code",
   "execution_count": 27,
   "metadata": {},
   "outputs": [],
   "source": [
    "from sympy import *\n",
    "from sympy.vector import Vector\n",
    "from sympy.vector import CoordSys3D\n",
    "N = CoordSys3D('N')\n",
    "\n",
    "t, k, a, x, y, eps = symbols( 't k a x y eps' )\n",
    "init_printing(use_unicode=True)\n",
    "\n",
    "# Basis for the edge/weight vectors for the points \n",
    "\n",
    "v1 = N.i\n",
    "v2 = N.j\n",
    "\n",
    "# Define the vector which is not parallel to any edge vector, which will tend to zero:\n",
    "\n",
    "Phi = t*(v1 + 2*v2)\n",
    "\n",
    "T = x*v1 + y*v2\n",
    "\n",
    "# Set the fixed points of the action; P denotes those that belong\n",
    "# to the core, and Q those that come from the cut extended core:\n",
    "\n",
    "def P12(k,a):\n",
    "    return 0*v1 + 0*v2\n",
    "\n",
    "def P23(k,a):\n",
    "    return k*v1\n",
    "\n",
    "def P13(k,a):\n",
    "    return k*v2\n",
    "\n",
    "def Q12_1(k,a):\n",
    "    return -a*v2\n",
    "\n",
    "def Q12_2(k,a):\n",
    "    return -a*v1\n",
    "\n",
    "def Q23_2(k,a):\n",
    "    return (k+a)*v1\n",
    "\n",
    "def Q23_3(k,a):\n",
    "    return (k+a)*v1 - a*v2\n",
    "\n",
    "def Q13_1(k,a):\n",
    "    return (k+a)*v2\n",
    "\n",
    "def Q13_3(k,a):\n",
    "    return -a*v1 + (k+a)*v2\n",
    "\n",
    "# Define the term which is summed over each fixed point,\n",
    "# representing the character for the representation\n",
    "\n",
    "def f(P, edge1, edge2):\n",
    "    return exp( Phi.dot(P) ) / ( (1 - exp( Phi.dot(edge1) ) ) * ( 1 - exp( Phi.dot(edge2) ) ) )\n",
    "\n",
    "def h(P, edge1, edge2, edge3):\n",
    "    return exp( Phi.dot(P) ) / ( (1 - exp( Phi.dot(edge1) ) ) * ( 1 - exp( Phi.dot(edge2) ) ) * ( 1 - exp( Phi.dot(edge3) ) ) )\n",
    "\n",
    "def g(P, edge1, edge2, edge3, edge4):\n",
    "    return exp( Phi.dot(P) ) / ( (1 - exp( Phi.dot(edge1) ) ) * ( 1 - exp( Phi.dot(edge2) ) ) * ( 1 - exp( Phi.dot(edge3) ) ) * ( 1 - exp( Phi.dot(edge4) ) ) )\n",
    "\n",
    "def c(P, edge1, edge2, edge3, edge4):\n",
    "    return  ( x**(v1.dot(P)) * y**(v2.dot(P)) ) / ( (1 - ( x**(v1.dot(edge1)) * y**(v2.dot(edge1)) ) ) * ( 1 - ( x**(v1.dot(edge2)) * y**(v2.dot(edge2)) ) ) * ( 1 - ( x**(v1.dot(edge3)) * y**(v2.dot(edge3)) ) ) * ( 1 - ( x**(v1.dot(edge4)) * y**(v2.dot(edge4)) ) ) )\n",
    "\n",
    "\n",
    "# The sum coming from the vertices of the core:\n",
    "\n",
    "def Core(k,a):\n",
    "    return c(P12(k,a), v1, v2, -v1, -v2) + c(P13(k,a), v1 - v2, v2, -v1 + v2, -v2) + c(P23(k,a), v1, -v1 + v2, -v1, v1 - v2)\n",
    "\n",
    "def Exteriors(k,a):\n",
    "    return c(Q23_3(k,a), v2, -v1 + v2, -v1 + v2, -v1) + c(Q23_2(k,a), -v1 + v2, -v1, -v1, -v2) + c(Q13_1(k,a), v1 - v2, -v1, -v2, -v2) + c(Q13_3(k,a), v1, -v2, v1 - v2, v1 - v2) + c(Q12_1(k,a), v1, v2, v2, -v1 + v2) + c(Q12_2(k,a), v1, v1, v2, v1 - v2)\n",
    "\n",
    "\n",
    "\n"
   ]
  },
  {
   "cell_type": "code",
   "execution_count": 29,
   "metadata": {},
   "outputs": [
    {
     "data": {
      "image/png": "[encoded data removed]",
      "text/latex": [
       "$\\displaystyle \\frac{x^{k}}{\\left(1 - \\frac{1}{x}\\right) \\left(1 - x\\right) \\left(1 - \\frac{y}{x}\\right) \\left(- \\frac{x}{y} + 1\\right)} + \\frac{y^{k}}{\\left(1 - \\frac{1}{y}\\right) \\left(1 - y\\right) \\left(1 - \\frac{y}{x}\\right) \\left(- \\frac{x}{y} + 1\\right)} + \\frac{1}{\\left(1 - \\frac{1}{x}\\right) \\left(1 - x\\right) \\left(1 - \\frac{1}{y}\\right) \\left(1 - y\\right)}$"
      ],
      "text/plain": [
       "                 k                                   k                        \n",
       "                x                                   y                         \n",
       "───────────────────────────────── + ───────────────────────────────── + ──────\n",
       "⎛    1⎞         ⎛    y⎞ ⎛  x    ⎞   ⎛    1⎞         ⎛    y⎞ ⎛  x    ⎞   ⎛    1\n",
       "⎜1 - ─⎟⋅(1 - x)⋅⎜1 - ─⎟⋅⎜- ─ + 1⎟   ⎜1 - ─⎟⋅(1 - y)⋅⎜1 - ─⎟⋅⎜- ─ + 1⎟   ⎜1 - ─\n",
       "⎝    x⎠         ⎝    x⎠ ⎝  y    ⎠   ⎝    y⎠         ⎝    x⎠ ⎝  y    ⎠   ⎝    x\n",
       "\n",
       "                         \n",
       "         1               \n",
       "─────────────────────────\n",
       "⎞         ⎛    1⎞        \n",
       "⎟⋅(1 - x)⋅⎜1 - ─⎟⋅(1 - y)\n",
       "⎠         ⎝    y⎠        "
      ]
     },
     "execution_count": 29,
     "metadata": {},
     "output_type": "execute_result"
    }
   ],
   "source": [
    "Core(k,a)"
   ]
  },
  {
   "cell_type": "code",
   "execution_count": 30,
   "metadata": {},
   "outputs": [
    {
     "data": {
      "image/png": "[encoded data removed]",
      "text/latex": [
       "$\\displaystyle \\frac{x^{a + k}}{\\left(1 - \\frac{1}{x}\\right)^{2} \\left(1 - \\frac{1}{y}\\right) \\left(1 - \\frac{y}{x}\\right)} + \\frac{x^{a + k} y^{- a}}{\\left(1 - \\frac{1}{x}\\right) \\left(1 - y\\right) \\left(1 - \\frac{y}{x}\\right)^{2}} + \\frac{y^{a + k}}{\\left(1 - \\frac{1}{x}\\right) \\left(1 - \\frac{1}{y}\\right)^{2} \\left(- \\frac{x}{y} + 1\\right)} + \\frac{y^{- a}}{\\left(1 - x\\right) \\left(1 - y\\right)^{2} \\left(1 - \\frac{y}{x}\\right)} + \\frac{x^{- a} y^{a + k}}{\\left(1 - x\\right) \\left(1 - \\frac{1}{y}\\right) \\left(- \\frac{x}{y} + 1\\right)^{2}} + \\frac{x^{- a}}{\\left(1 - x\\right)^{2} \\left(1 - y\\right) \\left(- \\frac{x}{y} + 1\\right)}$"
      ],
      "text/plain": [
       "          a + k                    a + k  -a                     a + k        \n",
       "         x                        x     ⋅y                      y             \n",
       "──────────────────────── + ──────────────────────── + ────────────────────────\n",
       "       2                                          2                  2        \n",
       "⎛    1⎞  ⎛    1⎞ ⎛    y⎞   ⎛    1⎞         ⎛    y⎞    ⎛    1⎞ ⎛    1⎞  ⎛  x   \n",
       "⎜1 - ─⎟ ⋅⎜1 - ─⎟⋅⎜1 - ─⎟   ⎜1 - ─⎟⋅(1 - y)⋅⎜1 - ─⎟    ⎜1 - ─⎟⋅⎜1 - ─⎟ ⋅⎜- ─ + \n",
       "⎝    x⎠  ⎝    y⎠ ⎝    x⎠   ⎝    x⎠         ⎝    x⎠    ⎝    x⎠ ⎝    y⎠  ⎝  y   \n",
       "\n",
       "                -a                       -a  a + k                       -a   \n",
       "               y                        x  ⋅y                           x     \n",
       "── + ──────────────────────── + ────────────────────────── + ─────────────────\n",
       "                    2 ⎛    y⎞                            2          2         \n",
       " ⎞   (1 - x)⋅(1 - y) ⋅⎜1 - ─⎟           ⎛    1⎞ ⎛  x    ⎞    (1 - x) ⋅(1 - y)⋅\n",
       "1⎟                    ⎝    x⎠   (1 - x)⋅⎜1 - ─⎟⋅⎜- ─ + 1⎟                     \n",
       " ⎠                                      ⎝    y⎠ ⎝  y    ⎠                     \n",
       "\n",
       "         \n",
       "         \n",
       "─────────\n",
       "⎛  x    ⎞\n",
       "⎜- ─ + 1⎟\n",
       "⎝  y    ⎠\n",
       "         "
      ]
     },
     "execution_count": 30,
     "metadata": {},
     "output_type": "execute_result"
    }
   ],
   "source": [
    "Exteriors(k,a)"
   ]
  },
  {
   "cell_type": "code",
   "execution_count": 31,
   "metadata": {},
   "outputs": [
    {
     "data": {
      "image/png": "[encoded data removed]",
      "text/latex": [
       "$\\displaystyle \\frac{x^{k}}{\\left(1 - \\frac{1}{x}\\right) \\left(1 - x\\right) \\left(1 - \\frac{y}{x}\\right) \\left(- \\frac{x}{y} + 1\\right)} + \\frac{x^{a + k}}{\\left(1 - \\frac{1}{x}\\right)^{2} \\left(1 - \\frac{1}{y}\\right) \\left(1 - \\frac{y}{x}\\right)} + \\frac{x^{a + k} y^{- a}}{\\left(1 - \\frac{1}{x}\\right) \\left(1 - y\\right) \\left(1 - \\frac{y}{x}\\right)^{2}} + \\frac{y^{k}}{\\left(1 - \\frac{1}{y}\\right) \\left(1 - y\\right) \\left(1 - \\frac{y}{x}\\right) \\left(- \\frac{x}{y} + 1\\right)} + \\frac{y^{a + k}}{\\left(1 - \\frac{1}{x}\\right) \\left(1 - \\frac{1}{y}\\right)^{2} \\left(- \\frac{x}{y} + 1\\right)} + \\frac{1}{\\left(1 - \\frac{1}{x}\\right) \\left(1 - x\\right) \\left(1 - \\frac{1}{y}\\right) \\left(1 - y\\right)} + \\frac{y^{- a}}{\\left(1 - x\\right) \\left(1 - y\\right)^{2} \\left(1 - \\frac{y}{x}\\right)} + \\frac{x^{- a} y^{a + k}}{\\left(1 - x\\right) \\left(1 - \\frac{1}{y}\\right) \\left(- \\frac{x}{y} + 1\\right)^{2}} + \\frac{x^{- a}}{\\left(1 - x\\right)^{2} \\left(1 - y\\right) \\left(- \\frac{x}{y} + 1\\right)}$"
      ],
      "text/plain": [
       "                 k                            a + k                    a + k  \n",
       "                x                            x                        x     ⋅y\n",
       "───────────────────────────────── + ──────────────────────── + ───────────────\n",
       "⎛    1⎞         ⎛    y⎞ ⎛  x    ⎞          2                                  \n",
       "⎜1 - ─⎟⋅(1 - x)⋅⎜1 - ─⎟⋅⎜- ─ + 1⎟   ⎛    1⎞  ⎛    1⎞ ⎛    y⎞   ⎛    1⎞        \n",
       "⎝    x⎠         ⎝    x⎠ ⎝  y    ⎠   ⎜1 - ─⎟ ⋅⎜1 - ─⎟⋅⎜1 - ─⎟   ⎜1 - ─⎟⋅(1 - y)\n",
       "                                    ⎝    x⎠  ⎝    y⎠ ⎝    x⎠   ⎝    x⎠        \n",
       "\n",
       "-a                           k                             a + k              \n",
       "                            y                             y                   \n",
       "───────── + ───────────────────────────────── + ────────────────────────── + ─\n",
       "        2   ⎛    1⎞         ⎛    y⎞ ⎛  x    ⎞                  2             ⎛\n",
       " ⎛    y⎞    ⎜1 - ─⎟⋅(1 - y)⋅⎜1 - ─⎟⋅⎜- ─ + 1⎟   ⎛    1⎞ ⎛    1⎞  ⎛  x    ⎞   ⎜\n",
       "⋅⎜1 - ─⎟    ⎝    y⎠         ⎝    x⎠ ⎝  y    ⎠   ⎜1 - ─⎟⋅⎜1 - ─⎟ ⋅⎜- ─ + 1⎟   ⎝\n",
       " ⎝    x⎠                                        ⎝    x⎠ ⎝    y⎠  ⎝  y    ⎠    \n",
       "\n",
       "                                            -a                       -a  a + k\n",
       "              1                            y                        x  ⋅y     \n",
       "────────────────────────────── + ──────────────────────── + ──────────────────\n",
       "    1⎞         ⎛    1⎞                          2 ⎛    y⎞                     \n",
       "1 - ─⎟⋅(1 - x)⋅⎜1 - ─⎟⋅(1 - y)   (1 - x)⋅(1 - y) ⋅⎜1 - ─⎟           ⎛    1⎞ ⎛ \n",
       "    x⎠         ⎝    y⎠                            ⎝    x⎠   (1 - x)⋅⎜1 - ─⎟⋅⎜-\n",
       "                                                                    ⎝    y⎠ ⎝ \n",
       "\n",
       "                       -a            \n",
       "                      x              \n",
       "──────── + ──────────────────────────\n",
       "       2          2         ⎛  x    ⎞\n",
       " x    ⎞    (1 - x) ⋅(1 - y)⋅⎜- ─ + 1⎟\n",
       " ─ + 1⎟                     ⎝  y    ⎠\n",
       " y    ⎠                              "
      ]
     },
     "execution_count": 31,
     "metadata": {},
     "output_type": "execute_result"
    }
   ],
   "source": [
    "def Sum(k,a):\n",
    "    return Core(k,a) + Exteriors(k,a)\n",
    "\n",
    "Sum(k,a)"
   ]
  },
  {
   "cell_type": "code",
   "execution_count": 38,
   "metadata": {},
   "outputs": [
    {
     "ename": "ValueError",
     "evalue": "Could not calculate 6 terms for (_x*x)**k/((1 - 1/(_x*x))*(1 - 1/(_x*y))*(-_x*x + 1)*(-_x*y + 1)) + (_x*y)**k/((1 - 1/(_x*x))*(1 - 1/(_x*y))*(-_x*x + 1)*(-_x*y + 1))",
     "output_type": "error",
     "traceback": [
      "\u001b[0;31m---------------------------------------------------------------------------\u001b[0m",
      "\u001b[0;31mValueError\u001b[0m                                Traceback (most recent call last)",
      "\u001b[0;32m<ipython-input-38-cd45845e7c3a>\u001b[0m in \u001b[0;36m<module>\u001b[0;34m()\u001b[0m\n\u001b[0;32m----> 1\u001b[0;31m \u001b[0;34m(\u001b[0m\u001b[0mc\u001b[0m\u001b[0;34m(\u001b[0m\u001b[0mP23\u001b[0m\u001b[0;34m(\u001b[0m\u001b[0mk\u001b[0m\u001b[0;34m,\u001b[0m\u001b[0ma\u001b[0m\u001b[0;34m)\u001b[0m\u001b[0;34m,\u001b[0m \u001b[0mv1\u001b[0m\u001b[0;34m,\u001b[0m \u001b[0mv2\u001b[0m\u001b[0;34m,\u001b[0m \u001b[0;34m-\u001b[0m\u001b[0mv1\u001b[0m\u001b[0;34m,\u001b[0m \u001b[0;34m-\u001b[0m\u001b[0mv2\u001b[0m\u001b[0;34m)\u001b[0m \u001b[0;34m+\u001b[0m \u001b[0mc\u001b[0m\u001b[0;34m(\u001b[0m\u001b[0mP13\u001b[0m\u001b[0;34m(\u001b[0m\u001b[0mk\u001b[0m\u001b[0;34m,\u001b[0m\u001b[0ma\u001b[0m\u001b[0;34m)\u001b[0m\u001b[0;34m,\u001b[0m \u001b[0mv1\u001b[0m\u001b[0;34m,\u001b[0m \u001b[0mv2\u001b[0m\u001b[0;34m,\u001b[0m \u001b[0;34m-\u001b[0m\u001b[0mv1\u001b[0m\u001b[0;34m,\u001b[0m \u001b[0;34m-\u001b[0m\u001b[0mv2\u001b[0m\u001b[0;34m)\u001b[0m\u001b[0;34m)\u001b[0m\u001b[0;34m.\u001b[0m\u001b[0msubs\u001b[0m\u001b[0;34m(\u001b[0m\u001b[0mx\u001b[0m\u001b[0;34m,\u001b[0m\u001b[0mx\u001b[0m\u001b[0;34m*\u001b[0m\u001b[0meps\u001b[0m\u001b[0;34m)\u001b[0m\u001b[0;34m.\u001b[0m\u001b[0msubs\u001b[0m\u001b[0;34m(\u001b[0m\u001b[0my\u001b[0m\u001b[0;34m,\u001b[0m\u001b[0my\u001b[0m\u001b[0;34m*\u001b[0m\u001b[0meps\u001b[0m\u001b[0;34m)\u001b[0m\u001b[0;34m.\u001b[0m\u001b[0mseries\u001b[0m\u001b[0;34m(\u001b[0m\u001b[0meps\u001b[0m\u001b[0;34m)\u001b[0m\u001b[0;34m.\u001b[0m\u001b[0mremoveO\u001b[0m\u001b[0;34m(\u001b[0m\u001b[0;34m)\u001b[0m\u001b[0;34m.\u001b[0m\u001b[0msubs\u001b[0m\u001b[0;34m(\u001b[0m\u001b[0meps\u001b[0m\u001b[0;34m,\u001b[0m\u001b[0;36m1\u001b[0m\u001b[0;34m)\u001b[0m\u001b[0;34m\u001b[0m\u001b[0;34m\u001b[0m\u001b[0m\n\u001b[0m",
      "\u001b[0;32m/Applications/SageMath-9.1.app/Contents/Resources/sage/local/lib/python3.7/site-packages/sympy/core/expr.py\u001b[0m in \u001b[0;36mseries\u001b[0;34m(self, x, x0, n, dir, logx)\u001b[0m\n\u001b[1;32m   2834\u001b[0m             \u001b[0;31m# replace x with an x that has a positive assumption\u001b[0m\u001b[0;34m\u001b[0m\u001b[0;34m\u001b[0m\u001b[0;34m\u001b[0m\u001b[0m\n\u001b[1;32m   2835\u001b[0m             \u001b[0mxpos\u001b[0m \u001b[0;34m=\u001b[0m \u001b[0mDummy\u001b[0m\u001b[0;34m(\u001b[0m\u001b[0;34m'x'\u001b[0m\u001b[0;34m,\u001b[0m \u001b[0mpositive\u001b[0m\u001b[0;34m=\u001b[0m\u001b[0;32mTrue\u001b[0m\u001b[0;34m,\u001b[0m \u001b[0mfinite\u001b[0m\u001b[0;34m=\u001b[0m\u001b[0;32mTrue\u001b[0m\u001b[0;34m)\u001b[0m\u001b[0;34m\u001b[0m\u001b[0;34m\u001b[0m\u001b[0m\n\u001b[0;32m-> 2836\u001b[0;31m             \u001b[0mrv\u001b[0m \u001b[0;34m=\u001b[0m \u001b[0mself\u001b[0m\u001b[0;34m.\u001b[0m\u001b[0msubs\u001b[0m\u001b[0;34m(\u001b[0m\u001b[0mx\u001b[0m\u001b[0;34m,\u001b[0m \u001b[0mxpos\u001b[0m\u001b[0;34m)\u001b[0m\u001b[0;34m.\u001b[0m\u001b[0mseries\u001b[0m\u001b[0;34m(\u001b[0m\u001b[0mxpos\u001b[0m\u001b[0;34m,\u001b[0m \u001b[0mx0\u001b[0m\u001b[0;34m,\u001b[0m \u001b[0mn\u001b[0m\u001b[0;34m,\u001b[0m \u001b[0mdir\u001b[0m\u001b[0;34m,\u001b[0m \u001b[0mlogx\u001b[0m\u001b[0;34m=\u001b[0m\u001b[0mlogx\u001b[0m\u001b[0;34m)\u001b[0m\u001b[0;34m\u001b[0m\u001b[0;34m\u001b[0m\u001b[0m\n\u001b[0m\u001b[1;32m   2837\u001b[0m             \u001b[0;32mif\u001b[0m \u001b[0mn\u001b[0m \u001b[0;32mis\u001b[0m \u001b[0;32mNone\u001b[0m\u001b[0;34m:\u001b[0m\u001b[0;34m\u001b[0m\u001b[0;34m\u001b[0m\u001b[0m\n\u001b[1;32m   2838\u001b[0m                 \u001b[0;32mreturn\u001b[0m \u001b[0;34m(\u001b[0m\u001b[0ms\u001b[0m\u001b[0;34m.\u001b[0m\u001b[0msubs\u001b[0m\u001b[0;34m(\u001b[0m\u001b[0mxpos\u001b[0m\u001b[0;34m,\u001b[0m \u001b[0mx\u001b[0m\u001b[0;34m)\u001b[0m \u001b[0;32mfor\u001b[0m \u001b[0ms\u001b[0m \u001b[0;32min\u001b[0m \u001b[0mrv\u001b[0m\u001b[0;34m)\u001b[0m\u001b[0;34m\u001b[0m\u001b[0;34m\u001b[0m\u001b[0m\n",
      "\u001b[0;32m/Applications/SageMath-9.1.app/Contents/Resources/sage/local/lib/python3.7/site-packages/sympy/core/expr.py\u001b[0m in \u001b[0;36mseries\u001b[0;34m(self, x, x0, n, dir, logx)\u001b[0m\n\u001b[1;32m   2870\u001b[0m                     \u001b[0;32melse\u001b[0m\u001b[0;34m:\u001b[0m\u001b[0;34m\u001b[0m\u001b[0;34m\u001b[0m\u001b[0m\n\u001b[1;32m   2871\u001b[0m                         raise ValueError('Could not calculate %s terms for %s'\n\u001b[0;32m-> 2872\u001b[0;31m                                          % (str(n), self))\n\u001b[0m\u001b[1;32m   2873\u001b[0m                     \u001b[0ms1\u001b[0m \u001b[0;34m+=\u001b[0m \u001b[0mOrder\u001b[0m\u001b[0;34m(\u001b[0m\u001b[0mx\u001b[0m\u001b[0;34m**\u001b[0m\u001b[0mn\u001b[0m\u001b[0;34m,\u001b[0m \u001b[0mx\u001b[0m\u001b[0;34m)\u001b[0m\u001b[0;34m\u001b[0m\u001b[0;34m\u001b[0m\u001b[0m\n\u001b[1;32m   2874\u001b[0m                 \u001b[0mo\u001b[0m \u001b[0;34m=\u001b[0m \u001b[0ms1\u001b[0m\u001b[0;34m.\u001b[0m\u001b[0mgetO\u001b[0m\u001b[0;34m(\u001b[0m\u001b[0;34m)\u001b[0m\u001b[0;34m\u001b[0m\u001b[0;34m\u001b[0m\u001b[0m\n",
      "\u001b[0;31mValueError\u001b[0m: Could not calculate 6 terms for (_x*x)**k/((1 - 1/(_x*x))*(1 - 1/(_x*y))*(-_x*x + 1)*(-_x*y + 1)) + (_x*y)**k/((1 - 1/(_x*x))*(1 - 1/(_x*y))*(-_x*x + 1)*(-_x*y + 1))"
     ]
    }
   ],
   "source": [
    "(c(P23(k,a), v1, v2, -v1, -v2) + c(P13(k,a), v1, v2, -v1, -v2)).subs(x,x*eps).subs(y,y*eps).series(eps).removeO().subs(eps,1)"
   ]
  },
  {
   "cell_type": "code",
   "execution_count": 33,
   "metadata": {},
   "outputs": [],
   "source": [
    "#Sum(k,a).subs(x,x*eps).subs(y,y*eps).series(eps).removeO().subs(eps,1)"
   ]
  },
  {
   "cell_type": "code",
   "execution_count": 6,
   "metadata": {},
   "outputs": [],
   "source": [
    "# Take the limit as t -> 0 to get the Euler characteristic(?)\n",
    "\n",
    "def LimitEulerCalculation(k,a):\n",
    "    return limit(Sum(k,a),t,0)"
   ]
  },
  {
   "cell_type": "code",
   "execution_count": 7,
   "metadata": {},
   "outputs": [
    {
     "data": {
      "image/png": "[encoded data removed]",
      "text/latex": [
       "$\\displaystyle \\frac{\\left(a + 1\\right) \\left(a + 2\\right) \\left(a + k + 1\\right) \\left(a + k + 2\\right)}{4}$"
      ],
      "text/plain": [
       "(a + 1)⋅(a + 2)⋅(a + k + 1)⋅(a + k + 2)\n",
       "───────────────────────────────────────\n",
       "                   4                   "
      ]
     },
     "execution_count": 7,
     "metadata": {},
     "output_type": "execute_result"
    }
   ],
   "source": [
    "factor(LimitEulerCalculation(k,a))"
   ]
  },
  {
   "cell_type": "markdown",
   "metadata": {},
   "source": [
    "So:\n",
    "\n",
    "$$ \\text{RR}(T^{\\ast}\\mathbb{CP}_{a\\text{-cut}}, \\mathcal{O}(k)_{a\\text{-cut}}) = \\frac{(a+1)(a+2)(k+a+1)(k+a+2)}{4} =\\frac{(a+1)(a+2)}{2} \\cdot \\frac{(k+a+1)(k+a+2)}{2}. $$"
   ]
  },
  {
   "cell_type": "code",
   "execution_count": 8,
   "metadata": {},
   "outputs": [],
   "source": [
    "def LatticePointsSum(k,a):\n",
    "    return f(Q12_1(k,a), v1, -v1 + v2) + f(Q12_2(k,a), v1 - v2, v2) + f(Q23_2(k,a), -v1 + v2, -v2) + f(Q23_3(k,a), v2, -v1) + f(Q13_1(k,a), v1 - v2, -v1) + f(Q13_3(k,a), v1, -v2)"
   ]
  },
  {
   "cell_type": "code",
   "execution_count": 9,
   "metadata": {},
   "outputs": [
    {
     "data": {
      "image/png": "[encoded data removed]",
      "text/latex": [
       "$\\displaystyle 3 a^{2} + 3 a k + 3 a + \\frac{k^{2}}{2} + \\frac{3 k}{2} + 1$"
      ],
      "text/plain": [
       "                      2          \n",
       "   2                 k    3⋅k    \n",
       "3⋅a  + 3⋅a⋅k + 3⋅a + ── + ─── + 1\n",
       "                     2     2     "
      ]
     },
     "execution_count": 9,
     "metadata": {},
     "output_type": "execute_result"
    }
   ],
   "source": [
    "def LimitLatticePoints(k,a):    \n",
    "    return simplify(limit(LatticePointsSum(k,a), t, 0))\n",
    "\n",
    "LimitLatticePoints(k,a)"
   ]
  },
  {
   "cell_type": "markdown",
   "metadata": {},
   "source": [
    "So, if $P$ represents the polyptych:\n",
    "\n",
    "$$ \\#\\{ \\mathbb{Z}^{2} \\cap P \\} = 3a(k+a+1) + \\frac{(k+1)(k+2)}{2}. $$"
   ]
  },
  {
   "cell_type": "code",
   "execution_count": null,
   "metadata": {},
   "outputs": [],
   "source": []
  },
  {
   "cell_type": "code",
   "execution_count": 12,
   "metadata": {},
   "outputs": [
    {
     "data": {
      "image/png": "[encoded data removed]",
      "text/latex": [
       "$\\displaystyle \\frac{\\left(a + 1\\right) \\left(a + k + 1\\right) \\left(2 a + k + 2\\right)}{2}$"
      ],
      "text/plain": [
       "(a + 1)⋅(a + k + 1)⋅(2⋅a + k + 2)\n",
       "─────────────────────────────────\n",
       "                2                "
      ]
     },
     "execution_count": 12,
     "metadata": {},
     "output_type": "execute_result"
    }
   ],
   "source": [
    "factor(simplify(LimitEulerCalculation(k,a) - LimitEulerCalculation(k,a-1)))"
   ]
  },
  {
   "cell_type": "code",
   "execution_count": 15,
   "metadata": {},
   "outputs": [
    {
     "data": {
      "image/png": "[encoded data removed]",
      "text/latex": [
       "$\\displaystyle \\frac{a \\left(2 a^{2} + 3 a k + 6 a + k^{2} + 6 k + 6\\right)}{2}$"
      ],
      "text/plain": [
       "  ⎛   2                  2          ⎞\n",
       "a⋅⎝2⋅a  + 3⋅a⋅k + 6⋅a + k  + 6⋅k + 6⎠\n",
       "─────────────────────────────────────\n",
       "                  2                  "
      ]
     },
     "execution_count": 15,
     "metadata": {},
     "output_type": "execute_result"
    }
   ],
   "source": [
    "factor(LimitEulerCalculation(k,a) - LimitEulerCalculation(k,a-1) - LimitLatticePoints(k,0))"
   ]
  },
  {
   "cell_type": "code",
   "execution_count": 14,
   "metadata": {},
   "outputs": [
    {
     "data": {
      "image/png": "[encoded data removed]",
      "text/latex": [
       "$\\displaystyle \\frac{a \\left(2 a^{2} + 3 a k + 6 a + k^{2} + 6 k + 6\\right)}{2}$"
      ],
      "text/plain": [
       "  ⎛   2                  2          ⎞\n",
       "a⋅⎝2⋅a  + 3⋅a⋅k + 6⋅a + k  + 6⋅k + 6⎠\n",
       "─────────────────────────────────────\n",
       "                  2                  "
      ]
     },
     "execution_count": 14,
     "metadata": {},
     "output_type": "execute_result"
    }
   ],
   "source": [
    "simplify(LimitEulerCalculation(k,a) - LimitEulerCalculation(k,a-1) - LimitLatticePoints(k,0))"
   ]
  },
  {
   "cell_type": "code",
   "execution_count": null,
   "metadata": {},
   "outputs": [],
   "source": []
  },
  {
   "cell_type": "code",
   "execution_count": null,
   "metadata": {},
   "outputs": [],
   "source": []
  },
  {
   "cell_type": "code",
   "execution_count": 3,
   "metadata": {},
   "outputs": [],
   "source": [
    "def Core(k,a):\n",
    "    return g(P12(k,a), v1, v2, -v1, -v2) + g(P13(k,a), v1 - v2, v2, -v1 + v2, -v2) + g(P23(k,a), v1, -v1 + v2, -v1, v1 - v2)\n",
    "\n",
    "def Boundary(k,a):\n",
    "    return f(Q12_1(k,a), v1, -v1 + v2) + f(Q12_2(k,a), v1 - v2, v2) + f(Q23_2(k,a), -v1 + v2, -v2) + f(Q23_3(k,a), v2, -v1) + f(Q13_1(k,a), v1 - v2, -v1) + f(Q13_3(k,a), v1, -v2)\n",
    "\n",
    "def CutSum(k,a):\n",
    "    return Core(k,a) + Boundary(k,a)\n"
   ]
  },
  {
   "cell_type": "code",
   "execution_count": 4,
   "metadata": {},
   "outputs": [
    {
     "data": {
      "image/png": "[encoded data removed]",
      "text/latex": [
       "$\\displaystyle \\frac{e^{- 2 a t}}{\\left(1 - e^{t}\\right)^{2}} + \\frac{e^{- 2 a t + t \\left(a + k\\right)}}{\\left(1 - e^{- t}\\right) \\left(1 - e^{2 t}\\right)} + \\frac{e^{- a t}}{\\left(1 - e^{- t}\\right) \\left(1 - e^{2 t}\\right)} + \\frac{e^{2 t \\left(a + k\\right)}}{\\left(1 - e^{- t}\\right)^{2}} + \\frac{e^{t \\left(a + k\\right)}}{\\left(1 - e^{- 2 t}\\right) \\left(1 - e^{t}\\right)} + \\frac{e^{- a t + 2 t \\left(a + k\\right)}}{\\left(1 - e^{- 2 t}\\right) \\left(1 - e^{t}\\right)}$"
      ],
      "text/plain": [
       "  -2⋅a⋅t     -2⋅a⋅t + t⋅(a + k)            -a⋅t            2⋅t⋅(a + k)        \n",
       " ℯ          ℯ                             ℯ               ℯ                   \n",
       "───────── + ──────────────────── + ──────────────────── + ──────────── + ─────\n",
       "        2   ⎛     -t⎞ ⎛     2⋅t⎞   ⎛     -t⎞ ⎛     2⋅t⎞             2    ⎛    \n",
       "⎛     t⎞    ⎝1 - ℯ  ⎠⋅⎝1 - ℯ   ⎠   ⎝1 - ℯ  ⎠⋅⎝1 - ℯ   ⎠    ⎛     -t⎞     ⎝1 - \n",
       "⎝1 - ℯ ⎠                                                   ⎝1 - ℯ  ⎠          \n",
       "\n",
       " t⋅(a + k)         -a⋅t + 2⋅t⋅(a + k) \n",
       "ℯ                 ℯ                   \n",
       "─────────────── + ────────────────────\n",
       " -2⋅t⎞ ⎛     t⎞   ⎛     -2⋅t⎞ ⎛     t⎞\n",
       "ℯ    ⎠⋅⎝1 - ℯ ⎠   ⎝1 - ℯ    ⎠⋅⎝1 - ℯ ⎠\n",
       "                                      "
      ]
     },
     "execution_count": 4,
     "metadata": {},
     "output_type": "execute_result"
    }
   ],
   "source": [
    "Boundary(k,a)"
   ]
  },
  {
   "cell_type": "code",
   "execution_count": 7,
   "metadata": {},
   "outputs": [
    {
     "data": {
      "image/png": "[encoded data removed]",
      "text/latex": [
       "$\\displaystyle \\frac{e^{- 2 a t}}{\\left(1 - e^{t}\\right)^{2}} + \\frac{e^{- 2 a t + t \\left(a + k\\right)}}{\\left(1 - e^{- t}\\right) \\left(1 - e^{2 t}\\right)} + \\frac{e^{- a t}}{\\left(1 - e^{- t}\\right) \\left(1 - e^{2 t}\\right)} + \\frac{e^{2 t \\left(a + k\\right)}}{\\left(1 - e^{- t}\\right)^{2}} + \\frac{e^{k t}}{\\left(1 - e^{- t}\\right)^{2} \\left(1 - e^{t}\\right)^{2}} + \\frac{e^{t \\left(a + k\\right)}}{\\left(1 - e^{- 2 t}\\right) \\left(1 - e^{t}\\right)} + \\frac{e^{- a t + 2 t \\left(a + k\\right)}}{\\left(1 - e^{- 2 t}\\right) \\left(1 - e^{t}\\right)} + \\frac{e^{2 k t}}{\\left(1 - e^{- 2 t}\\right) \\left(1 - e^{- t}\\right) \\left(1 - e^{t}\\right) \\left(1 - e^{2 t}\\right)} + \\frac{1}{\\left(1 - e^{- 2 t}\\right) \\left(1 - e^{- t}\\right) \\left(1 - e^{t}\\right) \\left(1 - e^{2 t}\\right)}$"
      ],
      "text/plain": [
       "  -2⋅a⋅t     -2⋅a⋅t + t⋅(a + k)            -a⋅t            2⋅t⋅(a + k)        \n",
       " ℯ          ℯ                             ℯ               ℯ                   \n",
       "───────── + ──────────────────── + ──────────────────── + ──────────── + ─────\n",
       "        2   ⎛     -t⎞ ⎛     2⋅t⎞   ⎛     -t⎞ ⎛     2⋅t⎞             2         \n",
       "⎛     t⎞    ⎝1 - ℯ  ⎠⋅⎝1 - ℯ   ⎠   ⎝1 - ℯ  ⎠⋅⎝1 - ℯ   ⎠    ⎛     -t⎞     ⎛    \n",
       "⎝1 - ℯ ⎠                                                   ⎝1 - ℯ  ⎠     ⎝1 - \n",
       "\n",
       "    k⋅t                 t⋅(a + k)         -a⋅t + 2⋅t⋅(a + k)                  \n",
       "   ℯ                   ℯ                 ℯ                                    \n",
       "─────────────── + ──────────────────── + ──────────────────── + ──────────────\n",
       "    2         2   ⎛     -2⋅t⎞ ⎛     t⎞   ⎛     -2⋅t⎞ ⎛     t⎞   ⎛     -2⋅t⎞ ⎛ \n",
       " -t⎞  ⎛     t⎞    ⎝1 - ℯ    ⎠⋅⎝1 - ℯ ⎠   ⎝1 - ℯ    ⎠⋅⎝1 - ℯ ⎠   ⎝1 - ℯ    ⎠⋅⎝1\n",
       "ℯ  ⎠ ⋅⎝1 - ℯ ⎠                                                                \n",
       "\n",
       "     2⋅k⋅t                                                             \n",
       "    ℯ                                             1                    \n",
       "─────────────────────────── + ─────────────────────────────────────────\n",
       "    -t⎞ ⎛     t⎞ ⎛     2⋅t⎞   ⎛     -2⋅t⎞ ⎛     -t⎞ ⎛     t⎞ ⎛     2⋅t⎞\n",
       " - ℯ  ⎠⋅⎝1 - ℯ ⎠⋅⎝1 - ℯ   ⎠   ⎝1 - ℯ    ⎠⋅⎝1 - ℯ  ⎠⋅⎝1 - ℯ ⎠⋅⎝1 - ℯ   ⎠\n",
       "                                                                       "
      ]
     },
     "execution_count": 7,
     "metadata": {},
     "output_type": "execute_result"
    }
   ],
   "source": [
    "CutSum(k,a)"
   ]
  },
  {
   "cell_type": "code",
   "execution_count": null,
   "metadata": {},
   "outputs": [],
   "source": []
  },
  {
   "cell_type": "code",
   "execution_count": null,
   "metadata": {},
   "outputs": [],
   "source": []
  },
  {
   "cell_type": "code",
   "execution_count": null,
   "metadata": {},
   "outputs": [],
   "source": []
  },
  {
   "cell_type": "code",
   "execution_count": null,
   "metadata": {},
   "outputs": [],
   "source": []
  },
  {
   "cell_type": "code",
   "execution_count": 4,
   "metadata": {},
   "outputs": [
    {
     "data": {
      "image/png": "[encoded data removed]",
      "text/latex": [
       "$\\displaystyle \\frac{e^{- 2 a t}}{\\left(1 - e^{t}\\right)^{2}} + \\frac{e^{- 2 a t + t \\left(a + k\\right)}}{\\left(1 - e^{- t}\\right) \\left(1 - e^{2 t}\\right)} + \\frac{e^{- a t}}{\\left(1 - e^{- t}\\right) \\left(1 - e^{2 t}\\right)} + \\frac{e^{2 t \\left(a + k\\right)}}{\\left(1 - e^{- t}\\right)^{2}} + \\frac{e^{t \\left(a + k\\right)}}{\\left(1 - e^{- 2 t}\\right) \\left(1 - e^{t}\\right)} + \\frac{e^{- a t + 2 t \\left(a + k\\right)}}{\\left(1 - e^{- 2 t}\\right) \\left(1 - e^{t}\\right)}$"
      ],
      "text/plain": [
       "  -2⋅a⋅t     -2⋅a⋅t + t⋅(a + k)            -a⋅t            2⋅t⋅(a + k)        \n",
       " ℯ          ℯ                             ℯ               ℯ                   \n",
       "───────── + ──────────────────── + ──────────────────── + ──────────── + ─────\n",
       "        2   ⎛     -t⎞ ⎛     2⋅t⎞   ⎛     -t⎞ ⎛     2⋅t⎞             2    ⎛    \n",
       "⎛     t⎞    ⎝1 - ℯ  ⎠⋅⎝1 - ℯ   ⎠   ⎝1 - ℯ  ⎠⋅⎝1 - ℯ   ⎠    ⎛     -t⎞     ⎝1 - \n",
       "⎝1 - ℯ ⎠                                                   ⎝1 - ℯ  ⎠          \n",
       "\n",
       " t⋅(a + k)         -a⋅t + 2⋅t⋅(a + k) \n",
       "ℯ                 ℯ                   \n",
       "─────────────── + ────────────────────\n",
       " -2⋅t⎞ ⎛     t⎞   ⎛     -2⋅t⎞ ⎛     t⎞\n",
       "ℯ    ⎠⋅⎝1 - ℯ ⎠   ⎝1 - ℯ    ⎠⋅⎝1 - ℯ ⎠\n",
       "                                      "
      ]
     },
     "execution_count": 4,
     "metadata": {},
     "output_type": "execute_result"
    }
   ],
   "source": [
    "Boundary(k,a)"
   ]
  },
  {
   "cell_type": "code",
   "execution_count": 5,
   "metadata": {},
   "outputs": [
    {
     "data": {
      "image/png": "[encoded data removed]",
      "text/latex": [
       "$\\displaystyle 3 a^{2} + 3 a k + 3 a + \\frac{k^{2}}{2} + \\frac{3 k}{2} + 1$"
      ],
      "text/plain": [
       "                      2          \n",
       "   2                 k    3⋅k    \n",
       "3⋅a  + 3⋅a⋅k + 3⋅a + ── + ─── + 1\n",
       "                     2     2     "
      ]
     },
     "execution_count": 5,
     "metadata": {},
     "output_type": "execute_result"
    }
   ],
   "source": [
    "limit(Boundary(k,a), t, 0)"
   ]
  },
  {
   "cell_type": "code",
   "execution_count": 6,
   "metadata": {},
   "outputs": [],
   "source": [
    "def Points(k,a):\n",
    "    return limit(Boundary(k,a), t, 0)"
   ]
  },
  {
   "cell_type": "code",
   "execution_count": 7,
   "metadata": {},
   "outputs": [
    {
     "data": {
      "image/png": "[encoded data removed]",
      "text/latex": [
       "$\\displaystyle 3 a^{2} + 3 a k + 3 a + \\frac{k^{2}}{2} + \\frac{3 k}{2} + 1$"
      ],
      "text/plain": [
       "                      2          \n",
       "   2                 k    3⋅k    \n",
       "3⋅a  + 3⋅a⋅k + 3⋅a + ── + ─── + 1\n",
       "                     2     2     "
      ]
     },
     "execution_count": 7,
     "metadata": {},
     "output_type": "execute_result"
    }
   ],
   "source": [
    "Points(k,a)"
   ]
  },
  {
   "cell_type": "code",
   "execution_count": 8,
   "metadata": {},
   "outputs": [
    {
     "data": {
      "image/png": "[encoded data removed]",
      "text/latex": [
       "$\\displaystyle \\frac{k^{2}}{2} + \\frac{3 k}{2} + 1$"
      ],
      "text/plain": [
       " 2          \n",
       "k    3⋅k    \n",
       "── + ─── + 1\n",
       "2     2     "
      ]
     },
     "execution_count": 8,
     "metadata": {},
     "output_type": "execute_result"
    }
   ],
   "source": [
    "Points(k,0)"
   ]
  },
  {
   "cell_type": "code",
   "execution_count": null,
   "metadata": {},
   "outputs": [],
   "source": []
  }
 ],
 "metadata": {
  "kernelspec": {
   "display_name": "Python 3",
   "language": "python",
   "name": "python3"
  },
  "language_info": {
   "codemirror_mode": {
    "name": "ipython",
    "version": 3
   },
   "file_extension": ".py",
   "mimetype": "text/x-python",
   "name": "python",
   "nbconvert_exporter": "python",
   "pygments_lexer": "ipython3",
   "version": "3.7.3"
  }
 },
 "nbformat": 4,
 "nbformat_minor": 4
}
