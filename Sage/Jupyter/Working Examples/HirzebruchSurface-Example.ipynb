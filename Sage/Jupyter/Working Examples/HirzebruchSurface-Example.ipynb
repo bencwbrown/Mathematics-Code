{
 "cells": [
  {
   "cell_type": "code",
   "execution_count": 5,
   "metadata": {},
   "outputs": [],
   "source": [
    "from sympy import *\n",
    "from sympy.vector import Vector\n",
    "from sympy.vector import CoordSys3D\n",
    "N = CoordSys3D('N')\n",
    "\n",
    "t, a, b = symbols( 't a b' )\n",
    "init_printing(use_unicode=True)\n",
    "\n",
    "# Define a vector which is not parallel to any edge vector (non-degeneracy), which will eventually be sent to zero:\n",
    "\n",
    "# Basis for the edge/weight vectors for the points \n",
    "\n",
    "v1 = N.i\n",
    "v2 = N.j\n",
    "\n",
    "Phi = t*(v1 + 2*v2)\n",
    "\n",
    "# Set the fixed points of the action; P denotes those that belong\n",
    "# to the core, and Q those that come from the cut extended core:\n",
    "\n",
    "# Define the interior points which make up the vertices to the core:\n",
    "\n",
    "def P12(a,b):\n",
    "    return Vector.zero\n",
    "\n",
    "def P13(a,b):\n",
    "    return a*v2\n",
    "\n",
    "def P23(a,b):\n",
    "    return k*v1\n",
    "\n",
    "def P(a,b):\n",
    "    return -(b/2)*v2\n",
    "\n",
    "def Q233(a,b):\n",
    "    return (a + (b/2))*v1 + (-b/2)*v2\n",
    "\n",
    "# Define the term which is summed over each fixed point,\n",
    "# representing the character for the representation\n",
    "\n",
    "def f(P, edge1, edge2):\n",
    "    return exp( Phi.dot(P) ) / ( (1 - exp( Phi.dot(edge1) ) ) * ( 1 - exp( Phi.dot(edge2) ) ) )\n",
    "\n",
    "# For each of the right-angled triangles:\n",
    "\n",
    "def Character(a,b):\n",
    "    return f( 0*v1 + 0*v2, v1, -v2 ) + f ( a*v1, -v1, v1 - v2 ) + f( (a + (b/2))*v1 - (b/2)*v2, -v1 + v2, -v1 ) + f( -(b/2)*v2, v1, v2 )\n",
    "\n",
    "# Take the limit as t -> 0 to get the Euler characteristic:\n",
    "\n",
    "def Euler(a,b):\n",
    "    return limit(Delta134(a,b),t,0)\n"
   ]
  },
  {
   "cell_type": "code",
   "execution_count": 4,
   "metadata": {},
   "outputs": [
    {
     "data": {
      "image/png": "[encoded data removed]",
      "text/latex": [
       "$\\displaystyle \\frac{e^{- b t}}{\\left(1 - e^{t}\\right) \\left(1 - e^{2 t}\\right)} + \\frac{e^{- b t + t \\left(a + \\frac{b}{2}\\right)}}{\\left(1 - e^{- t}\\right) \\left(1 - e^{t}\\right)} + \\frac{e^{a t}}{\\left(1 - e^{- t}\\right)^{2}} + \\frac{1}{\\left(1 - e^{- 2 t}\\right) \\left(1 - e^{t}\\right)}$"
      ],
      "text/plain": [
       "                                ⎛    b⎞                                     \n",
       "                       -b⋅t + t⋅⎜a + ─⎟                                     \n",
       "        -b⋅t                    ⎝    2⎠        a⋅t                          \n",
       "       ℯ              ℯ                       ℯ                  1          \n",
       "─────────────────── + ────────────────── + ────────── + ────────────────────\n",
       "⎛     t⎞ ⎛     2⋅t⎞   ⎛     -t⎞ ⎛     t⎞            2   ⎛     -2⋅t⎞ ⎛     t⎞\n",
       "⎝1 - ℯ ⎠⋅⎝1 - ℯ   ⎠   ⎝1 - ℯ  ⎠⋅⎝1 - ℯ ⎠   ⎛     -t⎞    ⎝1 - ℯ    ⎠⋅⎝1 - ℯ ⎠\n",
       "                                           ⎝1 - ℯ  ⎠                        "
      ]
     },
     "execution_count": 4,
     "metadata": {},
     "output_type": "execute_result"
    }
   ],
   "source": [
    "Character(a,b)"
   ]
  },
  {
   "cell_type": "code",
   "execution_count": 8,
   "metadata": {},
   "outputs": [
    {
     "data": {
      "image/png": "[encoded data removed]",
      "text/latex": [
       "$\\displaystyle \\frac{a b}{2} + a + \\frac{b^{2}}{8} + \\frac{3 b}{4} + 1$"
      ],
      "text/plain": [
       "           2          \n",
       "a⋅b       b    3⋅b    \n",
       "─── + a + ── + ─── + 1\n",
       " 2        8     4     "
      ]
     },
     "execution_count": 8,
     "metadata": {},
     "output_type": "execute_result"
    }
   ],
   "source": [
    "Euler(a,b)"
   ]
  },
  {
   "cell_type": "code",
   "execution_count": null,
   "metadata": {},
   "outputs": [],
   "source": []
  },
  {
   "cell_type": "code",
   "execution_count": null,
   "metadata": {},
   "outputs": [],
   "source": []
  },
  {
   "cell_type": "code",
   "execution_count": null,
   "metadata": {},
   "outputs": [],
   "source": []
  },
  {
   "cell_type": "code",
   "execution_count": null,
   "metadata": {},
   "outputs": [],
   "source": []
  },
  {
   "cell_type": "code",
   "execution_count": 2,
   "metadata": {},
   "outputs": [],
   "source": []
  },
  {
   "cell_type": "code",
   "execution_count": null,
   "metadata": {},
   "outputs": [],
   "source": []
  },
  {
   "cell_type": "code",
   "execution_count": null,
   "metadata": {},
   "outputs": [],
   "source": []
  },
  {
   "cell_type": "code",
   "execution_count": null,
   "metadata": {},
   "outputs": [],
   "source": []
  },
  {
   "cell_type": "code",
   "execution_count": null,
   "metadata": {},
   "outputs": [],
   "source": []
  },
  {
   "cell_type": "code",
   "execution_count": null,
   "metadata": {},
   "outputs": [],
   "source": []
  },
  {
   "cell_type": "code",
   "execution_count": null,
   "metadata": {},
   "outputs": [],
   "source": []
  },
  {
   "cell_type": "code",
   "execution_count": null,
   "metadata": {},
   "outputs": [],
   "source": []
  }
 ],
 "metadata": {
  "kernelspec": {
   "display_name": "Python 3",
   "language": "python",
   "name": "python3"
  },
  "language_info": {
   "codemirror_mode": {
    "name": "ipython",
    "version": 3
   },
   "file_extension": ".py",
   "mimetype": "text/x-python",
   "name": "python",
   "nbconvert_exporter": "python",
   "pygments_lexer": "ipython3",
   "version": "3.8.5"
  }
 },
 "nbformat": 4,
 "nbformat_minor": 4
}
