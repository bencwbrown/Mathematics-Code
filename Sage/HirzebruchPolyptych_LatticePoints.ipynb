{
 "cells": [
  {
   "cell_type": "code",
   "execution_count": 10,
   "metadata": {},
   "outputs": [],
   "source": [
    "from sympy import *\n",
    "from sympy.vector import Vector\n",
    "from sympy.vector import CoordSys3D\n",
    "import IPython.display as disp\n",
    "\n",
    "N = CoordSys3D('N')\n",
    "\n",
    "t, k, a, n, m = symbols( 't k a n m' )\n",
    "# init_printing(use_unicode=True)\n",
    "init_printing(use_latex='mathjax')\n",
    "\n",
    "# Basis for the edge/weight vectors for the points \n",
    "\n",
    "v1 = N.i\n",
    "v2 = N.j\n",
    "\n",
    "# Define the vector which is not parallel to any edge vector, which will tend to zero:\n",
    "\n",
    "Phi = t*(v1 + 3*v2)\n",
    "\n",
    "# Set the fixed points of the action; P denotes those that belong\n",
    "# to the core, and Q those that come from the cut extended core:\n",
    "\n",
    "def P12(k,a):\n",
    "    return Vector.zero\n",
    "\n",
    "def P23(n,a):\n",
    "    return 2*n*v1\n",
    "\n",
    "def P34(n,a):\n",
    "    return n*(v1 + v2)\n",
    "\n",
    "def P14(n,a):\n",
    "    return n*v2\n",
    "\n",
    "def P13(n,a):\n",
    "    return 2*n*v2"
   ]
  },
  {
   "cell_type": "code",
   "execution_count": 40,
   "metadata": {},
   "outputs": [],
   "source": [
    "def Q12_1(n,a):\n",
    "    return -a*v2\n",
    "\n",
    "def Q12_2(n,a):\n",
    "    return -2*a*v1\n",
    "\n",
    "def Q23_2(n,a):\n",
    "    return 2*(n+a)*v1\n",
    "\n",
    "def Q23_3(n,a):\n",
    "    return (2*n+a)*v1 - a*v2\n",
    "\n",
    "def Q34_4(n,a):\n",
    "    return 2*(n + a)*v1 + n*v2\n",
    "\n",
    "def Q13_1(n,a):\n",
    "    return (3*n + 2*a)*v2\n",
    "\n",
    "def Q13_3(n,a):\n",
    "    return -(2*a + n)*v1 + n*v2\n",
    "\n",
    "def Q14_4(k,a):\n",
    "    return -(2*a + n)*v1\n",
    "\n",
    "# Define the term which is summed over each fixed point,\n",
    "# representing the character for the representation\n",
    "\n",
    "def P(P, edge1, edge2, edge3, edge4):\n",
    "    return exp( Phi.dot(P) ) / ( (1 - exp( Phi.dot(edge1) ) ) * ( 1 - exp( Phi.dot(edge2) ) ) * ( 1 - exp( Phi.dot(edge3) ) ) * ( 1 - exp( Phi.dot(edge4) ) ) )\n",
    "\n",
    "def Exp(p, q):\n",
    "    return exp( 2*pi*I*Rational(p,q) )\n",
    "\n",
    "def OrbiFactor(p, q, edge):\n",
    "    return ( 1 - ( Exp(p,q) * exp( Rational(p,q) * Phi.dot(edge) ) ) )\n",
    "\n",
    "def O(P, p, q, edge1, edge2, edge3, edge4):\n",
    "    return ( Rational(1,2) * exp( Phi.dot(P) ) ) / ( (1 - ( Exp(1,q) * exp( Rational(1,q) * Phi.dot(edge1) ) ) ) ) \n",
    "\n",
    "def Orb(n,a):\n",
    "    return O(Q12_1(k,a), 1, 2, v1, v2, v2, -2*v1 + v2)"
   ]
  },
  {
   "cell_type": "code",
   "execution_count": 41,
   "metadata": {},
   "outputs": [
    {
     "data": {
      "text/latex": [
       "$\\displaystyle e^{\\frac{t}{2}} + 1$"
      ],
      "text/plain": [
       " t    \n",
       " ─    \n",
       " 2    \n",
       "ℯ  + 1"
      ]
     },
     "execution_count": 41,
     "metadata": {},
     "output_type": "execute_result"
    }
   ],
   "source": [
    "OrbiFactor(1,2, v1)"
   ]
  },
  {
   "cell_type": "code",
   "execution_count": 24,
   "metadata": {},
   "outputs": [
    {
     "data": {
      "text/latex": [
       "$\\displaystyle \\mathbf{\\hat{0}}$"
      ],
      "text/plain": [
       "0"
      ]
     },
     "metadata": {},
     "output_type": "display_data"
    },
    {
     "data": {
      "text/latex": [
       "$\\displaystyle (2 n)\\mathbf{\\hat{i}_{N}}$"
      ],
      "text/plain": [
       "2*n*N.i"
      ]
     },
     "metadata": {},
     "output_type": "display_data"
    },
    {
     "data": {
      "text/latex": [
       "$\\displaystyle (n)\\mathbf{\\hat{i}_{N}} + (n)\\mathbf{\\hat{j}_{N}}$"
      ],
      "text/plain": [
       "n*N.i + n*N.j"
      ]
     },
     "metadata": {},
     "output_type": "display_data"
    },
    {
     "data": {
      "text/latex": [
       "$\\displaystyle (n)\\mathbf{\\hat{j}_{N}}$"
      ],
      "text/plain": [
       "n*N.j"
      ]
     },
     "metadata": {},
     "output_type": "display_data"
    },
    {
     "data": {
      "text/latex": [
       "$\\displaystyle (2 n)\\mathbf{\\hat{j}_{N}}$"
      ],
      "text/plain": [
       "2*n*N.j"
      ]
     },
     "metadata": {},
     "output_type": "display_data"
    },
    {
     "data": {
      "text/latex": [
       "$\\displaystyle (- a)\\mathbf{\\hat{j}_{N}}$"
      ],
      "text/plain": [
       "(-a)*N.j"
      ]
     },
     "metadata": {},
     "output_type": "display_data"
    },
    {
     "data": {
      "text/latex": [
       "$\\displaystyle (- 2 a)\\mathbf{\\hat{i}_{N}}$"
      ],
      "text/plain": [
       "(-2*a)*N.i"
      ]
     },
     "metadata": {},
     "output_type": "display_data"
    },
    {
     "data": {
      "text/latex": [
       "$\\displaystyle (2 a + 2 n)\\mathbf{\\hat{i}_{N}}$"
      ],
      "text/plain": [
       "(2*a + 2*n)*N.i"
      ]
     },
     "metadata": {},
     "output_type": "display_data"
    },
    {
     "data": {
      "text/latex": [
       "$\\displaystyle (a + 2 n)\\mathbf{\\hat{i}_{N}} + (- a)\\mathbf{\\hat{j}_{N}}$"
      ],
      "text/plain": [
       "(a + 2*n)*N.i + (-a)*N.j"
      ]
     },
     "metadata": {},
     "output_type": "display_data"
    },
    {
     "data": {
      "text/latex": [
       "$\\displaystyle (2 a + 2 n)\\mathbf{\\hat{i}_{N}} + (n)\\mathbf{\\hat{j}_{N}}$"
      ],
      "text/plain": [
       "(2*a + 2*n)*N.i + n*N.j"
      ]
     },
     "metadata": {},
     "output_type": "display_data"
    },
    {
     "data": {
      "text/latex": [
       "$\\displaystyle (2 a + 3 n)\\mathbf{\\hat{j}_{N}}$"
      ],
      "text/plain": [
       "(2*a + 3*n)*N.j"
      ]
     },
     "metadata": {},
     "output_type": "display_data"
    },
    {
     "data": {
      "text/latex": [
       "$\\displaystyle (- 2 a - n)\\mathbf{\\hat{i}_{N}} + (n)\\mathbf{\\hat{j}_{N}}$"
      ],
      "text/plain": [
       "(-2*a - n)*N.i + n*N.j"
      ]
     },
     "metadata": {},
     "output_type": "display_data"
    },
    {
     "data": {
      "text/latex": [
       "$\\displaystyle (- 2 a - n)\\mathbf{\\hat{i}_{N}}$"
      ],
      "text/plain": [
       "(-2*a - n)*N.i"
      ]
     },
     "metadata": {},
     "output_type": "display_data"
    }
   ],
   "source": [
    "disp.display(P12(n,a))\n",
    "disp.display(P23(n,a))\n",
    "disp.display(P34(n,a))\n",
    "disp.display(P14(n,a))\n",
    "disp.display(P13(n,a))\n",
    "\n",
    "disp.display(Q12_1(n,a))\n",
    "disp.display(Q12_2(n,a))\n",
    "disp.display(Q23_2(n,a))\n",
    "disp.display(Q23_3(n,a))\n",
    "disp.display(Q34_4(n,a))\n",
    "disp.display(Q13_1(n,a))\n",
    "disp.display(Q13_3(n,a))\n",
    "disp.display(Q14_4(k,a))"
   ]
  },
  {
   "cell_type": "code",
   "execution_count": 25,
   "metadata": {},
   "outputs": [],
   "source": [
    "# Contribution for each non-orbifold point:\n",
    "\n",
    "# The interior points:\n",
    "\n",
    "def IntP12(n,a):\n",
    "    return P(P12(n,a), v1, v2, -v1, -v2 )\n",
    "\n",
    "def IntP23(k,a):\n",
    "    return P(P23(n,a), v1, -v1 + v2, -v1, v1 - v2)\n",
    "\n",
    "def IntP34(n,a):\n",
    "    return P(P34(n,a), v1, -v1 + v2, -v1, v1 - v2)\n",
    "\n",
    "def IntP13(n,a):\n",
    "    return P(P13(n,a), v2, -v1 + v2, -v2, v1 - v2)\n",
    "\n",
    "def IntP14(n,a):\n",
    "    return P(P14(n,a), v1, v2, -v1, -v2)\n",
    "\n",
    "# The exterior points:\n",
    "\n",
    "def ExtQ23_2(n,a):\n",
    "    return P(Q23_2(n,a), v2, -v1, -v1, -v1 - v2)\n",
    "\n",
    "def ExtQ34_4(n,a):\n",
    "    return P(Q34_4(n,a), -v1 + v2, -v1, -v1, -v2)\n",
    "\n",
    "def ExtQ13_1(n,a):\n",
    "    return P(Q13_1(n,a), -v1, -v2, -v2, v1 - v2)\n",
    "\n",
    "def ExtQ13_3(n,a):\n",
    "    return P(Q13_3(n,a), v1, -v2, v1 - v2, v1 - v2)\n",
    "\n",
    "def ExtQ14_4(n,a):\n",
    "    return P(Q14_4(n,a), v1 - v2, v1, v1, v2)\n",
    "\n",
    "def ExtQ12_2(n,a):\n",
    "    return P(Q12_2(n,a), 2*v1 - v2, v1, v1, -v1 + v2)\n",
    "\n",
    "# The two exterior orbifold points:\n",
    "\n",
    "#def OrbQ12_1(k,a):\n",
    " #   return "
   ]
  },
  {
   "cell_type": "code",
   "execution_count": 26,
   "metadata": {},
   "outputs": [
    {
     "data": {
      "text/latex": [
       "$\\displaystyle \\frac{1}{\\left(1 - e^{- 3 t}\\right) \\left(1 - e^{- t}\\right) \\left(1 - e^{t}\\right) \\left(1 - e^{3 t}\\right)}$"
      ],
      "text/plain": [
       "                    1                    \n",
       "─────────────────────────────────────────\n",
       "⎛     -3⋅t⎞ ⎛     -t⎞ ⎛     t⎞ ⎛     3⋅t⎞\n",
       "⎝1 - ℯ    ⎠⋅⎝1 - ℯ  ⎠⋅⎝1 - ℯ ⎠⋅⎝1 - ℯ   ⎠"
      ]
     },
     "metadata": {},
     "output_type": "display_data"
    },
    {
     "data": {
      "text/latex": [
       "$\\displaystyle \\frac{e^{2 k t}}{\\left(1 - e^{- 2 t}\\right) \\left(1 - e^{- t}\\right) \\left(1 - e^{t}\\right) \\left(1 - e^{2 t}\\right)}$"
      ],
      "text/plain": [
       "                   2⋅k⋅t                 \n",
       "                  ℯ                      \n",
       "─────────────────────────────────────────\n",
       "⎛     -2⋅t⎞ ⎛     -t⎞ ⎛     t⎞ ⎛     2⋅t⎞\n",
       "⎝1 - ℯ    ⎠⋅⎝1 - ℯ  ⎠⋅⎝1 - ℯ ⎠⋅⎝1 - ℯ   ⎠"
      ]
     },
     "metadata": {},
     "output_type": "display_data"
    },
    {
     "data": {
      "text/latex": [
       "$\\displaystyle \\frac{e^{4 k t}}{\\left(1 - e^{- 2 t}\\right) \\left(1 - e^{- t}\\right) \\left(1 - e^{t}\\right) \\left(1 - e^{2 t}\\right)}$"
      ],
      "text/plain": [
       "                   4⋅k⋅t                 \n",
       "                  ℯ                      \n",
       "─────────────────────────────────────────\n",
       "⎛     -2⋅t⎞ ⎛     -t⎞ ⎛     t⎞ ⎛     2⋅t⎞\n",
       "⎝1 - ℯ    ⎠⋅⎝1 - ℯ  ⎠⋅⎝1 - ℯ ⎠⋅⎝1 - ℯ   ⎠"
      ]
     },
     "metadata": {},
     "output_type": "display_data"
    },
    {
     "data": {
      "text/latex": [
       "$\\displaystyle \\frac{e^{6 k t}}{\\left(1 - e^{- 3 t}\\right) \\left(1 - e^{- 2 t}\\right) \\left(1 - e^{2 t}\\right) \\left(1 - e^{3 t}\\right)}$"
      ],
      "text/plain": [
       "                     6⋅k⋅t                   \n",
       "                    ℯ                        \n",
       "─────────────────────────────────────────────\n",
       "⎛     -3⋅t⎞ ⎛     -2⋅t⎞ ⎛     2⋅t⎞ ⎛     3⋅t⎞\n",
       "⎝1 - ℯ    ⎠⋅⎝1 - ℯ    ⎠⋅⎝1 - ℯ   ⎠⋅⎝1 - ℯ   ⎠"
      ]
     },
     "metadata": {},
     "output_type": "display_data"
    },
    {
     "data": {
      "text/latex": [
       "$\\displaystyle \\frac{e^{3 k t}}{\\left(1 - e^{- 3 t}\\right) \\left(1 - e^{- t}\\right) \\left(1 - e^{t}\\right) \\left(1 - e^{3 t}\\right)}$"
      ],
      "text/plain": [
       "                   3⋅k⋅t                 \n",
       "                  ℯ                      \n",
       "─────────────────────────────────────────\n",
       "⎛     -3⋅t⎞ ⎛     -t⎞ ⎛     t⎞ ⎛     3⋅t⎞\n",
       "⎝1 - ℯ    ⎠⋅⎝1 - ℯ  ⎠⋅⎝1 - ℯ ⎠⋅⎝1 - ℯ   ⎠"
      ]
     },
     "metadata": {},
     "output_type": "display_data"
    },
    {
     "data": {
      "text/latex": [
       "$\\displaystyle \\frac{e^{t \\left(2 a + 2 k\\right)}}{\\left(1 - e^{- 4 t}\\right) \\left(1 - e^{- t}\\right)^{2} \\left(1 - e^{3 t}\\right)}$"
      ],
      "text/plain": [
       "           t⋅(2⋅a + 2⋅k)         \n",
       "          ℯ                      \n",
       "─────────────────────────────────\n",
       "                     2           \n",
       "⎛     -4⋅t⎞ ⎛     -t⎞  ⎛     3⋅t⎞\n",
       "⎝1 - ℯ    ⎠⋅⎝1 - ℯ  ⎠ ⋅⎝1 - ℯ   ⎠"
      ]
     },
     "metadata": {},
     "output_type": "display_data"
    },
    {
     "data": {
      "text/latex": [
       "$\\displaystyle \\frac{e^{3 k t + t \\left(2 a + 2 k\\right)}}{\\left(1 - e^{- 3 t}\\right) \\left(1 - e^{- t}\\right)^{2} \\left(1 - e^{2 t}\\right)}$"
      ],
      "text/plain": [
       "       3⋅k⋅t + t⋅(2⋅a + 2⋅k)     \n",
       "      ℯ                          \n",
       "─────────────────────────────────\n",
       "                     2           \n",
       "⎛     -3⋅t⎞ ⎛     -t⎞  ⎛     2⋅t⎞\n",
       "⎝1 - ℯ    ⎠⋅⎝1 - ℯ  ⎠ ⋅⎝1 - ℯ   ⎠"
      ]
     },
     "metadata": {},
     "output_type": "display_data"
    },
    {
     "data": {
      "text/latex": [
       "$\\displaystyle \\frac{e^{3 t \\left(2 a + 3 k\\right)}}{\\left(1 - e^{- 3 t}\\right)^{2} \\left(1 - e^{- 2 t}\\right) \\left(1 - e^{- t}\\right)}$"
      ],
      "text/plain": [
       "          3⋅t⋅(2⋅a + 3⋅k)         \n",
       "         ℯ                        \n",
       "──────────────────────────────────\n",
       "           2                      \n",
       "⎛     -3⋅t⎞  ⎛     -2⋅t⎞ ⎛     -t⎞\n",
       "⎝1 - ℯ    ⎠ ⋅⎝1 - ℯ    ⎠⋅⎝1 - ℯ  ⎠"
      ]
     },
     "metadata": {},
     "output_type": "display_data"
    },
    {
     "data": {
      "text/latex": [
       "$\\displaystyle \\frac{e^{3 k t + t \\left(- 2 a - k\\right)}}{\\left(1 - e^{- 3 t}\\right) \\left(1 - e^{- 2 t}\\right)^{2} \\left(1 - e^{t}\\right)}$"
      ],
      "text/plain": [
       "       3⋅k⋅t + t⋅(-2⋅a - k)      \n",
       "      ℯ                          \n",
       "─────────────────────────────────\n",
       "                       2         \n",
       "⎛     -3⋅t⎞ ⎛     -2⋅t⎞  ⎛     t⎞\n",
       "⎝1 - ℯ    ⎠⋅⎝1 - ℯ    ⎠ ⋅⎝1 - ℯ ⎠"
      ]
     },
     "metadata": {},
     "output_type": "display_data"
    },
    {
     "data": {
      "text/latex": [
       "$\\displaystyle \\frac{e^{t \\left(- 2 a - n\\right)}}{\\left(1 - e^{- 2 t}\\right) \\left(1 - e^{t}\\right)^{2} \\left(1 - e^{3 t}\\right)}$"
      ],
      "text/plain": [
       "          t⋅(-2⋅a - n)          \n",
       "         ℯ                      \n",
       "────────────────────────────────\n",
       "                    2           \n",
       "⎛     -2⋅t⎞ ⎛     t⎞  ⎛     3⋅t⎞\n",
       "⎝1 - ℯ    ⎠⋅⎝1 - ℯ ⎠ ⋅⎝1 - ℯ   ⎠"
      ]
     },
     "metadata": {},
     "output_type": "display_data"
    },
    {
     "data": {
      "text/latex": [
       "$\\displaystyle \\frac{e^{- 2 a t}}{\\left(1 - e^{- t}\\right) \\left(1 - e^{t}\\right)^{2} \\left(1 - e^{2 t}\\right)}$"
      ],
      "text/plain": [
       "            -2⋅a⋅t            \n",
       "           ℯ                  \n",
       "──────────────────────────────\n",
       "                  2           \n",
       "⎛     -t⎞ ⎛     t⎞  ⎛     2⋅t⎞\n",
       "⎝1 - ℯ  ⎠⋅⎝1 - ℯ ⎠ ⋅⎝1 - ℯ   ⎠"
      ]
     },
     "metadata": {},
     "output_type": "display_data"
    }
   ],
   "source": [
    "disp.display(IntP12(k,a))\n",
    "disp.display(IntP23(k,a))\n",
    "disp.display(IntP34(k,a))\n",
    "disp.display(IntP13(k,a))\n",
    "disp.display(IntP14(k,a))\n",
    "    \n",
    "disp.display(ExtQ23_2(k,a))\n",
    "disp.display(ExtQ34_4(k,a))\n",
    "disp.display(ExtQ13_1(k,a))\n",
    "disp.display(ExtQ13_3(k,a))\n",
    "disp.display(ExtQ14_4(k,a))\n",
    "disp.display(ExtQ12_2(k,a))"
   ]
  },
  {
   "cell_type": "code",
   "execution_count": 14,
   "metadata": {},
   "outputs": [
    {
     "data": {
      "text/latex": [
       "$\\displaystyle \\frac{e^{3 k t}}{\\left(1 - e^{- 3 t}\\right) \\left(1 - e^{- t}\\right) \\left(1 - e^{t}\\right) \\left(1 - e^{3 t}\\right)}$"
      ],
      "text/plain": [
       "                   3⋅k⋅t                 \n",
       "                  ℯ                      \n",
       "─────────────────────────────────────────\n",
       "⎛     -3⋅t⎞ ⎛     -t⎞ ⎛     t⎞ ⎛     3⋅t⎞\n",
       "⎝1 - ℯ    ⎠⋅⎝1 - ℯ  ⎠⋅⎝1 - ℯ ⎠⋅⎝1 - ℯ   ⎠"
      ]
     },
     "execution_count": 14,
     "metadata": {},
     "output_type": "execute_result"
    }
   ],
   "source": []
  },
  {
   "cell_type": "code",
   "execution_count": null,
   "metadata": {},
   "outputs": [],
   "source": []
  },
  {
   "cell_type": "code",
   "execution_count": 23,
   "metadata": {},
   "outputs": [],
   "source": []
  },
  {
   "cell_type": "code",
   "execution_count": 28,
   "metadata": {},
   "outputs": [
    {
     "data": {
      "text/latex": [
       "$\\displaystyle \\frac{\\left(k + 1\\right) \\left(k + 2\\right)}{2}$"
      ],
      "text/plain": [
       "(k + 1)⋅(k + 2)\n",
       "───────────────\n",
       "       2       "
      ]
     },
     "metadata": {},
     "output_type": "display_data"
    },
    {
     "data": {
      "text/latex": [
       "$\\displaystyle \\frac{k^{2}}{2} + \\frac{9 k}{2} + 7$"
      ],
      "text/plain": [
       " 2          \n",
       "k    9⋅k    \n",
       "── + ─── + 7\n",
       "2     2     "
      ]
     },
     "metadata": {},
     "output_type": "display_data"
    },
    {
     "data": {
      "text/latex": [
       "$\\displaystyle \\frac{k^{2}}{2} + \\frac{15 k}{2} + 19$"
      ],
      "text/plain": [
       " 2            \n",
       "k    15⋅k     \n",
       "── + ──── + 19\n",
       "2     2       "
      ]
     },
     "metadata": {},
     "output_type": "display_data"
    },
    {
     "data": {
      "text/latex": [
       "$\\displaystyle \\frac{k^{2}}{2} + \\frac{21 k}{2} + 37$"
      ],
      "text/plain": [
       " 2            \n",
       "k    21⋅k     \n",
       "── + ──── + 37\n",
       "2     2       "
      ]
     },
     "metadata": {},
     "output_type": "display_data"
    },
    {
     "data": {
      "text/latex": [
       "$\\displaystyle \\frac{k^{2}}{2} + \\frac{27 k}{2} + 61$"
      ],
      "text/plain": [
       " 2            \n",
       "k    27⋅k     \n",
       "── + ──── + 61\n",
       "2     2       "
      ]
     },
     "metadata": {},
     "output_type": "display_data"
    }
   ],
   "source": [
    "for a in range(0, 5):\n",
    "    disp.display(LatticePoints(k,a))\n",
    "    \n",
    "a = symbols('a')"
   ]
  },
  {
   "cell_type": "code",
   "execution_count": null,
   "metadata": {},
   "outputs": [],
   "source": []
  },
  {
   "cell_type": "code",
   "execution_count": 18,
   "metadata": {},
   "outputs": [
    {
     "data": {
      "text/latex": [
       "$\\displaystyle 10$"
      ],
      "text/plain": [
       "10"
      ]
     },
     "metadata": {},
     "output_type": "display_data"
    },
    {
     "data": {
      "text/latex": [
       "$\\displaystyle 35$"
      ],
      "text/plain": [
       "35"
      ]
     },
     "metadata": {},
     "output_type": "display_data"
    },
    {
     "data": {
      "text/latex": [
       "$\\displaystyle 81$"
      ],
      "text/plain": [
       "81"
      ]
     },
     "metadata": {},
     "output_type": "display_data"
    },
    {
     "data": {
      "text/latex": [
       "$\\displaystyle 154$"
      ],
      "text/plain": [
       "154"
      ]
     },
     "metadata": {},
     "output_type": "display_data"
    },
    {
     "data": {
      "text/latex": [
       "$\\displaystyle 260$"
      ],
      "text/plain": [
       "260"
      ]
     },
     "metadata": {},
     "output_type": "display_data"
    }
   ],
   "source": [
    "for a in range(0, 5):\n",
    "    disp.display(simplify(CutDiff(3,a)))\n",
    "    \n",
    "a = symbols('a')"
   ]
  },
  {
   "cell_type": "code",
   "execution_count": 32,
   "metadata": {},
   "outputs": [
    {
     "data": {
      "text/latex": [
       "$\\displaystyle \\frac{\\left(k + 1\\right) \\left(k + 2\\right)}{2}$"
      ],
      "text/plain": [
       "(k + 1)⋅(k + 2)\n",
       "───────────────\n",
       "       2       "
      ]
     },
     "metadata": {},
     "output_type": "display_data"
    },
    {
     "data": {
      "text/latex": [
       "$\\displaystyle \\left(k + 2\\right) \\left(k + 4\\right)$"
      ],
      "text/plain": [
       "(k + 2)⋅(k + 4)"
      ]
     },
     "metadata": {},
     "output_type": "display_data"
    },
    {
     "data": {
      "text/latex": [
       "$\\displaystyle \\frac{3 \\left(k + 3\\right) \\left(k + 6\\right)}{2}$"
      ],
      "text/plain": [
       "3⋅(k + 3)⋅(k + 6)\n",
       "─────────────────\n",
       "        2        "
      ]
     },
     "metadata": {},
     "output_type": "display_data"
    },
    {
     "data": {
      "text/latex": [
       "$\\displaystyle 2 \\left(k + 4\\right) \\left(k + 8\\right)$"
      ],
      "text/plain": [
       "2⋅(k + 4)⋅(k + 8)"
      ]
     },
     "metadata": {},
     "output_type": "display_data"
    },
    {
     "data": {
      "text/latex": [
       "$\\displaystyle \\frac{5 \\left(k + 5\\right) \\left(k + 10\\right)}{2}$"
      ],
      "text/plain": [
       "5⋅(k + 5)⋅(k + 10)\n",
       "──────────────────\n",
       "        2         "
      ]
     },
     "metadata": {},
     "output_type": "display_data"
    }
   ],
   "source": [
    "for a in range(0, 5):\n",
    "    disp.display(simplify(CutDiff(k,a)))\n",
    "\n",
    "a = symbols('a')"
   ]
  },
  {
   "cell_type": "code",
   "execution_count": 34,
   "metadata": {},
   "outputs": [
    {
     "data": {
      "text/latex": [
       "$\\displaystyle 6 a + 3 k$"
      ],
      "text/plain": [
       "6⋅a + 3⋅k"
      ]
     },
     "execution_count": 34,
     "metadata": {},
     "output_type": "execute_result"
    }
   ],
   "source": [
    "simplify(LatticePoints(k,a) - LatticePoints(k,a-1) )"
   ]
  },
  {
   "cell_type": "code",
   "execution_count": 14,
   "metadata": {},
   "outputs": [],
   "source": []
  },
  {
   "cell_type": "code",
   "execution_count": null,
   "metadata": {},
   "outputs": [],
   "source": []
  },
  {
   "cell_type": "code",
   "execution_count": null,
   "metadata": {},
   "outputs": [],
   "source": []
  },
  {
   "cell_type": "code",
   "execution_count": null,
   "metadata": {},
   "outputs": [],
   "source": []
  }
 ],
 "metadata": {
  "kernelspec": {
   "display_name": "Python 3",
   "language": "python",
   "name": "python3"
  },
  "language_info": {
   "codemirror_mode": {
    "name": "ipython",
    "version": 3
   },
   "file_extension": ".py",
   "mimetype": "text/x-python",
   "name": "python",
   "nbconvert_exporter": "python",
   "pygments_lexer": "ipython3",
   "version": "3.7.3"
  }
 },
 "nbformat": 4,
 "nbformat_minor": 4
}
