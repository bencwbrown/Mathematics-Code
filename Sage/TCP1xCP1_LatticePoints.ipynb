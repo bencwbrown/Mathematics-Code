{
 "cells": [
  {
   "cell_type": "code",
   "execution_count": 5,
   "metadata": {},
   "outputs": [],
   "source": [
    "from sympy import *\n",
    "from sympy.vector import Vector\n",
    "from sympy.vector import CoordSys3D\n",
    "N = CoordSys3D('N')\n",
    "\n",
    "t, n, m, a = symbols( 't n m a' )\n",
    "init_printing(use_unicode=True)\n",
    "\n",
    "# Basis for the edge/weight vectors for the points \n",
    "\n",
    "v1 = N.i\n",
    "v2 = N.j\n",
    "\n",
    "# Define a vector which is not parallel to any edge vector (non-degeneracy), which will eventually be sent to zero:\n",
    "\n",
    "Phi = t*(v1 + 2*v2)\n",
    "\n",
    "# Set the fixed points of the action; P denotes those that belong\n",
    "# to the core, and Q those that come from the cut extended core:\n",
    "\n",
    "# Define the interior points which make up the vertices to the core:\n",
    "\n",
    "def P12(n,m,a):\n",
    "    return Vector.zero\n",
    "\n",
    "def P23(n,m,a):\n",
    "    return n*v1\n",
    "\n",
    "def P34(n,m,a):\n",
    "    return n*v1 + m*v2\n",
    "\n",
    "def P14(n,m,a):\n",
    "    return m*v2\n",
    "\n",
    "# Exterior points coming from the cut:\n",
    "\n",
    "def Q12_1(n,m,a):\n",
    "    return -a*v2\n",
    "\n",
    "def Q12_2(n,m,a):\n",
    "    return -a*v1\n",
    "\n",
    "def Q23_2(n,m,a):\n",
    "    return (n+a)*v1\n",
    "\n",
    "def Q23_3(n,m,a):\n",
    "    return n*v1 - a*v2\n",
    "\n",
    "def Q34_3(n,m,a):\n",
    "    return n*v1 + (m+a)*v2\n",
    "\n",
    "def Q34_4(n,m,a):\n",
    "    return (n+a)*v1 + m*v2\n",
    "\n",
    "def Q14_1(n,m,a):\n",
    "    return (m+a)*v2\n",
    "\n",
    "def Q14_4(n,m,a):\n",
    "    return -a*v1 + m*v2\n",
    "\n",
    "# Define the term which is summed over each fixed point,\n",
    "# representing the character for the representation\n",
    "\n",
    "def f(P, edge1, edge2):\n",
    "    return exp( Phi.dot(P) ) / ( (1 - exp( Phi.dot(edge1) ) ) * ( 1 - exp( Phi.dot(edge2) ) ) )\n",
    "\n",
    "def g(P, edge1, edge2, edge3, edge4):\n",
    "    return exp( Phi.dot(P) ) / ( (1 - exp( Phi.dot(edge1) ) ) * ( 1 - exp( Phi.dot(edge2) ) ) * ( 1 - exp( Phi.dot(edge3) ) ) * ( 1 - exp( Phi.dot(edge4) ) ) )\n",
    "\n",
    "# For each of the right-angled triangles:\n",
    "# Delta34 is the bottom-left simplex:\n",
    "\n",
    "def Delta34(n,m,a):\n",
    "    return f( P12(n,m,a), v1, v2 ) * ( f( Vector.zero, -v1, -v2 ) + f( -a*v1, v1, v1 - v2 ) + f( -a*v2, v2, -v1 + v2 ) )\n",
    "\n",
    "# Delta14 is the bottom-right simplex:\n",
    "\n",
    "def Delta14(n,m,a):\n",
    "    return f( P23(n,m,a), -v1, v2 ) * ( f( Vector.zero, v1, -v2 ) + f( a*v1, -v1, -v1 - v2 ) + f( -a*v2, v1 + v2, v2 ) )\n",
    "\n",
    "# Delta12 is the top-right simplex:\n",
    "\n",
    "def Delta12(n,m,a):\n",
    "    return f( P34(n,m,a), -v1 , -v2 ) * ( f( Vector.zero, v1, v2 ) + f( a*v1, -v1 + v2, -v1 ) + f( a*v2, v1 - v2, -v2 ) )\n",
    "\n",
    "# Delta23 is the top-left simplex:\n",
    "\n",
    "def Delta23(n,m,a):\n",
    "    return f( P14(n,m,a), v1 , -v2 ) * ( f( Vector.zero, v2, -v1 ) + f( -a*v1, v1, v1 + v2 ) + f( a*v2, -v1 - v2, -v2 ) )\n",
    "\n",
    "# And their sum:\n",
    "\n",
    "def Sum(n,m,a):\n",
    "    return Delta34(n,m,a) + Delta14(n,m,a) + Delta12(n,m,a) + Delta23(n,m,a)\n",
    "\n",
    "# Take the limit as t -> 0 to get the Euler characteristic(?):\n",
    "\n",
    "def SumLimit(n,m,a):\n",
    "    return limit(Sum(n,m,a),t,0)\n"
   ]
  },
  {
   "cell_type": "code",
   "execution_count": 7,
   "metadata": {},
   "outputs": [
    {
     "data": {
      "image/png": "[encoded data removed]",
      "text/latex": [
       "$\\displaystyle \\frac{\\frac{e^{- 2 a t}}{\\left(1 - e^{t}\\right) \\left(1 - e^{2 t}\\right)} + \\frac{e^{- a t}}{\\left(1 - e^{- t}\\right) \\left(1 - e^{t}\\right)} + \\frac{1}{\\left(1 - e^{- 2 t}\\right) \\left(1 - e^{- t}\\right)}}{\\left(1 - e^{t}\\right) \\left(1 - e^{2 t}\\right)}$"
      ],
      "text/plain": [
       "       -2⋅a⋅t                -a⋅t                               \n",
       "      ℯ                     ℯ                        1          \n",
       "─────────────────── + ────────────────── + ─────────────────────\n",
       "⎛     t⎞ ⎛     2⋅t⎞   ⎛     -t⎞ ⎛     t⎞   ⎛     -2⋅t⎞ ⎛     -t⎞\n",
       "⎝1 - ℯ ⎠⋅⎝1 - ℯ   ⎠   ⎝1 - ℯ  ⎠⋅⎝1 - ℯ ⎠   ⎝1 - ℯ    ⎠⋅⎝1 - ℯ  ⎠\n",
       "────────────────────────────────────────────────────────────────\n",
       "                      ⎛     t⎞ ⎛     2⋅t⎞                       \n",
       "                      ⎝1 - ℯ ⎠⋅⎝1 - ℯ   ⎠                       "
      ]
     },
     "execution_count": 7,
     "metadata": {},
     "output_type": "execute_result"
    }
   ],
   "source": [
    "Delta34(n,m,a) # The bottom-left simplex"
   ]
  },
  {
   "cell_type": "code",
   "execution_count": 8,
   "metadata": {},
   "outputs": [
    {
     "data": {
      "image/png": "[encoded data removed]",
      "text/latex": [
       "$\\displaystyle \\frac{\\left(\\frac{e^{- 2 a t}}{\\left(1 - e^{2 t}\\right) \\left(1 - e^{3 t}\\right)} + \\frac{1}{\\left(1 - e^{- 2 t}\\right) \\left(1 - e^{t}\\right)} + \\frac{e^{a t}}{\\left(1 - e^{- 3 t}\\right) \\left(1 - e^{- t}\\right)}\\right) e^{n t}}{\\left(1 - e^{- t}\\right) \\left(1 - e^{2 t}\\right)}$"
      ],
      "text/plain": [
       "⎛        -2⋅a⋅t                                           a⋅t        ⎞     \n",
       "⎜       ℯ                         1                      ℯ           ⎟  n⋅t\n",
       "⎜───────────────────── + ──────────────────── + ─────────────────────⎟⋅ℯ   \n",
       "⎜⎛     2⋅t⎞ ⎛     3⋅t⎞   ⎛     -2⋅t⎞ ⎛     t⎞   ⎛     -3⋅t⎞ ⎛     -t⎞⎟     \n",
       "⎝⎝1 - ℯ   ⎠⋅⎝1 - ℯ   ⎠   ⎝1 - ℯ    ⎠⋅⎝1 - ℯ ⎠   ⎝1 - ℯ    ⎠⋅⎝1 - ℯ  ⎠⎠     \n",
       "───────────────────────────────────────────────────────────────────────────\n",
       "                            ⎛     -t⎞ ⎛     2⋅t⎞                           \n",
       "                            ⎝1 - ℯ  ⎠⋅⎝1 - ℯ   ⎠                           "
      ]
     },
     "execution_count": 8,
     "metadata": {},
     "output_type": "execute_result"
    }
   ],
   "source": [
    "Delta14(n,m,a) # The bottom-right simplex"
   ]
  },
  {
   "cell_type": "code",
   "execution_count": 9,
   "metadata": {},
   "outputs": [
    {
     "data": {
      "image/png": "[encoded data removed]",
      "text/latex": [
       "$\\displaystyle \\frac{\\left(\\frac{1}{\\left(1 - e^{t}\\right) \\left(1 - e^{2 t}\\right)} + \\frac{e^{a t}}{\\left(1 - e^{- t}\\right) \\left(1 - e^{t}\\right)} + \\frac{e^{2 a t}}{\\left(1 - e^{- 2 t}\\right) \\left(1 - e^{- t}\\right)}\\right) e^{2 m t + n t}}{\\left(1 - e^{- 2 t}\\right) \\left(1 - e^{- t}\\right)}$"
      ],
      "text/plain": [
       "⎛                              a⋅t                   2⋅a⋅t       ⎞            \n",
       "⎜         1                   ℯ                     ℯ            ⎟  2⋅m⋅t + n⋅\n",
       "⎜─────────────────── + ────────────────── + ─────────────────────⎟⋅ℯ          \n",
       "⎜⎛     t⎞ ⎛     2⋅t⎞   ⎛     -t⎞ ⎛     t⎞   ⎛     -2⋅t⎞ ⎛     -t⎞⎟            \n",
       "⎝⎝1 - ℯ ⎠⋅⎝1 - ℯ   ⎠   ⎝1 - ℯ  ⎠⋅⎝1 - ℯ ⎠   ⎝1 - ℯ    ⎠⋅⎝1 - ℯ  ⎠⎠            \n",
       "──────────────────────────────────────────────────────────────────────────────\n",
       "                             ⎛     -2⋅t⎞ ⎛     -t⎞                            \n",
       "                             ⎝1 - ℯ    ⎠⋅⎝1 - ℯ  ⎠                            \n",
       "\n",
       " \n",
       "t\n",
       " \n",
       " \n",
       " \n",
       "─\n",
       " \n",
       " "
      ]
     },
     "execution_count": 9,
     "metadata": {},
     "output_type": "execute_result"
    }
   ],
   "source": [
    "Delta12(n,m,a) # The top-right simplex"
   ]
  },
  {
   "cell_type": "code",
   "execution_count": 10,
   "metadata": {},
   "outputs": [
    {
     "data": {
      "image/png": "[encoded data removed]",
      "text/latex": [
       "$\\displaystyle \\frac{\\left(\\frac{e^{- a t}}{\\left(1 - e^{t}\\right) \\left(1 - e^{3 t}\\right)} + \\frac{1}{\\left(1 - e^{- t}\\right) \\left(1 - e^{2 t}\\right)} + \\frac{e^{2 a t}}{\\left(1 - e^{- 3 t}\\right) \\left(1 - e^{- 2 t}\\right)}\\right) e^{2 m t}}{\\left(1 - e^{- 2 t}\\right) \\left(1 - e^{t}\\right)}$"
      ],
      "text/plain": [
       "⎛        -a⋅t                                           2⋅a⋅t        ⎞       \n",
       "⎜       ℯ                       1                      ℯ             ⎟  2⋅m⋅t\n",
       "⎜─────────────────── + ──────────────────── + ───────────────────────⎟⋅ℯ     \n",
       "⎜⎛     t⎞ ⎛     3⋅t⎞   ⎛     -t⎞ ⎛     2⋅t⎞   ⎛     -3⋅t⎞ ⎛     -2⋅t⎞⎟       \n",
       "⎝⎝1 - ℯ ⎠⋅⎝1 - ℯ   ⎠   ⎝1 - ℯ  ⎠⋅⎝1 - ℯ   ⎠   ⎝1 - ℯ    ⎠⋅⎝1 - ℯ    ⎠⎠       \n",
       "─────────────────────────────────────────────────────────────────────────────\n",
       "                             ⎛     -2⋅t⎞ ⎛     t⎞                            \n",
       "                             ⎝1 - ℯ    ⎠⋅⎝1 - ℯ ⎠                            "
      ]
     },
     "execution_count": 10,
     "metadata": {},
     "output_type": "execute_result"
    }
   ],
   "source": [
    "Delta23(n,m,a) # The top-left simplex"
   ]
  },
  {
   "cell_type": "code",
   "execution_count": 11,
   "metadata": {},
   "outputs": [
    {
     "data": {
      "image/png": "[encoded data removed]",
      "text/latex": [
       "$\\displaystyle \\frac{\\frac{e^{- 2 a t}}{\\left(1 - e^{t}\\right) \\left(1 - e^{2 t}\\right)} + \\frac{e^{- a t}}{\\left(1 - e^{- t}\\right) \\left(1 - e^{t}\\right)} + \\frac{1}{\\left(1 - e^{- 2 t}\\right) \\left(1 - e^{- t}\\right)}}{\\left(1 - e^{t}\\right) \\left(1 - e^{2 t}\\right)} + \\frac{\\left(\\frac{e^{- 2 a t}}{\\left(1 - e^{2 t}\\right) \\left(1 - e^{3 t}\\right)} + \\frac{1}{\\left(1 - e^{- 2 t}\\right) \\left(1 - e^{t}\\right)} + \\frac{e^{a t}}{\\left(1 - e^{- 3 t}\\right) \\left(1 - e^{- t}\\right)}\\right) e^{n t}}{\\left(1 - e^{- t}\\right) \\left(1 - e^{2 t}\\right)} + \\frac{\\left(\\frac{e^{- a t}}{\\left(1 - e^{t}\\right) \\left(1 - e^{3 t}\\right)} + \\frac{1}{\\left(1 - e^{- t}\\right) \\left(1 - e^{2 t}\\right)} + \\frac{e^{2 a t}}{\\left(1 - e^{- 3 t}\\right) \\left(1 - e^{- 2 t}\\right)}\\right) e^{2 m t}}{\\left(1 - e^{- 2 t}\\right) \\left(1 - e^{t}\\right)} + \\frac{\\left(\\frac{1}{\\left(1 - e^{t}\\right) \\left(1 - e^{2 t}\\right)} + \\frac{e^{a t}}{\\left(1 - e^{- t}\\right) \\left(1 - e^{t}\\right)} + \\frac{e^{2 a t}}{\\left(1 - e^{- 2 t}\\right) \\left(1 - e^{- t}\\right)}\\right) e^{2 m t + n t}}{\\left(1 - e^{- 2 t}\\right) \\left(1 - e^{- t}\\right)}$"
      ],
      "text/plain": [
       "       -2⋅a⋅t                -a⋅t                                  ⎛        -2\n",
       "      ℯ                     ℯ                        1             ⎜       ℯ  \n",
       "─────────────────── + ────────────────── + ─────────────────────   ⎜──────────\n",
       "⎛     t⎞ ⎛     2⋅t⎞   ⎛     -t⎞ ⎛     t⎞   ⎛     -2⋅t⎞ ⎛     -t⎞   ⎜⎛     2⋅t⎞\n",
       "⎝1 - ℯ ⎠⋅⎝1 - ℯ   ⎠   ⎝1 - ℯ  ⎠⋅⎝1 - ℯ ⎠   ⎝1 - ℯ    ⎠⋅⎝1 - ℯ  ⎠   ⎝⎝1 - ℯ   ⎠\n",
       "──────────────────────────────────────────────────────────────── + ───────────\n",
       "                      ⎛     t⎞ ⎛     2⋅t⎞                                     \n",
       "                      ⎝1 - ℯ ⎠⋅⎝1 - ℯ   ⎠                                     \n",
       "\n",
       "⋅a⋅t                                           a⋅t        ⎞        ⎛        -a\n",
       "                       1                      ℯ           ⎟  n⋅t   ⎜       ℯ  \n",
       "─────────── + ──────────────────── + ─────────────────────⎟⋅ℯ      ⎜──────────\n",
       " ⎛     3⋅t⎞   ⎛     -2⋅t⎞ ⎛     t⎞   ⎛     -3⋅t⎞ ⎛     -t⎞⎟        ⎜⎛     t⎞ ⎛\n",
       "⋅⎝1 - ℯ   ⎠   ⎝1 - ℯ    ⎠⋅⎝1 - ℯ ⎠   ⎝1 - ℯ    ⎠⋅⎝1 - ℯ  ⎠⎠        ⎝⎝1 - ℯ ⎠⋅⎝\n",
       "──────────────────────────────────────────────────────────────── + ───────────\n",
       "                 ⎛     -t⎞ ⎛     2⋅t⎞                                         \n",
       "                 ⎝1 - ℯ  ⎠⋅⎝1 - ℯ   ⎠                                         \n",
       "\n",
       "⋅t                                           2⋅a⋅t        ⎞          ⎛        \n",
       "                     1                      ℯ             ⎟  2⋅m⋅t   ⎜        \n",
       "───────── + ──────────────────── + ───────────────────────⎟⋅ℯ        ⎜────────\n",
       "     3⋅t⎞   ⎛     -t⎞ ⎛     2⋅t⎞   ⎛     -3⋅t⎞ ⎛     -2⋅t⎞⎟          ⎜⎛     t⎞\n",
       "1 - ℯ   ⎠   ⎝1 - ℯ  ⎠⋅⎝1 - ℯ   ⎠   ⎝1 - ℯ    ⎠⋅⎝1 - ℯ    ⎠⎠          ⎝⎝1 - ℯ ⎠\n",
       "────────────────────────────────────────────────────────────────── + ─────────\n",
       "                  ⎛     -2⋅t⎞ ⎛     t⎞                                        \n",
       "                  ⎝1 - ℯ    ⎠⋅⎝1 - ℯ ⎠                                        \n",
       "\n",
       "                      a⋅t                   2⋅a⋅t       ⎞             \n",
       " 1                   ℯ                     ℯ            ⎟  2⋅m⋅t + n⋅t\n",
       "─────────── + ────────────────── + ─────────────────────⎟⋅ℯ           \n",
       " ⎛     2⋅t⎞   ⎛     -t⎞ ⎛     t⎞   ⎛     -2⋅t⎞ ⎛     -t⎞⎟             \n",
       "⋅⎝1 - ℯ   ⎠   ⎝1 - ℯ  ⎠⋅⎝1 - ℯ ⎠   ⎝1 - ℯ    ⎠⋅⎝1 - ℯ  ⎠⎠             \n",
       "──────────────────────────────────────────────────────────────────────\n",
       "                    ⎛     -2⋅t⎞ ⎛     -t⎞                             \n",
       "                    ⎝1 - ℯ    ⎠⋅⎝1 - ℯ  ⎠                             "
      ]
     },
     "execution_count": 11,
     "metadata": {},
     "output_type": "execute_result"
    }
   ],
   "source": [
    "Sum(n,m,a) # Take their sum"
   ]
  },
  {
   "cell_type": "code",
   "execution_count": 12,
   "metadata": {},
   "outputs": [
    {
     "data": {
      "image/png": "[encoded data removed]",
      "text/latex": [
       "$\\displaystyle \\frac{a^{4}}{6} + \\frac{a^{3} m}{3} + \\frac{a^{3} n}{3} + a^{3} + \\frac{a^{2} m n}{2} + \\frac{3 a^{2} m}{2} + \\frac{3 a^{2} n}{2} + \\frac{7 a^{2}}{3} + \\frac{3 a m n}{2} + \\frac{13 a m}{6} + \\frac{13 a n}{6} + \\frac{5 a}{2} + m n + m + n + 1$"
      ],
      "text/plain": [
       " 4    3      3           2          2        2        2                       \n",
       "a    a ⋅m   a ⋅n    3   a ⋅m⋅n   3⋅a ⋅m   3⋅a ⋅n   7⋅a    3⋅a⋅m⋅n   13⋅a⋅m   1\n",
       "── + ──── + ──── + a  + ────── + ────── + ────── + ──── + ─────── + ────── + ─\n",
       "6     3      3            2        2        2       3        2        6       \n",
       "\n",
       "                             \n",
       "3⋅a⋅n   5⋅a                  \n",
       "───── + ─── + m⋅n + m + n + 1\n",
       " 6       2                   "
      ]
     },
     "execution_count": 12,
     "metadata": {},
     "output_type": "execute_result"
    }
   ],
   "source": [
    "SumLimit(n,m,a) # And let ϕ tend to zero"
   ]
  },
  {
   "cell_type": "code",
   "execution_count": 13,
   "metadata": {},
   "outputs": [
    {
     "data": {
      "image/png": "[encoded data removed]",
      "text/latex": [
       "$\\displaystyle \\frac{\\left(a + 1\\right) \\left(a + 2\\right) \\left(a^{2} + 2 a m + 2 a n + 3 a + 3 m n + 3 m + 3 n + 3\\right)}{6}$"
      ],
      "text/plain": [
       "                ⎛ 2                                              ⎞\n",
       "(a + 1)⋅(a + 2)⋅⎝a  + 2⋅a⋅m + 2⋅a⋅n + 3⋅a + 3⋅m⋅n + 3⋅m + 3⋅n + 3⎠\n",
       "──────────────────────────────────────────────────────────────────\n",
       "                                6                                 "
      ]
     },
     "execution_count": 13,
     "metadata": {},
     "output_type": "execute_result"
    }
   ],
   "source": [
    "factor(SumLimit(n,m,a))"
   ]
  }
 ],
 "metadata": {
  "kernelspec": {
   "display_name": "Python 3",
   "language": "python",
   "name": "python3"
  },
  "language_info": {
   "codemirror_mode": {
    "name": "ipython",
    "version": 3
   },
   "file_extension": ".py",
   "mimetype": "text/x-python",
   "name": "python",
   "nbconvert_exporter": "python",
   "pygments_lexer": "ipython3",
   "version": "3.7.3"
  }
 },
 "nbformat": 4,
 "nbformat_minor": 4
}
