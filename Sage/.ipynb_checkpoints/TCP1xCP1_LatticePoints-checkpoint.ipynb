{
 "cells": [
  {
   "cell_type": "markdown",
   "metadata": {},
   "source": [
    "## Main Result:\n",
    "\n",
    "For the polyptych with core given by a rectangle of side lengths $n$ and $m$, so\n",
    "\n",
    "$$ \\Delta = \\text{Conv}\\left( (0,0),\\, (n,0),\\, (0,m)\\, (n,m) \\right), $$\n",
    "\n",
    "its Euler characteristic is (apparently)\n",
    "\n",
    "$$ \\chi\\left( M_{a-\\text{cut}}; \\mathcal{L}_{a\\text{-cut}}^{k}\\right) = \\chi\\left(\\mathbb{CP}^{2}; \\mathcal{O}(a)\\right)\\, \\cdot\\, \\left(\\frac{a^{2}}{3} + \\frac{2an}{3} + \\frac{2am}{3} + a + nm + m + n + 1\\right). $$ "
   ]
  },
  {
   "cell_type": "code",
<<<<<<< Updated upstream
   "execution_count": 1,
=======
   "execution_count": 11,
>>>>>>> Stashed changes
   "metadata": {},
   "outputs": [],
   "source": [
    "from sympy import *\n",
    "from sympy.vector import Vector\n",
    "from sympy.vector import CoordSys3D\n",
    "N = CoordSys3D('N')\n",
    "\n",
<<<<<<< Updated upstream
    "t, n, m, a = symbols( 't n m a' )\n",
    "init_printing(use_unicode=True)\n",
    "\n",
    "# Basis for the edge/weight vectors for the points \n",
=======
    "t, k, a, x, y = symbols( 't k a x y' )\n",
    "init_printing(use_unicode=True)\n",
    "\n",
    "# Basis for the edge/weight vectors for the points \n",
    "\n",
    "v1 = N.i\n",
    "v2 = N.j\n",
    "\n",
    "# Define a vector which is not parallel to any edge vector (non-degeneracy), which will eventually be sent to zero:\n",
    "\n",
    "Phi = t*(v1 + 2*v2)\n",
>>>>>>> Stashed changes
    "\n",
    "v1 = N.i\n",
    "v2 = N.j\n",
    "\n",
    "# Define a vector which is not parallel to any edge vector (non-degeneracy), which will eventually be sent to zero:\n",
    "\n",
    "Phi = t*(v1 + 2*v2)\n",
    "\n",
    "# Set the fixed points of the action; P belong to the interior,\n",
    "# and Q to the exterior:\n",
    "\n",
    "# Interior points:\n",
    "\n",
    "def P12(n,m,a):\n",
    "    return Vector.zero\n",
    "\n",
    "def P23(n,m,a):\n",
    "    return n*v1\n",
    "\n",
    "def P34(n,m,a):\n",
    "    return n*v1 + m*v2\n",
    "\n",
    "def P14(n,m,a):\n",
    "    return m*v2\n",
    "\n",
    "# Exterior points:\n",
    "\n",
    "def Q12_1(n,m,a):\n",
    "    return -a*v2\n",
    "\n",
    "def Q12_2(n,m,a):\n",
    "    return -a*v1\n",
    "\n",
    "def Q23_2(n,m,a):\n",
    "    return (n+a)*v1\n",
    "\n",
    "def Q23_3(n,m,a):\n",
    "    return n*v1 - a*v2\n",
    "\n",
    "def Q34_3(n,m,a):\n",
    "    return n*v1 + (m+a)*v2\n",
    "\n",
    "def Q34_4(n,m,a):\n",
    "    return (n+a)*v1 + m*v2\n",
    "\n",
    "def Q14_1(n,m,a):\n",
    "    return (m+a)*v2\n",
    "\n",
    "def Q14_4(n,m,a):\n",
    "    return -a*v1 + m*v2\n",
    "\n",
    "# Function for the contribution from each fixed-point:\n",
    "\n",
    "def f(P, edge1, edge2):\n",
    "    return exp( Phi.dot(P) ) / ( (1 - exp( Phi.dot(edge1) ) ) * ( 1 - exp( Phi.dot(edge2) ) ) )\n",
    "\n",
    "def g(P, edge1, edge2, edge3, edge4):\n",
    "    return exp( Phi.dot(P) ) / ( (1 - exp( Phi.dot(edge1) ) ) * ( 1 - exp( Phi.dot(edge2) ) ) * ( 1 - exp( Phi.dot(edge3) ) ) * ( 1 - exp( Phi.dot(edge4) ) ) )\n",
    "\n",
    "# For each of the right-angled triangles:\n",
    "# Delta34 is the bottom-left simplex:\n",
    "\n",
    "def Delta34(n,m,a):\n",
    "    return f( P12(n,m,a), v1, v2 ) * ( f( Vector.zero, -v1, -v2 ) + f( -a*v1, v1, v1 - v2 ) + f( -a*v2, v2, -v1 + v2 ) )\n",
    "\n",
    "# Delta14 is the bottom-right simplex:\n",
    "\n",
    "def Delta14(n,m,a):\n",
    "    return f( P23(n,m,a), -v1, v2 ) * ( f( Vector.zero, v1, -v2 ) + f( a*v1, -v1, -v1 - v2 ) + f( -a*v2, v1 + v2, v2 ) )\n",
    "\n",
    "# Delta12 is the top-right simplex:\n",
    "\n",
    "def Delta12(n,m,a):\n",
    "    return f( P34(n,m,a), -v1 , -v2 ) * ( f( Vector.zero, v1, v2 ) + f( a*v1, -v1 + v2, -v1 ) + f( a*v2, v1 - v2, -v2 ) )\n",
    "\n",
    "# Delta23 is the top-left simplex:\n",
    "\n",
    "def Delta23(n,m,a):\n",
    "    return f( P14(n,m,a), v1 , -v2 ) * ( f( Vector.zero, v2, -v1 ) + f( -a*v1, v1, v1 + v2 ) + f( a*v2, -v1 - v2, -v2 ) )\n",
    "\n",
    "# And their sum:\n",
    "\n",
    "def Sum(n,m,a):\n",
    "    return Delta34(n,m,a) + Delta14(n,m,a) + Delta12(n,m,a) + Delta23(n,m,a)\n",
    "\n",
    "# Take the limit as t -> 0 to get the Euler characteristic(?):\n",
    "\n",
    "def SumLimit(n,m,a):\n",
    "    return limit(Sum(n,m,a),t,0)"
   ]
  },
  {
   "cell_type": "code",
<<<<<<< Updated upstream
   "execution_count": 31,
   "metadata": {},
   "outputs": [],
   "source": [
    "# Delta34(n,m,a) # The bottom-left simplex"
   ]
  },
  {
   "cell_type": "code",
   "execution_count": 32,
   "metadata": {},
   "outputs": [],
   "source": [
    "# Delta14(n,m,a) # The bottom-right simplex"
   ]
  },
  {
   "cell_type": "code",
   "execution_count": 33,
   "metadata": {},
   "outputs": [],
   "source": [
    "# Delta12(n,m,a) # The top-right simplex"
   ]
  },
  {
   "cell_type": "code",
   "execution_count": 34,
   "metadata": {},
   "outputs": [],
   "source": [
    "# Delta23(n,m,a) # The top-left simplex"
=======
   "execution_count": 21,
   "metadata": {},
   "outputs": [
    {
     "name": "stdout",
     "output_type": "stream",
     "text": [
      "       -2⋅a⋅t                -a⋅t                               \n",
      "      ℯ                     ℯ                        1          \n",
      "─────────────────── + ────────────────── + ─────────────────────\n",
      "⎛     t⎞ ⎛     2⋅t⎞   ⎛     -t⎞ ⎛     t⎞   ⎛     -2⋅t⎞ ⎛     -t⎞\n",
      "⎝1 - ℯ ⎠⋅⎝1 - ℯ   ⎠   ⎝1 - ℯ  ⎠⋅⎝1 - ℯ ⎠   ⎝1 - ℯ    ⎠⋅⎝1 - ℯ  ⎠\n",
      "────────────────────────────────────────────────────────────────\n",
      "                      ⎛     t⎞ ⎛     2⋅t⎞                       \n",
      "                      ⎝1 - ℯ ⎠⋅⎝1 - ℯ   ⎠                       \n",
      "⎛        -2⋅a⋅t                                           a⋅t        ⎞     \n",
      "⎜       ℯ                         1                      ℯ           ⎟  k⋅t\n",
      "⎜───────────────────── + ──────────────────── + ─────────────────────⎟⋅ℯ   \n",
      "⎜⎛     2⋅t⎞ ⎛     3⋅t⎞   ⎛     -2⋅t⎞ ⎛     t⎞   ⎛     -3⋅t⎞ ⎛     -t⎞⎟     \n",
      "⎝⎝1 - ℯ   ⎠⋅⎝1 - ℯ   ⎠   ⎝1 - ℯ    ⎠⋅⎝1 - ℯ ⎠   ⎝1 - ℯ    ⎠⋅⎝1 - ℯ  ⎠⎠     \n",
      "───────────────────────────────────────────────────────────────────────────\n",
      "                            ⎛     -t⎞ ⎛     2⋅t⎞                           \n",
      "                            ⎝1 - ℯ  ⎠⋅⎝1 - ℯ   ⎠                           \n",
      "⎛                              a⋅t                   2⋅a⋅t       ⎞       \n",
      "⎜         1                   ℯ                     ℯ            ⎟  3⋅k⋅t\n",
      "⎜─────────────────── + ────────────────── + ─────────────────────⎟⋅ℯ     \n",
      "⎜⎛     t⎞ ⎛     2⋅t⎞   ⎛     -t⎞ ⎛     t⎞   ⎛     -2⋅t⎞ ⎛     -t⎞⎟       \n",
      "⎝⎝1 - ℯ ⎠⋅⎝1 - ℯ   ⎠   ⎝1 - ℯ  ⎠⋅⎝1 - ℯ ⎠   ⎝1 - ℯ    ⎠⋅⎝1 - ℯ  ⎠⎠       \n",
      "─────────────────────────────────────────────────────────────────────────\n",
      "                          ⎛     -2⋅t⎞ ⎛     -t⎞                          \n",
      "                          ⎝1 - ℯ    ⎠⋅⎝1 - ℯ  ⎠                          \n",
      "⎛        -a⋅t                                           2⋅a⋅t        ⎞       \n",
      "⎜       ℯ                       1                      ℯ             ⎟  2⋅k⋅t\n",
      "⎜─────────────────── + ──────────────────── + ───────────────────────⎟⋅ℯ     \n",
      "⎜⎛     t⎞ ⎛     3⋅t⎞   ⎛     -t⎞ ⎛     2⋅t⎞   ⎛     -3⋅t⎞ ⎛     -2⋅t⎞⎟       \n",
      "⎝⎝1 - ℯ ⎠⋅⎝1 - ℯ   ⎠   ⎝1 - ℯ  ⎠⋅⎝1 - ℯ   ⎠   ⎝1 - ℯ    ⎠⋅⎝1 - ℯ    ⎠⎠       \n",
      "─────────────────────────────────────────────────────────────────────────────\n",
      "                             ⎛     -2⋅t⎞ ⎛     t⎞                            \n",
      "                             ⎝1 - ℯ    ⎠⋅⎝1 - ℯ ⎠                            \n",
      "       -2⋅a⋅t                -a⋅t                                  ⎛        -2\n",
      "      ℯ                     ℯ                        1             ⎜       ℯ  \n",
      "─────────────────── + ────────────────── + ─────────────────────   ⎜──────────\n",
      "⎛     t⎞ ⎛     2⋅t⎞   ⎛     -t⎞ ⎛     t⎞   ⎛     -2⋅t⎞ ⎛     -t⎞   ⎜⎛     2⋅t⎞\n",
      "⎝1 - ℯ ⎠⋅⎝1 - ℯ   ⎠   ⎝1 - ℯ  ⎠⋅⎝1 - ℯ ⎠   ⎝1 - ℯ    ⎠⋅⎝1 - ℯ  ⎠   ⎝⎝1 - ℯ   ⎠\n",
      "──────────────────────────────────────────────────────────────── + ───────────\n",
      "                      ⎛     t⎞ ⎛     2⋅t⎞                                     \n",
      "                      ⎝1 - ℯ ⎠⋅⎝1 - ℯ   ⎠                                     \n",
      "\n",
      "⋅a⋅t                                           a⋅t        ⎞        ⎛        -a\n",
      "                       1                      ℯ           ⎟  k⋅t   ⎜       ℯ  \n",
      "─────────── + ──────────────────── + ─────────────────────⎟⋅ℯ      ⎜──────────\n",
      " ⎛     3⋅t⎞   ⎛     -2⋅t⎞ ⎛     t⎞   ⎛     -3⋅t⎞ ⎛     -t⎞⎟        ⎜⎛     t⎞ ⎛\n",
      "⋅⎝1 - ℯ   ⎠   ⎝1 - ℯ    ⎠⋅⎝1 - ℯ ⎠   ⎝1 - ℯ    ⎠⋅⎝1 - ℯ  ⎠⎠        ⎝⎝1 - ℯ ⎠⋅⎝\n",
      "──────────────────────────────────────────────────────────────── + ───────────\n",
      "                 ⎛     -t⎞ ⎛     2⋅t⎞                                         \n",
      "                 ⎝1 - ℯ  ⎠⋅⎝1 - ℯ   ⎠                                         \n",
      "\n",
      "⋅t                                           2⋅a⋅t        ⎞          ⎛        \n",
      "                     1                      ℯ             ⎟  2⋅k⋅t   ⎜        \n",
      "───────── + ──────────────────── + ───────────────────────⎟⋅ℯ        ⎜────────\n",
      "     3⋅t⎞   ⎛     -t⎞ ⎛     2⋅t⎞   ⎛     -3⋅t⎞ ⎛     -2⋅t⎞⎟          ⎜⎛     t⎞\n",
      "1 - ℯ   ⎠   ⎝1 - ℯ  ⎠⋅⎝1 - ℯ   ⎠   ⎝1 - ℯ    ⎠⋅⎝1 - ℯ    ⎠⎠          ⎝⎝1 - ℯ ⎠\n",
      "────────────────────────────────────────────────────────────────── + ─────────\n",
      "                  ⎛     -2⋅t⎞ ⎛     t⎞                                        \n",
      "                  ⎝1 - ℯ    ⎠⋅⎝1 - ℯ ⎠                                        \n",
      "\n",
      "                      a⋅t                   2⋅a⋅t       ⎞       \n",
      " 1                   ℯ                     ℯ            ⎟  3⋅k⋅t\n",
      "─────────── + ────────────────── + ─────────────────────⎟⋅ℯ     \n",
      " ⎛     2⋅t⎞   ⎛     -t⎞ ⎛     t⎞   ⎛     -2⋅t⎞ ⎛     -t⎞⎟       \n",
      "⋅⎝1 - ℯ   ⎠   ⎝1 - ℯ  ⎠⋅⎝1 - ℯ ⎠   ⎝1 - ℯ    ⎠⋅⎝1 - ℯ  ⎠⎠       \n",
      "────────────────────────────────────────────────────────────────\n",
      "                 ⎛     -2⋅t⎞ ⎛     -t⎞                          \n",
      "                 ⎝1 - ℯ    ⎠⋅⎝1 - ℯ  ⎠                          \n"
     ]
    }
   ],
   "source": [
    "pprint(Delta34(k,a)) # The bottom-left simplex\n",
    "pprint(Delta14(k,a)) # The bottom-right simplex\n",
    "pprint(Delta12(k,a)) # The top-right simplex\n",
    "pprint(Delta23(k,a)) # The top-left simplex\n",
    "\n",
    "pprint(Sum(k,a))"
>>>>>>> Stashed changes
   ]
  },
  {
   "cell_type": "code",
<<<<<<< Updated upstream
   "execution_count": 2,
=======
   "execution_count": 17,
>>>>>>> Stashed changes
   "metadata": {},
   "outputs": [
    {
     "data": {
<<<<<<< Updated upstream
      "image/png": "iVBORw0KGgoAAAANSUhEUgAAA5wAAADHCAYAAAB1E1x4AAAACXBIWXMAAA7EAAAOxAGVKw4bAAAgAElEQVR4Ae2d7bXcNNeGT7JSQBI6CB3wUQGkA8hTAaGDZOUX778s0gFQAUk6ACqApIPwVECe08F578vHGjwef0ge2SPbt9by2JZkae9LGstbkuU7Nzc3V3YmYAImYAImsCUC//d///eT9PlN+7db0su6mIAJmIAJrJuA2qX70uAPbV/p+Hrd2sRJfzcummOZgAmYgAmYwDoI1MbmQxub6ygvS2kCJmACeyJQG5nfSed3Osb43Ly74xHOzZexFTQBEzCB3RBQ4/1Uyn6v/ee7UVqKSt+vtePB5ZG2T7W9kd/v2kc5xeW659p/H3WBI5mACZhAJgJ7vf9Ib9qrx9p/mwllscl4hLPYorFgJmACJmACKQTUaH+m+D9q+yrluo3ExcB8q+2V9Hmu7bdEvTBYPyRe4+gmYAImkIPALu8/ul//LHj3tf8mB8SS07hXsnCWzQRMwARMwAQSCPyiuD+r8d7FOzEtLs0RXUYrjxiICT3pOEZBP9E5RmnldPxMB4xs/q7jb7T5vddbNP41ARPIQED3FN9/+jkyuvlfMeL+e3Tf7r9kfSGbnlKrgvMUo/XVyeIlVr3y1LPiS8kC7o2A/pf0EL/R9mDLjXZMuUp/Rjd/1L6aUqs9D3ufal8Zmdr/T9uDZlo6/6CNqbh2JmACJpCNgO4rvv+M0BQjFrlj3YHNTq3d+ggnU4yqRlV7enX/p+3OSLk3g3c5xN8E4ONOAq4XnVjsaQIXJcBU2le612+mh1i6VJ1bA1RP3tPUNTy48C7m+8Z1jF5WDzLyZ9rxX42wK/nRPm6GW1M3H48TqMv/iWLu7t3ncTqOkYGA7z/jEGm/6PR7pO3v8ejzxVD+75T6t7nl2LrB6SlG89XJzaasP5mnfmy2dK3YFgnoP4sRhXH2ckv61Q0+D2tRTvF5aMHYvNb2TBvvc+IwKD9WR1dXdJjxuZjm1Fn8KiNU/k+18V6R3Q4IqKz571D+OOqJnQnkJuD7zwhR/Q//1saMFO73h9cdRi7LHiwZKKvPkCd34ps2OFvAaIgPQ9UKOxniV/ihkBVOTzm9fdGNfe7CcXrLE3C9WJ75lnJU/eFm7ZGC5Qv1hbLc9PsvY0hV9+iVxnjA0CQ6DwzB4KRteyH/PwmQY+rsdXV0+8NoKCsl0i5Gr2zbuN6HKyWgMqfs32u/+UVLVlpEWxDb95+4UuSVkKrTMC76LLHofGrOjsmWyeoMTt0UPcUoW/HvI6HEOkMHg6ee7aNqZNVS9cwjBVmJJiXGw/IqOwdVb+ikwGBmhViOGZ1MHmHUNc0ZPUrmX6cwFgHqXQhI4Rinq+T3r5Y+MgETuBQB3UN672O+/0SXCp191Yq1NbPoC4ciKi06Emkf6JRkJgtGJY73+qv7vvbYVhzTltIGYfj+qn0243ONBmdSw1hD8xQj1Zy9OtWBlDrDTfNjzYo/paee7bXiJOpd35g9UpDI7dzo4o6hj1vdyJxk534T3pepGnb50cudbHACwM4ETMAElibg+1ge4uLItFqeVx9r6+0gTMmtLhsuoV1hwx6qZr5oz+JxLC4X8iWM596X2mfJX2kdXJEGpxTt7Sk5SB5xoHQ8xSiC0xai5KozYuGpH1uoENZhTwS+QFndA2io1+b4jAudFGyhhzn1+5lr09nymoAJbIuA72P5ypOO06pNy5TkQ6XzWhujnBiWzc7M5gBLyI4O3Fk6b4szOAUjW4+v0vIUo1CFNrzPXGfo1ent2VFeKaOlG6Zu1UygGAL0Bmeb9rOwVvQmv9Z9hYcBZlbQs3y9sAybz05M4czqj82Hrc3rbQXzE3Bd6mTq+1gnlkmevFpBe5DFqb5WHbHaf6kEfw2J1vWYqbOH9qbLL8TPsS/O4JRS7inJUbL7SsN1Zl/lbW1NoEmAh51ZemSbmcx0TAdrNaVppvSd7C0BOLPZmcC5BFyXTgn6PnbKZKpPMBBZKTZnRyrt5MuGUKxVwsjnlfIJeR1GN+VHmdJJl02Gu2RWmAPKRymJhY/y9Pi6V7KwQipMHNeZwgrE4pjAggRoGNc4nRZEGMq0cwen9o7FGuxMwARMYC0EfB/LV1KhLeMViyxObQppsRhR03jkufkn+bFIUHCsXv5nfcJCdkGWEH7W/t5ZV89zsXtKZuCqSkXl2uqUIteZzHVm4/UlMy0nVwABpiGt0dHLzAgnDwTX2riXNXuhdWpnAvMRqOseq1OGZwQ6PP6Rf/ikznyZO+WtEPB9LF9JBiPvYWyS+q/SbmAg/lNfg+FYLZZan9O+tF8V+0l+/9H2QdeHMPz4HCQDfqxQS5uUzZVocIaekgD9SkrTILOYi910AlRIti0615n8pbrl+pKfllO8CAG1C6EXmPcfV+ckPw06D/t2JnARAqqDPGv5+eoi9LeRqe9j+coRltpIMOp5XXHpKMJQ/FbH1Qim9syawQCt/tc65xmZ7eDkd9KhVF8/W3tUosHpnpJDlfBBJAHXmUhQjjYfAd2sMX48UjAf4q6UoxrlrgvtZwImYAImYAKFEvhkTK76mYNVzRmVbE+Xxb8oV5zBKWju8S2qipQvjOtM+WW0BwlVDz1SsHxBh2lHtBujTmV0MxrJEYomoDK80yegwujpp8e/7ap6ovCu3ns+SUOnZa9TuOtNL511BqhMe+sRGincdWmdRVu01GP1riF8TGcqdRTH+5nPbg+vMFT5fvzRiGYddtFdcQbnRWk4cxMwARMwgTURCFNpYxrnq4TGfk0MLGtNQOXbZVBS7iyMwRoGJ9PIYuDpukHjJCYNx1kXAZW569K6imyP0tK59nbqfW1pYDY4lybu/EzABEzABIogoIYaQ4QRrsOaAUsKpnx5YMBYZjo2Cz28kd+hZ1rH+LP4w9HDr86faRs1nhTn0vrxLtEX2nB8F5tVEQ9Tv3TcqR+RFRalI3GXdpLtolxT9ZW8m65n8JCOnXVJ/sXWo1ru1dQlsZz1/6z0V8Mi/AdnrHexC+GFVWWDSMXujwxOgfO0kWKL6l/BVE69va0K8zSQf1Ht/miorgDH9WX3VWQWAGP1LmOmYSptmFobnbRkZCW+v7U/GJs6xvh7oo13YjCQ5nYYmA/IpM77fzps3t8xFE4ePBT3lTaMtyNDlHSCU1gJ+rHiKQYzRj0Pk3wzucm1Uz90UPxRHYm3tJNcJ1yRQf5L150U1bdez2DRWZdKrUcILNlO6lLh9Wi2/3MXi5pRyf8rRJyr3oW2jTz6HG0XU2hPnHh+oy2sPnsSfgmPe81MJVyzoWsG+XglBFSGnQ8gVD6p4ClFKynHpcR0fVmKtPOZiUDSlNogg+o9DzGPtT+8u6djeu95eMARvoRrGl+M0BweMiQP7+RwP/9dx10PDxgRnSu4y78U/Vg5kVUX0Y0l+MM7R1fyG9NP0asR304dCVzaSeYTrsgg/0vUnRT1N13PIupS738lBWLOuF11aQX1aJb/cxcLWJfOQ/KN3cOS653S5F6JC23b7Vn3Lx0AR8/8up57FP5sRbm7Q9JIcBq5oPxQ1NnCyF/boZEKGcmPgh51indRHZT/17UMTOugRzo80FSy67xTPwIVFqXjKIQZIki2i3KdolIf61jOJeh8rg5TuOW4pgR2sXpI1ln/s2tiEZiVWu8kFwYaG9NRUxyN8VG7orQYhWOa6mHEMyXBKXGVXzMvZGoawNWUWcVhtPWkp1p+TL2lrvKA0Xal6BeMTdo9HqD+CoJK7kH9iDeiY0hqyf0J11rOxetOitLiuPV6NliXCqxHFN9JXZKcpdejuf7PJyxW8r+ao96F+znt2qBTfflZEfheJp1yT9l0zp42o/mfH0xnqcCjEc5mprXgl55uhEg0VGueUjRpKguKqww8pQgQ+dza6xIkJuuQD2NaSgXdS2IFn+0/28UCoeRPI/NE21JTOck2xZVc72hYUztGMdSOeoZTYKTErcv2ha6hHaOceWjjQeHgdI7xW009DZ71dWMPHZXRqWvaBmkR+kkHOlQpn5851p6PjD/QBoOKRdB3YN+n48AlswUtxhUNakaddUdh8Bz6fib3scP7wHV6W61nMXWppHpEcSxWl3LVI+qctjn+z4uxqP8H1Jez/1c116n3aETpcqEtO3TOdUUKfpKhMnrDecn7e13C1RAvPt1Ickweri5FB/E9ZyoLxZM8JN9Vprn8uriStvyLnlIk+VZfl87RIVf5p6YjmbmxX/xekij3LP/ZLhbIJf/N/ncSuU+NTsOMsR7lxJsGfewhISqtsUh1mb9TvOZHud/o/GBwKg69+xibGGHNBU4w8quHDvnTa324Rv7BsWDEY20Hg1PxitBPcvDfx8gOr+pw3nQx+hH/RMdmIpHHlPdZZb4kV3Sq+fXWHYXz4B/daaL4m6xnsJKLqUs56hF5raou5apHdTrZ/89Kd7H7FYWXiwdpyc1R775Uugz2nXW/qqQr7Odujzwnw9tSfvGhfuV5znB1KTrQKASHTNFTprhIDKpeOe3vh0QuvD/hWsu5eP1I4bCRunTO/yEFV864J/VFZVF6XZnrP3vCYgf/nZx1qS8tHsrvJ9wjecCJeT+mL78UfxbJob6zMTpAHTh8kFvnyE5n2P90zKJ9TQPivc6v5M80qaORKvxrx0MJ+jRdEfpJbmRjxB5jGR0ZUaDzKTxIxeiHXl064h/tlCfvwXYZ7NFpKOKSXJFrsO6kCC7dN1vPag4xdensekReK6xLWeqR9J7r/7za/5Wqwxz1jg7oKl3q25bcvR5lvlblajZ8PdHO91Y+95VK39A2YVTyIdc3TaIIHYLg0nPqVBaS6NMxJL/kfjGuKDVSP7hRRU0pqtNZdV06U4cl60gzr8XqS666EoRXern/s4uxQIdcPOp0pv53As4596+VOGVFb/NhpG8gw5h25eRyceBBAINxzDXfn0Gm17oWo/Gjtpc6PrDUcXM0/ShdhcWMYJFm25WkX6+RF6kfunXp2NZ5ifNJXBFMumavOykKK/+t17Op/5UUjDnjTqpLBdSjOf7Pk1hQGAXwmKPe0WYsYn/lrNAxaZ0YnCpAHuKvYy4+N47yoqL1ThlRGOBXO6Uo8JGePKRMnTJFMjmmglCmZ5XrknUDpcfqh8Jj/uwkhdtCXZqkw636yb+rqi+Z6wp1L+t/Vuktdl+lpJXf4L1V4bP/d5Jr3MQLpAtTUemUO5paOpAcusMnySkPep3JI8WRDws6kOccjnrVTntL+sGsS8c5WI6lOYkriRZad8b0bYZ3lcEkHhdk0aVDU8clj9fGLiebdjlMYoFAF6xLKTza+vZeK314xsP1zWi5DV3p790OuYGzVI/i2FA/DTyVapVTimrZz53KQjI8/FMuk50Y7npKkcCtvi6doUNyvVlhfRm7l0QzkO5z/GeXvK+iazYeSmvqfyeaeYaIb5RG1HucKl/0Oet+miAvDw6Mbh2c8o8ZJT3EHzlAj6NF9TamH+qf6DjCZJbghbmiw9x1J4XTSRkszCMHixMdUgDkjLtCdjnVPyqHhVmgR466lMLjSN+RC+nQ5PULjPDNuXsdGtEji4GT5AQo+5SRGvrY0PLHDkFL0uHcqSyo16Vjh9qze03iilRz1I8UbTdSl7gJTfk/pKDKGXdSfSmgrszxn53EgsIogMca6l01rVasvtbGA8WYY1GGsOJiFZdzHfD/opc5vG/5j/yrd6erSOk/vLPPCCdpX2ujHrzUlsvxgNJ1T9iKfnDq0zEXw5R0Trhy8UrrTorefWVwwqNgFn06pHDIGXdN7HLq3VUOJyzIsOC6lMKjS9++6xlc+64vcO3+XQbnpOFtVQx6jQGb4mh8z51uREPe7g1Ymw5jzLp0HLtmjvBJXBHkgvUjhUMX50k6X1DfLh1SGOSMuzZ2OXVvl8MkFgh0wbqUwqOtb8q1Z8cVI6bVYhgyetjbYdDIiHgYaod3wHU9ZXQ4b8SdfIhcurjLIJycZrhQadN+XtVyB++wX71+tW5DOgZdl9yfcK3lXFXdSQG2hXo2okMKjpxxT+pS/V9ezT0oFcZAOZywIO218xjQ9wSd4rKwGjrHrENwcv0aPO62hZSya5tuxIOOpxS1C3KG84XrBhpcfOrDwjrn0Pfk/zBDVYhKcoXsovSKjHRUDguzQMQcdSlS1Srakb4pF+aKK8Y8qDEyeTSFtSt9xYEPK9si91pdeEg7kX8j+qFXr44nSi/gsSGuKbR6y2BFPHp1SAGRM+6K2OVUu7McNsyiU98eoCyeutnRTXTuGuHE/2R4WxWChpme2tKmG/UNV69JB5gPuT4dh66ZK+yEKxkVXD9SOPRxPtG5YH37dEjhkDPumtjl1LurHE5YkGHBdSmFR5e+UddL/9Cm9K6AGJXQbSSMTt5fHR3lVL6sJssMm6OVYxPyulhUyczUK77RzMhap1PYavVDoRgdOxWf2XPtXFPwxJRB6TxidEhhkjNu6ewy6zp4z9oai5R6p7iMbvJ8sOrRTck/3Jbf3Nxctbcffvjha20/tv1LO5eM97X91iXXWnTokr3pN6RjM95Sx1vh2uY1xHktOg/p0NZ3qfO1sMvJo68ctsqiT99Yprr+G23PYuOPxVNa77Q9HYsXwhX3fjheyz5F5pS4Jelfutyly5ejLFN0TImbQ7bYNEqVqyn/GmRsyjvlOFbH2HhTZFjymlg9FO+Rtv+xX1K+OfKSDoNt+d2uHgxZqWuZbtQ7XL0iHbqKoOnXq2Mz0lLHG+LaRtbLeUU69+rQVnap8xWxy4mksxw2zKJT35xAE9P6SvH5DFXUdFnF4z3LVbkUmVPilgShdLlLly9HWabomBI3h2yxaZQqV1P+NcjYlHfKcayOsfGmyLDkNTF6KA7vqP+m7Tsd985WWVLuOfPqNDjJUMozfZYpOdVL+3MKMSVtyTU4PE+apeswpneMjmNpzBG+dq5tJjGcS9c5Roe23kudl84uJ4exctgaizF9c7KNTUsyYUAyxZcpp0W2X7G6OJ4JmIAJmMBmCfA5L17rWPVU2tjS6TU4SUAQsq6WFStUZLzXko+R2EFXuA6DsiswSsexROYIXznXNpIozoXrHKVDW/GlzgtnlxPDaDlsjMWovjnhxqYlxvQW80mSqFHO2HQdzwRMwARMwATOJaA2is5QjM0caxecK84i199hHq+dCZiACZiACVyCgBrcb5Qvq8ue873LS4juPE3ABEzABEzABERgrC23welqYgImYAImMDsBNUY/KRNWsWu7h7XHx3aAzt/rOkYq7UzABEzABEzABC5MYGpbfkerCnmI88KF5+xNwARMYIsE1DDdGdNLcZJGOBXfbdYYVIebgAmYgAmYQCYCOdryezGJZJLXyZiACZiACZjAWQTcZp2FzxebgAmYgAmYwOIEBhcNWlwaZ2gCJmACJmACJmACJmACJmACJrAZAjY4N1OUVsQETMAETMAETMAETMAETMAEyiJgg7Os8ihKGk1d28wnBaTLu7Y+7fMp8HOkMSXfnNdIh/vaWJ6bjW8Xdn6/UP6zMMypi9MyARMwgaUI6J64mTZyCrO52oS1c5X8k9tUymHt+k+pS75m+wRscG6/jCdpqBveM1342aSLC7uImz+6aM+3+ZqOTzGg5yS3IUYYms/rjRVBWS30XROKwmZh2MzDxyZgAiawFgIbuv9PQj5Xm7ARrue0qZTHWc8mkwrUF5nAzARscM4MeI3J64bPqpGfaP+2T36FYcB90IYhUrrjUwzv20JK9t/x0/5pO2zsXNcMMlL4mvg8lbzNz1X8KP1p8JodDtkZjjF2+G4IXEtTNjsTWAWBjd3/pzLP3iZsiOvkNpXCEIfJzyZTC9PXmUAGAoNtub/DmYHwlpLQjQ4D8g/tP2/rVYf9In9GwL7QhkHyQP5FPixKLqY7fa8N4xAZuYn/Kv8j41PnjOZ9FauH4nUyqv1Xw0c6V05yY3C/DvprD7cP2qgDcMvOUGnamYAJmMDqCNT3+ZM2svZf3f0/tQDq9iF7m7AlrtLl7DaVclE6Sc8mqWXp+CawJIF7S2bmvFZBgNEtPtB+4nTzw/ioPsKu4+Kn3EpGptAyVZSe2Jfa943Yoi9604jGuE5GSn9VfIKikvvncFzv4fC3/INhPgfDVpY+NQETMIFVENjU/T+VuNoFt6sj0DK1qeSS+mwyIpmDTeByBDyl9nLsS835ScfNslRZY+ViJLaaotJ1Qa0vejNyGeO2yKjSWwxgxYhwe4Q7N8MYzo5jAiZgAqUR2Oz9PxF07jZhk1yntqmUha6lMzjl2SSxCB3dBJYj4BHO5VgXn5Nubhga7YV1ipd7SEDpxOjmtfaMPg459H6irT3ad3TNFhkFBaUbU2npvf+8yUvHWRmG/Lw3ARMwgTUR2OL9XzphOHLfH3PfK271fJC7TdgiV2BKr3PbVJKJejYhop0JlEzABmfJpbO8bI+VZe9I4PLijOeoGzqjki+0/VPH/lR7poAGA/PQC1vHZTGcMFW0vqTaoTf6DxqcdZytMboSExpGuMEgnLOnscvNkCzsTMAETGBtBDbXRuoeT3tY3fcTCiN3m7AqrmI29txB25mjTaVIYp9NEorPUU1geQI2OJdnXnKOLATU+f5miULrhs7IG/J+q+PKiNSehhAD9Lk2HAbon9XRrf/L+ri9Y5Ec0htzm2NUN4xwxOCEH473OOdiWGXgHxMwARNYGYHN3f8n8t9tu6o2cvS5I2ObSvHEPptMLEpfZgLLELDBuQznteRCr93HNQhb39B/k6xM82mOWNIY4B8chhRxWDWOFWrDyGcID3v0pkdyzG2RESvhoRf7gxOrsIhSboaHPHxgAiZgAisisMX7/xT8uduEVXBVm8gzQsxzR642lbKJfTaZUo6+xgQWI2CDczHUq8jooaS8nkNS3ahpUP7Qxj7WHUYuOy6gwcPdV9qsmIv7RNtvOj9MedUxxmgwnIjT55g6GiPbLIxm4IOesYwe9EHBfwaGQ9k5zARMwARKJbC5+/8U0DO0CWvhunSbSvHEPptMKUpfYwKLEbDBuRjqfWekBgpDtr3y6TlQGMl8q3RfnZNI49pZGrxG+oOHM/Ahv9yMBnVQ4EUZjgnncBMwARMokcBG7v9daC/aJszAdek2FaYXZdhVqPYzgSkE7k65yNdslgBTN2JG+UoBEN7NzCEPeqP/mNszozE2sQzH0nG4CZiACZRIwPf/tFKJbRPWxDXnc0cMzViGMWk5jglcjIANzouhLzJjpm7EvMdYgvDIyhTaE6deTT7vkuroRSTNMbdnRmNsYhmOpeNwEzABEyiRgO//aaUS2yashSty5nzuiKEZyzAmLccxgYsR8JTai6EvMuP3kurLSMnCTZeb4XXkNTmj8d2wo3czZWjSE4h/zDfF2rIw3Rf9x1wso0vzQY/cjMbYxDIcS8fhJmACJlAiAd//00oltk1YC9el21RoxzJMKxnHNoGFCdjgXBh44dn9KvneDMkooy6E8y4D7o386PVjsZ6xb1hWF+T4IS9tLBhEA8Cy4TjOj4zQW++oX/SJuXaQkfIvgg8aS5bcjMZAxjIcS8fhJmACJlAiAd//00oltk1YBdcLtKnQjmWYVjKObQILE7hzc3OzcJbOrmQCuqFivA2tDluy+JNkk87VUufa822xUbdHRmNQUhmOpedwEzABEyiRgO//caWS2iaY6ynXVIanKdjHBMoh4Hc4yymLUiRhxDBmpK8UeXPI8VyJoHes2yOjMTapDMfSc7gJmIAJlEjA9/+4UkltE8z1lGsqw9MU7GMChRCwwVlIQZQihnrUmBb7qO5ZK0Ws2eSo9UTf6OnAe2M0Bn8Kw7E0HW4CJmACJRLw/X+8VKa0CeZ6zHUKw+MUfGYCZRGwwVlWeZQizbcSJHzguBSZ5pIDPaeM6O6J0Rj7qQzH0nW4CZiACZRIwPf/4VKZ2iaY679cpzL8NwUfmUBBBPwOZ0GFUZIode/aN9q/KkmunLJIt2dK7632LHqU7PbAaAzKuQzH0ne4CZiACZRIwPf/7lI5t00w12rBv7OeTbpLxr4mcFkCNjgvy9+5m4AJmIAJmIAJmIAJmIAJmMBmCXhK7WaL1oqZgAmYgAmYgAmYgAmYgAmYwGUJ3IvNXtMcmE/Otxbfxl7jeCZgAiZgAiYwNwG1S/eVxx/avtLx9dz5OX0TMAETMAETMIF4AlEjnLWx+dDGZjxYxzQBEzABE1iGQG1kfqfc3ukY49POBEzABEzABEygEAKj73Cq8X4qWb/X/vNCZC5KDHF5JIGeaz9lpdOidLEwJmAC5RDQPeVrSYPxxD3mU21v5Pe79lFuj/cm6Ux79Vh7Vru0MwETMAETMAETKIDA4AinGu3PJCMf4/2qAFlLFYGHwg+lCme5TMAEVksAA5NVlFkpmg+A/5aoye7uTWLF93Tva/9NIitHNwETMAETMAETmInA2Ducvyjfn9V47/adGOlOjzmOkYZPdM6DX+V0zNLVjGz+rmM+IeL3W2/R+NcETOB8As1ZJYxyHt2Hdb/xvambMaOb/xUf7stHzLqj29cETMAETMAETGBOAr0jnGqo6SFmhPPlnAKUnHb9QPep9hjdjDKEB7xK7NrvSnumHNvYLLkwLZsJrIyA7inN78My0+QwTVRh3It8b+ooU7HByHytjQ5TOxMwARMwARMwgQsTGBrh5AHnVd14X1jMfNlLH0YKDqOUHSk335Ni9LJ6yNN1GN9/NePLj1FP96A3oezouC7/J1LZ7zjvqNyXVlX1jBXCeU/8fSNv35saMDoOab8+iNkjbU3DvSNqmpfS477/or6K9gT3nfyztQVK653S/Da37JWk/jEBEzABEzCBhQl0Gpxq5DCuaEg3N7pZN+A8rMU4Hiw+1hF5H4rPwjSnzuJXGaHyf6qN94fsdkBAZc1/hPLHUU/sTCA7AdUzDCeMzWttz7Qx0wLne9Mth85fcfpbGwssca8f6mDsvH7E80elfWhDdEyHAAYiCzud7bqgUdcAACAASURBVJQeZfuZ9lkN5bMFcwImYAImYAImMJFA35Raem/9/svtg8oLNfxhAQoeKB42WFcjDgpnelv06pGN6324UgIq8/faePj3Q+FKy7B0sVW/MGJ4T/x/Or7R/mDk6BgjyvcmQRhwbxR29BrEQNyUIDoXQ2cT19EpwEgqnVA5HGk3R7NzpOk0TMAETMAETOBiBO715IyB1Xy46YlWprcafnqIMZpZPZZjRgeSRx91De9l9r6bqXCMjdVykux2JmACFyQwdK9SWHPRoCMpfW86wtF3QidgtWJtzasvXqo/9/yj1yuaCSgvjFzKjg4D4gXj9EuFMU2WToRrbbyucZgqLX9mFZE27S9tFobsr9rb+BQIOxMwARMwgfUSODE41biFXtpVjthJfgzM8P5LGIGkpzvZ4FxvsVpyEzCB0gn4XjVvCYkv02rpFHysrbfjMFUKpdluSzASyYtZD7Q/ONocNgzKahq09oxUs0ZAWBeAuHSMhnNkJT4G6kvts8ms9OxMwARMwARM4GIETgxOSfIF0qixW+tUQVYmpOFnCz3Gqd+vA4GdCZiACcxJwPeqOenepk3HadWmzZGV2hg6aBmRDKPRvHLBCrmMcmKENo1TDMyX2oLjFY2udpY0V9nhGxTz3gRMwARMwASaBLre4aQ3eM1TeOgd/qiGngafhpue4majLy+7GALi9nXNMSa645hAJwHXo04sePpe1YsmWwCvVdAOZHeq13RoMu31cx1fk4H2GJkcf6ntV/xw8kMGpsk221bK/0/Cg1M4fsSr0gv+3puACZiACZjAmgnc6xCeBm/Nvav0IrOKYFfPcYe69hogAEs2OxM4h4DrUTc936u6ueT0rdoBtQes+to09s7KQ2lhbDL9lQ7aq/qcfWh3aEebo5mcH977rOOz0NBbbU3ZDqOb8qd+ECeb3ErPzgRMwARMwAQWJ9A1wkkjFxrNxQXKkCHG8lGPthpseqHtTMAETKAkAr5XzV8aoS3DQMzi1J6QFp9C+UnHGIu0N6wa/FHbVR3OYkVNQ5ERz+arHc2OXd4BDY5ptmHUk/c7g/wh3HsTMAETMAETWB2Bez0SMw1prY4FGBjh5KHgWhsGdLOnWad2JnAegbp+8aDIgyOjEHRq/KN9+E7ieRn46j0Q8L1q/lIOBtvD2Kz0H6bNwNj7p74GI5DRTNoTHIvSEYf9wSk8GI60Pe0Ff/Brfg+UzobHuoYVa5v+GLLfy59XQlihNuSpUzsTMAETMAETWCeBOzc3fN7t1qlxo1HE2GTp9naDWcfybi8EVAdYDANjykbUXgp9Bj1dj2aA6iSjCaj+0cgdVosdulBx6UDC6KMNrEYotWcE8z/aNw3DoWQcZgImYAImYAIm0CDQHuGk19bOBEzABEzABLZE4JMxZWRQ0uHKtFdGGJvTYTFCm9Nhx5JyuAmYgAmYgAmYQINA2+AM046ipvGoUf53eLSRqA/LIqByujMkkcLp0eehqu2q+qDwMFWsGc5nZ5gS2OsU7vrRS2edASrT3rqkMNejdRbraqUeqo8tpWI6U6m/ON6/ZKorDkP1N52veSG9ShH/mIAJmIAJmMClCLQNzmrRAwkT0zhfJTT2l9LP+UYQUDl2GZSU71lTal0/IuBvKIrr0YYKc5+q0OnGqrF+hWCf5W+tTcAETMAEZiLQNjjPyqY2UBj5Cgs1nJXe1IuVf7VAg/ZHhpTOn2kbfJhQOEbWRXWQDLwz9EWtPx8UZzXEwxQvHU/Wr07zIrsS2KYofi7nS+ur/HmApvOI+sLCJ2/kdxip6dNP8a4UNvpfId4lnGS7+H80RW/JO+v/eU08JOukOqnrzq2PsQvhhRViU4rYcU3ABEzABEzABAYI3G2Fham0YWptK7j/VA8ErKrHB6uPjE2dMz3pqbajFf36U8oSwkPNyQOGZHilLUybOskIOeVZgg6sePqX5PlZe94d+kVb003Sr5nA0sddbOV3ibqRovpkzoXoi4EZRmxY8KT9HlqnfgDSdYP/lRSIOeN2ca3lLbkuzfZ/7uIhv5JZTKqTGepjaNuGqiNtV+e7nsqfTg47EzABEzABEzCBCQTaBmfSlNqQHw84OmaJ98PoCWE6p2cfI45wttmd8gzLzH+q466HBB54Tr7LKb9idBCkaoVEycTI1H+0HYxk+U3Sb3bwAxl0sZXf4nVjQMSToHM4F6Qvo+PBUZeuw0mEfkTt/K+ENJbed3FFBvkXXZck4iz/5y4eK2BxTp1Mro/iQb3Hhbbt9qz7l3aBTpiDg7E27r+HGSaHQB+YgAmYgAmYgAlEETgyONWw8kDKxvS7FEdDfTCKwoVKj6mpTGE9GvUM4XPs6/yutGelwZNPu8gPo/hr7TEwm64kHa4lHw9KPPzwoPRXEFT+1ZRg7VP1C0lcYn/CVvIvXjdSFD+TcxH6Sofm/w6ZDos8jekHK8Xp+6+koMwZ94RrLWfpdWmu//MJD5VZ6Swm18mJ9THc52nXBp3SZ0YJ377kO87MyqGzlD332qbcg+k40ARMwARMwARM4JjAvePT6oyGNfQKdwR3emHAHb0v2Rkrk6fy4iHihTamzXLMAx0PC1d12NjDRfUgrehNg7QkHfj2JeXws/aUxQftH2hDz0pf+Q25Lv2G4s8dthjbmk9f3YDl0Lf0GEGB3dWZnIvQNxSqdKEziO8QHkZpIvUjiZLq0mJcUbxmlKMuzfV/XoxHLhZwxSm9qXUytT6GtuzQaXcrQfev5Bp8x7/7KvuagAmYgAmYgAkMEegyOGmYnwxd1AxTA02DPmbgNS8561j5YXDxPmjzw9xvdF4ZnNozKlg9XCguvdPBX94Hx8IQj7VVBmdJOtT6YUiHz0+gb9Ml69e8OPGYcj2rbJdkW7PrrRsKx4iP7RiZxLkkfSlrycMoGMYmnRXNhVdi9COJo/8KHhPcquoR+okV/7uz61KdTvb/s9Jd7L6bi0WoN0rvnDqZWh+/VL5/K8+z7mNBdu9NwARMwARMwATSCdzruISHLAy1+5GNNA8+Me/HdGQ1yYsFdJg2xkbeGBDNxVAYxeF9UqZDVaNV2rcdDx9cG1wxOsBcG1O4wruvPDChT3hgmqJf0DNprzz7+KWksyTbsbqRIvdUzsXoq/Ljv8z7jRia6I7BHUZwYvTjmvZ/Bb8kt8J6hH5Z6pJ0n+v/XEw9S6kMGepkan2k/lPX7UzABEzABEzABC5EoMvgfC1ZmO7ECEg1Ajgi232FB2NoJOpxsB4+eBigt3vMNd+hQa7XuhaD7KO2lzzUhQR0HDOKxXVNV5oOXaOylbwT9WvquvTxJLbSM3vdSFH8DM7F6Csdmgu0HKkfqR/XtP8rR+kseDKJK/JJ10vXpTn+z5N4FMDi3DqZWh9pL2JnNSxYnZ2VCZiACZiACeyHwInBqQcSeuQZ2TpMOR3BgYHHw0+yUz7vdRH5pDjyYlEH8p3qGB1oXr9GHYZ0b+s3FHfusElsL1g3Unh0cd6avl06pjDKFXcSVzJfSV0a4tRVBpN4bJRFJzvpirGJyzFT4zYl/5qACZiACZiACSQTuNtzBe9ERr3HWT/A8EC0lOPhgRGLg5MMMaOkh/g6QN7DdzpXqkNTn/bxkX7twCXPF2abo26k4DnhvEF9T3RMAZQr7sJcEXvpujSE6qQMFuZRNIsBcHRm8uoFxrmdCZiACZiACZjAhQicjHDWclTTatVQf62Nh40xx6IMYSXGQ1z8dMJ0JnqaCccw/Ef78B6ZTpMdn3ZghJO0r7Ux4vlSW4rjQaQ9zWptOgzp26XfUPy5w07YFlw3Ulj0cd6Svn06pnDKFfeEKwlvpC4NMeorgxMeO2bRxY/XLr7rCrCfCZiACZiACZjAcgTu3NzcdOamBxeMQwzO3nduwoWKg0HJwjZDn5wI0S+6l4wYqHz+goe4g1uTDgehOw769OuIupjXVtg2gQ1x3oq+Qzo2WSx1vBWuKbyGymBvPIZYtJkq7jP5vdD+QTvM5yZgAiZgAiZgAssSuNuXnRpqjEdGJY+mr3bFVxxGQVnVllHH0h2GdHt082plOgwx7tRv6IK5wzbEtomql/OG9O3VsQliqeMNcU1B1lsGO+TRy6IDKN9P9ehmBxh7mYAJmIAJmMDSBHoNzloQjE4+DzDq9PCDEcdqsowgFukkG1OsGN3sfKdnDToMgR3Tb+jaucPWzrbJJ4bz2vWN0bHJZKnjtXNN4RRTBnvhEcMisFVcRjeZbhyzynq4zHsTMIEdEtB9gpl8PBvamYAJzEhg0ODUn7Bazj/2z6h4pU+p5XMqg++krkCHoeowqt/QxXOHrZxtE08U55XrG6VjE8pSxyvnmoIpqgx2wiOWBbNsGN3kXX87EzABExgjwCBJsQMlY8I73ATWQqD3Hc6ggB5m+CPyAXne0ewcGQxxvTcBEzABEzCBSxBotFXPdezRzUsUgvM0gZUR0L3iG4nM62PnLGa5Mq0trgksT2BwhBNx9Ce81o4FdpiK6l4goNiZgAmYgAmURoDPebGCuY3N0krG8piACZiACeyawKjBCR014IxsMkWJ6Up2JmACJmACJlAMgbozFGOzeg2kGMEsiAmYgAmYgAmYwFXfdzhP0NRG54m/PUzABEzABEzgkgTUPjETZ/D9/EvK57xNwARMwARMYM8ERt/h3DMc624CJmACJmACJmACJrBuAuqU+kka8M34tntYe3xsB+j8va7zAmQdYOxlAqkE7vzwww83qRc5vgmYgAmYgAmYwDIE9NB7Z5mcnIsJ7IuA/lteNGhfRW5tL0TgnhuyC5F3tiZgAiZgAiZgAiZgAiZgAiawcQJRiwZtnIHVMwETMAETMAETMAETMAETMAETmIGADc4ZoDpJEzABEzABEzABEzABEzABEzCBqysbnK4FqyCgqd+7/CSP9L6vjc89sPEt3M7v4cr/nbYjRu3zKQWdI40p+c5xzVyM5pDVaZqACZiACZiACZjAVgjY4NxKSW5YDxkKz6TeZxtWcUg1DM3n9cZqeayk9655gcLu6/wz7flebtM9kh/sJrn62k1wn4vRJLC+yARMwARMwARMwAR2RMAG544Ke42qylBgBblPtH/bJb/8MbQ+aMPo2qJ7Kt2aS7n/KCUxJJuGIOHv28orTvVdQu2ftsPGznXN1rhnZzTG0OEmYAImYALFE+Abvmx2JmACMxLwdzhnhOukzyMgowcj8g/tP2+mVPv/Ij9G+77QhvH1QP6bazSkE8bi66Cb9kyb/aANJuj7vTaMQ44xMH9VnCPjU+eMiH4V0tDxoFO8zXCXLvDKzmgQoANNwARMwARMwARMwAQOBO4djnxgAuURYDSPjzUfudpwqj7GrONNT7eVfj8fKX9rPP0t/2BUMt2W0buX2neOAisMhrDE8Ipxm+EuJkwznoNRDEfHMQETMAETMAETMIHdE/CU2t1XgaIBPJHB0Da4ihZ4TuHEgpFcRjOPRnx1jn81fVb7E1czhCUjlzFui9xzM4rh6DgmYAImYAImYAImsHsCHuHcfRUoE4CMIwyr9iI4ZQobKVVtMDJ6OOa+V9wj3XXO1FCu/VzHTJ+tnI4Z3bxu+tVB7R3pPdE2aMArnS1yz8qoDdbnJmACJmACJmACJmAC/QRscPazcchlCTxW9r2jdpcVrTt3GWuMIL7Q9k8d41Ptmc5ZGYjaMw0WvZKcrsPYJJ3q2vr8SnuMyMPInc7JnwWFwnTbZj6w5PpBg7OOsynu0ik3IyVpZwImYAImYAImYAImEEPABmcMJce5BIEvlOnJ+5uXECQmTxl5jKIh77fB4NMeQwcD9Lm2SU5pYGySLgYn6eF4FzOkiVH7J55y5PWyOjr9YaEhZBxzW+Sem9EYQ4ebgAmYgAmYgAmYgAnUBGxwuiqUSoDRuo+lCteUqzYKf5MfU2Gbo4sYePif41hhFhbtb2+GBYAwRsmX1WxZobYaTdVx28ES43XMbZF7bkZjDB1uAiZgAiZgAiZgAiZQE7DB6apQKoGHEqzPeJosswwyDKo/tLGPdYdRy54LMGhw95U+q+biPtH2m87Pmp6q6x9UqfX8KBwDNxifPbEqb6bfxui8Oe4zMBri7DATMAETMAETMAETMIEGARucDRg+3D4BGR8Yse1VXs9VnJHMt0r71bkJzXj9LIZkrLwr4X5RRrEsHc8ETMAETMAETMAE1kTg7pqEtay7IsAU0JgRuVKghPcoS5GnLQcsYTrm9sw9ltEYQ4ebgAmYgAmYgAmYgAnUBGxwuiqUSoApoDHvHJYgP7IyhfbEaWSPz4yU4Bi9Q84xt2fusYzGGDrcBEzABEzABEzABEygJuApta4KpRLg3cQvI4QLht4lp0Pyfcyj9yhlaDJahn/Mdzcj1Dw7CtOIYTrm9sw9ltEYQ4ebgAmYgAmYgAmYgAnUBGxwuiqUSuBXCfamTzgZdCGM9ydxb+TH6BwL9Yx9a7K6INcP+WljwSCMSz4/guP8yAi99b7YL5xi5Nkz91hGFytEZ2wCJmACJmACJmACayNw5+bmZm0yW96dEJDBhvE2tkLsTmhMV1McmZqMIc73KEfdHrmnMhqF6AgmYAImYAImYAImYAIVAb/D6YpQMgFGDGNG5UrWoQTZnksIWMa6PXJPZRTL0vFMwARMwARMwARMYNcEbHDuuvjLVl6jTkyNfVSPPpUtbKHS1exgGD3NeG/cpzAqtLgtlgmYgAmYgAmYgAkUR8AGZ3FFYoFaBL7V+U8tP5/GE4DdlFHiPXGfyii+FBzTBEzABEzABEzABHZKwO9w7rTg16R2PQL1jfav1iT3pWUVr2eS4a32MZ9DORF3D9zPZXQCzR4mYAImYAImYAImYAJHBGxwHuHwiQmYgAmYgAmYgAmYgAmYgAmYQC4CnlKbi6TTMQETMAETMAETMAETMAETMAETOCIQ/R1OTT3jPSc+rfD2KAWfmIAJmIAJmEAGAmpf7iuZP7R9pePrDEk6CRMwARMwARMwgQsTiBrhrI3NhzY2L1xazt4ETMAENkygNjK/k4rvdIzxaWcCJmACJmACJrByAqPvcKrRfyodv9f+85XravFNYHYC+p88UibPtZ+yMuzs8jmDyxJQvfhaEmBIUU8+1fZGfr9rH+X2Ur+kJ+3OY+1ZLdnOBEzABEzABExgxQQGRzjV2H8m3fgI/Fcr1tGim8CSBDAoPiyZofNaFQEMTFYOZsXl59p+S5R+F/VLfPhu7H3tv0nk4+gmYAImYAImYAKFERh7h/MXyfuzGn2/S1NYwVmcyxDQf4GRFxyjVJ/oHKOhcjrmMySMbP6uYz7j4vedb9H4918CzZkijHIe3VtVZ1y//mXF6OZ/xYT/0xGnf6P4yARMwARMwARMoHQCvSOcauDpWWaE82XpSlg+E1iCQG0MfKo9nTCMUAXjoMq+9rvSninoNjaXKJSV5aF60fwmKrNHDlNGFUZ9cv2qy1Q8MDJfa6Pj084ETMAETMAETGClBIZGOHkYelU3+itVL15s6cmI1RNtfl81HtveYjJ6WRkIqi90xvzVBFDXIY/ENKH4uJOA6gqrfvOu7/tGBNevBoz6kHbogzg90tY01k9jJvooPe75L+rLGG3GfSf/bP9hpfVOaX6bW/ZK0p6fS+TZI4q9TcAETMAETKAi0DnCqQaLh2ka4F2Mbtb6MrrAAwibnQl0EaBufKwDeJeOzwQ13zHDrzJC5X80+llf450JXKluYERVxqaOmYYdnOtXIFHvxQcjk0WVMMZzux+VPuXARkcS/20MxCxOaVKen2k/aCgrnM6HLC42zyyZORETMAETMAETiCTQaXDqWnp9d/PejBrp99qYIjn4YBDJ1NG2S4D3NV+orgQjk1VGHzbUrUarFI6xGb3yaON6H26cgOoGBg1G5v90fKN905By/eou/zfynqMD56nKgE6i4OgIYCSVDtccjrSbI9h9aYbR1b7wFP/YPFPSdFwTMAETMAETOIvAvZ6reaBuPgj1RLO3CWyLgB42GZWgw4WVZjm+lh8rZl5pz3uZve9mKpwOC/9vgLVjp3owVIeaiwYdUXL9OsLRPKHzplqxtmbUDDvnmP/q0bT4ZmLKCyOX8qKTgHjBOP1SYUyTpePgWhujo4fp0fLHgCRt2lHuHxiyv2ofY3wq6rHTdX1y8L5vdb/RPmuexxL4zARMwARMwATOI3BicKrhCr27HqE5j62vXhkB1X0MhfDOVRitZHSlMjhXpo7FvQAB16H80MX0bzal/Fhbb4dPas5Ks/2/xngjL2a8cC/A8f9nw6BkFsyV9oxO83mb8D536GAI58hKfAzUl9pPllnXjsnBtODAJ0ue6GhnAiZgAiZgAjkJnBicSvwLMqARy5mR0zKBFRBgNUweNtnCiEHqdxJXoKZFnJGA69A8cOkArdqmOZLX/52OVkYkwwg0U+VZIZfRRQy6pnGKEfhSW3BMre9qL0nz3I7bMTk+BiHqfY48W0n61ARMwARMwATOI9BlcNKLPGnqz3mi+OrSCOghix563mlqPmyVJmZOedD3tfTlIZMHOUYnrnNmsNW0dlhX+orSdaiPzHn+THHnf5ndqe7SucS018/D/137yoDU/kv5/xoy1TkGHdNkm20kZX74Hi9xFY4f8Y7uHzpngSDya7ov5N/u2GIElc8v9clxkr7invg1M/GxCZiACZiACVyKwL2OjGm0zu2V7UjWXiskQE8+214culZT1PaicEY991ZX+tC5DvWROc8/GF6s+to09s5KVWlh/DEVlY7Wq/qcfRixpD1sjmZyfnjvs45Pp9xbbU3ZDiON8qdOEIeZE9U7lzo/OPmx2nWV/8Hz9KAtB9N3GYG90rUh3848T5OyjwmYgAmYgAksS+BuR3Y0jqGx7Qi2lwlslgAdLTy0HZwe5hj5sDOBWAKuQ7Gk0uKFNqk9OpiWSiO2/tukxYjjT7XRxn+fkUpmN1zV4SxW1DRwGfFsjkY2O2ibxiTTbP8kHTkWIQvyVx4pPz1ykC9yMw04uGx5hgS9NwETMAETMIEcBO71JML0pd24ukHnYYFGnJ5ojIx/tK8WidgNCCvKqAEjnDyIXmuj86U5uqFTOxMYJOA6NIhncmAw2B7GpqD/Mf9fjL1/6mswyBjN5L+NY4Ew4rA/OIUHw5H7QHvBH/ya02fpYHisa1ixtumPIfu9/JkGzAq1IU+dJrsuOUj/P9o+KO0gY848k4X0BSZgAiZgAibQR+DOzQ2fgrt1arho2DA2WfI9NGJ1qHd7I6A6QO85BrgN770VfqK+riuJwBw9mYDqGI0VBuPo/UhxqhFAxactq0YotWcE8z/aNw3DZDlyXyB5YqbU5s7W6ZmACZiACZjAYgTaI5z09tqZgAmYgAmYQIkEPhkTSgYcHadMe2WEsTkdFiO0OR12LKmlwsPo7VL5OR8TMAETMAETWJRA2+AM05Wipv+oMf93eHRRsZ1ZCgGV052h+ApnKhYPY21X1QeFhylmzXAWwGD6YK9TuOtHL51yA1RuvfVFYa4r5RbdaiUbqnMtpWI6RamjON6/ZKorDkOVkcTiFsSTTF3310po/5iACZiACZjAFgi0Dc5qsQQpFtOoX6mh7H0w3QKcvejQ98Aj/7Om1Lp+bK8Gua5sr0w3qBGdZ6waOzr1doO6WyUTMAETMAETKI7A3ZwSYaBoYzrTRR0yaAu93AdZ5Bd6uw9+7QPFubgOkuHrWo5n2rMS4dHoo84n69fWd8nzWqeL149Ync/lXIK+5+oQyyp3vBLYpegkeWf9z66Qx1z3qNgF7cIKsSnF6LgmYAImYAImYAIzELjbSjNMpQ1Ta1vB/ad6IGI1Pj50ffQ+is6Z1vRU29FKgP0pZQnBQDt5MJEMr7SdGKIhR+TUcQk68NHv0EPPAhft944m6Rf0vMS+i638LlE3UtSfzLkgfSfrkAIqZ9wudqRfeH2Z7T/bxaNwFhTXXPUutFHk0edogzrf9RS35mdE+q63vwmYgAmYgAmYQEYCbYMzaUptkIOHHx2zNPzR+zE6Z1VAjDjC2WZ3yjMsT/+pjrseLngwPPm2ovyK0UGQPm+AYkTwOpxP1S9cf4l9F1v5LV43UnQ/h3Mp+p6jQwqrnHG72JG+/IuuLxJxlv9sF4/SWUi+SffgoXqkNLkP4kIbdXvW/cv9HYP34OCojc7G5iJCh3AfmIAJmIAJmIAJzEfgyOBUg4xhw8b3ylIcDfzJyKHSY2EZ3qM5GvVMSTg1bp3flfasUHjyaRf5YRQz/Q0Ds+lK0qHJC7kOi/NI7uq9JO1T9WvquvTxCVvJv3jdSFH6TM5F6HumDim4csY9YUfiK6gvc/1nT3isgMUc96hwv6Z9GnTi87Mi8O1LvqnL7Bo6Pdlzz2yW02A6DjQBEzABEzABE8hD4F5HMjTIoTe5I7jTCwNusZX2lBcPHy+0MW2WY6bB8pBxVYeNPZRURqeiNw3SYnRAD5x0wYjnu3OHXvkz9KvSvNDPYmxrPn11g3o99A0+Rr+rUfozOZeib/XfGCnzrv/CyCWzBi/GDi1y1ZdAROnl/s8uxiMXizqdKffggLFrH9qkv7oC236SwQsGtaH43ARMwARMwAQuRKDL4KRBfxIrjxp2HgTGHi5ikxuNVz/M8D5o84Peb3ReGZzaM5WqeihRXHq1g7+8D44FJR5rqwzOAnW4kkyMbGBsYkyzeFB4gErW76B1+gHlelbZSu7F6ofyui95e+uGwulMie0YmcS5JH2l6yQddN0Ut6q6goKZ6wvpZf3PKr1d/XdGKt2XCv9bTM66H43k4WATMAETMAETMIEZCNzrSJMHdgw13nmJadx5KIp5r6Yjq0lev+gqpmOykTcGRHNRHUYDeZ+UaVTVaJX2bYdeXBtcUTpIdsqAd9YwNJERQykYnFP0I41kp7z7+KWktSTbsbqRIvdUziXpO1WHFE5V3BXWFeTOVl9m+s+WVJdS6sQc9Y77IenagB2eTAAACnZJREFUmYAJmIAJmIAJrIxAl8H5WjowLYzRkWoEcESn+wqPMUxPktFDGg8RjAqMuea7N8j1WtdiUH7U9lLHh/x1HDOKxXVNV5oOzQVImnJeTdTvKI2FTyaxlZ7Z60aK3mdwLkbfM3RIQZUz7iR2CFBAfZnjPzuJRwEsptyDx+oR9/3Y2QljaTncBEzABEzABExgQQInBqceVpjCycjWYcrpiDw8XPBglOyUT9UTnnghebEYBPlOdYwcNK9fow5Durf1G4o7d9gkthesGyk8ujivTd8uHVIY5Iw7iR0CrKS+DLHqKodJPFbCokvfTj7SB2MTl2PGxW1K/jUBEzABEzABE1iMwN2enHgnMuo9zvrhhoeHpRwPHYx+HZxkiBklPcTXAfIevtO5Uh2a+rSPj/RrBy55vjDbHHUjBc8J5xXqe6JDCoCccRdmh+hL15chXCflsDCPpVmc6DsAh85PXqHAALczARMwARMwARNYGYGTEc5a/mparRp4VkjkQWTMsZjDo/YDAX66kGlQ9FATjmH4j/bhfUSdJjs+EcIIJ2lfa2PE86W2FMcDTHt61tp0GNK3S7+h+HOHnbAtuG6ksOjjvCZ9+3RI4ZAz7gk7Et9IfRni1FcOJzw2wqJP3y5GvD7xXVeA/UzABEzABEzABMoncOfm5qZTSj3UYBxicPa+mxQuVBwMShbqGfrkRIh+0b1kxEDl8xc88BzcmnQ4CN1x0KdfR9TFvLbCtglsiPNa9B3SoanrksdrYZeTyVA5bJHHkL5tror7TH4vtH/QDvO5CZiACZiACZjAOgjc7RNTDTzGI6OSR9NXu+IrDqOgrGrLqGPpDkO6Pbp5tTIdhhh36jd0wdxhG2LbRNXLeUX69urQVHTJ4xWxy4mltxw2yqNX3w6ofFPXo5sdYOxlAiZgAiZgAmsh0Gtw1gpgdPLpgFGnByOMOFaTZQSxSCfZmJrF6Gbnu0Br0GEI7Jh+Q9fOHbZ2tk0+MZxL1zdGh6bOSx6Xzi4ni5hy2BKPGH0DX8VldJMpxTGrpYfLvDcBEzABEzABEyiMwKDBqYb+Z+TVHkNt1Cle6VNq+ZzK4DupK9BhqBxG9Ru6eO6wlbNt4oniXLi+UTo0lV7yuHB2OVFElcOGeMTqy2wZRjd5Z9/OBEzABEzABExgxQR63+EMOulBhxHLd9p4R7NzZDDE9d4ETMAETMAEziHQaHOe69ijm+fA9LUmYAImYAImUACBwRFO5FODf60dC+wwFbXY6bLIamcCJmACJrB6AnyWi5XIbWyuviitgAmYgAmYgAlcXY0anEBSw8/IJlObmOZkZwImYAImYALZCdSdmhib1esc2TNwgiZgAiZgAiZgAosTGJ1Su7hEztAETMAETMAETMAETMAETMAETGATBKJGODehqZUwARMwARMwARMwARMwARMwARNYlMCdH3744WbRHJ2ZCZiACZiACZjAIgQ0PfnOIhk5ExMwARMwARPoIeAptT1g7G0CJmACJmACJmACJmACJmACJnAeAU+pPY+frzYBEzABEzABEzABEzABEzABE+ghYIOzB4y9TcAETMAETMAETMAETMAETMAEziNgg/M8fr56QQJ6F+nRgtkVkxWfitDGpyLY+B5u5zdx5f9O2xGj9vkUpXKkMSXfUq6Zi2sp+lkOEzABEzABEzABE5iTgA3OOek67WwE9ND/TIl9li3BdSWEofm83vge7kdt75oqKOy+zj/Tnm/mNt0j+cFukquv3Sv3K+k/C9dJheGLTMAETMAETMAETGCFBGxwrrDQ9iayHvq/kc6faP+2S3f5Y2h90IZxsEX3VLp93VDsRx1jSDYNQcLfN+JUh4rzOwfaP22HjZ3rmr1zB1F2rmPcHW4CJmACJmACJmACWyLgVWq3VJob1EVGD0bkH9p/3lSv9v9Ffoz2faEN4+uB/K+135STThiLr4Nu2jNt9oM2mKDv99owDjnGwPxVcY6MT50zIvpVSEPHg07xds1d+sM4O9dB6A40ARMwARMwARMwgQ0SuLdBnazStggwmvdTW6XacGJ66ZWONz3dVvr93NIfQ+hv+Qejkum2jMS91L5zFFhhMIQl18a4XXMXR6Ymz8E1hr3jmIAJmIAJmIAJmMBmCHhK7WaKcrOKPNHDf9vg2qyyY4qJBSO5jGYejfjqHP9q+qz2J65mCEtGLmOcud9Sys01hr3jmIAJmIAJmIAJmMBmCHiEczNFuT1FZBxhWLUXwVm1orXByOjhmPtecY901znTPLn2cx0zfbZyOmZ087rpVwe1d6T3RNugAa90zF2QcnNtF4bPTcAETMAETMAETGAPBGxw7qGU16vjY4neO2pXoloyUhhBfKHtn1q+T7VnamZlIGrPNFj0SnK6DmOTdKpr6/Mr7TEiD6NwOid/FhQK022b+cCS6wcNzjqOuefn2iwLH5uACZiACZiACZjALgjY4NxFMa9WyS8k+cn7m6VqIyOPkUbk/TYYfNpjDGKAPtc2ySkNjE3SxeAkPRzvYoY0MWr/xFOOvF5WR6c/LDSEjGPO3G8J5eY6xt3hJmACJmACJmACJrA5AjY4N1ekm1KI0bqPa9CoNgp/k6xMhW2OLmLg4X+OY4VZWLS/vRkWAMIYJV9Ws2WF2mo0VcdtB0uM1zFn7reEcnMd4+5wEzABEzABEzABE9gcARucmyvSTSn0UNr0GU+TFZVBhkH1hzb2se4watlzAcYJ7r7SZ9Vc3CfaftP5WdNTdf2DKrWeH4Vj4AbjsydW5c302xidzV2gZuA6VDYOMwETMAETMAETMIFNErDBuclitVJDBGRIYMS2V3kduiQmjJHMt0r7VUzkC8WZxZCM1WXD3C/KNZa/45mACZiACZiACZjAJQjcvUSmztMEIgkwBTRmRC4yudmjhfcoZ89oYgawhOmYM/cxQsfhsVyPr/KZCZiACZiACZiACeyAgA3OHRTyilVkCmjMO4clqIisTKE9cRrZ4zMjJThG4pBzzJn7GKHj8Fiux1f5zARMwARMwARMwAR2QMBTandQyCtWkXcTv4yQPxh6l5zayPcxj96jlKHJyBf+Md/djFDz7ChMI4bpmDP3MULH4bFcj6/ymQmYgAmYgAmYgAnsgIANzh0U8opV/FWyv+mTXwZdCOP9Sdwb+TE6x0I9Y9+arC7I9UN+2lgwCOOSz4/gOD8yQm+9L/YLpxh5zD2tiGK5pqXq2CZgAiZgAiZgAiawAQJ3bm5uNqCGVdgqARlsGG9jK8RuVf1seokjU5MxxPm25Kgz91FEVYRUrnGpOpYJmIAJmIAJmIAJbIeA3+HcTlluVRNGDGNG5baqfy69nishWMY6c48jlco1LlXHMgETMAETMAETMIGNELDBuZGC3KoaGkFiauyjeiRpq2rOqlfNDobR04zNfbxIpnAdT9UxTMAETMAETMAETGBbBGxwbqs8t6rNt1Lsp60qt4BesJsySmzuw4Uzletwqg41ARMwARMwARMwgQ0R8DucGyrMLatSjyZ9o/2rLeuZWzfxeqY032of8zmUk+zN/QRJ5XEu1+5U7WsCJmACJmACJmAC2yPw/7bwsAfcWN/sAAAAAElFTkSuQmCC\n",
      "text/latex": [
       "$\\displaystyle \\frac{\\frac{e^{- 2 a t}}{\\left(1 - e^{t}\\right) \\left(1 - e^{2 t}\\right)} + \\frac{e^{- a t}}{\\left(1 - e^{- t}\\right) \\left(1 - e^{t}\\right)} + \\frac{1}{\\left(1 - e^{- 2 t}\\right) \\left(1 - e^{- t}\\right)}}{\\left(1 - e^{t}\\right) \\left(1 - e^{2 t}\\right)} + \\frac{\\left(\\frac{e^{- 2 a t}}{\\left(1 - e^{2 t}\\right) \\left(1 - e^{3 t}\\right)} + \\frac{1}{\\left(1 - e^{- 2 t}\\right) \\left(1 - e^{t}\\right)} + \\frac{e^{a t}}{\\left(1 - e^{- 3 t}\\right) \\left(1 - e^{- t}\\right)}\\right) e^{n t}}{\\left(1 - e^{- t}\\right) \\left(1 - e^{2 t}\\right)} + \\frac{\\left(\\frac{e^{- a t}}{\\left(1 - e^{t}\\right) \\left(1 - e^{3 t}\\right)} + \\frac{1}{\\left(1 - e^{- t}\\right) \\left(1 - e^{2 t}\\right)} + \\frac{e^{2 a t}}{\\left(1 - e^{- 3 t}\\right) \\left(1 - e^{- 2 t}\\right)}\\right) e^{2 m t}}{\\left(1 - e^{- 2 t}\\right) \\left(1 - e^{t}\\right)} + \\frac{\\left(\\frac{1}{\\left(1 - e^{t}\\right) \\left(1 - e^{2 t}\\right)} + \\frac{e^{a t}}{\\left(1 - e^{- t}\\right) \\left(1 - e^{t}\\right)} + \\frac{e^{2 a t}}{\\left(1 - e^{- 2 t}\\right) \\left(1 - e^{- t}\\right)}\\right) e^{2 m t + n t}}{\\left(1 - e^{- 2 t}\\right) \\left(1 - e^{- t}\\right)}$"
      ],
      "text/plain": [
       "       -2⋅a⋅t                -a⋅t                                  ⎛        -2\n",
       "      ℯ                     ℯ                        1             ⎜       ℯ  \n",
       "─────────────────── + ────────────────── + ─────────────────────   ⎜──────────\n",
       "⎛     t⎞ ⎛     2⋅t⎞   ⎛     -t⎞ ⎛     t⎞   ⎛     -2⋅t⎞ ⎛     -t⎞   ⎜⎛     2⋅t⎞\n",
       "⎝1 - ℯ ⎠⋅⎝1 - ℯ   ⎠   ⎝1 - ℯ  ⎠⋅⎝1 - ℯ ⎠   ⎝1 - ℯ    ⎠⋅⎝1 - ℯ  ⎠   ⎝⎝1 - ℯ   ⎠\n",
       "──────────────────────────────────────────────────────────────── + ───────────\n",
       "                      ⎛     t⎞ ⎛     2⋅t⎞                                     \n",
       "                      ⎝1 - ℯ ⎠⋅⎝1 - ℯ   ⎠                                     \n",
       "\n",
       "⋅a⋅t                                           a⋅t        ⎞        ⎛        -a\n",
       "                       1                      ℯ           ⎟  n⋅t   ⎜       ℯ  \n",
       "─────────── + ──────────────────── + ─────────────────────⎟⋅ℯ      ⎜──────────\n",
       " ⎛     3⋅t⎞   ⎛     -2⋅t⎞ ⎛     t⎞   ⎛     -3⋅t⎞ ⎛     -t⎞⎟        ⎜⎛     t⎞ ⎛\n",
       "⋅⎝1 - ℯ   ⎠   ⎝1 - ℯ    ⎠⋅⎝1 - ℯ ⎠   ⎝1 - ℯ    ⎠⋅⎝1 - ℯ  ⎠⎠        ⎝⎝1 - ℯ ⎠⋅⎝\n",
       "──────────────────────────────────────────────────────────────── + ───────────\n",
       "                 ⎛     -t⎞ ⎛     2⋅t⎞                                         \n",
       "                 ⎝1 - ℯ  ⎠⋅⎝1 - ℯ   ⎠                                         \n",
       "\n",
       "⋅t                                           2⋅a⋅t        ⎞          ⎛        \n",
       "                     1                      ℯ             ⎟  2⋅m⋅t   ⎜        \n",
       "───────── + ──────────────────── + ───────────────────────⎟⋅ℯ        ⎜────────\n",
       "     3⋅t⎞   ⎛     -t⎞ ⎛     2⋅t⎞   ⎛     -3⋅t⎞ ⎛     -2⋅t⎞⎟          ⎜⎛     t⎞\n",
       "1 - ℯ   ⎠   ⎝1 - ℯ  ⎠⋅⎝1 - ℯ   ⎠   ⎝1 - ℯ    ⎠⋅⎝1 - ℯ    ⎠⎠          ⎝⎝1 - ℯ ⎠\n",
       "────────────────────────────────────────────────────────────────── + ─────────\n",
       "                  ⎛     -2⋅t⎞ ⎛     t⎞                                        \n",
       "                  ⎝1 - ℯ    ⎠⋅⎝1 - ℯ ⎠                                        \n",
       "\n",
       "                      a⋅t                   2⋅a⋅t       ⎞             \n",
       " 1                   ℯ                     ℯ            ⎟  2⋅m⋅t + n⋅t\n",
       "─────────── + ────────────────── + ─────────────────────⎟⋅ℯ           \n",
       " ⎛     2⋅t⎞   ⎛     -t⎞ ⎛     t⎞   ⎛     -2⋅t⎞ ⎛     -t⎞⎟             \n",
       "⋅⎝1 - ℯ   ⎠   ⎝1 - ℯ  ⎠⋅⎝1 - ℯ ⎠   ⎝1 - ℯ    ⎠⋅⎝1 - ℯ  ⎠⎠             \n",
       "──────────────────────────────────────────────────────────────────────\n",
       "                    ⎛     -2⋅t⎞ ⎛     -t⎞                             \n",
       "                    ⎝1 - ℯ    ⎠⋅⎝1 - ℯ  ⎠                             "
=======
      "image/png": "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\n",
      "text/latex": [
       "$\\displaystyle \\frac{\\left(e^{t} e^{a t} - 1\\right) \\left(e^{2 t} e^{a t} - 1\\right) \\left(e^{5 t} e^{2 a t} e^{3 k t} + e^{4 t} e^{2 a t} e^{3 k t} - e^{4 t} e^{2 a t} e^{2 k t} + e^{3 t} e^{2 a t} e^{3 k t} - e^{3 t} e^{a t} e^{2 k t} - e^{3 t} e^{a t} e^{k t} - e^{2 t} e^{a t} e^{2 k t} - e^{2 t} e^{a t} e^{k t} + e^{2 t} - e^{t} e^{k t} + e^{t} + 1\\right) e^{- 2 a t}}{\\left(e^{t} - 1\\right)^{4} \\left(e^{t} + 1\\right)^{2} \\left(e^{2 t} + e^{t} + 1\\right)}$"
      ],
      "text/plain": [
       "⎛ t  a⋅t    ⎞ ⎛ 2⋅t  a⋅t    ⎞ ⎛ 5⋅t  2⋅a⋅t  3⋅k⋅t    4⋅t  2⋅a⋅t  3⋅k⋅t    4⋅t \n",
       "⎝ℯ ⋅ℯ    - 1⎠⋅⎝ℯ   ⋅ℯ    - 1⎠⋅⎝ℯ   ⋅ℯ     ⋅ℯ      + ℯ   ⋅ℯ     ⋅ℯ      - ℯ   ⋅\n",
       "──────────────────────────────────────────────────────────────────────────────\n",
       "                                                                              \n",
       "                                                                              \n",
       "                                                                              \n",
       "\n",
       " 2⋅a⋅t  2⋅k⋅t    3⋅t  2⋅a⋅t  3⋅k⋅t    3⋅t  a⋅t  2⋅k⋅t    3⋅t  a⋅t  k⋅t    2⋅t \n",
       "ℯ     ⋅ℯ      + ℯ   ⋅ℯ     ⋅ℯ      - ℯ   ⋅ℯ   ⋅ℯ      - ℯ   ⋅ℯ   ⋅ℯ    - ℯ   ⋅\n",
       "──────────────────────────────────────────────────────────────────────────────\n",
       "                      4         2                                             \n",
       "              ⎛ t    ⎞  ⎛ t    ⎞  ⎛ 2⋅t    t    ⎞                             \n",
       "              ⎝ℯ  - 1⎠ ⋅⎝ℯ  + 1⎠ ⋅⎝ℯ    + ℯ  + 1⎠                             \n",
       "\n",
       " a⋅t  2⋅k⋅t    2⋅t  a⋅t  k⋅t    2⋅t    t  k⋅t    t    ⎞  -2⋅a⋅t\n",
       "ℯ   ⋅ℯ      - ℯ   ⋅ℯ   ⋅ℯ    + ℯ    - ℯ ⋅ℯ    + ℯ  + 1⎠⋅ℯ      \n",
       "───────────────────────────────────────────────────────────────\n",
       "                                                               \n",
       "                                                               \n",
       "                                                               "
      ]
     },
     "execution_count": 17,
     "metadata": {},
     "output_type": "execute_result"
    }
   ],
   "source": [
    "Sum(k,a)"
   ]
  },
  {
   "cell_type": "code",
   "execution_count": 4,
   "metadata": {},
   "outputs": [
    {
     "data": {
      "image/png": "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\n",
      "text/latex": [
       "$\\displaystyle \\frac{a^{4}}{6} + \\frac{2 a^{3} k}{3} + a^{3} + \\frac{a^{2} k^{2}}{2} + 3 a^{2} k + \\frac{7 a^{2}}{3} + \\frac{3 a k^{2}}{2} + \\frac{13 a k}{3} + \\frac{5 a}{2} + k^{2} + 2 k + 1$"
      ],
      "text/plain": [
       " 4      3           2  2               2        2                             \n",
       "a    2⋅a ⋅k    3   a ⋅k       2     7⋅a    3⋅a⋅k    13⋅a⋅k   5⋅a    2         \n",
       "── + ────── + a  + ───── + 3⋅a ⋅k + ──── + ────── + ────── + ─── + k  + 2⋅k + \n",
       "6      3             2               3       2        3       2               \n",
       "\n",
       " \n",
       " \n",
       "1\n",
       " "
      ]
     },
     "execution_count": 4,
     "metadata": {},
     "output_type": "execute_result"
    }
   ],
   "source": [
    "SumLimit(k,a) # And let ϕ tend to zero"
   ]
  },
  {
   "cell_type": "code",
   "execution_count": 20,
   "metadata": {},
   "outputs": [
    {
     "data": {
      "image/png": "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\n",
      "text/latex": [
       "$\\displaystyle \\frac{\\left(a + 1\\right) \\left(a + 2\\right) \\left(a^{2} + 4 a k + 3 a + 3 k^{2} + 6 k + 3\\right)}{6}$"
      ],
      "text/plain": [
       "                ⎛ 2                    2          ⎞\n",
       "(a + 1)⋅(a + 2)⋅⎝a  + 4⋅a⋅k + 3⋅a + 3⋅k  + 6⋅k + 3⎠\n",
       "───────────────────────────────────────────────────\n",
       "                         6                         "
      ]
     },
     "execution_count": 20,
     "metadata": {},
     "output_type": "execute_result"
    }
   ],
   "source": [
    "factor(SumLimit(k,a))"
   ]
  },
  {
   "cell_type": "code",
   "execution_count": 3,
   "metadata": {},
   "outputs": [],
   "source": [
    "def Euler(k,a):    \n",
    "    return factor(( Rational(1, 6) * (a + 1) * (a + 2) * (a**2 + 4*a*k + 3*a + 3*k**2 + 6*k + 3) ))\n"
   ]
  },
  {
   "cell_type": "code",
   "execution_count": 4,
   "metadata": {},
   "outputs": [
    {
     "data": {
      "image/png": "iVBORw0KGgoAAAANSUhEUgAAAEsAAAAYCAYAAACyVACzAAAABHNCSVQICAgIfAhkiAAAAwRJREFUWIXt2F2IVVUUB/CfH+kME/ShD+qDTzq+FJmKKaLMkBVEUfQBCVFT0ksQhPhiTz4XA0NBiL5M0YNCYepTvhh9QDGW0oMGFUyEKRohhQyVdX1Ye5jjYc+dc+5cZ25w/3DY5+619lpr/8/ea6996aKLFrAPY/gDV3AC98xrRB2MT/CSIOheHMUl3D3TwPdxGX2l/j1oYFdbw5wbbBSx766ofzv+xePNlDbhP0FMGR8kh/3VY7xleAbv4HOxdRoivmY4iouCiJmwMtnc1kzpJK6iNyM7lwJbUMHZrcZZMZk/cV41sjYnvTcq2D+CM1g0nUK/WFUHM7I+sSw/reCoKoZE8AMtjB3EWvHhBlQjiyD2Z01IwFtiBa4pdi4sKb2cnB/JGFif9L8p9d+FYynYEdxWIeB24BR+SH7r4DBWY+c08mG8gAfxY1FQJmunWD1fZYxsTG2RrAfEUh3Es3gd/9QIfD7wZWofysjexvNiPufKwiJZfWL1nMe1jKENqZ0ka4+p5LoJH9aNep4wltodpf53RVrYhd+xIj3Zw6BfLOmT0zj5ThCzzNS2G5U/CKpiSOs5q4gB1XMWTIgaqojGNM/+nIGtSZjLVz1ie13AeHL2SsXAJjHeJKDcM1rD9oB6ZF3A9Rr2weLC+0RqezJ69yXdpViVgjpU09cI7iz1rccTeE+QWcTZmvbroNfUfFvCKvF1vsjIXk2yF8WdqSGS+WwxZO634UJRHv1U10kxwV8UF8h1Gb3J5H4az4kkP4yn6jrsAKwT5VHtlVskq4HPsFypGBNkTeB7cVI+hl/El9xaP955xZbUnqo7cHHp90d4Go+YKsiWiJv4GVGDESfJo6JmOS4Iu6mAmwM8mR7iiJfiGE3vv2FvZtzDYh7HZhvAEkHE14W+ydv6gYz+IP4WlfTyFvwNaT1n7df8NB3PjLlD7JCPW/CXxb7k7P52GewgvCbmtr1dBnvERfNEuwx2CHrxq1ncNHI37+v4VtRUp3X+Xa8q1uIvvCn+guqiiy7+f7gBCVq+iNlMq/oAAAAASUVORK5CYII=\n",
      "text/latex": [
       "$\\displaystyle \\left(k + 1\\right)^{2}$"
      ],
      "text/plain": [
       "       2\n",
       "(k + 1) "
      ]
     },
     "execution_count": 4,
     "metadata": {},
     "output_type": "execute_result"
    }
   ],
   "source": [
    "Euler(k,0)"
   ]
  },
  {
   "cell_type": "code",
   "execution_count": 48,
   "metadata": {},
   "outputs": [],
   "source": [
    "# Calculate the lattice points by hand:\n",
    "\n",
    "def AuxiliaryLatticePoints(k,a):\n",
    "    return (k + 2*a + 1)**2 - 4 * ( ( Rational(1, 2) * (a+1) * (a + 2) ) - (a + 1) )\n",
    "\n",
    "def LatticePoints(k,a):\n",
    "    return factor(AuxiliaryLatticePoints(k,a))"
   ]
  },
  {
   "cell_type": "code",
   "execution_count": 49,
   "metadata": {},
   "outputs": [
    {
     "data": {
      "image/png": "iVBORw0KGgoAAAANSUhEUgAAARgAAAAWCAYAAAAb84NIAAAFnElEQVR4nO3cechlcxzH8dcwlrJkyRqJPyxleYwiSxqELCFL1uEOUqLJViL08BdJLgplnSxRIhRGGGu2wWg02f54LDFZs4UMjz++5/bcOXPOM/fce+6593LedbtP5/zu7/y+n+/3fs/v9z2/+8wYHx9XU1NT0w9Wq/h6l+Ft/Ixv8SR2rngMNf8/6rgbEFUnmNm4FfvgQCzHc9io4nHU/L+YrY67gVB1gjkU9+ADLMEcbIJ9Kx5HlVyESZw86IH8xyii638h7kYyjtoTzMY4G4/hU/yOn/AqztKfZLRe0u8Pfei7KHOEAyeFDmUxK3l/p8Q+u2UQPu4Xveg6qLjrRf9hiqPjcQteEcvOSdyf1XBm298n4DZ8jYX4HJvhWNyJw5I2kyUOtInFeKPEPrthayHYr1i35L5n4Rd8UnK/3TAIH/eLXnRtGkzc9aL/MMXRFdhNfF++xI55Ddsz5sc4ClvhVFEYOzP58Bc4TghRFtdjfyHo31320RDOmN3DOGaI6fP3uL2HfrJYBzvgXeV9aRu6t7lqH+fR0JvfetG117hrqF7/suOooTf9L8T2WB/nTtewPcG8IKrr/6TaLDP1xcsa0Cl4QIj3C34UFfu501z3BpyOg8RUcZDME4W/ufitg/ZF7B0TGqentRviceHkJtYoPuyuqNLH/WRMd7oOOu661X/McMXRQjGTWmWym7mqBgl/Je/LU8fXw3wsEuuxb7Apjsbdyd/XpT5zM07EAVja4fX7xU64FjfhZZFopqOovXsk7+2BsRceFk8wTsAjPVlQHmX6uN90o+swxV0WefozWnG0Ap0kmJki68MzqXOTon6xLHX8CnG3m2vF4LsVp+EYUWDbPDn+a/Kqkpm4T6yDL+/wM0XtTRfmLhIJ7UMcknxmGCjTx1VQVNdhirssptOf0YmjlegkwVwrNiU9hQWpc3kO+hpfWXmfQWu99nzq+NUY72AsZXIVdsd+oprfCUXtbRXmvhNT2aPEbODcAtesgjJ9XAVFdR2muMtiOv0ZnThaiVUlmHm4WGTKORnnN8T5OEIUoda3Yl3nvVT7Gd0NE0xgm5xzCzOOzRfFrCz2FLOWG/B6gTEUsXdtsQT7Rtx5NsM5uKPA9SaUZ3MeZfs4zYRybehG127jbsLg9e81jib034Zcpksw54naxFJRFEvvGdgVzwqD38JDSZu/sK2Y8r1f1kBFEWuD1LExUQuYL4RsZ3FOP62l0ce4ssD1i9q7W3KttbCl2CdQJLlQns15VOHjpnJtKEPXTmkarP70bm9Tf22YlrwEcwFuFDsfDxLZM819YuAH4MXUuWuS90W9DrCNZsaxhhDq3owx5LGueMQGf+S0uSN53SS0oLi9rcLcxWJj0mniDtTscJxy2jYUtzmLC1Tj42bGsYbubShD107J6rOhOv3p3d6sdg3l2LBKshLMpWJNuBgHi3Vfmq3F3W2BlQe4ganHl8Ow6zDNn7gr59wsUZd5FR+ZWj51Y2+rMLdIVPhfEkuyz/Fot4MviVH28TDr2imd6N9ipO1NJ5grxZ3pHVGdzttK3brzbyeevbcesW2MB8VGouVKnm6VxO/yfwowLhLMfLGzskU39s5KrvWh2NB1pNg5er+4YxWp/ZTJqPt4WHXtlE71bzHS9rYnmDOE4X+L/Q7zMtpPiGnVt2LT0IF4U/wydQux1Xmh2Ei0VP4SZNQoau+a4qnAe6Z2iy7D4XgNT2Bv1W/2GnUfD6uunVJEf4bX3mOSF1OP/Pc2Ne7vcAkrJphtk/fVTdUd0rzU1slJYqp2mHhctkQ8n18i1opl1l+GgSL27iLu+uknLEvFVvAFeFo4ZbrpcdmMuo+HVddOKar/sNo7JpJlO9slL/hMkmBm1P/Rrqampl+M0s/za2pqRow6wdTU1PSNOsHU1NT0jX8BXldHiTn0o+AAAAAASUVORK5CYII=\n",
      "text/latex": [
       "$\\displaystyle 2 a^{2} + 4 a k + 2 a + k^{2} + 2 k + 1$"
      ],
      "text/plain": [
       "   2                  2          \n",
       "2⋅a  + 4⋅a⋅k + 2⋅a + k  + 2⋅k + 1"
      ]
     },
     "execution_count": 49,
     "metadata": {},
     "output_type": "execute_result"
    }
   ],
   "source": [
    "LatticePoints(k,a)"
   ]
  },
  {
   "cell_type": "code",
   "execution_count": 50,
   "metadata": {},
   "outputs": [
    {
     "data": {
      "image/png": "iVBORw0KGgoAAAANSUhEUgAAAEsAAAAYCAYAAACyVACzAAADb0lEQVR4nO3Yf4imUxQH8M+sxW7j95KNYhMmRcbs5mdtuyxKivwoW2ttFLYkln+UPyYJpckgq/jDkIRsWZQUzbab2uyOmaLdDWWRljWtkGx+NP449zGP570z+z7vzM4Mzbdu933PPefe83yfe849z23r7u42i+YwZ7odmEF4ANvwM37A2zi7rDBL1iiWYT0uxqX4E+/juEJhLLJewl60V+TrMIKVk+zoVGCx8P22McavxAv4FJ/gZpyASwqFHFlLsAqP4dfKWFfqB1p2efJwA57GFhE6I3h5HP0BvImHcUQT8x8p+NlXCHJkPZIWfzYz1oVf8HkTix1sPIi70Ilvm7R5FAtxdxO6vRjC1kJQJetMrMDr+K0y1o4OfCze4mRgTZprWQu29wp/j8LaJm0+wi7cgUPG0XscS3Ej/iqEVbJuRRtey0zQmfSrIXgsNoqH7sWhTTo+UfSLHV73xb2KU8SmyKEHq3EZvigPVMlaIZjcqhGLU18m6wIMYrl4C/fgj+b9nhZ8mPrLM2NPiXy9HDuqg2Wy2sXu2akxsdOY3NcZTa5L8EZNp6cL21K/tCJfL9LCSpHUF6b2z2FQJutkEcd7xlikSO7DIux68IrYXZ9NxPspxk/YL0KxjLXiBPxAcFC0+wuFuSXlBan/MbPAPJwlaq8BnIjb8XwNJ3fj1DHG+jOyF8WbPhjYJ56hjLYDGZXJKk6/eRm9c5Pu4ThJ1DN1iCKS/zEVWSeuEcTsrowN1Zy/DuZrPO0PiDJZe1O/IKNXJPf7RDG4Suyw3hpr5XTXCLL6sKnGXBPBHPHSvmzFsMAe8QHZkdErkvt23CSI6sF1dRecAegQITdU17BM1gg243icXtHrEtt2lzgpr8Y3Ihwvqu3u9OLC1Ofy5LiYW/m/AdeLj8qiIDtMXFUMGq1mv8NVomZ5SxD2rwJuCnBtasQRL/nRl34PK51kJVwhnmNj3QVzZH0vKthnkuwcUZUPVnR3iDB8D+8mR4frOjABdOKWiuy01OArjWQdLQh+R0RGLVQr+N/xJM7HeUk2IGL8zox9v9h5Z2iNqL4096YWbLuT7VhtUcZmtTjte1pYL3vr8AS+xkOtTDiDMV/chm4QXx61kSNrv7j42q7x8u+/jEV4Tj6PNYVqziqwObX/E3aK0G0Zs3fwNTBLVg38DYX1ptCKdVEpAAAAAElFTkSuQmCC\n",
      "text/latex": [
       "$\\displaystyle \\left(k + 1\\right)^{2}$"
      ],
      "text/plain": [
       "       2\n",
       "(k + 1) "
      ]
     },
     "execution_count": 50,
     "metadata": {},
     "output_type": "execute_result"
    }
   ],
   "source": [
    "LatticePoints(k,0)"
   ]
  },
  {
   "cell_type": "code",
   "execution_count": 52,
   "metadata": {},
   "outputs": [
    {
     "data": {
      "image/png": "iVBORw0KGgoAAAANSUhEUgAAAIIAAAAVCAYAAACKYDYGAAAEAklEQVR4nO3aWWhdVRQG4C91aEvEqYKi0BYRq2hpTAXNiwjWCiI4YEGhalRweFCw9UHBhyjiABaD8/BgtSIqBqyI0qeqVXCKFhUNCjYO2FrFsWJ9kPqwTvB0331Oc5Ob9CbND4d9s/baJ+v/zzp7r73v7ejr6zODGcyqsD+D7ehM7KuwC5dOZFAThKUi9qtH4VvFn2mqQS4RTsVK3IO/kr7uoh1sZXRjxMV4EJvwhyD4bI3/IF7GnTioxq+OP+2lwbDgnbu2ZfwrNdg/43yXEPbRTF83/sRXYwq7tbgNS7AD3+OEUYy5G+/hRsEzhzr+tJcG8Dv6M/YdFf5ZDdIZ4Xgsw4v4O+nrxCJ8JDKuFegt7nXmGMbeJOI9GNePcsz7GMK12C/TX8ef1mvQa+z8R/Ab+jLXfRX+WQ3SRLgKHXghc4Ouwj+dEg/DekGoHweMIvhWYKN4K5t9IM9jvnjgKer4034ajBUNGqRLwzL8i3czg5cWbVmE04Roh2MFXmpVpBOId4r2bGxI+ur4054azBY1zXxR03yCtwSPKjRoUE6ETpHxXxhdkbRKFFRDWI4vmySwt/BB0Z6R2PfEn/bU4CisS2xbcCXerBjToEF5aThGrBlbKwaPFEk/i2lwDZ4Tb8RUSQKiuNop3qAy9sSf9tPgKZwlkqETi/E4FuJ1UUzn0KBBeUaYV7S/ZgbOwYlibz2II3ENnmwi6GEsqOjbmLE9LYqpicAvgkMZdfwZvwbDWs//9uTvz3Cd2DGsFkXjhRVjd9OgnAgjVfKczKAlhe9sHC32680kAVFEHZrYunC+ID2c9G1u8v7NYK7GXUEdf8avQb/J4/+YSIR0+StjNw3KibC9aOdpxEiRtFoc5KwUb0V/E8HlfHuFEGvxRhP3Gg9miQeyJbHX8Wf8GuT8ek0M/xEuuZNRMhqUa4St+Ensk1OMFEkf4hIhwBpcNPZY9xoWiS3i5sRex5+ppUFP0X5d0d+gQTkRdoltxxE4LhnYLaaRIVFRn4fvxPTYY2rh9KJN1+U6/rSfBieJLWuKBXio+Fx15N6gQXqgNFC055RsB+JkfOr/vek2nIt/8Iq8cBONC8SUuha3FLaekq3qZG254LE+05fjT3tqsAI/iN3BI7hXnGEMFbG8pgkN0gOlAfyIy/FwYVssTso+Tnw/F9PihiKYHrGtmix04YrEdmxxwTe4Oek/RCTQq+JtTpHjT3tqsFFM8acU/7dTHDe/Lc4V1smfumY16Mj8HuFW8WVEt0biUx034AFRTW+q8JnO/KnQIPc19P34FndMTlyThrniIQ+oTgKmL39qNMglwk5cJqrjqu3HVMRCPKFxuUgxXflTo0FuaZjBPoiqn6rNYB/DfzCSKM/jw49qAAAAAElFTkSuQmCC\n",
      "text/latex": [
       "$\\displaystyle \\left(k + 1\\right) \\left(k + 5\\right)$"
      ],
      "text/plain": [
       "(k + 1)⋅(k + 5)"
      ]
     },
     "execution_count": 52,
     "metadata": {},
     "output_type": "execute_result"
    }
   ],
   "source": [
    "LatticePoints(k,1)     # Is equal to (k+1)^{2} + 4(k+1)"
   ]
  },
  {
   "cell_type": "code",
   "execution_count": 53,
   "metadata": {},
   "outputs": [
    {
     "data": {
      "image/png": "iVBORw0KGgoAAAANSUhEUgAAAI4AAAAVCAYAAACQXNaIAAAEp0lEQVR4nO3aa4hVVRQH8J/2UoymMMosRKQyy3AYwzQqMUwjrKQ0CqykSCkIyuyD9SGLCiMiqU89RAuDCqQHZRGFkfTWHPpgYkaWlWZm9CIpzD6sc5njufuemXsZx3tl/nDYd9Ze+8xe/732XmuvewcsXrxYP/pRLwbWkD+HnRhSkC/APlx7ICd1gDBezP2mHujWsr8RHJKcpRznHMzBEvxV6OvI2vW9ObsGMQtPYC1+FwauLNFfj1fwAI4u0Suz/2G8i234G7uxAfdiaI33NRNncwVPZc/enH5NzgYkQtXbmICTBDl5bMQpaMv+ycFEJ8bhT3yPM/C8WPRamIBPcA8eqqFTZv8/+FzwUDmRJgpn+zH7vK0wppk4a8fMGn0X4CK8gRk5eZKzwwuDT8dUPKOatCEYLXZ4bxEwF8sxBe/VOfYO4TBbMBlrejDmU2zCfHF67C30l9kPx2BPQv4g7sYi3JqTNxtnndmTwkdZ+1RBnuSsGKpuxAC8mHhxe6ZfPHKPw6uCmKU4onTqvYc1+Er9C/ICRggHKaLMftJOAy9l7WkFebvm4qwWxorT8gdx4hRRxVnRcaYKj/o4MXh81uZJOFfE+CmYjdvxb/3z7lN8kLUXJ/rK7C/DZVn7RUHeKpzNz9plqk9hEpzlQ9UQsUO+VJ0UUp3kLRAJ5CZMw+ZGZnwQ8FnWXliQd2d/HgtFstgm8pvzhdMsKei1AmeDRV74nwjRKVRxlneck3EYttcY3IE/sEscs5fjWdwinQ80K34TIWdEQd6d/XksxIm5v98SucfPBb1W4OxqHCtCVDGxr6CKs3yoqlwnf00MHIQxgoT1YrfME2T1lICtqq9+y7O+NYm+FT18byPYjeMLsjL7ixgmcqFhuBKjRPjpyOm0CmfzsvbJbvT24yx/4lSMGZQYNC7TPQrDRb3k6TonuFR4dh7tuELswq2Fvs46318PBqtevDL7a+EnvCyu6JtF4XBs1tcKnJ2J88TtdHU3uvtxlnecnVmbKmRVkrw7ReFtjthFS+uYZEp3riBhhfqvlo1ioFiMbwryMvu7w7eiXtMuduUurcFZd0lxBVWc5UPVdhGjRycGVo7gdbhGEPCoOKZbDaNFmOksyMvs7wmGZ21lAZqds0G4TiTFy7rRreIs7zj78L7YMacWBnaIY2qTuHHMEInUSkxqeOoHBxOztlgwLLOfqEwPS8gHigLgCfhQV47U7JzNFvWk1WonxRVUcVasHK/CVZguKrJwpIjbG3Ttph24VNzvXxNEbNG3mKmrfF5Z0Em6EsRd4vZTxDRhx6uJvpT9FVyCR4RzfY1fxM1qskiOd+DmTLdZOcujkhQXK8UpVHFWLACuEgnf9TnZ2aKyuaGgu1Ecu214U/Ut5UCjHTdkz/RMNionm5UY0yac7XXpXZayv4J3BMlDhd13CSfbjftwluCE5uWsgjGi9tSTpDjJWepLzkXiy6wO1Ya3Om7D46KQtbaGzqFsfyNIcpb6WcVj+A739828+gyDhVOsUttpOHTtbwQ1OUs5zh6Rba/TOz9kahaMFKEmlffkcaja3whGqsFZKlT1ox/dotZPR/vRj1L8D6BxZLzWqxPdAAAAAElFTkSuQmCC\n",
      "text/latex": [
       "$\\displaystyle \\left(k + 1\\right) \\left(3 k + 7\\right)$"
      ],
      "text/plain": [
       "(k + 1)⋅(3⋅k + 7)"
>>>>>>> Stashed changes
      ]
     },
     "execution_count": 2,
     "metadata": {},
     "output_type": "execute_result"
    }
   ],
   "source": [
    "Sum(n,m,a) # Take their sum"
   ]
  },
  {
   "cell_type": "code",
   "execution_count": 3,
   "metadata": {},
   "outputs": [
    {
     "data": {
      "image/png": "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\n",
      "text/latex": [
       "$\\displaystyle \\frac{\\left(a + 1\\right) \\left(a + 2\\right) \\left(a^{2} + 2 a m + 2 a n + 3 a + 3 m n + 3 m + 3 n + 3\\right)}{6}$"
      ],
      "text/plain": [
       "                ⎛ 2                                              ⎞\n",
       "(a + 1)⋅(a + 2)⋅⎝a  + 2⋅a⋅m + 2⋅a⋅n + 3⋅a + 3⋅m⋅n + 3⋅m + 3⋅n + 3⎠\n",
       "──────────────────────────────────────────────────────────────────\n",
       "                                6                                 "
      ]
     },
     "execution_count": 3,
     "metadata": {},
     "output_type": "execute_result"
    }
   ],
   "source": [
    "factor(SumLimit(n,m,a)) # And let ϕ tend to zero"
   ]
  },
  {
   "cell_type": "code",
   "execution_count": 4,
   "metadata": {},
   "outputs": [],
   "source": [
    "def Euler(n,m,a):\n",
    "    return factor(Rational(1,6) * ( (a+1)*(a+2) * (a**2 + a*(2*m + 2*n + 3) + 3*(m*n + m + n + 1)) ))"
   ]
  },
  {
   "cell_type": "code",
   "execution_count": 5,
   "metadata": {},
   "outputs": [
    {
     "data": {
      "image/png": "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\n",
      "text/latex": [
       "$\\displaystyle \\frac{\\left(a + 1\\right) \\left(a + 2\\right) \\left(a^{2} + 2 a m + 2 a n + 3 a + 3 m n + 3 m + 3 n + 3\\right)}{6}$"
      ],
      "text/plain": [
       "                ⎛ 2                                              ⎞\n",
       "(a + 1)⋅(a + 2)⋅⎝a  + 2⋅a⋅m + 2⋅a⋅n + 3⋅a + 3⋅m⋅n + 3⋅m + 3⋅n + 3⎠\n",
       "──────────────────────────────────────────────────────────────────\n",
       "                                6                                 "
      ]
     },
     "execution_count": 5,
     "metadata": {},
     "output_type": "execute_result"
    }
   ],
   "source": [
    "Euler(m,n,a)"
   ]
  },
  {
   "cell_type": "code",
   "execution_count": 6,
   "metadata": {},
   "outputs": [],
   "source": [
    "def RemoveCP2s(n,m,a):\n",
    "    return simplify(Euler(m,n,a) * ( 2 / ( (a+1)*(a+2) ) ))"
   ]
  },
  {
   "cell_type": "code",
   "execution_count": 7,
   "metadata": {},
   "outputs": [
    {
     "data": {
      "image/png": "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\n",
      "text/latex": [
       "$\\displaystyle \\frac{a^{2}}{3} + \\frac{2 a m}{3} + \\frac{2 a n}{3} + a + m n + m + n + 1$"
      ],
      "text/plain": [
       " 2                                      \n",
       "a    2⋅a⋅m   2⋅a⋅n                      \n",
       "── + ───── + ───── + a + m⋅n + m + n + 1\n",
       "3      3       3                        "
      ]
     },
     "execution_count": 7,
     "metadata": {},
     "output_type": "execute_result"
    }
   ],
   "source": [
    "RemoveCP2s(n,m,a) # Removes the (a+1)(a+2)/2 factor"
   ]
  },
  {
   "cell_type": "code",
   "execution_count": null,
   "metadata": {},
   "outputs": [],
   "source": []
  }
 ],
 "metadata": {
  "kernelspec": {
   "display_name": "Python 3",
   "language": "python",
   "name": "python3"
  },
  "language_info": {
   "codemirror_mode": {
    "name": "ipython",
    "version": 3
   },
   "file_extension": ".py",
   "mimetype": "text/x-python",
   "name": "python",
   "nbconvert_exporter": "python",
   "pygments_lexer": "ipython3",
   "version": "3.7.3"
  }
 },
 "nbformat": 4,
 "nbformat_minor": 4
}
