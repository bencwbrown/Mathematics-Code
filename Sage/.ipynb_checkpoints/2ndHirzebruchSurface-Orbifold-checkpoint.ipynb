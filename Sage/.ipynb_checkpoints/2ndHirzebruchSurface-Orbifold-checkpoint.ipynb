{
 "cells": [
  {
   "cell_type": "code",
   "execution_count": 1,
   "metadata": {},
   "outputs": [],
   "source": [
    "from sympy import *\n",
    "from sympy.vector import Vector\n",
    "from sympy.vector import CoordSys3D\n",
    "import IPython.display as disp\n",
    "\n",
    "N = CoordSys3D('N')\n",
    "\n",
    "t, k, a, b, m = symbols( 't k a b m' )\n",
    "# init_printing(use_unicode=True)\n",
    "init_printing(use_latex='mathjax')\n",
    "\n",
    "# Basis for the edge/weight vectors for the points \n",
    "\n",
    "v1 = N.i\n",
    "v2 = N.j\n",
    "\n",
    "# Define the vector which is not parallel to any edge vector, which will tend to zero:\n",
    "\n",
    "Phi = t*(v1 + 3*v2)\n",
    "\n",
    "# Set the fixed points of the action; P denotes those that belong\n",
    "# to the core, and Q those that come from the cut extended core:\n",
    "\n",
    "def P12(a,b,m):\n",
    "    return Vector.zero\n",
    "\n",
    "def P23(a,b,m):\n",
    "    return (a + Rational(1,2)*(m*b))*v1\n",
    "\n",
    "def P34(a,b,m):\n",
    "    return (a - Rational(1,2)*(m*b))*v1 + b*v2\n",
    "\n",
    "def P14(a,b,m):\n",
    "    return b*v2"
   ]
  },
  {
   "cell_type": "code",
   "execution_count": 2,
   "metadata": {},
   "outputs": [
    {
     "data": {
      "text/latex": [
       "$\\displaystyle \\mathbf{\\hat{0}}$"
      ],
      "text/plain": [
       "0"
      ]
     },
     "metadata": {},
     "output_type": "display_data"
    },
    {
     "data": {
      "text/latex": [
       "$\\displaystyle (a + \\frac{b m}{2})\\mathbf{\\hat{i}_{N}}$"
      ],
      "text/plain": [
       "(a + b*m/2)*N.i"
      ]
     },
     "metadata": {},
     "output_type": "display_data"
    },
    {
     "data": {
      "text/latex": [
       "$\\displaystyle (a - \\frac{b m}{2})\\mathbf{\\hat{i}_{N}} + (b)\\mathbf{\\hat{j}_{N}}$"
      ],
      "text/plain": [
       "(a - b*m/2)*N.i + b*N.j"
      ]
     },
     "metadata": {},
     "output_type": "display_data"
    },
    {
     "data": {
      "text/latex": [
       "$\\displaystyle (b)\\mathbf{\\hat{j}_{N}}$"
      ],
      "text/plain": [
       "b*N.j"
      ]
     },
     "metadata": {},
     "output_type": "display_data"
    }
   ],
   "source": [
    "disp.display(P12(a,b,m))\n",
    "disp.display(P23(a,b,m))\n",
    "disp.display(P34(a,b,m))\n",
    "disp.display(P14(a,b,m))"
   ]
  },
  {
   "cell_type": "code",
   "execution_count": 21,
   "metadata": {},
   "outputs": [],
   "source": [
    "# Define the term which is summed over each fixed point,\n",
    "# representing the character for the representation\n",
    "\n",
    "def P(P, edge1, edge2, edge3, edge4):\n",
    "    return exp( Phi.dot(P) ) / ( (1 - exp( Phi.dot(edge1) ) ) * ( 1 - exp( Phi.dot(edge2) ) ) * ( 1 - exp( Phi.dot(edge3) ) ) * ( 1 - exp( Phi.dot(edge4) ) ) )\n",
    "\n",
    "def Q(P, edge1, edge2):\n",
    "    return exp( Phi.dot(P) ) / ( (1 - exp( Phi.dot(edge1) ) ) * ( 1 - exp( Phi.dot(edge2) ) ) )\n",
    "\n",
    "def Exp(p, q):\n",
    "    return exp( 2*pi*I*Rational(p,q) )\n",
    "\n",
    "def OrbiFactor(p, q, edge):\n",
    "    return ( 1 - ( Exp(p,q) * exp( Rational(p,q) * Phi.dot(edge) ) ) )\n",
    "\n",
    "# Factor for the orbifold points:\n",
    "\n",
    "def Orb(Q, p, q, edge1, edge2):\n",
    "    return ( Rational(1,q) * exp( Phi.dot(Q) ) ) / ( (1 - ( Exp(p,q) * exp(  Phi.dot(edge1) ) ) ) * ( 1 - ( Exp(p,q) * exp( Rational(1,q) * Phi.dot(edge2) ) ) ) )\n",
    "\n"
   ]
  },
  {
   "cell_type": "code",
   "execution_count": 16,
   "metadata": {},
   "outputs": [
    {
     "data": {
      "text/latex": [
       "$\\displaystyle \\frac{e^{\\frac{3 b t}{2} + \\frac{t \\left(a - \\frac{b m}{2}\\right)}{2}}}{2 \\left(1 + e^{- \\frac{t}{2}}\\right) \\left(e^{t} + 1\\right)} + \\frac{e^{\\frac{3 b t}{2} + \\frac{t \\left(a - \\frac{b m}{2}\\right)}{2}}}{2 \\left(1 - e^{- \\frac{t}{2}}\\right) \\left(1 - e^{t}\\right)}$"
      ],
      "text/plain": [
       "            ⎛    b⋅m⎞               ⎛    b⋅m⎞\n",
       "          t⋅⎜a - ───⎟             t⋅⎜a - ───⎟\n",
       "  3⋅b⋅t     ⎝     2 ⎠     3⋅b⋅t     ⎝     2 ⎠\n",
       "  ───── + ───────────     ───── + ───────────\n",
       "    2          2            2          2     \n",
       " ℯ                       ℯ                   \n",
       "───────────────────── + ─────────────────────\n",
       "  ⎛     -t ⎞              ⎛     -t ⎞         \n",
       "  ⎜     ───⎟              ⎜     ───⎟         \n",
       "  ⎜      2 ⎟ ⎛ t    ⎞     ⎜      2 ⎟ ⎛     t⎞\n",
       "2⋅⎝1 + ℯ   ⎠⋅⎝ℯ  + 1⎠   2⋅⎝1 - ℯ   ⎠⋅⎝1 - ℯ ⎠"
      ]
     },
     "execution_count": 16,
     "metadata": {},
     "output_type": "execute_result"
    }
   ],
   "source": [
    "# The factor for the orbifold point P34, located at (a - bm/2,b):\n",
    "\n",
    "Orb(P34(a,b,m), 1, 2, 2*v1 - v1, -v1) + Orb(P34(a,b,m), 2, 2, 2*v1 -v1, -v1)"
   ]
  },
  {
   "cell_type": "code",
   "execution_count": 22,
   "metadata": {},
   "outputs": [
    {
     "data": {
      "text/latex": [
       "$\\displaystyle \\frac{e^{t \\left(a + \\frac{b m}{2}\\right)}}{2 \\left(1 + e^{- 5 t}\\right) \\left(1 + e^{- \\frac{t}{2}}\\right)} + \\frac{e^{t \\left(a + \\frac{b m}{2}\\right)}}{2 \\left(1 - e^{- 5 t}\\right) \\left(1 - e^{- \\frac{t}{2}}\\right)}$"
      ],
      "text/plain": [
       "         ⎛    b⋅m⎞                  ⎛    b⋅m⎞      \n",
       "       t⋅⎜a + ───⎟                t⋅⎜a + ───⎟      \n",
       "         ⎝     2 ⎠                  ⎝     2 ⎠      \n",
       "      ℯ                          ℯ                 \n",
       "──────────────────────── + ────────────────────────\n",
       "              ⎛     -t ⎞                 ⎛     -t ⎞\n",
       "              ⎜     ───⎟                 ⎜     ───⎟\n",
       "  ⎛     -5⋅t⎞ ⎜      2 ⎟     ⎛     -5⋅t⎞ ⎜      2 ⎟\n",
       "2⋅⎝1 + ℯ    ⎠⋅⎝1 + ℯ   ⎠   2⋅⎝1 - ℯ    ⎠⋅⎝1 - ℯ   ⎠"
      ]
     },
     "execution_count": 22,
     "metadata": {},
     "output_type": "execute_result"
    }
   ],
   "source": [
    "# The factor for the orbifold point P23, located at (a + bm/2,0):\n",
    "\n",
    "Orb(P23(a,b,m), 1, 2, -2*v1 - v2, -v1) + Orb(P23(a,b,m), 2, 2, -2*v1 - v2, -v1)"
   ]
  },
  {
   "cell_type": "code",
   "execution_count": 23,
   "metadata": {},
   "outputs": [],
   "source": [
    "# Contribution for each non-orbifold point:\n",
    "\n",
    "# The interior points:\n",
    "\n",
    "def IntP12(a,b,m):\n",
    "    return Q(P12(a,b,m), v1, v2)\n",
    "\n",
    "def OrbP23(a,b,m):\n",
    "    return Orb(P23(a,b,m), 1, 2, -2*v1 + v2, -v1) + Orb(P23(a,b,m), 2, 2, -2*v1 + v2, -v1)\n",
    "\n",
    "def OrbP34(a,b,m):\n",
    "    return Orb(P34(a,b,m), 1, 2, 2*v1 - v2, -v1) + Orb(P34(a,b,m), 2, 2, 2*v1 - v2, -v1)\n",
    "\n",
    "def IntP14(a,b,m):\n",
    "    return Q(P14(a,b,m), v1, -v2)"
   ]
  },
  {
   "cell_type": "code",
   "execution_count": 24,
   "metadata": {},
   "outputs": [
    {
     "data": {
      "text/latex": [
       "$\\displaystyle \\frac{1}{\\left(1 - e^{t}\\right) \\left(1 - e^{3 t}\\right)} + \\frac{e^{t \\left(a + \\frac{b m}{2}\\right)}}{2 \\left(1 + e^{- \\frac{t}{2}}\\right) \\left(e^{t} + 1\\right)} + \\frac{e^{t \\left(a + \\frac{b m}{2}\\right)}}{2 \\left(1 - e^{- \\frac{t}{2}}\\right) \\left(1 - e^{t}\\right)} + \\frac{e^{3 b t + t \\left(a - \\frac{b m}{2}\\right)}}{2 \\left(1 + e^{- t}\\right) \\left(1 + e^{- \\frac{t}{2}}\\right)} + \\frac{e^{3 b t + t \\left(a - \\frac{b m}{2}\\right)}}{2 \\left(1 - e^{- t}\\right) \\left(1 - e^{- \\frac{t}{2}}\\right)} + \\frac{e^{3 b t}}{\\left(1 - e^{- 3 t}\\right) \\left(1 - e^{t}\\right)}$"
      ],
      "text/plain": [
       "                              ⎛    b⋅m⎞               ⎛    b⋅m⎞               \n",
       "                            t⋅⎜a + ───⎟             t⋅⎜a + ───⎟         3⋅b⋅t \n",
       "                              ⎝     2 ⎠               ⎝     2 ⎠               \n",
       "         1                 ℯ                       ℯ                   ℯ      \n",
       "─────────────────── + ───────────────────── + ───────────────────── + ────────\n",
       "⎛     t⎞ ⎛     3⋅t⎞     ⎛     -t ⎞              ⎛     -t ⎞                    \n",
       "⎝1 - ℯ ⎠⋅⎝1 - ℯ   ⎠     ⎜     ───⎟              ⎜     ───⎟                    \n",
       "                        ⎜      2 ⎟ ⎛ t    ⎞     ⎜      2 ⎟ ⎛     t⎞     ⎛     \n",
       "                      2⋅⎝1 + ℯ   ⎠⋅⎝ℯ  + 1⎠   2⋅⎝1 - ℯ   ⎠⋅⎝1 - ℯ ⎠   2⋅⎝1 + ℯ\n",
       "\n",
       "    ⎛    b⋅m⎞                ⎛    b⋅m⎞                        \n",
       "+ t⋅⎜a - ───⎟      3⋅b⋅t + t⋅⎜a - ───⎟                        \n",
       "    ⎝     2 ⎠                ⎝     2 ⎠            3⋅b⋅t       \n",
       "                  ℯ                              ℯ            \n",
       "────────────── + ────────────────────── + ────────────────────\n",
       "    ⎛     -t ⎞               ⎛     -t ⎞   ⎛     -3⋅t⎞ ⎛     t⎞\n",
       "    ⎜     ───⎟               ⎜     ───⎟   ⎝1 - ℯ    ⎠⋅⎝1 - ℯ ⎠\n",
       "-t⎞ ⎜      2 ⎟     ⎛     -t⎞ ⎜      2 ⎟                       \n",
       "  ⎠⋅⎝1 + ℯ   ⎠   2⋅⎝1 - ℯ  ⎠⋅⎝1 - ℯ   ⎠                       "
      ]
     },
     "execution_count": 24,
     "metadata": {},
     "output_type": "execute_result"
    }
   ],
   "source": [
    "#def Character(n,m,a):\n",
    "#    return IntP12(n,m,a) + OrbQ12_1(n,m,a) + ExtQ12_2(n,m,a) + IntP23(n,m,a) + ExtQ23_2(n,m,a) + Orb23_3(n,m,a) + \n",
    "# IntP34(n,a) + IntP13(n,a) + IntP14(n,a) + ExtQ23_2(n,a) + ExtQ34_4(n,a) + ExtQ13_1(n,a) + ExtQ13_3(n,a) + ExtQ14_4(n,a) + ExtQ12_2(n,a)\n",
    "\n",
    "def Characters(a,b,m):\n",
    "    return IntP12(a,b,m) + OrbP23(a,b,m)+ OrbP34(a,b,m) + IntP14(a,b,m)\n",
    "\n",
    "Characters(a,b,m)"
   ]
  },
  {
   "cell_type": "code",
   "execution_count": 27,
   "metadata": {},
   "outputs": [
    {
     "data": {
      "text/latex": [
       "$\\displaystyle 24$"
      ],
      "text/plain": [
       "24"
      ]
     },
     "execution_count": 27,
     "metadata": {},
     "output_type": "execute_result"
    }
   ],
   "source": [
    "limit(Characters(4,4,2), t, 0)"
   ]
  },
  {
   "cell_type": "code",
   "execution_count": 26,
   "metadata": {},
   "outputs": [
    {
     "data": {
      "text/latex": [
       "$\\displaystyle a b + a + \\frac{3 b}{4} + 1$"
      ],
      "text/plain": [
       "          3⋅b    \n",
       "a⋅b + a + ─── + 1\n",
       "           4     "
      ]
     },
     "execution_count": 26,
     "metadata": {},
     "output_type": "execute_result"
    }
   ],
   "source": [
    "limit(Characters(a,b,2), t, 0)"
   ]
  },
  {
   "cell_type": "code",
   "execution_count": 14,
   "metadata": {},
   "outputs": [
    {
     "data": {
      "text/latex": [
       "$\\displaystyle \\frac{41}{2}$"
      ],
      "text/plain": [
       "41/2"
      ]
     },
     "execution_count": 14,
     "metadata": {},
     "output_type": "execute_result"
    }
   ],
   "source": [
    "limit(Characters(6,2,2), t, 0)"
   ]
  },
  {
   "cell_type": "code",
   "execution_count": null,
   "metadata": {},
   "outputs": [],
   "source": []
  },
  {
   "cell_type": "code",
   "execution_count": null,
   "metadata": {},
   "outputs": [],
   "source": []
  },
  {
   "cell_type": "code",
   "execution_count": null,
   "metadata": {},
   "outputs": [],
   "source": []
  },
  {
   "cell_type": "code",
   "execution_count": null,
   "metadata": {},
   "outputs": [],
   "source": []
  },
  {
   "cell_type": "code",
   "execution_count": null,
   "metadata": {},
   "outputs": [],
   "source": []
  },
  {
   "cell_type": "code",
   "execution_count": null,
   "metadata": {},
   "outputs": [],
   "source": [
    "for a in range(0, 5):\n",
    "    disp.display(simplify(CutDiff(k,a)))\n",
    "\n",
    "a = symbols('a')"
   ]
  }
 ],
 "metadata": {
  "kernelspec": {
   "display_name": "Python 3",
   "language": "python",
   "name": "python3"
  },
  "language_info": {
   "codemirror_mode": {
    "name": "ipython",
    "version": 3
   },
   "file_extension": ".py",
   "mimetype": "text/x-python",
   "name": "python",
   "nbconvert_exporter": "python",
   "pygments_lexer": "ipython3",
   "version": "3.8.5"
  }
 },
 "nbformat": 4,
 "nbformat_minor": 4
}
