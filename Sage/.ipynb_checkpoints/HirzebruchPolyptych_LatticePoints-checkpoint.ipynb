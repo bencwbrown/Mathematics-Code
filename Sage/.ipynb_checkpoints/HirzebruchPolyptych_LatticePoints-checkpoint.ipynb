{
 "cells": [
  {
   "cell_type": "code",
   "execution_count": 35,
   "metadata": {},
   "outputs": [],
   "source": [
    "from sympy import *\n",
    "from sympy.vector import Vector\n",
    "from sympy.vector import CoordSys3D\n",
    "import IPython.display as disp\n",
    "\n",
    "N = CoordSys3D('N')\n",
    "\n",
    "t, k, a, n, m = symbols( 't k a n m' )\n",
    "# init_printing(use_unicode=True)\n",
    "init_printing(use_latex='mathjax')\n",
    "\n",
    "# Basis for the edge/weight vectors for the points \n",
    "\n",
    "v1 = N.i\n",
    "v2 = N.j\n",
    "\n",
    "def coords(X,Y):\n",
    "    return X*v1 + Y*v2\n",
    "\n",
    "# Define the vector which is not parallel to any edge vector, which will tend to zero:\n",
    "\n",
    "Phi = coords(t, 3*t)\n",
    "\n",
    "# Set the fixed points of the action; P denotes those that belong\n",
    "# to the core, and Q those that come from the cut extended core:\n",
    "\n",
    "def P12(n,m,a):\n",
    "    return Vector.zero\n",
    "\n",
    "def P23(n,m,a):\n",
    "    coords(n,0)\n",
    "\n",
    "def P34(n,m,a):\n",
    "    return -m*v1 + (n+m)*v2\n",
    "\n",
    "def P14(n,m,a):\n",
    "    return (n+m)*v2\n",
    "\n",
    "def P13(n,m,a):\n",
    "    return n*v2"
   ]
  },
  {
   "cell_type": "code",
   "execution_count": 39,
   "metadata": {},
   "outputs": [],
   "source": [
    "def Q12_1(n,m,a):\n",
    "    return -a*v2\n",
    "    \n",
    "def Q12_2(n,m,a):\n",
    "    return -2*a*v1\n",
    "\n",
    "def Q23_2(n,m,a):\n",
    "    return (n + 2*a)*v1\n",
    "\n",
    "def Q23_3(n,m,a):\n",
    "    return (n+a)*v1 - a*v2\n",
    "\n",
    "def Q34_3(n,m,a):\n",
    "    return (-n - m - 2*a)*v1 + (2*n + m + 2*a)*v2\n",
    "\n",
    "def Q34_4(n,m,a):\n",
    "    return (-n - m - 2*a)*v1 + (n + m)*v2\n",
    "\n",
    "def Q14_1(n,m,a):\n",
    "    return (2*n + m + 2*a)*v2\n",
    "\n",
    "def Q14_4(n,m,a):\n",
    "    return (n + 2*a)*v1 + (n + m)*v2\n",
    "\n",
    "# Define the term which is summed over each fixed point,\n",
    "# representing the character for the representation\n",
    "\n",
    "def P(P, edge1, edge2, edge3, edge4):\n",
    "    return exp( Phi.dot(P) ) / ( (1 - exp( Phi.dot(edge1) ) ) * ( 1 - exp( Phi.dot(edge2) ) ) * ( 1 - exp( Phi.dot(edge3) ) ) * ( 1 - exp( Phi.dot(edge4) ) ) )\n",
    "\n",
    "\n",
    "def Q(P, edge1, edge2):\n",
    "    return exp( Phi.dot(P) ) / ( (1 - exp( Phi.dot(edge1) ) ) * ( 1 - exp( Phi.dot(edge2) ) ) )\n",
    "\n",
    "def Exp(p, q):\n",
    "    return exp( 2*pi*I*Rational(p,q) )\n",
    "\n",
    "def OrbiFactor(p, q, edge):\n",
    "    return ( 1 - ( Exp(p,q) * exp( Rational(p,q) * Phi.dot(edge) ) ) )\n",
    "\n",
    "# In the OrbifoldFactor() function, the first two edges should correspond to the tangent space weights, i.e. the weights along the exterior boundary:\n",
    "\n",
    "def OrbifoldFactor(Q, p, q, edge1, edge2, edge3, edge4):\n",
    "    return ( Rational(1,q) * exp( Phi.dot(Q) ) ) / ( ( 1 - exp( Phi.dot(edge1) ) ) * ( 1 - exp( Phi.dot(edge2) ) ) * (1 - ( Exp(p,q) * exp( Rational(1,q) * Phi.dot(edge3) ) ) ) * ( 1 - ( Exp(p,q) * exp( Rational(1,q) * Phi.dot(edge4) ) ) ) )\n"
   ]
  },
  {
   "cell_type": "code",
   "execution_count": 41,
   "metadata": {},
   "outputs": [
    {
     "data": {
      "text/latex": [
       "$\\displaystyle \\frac{e^{- 3 a t}}{2 \\left(1 - e^{t}\\right) \\left(1 - e^{2 t}\\right) \\left(e^{\\frac{3 t}{2}} + 1\\right)^{2}} + \\frac{e^{- 3 a t}}{2 \\left(1 - e^{t}\\right) \\left(1 - e^{\\frac{3 t}{2}}\\right)^{2} \\left(1 - e^{2 t}\\right)}$"
      ],
      "text/plain": [
       "              -3⋅a⋅t                              -3⋅a⋅t             \n",
       "             ℯ                                   ℯ                   \n",
       "───────────────────────────────── + ─────────────────────────────────\n",
       "                                2                        2           \n",
       "                      ⎛ 3⋅t    ⎞               ⎛     3⋅t⎞            \n",
       "                      ⎜ ───    ⎟               ⎜     ───⎟            \n",
       "  ⎛     t⎞ ⎛     2⋅t⎞ ⎜  2     ⎟      ⎛     t⎞ ⎜      2 ⎟  ⎛     2⋅t⎞\n",
       "2⋅⎝1 - ℯ ⎠⋅⎝1 - ℯ   ⎠⋅⎝ℯ    + 1⎠    2⋅⎝1 - ℯ ⎠⋅⎝1 - ℯ   ⎠ ⋅⎝1 - ℯ   ⎠"
      ]
     },
     "execution_count": 41,
     "metadata": {},
     "output_type": "execute_result"
    }
   ],
   "source": [
    "# The factor for the orbifold point Q12_1, located at (0,-a):\n",
    "\n",
    "OrbifoldFactor(Q12_1(n,m,a), 1, 2, v1, -v1 + v2, v2, v2) + OrbifoldFactor(Q12_1(n,m,a), 2, 2, v1, -v1 + v2, v2, v2)"
   ]
  },
  {
   "cell_type": "code",
   "execution_count": 42,
   "metadata": {},
   "outputs": [
    {
     "data": {
      "text/latex": [
       "$\\displaystyle \\frac{e^{- 3 a t + t \\left(a + n\\right)}}{2 \\left(1 - e^{- t}\\right) \\left(1 - e^{4 t}\\right) \\left(e^{t} + 1\\right)^{2}} + \\frac{e^{- 3 a t + t \\left(a + n\\right)}}{2 \\left(1 - e^{- t}\\right) \\left(1 - e^{t}\\right)^{2} \\left(1 - e^{4 t}\\right)}$"
      ],
      "text/plain": [
       "       -3⋅a⋅t + t⋅(a + n)                 -3⋅a⋅t + t⋅(a + n)       \n",
       "      ℯ                                  ℯ                         \n",
       "──────────────────────────────── + ────────────────────────────────\n",
       "                               2                       2           \n",
       "  ⎛     -t⎞ ⎛     4⋅t⎞ ⎛ t    ⎞      ⎛     -t⎞ ⎛     t⎞  ⎛     4⋅t⎞\n",
       "2⋅⎝1 - ℯ  ⎠⋅⎝1 - ℯ   ⎠⋅⎝ℯ  + 1⎠    2⋅⎝1 - ℯ  ⎠⋅⎝1 - ℯ ⎠ ⋅⎝1 - ℯ   ⎠"
      ]
     },
     "execution_count": 42,
     "metadata": {},
     "output_type": "execute_result"
    }
   ],
   "source": [
    "# The factor for the orbifold point Q23_3, located at (n+a,-a):\n",
    "\n",
    "OrbifoldFactor(Q23_3(n,m,a), 1, 2, v1 + v2, -v1, -v1 + v2, -v1 + v2) + OrbifoldFactor(Q23_3(n,m,a), 2, 2, v1 + v2, -v1, -v1 + v2, -v1 + v2)"
   ]
  },
  {
   "cell_type": "code",
   "execution_count": 43,
   "metadata": {},
   "outputs": [],
   "source": [
    "#def Delta134(n,a):\n",
    "#    return OrbTwo(Q12_1(n,a), 1, 2, v1, v2) + OrbTwo(Q12_1(n,a), 2, 2, v1, v2) + OrbTwo(Q23_3(n,a), 1, 2, -v1, -v1 + v2) + OrbTwo(Q23_3(n,a), 2, 2, -v1, -v1 + v2) + Q(P23(n,a), v1 - v2, -v1) + Q(P12(n,a), v1, -v2)\n",
    "\n",
    "#def Delta34(n,a):\n",
    "#    return OrbTwo(Q12_1(n,a), 1, 2, v2, -2*v1 + v2) + OrbTwo(Q12_1(n,a), 2, 2, v2, -2*v1 + v2) + Q(P12(n,a), -v2, -v1) + Q(Q12_2(n,a), 2*v1 - v2, v1)"
   ]
  },
  {
   "cell_type": "code",
   "execution_count": 3,
   "metadata": {},
   "outputs": [],
   "source": [
    "# Contribution for each non-orbifold point:\n",
    "\n",
    "# The interior points:\n",
    "\n",
    "def IntP12(n,a):\n",
    "    return P(P12(n,a), v1, v2, -v1, -v2 )\n",
    "\n",
    "def IntP23(k,a):\n",
    "    return P(P23(n,a), v1, -v1 + v2, -v1, v1 - v2)\n",
    "\n",
    "def IntP34(n,a):\n",
    "    return P(P34(n,a), v1, -v1 + v2, -v1, v1 - v2)\n",
    "\n",
    "def IntP13(n,a):\n",
    "    return P(P13(n,a), v2, -v1 + v2, -v2, v1 - v2)\n",
    "\n",
    "def IntP14(n,a):\n",
    "    return P(P14(n,a), v1, v2, -v1, -v2)\n",
    "\n",
    "# The exterior points:\n",
    "\n",
    "def ExtQ23_2(n,a):\n",
    "    return P(Q23_2(n,a), v2, -v1, -v1, -v1 - v2)\n",
    "\n",
    "def ExtQ34_4(n,a):\n",
    "    return P(Q34_4(n,a), -v1 + v2, -v1, -v1, -v2)\n",
    "\n",
    "def ExtQ13_1(n,a):\n",
    "    return P(Q13_1(n,a), -v1, -v2, -v2, v1 - v2)\n",
    "\n",
    "def ExtQ13_3(n,a):\n",
    "    return P(Q13_3(n,a), v1, -v2, v1 - v2, v1 - v2)\n",
    "\n",
    "def ExtQ14_4(n,a):\n",
    "    return P(Q14_4(n,a), v1 - v2, v1, v1, v2)\n",
    "\n",
    "def ExtQ12_2(n,a):\n",
    "    return P(Q12_2(n,a), 2*v1 - v2, v1, v1, -v1 + v2)\n",
    "\n",
    "def ExtQ23_3(n,a):\n",
    "    return P(Q23_3(n,a), v1 + v2, -v1 + v2, -v1 + v2, -v1)\n",
    "\n",
    "# The two exterior orbifold points:\n",
    "\n",
    "def OrbQ12_1(n,a):\n",
    "    return O(Q12_1(n,a), 1, 2, v1, v2, v2, -2*v1 + v2) + O(Q12_1(n,a), 2, 2, v1, v2, v2, -2*v1 + v2)\n",
    "\n",
    "def OrbQ23_3(n,a):\n",
    "    return O(Q23_3(n,a), 1, 2, v1 + v2, -v1 + v2, -v1 + v2, -v1) + O(Q23_3(n,a), 2, 2, v1 + v2, -v1 + v2, -v1 + v2, -v1)"
   ]
  },
  {
   "cell_type": "code",
   "execution_count": 77,
   "metadata": {},
   "outputs": [],
   "source": [
    "def Character(n,a):\n",
    "    return OrbQ12_1(n,a) + ExtQ23_3(n,a) + IntP12(n,a) + IntP23(k,a) + IntP34(n,a) + IntP13(n,a) + IntP14(n,a) + ExtQ23_2(n,a) + ExtQ34_4(n,a) + ExtQ13_1(n,a) + ExtQ13_3(n,a) + ExtQ14_4(n,a) + ExtQ12_2(n,a)"
   ]
  },
  {
   "cell_type": "code",
   "execution_count": 78,
   "metadata": {},
   "outputs": [
    {
     "data": {
      "text/latex": [
       "$\\displaystyle \\frac{e^{- 3 a t}}{2 \\left(e^{\\frac{t}{2}} + 1\\right)^{2} \\left(e^{\\frac{3 t}{2}} + 1\\right)^{2}} + \\frac{e^{- 3 a t}}{2 \\left(1 - e^{\\frac{t}{2}}\\right)^{2} \\left(1 - e^{\\frac{3 t}{2}}\\right)^{2}} + \\frac{e^{- 3 a t + t \\left(a + 2 n\\right)}}{\\left(1 - e^{- t}\\right) \\left(1 - e^{2 t}\\right)^{2} \\left(1 - e^{4 t}\\right)} + \\frac{e^{- 2 a t}}{\\left(1 - e^{- t}\\right) \\left(1 - e^{t}\\right)^{2} \\left(1 - e^{2 t}\\right)} + \\frac{e^{t \\left(- 2 a - n\\right)}}{\\left(1 - e^{- 2 t}\\right) \\left(1 - e^{t}\\right)^{2} \\left(1 - e^{3 t}\\right)} + \\frac{e^{4 n t}}{\\left(1 - e^{- 2 t}\\right) \\left(1 - e^{- t}\\right) \\left(1 - e^{t}\\right) \\left(1 - e^{2 t}\\right)} + \\frac{e^{2 n t}}{\\left(1 - e^{- 2 t}\\right) \\left(1 - e^{- t}\\right) \\left(1 - e^{t}\\right) \\left(1 - e^{2 t}\\right)} + \\frac{e^{3 n t}}{\\left(1 - e^{- 3 t}\\right) \\left(1 - e^{- t}\\right) \\left(1 - e^{t}\\right) \\left(1 - e^{3 t}\\right)} + \\frac{1}{\\left(1 - e^{- 3 t}\\right) \\left(1 - e^{- t}\\right) \\left(1 - e^{t}\\right) \\left(1 - e^{3 t}\\right)} + \\frac{e^{3 n t + t \\left(2 a + 2 n\\right)}}{\\left(1 - e^{- 3 t}\\right) \\left(1 - e^{- t}\\right)^{2} \\left(1 - e^{2 t}\\right)} + \\frac{e^{6 n t}}{\\left(1 - e^{- 3 t}\\right) \\left(1 - e^{- 2 t}\\right) \\left(1 - e^{2 t}\\right) \\left(1 - e^{3 t}\\right)} + \\frac{e^{3 n t + t \\left(- 2 a - n\\right)}}{\\left(1 - e^{- 3 t}\\right) \\left(1 - e^{- 2 t}\\right)^{2} \\left(1 - e^{t}\\right)} + \\frac{e^{3 t \\left(2 a + 3 n\\right)}}{\\left(1 - e^{- 3 t}\\right)^{2} \\left(1 - e^{- 2 t}\\right) \\left(1 - e^{- t}\\right)} + \\frac{e^{t \\left(2 a + 2 n\\right)}}{\\left(1 - e^{- 4 t}\\right) \\left(1 - e^{- t}\\right)^{2} \\left(1 - e^{3 t}\\right)}$"
      ],
      "text/plain": [
       "         -3⋅a⋅t                    -3⋅a⋅t                 -3⋅a⋅t + t⋅(a + 2⋅n)\n",
       "        ℯ                         ℯ                      ℯ                    \n",
       "─────────────────────── + ─────────────────────── + ──────────────────────────\n",
       "          2           2             2           2                       2     \n",
       "  ⎛ t    ⎞  ⎛ 3⋅t    ⎞      ⎛     t⎞  ⎛     3⋅t⎞    ⎛     -t⎞ ⎛     2⋅t⎞  ⎛   \n",
       "  ⎜ ─    ⎟  ⎜ ───    ⎟      ⎜     ─⎟  ⎜     ───⎟    ⎝1 - ℯ  ⎠⋅⎝1 - ℯ   ⎠ ⋅⎝1 -\n",
       "  ⎜ 2    ⎟  ⎜  2     ⎟      ⎜     2⎟  ⎜      2 ⎟                              \n",
       "2⋅⎝ℯ  + 1⎠ ⋅⎝ℯ    + 1⎠    2⋅⎝1 - ℯ ⎠ ⋅⎝1 - ℯ   ⎠                              \n",
       "\n",
       "                     -2⋅a⋅t                         t⋅(-2⋅a - n)              \n",
       "                    ℯ                              ℯ                          \n",
       "────── + ────────────────────────────── + ──────────────────────────────── + ─\n",
       "                           2                                  2              ⎛\n",
       "  4⋅t⎞   ⎛     -t⎞ ⎛     t⎞  ⎛     2⋅t⎞   ⎛     -2⋅t⎞ ⎛     t⎞  ⎛     3⋅t⎞   ⎝\n",
       " ℯ   ⎠   ⎝1 - ℯ  ⎠⋅⎝1 - ℯ ⎠ ⋅⎝1 - ℯ   ⎠   ⎝1 - ℯ    ⎠⋅⎝1 - ℯ ⎠ ⋅⎝1 - ℯ   ⎠    \n",
       "                                                                              \n",
       "                                                                              \n",
       "\n",
       "                  4⋅n⋅t                                       2⋅n⋅t           \n",
       "                 ℯ                                           ℯ                \n",
       "──────────────────────────────────────── + ───────────────────────────────────\n",
       "     -2⋅t⎞ ⎛     -t⎞ ⎛     t⎞ ⎛     2⋅t⎞   ⎛     -2⋅t⎞ ⎛     -t⎞ ⎛     t⎞ ⎛   \n",
       "1 - ℯ    ⎠⋅⎝1 - ℯ  ⎠⋅⎝1 - ℯ ⎠⋅⎝1 - ℯ   ⎠   ⎝1 - ℯ    ⎠⋅⎝1 - ℯ  ⎠⋅⎝1 - ℯ ⎠⋅⎝1 -\n",
       "                                                                              \n",
       "                                                                              \n",
       "                                                                              \n",
       "\n",
       "                            3⋅n⋅t                                             \n",
       "                           ℯ                                             1    \n",
       "────── + ───────────────────────────────────────── + ─────────────────────────\n",
       "  2⋅t⎞   ⎛     -3⋅t⎞ ⎛     -t⎞ ⎛     t⎞ ⎛     3⋅t⎞   ⎛     -3⋅t⎞ ⎛     -t⎞ ⎛  \n",
       " ℯ   ⎠   ⎝1 - ℯ    ⎠⋅⎝1 - ℯ  ⎠⋅⎝1 - ℯ ⎠⋅⎝1 - ℯ   ⎠   ⎝1 - ℯ    ⎠⋅⎝1 - ℯ  ⎠⋅⎝1 \n",
       "                                                                              \n",
       "                                                                              \n",
       "                                                                              \n",
       "\n",
       "                          3⋅n⋅t + t⋅(2⋅a + 2⋅n)                             6⋅\n",
       "                         ℯ                                                 ℯ  \n",
       "──────────────── + ───────────────────────────────── + ───────────────────────\n",
       "   t⎞ ⎛     3⋅t⎞                        2              ⎛     -3⋅t⎞ ⎛     -2⋅t⎞\n",
       "- ℯ ⎠⋅⎝1 - ℯ   ⎠   ⎛     -3⋅t⎞ ⎛     -t⎞  ⎛     2⋅t⎞   ⎝1 - ℯ    ⎠⋅⎝1 - ℯ    ⎠\n",
       "                   ⎝1 - ℯ    ⎠⋅⎝1 - ℯ  ⎠ ⋅⎝1 - ℯ   ⎠                          \n",
       "                                                                              \n",
       "                                                                              \n",
       "\n",
       "n⋅t                             3⋅n⋅t + t⋅(-2⋅a - n)                   3⋅t⋅(2⋅\n",
       "                               ℯ                                      ℯ       \n",
       "────────────────────── + ───────────────────────────────── + ─────────────────\n",
       " ⎛     2⋅t⎞ ⎛     3⋅t⎞                          2                       2     \n",
       "⋅⎝1 - ℯ   ⎠⋅⎝1 - ℯ   ⎠   ⎛     -3⋅t⎞ ⎛     -2⋅t⎞  ⎛     t⎞   ⎛     -3⋅t⎞  ⎛   \n",
       "                         ⎝1 - ℯ    ⎠⋅⎝1 - ℯ    ⎠ ⋅⎝1 - ℯ ⎠   ⎝1 - ℯ    ⎠ ⋅⎝1 -\n",
       "                                                                              \n",
       "                                                                              \n",
       "\n",
       "a + 3⋅n)                       t⋅(2⋅a + 2⋅n)         \n",
       "                              ℯ                      \n",
       "───────────────── + ─────────────────────────────────\n",
       "                                         2           \n",
       "  -2⋅t⎞ ⎛     -t⎞   ⎛     -4⋅t⎞ ⎛     -t⎞  ⎛     3⋅t⎞\n",
       " ℯ    ⎠⋅⎝1 - ℯ  ⎠   ⎝1 - ℯ    ⎠⋅⎝1 - ℯ  ⎠ ⋅⎝1 - ℯ   ⎠\n",
       "                                                     \n",
       "                                                     "
      ]
     },
     "execution_count": 78,
     "metadata": {},
     "output_type": "execute_result"
    }
   ],
   "source": [
    "Character(n,a)"
   ]
  },
  {
   "cell_type": "code",
   "execution_count": 79,
   "metadata": {},
   "outputs": [
    {
     "data": {
      "text/latex": [
       "$\\displaystyle \\infty$"
      ],
      "text/plain": [
       "∞"
      ]
     },
     "execution_count": 79,
     "metadata": {},
     "output_type": "execute_result"
    }
   ],
   "source": [
    "limit(Character(n,a), t, 0)"
   ]
  },
  {
   "cell_type": "code",
   "execution_count": 28,
   "metadata": {},
   "outputs": [
    {
     "data": {
      "text/latex": [
       "$\\displaystyle \\frac{\\left(k + 1\\right) \\left(k + 2\\right)}{2}$"
      ],
      "text/plain": [
       "(k + 1)⋅(k + 2)\n",
       "───────────────\n",
       "       2       "
      ]
     },
     "metadata": {},
     "output_type": "display_data"
    },
    {
     "data": {
      "text/latex": [
       "$\\displaystyle \\frac{k^{2}}{2} + \\frac{9 k}{2} + 7$"
      ],
      "text/plain": [
       " 2          \n",
       "k    9⋅k    \n",
       "── + ─── + 7\n",
       "2     2     "
      ]
     },
     "metadata": {},
     "output_type": "display_data"
    },
    {
     "data": {
      "text/latex": [
       "$\\displaystyle \\frac{k^{2}}{2} + \\frac{15 k}{2} + 19$"
      ],
      "text/plain": [
       " 2            \n",
       "k    15⋅k     \n",
       "── + ──── + 19\n",
       "2     2       "
      ]
     },
     "metadata": {},
     "output_type": "display_data"
    },
    {
     "data": {
      "text/latex": [
       "$\\displaystyle \\frac{k^{2}}{2} + \\frac{21 k}{2} + 37$"
      ],
      "text/plain": [
       " 2            \n",
       "k    21⋅k     \n",
       "── + ──── + 37\n",
       "2     2       "
      ]
     },
     "metadata": {},
     "output_type": "display_data"
    },
    {
     "data": {
      "text/latex": [
       "$\\displaystyle \\frac{k^{2}}{2} + \\frac{27 k}{2} + 61$"
      ],
      "text/plain": [
       " 2            \n",
       "k    27⋅k     \n",
       "── + ──── + 61\n",
       "2     2       "
      ]
     },
     "metadata": {},
     "output_type": "display_data"
    }
   ],
   "source": [
    "for a in range(0, 5):\n",
    "    disp.display(LatticePoints(k,a))\n",
    "    \n",
    "a = symbols('a')"
   ]
  },
  {
   "cell_type": "code",
   "execution_count": null,
   "metadata": {},
   "outputs": [],
   "source": []
  },
  {
   "cell_type": "code",
   "execution_count": 18,
   "metadata": {},
   "outputs": [
    {
     "data": {
      "text/latex": [
       "$\\displaystyle 10$"
      ],
      "text/plain": [
       "10"
      ]
     },
     "metadata": {},
     "output_type": "display_data"
    },
    {
     "data": {
      "text/latex": [
       "$\\displaystyle 35$"
      ],
      "text/plain": [
       "35"
      ]
     },
     "metadata": {},
     "output_type": "display_data"
    },
    {
     "data": {
      "text/latex": [
       "$\\displaystyle 81$"
      ],
      "text/plain": [
       "81"
      ]
     },
     "metadata": {},
     "output_type": "display_data"
    },
    {
     "data": {
      "text/latex": [
       "$\\displaystyle 154$"
      ],
      "text/plain": [
       "154"
      ]
     },
     "metadata": {},
     "output_type": "display_data"
    },
    {
     "data": {
      "text/latex": [
       "$\\displaystyle 260$"
      ],
      "text/plain": [
       "260"
      ]
     },
     "metadata": {},
     "output_type": "display_data"
    }
   ],
   "source": [
    "for a in range(0, 5):\n",
    "    disp.display(simplify(CutDiff(3,a)))\n",
    "    \n",
    "a = symbols('a')"
   ]
  },
  {
   "cell_type": "code",
   "execution_count": 32,
   "metadata": {},
   "outputs": [
    {
     "data": {
      "text/latex": [
       "$\\displaystyle \\frac{\\left(k + 1\\right) \\left(k + 2\\right)}{2}$"
      ],
      "text/plain": [
       "(k + 1)⋅(k + 2)\n",
       "───────────────\n",
       "       2       "
      ]
     },
     "metadata": {},
     "output_type": "display_data"
    },
    {
     "data": {
      "text/latex": [
       "$\\displaystyle \\left(k + 2\\right) \\left(k + 4\\right)$"
      ],
      "text/plain": [
       "(k + 2)⋅(k + 4)"
      ]
     },
     "metadata": {},
     "output_type": "display_data"
    },
    {
     "data": {
      "text/latex": [
       "$\\displaystyle \\frac{3 \\left(k + 3\\right) \\left(k + 6\\right)}{2}$"
      ],
      "text/plain": [
       "3⋅(k + 3)⋅(k + 6)\n",
       "─────────────────\n",
       "        2        "
      ]
     },
     "metadata": {},
     "output_type": "display_data"
    },
    {
     "data": {
      "text/latex": [
       "$\\displaystyle 2 \\left(k + 4\\right) \\left(k + 8\\right)$"
      ],
      "text/plain": [
       "2⋅(k + 4)⋅(k + 8)"
      ]
     },
     "metadata": {},
     "output_type": "display_data"
    },
    {
     "data": {
      "text/latex": [
       "$\\displaystyle \\frac{5 \\left(k + 5\\right) \\left(k + 10\\right)}{2}$"
      ],
      "text/plain": [
       "5⋅(k + 5)⋅(k + 10)\n",
       "──────────────────\n",
       "        2         "
      ]
     },
     "metadata": {},
     "output_type": "display_data"
    }
   ],
   "source": [
    "for a in range(0, 5):\n",
    "    disp.display(simplify(CutDiff(k,a)))\n",
    "\n",
    "a = symbols('a')"
   ]
  },
  {
   "cell_type": "code",
   "execution_count": null,
   "metadata": {},
   "outputs": [],
   "source": []
  },
  {
   "cell_type": "code",
   "execution_count": null,
   "metadata": {},
   "outputs": [],
   "source": []
  },
  {
   "cell_type": "code",
   "execution_count": null,
   "metadata": {},
   "outputs": [],
   "source": []
  },
  {
   "cell_type": "code",
   "execution_count": null,
   "metadata": {},
   "outputs": [],
   "source": []
  },
  {
   "cell_type": "code",
   "execution_count": null,
   "metadata": {},
   "outputs": [],
   "source": []
  }
 ],
 "metadata": {
  "kernelspec": {
   "display_name": "Python 3",
   "language": "python",
   "name": "python3"
  },
  "language_info": {
   "codemirror_mode": {
    "name": "ipython",
    "version": 3
   },
   "file_extension": ".py",
   "mimetype": "text/x-python",
   "name": "python",
   "nbconvert_exporter": "python",
   "pygments_lexer": "ipython3",
   "version": "3.8.5"
  }
 },
 "nbformat": 4,
 "nbformat_minor": 4
}
