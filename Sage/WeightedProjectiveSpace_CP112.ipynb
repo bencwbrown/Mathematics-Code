{
 "cells": [
  {
   "cell_type": "code",
   "execution_count": 31,
   "metadata": {},
   "outputs": [
    {
     "ename": "SyntaxError",
     "evalue": "invalid syntax (<ipython-input-31-221ddbfa768c>, line 13)",
     "output_type": "error",
     "traceback": [
      "\u001b[0;36m  File \u001b[0;32m\"<ipython-input-31-221ddbfa768c>\"\u001b[0;36m, line \u001b[0;32m13\u001b[0m\n\u001b[0;31m    3P = Integer(3)*P\u001b[0m\n\u001b[0m     ^\u001b[0m\n\u001b[0;31mSyntaxError\u001b[0m\u001b[0;31m:\u001b[0m invalid syntax\n"
     ]
    }
   ],
   "source": [
    "# polytope = Polyhedron(vertices = [[0, 0], [2, 0], [0, 1]])\n",
    "# simplex = LatticePolytope([(1,0), (0,1), (-1,-1)])\n",
    "# fan = Fan(cones=[(0,1), (1,2)], rays=[(1,0), (0,1), (-1,0)])\n",
    "\n",
    "fan = Fan2d(rays=[(1,0), (0,1), (-1,-2)])\n",
    "\n",
    "polytope = Polyhedron(vertices = [[0, 0], [2, 0], [0, 1]])\n",
    "normal_fan = NormalFan(polytope)\n",
    "\n",
    "# normal_fan.is_equivalent(fan)\n",
    "\n",
    "P = Polyhedron(vertices = [[0,0], [1,0], [0,1]])\n",
    "\n",
    "P.integral_points_count()"
   ]
  },
  {
   "cell_type": "code",
   "execution_count": 2,
   "metadata": {},
   "outputs": [
    {
     "name": "stdout",
     "output_type": "stream",
     "text": [
      "N( 1,  0),\n",
      "N( 0,  1),\n",
      "N(-1, -2)\n",
      "in 2-d lattice N\n",
      "N( 1,  0),\n",
      "N( 0,  1),\n",
      "N(-1, -2)\n",
      "in 2-d lattice N\n"
     ]
    }
   ],
   "source": [
    "print(fan.rays())\n",
    "print(normal_fan.rays())"
   ]
  },
  {
   "cell_type": "code",
   "execution_count": 3,
   "metadata": {},
   "outputs": [
    {
     "name": "stdout",
     "output_type": "stream",
     "text": [
      "True\n",
      "True\n",
      "False\n"
     ]
    }
   ],
   "source": [
    "print(fan.is_complete())\n",
    "print(fan.is_simplicial())\n",
    "print(fan.is_smooth())"
   ]
  },
  {
   "cell_type": "code",
   "execution_count": 0,
   "metadata": {},
   "outputs": [],
   "source": []
  },
  {
   "cell_type": "code",
   "execution_count": 0,
   "metadata": {},
   "outputs": [],
   "source": []
  },
  {
   "cell_type": "code",
   "execution_count": 6,
   "metadata": {},
   "outputs": [],
   "source": [
    "CP2 = toric_varieties.P2(base_ring=CC)\n",
    "wCP2 = toric_varieties.P2_112(base_ring=CC)"
   ]
  },
  {
   "cell_type": "code",
   "execution_count": 7,
   "metadata": {},
   "outputs": [
    {
     "name": "stdout",
     "output_type": "stream",
     "text": [
      "Multivariate Polynomial Ring in x, y, z over Complex Field with 53 bits of precision\n",
      "Multivariate Polynomial Ring in z0, z1, z2 over Complex Field with 53 bits of precision\n"
     ]
    }
   ],
   "source": [
    "print(CP2.coordinate_ring())\n",
    "print(wCP2.coordinate_ring())"
   ]
  },
  {
   "cell_type": "code",
   "execution_count": 8,
   "metadata": {},
   "outputs": [
    {
     "name": "stdout",
     "output_type": "stream",
     "text": [
      "The total, first, and second Chern classes for the weighted projective space CP(1,1,2) are: c= [5*z2^2 + 4*z2 + 1] , c1 = [4*z2] , c2 = [5*z2^2] .\n"
     ]
    }
   ],
   "source": [
    "print('The total, first, and second Chern classes for the weighted projective space CP(1,1,2) are: c=', wCP2.c(),', c1 =', wCP2.c(1),', c2 =', wCP2.c(2),'.')"
   ]
  },
  {
   "cell_type": "code",
   "execution_count": 9,
   "metadata": {},
   "outputs": [
    {
     "name": "stdout",
     "output_type": "stream",
     "text": [
      "Similarly, for the usual complex projective plane CP2, they are respectively: c = [3*z^2 + 3*z + 1] , c1 = [3*z] , c2 = [3*z^2] .\n"
     ]
    }
   ],
   "source": [
    "print('Similarly, for the usual complex projective plane CP2, they are respectively: c =', CP2.c(),', c1 =', CP2.c(1),', c2 =', CP2.c(2),'.')"
   ]
  },
  {
   "cell_type": "code",
   "execution_count": 12,
   "metadata": {},
   "outputs": [
    {
     "name": "stdout",
     "output_type": "stream",
     "text": [
      "The Euler numbers for the usual CP2 as well as the weighted CP2(1,1,2) are respectively:  3 ,  5/2 .\n"
     ]
    }
   ],
   "source": [
    "print('The Euler numbers for the usual CP2 as well as the weighted CP2(1,1,2) are respectively: ', CP2.Euler_number(),', ', wCP2.Euler_number(),'.')"
   ]
  },
  {
   "cell_type": "code",
   "execution_count": 13,
   "metadata": {},
   "outputs": [
    {
     "data": {
      "text/plain": [
       "5/2"
      ]
     },
     "execution_count": 13,
     "metadata": {},
     "output_type": "execute_result"
    }
   ],
   "source": [
    "CP2.integrate( CP2.c(2) )\n",
    "wCP2.integrate( wCP2.c(2) )"
   ]
  },
  {
   "cell_type": "code",
   "execution_count": 14,
   "metadata": {},
   "outputs": [
    {
     "name": "stdout",
     "output_type": "stream",
     "text": [
      "True\n",
      "True\n"
     ]
    }
   ],
   "source": [
    "print( CP2.Euler_number() == CP2.integrate( CP2.c(2) ) )\n",
    "print( wCP2.Euler_number() == wCP2.integrate( wCP2.c(2) ) )"
   ]
  },
  {
   "cell_type": "code",
   "execution_count": 17,
   "metadata": {},
   "outputs": [
    {
     "data": {
      "text/plain": [
       "N( 1,  0),\n",
       "N( 0,  1),\n",
       "N(-1, -2)\n",
       "in 2-d lattice N"
      ]
     },
     "execution_count": 17,
     "metadata": {},
     "output_type": "execute_result"
    }
   ],
   "source": [
    "wCP2.fan().rays()"
   ]
  },
  {
   "cell_type": "code",
   "execution_count": 18,
   "metadata": {},
   "outputs": [
    {
     "data": {
      "text/plain": [
       "N( 1,  0),\n",
       "N( 0,  1),\n",
       "N(-1, -1)\n",
       "in 2-d lattice N"
      ]
     },
     "execution_count": 18,
     "metadata": {},
     "output_type": "execute_result"
    }
   ],
   "source": [
    "CP2.fan().rays()"
   ]
  },
  {
   "cell_type": "code",
   "execution_count": 20,
   "metadata": {},
   "outputs": [],
   "source": [
    "#H3.<x,y,z> = HyperplaneArrangements(QQ)\n",
    "#A = H3([(1,0,0), 0], [(0,0,1), 5])\n",
    "#A.plot(hyperplane_opacities=0.5, hyperplane_labels=True, hyperplane_legend=False)"
   ]
  },
  {
   "cell_type": "code",
   "execution_count": 21,
   "metadata": {},
   "outputs": [
    {
     "data": {
      "text/plain": [
       "38"
      ]
     },
     "execution_count": 21,
     "metadata": {},
     "output_type": "execute_result"
    }
   ],
   "source": [
    "P = Polyhedron([(0,0,0,0), (0,0,0,7), (0,0,7/2,7/2), (0,7/3,7/3,7/3),(7/4,7/4,7/4,7/4)])\n",
    "P.integral_points_count()"
   ]
  },
  {
   "cell_type": "code",
   "execution_count": 0,
   "metadata": {},
   "outputs": [],
   "source": []
  }
 ],
 "metadata": {
  "kernelspec": {
   "display_name": "SageMath 9.1",
   "language": "sage",
   "name": "sagemath"
  },
  "language_info": {
   "codemirror_mode": {
    "name": "ipython",
    "version": 3
   },
   "file_extension": ".py",
   "mimetype": "text/x-python",
   "name": "python",
   "nbconvert_exporter": "python",
   "pygments_lexer": "ipython3",
   "version": "3.7.3"
  }
 },
 "nbformat": 4,
 "nbformat_minor": 4
}
