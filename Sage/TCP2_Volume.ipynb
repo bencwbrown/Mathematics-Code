{
 "cells": [
  {
   "cell_type": "code",
   "execution_count": 48,
   "metadata": {},
   "outputs": [],
   "source": [
    "from sympy import *\n",
    "from sympy.vector import Vector\n",
    "from sympy.vector import CoordSys3D\n",
    "N = CoordSys3D('N')\n",
    "\n",
    "t, k, a = symbols( 't k a' )\n",
    "init_printing(use_unicode=True)\n",
    "\n",
    "# Define the vector which is not parallel to any edge vector, which will tend to zero:\n",
    "\n",
    "Phi = t*(N.i + 2*N.j)\n",
    "\n",
    "# Set the fixed points of the action; P denotes those that belong\n",
    "# to the core, and Q those that come from the cut extended core:\n",
    "\n",
    "def P12(k,a):\n",
    "    return Vector.zero\n",
    "\n",
    "def P23(k,a):\n",
    "    return k*N.i\n",
    "\n",
    "def P13(k,a):\n",
    "    return k*N.j\n",
    "\n",
    "def Q12_1(k,a):\n",
    "    return -a*N.j\n",
    "\n",
    "def Q12_2(k,a):\n",
    "    return -a*N.i\n",
    "\n",
    "def Q23_2(k,a):\n",
    "    return (k+a)*N.i\n",
    "\n",
    "def Q23_3(k,a):\n",
    "    return (k+a)*N.i - a*N.j\n",
    "\n",
    "def Q13_1(k,a):\n",
    "    return (k+a)*N.j\n",
    "\n",
    "def Q13_3(k,a):\n",
    "    return -a*N.i + (k+a)*N.j\n",
    "\n",
    "# Basis for the edge/weight vectors for the points \n",
    "\n",
    "v1 = N.i\n",
    "\n",
    "v2 = N.j\n",
    "\n",
    "# Define the term which is summed over each fixed point,\n",
    "# representing the character for the representation\n",
    "\n",
    "def f(P, edge1, edge2):\n",
    "    return ( Phi.dot(P)**2 ) / ( ( factorial(2) ) * ( Phi.dot(edge1) * Phi.dot(edge2) ) )\n",
    "\n",
    "def g(P, edge1, edge2, edge3, edge4):\n",
    "    return ( Phi.dot(P)**4 ) / ( ( factorial(2) ) * ( Phi.dot(edge1) * Phi.dot(edge2) * Phi.dot(edge3) * Phi.dot(edge4) ) )\n",
    "\n",
    "# For each of the right-angled triangles:\n",
    "\n",
    "\n",
    "def Core(k,a):\n",
    "    return g(P12(k,a), v1, v2, -v1, -v2) + g(P13(k,a), v1 - v2, v2, -v1 + v2, -v2) + g(P23(k,a), v1, -v1 + v2, -v1, v1 - v2)\n",
    "\n",
    "def Exteriors(k,a):\n",
    "    return g(Q23_3(k,a), v2, -v1 + v2, -v1 + v2, -v1) + g(Q23_2(k,a), -v1 + v2, -v1, -v1, -v2) + g(Q13_1(k,a), v1 - v2, -v1, -v2, -v2) + g(Q13_3(k,a), v1, -v2, v1 - v2, v1 - v2) + g(Q12_1(k,a), v1, v2, v2, -v1 + v2) + g(Q12_2(k,a), v1, v1, v2, v1 - v2)\n",
    "\n",
    "def WholePolyptych(k,a):\n",
    "    return Core(k,a) + Exteriors(k,a)\n",
    "\n"
   ]
  },
  {
   "cell_type": "code",
   "execution_count": 49,
   "metadata": {},
   "outputs": [
    {
     "data": {
      "image/png": "[encoded data removed]",
      "text/latex": [
       "$\\displaystyle \\frac{5 k^{4}}{2}$"
      ],
      "text/plain": [
       "   4\n",
       "5⋅k \n",
       "────\n",
       " 2  "
      ]
     },
     "execution_count": 49,
     "metadata": {},
     "output_type": "execute_result"
    }
   ],
   "source": [
    "Core(k,a)"
   ]
  },
  {
   "cell_type": "code",
   "execution_count": 50,
   "metadata": {},
   "outputs": [
    {
     "data": {
      "image/png": "[encoded data removed]",
      "text/latex": [
       "$\\displaystyle \\frac{7 a^{4}}{4} + \\frac{7 \\left(a + k\\right)^{4}}{4} - \\frac{\\left(- 2 a t + t \\left(a + k\\right)\\right)^{4}}{4 t^{4}} - \\frac{\\left(- a t + 2 t \\left(a + k\\right)\\right)^{4}}{4 t^{4}}$"
      ],
      "text/plain": [
       "   4            4                       4                       4\n",
       "7⋅a    7⋅(a + k)    (-2⋅a⋅t + t⋅(a + k))    (-a⋅t + 2⋅t⋅(a + k)) \n",
       "──── + ────────── - ───────────────────── - ─────────────────────\n",
       " 4         4                    4                       4        \n",
       "                             4⋅t                     4⋅t         "
      ]
     },
     "execution_count": 50,
     "metadata": {},
     "output_type": "execute_result"
    }
   ],
   "source": [
    "Exteriors(k,a)"
   ]
  },
  {
   "cell_type": "code",
   "execution_count": 51,
   "metadata": {},
   "outputs": [
    {
     "data": {
      "image/png": "[encoded data removed]",
      "text/latex": [
       "$\\displaystyle \\frac{7 a^{4}}{4} + \\frac{5 k^{4}}{2} + \\frac{7 \\left(a + k\\right)^{4}}{4} - \\frac{\\left(- 2 a t + t \\left(a + k\\right)\\right)^{4}}{4 t^{4}} - \\frac{\\left(- a t + 2 t \\left(a + k\\right)\\right)^{4}}{4 t^{4}}$"
      ],
      "text/plain": [
       "   4      4            4                       4                       4\n",
       "7⋅a    5⋅k    7⋅(a + k)    (-2⋅a⋅t + t⋅(a + k))    (-a⋅t + 2⋅t⋅(a + k)) \n",
       "──── + ──── + ────────── - ───────────────────── - ─────────────────────\n",
       " 4      2         4                    4                       4        \n",
       "                                    4⋅t                     4⋅t         "
      ]
     },
     "execution_count": 51,
     "metadata": {},
     "output_type": "execute_result"
    }
   ],
   "source": [
    "WholePolyptych(k,a)"
   ]
  },
  {
   "cell_type": "code",
   "execution_count": 52,
   "metadata": {},
   "outputs": [],
   "source": [
    "def Volume(k,a):\n",
    "    return factor(limit(WholePolyptych(k,a), t, 0))"
   ]
  },
  {
   "cell_type": "code",
   "execution_count": 53,
   "metadata": {},
   "outputs": [
    {
     "data": {
      "image/png": "[encoded data removed]",
      "text/latex": [
       "$\\displaystyle 3 a^{2} \\left(a + k\\right)^{2}$"
      ],
      "text/plain": [
       "   2        2\n",
       "3⋅a ⋅(a + k) "
      ]
     },
     "execution_count": 53,
     "metadata": {},
     "output_type": "execute_result"
    }
   ],
   "source": [
    "Volume(k,a)"
   ]
  },
  {
   "cell_type": "code",
   "execution_count": 33,
   "metadata": {},
   "outputs": [],
   "source": [
    "# NEED TO NORMALISE VECTORS?\n",
    "\n",
    "# To compare with the dilated 2-simplex for CP2:\n",
    "\n",
    "def Delta123(k,a):\n",
    "    return f(P12(k,a), v1, v2) + f(P13(k,a), v1 - v2, -v2) + f(P23(k,a), -v1 + v2, -v1)\n",
    "\n",
    "\n",
    "def Delta12(k,a):\n",
    "    return f(P23(k,a), v1, -v1 + v2) + f(Q23_2(k,a), -v1 + v2, -v1) + f(Q13_1(k,a), -v2, v1 - v2) + f(P13(k,a), v1 - v2, v2)"
   ]
  },
  {
   "cell_type": "code",
   "execution_count": 38,
   "metadata": {},
   "outputs": [],
   "source": [
    "\n",
    "def Delta13(k,a):\n",
    "    return factor(f(P12(k,a), -v2, v1) + f(P23(k,a), -v1, v1 - v2) + f(Q23_3(k,a), -v1 + v2, -v1) + f(Q12_1(k,a), v2, v1))"
   ]
  },
  {
   "cell_type": "code",
   "execution_count": 34,
   "metadata": {},
   "outputs": [
    {
     "data": {
      "image/png": "[encoded data removed]",
      "text/latex": [
       "$\\displaystyle \\frac{k^{2}}{2}$"
      ],
      "text/plain": [
       " 2\n",
       "k \n",
       "──\n",
       "2 "
      ]
     },
     "execution_count": 34,
     "metadata": {},
     "output_type": "execute_result"
    }
   ],
   "source": [
    "Delta123(k,a)"
   ]
  },
  {
   "cell_type": "code",
   "execution_count": 35,
   "metadata": {},
   "outputs": [
    {
     "data": {
      "image/png": "[encoded data removed]",
      "text/latex": [
       "$\\displaystyle - \\frac{k^{2}}{2} + \\frac{\\left(a + k\\right)^{2}}{2}$"
      ],
      "text/plain": [
       "   2          2\n",
       "  k    (a + k) \n",
       "- ── + ────────\n",
       "  2       2    "
      ]
     },
     "execution_count": 35,
     "metadata": {},
     "output_type": "execute_result"
    }
   ],
   "source": [
    "Delta12(k,a)"
   ]
  },
  {
   "cell_type": "code",
   "execution_count": 39,
   "metadata": {},
   "outputs": [
    {
     "data": {
      "image/png": "[encoded data removed]",
      "text/latex": [
       "$\\displaystyle \\frac{a \\left(a + 2 k\\right)}{2}$"
      ],
      "text/plain": [
       "a⋅(a + 2⋅k)\n",
       "───────────\n",
       "     2     "
      ]
     },
     "execution_count": 39,
     "metadata": {},
     "output_type": "execute_result"
    }
   ],
   "source": [
    "Delta13(k,a)"
   ]
  },
  {
   "cell_type": "code",
   "execution_count": 42,
   "metadata": {},
   "outputs": [],
   "source": [
    "def Delta1(k,a):\n",
    "    return Rational(1, 2) * ( a**2 )"
   ]
  },
  {
   "cell_type": "code",
   "execution_count": 45,
   "metadata": {},
   "outputs": [],
   "source": [
    "def TotalVolume(k,a):\n",
    "    return Delta123(k,a) + Delta12(k,a) +  ( 2 * Delta13(k,a) ) + ( 3 * Delta1(k,a) )"
   ]
  },
  {
   "cell_type": "code",
   "execution_count": 46,
   "metadata": {},
   "outputs": [
    {
     "data": {
      "image/png": "[encoded data removed]",
      "text/latex": [
       "$\\displaystyle \\frac{3 a^{2}}{2} + a \\left(a + 2 k\\right) + \\frac{\\left(a + k\\right)^{2}}{2}$"
      ],
      "text/plain": [
       "   2                        2\n",
       "3⋅a                  (a + k) \n",
       "──── + a⋅(a + 2⋅k) + ────────\n",
       " 2                      2    "
      ]
     },
     "execution_count": 46,
     "metadata": {},
     "output_type": "execute_result"
    }
   ],
   "source": [
    "TotalVolume(k,a)"
   ]
  },
  {
   "cell_type": "code",
   "execution_count": 47,
   "metadata": {},
   "outputs": [
    {
     "data": {
      "image/png": "[encoded data removed]",
      "text/latex": [
       "$\\displaystyle \\frac{6 a^{2} + 6 a k + k^{2}}{2}$"
      ],
      "text/plain": [
       "   2            2\n",
       "6⋅a  + 6⋅a⋅k + k \n",
       "─────────────────\n",
       "        2        "
      ]
     },
     "execution_count": 47,
     "metadata": {},
     "output_type": "execute_result"
    }
   ],
   "source": [
    "factor(TotalVolume(k,a))"
   ]
  },
  {
   "cell_type": "code",
   "execution_count": null,
   "metadata": {},
   "outputs": [],
   "source": []
  }
 ],
 "metadata": {
  "kernelspec": {
   "display_name": "Python 3",
   "language": "python",
   "name": "python3"
  },
  "language_info": {
   "codemirror_mode": {
    "name": "ipython",
    "version": 3
   },
   "file_extension": ".py",
   "mimetype": "text/x-python",
   "name": "python",
   "nbconvert_exporter": "python",
   "pygments_lexer": "ipython3",
   "version": "3.8.5"
  }
 },
 "nbformat": 4,
 "nbformat_minor": 4
}
