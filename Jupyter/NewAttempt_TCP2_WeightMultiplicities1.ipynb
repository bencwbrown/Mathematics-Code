{
 "cells": [
  {
   "cell_type": "code",
   "execution_count": 1,
   "metadata": {},
   "outputs": [],
   "source": [
    "from sympy import *\n",
    "from sympy.vector import Vector\n",
    "from sympy.vector import CoordSys3D\n",
    "N = CoordSys3D('N')\n",
    "\n",
    "t, k, a = symbols( 't k a' )\n",
    "init_printing(use_unicode=True)\n",
    "\n",
    "# Define the vector which is not parallel to any edge vector, which will tend to zero:\n",
    "\n",
    "Phi = t*(N.i + 2*N.j)\n",
    "\n",
    "# Set the fixed points of the action; P denotes those that belong\n",
    "# to the core, and Q those that come from the cut extended core:\n",
    "\n",
    "def P12(k,a):\n",
    "    return Vector.zero\n",
    "\n",
    "def P23(k,a):\n",
    "    return k*N.i\n",
    "\n",
    "def P13(k,a):\n",
    "    return k*N.j\n",
    "\n",
    "def Q12_1(k,a):\n",
    "    return -a*N.j\n",
    "\n",
    "def Q12_2(k,a):\n",
    "    return -a*N.i\n",
    "\n",
    "def Q23_2(k,a):\n",
    "    return (k+a)*N.i\n",
    "\n",
    "def Q23_3(k,a):\n",
    "    return (k+a)*N.i - a*N.j\n",
    "\n",
    "def Q13_1(k,a):\n",
    "    return (k+a)*N.j\n",
    "\n",
    "def Q13_3(k,a):\n",
    "    return -a*N.i + (k+a)*N.j\n",
    "\n",
    "# Basis for the edge/weight vectors for the points \n",
    "\n",
    "v1 = N.i\n",
    "\n",
    "v2 = N.j\n",
    "\n",
    "# Define the term which is summed over each fixed point,\n",
    "# representing the character for the representation\n",
    "\n",
    "def f(P, edge1, edge2):\n",
    "    return exp( Phi.dot(P) ) / ( (1 - exp( Phi.dot(edge1) ) ) * ( 1 - exp( Phi.dot(edge2) ) ) )\n",
    "\n",
    "def h(P, edge1, edge2, edge3):\n",
    "    return exp( Phi.dot(P) ) / ( (1 - exp( Phi.dot(edge1) ) ) * ( 1 - exp( Phi.dot(edge2) ) ) * ( 1 - exp( Phi.dot(edge3) ) ) )\n",
    "\n",
    "def g(P, edge1, edge2, edge3, edge4):\n",
    "    return exp( Phi.dot(P) ) / ( (1 - exp( Phi.dot(edge1) ) ) * ( 1 - exp( Phi.dot(edge2) ) ) * ( 1 - exp( Phi.dot(edge3) ) ) * ( 1 - exp( Phi.dot(edge4) ) ) )\n",
    "\n",
    "# The sum coming from the vertices of the core:\n",
    "\n",
    "def Core(k,a):\n",
    "    return g(P12(k,a), v1, v2, -v1, -v2) + g(P13(k,a), v1 - v2, v2, -v1 + v2, -v2) + g(P23(k,a), v1, -v1 + v2, -v1, v1 - v2)\n",
    "\n",
    "def Exteriors(k,a):\n",
    "    return g(Q23_3(k,a), v2, -v1 + v2, -v1 + v2, -v1) + g(Q23_2(k,a), -v1 + v2, -v1, -v1, -v2) + g(Q13_1(k,a), v1 - v2, -v1, -v2, -v2) + g(Q13_3(k,a), v1, -v2, v1 - v2, v1 - v2) + g(Q12_1(k,a), v1, v2, v2, -v1 + v2) + g(Q12_2(k,a), v1, v1, v2, v1 - v2)\n",
    "\n",
    "\n",
    "\n"
   ]
  },
  {
   "cell_type": "code",
   "execution_count": 2,
   "metadata": {},
   "outputs": [
    {
     "data": {
      "image/png": "[encoded data removed]",
      "text/latex": [
       "$\\displaystyle \\frac{e^{k t}}{\\left(1 - e^{- t}\\right)^{2} \\left(1 - e^{t}\\right)^{2}} + \\frac{e^{2 k t}}{\\left(1 - e^{- 2 t}\\right) \\left(1 - e^{- t}\\right) \\left(1 - e^{t}\\right) \\left(1 - e^{2 t}\\right)} + \\frac{1}{\\left(1 - e^{- 2 t}\\right) \\left(1 - e^{- t}\\right) \\left(1 - e^{t}\\right) \\left(1 - e^{2 t}\\right)}$"
      ],
      "text/plain": [
       "         k⋅t                              2⋅k⋅t                               \n",
       "        ℯ                                ℯ                                    \n",
       "──────────────────── + ───────────────────────────────────────── + ───────────\n",
       "         2         2   ⎛     -2⋅t⎞ ⎛     -t⎞ ⎛     t⎞ ⎛     2⋅t⎞   ⎛     -2⋅t⎞\n",
       "⎛     -t⎞  ⎛     t⎞    ⎝1 - ℯ    ⎠⋅⎝1 - ℯ  ⎠⋅⎝1 - ℯ ⎠⋅⎝1 - ℯ   ⎠   ⎝1 - ℯ    ⎠\n",
       "⎝1 - ℯ  ⎠ ⋅⎝1 - ℯ ⎠                                                           \n",
       "\n",
       "                              \n",
       "         1                    \n",
       "──────────────────────────────\n",
       " ⎛     -t⎞ ⎛     t⎞ ⎛     2⋅t⎞\n",
       "⋅⎝1 - ℯ  ⎠⋅⎝1 - ℯ ⎠⋅⎝1 - ℯ   ⎠\n",
       "                              "
      ]
     },
     "execution_count": 2,
     "metadata": {},
     "output_type": "execute_result"
    }
   ],
   "source": [
    "Core(k,a)"
   ]
  },
  {
   "cell_type": "code",
   "execution_count": 3,
   "metadata": {},
   "outputs": [
    {
     "data": {
      "image/png": "[encoded data removed]",
      "text/latex": [
       "$\\displaystyle \\frac{e^{- 2 a t}}{\\left(1 - e^{t}\\right)^{2} \\left(1 - e^{2 t}\\right)^{2}} + \\frac{e^{- 2 a t + t \\left(a + k\\right)}}{\\left(1 - e^{- t}\\right) \\left(1 - e^{t}\\right)^{2} \\left(1 - e^{2 t}\\right)} + \\frac{e^{- a t}}{\\left(1 - e^{- t}\\right) \\left(1 - e^{t}\\right)^{2} \\left(1 - e^{2 t}\\right)} + \\frac{e^{t \\left(a + k\\right)}}{\\left(1 - e^{- 2 t}\\right) \\left(1 - e^{- t}\\right)^{2} \\left(1 - e^{t}\\right)} + \\frac{e^{- a t + 2 t \\left(a + k\\right)}}{\\left(1 - e^{- 2 t}\\right) \\left(1 - e^{- t}\\right)^{2} \\left(1 - e^{t}\\right)} + \\frac{e^{2 t \\left(a + k\\right)}}{\\left(1 - e^{- 2 t}\\right)^{2} \\left(1 - e^{- t}\\right)^{2}}$"
      ],
      "text/plain": [
       "        -2⋅a⋅t                -2⋅a⋅t + t⋅(a + k)                      -a⋅t    \n",
       "       ℯ                     ℯ                                       ℯ        \n",
       "───────────────────── + ────────────────────────────── + ─────────────────────\n",
       "        2           2                     2                                2  \n",
       "⎛     t⎞  ⎛     2⋅t⎞    ⎛     -t⎞ ⎛     t⎞  ⎛     2⋅t⎞   ⎛     -t⎞ ⎛     t⎞  ⎛\n",
       "⎝1 - ℯ ⎠ ⋅⎝1 - ℯ   ⎠    ⎝1 - ℯ  ⎠⋅⎝1 - ℯ ⎠ ⋅⎝1 - ℯ   ⎠   ⎝1 - ℯ  ⎠⋅⎝1 - ℯ ⎠ ⋅⎝\n",
       "\n",
       "                        t⋅(a + k)                    -a⋅t + 2⋅t⋅(a + k)       \n",
       "                       ℯ                            ℯ                         \n",
       "───────── + ─────────────────────────────── + ─────────────────────────────── \n",
       "                                 2                                 2          \n",
       "     2⋅t⎞   ⎛     -2⋅t⎞ ⎛     -t⎞  ⎛     t⎞   ⎛     -2⋅t⎞ ⎛     -t⎞  ⎛     t⎞ \n",
       "1 - ℯ   ⎠   ⎝1 - ℯ    ⎠⋅⎝1 - ℯ  ⎠ ⋅⎝1 - ℯ ⎠   ⎝1 - ℯ    ⎠⋅⎝1 - ℯ  ⎠ ⋅⎝1 - ℯ ⎠ \n",
       "\n",
       "         2⋅t⋅(a + k)     \n",
       "        ℯ                \n",
       "+ ───────────────────────\n",
       "             2          2\n",
       "  ⎛     -2⋅t⎞  ⎛     -t⎞ \n",
       "  ⎝1 - ℯ    ⎠ ⋅⎝1 - ℯ  ⎠ "
      ]
     },
     "execution_count": 3,
     "metadata": {},
     "output_type": "execute_result"
    }
   ],
   "source": [
    "Exteriors(k,a)"
   ]
  },
  {
   "cell_type": "code",
   "execution_count": 4,
   "metadata": {},
   "outputs": [],
   "source": [
    "def Sum(k,a):\n",
    "    return Core(k,a) + Exteriors(k,a)"
   ]
  },
  {
   "cell_type": "code",
   "execution_count": 5,
   "metadata": {},
   "outputs": [
    {
     "data": {
      "image/png": "[encoded data removed]",
      "text/latex": [
       "$\\displaystyle \\frac{e^{- 2 a t}}{\\left(1 - e^{t}\\right)^{2} \\left(1 - e^{2 t}\\right)^{2}} + \\frac{e^{- 2 a t + t \\left(a + k\\right)}}{\\left(1 - e^{- t}\\right) \\left(1 - e^{t}\\right)^{2} \\left(1 - e^{2 t}\\right)} + \\frac{e^{- a t}}{\\left(1 - e^{- t}\\right) \\left(1 - e^{t}\\right)^{2} \\left(1 - e^{2 t}\\right)} + \\frac{e^{k t}}{\\left(1 - e^{- t}\\right)^{2} \\left(1 - e^{t}\\right)^{2}} + \\frac{e^{2 k t}}{\\left(1 - e^{- 2 t}\\right) \\left(1 - e^{- t}\\right) \\left(1 - e^{t}\\right) \\left(1 - e^{2 t}\\right)} + \\frac{1}{\\left(1 - e^{- 2 t}\\right) \\left(1 - e^{- t}\\right) \\left(1 - e^{t}\\right) \\left(1 - e^{2 t}\\right)} + \\frac{e^{t \\left(a + k\\right)}}{\\left(1 - e^{- 2 t}\\right) \\left(1 - e^{- t}\\right)^{2} \\left(1 - e^{t}\\right)} + \\frac{e^{- a t + 2 t \\left(a + k\\right)}}{\\left(1 - e^{- 2 t}\\right) \\left(1 - e^{- t}\\right)^{2} \\left(1 - e^{t}\\right)} + \\frac{e^{2 t \\left(a + k\\right)}}{\\left(1 - e^{- 2 t}\\right)^{2} \\left(1 - e^{- t}\\right)^{2}}$"
      ],
      "text/plain": [
       "        -2⋅a⋅t                -2⋅a⋅t + t⋅(a + k)                      -a⋅t    \n",
       "       ℯ                     ℯ                                       ℯ        \n",
       "───────────────────── + ────────────────────────────── + ─────────────────────\n",
       "        2           2                     2                                2  \n",
       "⎛     t⎞  ⎛     2⋅t⎞    ⎛     -t⎞ ⎛     t⎞  ⎛     2⋅t⎞   ⎛     -t⎞ ⎛     t⎞  ⎛\n",
       "⎝1 - ℯ ⎠ ⋅⎝1 - ℯ   ⎠    ⎝1 - ℯ  ⎠⋅⎝1 - ℯ ⎠ ⋅⎝1 - ℯ   ⎠   ⎝1 - ℯ  ⎠⋅⎝1 - ℯ ⎠ ⋅⎝\n",
       "\n",
       "                     k⋅t                              2⋅k⋅t                   \n",
       "                    ℯ                                ℯ                        \n",
       "───────── + ──────────────────── + ───────────────────────────────────────── +\n",
       "                     2         2   ⎛     -2⋅t⎞ ⎛     -t⎞ ⎛     t⎞ ⎛     2⋅t⎞  \n",
       "     2⋅t⎞   ⎛     -t⎞  ⎛     t⎞    ⎝1 - ℯ    ⎠⋅⎝1 - ℯ  ⎠⋅⎝1 - ℯ ⎠⋅⎝1 - ℯ   ⎠  \n",
       "1 - ℯ   ⎠   ⎝1 - ℯ  ⎠ ⋅⎝1 - ℯ ⎠                                               \n",
       "\n",
       "                                                         t⋅(a + k)            \n",
       "                     1                                  ℯ                     \n",
       " ───────────────────────────────────────── + ─────────────────────────────── +\n",
       " ⎛     -2⋅t⎞ ⎛     -t⎞ ⎛     t⎞ ⎛     2⋅t⎞                        2           \n",
       " ⎝1 - ℯ    ⎠⋅⎝1 - ℯ  ⎠⋅⎝1 - ℯ ⎠⋅⎝1 - ℯ   ⎠   ⎛     -2⋅t⎞ ⎛     -t⎞  ⎛     t⎞  \n",
       "                                             ⎝1 - ℯ    ⎠⋅⎝1 - ℯ  ⎠ ⋅⎝1 - ℯ ⎠  \n",
       "\n",
       "        -a⋅t + 2⋅t⋅(a + k)                2⋅t⋅(a + k)     \n",
       "       ℯ                                 ℯ                \n",
       " ─────────────────────────────── + ───────────────────────\n",
       "                      2                       2          2\n",
       " ⎛     -2⋅t⎞ ⎛     -t⎞  ⎛     t⎞   ⎛     -2⋅t⎞  ⎛     -t⎞ \n",
       " ⎝1 - ℯ    ⎠⋅⎝1 - ℯ  ⎠ ⋅⎝1 - ℯ ⎠   ⎝1 - ℯ    ⎠ ⋅⎝1 - ℯ  ⎠ "
      ]
     },
     "execution_count": 5,
     "metadata": {},
     "output_type": "execute_result"
    }
   ],
   "source": [
    "Sum(k,a)"
   ]
  },
  {
   "cell_type": "code",
   "execution_count": 10,
   "metadata": {},
   "outputs": [],
   "source": [
    "# Take the limit as t -> 0 to get the Euler characteristic(?)\n",
    "\n",
    "def LimitEulerCalculation(k,a):\n",
    "    return limit(Sum(k,a),t,0)"
   ]
  },
  {
   "cell_type": "code",
   "execution_count": 11,
   "metadata": {},
   "outputs": [
    {
     "data": {
      "image/png": "[encoded data removed]",
      "text/latex": [
       "$\\displaystyle \\frac{\\left(a + 1\\right) \\left(a + 2\\right) \\left(a + k + 1\\right) \\left(a + k + 2\\right)}{4}$"
      ],
      "text/plain": [
       "(a + 1)⋅(a + 2)⋅(a + k + 1)⋅(a + k + 2)\n",
       "───────────────────────────────────────\n",
       "                   4                   "
      ]
     },
     "execution_count": 11,
     "metadata": {},
     "output_type": "execute_result"
    }
   ],
   "source": [
    "factor(LimitEulerCalculation(k,a))"
   ]
  },
  {
   "cell_type": "markdown",
   "metadata": {},
   "source": [
    "So\n",
    "\n",
    "$$ \\text{RR}(T^{\\ast}\\mathbb{CP}_{a\\text{-cut}}, \\mathcal{O}(k)_{a\\text{-cut}}) = \\frac{(a+1)(a+2)(k+a+1)(k+a+2)}{4} =\\frac{(a+1)(a+2)}{2} \\cdot \\frac{(k+a+1)(k+a+2)}{2}. $$"
   ]
  },
  {
   "cell_type": "code",
   "execution_count": 12,
   "metadata": {},
   "outputs": [],
   "source": [
    "def LatticePointsSum(k,a):\n",
    "    return f(Q12_1(k,a), v1, -v1 + v2) + f(Q12_2(k,a), v1 - v2, v2) + f(Q23_2(k,a), -v1 + v2, -v2) + f(Q23_3(k,a), v2, -v1) + f(Q13_1(k,a), v1 - v2, -v1) + f(Q13_3(k,a), v1, -v2)"
   ]
  },
  {
   "cell_type": "code",
   "execution_count": 13,
   "metadata": {},
   "outputs": [
    {
     "data": {
      "image/png": "[encoded data removed]",
      "text/latex": [
       "$\\displaystyle 3 a^{2} + 3 a k + 3 a + \\frac{k^{2}}{2} + \\frac{3 k}{2} + 1$"
      ],
      "text/plain": [
       "                      2          \n",
       "   2                 k    3⋅k    \n",
       "3⋅a  + 3⋅a⋅k + 3⋅a + ── + ─── + 1\n",
       "                     2     2     "
      ]
     },
     "execution_count": 13,
     "metadata": {},
     "output_type": "execute_result"
    }
   ],
   "source": [
    "def LimitLatticePoints(k,a):    \n",
    "    return simplify(limit(LatticePointsSum(k,a), t, 0))\n",
    "\n",
    "LimitLatticePoints(k,a)"
   ]
  },
  {
   "cell_type": "markdown",
   "metadata": {},
   "source": [
    "So\n",
    "\n",
    "$$ \\#\\{ \\mathbb{Z}^{2} \\cap P \\} = 3a(k+a+1) + \\frac{(k+1)(k+2)}{2}. $$"
   ]
  },
  {
   "cell_type": "code",
   "execution_count": 14,
   "metadata": {},
   "outputs": [],
   "source": [
    "# Euler characteristic from Index Theorem:\n",
    "def Euler(k,a):\n",
    "    return simplify( Rational(1,4) * ( (a+1)*(a+2)*(a+k+1)*(a+k+2) ) )\n",
    "\n",
    "# Lattice point count:\n",
    "def LatticePoints(k,a):\n",
    "    return factor(Rational(1,2)*(k+1)*(k+2) + 3*a*(k+a+1))\n",
    "\n",
    "# Their difference:\n",
    "def Diff(k,a):\n",
    "    return factor(Euler(k,a) - LatticePoints(k,a))\n",
    "\n",
    "# Different of the a-level and the (a-1)-level of the cut for the Euler characteristic:\n",
    "def EulerDiff(k,a):\n",
    "    return factor(Euler(k,a) - Euler(k,a-1))"
   ]
  },
  {
   "cell_type": "code",
   "execution_count": 15,
   "metadata": {},
   "outputs": [
    {
     "data": {
      "image/png": "[encoded data removed]",
      "text/latex": [
       "$\\displaystyle 0$"
      ],
      "text/plain": [
       "0"
      ]
     },
     "execution_count": 15,
     "metadata": {},
     "output_type": "execute_result"
    }
   ],
   "source": [
    "simplify(LatticePoints(k,a) - LatticePoints(k,a))"
   ]
  },
  {
   "cell_type": "code",
   "execution_count": null,
   "metadata": {},
   "outputs": [],
   "source": []
  },
  {
   "cell_type": "code",
   "execution_count": null,
   "metadata": {},
   "outputs": [],
   "source": []
  },
  {
   "cell_type": "code",
   "execution_count": null,
   "metadata": {},
   "outputs": [],
   "source": []
  },
  {
   "cell_type": "code",
   "execution_count": null,
   "metadata": {},
   "outputs": [],
   "source": []
  },
  {
   "cell_type": "code",
   "execution_count": null,
   "metadata": {},
   "outputs": [],
   "source": []
  },
  {
   "cell_type": "code",
   "execution_count": null,
   "metadata": {},
   "outputs": [],
   "source": []
  },
  {
   "cell_type": "code",
   "execution_count": null,
   "metadata": {},
   "outputs": [],
   "source": []
  },
  {
   "cell_type": "code",
   "execution_count": null,
   "metadata": {},
   "outputs": [],
   "source": []
  },
  {
   "cell_type": "code",
   "execution_count": null,
   "metadata": {},
   "outputs": [],
   "source": []
  },
  {
   "cell_type": "code",
   "execution_count": null,
   "metadata": {},
   "outputs": [],
   "source": []
  },
  {
   "cell_type": "code",
   "execution_count": null,
   "metadata": {},
   "outputs": [],
   "source": []
  },
  {
   "cell_type": "code",
   "execution_count": null,
   "metadata": {},
   "outputs": [],
   "source": []
  }
 ],
 "metadata": {
  "kernelspec": {
   "display_name": "Python 3",
   "language": "python",
   "name": "python3"
  },
  "language_info": {
   "codemirror_mode": {
    "name": "ipython",
    "version": 3
   },
   "file_extension": ".py",
   "mimetype": "text/x-python",
   "name": "python",
   "nbconvert_exporter": "python",
   "pygments_lexer": "ipython3",
   "version": "3.8.5"
  }
 },
 "nbformat": 4,
 "nbformat_minor": 4
}
