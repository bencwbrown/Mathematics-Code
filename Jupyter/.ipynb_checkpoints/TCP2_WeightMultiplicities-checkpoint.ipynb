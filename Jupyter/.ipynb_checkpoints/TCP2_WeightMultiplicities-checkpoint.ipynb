{
 "cells": [
  {
   "cell_type": "code",
   "execution_count": 1,
   "metadata": {},
   "outputs": [],
   "source": [
    "from sympy import *\n",
    "from sympy.vector import Vector\n",
    "from sympy.vector import CoordSys3D\n",
    "N = CoordSys3D('N')\n",
    "\n",
    "t, k, a = symbols( 't k a' )\n",
    "init_printing(use_unicode=True)\n",
    "\n",
    "# Define the vector which is not parallel to any edge vector, which will tend to zero:\n",
    "\n",
    "Phi = t*(N.i + 2*N.j)\n",
    "\n",
    "# Set the fixed points of the action; P denotes those that belong\n",
    "# to the core, and Q those that come from the cut extended core:\n",
    "\n",
    "def P12(k,a):\n",
    "    return Vector.zero\n",
    "\n",
    "def P23(k,a):\n",
    "    return k*N.i\n",
    "\n",
    "def P13(k,a):\n",
    "    return k*N.j\n",
    "\n",
    "def Q12_1(k,a):\n",
    "    return -a*N.j\n",
    "\n",
    "def Q12_2(k,a):\n",
    "    return -a*N.i\n",
    "\n",
    "def Q23_2(k,a):\n",
    "    return (k+a)*N.i\n",
    "\n",
    "def Q23_3(k,a):\n",
    "    return (k+a)*N.i - a*N.j\n",
    "\n",
    "def Q13_1(k,a):\n",
    "    return (k+a)*N.j\n",
    "\n",
    "def Q13_3(k,a):\n",
    "    return -a*N.i + (k+a)*N.j\n",
    "\n",
    "# Basis for the edge/weight vectors for the points \n",
    "\n",
    "v1 = N.i\n",
    "\n",
    "v2 = N.j\n",
    "\n",
    "# Define the term which is summed over each fixed point,\n",
    "# representing the character for the representation\n",
    "\n",
    "def f(P, edge1, edge2):\n",
    "    return exp( Phi.dot(P) ) / ( (1 - exp( Phi.dot(edge1) ) ) * ( 1 - exp( Phi.dot(edge2) ) ) )\n",
    "\n",
    "def g(P, edge1, edge2, edge3, edge4):\n",
    "    return exp( Phi.dot(P) ) / ( (1 - exp( Phi.dot(edge1) ) ) * ( 1 - exp( Phi.dot(edge2) ) ) * ( 1 - exp( Phi.dot(edge3) ) ) * ( 1 - exp( Phi.dot(edge4) ) ) )\n",
    "\n",
    "# For each of the right-angled triangles:\n",
    "\n",
    "def Delta1(k,a):\n",
    "    return f(P23(k,a), -v1, -v1 + v2 ) * ( f(0*v1 + 0*v2, v1, v1 - v2) + f(a*v1, -v1, -v2) + f(a*v1 - a*v2, v2, -v1 + v2) )\n",
    "\n",
    "def Delta2(k,a):\n",
    "    return f(P13(k,a), v1 - v2, -v2 ) * ( f(0*v1 + 0*v2, v2, -v1 + v2) + f(a*v2, -v1, -v2) + f(-a*v1 + a*v2, v1, v1 - v2) )\n",
    "\n",
    "def Delta3(k,a):\n",
    "    return f(P12(k,a), v1 , v2 ) * ( f(0*v1 + 0*v2, -v1, -v2) + f(-a*v1, v1, v1 - v2) + f(-a*v2, v2, -v1 + v2) )\n",
    "\n"
   ]
  },
  {
   "cell_type": "code",
   "execution_count": 4,
   "metadata": {},
   "outputs": [
    {
     "data": {
      "image/svg+xml": [
       "<svg xmlns=\"http://www.w3.org/2000/svg\" xmlns:xlink=\"http://www.w3.org/1999/xlink\" version=\"1.1\" width=\"1680\" height=\"944\"><defs><clipPath id=\"RyhnSdtRzJCZ\"><path fill=\"none\" stroke=\"none\" d=\" M 0 0 L 1680 0 L 1680 944 L 0 944 L 0 0 Z\"/></clipPath></defs><g transform=\"scale(1,1)\" clip-path=\"url(#RyhnSdtRzJCZ)\"><g><rect fill=\"rgb(255,255,255)\" stroke=\"none\" x=\"0\" y=\"0\" width=\"1680\" height=\"944\" fill-opacity=\"1\"/><path fill=\"none\" stroke=\"rgb(192,192,192)\" paint-order=\"fill stroke markers\" d=\" M 51.5 0.5 L 51.5 944.5 M 51.5 0.5 L 51.5 944.5 M 147.5 0.5 L 147.5 944.5 M 243.5 0.5 L 243.5 944.5 M 338.5 0.5 L 338.5 944.5 M 434.5 0.5 L 434.5 944.5 M 530.5 0.5 L 530.5 944.5 M 626.5 0.5 L 626.5 944.5 M 722.5 0.5 L 722.5 944.5 M 818.5 0.5 L 818.5 944.5 M 914.5 0.5 L 914.5 944.5 M 1010.5 0.5 L 1010.5 944.5 M 1106.5 0.5 L 1106.5 944.5 M 1201.5 0.5 L 1201.5 944.5 M 1297.5 0.5 L 1297.5 944.5 M 1393.5 0.5 L 1393.5 944.5 M 1489.5 0.5 L 1489.5 944.5 M 1585.5 0.5 L 1585.5 944.5\" stroke-opacity=\"1\" stroke-linecap=\"round\" stroke-linejoin=\"round\" stroke-miterlimit=\"10\"/><path fill=\"none\" stroke=\"rgb(192,192,192)\" paint-order=\"fill stroke markers\" d=\" M 12.5 0.5 L 12.5 944.5 M 32.5 0.5 L 32.5 944.5 M 70.5 0.5 L 70.5 944.5 M 89.5 0.5 L 89.5 944.5 M 108.5 0.5 L 108.5 944.5 M 128.5 0.5 L 128.5 944.5 M 166.5 0.5 L 166.5 944.5 M 185.5 0.5 L 185.5 944.5 M 204.5 0.5 L 204.5 944.5 M 223.5 0.5 L 223.5 944.5 M 262.5 0.5 L 262.5 944.5 M 281.5 0.5 L 281.5 944.5 M 300.5 0.5 L 300.5 944.5 M 319.5 0.5 L 319.5 944.5 M 358.5 0.5 L 358.5 944.5 M 377.5 0.5 L 377.5 944.5 M 396.5 0.5 L 396.5 944.5 M 415.5 0.5 L 415.5 944.5 M 454.5 0.5 L 454.5 944.5 M 473.5 0.5 L 473.5 944.5 M 492.5 0.5 L 492.5 944.5 M 511.5 0.5 L 511.5 944.5 M 549.5 0.5 L 549.5 944.5 M 569.5 0.5 L 569.5 944.5 M 588.5 0.5 L 588.5 944.5 M 607.5 0.5 L 607.5 944.5 M 645.5 0.5 L 645.5 944.5 M 664.5 0.5 L 664.5 944.5 M 684.5 0.5 L 684.5 944.5 M 703.5 0.5 L 703.5 944.5 M 741.5 0.5 L 741.5 944.5 M 760.5 0.5 L 760.5 944.5 M 780.5 0.5 L 780.5 944.5 M 799.5 0.5 L 799.5 944.5 M 837.5 0.5 L 837.5 944.5 M 856.5 0.5 L 856.5 944.5 M 875.5 0.5 L 875.5 944.5 M 895.5 0.5 L 895.5 944.5 M 933.5 0.5 L 933.5 944.5 M 952.5 0.5 L 952.5 944.5 M 971.5 0.5 L 971.5 944.5 M 991.5 0.5 L 991.5 944.5 M 1029.5 0.5 L 1029.5 944.5 M 1048.5 0.5 L 1048.5 944.5 M 1067.5 0.5 L 1067.5 944.5 M 1086.5 0.5 L 1086.5 944.5 M 1125.5 0.5 L 1125.5 944.5 M 1144.5 0.5 L 1144.5 944.5 M 1163.5 0.5 L 1163.5 944.5 M 1182.5 0.5 L 1182.5 944.5 M 1221.5 0.5 L 1221.5 944.5 M 1240.5 0.5 L 1240.5 944.5 M 1259.5 0.5 L 1259.5 944.5 M 1278.5 0.5 L 1278.5 944.5 M 1317.5 0.5 L 1317.5 944.5 M 1336.5 0.5 L 1336.5 944.5 M 1355.5 0.5 L 1355.5 944.5 M 1374.5 0.5 L 1374.5 944.5 M 1412.5 0.5 L 1412.5 944.5 M 1432.5 0.5 L 1432.5 944.5 M 1451.5 0.5 L 1451.5 944.5 M 1470.5 0.5 L 1470.5 944.5 M 1508.5 0.5 L 1508.5 944.5 M 1527.5 0.5 L 1527.5 944.5 M 1547.5 0.5 L 1547.5 944.5 M 1566.5 0.5 L 1566.5 944.5 M 1604.5 0.5 L 1604.5 944.5 M 1623.5 0.5 L 1623.5 944.5 M 1643.5 0.5 L 1643.5 944.5 M 1662.5 0.5 L 1662.5 944.5\" stroke-opacity=\"0.23529411764705882\" stroke-linecap=\"round\" stroke-linejoin=\"round\" stroke-miterlimit=\"10\"/><path fill=\"none\" stroke=\"rgb(192,192,192)\" paint-order=\"fill stroke markers\" d=\" M 0.5 21.5 L 1680.5 21.5 M 0.5 21.5 L 1680.5 21.5 M 0.5 73.5 L 1680.5 73.5 M 0.5 126.5 L 1680.5 126.5 M 0.5 178.5 L 1680.5 178.5 M 0.5 231.5 L 1680.5 231.5 M 0.5 283.5 L 1680.5 283.5 M 0.5 336.5 L 1680.5 336.5 M 0.5 388.5 L 1680.5 388.5 M 0.5 441.5 L 1680.5 441.5 M 0.5 493.5 L 1680.5 493.5 M 0.5 546.5 L 1680.5 546.5 M 0.5 598.5 L 1680.5 598.5 M 0.5 651.5 L 1680.5 651.5 M 0.5 703.5 L 1680.5 703.5 M 0.5 756.5 L 1680.5 756.5 M 0.5 808.5 L 1680.5 808.5 M 0.5 861.5 L 1680.5 861.5 M 0.5 913.5 L 1680.5 913.5\" stroke-opacity=\"1\" stroke-linecap=\"round\" stroke-linejoin=\"round\" stroke-miterlimit=\"10\"/><path fill=\"none\" stroke=\"rgb(192,192,192)\" paint-order=\"fill stroke markers\" d=\" M 0.5 0.5 L 1680.5 0.5 M 0.5 0.5 L 1680.5 0.5 M 0.5 10.5 L 1680.5 10.5 M 0.5 31.5 L 1680.5 31.5 M 0.5 42.5 L 1680.5 42.5 M 0.5 52.5 L 1680.5 52.5 M 0.5 63.5 L 1680.5 63.5 M 0.5 84.5 L 1680.5 84.5 M 0.5 94.5 L 1680.5 94.5 M 0.5 105.5 L 1680.5 105.5 M 0.5 115.5 L 1680.5 115.5 M 0.5 136.5 L 1680.5 136.5 M 0.5 147.5 L 1680.5 147.5 M 0.5 157.5 L 1680.5 157.5 M 0.5 168.5 L 1680.5 168.5 M 0.5 189.5 L 1680.5 189.5 M 0.5 199.5 L 1680.5 199.5 M 0.5 210.5 L 1680.5 210.5 M 0.5 220.5 L 1680.5 220.5 M 0.5 241.5 L 1680.5 241.5 M 0.5 252.5 L 1680.5 252.5 M 0.5 262.5 L 1680.5 262.5 M 0.5 273.5 L 1680.5 273.5 M 0.5 294.5 L 1680.5 294.5 M 0.5 304.5 L 1680.5 304.5 M 0.5 315.5 L 1680.5 315.5 M 0.5 325.5 L 1680.5 325.5 M 0.5 346.5 L 1680.5 346.5 M 0.5 357.5 L 1680.5 357.5 M 0.5 367.5 L 1680.5 367.5 M 0.5 378.5 L 1680.5 378.5 M 0.5 399.5 L 1680.5 399.5 M 0.5 409.5 L 1680.5 409.5 M 0.5 420.5 L 1680.5 420.5 M 0.5 430.5 L 1680.5 430.5 M 0.5 451.5 L 1680.5 451.5 M 0.5 462.5 L 1680.5 462.5 M 0.5 472.5 L 1680.5 472.5 M 0.5 483.5 L 1680.5 483.5 M 0.5 504.5 L 1680.5 504.5 M 0.5 514.5 L 1680.5 514.5 M 0.5 525.5 L 1680.5 525.5 M 0.5 535.5 L 1680.5 535.5 M 0.5 556.5 L 1680.5 556.5 M 0.5 567.5 L 1680.5 567.5 M 0.5 577.5 L 1680.5 577.5 M 0.5 588.5 L 1680.5 588.5 M 0.5 609.5 L 1680.5 609.5 M 0.5 619.5 L 1680.5 619.5 M 0.5 630.5 L 1680.5 630.5 M 0.5 640.5 L 1680.5 640.5 M 0.5 661.5 L 1680.5 661.5 M 0.5 672.5 L 1680.5 672.5 M 0.5 682.5 L 1680.5 682.5 M 0.5 693.5 L 1680.5 693.5 M 0.5 714.5 L 1680.5 714.5 M 0.5 724.5 L 1680.5 724.5 M 0.5 735.5 L 1680.5 735.5 M 0.5 745.5 L 1680.5 745.5 M 0.5 766.5 L 1680.5 766.5 M 0.5 777.5 L 1680.5 777.5 M 0.5 787.5 L 1680.5 787.5 M 0.5 798.5 L 1680.5 798.5 M 0.5 819.5 L 1680.5 819.5 M 0.5 829.5 L 1680.5 829.5 M 0.5 840.5 L 1680.5 840.5 M 0.5 850.5 L 1680.5 850.5 M 0.5 871.5 L 1680.5 871.5 M 0.5 882.5 L 1680.5 882.5 M 0.5 892.5 L 1680.5 892.5 M 0.5 903.5 L 1680.5 903.5 M 0.5 924.5 L 1680.5 924.5 M 0.5 934.5 L 1680.5 934.5\" stroke-opacity=\"0.23529411764705882\" stroke-linecap=\"round\" stroke-linejoin=\"round\" stroke-miterlimit=\"10\"/><path fill=\"rgb(244,0,153)\" stroke=\"none\" paint-order=\"stroke fill markers\" fill-rule=\"evenodd\" d=\" M 722.5185874061854 283.66100435174314 L 1010.1871285657431 598.6258621535745 L 722.5185874061854 598.6258621535745 Z\" fill-opacity=\"0.09803921568627451\"/><path fill=\"rgb(153,51,0)\" stroke=\"none\" paint-order=\"stroke fill markers\" fill-rule=\"evenodd\" d=\" M 722.5185874061854 178.67271841779933 L 1106.0766422855959 598.6258621535745 L 1010.1871285657431 598.6258621535745 L 722.5185874061854 283.66100435174314 Z\" fill-opacity=\"0.09803921568627451\"/><path fill=\"rgb(153,51,0)\" stroke=\"none\" paint-order=\"stroke fill markers\" fill-rule=\"evenodd\" d=\" M 626.6290736863327 178.67271841779933 L 722.5185874061854 178.67271841779933 L 722.5185874061854 283.66100435174314 Z\" fill-opacity=\"0.09803921568627451\"/><path fill=\"rgb(153,51,0)\" stroke=\"none\" paint-order=\"stroke fill markers\" fill-rule=\"evenodd\" d=\" M 626.6290736863327 178.67271841779933 L 626.6290736863327 598.6258621535745 L 722.5185874061854 598.6258621535745 L 722.5185874061854 283.66100435174314 Z\" fill-opacity=\"0.09803921568627451\"/><path fill=\"rgb(153,51,0)\" stroke=\"none\" paint-order=\"stroke fill markers\" fill-rule=\"evenodd\" d=\" M 722.5185874061854 703.6141480875183 L 722.5185874061854 598.6258621535745 L 626.6290736863327 598.6258621535745 Z\" fill-opacity=\"0.09803921568627451\"/><path fill=\"rgb(153,51,0)\" stroke=\"none\" paint-order=\"stroke fill markers\" fill-rule=\"evenodd\" d=\" M 1106.0766422855959 703.6141480875183 L 722.5185874061854 703.6141480875183 L 722.5185874061854 598.6258621535745 L 1010.1871285657431 598.6258621535745 Z\" fill-opacity=\"0.09803921568627451\"/><path fill=\"rgb(153,51,0)\" stroke=\"none\" paint-order=\"stroke fill markers\" fill-rule=\"evenodd\" d=\" M 1106.0766422855959 598.6258621535745 L 1106.0766422855959 703.6141480875183 L 1010.1871285657431 598.6258621535745 Z\" fill-opacity=\"0.09803921568627451\"/><path fill=\"none\" stroke=\"rgb(0,0,0)\" paint-order=\"fill stroke markers\" d=\" M 722.5185874061854 949 L 722.5185874061854 -5\" stroke-opacity=\"0.6980392156862745\" stroke-linecap=\"round\" stroke-linejoin=\"round\" stroke-miterlimit=\"10\" stroke-width=\"2.5\"/><path fill=\"none\" stroke=\"rgb(0,0,0)\" paint-order=\"fill stroke markers\" d=\" M -5 598.6258621535745 L 1685 598.6258621535745\" stroke-opacity=\"0.6980392156862745\" stroke-linecap=\"round\" stroke-linejoin=\"round\" stroke-miterlimit=\"10\" stroke-width=\"2.5\"/><path fill=\"none\" stroke=\"rgb(0,0,0)\" paint-order=\"fill stroke markers\" d=\" M 1330.196217191544 949 L 458.87428565438574 -5\" stroke-opacity=\"0.6980392156862745\" stroke-linecap=\"round\" stroke-linejoin=\"round\" stroke-miterlimit=\"10\" stroke-width=\"2.5\"/><path fill=\"none\" stroke=\"rgb(244,0,153)\" paint-order=\"fill stroke markers\" d=\" M 722.5185874061854 283.66100435174314 L 1010.1871285657431 598.6258621535745\" stroke-opacity=\"0.6980392156862745\" stroke-linecap=\"round\" stroke-linejoin=\"round\" stroke-miterlimit=\"10\" stroke-width=\"2.5\"/><path fill=\"none\" stroke=\"rgb(244,0,153)\" paint-order=\"fill stroke markers\" d=\" M 1010.1871285657431 598.6258621535745 L 722.5185874061854 598.6258621535745\" stroke-opacity=\"0.6980392156862745\" stroke-linecap=\"round\" stroke-linejoin=\"round\" stroke-miterlimit=\"10\" stroke-width=\"2.5\"/><path fill=\"none\" stroke=\"rgb(244,0,153)\" paint-order=\"fill stroke markers\" d=\" M 722.5185874061854 598.6258621535745 L 722.5185874061854 283.66100435174314\" stroke-opacity=\"0.6980392156862745\" stroke-linecap=\"round\" stroke-linejoin=\"round\" stroke-miterlimit=\"10\" stroke-width=\"2.5\"/><path fill=\"none\" stroke=\"rgb(153,51,0)\" paint-order=\"fill stroke markers\" d=\" M 722.5185874061854 178.67271841779933 L 1106.0766422855959 598.6258621535745\" stroke-opacity=\"0.6980392156862745\" stroke-linecap=\"round\" stroke-linejoin=\"round\" stroke-miterlimit=\"10\" stroke-width=\"2.5\"/><path fill=\"none\" stroke=\"rgb(153,51,0)\" paint-order=\"fill stroke markers\" d=\" M 1106.0766422855959 598.6258621535745 L 1010.1871285657431 598.6258621535745\" stroke-opacity=\"0.6980392156862745\" stroke-linecap=\"round\" stroke-linejoin=\"round\" stroke-miterlimit=\"10\" stroke-width=\"2.5\"/><path fill=\"none\" stroke=\"rgb(153,51,0)\" paint-order=\"fill stroke markers\" d=\" M 1010.1871285657431 598.6258621535745 L 722.5185874061854 283.66100435174314\" stroke-opacity=\"0.6980392156862745\" stroke-linecap=\"round\" stroke-linejoin=\"round\" stroke-miterlimit=\"10\" stroke-width=\"2.5\"/><path fill=\"none\" stroke=\"rgb(153,51,0)\" paint-order=\"fill stroke markers\" d=\" M 722.5185874061854 283.66100435174314 L 722.5185874061854 178.67271841779933\" stroke-opacity=\"0.6980392156862745\" stroke-linecap=\"round\" stroke-linejoin=\"round\" stroke-miterlimit=\"10\" stroke-width=\"2.5\"/><path fill=\"none\" stroke=\"rgb(153,51,0)\" paint-order=\"fill stroke markers\" d=\" M 626.6290736863327 178.67271841779933 L 722.5185874061854 178.67271841779933\" stroke-opacity=\"0.6980392156862745\" stroke-linecap=\"round\" stroke-linejoin=\"round\" stroke-miterlimit=\"10\" stroke-width=\"2.5\"/><path fill=\"none\" stroke=\"rgb(153,51,0)\" paint-order=\"fill stroke markers\" d=\" M 722.5185874061854 178.67271841779933 L 722.5185874061854 283.66100435174314\" stroke-opacity=\"0.6980392156862745\" stroke-linecap=\"round\" stroke-linejoin=\"round\" stroke-miterlimit=\"10\" stroke-width=\"2.5\"/><path fill=\"none\" stroke=\"rgb(153,51,0)\" paint-order=\"fill stroke markers\" d=\" M 722.5185874061854 283.66100435174314 L 626.6290736863327 178.67271841779933\" stroke-opacity=\"0.6980392156862745\" stroke-linecap=\"round\" stroke-linejoin=\"round\" stroke-miterlimit=\"10\" stroke-width=\"2.5\"/><path fill=\"none\" stroke=\"rgb(153,51,0)\" paint-order=\"fill stroke markers\" d=\" M 626.6290736863327 178.67271841779933 L 626.6290736863327 598.6258621535745\" stroke-opacity=\"0.6980392156862745\" stroke-linecap=\"round\" stroke-linejoin=\"round\" stroke-miterlimit=\"10\" stroke-width=\"2.5\"/><path fill=\"none\" stroke=\"rgb(153,51,0)\" paint-order=\"fill stroke markers\" d=\" M 626.6290736863327 598.6258621535745 L 722.5185874061854 598.6258621535745\" stroke-opacity=\"0.6980392156862745\" stroke-linecap=\"round\" stroke-linejoin=\"round\" stroke-miterlimit=\"10\" stroke-width=\"2.5\"/><path fill=\"none\" stroke=\"rgb(153,51,0)\" paint-order=\"fill stroke markers\" d=\" M 722.5185874061854 598.6258621535745 L 722.5185874061854 283.66100435174314\" stroke-opacity=\"0.6980392156862745\" stroke-linecap=\"round\" stroke-linejoin=\"round\" stroke-miterlimit=\"10\" stroke-width=\"2.5\"/><path fill=\"none\" stroke=\"rgb(153,51,0)\" paint-order=\"fill stroke markers\" d=\" M 722.5185874061854 283.66100435174314 L 626.6290736863327 178.67271841779933\" stroke-opacity=\"0.6980392156862745\" stroke-linecap=\"round\" stroke-linejoin=\"round\" stroke-miterlimit=\"10\" stroke-width=\"2.5\"/><path fill=\"none\" stroke=\"rgb(153,51,0)\" paint-order=\"fill stroke markers\" d=\" M 722.5185874061854 703.6141480875183 L 722.5185874061854 598.6258621535745\" stroke-opacity=\"0.6980392156862745\" stroke-linecap=\"round\" stroke-linejoin=\"round\" stroke-miterlimit=\"10\" stroke-width=\"2.5\"/><path fill=\"none\" stroke=\"rgb(153,51,0)\" paint-order=\"fill stroke markers\" d=\" M 722.5185874061854 598.6258621535745 L 626.6290736863327 598.6258621535745\" stroke-opacity=\"0.6980392156862745\" stroke-linecap=\"round\" stroke-linejoin=\"round\" stroke-miterlimit=\"10\" stroke-width=\"2.5\"/><path fill=\"none\" stroke=\"rgb(153,51,0)\" paint-order=\"fill stroke markers\" d=\" M 626.6290736863327 598.6258621535745 L 722.5185874061854 703.6141480875183\" stroke-opacity=\"0.6980392156862745\" stroke-linecap=\"round\" stroke-linejoin=\"round\" stroke-miterlimit=\"10\" stroke-width=\"2.5\"/><path fill=\"none\" stroke=\"rgb(153,51,0)\" paint-order=\"fill stroke markers\" d=\" M 1106.0766422855959 703.6141480875183 L 722.5185874061854 703.6141480875183\" stroke-opacity=\"0.6980392156862745\" stroke-linecap=\"round\" stroke-linejoin=\"round\" stroke-miterlimit=\"10\" stroke-width=\"2.5\"/><path fill=\"none\" stroke=\"rgb(153,51,0)\" paint-order=\"fill stroke markers\" d=\" M 722.5185874061854 703.6141480875183 L 722.5185874061854 598.6258621535745\" stroke-opacity=\"0.6980392156862745\" stroke-linecap=\"round\" stroke-linejoin=\"round\" stroke-miterlimit=\"10\" stroke-width=\"2.5\"/><path fill=\"none\" stroke=\"rgb(153,51,0)\" paint-order=\"fill stroke markers\" d=\" M 722.5185874061854 598.6258621535745 L 1010.1871285657431 598.6258621535745\" stroke-opacity=\"0.6980392156862745\" stroke-linecap=\"round\" stroke-linejoin=\"round\" stroke-miterlimit=\"10\" stroke-width=\"2.5\"/><path fill=\"none\" stroke=\"rgb(153,51,0)\" paint-order=\"fill stroke markers\" d=\" M 1010.1871285657431 598.6258621535745 L 1106.0766422855959 703.6141480875183\" stroke-opacity=\"0.6980392156862745\" stroke-linecap=\"round\" stroke-linejoin=\"round\" stroke-miterlimit=\"10\" stroke-width=\"2.5\"/><path fill=\"none\" stroke=\"rgb(153,51,0)\" paint-order=\"fill stroke markers\" d=\" M 1106.0766422855959 598.6258621535745 L 1106.0766422855959 703.6141480875183\" stroke-opacity=\"0.6980392156862745\" stroke-linecap=\"round\" stroke-linejoin=\"round\" stroke-miterlimit=\"10\" stroke-width=\"2.5\"/><path fill=\"none\" stroke=\"rgb(153,51,0)\" paint-order=\"fill stroke markers\" d=\" M 1106.0766422855959 703.6141480875183 L 1010.1871285657431 598.6258621535745\" stroke-opacity=\"0.6980392156862745\" stroke-linecap=\"round\" stroke-linejoin=\"round\" stroke-miterlimit=\"10\" stroke-width=\"2.5\"/><path fill=\"none\" stroke=\"rgb(153,51,0)\" paint-order=\"fill stroke markers\" d=\" M 1010.1871285657431 598.6258621535745 L 1106.0766422855959 598.6258621535745\" stroke-opacity=\"0.6980392156862745\" stroke-linecap=\"round\" stroke-linejoin=\"round\" stroke-miterlimit=\"10\" stroke-width=\"2.5\"/><path fill=\"none\" stroke=\"rgb(0,0,0)\" paint-order=\"fill stroke markers\" d=\" M 1201.9661560054483 703.6141480875183 L 1165.4859762815533 663.6724340126768\" stroke-opacity=\"0.6980392156862745\" stroke-linecap=\"round\" stroke-linejoin=\"round\" stroke-miterlimit=\"10\" stroke-width=\"2.5\"/><path fill=\"rgb(0,0,0)\" stroke=\"none\" paint-order=\"stroke fill markers\" fill-rule=\"evenodd\" d=\" M 1154.021399145522 651.1200051205465 L 1168.624083504586 660.806289728669 L 1162.3478690585207 666.5385782966847 Z\" fill-opacity=\"0.6980392156862745\"/><path fill=\"none\" stroke=\"rgb(0,0,0)\" paint-order=\"fill stroke markers\" d=\" M 1201.9661560054483 703.6141480875183 L 1171.021399145522 703.6141480875183\" stroke-opacity=\"0.6980392156862745\" stroke-linecap=\"round\" stroke-linejoin=\"round\" stroke-miterlimit=\"10\" stroke-width=\"2.5\"/><path fill=\"rgb(0,0,0)\" stroke=\"none\" paint-order=\"stroke fill markers\" fill-rule=\"evenodd\" d=\" M 1154.021399145522 703.6141480875183 L 1171.021399145522 699.3641480875183 L 1171.021399145522 707.8641480875183 Z\" fill-opacity=\"0.6980392156862745\"/><path fill=\"none\" stroke=\"rgb(0,0,0)\" paint-order=\"fill stroke markers\" d=\" M 626.6290736863327 703.6141480875183 L 626.6290736863327 668.1200051205465\" stroke-opacity=\"0.6980392156862745\" stroke-linecap=\"round\" stroke-linejoin=\"round\" stroke-miterlimit=\"10\" stroke-width=\"2.5\"/><path fill=\"rgb(0,0,0)\" stroke=\"none\" paint-order=\"stroke fill markers\" fill-rule=\"evenodd\" d=\" M 626.6290736863327 651.1200051205465 L 630.8790736863327 668.1200051205465 L 622.3790736863327 668.1200051205465 Z\" fill-opacity=\"0.6980392156862745\"/><path fill=\"none\" stroke=\"rgb(0,0,0)\" paint-order=\"fill stroke markers\" d=\" M 626.6290736863327 703.6141480875183 L 657.573830546259 703.6141480875183\" stroke-opacity=\"0.6980392156862745\" stroke-linecap=\"round\" stroke-linejoin=\"round\" stroke-miterlimit=\"10\" stroke-width=\"2.5\"/><path fill=\"rgb(0,0,0)\" stroke=\"none\" paint-order=\"stroke fill markers\" fill-rule=\"evenodd\" d=\" M 674.573830546259 703.6141480875183 L 657.573830546259 707.8641480875183 L 657.573830546259 699.3641480875183 Z\" fill-opacity=\"0.6980392156862745\"/><path fill=\"none\" stroke=\"rgb(0,0,0)\" paint-order=\"fill stroke markers\" d=\" M 626.6290736863327 73.68443248385552 L 626.6290736863327 109.17857545082745\" stroke-opacity=\"0.6980392156862745\" stroke-linecap=\"round\" stroke-linejoin=\"round\" stroke-miterlimit=\"10\" stroke-width=\"2.5\"/><path fill=\"rgb(0,0,0)\" stroke=\"none\" paint-order=\"stroke fill markers\" fill-rule=\"evenodd\" d=\" M 626.6290736863327 126.17857545082745 L 622.3790736863327 109.17857545082745 L 630.8790736863327 109.17857545082745 Z\" fill-opacity=\"0.6980392156862745\"/><path fill=\"none\" stroke=\"rgb(0,0,0)\" paint-order=\"fill stroke markers\" d=\" M 626.6290736863327 73.68443248385552 L 663.1092534102278 113.6261465586971\" stroke-opacity=\"0.6980392156862745\" stroke-linecap=\"round\" stroke-linejoin=\"round\" stroke-miterlimit=\"10\" stroke-width=\"2.5\"/><path fill=\"rgb(0,0,0)\" stroke=\"none\" paint-order=\"stroke fill markers\" fill-rule=\"evenodd\" d=\" M 674.573830546259 126.17857545082745 L 659.9711461871952 116.49229084270492 L 666.2473606332603 110.76000227468928 Z\" fill-opacity=\"0.6980392156862745\"/><g transform=\"scale(19,19)\"><g transform=\"translate(34.63157894736842,4.591368421052631)\"><path fill=\"rgb(0,0,0)\" stroke=\"none\" paint-order=\"stroke fill markers\" d=\" M 0.418 -0.25 L 0.617 -0.05 Q 0.63 -0.037 0.63 -0.029 Q 0.63 -0.012 0.61 -0.009000000000000001 Q 0.601 -0.009000000000000001 0.588 -0.022 L 0.388 -0.222 L 0.188 -0.022 Q 0.17500000000000002 -0.009000000000000001 0.167 -0.009000000000000001 Q 0.152 -0.009000000000000001 0.148 -0.024 Q 0.147 -0.027 0.147 -0.029 Q 0.147 -0.038 0.16 -0.051000000000000004 L 0.359 -0.25 L 0.16 -0.45 Q 0.147 -0.463 0.147 -0.47100000000000003 Q 0.147 -0.486 0.163 -0.49 Q 0.165 -0.491 0.167 -0.491 Q 0.17500000000000002 -0.491 0.188 -0.47800000000000004 L 0.389 -0.278 L 0.589 -0.47800000000000004 Q 0.602 -0.491 0.61 -0.491 Q 0.626 -0.491 0.629 -0.47600000000000003 Q 0.63 -0.47300000000000003 0.63 -0.47100000000000003 Q 0.63 -0.463 0.617 -0.45 L 0.418 -0.25 Z\"/></g><g transform=\"translate(35.409578947368416,4.591368421052631)\"><path fill=\"rgb(0,0,0)\" stroke=\"none\" paint-order=\"stroke fill markers\" d=\" M 0.29 -0.352 L 0.29 -0.352 Q 0.39 -0.332 0.434 -0.254 Q 0.457 -0.215 0.457 -0.171 Q 0.457 -0.08600000000000001 0.387 -0.028 Q 0.326 0.022 0.244 0.022 Q 0.145 0.022 0.085 -0.037 Q 0.042 -0.079 0.042 -0.135 Q 0.042 -0.182 0.084 -0.191 Q 0.091 -0.193 0.098 -0.193 Q 0.136 -0.193 0.149 -0.161 Q 0.153 -0.148 0.154 -0.137 Q 0.154 -0.097 0.11800000000000001 -0.085 Q 0.10400000000000001 -0.08 0.088 -0.082 Q 0.125 -0.02 0.216 -0.008 Q 0.229 -0.006 0.241 -0.006 Q 0.305 -0.006 0.335 -0.069 Q 0.354 -0.109 0.354 -0.171 Q 0.354 -0.304 0.274 -0.331 Q 0.256 -0.337 0.23500000000000001 -0.337 L 0.191 -0.337 Q 0.169 -0.337 0.167 -0.34800000000000003 Q 0.167 -0.358 0.182 -0.36 Q 0.197 -0.36 0.221 -0.363 Q 0.272 -0.365 0.301 -0.402 L 0.301 -0.403 L 0.302 -0.404 L 0.303 -0.405 L 0.304 -0.405 L 0.31 -0.41500000000000004 Q 0.338 -0.462 0.338 -0.529 Q 0.338 -0.622 0.266 -0.638 Q 0.254 -0.641 0.242 -0.641 Q 0.17200000000000001 -0.641 0.128 -0.601 Q 0.117 -0.591 0.109 -0.579 Q 0.171 -0.579 0.171 -0.529 Q 0.171 -0.493 0.14 -0.481 Q 0.131 -0.47800000000000004 0.12 -0.47800000000000004 Q 0.081 -0.47800000000000004 0.07100000000000001 -0.513 L 0.07100000000000001 -0.513 L 0.07100000000000001 -0.514 Q 0.069 -0.522 0.069 -0.53 Q 0.069 -0.597 0.135 -0.637 Q 0.183 -0.666 0.246 -0.666 Q 0.337 -0.666 0.393 -0.612 L 0.395 -0.61 Q 0.43 -0.5740000000000001 0.43 -0.528 Q 0.43 -0.445 0.359 -0.389 Q 0.328 -0.365 0.29 -0.352 Z\"/></g></g><g transform=\"scale(19,19)\"><g transform=\"translate(63.421052631578945,36.01242105263158)\"><path fill=\"rgb(0,0,0)\" stroke=\"none\" paint-order=\"stroke fill markers\" d=\" M 0.418 -0.25 L 0.617 -0.05 Q 0.63 -0.037 0.63 -0.029 Q 0.63 -0.012 0.61 -0.009000000000000001 Q 0.601 -0.009000000000000001 0.588 -0.022 L 0.388 -0.222 L 0.188 -0.022 Q 0.17500000000000002 -0.009000000000000001 0.167 -0.009000000000000001 Q 0.152 -0.009000000000000001 0.148 -0.024 Q 0.147 -0.027 0.147 -0.029 Q 0.147 -0.038 0.16 -0.051000000000000004 L 0.359 -0.25 L 0.16 -0.45 Q 0.147 -0.463 0.147 -0.47100000000000003 Q 0.147 -0.486 0.163 -0.49 Q 0.165 -0.491 0.167 -0.491 Q 0.17500000000000002 -0.491 0.188 -0.47800000000000004 L 0.389 -0.278 L 0.589 -0.47800000000000004 Q 0.602 -0.491 0.61 -0.491 Q 0.626 -0.491 0.629 -0.47600000000000003 Q 0.63 -0.47300000000000003 0.63 -0.47100000000000003 Q 0.63 -0.463 0.617 -0.45 L 0.418 -0.25 Z\"/></g><g transform=\"translate(64.19905263157895,36.01242105263158)\"><path fill=\"rgb(0,0,0)\" stroke=\"none\" paint-order=\"stroke fill markers\" d=\" M 0.29 -0.352 L 0.29 -0.352 Q 0.39 -0.332 0.434 -0.254 Q 0.457 -0.215 0.457 -0.171 Q 0.457 -0.08600000000000001 0.387 -0.028 Q 0.326 0.022 0.244 0.022 Q 0.145 0.022 0.085 -0.037 Q 0.042 -0.079 0.042 -0.135 Q 0.042 -0.182 0.084 -0.191 Q 0.091 -0.193 0.098 -0.193 Q 0.136 -0.193 0.149 -0.161 Q 0.153 -0.148 0.154 -0.137 Q 0.154 -0.097 0.11800000000000001 -0.085 Q 0.10400000000000001 -0.08 0.088 -0.082 Q 0.125 -0.02 0.216 -0.008 Q 0.229 -0.006 0.241 -0.006 Q 0.305 -0.006 0.335 -0.069 Q 0.354 -0.109 0.354 -0.171 Q 0.354 -0.304 0.274 -0.331 Q 0.256 -0.337 0.23500000000000001 -0.337 L 0.191 -0.337 Q 0.169 -0.337 0.167 -0.34800000000000003 Q 0.167 -0.358 0.182 -0.36 Q 0.197 -0.36 0.221 -0.363 Q 0.272 -0.365 0.301 -0.402 L 0.301 -0.403 L 0.302 -0.404 L 0.303 -0.405 L 0.304 -0.405 L 0.31 -0.41500000000000004 Q 0.338 -0.462 0.338 -0.529 Q 0.338 -0.622 0.266 -0.638 Q 0.254 -0.641 0.242 -0.641 Q 0.17200000000000001 -0.641 0.128 -0.601 Q 0.117 -0.591 0.109 -0.579 Q 0.171 -0.579 0.171 -0.529 Q 0.171 -0.493 0.14 -0.481 Q 0.131 -0.47800000000000004 0.12 -0.47800000000000004 Q 0.081 -0.47800000000000004 0.07100000000000001 -0.513 L 0.07100000000000001 -0.513 L 0.07100000000000001 -0.514 Q 0.069 -0.522 0.069 -0.53 Q 0.069 -0.597 0.135 -0.637 Q 0.183 -0.666 0.246 -0.666 Q 0.337 -0.666 0.393 -0.612 L 0.395 -0.61 Q 0.43 -0.5740000000000001 0.43 -0.528 Q 0.43 -0.445 0.359 -0.389 Q 0.328 -0.365 0.29 -0.352 Z\"/></g></g><g transform=\"scale(19,19)\"><g transform=\"translate(30.42105263157895,36.22294736842105)\"><path fill=\"rgb(0,0,0)\" stroke=\"none\" paint-order=\"stroke fill markers\" d=\" M 0.418 -0.25 L 0.617 -0.05 Q 0.63 -0.037 0.63 -0.029 Q 0.63 -0.012 0.61 -0.009000000000000001 Q 0.601 -0.009000000000000001 0.588 -0.022 L 0.388 -0.222 L 0.188 -0.022 Q 0.17500000000000002 -0.009000000000000001 0.167 -0.009000000000000001 Q 0.152 -0.009000000000000001 0.148 -0.024 Q 0.147 -0.027 0.147 -0.029 Q 0.147 -0.038 0.16 -0.051000000000000004 L 0.359 -0.25 L 0.16 -0.45 Q 0.147 -0.463 0.147 -0.47100000000000003 Q 0.147 -0.486 0.163 -0.49 Q 0.165 -0.491 0.167 -0.491 Q 0.17500000000000002 -0.491 0.188 -0.47800000000000004 L 0.389 -0.278 L 0.589 -0.47800000000000004 Q 0.602 -0.491 0.61 -0.491 Q 0.626 -0.491 0.629 -0.47600000000000003 Q 0.63 -0.47300000000000003 0.63 -0.47100000000000003 Q 0.63 -0.463 0.617 -0.45 L 0.418 -0.25 Z\"/></g><g transform=\"translate(31.199052631578947,36.22294736842105)\"><path fill=\"rgb(0,0,0)\" stroke=\"none\" paint-order=\"stroke fill markers\" d=\" M 0.29 -0.352 L 0.29 -0.352 Q 0.39 -0.332 0.434 -0.254 Q 0.457 -0.215 0.457 -0.171 Q 0.457 -0.08600000000000001 0.387 -0.028 Q 0.326 0.022 0.244 0.022 Q 0.145 0.022 0.085 -0.037 Q 0.042 -0.079 0.042 -0.135 Q 0.042 -0.182 0.084 -0.191 Q 0.091 -0.193 0.098 -0.193 Q 0.136 -0.193 0.149 -0.161 Q 0.153 -0.148 0.154 -0.137 Q 0.154 -0.097 0.11800000000000001 -0.085 Q 0.10400000000000001 -0.08 0.088 -0.082 Q 0.125 -0.02 0.216 -0.008 Q 0.229 -0.006 0.241 -0.006 Q 0.305 -0.006 0.335 -0.069 Q 0.354 -0.109 0.354 -0.171 Q 0.354 -0.304 0.274 -0.331 Q 0.256 -0.337 0.23500000000000001 -0.337 L 0.191 -0.337 Q 0.169 -0.337 0.167 -0.34800000000000003 Q 0.167 -0.358 0.182 -0.36 Q 0.197 -0.36 0.221 -0.363 Q 0.272 -0.365 0.301 -0.402 L 0.301 -0.403 L 0.302 -0.404 L 0.303 -0.405 L 0.304 -0.405 L 0.31 -0.41500000000000004 Q 0.338 -0.462 0.338 -0.529 Q 0.338 -0.622 0.266 -0.638 Q 0.254 -0.641 0.242 -0.641 Q 0.17200000000000001 -0.641 0.128 -0.601 Q 0.117 -0.591 0.109 -0.579 Q 0.171 -0.579 0.171 -0.529 Q 0.171 -0.493 0.14 -0.481 Q 0.131 -0.47800000000000004 0.12 -0.47800000000000004 Q 0.081 -0.47800000000000004 0.07100000000000001 -0.513 L 0.07100000000000001 -0.513 L 0.07100000000000001 -0.514 Q 0.069 -0.522 0.069 -0.53 Q 0.069 -0.597 0.135 -0.637 Q 0.183 -0.666 0.246 -0.666 Q 0.337 -0.666 0.393 -0.612 L 0.395 -0.61 Q 0.43 -0.5740000000000001 0.43 -0.528 Q 0.43 -0.445 0.359 -0.389 Q 0.328 -0.365 0.29 -0.352 Z\"/></g></g></g></g></svg>"
      ],
      "text/plain": [
       "<IPython.core.display.SVG object>"
      ]
     },
     "execution_count": 4,
     "metadata": {},
     "output_type": "execute_result"
    }
   ],
   "source": [
    "from IPython.core.display import SVG\n",
    "SVG(filename='CP2_Polyptych_EdgeGroupings.svg')\n"
   ]
  },
  {
   "cell_type": "code",
   "execution_count": null,
   "metadata": {},
   "outputs": [],
   "source": [
    "# For each of the right-angled triangles:\n",
    "\n",
    "def Delta1(k,a):\n",
    "    return f(P23(k,a), -v1, -v1 + v2 ) * ( f(0*v1 + 0*v2, v1, v1 - v2) + f(a*v1, -v1, -v2) + f(a*v1 - a*v2, v2, -v1 + v2) )\n",
    "\n",
    "def Delta2(k,a):\n",
    "    return f(P13(k,a), v1 - v2, -v2 ) * ( f(0*v1 + 0*v2, v2, -v1 + v2) + f(a*v2, -v1, -v2) + f(-a*v1 + a*v2, v1, v1 - v2) )\n",
    "\n",
    "def Delta3(k,a):\n",
    "    return f(P12(k,a), v1 , v2 ) * ( f(0*v1 + 0*v2, -v1, -v2) + f(-a*v1, v1, v1 - v2) + f(-a*v2, v2, -v1 + v2) )\n",
    "\n",
    "\n",
    "def Sum(k,a):\n",
    "    return Delta1(k,a) + Delta2(k,a) + Delta3(k,a)\n",
    "\n",
    "# Take the limit as t -> 0 to get the Euler characteristic(?)\n",
    "\n",
    "def EulerCalculation(k,a):\n",
    "    return limit(Sum(k,a),t,0)"
   ]
  },
  {
   "cell_type": "code",
   "execution_count": 2,
   "metadata": {},
   "outputs": [
    {
     "data": {
      "image/png": "[encoded data removed]",
      "text/latex": [
       "$\\displaystyle \\frac{a^{4}}{4} + \\frac{a^{3} k}{2} + \\frac{3 a^{3}}{2} + \\frac{a^{2} k^{2}}{4} + \\frac{9 a^{2} k}{4} + \\frac{13 a^{2}}{4} + \\frac{3 a k^{2}}{4} + \\frac{13 a k}{4} + 3 a + \\frac{k^{2}}{2} + \\frac{3 k}{2} + 1$"
      ],
      "text/plain": [
       " 4    3        3    2  2      2         2        2                   2        \n",
       "a    a ⋅k   3⋅a    a ⋅k    9⋅a ⋅k   13⋅a    3⋅a⋅k    13⋅a⋅k         k    3⋅k  \n",
       "── + ──── + ──── + ───── + ────── + ───── + ────── + ────── + 3⋅a + ── + ─── +\n",
       "4     2      2       4       4        4       4        4            2     2   \n",
       "\n",
       "  \n",
       "  \n",
       " 1\n",
       "  "
      ]
     },
     "execution_count": 2,
     "metadata": {},
     "output_type": "execute_result"
    }
   ],
   "source": [
    "EulerCalculation(k,a) # Letting t -> 0  to obtain the Euler characteristic (n.b. degree-0 term in a is equal to lattice point count for CP2's polytope)"
   ]
  },
  {
   "cell_type": "code",
   "execution_count": 3,
   "metadata": {},
   "outputs": [
    {
     "data": {
      "image/png": "[encoded data removed]",
      "text/latex": [
       "$\\displaystyle \\frac{\\left(a + 1\\right) \\left(a + 2\\right) \\left(a + k + 1\\right) \\left(a + k + 2\\right)}{4}$"
      ],
      "text/plain": [
       "(a + 1)⋅(a + 2)⋅(a + k + 1)⋅(a + k + 2)\n",
       "───────────────────────────────────────\n",
       "                   4                   "
      ]
     },
     "execution_count": 3,
     "metadata": {},
     "output_type": "execute_result"
    }
   ],
   "source": [
    "factor(EulerCalculation(k,a))"
   ]
  },
  {
   "cell_type": "code",
   "execution_count": 4,
   "metadata": {},
   "outputs": [],
   "source": [
    "def Euler(k,a):\n",
    "    return simplify( Rational(1,4) * ( (a+1)*(a+2)*(a+k+1)*(a+k+2) ) )"
   ]
  },
  {
   "cell_type": "code",
   "execution_count": 5,
   "metadata": {},
   "outputs": [
    {
     "data": {
      "image/png": "[encoded data removed]",
      "text/latex": [
       "$\\displaystyle \\frac{\\left(a + 1\\right) \\left(a + 2\\right) \\left(a + k + 1\\right) \\left(a + k + 2\\right)}{4}$"
      ],
      "text/plain": [
       "(a + 1)⋅(a + 2)⋅(a + k + 1)⋅(a + k + 2)\n",
       "───────────────────────────────────────\n",
       "                   4                   "
      ]
     },
     "execution_count": 5,
     "metadata": {},
     "output_type": "execute_result"
    }
   ],
   "source": [
    "Euler(k,a)"
   ]
  },
  {
   "cell_type": "code",
   "execution_count": 6,
   "metadata": {},
   "outputs": [
    {
     "data": {
      "image/png": "[encoded data removed]",
      "text/latex": [
       "$\\displaystyle \\frac{\\left(k + 1\\right) \\left(k + 2\\right)}{2}$"
      ],
      "text/plain": [
       "(k + 1)⋅(k + 2)\n",
       "───────────────\n",
       "       2       "
      ]
     },
     "execution_count": 6,
     "metadata": {},
     "output_type": "execute_result"
    }
   ],
   "source": [
    "Euler(k,0) # The usual formula for the number of lattice points in the dilated 2-simplex"
   ]
  },
  {
   "cell_type": "code",
   "execution_count": 7,
   "metadata": {},
   "outputs": [
    {
     "data": {
      "image/png": "[encoded data removed]",
      "text/latex": [
       "$\\displaystyle 1$"
      ],
      "text/plain": [
       "1"
      ]
     },
     "execution_count": 7,
     "metadata": {},
     "output_type": "execute_result"
    }
   ],
   "source": [
    "Euler(0,0) # When the simplex is just a point"
   ]
  },
  {
   "cell_type": "code",
   "execution_count": 17,
   "metadata": {},
   "outputs": [
    {
     "data": {
      "image/png": "[encoded data removed]",
      "text/latex": [
       "$\\displaystyle 3$"
      ],
      "text/plain": [
       "3"
      ]
     },
     "execution_count": 17,
     "metadata": {},
     "output_type": "execute_result"
    }
   ],
   "source": [
    "Euler(1,0) # When the lattice points are just the three vertices"
   ]
  },
  {
   "cell_type": "code",
   "execution_count": 13,
   "metadata": {},
   "outputs": [],
   "source": [
    "def Diff(k,a):\n",
    "    return Euler(k,a) - Euler(k,a-1)"
   ]
  },
  {
   "cell_type": "code",
   "execution_count": 14,
   "metadata": {},
   "outputs": [
    {
     "data": {
      "image/png": "[encoded data removed]",
      "text/latex": [
       "$\\displaystyle - \\frac{\\left(k + 1\\right) \\left(k + 2\\right)}{2} + \\frac{3 \\left(k + 2\\right) \\left(k + 3\\right)}{2}$"
      ],
      "text/plain": [
       "  (k + 1)⋅(k + 2)   3⋅(k + 2)⋅(k + 3)\n",
       "- ─────────────── + ─────────────────\n",
       "         2                  2        "
      ]
     },
     "execution_count": 14,
     "metadata": {},
     "output_type": "execute_result"
    }
   ],
   "source": [
    "Diff(k,1)"
   ]
  },
  {
   "cell_type": "code",
   "execution_count": 19,
   "metadata": {},
   "outputs": [],
   "source": [
    "def EulerDifference(k,a):\n",
    "    return simplify(factor(Diff(k,a)))"
   ]
  },
  {
   "cell_type": "code",
   "execution_count": 20,
   "metadata": {},
   "outputs": [
    {
     "data": {
      "image/png": "[encoded data removed]",
      "text/latex": [
       "$\\displaystyle \\frac{\\left(a + 1\\right) \\left(a + k + 1\\right) \\left(2 a + k + 2\\right)}{2}$"
      ],
      "text/plain": [
       "(a + 1)⋅(a + k + 1)⋅(2⋅a + k + 2)\n",
       "─────────────────────────────────\n",
       "                2                "
      ]
     },
     "execution_count": 20,
     "metadata": {},
     "output_type": "execute_result"
    }
   ],
   "source": [
    "EulerDifference(k,a)"
   ]
  },
  {
   "cell_type": "code",
   "execution_count": 25,
   "metadata": {},
   "outputs": [
    {
     "data": {
      "image/png": "[encoded data removed]",
      "text/latex": [
       "$\\displaystyle \\left(k + 2\\right) \\left(k + 4\\right)$"
      ],
      "text/plain": [
       "(k + 2)⋅(k + 4)"
      ]
     },
     "execution_count": 25,
     "metadata": {},
     "output_type": "execute_result"
    }
   ],
   "source": [
    "EulerDifference(k,1)"
   ]
  },
  {
   "cell_type": "code",
   "execution_count": 26,
   "metadata": {},
   "outputs": [
    {
     "data": {
      "image/png": "[encoded data removed]",
      "text/latex": [
       "$\\displaystyle 18$"
      ],
      "text/plain": [
       "18"
      ]
     },
     "execution_count": 26,
     "metadata": {},
     "output_type": "execute_result"
    }
   ],
   "source": [
    "Euler(1,1)"
   ]
  },
  {
   "cell_type": "code",
   "execution_count": null,
   "metadata": {},
   "outputs": [],
   "source": []
  }
 ],
 "metadata": {
  "kernelspec": {
   "display_name": "Python 3",
   "language": "python",
   "name": "python3"
  },
  "language_info": {
   "codemirror_mode": {
    "name": "ipython",
    "version": 3
   },
   "file_extension": ".py",
   "mimetype": "text/x-python",
   "name": "python",
   "nbconvert_exporter": "python",
   "pygments_lexer": "ipython3",
   "version": "3.8.5"
  }
 },
 "nbformat": 4,
 "nbformat_minor": 4
}
