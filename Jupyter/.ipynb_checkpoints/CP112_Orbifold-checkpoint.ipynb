{
 "cells": [
  {
   "cell_type": "code",
   "execution_count": 2,
   "metadata": {},
   "outputs": [],
   "source": [
    "from sympy import *\n",
    "from sympy.vector import Vector\n",
    "from sympy.vector import CoordSys3D\n",
    "import itertools\n",
    "N = CoordSys3D('N')\n",
    "\n",
    "t, k, d, q = symbols( 't k d q' )\n",
    "init_printing(use_unicode=True)\n",
    "\n",
    "# Define the weights for the weighted projective space:\n",
    "\n",
    "Q = [1, 2, 3]"
   ]
  },
  {
   "cell_type": "markdown",
   "metadata": {},
   "source": [
    "Define the product of factors that appear in the denominator for the Lefschetz number, that is:\n",
    "\n",
    "$$\\prod_{m \\neq n} \\bigg(1 - e^{(1 - q_{m}/q_{n})t} \\cdot e^{(q_{m}/q_{n})q} \\bigg)$$"
   ]
  },
  {
   "cell_type": "code",
   "execution_count": 32,
   "metadata": {},
   "outputs": [],
   "source": [
    "#def Factor(Qm, Qr, P):\n",
    "#    return ( 1 - ( exp( 2*pi*I*t*( 1 - Rational(Qm, Qr) ) ) ) * exp( 2*pi*I*P*Rational(Qm, Qr) ) )\n",
    "\n",
    "#def Term(Qm, Qr, P, d):\n",
    "#    return exp( 2*pi*I*t*d / Qr ) / ( Factor(Qm, Qr, P) * Factor(Qm, Qr, P) ) \n",
    "\n",
    "# Term(Q[2], Q[1], 2, d)\n",
    "# simplify( exp( 2*pi*I*t*d/Q[2] ) / ( Factor(Q[0], Q[2], q) * Factor(Q[1], Q[2], q) ) )"
   ]
  },
  {
   "cell_type": "code",
   "execution_count": 6,
   "metadata": {},
   "outputs": [
    {
     "data": {
      "image/png": "[encoded data removed]",
      "text/latex": [
       "$\\displaystyle \\frac{\\left(\\frac{1}{\\left(1 + e^{- i \\pi t}\\right) \\left(e^{i \\pi t} + 1\\right)} + \\frac{1}{\\left(1 - e^{- i \\pi t}\\right) \\left(1 - e^{i \\pi t}\\right)}\\right) e^{i \\pi d t}}{2} + \\frac{\\left(\\frac{1}{\\left(- e^{- \\frac{2 i \\pi}{3}} e^{\\frac{4 i \\pi t}{3}} + 1\\right) \\left(- e^{\\frac{2 i \\pi}{3}} e^{\\frac{2 i \\pi t}{3}} + 1\\right)} + \\frac{1}{\\left(- e^{- \\frac{2 i \\pi}{3}} e^{\\frac{2 i \\pi t}{3}} + 1\\right) \\left(- e^{\\frac{2 i \\pi}{3}} e^{\\frac{4 i \\pi t}{3}} + 1\\right)} + \\frac{1}{\\left(1 - e^{\\frac{2 i \\pi t}{3}}\\right) \\left(1 - e^{\\frac{4 i \\pi t}{3}}\\right)}\\right) e^{\\frac{2 i \\pi d t}{3}}}{3} + \\frac{e^{2 i \\pi d t}}{\\left(1 - e^{- 4 i \\pi t}\\right) \\left(1 - e^{- 2 i \\pi t}\\right)}$"
      ],
      "text/plain": [
       "                                                                              \n",
       "                                                                              \n",
       "                                                                     ⎛        \n",
       "                                                                     ⎜────────\n",
       "⎛            1                            1             ⎞  ⅈ⋅π⋅d⋅t   ⎜⎛   -2⋅ⅈ\n",
       "⎜────────────────────────── + ──────────────────────────⎟⋅ℯ          ⎜⎜   ────\n",
       "⎜⎛     -ⅈ⋅π⋅t⎞ ⎛ ⅈ⋅π⋅t    ⎞   ⎛     -ⅈ⋅π⋅t⎞ ⎛     ⅈ⋅π⋅t⎞⎟            ⎜⎜      3\n",
       "⎝⎝1 + ℯ      ⎠⋅⎝ℯ      + 1⎠   ⎝1 - ℯ      ⎠⋅⎝1 - ℯ     ⎠⎠            ⎝⎝- ℯ    \n",
       "────────────────────────────────────────────────────────────────── + ─────────\n",
       "                                2                                             \n",
       "                                                                              \n",
       "\n",
       "                                                                              \n",
       "                                                                              \n",
       "                1                                                   1         \n",
       "───────────────────────────────────────── + ──────────────────────────────────\n",
       "⋅π   4⋅ⅈ⋅π⋅t    ⎞ ⎛   2⋅ⅈ⋅π  2⋅ⅈ⋅π⋅t    ⎞   ⎛   -2⋅ⅈ⋅π   2⋅ⅈ⋅π⋅t    ⎞ ⎛   2⋅ⅈ⋅\n",
       "───  ───────    ⎟ ⎜   ─────  ───────    ⎟   ⎜   ───────  ───────    ⎟ ⎜   ────\n",
       "        3       ⎟ ⎜     3       3       ⎟   ⎜      3        3       ⎟ ⎜     3 \n",
       "   ⋅ℯ        + 1⎠⋅⎝- ℯ     ⋅ℯ        + 1⎠   ⎝- ℯ       ⋅ℯ        + 1⎠⋅⎝- ℯ    \n",
       "──────────────────────────────────────────────────────────────────────────────\n",
       "                                                               3              \n",
       "                                                                              \n",
       "\n",
       "                                                  2⋅ⅈ⋅π⋅d⋅t                   \n",
       "                                                  ─────────                   \n",
       "                                1              ⎞      3                       \n",
       "─────────────── + ─────────────────────────────⎟⋅ℯ                            \n",
       "π  4⋅ⅈ⋅π⋅t    ⎞   ⎛     2⋅ⅈ⋅π⋅t⎞ ⎛     4⋅ⅈ⋅π⋅t⎞⎟                              \n",
       "─  ───────    ⎟   ⎜     ───────⎟ ⎜     ───────⎟⎟                              \n",
       "      3       ⎟   ⎜        3   ⎟ ⎜        3   ⎟⎟                          2⋅ⅈ⋅\n",
       " ⋅ℯ        + 1⎠   ⎝1 - ℯ       ⎠⋅⎝1 - ℯ       ⎠⎠                         ℯ    \n",
       "─────────────────────────────────────────────────────────── + ────────────────\n",
       "                                                              ⎛     -4⋅ⅈ⋅π⋅t⎞ \n",
       "                                                              ⎝1 - ℯ        ⎠⋅\n",
       "\n",
       "               \n",
       "               \n",
       "               \n",
       "               \n",
       "               \n",
       "               \n",
       "π⋅d⋅t          \n",
       "               \n",
       "───────────────\n",
       "⎛     -2⋅ⅈ⋅π⋅t⎞\n",
       "⎝1 - ℯ        ⎠"
      ]
     },
     "execution_count": 6,
     "metadata": {},
     "output_type": "execute_result"
    }
   ],
   "source": [
    "#def Exp(t):\n",
    "#    return exp( 2*pi*I*t )\n",
    "\n",
    "def Exp(t):\n",
    "    return exp( 2*pi*I*t )\n",
    "\n",
    "def Sum0(t,d):\n",
    "    return Exp(d*t*Rational(1,1)) / ( ( 1 - Exp(-t) ) * ( 1 - Exp(-2*t) ) ) \n",
    "\n",
    "def Sum1(t,d):\n",
    "    return ( Rational(1,2) * Exp(d*t*Rational(1,2)) ) * ( (1 / ( ( 1 - Exp(t/2) ) * ( 1 - Exp(-t/2) ) ) ) + ( 1 / ( ( 1 - Exp( t/2 )*Exp( Rational(1,2) ) ) * ( 1 - Exp( -t/2 )*Exp( Rational(3,2) ) ) ) ) ) \n",
    "\n",
    "def Sum2(t,d):\n",
    "    return simplify( Rational(1,3) * Exp(d*t*Rational(1,3)) ) * ( (1 / ( ( 1 - Exp(2*t/3) ) * ( 1 - Exp(t/3) ) ) ) + ( 1 / ( ( 1 - Exp(2*t/3)*Exp( Rational(1,3) ) ) * ( 1 - Exp(t/3)*Exp( Rational(2,3) ) ) ) ) + ( 1 / ( ( 1 - Exp(2*t/3)*Exp( Rational(2,3) ) ) * ( 1 - Exp(t/3)*Exp( Rational(1,3) ) ) ) ) ) \n",
    "\n",
    "def Sum(t,d):\n",
    "    return Sum0(t,d) + Sum1(t,d) + Sum2(t,d)\n",
    "\n",
    "Sum(t,d)"
   ]
  },
  {
   "cell_type": "code",
   "execution_count": 14,
   "metadata": {},
   "outputs": [
    {
     "data": {
      "image/png": "[encoded data removed]",
      "text/latex": [
       "$\\displaystyle \\frac{\\left(\\frac{1}{\\left(1 - e^{- \\frac{t}{2}}\\right) \\left(1 - e^{\\frac{t}{2}}\\right)} + \\frac{1}{\\left(1 - e^{\\frac{3}{2}} e^{- \\frac{t}{2}}\\right) \\left(- e^{\\frac{1}{2}} e^{\\frac{t}{2}} + 1\\right)}\\right) e^{\\frac{d t}{2}}}{2} + \\frac{\\left(\\frac{1}{\\left(- e^{\\frac{1}{3}} e^{\\frac{2 t}{3}} + 1\\right) \\left(- e^{\\frac{2}{3}} e^{\\frac{t}{3}} + 1\\right)} + \\frac{1}{\\left(- e^{\\frac{1}{3}} e^{\\frac{t}{3}} + 1\\right) \\left(- e^{\\frac{2}{3}} e^{\\frac{2 t}{3}} + 1\\right)} + \\frac{1}{\\left(1 - e^{\\frac{t}{3}}\\right) \\left(1 - e^{\\frac{2 t}{3}}\\right)}\\right) e^{\\frac{d t}{3}}}{3} + \\frac{e^{d t}}{\\left(1 - e^{- 2 t}\\right) \\left(1 - e^{- t}\\right)}$"
      ],
      "text/plain": [
       "                                                         d⋅t                  \n",
       "                                                         ───                  \n",
       "⎛         1                           1               ⎞   2    ⎛              \n",
       "⎜─────────────────── + ───────────────────────────────⎟⋅ℯ      ⎜──────────────\n",
       "⎜⎛     -t ⎞ ⎛     t⎞   ⎛          -t ⎞ ⎛        t    ⎞⎟        ⎜⎛        2⋅t  \n",
       "⎜⎜     ───⎟ ⎜     ─⎟   ⎜          ───⎟ ⎜        ─    ⎟⎟        ⎜⎜        ───  \n",
       "⎜⎜      2 ⎟ ⎜     2⎟   ⎜     3/2   2 ⎟ ⎜   1/2  2    ⎟⎟        ⎜⎜   1/3   3   \n",
       "⎝⎝1 - ℯ   ⎠⋅⎝1 - ℯ ⎠   ⎝1 - ℯ   ⋅ℯ   ⎠⋅⎝- ℯ   ⋅ℯ  + 1⎠⎠        ⎝⎝- ℯ   ⋅ℯ    +\n",
       "──────────────────────────────────────────────────────────── + ───────────────\n",
       "                             2                                                \n",
       "                                                                              \n",
       "\n",
       "                                                                              \n",
       "                                                                              \n",
       "  1                                   1                            1         ⎞\n",
       "─────────────────── + ───────────────────────────────── + ───────────────────⎟\n",
       "  ⎞ ⎛        t    ⎞   ⎛        t    ⎞ ⎛        2⋅t    ⎞   ⎛     t⎞ ⎛     2⋅t⎞⎟\n",
       "  ⎟ ⎜        ─    ⎟   ⎜        ─    ⎟ ⎜        ───    ⎟   ⎜     ─⎟ ⎜     ───⎟⎟\n",
       "  ⎟ ⎜   2/3  3    ⎟   ⎜   1/3  3    ⎟ ⎜   2/3   3     ⎟   ⎜     3⎟ ⎜      3 ⎟⎟\n",
       " 1⎠⋅⎝- ℯ   ⋅ℯ  + 1⎠   ⎝- ℯ   ⋅ℯ  + 1⎠⋅⎝- ℯ   ⋅ℯ    + 1⎠   ⎝1 - ℯ ⎠⋅⎝1 - ℯ   ⎠⎠\n",
       "──────────────────────────────────────────────────────────────────────────────\n",
       "                                 3                                            \n",
       "                                                                              \n",
       "\n",
       "  d⋅t                        \n",
       "  ───                        \n",
       "   3                         \n",
       "⋅ℯ                           \n",
       "                             \n",
       "                             \n",
       "                  d⋅t        \n",
       "                 ℯ           \n",
       "───── + ─────────────────────\n",
       "        ⎛     -2⋅t⎞ ⎛     -t⎞\n",
       "        ⎝1 - ℯ    ⎠⋅⎝1 - ℯ  ⎠"
      ]
     },
     "execution_count": 14,
     "metadata": {},
     "output_type": "execute_result"
    }
   ],
   "source": [
    "#def Exp(t):\n",
    "#    return exp( 2*pi*I*t )\n",
    "\n",
    "def Exp(t):\n",
    "    return exp( t )\n",
    "\n",
    "def Sum0(t,d):\n",
    "    return Exp(d*t*Rational(1,1)) / ( ( 1 - Exp(-t) ) * ( 1 - Exp(-2*t) ) ) \n",
    "\n",
    "def Sum1(t,d):\n",
    "    return ( Rational(1,2) * Exp(d*t*Rational(1,2)) ) * ( (1 / ( ( 1 - Exp(t/2) ) * ( 1 - Exp(-t/2) ) ) ) + ( 1 / ( ( 1 - Exp( t/2 )*Exp( Rational(1,2) ) ) * ( 1 - Exp( -t/2 )*Exp( Rational(3,2) ) ) ) ) ) \n",
    "\n",
    "def Sum2(t,d):\n",
    "    return simplify( Rational(1,3) * Exp(d*t*Rational(1,3)) ) * ( (1 / ( ( 1 - Exp(2*t/3) ) * ( 1 - Exp(t/3) ) ) ) + ( 1 / ( ( 1 - Exp(2*t/3)*Exp( Rational(1,3) ) ) * ( 1 - Exp(t/3)*Exp( Rational(2,3) ) ) ) ) + ( 1 / ( ( 1 - Exp(2*t/3)*Exp( Rational(2,3) ) ) * ( 1 - Exp(t/3)*Exp( Rational(1,3) ) ) ) ) ) \n",
    "\n",
    "def Sum(t,d):\n",
    "    return Sum0(t,d) + Sum1(t,d) + Sum2(t,d)\n",
    "\n",
    "Sum(t,d)"
   ]
  },
  {
   "cell_type": "code",
   "execution_count": null,
   "metadata": {},
   "outputs": [],
   "source": [
    "from sympy.abc import r, n, a, b\n",
    "\n",
    "def SumAtInf(t,k):\n",
    "    return Rational(1,k)*Sum(TermAtInf(t,k,l), (l, 0, k-1)).doit()\n",
    "\n",
    "def Sum(r,n,a,b,t,d):\n",
    "    return Rational(1,r) * Sum( exp(t*d/n) ) / \n"
   ]
  },
  {
   "cell_type": "code",
   "execution_count": 8,
   "metadata": {},
   "outputs": [
    {
     "data": {
      "image/png": "[encoded data removed]",
      "text/latex": [
       "$\\displaystyle 2$"
      ],
      "text/plain": [
       "2"
      ]
     },
     "execution_count": 8,
     "metadata": {},
     "output_type": "execute_result"
    }
   ],
   "source": [
    "len(Q) -1"
   ]
  },
  {
   "cell_type": "code",
   "execution_count": 1,
   "metadata": {},
   "outputs": [],
   "source": [
    "for x in Q and:\n",
    "    for y in Q:\n",
    "        if x != y and y <= len(Q):\n",
    "            print(x,y)\n",
    "        y = y+1\n",
    "            \n",
    "            \n",
    "#        x>=y # which is your condition"
   ]
  },
  {
   "cell_type": "code",
   "execution_count": 23,
   "metadata": {},
   "outputs": [
    {
     "name": "stdout",
     "output_type": "stream",
     "text": [
      "1 - exp(-I*t)*exp(4*I*pi*q)\n",
      "1 - exp(-2*I*t)*exp(6*I*pi*q)\n"
     ]
    },
    {
     "data": {
      "image/png": "[encoded data removed]",
      "text/latex": [
       "$\\displaystyle 1 - e^{- 2 i t} e^{6 i \\pi q}$"
      ],
      "text/plain": [
       "     -2⋅ⅈ⋅t  6⋅ⅈ⋅π⋅q\n",
       "1 - ℯ      ⋅ℯ       "
      ]
     },
     "execution_count": 23,
     "metadata": {},
     "output_type": "execute_result"
    }
   ],
   "source": [
    "def DenominatorProductTerm(m, r, q, t):\n",
    "    return (1 - exp(I*t*(1 - Rational(m, r) ))*Exp(q*Rational(m,r) ) )\n",
    "\n",
    "for n in Q:\n",
    "    if n != 1:\n",
    "        print(DenominatorProductTerm(n, 1, q, t))\n",
    "        n = n+1\n",
    "    else:\n",
    "        n = n+1\n",
    "\n",
    "DenominatorProductTerm(3, 1, q, t)"
   ]
  },
  {
   "cell_type": "markdown",
   "metadata": {},
   "source": [
    "## "
   ]
  }
 ],
 "metadata": {
  "kernelspec": {
   "display_name": "Python 3",
   "language": "python",
   "name": "python3"
  },
  "language_info": {
   "codemirror_mode": {
    "name": "ipython",
    "version": 3
   },
   "file_extension": ".py",
   "mimetype": "text/x-python",
   "name": "python",
   "nbconvert_exporter": "python",
   "pygments_lexer": "ipython3",
   "version": "3.8.5"
  }
 },
 "nbformat": 4,
 "nbformat_minor": 4
}
