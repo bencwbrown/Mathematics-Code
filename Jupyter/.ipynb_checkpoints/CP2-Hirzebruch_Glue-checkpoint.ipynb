{
 "cells": [
  {
   "cell_type": "code",
   "execution_count": 6,
   "metadata": {},
   "outputs": [],
   "source": [
    "from sympy import *\n",
    "from sympy.vector import Vector\n",
    "from sympy.vector import CoordSys3D\n",
    "N = CoordSys3D('N')\n",
    "\n",
    "t, k, a = symbols( 't k a' )\n",
    "init_printing(use_unicode=True)\n",
    "\n",
    "# Define the vector which is not parallel to any edge vector, which will tend to zero:\n",
    "\n",
    "Phi = t*(N.i + 2*N.j)\n",
    "\n",
    "# Set the fixed points of the action; P denotes those that belong\n",
    "# to the core, and Q those that come from the cut extended core:\n",
    "\n",
    "def P1(k,a):\n",
    "    return Vector.zero\n",
    "\n",
    "def P2(k,a):\n",
    "    return a*N.i\n",
    "\n",
    "def P3(k,a):\n",
    "    return a*N.j\n",
    "\n",
    "def Q1(k,a):\n",
    "    return k*N.i\n",
    "\n",
    "def Q2(k,a):\n",
    "    return k*N.j\n",
    "\n",
    "\n",
    "# Basis for the edge/weight vectors for the points \n",
    "\n",
    "v1 = N.i\n",
    "\n",
    "v2 = N.j\n",
    "\n",
    "# Define the term which is summed over each fixed point,\n",
    "# representing the character for the representation\n",
    "\n",
    "def f(P, edge1, edge2):\n",
    "    return exp( Phi.dot(P) ) / ( (1 - exp( Phi.dot(edge1) ) ) * ( 1 - exp( Phi.dot(edge2) ) ) )\n",
    "\n",
    "def g(P, edge1, edge2, edge3, edge4):\n",
    "    return exp( Phi.dot(P) ) / ( (1 - exp( Phi.dot(edge1) ) ) * ( 1 - exp( Phi.dot(edge2) ) ) * ( 1 - exp( Phi.dot(edge3) ) ) * ( 1 - exp( Phi.dot(edge4) ) ) )\n",
    "\n",
    "# For each of the right-angled triangles:\n",
    "\n",
    "def Projective(k,a):\n",
    "    return f( P1(k,a), v1, v2 ) + f( P2(k,a), -v1 + v2, -v1 ) + f( P3(k,a), -v2, v1 - v2 )\n",
    "\n",
    "def Hirzebruch(k,a):\n",
    "    return f( P2(k,a), v1, -v1 + v2 ) + f( Q1(k,a), -v1 + v2, -v1 ) + f( Q2(k,a), v1 - v2, -v2 ) + f( P3(k,a), v2, v1 - v2 )\n",
    "\n",
    "\n",
    "\n"
   ]
  },
  {
   "cell_type": "code",
   "execution_count": 4,
   "metadata": {},
   "outputs": [
    {
     "data": {
      "image/png": "[encoded data removed]",
      "text/latex": [
       "$\\displaystyle \\frac{1}{\\left(1 - e^{t}\\right) \\left(1 - e^{2 t}\\right)} + \\frac{e^{a t}}{\\left(1 - e^{- t}\\right) \\left(1 - e^{t}\\right)} + \\frac{e^{2 a t}}{\\left(1 - e^{- 2 t}\\right) \\left(1 - e^{- t}\\right)}$"
      ],
      "text/plain": [
       "                              a⋅t                   2⋅a⋅t       \n",
       "         1                   ℯ                     ℯ            \n",
       "─────────────────── + ────────────────── + ─────────────────────\n",
       "⎛     t⎞ ⎛     2⋅t⎞   ⎛     -t⎞ ⎛     t⎞   ⎛     -2⋅t⎞ ⎛     -t⎞\n",
       "⎝1 - ℯ ⎠⋅⎝1 - ℯ   ⎠   ⎝1 - ℯ  ⎠⋅⎝1 - ℯ ⎠   ⎝1 - ℯ    ⎠⋅⎝1 - ℯ  ⎠"
      ]
     },
     "execution_count": 4,
     "metadata": {},
     "output_type": "execute_result"
    }
   ],
   "source": [
    "Projective(k,a)"
   ]
  },
  {
   "cell_type": "code",
   "execution_count": 7,
   "metadata": {},
   "outputs": [
    {
     "data": {
      "image/png": "[encoded data removed]",
      "text/latex": [
       "$\\displaystyle \\frac{e^{a t}}{\\left(1 - e^{t}\\right)^{2}} + \\frac{e^{2 a t}}{\\left(1 - e^{- t}\\right) \\left(1 - e^{2 t}\\right)} + \\frac{e^{k t}}{\\left(1 - e^{- t}\\right) \\left(1 - e^{t}\\right)} + \\frac{e^{2 k t}}{\\left(1 - e^{- 2 t}\\right) \\left(1 - e^{- t}\\right)}$"
      ],
      "text/plain": [
       "    a⋅t             2⋅a⋅t                  k⋅t                   2⋅k⋅t       \n",
       "   ℯ               ℯ                      ℯ                     ℯ            \n",
       "───────── + ──────────────────── + ────────────────── + ─────────────────────\n",
       "        2   ⎛     -t⎞ ⎛     2⋅t⎞   ⎛     -t⎞ ⎛     t⎞   ⎛     -2⋅t⎞ ⎛     -t⎞\n",
       "⎛     t⎞    ⎝1 - ℯ  ⎠⋅⎝1 - ℯ   ⎠   ⎝1 - ℯ  ⎠⋅⎝1 - ℯ ⎠   ⎝1 - ℯ    ⎠⋅⎝1 - ℯ  ⎠\n",
       "⎝1 - ℯ ⎠                                                                     "
      ]
     },
     "execution_count": 7,
     "metadata": {},
     "output_type": "execute_result"
    }
   ],
   "source": [
    "Hirzebruch(k,a)"
   ]
  },
  {
   "cell_type": "code",
   "execution_count": 12,
   "metadata": {},
   "outputs": [
    {
     "data": {
      "image/png": "[encoded data removed]",
      "text/latex": [
       "$\\displaystyle \\frac{\\left(a + 1\\right) \\left(a + 2\\right)}{2}$"
      ],
      "text/plain": [
       "(a + 1)⋅(a + 2)\n",
       "───────────────\n",
       "       2       "
      ]
     },
     "execution_count": 12,
     "metadata": {},
     "output_type": "execute_result"
    }
   ],
   "source": [
    "factor(limit(Projective(0,a), t, 0))"
   ]
  },
  {
   "cell_type": "code",
   "execution_count": 11,
   "metadata": {},
   "outputs": [
    {
     "data": {
      "image/png": "[encoded data removed]",
      "text/latex": [
       "$\\displaystyle - \\frac{\\left(a - k - 1\\right) \\left(a + k + 2\\right)}{2}$"
      ],
      "text/plain": [
       "-(a - k - 1)⋅(a + k + 2) \n",
       "─────────────────────────\n",
       "            2            "
      ]
     },
     "execution_count": 11,
     "metadata": {},
     "output_type": "execute_result"
    }
   ],
   "source": [
    "factor(limit(Hirzebruch(k,a), t, 0))"
   ]
  },
  {
   "cell_type": "code",
   "execution_count": 13,
   "metadata": {},
   "outputs": [
    {
     "data": {
      "image/png": "[encoded data removed]",
      "text/latex": [
       "$\\displaystyle - \\frac{\\left(a - k - 1\\right) \\left(a + k + 2\\right)}{2}$"
      ],
      "text/plain": [
       "-(a - k - 1)⋅(a + k + 2) \n",
       "─────────────────────────\n",
       "            2            "
      ]
     },
     "execution_count": 13,
     "metadata": {},
     "output_type": "execute_result"
    }
   ],
   "source": [
    "# To check the calculation is right, \n",
    "# viewing the Hirzebruch trapezoid as a difference of two CP2's, the larger one of size k and the smaller one of size a:\n",
    "\n",
    "factor(limit(Projective(0,k), t, 0) - limit(Projective(0,a), t, 0) + (a+1) )"
   ]
  },
  {
   "cell_type": "code",
   "execution_count": 14,
   "metadata": {},
   "outputs": [],
   "source": [
    "def SeparateSum(k,a):\n",
    "    return factor(limit(Projective(0,a), t, 0) + limit(Hirzebruch(k,a), t, 0))"
   ]
  },
  {
   "cell_type": "code",
   "execution_count": 18,
   "metadata": {},
   "outputs": [
    {
     "data": {
      "image/png": "[encoded data removed]",
      "text/latex": [
       "$\\displaystyle \\frac{2 a + k^{2} + 3 k + 4}{2}$"
      ],
      "text/plain": [
       "       2          \n",
       "2⋅a + k  + 3⋅k + 4\n",
       "──────────────────\n",
       "        2         "
      ]
     },
     "execution_count": 18,
     "metadata": {},
     "output_type": "execute_result"
    }
   ],
   "source": [
    "SeparateSum(k,a)       # Doesn't take the CP1 along their intersection into account."
   ]
  },
  {
   "cell_type": "code",
   "execution_count": 19,
   "metadata": {},
   "outputs": [],
   "source": [
    "def Polyptych(k,a):\n",
    "    return f( P1(k,a), v1, v2 ) + f( Q1(k,a), -v1 + v2, -v1 ) + f( Q2(k,a), v1 - v2, -v2 ) + g( P2(k,a), v1, -v1 + v2, -v1 + v2, -v1 ) + g( P3(k,a), v2, -v2, v1 - v2, v1 - v2 )"
   ]
  },
  {
   "cell_type": "code",
   "execution_count": 20,
   "metadata": {},
   "outputs": [
    {
     "data": {
      "image/png": "[encoded data removed]",
      "text/latex": [
       "$\\displaystyle \\frac{1}{\\left(1 - e^{t}\\right) \\left(1 - e^{2 t}\\right)} + \\frac{e^{k t}}{\\left(1 - e^{- t}\\right) \\left(1 - e^{t}\\right)} + \\frac{e^{a t}}{\\left(1 - e^{- t}\\right) \\left(1 - e^{t}\\right)^{3}} + \\frac{e^{2 k t}}{\\left(1 - e^{- 2 t}\\right) \\left(1 - e^{- t}\\right)} + \\frac{e^{2 a t}}{\\left(1 - e^{- 2 t}\\right) \\left(1 - e^{- t}\\right)^{2} \\left(1 - e^{2 t}\\right)}$"
      ],
      "text/plain": [
       "                              k⋅t                   a⋅t                   2⋅k⋅\n",
       "         1                   ℯ                     ℯ                     ℯ    \n",
       "─────────────────── + ────────────────── + ─────────────────── + ─────────────\n",
       "⎛     t⎞ ⎛     2⋅t⎞   ⎛     -t⎞ ⎛     t⎞                     3   ⎛     -2⋅t⎞ ⎛\n",
       "⎝1 - ℯ ⎠⋅⎝1 - ℯ   ⎠   ⎝1 - ℯ  ⎠⋅⎝1 - ℯ ⎠   ⎛     -t⎞ ⎛     t⎞    ⎝1 - ℯ    ⎠⋅⎝\n",
       "                                           ⎝1 - ℯ  ⎠⋅⎝1 - ℯ ⎠                 \n",
       "\n",
       "t                         2⋅a⋅t             \n",
       "                         ℯ                  \n",
       "──────── + ─────────────────────────────────\n",
       "     -t⎞                        2           \n",
       "1 - ℯ  ⎠   ⎛     -2⋅t⎞ ⎛     -t⎞  ⎛     2⋅t⎞\n",
       "           ⎝1 - ℯ    ⎠⋅⎝1 - ℯ  ⎠ ⋅⎝1 - ℯ   ⎠"
      ]
     },
     "execution_count": 20,
     "metadata": {},
     "output_type": "execute_result"
    }
   ],
   "source": [
    "Polyptych(k,a)"
   ]
  },
  {
   "cell_type": "code",
   "execution_count": 21,
   "metadata": {},
   "outputs": [
    {
     "data": {
      "image/png": "[encoded data removed]",
      "text/latex": [
       "$\\displaystyle -\\infty$"
      ],
      "text/plain": [
       "-∞"
      ]
     },
     "execution_count": 21,
     "metadata": {},
     "output_type": "execute_result"
    }
   ],
   "source": [
    "limit(Polyptych(k,a), t, 0)"
   ]
  },
  {
   "cell_type": "code",
   "execution_count": null,
   "metadata": {},
   "outputs": [],
   "source": []
  }
 ],
 "metadata": {
  "kernelspec": {
   "display_name": "Python 3",
   "language": "python",
   "name": "python3"
  },
  "language_info": {
   "codemirror_mode": {
    "name": "ipython",
    "version": 3
   },
   "file_extension": ".py",
   "mimetype": "text/x-python",
   "name": "python",
   "nbconvert_exporter": "python",
   "pygments_lexer": "ipython3",
   "version": "3.8.5"
  }
 },
 "nbformat": 4,
 "nbformat_minor": 4
}
