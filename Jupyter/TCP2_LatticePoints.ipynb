{
 "cells": [
  {
   "cell_type": "code",
   "execution_count": 1,
   "metadata": {},
   "outputs": [],
   "source": [
    "from sympy import *\n",
    "from sympy.vector import Vector\n",
    "from sympy.vector import CoordSys3D\n",
    "N = CoordSys3D('N')\n",
    "\n",
    "t, k, a = symbols( 't k a' )\n",
    "init_printing(use_unicode=True)\n",
    "\n",
    "# Define the vector which is not parallel to any edge vector, which will tend to zero:\n",
    "\n",
    "Phi = t*(N.i + 2*N.j)\n",
    "\n",
    "# Set the fixed points of the action; P denotes those that belong\n",
    "# to the core, and Q those that come from the cut extended core:\n",
    "\n",
    "def P12(k,a):\n",
    "    return Vector.zero\n",
    "\n",
    "def P23(k,a):\n",
    "    return k*N.i\n",
    "\n",
    "def P13(k,a):\n",
    "    return k*N.j\n",
    "\n",
    "def Q12_1(k,a):\n",
    "    return -a*N.j\n",
    "\n",
    "def Q12_2(k,a):\n",
    "    return -a*N.i\n",
    "\n",
    "def Q23_2(k,a):\n",
    "    return (k+a)*N.i\n",
    "\n",
    "def Q23_3(k,a):\n",
    "    return (k+a)*N.i - a*N.j\n",
    "\n",
    "def Q13_1(k,a):\n",
    "    return (k+a)*N.j\n",
    "\n",
    "def Q13_3(k,a):\n",
    "    return -a*N.i + (k+a)*N.j\n",
    "\n",
    "# Basis for the edge/weight vectors for the points \n",
    "\n",
    "v1 = N.i\n",
    "\n",
    "v2 = N.j\n",
    "\n",
    "# Define the term which is summed over each fixed point,\n",
    "# representing the character for the representation\n",
    "\n",
    "def f(P, edge1, edge2):\n",
    "    return exp( Phi.dot(P) ) / ( (1 - exp( Phi.dot(edge1) ) ) * ( 1 - exp( Phi.dot(edge2) ) ) )\n",
    "\n",
    "def g(P, edge1, edge2, edge3, edge4):\n",
    "    return exp( Phi.dot(P) ) / ( (1 - exp( Phi.dot(edge1) ) ) * ( 1 - exp( Phi.dot(edge2) ) ) * ( 1 - exp( Phi.dot(edge3) ) ) * ( 1 - exp( Phi.dot(edge4) ) ) )\n",
    "\n",
    "# For each of the right-angled triangles:\n",
    "\n",
    "def Delta1(k,a):\n",
    "    return f(P23(k,a), -v1, -v1 + v2 ) * ( f(0*v1 + 0*v2, v1, v1 - v2) + f(a*v1, -v1, -v2) + f(a*v1 - a*v2, v2, -v1 + v2) )\n",
    "\n",
    "def Delta2(k,a):\n",
    "    return f(P13(k,a), v1 - v2, -v2 ) * ( f(0*v1 + 0*v2, v2, -v1 + v2) + f(a*v2, -v1, -v2) + f(-a*v1 + a*v2, v1, v1 - v2) )\n",
    "\n",
    "def Delta3(k,a):\n",
    "    return f(P12(k,a), v1 , v2 ) * ( f(0*v1 + 0*v2, -v1, -v2) + f(-a*v1, v1, v1 - v2) + f(-a*v2, v2, -v1 + v2) )\n",
    "\n",
    "\n",
    "def Sum(k,a):\n",
    "    return Delta1(k,a) + Delta2(k,a) + Delta3(k,a) \n",
    "\n",
    "# Take the limit as t -> 0 to get the Euler characteristic(?)\n",
    "\n",
    "def Euler(k,a):\n",
    "    return limit(Sum(k,a),t,0)\n",
    "\n",
    "\n",
    "# OLD\n",
    "#\n",
    "#\n",
    "#\n",
    "#\n",
    "#\n",
    "#\n",
    "#\n",
    "#\n",
    "# Each Tijk_lm is a summand for the polytope Delta_{ijk},\n",
    "# at the fixed point P_{lm}\n",
    "\n",
    "# For Delta_{123} (i.e. the core):\n",
    "\n",
    "def T123_12(k,a):\n",
    "    return f(P12(k,a), v1, v2)\n",
    "\n",
    "def T123_23(k,a):\n",
    "    return f(P23(k,a), -v1 + v2, -v1)\n",
    "\n",
    "def T123_13(k,a):\n",
    "    return f(P13(k,a), -v2, v1 - v2)\n",
    "\n",
    "def Sum_123(k,a):\n",
    "    return T123_12(k,a) + T123_23(k,a) + T123_13(k,a)\n",
    "\n",
    "# We take the limit of Sum_123 for t -> 0 to obtain the lattice point count in Delta_{123}:\n",
    "\n",
    "def limSum_123(k,a):\n",
    "    return limit(Sum_123(k,a), t, 0)\n",
    "\n",
    "# For Delta_{12} (and other two index sub-polytopes):\n",
    "\n",
    "def T12_23(k,a):\n",
    "    return f(P23(k,a), v1, -v1 + v2)\n",
    "\n",
    "def S12_232(k,a):\n",
    "    return f(Q23_2(k,a), -v1 + v2, -v1)\n",
    "\n",
    "def S12_131(k,a):\n",
    "    return f(Q13_1(k,a), -v2, v1 - v2)\n",
    "\n",
    "def T12_13(k,a):\n",
    "    return f(P13(k,a), v1 - v2, v2)\n",
    "\n",
    "def Sum_12(k,a):\n",
    "    return T12_23(k,a) + S12_232(k,a) + S12_131(k,a) + T12_13(k,a)\n",
    "\n",
    "def limSum_12(k,a):\n",
    "    return limit(Sum_12(k,a), t, 0)\n",
    "\n",
    "# For Delta_{1} (and other single index sub-polytopes):\n",
    "\n",
    "def T1_23(k,a):\n",
    "    return f(P23(k,a), v1 - v2, v1)\n",
    "\n",
    "def S1_233(k,a):\n",
    "    return f(Q23_3(k,a), v2, v2 - v1)\n",
    "\n",
    "def S1_232(k,a):\n",
    "    return f(Q23_2(k,a), -v1, -v2)\n",
    "\n",
    "def Sum_1(k,a):\n",
    "    return T1_23(k,a) + S1_233(k,a) + S1_232(k,a)\n",
    "\n",
    "def limSum_1(k,a):\n",
    "    return limit(Sum_1(k,a), t, 0)\n",
    "\n",
    "# --- IGNORE THIS SECTION\n",
    "\n",
    "# For the whole polyptych, ignoring the contribution from the\n",
    "# overlapping boundaries between the components for now, \n",
    "# we have that the lattice point (over)count is:\n",
    "\n",
    "def limSumOverlap(k,a):\n",
    "    return (1 * limSum_123(k,a)) + (3 * limSum_12(k,a)) + (3 * limSum_1(k,a))\n",
    "\n",
    "# In the above sum, we over count by ( 3*(k + 1) + 6*(a + 1) - 3 ),\n",
    "# where the (k+1)-terms come from the walls of the interior core, and\n",
    "# the (a+1)-terms come from the walls between the intersections of the \n",
    "# exterior parts of the extended core. The last (-3)-term then results\n",
    "# by adding back in the interior fixed points, which lie in the intersections\n",
    "# of four polytopes of the polypych:\n",
    "\n",
    "#def limSumFinal(k,a):\n",
    "#    return limSumOverlap(k,a) - ( 3*(k+1) + 6*(a+1) - 3 )\n",
    "\n",
    "# --- END OF IGNORE\n",
    "\n",
    "def finalTotal(k,a):\n",
    "    return limSumOverlap(k,a) - ( 3*(k+1) + 6*(a+1) - 3 )\n"
   ]
  },
  {
   "cell_type": "code",
   "execution_count": 2,
   "metadata": {},
   "outputs": [
    {
     "data": {
      "image/png": "[encoded data removed]",
      "text/latex": [
       "$\\displaystyle 3 a^{2} + 3 a k + 3 a + \\frac{k^{2}}{2} + \\frac{3 k}{2} + 1$"
      ],
      "text/plain": [
       "                      2          \n",
       "   2                 k    3⋅k    \n",
       "3⋅a  + 3⋅a⋅k + 3⋅a + ── + ─── + 1\n",
       "                     2     2     "
      ]
     },
     "execution_count": 2,
     "metadata": {},
     "output_type": "execute_result"
    }
   ],
   "source": [
    "finalTotal(k,a)"
   ]
  },
  {
   "cell_type": "code",
   "execution_count": 6,
   "metadata": {},
   "outputs": [
    {
     "data": {
      "image/png": "[encoded data removed]",
      "text/latex": [
       "$\\displaystyle 6 a + 3 k + 6$"
      ],
      "text/plain": [
       "6⋅a + 3⋅k + 6"
      ]
     },
     "execution_count": 6,
     "metadata": {},
     "output_type": "execute_result"
    }
   ],
   "source": [
    "limSumOverlap(k,a) - finalTotal(k,a)"
   ]
  },
  {
   "cell_type": "code",
   "execution_count": 12,
   "metadata": {},
   "outputs": [
    {
     "data": {
      "image/png": "[encoded data removed]",
      "text/latex": [
       "$\\displaystyle \\frac{k^{2}}{2} + \\frac{9 k}{2} + 7$"
      ],
      "text/plain": [
       " 2          \n",
       "k    9⋅k    \n",
       "── + ─── + 7\n",
       "2     2     "
      ]
     },
     "execution_count": 12,
     "metadata": {},
     "output_type": "execute_result"
    }
   ],
   "source": [
    "finalTotal(k,1)"
   ]
  },
  {
   "cell_type": "code",
   "execution_count": 13,
   "metadata": {},
   "outputs": [
    {
     "data": {
      "image/png": "[encoded data removed]",
      "text/latex": [
       "$\\displaystyle \\frac{k^{2}}{2} + \\frac{15 k}{2} + 19$"
      ],
      "text/plain": [
       " 2            \n",
       "k    15⋅k     \n",
       "── + ──── + 19\n",
       "2     2       "
      ]
     },
     "execution_count": 13,
     "metadata": {},
     "output_type": "execute_result"
    }
   ],
   "source": [
    "finalTotal(k,2)"
   ]
  },
  {
   "cell_type": "code",
   "execution_count": null,
   "metadata": {},
   "outputs": [],
   "source": []
  }
 ],
 "metadata": {
  "kernelspec": {
   "display_name": "Python 3",
   "language": "python",
   "name": "python3"
  },
  "language_info": {
   "codemirror_mode": {
    "name": "ipython",
    "version": 3
   },
   "file_extension": ".py",
   "mimetype": "text/x-python",
   "name": "python",
   "nbconvert_exporter": "python",
   "pygments_lexer": "ipython3",
   "version": "3.8.5"
  }
 },
 "nbformat": 4,
 "nbformat_minor": 4
}
