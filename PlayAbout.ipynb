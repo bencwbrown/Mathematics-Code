{
 "cells": [
  {
   "cell_type": "code",
   "execution_count": 4,
   "metadata": {},
   "outputs": [
    {
     "data": {
      "text/html": [
       "<html>\\[\\newcommand{\\Bold}[1]{\\mathbf{#1}}t^{10} + t^{9} + t^{8} + t^{7} + t^{6} + t^{5} + t^{4} + t^{3} - {\\left(t^{10} + t^{9} + t^{8} + t^{7} + t^{6} + t^{5} + t^{4} + t^{3} + t^{2} + t\\right)} t^{n} + t^{2} + t + 1\\]</html>"
      ],
      "text/latex": [
       "$$\\newcommand{\\Bold}[1]{\\mathbf{#1}}t^{10} + t^{9} + t^{8} + t^{7} + t^{6} + t^{5} + t^{4} + t^{3} - {\\left(t^{10} + t^{9} + t^{8} + t^{7} + t^{6} + t^{5} + t^{4} + t^{3} + t^{2} + t\\right)} t^{n} + t^{2} + t + 1$$"
      ],
      "text/plain": [
       "t^10 + t^9 + t^8 + t^7 + t^6 + t^5 + t^4 + t^3 - (t^10 + t^9 + t^8 + t^7 + t^6 + t^5 + t^4 + t^3 + t^2 + t)*t^n + t^2 + t + 1"
      ]
     },
     "execution_count": 4,
     "metadata": {},
     "output_type": "execute_result"
    }
   ],
   "source": [
    "%display latex\n",
    "#assume(abs(t) < 1)\n",
    "a, q, k, n = var('a, q, k, n')\n",
    "t, n = var('t, n')\n",
    "#assume(abs(t) == 10)\n",
    "\n",
    "def f(t):\n",
    "    return ( 1 / (1 - t) ) + ( t**(n) / ( 1 - t**(-1) ) )\n",
    "\n",
    "taylor(f(t), t, 0, 10).full_simplify()\n"
   ]
  },
  {
   "cell_type": "code",
   "execution_count": 13,
   "metadata": {},
   "outputs": [
    {
     "data": {
      "text/html": [
       "<html>\\[\\newcommand{\\Bold}[1]{\\mathbf{#1}}-\\frac{1}{s - 1}\\]</html>"
      ],
      "text/latex": [
       "$$\\newcommand{\\Bold}[1]{\\mathbf{#1}}-\\frac{1}{s - 1}$$"
      ],
      "text/plain": [
       "-1/(s - 1)"
      ]
     },
     "execution_count": 13,
     "metadata": {},
     "output_type": "execute_result"
    }
   ],
   "source": [
    "s, t, k, l = var('s, t, k, l')\n",
    "assume(abs(s) < 1)\n",
    "assume(abs(t) < 1)\n",
    "assume(k == 10)\n",
    "assume(l == 10)\n",
    "\n",
    "sum((s^k), k, 0, infinity)"
   ]
  }
 ],
 "metadata": {
  "kernelspec": {
   "display_name": "SageMath 9.4",
   "language": "sage",
   "name": "sagemath-9.4"
  },
  "language_info": {
   "codemirror_mode": {
    "name": "ipython",
    "version": 3
   },
   "file_extension": ".py",
   "mimetype": "text/x-python",
   "name": "python",
   "nbconvert_exporter": "python",
   "pygments_lexer": "ipython3",
   "version": "3.9.5"
  }
 },
 "nbformat": 4,
 "nbformat_minor": 4
}
