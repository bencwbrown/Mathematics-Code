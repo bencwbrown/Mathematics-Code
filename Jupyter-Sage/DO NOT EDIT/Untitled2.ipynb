{
 "cells": [
  {
   "cell_type": "code",
   "execution_count": 1,
   "id": "8d6fb0bf-00c3-412a-9a85-af40a1cfe9f5",
   "metadata": {},
   "outputs": [],
   "source": [
    "from sympy import *\n",
    "from sympy.vector import Vector\n",
    "from sympy.vector import CoordSys3D\n",
    "import IPython.display as disp\n",
    "\n",
    "N = CoordSys3D('N')\n",
    "\n",
    "x = symbols( 'x' )"
   ]
  },
  {
   "cell_type": "code",
   "execution_count": 4,
   "id": "3fa46bcb-8b98-43f2-9e67-dab6e3241d72",
   "metadata": {},
   "outputs": [
    {
     "data": {
      "text/latex": [
       "$\\displaystyle - \\frac{20}{3}$"
      ],
      "text/plain": [
       "-20/3"
      ]
     },
     "execution_count": 4,
     "metadata": {},
     "output_type": "execute_result"
    }
   ],
   "source": [
    "integrate(x*(x+2)*(x-4), x).subs(x,-2)"
   ]
  },
  {
   "cell_type": "code",
   "execution_count": null,
   "id": "cc5df9a4-1f9d-4a9c-a48c-4e094b4c818e",
   "metadata": {},
   "outputs": [],
   "source": []
  }
 ],
 "metadata": {
  "kernelspec": {
   "display_name": "Python 3 (ipykernel)",
   "language": "python",
   "name": "python3"
  },
  "language_info": {
   "codemirror_mode": {
    "name": "ipython",
    "version": 3
   },
   "file_extension": ".py",
   "mimetype": "text/x-python",
   "name": "python",
   "nbconvert_exporter": "python",
   "pygments_lexer": "ipython3",
   "version": "3.10.3"
  }
 },
 "nbformat": 4,
 "nbformat_minor": 5
}
