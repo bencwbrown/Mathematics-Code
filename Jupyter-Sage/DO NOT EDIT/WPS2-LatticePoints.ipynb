{
 "cells": [
  {
   "cell_type": "code",
   "execution_count": 1,
   "metadata": {},
   "outputs": [
    {
     "data": {
      "text/latex": [
       "$\\displaystyle \\mathbf{\\hat{0}}$"
      ],
      "text/plain": [
       "0"
      ]
     },
     "metadata": {},
     "output_type": "display_data"
    },
    {
     "data": {
      "text/latex": [
       "$\\displaystyle (n)\\mathbf{\\hat{i}_{N}}$"
      ],
      "text/plain": [
       "(n) i_N"
      ]
     },
     "metadata": {},
     "output_type": "display_data"
    },
    {
     "data": {
      "text/latex": [
       "$\\displaystyle (2 n)\\mathbf{\\hat{j}_{N}}$"
      ],
      "text/plain": [
       "(2⋅n) j_N"
      ]
     },
     "metadata": {},
     "output_type": "display_data"
    }
   ],
   "source": [
    "from sympy import *\n",
    "from sympy.vector import Vector\n",
    "from sympy.vector import CoordSys3D\n",
    "import IPython.display as disp\n",
    "\n",
    "N = CoordSys3D('N')\n",
    "\n",
    "t, k = symbols( 't k' )\n",
    "n, d, m = symbols('n d m', positive=True, integer=True)\n",
    "# init_printing(use_unicode=True)\n",
    "init_printing(use_latex='mathjax')\n",
    "\n",
    "# Basis for the edge/weight vectors for the points \n",
    "\n",
    "v1 = N.i\n",
    "v2 = N.j\n",
    "\n",
    "# Define the vector which is not parallel to any edge vector, which will tend to zero:\n",
    "\n",
    "Phi = t*(v1 + 3*v2)\n",
    "\n",
    "# Set the fixed points of the action; P denotes those that belong\n",
    "# to the core, and Q those that come from the cut extended core:\n",
    "\n",
    "def P12(n):\n",
    "    return Vector.zero\n",
    "\n",
    "def P23(n):\n",
    "    return (n)*v1\n",
    "\n",
    "def P13(n):\n",
    "    return 2*n*v2\n",
    "\n",
    "interiorPoints = [P12(n), P23(n), P13(n)]\n",
    "\n",
    "for P in interiorPoints:\n",
    "    display(P)"
   ]
  },
  {
   "cell_type": "code",
   "execution_count": 2,
   "metadata": {},
   "outputs": [
    {
     "data": {
      "text/latex": [
       "$\\displaystyle (- 2 d)\\mathbf{\\hat{i}_{N}}$"
      ],
      "text/plain": [
       "(-2⋅d) i_N"
      ]
     },
     "metadata": {},
     "output_type": "display_data"
    },
    {
     "data": {
      "text/latex": [
       "$\\displaystyle (- 2 d)\\mathbf{\\hat{j}_{N}}$"
      ],
      "text/plain": [
       "(-2⋅d) j_N"
      ]
     },
     "metadata": {},
     "output_type": "display_data"
    },
    {
     "data": {
      "text/latex": [
       "$\\displaystyle (d + n)\\mathbf{\\hat{i}_{N}}$"
      ],
      "text/plain": [
       "(d + n) i_N"
      ]
     },
     "metadata": {},
     "output_type": "display_data"
    },
    {
     "data": {
      "text/latex": [
       "$\\displaystyle (d + n)\\mathbf{\\hat{i}_{N}} + (- 2 d)\\mathbf{\\hat{j}_{N}}$"
      ],
      "text/plain": [
       "(d + n) i_N + (-2⋅d) j_N"
      ]
     },
     "metadata": {},
     "output_type": "display_data"
    },
    {
     "data": {
      "text/latex": [
       "$\\displaystyle (2 d + 2 m)\\mathbf{\\hat{j}_{N}}$"
      ],
      "text/plain": [
       "(2⋅d + 2⋅m) j_N"
      ]
     },
     "metadata": {},
     "output_type": "display_data"
    },
    {
     "data": {
      "text/latex": [
       "$\\displaystyle (- 2 d)\\mathbf{\\hat{i}_{N}} + (2 d + 2 m)\\mathbf{\\hat{j}_{N}}$"
      ],
      "text/plain": [
       "(-2⋅d) i_N + (2⋅d + 2⋅m) j_N"
      ]
     },
     "metadata": {},
     "output_type": "display_data"
    }
   ],
   "source": [
    "def Q12_1(n,d):\n",
    "    return (-2*d)*v1\n",
    "\n",
    "def Q12_2(n,d):\n",
    "    return (-2*d)*v2\n",
    "\n",
    "def Q23_2(n,d):\n",
    "    return (n+d)*v1\n",
    "\n",
    "def Q23_3(n,d):\n",
    "    return (n+d)*v1 - 2*d*v2\n",
    "\n",
    "def Q13_1(n,d):\n",
    "    return 2*(m+d)*v2\n",
    "\n",
    "def Q13_3(n,d):\n",
    "    return -2*d*v1 + 2*(m+d)*v2\n",
    "\n",
    "# Define the term which is summed over each fixed point,\n",
    "# representing the character for the representation\n",
    "\n",
    "def P(P, edge1, edge2, edge3, edge4):\n",
    "    return exp( Phi.dot(P) ) / ( (1 - exp( Phi.dot(edge1) ) ) * ( 1 - exp( Phi.dot(edge2) ) ) * ( 1 - exp( Phi.dot(edge3) ) ) * ( 1 - exp( Phi.dot(edge4) ) ) )\n",
    "\n",
    "\n",
    "def Q(P, edge1, edge2):\n",
    "    return exp( Phi.dot(P) ) / ( (1 - exp( Phi.dot(edge1) ) ) * ( 1 - exp( Phi.dot(edge2) ) ) )\n",
    "\n",
    "def Exp(p, q):\n",
    "    return exp( 2*pi*I*Rational(p,q) )\n",
    "\n",
    "def gExp(g, P):\n",
    "    return exp( 2*pi*I*g.dot(P) )\n",
    "\n",
    "def OrbiFactor(p, q, edge):\n",
    "    return ( 1 - ( Exp(p,q) * exp( Rational(p,q) * Phi.dot(edge) ) ) )\n",
    "\n",
    "def OrbiSum(Q, p, q, edge1, edge2, edge3, edge4):\n",
    "    return ( Rational(1,q) * exp( Phi.dot(Q) ) ) / ( (1 - ( Exp(p,q) * exp( Rational(1,q) * Phi.dot(edge1) ) ) ) * (1 - ( Exp(p,q) * exp( Rational(1,q) * Phi.dot(edge2) ) ) ) * (1 - ( Exp(p,q) * exp( Rational(1,q) * Phi.dot(edge3) ) ) ) * (1 - ( Exp(p,q) * exp( Rational(1,q) * Phi.dot(edge4) ) ) ) ) \n",
    "\n",
    "def gOrbiSum(Q, q, g, edge1, edge2, edge3, edge4):\n",
    "    return ( Rational(1,q) * exp( Phi.dot(Q) ) ) / ( (1 - ( gExp(g,edge1) * exp( Phi.dot(edge1) ) ) ) * (1 - ( gExp(g,edge2) * exp( Phi.dot(edge2) ) ) ) * (1 - ( gExp(g,edge3) * exp( Phi.dot(edge3) ) ) ) * (1 - ( gExp(g,edge4) * exp( Phi.dot(edge4) ) ) ) ) \n",
    "\n",
    "def OrbiHalfSum(Q, p, q, edge1, edge2, edge3, edge4):\n",
    "    return ( Rational(1,q) * exp( Phi.dot(Q) )  ) / ( (1 - ( Exp(p,q) * exp( Rational(1,q) * Phi.dot(edge1) ) ) ) * (1 - ( Exp(p,q) * exp( Rational(1,q) * Phi.dot(edge2) ) ) ) * (1 - ( Exp(p,q) * exp( Rational(1,q) * Phi.dot(edge3) ) ) ) * (1 - ( Exp(p,q) * exp( Rational(1,q) * Phi.dot(edge4) ) ) ) ) \n",
    "\n",
    "boundaryPoints = [Q12_1(n,d), Q12_2(n,d), Q23_2(n,d), Q23_3(n,d), Q13_1(n,d), Q13_3(n,d)]\n",
    "\n",
    "for Q in boundaryPoints:\n",
    "    display(Q)"
   ]
  },
  {
   "cell_type": "code",
   "execution_count": 27,
   "metadata": {},
   "outputs": [
    {
     "data": {
      "text/latex": [
       "$\\displaystyle \\frac{e^{3 t \\left(- d + m\\right)}}{2 \\left(1 - e^{t}\\right)^{2} \\left(1 - e^{\\frac{3 t}{2}}\\right)^{2}}$"
      ],
      "text/plain": [
       "      3⋅t⋅(-d + m)     \n",
       "     ℯ                 \n",
       "───────────────────────\n",
       "                      2\n",
       "            ⎛     3⋅t⎞ \n",
       "          2 ⎜     ───⎟ \n",
       "  ⎛     t⎞  ⎜      2 ⎟ \n",
       "2⋅⎝1 - ℯ ⎠ ⋅⎝1 - ℯ   ⎠ "
      ]
     },
     "metadata": {},
     "output_type": "display_data"
    },
    {
     "data": {
      "text/latex": [
       "$\\displaystyle \\frac{e^{3 t \\left(- d + m\\right)}}{2 \\cdot \\left(1 - e^{t}\\right) \\left(- i e^{t} + 1\\right) \\left(- i e^{\\frac{3 t}{2}} + 1\\right)^{2}}$"
      ],
      "text/plain": [
       "              3⋅t⋅(-d + m)             \n",
       "             ℯ                         \n",
       "───────────────────────────────────────\n",
       "                                      2\n",
       "                        ⎛     3⋅t    ⎞ \n",
       "                        ⎜     ───    ⎟ \n",
       "  ⎛     t⎞ ⎛     t    ⎞ ⎜      2     ⎟ \n",
       "2⋅⎝1 - ℯ ⎠⋅⎝- ⅈ⋅ℯ  + 1⎠⋅⎝- ⅈ⋅ℯ    + 1⎠ "
      ]
     },
     "metadata": {},
     "output_type": "display_data"
    }
   ],
   "source": [
    "# gOrbiSum(Q, q, g, edge1, edge2, edge3, edge4)\n",
    "\n",
    "display( gOrbiSum(Q12_1(n,m,d), 2, Vector.zero, v1, Rational(1,2)*v2, Rational(1,2)*v2, -Rational(1,2)*v1 + Rational(1,2)*v2) )\n",
    "\n",
    "display( gOrbiSum(Q12_1(n,m,d), 2, Rational(1,2)*v2, v1, Rational(1,2)*v2, Rational(1,2)*v2, -Rational(1,2)*v1 + Rational(1,2)*v2) )"
   ]
  },
  {
   "cell_type": "code",
   "execution_count": 5,
   "metadata": {},
   "outputs": [
    {
     "data": {
      "text/latex": [
       "$\\displaystyle \\frac{e^{n t}}{2 \\cdot \\left(1 + e^{- \\frac{5 t}{2}}\\right) \\left(1 + e^{- \\frac{t}{2}}\\right) \\left(e^{\\frac{t}{2}} + 1\\right) \\left(e^{\\frac{5 t}{2}} + 1\\right)} + \\frac{e^{n t}}{2 \\cdot \\left(1 - e^{- \\frac{5 t}{2}}\\right) \\left(1 - e^{- \\frac{t}{2}}\\right) \\left(1 - e^{\\frac{t}{2}}\\right) \\left(1 - e^{\\frac{5 t}{2}}\\right)} + \\frac{1}{\\left(1 - e^{- 3 t}\\right) \\left(1 - e^{- t}\\right) \\left(1 - e^{t}\\right) \\left(1 - e^{3 t}\\right)} + \\frac{e^{6 n t}}{\\left(1 - e^{- 5 t}\\right) \\left(1 - e^{- 3 t}\\right) \\left(1 - e^{3 t}\\right) \\left(1 - e^{5 t}\\right)}$"
      ],
      "text/plain": [
       "                      n⋅t                                             n⋅t     \n",
       "                     ℯ                                               ℯ        \n",
       "───────────────────────────────────────────── + ──────────────────────────────\n",
       "  ⎛     -5⋅t ⎞ ⎛     -t ⎞ ⎛ t    ⎞ ⎛ 5⋅t    ⎞     ⎛     -5⋅t ⎞ ⎛     -t ⎞ ⎛   \n",
       "  ⎜     ─────⎟ ⎜     ───⎟ ⎜ ─    ⎟ ⎜ ───    ⎟     ⎜     ─────⎟ ⎜     ───⎟ ⎜   \n",
       "  ⎜       2  ⎟ ⎜      2 ⎟ ⎜ 2    ⎟ ⎜  2     ⎟     ⎜       2  ⎟ ⎜      2 ⎟ ⎜   \n",
       "2⋅⎝1 + ℯ     ⎠⋅⎝1 + ℯ   ⎠⋅⎝ℯ  + 1⎠⋅⎝ℯ    + 1⎠   2⋅⎝1 - ℯ     ⎠⋅⎝1 - ℯ   ⎠⋅⎝1 -\n",
       "\n",
       "                                                                              \n",
       "                                      1                                       \n",
       "─────────────── + ───────────────────────────────────────── + ────────────────\n",
       "  t⎞ ⎛     5⋅t⎞   ⎛     -3⋅t⎞ ⎛     -t⎞ ⎛     t⎞ ⎛     3⋅t⎞   ⎛     -5⋅t⎞ ⎛   \n",
       "  ─⎟ ⎜     ───⎟   ⎝1 - ℯ    ⎠⋅⎝1 - ℯ  ⎠⋅⎝1 - ℯ ⎠⋅⎝1 - ℯ   ⎠   ⎝1 - ℯ    ⎠⋅⎝1 -\n",
       "  2⎟ ⎜      2 ⎟                                                               \n",
       " ℯ ⎠⋅⎝1 - ℯ   ⎠                                                               \n",
       "\n",
       "     6⋅n⋅t                   \n",
       "    ℯ                        \n",
       "─────────────────────────────\n",
       "  -3⋅t⎞ ⎛     3⋅t⎞ ⎛     5⋅t⎞\n",
       " ℯ    ⎠⋅⎝1 - ℯ   ⎠⋅⎝1 - ℯ   ⎠\n",
       "                             \n",
       "                             "
      ]
     },
     "execution_count": 5,
     "metadata": {},
     "output_type": "execute_result"
    }
   ],
   "source": [
    "def TermP12(n):\n",
    "    return P(P12(n), v1, v2, -v1, -v2)\n",
    "\n",
    "def TermP13(n):\n",
    "    return P(P13(n), v1 - 2*v2, -v2, -v1 + 2*v2, v2)\n",
    "\n",
    "def TermP23(n):\n",
    "    return gOrbiSum(P23(n), 2, Vector.zero, Rational(1,2)*v1 - v2, Rational(1,2)*v1, -Rational(1,2)*v1 + v2, -Rational(1,2)*v1) + gOrbiSum(P23(n), 2, -v1, Rational(1,2)*v1 - v2, Rational(1,2)*v1, -Rational(1,2)*v1 + v2, -Rational(1,2)*v1)\n",
    "\n",
    "def InteriorSum(n):\n",
    "    return TermP12(n) + TermP23(n) + TermP13(n)\n",
    "\n",
    "InteriorSum(n)"
   ]
  },
  {
   "cell_type": "code",
   "execution_count": 14,
   "metadata": {},
   "outputs": [],
   "source": [
    "def TermQ12_1(n,d):\n",
    "    return P(Q12_1(n,d), v1, v1, v2, v1 - v2)\n",
    "\n",
    "def TermQ12_2(n,d):\n",
    "    return P(Q12_2(n,d), v2, v2, v1, -v1 + v2)\n",
    "\n",
    "def TermQ13_1(n,d):\n",
    "    return P(Q13_1(n,d), -v2, -v2, v1 - 2*v2, -v1 + v2)\n",
    "\n",
    "def TermQ13_3(n,d):\n",
    "    return P(Q13_3(n,d), v1 - 2*v2, v1 - 2*v2, v1 - v2, -v2)\n",
    "\n",
    "# Q23_2 is an orbifold point of order 2:\n",
    "\n",
    "def TermQ23_2(n,d):\n",
    "    return gOrbiSum(Q23_2(n,d), 2, Vector.zero, -Rational(1,2)*v1, -Rational(1,2)*v1, -Rational(1,2)*v1 + v2, -v2) + gOrbiSum(Q23_2(n,d), 2, -v1, -Rational(1,2)*v1, -Rational(1,2)*v1, -Rational(1,2)*v1 + v2, -v2)\n",
    "\n",
    "# Q23_3 is an orbifold point of order 2:\n",
    "\n",
    "def TermQ23_3(n,d):\n",
    "    return gOrbiSum(Q23_3(n,d), 2, Vector.zero, -Rational(1,2)*v1 + v2, -Rational(1,2)*v1 + v2, -Rational(1,2)*v1, v2) + gOrbiSum(Q23_3(n,d), 2, -v1, -Rational(1,2)*v1 + v2, -Rational(1,2)*v1 + v2, -Rational(1,2)*v1, v2)"
   ]
  },
  {
   "cell_type": "code",
   "execution_count": 15,
   "metadata": {},
   "outputs": [
    {
     "data": {
      "text/latex": [
       "$\\displaystyle \\frac{e^{t \\left(d + n\\right)}}{2 \\cdot \\left(1 - e^{- 3 t}\\right) \\left(1 + e^{- \\frac{t}{2}}\\right)^{2} \\left(e^{\\frac{5 t}{2}} + 1\\right)} + \\frac{e^{t \\left(d + n\\right)}}{2 \\cdot \\left(1 - e^{- 3 t}\\right) \\left(1 - e^{- \\frac{t}{2}}\\right)^{2} \\cdot \\left(1 - e^{\\frac{5 t}{2}}\\right)}$"
      ],
      "text/plain": [
       "              t⋅(d + n)                              t⋅(d + n)             \n",
       "             ℯ                                      ℯ                      \n",
       "──────────────────────────────────── + ────────────────────────────────────\n",
       "                        2                                      2           \n",
       "              ⎛     -t ⎞  ⎛ 5⋅t    ⎞                 ⎛     -t ⎞  ⎛     5⋅t⎞\n",
       "              ⎜     ───⎟  ⎜ ───    ⎟                 ⎜     ───⎟  ⎜     ───⎟\n",
       "  ⎛     -3⋅t⎞ ⎜      2 ⎟  ⎜  2     ⎟     ⎛     -3⋅t⎞ ⎜      2 ⎟  ⎜      2 ⎟\n",
       "2⋅⎝1 - ℯ    ⎠⋅⎝1 + ℯ   ⎠ ⋅⎝ℯ    + 1⎠   2⋅⎝1 - ℯ    ⎠⋅⎝1 - ℯ   ⎠ ⋅⎝1 - ℯ   ⎠"
      ]
     },
     "metadata": {},
     "output_type": "display_data"
    },
    {
     "data": {
      "text/latex": [
       "$\\displaystyle \\frac{e^{- 6 d t + t \\left(d + n\\right)}}{2 \\cdot \\left(1 + e^{- \\frac{t}{2}}\\right) \\left(1 - e^{3 t}\\right) \\left(e^{\\frac{5 t}{2}} + 1\\right)^{2}} + \\frac{e^{- 6 d t + t \\left(d + n\\right)}}{2 \\cdot \\left(1 - e^{- \\frac{t}{2}}\\right) \\left(1 - e^{\\frac{5 t}{2}}\\right)^{2} \\cdot \\left(1 - e^{3 t}\\right)}$"
      ],
      "text/plain": [
       "         -6⋅d⋅t + t⋅(d + n)                    -6⋅d⋅t + t⋅(d + n)        \n",
       "        ℯ                                     ℯ                          \n",
       "─────────────────────────────────── + ───────────────────────────────────\n",
       "                                  2                          2           \n",
       "  ⎛     -t ⎞            ⎛ 5⋅t    ⎞      ⎛     -t ⎞ ⎛     5⋅t⎞            \n",
       "  ⎜     ───⎟            ⎜ ───    ⎟      ⎜     ───⎟ ⎜     ───⎟            \n",
       "  ⎜      2 ⎟ ⎛     3⋅t⎞ ⎜  2     ⎟      ⎜      2 ⎟ ⎜      2 ⎟  ⎛     3⋅t⎞\n",
       "2⋅⎝1 + ℯ   ⎠⋅⎝1 - ℯ   ⎠⋅⎝ℯ    + 1⎠    2⋅⎝1 - ℯ   ⎠⋅⎝1 - ℯ   ⎠ ⋅⎝1 - ℯ   ⎠"
      ]
     },
     "metadata": {},
     "output_type": "display_data"
    }
   ],
   "source": [
    "display( TermQ23_2(n,d) )\n",
    "display( TermQ23_3(n,d) )"
   ]
  },
  {
   "cell_type": "code",
   "execution_count": 16,
   "metadata": {},
   "outputs": [
    {
     "data": {
      "text/latex": [
       "$\\displaystyle \\frac{e^{- 6 d t}}{\\left(1 - e^{t}\\right) \\left(1 - e^{2 t}\\right) \\left(1 - e^{3 t}\\right)^{2}} + \\frac{e^{- 6 d t + t \\left(d + n\\right)}}{2 \\cdot \\left(1 + e^{- \\frac{t}{2}}\\right) \\left(1 - e^{3 t}\\right) \\left(e^{\\frac{5 t}{2}} + 1\\right)^{2}} + \\frac{e^{- 6 d t + t \\left(d + n\\right)}}{2 \\cdot \\left(1 - e^{- \\frac{t}{2}}\\right) \\left(1 - e^{\\frac{5 t}{2}}\\right)^{2} \\cdot \\left(1 - e^{3 t}\\right)} + \\frac{e^{- 2 d t}}{\\left(1 - e^{- 2 t}\\right) \\left(1 - e^{t}\\right)^{2} \\cdot \\left(1 - e^{3 t}\\right)} + \\frac{e^{t \\left(d + n\\right)}}{2 \\cdot \\left(1 - e^{- 3 t}\\right) \\left(1 + e^{- \\frac{t}{2}}\\right)^{2} \\left(e^{\\frac{5 t}{2}} + 1\\right)} + \\frac{e^{t \\left(d + n\\right)}}{2 \\cdot \\left(1 - e^{- 3 t}\\right) \\left(1 - e^{- \\frac{t}{2}}\\right)^{2} \\cdot \\left(1 - e^{\\frac{5 t}{2}}\\right)} + \\frac{e^{3 t \\left(2 d + 2 m\\right)}}{\\left(1 - e^{- 5 t}\\right) \\left(1 - e^{- 3 t}\\right)^{2} \\cdot \\left(1 - e^{2 t}\\right)} + \\frac{e^{- 2 d t + 3 t \\left(2 d + 2 m\\right)}}{\\left(1 - e^{- 5 t}\\right)^{2} \\cdot \\left(1 - e^{- 3 t}\\right) \\left(1 - e^{- 2 t}\\right)}$"
      ],
      "text/plain": [
       "             -6⋅d⋅t                        -6⋅d⋅t + t⋅(d + n)                 \n",
       "            ℯ                             ℯ                                   \n",
       "─────────────────────────────── + ─────────────────────────────────── + ──────\n",
       "                              2                                     2         \n",
       "⎛     t⎞ ⎛     2⋅t⎞ ⎛     3⋅t⎞      ⎛     -t ⎞            ⎛ 5⋅t    ⎞      ⎛   \n",
       "⎝1 - ℯ ⎠⋅⎝1 - ℯ   ⎠⋅⎝1 - ℯ   ⎠      ⎜     ───⎟            ⎜ ───    ⎟      ⎜   \n",
       "                                    ⎜      2 ⎟ ⎛     3⋅t⎞ ⎜  2     ⎟      ⎜   \n",
       "                                  2⋅⎝1 + ℯ   ⎠⋅⎝1 - ℯ   ⎠⋅⎝ℯ    + 1⎠    2⋅⎝1 -\n",
       "\n",
       "   -6⋅d⋅t + t⋅(d + n)                        -2⋅d⋅t                           \n",
       "  ℯ                                         ℯ                                 \n",
       "───────────────────────────── + ──────────────────────────────── + ───────────\n",
       "                 2                                  2                         \n",
       "  -t ⎞ ⎛     5⋅t⎞               ⎛     -2⋅t⎞ ⎛     t⎞  ⎛     3⋅t⎞              \n",
       "  ───⎟ ⎜     ───⎟               ⎝1 - ℯ    ⎠⋅⎝1 - ℯ ⎠ ⋅⎝1 - ℯ   ⎠              \n",
       "   2 ⎟ ⎜      2 ⎟  ⎛     3⋅t⎞                                        ⎛     -3⋅\n",
       " ℯ   ⎠⋅⎝1 - ℯ   ⎠ ⋅⎝1 - ℯ   ⎠                                      2⋅⎝1 - ℯ   \n",
       "\n",
       "   t⋅(d + n)                              t⋅(d + n)                           \n",
       "  ℯ                                      ℯ                                   ℯ\n",
       "───────────────────────── + ──────────────────────────────────── + ───────────\n",
       "             2                                      2                         \n",
       "   ⎛     -t ⎞  ⎛ 5⋅t    ⎞                 ⎛     -t ⎞  ⎛     5⋅t⎞   ⎛     -5⋅t⎞\n",
       "   ⎜     ───⎟  ⎜ ───    ⎟                 ⎜     ───⎟  ⎜     ───⎟   ⎝1 - ℯ    ⎠\n",
       "t⎞ ⎜      2 ⎟  ⎜  2     ⎟     ⎛     -3⋅t⎞ ⎜      2 ⎟  ⎜      2 ⎟              \n",
       " ⎠⋅⎝1 + ℯ   ⎠ ⋅⎝ℯ    + 1⎠   2⋅⎝1 - ℯ    ⎠⋅⎝1 - ℯ   ⎠ ⋅⎝1 - ℯ   ⎠              \n",
       "\n",
       "3⋅t⋅(2⋅d + 2⋅m)                  -2⋅d⋅t + 3⋅t⋅(2⋅d + 2⋅m)      \n",
       "                                ℯ                              \n",
       "──────────────────────── + ────────────────────────────────────\n",
       "            2                         2                        \n",
       " ⎛     -3⋅t⎞  ⎛     2⋅t⎞   ⎛     -5⋅t⎞  ⎛     -3⋅t⎞ ⎛     -2⋅t⎞\n",
       "⋅⎝1 - ℯ    ⎠ ⋅⎝1 - ℯ   ⎠   ⎝1 - ℯ    ⎠ ⋅⎝1 - ℯ    ⎠⋅⎝1 - ℯ    ⎠\n",
       "                                                               \n",
       "                                                               "
      ]
     },
     "execution_count": 16,
     "metadata": {},
     "output_type": "execute_result"
    }
   ],
   "source": [
    "def InteriorSum(n):\n",
    "    return TermP12(n) + TermP23(n) + TermP13(n)\n",
    "\n",
    "def ExteriorSum(n,d):\n",
    "    return TermQ12_1(n,d) + TermQ12_2(n,d) + TermQ23_2(n,d) + TermQ23_3(n,d) + TermQ13_1(n,d) + TermQ13_3(n,d)\n",
    "\n",
    "ExteriorSum(n,d)"
   ]
  },
  {
   "cell_type": "code",
   "execution_count": 18,
   "metadata": {},
   "outputs": [
    {
     "data": {
      "text/latex": [
       "$\\displaystyle \\frac{e^{- 6 d t}}{\\left(1 - e^{t}\\right) \\left(1 - e^{2 t}\\right) \\left(1 - e^{3 t}\\right)^{2}} + \\frac{e^{- 6 d t + t \\left(d + n\\right)}}{2 \\cdot \\left(1 + e^{- \\frac{t}{2}}\\right) \\left(1 - e^{3 t}\\right) \\left(e^{\\frac{5 t}{2}} + 1\\right)^{2}} + \\frac{e^{- 6 d t + t \\left(d + n\\right)}}{2 \\cdot \\left(1 - e^{- \\frac{t}{2}}\\right) \\left(1 - e^{\\frac{5 t}{2}}\\right)^{2} \\cdot \\left(1 - e^{3 t}\\right)} + \\frac{e^{- 2 d t}}{\\left(1 - e^{- 2 t}\\right) \\left(1 - e^{t}\\right)^{2} \\cdot \\left(1 - e^{3 t}\\right)} + \\frac{e^{n t}}{2 \\cdot \\left(1 + e^{- \\frac{5 t}{2}}\\right) \\left(1 + e^{- \\frac{t}{2}}\\right) \\left(e^{\\frac{t}{2}} + 1\\right) \\left(e^{\\frac{5 t}{2}} + 1\\right)} + \\frac{e^{n t}}{2 \\cdot \\left(1 - e^{- \\frac{5 t}{2}}\\right) \\left(1 - e^{- \\frac{t}{2}}\\right) \\left(1 - e^{\\frac{t}{2}}\\right) \\left(1 - e^{\\frac{5 t}{2}}\\right)} + \\frac{e^{t \\left(d + n\\right)}}{2 \\cdot \\left(1 - e^{- 3 t}\\right) \\left(1 + e^{- \\frac{t}{2}}\\right)^{2} \\left(e^{\\frac{5 t}{2}} + 1\\right)} + \\frac{e^{t \\left(d + n\\right)}}{2 \\cdot \\left(1 - e^{- 3 t}\\right) \\left(1 - e^{- \\frac{t}{2}}\\right)^{2} \\cdot \\left(1 - e^{\\frac{5 t}{2}}\\right)} + \\frac{1}{\\left(1 - e^{- 3 t}\\right) \\left(1 - e^{- t}\\right) \\left(1 - e^{t}\\right) \\left(1 - e^{3 t}\\right)} + \\frac{e^{6 n t}}{\\left(1 - e^{- 5 t}\\right) \\left(1 - e^{- 3 t}\\right) \\left(1 - e^{3 t}\\right) \\left(1 - e^{5 t}\\right)} + \\frac{e^{3 t \\left(2 d + 2 m\\right)}}{\\left(1 - e^{- 5 t}\\right) \\left(1 - e^{- 3 t}\\right)^{2} \\cdot \\left(1 - e^{2 t}\\right)} + \\frac{e^{- 2 d t + 3 t \\left(2 d + 2 m\\right)}}{\\left(1 - e^{- 5 t}\\right)^{2} \\cdot \\left(1 - e^{- 3 t}\\right) \\left(1 - e^{- 2 t}\\right)}$"
      ],
      "text/plain": [
       "             -6⋅d⋅t                        -6⋅d⋅t + t⋅(d + n)                 \n",
       "            ℯ                             ℯ                                   \n",
       "─────────────────────────────── + ─────────────────────────────────── + ──────\n",
       "                              2                                     2         \n",
       "⎛     t⎞ ⎛     2⋅t⎞ ⎛     3⋅t⎞      ⎛     -t ⎞            ⎛ 5⋅t    ⎞      ⎛   \n",
       "⎝1 - ℯ ⎠⋅⎝1 - ℯ   ⎠⋅⎝1 - ℯ   ⎠      ⎜     ───⎟            ⎜ ───    ⎟      ⎜   \n",
       "                                    ⎜      2 ⎟ ⎛     3⋅t⎞ ⎜  2     ⎟      ⎜   \n",
       "                                  2⋅⎝1 + ℯ   ⎠⋅⎝1 - ℯ   ⎠⋅⎝ℯ    + 1⎠    2⋅⎝1 -\n",
       "\n",
       "   -6⋅d⋅t + t⋅(d + n)                        -2⋅d⋅t                           \n",
       "  ℯ                                         ℯ                                 \n",
       "───────────────────────────── + ──────────────────────────────── + ───────────\n",
       "                 2                                  2                ⎛     -5⋅\n",
       "  -t ⎞ ⎛     5⋅t⎞               ⎛     -2⋅t⎞ ⎛     t⎞  ⎛     3⋅t⎞     ⎜     ───\n",
       "  ───⎟ ⎜     ───⎟               ⎝1 - ℯ    ⎠⋅⎝1 - ℯ ⎠ ⋅⎝1 - ℯ   ⎠     ⎜       2\n",
       "   2 ⎟ ⎜      2 ⎟  ⎛     3⋅t⎞                                      2⋅⎝1 + ℯ   \n",
       " ℯ   ⎠⋅⎝1 - ℯ   ⎠ ⋅⎝1 - ℯ   ⎠                                                 \n",
       "\n",
       "           n⋅t                                             n⋅t                \n",
       "          ℯ                                               ℯ                   \n",
       "────────────────────────────────── + ─────────────────────────────────────────\n",
       "t ⎞ ⎛     -t ⎞ ⎛ t    ⎞ ⎛ 5⋅t    ⎞     ⎛     -5⋅t ⎞ ⎛     -t ⎞ ⎛     t⎞ ⎛     \n",
       "──⎟ ⎜     ───⎟ ⎜ ─    ⎟ ⎜ ───    ⎟     ⎜     ─────⎟ ⎜     ───⎟ ⎜     ─⎟ ⎜     \n",
       "  ⎟ ⎜      2 ⎟ ⎜ 2    ⎟ ⎜  2     ⎟     ⎜       2  ⎟ ⎜      2 ⎟ ⎜     2⎟ ⎜     \n",
       "  ⎠⋅⎝1 + ℯ   ⎠⋅⎝ℯ  + 1⎠⋅⎝ℯ    + 1⎠   2⋅⎝1 - ℯ     ⎠⋅⎝1 - ℯ   ⎠⋅⎝1 - ℯ ⎠⋅⎝1 - ℯ\n",
       "                                                                              \n",
       "\n",
       "                     t⋅(d + n)                              t⋅(d + n)         \n",
       "                    ℯ                                      ℯ                  \n",
       "──── + ──────────────────────────────────── + ────────────────────────────────\n",
       "5⋅t⎞                           2                                      2       \n",
       "───⎟                 ⎛     -t ⎞  ⎛ 5⋅t    ⎞                 ⎛     -t ⎞  ⎛     \n",
       " 2 ⎟                 ⎜     ───⎟  ⎜ ───    ⎟                 ⎜     ───⎟  ⎜     \n",
       "   ⎠     ⎛     -3⋅t⎞ ⎜      2 ⎟  ⎜  2     ⎟     ⎛     -3⋅t⎞ ⎜      2 ⎟  ⎜     \n",
       "       2⋅⎝1 - ℯ    ⎠⋅⎝1 + ℯ   ⎠ ⋅⎝ℯ    + 1⎠   2⋅⎝1 - ℯ    ⎠⋅⎝1 - ℯ   ⎠ ⋅⎝1 - ℯ\n",
       "\n",
       "                                                                        6⋅n⋅t \n",
       "                           1                                           ℯ      \n",
       "──── + ───────────────────────────────────────── + ───────────────────────────\n",
       "       ⎛     -3⋅t⎞ ⎛     -t⎞ ⎛     t⎞ ⎛     3⋅t⎞   ⎛     -5⋅t⎞ ⎛     -3⋅t⎞ ⎛  \n",
       "5⋅t⎞   ⎝1 - ℯ    ⎠⋅⎝1 - ℯ  ⎠⋅⎝1 - ℯ ⎠⋅⎝1 - ℯ   ⎠   ⎝1 - ℯ    ⎠⋅⎝1 - ℯ    ⎠⋅⎝1 \n",
       "───⎟                                                                          \n",
       " 2 ⎟                                                                          \n",
       "   ⎠                                                                          \n",
       "\n",
       "                                3⋅t⋅(2⋅d + 2⋅m)                  -2⋅d⋅t + 3⋅t⋅\n",
       "                               ℯ                                ℯ             \n",
       "────────────────── + ─────────────────────────────────── + ───────────────────\n",
       "   3⋅t⎞ ⎛     5⋅t⎞                          2                         2       \n",
       "- ℯ   ⎠⋅⎝1 - ℯ   ⎠   ⎛     -5⋅t⎞ ⎛     -3⋅t⎞  ⎛     2⋅t⎞   ⎛     -5⋅t⎞  ⎛     \n",
       "                     ⎝1 - ℯ    ⎠⋅⎝1 - ℯ    ⎠ ⋅⎝1 - ℯ   ⎠   ⎝1 - ℯ    ⎠ ⋅⎝1 - ℯ\n",
       "                                                                              \n",
       "                                                                              \n",
       "\n",
       "(2⋅d + 2⋅m)      \n",
       "                 \n",
       "─────────────────\n",
       "                 \n",
       "-3⋅t⎞ ⎛     -2⋅t⎞\n",
       "    ⎠⋅⎝1 - ℯ    ⎠\n",
       "                 \n",
       "                 "
      ]
     },
     "execution_count": 18,
     "metadata": {},
     "output_type": "execute_result"
    }
   ],
   "source": [
    "def TotalSum(n,d):\n",
    "    return InteriorSum(n) + ExteriorSum(n,d)\n",
    "\n",
    "TotalSum(n,d)"
   ]
  },
  {
   "cell_type": "code",
   "execution_count": 21,
   "metadata": {
    "tags": []
   },
   "outputs": [
    {
     "data": {
      "text/latex": [
       "$\\displaystyle \\frac{- \\frac{d}{25} - \\frac{2 m}{75} + \\frac{2 n}{75}}{t^{3}} + \\frac{- \\frac{7 d^{2}}{25} - \\frac{6 d m}{25} - \\frac{3 d}{10} - \\frac{2 m^{2}}{25} + \\frac{2 n^{2}}{25}}{t^{2}} + \\frac{- \\frac{26 d^{3}}{25} - \\frac{22 d^{2} m}{25} - \\frac{4 d^{2} n}{5} - \\frac{21 d^{2}}{10} - \\frac{18 d m^{2}}{25} - \\frac{3 d m}{5} - \\frac{6 d n}{5} - \\frac{51 d}{50} - \\frac{4 m^{3}}{25} + \\frac{107 m}{225} + \\frac{4 n^{3}}{25} - \\frac{107 n}{225}}{t} + 1 + t \\left(- \\frac{354 d^{5}}{125} - \\frac{238 d^{4} m}{75} - \\frac{7 d^{4} n}{5} - \\frac{103 d^{4}}{10} - \\frac{148 d^{3} m^{2}}{25} - \\frac{38 d^{3} m}{5} + \\frac{8 d^{3} n^{2}}{15} - \\frac{21 d^{3} n}{5} - \\frac{964 d^{3}}{75} - \\frac{132 d^{2} m^{3}}{25} - 9 d^{2} m^{2} - \\frac{41 d^{2} m}{25} - \\frac{2 d^{2} n^{3}}{15} + \\frac{6 d^{2} n^{2}}{5} - \\frac{121 d^{2} n}{30} - \\frac{247 d^{2}}{40} - \\frac{54 d m^{4}}{25} - \\frac{18 d m^{3}}{5} + \\frac{61 d m^{2}}{25} + \\frac{111 d m}{20} - \\frac{d n^{3}}{5} + \\frac{13 d n^{2}}{15} - \\frac{6 d n}{5} - \\frac{4861 d}{6000} - \\frac{36 m^{5}}{125} + \\frac{214 m^{3}}{75} + \\frac{24 m^{2}}{5} + \\frac{22619 m}{9000} + \\frac{36 n^{5}}{125} - \\frac{13 n^{3}}{25} + \\frac{n^{2}}{5} + \\frac{1381 n}{9000}\\right) + \\frac{2 n}{5} - \\frac{32 n^{2}}{75} + \\frac{6 n^{4}}{25} + \\frac{8 m}{5} + \\frac{107 m^{2}}{75} - \\frac{6 m^{4}}{25} + \\frac{139 d}{40} + \\frac{26 d n}{15} - \\frac{3 d n^{2}}{5} + \\frac{61 d m}{75} - \\frac{9 d m^{2}}{5} - \\frac{36 d m^{3}}{25} + \\frac{352 d^{2}}{75} + \\frac{12 d^{2} n}{5} - \\frac{2 d^{2} n^{2}}{5} - 3 d^{2} m - \\frac{66 d^{2} m^{2}}{25} + \\frac{16 d^{3}}{5} + \\frac{16 d^{3} n}{15} - \\frac{148 d^{3} m}{75} + \\frac{24 d^{4}}{25} + O\\left(t^{2}\\right)$"
      ],
      "text/plain": [
       "                        2                    2      2         3       2       \n",
       "  d    2⋅m   2⋅n     7⋅d    6⋅d⋅m   3⋅d   2⋅m    2⋅n      26⋅d    22⋅d ⋅m   4⋅\n",
       "- ── - ─── + ───   - ──── - ───── - ─── - ──── + ────   - ───── - ─────── - ──\n",
       "  25    75    75      25      25     10    25     25        25       25       \n",
       "──────────────── + ────────────────────────────────── + ──────────────────────\n",
       "        3                           2                                         \n",
       "       t                           t                                          \n",
       "\n",
       " 2         2         2                             3              3           \n",
       "d ⋅n   21⋅d    18⋅d⋅m    3⋅d⋅m   6⋅d⋅n   51⋅d   4⋅m    107⋅m   4⋅n    107⋅n   \n",
       "──── - ───── - ─────── - ───── - ───── - ──── - ──── + ───── + ──── - ─────   \n",
       "5        10       25       5       5      50     25     225     25     225    \n",
       "─────────────────────────────────────────────────────────────────────────── + \n",
       "                          t                                                   \n",
       "                                                                              \n",
       "\n",
       "                                                                              \n",
       "                                                                              \n",
       "      ⎛       5        4        4          4        3  2       3        3  2  \n",
       "      ⎜  354⋅d    238⋅d ⋅m   7⋅d ⋅n   103⋅d    148⋅d ⋅m    38⋅d ⋅m   8⋅d ⋅n   \n",
       "1 + t⋅⎜- ────── - ──────── - ────── - ────── - ───────── - ─────── + ─────── -\n",
       "      ⎝   125        75        5        10         25         5         15    \n",
       "                                                                              \n",
       "\n",
       "                                                                              \n",
       "                                                                              \n",
       "     3          3        2  3                 2        2  3      2  2        2\n",
       " 21⋅d ⋅n   964⋅d    132⋅d ⋅m       2  2   41⋅d ⋅m   2⋅d ⋅n    6⋅d ⋅n    121⋅d \n",
       " ─────── - ────── - ───────── - 9⋅d ⋅m  - ─────── - ─────── + ─────── - ──────\n",
       "    5        75         25                   25        15        5         30 \n",
       "                                                                              \n",
       "\n",
       "                                                                              \n",
       "                                                                              \n",
       "          2         4         3         2                3         2          \n",
       "⋅n   247⋅d    54⋅d⋅m    18⋅d⋅m    61⋅d⋅m    111⋅d⋅m   d⋅n    13⋅d⋅n    6⋅d⋅n  \n",
       "── - ────── - ─────── - ─────── + ─────── + ─────── - ──── + ─────── - ───── -\n",
       "       40        25        5         25        20      5        15       5    \n",
       "                                                                              \n",
       "\n",
       "                                                                              \n",
       "                                                                              \n",
       "              5        3       2                 5       3    2         ⎞     \n",
       " 4861⋅d   36⋅m    214⋅m    24⋅m    22619⋅m   36⋅n    13⋅n    n    1381⋅n⎟   2⋅\n",
       " ────── - ───── + ────── + ───── + ─────── + ───── - ───── + ── + ──────⎟ + ──\n",
       "  6000     125      75       5       9000     125      25    5     9000 ⎠    5\n",
       "                                                                              \n",
       "\n",
       "                                                                              \n",
       "                                                                              \n",
       "        2      4              2      4                         2              \n",
       "n   32⋅n    6⋅n    8⋅m   107⋅m    6⋅m    139⋅d   26⋅d⋅n   3⋅d⋅n    61⋅d⋅m   9⋅\n",
       "─ - ───── + ──── + ─── + ────── - ──── + ───── + ────── - ────── + ────── - ──\n",
       "      75     25     5      75      25      40      15       5        75       \n",
       "                                                                              \n",
       "\n",
       "                                                                              \n",
       "                                                                              \n",
       "   2         3        2       2        2  2                2  2       3       \n",
       "d⋅m    36⋅d⋅m    352⋅d    12⋅d ⋅n   2⋅d ⋅n       2     66⋅d ⋅m    16⋅d    16⋅d\n",
       "──── - ─────── + ────── + ─────── - ─────── - 3⋅d ⋅m - ──────── + ───── + ────\n",
       "5         25       75        5         5                  25        5        1\n",
       "                                                                              \n",
       "\n",
       "                              \n",
       "                              \n",
       "3          3         4        \n",
       " ⋅n   148⋅d ⋅m   24⋅d     ⎛ 2⎞\n",
       "─── - ──────── + ───── + O⎝t ⎠\n",
       "5        75        25         \n",
       "                              "
      ]
     },
     "execution_count": 21,
     "metadata": {},
     "output_type": "execute_result"
    }
   ],
   "source": [
    "series(TotalSum(n,d), t, 0, 2)"
   ]
  },
  {
   "cell_type": "code",
   "execution_count": 22,
   "metadata": {},
   "outputs": [
    {
     "data": {
      "text/latex": [
       "$\\displaystyle \\frac{- \\frac{d}{25} - \\frac{2 m}{75} + \\frac{2 n}{75}}{t^{3}} + \\frac{- \\frac{7 d^{2}}{25} - \\frac{6 d m}{25} - \\frac{3 d}{10} - \\frac{2 m^{2}}{25} + \\frac{2 n^{2}}{25}}{t^{2}} + \\frac{- \\frac{26 d^{3}}{25} - \\frac{22 d^{2} m}{25} - \\frac{4 d^{2} n}{5} - \\frac{21 d^{2}}{10} - \\frac{18 d m^{2}}{25} - \\frac{3 d m}{5} - \\frac{6 d n}{5} - \\frac{51 d}{50} - \\frac{4 m^{3}}{25} + \\frac{107 m}{225} + \\frac{4 n^{3}}{25} - \\frac{107 n}{225}}{t} + 1 + t \\left(- \\frac{354 d^{5}}{125} - \\frac{238 d^{4} m}{75} - \\frac{7 d^{4} n}{5} - \\frac{103 d^{4}}{10} - \\frac{148 d^{3} m^{2}}{25} - \\frac{38 d^{3} m}{5} + \\frac{8 d^{3} n^{2}}{15} - \\frac{21 d^{3} n}{5} - \\frac{964 d^{3}}{75} - \\frac{132 d^{2} m^{3}}{25} - 9 d^{2} m^{2} - \\frac{41 d^{2} m}{25} - \\frac{2 d^{2} n^{3}}{15} + \\frac{6 d^{2} n^{2}}{5} - \\frac{121 d^{2} n}{30} - \\frac{247 d^{2}}{40} - \\frac{54 d m^{4}}{25} - \\frac{18 d m^{3}}{5} + \\frac{61 d m^{2}}{25} + \\frac{111 d m}{20} - \\frac{d n^{3}}{5} + \\frac{13 d n^{2}}{15} - \\frac{6 d n}{5} - \\frac{4861 d}{6000} - \\frac{36 m^{5}}{125} + \\frac{214 m^{3}}{75} + \\frac{24 m^{2}}{5} + \\frac{22619 m}{9000} + \\frac{36 n^{5}}{125} - \\frac{13 n^{3}}{25} + \\frac{n^{2}}{5} + \\frac{1381 n}{9000}\\right) + t^{2} \\cdot \\left(\\frac{1309 d^{6}}{750} - \\frac{1492 d^{5} m}{375} + \\frac{104 d^{5} n}{75} + \\frac{811 d^{5}}{100} - \\frac{238 d^{4} m^{2}}{25} - 13 d^{4} m - \\frac{7 d^{4} n^{2}}{10} + \\frac{26 d^{4} n}{5} + \\frac{3171 d^{4}}{200} - \\frac{296 d^{3} m^{3}}{25} - \\frac{114 d^{3} m^{2}}{5} - \\frac{218 d^{3} m}{25} + \\frac{8 d^{3} n^{3}}{45} - \\frac{21 d^{3} n^{2}}{10} + \\frac{307 d^{3} n}{45} + \\frac{347 d^{3}}{20} - \\frac{198 d^{2} m^{4}}{25} - 18 d^{2} m^{3} - \\frac{123 d^{2} m^{2}}{25} + \\frac{171 d^{2} m}{20} - \\frac{d^{2} n^{4}}{30} + \\frac{2 d^{2} n^{3}}{5} - \\frac{121 d^{2} n^{2}}{60} + \\frac{17 d^{2} n}{5} + \\frac{21641 d^{2}}{2000} - \\frac{324 d m^{5}}{125} - \\frac{27 d m^{4}}{5} + \\frac{122 d m^{3}}{25} + \\frac{333 d m^{2}}{20} + \\frac{30377 d m}{3000} - \\frac{d n^{4}}{20} + \\frac{13 d n^{3}}{45} - \\frac{3 d n^{2}}{5} + \\frac{101 d n}{450} + \\frac{2359 d}{800} - \\frac{36 m^{6}}{125} + \\frac{107 m^{4}}{25} + \\frac{48 m^{3}}{5} + \\frac{22619 m^{2}}{3000} + 2 m + \\frac{36 n^{6}}{125} - \\frac{209 n^{4}}{300} + \\frac{n^{3}}{15} + \\frac{377 n^{2}}{1000} - \\frac{n}{6}\\right) + t^{3} \\left(- \\frac{2494 d^{7}}{875} - \\frac{4604 d^{6} m}{1125} - \\frac{521 d^{6} n}{450} - \\frac{2219 d^{6}}{150} - \\frac{1492 d^{5} m^{2}}{125} - \\frac{422 d^{5} m}{25} + \\frac{52 d^{5} n^{2}}{75} - \\frac{521 d^{5} n}{100} - \\frac{43349 d^{5}}{1500} - \\frac{476 d^{4} m^{3}}{25} - 39 d^{4} m^{2} - \\frac{463 d^{4} m}{25} - \\frac{7 d^{4} n^{3}}{30} + \\frac{13 d^{4} n^{2}}{5} - \\frac{3061 d^{4} n}{360} - \\frac{3113 d^{4}}{120} - \\frac{444 d^{3} m^{4}}{25} - \\frac{228 d^{3} m^{3}}{5} - \\frac{654 d^{3} m^{2}}{25} + \\frac{63 d^{3} m}{10} + \\frac{2 d^{3} n^{4}}{45} - \\frac{7 d^{3} n^{3}}{10} + \\frac{307 d^{3} n^{2}}{90} - \\frac{83 d^{3} n}{15} - \\frac{10281 d^{3}}{1000} - \\frac{1188 d^{2} m^{5}}{125} - 27 d^{2} m^{4} - \\frac{246 d^{2} m^{3}}{25} + \\frac{513 d^{2} m^{2}}{20} + \\frac{61409 d^{2} m}{3000} - \\frac{d^{2} n^{5}}{150} + \\frac{d^{2} n^{4}}{10} - \\frac{121 d^{2} n^{3}}{180} + \\frac{17 d^{2} n^{2}}{10} - \\frac{1049 d^{2} n}{1800} - \\frac{1087 d^{2}}{800} - \\frac{324 d m^{6}}{125} - \\frac{162 d m^{5}}{25} + \\frac{183 d m^{4}}{25} + \\frac{333 d m^{3}}{10} + \\frac{30377 d m^{2}}{1000} + \\frac{3439 d m}{400} - \\frac{d n^{5}}{100} + \\frac{13 d n^{4}}{180} - \\frac{d n^{3}}{5} + \\frac{101 d n^{2}}{900} + \\frac{287 d n}{600} - \\frac{8951 d}{151200} - \\frac{216 m^{7}}{875} + \\frac{642 m^{5}}{125} + \\frac{72 m^{4}}{5} + \\frac{22619 m^{3}}{1500} + 6 m^{2} + \\frac{85213 m}{226800} + \\frac{216 n^{7}}{875} - \\frac{1229 n^{5}}{1500} + \\frac{n^{4}}{60} + \\frac{817 n^{3}}{1125} - \\frac{n^{2}}{12} - \\frac{37333 n}{226800}\\right) + t^{4} \\cdot \\left(\\frac{2689 d^{8}}{2000} - \\frac{28136 d^{7} m}{7875} + \\frac{62 d^{7} n}{75} + \\frac{34291 d^{7}}{4200} - \\frac{4604 d^{6} m^{2}}{375} - \\frac{266 d^{6} m}{15} - \\frac{521 d^{6} n^{2}}{900} + \\frac{217 d^{6} n}{50} + \\frac{377833 d^{6}}{18000} - \\frac{2984 d^{5} m^{3}}{125} - \\frac{1266 d^{5} m^{2}}{25} - \\frac{3322 d^{5} m}{125} + \\frac{52 d^{5} n^{3}}{225} - \\frac{521 d^{5} n^{2}}{200} + \\frac{7657 d^{5} n}{900} + \\frac{4577 d^{5}}{150} - \\frac{714 d^{4} m^{4}}{25} - 78 d^{4} m^{3} - \\frac{1389 d^{4} m^{2}}{25} - \\frac{27 d^{4} m}{20} - \\frac{7 d^{4} n^{4}}{120} + \\frac{13 d^{4} n^{3}}{15} - \\frac{3061 d^{4} n^{2}}{720} + \\frac{139 d^{4} n}{20} + \\frac{981559 d^{4}}{36000} - \\frac{2664 d^{3} m^{5}}{125} - \\frac{342 d^{3} m^{4}}{5} - \\frac{1308 d^{3} m^{3}}{25} + \\frac{189 d^{3} m^{2}}{10} + \\frac{124783 d^{3} m}{4500} + \\frac{2 d^{3} n^{5}}{225} - \\frac{7 d^{3} n^{4}}{40} + \\frac{307 d^{3} n^{3}}{270} - \\frac{83 d^{3} n^{2}}{30} + \\frac{2603 d^{3} n}{2700} + \\frac{8023 d^{3}}{600} - \\frac{1188 d^{2} m^{6}}{125} - \\frac{162 d^{2} m^{5}}{5} - \\frac{369 d^{2} m^{4}}{25} + \\frac{513 d^{2} m^{3}}{10} + \\frac{61409 d^{2} m^{2}}{1000} + \\frac{1519 d^{2} m}{80} - \\frac{d^{2} n^{6}}{900} + \\frac{d^{2} n^{5}}{50} - \\frac{121 d^{2} n^{4}}{720} + \\frac{17 d^{2} n^{3}}{30} - \\frac{1049 d^{2} n^{2}}{3600} - \\frac{103 d^{2} n}{75} + \\frac{16997 d^{2}}{10800} - \\frac{1944 d m^{7}}{875} - \\frac{162 d m^{6}}{25} + \\frac{1098 d m^{5}}{125} + \\frac{999 d m^{4}}{20} + \\frac{30377 d m^{3}}{500} + \\frac{10317 d m^{2}}{400} + \\frac{2879 d m}{1680} - \\frac{d n^{6}}{600} + \\frac{13 d n^{5}}{900} - \\frac{d n^{4}}{20} + \\frac{101 d n^{3}}{2700} + \\frac{287 d n^{2}}{1200} - \\frac{1597 d n}{5400} - \\frac{17579 d}{20160} - \\frac{162 m^{8}}{875} + \\frac{642 m^{6}}{125} + \\frac{432 m^{5}}{25} + \\frac{22619 m^{4}}{1000} + 12 m^{3} + \\frac{85213 m^{2}}{75600} - \\frac{19 m}{30} + \\frac{162 n^{8}}{875} - \\frac{7349 n^{6}}{9000} + \\frac{n^{5}}{300} + \\frac{19483 n^{4}}{18000} - \\frac{n^{3}}{36} - \\frac{16619 n^{2}}{37800} + \\frac{31 n}{360}\\right) + t^{5} \\left(- \\frac{36839 d^{9}}{23625} - \\frac{21358 d^{8} m}{7875} - \\frac{13021 d^{8} n}{25200} - \\frac{3143 d^{8}}{300} - \\frac{28136 d^{7} m^{2}}{2625} - \\frac{8236 d^{7} m}{525} + \\frac{31 d^{7} n^{2}}{75} - \\frac{13021 d^{7} n}{4200} - \\frac{193951 d^{7}}{7000} - \\frac{9208 d^{6} m^{3}}{375} - \\frac{266 d^{6} m^{2}}{5} - \\frac{11054 d^{6} m}{375} - \\frac{521 d^{6} n^{3}}{2700} + \\frac{217 d^{6} n^{2}}{100} - \\frac{76561 d^{6} n}{10800} - \\frac{21623 d^{6}}{600} - \\frac{4476 d^{5} m^{4}}{125} - \\frac{2532 d^{5} m^{3}}{25} - \\frac{9966 d^{5} m^{2}}{125} - \\frac{513 d^{5} m}{50} + \\frac{13 d^{5} n^{4}}{225} - \\frac{521 d^{5} n^{3}}{600} + \\frac{7657 d^{5} n^{2}}{1800} - \\frac{2083 d^{5} n}{300} - \\frac{2101007 d^{5}}{90000} - \\frac{4284 d^{4} m^{5}}{125} - 117 d^{4} m^{4} - \\frac{2778 d^{4} m^{3}}{25} - \\frac{81 d^{4} m^{2}}{20} + \\frac{255461 d^{4} m}{9000} - \\frac{7 d^{4} n^{5}}{600} + \\frac{13 d^{4} n^{4}}{60} - \\frac{3061 d^{4} n^{3}}{2160} + \\frac{139 d^{4} n^{2}}{40} - \\frac{26069 d^{4} n}{21600} - \\frac{5271 d^{4}}{800} - \\frac{2664 d^{3} m^{6}}{125} - \\frac{2052 d^{3} m^{5}}{25} - \\frac{1962 d^{3} m^{4}}{25} + \\frac{189 d^{3} m^{3}}{5} + \\frac{124783 d^{3} m^{2}}{1500} + \\frac{17341 d^{3} m}{600} + \\frac{d^{3} n^{6}}{675} - \\frac{7 d^{3} n^{5}}{200} + \\frac{307 d^{3} n^{4}}{1080} - \\frac{83 d^{3} n^{3}}{90} + \\frac{2603 d^{3} n^{2}}{5400} + \\frac{8027 d^{3} n}{3600} - \\frac{18719 d^{3}}{37800} - \\frac{7128 d^{2} m^{7}}{875} - \\frac{162 d^{2} m^{6}}{5} - \\frac{2214 d^{2} m^{5}}{125} + \\frac{1539 d^{2} m^{4}}{20} + \\frac{61409 d^{2} m^{3}}{500} + \\frac{4557 d^{2} m^{2}}{80} + \\frac{306923 d^{2} m}{75600} - \\frac{d^{2} n^{7}}{6300} + \\frac{d^{2} n^{6}}{300} - \\frac{121 d^{2} n^{5}}{3600} + \\frac{17 d^{2} n^{4}}{120} - \\frac{1049 d^{2} n^{3}}{10800} - \\frac{103 d^{2} n^{2}}{150} + \\frac{35249 d^{2} n}{50400} + \\frac{181 d^{2}}{2880} - \\frac{1458 d m^{8}}{875} - \\frac{972 d m^{7}}{175} + \\frac{1098 d m^{6}}{125} + \\frac{2997 d m^{5}}{50} + \\frac{91131 d m^{4}}{1000} + \\frac{10317 d m^{3}}{200} + \\frac{2879 d m^{2}}{560} - \\frac{5683 d m}{2016} - \\frac{d n^{7}}{4200} + \\frac{13 d n^{6}}{5400} - \\frac{d n^{5}}{100} + \\frac{101 d n^{4}}{10800} + \\frac{287 d n^{3}}{3600} - \\frac{1597 d n^{2}}{10800} - \\frac{59 d n}{210} + \\frac{710051 d}{10080000} - \\frac{108 m^{9}}{875} + \\frac{3852 m^{7}}{875} + \\frac{432 m^{6}}{25} + \\frac{67857 m^{5}}{2500} + 18 m^{4} + \\frac{85213 m^{3}}{37800} - \\frac{19 m^{2}}{10} - \\frac{12743527 m}{45360000} + \\frac{108 n^{9}}{875} - \\frac{44069 n^{7}}{63000} + \\frac{n^{6}}{1800} + \\frac{116773 n^{5}}{90000} - \\frac{n^{4}}{144} - \\frac{65111 n^{3}}{75600} + \\frac{31 n^{2}}{720} + \\frac{7325527 n}{45360000}\\right) + \\frac{2 n}{5} - \\frac{32 n^{2}}{75} + \\frac{6 n^{4}}{25} + \\frac{8 m}{5} + \\frac{107 m^{2}}{75} - \\frac{6 m^{4}}{25} + \\frac{139 d}{40} + \\frac{26 d n}{15} - \\frac{3 d n^{2}}{5} + \\frac{61 d m}{75} - \\frac{9 d m^{2}}{5} - \\frac{36 d m^{3}}{25} + \\frac{352 d^{2}}{75} + \\frac{12 d^{2} n}{5} - \\frac{2 d^{2} n^{2}}{5} - 3 d^{2} m - \\frac{66 d^{2} m^{2}}{25} + \\frac{16 d^{3}}{5} + \\frac{16 d^{3} n}{15} - \\frac{148 d^{3} m}{75} + \\frac{24 d^{4}}{25} + O\\left(t^{6}\\right)$"
      ],
      "text/plain": [
       "                        2                    2      2         3       2       \n",
       "  d    2⋅m   2⋅n     7⋅d    6⋅d⋅m   3⋅d   2⋅m    2⋅n      26⋅d    22⋅d ⋅m   4⋅\n",
       "- ── - ─── + ───   - ──── - ───── - ─── - ──── + ────   - ───── - ─────── - ──\n",
       "  25    75    75      25      25     10    25     25        25       25       \n",
       "──────────────── + ────────────────────────────────── + ──────────────────────\n",
       "        3                           2                                         \n",
       "       t                           t                                          \n",
       "\n",
       " 2         2         2                             3              3           \n",
       "d ⋅n   21⋅d    18⋅d⋅m    3⋅d⋅m   6⋅d⋅n   51⋅d   4⋅m    107⋅m   4⋅n    107⋅n   \n",
       "──── - ───── - ─────── - ───── - ───── - ──── - ──── + ───── + ──── - ─────   \n",
       "5        10       25       5       5      50     25     225     25     225    \n",
       "─────────────────────────────────────────────────────────────────────────── + \n",
       "                          t                                                   \n",
       "                                                                              \n",
       "\n",
       "                                                                              \n",
       "                                                                              \n",
       "      ⎛       5        4        4          4        3  2       3        3  2  \n",
       "      ⎜  354⋅d    238⋅d ⋅m   7⋅d ⋅n   103⋅d    148⋅d ⋅m    38⋅d ⋅m   8⋅d ⋅n   \n",
       "1 + t⋅⎜- ────── - ──────── - ────── - ────── - ───────── - ─────── + ─────── -\n",
       "      ⎝   125        75        5        10         25         5         15    \n",
       "                                                                              \n",
       "\n",
       "                                                                              \n",
       "                                                                              \n",
       "     3          3        2  3                 2        2  3      2  2        2\n",
       " 21⋅d ⋅n   964⋅d    132⋅d ⋅m       2  2   41⋅d ⋅m   2⋅d ⋅n    6⋅d ⋅n    121⋅d \n",
       " ─────── - ────── - ───────── - 9⋅d ⋅m  - ─────── - ─────── + ─────── - ──────\n",
       "    5        75         25                   25        15        5         30 \n",
       "                                                                              \n",
       "\n",
       "                                                                              \n",
       "                                                                              \n",
       "          2         4         3         2                3         2          \n",
       "⋅n   247⋅d    54⋅d⋅m    18⋅d⋅m    61⋅d⋅m    111⋅d⋅m   d⋅n    13⋅d⋅n    6⋅d⋅n  \n",
       "── - ────── - ─────── - ─────── + ─────── + ─────── - ──── + ─────── - ───── -\n",
       "       40        25        5         25        20      5        15       5    \n",
       "                                                                              \n",
       "\n",
       "                                                                              \n",
       "                                                                              \n",
       "              5        3       2                 5       3    2         ⎞     \n",
       " 4861⋅d   36⋅m    214⋅m    24⋅m    22619⋅m   36⋅n    13⋅n    n    1381⋅n⎟    2\n",
       " ────── - ───── + ────── + ───── + ─────── + ───── - ───── + ── + ──────⎟ + t \n",
       "  6000     125      75       5       9000     125      25    5     9000 ⎠     \n",
       "                                                                              \n",
       "\n",
       "                                                                              \n",
       "                                                                              \n",
       " ⎛      6         5          5          5        4  2                4  2     \n",
       " ⎜1309⋅d    1492⋅d ⋅m   104⋅d ⋅n   811⋅d    238⋅d ⋅m        4     7⋅d ⋅n    26\n",
       "⋅⎜─────── - ───────── + ──────── + ────── - ───────── - 13⋅d ⋅m - ─────── + ──\n",
       " ⎝  750        375         75       100         25                   10       \n",
       "                                                                              \n",
       "\n",
       "                                                                              \n",
       "                                                                              \n",
       "  4           4        3  3        3  2        3        3  3       3  2       \n",
       "⋅d ⋅n   3171⋅d    296⋅d ⋅m    114⋅d ⋅m    218⋅d ⋅m   8⋅d ⋅n    21⋅d ⋅n    307⋅\n",
       "───── + ─────── - ───────── - ───────── - ──────── + ─────── - ──────── + ────\n",
       " 5        200         25          5          25         45        10         4\n",
       "                                                                              \n",
       "\n",
       "                                                                              \n",
       "                                                                              \n",
       " 3          3        2  4                   2  2        2      2  4      2  3 \n",
       "d ⋅n   347⋅d    198⋅d ⋅m        2  3   123⋅d ⋅m    171⋅d ⋅m   d ⋅n    2⋅d ⋅n  \n",
       "──── + ────── - ───────── - 18⋅d ⋅m  - ───────── + ──────── - ───── + ─────── \n",
       "5        20         25                     25         20        30       5    \n",
       "                                                                              \n",
       "\n",
       "                                                                              \n",
       "                                                                              \n",
       "       2  2       2            2          5         4          3          2   \n",
       "  121⋅d ⋅n    17⋅d ⋅n   21641⋅d    324⋅d⋅m    27⋅d⋅m    122⋅d⋅m    333⋅d⋅m    \n",
       "- ───────── + ─────── + ──────── - ──────── - ─────── + ──────── + ──────── + \n",
       "      60         5        2000       125         5         25         20      \n",
       "                                                                              \n",
       "\n",
       "                                                                              \n",
       "                                                                              \n",
       "               4         3        2                          6        4       \n",
       "30377⋅d⋅m   d⋅n    13⋅d⋅n    3⋅d⋅n    101⋅d⋅n   2359⋅d   36⋅m    107⋅m    48⋅m\n",
       "───────── - ──── + ─────── - ────── + ─────── + ────── - ───── + ────── + ────\n",
       "   3000      20       45       5        450      800      125      25       5 \n",
       "                                                                              \n",
       "\n",
       "                                                                              \n",
       "                                                                              \n",
       "3          2             6        4    3        2    ⎞      ⎛        7        \n",
       "    22619⋅m          36⋅n    209⋅n    n    377⋅n    n⎟    3 ⎜  2494⋅d    4604⋅\n",
       "─ + ──────── + 2⋅m + ───── - ────── + ── + ────── - ─⎟ + t ⋅⎜- ─────── - ─────\n",
       "      3000            125     300     15    1000    6⎠      ⎝    875        11\n",
       "                                                                              \n",
       "\n",
       "                                                                              \n",
       "                                                                              \n",
       " 6          6           6         5  2        5         5  2        5         \n",
       "d ⋅m   521⋅d ⋅n   2219⋅d    1492⋅d ⋅m    422⋅d ⋅m   52⋅d ⋅n    521⋅d ⋅n   4334\n",
       "──── - ──────── - ─────── - ────────── - ──────── + ──────── - ──────── - ────\n",
       "25       450        150        125          25         75        100        15\n",
       "                                                                              \n",
       "\n",
       "                                                                              \n",
       "                                                                              \n",
       "   5        4  3                   4        4  3       4  2         4         \n",
       "9⋅d    476⋅d ⋅m        4  2   463⋅d ⋅m   7⋅d ⋅n    13⋅d ⋅n    3061⋅d ⋅n   3113\n",
       "──── - ───────── - 39⋅d ⋅m  - ──────── - ─────── + ──────── - ───────── - ────\n",
       "00         25                    25         30        5          360        12\n",
       "                                                                              \n",
       "\n",
       "                                                                              \n",
       "                                                                              \n",
       "  4        3  4        3  3        3  2       3        3  4      3  3        3\n",
       "⋅d    444⋅d ⋅m    228⋅d ⋅m    654⋅d ⋅m    63⋅d ⋅m   2⋅d ⋅n    7⋅d ⋅n    307⋅d \n",
       "─── - ───────── - ───────── - ───────── + ─────── + ─────── - ─────── + ──────\n",
       "0         25          5           25         10        45        10         90\n",
       "                                                                              \n",
       "\n",
       "                                                                              \n",
       "                                                                              \n",
       "  2       3            3         2  5                   2  3        2  2      \n",
       "⋅n    83⋅d ⋅n   10281⋅d    1188⋅d ⋅m        2  4   246⋅d ⋅m    513⋅d ⋅m    614\n",
       "─── - ─────── - ──────── - ────────── - 27⋅d ⋅m  - ───────── + ───────── + ───\n",
       "         15       1000        125                      25          20         \n",
       "                                                                              \n",
       "\n",
       "                                                                              \n",
       "                                                                              \n",
       "    2      2  5    2  4        2  3       2  2         2           2          \n",
       "09⋅d ⋅m   d ⋅n    d ⋅n    121⋅d ⋅n    17⋅d ⋅n    1049⋅d ⋅n   1087⋅d    324⋅d⋅m\n",
       "─────── - ───── + ───── - ───────── + ──────── - ───────── - ─────── - ───────\n",
       "3000       150      10       180         10         1800       800       125  \n",
       "                                                                              \n",
       "\n",
       "                                                                              \n",
       "                                                                              \n",
       "6          5          4          3            2                 5         4   \n",
       "    162⋅d⋅m    183⋅d⋅m    333⋅d⋅m    30377⋅d⋅m    3439⋅d⋅m   d⋅n    13⋅d⋅n    \n",
       "─ - ──────── + ──────── + ──────── + ────────── + ──────── - ──── + ─────── - \n",
       "       25         25         10         1000        400      100      180     \n",
       "                                                                              \n",
       "\n",
       "                                                                              \n",
       "                                                                              \n",
       "   3          2                           7        5       4          3       \n",
       "d⋅n    101⋅d⋅n    287⋅d⋅n   8951⋅d   216⋅m    642⋅m    72⋅m    22619⋅m       2\n",
       "──── + ──────── + ─────── - ────── - ────── + ────── + ───── + ──────── + 6⋅m \n",
       " 5       900        600     151200    875      125       5       1500         \n",
       "                                                                              \n",
       "\n",
       "                                                                              \n",
       "                                                                              \n",
       "                  7         5    4        3    2          ⎞      ⎛      8     \n",
       "   85213⋅m   216⋅n    1229⋅n    n    817⋅n    n    37333⋅n⎟    4 ⎜2689⋅d    28\n",
       " + ─────── + ────── - ─────── + ── + ────── - ── - ───────⎟ + t ⋅⎜─────── - ──\n",
       "    226800    875       1500    60    1125    12    226800⎠      ⎝  2000      \n",
       "                                                                              \n",
       "\n",
       "                                                                              \n",
       "                                                                              \n",
       "     7         7            7         6  2        6          6  2        6    \n",
       "136⋅d ⋅m   62⋅d ⋅n   34291⋅d    4604⋅d ⋅m    266⋅d ⋅m   521⋅d ⋅n    217⋅d ⋅n  \n",
       "──────── + ─────── + ──────── - ────────── - ──────── - ───────── + ──────── +\n",
       " 7875         75       4200        375          15         900         50     \n",
       "                                                                              \n",
       "\n",
       "                                                                              \n",
       "                                                                              \n",
       "         6         5  3         5  2         5         5  3        5  2       \n",
       " 377833⋅d    2984⋅d ⋅m    1266⋅d ⋅m    3322⋅d ⋅m   52⋅d ⋅n    521⋅d ⋅n    7657\n",
       " ───────── - ────────── - ────────── - ───────── + ──────── - ───────── + ────\n",
       "   18000        125           25          125        225         200         9\n",
       "                                                                              \n",
       "\n",
       "                                                                              \n",
       "                                                                              \n",
       "  5           5        4  4                    4  2       4        4  4       \n",
       "⋅d ⋅n   4577⋅d    714⋅d ⋅m        4  3   1389⋅d ⋅m    27⋅d ⋅m   7⋅d ⋅n    13⋅d\n",
       "───── + ─────── - ───────── - 78⋅d ⋅m  - ────────── - ─────── - ─────── + ────\n",
       "00        150         25                     25          20       120        1\n",
       "                                                                              \n",
       "\n",
       "                                                                              \n",
       "                                                                              \n",
       "4  3         4  2        4             4         3  5        3  4         3  3\n",
       " ⋅n    3061⋅d ⋅n    139⋅d ⋅n   981559⋅d    2664⋅d ⋅m    342⋅d ⋅m    1308⋅d ⋅m \n",
       "──── - ────────── + ──────── + ───────── - ────────── - ───────── - ──────────\n",
       "5         720          20        36000        125           5           25    \n",
       "                                                                              \n",
       "\n",
       "                                                                              \n",
       "                                                                              \n",
       "        3  2           3        3  5      3  4        3  3       3  2         \n",
       "   189⋅d ⋅m    124783⋅d ⋅m   2⋅d ⋅n    7⋅d ⋅n    307⋅d ⋅n    83⋅d ⋅n    2603⋅d\n",
       " + ───────── + ─────────── + ─────── - ─────── + ───────── - ──────── + ──────\n",
       "       10          4500        225        40        270         30         270\n",
       "                                                                              \n",
       "\n",
       "                                                                              \n",
       "                                                                              \n",
       "3           3         2  6        2  5        2  4        2  3          2  2  \n",
       " ⋅n   8023⋅d    1188⋅d ⋅m    162⋅d ⋅m    369⋅d ⋅m    513⋅d ⋅m    61409⋅d ⋅m   \n",
       "─── + ─────── - ────────── - ───────── - ───────── + ───────── + ─────────── +\n",
       "0       600        125           5           25          10          1000     \n",
       "                                                                              \n",
       "\n",
       "                                                                              \n",
       "                                                                              \n",
       "       2      2  6    2  5        2  4       2  3         2  2        2       \n",
       " 1519⋅d ⋅m   d ⋅n    d ⋅n    121⋅d ⋅n    17⋅d ⋅n    1049⋅d ⋅n    103⋅d ⋅n   16\n",
       " ───────── - ───── + ───── - ───────── + ──────── - ────────── - ──────── + ──\n",
       "     80       900      50       720         30         3600         75       1\n",
       "                                                                              \n",
       "\n",
       "                                                                              \n",
       "                                                                              \n",
       "     2           7          6           5          4            3            2\n",
       "997⋅d    1944⋅d⋅m    162⋅d⋅m    1098⋅d⋅m    999⋅d⋅m    30377⋅d⋅m    10317⋅d⋅m \n",
       "────── - ───────── - ──────── + ───────── + ──────── + ────────── + ──────────\n",
       "0800        875         25         125         20         500          400    \n",
       "                                                                              \n",
       "\n",
       "                                                                              \n",
       "                                                                              \n",
       "                 6         5      4          3          2                     \n",
       "   2879⋅d⋅m   d⋅n    13⋅d⋅n    d⋅n    101⋅d⋅n    287⋅d⋅n    1597⋅d⋅n   17579⋅d\n",
       " + ──────── - ──── + ─────── - ──── + ──────── + ──────── - ──────── - ───────\n",
       "     1680     600      900      20      2700       1200       5400      20160 \n",
       "                                                                              \n",
       "\n",
       "                                                                              \n",
       "                                                                              \n",
       "        8        6        5          4                  2               8     \n",
       "   162⋅m    642⋅m    432⋅m    22619⋅m        3   85213⋅m    19⋅m   162⋅n    73\n",
       " - ────── + ────── + ────── + ──────── + 12⋅m  + ──────── - ──── + ────── - ──\n",
       "    875      125       25       1000              75600      30     875       \n",
       "                                                                              \n",
       "\n",
       "                                                                              \n",
       "                                                                              \n",
       "    6     5          4    3          2       ⎞      ⎛         9          8    \n",
       "49⋅n     n    19483⋅n    n    16619⋅n    31⋅n⎟    5 ⎜  36839⋅d    21358⋅d ⋅m  \n",
       "───── + ─── + ──────── - ── - ──────── + ────⎟ + t ⋅⎜- ──────── - ────────── -\n",
       "9000    300    18000     36    37800     360 ⎠      ⎝   23625        7875     \n",
       "                                                                              \n",
       "\n",
       "                                                                              \n",
       "                                                                              \n",
       "        8           8          7  2         7         7  2          7         \n",
       " 13021⋅d ⋅n   3143⋅d    28136⋅d ⋅m    8236⋅d ⋅m   31⋅d ⋅n    13021⋅d ⋅n   1939\n",
       " ────────── - ─────── - ─────────── - ───────── + ──────── - ────────── - ────\n",
       "   25200        300         2625         525         75         4200         7\n",
       "                                                                              \n",
       "\n",
       "                                                                              \n",
       "                                                                              \n",
       "    7         6  3        6  2          6          6  3        6  2          6\n",
       "51⋅d    9208⋅d ⋅m    266⋅d ⋅m    11054⋅d ⋅m   521⋅d ⋅n    217⋅d ⋅n    76561⋅d \n",
       "───── - ────────── - ───────── - ────────── - ───────── + ───────── - ────────\n",
       "000        375           5          375          2700        100        10800 \n",
       "                                                                              \n",
       "\n",
       "                                                                              \n",
       "                                                                              \n",
       "            6         5  4         5  3         5  2        5         5  4    \n",
       "⋅n   21623⋅d    4476⋅d ⋅m    2532⋅d ⋅m    9966⋅d ⋅m    513⋅d ⋅m   13⋅d ⋅n    5\n",
       "── - ──────── - ────────── - ────────── - ────────── - ──────── + ──────── - ─\n",
       "       600         125           25          125          50        225       \n",
       "                                                                              \n",
       "\n",
       "                                                                              \n",
       "                                                                              \n",
       "    5  3         5  2         5              5         4  5                   \n",
       "21⋅d ⋅n    7657⋅d ⋅n    2083⋅d ⋅n   2101007⋅d    4284⋅d ⋅m         4  4   2778\n",
       "──────── + ────────── - ───────── - ────────── - ────────── - 117⋅d ⋅m  - ────\n",
       "  600         1800         300        90000         125                       \n",
       "                                                                              \n",
       "\n",
       "                                                                              \n",
       "                                                                              \n",
       "  4  3       4  2           4        4  5       4  4         4  3        4  2 \n",
       "⋅d ⋅m    81⋅d ⋅m    255461⋅d ⋅m   7⋅d ⋅n    13⋅d ⋅n    3061⋅d ⋅n    139⋅d ⋅n  \n",
       "────── - ──────── + ─────────── - ─────── + ──────── - ────────── + ───────── \n",
       "25          20          9000        600        60         2160          40    \n",
       "                                                                              \n",
       "\n",
       "                                                                              \n",
       "                                                                              \n",
       "         4           4         3  6         3  5         3  4        3  3     \n",
       "  26069⋅d ⋅n   5271⋅d    2664⋅d ⋅m    2052⋅d ⋅m    1962⋅d ⋅m    189⋅d ⋅m    12\n",
       "- ────────── - ─────── - ────────── - ────────── - ────────── + ───────── + ──\n",
       "    21600        800        125           25           25           5         \n",
       "                                                                              \n",
       "\n",
       "                                                                              \n",
       "                                                                              \n",
       "      3  2          3      3  6      3  5        3  4       3  3         3  2 \n",
       "4783⋅d ⋅m    17341⋅d ⋅m   d ⋅n    7⋅d ⋅n    307⋅d ⋅n    83⋅d ⋅n    2603⋅d ⋅n  \n",
       "────────── + ────────── + ───── - ─────── + ───────── - ──────── + ────────── \n",
       "  1500          600        675      200        1080        90         5400    \n",
       "                                                                              \n",
       "\n",
       "                                                                              \n",
       "                                                                              \n",
       "        3            3         2  7        2  6         2  5         2  4     \n",
       "  8027⋅d ⋅n   18719⋅d    7128⋅d ⋅m    162⋅d ⋅m    2214⋅d ⋅m    1539⋅d ⋅m    61\n",
       "+ ───────── - ──────── - ────────── - ───────── - ────────── + ────────── + ──\n",
       "     3600      37800        875           5          125           20         \n",
       "                                                                              \n",
       "\n",
       "                                                                              \n",
       "                                                                              \n",
       "     2  3         2  2           2      2  7    2  6        2  5       2  4   \n",
       "409⋅d ⋅m    4557⋅d ⋅m    306923⋅d ⋅m   d ⋅n    d ⋅n    121⋅d ⋅n    17⋅d ⋅n    \n",
       "───────── + ────────── + ─────────── - ───── + ───── - ───────── + ──────── - \n",
       "  500           80          75600       6300    300       3600       120      \n",
       "                                                                              \n",
       "\n",
       "                                                                              \n",
       "                                                                              \n",
       "      2  3        2  2          2          2           8          7           \n",
       "1049⋅d ⋅n    103⋅d ⋅n    35249⋅d ⋅n   181⋅d    1458⋅d⋅m    972⋅d⋅m    1098⋅d⋅m\n",
       "────────── - ───────── + ────────── + ────── - ───────── - ──────── + ────────\n",
       "  10800         150        50400       2880       875        175         125  \n",
       "                                                                              \n",
       "\n",
       "                                                                              \n",
       "                                                                              \n",
       "6           5            4            3           2                 7         \n",
       "    2997⋅d⋅m    91131⋅d⋅m    10317⋅d⋅m    2879⋅d⋅m    5683⋅d⋅m   d⋅n    13⋅d⋅n\n",
       "─ + ───────── + ────────── + ────────── + ───────── - ──────── - ──── + ──────\n",
       "        50         1000         200          560        2016     4200     5400\n",
       "                                                                              \n",
       "\n",
       "                                                                              \n",
       "                                                                              \n",
       "6      5          4          3           2                            9       \n",
       "    d⋅n    101⋅d⋅n    287⋅d⋅n    1597⋅d⋅n    59⋅d⋅n   710051⋅d   108⋅m    3852\n",
       "─ - ──── + ──────── + ──────── - ───────── - ────── + ──────── - ────── + ────\n",
       "    100     10800       3600       10800      210     10080000    875       87\n",
       "                                                                              \n",
       "\n",
       "                                                                              \n",
       "                                                                              \n",
       "  7        6          5                  3       2                     9      \n",
       "⋅m    432⋅m    67857⋅m        4   85213⋅m    19⋅m    12743527⋅m   108⋅n    440\n",
       "─── + ────── + ──────── + 18⋅m  + ──────── - ───── - ────────── + ────── - ───\n",
       "5       25       2500              37800       10     45360000     875      63\n",
       "                                                                              \n",
       "\n",
       "                                                                              \n",
       "                                                                              \n",
       "    7     6            5     4          3       2            ⎞             2  \n",
       "69⋅n     n     116773⋅n     n    65111⋅n    31⋅n    7325527⋅n⎟   2⋅n   32⋅n   \n",
       "───── + ──── + ───────── - ─── - ──────── + ───── + ─────────⎟ + ─── - ───── +\n",
       "000     1800     90000     144    75600      720     45360000⎠    5      75   \n",
       "                                                                              \n",
       "\n",
       "                                                                              \n",
       "                                                                              \n",
       "    4              2      4                         2                 2       \n",
       " 6⋅n    8⋅m   107⋅m    6⋅m    139⋅d   26⋅d⋅n   3⋅d⋅n    61⋅d⋅m   9⋅d⋅m    36⋅d\n",
       " ──── + ─── + ────── - ──── + ───── + ────── - ────── + ────── - ────── - ────\n",
       "  25     5      75      25      40      15       5        75       5         2\n",
       "                                                                              \n",
       "\n",
       "                                                                              \n",
       "                                                                              \n",
       "  3        2       2        2  2                2  2       3       3          \n",
       "⋅m    352⋅d    12⋅d ⋅n   2⋅d ⋅n       2     66⋅d ⋅m    16⋅d    16⋅d ⋅n   148⋅d\n",
       "─── + ────── + ─────── - ─────── - 3⋅d ⋅m - ──────── + ───── + ─────── - ─────\n",
       "5       75        5         5                  25        5        15        75\n",
       "                                                                              \n",
       "\n",
       "                   \n",
       "                   \n",
       "3         4        \n",
       " ⋅m   24⋅d     ⎛ 6⎞\n",
       "─── + ───── + O⎝t ⎠\n",
       "        25         \n",
       "                   "
      ]
     },
     "execution_count": 22,
     "metadata": {},
     "output_type": "execute_result"
    }
   ],
   "source": [
    "series(TotalSum(n,d), t, 0)"
   ]
  },
  {
   "cell_type": "code",
   "execution_count": 23,
   "metadata": {},
   "outputs": [
    {
     "data": {
      "text/latex": [
       "$\\displaystyle \\infty \\operatorname{sign}{\\left(- \\frac{d}{25} - \\frac{2 m}{75} + \\frac{2 n}{75} \\right)}$"
      ],
      "text/plain": [
       "      ⎛  d    2⋅m   2⋅n⎞\n",
       "∞⋅sign⎜- ── - ─── + ───⎟\n",
       "      ⎝  25    75    75⎠"
      ]
     },
     "execution_count": 23,
     "metadata": {},
     "output_type": "execute_result"
    }
   ],
   "source": [
    "limit(TotalSum(n,d), t, 0)"
   ]
  },
  {
   "cell_type": "code",
   "execution_count": null,
   "metadata": {},
   "outputs": [],
   "source": [
    "def Character(n,m,d):\n",
    "    return 17*d**4/6 + 8*d**3*m + 4*d**3*n + 17*d**3/2 + 8*d**2*m**2 + 8*d**2*m*n + 18*d**2*m + d**2*n**2 + 9*d**2*n + 29*d**2/3 + 10*d*m**3/3 + 5*d*m**2*n + 12*d*m**2 + d*m*n**2 + 12*d*m*n + 41*d*m/3 + 3*d*n**2/2 + 13*d*n/2 + 79*d/16 + m**4/2 + m**3*n + 5*m**3/2 + m**2*n**2/4 + 15*m**2*n/4 + 9*m**2/2 + 3*m*n**2/4 + 17*m*n/4 + 7*m/2 + n**2/2 + 3*n/2 + Rational(65,64)\n",
    "\n",
    "display( Character(n,m,d) )"
   ]
  },
  {
   "cell_type": "code",
   "execution_count": null,
   "metadata": {},
   "outputs": [],
   "source": []
  },
  {
   "cell_type": "code",
   "execution_count": null,
   "metadata": {},
   "outputs": [],
   "source": []
  }
 ],
 "metadata": {
  "kernelspec": {
   "display_name": "Python 3 (ipykernel)",
   "language": "python",
   "name": "python3"
  },
  "language_info": {
   "codemirror_mode": {
    "name": "ipython",
    "version": 3
   },
   "file_extension": ".py",
   "mimetype": "text/x-python",
   "name": "python",
   "nbconvert_exporter": "python",
   "pygments_lexer": "ipython3",
   "version": "3.10.3"
  }
 },
 "nbformat": 4,
 "nbformat_minor": 4
}
