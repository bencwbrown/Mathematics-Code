{
 "cells": [
  {
   "cell_type": "code",
   "execution_count": 17,
   "metadata": {},
   "outputs": [
    {
     "data": {
      "text/latex": [
       "$\\displaystyle \\mathbf{\\hat{0}}$"
      ],
      "text/plain": [
       "0"
      ]
     },
     "metadata": {},
     "output_type": "display_data"
    },
    {
     "data": {
      "text/latex": [
       "$\\displaystyle (n)\\mathbf{\\hat{i}_{N}}$"
      ],
      "text/plain": [
       "(n) i_N"
      ]
     },
     "metadata": {},
     "output_type": "display_data"
    },
    {
     "data": {
      "text/latex": [
       "$\\displaystyle (2 n)\\mathbf{\\hat{j}_{N}}$"
      ],
      "text/plain": [
       "(2⋅n) j_N"
      ]
     },
     "metadata": {},
     "output_type": "display_data"
    }
   ],
   "source": [
    "from sympy import *\n",
    "from sympy.vector import Vector\n",
    "from sympy.vector import CoordSys3D\n",
    "import IPython.display as disp\n",
    "\n",
    "N = CoordSys3D('N')\n",
    "\n",
    "t, k = symbols( 't k' )\n",
    "n, d, m = symbols('n d m', positive=True, integer=True)\n",
    "# init_printing(use_unicode=True)\n",
    "init_printing(use_latex='mathjax')\n",
    "\n",
    "# Basis for the edge/weight vectors for the points \n",
    "\n",
    "v1 = N.i\n",
    "v2 = N.j\n",
    "\n",
    "# Define the vector which is not parallel to any edge vector, which will tend to zero:\n",
    "\n",
    "Phi = t*(v1 + 3*v2)\n",
    "\n",
    "# Set the fixed points of the action; P denotes those that belong\n",
    "# to the core, and Q those that come from the cut extended core:\n",
    "\n",
    "def P12(n):\n",
    "    return Vector.zero\n",
    "\n",
    "def P23(n):\n",
    "    return (n)*v1\n",
    "\n",
    "def P13(n):\n",
    "    return 2*n*v2\n",
    "\n",
    "interiorPoints = [P12(n), P23(n), P13(n)]\n",
    "\n",
    "for P in interiorPoints:\n",
    "    display(P)"
   ]
  },
  {
   "cell_type": "code",
   "execution_count": 18,
   "metadata": {},
   "outputs": [
    {
     "data": {
      "text/latex": [
       "$\\displaystyle (- 2 d)\\mathbf{\\hat{i}_{N}}$"
      ],
      "text/plain": [
       "(-2⋅d) i_N"
      ]
     },
     "metadata": {},
     "output_type": "display_data"
    },
    {
     "data": {
      "text/latex": [
       "$\\displaystyle (- 2 d)\\mathbf{\\hat{j}_{N}}$"
      ],
      "text/plain": [
       "(-2⋅d) j_N"
      ]
     },
     "metadata": {},
     "output_type": "display_data"
    },
    {
     "data": {
      "text/latex": [
       "$\\displaystyle (d + n)\\mathbf{\\hat{i}_{N}}$"
      ],
      "text/plain": [
       "(d + n) i_N"
      ]
     },
     "metadata": {},
     "output_type": "display_data"
    },
    {
     "data": {
      "text/latex": [
       "$\\displaystyle (d + n)\\mathbf{\\hat{i}_{N}} + (- 2 d)\\mathbf{\\hat{j}_{N}}$"
      ],
      "text/plain": [
       "(d + n) i_N + (-2⋅d) j_N"
      ]
     },
     "metadata": {},
     "output_type": "display_data"
    },
    {
     "data": {
      "text/latex": [
       "$\\displaystyle (2 d + 2 n)\\mathbf{\\hat{j}_{N}}$"
      ],
      "text/plain": [
       "(2⋅d + 2⋅n) j_N"
      ]
     },
     "metadata": {},
     "output_type": "display_data"
    },
    {
     "data": {
      "text/latex": [
       "$\\displaystyle (- 2 d)\\mathbf{\\hat{i}_{N}} + (4 d + 2 n)\\mathbf{\\hat{j}_{N}}$"
      ],
      "text/plain": [
       "(-2⋅d) i_N + (4⋅d + 2⋅n) j_N"
      ]
     },
     "metadata": {},
     "output_type": "display_data"
    }
   ],
   "source": [
    "def Q12_1(n,d):\n",
    "    return (-2*d)*v1\n",
    "\n",
    "def Q12_2(n,d):\n",
    "    return (-2*d)*v2\n",
    "\n",
    "def Q23_2(n,d):\n",
    "    return (n+d)*v1\n",
    "\n",
    "def Q23_3(n,d):\n",
    "    return (n+d)*v1 - 2*d*v2\n",
    "\n",
    "def Q13_1(n,d):\n",
    "    return 2*(n+d)*v2\n",
    "\n",
    "def Q13_3(n,d):\n",
    "    return -2*d*v1 + 2*(n+2*d)*v2\n",
    "\n",
    "# Define the term which is summed over each fixed point,\n",
    "# representing the character for the representation\n",
    "\n",
    "def P(P, edge1, edge2, edge3, edge4):\n",
    "    return exp( Phi.dot(P) ) / ( (1 - exp( Phi.dot(edge1) ) ) * ( 1 - exp( Phi.dot(edge2) ) ) * ( 1 - exp( Phi.dot(edge3) ) ) * ( 1 - exp( Phi.dot(edge4) ) ) )\n",
    "\n",
    "\n",
    "def Q(P, edge1, edge2):\n",
    "    return exp( Phi.dot(P) ) / ( (1 - exp( Phi.dot(edge1) ) ) * ( 1 - exp( Phi.dot(edge2) ) ) )\n",
    "\n",
    "def Exp(p, q):\n",
    "    return exp( 2*pi*I*Rational(p,q) )\n",
    "\n",
    "def gExp(g, P):\n",
    "    return exp( 2*pi*I*g.dot(P) )\n",
    "\n",
    "def OrbiFactor(p, q, edge):\n",
    "    return ( 1 - ( Exp(p,q) * exp( Rational(p,q) * Phi.dot(edge) ) ) )\n",
    "\n",
    "def OrbiSum(Q, p, q, edge1, edge2, edge3, edge4):\n",
    "    return ( Rational(1,q) * exp( Phi.dot(Q) ) ) / ( (1 - ( Exp(p,q) * exp( Rational(1,q) * Phi.dot(edge1) ) ) ) * (1 - ( Exp(p,q) * exp( Rational(1,q) * Phi.dot(edge2) ) ) ) * (1 - ( Exp(p,q) * exp( Rational(1,q) * Phi.dot(edge3) ) ) ) * (1 - ( Exp(p,q) * exp( Rational(1,q) * Phi.dot(edge4) ) ) ) ) \n",
    "\n",
    "def gOrbiSum(Q, q, g, edge1, edge2, edge3, edge4):\n",
    "    return ( Rational(1,q) * exp( Phi.dot(Q) ) ) / ( (1 - ( gExp(g,edge1) * exp( Phi.dot(edge1) ) ) ) * (1 - ( gExp(g,edge2) * exp( Phi.dot(edge2) ) ) ) * (1 - ( gExp(g,edge3) * exp( Phi.dot(edge3) ) ) ) * (1 - ( gExp(g,edge4) * exp( Phi.dot(edge4) ) ) ) ) \n",
    "\n",
    "def OrbiHalfSum(Q, p, q, edge1, edge2, edge3, edge4):\n",
    "    return ( Rational(1,q) * exp( Phi.dot(Q) )  ) / ( (1 - ( Exp(p,q) * exp( Rational(1,q) * Phi.dot(edge1) ) ) ) * (1 - ( Exp(p,q) * exp( Rational(1,q) * Phi.dot(edge2) ) ) ) * (1 - ( Exp(p,q) * exp( Rational(1,q) * Phi.dot(edge3) ) ) ) * (1 - ( Exp(p,q) * exp( Rational(1,q) * Phi.dot(edge4) ) ) ) ) \n",
    "\n",
    "boundaryPoints = [Q12_1(n,d), Q12_2(n,d), Q23_2(n,d), Q23_3(n,d), Q13_1(n,d), Q13_3(n,d)]\n",
    "\n",
    "for Q in boundaryPoints:\n",
    "    display(Q)"
   ]
  },
  {
   "cell_type": "code",
   "execution_count": 19,
   "metadata": {},
   "outputs": [
    {
     "data": {
      "text/latex": [
       "$\\displaystyle \\frac{e^{n t}}{2 \\cdot \\left(1 + e^{- \\frac{5 t}{2}}\\right) \\left(1 + e^{- \\frac{t}{2}}\\right) \\left(e^{\\frac{t}{2}} + 1\\right) \\left(e^{\\frac{5 t}{2}} + 1\\right)} + \\frac{e^{n t}}{2 \\cdot \\left(1 - e^{- \\frac{5 t}{2}}\\right) \\left(1 - e^{- \\frac{t}{2}}\\right) \\left(1 - e^{\\frac{t}{2}}\\right) \\left(1 - e^{\\frac{5 t}{2}}\\right)} + \\frac{1}{\\left(1 - e^{- 3 t}\\right) \\left(1 - e^{- t}\\right) \\left(1 - e^{t}\\right) \\left(1 - e^{3 t}\\right)} + \\frac{e^{6 n t}}{\\left(1 - e^{- 5 t}\\right) \\left(1 - e^{- 3 t}\\right) \\left(1 - e^{3 t}\\right) \\left(1 - e^{5 t}\\right)}$"
      ],
      "text/plain": [
       "                      n⋅t                                             n⋅t     \n",
       "                     ℯ                                               ℯ        \n",
       "───────────────────────────────────────────── + ──────────────────────────────\n",
       "  ⎛     -5⋅t ⎞ ⎛     -t ⎞ ⎛ t    ⎞ ⎛ 5⋅t    ⎞     ⎛     -5⋅t ⎞ ⎛     -t ⎞ ⎛   \n",
       "  ⎜     ─────⎟ ⎜     ───⎟ ⎜ ─    ⎟ ⎜ ───    ⎟     ⎜     ─────⎟ ⎜     ───⎟ ⎜   \n",
       "  ⎜       2  ⎟ ⎜      2 ⎟ ⎜ 2    ⎟ ⎜  2     ⎟     ⎜       2  ⎟ ⎜      2 ⎟ ⎜   \n",
       "2⋅⎝1 + ℯ     ⎠⋅⎝1 + ℯ   ⎠⋅⎝ℯ  + 1⎠⋅⎝ℯ    + 1⎠   2⋅⎝1 - ℯ     ⎠⋅⎝1 - ℯ   ⎠⋅⎝1 -\n",
       "\n",
       "                                                                              \n",
       "                                      1                                       \n",
       "─────────────── + ───────────────────────────────────────── + ────────────────\n",
       "  t⎞ ⎛     5⋅t⎞   ⎛     -3⋅t⎞ ⎛     -t⎞ ⎛     t⎞ ⎛     3⋅t⎞   ⎛     -5⋅t⎞ ⎛   \n",
       "  ─⎟ ⎜     ───⎟   ⎝1 - ℯ    ⎠⋅⎝1 - ℯ  ⎠⋅⎝1 - ℯ ⎠⋅⎝1 - ℯ   ⎠   ⎝1 - ℯ    ⎠⋅⎝1 -\n",
       "  2⎟ ⎜      2 ⎟                                                               \n",
       " ℯ ⎠⋅⎝1 - ℯ   ⎠                                                               \n",
       "\n",
       "     6⋅n⋅t                   \n",
       "    ℯ                        \n",
       "─────────────────────────────\n",
       "  -3⋅t⎞ ⎛     3⋅t⎞ ⎛     5⋅t⎞\n",
       " ℯ    ⎠⋅⎝1 - ℯ   ⎠⋅⎝1 - ℯ   ⎠\n",
       "                             \n",
       "                             "
      ]
     },
     "execution_count": 19,
     "metadata": {},
     "output_type": "execute_result"
    }
   ],
   "source": [
    "def TermP12(n):\n",
    "    return P(P12(n), v1, v2, -v1, -v2)\n",
    "\n",
    "def TermP13(n):\n",
    "    return P(P13(n), v1 - 2*v2, -v2, -v1 + 2*v2, v2)\n",
    "\n",
    "def TermP23(n):\n",
    "    return gOrbiSum(P23(n), 2, Vector.zero, Rational(1,2)*v1 - v2, Rational(1,2)*v1, -Rational(1,2)*v1 + v2, -Rational(1,2)*v1) + gOrbiSum(P23(n), 2, -v1, Rational(1,2)*v1 - v2, Rational(1,2)*v1, -Rational(1,2)*v1 + v2, -Rational(1,2)*v1)\n",
    "\n",
    "def InteriorSum(n):\n",
    "    return TermP12(n) + TermP23(n) + TermP13(n)\n",
    "\n",
    "InteriorSum(n)"
   ]
  },
  {
   "cell_type": "code",
   "execution_count": 20,
   "metadata": {},
   "outputs": [],
   "source": [
    "def TermQ12_1(n,d):\n",
    "    return P(Q12_1(n,d), v1, v1, v2, v1 - v2)\n",
    "\n",
    "def TermQ12_2(n,d):\n",
    "    return P(Q12_2(n,d), v2, v2, v1, -v1 + v2)\n",
    "\n",
    "def TermQ13_1(n,d):\n",
    "    return P(Q13_1(n,d), -v2, -v2, v1 - 2*v2, -v1 + v2)\n",
    "\n",
    "def TermQ13_3(n,d):\n",
    "    return P(Q13_3(n,d), v1 - 2*v2, v1 - 2*v2, v1 - v2, -v2)\n",
    "\n",
    "# Q23_2 is an orbifold point of order 2:\n",
    "\n",
    "def TermQ23_2(n,d):\n",
    "    return gOrbiSum(Q23_2(n,d), 2, Vector.zero, -Rational(1,2)*v1, -Rational(1,2)*v1, -Rational(1,2)*v1 + v2, -v2) + gOrbiSum(Q23_2(n,d), 2, -v1, -Rational(1,2)*v1, -Rational(1,2)*v1, -Rational(1,2)*v1 + v2, -v2)\n",
    "\n",
    "# Q23_3 is an orbifold point of order 2:\n",
    "\n",
    "def TermQ23_3(n,d):\n",
    "    return gOrbiSum(Q23_3(n,d), 2, Vector.zero, -Rational(1,2)*v1 + v2, -Rational(1,2)*v1 + v2, -Rational(1,2)*v1, v2) + gOrbiSum(Q23_3(n,d), 2, -v1, -Rational(1,2)*v1 + v2, -Rational(1,2)*v1 + v2, -Rational(1,2)*v1, v2)"
   ]
  },
  {
   "cell_type": "code",
   "execution_count": 21,
   "metadata": {},
   "outputs": [
    {
     "data": {
      "text/latex": [
       "$\\displaystyle \\frac{e^{t \\left(d + n\\right)}}{2 \\cdot \\left(1 - e^{- 3 t}\\right) \\left(1 + e^{- \\frac{t}{2}}\\right)^{2} \\left(e^{\\frac{5 t}{2}} + 1\\right)} + \\frac{e^{t \\left(d + n\\right)}}{2 \\cdot \\left(1 - e^{- 3 t}\\right) \\left(1 - e^{- \\frac{t}{2}}\\right)^{2} \\cdot \\left(1 - e^{\\frac{5 t}{2}}\\right)}$"
      ],
      "text/plain": [
       "              t⋅(d + n)                              t⋅(d + n)             \n",
       "             ℯ                                      ℯ                      \n",
       "──────────────────────────────────── + ────────────────────────────────────\n",
       "                        2                                      2           \n",
       "              ⎛     -t ⎞  ⎛ 5⋅t    ⎞                 ⎛     -t ⎞  ⎛     5⋅t⎞\n",
       "              ⎜     ───⎟  ⎜ ───    ⎟                 ⎜     ───⎟  ⎜     ───⎟\n",
       "  ⎛     -3⋅t⎞ ⎜      2 ⎟  ⎜  2     ⎟     ⎛     -3⋅t⎞ ⎜      2 ⎟  ⎜      2 ⎟\n",
       "2⋅⎝1 - ℯ    ⎠⋅⎝1 + ℯ   ⎠ ⋅⎝ℯ    + 1⎠   2⋅⎝1 - ℯ    ⎠⋅⎝1 - ℯ   ⎠ ⋅⎝1 - ℯ   ⎠"
      ]
     },
     "metadata": {},
     "output_type": "display_data"
    },
    {
     "data": {
      "text/latex": [
       "$\\displaystyle \\frac{e^{- 6 d t + t \\left(d + n\\right)}}{2 \\cdot \\left(1 + e^{- \\frac{t}{2}}\\right) \\left(1 - e^{3 t}\\right) \\left(e^{\\frac{5 t}{2}} + 1\\right)^{2}} + \\frac{e^{- 6 d t + t \\left(d + n\\right)}}{2 \\cdot \\left(1 - e^{- \\frac{t}{2}}\\right) \\left(1 - e^{\\frac{5 t}{2}}\\right)^{2} \\cdot \\left(1 - e^{3 t}\\right)}$"
      ],
      "text/plain": [
       "         -6⋅d⋅t + t⋅(d + n)                    -6⋅d⋅t + t⋅(d + n)        \n",
       "        ℯ                                     ℯ                          \n",
       "─────────────────────────────────── + ───────────────────────────────────\n",
       "                                  2                          2           \n",
       "  ⎛     -t ⎞            ⎛ 5⋅t    ⎞      ⎛     -t ⎞ ⎛     5⋅t⎞            \n",
       "  ⎜     ───⎟            ⎜ ───    ⎟      ⎜     ───⎟ ⎜     ───⎟            \n",
       "  ⎜      2 ⎟ ⎛     3⋅t⎞ ⎜  2     ⎟      ⎜      2 ⎟ ⎜      2 ⎟  ⎛     3⋅t⎞\n",
       "2⋅⎝1 + ℯ   ⎠⋅⎝1 - ℯ   ⎠⋅⎝ℯ    + 1⎠    2⋅⎝1 - ℯ   ⎠⋅⎝1 - ℯ   ⎠ ⋅⎝1 - ℯ   ⎠"
      ]
     },
     "metadata": {},
     "output_type": "display_data"
    }
   ],
   "source": [
    "display( TermQ23_2(n,d) )\n",
    "display( TermQ23_3(n,d) )"
   ]
  },
  {
   "cell_type": "code",
   "execution_count": 22,
   "metadata": {},
   "outputs": [
    {
     "data": {
      "text/latex": [
       "$\\displaystyle \\frac{e^{- 6 d t}}{\\left(1 - e^{t}\\right) \\left(1 - e^{2 t}\\right) \\left(1 - e^{3 t}\\right)^{2}} + \\frac{e^{- 6 d t + t \\left(d + n\\right)}}{2 \\cdot \\left(1 + e^{- \\frac{t}{2}}\\right) \\left(1 - e^{3 t}\\right) \\left(e^{\\frac{5 t}{2}} + 1\\right)^{2}} + \\frac{e^{- 6 d t + t \\left(d + n\\right)}}{2 \\cdot \\left(1 - e^{- \\frac{t}{2}}\\right) \\left(1 - e^{\\frac{5 t}{2}}\\right)^{2} \\cdot \\left(1 - e^{3 t}\\right)} + \\frac{e^{- 2 d t}}{\\left(1 - e^{- 2 t}\\right) \\left(1 - e^{t}\\right)^{2} \\cdot \\left(1 - e^{3 t}\\right)} + \\frac{e^{t \\left(d + n\\right)}}{2 \\cdot \\left(1 - e^{- 3 t}\\right) \\left(1 + e^{- \\frac{t}{2}}\\right)^{2} \\left(e^{\\frac{5 t}{2}} + 1\\right)} + \\frac{e^{t \\left(d + n\\right)}}{2 \\cdot \\left(1 - e^{- 3 t}\\right) \\left(1 - e^{- \\frac{t}{2}}\\right)^{2} \\cdot \\left(1 - e^{\\frac{5 t}{2}}\\right)} + \\frac{e^{3 t \\left(2 d + 2 n\\right)}}{\\left(1 - e^{- 5 t}\\right) \\left(1 - e^{- 3 t}\\right)^{2} \\cdot \\left(1 - e^{2 t}\\right)} + \\frac{e^{- 2 d t + 3 t \\left(4 d + 2 n\\right)}}{\\left(1 - e^{- 5 t}\\right)^{2} \\cdot \\left(1 - e^{- 3 t}\\right) \\left(1 - e^{- 2 t}\\right)}$"
      ],
      "text/plain": [
       "             -6⋅d⋅t                        -6⋅d⋅t + t⋅(d + n)                 \n",
       "            ℯ                             ℯ                                   \n",
       "─────────────────────────────── + ─────────────────────────────────── + ──────\n",
       "                              2                                     2         \n",
       "⎛     t⎞ ⎛     2⋅t⎞ ⎛     3⋅t⎞      ⎛     -t ⎞            ⎛ 5⋅t    ⎞      ⎛   \n",
       "⎝1 - ℯ ⎠⋅⎝1 - ℯ   ⎠⋅⎝1 - ℯ   ⎠      ⎜     ───⎟            ⎜ ───    ⎟      ⎜   \n",
       "                                    ⎜      2 ⎟ ⎛     3⋅t⎞ ⎜  2     ⎟      ⎜   \n",
       "                                  2⋅⎝1 + ℯ   ⎠⋅⎝1 - ℯ   ⎠⋅⎝ℯ    + 1⎠    2⋅⎝1 -\n",
       "\n",
       "   -6⋅d⋅t + t⋅(d + n)                        -2⋅d⋅t                           \n",
       "  ℯ                                         ℯ                                 \n",
       "───────────────────────────── + ──────────────────────────────── + ───────────\n",
       "                 2                                  2                         \n",
       "  -t ⎞ ⎛     5⋅t⎞               ⎛     -2⋅t⎞ ⎛     t⎞  ⎛     3⋅t⎞              \n",
       "  ───⎟ ⎜     ───⎟               ⎝1 - ℯ    ⎠⋅⎝1 - ℯ ⎠ ⋅⎝1 - ℯ   ⎠              \n",
       "   2 ⎟ ⎜      2 ⎟  ⎛     3⋅t⎞                                        ⎛     -3⋅\n",
       " ℯ   ⎠⋅⎝1 - ℯ   ⎠ ⋅⎝1 - ℯ   ⎠                                      2⋅⎝1 - ℯ   \n",
       "\n",
       "   t⋅(d + n)                              t⋅(d + n)                           \n",
       "  ℯ                                      ℯ                                   ℯ\n",
       "───────────────────────── + ──────────────────────────────────── + ───────────\n",
       "             2                                      2                         \n",
       "   ⎛     -t ⎞  ⎛ 5⋅t    ⎞                 ⎛     -t ⎞  ⎛     5⋅t⎞   ⎛     -5⋅t⎞\n",
       "   ⎜     ───⎟  ⎜ ───    ⎟                 ⎜     ───⎟  ⎜     ───⎟   ⎝1 - ℯ    ⎠\n",
       "t⎞ ⎜      2 ⎟  ⎜  2     ⎟     ⎛     -3⋅t⎞ ⎜      2 ⎟  ⎜      2 ⎟              \n",
       " ⎠⋅⎝1 + ℯ   ⎠ ⋅⎝ℯ    + 1⎠   2⋅⎝1 - ℯ    ⎠⋅⎝1 - ℯ   ⎠ ⋅⎝1 - ℯ   ⎠              \n",
       "\n",
       "3⋅t⋅(2⋅d + 2⋅n)                  -2⋅d⋅t + 3⋅t⋅(4⋅d + 2⋅n)      \n",
       "                                ℯ                              \n",
       "──────────────────────── + ────────────────────────────────────\n",
       "            2                         2                        \n",
       " ⎛     -3⋅t⎞  ⎛     2⋅t⎞   ⎛     -5⋅t⎞  ⎛     -3⋅t⎞ ⎛     -2⋅t⎞\n",
       "⋅⎝1 - ℯ    ⎠ ⋅⎝1 - ℯ   ⎠   ⎝1 - ℯ    ⎠ ⋅⎝1 - ℯ    ⎠⋅⎝1 - ℯ    ⎠\n",
       "                                                               \n",
       "                                                               "
      ]
     },
     "execution_count": 22,
     "metadata": {},
     "output_type": "execute_result"
    }
   ],
   "source": [
    "def InteriorSum(n):\n",
    "    return TermP12(n) + TermP23(n) + TermP13(n)\n",
    "\n",
    "def ExteriorSum(n,d):\n",
    "    return TermQ12_1(n,d) + TermQ12_2(n,d) + TermQ23_2(n,d) + TermQ23_3(n,d) + TermQ13_1(n,d) + TermQ13_3(n,d)\n",
    "\n",
    "ExteriorSum(n,d)"
   ]
  },
  {
   "cell_type": "code",
   "execution_count": 23,
   "metadata": {},
   "outputs": [
    {
     "data": {
      "text/latex": [
       "$\\displaystyle \\frac{e^{- 6 d t}}{\\left(1 - e^{t}\\right) \\left(1 - e^{2 t}\\right) \\left(1 - e^{3 t}\\right)^{2}} + \\frac{e^{- 6 d t + t \\left(d + n\\right)}}{2 \\cdot \\left(1 + e^{- \\frac{t}{2}}\\right) \\left(1 - e^{3 t}\\right) \\left(e^{\\frac{5 t}{2}} + 1\\right)^{2}} + \\frac{e^{- 6 d t + t \\left(d + n\\right)}}{2 \\cdot \\left(1 - e^{- \\frac{t}{2}}\\right) \\left(1 - e^{\\frac{5 t}{2}}\\right)^{2} \\cdot \\left(1 - e^{3 t}\\right)} + \\frac{e^{- 2 d t}}{\\left(1 - e^{- 2 t}\\right) \\left(1 - e^{t}\\right)^{2} \\cdot \\left(1 - e^{3 t}\\right)} + \\frac{e^{n t}}{2 \\cdot \\left(1 + e^{- \\frac{5 t}{2}}\\right) \\left(1 + e^{- \\frac{t}{2}}\\right) \\left(e^{\\frac{t}{2}} + 1\\right) \\left(e^{\\frac{5 t}{2}} + 1\\right)} + \\frac{e^{n t}}{2 \\cdot \\left(1 - e^{- \\frac{5 t}{2}}\\right) \\left(1 - e^{- \\frac{t}{2}}\\right) \\left(1 - e^{\\frac{t}{2}}\\right) \\left(1 - e^{\\frac{5 t}{2}}\\right)} + \\frac{e^{t \\left(d + n\\right)}}{2 \\cdot \\left(1 - e^{- 3 t}\\right) \\left(1 + e^{- \\frac{t}{2}}\\right)^{2} \\left(e^{\\frac{5 t}{2}} + 1\\right)} + \\frac{e^{t \\left(d + n\\right)}}{2 \\cdot \\left(1 - e^{- 3 t}\\right) \\left(1 - e^{- \\frac{t}{2}}\\right)^{2} \\cdot \\left(1 - e^{\\frac{5 t}{2}}\\right)} + \\frac{1}{\\left(1 - e^{- 3 t}\\right) \\left(1 - e^{- t}\\right) \\left(1 - e^{t}\\right) \\left(1 - e^{3 t}\\right)} + \\frac{e^{6 n t}}{\\left(1 - e^{- 5 t}\\right) \\left(1 - e^{- 3 t}\\right) \\left(1 - e^{3 t}\\right) \\left(1 - e^{5 t}\\right)} + \\frac{e^{3 t \\left(2 d + 2 n\\right)}}{\\left(1 - e^{- 5 t}\\right) \\left(1 - e^{- 3 t}\\right)^{2} \\cdot \\left(1 - e^{2 t}\\right)} + \\frac{e^{- 2 d t + 3 t \\left(4 d + 2 n\\right)}}{\\left(1 - e^{- 5 t}\\right)^{2} \\cdot \\left(1 - e^{- 3 t}\\right) \\left(1 - e^{- 2 t}\\right)}$"
      ],
      "text/plain": [
       "             -6⋅d⋅t                        -6⋅d⋅t + t⋅(d + n)                 \n",
       "            ℯ                             ℯ                                   \n",
       "─────────────────────────────── + ─────────────────────────────────── + ──────\n",
       "                              2                                     2         \n",
       "⎛     t⎞ ⎛     2⋅t⎞ ⎛     3⋅t⎞      ⎛     -t ⎞            ⎛ 5⋅t    ⎞      ⎛   \n",
       "⎝1 - ℯ ⎠⋅⎝1 - ℯ   ⎠⋅⎝1 - ℯ   ⎠      ⎜     ───⎟            ⎜ ───    ⎟      ⎜   \n",
       "                                    ⎜      2 ⎟ ⎛     3⋅t⎞ ⎜  2     ⎟      ⎜   \n",
       "                                  2⋅⎝1 + ℯ   ⎠⋅⎝1 - ℯ   ⎠⋅⎝ℯ    + 1⎠    2⋅⎝1 -\n",
       "\n",
       "   -6⋅d⋅t + t⋅(d + n)                        -2⋅d⋅t                           \n",
       "  ℯ                                         ℯ                                 \n",
       "───────────────────────────── + ──────────────────────────────── + ───────────\n",
       "                 2                                  2                ⎛     -5⋅\n",
       "  -t ⎞ ⎛     5⋅t⎞               ⎛     -2⋅t⎞ ⎛     t⎞  ⎛     3⋅t⎞     ⎜     ───\n",
       "  ───⎟ ⎜     ───⎟               ⎝1 - ℯ    ⎠⋅⎝1 - ℯ ⎠ ⋅⎝1 - ℯ   ⎠     ⎜       2\n",
       "   2 ⎟ ⎜      2 ⎟  ⎛     3⋅t⎞                                      2⋅⎝1 + ℯ   \n",
       " ℯ   ⎠⋅⎝1 - ℯ   ⎠ ⋅⎝1 - ℯ   ⎠                                                 \n",
       "\n",
       "           n⋅t                                             n⋅t                \n",
       "          ℯ                                               ℯ                   \n",
       "────────────────────────────────── + ─────────────────────────────────────────\n",
       "t ⎞ ⎛     -t ⎞ ⎛ t    ⎞ ⎛ 5⋅t    ⎞     ⎛     -5⋅t ⎞ ⎛     -t ⎞ ⎛     t⎞ ⎛     \n",
       "──⎟ ⎜     ───⎟ ⎜ ─    ⎟ ⎜ ───    ⎟     ⎜     ─────⎟ ⎜     ───⎟ ⎜     ─⎟ ⎜     \n",
       "  ⎟ ⎜      2 ⎟ ⎜ 2    ⎟ ⎜  2     ⎟     ⎜       2  ⎟ ⎜      2 ⎟ ⎜     2⎟ ⎜     \n",
       "  ⎠⋅⎝1 + ℯ   ⎠⋅⎝ℯ  + 1⎠⋅⎝ℯ    + 1⎠   2⋅⎝1 - ℯ     ⎠⋅⎝1 - ℯ   ⎠⋅⎝1 - ℯ ⎠⋅⎝1 - ℯ\n",
       "                                                                              \n",
       "\n",
       "                     t⋅(d + n)                              t⋅(d + n)         \n",
       "                    ℯ                                      ℯ                  \n",
       "──── + ──────────────────────────────────── + ────────────────────────────────\n",
       "5⋅t⎞                           2                                      2       \n",
       "───⎟                 ⎛     -t ⎞  ⎛ 5⋅t    ⎞                 ⎛     -t ⎞  ⎛     \n",
       " 2 ⎟                 ⎜     ───⎟  ⎜ ───    ⎟                 ⎜     ───⎟  ⎜     \n",
       "   ⎠     ⎛     -3⋅t⎞ ⎜      2 ⎟  ⎜  2     ⎟     ⎛     -3⋅t⎞ ⎜      2 ⎟  ⎜     \n",
       "       2⋅⎝1 - ℯ    ⎠⋅⎝1 + ℯ   ⎠ ⋅⎝ℯ    + 1⎠   2⋅⎝1 - ℯ    ⎠⋅⎝1 - ℯ   ⎠ ⋅⎝1 - ℯ\n",
       "\n",
       "                                                                        6⋅n⋅t \n",
       "                           1                                           ℯ      \n",
       "──── + ───────────────────────────────────────── + ───────────────────────────\n",
       "       ⎛     -3⋅t⎞ ⎛     -t⎞ ⎛     t⎞ ⎛     3⋅t⎞   ⎛     -5⋅t⎞ ⎛     -3⋅t⎞ ⎛  \n",
       "5⋅t⎞   ⎝1 - ℯ    ⎠⋅⎝1 - ℯ  ⎠⋅⎝1 - ℯ ⎠⋅⎝1 - ℯ   ⎠   ⎝1 - ℯ    ⎠⋅⎝1 - ℯ    ⎠⋅⎝1 \n",
       "───⎟                                                                          \n",
       " 2 ⎟                                                                          \n",
       "   ⎠                                                                          \n",
       "\n",
       "                                3⋅t⋅(2⋅d + 2⋅n)                  -2⋅d⋅t + 3⋅t⋅\n",
       "                               ℯ                                ℯ             \n",
       "────────────────── + ─────────────────────────────────── + ───────────────────\n",
       "   3⋅t⎞ ⎛     5⋅t⎞                          2                         2       \n",
       "- ℯ   ⎠⋅⎝1 - ℯ   ⎠   ⎛     -5⋅t⎞ ⎛     -3⋅t⎞  ⎛     2⋅t⎞   ⎛     -5⋅t⎞  ⎛     \n",
       "                     ⎝1 - ℯ    ⎠⋅⎝1 - ℯ    ⎠ ⋅⎝1 - ℯ   ⎠   ⎝1 - ℯ    ⎠ ⋅⎝1 - ℯ\n",
       "                                                                              \n",
       "                                                                              \n",
       "\n",
       "(4⋅d + 2⋅n)      \n",
       "                 \n",
       "─────────────────\n",
       "                 \n",
       "-3⋅t⎞ ⎛     -2⋅t⎞\n",
       "    ⎠⋅⎝1 - ℯ    ⎠\n",
       "                 \n",
       "                 "
      ]
     },
     "execution_count": 23,
     "metadata": {},
     "output_type": "execute_result"
    }
   ],
   "source": [
    "def TotalSum(n,d):\n",
    "    return InteriorSum(n) + ExteriorSum(n,d)\n",
    "\n",
    "TotalSum(n,d)"
   ]
  },
  {
   "cell_type": "code",
   "execution_count": 24,
   "metadata": {
    "tags": []
   },
   "outputs": [
    {
     "data": {
      "text/latex": [
       "$\\displaystyle 1 + t \\left(\\frac{8 d^{5}}{3} + \\frac{35 d^{4} n}{3} + 10 d^{4} + \\frac{40 d^{3} n^{2}}{3} + 35 d^{3} n + \\frac{41 d^{3}}{3} + \\frac{14 d^{2} n^{3}}{3} + 30 d^{2} n^{2} + \\frac{223 d^{2} n}{6} + 8 d^{2} + 7 d n^{3} + \\frac{65 d n^{2}}{3} + \\frac{33 d n}{2} + \\frac{5 d}{3} + \\frac{7 n^{3}}{3} + 5 n^{2} + \\frac{8 n}{3}\\right) + 2 n + n^{2} + \\frac{11 d}{2} + \\frac{26 d n}{3} + 3 d n^{2} + \\frac{71 d^{2}}{6} + 12 d^{2} n + 2 d^{2} n^{2} + 11 d^{3} + \\frac{16 d^{3} n}{3} + \\frac{11 d^{4}}{3} + O\\left(t^{2}\\right)$"
      ],
      "text/plain": [
       "      ⎛   5       4                 3  2                 3       2  3         \n",
       "      ⎜8⋅d    35⋅d ⋅n       4   40⋅d ⋅n        3     41⋅d    14⋅d ⋅n        2 \n",
       "1 + t⋅⎜──── + ─────── + 10⋅d  + ──────── + 35⋅d ⋅n + ───── + ──────── + 30⋅d ⋅\n",
       "      ⎝ 3        3                 3                   3        3             \n",
       "\n",
       "          2                           2                     3             ⎞   \n",
       " 2   223⋅d ⋅n      2        3   65⋅d⋅n    33⋅d⋅n   5⋅d   7⋅n       2   8⋅n⎟   \n",
       "n  + ──────── + 8⋅d  + 7⋅d⋅n  + ─────── + ────── + ─── + ──── + 5⋅n  + ───⎟ + \n",
       "        6                          3        2       3     3             3 ⎠   \n",
       "\n",
       "                                        2                                   3 \n",
       "       2   11⋅d   26⋅d⋅n        2   71⋅d        2        2  2       3   16⋅d ⋅\n",
       "2⋅n + n  + ──── + ────── + 3⋅d⋅n  + ───── + 12⋅d ⋅n + 2⋅d ⋅n  + 11⋅d  + ──────\n",
       "            2       3                 6                                    3  \n",
       "\n",
       "        4        \n",
       "n   11⋅d     ⎛ 2⎞\n",
       "─ + ───── + O⎝t ⎠\n",
       "      3          "
      ]
     },
     "execution_count": 24,
     "metadata": {},
     "output_type": "execute_result"
    }
   ],
   "source": [
    "series(TotalSum(n,d), t, 0, 2)"
   ]
  },
  {
   "cell_type": "code",
   "execution_count": 25,
   "metadata": {},
   "outputs": [
    {
     "data": {
      "text/latex": [
       "$\\displaystyle 1 + t \\left(\\frac{8 d^{5}}{3} + \\frac{35 d^{4} n}{3} + 10 d^{4} + \\frac{40 d^{3} n^{2}}{3} + 35 d^{3} n + \\frac{41 d^{3}}{3} + \\frac{14 d^{2} n^{3}}{3} + 30 d^{2} n^{2} + \\frac{223 d^{2} n}{6} + 8 d^{2} + 7 d n^{3} + \\frac{65 d n^{2}}{3} + \\frac{33 d n}{2} + \\frac{5 d}{3} + \\frac{7 n^{3}}{3} + 5 n^{2} + \\frac{8 n}{3}\\right) + t^{2} \\cdot \\left(\\frac{329 d^{6}}{30} + \\frac{152 d^{5} n}{5} + \\frac{987 d^{5}}{20} + \\frac{77 d^{4} n^{2}}{2} + 114 d^{4} n + \\frac{679 d^{4}}{8} + \\frac{232 d^{3} n^{3}}{9} + \\frac{231 d^{3} n^{2}}{2} + \\frac{1415 d^{3} n}{9} + 70 d^{3} + \\frac{43 d^{2} n^{4}}{6} + 58 d^{2} n^{3} + \\frac{1459 d^{2} n^{2}}{12} + 97 d^{2} n + \\frac{3379 d^{2}}{120} + \\frac{43 d n^{4}}{4} + \\frac{377 d n^{3}}{9} + \\frac{105 d n^{2}}{2} + \\frac{2269 d n}{90} + \\frac{93 d}{20} + \\frac{43 n^{4}}{12} + \\frac{29 n^{3}}{3} + \\frac{95 n^{2}}{12} + \\frac{11 n}{6}\\right) + t^{3} \\cdot \\left(\\frac{466 d^{7}}{45} + \\frac{4507 d^{6} n}{90} + \\frac{1631 d^{6}}{30} + \\frac{1316 d^{5} n^{2}}{15} + \\frac{4507 d^{5} n}{20} + \\frac{6679 d^{5}}{60} + \\frac{469 d^{4} n^{3}}{6} + 329 d^{4} n^{2} + \\frac{27871 d^{4} n}{72} + \\frac{1333 d^{4}}{12} + \\frac{346 d^{3} n^{4}}{9} + \\frac{469 d^{3} n^{3}}{2} + \\frac{8183 d^{3} n^{2}}{18} + \\frac{950 d^{3} n}{3} + \\frac{3247 d^{3}}{60} + \\frac{259 d^{2} n^{5}}{30} + \\frac{173 d^{2} n^{4}}{2} + \\frac{8875 d^{2} n^{3}}{36} + \\frac{565 d^{2} n^{2}}{2} + \\frac{44609 d^{2} n}{360} + \\frac{211 d^{2}}{20} + \\frac{259 d n^{5}}{20} + \\frac{2249 d n^{4}}{36} + 106 d n^{3} + \\frac{13513 d n^{2}}{180} + \\frac{1157 d n}{60} + \\frac{19 d}{90} + \\frac{259 n^{5}}{60} + \\frac{173 n^{4}}{12} + \\frac{569 n^{3}}{36} + \\frac{71 n^{2}}{12} + \\frac{19 n}{90}\\right) + t^{4} \\cdot \\left(\\frac{2573 d^{8}}{144} + \\frac{3442 d^{7} n}{45} + \\frac{2573 d^{7}}{24} + \\frac{27563 d^{6} n^{2}}{180} + \\frac{12047 d^{6} n}{30} + \\frac{184417 d^{6}}{720} + \\frac{7844 d^{5} n^{3}}{45} + \\frac{27563 d^{5} n^{2}}{40} + \\frac{148181 d^{5} n}{180} + \\frac{18533 d^{5}}{60} + \\frac{2821 d^{4} n^{4}}{24} + \\frac{1961 d^{4} n^{3}}{3} + \\frac{170287 d^{4} n^{2}}{144} + \\frac{3311 d^{4} n}{4} + \\frac{18707 d^{4}}{96} + \\frac{2074 d^{3} n^{5}}{45} + \\frac{2821 d^{3} n^{4}}{8} + \\frac{48791 d^{3} n^{3}}{54} + \\frac{5783 d^{3} n^{2}}{6} + \\frac{224143 d^{3} n}{540} + \\frac{2765 d^{3}}{48} + \\frac{311 d^{2} n^{6}}{36} + \\frac{1037 d^{2} n^{5}}{10} + \\frac{53371 d^{2} n^{4}}{144} + \\frac{3373 d^{2} n^{3}}{6} + \\frac{268703 d^{2} n^{2}}{720} + \\frac{1336 d^{2} n}{15} + \\frac{4991 d^{2}}{1440} + \\frac{311 d n^{6}}{24} + \\frac{13481 d n^{5}}{180} + \\frac{637 d n^{4}}{4} + \\frac{80977 d n^{3}}{540} + \\frac{13597 d n^{2}}{240} + \\frac{3283 d n}{1080} - \\frac{109 d}{80} + \\frac{311 n^{6}}{72} + \\frac{1037 n^{5}}{60} + \\frac{3413 n^{4}}{144} + \\frac{431 n^{3}}{36} + \\frac{11 n^{2}}{16} - \\frac{197 n}{360}\\right) + t^{5} \\cdot \\left(\\frac{2269 d^{9}}{135} + \\frac{7673 d^{8} n}{80} + \\frac{2269 d^{8}}{20} + \\frac{1137 d^{7} n^{2}}{5} + \\frac{23019 d^{7} n}{40} + \\frac{7417 d^{7}}{24} + \\frac{165899 d^{6} n^{3}}{540} + \\frac{23877 d^{6} n^{2}}{20} + \\frac{2968483 d^{6} n}{2160} + \\frac{10339 d^{6}}{24} + \\frac{11753 d^{5} n^{4}}{45} + \\frac{165899 d^{5} n^{3}}{120} + \\frac{881429 d^{5} n^{2}}{360} + \\frac{99181 d^{5} n}{60} + \\frac{25371 d^{5}}{80} + \\frac{16933 d^{4} n^{5}}{120} + \\frac{11753 d^{4} n^{4}}{12} + \\frac{1024783 d^{4} n^{3}}{432} + \\frac{19727 d^{4} n^{2}}{8} + \\frac{892315 d^{4} n}{864} + \\frac{26047 d^{4}}{240} + \\frac{6221 d^{3} n^{6}}{135} + \\frac{16933 d^{3} n^{5}}{40} + \\frac{292439 d^{3} n^{4}}{216} + \\frac{34781 d^{3} n^{3}}{18} + \\frac{268451 d^{3} n^{2}}{216} + \\frac{213499 d^{3} n}{720} + \\frac{14111 d^{3}}{2160} + \\frac{1333 d^{2} n^{7}}{180} + \\frac{6221 d^{2} n^{6}}{60} + \\frac{320347 d^{2} n^{5}}{720} + \\frac{20221 d^{2} n^{4}}{24} + \\frac{1613267 d^{2} n^{3}}{2160} + \\frac{8119 d^{2} n^{2}}{30} + \\frac{13921 d^{2} n}{864} - \\frac{809 d^{2}}{240} + \\frac{1333 d n^{7}}{120} + \\frac{80873 d n^{6}}{1080} + \\frac{3823 d n^{5}}{20} + \\frac{485761 d n^{4}}{2160} + \\frac{16259 d n^{3}}{144} + \\frac{4259 d n^{2}}{432} - \\frac{4351 d n}{720} - \\frac{43 d}{360} + \\frac{1333 n^{7}}{360} + \\frac{6221 n^{6}}{360} + \\frac{20477 n^{5}}{720} + \\frac{2591 n^{4}}{144} + \\frac{1003 n^{3}}{720} - \\frac{1337 n^{2}}{720} - \\frac{43 n}{360}\\right) + 2 n + n^{2} + \\frac{11 d}{2} + \\frac{26 d n}{3} + 3 d n^{2} + \\frac{71 d^{2}}{6} + 12 d^{2} n + 2 d^{2} n^{2} + 11 d^{3} + \\frac{16 d^{3} n}{3} + \\frac{11 d^{4}}{3} + O\\left(t^{6}\\right)$"
      ],
      "text/plain": [
       "      ⎛   5       4                 3  2                 3       2  3         \n",
       "      ⎜8⋅d    35⋅d ⋅n       4   40⋅d ⋅n        3     41⋅d    14⋅d ⋅n        2 \n",
       "1 + t⋅⎜──── + ─────── + 10⋅d  + ──────── + 35⋅d ⋅n + ───── + ──────── + 30⋅d ⋅\n",
       "      ⎝ 3        3                 3                   3        3             \n",
       "\n",
       "          2                           2                     3             ⎞   \n",
       " 2   223⋅d ⋅n      2        3   65⋅d⋅n    33⋅d⋅n   5⋅d   7⋅n       2   8⋅n⎟   \n",
       "n  + ──────── + 8⋅d  + 7⋅d⋅n  + ─────── + ────── + ─── + ──── + 5⋅n  + ───⎟ + \n",
       "        6                          3        2       3     3             3 ⎠   \n",
       "\n",
       "   ⎛     6        5          5       4  2                   4        3  3     \n",
       " 2 ⎜329⋅d    152⋅d ⋅n   987⋅d    77⋅d ⋅n         4     679⋅d    232⋅d ⋅n    23\n",
       "t ⋅⎜────── + ──────── + ────── + ──────── + 114⋅d ⋅n + ────── + ───────── + ──\n",
       "   ⎝  30        5         20        2                    8          9         \n",
       "\n",
       "   3  2         3                 2  4                    2  2                \n",
       "1⋅d ⋅n    1415⋅d ⋅n       3   43⋅d ⋅n        2  3   1459⋅d ⋅n        2     337\n",
       "─────── + ───────── + 70⋅d  + ──────── + 58⋅d ⋅n  + ────────── + 97⋅d ⋅n + ───\n",
       "  2           9                  6                      12                   1\n",
       "\n",
       "   2         4          3          2                         4       3       2\n",
       "9⋅d    43⋅d⋅n    377⋅d⋅n    105⋅d⋅n    2269⋅d⋅n   93⋅d   43⋅n    29⋅n    95⋅n \n",
       "──── + ─────── + ──────── + ──────── + ──────── + ──── + ───── + ───── + ─────\n",
       "20        4         9          2          90       20      12      3       12 \n",
       "\n",
       "       ⎞      ⎛     7         6           6         5  2         5           5\n",
       "   11⋅n⎟    3 ⎜466⋅d    4507⋅d ⋅n   1631⋅d    1316⋅d ⋅n    4507⋅d ⋅n   6679⋅d \n",
       " + ────⎟ + t ⋅⎜────── + ───────── + ─────── + ────────── + ───────── + ───────\n",
       "    6  ⎠      ⎝  45         90         30         15           20         60  \n",
       "\n",
       "        4  3                      4           4        3  4        3  3       \n",
       "   469⋅d ⋅n         4  2   27871⋅d ⋅n   1333⋅d    346⋅d ⋅n    469⋅d ⋅n    8183\n",
       " + ───────── + 329⋅d ⋅n  + ────────── + ─────── + ───────── + ───────── + ────\n",
       "       6                       72          12         9           2           \n",
       "\n",
       "  3  2        3           3        2  5        2  4         2  3        2  2  \n",
       "⋅d ⋅n    950⋅d ⋅n   3247⋅d    259⋅d ⋅n    173⋅d ⋅n    8875⋅d ⋅n    565⋅d ⋅n   \n",
       "────── + ──────── + ─────── + ───────── + ───────── + ────────── + ───────── +\n",
       "18          3          60         30          2           36           2      \n",
       "\n",
       "        2          2          5           4                       2           \n",
       " 44609⋅d ⋅n   211⋅d    259⋅d⋅n    2249⋅d⋅n           3   13513⋅d⋅n    1157⋅d⋅n\n",
       " ────────── + ────── + ──────── + ───────── + 106⋅d⋅n  + ────────── + ────────\n",
       "    360         20        20          36                    180          60   \n",
       "\n",
       "               5        4        3       2       ⎞      ⎛      8         7    \n",
       "   19⋅d   259⋅n    173⋅n    569⋅n    71⋅n    19⋅n⎟    4 ⎜2573⋅d    3442⋅d ⋅n  \n",
       " + ──── + ────── + ────── + ────── + ───── + ────⎟ + t ⋅⎜─────── + ───────── +\n",
       "    90      60       12       36       12     90 ⎠      ⎝  144         45     \n",
       "\n",
       "       7          6  2          6             6         5  3          5  2    \n",
       " 2573⋅d    27563⋅d ⋅n    12047⋅d ⋅n   184417⋅d    7844⋅d ⋅n    27563⋅d ⋅n    1\n",
       " ─────── + ─────────── + ────────── + ───────── + ────────── + ─────────── + ─\n",
       "    24         180           30          720          45            40        \n",
       "\n",
       "       5            5         4  4         4  3           4  2         4      \n",
       "48181⋅d ⋅n   18533⋅d    2821⋅d ⋅n    1961⋅d ⋅n    170287⋅d ⋅n    3311⋅d ⋅n   1\n",
       "────────── + ──────── + ────────── + ────────── + ──────────── + ───────── + ─\n",
       "   180          60          24           3            144            4        \n",
       "\n",
       "      4         3  5         3  4          3  3         3  2           3      \n",
       "8707⋅d    2074⋅d ⋅n    2821⋅d ⋅n    48791⋅d ⋅n    5783⋅d ⋅n    224143⋅d ⋅n   2\n",
       "─────── + ────────── + ────────── + ─────────── + ────────── + ─────────── + ─\n",
       "  96          45           8             54           6            540        \n",
       "\n",
       "     3        2  6         2  5          2  4         2  3           2  2     \n",
       "765⋅d    311⋅d ⋅n    1037⋅d ⋅n    53371⋅d ⋅n    3373⋅d ⋅n    268703⋅d ⋅n    13\n",
       "────── + ───────── + ────────── + ─────────── + ────────── + ──────────── + ──\n",
       "  48         36          10           144           6            720          \n",
       "\n",
       "    2           2          6            5          4            3            2\n",
       "36⋅d ⋅n   4991⋅d    311⋅d⋅n    13481⋅d⋅n    637⋅d⋅n    80977⋅d⋅n    13597⋅d⋅n \n",
       "─────── + ─────── + ──────── + ────────── + ──────── + ────────── + ──────────\n",
       "  15        1440       24         180          4          540          240    \n",
       "\n",
       "                           6         5         4        3       2        ⎞    \n",
       "   3283⋅d⋅n   109⋅d   311⋅n    1037⋅n    3413⋅n    431⋅n    11⋅n    197⋅n⎟    \n",
       " + ──────── - ───── + ────── + ─────── + ─────── + ────── + ───── - ─────⎟ + t\n",
       "     1080       80      72        60       144       36       16     360 ⎠    \n",
       "\n",
       "  ⎛      9         8           8         7  2          7           7          \n",
       "5 ⎜2269⋅d    7673⋅d ⋅n   2269⋅d    1137⋅d ⋅n    23019⋅d ⋅n   7417⋅d    165899⋅\n",
       " ⋅⎜─────── + ───────── + ─────── + ────────── + ────────── + ─────── + ───────\n",
       "  ⎝  135         80         20         5            40          24         540\n",
       "\n",
       " 6  3          6  2            6            6          5  4           5  3    \n",
       "d ⋅n    23877⋅d ⋅n    2968483⋅d ⋅n   10339⋅d    11753⋅d ⋅n    165899⋅d ⋅n    8\n",
       "───── + ─────────── + ──────────── + ──────── + ─────────── + ──────────── + ─\n",
       "             20           2160          24           45           120         \n",
       "\n",
       "       5  2          5            5          4  5          4  4            4  \n",
       "81429⋅d ⋅n    99181⋅d ⋅n   25371⋅d    16933⋅d ⋅n    11753⋅d ⋅n    1024783⋅d ⋅n\n",
       "─────────── + ────────── + ──────── + ─────────── + ─────────── + ────────────\n",
       "   360            60          80          120            12            432    \n",
       "\n",
       "3          4  2           4            4         3  6          3  5           \n",
       "    19727⋅d ⋅n    892315⋅d ⋅n   26047⋅d    6221⋅d ⋅n    16933⋅d ⋅n    292439⋅d\n",
       "─ + ─────────── + ─────────── + ──────── + ────────── + ─────────── + ────────\n",
       "         8            864         240         135            40           216 \n",
       "\n",
       "3  4          3  3           3  2           3            3         2  7       \n",
       " ⋅n    34781⋅d ⋅n    268451⋅d ⋅n    213499⋅d ⋅n   14111⋅d    1333⋅d ⋅n    6221\n",
       "──── + ─────────── + ──────────── + ─────────── + ──────── + ────────── + ────\n",
       "            18           216            720         2160        180           \n",
       "\n",
       "  2  6           2  5          2  4            2  3         2  2          2   \n",
       "⋅d ⋅n    320347⋅d ⋅n    20221⋅d ⋅n    1613267⋅d ⋅n    8119⋅d ⋅n    13921⋅d ⋅n \n",
       "────── + ──────────── + ─────────── + ───────────── + ────────── + ────────── \n",
       "60           720             24            2160           30          864     \n",
       "\n",
       "       2           7            6           5             4            3      \n",
       "  809⋅d    1333⋅d⋅n    80873⋅d⋅n    3823⋅d⋅n    485761⋅d⋅n    16259⋅d⋅n    425\n",
       "- ────── + ───────── + ────────── + ───────── + ─────────── + ────────── + ───\n",
       "   240        120         1080          20          2160         144          \n",
       "\n",
       "     2                           7         6          5         4         3   \n",
       "9⋅d⋅n    4351⋅d⋅n   43⋅d   1333⋅n    6221⋅n    20477⋅n    2591⋅n    1003⋅n    \n",
       "────── - ──────── - ──── + ─────── + ─────── + ──────── + ─────── + ─────── - \n",
       "432        720      360      360       360       720        144       720     \n",
       "\n",
       "      2       ⎞                                           2                   \n",
       "1337⋅n    43⋅n⎟          2   11⋅d   26⋅d⋅n        2   71⋅d        2        2  \n",
       "─────── - ────⎟ + 2⋅n + n  + ──── + ────── + 3⋅d⋅n  + ───── + 12⋅d ⋅n + 2⋅d ⋅n\n",
       "  720     360 ⎠               2       3                 6                     \n",
       "\n",
       "                3         4        \n",
       "2       3   16⋅d ⋅n   11⋅d     ⎛ 6⎞\n",
       "  + 11⋅d  + ─────── + ───── + O⎝t ⎠\n",
       "               3        3          "
      ]
     },
     "execution_count": 25,
     "metadata": {},
     "output_type": "execute_result"
    }
   ],
   "source": [
    "series(TotalSum(n,d), t, 0)"
   ]
  },
  {
   "cell_type": "code",
   "execution_count": 31,
   "metadata": {},
   "outputs": [
    {
     "name": "stdout",
     "output_type": "stream",
     "text": [
      "11*d**4/3 + 16*d**3*n/3 + 11*d**3 + 2*d**2*n**2 + 12*d**2*n + 71*d**2/6 + 3*d*n**2 + 26*d*n/3 + 11*d/2 + n**2 + 2*n + 1\n"
     ]
    },
    {
     "data": {
      "text/latex": [
       "$\\displaystyle \\frac{11 d^{4}}{3} + \\frac{16 d^{3} n}{3} + 11 d^{3} + 2 d^{2} n^{2} + 12 d^{2} n + \\frac{71 d^{2}}{6} + 3 d n^{2} + \\frac{26 d n}{3} + \\frac{11 d}{2} + n^{2} + 2 n + 1$"
      ],
      "text/plain": [
       "    4       3                                     2                           \n",
       "11⋅d    16⋅d ⋅n       3      2  2       2     71⋅d         2   26⋅d⋅n   11⋅d  \n",
       "───── + ─────── + 11⋅d  + 2⋅d ⋅n  + 12⋅d ⋅n + ───── + 3⋅d⋅n  + ────── + ──── +\n",
       "  3        3                                    6                3       2    \n",
       "\n",
       "             \n",
       "  2          \n",
       " n  + 2⋅n + 1\n",
       "             "
      ]
     },
     "metadata": {},
     "output_type": "display_data"
    },
    {
     "name": "stdout",
     "output_type": "stream",
     "text": [
      "None\n"
     ]
    }
   ],
   "source": [
    "print( limit(TotalSum(n,d), t, 0) )\n",
    "\n",
    "print( display( limit(TotalSum(n,d), t, 0) ) )"
   ]
  },
  {
   "cell_type": "code",
   "execution_count": 35,
   "metadata": {},
   "outputs": [
    {
     "data": {
      "text/latex": [
       "$\\displaystyle \\frac{11 d^{4}}{3} + \\frac{16 d^{3} n}{3} + 11 d^{3} + 2 d^{2} n^{2} + 12 d^{2} n + \\frac{71 d^{2}}{6} + 3 d n^{2} + \\frac{26 d n}{3} + \\frac{11 d}{2} + n^{2} + 2 n + 1$"
      ],
      "text/plain": [
       "    4       3                                     2                           \n",
       "11⋅d    16⋅d ⋅n       3      2  2       2     71⋅d         2   26⋅d⋅n   11⋅d  \n",
       "───── + ─────── + 11⋅d  + 2⋅d ⋅n  + 12⋅d ⋅n + ───── + 3⋅d⋅n  + ────── + ──── +\n",
       "  3        3                                    6                3       2    \n",
       "\n",
       "             \n",
       "  2          \n",
       " n  + 2⋅n + 1\n",
       "             "
      ]
     },
     "execution_count": 35,
     "metadata": {},
     "output_type": "execute_result"
    }
   ],
   "source": [
    "def Character(n,d):\n",
    "    return simplify( 11*d**4/3 + 16*d**3*n/3 + 11*d**3 + 2*d**2*n**2 + 12*d**2*n + 71*d**2/6 + 3*d*n**2 + 26*d*n/3 + 11*d/2 + n**2 + 2*n + 1 )\n",
    "\n",
    "Character(n,d)"
   ]
  },
  {
   "cell_type": "code",
   "execution_count": 36,
   "metadata": {},
   "outputs": [
    {
     "data": {
      "text/latex": [
       "$\\displaystyle n^{2} + 2 n + 1$"
      ],
      "text/plain": [
       " 2          \n",
       "n  + 2⋅n + 1"
      ]
     },
     "execution_count": 36,
     "metadata": {},
     "output_type": "execute_result"
    }
   ],
   "source": [
    "Character(n,0)"
   ]
  },
  {
   "cell_type": "code",
   "execution_count": null,
   "metadata": {},
   "outputs": [],
   "source": []
  }
 ],
 "metadata": {
  "kernelspec": {
   "display_name": "Python 3 (ipykernel)",
   "language": "python",
   "name": "python3"
  },
  "language_info": {
   "codemirror_mode": {
    "name": "ipython",
    "version": 3
   },
   "file_extension": ".py",
   "mimetype": "text/x-python",
   "name": "python",
   "nbconvert_exporter": "python",
   "pygments_lexer": "ipython3",
   "version": "3.10.3"
  }
 },
 "nbformat": 4,
 "nbformat_minor": 4
}
