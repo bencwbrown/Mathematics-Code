{
 "cells": [
  {
   "cell_type": "markdown",
   "metadata": {},
   "source": [
    "# Weighted Projective Line - 20/12/2021"
   ]
  },
  {
   "cell_type": "code",
   "execution_count": 37,
   "metadata": {},
   "outputs": [],
   "source": [
    "from sympy import *\n",
    "import numpy as np\n",
    "from sympy.vector import Vector\n",
    "from sympy.vector import CoordSys3D\n",
    "import IPython.display as disp\n",
    "\n",
    "N = CoordSys3D('N')\n",
    "\n",
    "t = symbols( 't')\n",
    "k = symbols('k', real = True)\n",
    "p, q, n, d = symbols('p q n d', integer=True)\n",
    "# init_printing(use_unicode=True)\n",
    "init_printing(use_latex='mathjax')\n",
    "\n",
    "# Basis for the edge/weight vectors for the points \n",
    "\n",
    "v1 = N.i\n",
    "\n",
    "v2 = N.j\n",
    "\n",
    "# Define the vector which is not parallel to any edge vector, which will tend to zero:\n",
    "\n",
    "Phi = t*(v1 + 3*v2)\n",
    "\n",
    "# Define the vertices of the general triangle:\n",
    "\n",
    "def P12(n,d):\n",
    "    return 0*v1\n",
    "\n",
    "def P23(n,d):\n",
    "    return n*v1\n",
    "\n",
    "def P13(n,d):\n",
    "    return 2*n*v2\n",
    "\n",
    "def P12_1(n,d):\n",
    "    return -2*d*v2\n",
    "\n",
    "def P12_2(n,d):\n",
    "    return -2*d*v1\n",
    "\n",
    "def P23_2(n,d):\n",
    "    return (n+d)*v1\n",
    "\n",
    "def P23_3(n,d):\n",
    "    return (n+d)*v1 - 2*d*v2\n",
    "\n",
    "def P13_1(n,d):\n",
    "    return (n + 2*d)*v2\n",
    "\n",
    "def P13_3(n,d):\n",
    "    return -2*d*v1 + (n + 4*d)*v2"
   ]
  },
  {
   "cell_type": "code",
   "execution_count": 42,
   "metadata": {},
   "outputs": [],
   "source": [
    "# Define the term which is summed over each fixed point,\n",
    "# representing the character for the representation\n",
    "\n",
    "# def P(P, edge1, edge2, edge3, edge4):\n",
    "#    return exp( Phi.dot(P) ) / ( (1 - exp( Phi.dot(edge1) ) ) * ( 1 - exp( Phi.dot(edge2) ) ) * ( 1 - exp( Phi.dot(edge3) ) ) * ( 1 - exp( Phi.dot(edge4) ) ) )\n",
    "\n",
    "def Q(P, edge1, edge2):\n",
    "    return exp( Phi.dot(P) ) / ( (1 - exp( Phi.dot(edge1) ) ) * ( 1 - exp( Phi.dot(edge2) ) ) )\n",
    "\n",
    "def Exp(p, q):\n",
    "    return exp( 2*pi*I*Rational(p,q) )\n",
    "\n",
    "# Term for the orbifold points:\n",
    "\n",
    "#def UnityRootTerm(P, p, q, edge1, edge2):\n",
    "#    return ( Rational(1,q) * exp( Phi.dot(P) / q ) ) / ( (1 - ( Exp(p,q) * exp(  Phi.dot(edge1) ) ) ) * ( 1 - ( Exp(p,q) * exp( Rational(1,q) * Phi.dot(edge2) ) ) ) )\n",
    "\n",
    "def SmoothTerm(P, edge1, edge2):\n",
    "    return exp( Phi.dot(P) / ( ( 1 -  exp( Phi.dot(edge1) ) ) * ( 1 -  exp( Phi.dot(edge2) ) ) )\n",
    "    \n",
    "def UnityRootTerm(P, p, q, edge1, edge2):\n",
    "    return ( ( exp( Phi.dot(P) ) / q ) ) / ( (1 - ( (Exp(p,q) * exp( Rational(1,q) * Phi.dot(edge1) ) ) ) ) * ( 1 - ( Exp(p,q) * exp( Rational(1,q) * Phi.dot(edge2) ) ) ) )\n",
    "\n",
    "# Iterates the sum over each q-th root of unity:\n",
    "\n",
    "def OrbiCharacter(P, q, edge1, edge2):\n",
    "    return sum([UnityRootTerm(P, k, q, edge1, edge2) for k in range(0,q)])"
   ]
  },
  {
   "cell_type": "code",
   "execution_count": 43,
   "metadata": {},
   "outputs": [
    {
     "data": {
      "text/latex": [
       "$\\displaystyle \\frac{e^{n t}}{2 \\left(1 + e^{- \\frac{t}{2}}\\right) \\left(e^{\\frac{5 t}{2}} + 1\\right)} + \\frac{e^{n t}}{2 \\left(1 - e^{- \\frac{t}{2}}\\right) \\left(1 - e^{\\frac{5 t}{2}}\\right)}$"
      ],
      "text/plain": [
       "           n⋅t                       n⋅t         \n",
       "          ℯ                         ℯ            \n",
       "─────────────────────── + ───────────────────────\n",
       "  ⎛     -t ⎞ ⎛ 5⋅t    ⎞     ⎛     -t ⎞ ⎛     5⋅t⎞\n",
       "  ⎜     ───⎟ ⎜ ───    ⎟     ⎜     ───⎟ ⎜     ───⎟\n",
       "  ⎜      2 ⎟ ⎜  2     ⎟     ⎜      2 ⎟ ⎜      2 ⎟\n",
       "2⋅⎝1 + ℯ   ⎠⋅⎝ℯ    + 1⎠   2⋅⎝1 - ℯ   ⎠⋅⎝1 - ℯ   ⎠"
      ]
     },
     "execution_count": 43,
     "metadata": {},
     "output_type": "execute_result"
    }
   ],
   "source": [
    "OrbiCharacter(P23(n,d), 2, -v1, -v1 + 2*v2) * "
   ]
  },
  {
   "cell_type": "code",
   "execution_count": 32,
   "metadata": {},
   "outputs": [
    {
     "data": {
      "text/latex": [
       "$\\displaystyle \\frac{e^{t \\left(a + b + d\\right)}}{2 \\left(1 + e^{- \\frac{t}{2}}\\right)^{2}} + \\frac{e^{t \\left(a + b + d\\right)}}{2 \\left(1 - e^{- \\frac{t}{2}}\\right)^{2}}$"
      ],
      "text/plain": [
       " t⋅(a + b + d)    t⋅(a + b + d)\n",
       "ℯ                ℯ             \n",
       "────────────── + ──────────────\n",
       "            2                2 \n",
       "  ⎛     -t ⎞       ⎛     -t ⎞  \n",
       "  ⎜     ───⎟       ⎜     ───⎟  \n",
       "  ⎜      2 ⎟       ⎜      2 ⎟  \n",
       "2⋅⎝1 + ℯ   ⎠     2⋅⎝1 - ℯ   ⎠  "
      ]
     },
     "execution_count": 32,
     "metadata": {},
     "output_type": "execute_result"
    }
   ],
   "source": [
    "def Exp(p, q):\n",
    "    return exp( 2*pi*I*Rational(p,q) )\n",
    "\n",
    "# For Delta12:\n",
    "\n",
    "def Sum_Delta12(n,d):\n",
    "    return ( exp( Phi.dot(P12(n,d)) ) / ( ( (1 - exp( Phi.dot(-v) ) ) ) * ( 1 - Exp(0,2) * exp( Phi.dot( ( -v )*Rational(1,2) ) ) ) ) + ( exp( Phi.dot(P3_3(a,b,d)) ) ) / ( ( (1 - Exp(1,2) * exp( Phi.dot( ( -v )*Rational(1,2) ) ) ) ) * ( 1 - Exp(1,2) * exp( Phi.dot( ( -v )*Rational(1,2) ) ) ) ) )  \n",
    "\n",
    "def Sum_Delta23(n,d):\n",
    "    return Rational(1,2) * ( exp( Phi.dot(P12(a,b,d)) ) / ( ( (1 - Exp(0,2) * exp( Phi.dot( ( -v )*Rational(1,2) ) ) ) ) * ( 1 - Exp(0,2) * exp( Phi.dot( ( -v )*Rational(1,2) ) ) ) ) + ( exp( Phi.dot(P3_3(a,b,d)) ) ) / ( ( (1 - Exp(1,2) * exp( Phi.dot( ( -v )*Rational(1,2) ) ) ) ) * ( 1 - Exp(1,2) * exp( Phi.dot( ( -v )*Rational(1,2) ) ) ) ) )  \n",
    "\n",
    "Sum_P3_3(a,b,d)"
   ]
  },
  {
   "cell_type": "code",
   "execution_count": 23,
   "metadata": {},
   "outputs": [
    {
     "data": {
      "text/latex": [
       "$\\displaystyle \\frac{e^{- c t}}{\\left(1 - e^{t}\\right)^{2}}$"
      ],
      "text/plain": [
       "   -c⋅t  \n",
       "  ℯ      \n",
       "─────────\n",
       "        2\n",
       "⎛     t⎞ \n",
       "⎝1 - ℯ ⎠ "
      ]
     },
     "execution_count": 23,
     "metadata": {},
     "output_type": "execute_result"
    }
   ],
   "source": [
    "# For P1_1, which is smooth:\n",
    "\n",
    "def Sum_P1_1(c):\n",
    "    return exp( Phi.dot( P1_1(c) ) ) / ( ( 1 - exp( Phi.dot( v ) ) ) * ( 1 - exp( Phi.dot( v ) ) ) )\n",
    "\n",
    "Sum_P1_1(c)"
   ]
  },
  {
   "cell_type": "code",
   "execution_count": 17,
   "metadata": {},
   "outputs": [
    {
     "data": {
      "text/latex": [
       "$\\displaystyle \\frac{1}{\\left(1 - e^{- t}\\right) \\left(1 - e^{t}\\right)}$"
      ],
      "text/plain": [
       "        1         \n",
       "──────────────────\n",
       "⎛     -t⎞ ⎛     t⎞\n",
       "⎝1 - ℯ  ⎠⋅⎝1 - ℯ ⎠"
      ]
     },
     "execution_count": 17,
     "metadata": {},
     "output_type": "execute_result"
    }
   ],
   "source": [
    "# For P1, which is smooth:\n",
    "\n",
    "def Sum_P1(a,b):\n",
    "    return exp( Phi.dot( P1(a,b) ) ) / ( ( 1 - exp( Phi.dot( v ) ) ) * ( 1 - exp( Phi.dot( -v ) ) ) )\n",
    "\n",
    "Sum_P1(a,b)"
   ]
  },
  {
   "cell_type": "code",
   "execution_count": 12,
   "metadata": {},
   "outputs": [
    {
     "data": {
      "text/latex": [
       "$\\displaystyle \\frac{e^{a t}}{\\left(1 - e^{- t}\\right) \\left(1 - e^{t}\\right)}$"
      ],
      "text/plain": [
       "        a⋅t       \n",
       "       ℯ          \n",
       "──────────────────\n",
       "⎛     -t⎞ ⎛     t⎞\n",
       "⎝1 - ℯ  ⎠⋅⎝1 - ℯ ⎠"
      ]
     },
     "execution_count": 12,
     "metadata": {},
     "output_type": "execute_result"
    }
   ],
   "source": [
    "# For P2, which is smooth:\n",
    "\n",
    "def Sum_P2(a,b):\n",
    "    return exp( Phi.dot( P2(a,b) ) ) / ( ( 1 - exp( Phi.dot( v ) ) ) * ( 1 - exp( Phi.dot( -v ) ) ) )\n",
    "\n",
    "Sum_P2(a,b)"
   ]
  },
  {
   "cell_type": "code",
   "execution_count": 15,
   "metadata": {},
   "outputs": [
    {
     "data": {
      "text/latex": [
       "$\\displaystyle \\frac{e^{t \\left(a + b\\right)}}{\\left(1 - e^{- t}\\right) \\left(1 - e^{t}\\right)}$"
      ],
      "text/plain": [
       "     t⋅(a + b)    \n",
       "    ℯ             \n",
       "──────────────────\n",
       "⎛     -t⎞ ⎛     t⎞\n",
       "⎝1 - ℯ  ⎠⋅⎝1 - ℯ ⎠"
      ]
     },
     "execution_count": 15,
     "metadata": {},
     "output_type": "execute_result"
    }
   ],
   "source": [
    "# For P3, which is smooth:\n",
    "\n",
    "def Sum_P3(a,b):\n",
    "    return exp( Phi.dot( P3(a,b) ) ) / ( ( 1 - exp( Phi.dot( v ) ) ) * ( 1 - exp( Phi.dot( -v ) ) ) )\n",
    "\n",
    "Sum_P3(a,b)"
   ]
  },
  {
   "cell_type": "code",
   "execution_count": 33,
   "metadata": {},
   "outputs": [
    {
     "data": {
      "text/latex": [
       "$\\displaystyle \\frac{e^{- c t}}{\\left(1 - e^{t}\\right)^{2}} + \\frac{e^{t \\left(a + b + d\\right)}}{2 \\left(1 + e^{- \\frac{t}{2}}\\right)^{2}} + \\frac{e^{t \\left(a + b + d\\right)}}{2 \\left(1 - e^{- \\frac{t}{2}}\\right)^{2}} + \\frac{e^{a t}}{\\left(1 - e^{- t}\\right) \\left(1 - e^{t}\\right)} + \\frac{e^{t \\left(a + b\\right)}}{\\left(1 - e^{- t}\\right) \\left(1 - e^{t}\\right)} + \\frac{1}{\\left(1 - e^{- t}\\right) \\left(1 - e^{t}\\right)}$"
      ],
      "text/plain": [
       "   -c⋅t      t⋅(a + b + d)    t⋅(a + b + d)           a⋅t               t⋅(a +\n",
       "  ℯ         ℯ                ℯ                       ℯ                 ℯ      \n",
       "───────── + ────────────── + ────────────── + ────────────────── + ───────────\n",
       "        2               2                2    ⎛     -t⎞ ⎛     t⎞   ⎛     -t⎞ ⎛\n",
       "⎛     t⎞      ⎛     -t ⎞       ⎛     -t ⎞     ⎝1 - ℯ  ⎠⋅⎝1 - ℯ ⎠   ⎝1 - ℯ  ⎠⋅⎝\n",
       "⎝1 - ℯ ⎠      ⎜     ───⎟       ⎜     ───⎟                                     \n",
       "              ⎜      2 ⎟       ⎜      2 ⎟                                     \n",
       "            2⋅⎝1 + ℯ   ⎠     2⋅⎝1 - ℯ   ⎠                                     \n",
       "\n",
       " b)                         \n",
       "                  1         \n",
       "─────── + ──────────────────\n",
       "     t⎞   ⎛     -t⎞ ⎛     t⎞\n",
       "1 - ℯ ⎠   ⎝1 - ℯ  ⎠⋅⎝1 - ℯ ⎠\n",
       "                            \n",
       "                            \n",
       "                            "
      ]
     },
     "execution_count": 33,
     "metadata": {},
     "output_type": "execute_result"
    }
   ],
   "source": [
    "def Sum(a,b,d,c):\n",
    "    return Sum_P1(a,b) + Sum_P2(a,b) + Sum_P3(a,b) + Sum_P1_1(c) + Sum_P3_3(a,b,d)\n",
    "\n",
    "Sum(a,b,d,c)"
   ]
  },
  {
   "cell_type": "code",
   "execution_count": 34,
   "metadata": {},
   "outputs": [
    {
     "data": {
      "text/latex": [
       "$\\displaystyle \\infty \\operatorname{sign}{\\left(b + 2 c - d \\right)}$"
      ],
      "text/plain": [
       "∞⋅sign(b + 2⋅c - d)"
      ]
     },
     "execution_count": 34,
     "metadata": {},
     "output_type": "execute_result"
    }
   ],
   "source": [
    "limit(Sum(a,b,c,d), t, 0)"
   ]
  },
  {
   "cell_type": "code",
   "execution_count": 27,
   "metadata": {},
   "outputs": [
    {
     "data": {
      "text/latex": [
       "$\\displaystyle 37$"
      ],
      "text/plain": [
       "37"
      ]
     },
     "execution_count": 27,
     "metadata": {},
     "output_type": "execute_result"
    }
   ],
   "source": [
    "nsimplify(limit(Sum(6,9), t, 0))"
   ]
  },
  {
   "cell_type": "code",
   "execution_count": 39,
   "metadata": {},
   "outputs": [
    {
     "data": {
      "text/latex": [
       "$\\displaystyle 3 k^{2} + 3 k + 1$"
      ],
      "text/plain": [
       "   2          \n",
       "3⋅k  + 3⋅k + 1"
      ]
     },
     "execution_count": 39,
     "metadata": {},
     "output_type": "execute_result"
    }
   ],
   "source": [
    "re(radsimp(limit(Sum(2*k, 3*k), t, 0), k).as_numer_denom()[0]) / re(radsimp(limit(Sum(2*k, 3*k), t, 0), k).as_numer_denom()[1])"
   ]
  },
  {
   "cell_type": "code",
   "execution_count": 40,
   "metadata": {},
   "outputs": [
    {
     "data": {
      "text/latex": [
       "$\\displaystyle 1$"
      ],
      "text/plain": [
       "1"
      ]
     },
     "metadata": {},
     "output_type": "display_data"
    },
    {
     "data": {
      "text/latex": [
       "$\\displaystyle 7$"
      ],
      "text/plain": [
       "7"
      ]
     },
     "metadata": {},
     "output_type": "display_data"
    },
    {
     "data": {
      "text/latex": [
       "$\\displaystyle 19$"
      ],
      "text/plain": [
       "19"
      ]
     },
     "metadata": {},
     "output_type": "display_data"
    },
    {
     "data": {
      "text/latex": [
       "$\\displaystyle 37$"
      ],
      "text/plain": [
       "37"
      ]
     },
     "metadata": {},
     "output_type": "display_data"
    },
    {
     "data": {
      "text/latex": [
       "$\\displaystyle 61$"
      ],
      "text/plain": [
       "61"
      ]
     },
     "metadata": {},
     "output_type": "display_data"
    },
    {
     "data": {
      "text/latex": [
       "$\\displaystyle 91$"
      ],
      "text/plain": [
       "91"
      ]
     },
     "metadata": {},
     "output_type": "display_data"
    },
    {
     "data": {
      "text/latex": [
       "$\\displaystyle 127$"
      ],
      "text/plain": [
       "127"
      ]
     },
     "metadata": {},
     "output_type": "display_data"
    },
    {
     "data": {
      "text/latex": [
       "$\\displaystyle 169$"
      ],
      "text/plain": [
       "169"
      ]
     },
     "metadata": {},
     "output_type": "display_data"
    },
    {
     "data": {
      "text/latex": [
       "$\\displaystyle 217$"
      ],
      "text/plain": [
       "217"
      ]
     },
     "metadata": {},
     "output_type": "display_data"
    },
    {
     "data": {
      "text/latex": [
       "$\\displaystyle 271$"
      ],
      "text/plain": [
       "271"
      ]
     },
     "metadata": {},
     "output_type": "display_data"
    }
   ],
   "source": [
    "for k in range(0, 10):\n",
    "    disp.display(re(radsimp(limit(Sum(2*k, 3*k), t, 0), k).as_numer_denom()[0]) / re(radsimp(limit(Sum(2*k, 3*k), t, 0), k).as_numer_denom()[1]))"
   ]
  },
  {
   "cell_type": "code",
   "execution_count": null,
   "metadata": {},
   "outputs": [],
   "source": []
  }
 ],
 "metadata": {
  "kernelspec": {
   "display_name": "Python 3 (ipykernel)",
   "language": "python",
   "name": "python3"
  },
  "language_info": {
   "codemirror_mode": {
    "name": "ipython",
    "version": 3
   },
   "file_extension": ".py",
   "mimetype": "text/x-python",
   "name": "python",
   "nbconvert_exporter": "python",
   "pygments_lexer": "ipython3",
   "version": "3.9.7"
  }
 },
 "nbformat": 4,
 "nbformat_minor": 4
}
