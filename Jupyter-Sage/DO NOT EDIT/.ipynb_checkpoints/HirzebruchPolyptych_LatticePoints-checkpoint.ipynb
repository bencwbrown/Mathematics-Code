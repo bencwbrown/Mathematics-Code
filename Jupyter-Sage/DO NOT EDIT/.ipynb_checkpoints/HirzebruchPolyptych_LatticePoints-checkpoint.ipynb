{
 "cells": [
  {
   "cell_type": "code",
   "execution_count": 2,
   "metadata": {},
   "outputs": [
    {
     "data": {
      "text/latex": [
       "$\\displaystyle \\mathbf{\\hat{0}}$"
      ],
      "text/plain": [
       "0"
      ]
     },
     "metadata": {},
     "output_type": "display_data"
    },
    {
     "data": {
      "text/latex": [
       "$\\displaystyle (m + n)\\mathbf{\\hat{i}_{N}}$"
      ],
      "text/plain": [
       "(m + n) i_N"
      ]
     },
     "metadata": {},
     "output_type": "display_data"
    },
    {
     "data": {
      "text/latex": [
       "$\\displaystyle (m)\\mathbf{\\hat{i}_{N}} + (n)\\mathbf{\\hat{j}_{N}}$"
      ],
      "text/plain": [
       "(m) i_N + (n) j_N"
      ]
     },
     "metadata": {},
     "output_type": "display_data"
    },
    {
     "data": {
      "text/latex": [
       "$\\displaystyle (n)\\mathbf{\\hat{j}_{N}}$"
      ],
      "text/plain": [
       "(n) j_N"
      ]
     },
     "metadata": {},
     "output_type": "display_data"
    },
    {
     "data": {
      "text/latex": [
       "$\\displaystyle (m + n)\\mathbf{\\hat{j}_{N}}$"
      ],
      "text/plain": [
       "(m + n) j_N"
      ]
     },
     "metadata": {},
     "output_type": "display_data"
    }
   ],
   "source": [
    "from sympy import *\n",
    "from sympy.vector import Vector\n",
    "from sympy.vector import CoordSys3D\n",
    "import IPython.display as disp\n",
    "\n",
    "N = CoordSys3D('N')\n",
    "\n",
    "t, k = symbols( 't k' )\n",
    "n, m, d = symbols('n m d', positive=True, integer=True)\n",
    "# init_printing(use_unicode=True)\n",
    "init_printing(use_latex='mathjax')\n",
    "\n",
    "# Basis for the edge/weight vectors for the points \n",
    "\n",
    "v1 = N.i\n",
    "v2 = N.j\n",
    "\n",
    "# Define the vector which is not parallel to any edge vector, which will tend to zero:\n",
    "\n",
    "Phi = t*(v1 + 3*v2)\n",
    "\n",
    "# Set the fixed points of the action; P denotes those that belong\n",
    "# to the core, and Q those that come from the cut extended core:\n",
    "\n",
    "def P12(n,m):\n",
    "    return Vector.zero\n",
    "\n",
    "def P23(n,m):\n",
    "    return (m+n)*v1\n",
    "\n",
    "def P34(n,m):\n",
    "    return m*v1 + n*v2\n",
    "\n",
    "def P14(n,m):\n",
    "    return n*v2\n",
    "\n",
    "def P13(n,m):\n",
    "    return (m+n)*v2\n",
    "\n",
    "interiorPoints = [P12(n,m), P23(n,m), P34(n,m), P14(n,m), P13(n,m)]\n",
    "\n",
    "for P in interiorPoints:\n",
    "    display(P)"
   ]
  },
  {
   "cell_type": "code",
   "execution_count": 3,
   "metadata": {},
   "outputs": [],
   "source": [
    "def Q12_1(n,m,d):\n",
    "    return (-m-2*d)*v2\n",
    "\n",
    "def Q12_2(n,m,d):\n",
    "    return (-m-2*d)*v1\n",
    "\n",
    "def Q23_2(n,m,d):\n",
    "    return (2*m+n+2*d)*v1\n",
    "\n",
    "def Q23_3(n,m,d):\n",
    "    return (2*m+n+2*d)*v1 + (-m-2*d)*v2\n",
    "\n",
    "def Q34_4(n,m,d):\n",
    "    return (2*m + 2*d)*v1 + n*v2\n",
    "\n",
    "def Q13_1(n,m,d):\n",
    "    return (m+n+d)*v2\n",
    "\n",
    "def Q13_3(n,m,d):\n",
    "    return -d*v1 + (m+n+d)*v2\n",
    "\n",
    "def Q14_4(n,m,d):\n",
    "    return (-m-2*d)*v1 + n*v2\n",
    "\n",
    "# Define the term which is summed over each fixed point,\n",
    "# representing the character for the representation\n",
    "\n",
    "def P(P, edge1, edge2, edge3, edge4):\n",
    "    return exp( Phi.dot(P) ) / ( (1 - exp( Phi.dot(edge1) ) ) * ( 1 - exp( Phi.dot(edge2) ) ) * ( 1 - exp( Phi.dot(edge3) ) ) * ( 1 - exp( Phi.dot(edge4) ) ) )\n",
    "\n",
    "\n",
    "def Q(P, edge1, edge2):\n",
    "    return exp( Phi.dot(P) ) / ( (1 - exp( Phi.dot(edge1) ) ) * ( 1 - exp( Phi.dot(edge2) ) ) )\n",
    "\n",
    "def Exp(p, q):\n",
    "    return exp( 2*pi*I*Rational(p,q) )\n",
    "\n",
    "def OrbiFactor(p, q, edge):\n",
    "    return ( 1 - ( Exp(p,q) * exp( Rational(p,q) * Phi.dot(edge) ) ) )\n",
    "\n",
    "def OrbiSum(Q, p, q, edge1, edge2, edge3, edge4):\n",
    "    return ( Rational(1,q) * exp( Phi.dot(Q) ) ) / ( (1 - ( Exp(p,q) * exp( Rational(1,q) * Phi.dot(edge1) ) ) ) * (1 - ( Exp(p,q) * exp( Rational(1,q) * Phi.dot(edge2) ) ) ) * (1 - ( Exp(p,q) * exp( Rational(1,q) * Phi.dot(edge3) ) ) ) * (1 - ( Exp(p,q) * exp( Rational(1,q) * Phi.dot(edge4) ) ) ) ) \n",
    "\n",
    "def OrbiHalfSum(Q, p, q, edge1, edge2, edge3, edge4):\n",
    "    return ( Rational(1,q) * exp( Phi.dot(Q) ) ) / ( (1 - ( Exp(p,q) * exp( Rational(1,q) * Phi.dot(edge1) ) ) ) * (1 - ( Exp(p,q) * exp( Rational(1,q) * Phi.dot(edge2) ) ) ) * (1 - ( Exp(p,q) * exp( Rational(1,q) * Phi.dot(edge3) ) ) ) * (1 - ( Exp(p,q) * exp( Rational(1,q) * Phi.dot(edge4) ) ) ) ) \n",
    "\n"
   ]
  },
  {
   "cell_type": "code",
   "execution_count": 4,
   "metadata": {},
   "outputs": [
    {
     "data": {
      "text/latex": [
       "$\\displaystyle \\frac{e^{t \\left(m + n\\right)}}{\\left(1 - e^{- 2 t}\\right) \\left(1 - e^{- t}\\right) \\left(1 - e^{t}\\right) \\left(1 - e^{2 t}\\right)} + \\frac{e^{m t + 3 n t}}{\\left(1 - e^{- 2 t}\\right) \\left(1 - e^{- t}\\right) \\left(1 - e^{t}\\right) \\left(1 - e^{2 t}\\right)} + \\frac{e^{3 n t}}{\\left(1 - e^{- 3 t}\\right) \\left(1 - e^{- t}\\right) \\left(1 - e^{t}\\right) \\left(1 - e^{3 t}\\right)} + \\frac{1}{\\left(1 - e^{- 3 t}\\right) \\left(1 - e^{- t}\\right) \\left(1 - e^{t}\\right) \\left(1 - e^{3 t}\\right)} + \\frac{e^{3 t \\left(m + n\\right)}}{\\left(1 - e^{- 3 t}\\right) \\left(1 - e^{- 2 t}\\right) \\left(1 - e^{2 t}\\right) \\left(1 - e^{3 t}\\right)}$"
      ],
      "text/plain": [
       "                 t⋅(m + n)                                  m⋅t + 3⋅n⋅t                            \n",
       "                ℯ                                          ℯ                                       \n",
       "───────────────────────────────────────── + ───────────────────────────────────────── + ───────────\n",
       "⎛     -2⋅t⎞ ⎛     -t⎞ ⎛     t⎞ ⎛     2⋅t⎞   ⎛     -2⋅t⎞ ⎛     -t⎞ ⎛     t⎞ ⎛     2⋅t⎞   ⎛     -3⋅t⎞\n",
       "⎝1 - ℯ    ⎠⋅⎝1 - ℯ  ⎠⋅⎝1 - ℯ ⎠⋅⎝1 - ℯ   ⎠   ⎝1 - ℯ    ⎠⋅⎝1 - ℯ  ⎠⋅⎝1 - ℯ ⎠⋅⎝1 - ℯ   ⎠   ⎝1 - ℯ    ⎠\n",
       "\n",
       "        3⋅n⋅t                                                                                  3⋅t⋅\n",
       "       ℯ                                             1                                        ℯ    \n",
       "────────────────────────────── + ───────────────────────────────────────── + ──────────────────────\n",
       " ⎛     -t⎞ ⎛     t⎞ ⎛     3⋅t⎞   ⎛     -3⋅t⎞ ⎛     -t⎞ ⎛     t⎞ ⎛     3⋅t⎞   ⎛     -3⋅t⎞ ⎛     -2⋅t\n",
       "⋅⎝1 - ℯ  ⎠⋅⎝1 - ℯ ⎠⋅⎝1 - ℯ   ⎠   ⎝1 - ℯ    ⎠⋅⎝1 - ℯ  ⎠⋅⎝1 - ℯ ⎠⋅⎝1 - ℯ   ⎠   ⎝1 - ℯ    ⎠⋅⎝1 - ℯ    \n",
       "\n",
       "(m + n)                \n",
       "                       \n",
       "───────────────────────\n",
       "⎞ ⎛     2⋅t⎞ ⎛     3⋅t⎞\n",
       "⎠⋅⎝1 - ℯ   ⎠⋅⎝1 - ℯ   ⎠"
      ]
     },
     "execution_count": 4,
     "metadata": {},
     "output_type": "execute_result"
    }
   ],
   "source": [
    "def TermP12(n,m):\n",
    "    return P(P12(n,m), v1, v2, -v1, -v2)\n",
    "\n",
    "def TermP23(n,m):\n",
    "    return P(P23(n,m), v1, -v1 + v2, -v1, v1 - v2)\n",
    "\n",
    "def TermP34(n,m):\n",
    "    return P(P34(n,m), v1, -v1 + v2, -v1, v1 - v2)\n",
    "\n",
    "def TermP14(n,m):\n",
    "    return P(P14(n,m), v1, v2, -v1, -v2)\n",
    "\n",
    "def TermP13(n,m):\n",
    "    return P(P13(n,m), v1 - v2, v2, -v1 + v2, -v2)\n",
    "\n",
    "def InteriorSum(n,d):\n",
    "    return TermP12(n,m) + TermP23(n,m) + TermP34(n,m) + TermP14(n,m) + TermP13(n,m)\n",
    "\n",
    "InteriorSum(n,d)"
   ]
  },
  {
   "cell_type": "code",
   "execution_count": 5,
   "metadata": {},
   "outputs": [],
   "source": [
    "def TermQ12_1(n,m,d):\n",
    "    return P(Q12_1(n,m,d), v2, v2, v1, -v1 + v2)\n",
    "\n",
    "def TermQ12_2(n,m,d):\n",
    "    return P(Q12_2(n,m,d), v1, v1, v2, v1 - v2)\n",
    "\n",
    "def TermQ23_2(n,m,d):\n",
    "    return P(Q23_2(n,m,d), -v1, -v1, -v2, -v1 + v2)\n",
    "\n",
    "def TermQ23_3(n,m,d):\n",
    "    return P(Q23_3(n,m,d), -v1 + v2, -v1 + v2, -v1, v2)\n",
    "\n",
    "def TermQ34_4(n,m,d):\n",
    "    return P(Q34_4(n,m,d), -v1, -v1, -2*v1 + v2, v1 - v2)\n",
    "\n",
    "# Q13_1 is an orbifold point of order 2:\n",
    "\n",
    "def TermQ13_1(n,m,d):\n",
    "    return OrbiSum(Q13_1(n,m,d), 0, 2, 2*v1 - v2, -v2, -v2, -2*v1) + OrbiSum(Q13_1(n,m,d), 1, 2, 2*v1 - v2, -v2, -v2, -2*v1)\n",
    "\n",
    "# Q13_3 is an orbifold point of order 2:\n",
    "\n",
    "def TermQ13_3(n,m,d):\n",
    "    return OrbiSum(Q13_3(n,m,d), 0, 2, 2*v1, v1 - v2, v1 - v2, -v1 - v2) + OrbiSum(Q13_3(n,m,d), 1, 2, 2*v1, v1 - v2, v1 - v2, -v1 - v2)\n",
    "\n",
    "def TermQ14_4(n,m,d):\n",
    "    return P(Q14_4(n,m,d), v1, v1, v1 + v2, -v2)"
   ]
  },
  {
   "cell_type": "code",
   "execution_count": 6,
   "metadata": {},
   "outputs": [
    {
     "data": {
      "text/latex": [
       "$\\displaystyle \\frac{e^{3 t \\left(- 2 d - m\\right)}}{\\left(1 - e^{t}\\right) \\left(1 - e^{2 t}\\right) \\left(1 - e^{3 t}\\right)^{2}} + \\frac{e^{3 t \\left(- 2 d - m\\right) + t \\left(2 d + 2 m + n\\right)}}{\\left(1 - e^{- t}\\right) \\left(1 - e^{2 t}\\right)^{2} \\cdot \\left(1 - e^{3 t}\\right)} + \\frac{e^{3 t \\left(d + m + n\\right)}}{2 \\left(1 + e^{- \\frac{3 t}{2}}\\right)^{2} \\cdot \\left(1 + e^{- t}\\right) \\left(1 + e^{- \\frac{t}{2}}\\right)} + \\frac{e^{3 t \\left(d + m + n\\right)}}{2 \\left(1 - e^{- \\frac{3 t}{2}}\\right)^{2} \\cdot \\left(1 - e^{- t}\\right) \\left(1 - e^{- \\frac{t}{2}}\\right)} + \\frac{e^{- d t + 3 t \\left(d + m + n\\right)}}{2 \\cdot \\left(1 + e^{- 2 t}\\right) \\left(1 + e^{- t}\\right)^{2} \\left(e^{t} + 1\\right)} + \\frac{e^{t \\left(- 2 d - m\\right)}}{\\left(1 - e^{- 2 t}\\right) \\left(1 - e^{t}\\right)^{2} \\cdot \\left(1 - e^{3 t}\\right)} + \\frac{e^{- d t + 3 t \\left(d + m + n\\right)}}{2 \\cdot \\left(1 - e^{- 2 t}\\right) \\left(1 - e^{- t}\\right)^{2} \\cdot \\left(1 - e^{t}\\right)} + \\frac{e^{3 n t + t \\left(2 d + 2 m\\right)}}{\\left(1 - e^{- 2 t}\\right) \\left(1 - e^{- t}\\right)^{2} \\cdot \\left(1 - e^{t}\\right)} + \\frac{e^{3 n t + t \\left(- 2 d - m\\right)}}{\\left(1 - e^{- 3 t}\\right) \\left(1 - e^{t}\\right)^{2} \\cdot \\left(1 - e^{4 t}\\right)} + \\frac{e^{t \\left(2 d + 2 m + n\\right)}}{\\left(1 - e^{- 3 t}\\right) \\left(1 - e^{- t}\\right)^{2} \\cdot \\left(1 - e^{2 t}\\right)}$"
      ],
      "text/plain": [
       "         3⋅t⋅(-2⋅d - m)            3⋅t⋅(-2⋅d - m) + t⋅(2⋅d + 2⋅m + n)              3⋅t⋅(d + m + n) \n",
       "        ℯ                         ℯ                                               ℯ                \n",
       "─────────────────────────────── + ─────────────────────────────────── + ───────────────────────────\n",
       "                              2                         2                             2            \n",
       "⎛     t⎞ ⎛     2⋅t⎞ ⎛     3⋅t⎞      ⎛     -t⎞ ⎛     2⋅t⎞  ⎛     3⋅t⎞      ⎛     -3⋅t ⎞            ⎛\n",
       "⎝1 - ℯ ⎠⋅⎝1 - ℯ   ⎠⋅⎝1 - ℯ   ⎠      ⎝1 - ℯ  ⎠⋅⎝1 - ℯ   ⎠ ⋅⎝1 - ℯ   ⎠      ⎜     ─────⎟            ⎜\n",
       "                                                                          ⎜       2  ⎟  ⎛     -t⎞ ⎜\n",
       "                                                                        2⋅⎝1 + ℯ     ⎠ ⋅⎝1 + ℯ  ⎠⋅⎝\n",
       "\n",
       "                       3⋅t⋅(d + m + n)                   -d⋅t + 3⋅t⋅(d + m + n)                  t⋅\n",
       "                      ℯ                                 ℯ                                       ℯ  \n",
       "───────── + ──────────────────────────────────── + ───────────────────────────────── + ────────────\n",
       "                          2                                               2                        \n",
       "     -t ⎞     ⎛     -3⋅t ⎞            ⎛     -t ⎞     ⎛     -2⋅t⎞ ⎛     -t⎞  ⎛ t    ⎞   ⎛     -2⋅t⎞ \n",
       "     ───⎟     ⎜     ─────⎟            ⎜     ───⎟   2⋅⎝1 + ℯ    ⎠⋅⎝1 + ℯ  ⎠ ⋅⎝ℯ  + 1⎠   ⎝1 - ℯ    ⎠⋅\n",
       "      2 ⎟     ⎜       2  ⎟  ⎛     -t⎞ ⎜      2 ⎟                                                   \n",
       "1 + ℯ   ⎠   2⋅⎝1 - ℯ     ⎠ ⋅⎝1 - ℯ  ⎠⋅⎝1 - ℯ   ⎠                                                   \n",
       "\n",
       "(-2⋅d - m)                   -d⋅t + 3⋅t⋅(d + m + n)              3⋅n⋅t + t⋅(2⋅d + 2⋅m)             \n",
       "                            ℯ                                   ℯ                                 ℯ\n",
       "──────────────────── + ───────────────────────────────── + ─────────────────────────────── + ──────\n",
       "        2                                     2                                 2                  \n",
       "⎛     t⎞  ⎛     3⋅t⎞     ⎛     -2⋅t⎞ ⎛     -t⎞  ⎛     t⎞   ⎛     -2⋅t⎞ ⎛     -t⎞  ⎛     t⎞   ⎛     \n",
       "⎝1 - ℯ ⎠ ⋅⎝1 - ℯ   ⎠   2⋅⎝1 - ℯ    ⎠⋅⎝1 - ℯ  ⎠ ⋅⎝1 - ℯ ⎠   ⎝1 - ℯ    ⎠⋅⎝1 - ℯ  ⎠ ⋅⎝1 - ℯ ⎠   ⎝1 - ℯ\n",
       "                                                                                                   \n",
       "                                                                                                   \n",
       "\n",
       "3⋅n⋅t + t⋅(-2⋅d - m)                  t⋅(2⋅d + 2⋅m + n)       \n",
       "                                     ℯ                        \n",
       "────────────────────────── + ─────────────────────────────────\n",
       "              2                                   2           \n",
       "-3⋅t⎞ ⎛     t⎞  ⎛     4⋅t⎞   ⎛     -3⋅t⎞ ⎛     -t⎞  ⎛     2⋅t⎞\n",
       "    ⎠⋅⎝1 - ℯ ⎠ ⋅⎝1 - ℯ   ⎠   ⎝1 - ℯ    ⎠⋅⎝1 - ℯ  ⎠ ⋅⎝1 - ℯ   ⎠\n",
       "                                                              \n",
       "                                                              "
      ]
     },
     "execution_count": 6,
     "metadata": {},
     "output_type": "execute_result"
    }
   ],
   "source": [
    "def InteriorSum(n,m):\n",
    "    return TermP12(n,m) + TermP23(n,m) + TermP34(n,m) + TermP13(n,m) + TermP14(n,m)\n",
    "\n",
    "def ExteriorSum(n,m,d):\n",
    "    return TermQ12_1(n,m,d) + TermQ12_2(n,m,d) + TermQ23_2(n,m,d) + TermQ23_3(n,m,d) + TermQ34_4(n,m,d) + TermQ13_1(n,m,d) + TermQ13_3(n,m,d) + TermQ14_4(n,m,d)\n",
    "\n",
    "ExteriorSum(n,m,d)"
   ]
  },
  {
   "cell_type": "code",
   "execution_count": 7,
   "metadata": {},
   "outputs": [
    {
     "data": {
      "text/latex": [
       "$\\displaystyle \\frac{e^{3 t \\left(- 2 d - m\\right)}}{\\left(1 - e^{t}\\right) \\left(1 - e^{2 t}\\right) \\left(1 - e^{3 t}\\right)^{2}} + \\frac{e^{3 t \\left(- 2 d - m\\right) + t \\left(2 d + 2 m + n\\right)}}{\\left(1 - e^{- t}\\right) \\left(1 - e^{2 t}\\right)^{2} \\cdot \\left(1 - e^{3 t}\\right)} + \\frac{e^{3 t \\left(d + m + n\\right)}}{2 \\left(1 + e^{- \\frac{3 t}{2}}\\right)^{2} \\cdot \\left(1 + e^{- t}\\right) \\left(1 + e^{- \\frac{t}{2}}\\right)} + \\frac{e^{3 t \\left(d + m + n\\right)}}{2 \\left(1 - e^{- \\frac{3 t}{2}}\\right)^{2} \\cdot \\left(1 - e^{- t}\\right) \\left(1 - e^{- \\frac{t}{2}}\\right)} + \\frac{e^{- d t + 3 t \\left(d + m + n\\right)}}{2 \\cdot \\left(1 + e^{- 2 t}\\right) \\left(1 + e^{- t}\\right)^{2} \\left(e^{t} + 1\\right)} + \\frac{e^{t \\left(- 2 d - m\\right)}}{\\left(1 - e^{- 2 t}\\right) \\left(1 - e^{t}\\right)^{2} \\cdot \\left(1 - e^{3 t}\\right)} + \\frac{e^{t \\left(m + n\\right)}}{\\left(1 - e^{- 2 t}\\right) \\left(1 - e^{- t}\\right) \\left(1 - e^{t}\\right) \\left(1 - e^{2 t}\\right)} + \\frac{e^{m t + 3 n t}}{\\left(1 - e^{- 2 t}\\right) \\left(1 - e^{- t}\\right) \\left(1 - e^{t}\\right) \\left(1 - e^{2 t}\\right)} + \\frac{e^{- d t + 3 t \\left(d + m + n\\right)}}{2 \\cdot \\left(1 - e^{- 2 t}\\right) \\left(1 - e^{- t}\\right)^{2} \\cdot \\left(1 - e^{t}\\right)} + \\frac{e^{3 n t + t \\left(2 d + 2 m\\right)}}{\\left(1 - e^{- 2 t}\\right) \\left(1 - e^{- t}\\right)^{2} \\cdot \\left(1 - e^{t}\\right)} + \\frac{e^{3 n t + t \\left(- 2 d - m\\right)}}{\\left(1 - e^{- 3 t}\\right) \\left(1 - e^{t}\\right)^{2} \\cdot \\left(1 - e^{4 t}\\right)} + \\frac{e^{3 n t}}{\\left(1 - e^{- 3 t}\\right) \\left(1 - e^{- t}\\right) \\left(1 - e^{t}\\right) \\left(1 - e^{3 t}\\right)} + \\frac{1}{\\left(1 - e^{- 3 t}\\right) \\left(1 - e^{- t}\\right) \\left(1 - e^{t}\\right) \\left(1 - e^{3 t}\\right)} + \\frac{e^{t \\left(2 d + 2 m + n\\right)}}{\\left(1 - e^{- 3 t}\\right) \\left(1 - e^{- t}\\right)^{2} \\cdot \\left(1 - e^{2 t}\\right)} + \\frac{e^{3 t \\left(m + n\\right)}}{\\left(1 - e^{- 3 t}\\right) \\left(1 - e^{- 2 t}\\right) \\left(1 - e^{2 t}\\right) \\left(1 - e^{3 t}\\right)}$"
      ],
      "text/plain": [
       "         3⋅t⋅(-2⋅d - m)            3⋅t⋅(-2⋅d - m) + t⋅(2⋅d + 2⋅m + n)              3⋅t⋅(d + m + n) \n",
       "        ℯ                         ℯ                                               ℯ                \n",
       "─────────────────────────────── + ─────────────────────────────────── + ───────────────────────────\n",
       "                              2                         2                             2            \n",
       "⎛     t⎞ ⎛     2⋅t⎞ ⎛     3⋅t⎞      ⎛     -t⎞ ⎛     2⋅t⎞  ⎛     3⋅t⎞      ⎛     -3⋅t ⎞            ⎛\n",
       "⎝1 - ℯ ⎠⋅⎝1 - ℯ   ⎠⋅⎝1 - ℯ   ⎠      ⎝1 - ℯ  ⎠⋅⎝1 - ℯ   ⎠ ⋅⎝1 - ℯ   ⎠      ⎜     ─────⎟            ⎜\n",
       "                                                                          ⎜       2  ⎟  ⎛     -t⎞ ⎜\n",
       "                                                                        2⋅⎝1 + ℯ     ⎠ ⋅⎝1 + ℯ  ⎠⋅⎝\n",
       "\n",
       "                       3⋅t⋅(d + m + n)                   -d⋅t + 3⋅t⋅(d + m + n)                  t⋅\n",
       "                      ℯ                                 ℯ                                       ℯ  \n",
       "───────── + ──────────────────────────────────── + ───────────────────────────────── + ────────────\n",
       "                          2                                               2                        \n",
       "     -t ⎞     ⎛     -3⋅t ⎞            ⎛     -t ⎞     ⎛     -2⋅t⎞ ⎛     -t⎞  ⎛ t    ⎞   ⎛     -2⋅t⎞ \n",
       "     ───⎟     ⎜     ─────⎟            ⎜     ───⎟   2⋅⎝1 + ℯ    ⎠⋅⎝1 + ℯ  ⎠ ⋅⎝ℯ  + 1⎠   ⎝1 - ℯ    ⎠⋅\n",
       "      2 ⎟     ⎜       2  ⎟  ⎛     -t⎞ ⎜      2 ⎟                                                   \n",
       "1 + ℯ   ⎠   2⋅⎝1 - ℯ     ⎠ ⋅⎝1 - ℯ  ⎠⋅⎝1 - ℯ   ⎠                                                   \n",
       "\n",
       "(-2⋅d - m)                              t⋅(m + n)                                  m⋅t + 3⋅n⋅t     \n",
       "                                       ℯ                                          ℯ                \n",
       "──────────────────── + ───────────────────────────────────────── + ────────────────────────────────\n",
       "        2              ⎛     -2⋅t⎞ ⎛     -t⎞ ⎛     t⎞ ⎛     2⋅t⎞   ⎛     -2⋅t⎞ ⎛     -t⎞ ⎛     t⎞ ⎛\n",
       "⎛     t⎞  ⎛     3⋅t⎞   ⎝1 - ℯ    ⎠⋅⎝1 - ℯ  ⎠⋅⎝1 - ℯ ⎠⋅⎝1 - ℯ   ⎠   ⎝1 - ℯ    ⎠⋅⎝1 - ℯ  ⎠⋅⎝1 - ℯ ⎠⋅⎝\n",
       "⎝1 - ℯ ⎠ ⋅⎝1 - ℯ   ⎠                                                                               \n",
       "                                                                                                   \n",
       "                                                                                                   \n",
       "\n",
       "                  -d⋅t + 3⋅t⋅(d + m + n)              3⋅n⋅t + t⋅(2⋅d + 2⋅m)             3⋅n⋅t + t⋅(\n",
       "                 ℯ                                   ℯ                                 ℯ           \n",
       "───────── + ───────────────────────────────── + ─────────────────────────────── + ─────────────────\n",
       "     2⋅t⎞                          2                                 2                             \n",
       "1 - ℯ   ⎠     ⎛     -2⋅t⎞ ⎛     -t⎞  ⎛     t⎞   ⎛     -2⋅t⎞ ⎛     -t⎞  ⎛     t⎞   ⎛     -3⋅t⎞ ⎛    \n",
       "            2⋅⎝1 - ℯ    ⎠⋅⎝1 - ℯ  ⎠ ⋅⎝1 - ℯ ⎠   ⎝1 - ℯ    ⎠⋅⎝1 - ℯ  ⎠ ⋅⎝1 - ℯ ⎠   ⎝1 - ℯ    ⎠⋅⎝1 - \n",
       "                                                                                                   \n",
       "                                                                                                   \n",
       "\n",
       "-2⋅d - m)                            3⋅n⋅t                                                         \n",
       "                                    ℯ                                             1                \n",
       "─────────────── + ───────────────────────────────────────── + ─────────────────────────────────────\n",
       "   2              ⎛     -3⋅t⎞ ⎛     -t⎞ ⎛     t⎞ ⎛     3⋅t⎞   ⎛     -3⋅t⎞ ⎛     -t⎞ ⎛     t⎞ ⎛     \n",
       " t⎞  ⎛     4⋅t⎞   ⎝1 - ℯ    ⎠⋅⎝1 - ℯ  ⎠⋅⎝1 - ℯ ⎠⋅⎝1 - ℯ   ⎠   ⎝1 - ℯ    ⎠⋅⎝1 - ℯ  ⎠⋅⎝1 - ℯ ⎠⋅⎝1 - ℯ\n",
       "ℯ ⎠ ⋅⎝1 - ℯ   ⎠                                                                                    \n",
       "                                                                                                   \n",
       "                                                                                                   \n",
       "\n",
       "                t⋅(2⋅d + 2⋅m + n)                            3⋅t⋅(m + n)                \n",
       "               ℯ                                            ℯ                           \n",
       "──── + ───────────────────────────────── + ─────────────────────────────────────────────\n",
       "3⋅t⎞                        2              ⎛     -3⋅t⎞ ⎛     -2⋅t⎞ ⎛     2⋅t⎞ ⎛     3⋅t⎞\n",
       "   ⎠   ⎛     -3⋅t⎞ ⎛     -t⎞  ⎛     2⋅t⎞   ⎝1 - ℯ    ⎠⋅⎝1 - ℯ    ⎠⋅⎝1 - ℯ   ⎠⋅⎝1 - ℯ   ⎠\n",
       "       ⎝1 - ℯ    ⎠⋅⎝1 - ℯ  ⎠ ⋅⎝1 - ℯ   ⎠                                                \n",
       "                                                                                        \n",
       "                                                                                        "
      ]
     },
     "execution_count": 7,
     "metadata": {},
     "output_type": "execute_result"
    }
   ],
   "source": [
    "def TotalSum(n,m,d):\n",
    "    return InteriorSum(n,m) + ExteriorSum(n,m,d)\n",
    "\n",
    "TotalSum(n,m,d)"
   ]
  },
  {
   "cell_type": "code",
   "execution_count": 8,
   "metadata": {},
   "outputs": [
    {
     "data": {
      "text/latex": [
       "$\\displaystyle \\frac{17 d^{4}}{6} + 8 d^{3} m + 4 d^{3} n + \\frac{17 d^{3}}{2} + 8 d^{2} m^{2} + 8 d^{2} m n + 18 d^{2} m + d^{2} n^{2} + 9 d^{2} n + \\frac{29 d^{2}}{3} + \\frac{10 d m^{3}}{3} + 5 d m^{2} n + 12 d m^{2} + d m n^{2} + 12 d m n + \\frac{41 d m}{3} + \\frac{3 d n^{2}}{2} + \\frac{13 d n}{2} + \\frac{79 d}{16} + \\frac{m^{4}}{2} + m^{3} n + \\frac{5 m^{3}}{2} + \\frac{m^{2} n^{2}}{4} + \\frac{15 m^{2} n}{4} + \\frac{9 m^{2}}{2} + \\frac{3 m n^{2}}{4} + \\frac{17 m n}{4} + \\frac{7 m}{2} + \\frac{n^{2}}{2} + \\frac{3 n}{2} + \\frac{65}{64}$"
      ],
      "text/plain": [
       "    4                         3                                                       2         3  \n",
       "17⋅d       3        3     17⋅d       2  2      2           2      2  2      2     29⋅d    10⋅d⋅m   \n",
       "───── + 8⋅d ⋅m + 4⋅d ⋅n + ───── + 8⋅d ⋅m  + 8⋅d ⋅m⋅n + 18⋅d ⋅m + d ⋅n  + 9⋅d ⋅n + ───── + ─────── +\n",
       "  6                         2                                                       3        3     \n",
       "\n",
       "                                                        2                    4             3    2  \n",
       "      2           2        2              41⋅d⋅m   3⋅d⋅n    13⋅d⋅n   79⋅d   m     3     5⋅m    m ⋅n\n",
       " 5⋅d⋅m ⋅n + 12⋅d⋅m  + d⋅m⋅n  + 12⋅d⋅m⋅n + ────── + ────── + ────── + ──── + ── + m ⋅n + ──── + ────\n",
       "                                            3        2        2       16    2            2       4 \n",
       "\n",
       "2       2        2        2                   2           \n",
       "    15⋅m ⋅n   9⋅m    3⋅m⋅n    17⋅m⋅n   7⋅m   n    3⋅n   65\n",
       "─ + ─────── + ──── + ────── + ────── + ─── + ── + ─── + ──\n",
       "       4       2       4        4       2    2     2    64"
      ]
     },
     "execution_count": 8,
     "metadata": {},
     "output_type": "execute_result"
    }
   ],
   "source": [
    "limit(TotalSum(n,m,d), t, 0)"
   ]
  },
  {
   "cell_type": "code",
   "execution_count": 16,
   "metadata": {},
   "outputs": [
    {
     "data": {
      "text/latex": [
       "$\\displaystyle \\frac{34 d^{3}}{3} + 24 d^{2} m + 12 d^{2} n + \\frac{17 d^{2}}{2} + 16 d m^{2} + 16 d m n + 12 d m + 2 d n^{2} + 6 d n + \\frac{31 d}{6} + \\frac{10 m^{3}}{3} + 5 m^{2} n + 4 m^{2} + m n^{2} + 4 m n + \\frac{11 m}{3} + \\frac{n^{2}}{2} + \\frac{3 n}{2} + \\frac{15}{16}$"
      ],
      "text/plain": [
       "    3                           2                                                             3    \n",
       "34⋅d        2         2     17⋅d          2                            2           31⋅d   10⋅m     \n",
       "───── + 24⋅d ⋅m + 12⋅d ⋅n + ───── + 16⋅d⋅m  + 16⋅d⋅m⋅n + 12⋅d⋅m + 2⋅d⋅n  + 6⋅d⋅n + ──── + ───── + 5\n",
       "  3                           2                                                     6       3      \n",
       "\n",
       "                                      2           \n",
       "  2        2      2           11⋅m   n    3⋅n   15\n",
       "⋅m ⋅n + 4⋅m  + m⋅n  + 4⋅m⋅n + ──── + ── + ─── + ──\n",
       "                               3     2     2    16"
      ]
     },
     "execution_count": 16,
     "metadata": {},
     "output_type": "execute_result"
    }
   ],
   "source": [
    "def Character(n,m,d):\n",
    "    return 17*d**4/6 + 8*d**3*m + 4*d**3*n + 17*d**3/2 + 8*d**2*m**2 + 8*d**2*m*n + 18*d**2*m + d**2*n**2 + 9*d**2*n + 29*d**2/3 + 10*d*m**3/3 + 5*d*m**2*n + 12*d*m**2 + d*m*n**2 + 12*d*m*n + 41*d*m/3 + 3*d*n**2/2 + 13*d*n/2 + 79*d/16 + m**4/2 + m**3*n + 5*m**3/2 + m**2*n**2/4 + 15*m**2*n/4 + 9*m**2/2 + 3*m*n**2/4 + 17*m*n/4 + 7*m/2 + n**2/2 + 3*n/2 + Rational(65,64)\n",
    "\n",
    "simplify( Character(n,m,d) - Character(n,m,d-1) )"
   ]
  },
  {
   "cell_type": "code",
   "execution_count": null,
   "metadata": {},
   "outputs": [
    {
     "ename": "KeyboardInterrupt",
     "evalue": "",
     "output_type": "error",
     "traceback": [
      "\u001b[0;31m---------------------------------------------------------------------------\u001b[0m",
      "\u001b[0;31mKeyboardInterrupt\u001b[0m                         Traceback (most recent call last)",
      "\u001b[0;32m/tmp/ipykernel_74898/3296571271.py\u001b[0m in \u001b[0;36m<module>\u001b[0;34m\u001b[0m\n\u001b[0;32m----> 1\u001b[0;31m \u001b[0mseries\u001b[0m\u001b[0;34m(\u001b[0m\u001b[0mTotalSum\u001b[0m\u001b[0;34m(\u001b[0m\u001b[0mn\u001b[0m\u001b[0;34m,\u001b[0m\u001b[0mm\u001b[0m\u001b[0;34m,\u001b[0m\u001b[0md\u001b[0m\u001b[0;34m)\u001b[0m\u001b[0;34m,\u001b[0m \u001b[0mt\u001b[0m\u001b[0;34m,\u001b[0m \u001b[0;36m0\u001b[0m\u001b[0;34m)\u001b[0m\u001b[0;34m\u001b[0m\u001b[0;34m\u001b[0m\u001b[0m\n\u001b[0m",
      "\u001b[0;32m/private/var/tmp/sage-9.6-current/local/var/lib/sage/venv-python3.10.3/lib/python3.10/site-packages/sympy/series/series.py\u001b[0m in \u001b[0;36mseries\u001b[0;34m(expr, x, x0, n, dir)\u001b[0m\n\u001b[1;32m     61\u001b[0m     \"\"\"\n\u001b[1;32m     62\u001b[0m     \u001b[0mexpr\u001b[0m \u001b[0;34m=\u001b[0m \u001b[0msympify\u001b[0m\u001b[0;34m(\u001b[0m\u001b[0mexpr\u001b[0m\u001b[0;34m)\u001b[0m\u001b[0;34m\u001b[0m\u001b[0;34m\u001b[0m\u001b[0m\n\u001b[0;32m---> 63\u001b[0;31m     \u001b[0;32mreturn\u001b[0m \u001b[0mexpr\u001b[0m\u001b[0;34m.\u001b[0m\u001b[0mseries\u001b[0m\u001b[0;34m(\u001b[0m\u001b[0mx\u001b[0m\u001b[0;34m,\u001b[0m \u001b[0mx0\u001b[0m\u001b[0;34m,\u001b[0m \u001b[0mn\u001b[0m\u001b[0;34m,\u001b[0m \u001b[0mdir\u001b[0m\u001b[0;34m)\u001b[0m\u001b[0;34m\u001b[0m\u001b[0;34m\u001b[0m\u001b[0m\n\u001b[0m",
      "\u001b[0;32m/private/var/tmp/sage-9.6-current/local/var/lib/sage/venv-python3.10.3/lib/python3.10/site-packages/sympy/core/expr.py\u001b[0m in \u001b[0;36mseries\u001b[0;34m(self, x, x0, n, dir, logx, cdir)\u001b[0m\n\u001b[1;32m   2988\u001b[0m             \u001b[0;31m# replace x with an x that has a positive assumption\u001b[0m\u001b[0;34m\u001b[0m\u001b[0;34m\u001b[0m\u001b[0m\n\u001b[1;32m   2989\u001b[0m             \u001b[0mxpos\u001b[0m \u001b[0;34m=\u001b[0m \u001b[0mDummy\u001b[0m\u001b[0;34m(\u001b[0m\u001b[0;34m'x'\u001b[0m\u001b[0;34m,\u001b[0m \u001b[0mpositive\u001b[0m\u001b[0;34m=\u001b[0m\u001b[0;32mTrue\u001b[0m\u001b[0;34m)\u001b[0m\u001b[0;34m\u001b[0m\u001b[0;34m\u001b[0m\u001b[0m\n\u001b[0;32m-> 2990\u001b[0;31m             \u001b[0mrv\u001b[0m \u001b[0;34m=\u001b[0m \u001b[0mself\u001b[0m\u001b[0;34m.\u001b[0m\u001b[0msubs\u001b[0m\u001b[0;34m(\u001b[0m\u001b[0mx\u001b[0m\u001b[0;34m,\u001b[0m \u001b[0mxpos\u001b[0m\u001b[0;34m)\u001b[0m\u001b[0;34m.\u001b[0m\u001b[0mseries\u001b[0m\u001b[0;34m(\u001b[0m\u001b[0mxpos\u001b[0m\u001b[0;34m,\u001b[0m \u001b[0mx0\u001b[0m\u001b[0;34m,\u001b[0m \u001b[0mn\u001b[0m\u001b[0;34m,\u001b[0m \u001b[0mdir\u001b[0m\u001b[0;34m,\u001b[0m \u001b[0mlogx\u001b[0m\u001b[0;34m=\u001b[0m\u001b[0mlogx\u001b[0m\u001b[0;34m,\u001b[0m \u001b[0mcdir\u001b[0m\u001b[0;34m=\u001b[0m\u001b[0mcdir\u001b[0m\u001b[0;34m)\u001b[0m\u001b[0;34m\u001b[0m\u001b[0;34m\u001b[0m\u001b[0m\n\u001b[0m\u001b[1;32m   2991\u001b[0m             \u001b[0;32mif\u001b[0m \u001b[0mn\u001b[0m \u001b[0;32mis\u001b[0m \u001b[0;32mNone\u001b[0m\u001b[0;34m:\u001b[0m\u001b[0;34m\u001b[0m\u001b[0;34m\u001b[0m\u001b[0m\n\u001b[1;32m   2992\u001b[0m                 \u001b[0;32mreturn\u001b[0m \u001b[0;34m(\u001b[0m\u001b[0ms\u001b[0m\u001b[0;34m.\u001b[0m\u001b[0msubs\u001b[0m\u001b[0;34m(\u001b[0m\u001b[0mxpos\u001b[0m\u001b[0;34m,\u001b[0m \u001b[0mx\u001b[0m\u001b[0;34m)\u001b[0m \u001b[0;32mfor\u001b[0m \u001b[0ms\u001b[0m \u001b[0;32min\u001b[0m \u001b[0mrv\u001b[0m\u001b[0;34m)\u001b[0m\u001b[0;34m\u001b[0m\u001b[0;34m\u001b[0m\u001b[0m\n",
      "\u001b[0;32m/private/var/tmp/sage-9.6-current/local/var/lib/sage/venv-python3.10.3/lib/python3.10/site-packages/sympy/core/expr.py\u001b[0m in \u001b[0;36mseries\u001b[0;34m(self, x, x0, n, dir, logx, cdir)\u001b[0m\n\u001b[1;32m   2996\u001b[0m         \u001b[0;32mfrom\u001b[0m \u001b[0msympy\u001b[0m\u001b[0;34m.\u001b[0m\u001b[0mseries\u001b[0m\u001b[0;34m.\u001b[0m\u001b[0morder\u001b[0m \u001b[0;32mimport\u001b[0m \u001b[0mOrder\u001b[0m\u001b[0;34m\u001b[0m\u001b[0;34m\u001b[0m\u001b[0m\n\u001b[1;32m   2997\u001b[0m         \u001b[0;32mif\u001b[0m \u001b[0mn\u001b[0m \u001b[0;32mis\u001b[0m \u001b[0;32mnot\u001b[0m \u001b[0;32mNone\u001b[0m\u001b[0;34m:\u001b[0m  \u001b[0;31m# nseries handling\u001b[0m\u001b[0;34m\u001b[0m\u001b[0;34m\u001b[0m\u001b[0m\n\u001b[0;32m-> 2998\u001b[0;31m             \u001b[0ms1\u001b[0m \u001b[0;34m=\u001b[0m \u001b[0mself\u001b[0m\u001b[0;34m.\u001b[0m\u001b[0m_eval_nseries\u001b[0m\u001b[0;34m(\u001b[0m\u001b[0mx\u001b[0m\u001b[0;34m,\u001b[0m \u001b[0mn\u001b[0m\u001b[0;34m=\u001b[0m\u001b[0mn\u001b[0m\u001b[0;34m,\u001b[0m \u001b[0mlogx\u001b[0m\u001b[0;34m=\u001b[0m\u001b[0mlogx\u001b[0m\u001b[0;34m,\u001b[0m \u001b[0mcdir\u001b[0m\u001b[0;34m=\u001b[0m\u001b[0mcdir\u001b[0m\u001b[0;34m)\u001b[0m\u001b[0;34m\u001b[0m\u001b[0;34m\u001b[0m\u001b[0m\n\u001b[0m\u001b[1;32m   2999\u001b[0m             \u001b[0mo\u001b[0m \u001b[0;34m=\u001b[0m \u001b[0ms1\u001b[0m\u001b[0;34m.\u001b[0m\u001b[0mgetO\u001b[0m\u001b[0;34m(\u001b[0m\u001b[0;34m)\u001b[0m \u001b[0;32mor\u001b[0m \u001b[0mS\u001b[0m\u001b[0;34m.\u001b[0m\u001b[0mZero\u001b[0m\u001b[0;34m\u001b[0m\u001b[0;34m\u001b[0m\u001b[0m\n\u001b[1;32m   3000\u001b[0m             \u001b[0;32mif\u001b[0m \u001b[0mo\u001b[0m\u001b[0;34m:\u001b[0m\u001b[0;34m\u001b[0m\u001b[0;34m\u001b[0m\u001b[0m\n",
      "\u001b[0;32m/private/var/tmp/sage-9.6-current/local/var/lib/sage/venv-python3.10.3/lib/python3.10/site-packages/sympy/core/add.py\u001b[0m in \u001b[0;36m_eval_nseries\u001b[0;34m(self, x, n, logx, cdir)\u001b[0m\n\u001b[1;32m    540\u001b[0m \u001b[0;34m\u001b[0m\u001b[0m\n\u001b[1;32m    541\u001b[0m     \u001b[0;32mdef\u001b[0m \u001b[0m_eval_nseries\u001b[0m\u001b[0;34m(\u001b[0m\u001b[0mself\u001b[0m\u001b[0;34m,\u001b[0m \u001b[0mx\u001b[0m\u001b[0;34m,\u001b[0m \u001b[0mn\u001b[0m\u001b[0;34m,\u001b[0m \u001b[0mlogx\u001b[0m\u001b[0;34m,\u001b[0m \u001b[0mcdir\u001b[0m\u001b[0;34m=\u001b[0m\u001b[0;36m0\u001b[0m\u001b[0;34m)\u001b[0m\u001b[0;34m:\u001b[0m\u001b[0;34m\u001b[0m\u001b[0;34m\u001b[0m\u001b[0m\n\u001b[0;32m--> 542\u001b[0;31m         \u001b[0mterms\u001b[0m \u001b[0;34m=\u001b[0m \u001b[0;34m[\u001b[0m\u001b[0mt\u001b[0m\u001b[0;34m.\u001b[0m\u001b[0mnseries\u001b[0m\u001b[0;34m(\u001b[0m\u001b[0mx\u001b[0m\u001b[0;34m,\u001b[0m \u001b[0mn\u001b[0m\u001b[0;34m=\u001b[0m\u001b[0mn\u001b[0m\u001b[0;34m,\u001b[0m \u001b[0mlogx\u001b[0m\u001b[0;34m=\u001b[0m\u001b[0mlogx\u001b[0m\u001b[0;34m,\u001b[0m \u001b[0mcdir\u001b[0m\u001b[0;34m=\u001b[0m\u001b[0mcdir\u001b[0m\u001b[0;34m)\u001b[0m \u001b[0;32mfor\u001b[0m \u001b[0mt\u001b[0m \u001b[0;32min\u001b[0m \u001b[0mself\u001b[0m\u001b[0;34m.\u001b[0m\u001b[0margs\u001b[0m\u001b[0;34m]\u001b[0m\u001b[0;34m\u001b[0m\u001b[0;34m\u001b[0m\u001b[0m\n\u001b[0m\u001b[1;32m    543\u001b[0m         \u001b[0;32mreturn\u001b[0m \u001b[0mself\u001b[0m\u001b[0;34m.\u001b[0m\u001b[0mfunc\u001b[0m\u001b[0;34m(\u001b[0m\u001b[0;34m*\u001b[0m\u001b[0mterms\u001b[0m\u001b[0;34m)\u001b[0m\u001b[0;34m\u001b[0m\u001b[0;34m\u001b[0m\u001b[0m\n\u001b[1;32m    544\u001b[0m \u001b[0;34m\u001b[0m\u001b[0m\n",
      "\u001b[0;32m/private/var/tmp/sage-9.6-current/local/var/lib/sage/venv-python3.10.3/lib/python3.10/site-packages/sympy/core/add.py\u001b[0m in \u001b[0;36m<listcomp>\u001b[0;34m(.0)\u001b[0m\n\u001b[1;32m    540\u001b[0m \u001b[0;34m\u001b[0m\u001b[0m\n\u001b[1;32m    541\u001b[0m     \u001b[0;32mdef\u001b[0m \u001b[0m_eval_nseries\u001b[0m\u001b[0;34m(\u001b[0m\u001b[0mself\u001b[0m\u001b[0;34m,\u001b[0m \u001b[0mx\u001b[0m\u001b[0;34m,\u001b[0m \u001b[0mn\u001b[0m\u001b[0;34m,\u001b[0m \u001b[0mlogx\u001b[0m\u001b[0;34m,\u001b[0m \u001b[0mcdir\u001b[0m\u001b[0;34m=\u001b[0m\u001b[0;36m0\u001b[0m\u001b[0;34m)\u001b[0m\u001b[0;34m:\u001b[0m\u001b[0;34m\u001b[0m\u001b[0;34m\u001b[0m\u001b[0m\n\u001b[0;32m--> 542\u001b[0;31m         \u001b[0mterms\u001b[0m \u001b[0;34m=\u001b[0m \u001b[0;34m[\u001b[0m\u001b[0mt\u001b[0m\u001b[0;34m.\u001b[0m\u001b[0mnseries\u001b[0m\u001b[0;34m(\u001b[0m\u001b[0mx\u001b[0m\u001b[0;34m,\u001b[0m \u001b[0mn\u001b[0m\u001b[0;34m=\u001b[0m\u001b[0mn\u001b[0m\u001b[0;34m,\u001b[0m \u001b[0mlogx\u001b[0m\u001b[0;34m=\u001b[0m\u001b[0mlogx\u001b[0m\u001b[0;34m,\u001b[0m \u001b[0mcdir\u001b[0m\u001b[0;34m=\u001b[0m\u001b[0mcdir\u001b[0m\u001b[0;34m)\u001b[0m \u001b[0;32mfor\u001b[0m \u001b[0mt\u001b[0m \u001b[0;32min\u001b[0m \u001b[0mself\u001b[0m\u001b[0;34m.\u001b[0m\u001b[0margs\u001b[0m\u001b[0;34m]\u001b[0m\u001b[0;34m\u001b[0m\u001b[0;34m\u001b[0m\u001b[0m\n\u001b[0m\u001b[1;32m    543\u001b[0m         \u001b[0;32mreturn\u001b[0m \u001b[0mself\u001b[0m\u001b[0;34m.\u001b[0m\u001b[0mfunc\u001b[0m\u001b[0;34m(\u001b[0m\u001b[0;34m*\u001b[0m\u001b[0mterms\u001b[0m\u001b[0;34m)\u001b[0m\u001b[0;34m\u001b[0m\u001b[0;34m\u001b[0m\u001b[0m\n\u001b[1;32m    544\u001b[0m \u001b[0;34m\u001b[0m\u001b[0m\n",
      "\u001b[0;32m/private/var/tmp/sage-9.6-current/local/var/lib/sage/venv-python3.10.3/lib/python3.10/site-packages/sympy/core/expr.py\u001b[0m in \u001b[0;36mnseries\u001b[0;34m(self, x, x0, n, dir, logx, cdir)\u001b[0m\n\u001b[1;32m   3361\u001b[0m             \u001b[0;32mreturn\u001b[0m \u001b[0mself\u001b[0m\u001b[0;34m.\u001b[0m\u001b[0mseries\u001b[0m\u001b[0;34m(\u001b[0m\u001b[0mx\u001b[0m\u001b[0;34m,\u001b[0m \u001b[0mx0\u001b[0m\u001b[0;34m,\u001b[0m \u001b[0mn\u001b[0m\u001b[0;34m,\u001b[0m \u001b[0mdir\u001b[0m\u001b[0;34m,\u001b[0m \u001b[0mcdir\u001b[0m\u001b[0;34m=\u001b[0m\u001b[0mcdir\u001b[0m\u001b[0;34m)\u001b[0m\u001b[0;34m\u001b[0m\u001b[0;34m\u001b[0m\u001b[0m\n\u001b[1;32m   3362\u001b[0m         \u001b[0;32melse\u001b[0m\u001b[0;34m:\u001b[0m\u001b[0;34m\u001b[0m\u001b[0;34m\u001b[0m\u001b[0m\n\u001b[0;32m-> 3363\u001b[0;31m             \u001b[0;32mreturn\u001b[0m \u001b[0mself\u001b[0m\u001b[0;34m.\u001b[0m\u001b[0m_eval_nseries\u001b[0m\u001b[0;34m(\u001b[0m\u001b[0mx\u001b[0m\u001b[0;34m,\u001b[0m \u001b[0mn\u001b[0m\u001b[0;34m=\u001b[0m\u001b[0mn\u001b[0m\u001b[0;34m,\u001b[0m \u001b[0mlogx\u001b[0m\u001b[0;34m=\u001b[0m\u001b[0mlogx\u001b[0m\u001b[0;34m,\u001b[0m \u001b[0mcdir\u001b[0m\u001b[0;34m=\u001b[0m\u001b[0mcdir\u001b[0m\u001b[0;34m)\u001b[0m\u001b[0;34m\u001b[0m\u001b[0;34m\u001b[0m\u001b[0m\n\u001b[0m\u001b[1;32m   3364\u001b[0m \u001b[0;34m\u001b[0m\u001b[0m\n\u001b[1;32m   3365\u001b[0m     \u001b[0;32mdef\u001b[0m \u001b[0m_eval_nseries\u001b[0m\u001b[0;34m(\u001b[0m\u001b[0mself\u001b[0m\u001b[0;34m,\u001b[0m \u001b[0mx\u001b[0m\u001b[0;34m,\u001b[0m \u001b[0mn\u001b[0m\u001b[0;34m,\u001b[0m \u001b[0mlogx\u001b[0m\u001b[0;34m,\u001b[0m \u001b[0mcdir\u001b[0m\u001b[0;34m)\u001b[0m\u001b[0;34m:\u001b[0m\u001b[0;34m\u001b[0m\u001b[0;34m\u001b[0m\u001b[0m\n",
      "\u001b[0;32m/private/var/tmp/sage-9.6-current/local/var/lib/sage/venv-python3.10.3/lib/python3.10/site-packages/sympy/core/mul.py\u001b[0m in \u001b[0;36m_eval_nseries\u001b[0;34m(self, x, n, logx, cdir)\u001b[0m\n\u001b[1;32m   1985\u001b[0m \u001b[0;34m\u001b[0m\u001b[0m\n\u001b[1;32m   1986\u001b[0m         \u001b[0;32mfor\u001b[0m \u001b[0mfac\u001b[0m \u001b[0;32min\u001b[0m \u001b[0mproduct\u001b[0m\u001b[0;34m(\u001b[0m\u001b[0;34m*\u001b[0m\u001b[0mords2\u001b[0m\u001b[0;34m)\u001b[0m\u001b[0;34m:\u001b[0m\u001b[0;34m\u001b[0m\u001b[0;34m\u001b[0m\u001b[0m\n\u001b[0;32m-> 1987\u001b[0;31m             \u001b[0mords3\u001b[0m \u001b[0;34m=\u001b[0m \u001b[0;34m[\u001b[0m\u001b[0mcoeff_exp\u001b[0m\u001b[0;34m(\u001b[0m\u001b[0mterm\u001b[0m\u001b[0;34m,\u001b[0m \u001b[0mx\u001b[0m\u001b[0;34m)\u001b[0m \u001b[0;32mfor\u001b[0m \u001b[0mterm\u001b[0m \u001b[0;32min\u001b[0m \u001b[0mfac\u001b[0m\u001b[0;34m]\u001b[0m\u001b[0;34m\u001b[0m\u001b[0;34m\u001b[0m\u001b[0m\n\u001b[0m\u001b[1;32m   1988\u001b[0m             \u001b[0mcoeffs\u001b[0m\u001b[0;34m,\u001b[0m \u001b[0mpowers\u001b[0m \u001b[0;34m=\u001b[0m \u001b[0mzip\u001b[0m\u001b[0;34m(\u001b[0m\u001b[0;34m*\u001b[0m\u001b[0mords3\u001b[0m\u001b[0;34m)\u001b[0m\u001b[0;34m\u001b[0m\u001b[0;34m\u001b[0m\u001b[0m\n\u001b[1;32m   1989\u001b[0m             \u001b[0mpower\u001b[0m \u001b[0;34m=\u001b[0m \u001b[0msum\u001b[0m\u001b[0;34m(\u001b[0m\u001b[0mpowers\u001b[0m\u001b[0;34m)\u001b[0m\u001b[0;34m\u001b[0m\u001b[0;34m\u001b[0m\u001b[0m\n",
      "\u001b[0;32m/private/var/tmp/sage-9.6-current/local/var/lib/sage/venv-python3.10.3/lib/python3.10/site-packages/sympy/core/mul.py\u001b[0m in \u001b[0;36m<listcomp>\u001b[0;34m(.0)\u001b[0m\n\u001b[1;32m   1985\u001b[0m \u001b[0;34m\u001b[0m\u001b[0m\n\u001b[1;32m   1986\u001b[0m         \u001b[0;32mfor\u001b[0m \u001b[0mfac\u001b[0m \u001b[0;32min\u001b[0m \u001b[0mproduct\u001b[0m\u001b[0;34m(\u001b[0m\u001b[0;34m*\u001b[0m\u001b[0mords2\u001b[0m\u001b[0;34m)\u001b[0m\u001b[0;34m:\u001b[0m\u001b[0;34m\u001b[0m\u001b[0;34m\u001b[0m\u001b[0m\n\u001b[0;32m-> 1987\u001b[0;31m             \u001b[0mords3\u001b[0m \u001b[0;34m=\u001b[0m \u001b[0;34m[\u001b[0m\u001b[0mcoeff_exp\u001b[0m\u001b[0;34m(\u001b[0m\u001b[0mterm\u001b[0m\u001b[0;34m,\u001b[0m \u001b[0mx\u001b[0m\u001b[0;34m)\u001b[0m \u001b[0;32mfor\u001b[0m \u001b[0mterm\u001b[0m \u001b[0;32min\u001b[0m \u001b[0mfac\u001b[0m\u001b[0;34m]\u001b[0m\u001b[0;34m\u001b[0m\u001b[0;34m\u001b[0m\u001b[0m\n\u001b[0m\u001b[1;32m   1988\u001b[0m             \u001b[0mcoeffs\u001b[0m\u001b[0;34m,\u001b[0m \u001b[0mpowers\u001b[0m \u001b[0;34m=\u001b[0m \u001b[0mzip\u001b[0m\u001b[0;34m(\u001b[0m\u001b[0;34m*\u001b[0m\u001b[0mords3\u001b[0m\u001b[0;34m)\u001b[0m\u001b[0;34m\u001b[0m\u001b[0;34m\u001b[0m\u001b[0m\n\u001b[1;32m   1989\u001b[0m             \u001b[0mpower\u001b[0m \u001b[0;34m=\u001b[0m \u001b[0msum\u001b[0m\u001b[0;34m(\u001b[0m\u001b[0mpowers\u001b[0m\u001b[0;34m)\u001b[0m\u001b[0;34m\u001b[0m\u001b[0;34m\u001b[0m\u001b[0m\n",
      "\u001b[0;32m/private/var/tmp/sage-9.6-current/local/var/lib/sage/venv-python3.10.3/lib/python3.10/site-packages/sympy/core/mul.py\u001b[0m in \u001b[0;36mcoeff_exp\u001b[0;34m(term, x)\u001b[0m\n\u001b[1;32m   1941\u001b[0m \u001b[0;34m\u001b[0m\u001b[0m\n\u001b[1;32m   1942\u001b[0m         \u001b[0;32mdef\u001b[0m \u001b[0mcoeff_exp\u001b[0m\u001b[0;34m(\u001b[0m\u001b[0mterm\u001b[0m\u001b[0;34m,\u001b[0m \u001b[0mx\u001b[0m\u001b[0;34m)\u001b[0m\u001b[0;34m:\u001b[0m\u001b[0;34m\u001b[0m\u001b[0;34m\u001b[0m\u001b[0m\n\u001b[0;32m-> 1943\u001b[0;31m             \u001b[0mlt\u001b[0m \u001b[0;34m=\u001b[0m \u001b[0mterm\u001b[0m\u001b[0;34m.\u001b[0m\u001b[0mas_coeff_exponent\u001b[0m\u001b[0;34m(\u001b[0m\u001b[0mx\u001b[0m\u001b[0;34m)\u001b[0m\u001b[0;34m\u001b[0m\u001b[0;34m\u001b[0m\u001b[0m\n\u001b[0m\u001b[1;32m   1944\u001b[0m             \u001b[0;32mif\u001b[0m \u001b[0mlt\u001b[0m\u001b[0;34m[\u001b[0m\u001b[0;36m0\u001b[0m\u001b[0;34m]\u001b[0m\u001b[0;34m.\u001b[0m\u001b[0mhas\u001b[0m\u001b[0;34m(\u001b[0m\u001b[0mx\u001b[0m\u001b[0;34m)\u001b[0m\u001b[0;34m:\u001b[0m\u001b[0;34m\u001b[0m\u001b[0;34m\u001b[0m\u001b[0m\n\u001b[1;32m   1945\u001b[0m                 \u001b[0;32mtry\u001b[0m\u001b[0;34m:\u001b[0m\u001b[0;34m\u001b[0m\u001b[0;34m\u001b[0m\u001b[0m\n",
      "\u001b[0;32m/private/var/tmp/sage-9.6-current/local/var/lib/sage/venv-python3.10.3/lib/python3.10/site-packages/sympy/core/expr.py\u001b[0m in \u001b[0;36mas_coeff_exponent\u001b[0;34m(self, x)\u001b[0m\n\u001b[1;32m   3454\u001b[0m         \"\"\"\n\u001b[1;32m   3455\u001b[0m         \u001b[0;32mfrom\u001b[0m \u001b[0msympy\u001b[0m\u001b[0;34m.\u001b[0m\u001b[0msimplify\u001b[0m\u001b[0;34m.\u001b[0m\u001b[0mradsimp\u001b[0m \u001b[0;32mimport\u001b[0m \u001b[0mcollect\u001b[0m\u001b[0;34m\u001b[0m\u001b[0;34m\u001b[0m\u001b[0m\n\u001b[0;32m-> 3456\u001b[0;31m         \u001b[0ms\u001b[0m \u001b[0;34m=\u001b[0m \u001b[0mcollect\u001b[0m\u001b[0;34m(\u001b[0m\u001b[0mself\u001b[0m\u001b[0;34m,\u001b[0m \u001b[0mx\u001b[0m\u001b[0;34m)\u001b[0m\u001b[0;34m\u001b[0m\u001b[0;34m\u001b[0m\u001b[0m\n\u001b[0m\u001b[1;32m   3457\u001b[0m         \u001b[0mc\u001b[0m\u001b[0;34m,\u001b[0m \u001b[0mp\u001b[0m \u001b[0;34m=\u001b[0m \u001b[0ms\u001b[0m\u001b[0;34m.\u001b[0m\u001b[0mas_coeff_mul\u001b[0m\u001b[0;34m(\u001b[0m\u001b[0mx\u001b[0m\u001b[0;34m)\u001b[0m\u001b[0;34m\u001b[0m\u001b[0;34m\u001b[0m\u001b[0m\n\u001b[1;32m   3458\u001b[0m         \u001b[0;32mif\u001b[0m \u001b[0mlen\u001b[0m\u001b[0;34m(\u001b[0m\u001b[0mp\u001b[0m\u001b[0;34m)\u001b[0m \u001b[0;34m==\u001b[0m \u001b[0;36m1\u001b[0m\u001b[0;34m:\u001b[0m\u001b[0;34m\u001b[0m\u001b[0;34m\u001b[0m\u001b[0m\n",
      "\u001b[0;32m/private/var/tmp/sage-9.6-current/local/var/lib/sage/venv-python3.10.3/lib/python3.10/site-packages/sympy/simplify/radsimp.py\u001b[0m in \u001b[0;36mcollect\u001b[0;34m(expr, syms, func, evaluate, exact, distribute_order_term)\u001b[0m\n\u001b[1;32m    165\u001b[0m     \"\"\"\n\u001b[1;32m    166\u001b[0m     \u001b[0mexpr\u001b[0m \u001b[0;34m=\u001b[0m \u001b[0msympify\u001b[0m\u001b[0;34m(\u001b[0m\u001b[0mexpr\u001b[0m\u001b[0;34m)\u001b[0m\u001b[0;34m\u001b[0m\u001b[0;34m\u001b[0m\u001b[0m\n\u001b[0;32m--> 167\u001b[0;31m     \u001b[0msyms\u001b[0m \u001b[0;34m=\u001b[0m \u001b[0;34m[\u001b[0m\u001b[0msympify\u001b[0m\u001b[0;34m(\u001b[0m\u001b[0mi\u001b[0m\u001b[0;34m)\u001b[0m \u001b[0;32mfor\u001b[0m \u001b[0mi\u001b[0m \u001b[0;32min\u001b[0m \u001b[0;34m(\u001b[0m\u001b[0msyms\u001b[0m \u001b[0;32mif\u001b[0m \u001b[0miterable\u001b[0m\u001b[0;34m(\u001b[0m\u001b[0msyms\u001b[0m\u001b[0;34m)\u001b[0m \u001b[0;32melse\u001b[0m \u001b[0;34m[\u001b[0m\u001b[0msyms\u001b[0m\u001b[0;34m]\u001b[0m\u001b[0;34m)\u001b[0m\u001b[0;34m]\u001b[0m\u001b[0;34m\u001b[0m\u001b[0;34m\u001b[0m\u001b[0m\n\u001b[0m\u001b[1;32m    168\u001b[0m     \u001b[0;31m# replace syms[i] if it is not x, -x or has Wild symbols\u001b[0m\u001b[0;34m\u001b[0m\u001b[0;34m\u001b[0m\u001b[0m\n\u001b[1;32m    169\u001b[0m     cond = lambda x: x.is_Symbol or (-x).is_Symbol or bool(\n",
      "\u001b[0;31mKeyboardInterrupt\u001b[0m: "
     ]
    }
   ],
   "source": [
    "series(TotalSum(n,m,d), t, 0)"
   ]
  },
  {
   "cell_type": "code",
   "execution_count": null,
   "metadata": {},
   "outputs": [],
   "source": []
  },
  {
   "cell_type": "code",
   "execution_count": null,
   "metadata": {},
   "outputs": [],
   "source": []
  }
 ],
 "metadata": {
  "kernelspec": {
   "display_name": "Python 3 (ipykernel)",
   "language": "python",
   "name": "python3"
  },
  "language_info": {
   "codemirror_mode": {
    "name": "ipython",
    "version": 3
   },
   "file_extension": ".py",
   "mimetype": "text/x-python",
   "name": "python",
   "nbconvert_exporter": "python",
   "pygments_lexer": "ipython3",
   "version": "3.10.3"
  }
 },
 "nbformat": 4,
 "nbformat_minor": 4
}
