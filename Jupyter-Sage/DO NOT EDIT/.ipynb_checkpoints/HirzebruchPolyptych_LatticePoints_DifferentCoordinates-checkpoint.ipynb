{
 "cells": [
  {
   "cell_type": "code",
   "execution_count": 3,
   "metadata": {},
   "outputs": [],
   "source": [
    "from sympy import *\n",
    "from sympy.vector import Vector\n",
    "from sympy.vector import CoordSys3D\n",
    "import IPython.display as disp\n",
    "\n",
    "N = CoordSys3D('N')\n",
    "\n",
    "t, k = symbols( 't k' )\n",
    "n, m, d, a = symbols('n m d a', positive=True, integer=True, real=True)\n",
    "# init_printing(use_unicode=True)\n",
    "init_printing(use_latex='mathjax')\n",
    "\n",
    "# Basis for the edge/weight vectors for the points \n",
    "\n",
    "v1 = N.i\n",
    "v2 = N.j\n",
    "\n",
    "# Define the vector which is not parallel to any edge vector, which will tend to zero:\n",
    "\n",
    "Phi = t*(v1 + 3*v2)"
   ]
  },
  {
   "cell_type": "code",
   "execution_count": 4,
   "metadata": {},
   "outputs": [
    {
     "data": {
      "text/latex": [
       "$\\displaystyle \\mathbf{\\hat{0}}$"
      ],
      "text/plain": [
       "0"
      ]
     },
     "metadata": {},
     "output_type": "display_data"
    },
    {
     "data": {
      "text/latex": [
       "$\\displaystyle (m + n)\\mathbf{\\hat{i}_{N}}$"
      ],
      "text/plain": [
       "(m + n) i_N"
      ]
     },
     "metadata": {},
     "output_type": "display_data"
    },
    {
     "data": {
      "text/latex": [
       "$\\displaystyle (n)\\mathbf{\\hat{i}_{N}} + (m)\\mathbf{\\hat{j}_{N}}$"
      ],
      "text/plain": [
       "(n) i_N + (m) j_N"
      ]
     },
     "metadata": {},
     "output_type": "display_data"
    },
    {
     "data": {
      "text/latex": [
       "$\\displaystyle (m)\\mathbf{\\hat{j}_{N}}$"
      ],
      "text/plain": [
       "(m) j_N"
      ]
     },
     "metadata": {},
     "output_type": "display_data"
    },
    {
     "data": {
      "text/latex": [
       "$\\displaystyle (m + n)\\mathbf{\\hat{j}_{N}}$"
      ],
      "text/plain": [
       "(m + n) j_N"
      ]
     },
     "metadata": {},
     "output_type": "display_data"
    }
   ],
   "source": [
    "# Set the fixed points of the action; P denotes those that belong\n",
    "# to the core, and Q those that come from the cut extended core:\n",
    "\n",
    "def P12(n,m):\n",
    "    return Vector.zero\n",
    "\n",
    "def P23(n,m):\n",
    "    return (n+m)*v1\n",
    "\n",
    "def P34(n,m):\n",
    "    return n*v1 + m*v2\n",
    "\n",
    "def P14(n,m):\n",
    "    return m*v2\n",
    "\n",
    "def P13(n,m):\n",
    "    return (n+m)*v2\n",
    "\n",
    "interiorPoints = [P12(n,m), P23(n,m), P34(n,m), P14(n,m), P13(n,m)]\n",
    "\n",
    "for P in interiorPoints:\n",
    "    display(P)"
   ]
  },
  {
   "cell_type": "code",
   "execution_count": 8,
   "metadata": {},
   "outputs": [
    {
     "data": {
      "text/latex": [
       "$\\displaystyle (- 2 d - n)\\mathbf{\\hat{j}_{N}}$"
      ],
      "text/plain": [
       "(-2⋅d - n) j_N"
      ]
     },
     "metadata": {},
     "output_type": "display_data"
    },
    {
     "data": {
      "text/latex": [
       "$\\displaystyle (- 2 d - n)\\mathbf{\\hat{i}_{N}}$"
      ],
      "text/plain": [
       "(-2⋅d - n) i_N"
      ]
     },
     "metadata": {},
     "output_type": "display_data"
    },
    {
     "data": {
      "text/latex": [
       "$\\displaystyle (2 d + m + 2 n)\\mathbf{\\hat{i}_{N}}$"
      ],
      "text/plain": [
       "(2⋅d + m + 2⋅n) i_N"
      ]
     },
     "metadata": {},
     "output_type": "display_data"
    },
    {
     "data": {
      "text/latex": [
       "$\\displaystyle (2 d + m + 2 n)\\mathbf{\\hat{i}_{N}} + (- 2 d - n)\\mathbf{\\hat{j}_{N}}$"
      ],
      "text/plain": [
       "(2⋅d + m + 2⋅n) i_N + (-2⋅d - n) j_N"
      ]
     },
     "metadata": {},
     "output_type": "display_data"
    },
    {
     "data": {
      "text/latex": [
       "$\\displaystyle (2 d + 2 n)\\mathbf{\\hat{i}_{N}} + (m)\\mathbf{\\hat{j}_{N}}$"
      ],
      "text/plain": [
       "(2⋅d + 2⋅n) i_N + (m) j_N"
      ]
     },
     "metadata": {},
     "output_type": "display_data"
    },
    {
     "data": {
      "text/latex": [
       "$\\displaystyle (- 2 d - n)\\mathbf{\\hat{i}_{N}} + (m)\\mathbf{\\hat{j}_{N}}$"
      ],
      "text/plain": [
       "(-2⋅d - n) i_N + (m) j_N"
      ]
     },
     "metadata": {},
     "output_type": "display_data"
    },
    {
     "data": {
      "text/latex": [
       "$\\displaystyle (d + m + n)\\mathbf{\\hat{j}_{N}}$"
      ],
      "text/plain": [
       "(d + m + n) j_N"
      ]
     },
     "metadata": {},
     "output_type": "display_data"
    },
    {
     "data": {
      "text/latex": [
       "$\\displaystyle (- d)\\mathbf{\\hat{i}_{N}} + (d + m + n)\\mathbf{\\hat{j}_{N}}$"
      ],
      "text/plain": [
       "(-d) i_N + (d + m + n) j_N"
      ]
     },
     "metadata": {},
     "output_type": "display_data"
    }
   ],
   "source": [
    "def Q12_1(n,m,d):\n",
    "    return (-n - 2*d)*v2\n",
    "\n",
    "def Q12_2(n,m,d):\n",
    "    return (-n - 2*d)*v1\n",
    "\n",
    "def Q23_2(n,m,d):\n",
    "    return (2*n + m + 2*d)*v1\n",
    "\n",
    "def Q23_3(n,m,d):\n",
    "    return (2*n + m + 2*d)*v1 + (-n - 2*d)*v2\n",
    "\n",
    "def Q34_4(n,m,d):\n",
    "    return (2*n + 2*d)*v1 + m*v2\n",
    "\n",
    "def Q13_1(n,m,d):\n",
    "    return (n + m + d)*v2\n",
    "\n",
    "def Q13_3(n,m,d):\n",
    "    return -d*v1 + (n + m + d)*v2\n",
    "\n",
    "def Q14_4(n,m,d):\n",
    "    return (-n - 2*d)*v1 + m*v2\n",
    "\n",
    "boundaryPoints = [Q12_1(n,m,d), Q12_2(n,m,d), Q23_2(n,m,d), Q23_3(n,m,d), Q34_4(n,m,d), Q14_4(n,m,d), Q13_1(n,m,d), Q13_3(n,m,d)]\n",
    "\n",
    "for Q in boundaryPoints:\n",
    "    display(Q)"
   ]
  },
  {
   "cell_type": "code",
   "execution_count": 7,
   "metadata": {},
   "outputs": [],
   "source": [
    "# Define the term which is summed over each fixed point,\n",
    "# representing the character for the representation\n",
    "\n",
    "def P(P, edge1, edge2, edge3, edge4):\n",
    "    return exp( Phi.dot(P) ) / ( (1 - exp( Phi.dot(edge1) ) ) * ( 1 - exp( Phi.dot(edge2) ) ) * ( 1 - exp( Phi.dot(edge3) ) ) * ( 1 - exp( Phi.dot(edge4) ) ) )\n",
    "\n",
    "def Q(P, edge1, edge2):\n",
    "    return exp( Phi.dot(P) ) / ( (1 - exp( Phi.dot(edge1) ) ) * ( 1 - exp( Phi.dot(edge2) ) ) )\n",
    "\n",
    "def Exp(p, q):\n",
    "    return exp( 2*pi*I*Rational(p,q) )\n",
    "\n",
    "def gExp(g, P):\n",
    "    return exp( 2*pi*I*g.dot(P) )\n",
    "\n",
    "def OrbiFactor(p, q, edge):\n",
    "    return ( 1 - ( Exp(p,q) * exp( Rational(p,q) * Phi.dot(edge) ) ) )\n",
    "\n",
    "def OrbiSum(Q, p, q, edge1, edge2, edge3, edge4):\n",
    "    return ( Rational(1,q) * exp( Phi.dot(Q) ) ) / ( (1 - ( Exp(p,q) * exp( Rational(1,q) * Phi.dot(edge1) ) ) ) * (1 - ( Exp(p,q) * exp( Rational(1,q) * Phi.dot(edge2) ) ) ) * (1 - ( Exp(p,q) * exp( Rational(1,q) * Phi.dot(edge3) ) ) ) * (1 - ( Exp(p,q) * exp( Rational(1,q) * Phi.dot(edge4) ) ) ) ) \n",
    "\n",
    "def gOrbiSum(Q, q, g, edge1, edge2, edge3, edge4):\n",
    "    return ( Rational(1,q) * exp( Phi.dot(Q) ) ) / ( (1 - ( gExp(g,edge1) * exp( Phi.dot(edge1) ) ) ) * (1 - ( gExp(g,edge2) * exp( Phi.dot(edge2) ) ) ) * (1 - ( gExp(g,edge3) * exp( Phi.dot(edge3) ) ) ) * (1 - ( gExp(g,edge4) * exp( Phi.dot(edge4) ) ) ) ) "
   ]
  },
  {
   "cell_type": "code",
   "execution_count": 10,
   "metadata": {},
   "outputs": [
    {
     "data": {
      "text/latex": [
       "$\\displaystyle \\frac{e^{t \\left(m + n\\right)}}{\\left(1 - e^{- 2 t}\\right) \\left(1 - e^{- t}\\right) \\left(1 - e^{t}\\right) \\left(1 - e^{2 t}\\right)} + \\frac{e^{3 m t + n t}}{\\left(1 - e^{- 2 t}\\right) \\left(1 - e^{- t}\\right) \\left(1 - e^{t}\\right) \\left(1 - e^{2 t}\\right)} + \\frac{e^{3 m t}}{\\left(1 - e^{- 3 t}\\right) \\left(1 - e^{- t}\\right) \\left(1 - e^{t}\\right) \\left(1 - e^{3 t}\\right)} + \\frac{1}{\\left(1 - e^{- 3 t}\\right) \\left(1 - e^{- t}\\right) \\left(1 - e^{t}\\right) \\left(1 - e^{3 t}\\right)} + \\frac{e^{3 t \\left(m + n\\right)}}{\\left(1 - e^{- 3 t}\\right) \\left(1 - e^{- 2 t}\\right) \\left(1 - e^{2 t}\\right) \\left(1 - e^{3 t}\\right)}$"
      ],
      "text/plain": [
       "                 t⋅(m + n)                                  3⋅m⋅t + n⋅t       \n",
       "                ℯ                                          ℯ                  \n",
       "───────────────────────────────────────── + ──────────────────────────────────\n",
       "⎛     -2⋅t⎞ ⎛     -t⎞ ⎛     t⎞ ⎛     2⋅t⎞   ⎛     -2⋅t⎞ ⎛     -t⎞ ⎛     t⎞ ⎛  \n",
       "⎝1 - ℯ    ⎠⋅⎝1 - ℯ  ⎠⋅⎝1 - ℯ ⎠⋅⎝1 - ℯ   ⎠   ⎝1 - ℯ    ⎠⋅⎝1 - ℯ  ⎠⋅⎝1 - ℯ ⎠⋅⎝1 \n",
       "\n",
       "                             3⋅m⋅t                                            \n",
       "                            ℯ                                             1   \n",
       "─────── + ───────────────────────────────────────── + ────────────────────────\n",
       "   2⋅t⎞   ⎛     -3⋅t⎞ ⎛     -t⎞ ⎛     t⎞ ⎛     3⋅t⎞   ⎛     -3⋅t⎞ ⎛     -t⎞ ⎛ \n",
       "- ℯ   ⎠   ⎝1 - ℯ    ⎠⋅⎝1 - ℯ  ⎠⋅⎝1 - ℯ ⎠⋅⎝1 - ℯ   ⎠   ⎝1 - ℯ    ⎠⋅⎝1 - ℯ  ⎠⋅⎝1\n",
       "\n",
       "                                      3⋅t⋅(m + n)                \n",
       "                                     ℯ                           \n",
       "───────────────── + ─────────────────────────────────────────────\n",
       "    t⎞ ⎛     3⋅t⎞   ⎛     -3⋅t⎞ ⎛     -2⋅t⎞ ⎛     2⋅t⎞ ⎛     3⋅t⎞\n",
       " - ℯ ⎠⋅⎝1 - ℯ   ⎠   ⎝1 - ℯ    ⎠⋅⎝1 - ℯ    ⎠⋅⎝1 - ℯ   ⎠⋅⎝1 - ℯ   ⎠"
      ]
     },
     "execution_count": 10,
     "metadata": {},
     "output_type": "execute_result"
    }
   ],
   "source": [
    "def TermP12(n,m):\n",
    "    return P(P12(n,m), v1, v2, -v1, -v2)\n",
    "\n",
    "def TermP23(n,m):\n",
    "    return P(P23(n,m), v1, -v1 + v2, -v1, v1 - v2)\n",
    "\n",
    "def TermP34(n,m):\n",
    "    return P(P34(n,m), v1, -v1 + v2, -v1, v1 - v2)\n",
    "\n",
    "def TermP14(n,m):\n",
    "    return P(P14(n,m), v1, v2, -v1, -v2)\n",
    "\n",
    "def TermP13(n,m):\n",
    "    return P(P13(n,m), v1 - v2, v2, -v1 + v2, -v2)\n",
    "\n",
    "def InteriorSum(n,m):\n",
    "    return TermP12(n,m) + TermP23(n,m) + TermP34(n,m) + TermP14(n,m) + TermP13(n,m)\n",
    "\n",
    "InteriorSum(n,m)"
   ]
  },
  {
   "cell_type": "code",
   "execution_count": 11,
   "metadata": {},
   "outputs": [],
   "source": [
    "def TermQ12_1(n,m,d):\n",
    "    return P(Q12_1(n,m,d), v2, v2, v1, -v1 + v2)\n",
    "\n",
    "def TermQ12_2(n,m,d):\n",
    "    return P(Q12_2(n,m,d), v1, v1, v2, v1 - v2)\n",
    "\n",
    "def TermQ23_2(n,m,d):\n",
    "    return P(Q23_2(n,m,d), -v1, -v1, -v2, -v1 + v2)\n",
    "\n",
    "def TermQ23_3(n,m,d):\n",
    "    return P(Q23_3(n,m,d), -v1 + v2, -v1 + v2, -v1, v2)\n",
    "\n",
    "def TermQ34_4(n,m,d):\n",
    "    return P(Q34_4(n,m,d), -v1, -v1, -2*v1 + v2, v1 - v2)\n",
    "\n",
    "# Q13_1 is an orbifold point of order 2:\n",
    "\n",
    "def TermQ13_1(n,m,d):\n",
    "    return gOrbiSum(Q13_1(n,m,d), 2, Vector.zero, v1 - Rational(1,2)*v2, -Rational(1,2)*v2, -Rational(1,2)*v2, -v1) + gOrbiSum(Q13_1(n,m,d), 2, -v2, v1 - Rational(1,2)*v2, -Rational(1,2)*v2, -Rational(1,2)*v2, -v1)\n",
    "\n",
    "# Q13_3 is an orbifold point of order 2:\n",
    "\n",
    "def TermQ13_3(n,m,d):\n",
    "    return gOrbiSum(Q13_3(n,m,d), 2, Vector.zero, Rational(1,2)*v1 - Rational(1,2)*v2, Rational(1,2)*v1 - Rational(1,2)*v2, -Rational(1,2)*v1 - Rational(1,2)*v2, v1) + gOrbiSum(Q13_3(n,m,d), 2, -v2, Rational(1,2)*v1 - Rational(1,2)*v2, Rational(1,2)*v1 - Rational(1,2)*v2, -Rational(1,2)*v1 - Rational(1,2)*v2, v1)\n",
    "\n",
    "def TermQ14_4(n,m,d):\n",
    "    return P(Q14_4(n,m,d), v1, v1, v1 + v2, -v2)"
   ]
  },
  {
   "cell_type": "code",
   "execution_count": 13,
   "metadata": {},
   "outputs": [
    {
     "data": {
      "text/latex": [
       "$\\displaystyle \\frac{e^{3 t \\left(d + m + n\\right)}}{2 \\left(1 + e^{- \\frac{3 t}{2}}\\right)^{2} \\cdot \\left(1 - e^{- t}\\right) \\left(1 + e^{- \\frac{t}{2}}\\right)} + \\frac{e^{3 t \\left(d + m + n\\right)}}{2 \\left(1 - e^{- \\frac{3 t}{2}}\\right)^{2} \\cdot \\left(1 - e^{- t}\\right) \\left(1 - e^{- \\frac{t}{2}}\\right)}$"
      ],
      "text/plain": [
       "           3⋅t⋅(d + m + n)                        3⋅t⋅(d + m + n)          \n",
       "          ℯ                                      ℯ                         \n",
       "──────────────────────────────────── + ────────────────────────────────────\n",
       "              2                                      2                     \n",
       "  ⎛     -3⋅t ⎞            ⎛     -t ⎞     ⎛     -3⋅t ⎞            ⎛     -t ⎞\n",
       "  ⎜     ─────⎟            ⎜     ───⎟     ⎜     ─────⎟            ⎜     ───⎟\n",
       "  ⎜       2  ⎟  ⎛     -t⎞ ⎜      2 ⎟     ⎜       2  ⎟  ⎛     -t⎞ ⎜      2 ⎟\n",
       "2⋅⎝1 + ℯ     ⎠ ⋅⎝1 - ℯ  ⎠⋅⎝1 + ℯ   ⎠   2⋅⎝1 - ℯ     ⎠ ⋅⎝1 - ℯ  ⎠⋅⎝1 - ℯ   ⎠"
      ]
     },
     "metadata": {},
     "output_type": "display_data"
    },
    {
     "data": {
      "text/latex": [
       "$\\displaystyle \\frac{e^{- d t + 3 t \\left(d + m + n\\right)}}{2 \\cdot \\left(1 + e^{- 2 t}\\right) \\left(1 + e^{- t}\\right)^{2} \\cdot \\left(1 - e^{t}\\right)} + \\frac{e^{- d t + 3 t \\left(d + m + n\\right)}}{2 \\cdot \\left(1 - e^{- 2 t}\\right) \\left(1 - e^{- t}\\right)^{2} \\cdot \\left(1 - e^{t}\\right)}$"
      ],
      "text/plain": [
       "      -d⋅t + 3⋅t⋅(d + m + n)              -d⋅t + 3⋅t⋅(d + m + n)     \n",
       "     ℯ                                   ℯ                           \n",
       "───────────────────────────────── + ─────────────────────────────────\n",
       "                       2                                   2         \n",
       "  ⎛     -2⋅t⎞ ⎛     -t⎞  ⎛     t⎞     ⎛     -2⋅t⎞ ⎛     -t⎞  ⎛     t⎞\n",
       "2⋅⎝1 + ℯ    ⎠⋅⎝1 + ℯ  ⎠ ⋅⎝1 - ℯ ⎠   2⋅⎝1 - ℯ    ⎠⋅⎝1 - ℯ  ⎠ ⋅⎝1 - ℯ ⎠"
      ]
     },
     "metadata": {},
     "output_type": "display_data"
    }
   ],
   "source": [
    "display(TermQ13_1(n,m,d))\n",
    "display(TermQ13_3(n,m,d))"
   ]
  },
  {
   "cell_type": "code",
   "execution_count": 14,
   "metadata": {},
   "outputs": [
    {
     "data": {
      "text/latex": [
       "$\\displaystyle \\frac{e^{3 t \\left(- 2 d - n\\right)}}{\\left(1 - e^{t}\\right) \\left(1 - e^{2 t}\\right) \\left(1 - e^{3 t}\\right)^{2}} + \\frac{e^{3 t \\left(- 2 d - n\\right) + t \\left(2 d + m + 2 n\\right)}}{\\left(1 - e^{- t}\\right) \\left(1 - e^{2 t}\\right)^{2} \\cdot \\left(1 - e^{3 t}\\right)} + \\frac{e^{3 t \\left(d + m + n\\right)}}{2 \\left(1 + e^{- \\frac{3 t}{2}}\\right)^{2} \\cdot \\left(1 - e^{- t}\\right) \\left(1 + e^{- \\frac{t}{2}}\\right)} + \\frac{e^{3 t \\left(d + m + n\\right)}}{2 \\left(1 - e^{- \\frac{3 t}{2}}\\right)^{2} \\cdot \\left(1 - e^{- t}\\right) \\left(1 - e^{- \\frac{t}{2}}\\right)} + \\frac{e^{- d t + 3 t \\left(d + m + n\\right)}}{2 \\cdot \\left(1 + e^{- 2 t}\\right) \\left(1 + e^{- t}\\right)^{2} \\cdot \\left(1 - e^{t}\\right)} + \\frac{e^{t \\left(- 2 d - n\\right)}}{\\left(1 - e^{- 2 t}\\right) \\left(1 - e^{t}\\right)^{2} \\cdot \\left(1 - e^{3 t}\\right)} + \\frac{e^{- d t + 3 t \\left(d + m + n\\right)}}{2 \\cdot \\left(1 - e^{- 2 t}\\right) \\left(1 - e^{- t}\\right)^{2} \\cdot \\left(1 - e^{t}\\right)} + \\frac{e^{3 m t + t \\left(2 d + 2 n\\right)}}{\\left(1 - e^{- 2 t}\\right) \\left(1 - e^{- t}\\right)^{2} \\cdot \\left(1 - e^{t}\\right)} + \\frac{e^{3 m t + t \\left(- 2 d - n\\right)}}{\\left(1 - e^{- 3 t}\\right) \\left(1 - e^{t}\\right)^{2} \\cdot \\left(1 - e^{4 t}\\right)} + \\frac{e^{t \\left(2 d + m + 2 n\\right)}}{\\left(1 - e^{- 3 t}\\right) \\left(1 - e^{- t}\\right)^{2} \\cdot \\left(1 - e^{2 t}\\right)}$"
      ],
      "text/plain": [
       "         3⋅t⋅(-2⋅d - n)            3⋅t⋅(-2⋅d - n) + t⋅(2⋅d + m + 2⋅n)         \n",
       "        ℯ                         ℯ                                           \n",
       "─────────────────────────────── + ─────────────────────────────────── + ──────\n",
       "                              2                         2                     \n",
       "⎛     t⎞ ⎛     2⋅t⎞ ⎛     3⋅t⎞      ⎛     -t⎞ ⎛     2⋅t⎞  ⎛     3⋅t⎞      ⎛   \n",
       "⎝1 - ℯ ⎠⋅⎝1 - ℯ   ⎠⋅⎝1 - ℯ   ⎠      ⎝1 - ℯ  ⎠⋅⎝1 - ℯ   ⎠ ⋅⎝1 - ℯ   ⎠      ⎜   \n",
       "                                                                          ⎜   \n",
       "                                                                        2⋅⎝1 +\n",
       "\n",
       "     3⋅t⋅(d + m + n)                        3⋅t⋅(d + m + n)                   \n",
       "    ℯ                                      ℯ                                 ℯ\n",
       "────────────────────────────── + ──────────────────────────────────── + ──────\n",
       "        2                                      2                              \n",
       "  -3⋅t ⎞            ⎛     -t ⎞     ⎛     -3⋅t ⎞            ⎛     -t ⎞     ⎛   \n",
       "  ─────⎟            ⎜     ───⎟     ⎜     ─────⎟            ⎜     ───⎟   2⋅⎝1 +\n",
       "    2  ⎟  ⎛     -t⎞ ⎜      2 ⎟     ⎜       2  ⎟  ⎛     -t⎞ ⎜      2 ⎟         \n",
       " ℯ     ⎠ ⋅⎝1 - ℯ  ⎠⋅⎝1 + ℯ   ⎠   2⋅⎝1 - ℯ     ⎠ ⋅⎝1 - ℯ  ⎠⋅⎝1 - ℯ   ⎠         \n",
       "\n",
       "-d⋅t + 3⋅t⋅(d + m + n)                  t⋅(-2⋅d - n)                   -d⋅t + \n",
       "                                       ℯ                              ℯ       \n",
       "─────────────────────────── + ──────────────────────────────── + ─────────────\n",
       "                 2                                2                           \n",
       "  -2⋅t⎞ ⎛     -t⎞  ⎛     t⎞   ⎛     -2⋅t⎞ ⎛     t⎞  ⎛     3⋅t⎞     ⎛     -2⋅t⎞\n",
       " ℯ    ⎠⋅⎝1 + ℯ  ⎠ ⋅⎝1 - ℯ ⎠   ⎝1 - ℯ    ⎠⋅⎝1 - ℯ ⎠ ⋅⎝1 - ℯ   ⎠   2⋅⎝1 - ℯ    ⎠\n",
       "                                                                              \n",
       "                                                                              \n",
       "\n",
       "3⋅t⋅(d + m + n)              3⋅m⋅t + t⋅(2⋅d + 2⋅n)             3⋅m⋅t + t⋅(-2⋅d\n",
       "                            ℯ                                 ℯ               \n",
       "──────────────────── + ─────────────────────────────── + ─────────────────────\n",
       "          2                                 2                                2\n",
       " ⎛     -t⎞  ⎛     t⎞   ⎛     -2⋅t⎞ ⎛     -t⎞  ⎛     t⎞   ⎛     -3⋅t⎞ ⎛     t⎞ \n",
       "⋅⎝1 - ℯ  ⎠ ⋅⎝1 - ℯ ⎠   ⎝1 - ℯ    ⎠⋅⎝1 - ℯ  ⎠ ⋅⎝1 - ℯ ⎠   ⎝1 - ℯ    ⎠⋅⎝1 - ℯ ⎠ \n",
       "                                                                              \n",
       "                                                                              \n",
       "\n",
       " - n)                  t⋅(2⋅d + m + 2⋅n)       \n",
       "                      ℯ                        \n",
       "─────────── + ─────────────────────────────────\n",
       "                                   2           \n",
       " ⎛     4⋅t⎞   ⎛     -3⋅t⎞ ⎛     -t⎞  ⎛     2⋅t⎞\n",
       "⋅⎝1 - ℯ   ⎠   ⎝1 - ℯ    ⎠⋅⎝1 - ℯ  ⎠ ⋅⎝1 - ℯ   ⎠\n",
       "                                               \n",
       "                                               "
      ]
     },
     "execution_count": 14,
     "metadata": {},
     "output_type": "execute_result"
    }
   ],
   "source": [
    "def InteriorSum(n,m):\n",
    "    return TermP12(n,d) + TermP23(n,m) + TermP34(n,m) + TermP13(n,m) + TermP14(n,m)\n",
    "\n",
    "def ExteriorSum(n,m,d):\n",
    "    return TermQ12_1(n,m,d) + TermQ12_2(n,m,d) + TermQ23_2(n,m,d) + TermQ23_3(n,m,d) + TermQ34_4(n,m,d) + TermQ13_1(n,m,d) + TermQ13_3(n,m,d) + TermQ14_4(n,m,d)\n",
    "\n",
    "ExteriorSum(n,m,d)"
   ]
  },
  {
   "cell_type": "code",
   "execution_count": 15,
   "metadata": {},
   "outputs": [
    {
     "data": {
      "text/latex": [
       "$\\displaystyle \\frac{e^{3 t \\left(- 2 d - n\\right)}}{\\left(1 - e^{t}\\right) \\left(1 - e^{2 t}\\right) \\left(1 - e^{3 t}\\right)^{2}} + \\frac{e^{3 t \\left(- 2 d - n\\right) + t \\left(2 d + m + 2 n\\right)}}{\\left(1 - e^{- t}\\right) \\left(1 - e^{2 t}\\right)^{2} \\cdot \\left(1 - e^{3 t}\\right)} + \\frac{e^{3 t \\left(d + m + n\\right)}}{2 \\left(1 + e^{- \\frac{3 t}{2}}\\right)^{2} \\cdot \\left(1 - e^{- t}\\right) \\left(1 + e^{- \\frac{t}{2}}\\right)} + \\frac{e^{3 t \\left(d + m + n\\right)}}{2 \\left(1 - e^{- \\frac{3 t}{2}}\\right)^{2} \\cdot \\left(1 - e^{- t}\\right) \\left(1 - e^{- \\frac{t}{2}}\\right)} + \\frac{e^{- d t + 3 t \\left(d + m + n\\right)}}{2 \\cdot \\left(1 + e^{- 2 t}\\right) \\left(1 + e^{- t}\\right)^{2} \\cdot \\left(1 - e^{t}\\right)} + \\frac{e^{t \\left(- 2 d - n\\right)}}{\\left(1 - e^{- 2 t}\\right) \\left(1 - e^{t}\\right)^{2} \\cdot \\left(1 - e^{3 t}\\right)} + \\frac{e^{t \\left(m + n\\right)}}{\\left(1 - e^{- 2 t}\\right) \\left(1 - e^{- t}\\right) \\left(1 - e^{t}\\right) \\left(1 - e^{2 t}\\right)} + \\frac{e^{3 m t + n t}}{\\left(1 - e^{- 2 t}\\right) \\left(1 - e^{- t}\\right) \\left(1 - e^{t}\\right) \\left(1 - e^{2 t}\\right)} + \\frac{e^{- d t + 3 t \\left(d + m + n\\right)}}{2 \\cdot \\left(1 - e^{- 2 t}\\right) \\left(1 - e^{- t}\\right)^{2} \\cdot \\left(1 - e^{t}\\right)} + \\frac{e^{3 m t + t \\left(2 d + 2 n\\right)}}{\\left(1 - e^{- 2 t}\\right) \\left(1 - e^{- t}\\right)^{2} \\cdot \\left(1 - e^{t}\\right)} + \\frac{e^{3 m t + t \\left(- 2 d - n\\right)}}{\\left(1 - e^{- 3 t}\\right) \\left(1 - e^{t}\\right)^{2} \\cdot \\left(1 - e^{4 t}\\right)} + \\frac{e^{3 m t}}{\\left(1 - e^{- 3 t}\\right) \\left(1 - e^{- t}\\right) \\left(1 - e^{t}\\right) \\left(1 - e^{3 t}\\right)} + \\frac{1}{\\left(1 - e^{- 3 t}\\right) \\left(1 - e^{- t}\\right) \\left(1 - e^{t}\\right) \\left(1 - e^{3 t}\\right)} + \\frac{e^{t \\left(2 d + m + 2 n\\right)}}{\\left(1 - e^{- 3 t}\\right) \\left(1 - e^{- t}\\right)^{2} \\cdot \\left(1 - e^{2 t}\\right)} + \\frac{e^{3 t \\left(m + n\\right)}}{\\left(1 - e^{- 3 t}\\right) \\left(1 - e^{- 2 t}\\right) \\left(1 - e^{2 t}\\right) \\left(1 - e^{3 t}\\right)}$"
      ],
      "text/plain": [
       "         3⋅t⋅(-2⋅d - n)            3⋅t⋅(-2⋅d - n) + t⋅(2⋅d + m + 2⋅n)         \n",
       "        ℯ                         ℯ                                           \n",
       "─────────────────────────────── + ─────────────────────────────────── + ──────\n",
       "                              2                         2                     \n",
       "⎛     t⎞ ⎛     2⋅t⎞ ⎛     3⋅t⎞      ⎛     -t⎞ ⎛     2⋅t⎞  ⎛     3⋅t⎞      ⎛   \n",
       "⎝1 - ℯ ⎠⋅⎝1 - ℯ   ⎠⋅⎝1 - ℯ   ⎠      ⎝1 - ℯ  ⎠⋅⎝1 - ℯ   ⎠ ⋅⎝1 - ℯ   ⎠      ⎜   \n",
       "                                                                          ⎜   \n",
       "                                                                        2⋅⎝1 +\n",
       "\n",
       "     3⋅t⋅(d + m + n)                        3⋅t⋅(d + m + n)                   \n",
       "    ℯ                                      ℯ                                 ℯ\n",
       "────────────────────────────── + ──────────────────────────────────── + ──────\n",
       "        2                                      2                              \n",
       "  -3⋅t ⎞            ⎛     -t ⎞     ⎛     -3⋅t ⎞            ⎛     -t ⎞     ⎛   \n",
       "  ─────⎟            ⎜     ───⎟     ⎜     ─────⎟            ⎜     ───⎟   2⋅⎝1 +\n",
       "    2  ⎟  ⎛     -t⎞ ⎜      2 ⎟     ⎜       2  ⎟  ⎛     -t⎞ ⎜      2 ⎟         \n",
       " ℯ     ⎠ ⋅⎝1 - ℯ  ⎠⋅⎝1 + ℯ   ⎠   2⋅⎝1 - ℯ     ⎠ ⋅⎝1 - ℯ  ⎠⋅⎝1 - ℯ   ⎠         \n",
       "\n",
       "-d⋅t + 3⋅t⋅(d + m + n)                  t⋅(-2⋅d - n)                          \n",
       "                                       ℯ                                      \n",
       "─────────────────────────── + ──────────────────────────────── + ─────────────\n",
       "                 2                                2              ⎛     -2⋅t⎞ ⎛\n",
       "  -2⋅t⎞ ⎛     -t⎞  ⎛     t⎞   ⎛     -2⋅t⎞ ⎛     t⎞  ⎛     3⋅t⎞   ⎝1 - ℯ    ⎠⋅⎝\n",
       " ℯ    ⎠⋅⎝1 + ℯ  ⎠ ⋅⎝1 - ℯ ⎠   ⎝1 - ℯ    ⎠⋅⎝1 - ℯ ⎠ ⋅⎝1 - ℯ   ⎠                \n",
       "                                                                              \n",
       "                                                                              \n",
       "\n",
       "    t⋅(m + n)                                  3⋅m⋅t + n⋅t                    \n",
       "   ℯ                                          ℯ                               \n",
       "──────────────────────────── + ───────────────────────────────────────── + ───\n",
       "     -t⎞ ⎛     t⎞ ⎛     2⋅t⎞   ⎛     -2⋅t⎞ ⎛     -t⎞ ⎛     t⎞ ⎛     2⋅t⎞      \n",
       "1 - ℯ  ⎠⋅⎝1 - ℯ ⎠⋅⎝1 - ℯ   ⎠   ⎝1 - ℯ    ⎠⋅⎝1 - ℯ  ⎠⋅⎝1 - ℯ ⎠⋅⎝1 - ℯ   ⎠     ⎛\n",
       "                                                                           2⋅⎝\n",
       "                                                                              \n",
       "                                                                              \n",
       "\n",
       "   -d⋅t + 3⋅t⋅(d + m + n)              3⋅m⋅t + t⋅(2⋅d + 2⋅n)             3⋅m⋅t\n",
       "  ℯ                                   ℯ                                 ℯ     \n",
       "────────────────────────────── + ─────────────────────────────── + ───────────\n",
       "                    2                                 2                       \n",
       "     -2⋅t⎞ ⎛     -t⎞  ⎛     t⎞   ⎛     -2⋅t⎞ ⎛     -t⎞  ⎛     t⎞   ⎛     -3⋅t⎞\n",
       "1 - ℯ    ⎠⋅⎝1 - ℯ  ⎠ ⋅⎝1 - ℯ ⎠   ⎝1 - ℯ    ⎠⋅⎝1 - ℯ  ⎠ ⋅⎝1 - ℯ ⎠   ⎝1 - ℯ    ⎠\n",
       "                                                                              \n",
       "                                                                              \n",
       "\n",
       " + t⋅(-2⋅d - n)                            3⋅m⋅t                              \n",
       "                                          ℯ                                   \n",
       "───────────────────── + ───────────────────────────────────────── + ──────────\n",
       "         2              ⎛     -3⋅t⎞ ⎛     -t⎞ ⎛     t⎞ ⎛     3⋅t⎞   ⎛     -3⋅t\n",
       " ⎛     t⎞  ⎛     4⋅t⎞   ⎝1 - ℯ    ⎠⋅⎝1 - ℯ  ⎠⋅⎝1 - ℯ ⎠⋅⎝1 - ℯ   ⎠   ⎝1 - ℯ    \n",
       "⋅⎝1 - ℯ ⎠ ⋅⎝1 - ℯ   ⎠                                                         \n",
       "                                                                              \n",
       "                                                                              \n",
       "\n",
       "                                           t⋅(2⋅d + m + 2⋅n)                  \n",
       "          1                               ℯ                                   \n",
       "─────────────────────────────── + ───────────────────────────────── + ────────\n",
       "⎞ ⎛     -t⎞ ⎛     t⎞ ⎛     3⋅t⎞                        2              ⎛     -3\n",
       "⎠⋅⎝1 - ℯ  ⎠⋅⎝1 - ℯ ⎠⋅⎝1 - ℯ   ⎠   ⎛     -3⋅t⎞ ⎛     -t⎞  ⎛     2⋅t⎞   ⎝1 - ℯ  \n",
       "                                  ⎝1 - ℯ    ⎠⋅⎝1 - ℯ  ⎠ ⋅⎝1 - ℯ   ⎠           \n",
       "                                                                              \n",
       "                                                                              \n",
       "\n",
       "          3⋅t⋅(m + n)                \n",
       "         ℯ                           \n",
       "─────────────────────────────────────\n",
       "⋅t⎞ ⎛     -2⋅t⎞ ⎛     2⋅t⎞ ⎛     3⋅t⎞\n",
       "  ⎠⋅⎝1 - ℯ    ⎠⋅⎝1 - ℯ   ⎠⋅⎝1 - ℯ   ⎠\n",
       "                                     \n",
       "                                     \n",
       "                                     "
      ]
     },
     "execution_count": 15,
     "metadata": {},
     "output_type": "execute_result"
    }
   ],
   "source": [
    "def TotalSum(n,m,d):\n",
    "    return InteriorSum(n,m) + ExteriorSum(n,m,d)\n",
    "\n",
    "TotalSum(n,m,d)"
   ]
  },
  {
   "cell_type": "code",
   "execution_count": 16,
   "metadata": {},
   "outputs": [
    {
     "data": {
      "text/latex": [
       "$\\displaystyle 1 + t \\left(- \\frac{13 d^{5}}{6} + \\frac{11 d^{4} m}{6} - \\frac{29 d^{4} n}{6} - \\frac{65 d^{4}}{8} + \\frac{16 d^{3} m^{2}}{3} + \\frac{28 d^{3} m n}{3} + \\frac{11 d^{3} m}{2} - \\frac{8 d^{3} n^{2}}{3} - \\frac{29 d^{3} n}{2} - \\frac{45 d^{3}}{4} + \\frac{4 d^{2} m^{3}}{3} + 12 d^{2} m^{2} n + 12 d^{2} m^{2} + 13 d^{2} m n^{2} + 21 d^{2} m n + \\frac{22 d^{2} m}{3} + \\frac{2 d^{2} n^{3}}{3} - 6 d^{2} n^{2} - \\frac{43 d^{2} n}{3} - \\frac{55 d^{2}}{8} + \\frac{4 d m^{3} n}{3} + 2 d m^{3} + 8 d m^{2} n^{2} + 18 d m^{2} n + \\frac{26 d m^{2}}{3} + \\frac{20 d m n^{3}}{3} + \\frac{39 d m n^{2}}{2} + \\frac{103 d m n}{6} + 5 d m + \\frac{5 d n^{4}}{6} + d n^{3} - \\frac{19 d n^{2}}{6} - 5 d n - \\frac{19 d}{12} + \\frac{m^{3} n^{2}}{3} + m^{3} n + \\frac{2 m^{3}}{3} + \\frac{5 m^{2} n^{3}}{3} + 6 m^{2} n^{2} + \\frac{19 m^{2} n}{3} + 2 m^{2} + \\frac{7 m n^{4}}{6} + 5 m n^{3} + \\frac{15 m n^{2}}{2} + 5 m n + \\frac{4 m}{3} + \\frac{n^{5}}{6} + \\frac{5 n^{4}}{8} + \\frac{7 n^{3}}{12} - \\frac{n^{2}}{8} - \\frac{n}{4}\\right) + \\frac{7 n}{2} + \\frac{9 n^{2}}{2} + \\frac{5 n^{3}}{2} + \\frac{n^{4}}{2} + \\frac{3 m}{2} + \\frac{17 m n}{4} + \\frac{15 m n^{2}}{4} + m n^{3} + \\frac{m^{2}}{2} + \\frac{3 m^{2} n}{4} + \\frac{m^{2} n^{2}}{4} + 5 d + \\frac{41 d n}{3} + 12 d n^{2} + \\frac{10 d n^{3}}{3} + \\frac{13 d m}{2} + 12 d m n + 5 d m n^{2} + \\frac{3 d m^{2}}{2} + d m^{2} n + \\frac{29 d^{2}}{3} + 18 d^{2} n + 8 d^{2} n^{2} + 9 d^{2} m + 8 d^{2} m n + d^{2} m^{2} + \\frac{17 d^{3}}{2} + 8 d^{3} n + 4 d^{3} m + \\frac{17 d^{4}}{6} + O\\left(t^{2}\\right)$"
      ],
      "text/plain": [
       "      ⎛      5       4         4         4       3  2       3           3     \n",
       "      ⎜  13⋅d    11⋅d ⋅m   29⋅d ⋅n   65⋅d    16⋅d ⋅m    28⋅d ⋅m⋅n   11⋅d ⋅m   \n",
       "1 + t⋅⎜- ───── + ─────── - ─────── - ───── + ──────── + ───────── + ─────── - \n",
       "      ⎝    6        6         6        8        3           3          2      \n",
       "\n",
       "   3  2       3         3      2  3                                           \n",
       "8⋅d ⋅n    29⋅d ⋅n   45⋅d    4⋅d ⋅m        2  2         2  2       2    2      \n",
       "─────── - ─────── - ───── + ─────── + 12⋅d ⋅m ⋅n + 12⋅d ⋅m  + 13⋅d ⋅m⋅n  + 21⋅\n",
       "   3         2        4        3                                              \n",
       "\n",
       "             2        2  3                 2         2        3               \n",
       " 2       22⋅d ⋅m   2⋅d ⋅n       2  2   43⋅d ⋅n   55⋅d    4⋅d⋅m ⋅n        3    \n",
       "d ⋅m⋅n + ─────── + ─────── - 6⋅d ⋅n  - ─────── - ───── + ──────── + 2⋅d⋅m  + 8\n",
       "            3         3                   3        8        3                 \n",
       "\n",
       "                             2           3           2                        \n",
       "    2  2         2     26⋅d⋅m    20⋅d⋅m⋅n    39⋅d⋅m⋅n    103⋅d⋅m⋅n           5\n",
       "⋅d⋅m ⋅n  + 18⋅d⋅m ⋅n + ─────── + ───────── + ───────── + ───────── + 5⋅d⋅m + ─\n",
       "                          3          3           2           6                \n",
       "\n",
       "    4                2                   3  2             3      2  3         \n",
       "⋅d⋅n       3   19⋅d⋅n            19⋅d   m ⋅n     3     2⋅m    5⋅m ⋅n       2  \n",
       "───── + d⋅n  - ─────── - 5⋅d⋅n - ──── + ───── + m ⋅n + ──── + ─────── + 6⋅m ⋅n\n",
       " 6                6               12      3             3        3            \n",
       "\n",
       "        2                 4                  2                  5      4      \n",
       "2   19⋅m ⋅n      2   7⋅m⋅n         3   15⋅m⋅n            4⋅m   n    5⋅n    7⋅n\n",
       "  + ─────── + 2⋅m  + ────── + 5⋅m⋅n  + ─────── + 5⋅m⋅n + ─── + ── + ──── + ───\n",
       "       3               6                  2               3    6     8      12\n",
       "\n",
       "3    2    ⎞            2      3    4                        2           2     \n",
       "    n    n⎟   7⋅n   9⋅n    5⋅n    n    3⋅m   17⋅m⋅n   15⋅m⋅n       3   m    3⋅\n",
       "─ - ── - ─⎟ + ─── + ──── + ──── + ── + ─── + ────── + ─────── + m⋅n  + ── + ──\n",
       "    8    4⎠    2     2      2     2     2      4         4             2      \n",
       "\n",
       " 2      2  2                                  3                               \n",
       "m ⋅n   m ⋅n          41⋅d⋅n         2   10⋅d⋅n    13⋅d⋅m                     2\n",
       "──── + ───── + 5⋅d + ────── + 12⋅d⋅n  + ─────── + ────── + 12⋅d⋅m⋅n + 5⋅d⋅m⋅n \n",
       "4        4             3                   3        2                         \n",
       "\n",
       "        2                2                                                    \n",
       "   3⋅d⋅m       2     29⋅d        2        2  2      2        2        2  2   1\n",
       " + ────── + d⋅m ⋅n + ───── + 18⋅d ⋅n + 8⋅d ⋅n  + 9⋅d ⋅m + 8⋅d ⋅m⋅n + d ⋅m  + ─\n",
       "     2                 3                                                      \n",
       "\n",
       "   3                         4        \n",
       "7⋅d       3        3     17⋅d     ⎛ 2⎞\n",
       "──── + 8⋅d ⋅n + 4⋅d ⋅m + ───── + O⎝t ⎠\n",
       " 2                         6          "
      ]
     },
     "execution_count": 16,
     "metadata": {},
     "output_type": "execute_result"
    }
   ],
   "source": [
    "series(TotalSum(n,m,d), t, 0, 2)"
   ]
  },
  {
   "cell_type": "code",
   "execution_count": 18,
   "metadata": {},
   "outputs": [
    {
     "name": "stdout",
     "output_type": "stream",
     "text": [
      "17*d**4/6 + 4*d**3*m + 8*d**3*n + 17*d**3/2 + d**2*m**2 + 8*d**2*m*n + 9*d**2*m + 8*d**2*n**2 + 18*d**2*n + 29*d**2/3 + d*m**2*n + 3*d*m**2/2 + 5*d*m*n**2 + 12*d*m*n + 13*d*m/2 + 10*d*n**3/3 + 12*d*n**2 + 41*d*n/3 + 5*d + m**2*n**2/4 + 3*m**2*n/4 + m**2/2 + m*n**3 + 15*m*n**2/4 + 17*m*n/4 + 3*m/2 + n**4/2 + 5*n**3/2 + 9*n**2/2 + 7*n/2 + 1\n"
     ]
    }
   ],
   "source": [
    "print(limit(TotalSum(n,m,d), t, 0) )"
   ]
  },
  {
   "cell_type": "code",
   "execution_count": 26,
   "metadata": {},
   "outputs": [],
   "source": [
    "def RR(n,m,d):\n",
    "    return 17*d**4/6 + 4*d**3*m + 8*d**3*n + 17*d**3/2 + d**2*m**2 + 8*d**2*m*n + 9*d**2*m + 8*d**2*n**2 + 18*d**2*n + 29*d**2/3 + d*m**2*n + 3*d*m**2/2 + 5*d*m*n**2 + 12*d*m*n + 13*d*m/2 + 10*d*n**3/3 + 12*d*n**2 + 41*d*n/3 + 5*d + m**2*n**2/4 + 3*m**2*n/4 + m**2/2 + m*n**3 + 15*m*n**2/4 + 17*m*n/4 + 3*m/2 + n**4/2 + 5*n**3/2 + 9*n**2/2 + 7*n/2 + 1\n",
    "\n",
    "def dWeight(n,m,d):\n",
    "    return simplify(RR(n,m,d) - RR(n,m,d-1))"
   ]
  },
  {
   "cell_type": "code",
   "execution_count": 36,
   "metadata": {},
   "outputs": [
    {
     "data": {
      "text/latex": [
       "$\\displaystyle \\frac{n^{4}}{2} + \\frac{5 n^{3}}{2} + \\frac{9 n^{2}}{2} + \\frac{7 n}{2} + 1$"
      ],
      "text/plain": [
       " 4      3      2          \n",
       "n    5⋅n    9⋅n    7⋅n    \n",
       "── + ──── + ──── + ─── + 1\n",
       "2     2      2      2     "
      ]
     },
     "execution_count": 36,
     "metadata": {},
     "output_type": "execute_result"
    }
   ],
   "source": [
    "RR(n,0,0)"
   ]
  },
  {
   "cell_type": "code",
   "execution_count": 35,
   "metadata": {},
   "outputs": [
    {
     "data": {
      "text/latex": [
       "$\\displaystyle \\frac{10 n^{3}}{3} + 4 n^{2} + \\frac{11 n}{3} + 1$"
      ],
      "text/plain": [
       "    3                  \n",
       "10⋅n       2   11⋅n    \n",
       "───── + 4⋅n  + ──── + 1\n",
       "  3             3      "
      ]
     },
     "execution_count": 35,
     "metadata": {},
     "output_type": "execute_result"
    }
   ],
   "source": [
    "dWeight(n,0,0)"
   ]
  },
  {
   "cell_type": "code",
   "execution_count": null,
   "metadata": {},
   "outputs": [],
   "source": []
  }
 ],
 "metadata": {
  "kernelspec": {
   "display_name": "Python 3 (ipykernel)",
   "language": "python",
   "name": "python3"
  },
  "language_info": {
   "codemirror_mode": {
    "name": "ipython",
    "version": 3
   },
   "file_extension": ".py",
   "mimetype": "text/x-python",
   "name": "python",
   "nbconvert_exporter": "python",
   "pygments_lexer": "ipython3",
   "version": "3.10.3"
  }
 },
 "nbformat": 4,
 "nbformat_minor": 4
}
