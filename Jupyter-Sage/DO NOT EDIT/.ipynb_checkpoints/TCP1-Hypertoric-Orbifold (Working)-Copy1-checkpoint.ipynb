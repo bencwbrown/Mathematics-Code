{
 "cells": [
  {
   "cell_type": "markdown",
   "metadata": {},
   "source": [
    "# Weighted Projective Line - 20/12/2021"
   ]
  },
  {
   "cell_type": "markdown",
   "metadata": {},
   "source": [
    "# Orbifold Atiyah-Bott\n",
    "\n",
    "For $\\mathbb{C}\\mathbb{P}(1,q) = \\mathbb{C}\\mathbb{P}(1,q)$, with associated polytope given by\n",
    "\n",
    "$$ \\Delta = \\text{Conv}\\{ 0,\\, k \\}. $$\n",
    "\n",
    "Denominator, where $\\mu_{3} = e^{2\\pi i / 3}$:\n",
    "\n",
    "$$ \\sum_{k = 0}^{2} \\left[ ( 1 - \\mu_{3}^{2k} \\cdot t_{1}^{-2/3}t_{2} ) \\cdot ( 1 - \\mu_{3}^{k} \\cdot t_{1}^{-1}t_{3} ) \\right] = \\left[ ( 1 - t_{1}^{-2/3}t_{2} ) \\cdot ( 1 - t_{1}^{-1}t_{3} ) \\right] + \\left[ ( 1 - \\mu_{3}^{2} \\cdot t_{1}^{-2/3}t_{2} ) \\cdot ( 1 - \\mu_{3} \\cdot t_{1}^{-1}t_{3} ) \\right] + \\left[ ( 1 - \\mu_{3} \\cdot t_{1}^{-2/3}t_{2} ) \\cdot ( 1 - \\mu_{3}^{2} \\cdot t_{1}^{-1}t_{3} ) \\right]. $$\n",
    "\n"
   ]
  },
  {
   "cell_type": "code",
   "execution_count": 20,
   "metadata": {},
   "outputs": [],
   "source": [
    "from sympy import *\n",
    "import numpy as np\n",
    "from sympy.vector import Vector\n",
    "from sympy.vector import CoordSys3D\n",
    "import IPython.display as disp\n",
    "\n",
    "N = CoordSys3D('N')\n",
    "\n",
    "t = symbols( 't')\n",
    "k = symbols('k', real = True)\n",
    "p, q, a, b, c, d = symbols('p q a b c d', integer=True)\n",
    "# init_printing(use_unicode=True)\n",
    "init_printing(use_latex='mathjax')\n",
    "\n",
    "# Basis for the edge/weight vectors for the points \n",
    "\n",
    "v1 = N.i\n",
    "v2 = N.j\n",
    "\n",
    "# Define the vector which is not parallel to any edge vector, which will tend to zero:\n",
    "\n",
    "Phi = t*(v1 + 3*v2)\n",
    "\n",
    "# Define the vertices of the general triangle:\n",
    "\n",
    "def P1(a,b):\n",
    "    return 0*v1\n",
    "\n",
    "def P2(a,b):\n",
    "    return a*v1\n",
    "\n",
    "def P3(a,b):\n",
    "    return (a + b)*v1 + b*v2\n",
    "\n",
    "def P3_3(a,b,d):\n",
    "    return (a + d)*v1 + (2*d - b)*v2\n",
    "\n",
    "def P1_1(d):\n",
    "    return (2*d - b)*v1 + (2*d - b)*v2"
   ]
  },
  {
   "cell_type": "code",
   "execution_count": 12,
   "metadata": {},
   "outputs": [],
   "source": [
    "# Define the term which is summed over each fixed point,\n",
    "# representing the character for the representation\n",
    "\n",
    "# def P(P, edge1, edge2, edge3, edge4):\n",
    "#    return exp( Phi.dot(P) ) / ( (1 - exp( Phi.dot(edge1) ) ) * ( 1 - exp( Phi.dot(edge2) ) ) * ( 1 - exp( Phi.dot(edge3) ) ) * ( 1 - exp( Phi.dot(edge4) ) ) )\n",
    "\n",
    "def Q(P, edge1, edge2):\n",
    "    return exp( Phi.dot(P) ) / ( (1 - exp( Phi.dot(edge1) ) ) * ( 1 - exp( Phi.dot(edge2) ) ) )\n",
    "\n",
    "def Exp(p, q):\n",
    "    return exp( 2*pi*I*Rational(p,q) )\n",
    "\n",
    "# Term for the orbifold points:\n",
    "\n",
    "#def UnityRootTerm(P, p, q, edge1, edge2):\n",
    "#    return ( Rational(1,q) * exp( Phi.dot(P) / q ) ) / ( (1 - ( Exp(p,q) * exp(  Phi.dot(edge1) ) ) ) * ( 1 - ( Exp(p,q) * exp( Rational(1,q) * Phi.dot(edge2) ) ) ) )\n",
    "\n",
    "def UnityRootTerm(P, p, q, edge1, edge2):\n",
    "    return ( exp( Phi.dot(P) / q ) ) / ( (1 - ( (Exp(p,q) * exp( Rational(1,q) * Phi.dot(edge1) ) ) ) * ( 1 - ( Exp(p,q) * exp( Rational(1,q) * Phi.dot(edge2) ) ) ) ) )\n",
    "\n",
    "# Iterates the sum over each q-th root of unity:\n",
    "\n",
    "def OrbiCharacter(P, q, edge1, edge2):\n",
    "    return sum([UnityRootTerm(P, k, q, edge1, edge2) for k in range(0,q)])\n"
   ]
  },
  {
   "cell_type": "code",
   "execution_count": 13,
   "metadata": {},
   "outputs": [
    {
     "data": {
      "text/latex": [
       "$\\displaystyle \\frac{e^{t \\left(a + d\\right) + 3 t \\left(- b + 2 d\\right)}}{2 \\left(1 + e^{- \\frac{7 t}{2}}\\right) \\left(1 + e^{- \\frac{t}{2}}\\right)} + \\frac{e^{t \\left(a + d\\right) + 3 t \\left(- b + 2 d\\right)}}{2 \\left(1 - e^{- \\frac{7 t}{2}}\\right) \\left(1 - e^{- \\frac{t}{2}}\\right)}$"
      ],
      "text/plain": [
       " t⋅(a + d) + 3⋅t⋅(-b + 2⋅d)    t⋅(a + d) + 3⋅t⋅(-b + 2⋅d)\n",
       "ℯ                             ℯ                          \n",
       "─────────────────────────── + ───────────────────────────\n",
       "   ⎛     -7⋅t ⎞ ⎛     -t ⎞       ⎛     -7⋅t ⎞ ⎛     -t ⎞ \n",
       "   ⎜     ─────⎟ ⎜     ───⎟       ⎜     ─────⎟ ⎜     ───⎟ \n",
       "   ⎜       2  ⎟ ⎜      2 ⎟       ⎜       2  ⎟ ⎜      2 ⎟ \n",
       " 2⋅⎝1 + ℯ     ⎠⋅⎝1 + ℯ   ⎠     2⋅⎝1 - ℯ     ⎠⋅⎝1 - ℯ   ⎠ "
      ]
     },
     "execution_count": 13,
     "metadata": {},
     "output_type": "execute_result"
    }
   ],
   "source": [
    "def Exp(p, q):\n",
    "    return exp( 2*pi*I*Rational(p,q) )\n",
    "\n",
    "# For P3_3, which has orbifold structure group of order 2:\n",
    "\n",
    "def Sum_P3_3(a,b,d):\n",
    "    return Rational(1,2) * ( exp( Phi.dot(P3_3(a,b,d)) ) / ( ( (1 - Exp(0,2) * exp( Phi.dot( ( -v1 )*Rational(1,2) ) ) ) ) * ( 1 - Exp(0,2) * exp( Phi.dot( ( -v1 - 2*v2 )*Rational(1,2) ) ) ) ) + ( exp( Phi.dot(P3_3(a,b,d)) ) ) / ( ( (1 - Exp(1,2) * exp( Phi.dot( ( -v1 )*Rational(1,2) ) ) ) ) * ( 1 - Exp(1,2) * exp( Phi.dot( ( -v1 - 2*v2 )*Rational(1,2) ) ) ) ) )  \n",
    "\n",
    "Sum_P3_3(a,b,d)"
   ]
  },
  {
   "cell_type": "code",
   "execution_count": 14,
   "metadata": {},
   "outputs": [
    {
     "data": {
      "text/latex": [
       "$\\displaystyle \\frac{e^{4 t \\left(- b + 2 d\\right)}}{\\left(1 - e^{- 2 t}\\right) \\left(1 - e^{t}\\right)}$"
      ],
      "text/plain": [
       "   4⋅t⋅(-b + 2⋅d)   \n",
       "  ℯ                 \n",
       "────────────────────\n",
       "⎛     -2⋅t⎞ ⎛     t⎞\n",
       "⎝1 - ℯ    ⎠⋅⎝1 - ℯ ⎠"
      ]
     },
     "execution_count": 14,
     "metadata": {},
     "output_type": "execute_result"
    }
   ],
   "source": [
    "# For P1_1, which is smooth:\n",
    "\n",
    "def Sum_P1_1(d):\n",
    "    return exp( Phi.dot( P1_1(d) ) ) / ( ( 1 - exp( Phi.dot( v1 ) ) ) * ( 1 - exp( Phi.dot( v1 - v2 ) ) ) )\n",
    "\n",
    "Sum_P1_1(d)"
   ]
  },
  {
   "cell_type": "code",
   "execution_count": 15,
   "metadata": {},
   "outputs": [
    {
     "data": {
      "text/latex": [
       "$\\displaystyle \\frac{1}{\\left(1 - e^{t}\\right) \\left(1 - e^{2 t}\\right)}$"
      ],
      "text/plain": [
       "         1         \n",
       "───────────────────\n",
       "⎛     t⎞ ⎛     2⋅t⎞\n",
       "⎝1 - ℯ ⎠⋅⎝1 - ℯ   ⎠"
      ]
     },
     "execution_count": 15,
     "metadata": {},
     "output_type": "execute_result"
    }
   ],
   "source": [
    "# For P1, which is smooth:\n",
    "\n",
    "def Sum_P1(a,b):\n",
    "    return exp( Phi.dot( P1(a,b) ) ) / ( ( 1 - exp( Phi.dot( v1 ) ) ) * ( 1 - exp( Phi.dot( -v1 + v2 ) ) ) )\n",
    "\n",
    "Sum_P1(a,b)"
   ]
  },
  {
   "cell_type": "code",
   "execution_count": 16,
   "metadata": {},
   "outputs": [
    {
     "data": {
      "text/latex": [
       "$\\displaystyle \\frac{e^{a t}}{\\left(1 - e^{- t}\\right) \\left(1 - e^{4 t}\\right)}$"
      ],
      "text/plain": [
       "         a⋅t        \n",
       "        ℯ           \n",
       "────────────────────\n",
       "⎛     -t⎞ ⎛     4⋅t⎞\n",
       "⎝1 - ℯ  ⎠⋅⎝1 - ℯ   ⎠"
      ]
     },
     "execution_count": 16,
     "metadata": {},
     "output_type": "execute_result"
    }
   ],
   "source": [
    "# For P2, which is smooth:\n",
    "\n",
    "def Sum_P2(a,b):\n",
    "    return exp( Phi.dot( P2(a,b) ) ) / ( ( 1 - exp( Phi.dot( v1 + v2 ) ) ) * ( 1 - exp( Phi.dot( -v1 ) ) ) )\n",
    "\n",
    "Sum_P2(a,b)"
   ]
  },
  {
   "cell_type": "code",
   "execution_count": 6,
   "metadata": {},
   "outputs": [
    {
     "data": {
      "text/latex": [
       "$\\displaystyle \\frac{e^{3 b t + t \\left(a + b\\right)}}{\\left(1 - e^{- 4 t}\\right) \\left(1 - e^{7 t}\\right)}$"
      ],
      "text/plain": [
       "   3⋅b⋅t + t⋅(a + b)  \n",
       "  ℯ                   \n",
       "──────────────────────\n",
       "⎛     -4⋅t⎞ ⎛     7⋅t⎞\n",
       "⎝1 - ℯ    ⎠⋅⎝1 - ℯ   ⎠"
      ]
     },
     "execution_count": 6,
     "metadata": {},
     "output_type": "execute_result"
    }
   ],
   "source": [
    "# For P3, which is smooth:\n",
    "\n",
    "def Sum_P3(a,b):\n",
    "    return exp( Phi.dot( P3(a,b) ) ) / ( ( 1 - exp( Phi.dot( v1 + 2*v2 ) ) ) * ( 1 - exp( Phi.dot( -v1 - v2 ) ) ) )\n",
    "\n",
    "Sum_P3(a,b)"
   ]
  },
  {
   "cell_type": "code",
   "execution_count": 29,
   "metadata": {},
   "outputs": [
    {
     "data": {
      "text/latex": [
       "$\\displaystyle \\frac{1}{\\left(1 - e^{t}\\right) \\left(1 - e^{2 t}\\right)} + \\frac{e^{a t}}{\\left(1 - e^{- t}\\right) \\left(1 - e^{4 t}\\right)} + \\frac{e^{4 t \\left(- b + 2 d\\right)}}{\\left(1 - e^{- 2 t}\\right) \\left(1 - e^{t}\\right)} + \\frac{e^{t \\left(a + d\\right) + 3 t \\left(- b + 2 d\\right)}}{2 \\left(1 + e^{- \\frac{7 t}{2}}\\right) \\left(1 + e^{- \\frac{t}{2}}\\right)} + \\frac{e^{t \\left(a + d\\right) + 3 t \\left(- b + 2 d\\right)}}{2 \\left(1 - e^{- \\frac{7 t}{2}}\\right) \\left(1 - e^{- \\frac{t}{2}}\\right)} + \\frac{e^{3 b t + t \\left(a + b\\right)}}{\\left(1 - e^{- 4 t}\\right) \\left(1 - e^{7 t}\\right)}$"
      ],
      "text/plain": [
       "                               a⋅t              4⋅t⋅(-b + 2⋅d)       t⋅(a + d)\n",
       "         1                    ℯ                ℯ                    ℯ         \n",
       "─────────────────── + ──────────────────── + ──────────────────── + ──────────\n",
       "⎛     t⎞ ⎛     2⋅t⎞   ⎛     -t⎞ ⎛     4⋅t⎞   ⎛     -2⋅t⎞ ⎛     t⎞      ⎛     -\n",
       "⎝1 - ℯ ⎠⋅⎝1 - ℯ   ⎠   ⎝1 - ℯ  ⎠⋅⎝1 - ℯ   ⎠   ⎝1 - ℯ    ⎠⋅⎝1 - ℯ ⎠      ⎜     ─\n",
       "                                                                       ⎜      \n",
       "                                                                     2⋅⎝1 + ℯ \n",
       "\n",
       " + 3⋅t⋅(-b + 2⋅d)    t⋅(a + d) + 3⋅t⋅(-b + 2⋅d)      3⋅b⋅t + t⋅(a + b)  \n",
       "                    ℯ                               ℯ                   \n",
       "───────────────── + ─────────────────────────── + ──────────────────────\n",
       "7⋅t ⎞ ⎛     -t ⎞       ⎛     -7⋅t ⎞ ⎛     -t ⎞    ⎛     -4⋅t⎞ ⎛     7⋅t⎞\n",
       "────⎟ ⎜     ───⎟       ⎜     ─────⎟ ⎜     ───⎟    ⎝1 - ℯ    ⎠⋅⎝1 - ℯ   ⎠\n",
       " 2  ⎟ ⎜      2 ⎟       ⎜       2  ⎟ ⎜      2 ⎟                          \n",
       "    ⎠⋅⎝1 + ℯ   ⎠     2⋅⎝1 - ℯ     ⎠⋅⎝1 - ℯ   ⎠                          "
      ]
     },
     "execution_count": 29,
     "metadata": {},
     "output_type": "execute_result"
    }
   ],
   "source": [
    "def Sum(a,b,d):\n",
    "    return Sum_P1(a,b) + Sum_P2(a,b) + Sum_P3(a,b) + Sum_P1_1(d) + Sum_P3_3(a,b,d)\n",
    "\n",
    "Sum(a,b,d)"
   ]
  },
  {
   "cell_type": "code",
   "execution_count": 39,
   "metadata": {},
   "outputs": [
    {
     "data": {
      "text/latex": [
       "$\\displaystyle \\infty \\operatorname{sign}{\\left(b - 2 d \\right)}$"
      ],
      "text/plain": [
       "∞⋅sign(b - 2⋅d)"
      ]
     },
     "execution_count": 39,
     "metadata": {},
     "output_type": "execute_result"
    }
   ],
   "source": [
    "limit(Sum(a,b,d), t, 0)"
   ]
  },
  {
   "cell_type": "code",
   "execution_count": 27,
   "metadata": {},
   "outputs": [
    {
     "data": {
      "text/latex": [
       "$\\displaystyle 37$"
      ],
      "text/plain": [
       "37"
      ]
     },
     "execution_count": 27,
     "metadata": {},
     "output_type": "execute_result"
    }
   ],
   "source": []
  },
  {
   "cell_type": "code",
   "execution_count": 39,
   "metadata": {},
   "outputs": [
    {
     "data": {
      "text/latex": [
       "$\\displaystyle 3 k^{2} + 3 k + 1$"
      ],
      "text/plain": [
       "   2          \n",
       "3⋅k  + 3⋅k + 1"
      ]
     },
     "execution_count": 39,
     "metadata": {},
     "output_type": "execute_result"
    }
   ],
   "source": [
    "re(radsimp(limit(Sum(2*k, 3*k), t, 0), k).as_numer_denom()[0]) / re(radsimp(limit(Sum(2*k, 3*k), t, 0), k).as_numer_denom()[1])"
   ]
  },
  {
   "cell_type": "code",
   "execution_count": 40,
   "metadata": {},
   "outputs": [
    {
     "data": {
      "text/latex": [
       "$\\displaystyle 1$"
      ],
      "text/plain": [
       "1"
      ]
     },
     "metadata": {},
     "output_type": "display_data"
    },
    {
     "data": {
      "text/latex": [
       "$\\displaystyle 7$"
      ],
      "text/plain": [
       "7"
      ]
     },
     "metadata": {},
     "output_type": "display_data"
    },
    {
     "data": {
      "text/latex": [
       "$\\displaystyle 19$"
      ],
      "text/plain": [
       "19"
      ]
     },
     "metadata": {},
     "output_type": "display_data"
    },
    {
     "data": {
      "text/latex": [
       "$\\displaystyle 37$"
      ],
      "text/plain": [
       "37"
      ]
     },
     "metadata": {},
     "output_type": "display_data"
    },
    {
     "data": {
      "text/latex": [
       "$\\displaystyle 61$"
      ],
      "text/plain": [
       "61"
      ]
     },
     "metadata": {},
     "output_type": "display_data"
    },
    {
     "data": {
      "text/latex": [
       "$\\displaystyle 91$"
      ],
      "text/plain": [
       "91"
      ]
     },
     "metadata": {},
     "output_type": "display_data"
    },
    {
     "data": {
      "text/latex": [
       "$\\displaystyle 127$"
      ],
      "text/plain": [
       "127"
      ]
     },
     "metadata": {},
     "output_type": "display_data"
    },
    {
     "data": {
      "text/latex": [
       "$\\displaystyle 169$"
      ],
      "text/plain": [
       "169"
      ]
     },
     "metadata": {},
     "output_type": "display_data"
    },
    {
     "data": {
      "text/latex": [
       "$\\displaystyle 217$"
      ],
      "text/plain": [
       "217"
      ]
     },
     "metadata": {},
     "output_type": "display_data"
    },
    {
     "data": {
      "text/latex": [
       "$\\displaystyle 271$"
      ],
      "text/plain": [
       "271"
      ]
     },
     "metadata": {},
     "output_type": "display_data"
    }
   ],
   "source": [
    "for k in range(0, 10):\n",
    "    disp.display(re(radsimp(limit(Sum(2*k, 3*k), t, 0), k).as_numer_denom()[0]) / re(radsimp(limit(Sum(2*k, 3*k), t, 0), k).as_numer_denom()[1]))"
   ]
  },
  {
   "cell_type": "code",
   "execution_count": 23,
   "metadata": {},
   "outputs": [],
   "source": [
    "def c(d):\n",
    "    return 2*d"
   ]
  },
  {
   "cell_type": "code",
   "execution_count": 24,
   "metadata": {},
   "outputs": [
    {
     "data": {
      "text/latex": [
       "$\\displaystyle 2 d$"
      ],
      "text/plain": [
       "2⋅d"
      ]
     },
     "execution_count": 24,
     "metadata": {},
     "output_type": "execute_result"
    }
   ],
   "source": [
    "c(d)"
   ]
  },
  {
   "cell_type": "code",
   "execution_count": 23,
   "metadata": {},
   "outputs": [],
   "source": []
  },
  {
   "cell_type": "code",
   "execution_count": null,
   "metadata": {},
   "outputs": [],
   "source": [
    "\n"
   ]
  },
  {
   "cell_type": "code",
   "execution_count": null,
   "metadata": {},
   "outputs": [],
   "source": []
  }
 ],
 "metadata": {
  "kernelspec": {
   "display_name": "Python 3 (ipykernel)",
   "language": "python",
   "name": "python3"
  },
  "language_info": {
   "codemirror_mode": {
    "name": "ipython",
    "version": 3
   },
   "file_extension": ".py",
   "mimetype": "text/x-python",
   "name": "python",
   "nbconvert_exporter": "python",
   "pygments_lexer": "ipython3",
   "version": "3.9.7"
  }
 },
 "nbformat": 4,
 "nbformat_minor": 4
}
