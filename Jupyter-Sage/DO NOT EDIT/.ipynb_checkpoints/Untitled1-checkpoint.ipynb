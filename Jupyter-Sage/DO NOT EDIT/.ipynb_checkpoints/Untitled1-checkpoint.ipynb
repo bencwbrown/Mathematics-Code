{
 "cells": [
  {
   "cell_type": "code",
   "execution_count": 1,
   "id": "fce8a00e-a5fd-470f-a916-6fc1649812c6",
   "metadata": {},
   "outputs": [],
   "source": [
    "def Taylor_polynomial_sympy(function_expression, variable_list, evaluation_point, degree):\n",
    "    \"\"\"\n",
    "    Mathematical formulation reference:\n",
    "    https://math.libretexts.org/Bookshelves/Calculus/Supplemental_Modules_(Calculus)/Multivariable_Calculus/3%3A_Topics_in_Partial_Derivatives/Taylor__Polynomials_of_Functions_of_Two_Variables\n",
    "    :param function_expression: Sympy expression of the function\n",
    "    :param variable_list: list. All variables to be approximated (to be \"Taylorized\")\n",
    "    :param evaluation_point: list. Coordinates, where the function will be expressed\n",
    "    :param degree: int. Total degree of the Taylor polynomial\n",
    "    :return: Returns a Sympy expression of the Taylor series up to a given degree, of a given multivariate expression, approximated as a multivariate polynomial evaluated at the evaluation_point\n",
    "    \"\"\"\n",
    "    from sympy import factorial, Matrix, prod\n",
    "    import itertools\n",
    "\n",
    "    n_var = len(variable_list)\n",
    "    point_coordinates = [(i, j) for i, j in (zip(variable_list, evaluation_point))]  # list of tuples with variables and their evaluation_point coordinates, to later perform substitution\n",
    "\n",
    "    deriv_orders = list(itertools.product(range(degree + 1), repeat=n_var))  # list with exponentials of the partial derivatives\n",
    "    deriv_orders = [deriv_orders[i] for i in range(len(deriv_orders)) if sum(deriv_orders[i]) <= degree]  # Discarding some higher-order terms\n",
    "    n_terms = len(deriv_orders)\n",
    "    deriv_orders_as_input = [list(sum(list(zip(variable_list, deriv_orders[i])), ())) for i in range(n_terms)]  # Individual degree of each partial derivative, of each term\n",
    "\n",
    "    polynomial = 0\n",
    "    for i in range(n_terms):\n",
    "        partial_derivatives_at_point = function_expression.diff(*deriv_orders_as_input[i]).subs(point_coordinates)  # e.g. df/(dx*dy**2)\n",
    "        denominator = prod([factorial(j) for j in deriv_orders[i]])  # e.g. (1! * 2!)\n",
    "        distances_powered = prod([(Matrix(variable_list) - Matrix(evaluation_point))[j] ** deriv_orders[i][j] for j in range(n_var)])  # e.g. (x-x0)*(y-y0)**2\n",
    "        polynomial += partial_derivatives_at_point / denominator * distances_powered\n",
    "    return polynomial"
   ]
  },
  {
   "cell_type": "code",
   "execution_count": 29,
   "id": "f9d2084c-605e-4e71-9473-a9d94dfab843",
   "metadata": {},
   "outputs": [],
   "source": [
    "from sympy import *\n",
    "from sympy.vector import Vector\n",
    "from sympy.vector import CoordSys3D\n",
    "import IPython.display as disp\n",
    "\n",
    "N = CoordSys3D('N')\n",
    "\n",
    "x, y = symbols( 'x y' )\n",
    "t, k = symbols( 't k' )\n",
    "n, d, m = symbols('n d m', positive=True, integer=True)\n",
    "# init_printing(use_unicode=True)\n",
    "init_printing(use_latex='mathjax')\n",
    "# init_printing(use_unicode=True)\n",
    "init_printing(use_latex='mathjax')\n",
    "\n",
    "# Basis for the edge/weight vectors for the points \n",
    "\n",
    "v1 = N.i\n",
    "v2 = N.j"
   ]
  },
  {
   "cell_type": "code",
   "execution_count": 31,
   "id": "ec4eba91-3335-42b0-9aa7-6bafef6257c5",
   "metadata": {},
   "outputs": [
    {
     "data": {
      "text/latex": [
       "$\\displaystyle 1$"
      ],
      "text/plain": [
       "1"
      ]
     },
     "metadata": {},
     "output_type": "display_data"
    },
    {
     "data": {
      "text/latex": [
       "$\\displaystyle x^{2 m + n}$"
      ],
      "text/plain": [
       " 2⋅m + n\n",
       "x       "
      ]
     },
     "metadata": {},
     "output_type": "display_data"
    },
    {
     "data": {
      "text/latex": [
       "$\\displaystyle x^{2 m} + y^{n}$"
      ],
      "text/plain": [
       " 2⋅m    n\n",
       "x    + y "
      ]
     },
     "metadata": {},
     "output_type": "display_data"
    },
    {
     "data": {
      "text/latex": [
       "$\\displaystyle y^{2 m}$"
      ],
      "text/plain": [
       " 2⋅m\n",
       "y   "
      ]
     },
     "metadata": {},
     "output_type": "display_data"
    },
    {
     "data": {
      "text/latex": [
       "$\\displaystyle y^{2 m + n}$"
      ],
      "text/plain": [
       " 2⋅m + n\n",
       "y       "
      ]
     },
     "metadata": {},
     "output_type": "display_data"
    }
   ],
   "source": [
    "# Set the fixed points of the action; P denotes those that belong\n",
    "# to the core, and Q those that come from the cut extended core:\n",
    "\n",
    "def P12(x,y,n,m):\n",
    "    return 1\n",
    "\n",
    "def P23(x,y,n,m):\n",
    "    return x**(2*m + n)\n",
    "\n",
    "def P34(x,y,n,m):\n",
    "    return x**(2*m) + y**(n)\n",
    "\n",
    "def P14(x,y,n,m):\n",
    "    return y**(2*m)\n",
    "\n",
    "def P13(x,y,n,m):\n",
    "    return y**(2*m + n)\n",
    "\n",
    "interiorPoints = [P12(x,y,n,m), P23(x,y,n,m), P34(x,y,n,m), P14(x,y,n,m), P13(x,y,n,m)]\n",
    "\n",
    "for P in interiorPoints:\n",
    "    display(P)"
   ]
  },
  {
   "cell_type": "code",
   "execution_count": 32,
   "id": "4fe9294d-cab7-45a8-bf0d-953e96430114",
   "metadata": {},
   "outputs": [
    {
     "data": {
      "text/latex": [
       "$\\displaystyle y^{- d + m}$"
      ],
      "text/plain": [
       " -d + m\n",
       "y      "
      ]
     },
     "metadata": {},
     "output_type": "display_data"
    },
    {
     "data": {
      "text/latex": [
       "$\\displaystyle x^{- 2 d + 2 m}$"
      ],
      "text/plain": [
       " -2⋅d + 2⋅m\n",
       "x          "
      ]
     },
     "metadata": {},
     "output_type": "display_data"
    },
    {
     "data": {
      "text/latex": [
       "$\\displaystyle x^{2 d + n}$"
      ],
      "text/plain": [
       " 2⋅d + n\n",
       "x       "
      ]
     },
     "metadata": {},
     "output_type": "display_data"
    },
    {
     "data": {
      "text/latex": [
       "$\\displaystyle x^{d + m + n} + y^{- d + m}$"
      ],
      "text/plain": [
       " d + m + n    -d + m\n",
       "x          + y      "
      ]
     },
     "metadata": {},
     "output_type": "display_data"
    },
    {
     "data": {
      "text/latex": [
       "$\\displaystyle x^{2 d + n} + y^{2 m}$"
      ],
      "text/plain": [
       " 2⋅d + n    2⋅m\n",
       "x        + y   "
      ]
     },
     "metadata": {},
     "output_type": "display_data"
    },
    {
     "data": {
      "text/latex": [
       "$\\displaystyle y^{2 m} + x^{- 2 d}$"
      ],
      "text/plain": [
       " 2⋅m    -2⋅d\n",
       "y    + x    "
      ]
     },
     "metadata": {},
     "output_type": "display_data"
    },
    {
     "data": {
      "text/latex": [
       "$\\displaystyle y^{2 d + 2 m + n}$"
      ],
      "text/plain": [
       " 2⋅d + 2⋅m + n\n",
       "y             "
      ]
     },
     "metadata": {},
     "output_type": "display_data"
    },
    {
     "data": {
      "text/latex": [
       "$\\displaystyle y^{2 d + 2 m + n} + x^{- 2 d}$"
      ],
      "text/plain": [
       " 2⋅d + 2⋅m + n    -2⋅d\n",
       "y              + x    "
      ]
     },
     "metadata": {},
     "output_type": "display_data"
    }
   ],
   "source": [
    "# Points on the boundary\n",
    "\n",
    "def Q12_1(x,y,n,m,d): \n",
    "    return y**(m-d)\n",
    "\n",
    "def Q12_2(x,y,n,m,d): \n",
    "    return x**(2*m-2*d)\n",
    "\n",
    "def Q23_2(x,y,n,m,d): \n",
    "    return x**(n+2*d)\n",
    "\n",
    "def Q23_3(x,y,n,m,d): \n",
    "    return x**(m+n+d) + y**(m-d)\n",
    "\n",
    "def Q34_4(x,y,n,m,d): \n",
    "    return x**(n + 2*d) + y**(2*m)\n",
    "\n",
    "def Q14_4(x,y,n,m,d): \n",
    "    return x**(-2*d) + y**(2*m)\n",
    "\n",
    "def Q13_1(x,y,n,m,d): \n",
    "    return y**(2*m+n+2*d)\n",
    "\n",
    "def Q13_3(x,y,n,m,d): \n",
    "    return x**(-2*d) + y**(n + 2*m + 2*d)\n",
    "\n",
    "boundaryPoints = [Q12_1(x,y,n,m,d), Q12_2(x,y,n,m,d), Q23_2(x,y,n,m,d), Q23_3(x,y,n,m,d), Q34_4(x,y,n,m,d), Q14_4(x,y,n,m,d), Q13_1(x,y,n,m,d), Q13_3(x,y,n,m,d)]\n",
    "\n",
    "for Q in boundaryPoints:\n",
    "    display(Q)"
   ]
  },
  {
   "cell_type": "code",
   "execution_count": 40,
   "id": "392b055a-76bb-4e7f-9fcb-27093c8c09f2",
   "metadata": {},
   "outputs": [],
   "source": [
    "def edge(x,y,a,b):\n",
    "    return (x**a)*(y**b)\n",
    "\n",
    "def P(P, edge1, edge2, edge3, edge4):\n",
    "    return P / ( (1 - edge1 ) * ( 1 - edge2 ) * ( 1 - edge3 ) * ( 1 - edge4 ) )\n",
    "\n",
    "def Exp(p, q):\n",
    "    return exp( 2*pi*I*Rational(p,q) )\n",
    "\n",
    "def Half():\n",
    "    return Rational(1,2)\n",
    "\n",
    "def OrbiSum(Q, p, q, edge1, edge2, edge3, edge4):\n",
    "    return ( Rational(1,q) * Q ) / ( ( 1 - Exp(p,q) *  edge1 ) * ( 1 - Exp(p,q) *  edge2 ) * ( 1 - Exp(p,q) *  edge3 ) * ( 1 - Exp(p,q) *  edge4 ) )"
   ]
  },
  {
   "cell_type": "code",
   "execution_count": 40,
   "id": "aa5d84b5-5b06-412e-a971-1c8b2c78a768",
   "metadata": {},
   "outputs": [],
   "source": [
    "def SumP12(x,y,n,m):\n",
    "    return P(P12(x,y,n,m), edge(x,y,1,0), edge(x,y,0,1), edge(x,y,-1,0), edge(x,y,0,-1))\n",
    "\n",
    "def SumP23(x,y,n,m):\n",
    "    return P(P23(x,y,n,m), edge(x,y,1,0), edge(x,y,1,-1), edge(x,y,-1,0), edge(x,y,-1,1))\n",
    "\n",
    "def SumP34(x,y,n,m):\n",
    "    return P(P34(x,y,n,m), edge(x,y,1,0), edge(x,y,1,-1), edge(x,y,-1,0), edge(x,y,-1,1))\n",
    "\n",
    "def SumP14(x,y,n,m):\n",
    "    return P(P14(x,y,n,m), edge(x,y,1,0), edge(x,y,0,1), edge(x,y,-1,0), edge(x,y,0,-1))\n",
    "\n",
    "def SumP13(x,y,n,m):\n",
    "    return P(P13(x,y,n,m), edge(x,y,1,-1), edge(x,y,0,1), edge(x,y,-1,1), edge(x,y,0,-1))\n",
    "\n",
    "display(SumP12(x,y,n,m))\n",
    "display(SumP23(x,y,n,m))\n",
    "display(SumP34(x,y,n,m))\n",
    "display(SumP14(x,y,n,m))\n",
    "display(SumP13(x,y,n,m))"
   ]
  },
  {
   "cell_type": "code",
   "execution_count": 40,
   "id": "9354ddca-5f12-4631-8511-840f8d53318f",
   "metadata": {},
   "outputs": [
    {
     "data": {
      "text/latex": [
       "$\\displaystyle \\frac{1}{\\left(1 - \\frac{1}{x}\\right) \\left(1 - x\\right) \\left(1 - \\frac{1}{y}\\right) \\left(1 - y\\right)}$"
      ],
      "text/plain": [
       "               1               \n",
       "───────────────────────────────\n",
       "⎛    1⎞         ⎛    1⎞        \n",
       "⎜1 - ─⎟⋅(1 - x)⋅⎜1 - ─⎟⋅(1 - y)\n",
       "⎝    x⎠         ⎝    y⎠        "
      ]
     },
     "metadata": {},
     "output_type": "display_data"
    },
    {
     "data": {
      "text/latex": [
       "$\\displaystyle \\frac{x^{2 m + n}}{\\left(1 - \\frac{1}{x}\\right) \\left(1 - x\\right) \\left(1 - \\frac{y}{x}\\right) \\left(- \\frac{x}{y} + 1\\right)}$"
      ],
      "text/plain": [
       "              2⋅m + n            \n",
       "             x                   \n",
       "─────────────────────────────────\n",
       "⎛    1⎞         ⎛    y⎞ ⎛  x    ⎞\n",
       "⎜1 - ─⎟⋅(1 - x)⋅⎜1 - ─⎟⋅⎜- ─ + 1⎟\n",
       "⎝    x⎠         ⎝    x⎠ ⎝  y    ⎠"
      ]
     },
     "metadata": {},
     "output_type": "display_data"
    },
    {
     "data": {
      "text/latex": [
       "$\\displaystyle \\frac{x^{2 m} + y^{n}}{\\left(1 - \\frac{1}{x}\\right) \\left(1 - x\\right) \\left(1 - \\frac{y}{x}\\right) \\left(- \\frac{x}{y} + 1\\right)}$"
      ],
      "text/plain": [
       "             2⋅m    n            \n",
       "            x    + y             \n",
       "─────────────────────────────────\n",
       "⎛    1⎞         ⎛    y⎞ ⎛  x    ⎞\n",
       "⎜1 - ─⎟⋅(1 - x)⋅⎜1 - ─⎟⋅⎜- ─ + 1⎟\n",
       "⎝    x⎠         ⎝    x⎠ ⎝  y    ⎠"
      ]
     },
     "metadata": {},
     "output_type": "display_data"
    },
    {
     "data": {
      "text/latex": [
       "$\\displaystyle \\frac{y^{2 m}}{\\left(1 - \\frac{1}{x}\\right) \\left(1 - x\\right) \\left(1 - \\frac{1}{y}\\right) \\left(1 - y\\right)}$"
      ],
      "text/plain": [
       "               2⋅m             \n",
       "              y                \n",
       "───────────────────────────────\n",
       "⎛    1⎞         ⎛    1⎞        \n",
       "⎜1 - ─⎟⋅(1 - x)⋅⎜1 - ─⎟⋅(1 - y)\n",
       "⎝    x⎠         ⎝    y⎠        "
      ]
     },
     "metadata": {},
     "output_type": "display_data"
    },
    {
     "data": {
      "text/latex": [
       "$\\displaystyle \\frac{y^{2 m + n}}{\\left(1 - \\frac{1}{y}\\right) \\left(1 - y\\right) \\left(1 - \\frac{y}{x}\\right) \\left(- \\frac{x}{y} + 1\\right)}$"
      ],
      "text/plain": [
       "              2⋅m + n            \n",
       "             y                   \n",
       "─────────────────────────────────\n",
       "⎛    1⎞         ⎛    y⎞ ⎛  x    ⎞\n",
       "⎜1 - ─⎟⋅(1 - y)⋅⎜1 - ─⎟⋅⎜- ─ + 1⎟\n",
       "⎝    y⎠         ⎝    x⎠ ⎝  y    ⎠"
      ]
     },
     "metadata": {},
     "output_type": "display_data"
    }
   ],
   "source": []
  },
  {
   "cell_type": "code",
   "execution_count": 57,
   "id": "8af0f4a8-58c7-4409-a135-80def38e989c",
   "metadata": {},
   "outputs": [
    {
     "data": {
      "text/latex": [
       "$\\displaystyle \\frac{y^{- d + m}}{2 \\cdot \\left(1 + \\frac{\\sqrt{y}}{x}\\right) \\left(x + 1\\right) \\left(\\sqrt{y} + 1\\right)^{2}} + \\frac{y^{- d + m}}{2 \\cdot \\left(1 - x\\right) \\left(1 - \\sqrt{y}\\right)^{2} \\cdot \\left(1 - \\frac{\\sqrt{y}}{x}\\right)}$"
      ],
      "text/plain": [
       "           -d + m                         -d + m           \n",
       "          y                              y                 \n",
       "──────────────────────────── + ────────────────────────────\n",
       "  ⎛    √y⎞                 2                     2 ⎛    √y⎞\n",
       "2⋅⎜1 + ──⎟⋅(x + 1)⋅(√y + 1)    2⋅(1 - x)⋅(1 - √y) ⋅⎜1 - ──⎟\n",
       "  ⎝    x ⎠                                         ⎝    x ⎠"
      ]
     },
     "metadata": {},
     "output_type": "display_data"
    },
    {
     "data": {
      "text/latex": [
       "$\\displaystyle \\frac{x^{- 2 d + 2 m}}{\\left(1 - x\\right)^{2} \\cdot \\left(1 - \\frac{y}{x}\\right) \\left(- \\frac{x^{2}}{y} + 1\\right)}$"
      ],
      "text/plain": [
       "         -2⋅d + 2⋅m        \n",
       "        x                  \n",
       "───────────────────────────\n",
       "                 ⎛   2    ⎞\n",
       "       2 ⎛    y⎞ ⎜  x     ⎟\n",
       "(1 - x) ⋅⎜1 - ─⎟⋅⎜- ── + 1⎟\n",
       "         ⎝    x⎠ ⎝  y     ⎠"
      ]
     },
     "metadata": {},
     "output_type": "display_data"
    },
    {
     "data": {
      "text/latex": [
       "$\\displaystyle \\frac{\\frac{x^{d + m + n}}{2} + \\frac{y^{- d + m}}{2}}{\\left(1 + \\frac{1}{x}\\right) \\left(1 + \\frac{\\sqrt{y}}{\\sqrt{x}}\\right)^{2} \\left(\\sqrt{x} \\sqrt{y} + 1\\right)} + \\frac{\\frac{x^{d + m + n}}{2} + \\frac{y^{- d + m}}{2}}{\\left(1 - \\frac{1}{x}\\right) \\left(1 - \\frac{\\sqrt{y}}{\\sqrt{x}}\\right)^{2} \\left(- \\sqrt{x} \\sqrt{y} + 1\\right)}$"
      ],
      "text/plain": [
       "      d + m + n    -d + m             d + m + n    -d + m     \n",
       "     x            y                  x            y           \n",
       "     ────────── + ───────            ────────── + ───────     \n",
       "         2           2                   2           2        \n",
       "───────────────────────────── + ──────────────────────────────\n",
       "                2                               2             \n",
       "⎛    1⎞ ⎛    √y⎞                ⎛    1⎞ ⎛    √y⎞              \n",
       "⎜1 + ─⎟⋅⎜1 + ──⎟ ⋅(√x⋅√y + 1)   ⎜1 - ─⎟⋅⎜1 - ──⎟ ⋅(-√x⋅√y + 1)\n",
       "⎝    x⎠ ⎝    √x⎠                ⎝    x⎠ ⎝    √x⎠              "
      ]
     },
     "metadata": {},
     "output_type": "display_data"
    },
    {
     "data": {
      "text/latex": [
       "$\\displaystyle \\frac{x^{2 d + n}}{\\left(1 - \\frac{1}{x}\\right)^{2} \\cdot \\left(1 - y\\right) \\left(1 - \\frac{1}{x y}\\right)}$"
      ],
      "text/plain": [
       "          2⋅d + n         \n",
       "         x                \n",
       "──────────────────────────\n",
       "       2                  \n",
       "⎛    1⎞          ⎛     1 ⎞\n",
       "⎜1 - ─⎟ ⋅(1 - y)⋅⎜1 - ───⎟\n",
       "⎝    x⎠          ⎝    x⋅y⎠"
      ]
     },
     "metadata": {},
     "output_type": "display_data"
    },
    {
     "data": {
      "text/latex": [
       "$\\displaystyle \\frac{x^{2 d + n} + y^{2 m}}{\\left(1 - \\frac{1}{x}\\right)^{2} \\cdot \\left(1 - \\frac{1}{y}\\right) \\left(1 - \\frac{y}{x}\\right)}$"
      ],
      "text/plain": [
       "     2⋅d + n    2⋅m     \n",
       "    x        + y        \n",
       "────────────────────────\n",
       "       2                \n",
       "⎛    1⎞  ⎛    1⎞ ⎛    y⎞\n",
       "⎜1 - ─⎟ ⋅⎜1 - ─⎟⋅⎜1 - ─⎟\n",
       "⎝    x⎠  ⎝    y⎠ ⎝    x⎠"
      ]
     },
     "metadata": {},
     "output_type": "display_data"
    },
    {
     "data": {
      "text/latex": [
       "$\\displaystyle \\frac{y^{2 d + 2 m + n}}{\\left(1 - \\frac{1}{x}\\right) \\left(1 - \\frac{1}{y}\\right)^{2} \\left(- \\frac{x}{y} + 1\\right)}$"
      ],
      "text/plain": [
       "       2⋅d + 2⋅m + n      \n",
       "      y                   \n",
       "──────────────────────────\n",
       "               2          \n",
       "⎛    1⎞ ⎛    1⎞  ⎛  x    ⎞\n",
       "⎜1 - ─⎟⋅⎜1 - ─⎟ ⋅⎜- ─ + 1⎟\n",
       "⎝    x⎠ ⎝    y⎠  ⎝  y    ⎠"
      ]
     },
     "metadata": {},
     "output_type": "display_data"
    },
    {
     "data": {
      "text/latex": [
       "$\\displaystyle \\frac{y^{2 d + 2 m + n} + x^{- 2 d}}{\\left(1 - x\\right) \\left(1 - \\frac{1}{y}\\right) \\left(- \\frac{x}{y} + 1\\right)^{2}}$"
      ],
      "text/plain": [
       "   2⋅d + 2⋅m + n    -2⋅d  \n",
       "  y              + x      \n",
       "──────────────────────────\n",
       "                         2\n",
       "        ⎛    1⎞ ⎛  x    ⎞ \n",
       "(1 - x)⋅⎜1 - ─⎟⋅⎜- ─ + 1⎟ \n",
       "        ⎝    y⎠ ⎝  y    ⎠ "
      ]
     },
     "metadata": {},
     "output_type": "display_data"
    },
    {
     "data": {
      "text/latex": [
       "$\\displaystyle \\frac{y^{2 m} + x^{- 2 d}}{\\left(1 - x\\right)^{2} \\cdot \\left(1 - y\\right) \\left(- \\frac{x}{y} + 1\\right)}$"
      ],
      "text/plain": [
       "        2⋅m    -2⋅d       \n",
       "       y    + x           \n",
       "──────────────────────────\n",
       "       2         ⎛  x    ⎞\n",
       "(1 - x) ⋅(1 - y)⋅⎜- ─ + 1⎟\n",
       "                 ⎝  y    ⎠"
      ]
     },
     "metadata": {},
     "output_type": "display_data"
    }
   ],
   "source": [
    "def SumQ12_1(x,y,n,m,d):\n",
    "    return OrbiSum( Q12_1(x,y,n,m,d), 0, 2, edge(x, y, 0, Half()), edge(x, y, 0, Half()), edge(x, y, 1, 0), edge(x, y, -1, Half())) + OrbiSum(Q12_1(x,y,n,m,d), 1, 2, edge(x, y, 0, Half()), edge(x, y, 0, Half()), edge(x, y, 1, 0), edge(x, y, -1, Half()) )\n",
    "\n",
    "def SumQ23_3(x,y,n,m,d):\n",
    "    return OrbiSum( Q23_3(x,y,n,m,d), 0, 2, edge(x, y, -1, 0), edge(x, y, Half(), Half()), edge(x, y, -Half(), Half()), edge(x, y, -Half(), Half()) ) + OrbiSum( Q23_3(x,y,n,m,d), 1, 2, edge(x, y, -1, 0), edge(x, y, Half(), Half()), edge(x, y, -Half(), Half()), edge(x, y, -Half(), Half()) )\n",
    "\n",
    "def SumQ12_2(x,y,n,m,d):\n",
    "    return P( Q12_2(x,y,n,m,d), edge(x,y,2,-1), edge(x,y,1,0), edge(x,y,1,0), edge(x,y,-1,1) )\n",
    "\n",
    "def SumQ23_2(x,y,n,m,d):\n",
    "    return P( Q23_2(x,y,n,m,d), edge(x,y,-1,0), edge(x,y,-1,0), edge(x,y,0,1), edge(x,y,-1,-1) )\n",
    "\n",
    "def SumQ34_4(x,y,n,m,d):\n",
    "    return P( Q34_4(x,y,n,m,d), edge(x,y,-1,0), edge(x,y,-1,0), edge(x,y,0,-1), edge(x,y,-1,1) )\n",
    "\n",
    "def SumQ14_4(x,y,n,m,d):\n",
    "    return P( Q14_4(x,y,n,m,d), edge(x,y,1,0), edge(x,y,1,0), edge(x,y,0,1), edge(x,y,1,-1) )\n",
    "\n",
    "def SumQ13_1(x,y,n,m,d):\n",
    "    return P( Q13_1(x,y,n,m,d), edge(x,y,0,-1), edge(x,y,0,-1), edge(x,y,1,-1), edge(x,y,-1,0) )\n",
    "\n",
    "def SumQ13_3(x,y,n,m,d):\n",
    "    return P( Q13_3(x,y,n,m,d), edge(x,y,1,-1), edge(x,y,1,-1), edge(x,y,1,0), edge(x,y,0,-1) )\n",
    "\n",
    "display(SumQ12_1(x,y,n,m,d))\n",
    "display(SumQ12_2(x,y,n,m,d))\n",
    "display(SumQ23_3(x,y,n,m,d))\n",
    "display(SumQ23_2(x,y,n,m,d))\n",
    "display(SumQ34_4(x,y,n,m,d))\n",
    "display(SumQ13_1(x,y,n,m,d))\n",
    "display(SumQ13_3(x,y,n,m,d))\n",
    "display(SumQ14_4(x,y,n,m,d))"
   ]
  },
  {
   "cell_type": "code",
   "execution_count": 75,
   "id": "b0d8be49-bacd-4efb-bfff-d06119d24be2",
   "metadata": {},
   "outputs": [],
   "source": [
    "def interiorSum(x,y,n,m):\n",
    "    return SumP12(x,y,n,m) + SumP23(x,y,n,m) + SumP34(x,y,n,m) + SumP13(x,y,n,m) + SumP14(x,y,n,m)\n",
    "\n",
    "def boundarySum(x,y,n,m,d):\n",
    "    return SumQ12_1(x,y,n,m,d) + SumQ12_2(x,y,n,m,d) + SumQ23_2(x,y,n,m,d) + SumQ23_3(x,y,n,m,d) + SumQ34_4(x,y,n,m,d) + SumQ13_1(x,y,n,m,d) + SumQ13_3(x,y,n,m,d) + SumQ14_4(x,y,n,m,d)"
   ]
  },
  {
   "cell_type": "code",
   "execution_count": 76,
   "id": "af41e016-c259-4a93-8985-b765ae676d63",
   "metadata": {},
   "outputs": [
    {
     "data": {
      "text/latex": [
       "$\\displaystyle \\frac{x^{2 m + n}}{\\left(1 - \\frac{1}{x}\\right) \\left(1 - x\\right) \\left(1 - \\frac{y}{x}\\right) \\left(- \\frac{x}{y} + 1\\right)} + \\frac{y^{2 m}}{\\left(1 - \\frac{1}{x}\\right) \\left(1 - x\\right) \\left(1 - \\frac{1}{y}\\right) \\left(1 - y\\right)} + \\frac{y^{2 m + n}}{\\left(1 - \\frac{1}{y}\\right) \\left(1 - y\\right) \\left(1 - \\frac{y}{x}\\right) \\left(- \\frac{x}{y} + 1\\right)} + \\frac{x^{2 m} + y^{n}}{\\left(1 - \\frac{1}{x}\\right) \\left(1 - x\\right) \\left(1 - \\frac{y}{x}\\right) \\left(- \\frac{x}{y} + 1\\right)} + \\frac{1}{\\left(1 - \\frac{1}{x}\\right) \\left(1 - x\\right) \\left(1 - \\frac{1}{y}\\right) \\left(1 - y\\right)}$"
      ],
      "text/plain": [
       "              2⋅m + n                              2⋅m                              2⋅m + n        \n",
       "             x                                    y                                y               \n",
       "───────────────────────────────── + ─────────────────────────────── + ─────────────────────────────\n",
       "⎛    1⎞         ⎛    y⎞ ⎛  x    ⎞   ⎛    1⎞         ⎛    1⎞           ⎛    1⎞         ⎛    y⎞ ⎛  x \n",
       "⎜1 - ─⎟⋅(1 - x)⋅⎜1 - ─⎟⋅⎜- ─ + 1⎟   ⎜1 - ─⎟⋅(1 - x)⋅⎜1 - ─⎟⋅(1 - y)   ⎜1 - ─⎟⋅(1 - y)⋅⎜1 - ─⎟⋅⎜- ─ \n",
       "⎝    x⎠         ⎝    x⎠ ⎝  y    ⎠   ⎝    x⎠         ⎝    y⎠           ⎝    y⎠         ⎝    x⎠ ⎝  y \n",
       "\n",
       "                    2⋅m    n                                              \n",
       "                   x    + y                               1               \n",
       "──── + ───────────────────────────────── + ───────────────────────────────\n",
       "   ⎞   ⎛    1⎞         ⎛    y⎞ ⎛  x    ⎞   ⎛    1⎞         ⎛    1⎞        \n",
       "+ 1⎟   ⎜1 - ─⎟⋅(1 - x)⋅⎜1 - ─⎟⋅⎜- ─ + 1⎟   ⎜1 - ─⎟⋅(1 - x)⋅⎜1 - ─⎟⋅(1 - y)\n",
       "   ⎠   ⎝    x⎠         ⎝    x⎠ ⎝  y    ⎠   ⎝    x⎠         ⎝    y⎠        "
      ]
     },
     "metadata": {},
     "output_type": "display_data"
    },
    {
     "data": {
      "text/latex": [
       "$\\displaystyle \\frac{x^{- 2 d + 2 m}}{\\left(1 - x\\right)^{2} \\cdot \\left(1 - \\frac{y}{x}\\right) \\left(- \\frac{x^{2}}{y} + 1\\right)} + \\frac{x^{2 d + n}}{\\left(1 - \\frac{1}{x}\\right)^{2} \\cdot \\left(1 - y\\right) \\left(1 - \\frac{1}{x y}\\right)} + \\frac{y^{- d + m}}{2 \\cdot \\left(1 + \\frac{\\sqrt{y}}{x}\\right) \\left(x + 1\\right) \\left(\\sqrt{y} + 1\\right)^{2}} + \\frac{y^{- d + m}}{2 \\cdot \\left(1 - x\\right) \\left(1 - \\sqrt{y}\\right)^{2} \\cdot \\left(1 - \\frac{\\sqrt{y}}{x}\\right)} + \\frac{y^{2 d + 2 m + n}}{\\left(1 - \\frac{1}{x}\\right) \\left(1 - \\frac{1}{y}\\right)^{2} \\left(- \\frac{x}{y} + 1\\right)} + \\frac{y^{2 d + 2 m + n} + x^{- 2 d}}{\\left(1 - x\\right) \\left(1 - \\frac{1}{y}\\right) \\left(- \\frac{x}{y} + 1\\right)^{2}} + \\frac{y^{2 m} + x^{- 2 d}}{\\left(1 - x\\right)^{2} \\cdot \\left(1 - y\\right) \\left(- \\frac{x}{y} + 1\\right)} + \\frac{\\frac{x^{d + m + n}}{2} + \\frac{y^{- d + m}}{2}}{\\left(1 + \\frac{1}{x}\\right) \\left(1 + \\frac{\\sqrt{y}}{\\sqrt{x}}\\right)^{2} \\left(\\sqrt{x} \\sqrt{y} + 1\\right)} + \\frac{\\frac{x^{d + m + n}}{2} + \\frac{y^{- d + m}}{2}}{\\left(1 - \\frac{1}{x}\\right) \\left(1 - \\frac{\\sqrt{y}}{\\sqrt{x}}\\right)^{2} \\left(- \\sqrt{x} \\sqrt{y} + 1\\right)} + \\frac{x^{2 d + n} + y^{2 m}}{\\left(1 - \\frac{1}{x}\\right)^{2} \\cdot \\left(1 - \\frac{1}{y}\\right) \\left(1 - \\frac{y}{x}\\right)}$"
      ],
      "text/plain": [
       "                                                                                                   \n",
       "                                                                                                   \n",
       "         -2⋅d + 2⋅m                     2⋅d + n                       -d + m                       \n",
       "        x                              x                             y                             \n",
       "─────────────────────────── + ────────────────────────── + ──────────────────────────── + ─────────\n",
       "                 ⎛   2    ⎞          2                       ⎛    √y⎞                 2            \n",
       "       2 ⎛    y⎞ ⎜  x     ⎟   ⎛    1⎞          ⎛     1 ⎞   2⋅⎜1 + ──⎟⋅(x + 1)⋅(√y + 1)    2⋅(1 - x)\n",
       "(1 - x) ⋅⎜1 - ─⎟⋅⎜- ── + 1⎟   ⎜1 - ─⎟ ⋅(1 - y)⋅⎜1 - ───⎟     ⎝    x ⎠                              \n",
       "         ⎝    x⎠ ⎝  y     ⎠   ⎝    x⎠          ⎝    x⋅y⎠                                           \n",
       "\n",
       "                                                                                                   \n",
       "                                                                                                   \n",
       "  -d + m                     2⋅d + 2⋅m + n            2⋅d + 2⋅m + n    -2⋅d             2⋅m    -2⋅d\n",
       " y                          y                        y              + x                y    + x    \n",
       "─────────────────── + ────────────────────────── + ────────────────────────── + ───────────────────\n",
       "         2 ⎛    √y⎞                  2                                      2          2         ⎛ \n",
       "⋅(1 - √y) ⋅⎜1 - ──⎟   ⎛    1⎞ ⎛    1⎞  ⎛  x    ⎞           ⎛    1⎞ ⎛  x    ⎞    (1 - x) ⋅(1 - y)⋅⎜-\n",
       "           ⎝    x ⎠   ⎜1 - ─⎟⋅⎜1 - ─⎟ ⋅⎜- ─ + 1⎟   (1 - x)⋅⎜1 - ─⎟⋅⎜- ─ + 1⎟                     ⎝ \n",
       "                      ⎝    x⎠ ⎝    y⎠  ⎝  y    ⎠           ⎝    y⎠ ⎝  y    ⎠                       \n",
       "\n",
       "                d + m + n    -d + m             d + m + n    -d + m                                \n",
       "               x            y                  x            y                                      \n",
       "               ────────── + ───────            ────────── + ───────             2⋅d + n    2⋅m     \n",
       "                   2           2                   2           2               x        + y        \n",
       "─────── + ───────────────────────────── + ────────────────────────────── + ────────────────────────\n",
       " x    ⎞                   2                               2                       2                \n",
       " ─ + 1⎟   ⎛    1⎞ ⎛    √y⎞                ⎛    1⎞ ⎛    √y⎞                 ⎛    1⎞  ⎛    1⎞ ⎛    y⎞\n",
       " y    ⎠   ⎜1 + ─⎟⋅⎜1 + ──⎟ ⋅(√x⋅√y + 1)   ⎜1 - ─⎟⋅⎜1 - ──⎟ ⋅(-√x⋅√y + 1)   ⎜1 - ─⎟ ⋅⎜1 - ─⎟⋅⎜1 - ─⎟\n",
       "          ⎝    x⎠ ⎝    √x⎠                ⎝    x⎠ ⎝    √x⎠                 ⎝    x⎠  ⎝    y⎠ ⎝    x⎠"
      ]
     },
     "metadata": {},
     "output_type": "display_data"
    }
   ],
   "source": [
    "display( interiorSum(x,y,n,m) )\n",
    "display( boundarySum(x,y,n,m,d) )"
   ]
  },
  {
   "cell_type": "code",
   "execution_count": 82,
   "id": "a7cba8e6-cf72-412c-bfee-3187f1ff5cb2",
   "metadata": {},
   "outputs": [
    {
     "data": {
      "text/latex": [
       "$\\displaystyle \\frac{\\left(t + 1\\right)^{6 m} + \\left(t + 1\\right)^{2 d + n}}{\\left(1 - \\frac{1}{\\left(t + 1\\right)^{3}}\\right) \\left(1 - \\frac{1}{t + 1}\\right)^{2} \\cdot \\left(1 - \\left(t + 1\\right)^{2}\\right)} + \\frac{\\left(t + 1\\right)^{6 m + 3 n}}{\\left(1 - \\frac{1}{\\left(t + 1\\right)^{3}}\\right) \\left(1 - \\frac{1}{\\left(t + 1\\right)^{2}}\\right) \\left(1 - \\left(t + 1\\right)^{2}\\right) \\left(1 - \\left(t + 1\\right)^{3}\\right)} + \\frac{\\left(t + 1\\right)^{6 d + 6 m + 3 n}}{\\left(1 - \\frac{1}{\\left(t + 1\\right)^{3}}\\right)^{2} \\cdot \\left(1 - \\frac{1}{\\left(t + 1\\right)^{2}}\\right) \\left(1 - \\frac{1}{t + 1}\\right)} + \\frac{\\left(t + 1\\right)^{2 d + n}}{\\left(1 - \\frac{1}{\\left(t + 1\\right)^{4}}\\right) \\left(1 - \\frac{1}{t + 1}\\right)^{2} \\cdot \\left(1 - \\left(t + 1\\right)^{3}\\right)} + \\frac{\\frac{\\left(t + 1\\right)^{- 3 d + 3 m}}{2} + \\frac{\\left(t + 1\\right)^{d + m + n}}{2}}{\\left(1 + \\frac{\\sqrt{\\left(t + 1\\right)^{3}}}{\\sqrt{t + 1}}\\right)^{2} \\cdot \\left(1 + \\frac{1}{t + 1}\\right) \\left(\\sqrt{t + 1} \\sqrt{\\left(t + 1\\right)^{3}} + 1\\right)} + \\frac{\\frac{\\left(t + 1\\right)^{- 3 d + 3 m}}{2} + \\frac{\\left(t + 1\\right)^{d + m + n}}{2}}{\\left(1 - \\frac{\\sqrt{\\left(t + 1\\right)^{3}}}{\\sqrt{t + 1}}\\right)^{2} \\cdot \\left(1 - \\frac{1}{t + 1}\\right) \\left(- \\sqrt{t + 1} \\sqrt{\\left(t + 1\\right)^{3}} + 1\\right)} + \\frac{\\left(t + 1\\right)^{- 3 d + 3 m}}{2 \\cdot \\left(1 + \\frac{\\sqrt{\\left(t + 1\\right)^{3}}}{t + 1}\\right) \\left(t + 2\\right) \\left(\\sqrt{\\left(t + 1\\right)^{3}} + 1\\right)^{2}} - \\frac{\\left(t + 1\\right)^{2 m + n}}{t \\left(1 - \\frac{1}{\\left(t + 1\\right)^{2}}\\right) \\left(1 - \\frac{1}{t + 1}\\right) \\left(1 - \\left(t + 1\\right)^{2}\\right)} - \\frac{\\left(t + 1\\right)^{2 m} + \\left(t + 1\\right)^{3 n}}{t \\left(1 - \\frac{1}{\\left(t + 1\\right)^{2}}\\right) \\left(1 - \\frac{1}{t + 1}\\right) \\left(1 - \\left(t + 1\\right)^{2}\\right)} - \\frac{\\left(t + 1\\right)^{6 m}}{t \\left(1 - \\frac{1}{\\left(t + 1\\right)^{3}}\\right) \\left(1 - \\frac{1}{t + 1}\\right) \\left(1 - \\left(t + 1\\right)^{3}\\right)} - \\frac{1}{t \\left(1 - \\frac{1}{\\left(t + 1\\right)^{3}}\\right) \\left(1 - \\frac{1}{t + 1}\\right) \\left(1 - \\left(t + 1\\right)^{3}\\right)} - \\frac{\\left(t + 1\\right)^{6 d + 6 m + 3 n} + \\left(t + 1\\right)^{- 2 d}}{t \\left(1 - \\frac{1}{\\left(t + 1\\right)^{3}}\\right) \\left(1 - \\frac{1}{\\left(t + 1\\right)^{2}}\\right)^{2}} - \\frac{\\left(t + 1\\right)^{- 3 d + 3 m}}{2 t \\left(1 - \\frac{\\sqrt{\\left(t + 1\\right)^{3}}}{t + 1}\\right) \\left(1 - \\sqrt{\\left(t + 1\\right)^{3}}\\right)^{2}} + \\frac{\\left(t + 1\\right)^{- 2 d + 2 m}}{t^{2} \\cdot \\left(1 - \\frac{1}{t + 1}\\right) \\left(1 - \\left(t + 1\\right)^{2}\\right)} + \\frac{\\left(t + 1\\right)^{6 m} + \\left(t + 1\\right)^{- 2 d}}{t^{2} \\cdot \\left(1 - \\frac{1}{\\left(t + 1\\right)^{2}}\\right) \\left(1 - \\left(t + 1\\right)^{3}\\right)}$"
      ],
      "text/plain": [
       "                                                                                                   \n",
       "                                                                                                   \n",
       "              6⋅m          2⋅d + n                                        6⋅m + 3⋅n                \n",
       "       (t + 1)    + (t + 1)                                        (t + 1)                         \n",
       "────────────────────────────────────────── + ──────────────────────────────────────────────────────\n",
       "                          2                  ⎛       1    ⎞ ⎛       1    ⎞ ⎛           2⎞ ⎛        \n",
       "⎛       1    ⎞ ⎛      1  ⎞  ⎛           2⎞   ⎜1 - ────────⎟⋅⎜1 - ────────⎟⋅⎝1 - (t + 1) ⎠⋅⎝1 - (t +\n",
       "⎜1 - ────────⎟⋅⎜1 - ─────⎟ ⋅⎝1 - (t + 1) ⎠   ⎜           3⎟ ⎜           2⎟                         \n",
       "⎜           3⎟ ⎝    t + 1⎠                   ⎝    (t + 1) ⎠ ⎝    (t + 1) ⎠                         \n",
       "⎝    (t + 1) ⎠                                                                                     \n",
       "                                                                                                   \n",
       "                                                                                                   \n",
       "\n",
       "                                                                                                   \n",
       "                                                                                                   \n",
       "                         6⋅d + 6⋅m + 3⋅n                                  2⋅d + n                  \n",
       "                  (t + 1)                                          (t + 1)                         \n",
       "───── + ────────────────────────────────────────── + ────────────────────────────────────────── + ─\n",
       "   3⎞                 2                                                        2                   \n",
       " 1) ⎠   ⎛       1    ⎞  ⎛       1    ⎞ ⎛      1  ⎞   ⎛       1    ⎞ ⎛      1  ⎞  ⎛           3⎞   ⎛\n",
       "        ⎜1 - ────────⎟ ⋅⎜1 - ────────⎟⋅⎜1 - ─────⎟   ⎜1 - ────────⎟⋅⎜1 - ─────⎟ ⋅⎝1 - (t + 1) ⎠   ⎜\n",
       "        ⎜           3⎟  ⎜           2⎟ ⎝    t + 1⎠   ⎜           4⎟ ⎝    t + 1⎠                   ⎜\n",
       "        ⎝    (t + 1) ⎠  ⎝    (t + 1) ⎠               ⎝    (t + 1) ⎠                               ⎜\n",
       "                                                                                                  ⎜\n",
       "                                                                                                  ⎝\n",
       "\n",
       "                   -3⋅d + 3⋅m          d + m + n                                     -3⋅d + 3⋅m    \n",
       "            (t + 1)             (t + 1)                                       (t + 1)             (\n",
       "            ───────────────── + ────────────────                              ───────────────── + ─\n",
       "                    2                  2                                              2            \n",
       "───────────────────────────────────────────────────────────── + ───────────────────────────────────\n",
       "                  2                                                                2               \n",
       "       __________⎞                                              ⎛       __________⎞                \n",
       "      ╱        3 ⎟              ⎛             __________    ⎞   ⎜      ╱        3 ⎟              ⎛ \n",
       "    ╲╱  (t + 1)  ⎟  ⎛      1  ⎞ ⎜  _______   ╱        3     ⎟   ⎜    ╲╱  (t + 1)  ⎟  ⎛      1  ⎞ ⎜ \n",
       "1 + ─────────────⎟ ⋅⎜1 + ─────⎟⋅⎝╲╱ t + 1 ⋅╲╱  (t + 1)   + 1⎠   ⎜1 - ─────────────⎟ ⋅⎜1 - ─────⎟⋅⎝-\n",
       "        _______  ⎟  ⎝    t + 1⎠                                 ⎜        _______  ⎟  ⎝    t + 1⎠   \n",
       "      ╲╱ t + 1   ⎠                                              ⎝      ╲╱ t + 1   ⎠                \n",
       "\n",
       "      d + m + n                                                                                    \n",
       "t + 1)                                                                                             \n",
       "───────────────                                        -3⋅d + 3⋅m                                  \n",
       "      2                                         (t + 1)                                            \n",
       "───────────────────────────── + ────────────────────────────────────────────────── - ──────────────\n",
       "                                  ⎛       __________⎞                            2     ⎛       1   \n",
       "                                  ⎜      ╱        3 ⎟         ⎛   __________    ⎞    t⋅⎜1 - ───────\n",
       "              __________    ⎞     ⎜    ╲╱  (t + 1)  ⎟         ⎜  ╱        3     ⎟      ⎜           \n",
       "   _______   ╱        3     ⎟   2⋅⎜1 + ─────────────⎟⋅(t + 2)⋅⎝╲╱  (t + 1)   + 1⎠      ⎝    (t + 1)\n",
       " ╲╱ t + 1 ⋅╲╱  (t + 1)   + 1⎠     ⎝        t + 1    ⎠                                              \n",
       "                                                                                                   \n",
       "                                                                                                   \n",
       "\n",
       "                                                                                                   \n",
       "                                                                                                   \n",
       "        2⋅m + n                                  2⋅m          3⋅n                                  \n",
       " (t + 1)                                  (t + 1)    + (t + 1)                                 (t +\n",
       "───────────────────────────── - ─────────────────────────────────────────── - ─────────────────────\n",
       " ⎞ ⎛      1  ⎞ ⎛           2⎞     ⎛       1    ⎞ ⎛      1  ⎞ ⎛           2⎞     ⎛       1    ⎞ ⎛   \n",
       "─⎟⋅⎜1 - ─────⎟⋅⎝1 - (t + 1) ⎠   t⋅⎜1 - ────────⎟⋅⎜1 - ─────⎟⋅⎝1 - (t + 1) ⎠   t⋅⎜1 - ────────⎟⋅⎜1 -\n",
       "2⎟ ⎝    t + 1⎠                    ⎜           2⎟ ⎝    t + 1⎠                    ⎜           3⎟ ⎝   \n",
       " ⎠                                ⎝    (t + 1) ⎠                                ⎝    (t + 1) ⎠     \n",
       "                                                                                                   \n",
       "                                                                                                   \n",
       "                                                                                                   \n",
       "\n",
       "                                                                                                   \n",
       "                                                                                                   \n",
       "   6⋅m                                                                        6⋅d + 6⋅m + 3⋅n      \n",
       " 1)                                           1                        (t + 1)                + (t \n",
       "────────────────────── - ─────────────────────────────────────────── - ────────────────────────────\n",
       "   1  ⎞ ⎛           3⎞     ⎛       1    ⎞ ⎛      1  ⎞ ⎛           3⎞                               \n",
       " ─────⎟⋅⎝1 - (t + 1) ⎠   t⋅⎜1 - ────────⎟⋅⎜1 - ─────⎟⋅⎝1 - (t + 1) ⎠       ⎛       1    ⎞ ⎛       1\n",
       " t + 1⎠                    ⎜           3⎟ ⎝    t + 1⎠                    t⋅⎜1 - ────────⎟⋅⎜1 - ────\n",
       "                           ⎝    (t + 1) ⎠                                  ⎜           3⎟ ⎜        \n",
       "                                                                           ⎝    (t + 1) ⎠ ⎝    (t +\n",
       "                                                                                                   \n",
       "                                                                                                   \n",
       "\n",
       "                                                                                                   \n",
       "                                                                                                   \n",
       "    -2⋅d                       -3⋅d + 3⋅m                              -2⋅d + 2⋅m                  \n",
       "+ 1)                    (t + 1)                                 (t + 1)                       (t + \n",
       "──────── - ──────────────────────────────────────────── + ───────────────────────────── + ─────────\n",
       "     2         ⎛       __________⎞                    2    2 ⎛      1  ⎞ ⎛           2⎞    2 ⎛     \n",
       "    ⎞          ⎜      ╱        3 ⎟ ⎛       __________⎞    t ⋅⎜1 - ─────⎟⋅⎝1 - (t + 1) ⎠   t ⋅⎜1 - ─\n",
       "────⎟          ⎜    ╲╱  (t + 1)  ⎟ ⎜      ╱        3 ⎟       ⎝    t + 1⎠                     ⎜     \n",
       "   2⎟      2⋅t⋅⎜1 - ─────────────⎟⋅⎝1 - ╲╱  (t + 1)  ⎠                                       ⎝    (\n",
       " 1) ⎠          ⎝        t + 1    ⎠                                                                 \n",
       "                                                                                                   \n",
       "                                                                                                   \n",
       "\n",
       "                       \n",
       "                       \n",
       "  6⋅m          -2⋅d    \n",
       "1)    + (t + 1)        \n",
       "───────────────────────\n",
       "  1    ⎞ ⎛           3⎞\n",
       "───────⎟⋅⎝1 - (t + 1) ⎠\n",
       "      2⎟               \n",
       "t + 1) ⎠               \n",
       "                       \n",
       "                       \n",
       "                       "
      ]
     },
     "metadata": {},
     "output_type": "display_data"
    }
   ],
   "source": [
    "def totalSum(x,y,n,m,d):\n",
    "    return interiorSum(x,y,n,m) + boundarySum(x,y,n,m,d)\n",
    "\n",
    "display(totalSum(x,y,n,m,d).subs(x, (1 + t) ).subs(y, (1 + t)**(3) ) )"
   ]
  },
  {
   "cell_type": "code",
   "execution_count": 86,
   "id": "853c362e-ea97-485f-bc73-83ed7ce529f2",
   "metadata": {},
   "outputs": [
    {
     "data": {
      "text/latex": [
       "$\\displaystyle -\\infty$"
      ],
      "text/plain": [
       "-∞"
      ]
     },
     "execution_count": 86,
     "metadata": {},
     "output_type": "execute_result"
    }
   ],
   "source": [
    "limit(totalSum(x,y,n,m,d).subs(x, (1 + t) ).subs(y, (1 + t)**(3)), t, 0)"
   ]
  },
  {
   "cell_type": "code",
   "execution_count": null,
   "id": "cc4cc4a9-1df5-4323-b8ec-5430484707bf",
   "metadata": {},
   "outputs": [],
   "source": []
  }
 ],
 "metadata": {
  "kernelspec": {
   "display_name": "Python 3 (ipykernel)",
   "language": "python",
   "name": "python3"
  },
  "language_info": {
   "codemirror_mode": {
    "name": "ipython",
    "version": 3
   },
   "file_extension": ".py",
   "mimetype": "text/x-python",
   "name": "python",
   "nbconvert_exporter": "python",
   "pygments_lexer": "ipython3",
   "version": "3.10.3"
  }
 },
 "nbformat": 4,
 "nbformat_minor": 5
}
