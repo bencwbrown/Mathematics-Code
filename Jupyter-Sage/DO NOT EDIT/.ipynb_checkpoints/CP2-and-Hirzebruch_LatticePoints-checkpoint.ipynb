{
 "cells": [
  {
   "cell_type": "code",
   "execution_count": 1,
   "metadata": {},
   "outputs": [],
   "source": [
    "from sympy import *\n",
    "from sympy.vector import Vector\n",
    "from sympy.vector import CoordSys3D\n",
    "import IPython.display as disp\n",
    "\n",
    "N = CoordSys3D('N')\n",
    "\n",
    "t, k = symbols( 't k' )\n",
    "n, d, m = symbols('n d m', positive=True, integer=True)\n",
    "# init_printing(use_unicode=True)\n",
    "init_printing(use_latex='mathjax')\n",
    "\n",
    "# Basis for the edge/weight vectors for the points \n",
    "\n",
    "v1 = N.i\n",
    "v2 = N.j\n",
    "\n",
    "# Define the vector which is not parallel to any edge vector, which will tend to zero:\n",
    "\n",
    "Phi = t*(v1 + 3*v2)"
   ]
  },
  {
   "cell_type": "code",
   "execution_count": 2,
   "metadata": {},
   "outputs": [
    {
     "data": {
      "text/latex": [
       "$\\displaystyle \\mathbf{\\hat{0}}$"
      ],
      "text/plain": [
       "0"
      ]
     },
     "metadata": {},
     "output_type": "display_data"
    },
    {
     "data": {
      "text/latex": [
       "$\\displaystyle (2 m + n)\\mathbf{\\hat{i}_{N}}$"
      ],
      "text/plain": [
       "(2⋅m + n) i_N"
      ]
     },
     "metadata": {},
     "output_type": "display_data"
    },
    {
     "data": {
      "text/latex": [
       "$\\displaystyle (n)\\mathbf{\\hat{i}_{N}} + (2 m)\\mathbf{\\hat{j}_{N}}$"
      ],
      "text/plain": [
       "(n) i_N + (2⋅m) j_N"
      ]
     },
     "metadata": {},
     "output_type": "display_data"
    },
    {
     "data": {
      "text/latex": [
       "$\\displaystyle (2 m)\\mathbf{\\hat{j}_{N}}$"
      ],
      "text/plain": [
       "(2⋅m) j_N"
      ]
     },
     "metadata": {},
     "output_type": "display_data"
    },
    {
     "data": {
      "text/latex": [
       "$\\displaystyle (2 m + n)\\mathbf{\\hat{j}_{N}}$"
      ],
      "text/plain": [
       "(2⋅m + n) j_N"
      ]
     },
     "metadata": {},
     "output_type": "display_data"
    }
   ],
   "source": [
    "# Set the fixed points of the action; P denotes those that belong\n",
    "# to the core, and Q those that come from the cut extended core:\n",
    "\n",
    "def P12(n,m):\n",
    "    return Vector.zero\n",
    "\n",
    "def P23(n,m):\n",
    "    return (2*m + n)*v1\n",
    "\n",
    "def P34(n,m):\n",
    "    return n*v1 + 2*m*v2\n",
    "\n",
    "def P14(n,m):\n",
    "    return 2*m*v2\n",
    "\n",
    "def P13(n,m):\n",
    "    return (2*m + n)*v2\n",
    "\n",
    "interiorPoints = [P12(n,m), P23(n,m), P34(n,m), P14(n,m), P13(n,m)]\n",
    "\n",
    "for P in interiorPoints:\n",
    "    display(P)"
   ]
  },
  {
   "cell_type": "code",
   "execution_count": 6,
   "metadata": {},
   "outputs": [
    {
     "data": {
      "text/latex": [
       "$\\displaystyle (- d + m)\\mathbf{\\hat{j}_{N}}$"
      ],
      "text/plain": [
       "(-d + m) j_N"
      ]
     },
     "metadata": {},
     "output_type": "display_data"
    },
    {
     "data": {
      "text/latex": [
       "$\\displaystyle (- 2 d + 2 m)\\mathbf{\\hat{i}_{N}}$"
      ],
      "text/plain": [
       "(-2⋅d + 2⋅m) i_N"
      ]
     },
     "metadata": {},
     "output_type": "display_data"
    },
    {
     "data": {
      "text/latex": [
       "$\\displaystyle (2 d + n)\\mathbf{\\hat{i}_{N}}$"
      ],
      "text/plain": [
       "(2⋅d + n) i_N"
      ]
     },
     "metadata": {},
     "output_type": "display_data"
    },
    {
     "data": {
      "text/latex": [
       "$\\displaystyle (d + m + n)\\mathbf{\\hat{i}_{N}} + (- d + m)\\mathbf{\\hat{j}_{N}}$"
      ],
      "text/plain": [
       "(d + m + n) i_N + (-d + m) j_N"
      ]
     },
     "metadata": {},
     "output_type": "display_data"
    },
    {
     "data": {
      "text/latex": [
       "$\\displaystyle (2 d + n)\\mathbf{\\hat{i}_{N}} + (2 m)\\mathbf{\\hat{j}_{N}}$"
      ],
      "text/plain": [
       "(2⋅d + n) i_N + (2⋅m) j_N"
      ]
     },
     "metadata": {},
     "output_type": "display_data"
    },
    {
     "data": {
      "text/latex": [
       "$\\displaystyle (- 2 d)\\mathbf{\\hat{i}_{N}} + (2 m)\\mathbf{\\hat{j}_{N}}$"
      ],
      "text/plain": [
       "(-2⋅d) i_N + (2⋅m) j_N"
      ]
     },
     "metadata": {},
     "output_type": "display_data"
    },
    {
     "data": {
      "text/latex": [
       "$\\displaystyle (2 d + 2 m + n)\\mathbf{\\hat{j}_{N}}$"
      ],
      "text/plain": [
       "(2⋅d + 2⋅m + n) j_N"
      ]
     },
     "metadata": {},
     "output_type": "display_data"
    },
    {
     "data": {
      "text/latex": [
       "$\\displaystyle (- 2 d)\\mathbf{\\hat{i}_{N}} + (2 d + 2 m + n)\\mathbf{\\hat{j}_{N}}$"
      ],
      "text/plain": [
       "(-2⋅d) i_N + (2⋅d + 2⋅m + n) j_N"
      ]
     },
     "metadata": {},
     "output_type": "display_data"
    }
   ],
   "source": [
    "def Q12_1(n,m,d):\n",
    "    return (m-d)*v2\n",
    "\n",
    "def Q12_2(n,m,d):\n",
    "    return (2*m-2*d)*v1\n",
    "\n",
    "def Q23_2(n,m,d):\n",
    "    return (n+2*d)*v1\n",
    "\n",
    "def Q23_3(n,m,d):\n",
    "    return (m+n+d)*v1 + (m-d)*v2\n",
    "\n",
    "def Q34_4(n,m,d):\n",
    "    return (n + 2*d)*v1 + 2*m*v2\n",
    "\n",
    "def Q14_4(n,m,d):\n",
    "    return -2*d*v1 + 2*m*v2\n",
    "\n",
    "def Q13_1(n,m,d):\n",
    "    return (2*m+n+2*d)*v2\n",
    "\n",
    "def Q13_3(n,m,d):\n",
    "    return -2*d*v1 + (n + 2*m + 2*d)*v2\n",
    "\n",
    "# Define the term which is summed over each fixed point,\n",
    "# representing the character for the representation\n",
    "\n",
    "def P(P, edge1, edge2, edge3, edge4):\n",
    "    return exp( Phi.dot(P) ) / ( (1 - exp( Phi.dot(edge1) ) ) * ( 1 - exp( Phi.dot(edge2) ) ) * ( 1 - exp( Phi.dot(edge3) ) ) * ( 1 - exp( Phi.dot(edge4) ) ) )\n",
    "\n",
    "\n",
    "def Q(P, edge1, edge2):\n",
    "    return exp( Phi.dot(P) ) / ( (1 - exp( Phi.dot(edge1) ) ) * ( 1 - exp( Phi.dot(edge2) ) ) )\n",
    "\n",
    "def Exp(p, q):\n",
    "    return exp( 2*pi*I*Rational(p,q) )\n",
    "\n",
    "def gExp(g, P):\n",
    "    return exp( 2*pi*I*g.dot(P) )\n",
    "\n",
    "#def OrbiFactor(p, q, edge):\n",
    "#    return ( 1 - ( Exp(p,q) * exp( Rational(p,q) * Phi.dot(edge) ) ) )\n",
    "\n",
    "#def OrbiSum(Q, p, q, edge1, edge2, edge3, edge4):\n",
    "#    return ( Rational(1,q) * exp( Phi.dot(Q) ) ) / ( (1 - ( Exp(p,q) * exp( Rational(1,q) * Phi.dot(edge1) ) ) ) * (1 - ( Exp(p,q) * exp( Rational(1,q) * Phi.dot(edge2) ) ) ) * (1 - ( Exp(p,q) * exp( Rational(1,q) * Phi.dot(edge3) ) ) ) * (1 - ( Exp(p,q) * exp( Rational(1,q) * Phi.dot(edge4) ) ) ) ) \n",
    "\n",
    "def gOrbiSum(Q, q, g, edge1, edge2, edge3, edge4):\n",
    "    return ( Rational(1,q) * exp( Phi.dot(Q) ) ) / ( (1 - ( gExp(g,edge1) * exp( Phi.dot(edge1) ) ) ) * (1 - ( gExp(g,edge2) * exp( Phi.dot(edge2) ) ) ) * (1 - ( gExp(g,edge3) * exp( Phi.dot(edge3) ) ) ) * (1 - ( gExp(g,edge4) * exp( Phi.dot(edge4) ) ) ) ) \n",
    "\n",
    "#def OrbiHalfSum(Q, p, q, edge1, edge2, edge3, edge4):\n",
    "#    return ( Rational(1,q) * exp( Phi.dot(Q) )  ) / ( (1 - ( Exp(p,q) * exp( Rational(1,q) * Phi.dot(edge1) ) ) ) * (1 - ( Exp(p,q) * exp( Rational(1,q) * Phi.dot(edge2) ) ) ) * (1 - ( Exp(p,q) * exp( Rational(1,q) * Phi.dot(edge3) ) ) ) * (1 - ( Exp(p,q) * exp( Rational(1,q) * Phi.dot(edge4) ) ) ) ) \n",
    "\n",
    "boundaryPoints = [Q12_1(n,m,d), Q12_2(n,m,d), Q23_2(n,m,d), Q23_3(n,m,d), Q34_4(n,m,d), Q14_4(n,m,d), Q13_1(n,m,d), Q13_3(n,m,d)]\n",
    "\n",
    "for Q in boundaryPoints:\n",
    "    display(Q)"
   ]
  },
  {
   "cell_type": "code",
   "execution_count": 7,
   "metadata": {},
   "outputs": [
    {
     "data": {
      "text/latex": [
       "$\\displaystyle \\frac{e^{t \\left(2 m + n\\right)}}{\\left(1 - e^{- 2 t}\\right) \\left(1 - e^{- t}\\right) \\left(1 - e^{t}\\right) \\left(1 - e^{2 t}\\right)} + \\frac{e^{6 m t + n t}}{\\left(1 - e^{- 2 t}\\right) \\left(1 - e^{- t}\\right) \\left(1 - e^{t}\\right) \\left(1 - e^{2 t}\\right)} + \\frac{e^{6 m t}}{\\left(1 - e^{- 3 t}\\right) \\left(1 - e^{- t}\\right) \\left(1 - e^{t}\\right) \\left(1 - e^{3 t}\\right)} + \\frac{1}{\\left(1 - e^{- 3 t}\\right) \\left(1 - e^{- t}\\right) \\left(1 - e^{t}\\right) \\left(1 - e^{3 t}\\right)} + \\frac{e^{3 t \\left(2 m + n\\right)}}{\\left(1 - e^{- 3 t}\\right) \\left(1 - e^{- 2 t}\\right) \\left(1 - e^{2 t}\\right) \\left(1 - e^{3 t}\\right)}$"
      ],
      "text/plain": [
       "                t⋅(2⋅m + n)                                 6⋅m⋅t + n⋅t       \n",
       "               ℯ                                           ℯ                  \n",
       "───────────────────────────────────────── + ──────────────────────────────────\n",
       "⎛     -2⋅t⎞ ⎛     -t⎞ ⎛     t⎞ ⎛     2⋅t⎞   ⎛     -2⋅t⎞ ⎛     -t⎞ ⎛     t⎞ ⎛  \n",
       "⎝1 - ℯ    ⎠⋅⎝1 - ℯ  ⎠⋅⎝1 - ℯ ⎠⋅⎝1 - ℯ   ⎠   ⎝1 - ℯ    ⎠⋅⎝1 - ℯ  ⎠⋅⎝1 - ℯ ⎠⋅⎝1 \n",
       "\n",
       "                             6⋅m⋅t                                            \n",
       "                            ℯ                                             1   \n",
       "─────── + ───────────────────────────────────────── + ────────────────────────\n",
       "   2⋅t⎞   ⎛     -3⋅t⎞ ⎛     -t⎞ ⎛     t⎞ ⎛     3⋅t⎞   ⎛     -3⋅t⎞ ⎛     -t⎞ ⎛ \n",
       "- ℯ   ⎠   ⎝1 - ℯ    ⎠⋅⎝1 - ℯ  ⎠⋅⎝1 - ℯ ⎠⋅⎝1 - ℯ   ⎠   ⎝1 - ℯ    ⎠⋅⎝1 - ℯ  ⎠⋅⎝1\n",
       "\n",
       "                                     3⋅t⋅(2⋅m + n)               \n",
       "                                    ℯ                            \n",
       "───────────────── + ─────────────────────────────────────────────\n",
       "    t⎞ ⎛     3⋅t⎞   ⎛     -3⋅t⎞ ⎛     -2⋅t⎞ ⎛     2⋅t⎞ ⎛     3⋅t⎞\n",
       " - ℯ ⎠⋅⎝1 - ℯ   ⎠   ⎝1 - ℯ    ⎠⋅⎝1 - ℯ    ⎠⋅⎝1 - ℯ   ⎠⋅⎝1 - ℯ   ⎠"
      ]
     },
     "execution_count": 7,
     "metadata": {},
     "output_type": "execute_result"
    }
   ],
   "source": [
    "def TermP12(n,m):\n",
    "    return P(P12(n,m), v1, v2, -v1, -v2)\n",
    "\n",
    "def TermP23(n,m):\n",
    "    return P(P23(n,m), v1, -v1 + v2, -v1, v1 - v2)\n",
    "\n",
    "def TermP34(n,m):\n",
    "    return P(P34(n,m), v1, -v1 + v2, -v1, v1 - v2)\n",
    "\n",
    "def TermP14(n,m):\n",
    "    return P(P14(n,m), v1, v2, -v1, -v2)\n",
    "\n",
    "def TermP13(n,m):\n",
    "    return P(P13(n,m), v1 - v2, v2, -v1 + v2, -v2)\n",
    "\n",
    "def InteriorSum(n,d):\n",
    "    return TermP12(n,m) + TermP23(n,m) + TermP34(n,m) + TermP14(n,m) + TermP13(n,m)\n",
    "\n",
    "InteriorSum(n,d)"
   ]
  },
  {
   "cell_type": "code",
   "execution_count": 8,
   "metadata": {},
   "outputs": [],
   "source": [
    "def TermQ12_2(n,m,d):\n",
    "    return P(Q12_2(n,m,d), v1, v1, -v1 + v2, 2*v1 - v2)\n",
    "\n",
    "def TermQ23_2(n,m,d):\n",
    "    return P(Q23_2(n,m,d), -v1, -v1, v2, -v1 - v2)\n",
    "\n",
    "def TermQ34_4(n,m,d):\n",
    "    return P(Q34_4(n,m,d), -v1, -v1, -v2, -v1 + v2)\n",
    "\n",
    "def TermQ14_4(n,m,d):\n",
    "    return P(Q14_4(n,m,d), v1, v1, v1 - v2, v2)\n",
    "\n",
    "def TermQ13_1(n,m,d):\n",
    "    return P(Q13_1(n,m,d), -v2, -v2, v1 - v2, -v1)\n",
    "\n",
    "def TermQ13_3(n,m,d):\n",
    "    return P(Q13_3(n,m,d), v1 - v2, v1 - v2, v1, -v2)\n",
    "\n",
    "# Q12_1 is an orbifold point of order 2:\n",
    "\n",
    "def TermQ12_1(n,m,d):\n",
    "    return gOrbiSum(Q12_1(n,m,d), 2, Vector.zero, v1, Rational(1,2)*v2, Rational(1,2)*v2, -v1 + Rational(1,2)*v2) + gOrbiSum(Q12_1(n,m,d), 2, v2, v1, Rational(1,2)*v2, Rational(1,2)*v2, -v1 + Rational(1,2)*v2)\n",
    "\n",
    "# Q23_3 is an orbifold point of order 2:\n",
    "\n",
    "def TermQ23_3(n,m,d):\n",
    "    return gOrbiSum(Q23_3(n,m,d), 2, Vector.zero, Rational(1,2)*v1 + Rational(1,2)*v2, -Rational(1,2)*v1 + Rational(1,2)*v2, -Rational(1,2)*v1 + Rational(1,2)*v2, -v1) + gOrbiSum(Q23_3(n,m,d), 2, v2, Rational(1,2)*v1 + Rational(1,2)*v2, -Rational(1,2)*v1 + Rational(1,2)*v2, -Rational(1,2)*v1 + Rational(1,2)*v2, -v1)"
   ]
  },
  {
   "cell_type": "code",
   "execution_count": 9,
   "metadata": {},
   "outputs": [
    {
     "data": {
      "text/latex": [
       "$\\displaystyle \\frac{e^{3 t \\left(- d + m\\right)}}{2 \\cdot \\left(1 - e^{t}\\right) \\left(e^{\\frac{t}{2}} + 1\\right) \\left(e^{\\frac{3 t}{2}} + 1\\right)^{2}} + \\frac{e^{3 t \\left(- d + m\\right)}}{2 \\cdot \\left(1 - e^{\\frac{t}{2}}\\right) \\left(1 - e^{t}\\right) \\left(1 - e^{\\frac{3 t}{2}}\\right)^{2}}$"
      ],
      "text/plain": [
       "          3⋅t⋅(-d + m)                      3⋅t⋅(-d + m)         \n",
       "         ℯ                                 ℯ                     \n",
       "─────────────────────────────── + ───────────────────────────────\n",
       "                              2                                 2\n",
       "           ⎛ t    ⎞ ⎛ 3⋅t    ⎞      ⎛     t⎞          ⎛     3⋅t⎞ \n",
       "           ⎜ ─    ⎟ ⎜ ───    ⎟      ⎜     ─⎟          ⎜     ───⎟ \n",
       "  ⎛     t⎞ ⎜ 2    ⎟ ⎜  2     ⎟      ⎜     2⎟ ⎛     t⎞ ⎜      2 ⎟ \n",
       "2⋅⎝1 - ℯ ⎠⋅⎝ℯ  + 1⎠⋅⎝ℯ    + 1⎠    2⋅⎝1 - ℯ ⎠⋅⎝1 - ℯ ⎠⋅⎝1 - ℯ   ⎠ "
      ]
     },
     "metadata": {},
     "output_type": "display_data"
    },
    {
     "data": {
      "text/latex": [
       "$\\displaystyle \\frac{e^{3 t \\left(- d + m\\right) + t \\left(d + m + n\\right)}}{2 \\cdot \\left(1 - e^{- t}\\right) \\left(e^{t} + 1\\right)^{2} \\left(e^{2 t} + 1\\right)} + \\frac{e^{3 t \\left(- d + m\\right) + t \\left(d + m + n\\right)}}{2 \\cdot \\left(1 - e^{- t}\\right) \\left(1 - e^{t}\\right)^{2} \\cdot \\left(1 - e^{2 t}\\right)}$"
      ],
      "text/plain": [
       "  3⋅t⋅(-d + m) + t⋅(d + m + n)       3⋅t⋅(-d + m) + t⋅(d + m + n)  \n",
       " ℯ                                  ℯ                              \n",
       "──────────────────────────────── + ────────────────────────────────\n",
       "                    2                                  2           \n",
       "  ⎛     -t⎞ ⎛ t    ⎞  ⎛ 2⋅t    ⎞     ⎛     -t⎞ ⎛     t⎞  ⎛     2⋅t⎞\n",
       "2⋅⎝1 - ℯ  ⎠⋅⎝ℯ  + 1⎠ ⋅⎝ℯ    + 1⎠   2⋅⎝1 - ℯ  ⎠⋅⎝1 - ℯ ⎠ ⋅⎝1 - ℯ   ⎠"
      ]
     },
     "metadata": {},
     "output_type": "display_data"
    }
   ],
   "source": [
    "display( TermQ12_1(n,m,d) )\n",
    "display( TermQ23_3(n,m,d) )"
   ]
  },
  {
   "cell_type": "code",
   "execution_count": 10,
   "metadata": {},
   "outputs": [
    {
     "data": {
      "text/latex": [
       "$\\displaystyle \\frac{e^{3 t \\left(- d + m\\right)}}{2 \\cdot \\left(1 - e^{t}\\right) \\left(e^{\\frac{t}{2}} + 1\\right) \\left(e^{\\frac{3 t}{2}} + 1\\right)^{2}} + \\frac{e^{3 t \\left(- d + m\\right)}}{2 \\cdot \\left(1 - e^{\\frac{t}{2}}\\right) \\left(1 - e^{t}\\right) \\left(1 - e^{\\frac{3 t}{2}}\\right)^{2}} + \\frac{e^{3 t \\left(- d + m\\right) + t \\left(d + m + n\\right)}}{2 \\cdot \\left(1 - e^{- t}\\right) \\left(e^{t} + 1\\right)^{2} \\left(e^{2 t} + 1\\right)} + \\frac{e^{t \\left(- 2 d + 2 m\\right)}}{\\left(1 - e^{- t}\\right) \\left(1 - e^{t}\\right)^{2} \\cdot \\left(1 - e^{2 t}\\right)} + \\frac{e^{3 t \\left(- d + m\\right) + t \\left(d + m + n\\right)}}{2 \\cdot \\left(1 - e^{- t}\\right) \\left(1 - e^{t}\\right)^{2} \\cdot \\left(1 - e^{2 t}\\right)} + \\frac{e^{- 2 d t + 6 m t}}{\\left(1 - e^{- 2 t}\\right) \\left(1 - e^{t}\\right)^{2} \\cdot \\left(1 - e^{3 t}\\right)} + \\frac{e^{6 m t + t \\left(2 d + n\\right)}}{\\left(1 - e^{- 3 t}\\right) \\left(1 - e^{- t}\\right)^{2} \\cdot \\left(1 - e^{2 t}\\right)} + \\frac{e^{- 2 d t + 3 t \\left(2 d + 2 m + n\\right)}}{\\left(1 - e^{- 3 t}\\right) \\left(1 - e^{- 2 t}\\right)^{2} \\cdot \\left(1 - e^{t}\\right)} + \\frac{e^{3 t \\left(2 d + 2 m + n\\right)}}{\\left(1 - e^{- 3 t}\\right)^{2} \\cdot \\left(1 - e^{- 2 t}\\right) \\left(1 - e^{- t}\\right)} + \\frac{e^{t \\left(2 d + n\\right)}}{\\left(1 - e^{- 4 t}\\right) \\left(1 - e^{- t}\\right)^{2} \\cdot \\left(1 - e^{3 t}\\right)}$"
      ],
      "text/plain": [
       "          3⋅t⋅(-d + m)                      3⋅t⋅(-d + m)              3⋅t⋅(-d \n",
       "         ℯ                                 ℯ                         ℯ        \n",
       "─────────────────────────────── + ─────────────────────────────── + ──────────\n",
       "                              2                                 2             \n",
       "           ⎛ t    ⎞ ⎛ 3⋅t    ⎞      ⎛     t⎞          ⎛     3⋅t⎞      ⎛     -t\n",
       "           ⎜ ─    ⎟ ⎜ ───    ⎟      ⎜     ─⎟          ⎜     ───⎟    2⋅⎝1 - ℯ  \n",
       "  ⎛     t⎞ ⎜ 2    ⎟ ⎜  2     ⎟      ⎜     2⎟ ⎛     t⎞ ⎜      2 ⎟              \n",
       "2⋅⎝1 - ℯ ⎠⋅⎝ℯ  + 1⎠⋅⎝ℯ    + 1⎠    2⋅⎝1 - ℯ ⎠⋅⎝1 - ℯ ⎠⋅⎝1 - ℯ   ⎠              \n",
       "\n",
       "+ m) + t⋅(d + m + n)             t⋅(-2⋅d + 2⋅m)             3⋅t⋅(-d + m) + t⋅(\n",
       "                                ℯ                          ℯ                  \n",
       "────────────────────── + ────────────────────────────── + ────────────────────\n",
       "          2                                2                                  \n",
       "⎞ ⎛ t    ⎞  ⎛ 2⋅t    ⎞   ⎛     -t⎞ ⎛     t⎞  ⎛     2⋅t⎞     ⎛     -t⎞ ⎛     t⎞\n",
       "⎠⋅⎝ℯ  + 1⎠ ⋅⎝ℯ    + 1⎠   ⎝1 - ℯ  ⎠⋅⎝1 - ℯ ⎠ ⋅⎝1 - ℯ   ⎠   2⋅⎝1 - ℯ  ⎠⋅⎝1 - ℯ ⎠\n",
       "                                                                              \n",
       "                                                                              \n",
       "\n",
       "d + m + n)              -2⋅d⋅t + 6⋅m⋅t                    6⋅m⋅t + t⋅(2⋅d + n) \n",
       "                       ℯ                                 ℯ                    \n",
       "──────────── + ──────────────────────────────── + ────────────────────────────\n",
       "2                                  2                                   2      \n",
       "  ⎛     2⋅t⎞   ⎛     -2⋅t⎞ ⎛     t⎞  ⎛     3⋅t⎞   ⎛     -3⋅t⎞ ⎛     -t⎞  ⎛    \n",
       " ⋅⎝1 - ℯ   ⎠   ⎝1 - ℯ    ⎠⋅⎝1 - ℯ ⎠ ⋅⎝1 - ℯ   ⎠   ⎝1 - ℯ    ⎠⋅⎝1 - ℯ  ⎠ ⋅⎝1 - \n",
       "                                                                              \n",
       "                                                                              \n",
       "\n",
       "           -2⋅d⋅t + 3⋅t⋅(2⋅d + 2⋅m + n)             3⋅t⋅(2⋅d + 2⋅m + n)       \n",
       "          ℯ                                        ℯ                          \n",
       "───── + ───────────────────────────────── + ──────────────────────────────────\n",
       "                               2                       2                      \n",
       " 2⋅t⎞   ⎛     -3⋅t⎞ ⎛     -2⋅t⎞  ⎛     t⎞   ⎛     -3⋅t⎞  ⎛     -2⋅t⎞ ⎛     -t⎞\n",
       "ℯ   ⎠   ⎝1 - ℯ    ⎠⋅⎝1 - ℯ    ⎠ ⋅⎝1 - ℯ ⎠   ⎝1 - ℯ    ⎠ ⋅⎝1 - ℯ    ⎠⋅⎝1 - ℯ  ⎠\n",
       "                                                                              \n",
       "                                                                              \n",
       "\n",
       "               t⋅(2⋅d + n)          \n",
       "              ℯ                     \n",
       " + ─────────────────────────────────\n",
       "                        2           \n",
       "   ⎛     -4⋅t⎞ ⎛     -t⎞  ⎛     3⋅t⎞\n",
       "   ⎝1 - ℯ    ⎠⋅⎝1 - ℯ  ⎠ ⋅⎝1 - ℯ   ⎠\n",
       "                                    \n",
       "                                    "
      ]
     },
     "execution_count": 10,
     "metadata": {},
     "output_type": "execute_result"
    }
   ],
   "source": [
    "def InteriorSum(n,m):\n",
    "    return TermP12(n,m) + TermP23(n,m) + TermP34(n,m) + TermP13(n,m) + TermP14(n,m)\n",
    "\n",
    "def ExteriorSum(n,m,d):\n",
    "    return TermQ12_1(n,m,d) + TermQ12_2(n,m,d) + TermQ23_2(n,m,d) + TermQ23_3(n,m,d) + TermQ34_4(n,m,d) + TermQ13_1(n,m,d) + TermQ13_3(n,m,d) + TermQ14_4(n,m,d)\n",
    "\n",
    "ExteriorSum(n,m,d)"
   ]
  },
  {
   "cell_type": "code",
   "execution_count": 11,
   "metadata": {},
   "outputs": [
    {
     "data": {
      "text/latex": [
       "$\\displaystyle \\frac{e^{3 t \\left(- d + m\\right)}}{2 \\cdot \\left(1 - e^{t}\\right) \\left(e^{\\frac{t}{2}} + 1\\right) \\left(e^{\\frac{3 t}{2}} + 1\\right)^{2}} + \\frac{e^{3 t \\left(- d + m\\right)}}{2 \\cdot \\left(1 - e^{\\frac{t}{2}}\\right) \\left(1 - e^{t}\\right) \\left(1 - e^{\\frac{3 t}{2}}\\right)^{2}} + \\frac{e^{3 t \\left(- d + m\\right) + t \\left(d + m + n\\right)}}{2 \\cdot \\left(1 - e^{- t}\\right) \\left(e^{t} + 1\\right)^{2} \\left(e^{2 t} + 1\\right)} + \\frac{e^{t \\left(- 2 d + 2 m\\right)}}{\\left(1 - e^{- t}\\right) \\left(1 - e^{t}\\right)^{2} \\cdot \\left(1 - e^{2 t}\\right)} + \\frac{e^{3 t \\left(- d + m\\right) + t \\left(d + m + n\\right)}}{2 \\cdot \\left(1 - e^{- t}\\right) \\left(1 - e^{t}\\right)^{2} \\cdot \\left(1 - e^{2 t}\\right)} + \\frac{e^{- 2 d t + 6 m t}}{\\left(1 - e^{- 2 t}\\right) \\left(1 - e^{t}\\right)^{2} \\cdot \\left(1 - e^{3 t}\\right)} + \\frac{e^{t \\left(2 m + n\\right)}}{\\left(1 - e^{- 2 t}\\right) \\left(1 - e^{- t}\\right) \\left(1 - e^{t}\\right) \\left(1 - e^{2 t}\\right)} + \\frac{e^{6 m t + n t}}{\\left(1 - e^{- 2 t}\\right) \\left(1 - e^{- t}\\right) \\left(1 - e^{t}\\right) \\left(1 - e^{2 t}\\right)} + \\frac{e^{6 m t}}{\\left(1 - e^{- 3 t}\\right) \\left(1 - e^{- t}\\right) \\left(1 - e^{t}\\right) \\left(1 - e^{3 t}\\right)} + \\frac{1}{\\left(1 - e^{- 3 t}\\right) \\left(1 - e^{- t}\\right) \\left(1 - e^{t}\\right) \\left(1 - e^{3 t}\\right)} + \\frac{e^{6 m t + t \\left(2 d + n\\right)}}{\\left(1 - e^{- 3 t}\\right) \\left(1 - e^{- t}\\right)^{2} \\cdot \\left(1 - e^{2 t}\\right)} + \\frac{e^{3 t \\left(2 m + n\\right)}}{\\left(1 - e^{- 3 t}\\right) \\left(1 - e^{- 2 t}\\right) \\left(1 - e^{2 t}\\right) \\left(1 - e^{3 t}\\right)} + \\frac{e^{- 2 d t + 3 t \\left(2 d + 2 m + n\\right)}}{\\left(1 - e^{- 3 t}\\right) \\left(1 - e^{- 2 t}\\right)^{2} \\cdot \\left(1 - e^{t}\\right)} + \\frac{e^{3 t \\left(2 d + 2 m + n\\right)}}{\\left(1 - e^{- 3 t}\\right)^{2} \\cdot \\left(1 - e^{- 2 t}\\right) \\left(1 - e^{- t}\\right)} + \\frac{e^{t \\left(2 d + n\\right)}}{\\left(1 - e^{- 4 t}\\right) \\left(1 - e^{- t}\\right)^{2} \\cdot \\left(1 - e^{3 t}\\right)}$"
      ],
      "text/plain": [
       "          3⋅t⋅(-d + m)                      3⋅t⋅(-d + m)              3⋅t⋅(-d \n",
       "         ℯ                                 ℯ                         ℯ        \n",
       "─────────────────────────────── + ─────────────────────────────── + ──────────\n",
       "                              2                                 2             \n",
       "           ⎛ t    ⎞ ⎛ 3⋅t    ⎞      ⎛     t⎞          ⎛     3⋅t⎞      ⎛     -t\n",
       "           ⎜ ─    ⎟ ⎜ ───    ⎟      ⎜     ─⎟          ⎜     ───⎟    2⋅⎝1 - ℯ  \n",
       "  ⎛     t⎞ ⎜ 2    ⎟ ⎜  2     ⎟      ⎜     2⎟ ⎛     t⎞ ⎜      2 ⎟              \n",
       "2⋅⎝1 - ℯ ⎠⋅⎝ℯ  + 1⎠⋅⎝ℯ    + 1⎠    2⋅⎝1 - ℯ ⎠⋅⎝1 - ℯ ⎠⋅⎝1 - ℯ   ⎠              \n",
       "\n",
       "+ m) + t⋅(d + m + n)             t⋅(-2⋅d + 2⋅m)             3⋅t⋅(-d + m) + t⋅(\n",
       "                                ℯ                          ℯ                  \n",
       "────────────────────── + ────────────────────────────── + ────────────────────\n",
       "          2                                2                                  \n",
       "⎞ ⎛ t    ⎞  ⎛ 2⋅t    ⎞   ⎛     -t⎞ ⎛     t⎞  ⎛     2⋅t⎞     ⎛     -t⎞ ⎛     t⎞\n",
       "⎠⋅⎝ℯ  + 1⎠ ⋅⎝ℯ    + 1⎠   ⎝1 - ℯ  ⎠⋅⎝1 - ℯ ⎠ ⋅⎝1 - ℯ   ⎠   2⋅⎝1 - ℯ  ⎠⋅⎝1 - ℯ ⎠\n",
       "                                                                              \n",
       "                                                                              \n",
       "\n",
       "d + m + n)              -2⋅d⋅t + 6⋅m⋅t                            t⋅(2⋅m + n) \n",
       "                       ℯ                                         ℯ            \n",
       "──────────── + ──────────────────────────────── + ────────────────────────────\n",
       "2                                  2              ⎛     -2⋅t⎞ ⎛     -t⎞ ⎛     \n",
       "  ⎛     2⋅t⎞   ⎛     -2⋅t⎞ ⎛     t⎞  ⎛     3⋅t⎞   ⎝1 - ℯ    ⎠⋅⎝1 - ℯ  ⎠⋅⎝1 - ℯ\n",
       " ⋅⎝1 - ℯ   ⎠   ⎝1 - ℯ    ⎠⋅⎝1 - ℯ ⎠ ⋅⎝1 - ℯ   ⎠                               \n",
       "                                                                              \n",
       "                                                                              \n",
       "\n",
       "                                6⋅m⋅t + n⋅t                                   \n",
       "                               ℯ                                              \n",
       "───────────── + ───────────────────────────────────────── + ──────────────────\n",
       "t⎞ ⎛     2⋅t⎞   ⎛     -2⋅t⎞ ⎛     -t⎞ ⎛     t⎞ ⎛     2⋅t⎞   ⎛     -3⋅t⎞ ⎛     \n",
       " ⎠⋅⎝1 - ℯ   ⎠   ⎝1 - ℯ    ⎠⋅⎝1 - ℯ  ⎠⋅⎝1 - ℯ ⎠⋅⎝1 - ℯ   ⎠   ⎝1 - ℯ    ⎠⋅⎝1 - ℯ\n",
       "                                                                              \n",
       "                                                                              \n",
       "                                                                              \n",
       "\n",
       " 6⋅m⋅t                                                                        \n",
       "ℯ                                             1                              ℯ\n",
       "─────────────────────── + ───────────────────────────────────────── + ────────\n",
       "-t⎞ ⎛     t⎞ ⎛     3⋅t⎞   ⎛     -3⋅t⎞ ⎛     -t⎞ ⎛     t⎞ ⎛     3⋅t⎞           \n",
       "  ⎠⋅⎝1 - ℯ ⎠⋅⎝1 - ℯ   ⎠   ⎝1 - ℯ    ⎠⋅⎝1 - ℯ  ⎠⋅⎝1 - ℯ ⎠⋅⎝1 - ℯ   ⎠   ⎛     -3\n",
       "                                                                      ⎝1 - ℯ  \n",
       "                                                                              \n",
       "                                                                              \n",
       "\n",
       "6⋅m⋅t + t⋅(2⋅d + n)                          3⋅t⋅(2⋅m + n)                    \n",
       "                                            ℯ                                 \n",
       "───────────────────────── + ───────────────────────────────────────────── + ──\n",
       "             2              ⎛     -3⋅t⎞ ⎛     -2⋅t⎞ ⎛     2⋅t⎞ ⎛     3⋅t⎞     \n",
       "⋅t⎞ ⎛     -t⎞  ⎛     2⋅t⎞   ⎝1 - ℯ    ⎠⋅⎝1 - ℯ    ⎠⋅⎝1 - ℯ   ⎠⋅⎝1 - ℯ   ⎠   ⎛ \n",
       "  ⎠⋅⎝1 - ℯ  ⎠ ⋅⎝1 - ℯ   ⎠                                                   ⎝1\n",
       "                                                                              \n",
       "                                                                              \n",
       "\n",
       " -2⋅d⋅t + 3⋅t⋅(2⋅d + 2⋅m + n)             3⋅t⋅(2⋅d + 2⋅m + n)                 \n",
       "ℯ                                        ℯ                                    \n",
       "─────────────────────────────── + ────────────────────────────────── + ───────\n",
       "                     2                       2                                \n",
       "    -3⋅t⎞ ⎛     -2⋅t⎞  ⎛     t⎞   ⎛     -3⋅t⎞  ⎛     -2⋅t⎞ ⎛     -t⎞   ⎛     -\n",
       " - ℯ    ⎠⋅⎝1 - ℯ    ⎠ ⋅⎝1 - ℯ ⎠   ⎝1 - ℯ    ⎠ ⋅⎝1 - ℯ    ⎠⋅⎝1 - ℯ  ⎠   ⎝1 - ℯ \n",
       "                                                                              \n",
       "                                                                              \n",
       "\n",
       "     t⋅(2⋅d + n)          \n",
       "    ℯ                     \n",
       "──────────────────────────\n",
       "              2           \n",
       "4⋅t⎞ ⎛     -t⎞  ⎛     3⋅t⎞\n",
       "   ⎠⋅⎝1 - ℯ  ⎠ ⋅⎝1 - ℯ   ⎠\n",
       "                          \n",
       "                          "
      ]
     },
     "execution_count": 11,
     "metadata": {},
     "output_type": "execute_result"
    }
   ],
   "source": [
    "def TotalSum(n,m,d):\n",
    "    return InteriorSum(n,m) + ExteriorSum(n,m,d)\n",
    "\n",
    "TotalSum(n,m,d)"
   ]
  },
  {
   "cell_type": "code",
   "execution_count": null,
   "metadata": {
    "tags": []
   },
   "outputs": [],
   "source": [
    "series(TotalSum(n,m,d), t, 0)"
   ]
  },
  {
   "cell_type": "code",
   "execution_count": 64,
   "metadata": {},
   "outputs": [
    {
     "data": {
      "text/latex": [
       "$\\displaystyle \\frac{17 d^{4}}{6} + \\frac{10 d^{3} m}{3} + \\frac{10 d^{3} n}{3} + \\frac{17 d^{3}}{2} - 3 d^{2} m^{2} + 2 d^{2} m n + \\frac{15 d^{2} m}{2} + d^{2} n^{2} + \\frac{15 d^{2} n}{2} + \\frac{29 d^{2}}{3} + \\frac{2 d m^{3}}{3} - 2 d m^{2} n - \\frac{9 d m^{2}}{2} + 3 d m n + 5 d m + \\frac{3 d n^{2}}{2} + \\frac{17 d n}{3} + 5 d + \\frac{m^{4}}{6} + \\frac{2 m^{3} n}{3} + \\frac{m^{3}}{2} - \\frac{3 m^{2} n}{2} - \\frac{5 m^{2}}{3} + \\frac{5 m n}{6} + m + \\frac{n^{2}}{2} + \\frac{3 n}{2} + 1$"
      ],
      "text/plain": [
       "    4       3         3         3                            2                \n",
       "17⋅d    10⋅d ⋅m   10⋅d ⋅n   17⋅d       2  2      2       15⋅d ⋅m    2  2   15⋅\n",
       "───── + ─────── + ─────── + ───── - 3⋅d ⋅m  + 2⋅d ⋅m⋅n + ─────── + d ⋅n  + ───\n",
       "  6        3         3        2                             2                 \n",
       "\n",
       " 2         2        3                   2                          2          \n",
       "d ⋅n   29⋅d    2⋅d⋅m         2     9⋅d⋅m                      3⋅d⋅n    17⋅d⋅n \n",
       "──── + ───── + ────── - 2⋅d⋅m ⋅n - ────── + 3⋅d⋅m⋅n + 5⋅d⋅m + ────── + ────── \n",
       "2        3       3                   2                          2        3    \n",
       "\n",
       "         4      3      3      2        2                2          \n",
       "        m    2⋅m ⋅n   m    3⋅m ⋅n   5⋅m    5⋅m⋅n       n    3⋅n    \n",
       "+ 5⋅d + ── + ────── + ── - ────── - ──── + ───── + m + ── + ─── + 1\n",
       "        6      3      2      2       3       6         2     2     "
      ]
     },
     "execution_count": 64,
     "metadata": {},
     "output_type": "execute_result"
    }
   ],
   "source": [
    "limit(TotalSum(n,m,d), t, 0)"
   ]
  },
  {
   "cell_type": "code",
   "execution_count": 78,
   "metadata": {},
   "outputs": [],
   "source": [
    "def RR(n,m,d):\n",
    "    return factor(17*d**4/6 + 10*d**3*m/3 + 10*d**3*n/3 + 17*d**3/2 - 3*d**2*m**2 + 2*d**2*m*n + 15*d**2*m/2 + d**2*n**2 + 15*d**2*n/2 + 29*d**2/3 + 2*d*m**3/3 - 2*d*m**2*n - 9*d*m**2/2 + 3*d*m*n + 5*d*m + 3*d*n**2/2 + 17*d*n/3 + 5*d + m**4/6 + 2*m**3*n/3 + m**3/2 - 3*m**2*n/2 - 5*m**2/3 + 5*m*n/6 + m + n**2/2 + 3*n/2 + 1)\n",
    "\n",
    "def dWeight(n,m,d):\n",
    "    return simplify(RR(n,m,d) - RR(n,m,d-1))"
   ]
  },
  {
   "cell_type": "code",
   "execution_count": 8,
   "metadata": {},
   "outputs": [],
   "source": [
    "def HirzebruchRR(n,m,d):\n",
    "    return simplify(17*d**4/6 + 4*d**3*m + 8*d**3*n + 17*d**3/2 + d**2*m**2 + 8*d**2*m*n + 9*d**2*m + 8*d**2*n**2 + 18*d**2*n + 29*d**2/3 + d*m**2*n + 3*d*m**2/2 + 5*d*m*n**2 + 12*d*m*n + 13*d*m/2 + 10*d*n**3/3 + 12*d*n**2 + 41*d*n/3 + 5*d + m**2*n**2/4 + 3*m**2*n/4 + m**2/2 + m*n**3 + 15*m*n**2/4 + 17*m*n/4 + 3*m/2 + n**4/2 + 5*n**3/2 + 9*n**2/2 + 7*n/2 + 1)\n",
    "\n",
    "def CP2RR(n,m,d):\n",
    "    return simplify(17*d**4/6 + 10*d**3*m/3 + 10*d**3*n/3 + 17*d**3/2 - 3*d**2*m**2 + 2*d**2*m*n + 15*d**2*m/2 + d**2*n**2 + 15*d**2*n/2 + 29*d**2/3 + 2*d*m**3/3 - 2*d*m**2*n - 9*d*m**2/2 + 3*d*m*n + 5*d*m + 3*d*n**2/2 + 17*d*n/3 + 5*d + m**4/6 + 2*m**3*n/3 + m**3/2 - 3*m**2*n/2 - 5*m**2/3 + 5*m*n/6 + m + n**2/2 + 3*n/2 + 1)"
   ]
  },
  {
   "cell_type": "code",
   "execution_count": 13,
   "metadata": {},
   "outputs": [
    {
     "data": {
      "text/latex": [
       "$\\displaystyle \\frac{17 d^{4}}{6} + 4 d^{3} m + 8 d^{3} n + \\frac{17 d^{3}}{2} + d^{2} m^{2} + 8 d^{2} m n + 9 d^{2} m + 8 d^{2} n^{2} + 18 d^{2} n + \\frac{29 d^{2}}{3} + d m^{2} n + \\frac{3 d m^{2}}{2} + 5 d m n^{2} + 12 d m n + \\frac{13 d m}{2} + \\frac{10 d n^{3}}{3} + 12 d n^{2} + \\frac{41 d n}{3} + 5 d + \\frac{m^{2} n^{2}}{4} + \\frac{3 m^{2} n}{4} + \\frac{m^{2}}{2} + m n^{3} + \\frac{15 m n^{2}}{4} + \\frac{17 m n}{4} + \\frac{3 m}{2} + \\frac{n^{4}}{2} + \\frac{5 n^{3}}{2} + \\frac{9 n^{2}}{2} + \\frac{7 n}{2} + 1$"
      ],
      "text/plain": [
       "    4                         3                                               \n",
       "17⋅d       3        3     17⋅d     2  2      2          2        2  2       2 \n",
       "───── + 4⋅d ⋅m + 8⋅d ⋅n + ───── + d ⋅m  + 8⋅d ⋅m⋅n + 9⋅d ⋅m + 8⋅d ⋅n  + 18⋅d ⋅\n",
       "  6                         2                                                 \n",
       "\n",
       "        2                 2                                        3          \n",
       "    29⋅d       2     3⋅d⋅m           2              13⋅d⋅m   10⋅d⋅n          2\n",
       "n + ───── + d⋅m ⋅n + ────── + 5⋅d⋅m⋅n  + 12⋅d⋅m⋅n + ────── + ─────── + 12⋅d⋅n \n",
       "      3                2                              2         3             \n",
       "\n",
       "                   2  2      2      2                2                   4    \n",
       "   41⋅d⋅n         m ⋅n    3⋅m ⋅n   m       3   15⋅m⋅n    17⋅m⋅n   3⋅m   n    5\n",
       " + ────── + 5⋅d + ───── + ────── + ── + m⋅n  + ─────── + ────── + ─── + ── + ─\n",
       "     3              4       4      2              4        4       2    2     \n",
       "\n",
       "  3      2          \n",
       "⋅n    9⋅n    7⋅n    \n",
       "─── + ──── + ─── + 1\n",
       "2      2      2     "
      ]
     },
     "execution_count": 13,
     "metadata": {},
     "output_type": "execute_result"
    }
   ],
   "source": [
    "HirzebruchRR(n,m,d)"
   ]
  },
  {
   "cell_type": "code",
   "execution_count": 14,
   "metadata": {},
   "outputs": [
    {
     "data": {
      "text/latex": [
       "$\\displaystyle \\frac{17 d^{4}}{6} + \\frac{10 d^{3} m}{3} + \\frac{10 d^{3} n}{3} + \\frac{17 d^{3}}{2} - 3 d^{2} m^{2} + 2 d^{2} m n + \\frac{15 d^{2} m}{2} + d^{2} n^{2} + \\frac{15 d^{2} n}{2} + \\frac{29 d^{2}}{3} + \\frac{2 d m^{3}}{3} - 2 d m^{2} n - \\frac{9 d m^{2}}{2} + 3 d m n + 5 d m + \\frac{3 d n^{2}}{2} + \\frac{17 d n}{3} + 5 d + \\frac{m^{4}}{6} + \\frac{2 m^{3} n}{3} + \\frac{m^{3}}{2} - \\frac{3 m^{2} n}{2} - \\frac{5 m^{2}}{3} + \\frac{5 m n}{6} + m + \\frac{n^{2}}{2} + \\frac{3 n}{2} + 1$"
      ],
      "text/plain": [
       "    4       3         3         3                            2                \n",
       "17⋅d    10⋅d ⋅m   10⋅d ⋅n   17⋅d       2  2      2       15⋅d ⋅m    2  2   15⋅\n",
       "───── + ─────── + ─────── + ───── - 3⋅d ⋅m  + 2⋅d ⋅m⋅n + ─────── + d ⋅n  + ───\n",
       "  6        3         3        2                             2                 \n",
       "\n",
       " 2         2        3                   2                          2          \n",
       "d ⋅n   29⋅d    2⋅d⋅m         2     9⋅d⋅m                      3⋅d⋅n    17⋅d⋅n \n",
       "──── + ───── + ────── - 2⋅d⋅m ⋅n - ────── + 3⋅d⋅m⋅n + 5⋅d⋅m + ────── + ────── \n",
       "2        3       3                   2                          2        3    \n",
       "\n",
       "         4      3      3      2        2                2          \n",
       "        m    2⋅m ⋅n   m    3⋅m ⋅n   5⋅m    5⋅m⋅n       n    3⋅n    \n",
       "+ 5⋅d + ── + ────── + ── - ────── - ──── + ───── + m + ── + ─── + 1\n",
       "        6      3      2      2       3       6         2     2     "
      ]
     },
     "execution_count": 14,
     "metadata": {},
     "output_type": "execute_result"
    }
   ],
   "source": [
    "CP2RR(n,m,d)"
   ]
  },
  {
   "cell_type": "code",
   "execution_count": 26,
   "metadata": {},
   "outputs": [
    {
     "name": "stdout",
     "output_type": "stream",
     "text": [
      "17*d**4/6 + 4*d**3*m + 8*d**3*n + 17*d**3/2 + d**2*m**2 + 8*d**2*m*n + 9*d**2*m + 8*d**2*n**2 + 18*d**2*n + 29*d**2/3 + d*m**2*n + 3*d*m**2/2 + 5*d*m*n**2 + 12*d*m*n + 13*d*m/2 + 10*d*n**3/3 + 12*d*n**2 + 41*d*n/3 + 5*d + m**2*n**2/4 + 3*m**2*n/4 + m**2/2 + m*n**3 + 15*m*n**2/4 + 17*m*n/4 + 3*m/2 + n**4/2 + 5*n**3/2 + 9*n**2/2 + 7*n/2 + 1\n"
     ]
    }
   ],
   "source": [
    "print(HirzebruchRR(n,m,d))"
   ]
  },
  {
   "cell_type": "code",
   "execution_count": 25,
   "metadata": {},
   "outputs": [
    {
     "data": {
      "text/plain": [
       "'\\\\frac{d^{3} \\\\cdot \\\\left(20 m + 20 n + 51\\\\right)}{6}'"
      ]
     },
     "execution_count": 25,
     "metadata": {},
     "output_type": "execute_result"
    }
   ],
   "source": [
    "latex(simplify(10*d**3*m/3 + 10*d**3*n/3 + 17*d**3/2))"
   ]
  },
  {
   "cell_type": "code",
   "execution_count": 22,
   "metadata": {},
   "outputs": [
    {
     "data": {
      "text/plain": [
       "'\\\\frac{d^{2} \\\\left(- 18 m^{2} + 12 m n + 45 m + 6 n^{2} + 45 n + 58\\\\right)}{6}'"
      ]
     },
     "execution_count": 22,
     "metadata": {},
     "output_type": "execute_result"
    }
   ],
   "source": [
    "latex(simplify(-3*d**2*m**2 + 2*d**2*m*n + 15*d**2*m/2 + d**2*n**2 + 15*d**2*n/2 + 29*d**2/3))"
   ]
  },
  {
   "cell_type": "code",
   "execution_count": 23,
   "metadata": {},
   "outputs": [
    {
     "data": {
      "text/plain": [
       "'\\\\frac{d \\\\left(4 m^{3} - 12 m^{2} n - 27 m^{2} + 18 m n + 30 m + 9 n^{2} + 34 n + 30\\\\right)}{6}'"
      ]
     },
     "execution_count": 23,
     "metadata": {},
     "output_type": "execute_result"
    }
   ],
   "source": [
    "latex(simplify(2*d*m**3/3 - 2*d*m**2*n - 9*d*m**2/2 + 3*d*m*n + 5*d*m + 3*d*n**2/2 + 17*d*n/3 + 5*d))"
   ]
  },
  {
   "cell_type": "code",
   "execution_count": 24,
   "metadata": {},
   "outputs": [
    {
     "data": {
      "text/plain": [
       "'\\\\frac{m^{4} + 4 m^{3} n + 3 m^{3} - 9 m^{2} n - 10 m^{2} + 5 m n + 6 m + 3 n^{2} + 9 n + 6}{6}'"
      ]
     },
     "execution_count": 24,
     "metadata": {},
     "output_type": "execute_result"
    }
   ],
   "source": [
    "latex(factor(m**4/6 + 2*m**3*n/3 + m**3/2 - 3*m**2*n/2 - 5*m**2/3 + 5*m*n/6 + m + n**2/2 + 3*n/2 + 1))"
   ]
  },
  {
   "cell_type": "code",
   "execution_count": null,
   "metadata": {},
   "outputs": [],
   "source": []
  }
 ],
 "metadata": {
  "kernelspec": {
   "display_name": "Python 3 (ipykernel)",
   "language": "python",
   "name": "python3"
  },
  "language_info": {
   "codemirror_mode": {
    "name": "ipython",
    "version": 3
   },
   "file_extension": ".py",
   "mimetype": "text/x-python",
   "name": "python",
   "nbconvert_exporter": "python",
   "pygments_lexer": "ipython3",
   "version": "3.10.3"
  }
 },
 "nbformat": 4,
 "nbformat_minor": 4
}
