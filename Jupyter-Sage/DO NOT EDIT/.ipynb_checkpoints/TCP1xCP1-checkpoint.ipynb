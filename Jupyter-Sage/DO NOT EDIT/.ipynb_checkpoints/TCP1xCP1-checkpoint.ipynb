{
 "cells": [
  {
   "cell_type": "code",
   "execution_count": 1,
   "metadata": {},
   "outputs": [],
   "source": [
    "from sympy import *\n",
    "from sympy.vector import Vector\n",
    "from sympy.vector import CoordSys3D\n",
    "import IPython.display as disp\n",
    "\n",
    "N = CoordSys3D('N')\n",
    "\n",
    "t, k = symbols( 't k' )\n",
    "n, d, m = symbols('n d m', positive=True, integer=True)\n",
    "init_printing(use_latex='mathjax')\n",
    "\n",
    "# Basis for the edge/weight vectors for the points:\n",
    "\n",
    "v1 = N.i\n",
    "v2 = N.j\n",
    "\n",
    "# Define the vector which is not parallel to any edge vector, which generates a dense subgroup of the torus, and which we will let it tend to zero:\n",
    "\n",
    "Xi = t*(v1 + 3*v2)"
   ]
  },
  {
   "cell_type": "code",
   "execution_count": 2,
   "metadata": {},
   "outputs": [
    {
     "data": {
      "text/latex": [
       "$\\displaystyle \\mathbf{\\hat{0}}$"
      ],
      "text/plain": [
       "0"
      ]
     },
     "metadata": {},
     "output_type": "display_data"
    },
    {
     "data": {
      "text/latex": [
       "$\\displaystyle (n)\\mathbf{\\hat{i}_{N}}$"
      ],
      "text/plain": [
       "(n) i_N"
      ]
     },
     "metadata": {},
     "output_type": "display_data"
    },
    {
     "data": {
      "text/latex": [
       "$\\displaystyle (n)\\mathbf{\\hat{i}_{N}} + (m)\\mathbf{\\hat{j}_{N}}$"
      ],
      "text/plain": [
       "(n) i_N + (m) j_N"
      ]
     },
     "metadata": {},
     "output_type": "display_data"
    },
    {
     "data": {
      "text/latex": [
       "$\\displaystyle (m)\\mathbf{\\hat{j}_{N}}$"
      ],
      "text/plain": [
       "(m) j_N"
      ]
     },
     "metadata": {},
     "output_type": "display_data"
    }
   ],
   "source": [
    "# Set the fixed points of the action; P denotes those that belong\n",
    "# to the core, and Q those that come from the cut extended core:\n",
    "\n",
    "# Define the interior points which make up the vertices to the core:\n",
    "\n",
    "def P12(m,n):\n",
    "    return Vector.zero\n",
    "\n",
    "def P23(m,n):\n",
    "    return m*v1\n",
    "\n",
    "def P34(m,n):\n",
    "    return m*v1 + n*v2\n",
    "\n",
    "def P14(m,n):\n",
    "    return n*v2\n",
    "\n",
    "# List the interior vertices:\n",
    "\n",
    "interiorPoints = [P12(n,m), P23(n,m), P34(n,m), P14(n,m)]\n",
    "\n",
    "for P in interiorPoints:\n",
    "    display(P)"
   ]
  },
  {
   "cell_type": "code",
   "execution_count": 3,
   "metadata": {},
   "outputs": [
    {
     "data": {
      "text/latex": [
       "$\\displaystyle (- d)\\mathbf{\\hat{j}_{N}}$"
      ],
      "text/plain": [
       "(-d) j_N"
      ]
     },
     "metadata": {},
     "output_type": "display_data"
    },
    {
     "data": {
      "text/latex": [
       "$\\displaystyle (- d)\\mathbf{\\hat{i}_{N}}$"
      ],
      "text/plain": [
       "(-d) i_N"
      ]
     },
     "metadata": {},
     "output_type": "display_data"
    },
    {
     "data": {
      "text/latex": [
       "$\\displaystyle (d + m)\\mathbf{\\hat{i}_{N}}$"
      ],
      "text/plain": [
       "(d + m) i_N"
      ]
     },
     "metadata": {},
     "output_type": "display_data"
    },
    {
     "data": {
      "text/latex": [
       "$\\displaystyle (m)\\mathbf{\\hat{i}_{N}} + (- d)\\mathbf{\\hat{j}_{N}}$"
      ],
      "text/plain": [
       "(m) i_N + (-d) j_N"
      ]
     },
     "metadata": {},
     "output_type": "display_data"
    },
    {
     "data": {
      "text/latex": [
       "$\\displaystyle (m)\\mathbf{\\hat{i}_{N}} + (d + n)\\mathbf{\\hat{j}_{N}}$"
      ],
      "text/plain": [
       "(m) i_N + (d + n) j_N"
      ]
     },
     "metadata": {},
     "output_type": "display_data"
    },
    {
     "data": {
      "text/latex": [
       "$\\displaystyle (d + m)\\mathbf{\\hat{i}_{N}} + (n)\\mathbf{\\hat{j}_{N}}$"
      ],
      "text/plain": [
       "(d + m) i_N + (n) j_N"
      ]
     },
     "metadata": {},
     "output_type": "display_data"
    },
    {
     "data": {
      "text/latex": [
       "$\\displaystyle (d + n)\\mathbf{\\hat{j}_{N}}$"
      ],
      "text/plain": [
       "(d + n) j_N"
      ]
     },
     "metadata": {},
     "output_type": "display_data"
    },
    {
     "data": {
      "text/latex": [
       "$\\displaystyle (- d)\\mathbf{\\hat{i}_{N}} + (n)\\mathbf{\\hat{j}_{N}}$"
      ],
      "text/plain": [
       "(-d) i_N + (n) j_N"
      ]
     },
     "metadata": {},
     "output_type": "display_data"
    }
   ],
   "source": [
    "# Exterior points coming from the cut:\n",
    "\n",
    "def Q12_1(m,n,d):\n",
    "    return -d*v2\n",
    "\n",
    "def Q12_2(m,n,d):\n",
    "    return -d*v1\n",
    "\n",
    "def Q23_2(m,n,d):\n",
    "    return (m+d)*v1\n",
    "\n",
    "def Q23_3(m,n,d):\n",
    "    return m*v1 - d*v2\n",
    "\n",
    "def Q34_3(m,n,d):\n",
    "    return m*v1 + (n+d)*v2\n",
    "\n",
    "def Q34_4(m,n,d):\n",
    "    return (m+d)*v1 + n*v2\n",
    "\n",
    "def Q14_1(m,n,d):\n",
    "    return (n+d)*v2\n",
    "\n",
    "def Q14_4(m,n,d):\n",
    "    return -d*v1 + n*v2\n",
    "\n",
    "# List the boundary vertices\n",
    "\n",
    "boundaryPoints = [Q12_1(m,n,d), Q12_2(m,n,d), Q23_2(m,n,d), Q23_3(m,n,d), Q34_3(m,n,d), Q34_4(m,n,d), Q14_1(m,n,d), Q14_4(m,n,d)]\n",
    "\n",
    "for Q in boundaryPoints:\n",
    "    display(Q)"
   ]
  },
  {
   "cell_type": "code",
   "execution_count": 4,
   "metadata": {},
   "outputs": [],
   "source": [
    "# Define the term which is (a factor of the) contribution towards the equivariant vertex from each vertex summed over each vertex:\n",
    "\n",
    "def f(P, edge1, edge2):\n",
    "    return exp( Xi.dot(P) ) / ( (1 - exp( Xi.dot(edge1) ) ) * ( 1 - exp( Xi.dot(edge2) ) ) )\n",
    "\n",
    "# For each of the right-angled triangles in the polyptych, each vertex shares the same two weights. So the sum over the vertices for a SINGLE right-angled triangle can be factored, so for the code we did not actually need to define the boundary vertices.\n",
    "\n",
    "# Delta34 is the bottom-left simplex:\n",
    "\n",
    "def Delta34(m,n,d):\n",
    "    return f( P12(m,n), v1, v2 ) * ( f( Vector.zero, -v1, -v2 ) + f( -d*v1, v1, v1 - v2 ) + f( -d*v2, v2, -v1 + v2 ) )\n",
    "\n",
    "# Delta14 is the bottom-right simplex:\n",
    "\n",
    "def Delta14(m,n,d):\n",
    "    return f( P23(m,n), -v1, v2 ) * ( f( Vector.zero, v1, -v2 ) + f( d*v1, -v1, -v1 - v2 ) + f( -d*v2, v1 + v2, v2 ) )\n",
    "\n",
    "# Delta12 is the top-right simplex:\n",
    "\n",
    "def Delta12(m,n,d):\n",
    "    return f( P34(m,n), -v1 , -v2 ) * ( f( Vector.zero, v1, v2 ) + f( d*v1, -v1 + v2, -v1 ) + f( d*v2, v1 - v2, -v2 ) )\n",
    "\n",
    "# Delta23 is the top-left simplex:\n",
    "\n",
    "def Delta23(m,n,d):\n",
    "    return f( P14(m,n), v1 , -v2 ) * ( f( Vector.zero, v2, -v1 ) + f( -d*v1, v1, v1 + v2 ) + f( d*v2, -v1 - v2, -v2 ) )"
   ]
  },
  {
   "cell_type": "code",
   "execution_count": 5,
   "metadata": {},
   "outputs": [
    {
     "data": {
      "text/latex": [
       "$\\displaystyle \\chi_{\\nu,d}(t,2t) = $"
      ],
      "text/plain": [
       "<IPython.core.display.Math object>"
      ]
     },
     "metadata": {},
     "output_type": "display_data"
    },
    {
     "data": {
      "text/latex": [
       "$\\displaystyle \\frac{\\frac{e^{- 3 d t}}{\\left(1 - e^{2 t}\\right) \\left(1 - e^{3 t}\\right)} + \\frac{e^{- d t}}{\\left(1 - e^{- 2 t}\\right) \\left(1 - e^{t}\\right)} + \\frac{1}{\\left(1 - e^{- 3 t}\\right) \\left(1 - e^{- t}\\right)}}{\\left(1 - e^{t}\\right) \\left(1 - e^{3 t}\\right)} + \\frac{\\left(\\frac{e^{- 3 d t}}{\\left(1 - e^{3 t}\\right) \\left(1 - e^{4 t}\\right)} + \\frac{1}{\\left(1 - e^{- 3 t}\\right) \\left(1 - e^{t}\\right)} + \\frac{e^{d t}}{\\left(1 - e^{- 4 t}\\right) \\left(1 - e^{- t}\\right)}\\right) e^{m t}}{\\left(1 - e^{- t}\\right) \\left(1 - e^{3 t}\\right)} + \\frac{\\left(\\frac{e^{- d t}}{\\left(1 - e^{t}\\right) \\left(1 - e^{4 t}\\right)} + \\frac{1}{\\left(1 - e^{- t}\\right) \\left(1 - e^{3 t}\\right)} + \\frac{e^{3 d t}}{\\left(1 - e^{- 4 t}\\right) \\left(1 - e^{- 3 t}\\right)}\\right) e^{3 n t}}{\\left(1 - e^{- 3 t}\\right) \\left(1 - e^{t}\\right)} + \\frac{\\left(\\frac{1}{\\left(1 - e^{t}\\right) \\left(1 - e^{3 t}\\right)} + \\frac{e^{d t}}{\\left(1 - e^{- t}\\right) \\left(1 - e^{2 t}\\right)} + \\frac{e^{3 d t}}{\\left(1 - e^{- 3 t}\\right) \\left(1 - e^{- 2 t}\\right)}\\right) e^{m t + 3 n t}}{\\left(1 - e^{- 3 t}\\right) \\left(1 - e^{- t}\\right)}$"
      ],
      "text/plain": [
       "        -3⋅d⋅t                  -d⋅t                                   ⎛        -3⋅d⋅t             \n",
       "       ℯ                       ℯ                         1             ⎜       ℯ                   \n",
       "───────────────────── + ──────────────────── + ─────────────────────   ⎜───────────────────── + ───\n",
       "⎛     2⋅t⎞ ⎛     3⋅t⎞   ⎛     -2⋅t⎞ ⎛     t⎞   ⎛     -3⋅t⎞ ⎛     -t⎞   ⎜⎛     3⋅t⎞ ⎛     4⋅t⎞   ⎛  \n",
       "⎝1 - ℯ   ⎠⋅⎝1 - ℯ   ⎠   ⎝1 - ℯ    ⎠⋅⎝1 - ℯ ⎠   ⎝1 - ℯ    ⎠⋅⎝1 - ℯ  ⎠   ⎝⎝1 - ℯ   ⎠⋅⎝1 - ℯ   ⎠   ⎝1 \n",
       "──────────────────────────────────────────────────────────────────── + ────────────────────────────\n",
       "                        ⎛     t⎞ ⎛     3⋅t⎞                                                        \n",
       "                        ⎝1 - ℯ ⎠⋅⎝1 - ℯ   ⎠                                                        \n",
       "\n",
       "                              d⋅t        ⎞        ⎛        -d⋅t                                    \n",
       "      1                      ℯ           ⎟  m⋅t   ⎜       ℯ                       1                \n",
       "───────────────── + ─────────────────────⎟⋅ℯ      ⎜─────────────────── + ──────────────────── + ───\n",
       "   -3⋅t⎞ ⎛     t⎞   ⎛     -4⋅t⎞ ⎛     -t⎞⎟        ⎜⎛     t⎞ ⎛     4⋅t⎞   ⎛     -t⎞ ⎛     3⋅t⎞   ⎛  \n",
       "- ℯ    ⎠⋅⎝1 - ℯ ⎠   ⎝1 - ℯ    ⎠⋅⎝1 - ℯ  ⎠⎠        ⎝⎝1 - ℯ ⎠⋅⎝1 - ℯ   ⎠   ⎝1 - ℯ  ⎠⋅⎝1 - ℯ   ⎠   ⎝1 \n",
       "─────────────────────────────────────────────── + ─────────────────────────────────────────────────\n",
       "⎛     -t⎞ ⎛     3⋅t⎞                                                           ⎛     -3⋅t⎞ ⎛     t⎞\n",
       "⎝1 - ℯ  ⎠⋅⎝1 - ℯ   ⎠                                                           ⎝1 - ℯ    ⎠⋅⎝1 - ℯ ⎠\n",
       "\n",
       "       3⋅d⋅t        ⎞          ⎛                               d⋅t                     3⋅d⋅t       \n",
       "      ℯ             ⎟  3⋅n⋅t   ⎜         1                    ℯ                       ℯ            \n",
       "────────────────────⎟⋅ℯ        ⎜─────────────────── + ──────────────────── + ──────────────────────\n",
       "   -4⋅t⎞ ⎛     -3⋅t⎞⎟          ⎜⎛     t⎞ ⎛     3⋅t⎞   ⎛     -t⎞ ⎛     2⋅t⎞   ⎛     -3⋅t⎞ ⎛     -2⋅t\n",
       "- ℯ    ⎠⋅⎝1 - ℯ    ⎠⎠          ⎝⎝1 - ℯ ⎠⋅⎝1 - ℯ   ⎠   ⎝1 - ℯ  ⎠⋅⎝1 - ℯ   ⎠   ⎝1 - ℯ    ⎠⋅⎝1 - ℯ    \n",
       "──────────────────────────── + ────────────────────────────────────────────────────────────────────\n",
       "                                                              ⎛     -3⋅t⎞ ⎛     -t⎞                \n",
       "                                                              ⎝1 - ℯ    ⎠⋅⎝1 - ℯ  ⎠                \n",
       "\n",
       " ⎞             \n",
       " ⎟  m⋅t + 3⋅n⋅t\n",
       "─⎟⋅ℯ           \n",
       "⎞⎟             \n",
       "⎠⎠             \n",
       "───────────────\n",
       "               \n",
       "               "
      ]
     },
     "metadata": {},
     "output_type": "display_data"
    }
   ],
   "source": [
    "# Sum of the contributions from each polyptych component (right-angled triangle), making up the equivariant character:\n",
    "\n",
    "def Character(m,n,d):\n",
    "    return Delta34(m,n,d) + Delta14(m,n,d) + Delta12(m,n,d) + Delta23(m,n,d)\n",
    "\n",
    "display( disp.Math(r'\\chi_{\\nu,d}(t,2t) = '), Character(m,n,d) )"
   ]
  },
  {
   "cell_type": "code",
   "execution_count": 6,
   "metadata": {},
   "outputs": [
    {
     "data": {
      "text/latex": [
       "$\\displaystyle \\dim H^{0}(M_{\\nu}^{\\leq d} ; \\mathcal{L}_{\\nu}^{\\leq d}) = $"
      ],
      "text/plain": [
       "<IPython.core.display.Math object>"
      ]
     },
     "metadata": {},
     "output_type": "display_data"
    },
    {
     "data": {
      "text/latex": [
       "$\\displaystyle \\frac{\\left(d + 1\\right) \\left(d + 2\\right) \\left(d^{2} + 2 d m + 2 d n + 3 d + 3 m n + 3 m + 3 n + 3\\right)}{6}$"
      ],
      "text/plain": [
       "                ⎛ 2                                              ⎞\n",
       "(d + 1)⋅(d + 2)⋅⎝d  + 2⋅d⋅m + 2⋅d⋅n + 3⋅d + 3⋅m⋅n + 3⋅m + 3⋅n + 3⎠\n",
       "──────────────────────────────────────────────────────────────────\n",
       "                                6                                 "
      ]
     },
     "metadata": {},
     "output_type": "display_data"
    }
   ],
   "source": [
    "# Taking the limit t -> 0 calculates the dimension of H-naught for the cut space at level-d:\n",
    "\n",
    "display( disp.Math(r'\\dim H^{0}(M_{\\nu}^{\\leq d} ; \\mathcal{L}_{\\nu}^{\\leq d}) = '), factor( limit(Character(m,n,d), t, 0) ) )"
   ]
  },
  {
   "cell_type": "code",
   "execution_count": 7,
   "metadata": {
    "tags": []
   },
   "outputs": [],
   "source": [
    "# Use the output from above to define the Euler character (dimension of H-naught for cut space) to save future processing time:\n",
    "\n",
    "def Euler(m,n,d):\n",
    "    return d**4/6 + d**3*m/3 + d**3*n/3 + d**3 + d**2*m*n/2 + 3*d**2*m/2 + 3*d**2*n/2 + 7*d**2/3 + 3*d*m*n/2 + 13*d*m/6 + 13*d*n/6 + 5*d/2 + m*n + m + n + 1"
   ]
  },
  {
   "cell_type": "code",
   "execution_count": 8,
   "metadata": {
    "tags": []
   },
   "outputs": [
    {
     "data": {
      "text/latex": [
       "$\\displaystyle \\dim H_{d}^{0}(M_{\\nu}; \\mathcal{L}_{\\nu}) = \\dim H^{0}(M_{\\nu}^{\\leq d} ; \\mathcal{L}_{\\nu}^{\\leq d}) - \\dim H^{0}(M_{\\nu}^{\\leq d-1} ; \\mathcal{L}_{\\nu}^{\\leq d-1}) = $"
      ],
      "text/plain": [
       "<IPython.core.display.Math object>"
      ]
     },
     "metadata": {},
     "output_type": "display_data"
    },
    {
     "data": {
      "text/latex": [
       "$\\displaystyle \\frac{2 d^{3}}{3} + d^{2} m + d^{2} n + 2 d^{2} + d m n + 2 d m + 2 d n + \\frac{7 d}{3} + m n + m + n + 1$"
      ],
      "text/plain": [
       "   3                                                                     \n",
       "2⋅d     2      2        2                           7⋅d                  \n",
       "──── + d ⋅m + d ⋅n + 2⋅d  + d⋅m⋅n + 2⋅d⋅m + 2⋅d⋅n + ─── + m⋅n + m + n + 1\n",
       " 3                                                   3                   "
      ]
     },
     "metadata": {},
     "output_type": "display_data"
    }
   ],
   "source": [
    "# Take the difference between subsequent levels to get the d-weight space for the uncut hypertoric variety:\n",
    "\n",
    "def dWeight(m,n,d):\n",
    "    return simplify(Euler(m,n,d) - Euler(m,n,d-1))\n",
    "\n",
    "display(disp.Math(r'\\dim H_{d}^{0}(M_{\\nu}; \\mathcal{L}_{\\nu}) = \\dim H^{0}(M_{\\nu}^{\\leq d} ; \\mathcal{L}_{\\nu}^{\\leq d}) - \\dim H^{0}(M_{\\nu}^{\\leq d-1} ; \\mathcal{L}_{\\nu}^{\\leq d-1}) = '), dWeight(n,m,d))"
   ]
  },
  {
   "cell_type": "code",
   "execution_count": 9,
   "metadata": {},
   "outputs": [
    {
     "data": {
      "text/latex": [
       "$\\displaystyle \\dim H_{0}^{0}(M_{\\nu}; \\mathcal{L}_{\\nu}) = \\dim H^{0}(\\mathbb{CP}^{1} \\times \\mathbb{CP}^{1}; \\mathcal{O}(m) \\boxtimes \\mathcal{O}(n)) = $"
      ],
      "text/plain": [
       "<IPython.core.display.Math object>"
      ]
     },
     "metadata": {},
     "output_type": "display_data"
    },
    {
     "data": {
      "text/latex": [
       "$\\displaystyle \\left(m + 1\\right) \\left(n + 1\\right)$"
      ],
      "text/plain": [
       "(m + 1)⋅(n + 1)"
      ]
     },
     "metadata": {},
     "output_type": "display_data"
    }
   ],
   "source": [
    "# Example of the dimension when we cut away all of the cotangent part, leaving just the Kähler quotient:\n",
    "\n",
    "display(disp.Math(r'\\dim H_{0}^{0}(M_{\\nu}; \\mathcal{L}_{\\nu}) = \\dim H^{0}(\\mathbb{CP}^{1} \\times \\mathbb{CP}^{1}; \\mathcal{O}(m) \\boxtimes \\mathcal{O}(n)) = '), factor(dWeight(n,m,0)) )"
   ]
  }
 ],
 "metadata": {
  "kernelspec": {
   "display_name": "Python 3 (ipykernel)",
   "language": "python",
   "name": "python3"
  },
  "language_info": {
   "codemirror_mode": {
    "name": "ipython",
    "version": 3
   },
   "file_extension": ".py",
   "mimetype": "text/x-python",
   "name": "python",
   "nbconvert_exporter": "python",
   "pygments_lexer": "ipython3",
   "version": "3.10.3"
  }
 },
 "nbformat": 4,
 "nbformat_minor": 4
}
