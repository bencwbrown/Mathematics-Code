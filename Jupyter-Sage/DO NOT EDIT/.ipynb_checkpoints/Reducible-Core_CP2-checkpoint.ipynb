{
 "cells": [
  {
   "cell_type": "code",
   "execution_count": 1,
   "metadata": {},
   "outputs": [],
   "source": [
    "from sympy import *\n",
    "from sympy.vector import Vector\n",
    "from sympy.vector import CoordSys3D\n",
    "import IPython.display as disp\n",
    "\n",
    "N = CoordSys3D('N')\n",
    "\n",
    "t, k = symbols( 't k' )\n",
    "n, d, m = symbols('n d m', positive=True, integer=True)\n",
    "init_printing(use_latex='mathjax')\n",
    "\n",
    "# Basis for the edge/weight vectors for the points \n",
    "\n",
    "v1 = N.i\n",
    "v2 = N.j\n",
    "\n",
    "# Define the vector which is not parallel to any edge vector, which generates a dense subgroup of the torus, and which we will let it tend to zero:\n",
    "\n",
    "Xi = t*(v1 + 3*v2)"
   ]
  },
  {
   "cell_type": "code",
   "execution_count": 2,
   "metadata": {},
   "outputs": [
    {
     "data": {
      "text/latex": [
       "$\\displaystyle \\mathbf{\\hat{0}}$"
      ],
      "text/plain": [
       "0"
      ]
     },
     "metadata": {},
     "output_type": "display_data"
    },
    {
     "data": {
      "text/latex": [
       "$\\displaystyle (m + n)\\mathbf{\\hat{i}_{N}}$"
      ],
      "text/plain": [
       "(m + n) i_N"
      ]
     },
     "metadata": {},
     "output_type": "display_data"
    },
    {
     "data": {
      "text/latex": [
       "$\\displaystyle (m)\\mathbf{\\hat{i}_{N}} + (n)\\mathbf{\\hat{j}_{N}}$"
      ],
      "text/plain": [
       "(m) i_N + (n) j_N"
      ]
     },
     "metadata": {},
     "output_type": "display_data"
    },
    {
     "data": {
      "text/latex": [
       "$\\displaystyle (n)\\mathbf{\\hat{j}_{N}}$"
      ],
      "text/plain": [
       "(n) j_N"
      ]
     },
     "metadata": {},
     "output_type": "display_data"
    },
    {
     "data": {
      "text/latex": [
       "$\\displaystyle (m + n)\\mathbf{\\hat{j}_{N}}$"
      ],
      "text/plain": [
       "(m + n) j_N"
      ]
     },
     "metadata": {},
     "output_type": "display_data"
    }
   ],
   "source": [
    "# Define the vertices corresponding to the fixed points of the action;\n",
    "# P denotes the vertices belonging to the interior:\n",
    "\n",
    "def P12(n,m):\n",
    "    return Vector.zero\n",
    "\n",
    "def P23(n,m):\n",
    "    return (m + n)*v1\n",
    "\n",
    "def P34(n,m):\n",
    "    return m*v1 + n*v2\n",
    "\n",
    "def P14(n,m):\n",
    "    return n*v2\n",
    "\n",
    "def P13(n,m):\n",
    "    return (m + n)*v2\n",
    "\n",
    "# List the interior vertices:\n",
    "\n",
    "interiorPoints = [P12(n,m), P23(n,m), P34(n,m), P14(n,m), P13(n,m)]\n",
    "\n",
    "for P in interiorPoints:\n",
    "    display(P)"
   ]
  },
  {
   "cell_type": "code",
   "execution_count": 3,
   "metadata": {},
   "outputs": [
    {
     "data": {
      "text/latex": [
       "$\\displaystyle (- d)\\mathbf{\\hat{j}_{N}}$"
      ],
      "text/plain": [
       "(-d) j_N"
      ]
     },
     "metadata": {},
     "output_type": "display_data"
    },
    {
     "data": {
      "text/latex": [
       "$\\displaystyle (- 2 d)\\mathbf{\\hat{i}_{N}}$"
      ],
      "text/plain": [
       "(-2⋅d) i_N"
      ]
     },
     "metadata": {},
     "output_type": "display_data"
    },
    {
     "data": {
      "text/latex": [
       "$\\displaystyle (2 d + m + n)\\mathbf{\\hat{i}_{N}}$"
      ],
      "text/plain": [
       "(2⋅d + m + n) i_N"
      ]
     },
     "metadata": {},
     "output_type": "display_data"
    },
    {
     "data": {
      "text/latex": [
       "$\\displaystyle (d + m + n)\\mathbf{\\hat{i}_{N}} + (- d)\\mathbf{\\hat{j}_{N}}$"
      ],
      "text/plain": [
       "(d + m + n) i_N + (-d) j_N"
      ]
     },
     "metadata": {},
     "output_type": "display_data"
    },
    {
     "data": {
      "text/latex": [
       "$\\displaystyle (2 d + m + n)\\mathbf{\\hat{i}_{N}} + (n)\\mathbf{\\hat{j}_{N}}$"
      ],
      "text/plain": [
       "(2⋅d + m + n) i_N + (n) j_N"
      ]
     },
     "metadata": {},
     "output_type": "display_data"
    },
    {
     "data": {
      "text/latex": [
       "$\\displaystyle (- 2 d - n)\\mathbf{\\hat{i}_{N}} + (n)\\mathbf{\\hat{j}_{N}}$"
      ],
      "text/plain": [
       "(-2⋅d - n) i_N + (n) j_N"
      ]
     },
     "metadata": {},
     "output_type": "display_data"
    },
    {
     "data": {
      "text/latex": [
       "$\\displaystyle (2 d + m + 2 n)\\mathbf{\\hat{j}_{N}}$"
      ],
      "text/plain": [
       "(2⋅d + m + 2⋅n) j_N"
      ]
     },
     "metadata": {},
     "output_type": "display_data"
    },
    {
     "data": {
      "text/latex": [
       "$\\displaystyle (- 2 d - n)\\mathbf{\\hat{i}_{N}} + (2 d + m + 2 n)\\mathbf{\\hat{j}_{N}}$"
      ],
      "text/plain": [
       "(-2⋅d - n) i_N + (2⋅d + m + 2⋅n) j_N"
      ]
     },
     "metadata": {},
     "output_type": "display_data"
    }
   ],
   "source": [
    "# Q denotes the vertices that lie on the polyptych boundary:\n",
    "\n",
    "def Q12_1(n,m,d):\n",
    "    return (-d)*v2\n",
    "\n",
    "def Q12_2(n,m,d):\n",
    "    return (-2*d)*v1\n",
    "\n",
    "def Q23_2(n,m,d):\n",
    "    return (m+n+2*d)*v1\n",
    "\n",
    "def Q23_3(n,m,d):\n",
    "    return (m+n+d)*v1 + (-d)*v2\n",
    "\n",
    "def Q34_4(n,m,d):\n",
    "    return (m+n+2*d)*v1 + n*v2\n",
    "\n",
    "def Q14_4(n,m,d):\n",
    "    return (-n-2*d)*v1 + n*v2\n",
    "\n",
    "def Q13_1(n,m,d):\n",
    "    return (m+2*n+2*d)*v2\n",
    "\n",
    "def Q13_3(n,m,d):\n",
    "    return (-n-2*d)*v1 + (m+2*n+2*d)*v2\n",
    "\n",
    "# List the boundary vertices\n",
    "\n",
    "boundaryPoints = [Q12_1(n,m,d), Q12_2(n,m,d), Q23_2(n,m,d), Q23_3(n,m,d), Q34_4(n,m,d), Q14_4(n,m,d), Q13_1(n,m,d), Q13_3(n,m,d)]\n",
    "\n",
    "for Q in boundaryPoints:\n",
    "    display(Q)"
   ]
  },
  {
   "cell_type": "code",
   "execution_count": 4,
   "metadata": {},
   "outputs": [],
   "source": [
    "# Define the term which is summed over each fixed point, representing the character for the representation (NON-ORBIFOLD POINT!):\n",
    "\n",
    "def P(P, edge1, edge2, edge3, edge4):\n",
    "    return exp( Xi.dot(P) ) / ( (1 - exp( Xi.dot(edge1) ) ) * ( 1 - exp( Xi.dot(edge2) ) ) * ( 1 - exp( Xi.dot(edge3) ) ) * ( 1 - exp( Xi.dot(edge4) ) ) )\n",
    "\n",
    "# Define the term which is summed over each fixed point, representing the character for the representation (ORBIFOLD POINT!):\n",
    "\n",
    "def gExp(g, P):\n",
    "    return exp( 2*pi*I*g.dot(P) )\n",
    "\n",
    "def gOrbiSum(Q, q, g, edge1, edge2, edge3, edge4):\n",
    "    return ( Rational(1,q) * exp( Xi.dot(Q) ) ) / ( (1 - ( gExp(g,edge1) * exp( Xi.dot(edge1) ) ) ) * (1 - ( gExp(g,edge2) * exp( Xi.dot(edge2) ) ) ) * (1 - ( gExp(g,edge3) * exp( Xi.dot(edge3) ) ) ) * (1 - ( gExp(g,edge4) * exp( Xi.dot(edge4) ) ) ) ) "
   ]
  },
  {
   "cell_type": "code",
   "execution_count": 5,
   "metadata": {},
   "outputs": [
    {
     "data": {
      "text/latex": [
       "$\\displaystyle \\frac{e^{t \\left(m + n\\right)}}{\\left(1 - e^{- 2 t}\\right) \\left(1 - e^{- t}\\right) \\left(1 - e^{t}\\right) \\left(1 - e^{2 t}\\right)} + \\frac{e^{m t + 3 n t}}{\\left(1 - e^{- 2 t}\\right) \\left(1 - e^{- t}\\right) \\left(1 - e^{t}\\right) \\left(1 - e^{2 t}\\right)} + \\frac{e^{3 n t}}{\\left(1 - e^{- 3 t}\\right) \\left(1 - e^{- t}\\right) \\left(1 - e^{t}\\right) \\left(1 - e^{3 t}\\right)} + \\frac{1}{\\left(1 - e^{- 3 t}\\right) \\left(1 - e^{- t}\\right) \\left(1 - e^{t}\\right) \\left(1 - e^{3 t}\\right)} + \\frac{e^{3 t \\left(m + n\\right)}}{\\left(1 - e^{- 3 t}\\right) \\left(1 - e^{- 2 t}\\right) \\left(1 - e^{2 t}\\right) \\left(1 - e^{3 t}\\right)}$"
      ],
      "text/plain": [
       "                 t⋅(m + n)                                  m⋅t + 3⋅n⋅t                            \n",
       "                ℯ                                          ℯ                                       \n",
       "───────────────────────────────────────── + ───────────────────────────────────────── + ───────────\n",
       "⎛     -2⋅t⎞ ⎛     -t⎞ ⎛     t⎞ ⎛     2⋅t⎞   ⎛     -2⋅t⎞ ⎛     -t⎞ ⎛     t⎞ ⎛     2⋅t⎞   ⎛     -3⋅t⎞\n",
       "⎝1 - ℯ    ⎠⋅⎝1 - ℯ  ⎠⋅⎝1 - ℯ ⎠⋅⎝1 - ℯ   ⎠   ⎝1 - ℯ    ⎠⋅⎝1 - ℯ  ⎠⋅⎝1 - ℯ ⎠⋅⎝1 - ℯ   ⎠   ⎝1 - ℯ    ⎠\n",
       "\n",
       "        3⋅n⋅t                                                                                  3⋅t⋅\n",
       "       ℯ                                             1                                        ℯ    \n",
       "────────────────────────────── + ───────────────────────────────────────── + ──────────────────────\n",
       " ⎛     -t⎞ ⎛     t⎞ ⎛     3⋅t⎞   ⎛     -3⋅t⎞ ⎛     -t⎞ ⎛     t⎞ ⎛     3⋅t⎞   ⎛     -3⋅t⎞ ⎛     -2⋅t\n",
       "⋅⎝1 - ℯ  ⎠⋅⎝1 - ℯ ⎠⋅⎝1 - ℯ   ⎠   ⎝1 - ℯ    ⎠⋅⎝1 - ℯ  ⎠⋅⎝1 - ℯ ⎠⋅⎝1 - ℯ   ⎠   ⎝1 - ℯ    ⎠⋅⎝1 - ℯ    \n",
       "\n",
       "(m + n)                \n",
       "                       \n",
       "───────────────────────\n",
       "⎞ ⎛     2⋅t⎞ ⎛     3⋅t⎞\n",
       "⎠⋅⎝1 - ℯ   ⎠⋅⎝1 - ℯ   ⎠"
      ]
     },
     "execution_count": 5,
     "metadata": {},
     "output_type": "execute_result"
    }
   ],
   "source": [
    "# Contribution towards the equivariant character from each interior vertex:\n",
    "\n",
    "def TermP12(n,m):\n",
    "    return P(P12(n,m), v1, v2, -v1, -v2)\n",
    "\n",
    "def TermP23(n,m):\n",
    "    return P(P23(n,m), v1, -v1 + v2, -v1, v1 - v2)\n",
    "\n",
    "def TermP34(n,m):\n",
    "    return P(P34(n,m), v1, -v1 + v2, -v1, v1 - v2)\n",
    "\n",
    "def TermP14(n,m):\n",
    "    return P(P14(n,m), v1, v2, -v1, -v2)\n",
    "\n",
    "def TermP13(n,m):\n",
    "    return P(P13(n,m), v1 - v2, v2, -v1 + v2, -v2)\n",
    "\n",
    "def InteriorSum(n,d):\n",
    "    return TermP12(n,m) + TermP23(n,m) + TermP34(n,m) + TermP14(n,m) + TermP13(n,m)\n",
    "\n",
    "# Contribution towards the equivariant character from all of the interior vertices:\n",
    "\n",
    "def InteriorSum(n,m):\n",
    "    return TermP12(n,m) + TermP23(n,m) + TermP34(n,m) + TermP13(n,m) + TermP14(n,m)\n",
    "\n",
    "InteriorSum(n,m)"
   ]
  },
  {
   "cell_type": "code",
   "execution_count": 6,
   "metadata": {},
   "outputs": [
    {
     "data": {
      "text/latex": [
       "$\\displaystyle \\frac{e^{- 3 d t}}{2 \\cdot \\left(1 - e^{t}\\right) \\left(e^{\\frac{t}{2}} + 1\\right) \\left(e^{\\frac{3 t}{2}} + 1\\right)^{2}} + \\frac{e^{- 3 d t}}{2 \\cdot \\left(1 - e^{\\frac{t}{2}}\\right) \\left(1 - e^{t}\\right) \\left(1 - e^{\\frac{3 t}{2}}\\right)^{2}} + \\frac{e^{- 3 d t + t \\left(d + m + n\\right)}}{2 \\cdot \\left(1 - e^{- t}\\right) \\left(e^{t} + 1\\right)^{2} \\left(e^{2 t} + 1\\right)} + \\frac{e^{- 3 d t + t \\left(d + m + n\\right)}}{2 \\cdot \\left(1 - e^{- t}\\right) \\left(1 - e^{t}\\right)^{2} \\cdot \\left(1 - e^{2 t}\\right)} + \\frac{e^{- 2 d t}}{\\left(1 - e^{- t}\\right) \\left(1 - e^{t}\\right)^{2} \\cdot \\left(1 - e^{2 t}\\right)} + \\frac{e^{3 n t + t \\left(- 2 d - n\\right)}}{\\left(1 - e^{- 2 t}\\right) \\left(1 - e^{t}\\right)^{2} \\cdot \\left(1 - e^{3 t}\\right)} + \\frac{e^{3 n t + t \\left(2 d + m + n\\right)}}{\\left(1 - e^{- 3 t}\\right) \\left(1 - e^{- t}\\right)^{2} \\cdot \\left(1 - e^{2 t}\\right)} + \\frac{e^{t \\left(- 2 d - n\\right) + 3 t \\left(2 d + m + 2 n\\right)}}{\\left(1 - e^{- 3 t}\\right) \\left(1 - e^{- 2 t}\\right)^{2} \\cdot \\left(1 - e^{t}\\right)} + \\frac{e^{3 t \\left(2 d + m + 2 n\\right)}}{\\left(1 - e^{- 3 t}\\right)^{2} \\cdot \\left(1 - e^{- 2 t}\\right) \\left(1 - e^{- t}\\right)} + \\frac{e^{t \\left(2 d + m + n\\right)}}{\\left(1 - e^{- 4 t}\\right) \\left(1 - e^{- t}\\right)^{2} \\cdot \\left(1 - e^{3 t}\\right)}$"
      ],
      "text/plain": [
       "             -3⋅d⋅t                            -3⋅d⋅t                    -3⋅d⋅t + t⋅(d + m + n)    \n",
       "            ℯ                                 ℯ                         ℯ                          \n",
       "─────────────────────────────── + ─────────────────────────────── + ───────────────────────────────\n",
       "                              2                                 2                       2          \n",
       "           ⎛ t    ⎞ ⎛ 3⋅t    ⎞      ⎛     t⎞          ⎛     3⋅t⎞      ⎛     -t⎞ ⎛ t    ⎞  ⎛ 2⋅t    \n",
       "           ⎜ ─    ⎟ ⎜ ───    ⎟      ⎜     ─⎟          ⎜     ───⎟    2⋅⎝1 - ℯ  ⎠⋅⎝ℯ  + 1⎠ ⋅⎝ℯ    + 1\n",
       "  ⎛     t⎞ ⎜ 2    ⎟ ⎜  2     ⎟      ⎜     2⎟ ⎛     t⎞ ⎜      2 ⎟                                   \n",
       "2⋅⎝1 - ℯ ⎠⋅⎝ℯ  + 1⎠⋅⎝ℯ    + 1⎠    2⋅⎝1 - ℯ ⎠⋅⎝1 - ℯ ⎠⋅⎝1 - ℯ   ⎠                                   \n",
       "\n",
       "         -3⋅d⋅t + t⋅(d + m + n)                    -2⋅d⋅t                     3⋅n⋅t + t⋅(-2⋅d - n) \n",
       "        ℯ                                         ℯ                          ℯ                     \n",
       "─ + ──────────────────────────────── + ────────────────────────────── + ───────────────────────────\n",
       "                        2                                2                                  2      \n",
       "⎞     ⎛     -t⎞ ⎛     t⎞  ⎛     2⋅t⎞   ⎛     -t⎞ ⎛     t⎞  ⎛     2⋅t⎞   ⎛     -2⋅t⎞ ⎛     t⎞  ⎛    \n",
       "⎠   2⋅⎝1 - ℯ  ⎠⋅⎝1 - ℯ ⎠ ⋅⎝1 - ℯ   ⎠   ⎝1 - ℯ  ⎠⋅⎝1 - ℯ ⎠ ⋅⎝1 - ℯ   ⎠   ⎝1 - ℯ    ⎠⋅⎝1 - ℯ ⎠ ⋅⎝1 - \n",
       "                                                                                                   \n",
       "                                                                                                   \n",
       "\n",
       "              3⋅n⋅t + t⋅(2⋅d + m + n)        t⋅(-2⋅d - n) + 3⋅t⋅(2⋅d + m + 2⋅n)           3⋅t⋅(2⋅d \n",
       "             ℯ                              ℯ                                            ℯ         \n",
       "───── + ───────────────────────────────── + ─────────────────────────────────── + ─────────────────\n",
       "                             2                                      2                        2     \n",
       " 3⋅t⎞   ⎛     -3⋅t⎞ ⎛     -t⎞  ⎛     2⋅t⎞    ⎛     -3⋅t⎞ ⎛     -2⋅t⎞  ⎛     t⎞    ⎛     -3⋅t⎞  ⎛   \n",
       "ℯ   ⎠   ⎝1 - ℯ    ⎠⋅⎝1 - ℯ  ⎠ ⋅⎝1 - ℯ   ⎠    ⎝1 - ℯ    ⎠⋅⎝1 - ℯ    ⎠ ⋅⎝1 - ℯ ⎠    ⎝1 - ℯ    ⎠ ⋅⎝1 -\n",
       "                                                                                                   \n",
       "                                                                                                   \n",
       "\n",
       "+ m + 2⋅n)                    t⋅(2⋅d + m + n)        \n",
       "                             ℯ                       \n",
       "───────────────── + ─────────────────────────────────\n",
       "                                         2           \n",
       "  -2⋅t⎞ ⎛     -t⎞   ⎛     -4⋅t⎞ ⎛     -t⎞  ⎛     3⋅t⎞\n",
       " ℯ    ⎠⋅⎝1 - ℯ  ⎠   ⎝1 - ℯ    ⎠⋅⎝1 - ℯ  ⎠ ⋅⎝1 - ℯ   ⎠\n",
       "                                                     \n",
       "                                                     "
      ]
     },
     "execution_count": 6,
     "metadata": {},
     "output_type": "execute_result"
    }
   ],
   "source": [
    "# Contribution towards the equivariant character each boundary vertex:\n",
    "\n",
    "def TermQ12_2(n,m,d):\n",
    "    return P(Q12_2(n,m,d), v1, v1, -v1 + v2, 2*v1 - v2)\n",
    "\n",
    "def TermQ23_2(n,m,d):\n",
    "    return P(Q23_2(n,m,d), -v1, -v1, v2, -v1 - v2)\n",
    "\n",
    "def TermQ34_4(n,m,d):\n",
    "    return P(Q34_4(n,m,d), -v1, -v1, -v2, -v1 + v2)\n",
    "\n",
    "def TermQ14_4(n,m,d):\n",
    "    return P(Q14_4(n,m,d), v1, v1, v1 - v2, v2)\n",
    "\n",
    "def TermQ13_1(n,m,d):\n",
    "    return P(Q13_1(n,m,d), -v2, -v2, v1 - v2, -v1)\n",
    "\n",
    "def TermQ13_3(n,m,d):\n",
    "    return P(Q13_3(n,m,d), v1 - v2, v1 - v2, v1, -v2)\n",
    "\n",
    "# Q12_1 is an orbifold point of order 2:\n",
    "\n",
    "def TermQ12_1(n,m,d):\n",
    "    return gOrbiSum(Q12_1(n,m,d), 2, Vector.zero, v1, Rational(1,2)*v2, Rational(1,2)*v2, -v1 + Rational(1,2)*v2) + gOrbiSum(Q12_1(n,m,d), 2, v2, v1, Rational(1,2)*v2, Rational(1,2)*v2, -v1 + Rational(1,2)*v2)\n",
    "\n",
    "# Q23_3 is an orbifold point of order 2:\n",
    "\n",
    "def TermQ23_3(n,m,d):\n",
    "    return gOrbiSum(Q23_3(n,m,d), 2, Vector.zero, Rational(1,2)*v1 + Rational(1,2)*v2, -Rational(1,2)*v1 + Rational(1,2)*v2, -Rational(1,2)*v1 + Rational(1,2)*v2, -v1) + gOrbiSum(Q23_3(n,m,d), 2, v2, Rational(1,2)*v1 + Rational(1,2)*v2, -Rational(1,2)*v1 + Rational(1,2)*v2, -Rational(1,2)*v1 + Rational(1,2)*v2, -v1)\n",
    "\n",
    "# Contribution towards the equivariant character from all of the exterior vertices:\n",
    "\n",
    "def ExteriorSum(n,m,d):\n",
    "    return TermQ12_1(n,m,d) + TermQ12_2(n,m,d) + TermQ23_2(n,m,d) + TermQ23_3(n,m,d) + TermQ34_4(n,m,d) + TermQ13_1(n,m,d) + TermQ13_3(n,m,d) + TermQ14_4(n,m,d)\n",
    "\n",
    "ExteriorSum(n,m,d)"
   ]
  },
  {
   "cell_type": "code",
   "execution_count": 7,
   "metadata": {},
   "outputs": [
    {
     "data": {
      "text/latex": [
       "$\\displaystyle \\chi_{\\nu,d}(t,3t) = $"
      ],
      "text/plain": [
       "<IPython.core.display.Math object>"
      ]
     },
     "metadata": {},
     "output_type": "display_data"
    },
    {
     "data": {
      "text/latex": [
       "$\\displaystyle \\frac{e^{- 3 d t}}{2 \\cdot \\left(1 - e^{t}\\right) \\left(e^{\\frac{t}{2}} + 1\\right) \\left(e^{\\frac{3 t}{2}} + 1\\right)^{2}} + \\frac{e^{- 3 d t}}{2 \\cdot \\left(1 - e^{\\frac{t}{2}}\\right) \\left(1 - e^{t}\\right) \\left(1 - e^{\\frac{3 t}{2}}\\right)^{2}} + \\frac{e^{- 3 d t + t \\left(d + m + n\\right)}}{2 \\cdot \\left(1 - e^{- t}\\right) \\left(e^{t} + 1\\right)^{2} \\left(e^{2 t} + 1\\right)} + \\frac{e^{- 3 d t + t \\left(d + m + n\\right)}}{2 \\cdot \\left(1 - e^{- t}\\right) \\left(1 - e^{t}\\right)^{2} \\cdot \\left(1 - e^{2 t}\\right)} + \\frac{e^{- 2 d t}}{\\left(1 - e^{- t}\\right) \\left(1 - e^{t}\\right)^{2} \\cdot \\left(1 - e^{2 t}\\right)} + \\frac{e^{3 n t + t \\left(- 2 d - n\\right)}}{\\left(1 - e^{- 2 t}\\right) \\left(1 - e^{t}\\right)^{2} \\cdot \\left(1 - e^{3 t}\\right)} + \\frac{e^{t \\left(m + n\\right)}}{\\left(1 - e^{- 2 t}\\right) \\left(1 - e^{- t}\\right) \\left(1 - e^{t}\\right) \\left(1 - e^{2 t}\\right)} + \\frac{e^{m t + 3 n t}}{\\left(1 - e^{- 2 t}\\right) \\left(1 - e^{- t}\\right) \\left(1 - e^{t}\\right) \\left(1 - e^{2 t}\\right)} + \\frac{e^{3 n t}}{\\left(1 - e^{- 3 t}\\right) \\left(1 - e^{- t}\\right) \\left(1 - e^{t}\\right) \\left(1 - e^{3 t}\\right)} + \\frac{1}{\\left(1 - e^{- 3 t}\\right) \\left(1 - e^{- t}\\right) \\left(1 - e^{t}\\right) \\left(1 - e^{3 t}\\right)} + \\frac{e^{3 n t + t \\left(2 d + m + n\\right)}}{\\left(1 - e^{- 3 t}\\right) \\left(1 - e^{- t}\\right)^{2} \\cdot \\left(1 - e^{2 t}\\right)} + \\frac{e^{3 t \\left(m + n\\right)}}{\\left(1 - e^{- 3 t}\\right) \\left(1 - e^{- 2 t}\\right) \\left(1 - e^{2 t}\\right) \\left(1 - e^{3 t}\\right)} + \\frac{e^{t \\left(- 2 d - n\\right) + 3 t \\left(2 d + m + 2 n\\right)}}{\\left(1 - e^{- 3 t}\\right) \\left(1 - e^{- 2 t}\\right)^{2} \\cdot \\left(1 - e^{t}\\right)} + \\frac{e^{3 t \\left(2 d + m + 2 n\\right)}}{\\left(1 - e^{- 3 t}\\right)^{2} \\cdot \\left(1 - e^{- 2 t}\\right) \\left(1 - e^{- t}\\right)} + \\frac{e^{t \\left(2 d + m + n\\right)}}{\\left(1 - e^{- 4 t}\\right) \\left(1 - e^{- t}\\right)^{2} \\cdot \\left(1 - e^{3 t}\\right)}$"
      ],
      "text/plain": [
       "             -3⋅d⋅t                            -3⋅d⋅t                    -3⋅d⋅t + t⋅(d + m + n)    \n",
       "            ℯ                                 ℯ                         ℯ                          \n",
       "─────────────────────────────── + ─────────────────────────────── + ───────────────────────────────\n",
       "                              2                                 2                       2          \n",
       "           ⎛ t    ⎞ ⎛ 3⋅t    ⎞      ⎛     t⎞          ⎛     3⋅t⎞      ⎛     -t⎞ ⎛ t    ⎞  ⎛ 2⋅t    \n",
       "           ⎜ ─    ⎟ ⎜ ───    ⎟      ⎜     ─⎟          ⎜     ───⎟    2⋅⎝1 - ℯ  ⎠⋅⎝ℯ  + 1⎠ ⋅⎝ℯ    + 1\n",
       "  ⎛     t⎞ ⎜ 2    ⎟ ⎜  2     ⎟      ⎜     2⎟ ⎛     t⎞ ⎜      2 ⎟                                   \n",
       "2⋅⎝1 - ℯ ⎠⋅⎝ℯ  + 1⎠⋅⎝ℯ    + 1⎠    2⋅⎝1 - ℯ ⎠⋅⎝1 - ℯ ⎠⋅⎝1 - ℯ   ⎠                                   \n",
       "\n",
       "         -3⋅d⋅t + t⋅(d + m + n)                    -2⋅d⋅t                     3⋅n⋅t + t⋅(-2⋅d - n) \n",
       "        ℯ                                         ℯ                          ℯ                     \n",
       "─ + ──────────────────────────────── + ────────────────────────────── + ───────────────────────────\n",
       "                        2                                2                                  2      \n",
       "⎞     ⎛     -t⎞ ⎛     t⎞  ⎛     2⋅t⎞   ⎛     -t⎞ ⎛     t⎞  ⎛     2⋅t⎞   ⎛     -2⋅t⎞ ⎛     t⎞  ⎛    \n",
       "⎠   2⋅⎝1 - ℯ  ⎠⋅⎝1 - ℯ ⎠ ⋅⎝1 - ℯ   ⎠   ⎝1 - ℯ  ⎠⋅⎝1 - ℯ ⎠ ⋅⎝1 - ℯ   ⎠   ⎝1 - ℯ    ⎠⋅⎝1 - ℯ ⎠ ⋅⎝1 - \n",
       "                                                                                                   \n",
       "                                                                                                   \n",
       "\n",
       "                         t⋅(m + n)                                  m⋅t + 3⋅n⋅t                    \n",
       "                        ℯ                                          ℯ                               \n",
       "───── + ───────────────────────────────────────── + ───────────────────────────────────────── + ───\n",
       "        ⎛     -2⋅t⎞ ⎛     -t⎞ ⎛     t⎞ ⎛     2⋅t⎞   ⎛     -2⋅t⎞ ⎛     -t⎞ ⎛     t⎞ ⎛     2⋅t⎞   ⎛  \n",
       " 3⋅t⎞   ⎝1 - ℯ    ⎠⋅⎝1 - ℯ  ⎠⋅⎝1 - ℯ ⎠⋅⎝1 - ℯ   ⎠   ⎝1 - ℯ    ⎠⋅⎝1 - ℯ  ⎠⋅⎝1 - ℯ ⎠⋅⎝1 - ℯ   ⎠   ⎝1 \n",
       "ℯ   ⎠                                                                                              \n",
       "                                                                                                   \n",
       "                                                                                                   \n",
       "\n",
       "                3⋅n⋅t                                                                      3⋅n⋅t + \n",
       "               ℯ                                             1                            ℯ        \n",
       "────────────────────────────────────── + ───────────────────────────────────────── + ──────────────\n",
       "   -3⋅t⎞ ⎛     -t⎞ ⎛     t⎞ ⎛     3⋅t⎞   ⎛     -3⋅t⎞ ⎛     -t⎞ ⎛     t⎞ ⎛     3⋅t⎞                 \n",
       "- ℯ    ⎠⋅⎝1 - ℯ  ⎠⋅⎝1 - ℯ ⎠⋅⎝1 - ℯ   ⎠   ⎝1 - ℯ    ⎠⋅⎝1 - ℯ  ⎠⋅⎝1 - ℯ ⎠⋅⎝1 - ℯ   ⎠   ⎛     -3⋅t⎞ ⎛ \n",
       "                                                                                     ⎝1 - ℯ    ⎠⋅⎝1\n",
       "                                                                                                   \n",
       "                                                                                                   \n",
       "\n",
       "t⋅(2⋅d + m + n)                         3⋅t⋅(m + n)                    t⋅(-2⋅d - n) + 3⋅t⋅(2⋅d + m \n",
       "                                       ℯ                              ℯ                            \n",
       "─────────────────── + ───────────────────────────────────────────── + ─────────────────────────────\n",
       "       2              ⎛     -3⋅t⎞ ⎛     -2⋅t⎞ ⎛     2⋅t⎞ ⎛     3⋅t⎞                           2    \n",
       "    -t⎞  ⎛     2⋅t⎞   ⎝1 - ℯ    ⎠⋅⎝1 - ℯ    ⎠⋅⎝1 - ℯ   ⎠⋅⎝1 - ℯ   ⎠    ⎛     -3⋅t⎞ ⎛     -2⋅t⎞  ⎛  \n",
       " - ℯ  ⎠ ⋅⎝1 - ℯ   ⎠                                                    ⎝1 - ℯ    ⎠⋅⎝1 - ℯ    ⎠ ⋅⎝1 \n",
       "                                                                                                   \n",
       "                                                                                                   \n",
       "\n",
       "+ 2⋅n)           3⋅t⋅(2⋅d + m + 2⋅n)                    t⋅(2⋅d + m + n)        \n",
       "                ℯ                                      ℯ                       \n",
       "────── + ────────────────────────────────── + ─────────────────────────────────\n",
       "                    2                                              2           \n",
       "   t⎞    ⎛     -3⋅t⎞  ⎛     -2⋅t⎞ ⎛     -t⎞   ⎛     -4⋅t⎞ ⎛     -t⎞  ⎛     3⋅t⎞\n",
       "- ℯ ⎠    ⎝1 - ℯ    ⎠ ⋅⎝1 - ℯ    ⎠⋅⎝1 - ℯ  ⎠   ⎝1 - ℯ    ⎠⋅⎝1 - ℯ  ⎠ ⋅⎝1 - ℯ   ⎠\n",
       "                                                                               \n",
       "                                                                               "
      ]
     },
     "metadata": {},
     "output_type": "display_data"
    }
   ],
   "source": [
    "# The total (i.e. interior and boundary) contribution towards the equivariant character with Xi as its argument:\n",
    "\n",
    "def Character(n,m,d):\n",
    "    return InteriorSum(n,m) + ExteriorSum(n,m,d)\n",
    "\n",
    "display(disp.Math(r'\\chi_{\\nu,d}(t,3t) = '), Character(n,m,d))"
   ]
  },
  {
   "cell_type": "code",
   "execution_count": 8,
   "metadata": {},
   "outputs": [
    {
     "data": {
      "text/latex": [
       "$\\displaystyle \\dim H^{0}(M_{\\nu}^{\\leq d} ; \\mathcal{L}_{\\nu}^{\\leq d}) = $"
      ],
      "text/plain": [
       "<IPython.core.display.Math object>"
      ]
     },
     "metadata": {},
     "output_type": "display_data"
    },
    {
     "data": {
      "text/latex": [
       "$\\displaystyle \\frac{17 d^{4}}{6} + \\frac{10 d^{3} m}{3} + \\frac{22 d^{3} n}{3} + \\frac{17 d^{3}}{2} + d^{2} m^{2} + 6 d^{2} m n + \\frac{15 d^{2} m}{2} + 6 d^{2} n^{2} + \\frac{33 d^{2} n}{2} + \\frac{29 d^{2}}{3} + d m^{2} n + \\frac{3 d m^{2}}{2} + 3 d m n^{2} + 9 d m n + \\frac{17 d m}{3} + 2 d n^{3} + 9 d n^{2} + \\frac{73 d n}{6} + 5 d + \\frac{m^{2} n^{2}}{4} + \\frac{3 m^{2} n}{4} + \\frac{m^{2}}{2} + \\frac{m n^{3}}{2} + \\frac{9 m n^{2}}{4} + \\frac{13 m n}{4} + \\frac{3 m}{2} + \\frac{n^{4}}{4} + \\frac{3 n^{3}}{2} + \\frac{13 n^{2}}{4} + 3 n + 1$"
      ],
      "text/plain": [
       "    4       3         3         3                          2                   2         2         \n",
       "17⋅d    10⋅d ⋅m   22⋅d ⋅n   17⋅d     2  2      2       15⋅d ⋅m      2  2   33⋅d ⋅n   29⋅d       2  \n",
       "───── + ─────── + ─────── + ───── + d ⋅m  + 6⋅d ⋅m⋅n + ─────── + 6⋅d ⋅n  + ─────── + ───── + d⋅m ⋅n\n",
       "  6        3         3        2                           2                   2        3           \n",
       "\n",
       "        2                                                                   2  2      2      2     \n",
       "   3⋅d⋅m           2             17⋅d⋅m        3        2   73⋅d⋅n         m ⋅n    3⋅m ⋅n   m    m⋅\n",
       " + ────── + 3⋅d⋅m⋅n  + 9⋅d⋅m⋅n + ────── + 2⋅d⋅n  + 9⋅d⋅n  + ────── + 5⋅d + ───── + ────── + ── + ──\n",
       "     2                             3                          6              4       4      2     2\n",
       "\n",
       " 3        2                   4      3       2          \n",
       "n    9⋅m⋅n    13⋅m⋅n   3⋅m   n    3⋅n    13⋅n           \n",
       "── + ────── + ────── + ─── + ── + ──── + ───── + 3⋅n + 1\n",
       "       4        4       2    4     2       4            "
      ]
     },
     "metadata": {},
     "output_type": "display_data"
    }
   ],
   "source": [
    "# Taking the limit t -> 0 calculates the dimension of H-naught for the cut space at level-d:\n",
    "\n",
    "display(disp.Math(r'\\dim H^{0}(M_{\\nu}^{\\leq d} ; \\mathcal{L}_{\\nu}^{\\leq d}) = '), limit(Character(n,m,d), t, 0))"
   ]
  },
  {
   "cell_type": "code",
   "execution_count": 9,
   "metadata": {},
   "outputs": [
    {
     "data": {
      "text/latex": [
       "$\\displaystyle \\dim H_{d}^{0}(M_{\\nu}; \\mathcal{L}_{\\nu}) = \\dim H^{0}(M_{\\nu}^{\\leq d} ; \\mathcal{L}_{\\nu}^{\\leq d}) - \\dim H^{0}(M_{\\nu}^{\\leq d-1} ; \\mathcal{L}_{\\nu}^{\\leq d-1}) = $"
      ],
      "text/plain": [
       "<IPython.core.display.Math object>"
      ]
     },
     "metadata": {},
     "output_type": "display_data"
    },
    {
     "data": {
      "text/latex": [
       "$\\displaystyle \\frac{34 d^{3}}{3} + 10 d^{2} m + 10 d^{2} n + \\frac{17 d^{2}}{2} - 6 d m^{2} + 4 d m n + 5 d m + 2 d n^{2} + 5 d n + \\frac{31 d}{6} + \\frac{2 m^{3}}{3} - 2 m^{2} n - \\frac{3 m^{2}}{2} + m n + \\frac{5 m}{6} + \\frac{n^{2}}{2} + \\frac{3 n}{2} + 1$"
      ],
      "text/plain": [
       "    3                           2                                                         3        \n",
       "34⋅d        2         2     17⋅d         2                          2           31⋅d   2⋅m       2 \n",
       "───── + 10⋅d ⋅m + 10⋅d ⋅n + ───── - 6⋅d⋅m  + 4⋅d⋅m⋅n + 5⋅d⋅m + 2⋅d⋅n  + 5⋅d⋅n + ──── + ──── - 2⋅m ⋅\n",
       "  3                           2                                                  6      3          \n",
       "\n",
       "       2                2          \n",
       "    3⋅m          5⋅m   n    3⋅n    \n",
       "n - ──── + m⋅n + ─── + ── + ─── + 1\n",
       "     2            6    2     2     "
      ]
     },
     "metadata": {},
     "output_type": "display_data"
    }
   ],
   "source": [
    "# Use the output from above to define the Euler character (dimension of H-naught) to save future processing time:\n",
    "\n",
    "def Euler(n,m,d):\n",
    "    return factor(17*d**4/6 + 10*d**3*m/3 + 10*d**3*n/3 + 17*d**3/2 - 3*d**2*m**2 + 2*d**2*m*n + 15*d**2*m/2 + d**2*n**2 + 15*d**2*n/2 + 29*d**2/3 + 2*d*m**3/3 - 2*d*m**2*n - 9*d*m**2/2 + 3*d*m*n + 5*d*m + 3*d*n**2/2 + 17*d*n/3 + 5*d + m**4/6 + 2*m**3*n/3 + m**3/2 - 3*m**2*n/2 - 5*m**2/3 + 5*m*n/6 + m + n**2/2 + 3*n/2 + 1)\n",
    "\n",
    "# Take the difference between subsequent levels to get the d-weight space for the uncut hypertoric variety:\n",
    "\n",
    "def dWeight(n,m,d):\n",
    "    return simplify(Euler(n,m,d) - Euler(n,m,d-1))\n",
    "\n",
    "display(disp.Math(r'\\dim H_{d}^{0}(M_{\\nu}; \\mathcal{L}_{\\nu}) = \\dim H^{0}(M_{\\nu}^{\\leq d} ; \\mathcal{L}_{\\nu}^{\\leq d}) - \\dim H^{0}(M_{\\nu}^{\\leq d-1} ; \\mathcal{L}_{\\nu}^{\\leq d-1}) = '), dWeight(n,m,d))"
   ]
  }
 ],
 "metadata": {
  "kernelspec": {
   "display_name": "Python 3 (ipykernel)",
   "language": "python",
   "name": "python3"
  },
  "language_info": {
   "codemirror_mode": {
    "name": "ipython",
    "version": 3
   },
   "file_extension": ".py",
   "mimetype": "text/x-python",
   "name": "python",
   "nbconvert_exporter": "python",
   "pygments_lexer": "ipython3",
   "version": "3.10.3"
  }
 },
 "nbformat": 4,
 "nbformat_minor": 4
}
