{
 "cells": [
  {
   "cell_type": "code",
   "execution_count": null,
   "metadata": {},
   "outputs": [],
   "source": [
    "from sympy import *\n",
    "from sympy.vector import Vector\n",
    "from sympy.vector import CoordSys3D\n",
    "import IPython.display as disp\n",
    "\n",
    "N = CoordSys3D('N')\n",
    "\n",
    "t, k = symbols( 't k' )\n",
    "n, m, d = symbols('n m d', positive=True, integer=True, real=True)\n",
    "init_printing(use_latex='mathjax')\n",
    "\n",
    "# Basis for the edge/weight vectors for the points \n",
    "\n",
    "v1 = N.i\n",
    "v2 = N.j\n",
    "\n",
    "# Define the vector which is not parallel to any edge vector, which generates a dense subgroup of the torus, and which we will let it tend to zero:\n",
    "\n",
    "Xi = t*(v1 + 3*v2)"
   ]
  },
  {
   "cell_type": "code",
   "execution_count": null,
   "metadata": {},
   "outputs": [],
   "source": [
    "# Define the vertices corresponding to the fixed points of the action;\n",
    "# P denotes the vertices belonging to the interior:\n",
    "\n",
    "def P12(m,n):\n",
    "    return Vector.zero\n",
    "\n",
    "def P23(m,n):\n",
    "    return (m,n)*v1\n",
    "\n",
    "def P34(m,n):\n",
    "    return m*v1 + n*v2\n",
    "\n",
    "def P14(m,n):\n",
    "    return n*v2\n",
    "\n",
    "def P13(m,n):\n",
    "    return (m+n)*v2\n",
    "\n",
    "# List the interior vertices:\n",
    "\n",
    "interiorPoints = [P12(m,n), P23(m,n), P34(m,n), P14(m,n), P13(m,n)]\n",
    "\n",
    "for P in interiorPoints:\n",
    "    display(P)"
   ]
  },
  {
   "cell_type": "code",
   "execution_count": 3,
   "metadata": {},
   "outputs": [
    {
     "data": {
      "text/latex": [
       "$\\displaystyle (- 2 d - n)\\mathbf{\\hat{j}_{N}}$"
      ],
      "text/plain": [
       "(-2⋅d - n) j_N"
      ]
     },
     "metadata": {},
     "output_type": "display_data"
    },
    {
     "data": {
      "text/latex": [
       "$\\displaystyle (- 2 d - n)\\mathbf{\\hat{i}_{N}}$"
      ],
      "text/plain": [
       "(-2⋅d - n) i_N"
      ]
     },
     "metadata": {},
     "output_type": "display_data"
    },
    {
     "data": {
      "text/latex": [
       "$\\displaystyle (2 d + m + 2 n)\\mathbf{\\hat{i}_{N}}$"
      ],
      "text/plain": [
       "(2⋅d + m + 2⋅n) i_N"
      ]
     },
     "metadata": {},
     "output_type": "display_data"
    },
    {
     "data": {
      "text/latex": [
       "$\\displaystyle (2 d + m + 2 n)\\mathbf{\\hat{i}_{N}} + (- 2 d - n)\\mathbf{\\hat{j}_{N}}$"
      ],
      "text/plain": [
       "(2⋅d + m + 2⋅n) i_N + (-2⋅d - n) j_N"
      ]
     },
     "metadata": {},
     "output_type": "display_data"
    },
    {
     "data": {
      "text/latex": [
       "$\\displaystyle (2 d + 2 n)\\mathbf{\\hat{i}_{N}} + (m)\\mathbf{\\hat{j}_{N}}$"
      ],
      "text/plain": [
       "(2⋅d + 2⋅n) i_N + (m) j_N"
      ]
     },
     "metadata": {},
     "output_type": "display_data"
    },
    {
     "data": {
      "text/latex": [
       "$\\displaystyle (- 2 d - n)\\mathbf{\\hat{i}_{N}} + (m)\\mathbf{\\hat{j}_{N}}$"
      ],
      "text/plain": [
       "(-2⋅d - n) i_N + (m) j_N"
      ]
     },
     "metadata": {},
     "output_type": "display_data"
    },
    {
     "data": {
      "text/latex": [
       "$\\displaystyle (d + m + n)\\mathbf{\\hat{j}_{N}}$"
      ],
      "text/plain": [
       "(d + m + n) j_N"
      ]
     },
     "metadata": {},
     "output_type": "display_data"
    },
    {
     "data": {
      "text/latex": [
       "$\\displaystyle (- d)\\mathbf{\\hat{i}_{N}} + (d + m + n)\\mathbf{\\hat{j}_{N}}$"
      ],
      "text/plain": [
       "(-d) i_N + (d + m + n) j_N"
      ]
     },
     "metadata": {},
     "output_type": "display_data"
    }
   ],
   "source": [
    "# Q denotes the vertices that lie on the polyptych boundary:\n",
    "\n",
    "# STILL NEED 2D -> D\n",
    "\n",
    "def Q12_1(m,n,d):\n",
    "    return (-m - 2*d)*v2\n",
    "\n",
    "def Q12_2(m,n,d):\n",
    "    return (-m - 2*d)*v1\n",
    "\n",
    "def Q23_2(m,n,d):\n",
    "    return (2*m + n + 2*d)*v1\n",
    "\n",
    "def Q23_3(m,n,d):\n",
    "    return (2*m + n + 2*d)*v1 + (-m - 2*d)*v2\n",
    "\n",
    "def Q34_4(m,n,d):\n",
    "    return (2*m + 2*d)*v1 + n*v2\n",
    "\n",
    "def Q13_1(m,n,d):\n",
    "    return (m + n + d)*v2\n",
    "\n",
    "def Q13_3(m,n,d):\n",
    "    return -d*v1 + (m + n + d)*v2\n",
    "\n",
    "def Q14_4(m,n,d):\n",
    "    return (-m - 2*d)*v1 + n*v2\n",
    "\n",
    "# List the boundary vertices\n",
    "\n",
    "boundaryPoints = [Q12_1(m,n,d), Q12_2(m,n,d), Q23_2(m,n,d), Q23_3(m,n,d), Q34_4(m,n,d), Q14_4(m,n,d), Q13_1(m,n,d), Q13_3(m,n,d)]\n",
    "\n",
    "for Q in boundaryPoints:\n",
    "    display(Q)"
   ]
  },
  {
   "cell_type": "code",
   "execution_count": 4,
   "metadata": {},
   "outputs": [],
   "source": [
    "# Define the term which is summed over each fixed point, representing the character for the representation (NON-ORBIFOLD POINT!):\n",
    "\n",
    "def P(P, edge1, edge2, edge3, edge4):\n",
    "    return exp( Xi.dot(P) ) / ( (1 - exp( Xi.dot(edge1) ) ) * ( 1 - exp( Xi.dot(edge2) ) ) * ( 1 - exp( Xi.dot(edge3) ) ) * ( 1 - exp( Xi.dot(edge4) ) ) )\n",
    "\n",
    "# Define the term which is summed over each fixed point, representing the character for the representation (ORBIFOLD POINT!):\n",
    "\n",
    "def gExp(g, P):\n",
    "    return exp( 2*pi*I*g.dot(P) )\n",
    "\n",
    "def gOrbiSum(Q, q, g, edge1, edge2, edge3, edge4):\n",
    "    return ( Rational(1,q) * exp( Xi.dot(Q) ) ) / ( (1 - ( gExp(g,edge1) * exp( Xi.dot(edge1) ) ) ) * (1 - ( gExp(g,edge2) * exp( Xi.dot(edge2) ) ) ) * (1 - ( gExp(g,edge3) * exp( Xi.dot(edge3) ) ) ) * (1 - ( gExp(g,edge4) * exp( Xi.dot(edge4) ) ) ) ) "
   ]
  },
  {
   "cell_type": "code",
   "execution_count": 5,
   "metadata": {},
   "outputs": [
    {
     "data": {
      "text/latex": [
       "$\\displaystyle \\frac{e^{t \\left(d + n\\right)}}{\\left(1 - e^{- 2 t}\\right) \\left(1 - e^{- t}\\right) \\left(1 - e^{t}\\right) \\left(1 - e^{2 t}\\right)} + \\frac{e^{3 d t + n t}}{\\left(1 - e^{- 2 t}\\right) \\left(1 - e^{- t}\\right) \\left(1 - e^{t}\\right) \\left(1 - e^{2 t}\\right)} + \\frac{e^{3 d t}}{\\left(1 - e^{- 3 t}\\right) \\left(1 - e^{- t}\\right) \\left(1 - e^{t}\\right) \\left(1 - e^{3 t}\\right)} + \\frac{1}{\\left(1 - e^{- 3 t}\\right) \\left(1 - e^{- t}\\right) \\left(1 - e^{t}\\right) \\left(1 - e^{3 t}\\right)} + \\frac{e^{3 t \\left(d + n\\right)}}{\\left(1 - e^{- 3 t}\\right) \\left(1 - e^{- 2 t}\\right) \\left(1 - e^{2 t}\\right) \\left(1 - e^{3 t}\\right)}$"
      ],
      "text/plain": [
       "                 t⋅(d + n)                                  3⋅d⋅t + n⋅t                            \n",
       "                ℯ                                          ℯ                                       \n",
       "───────────────────────────────────────── + ───────────────────────────────────────── + ───────────\n",
       "⎛     -2⋅t⎞ ⎛     -t⎞ ⎛     t⎞ ⎛     2⋅t⎞   ⎛     -2⋅t⎞ ⎛     -t⎞ ⎛     t⎞ ⎛     2⋅t⎞   ⎛     -3⋅t⎞\n",
       "⎝1 - ℯ    ⎠⋅⎝1 - ℯ  ⎠⋅⎝1 - ℯ ⎠⋅⎝1 - ℯ   ⎠   ⎝1 - ℯ    ⎠⋅⎝1 - ℯ  ⎠⋅⎝1 - ℯ ⎠⋅⎝1 - ℯ   ⎠   ⎝1 - ℯ    ⎠\n",
       "\n",
       "        3⋅d⋅t                                                                                  3⋅t⋅\n",
       "       ℯ                                             1                                        ℯ    \n",
       "────────────────────────────── + ───────────────────────────────────────── + ──────────────────────\n",
       " ⎛     -t⎞ ⎛     t⎞ ⎛     3⋅t⎞   ⎛     -3⋅t⎞ ⎛     -t⎞ ⎛     t⎞ ⎛     3⋅t⎞   ⎛     -3⋅t⎞ ⎛     -2⋅t\n",
       "⋅⎝1 - ℯ  ⎠⋅⎝1 - ℯ ⎠⋅⎝1 - ℯ   ⎠   ⎝1 - ℯ    ⎠⋅⎝1 - ℯ  ⎠⋅⎝1 - ℯ ⎠⋅⎝1 - ℯ   ⎠   ⎝1 - ℯ    ⎠⋅⎝1 - ℯ    \n",
       "\n",
       "(d + n)                \n",
       "                       \n",
       "───────────────────────\n",
       "⎞ ⎛     2⋅t⎞ ⎛     3⋅t⎞\n",
       "⎠⋅⎝1 - ℯ   ⎠⋅⎝1 - ℯ   ⎠"
      ]
     },
     "execution_count": 5,
     "metadata": {},
     "output_type": "execute_result"
    }
   ],
   "source": [
    "# Contribution towards the equivariant character from each interior vertex:\n",
    "\n",
    "def TermP12(m,n):\n",
    "    return P(P12(m,n), v1, v2, -v1, -v2)\n",
    "\n",
    "def TermP23(m,n):\n",
    "    return P(P23(m,n), v1, -v1 + v2, -v1, v1 - v2)\n",
    "\n",
    "def TermP34(m,n):\n",
    "    return P(P34(m,n), v1, -v1 + v2, -v1, v1 - v2)\n",
    "\n",
    "def TermP14(m,n):\n",
    "    return P(P14(m,n), v1, v2, -v1, -v2)\n",
    "\n",
    "def TermP13(m,n):\n",
    "    return P(P13(m,n), v1 - v2, v2, -v1 + v2, -v2)\n",
    "\n",
    "# Contribution towards the equivariant character from all of the interior vertices:\n",
    "\n",
    "def InteriorSum(m,n):\n",
    "    return TermP12(m,n) + TermP23(m,n) + TermP34(m,n) + TermP14(m,n) + TermP13(m,n)\n",
    "\n",
    "InteriorSum(n,d)"
   ]
  },
  {
   "cell_type": "code",
   "execution_count": 6,
   "metadata": {},
   "outputs": [
    {
     "data": {
      "text/latex": [
       "$\\displaystyle \\frac{e^{3 t \\left(- 2 d - n\\right)}}{\\left(1 - e^{t}\\right) \\left(1 - e^{2 t}\\right) \\left(1 - e^{3 t}\\right)^{2}} + \\frac{e^{3 t \\left(- 2 d - n\\right) + t \\left(2 d + m + 2 n\\right)}}{\\left(1 - e^{- t}\\right) \\left(1 - e^{2 t}\\right)^{2} \\cdot \\left(1 - e^{3 t}\\right)} + \\frac{e^{3 t \\left(d + m + n\\right)}}{2 \\left(1 + e^{- \\frac{3 t}{2}}\\right)^{2} \\cdot \\left(1 - e^{- t}\\right) \\left(1 + e^{- \\frac{t}{2}}\\right)} + \\frac{e^{3 t \\left(d + m + n\\right)}}{2 \\left(1 - e^{- \\frac{3 t}{2}}\\right)^{2} \\cdot \\left(1 - e^{- t}\\right) \\left(1 - e^{- \\frac{t}{2}}\\right)} + \\frac{e^{- d t + 3 t \\left(d + m + n\\right)}}{2 \\cdot \\left(1 + e^{- 2 t}\\right) \\left(1 + e^{- t}\\right)^{2} \\cdot \\left(1 - e^{t}\\right)} + \\frac{e^{t \\left(- 2 d - n\\right)}}{\\left(1 - e^{- 2 t}\\right) \\left(1 - e^{t}\\right)^{2} \\cdot \\left(1 - e^{3 t}\\right)} + \\frac{e^{- d t + 3 t \\left(d + m + n\\right)}}{2 \\cdot \\left(1 - e^{- 2 t}\\right) \\left(1 - e^{- t}\\right)^{2} \\cdot \\left(1 - e^{t}\\right)} + \\frac{e^{3 m t + t \\left(2 d + 2 n\\right)}}{\\left(1 - e^{- 2 t}\\right) \\left(1 - e^{- t}\\right)^{2} \\cdot \\left(1 - e^{t}\\right)} + \\frac{e^{3 m t + t \\left(- 2 d - n\\right)}}{\\left(1 - e^{- 3 t}\\right) \\left(1 - e^{t}\\right)^{2} \\cdot \\left(1 - e^{4 t}\\right)} + \\frac{e^{t \\left(2 d + m + 2 n\\right)}}{\\left(1 - e^{- 3 t}\\right) \\left(1 - e^{- t}\\right)^{2} \\cdot \\left(1 - e^{2 t}\\right)}$"
      ],
      "text/plain": [
       "         3⋅t⋅(-2⋅d - n)            3⋅t⋅(-2⋅d - n) + t⋅(2⋅d + m + 2⋅n)              3⋅t⋅(d + m + n) \n",
       "        ℯ                         ℯ                                               ℯ                \n",
       "─────────────────────────────── + ─────────────────────────────────── + ───────────────────────────\n",
       "                              2                         2                             2            \n",
       "⎛     t⎞ ⎛     2⋅t⎞ ⎛     3⋅t⎞      ⎛     -t⎞ ⎛     2⋅t⎞  ⎛     3⋅t⎞      ⎛     -3⋅t ⎞            ⎛\n",
       "⎝1 - ℯ ⎠⋅⎝1 - ℯ   ⎠⋅⎝1 - ℯ   ⎠      ⎝1 - ℯ  ⎠⋅⎝1 - ℯ   ⎠ ⋅⎝1 - ℯ   ⎠      ⎜     ─────⎟            ⎜\n",
       "                                                                          ⎜       2  ⎟  ⎛     -t⎞ ⎜\n",
       "                                                                        2⋅⎝1 + ℯ     ⎠ ⋅⎝1 - ℯ  ⎠⋅⎝\n",
       "\n",
       "                       3⋅t⋅(d + m + n)                   -d⋅t + 3⋅t⋅(d + m + n)                  t⋅\n",
       "                      ℯ                                 ℯ                                       ℯ  \n",
       "───────── + ──────────────────────────────────── + ───────────────────────────────── + ────────────\n",
       "                          2                                               2                        \n",
       "     -t ⎞     ⎛     -3⋅t ⎞            ⎛     -t ⎞     ⎛     -2⋅t⎞ ⎛     -t⎞  ⎛     t⎞   ⎛     -2⋅t⎞ \n",
       "     ───⎟     ⎜     ─────⎟            ⎜     ───⎟   2⋅⎝1 + ℯ    ⎠⋅⎝1 + ℯ  ⎠ ⋅⎝1 - ℯ ⎠   ⎝1 - ℯ    ⎠⋅\n",
       "      2 ⎟     ⎜       2  ⎟  ⎛     -t⎞ ⎜      2 ⎟                                                   \n",
       "1 + ℯ   ⎠   2⋅⎝1 - ℯ     ⎠ ⋅⎝1 - ℯ  ⎠⋅⎝1 - ℯ   ⎠                                                   \n",
       "\n",
       "(-2⋅d - n)                   -d⋅t + 3⋅t⋅(d + m + n)              3⋅m⋅t + t⋅(2⋅d + 2⋅n)             \n",
       "                            ℯ                                   ℯ                                 ℯ\n",
       "──────────────────── + ───────────────────────────────── + ─────────────────────────────── + ──────\n",
       "        2                                     2                                 2                  \n",
       "⎛     t⎞  ⎛     3⋅t⎞     ⎛     -2⋅t⎞ ⎛     -t⎞  ⎛     t⎞   ⎛     -2⋅t⎞ ⎛     -t⎞  ⎛     t⎞   ⎛     \n",
       "⎝1 - ℯ ⎠ ⋅⎝1 - ℯ   ⎠   2⋅⎝1 - ℯ    ⎠⋅⎝1 - ℯ  ⎠ ⋅⎝1 - ℯ ⎠   ⎝1 - ℯ    ⎠⋅⎝1 - ℯ  ⎠ ⋅⎝1 - ℯ ⎠   ⎝1 - ℯ\n",
       "                                                                                                   \n",
       "                                                                                                   \n",
       "\n",
       "3⋅m⋅t + t⋅(-2⋅d - n)                  t⋅(2⋅d + m + 2⋅n)       \n",
       "                                     ℯ                        \n",
       "────────────────────────── + ─────────────────────────────────\n",
       "              2                                   2           \n",
       "-3⋅t⎞ ⎛     t⎞  ⎛     4⋅t⎞   ⎛     -3⋅t⎞ ⎛     -t⎞  ⎛     2⋅t⎞\n",
       "    ⎠⋅⎝1 - ℯ ⎠ ⋅⎝1 - ℯ   ⎠   ⎝1 - ℯ    ⎠⋅⎝1 - ℯ  ⎠ ⋅⎝1 - ℯ   ⎠\n",
       "                                                              \n",
       "                                                              "
      ]
     },
     "execution_count": 6,
     "metadata": {},
     "output_type": "execute_result"
    }
   ],
   "source": [
    "# Contribution towards the equivariant character each boundary vertex:\n",
    "\n",
    "def TermQ12_1(m,n,d):\n",
    "    return P(Q12_1(m,n,d), v2, v2, v1, -v1 + v2)\n",
    "\n",
    "def TermQ12_2(m,n,d):\n",
    "    return P(Q12_2(m,n,d), v1, v1, v2, v1 - v2)\n",
    "\n",
    "def TermQ23_2(m,n,d):\n",
    "    return P(Q23_2(m,n,d), -v1, -v1, -v2, -v1 + v2)\n",
    "\n",
    "def TermQ23_3(m,n,d):\n",
    "    return P(Q23_3(m,n,d), -v1 + v2, -v1 + v2, -v1, v2)\n",
    "\n",
    "def TermQ34_4(m,n,d):\n",
    "    return P(Q34_4(m,n,d), -v1, -v1, -2*v1 + v2, v1 - v2)\n",
    "\n",
    "# Q13_1 is an orbifold point of order 2:\n",
    "\n",
    "def TermQ13_1(m,n,d):\n",
    "    return gOrbiSum(Q13_1(m,n,d), 2, Vector.zero, v1 - Rational(1,2)*v2, -Rational(1,2)*v2, -Rational(1,2)*v2, -v1) + gOrbiSum(Q13_1(m,n,d), 2, -v2, v1 - Rational(1,2)*v2, -Rational(1,2)*v2, -Rational(1,2)*v2, -v1)\n",
    "\n",
    "# Q13_3 is an orbifold point of order 2:\n",
    "\n",
    "def TermQ13_3(m,n,d):\n",
    "    return gOrbiSum(Q13_3(m,n,d), 2, Vector.zero, Rational(1,2)*v1 - Rational(1,2)*v2, Rational(1,2)*v1 - Rational(1,2)*v2, -Rational(1,2)*v1 - Rational(1,2)*v2, v1) + gOrbiSum(Q13_3(m,n,d), 2, -v2, Rational(1,2)*v1 - Rational(1,2)*v2, Rational(1,2)*v1 - Rational(1,2)*v2, -Rational(1,2)*v1 - Rational(1,2)*v2, v1)\n",
    "\n",
    "def TermQ14_4(m,n,d):\n",
    "    return P(Q14_4(m,n,d), v1, v1, v1 + v2, -v2)\n",
    "\n",
    "# Contribution towards the equivariant character from all of the exterior vertices:\n",
    "\n",
    "def ExteriorSum(m,n,d):\n",
    "    return TermQ12_1(m,n,d) + TermQ12_2(m,n,d) + TermQ23_2(m,n,d) + TermQ23_3(m,n,d) + TermQ34_4(m,n,d) + TermQ13_1(m,n,d) + TermQ13_3(m,n,d) + TermQ14_4(m,n,d)\n",
    "\n",
    "ExteriorSum(m,n,d)"
   ]
  },
  {
   "cell_type": "code",
   "execution_count": 7,
   "metadata": {},
   "outputs": [
    {
     "data": {
      "text/latex": [
       "$\\displaystyle \\chi_{\\nu,d}(t,3t) = $"
      ],
      "text/plain": [
       "<IPython.core.display.Math object>"
      ]
     },
     "metadata": {},
     "output_type": "display_data"
    },
    {
     "data": {
      "text/latex": [
       "$\\displaystyle \\frac{e^{3 t \\left(- 2 d - n\\right)}}{\\left(1 - e^{t}\\right) \\left(1 - e^{2 t}\\right) \\left(1 - e^{3 t}\\right)^{2}} + \\frac{e^{3 t \\left(- 2 d - n\\right) + t \\left(2 d + m + 2 n\\right)}}{\\left(1 - e^{- t}\\right) \\left(1 - e^{2 t}\\right)^{2} \\cdot \\left(1 - e^{3 t}\\right)} + \\frac{e^{3 t \\left(d + m + n\\right)}}{2 \\left(1 + e^{- \\frac{3 t}{2}}\\right)^{2} \\cdot \\left(1 - e^{- t}\\right) \\left(1 + e^{- \\frac{t}{2}}\\right)} + \\frac{e^{3 t \\left(d + m + n\\right)}}{2 \\left(1 - e^{- \\frac{3 t}{2}}\\right)^{2} \\cdot \\left(1 - e^{- t}\\right) \\left(1 - e^{- \\frac{t}{2}}\\right)} + \\frac{e^{- d t + 3 t \\left(d + m + n\\right)}}{2 \\cdot \\left(1 + e^{- 2 t}\\right) \\left(1 + e^{- t}\\right)^{2} \\cdot \\left(1 - e^{t}\\right)} + \\frac{e^{t \\left(- 2 d - n\\right)}}{\\left(1 - e^{- 2 t}\\right) \\left(1 - e^{t}\\right)^{2} \\cdot \\left(1 - e^{3 t}\\right)} + \\frac{e^{t \\left(m + n\\right)}}{\\left(1 - e^{- 2 t}\\right) \\left(1 - e^{- t}\\right) \\left(1 - e^{t}\\right) \\left(1 - e^{2 t}\\right)} + \\frac{e^{3 m t + n t}}{\\left(1 - e^{- 2 t}\\right) \\left(1 - e^{- t}\\right) \\left(1 - e^{t}\\right) \\left(1 - e^{2 t}\\right)} + \\frac{e^{- d t + 3 t \\left(d + m + n\\right)}}{2 \\cdot \\left(1 - e^{- 2 t}\\right) \\left(1 - e^{- t}\\right)^{2} \\cdot \\left(1 - e^{t}\\right)} + \\frac{e^{3 m t + t \\left(2 d + 2 n\\right)}}{\\left(1 - e^{- 2 t}\\right) \\left(1 - e^{- t}\\right)^{2} \\cdot \\left(1 - e^{t}\\right)} + \\frac{e^{3 m t + t \\left(- 2 d - n\\right)}}{\\left(1 - e^{- 3 t}\\right) \\left(1 - e^{t}\\right)^{2} \\cdot \\left(1 - e^{4 t}\\right)} + \\frac{e^{3 m t}}{\\left(1 - e^{- 3 t}\\right) \\left(1 - e^{- t}\\right) \\left(1 - e^{t}\\right) \\left(1 - e^{3 t}\\right)} + \\frac{1}{\\left(1 - e^{- 3 t}\\right) \\left(1 - e^{- t}\\right) \\left(1 - e^{t}\\right) \\left(1 - e^{3 t}\\right)} + \\frac{e^{t \\left(2 d + m + 2 n\\right)}}{\\left(1 - e^{- 3 t}\\right) \\left(1 - e^{- t}\\right)^{2} \\cdot \\left(1 - e^{2 t}\\right)} + \\frac{e^{3 t \\left(m + n\\right)}}{\\left(1 - e^{- 3 t}\\right) \\left(1 - e^{- 2 t}\\right) \\left(1 - e^{2 t}\\right) \\left(1 - e^{3 t}\\right)}$"
      ],
      "text/plain": [
       "         3⋅t⋅(-2⋅d - n)            3⋅t⋅(-2⋅d - n) + t⋅(2⋅d + m + 2⋅n)              3⋅t⋅(d + m + n) \n",
       "        ℯ                         ℯ                                               ℯ                \n",
       "─────────────────────────────── + ─────────────────────────────────── + ───────────────────────────\n",
       "                              2                         2                             2            \n",
       "⎛     t⎞ ⎛     2⋅t⎞ ⎛     3⋅t⎞      ⎛     -t⎞ ⎛     2⋅t⎞  ⎛     3⋅t⎞      ⎛     -3⋅t ⎞            ⎛\n",
       "⎝1 - ℯ ⎠⋅⎝1 - ℯ   ⎠⋅⎝1 - ℯ   ⎠      ⎝1 - ℯ  ⎠⋅⎝1 - ℯ   ⎠ ⋅⎝1 - ℯ   ⎠      ⎜     ─────⎟            ⎜\n",
       "                                                                          ⎜       2  ⎟  ⎛     -t⎞ ⎜\n",
       "                                                                        2⋅⎝1 + ℯ     ⎠ ⋅⎝1 - ℯ  ⎠⋅⎝\n",
       "\n",
       "                       3⋅t⋅(d + m + n)                   -d⋅t + 3⋅t⋅(d + m + n)                  t⋅\n",
       "                      ℯ                                 ℯ                                       ℯ  \n",
       "───────── + ──────────────────────────────────── + ───────────────────────────────── + ────────────\n",
       "                          2                                               2                        \n",
       "     -t ⎞     ⎛     -3⋅t ⎞            ⎛     -t ⎞     ⎛     -2⋅t⎞ ⎛     -t⎞  ⎛     t⎞   ⎛     -2⋅t⎞ \n",
       "     ───⎟     ⎜     ─────⎟            ⎜     ───⎟   2⋅⎝1 + ℯ    ⎠⋅⎝1 + ℯ  ⎠ ⋅⎝1 - ℯ ⎠   ⎝1 - ℯ    ⎠⋅\n",
       "      2 ⎟     ⎜       2  ⎟  ⎛     -t⎞ ⎜      2 ⎟                                                   \n",
       "1 + ℯ   ⎠   2⋅⎝1 - ℯ     ⎠ ⋅⎝1 - ℯ  ⎠⋅⎝1 - ℯ   ⎠                                                   \n",
       "\n",
       "(-2⋅d - n)                              t⋅(m + n)                                  3⋅m⋅t + n⋅t     \n",
       "                                       ℯ                                          ℯ                \n",
       "──────────────────── + ───────────────────────────────────────── + ────────────────────────────────\n",
       "        2              ⎛     -2⋅t⎞ ⎛     -t⎞ ⎛     t⎞ ⎛     2⋅t⎞   ⎛     -2⋅t⎞ ⎛     -t⎞ ⎛     t⎞ ⎛\n",
       "⎛     t⎞  ⎛     3⋅t⎞   ⎝1 - ℯ    ⎠⋅⎝1 - ℯ  ⎠⋅⎝1 - ℯ ⎠⋅⎝1 - ℯ   ⎠   ⎝1 - ℯ    ⎠⋅⎝1 - ℯ  ⎠⋅⎝1 - ℯ ⎠⋅⎝\n",
       "⎝1 - ℯ ⎠ ⋅⎝1 - ℯ   ⎠                                                                               \n",
       "                                                                                                   \n",
       "                                                                                                   \n",
       "\n",
       "                  -d⋅t + 3⋅t⋅(d + m + n)              3⋅m⋅t + t⋅(2⋅d + 2⋅n)             3⋅m⋅t + t⋅(\n",
       "                 ℯ                                   ℯ                                 ℯ           \n",
       "───────── + ───────────────────────────────── + ─────────────────────────────── + ─────────────────\n",
       "     2⋅t⎞                          2                                 2                             \n",
       "1 - ℯ   ⎠     ⎛     -2⋅t⎞ ⎛     -t⎞  ⎛     t⎞   ⎛     -2⋅t⎞ ⎛     -t⎞  ⎛     t⎞   ⎛     -3⋅t⎞ ⎛    \n",
       "            2⋅⎝1 - ℯ    ⎠⋅⎝1 - ℯ  ⎠ ⋅⎝1 - ℯ ⎠   ⎝1 - ℯ    ⎠⋅⎝1 - ℯ  ⎠ ⋅⎝1 - ℯ ⎠   ⎝1 - ℯ    ⎠⋅⎝1 - \n",
       "                                                                                                   \n",
       "                                                                                                   \n",
       "\n",
       "-2⋅d - n)                            3⋅m⋅t                                                         \n",
       "                                    ℯ                                             1                \n",
       "─────────────── + ───────────────────────────────────────── + ─────────────────────────────────────\n",
       "   2              ⎛     -3⋅t⎞ ⎛     -t⎞ ⎛     t⎞ ⎛     3⋅t⎞   ⎛     -3⋅t⎞ ⎛     -t⎞ ⎛     t⎞ ⎛     \n",
       " t⎞  ⎛     4⋅t⎞   ⎝1 - ℯ    ⎠⋅⎝1 - ℯ  ⎠⋅⎝1 - ℯ ⎠⋅⎝1 - ℯ   ⎠   ⎝1 - ℯ    ⎠⋅⎝1 - ℯ  ⎠⋅⎝1 - ℯ ⎠⋅⎝1 - ℯ\n",
       "ℯ ⎠ ⋅⎝1 - ℯ   ⎠                                                                                    \n",
       "                                                                                                   \n",
       "                                                                                                   \n",
       "\n",
       "                t⋅(2⋅d + m + 2⋅n)                            3⋅t⋅(m + n)                \n",
       "               ℯ                                            ℯ                           \n",
       "──── + ───────────────────────────────── + ─────────────────────────────────────────────\n",
       "3⋅t⎞                        2              ⎛     -3⋅t⎞ ⎛     -2⋅t⎞ ⎛     2⋅t⎞ ⎛     3⋅t⎞\n",
       "   ⎠   ⎛     -3⋅t⎞ ⎛     -t⎞  ⎛     2⋅t⎞   ⎝1 - ℯ    ⎠⋅⎝1 - ℯ    ⎠⋅⎝1 - ℯ   ⎠⋅⎝1 - ℯ   ⎠\n",
       "       ⎝1 - ℯ    ⎠⋅⎝1 - ℯ  ⎠ ⋅⎝1 - ℯ   ⎠                                                \n",
       "                                                                                        \n",
       "                                                                                        "
      ]
     },
     "metadata": {},
     "output_type": "display_data"
    }
   ],
   "source": [
    "# The total (i.e. interior and boundary) contribution towards the equivariant character with Xi as its argument:\n",
    "\n",
    "def Character(m,n,d):\n",
    "    return InteriorSum(m,n) + ExteriorSum(m,n,d)\n",
    "\n",
    "display(disp.Math(r'\\chi_{\\nu,d}(t,3t) = '), Character(m,n,d))"
   ]
  },
  {
   "cell_type": "code",
   "execution_count": 8,
   "metadata": {},
   "outputs": [
    {
     "data": {
      "text/latex": [
       "$\\displaystyle \\dim H^{0}(M_{\\nu}^{\\leq d} ; \\mathcal{L}_{\\nu}^{\\leq d}) = $"
      ],
      "text/plain": [
       "<IPython.core.display.Math object>"
      ]
     },
     "metadata": {},
     "output_type": "display_data"
    },
    {
     "data": {
      "text/latex": [
       "$\\displaystyle \\frac{17 d^{4}}{6} + 4 d^{3} m + 8 d^{3} n + \\frac{17 d^{3}}{2} + d^{2} m^{2} + 8 d^{2} m n + 9 d^{2} m + 8 d^{2} n^{2} + 18 d^{2} n + \\frac{29 d^{2}}{3} + d m^{2} n + \\frac{3 d m^{2}}{2} + 5 d m n^{2} + 12 d m n + \\frac{13 d m}{2} + \\frac{10 d n^{3}}{3} + 12 d n^{2} + \\frac{41 d n}{3} + 5 d + \\frac{m^{2} n^{2}}{4} + \\frac{3 m^{2} n}{4} + \\frac{m^{2}}{2} + m n^{3} + \\frac{15 m n^{2}}{4} + \\frac{17 m n}{4} + \\frac{3 m}{2} + \\frac{n^{4}}{2} + \\frac{5 n^{3}}{2} + \\frac{9 n^{2}}{2} + \\frac{7 n}{2} + 1$"
      ],
      "text/plain": [
       "    4                         3                                                       2            \n",
       "17⋅d       3        3     17⋅d     2  2      2          2        2  2       2     29⋅d       2     \n",
       "───── + 4⋅d ⋅m + 8⋅d ⋅n + ───── + d ⋅m  + 8⋅d ⋅m⋅n + 9⋅d ⋅m + 8⋅d ⋅n  + 18⋅d ⋅n + ───── + d⋅m ⋅n + \n",
       "  6                         2                                                       3              \n",
       "\n",
       "     2                                        3                             2  2      2      2     \n",
       "3⋅d⋅m           2              13⋅d⋅m   10⋅d⋅n          2   41⋅d⋅n         m ⋅n    3⋅m ⋅n   m      \n",
       "────── + 5⋅d⋅m⋅n  + 12⋅d⋅m⋅n + ────── + ─────── + 12⋅d⋅n  + ────── + 5⋅d + ───── + ────── + ── + m⋅\n",
       "  2                              2         3                  3              4       4      2      \n",
       "\n",
       "           2                   4      3      2          \n",
       " 3   15⋅m⋅n    17⋅m⋅n   3⋅m   n    5⋅n    9⋅n    7⋅n    \n",
       "n  + ─────── + ────── + ─── + ── + ──── + ──── + ─── + 1\n",
       "        4        4       2    2     2      2      2     "
      ]
     },
     "metadata": {},
     "output_type": "display_data"
    }
   ],
   "source": [
    "# Taking the limit t -> 0 calculates the dimension of H-naught for the cut space at level-d:\n",
    "\n",
    "display(disp.Math(r'\\dim H^{0}(M_{\\nu}^{\\leq d} ; \\mathcal{L}_{\\nu}^{\\leq d}) = '), limit(Character(m,n,d), t, 0))"
   ]
  },
  {
   "cell_type": "code",
   "execution_count": 9,
   "metadata": {},
   "outputs": [
    {
     "data": {
      "text/latex": [
       "$\\displaystyle \\dim H_{d}^{0}(M_{\\nu}; \\mathcal{L}_{\\nu}) = \\dim H^{0}(M_{\\nu}^{\\leq d} ; \\mathcal{L}_{\\nu}^{\\leq d}) - \\dim H^{0}(M_{\\nu}^{\\leq d-1} ; \\mathcal{L}_{\\nu}^{\\leq d-1}) = $"
      ],
      "text/plain": [
       "<IPython.core.display.Math object>"
      ]
     },
     "metadata": {},
     "output_type": "display_data"
    },
    {
     "data": {
      "text/latex": [
       "$\\displaystyle \\frac{34 d^{3}}{3} + 12 d^{2} m + 24 d^{2} n + \\frac{17 d^{2}}{2} + 2 d m^{2} + 16 d m n + 6 d m + 16 d n^{2} + 12 d n + \\frac{31 d}{6} + m^{2} n + \\frac{m^{2}}{2} + 5 m n^{2} + 4 m n + \\frac{3 m}{2} + \\frac{10 n^{3}}{3} + 4 n^{2} + \\frac{11 n}{3} + 1$"
      ],
      "text/plain": [
       "    3                           2                                                                 2\n",
       "34⋅d        2         2     17⋅d         2                            2            31⋅d    2     m \n",
       "───── + 12⋅d ⋅m + 24⋅d ⋅n + ───── + 2⋅d⋅m  + 16⋅d⋅m⋅n + 6⋅d⋅m + 16⋅d⋅n  + 12⋅d⋅n + ──── + m ⋅n + ──\n",
       "  3                           2                                                     6            2 \n",
       "\n",
       "                              3                  \n",
       "        2           3⋅m   10⋅n       2   11⋅n    \n",
       " + 5⋅m⋅n  + 4⋅m⋅n + ─── + ───── + 4⋅n  + ──── + 1\n",
       "                     2      3             3      "
      ]
     },
     "metadata": {},
     "output_type": "display_data"
    }
   ],
   "source": [
    "# Use the output from above to define the Euler character (dimension of H-naught) to save future processing time:\n",
    "\n",
    "def Euler(m,n,d):\n",
    "    return 17*d**4/6 + 4*d**3*m + 8*d**3*n + 17*d**3/2 + d**2*m**2 + 8*d**2*m*n + 9*d**2*m + 8*d**2*n**2 + 18*d**2*n + 29*d**2/3 + d*m**2*n + 3*d*m**2/2 + 5*d*m*n**2 + 12*d*m*n + 13*d*m/2 + 10*d*n**3/3 + 12*d*n**2 + 41*d*n/3 + 5*d + m**2*n**2/4 + 3*m**2*n/4 + m**2/2 + m*n**3 + 15*m*n**2/4 + 17*m*n/4 + 3*m/2 + n**4/2 + 5*n**3/2 + 9*n**2/2 + 7*n/2 + 1\n",
    "\n",
    "# Take the difference between subsequent levels to get the d-weight space for the uncut hypertoric variety:\n",
    "\n",
    "def dWeight(m,n,d):\n",
    "    return simplify(Euler(m,n,d) - Euler(m,n,d-1))\n",
    "\n",
    "display(disp.Math(r'\\dim H_{d}^{0}(M_{\\nu}; \\mathcal{L}_{\\nu}) = \\dim H^{0}(M_{\\nu}^{\\leq d} ; \\mathcal{L}_{\\nu}^{\\leq d}) - \\dim H^{0}(M_{\\nu}^{\\leq d-1} ; \\mathcal{L}_{\\nu}^{\\leq d-1}) = '), dWeight(m,n,d))"
   ]
  }
 ],
 "metadata": {
  "kernelspec": {
   "display_name": "Python 3 (ipykernel)",
   "language": "python",
   "name": "python3"
  },
  "language_info": {
   "codemirror_mode": {
    "name": "ipython",
    "version": 3
   },
   "file_extension": ".py",
   "mimetype": "text/x-python",
   "name": "python",
   "nbconvert_exporter": "python",
   "pygments_lexer": "ipython3",
   "version": "3.10.6"
  }
 },
 "nbformat": 4,
 "nbformat_minor": 4
}
