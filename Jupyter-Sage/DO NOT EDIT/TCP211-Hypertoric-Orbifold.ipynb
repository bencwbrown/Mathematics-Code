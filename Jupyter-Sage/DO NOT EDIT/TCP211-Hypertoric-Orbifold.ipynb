{
 "cells": [
  {
   "cell_type": "markdown",
   "metadata": {},
   "source": [
    "# Weighted Projective Line - 20/12/2021"
   ]
  },
  {
   "cell_type": "code",
   "execution_count": 37,
   "metadata": {},
   "outputs": [],
   "source": [
    "from sympy import *\n",
    "import numpy as np\n",
    "from sympy.vector import Vector\n",
    "from sympy.vector import CoordSys3D\n",
    "import IPython.display as disp\n",
    "\n",
    "N = CoordSys3D('N')\n",
    "\n",
    "t = symbols( 't')\n",
    "k = symbols('k', real = True)\n",
    "p, q, n, d = symbols('p q n d', integer=True)\n",
    "# init_printing(use_unicode=True)\n",
    "init_printing(use_latex='mathjax')\n",
    "\n",
    "# Basis for the edge/weight vectors for the points \n",
    "\n",
    "v1 = N.i\n",
    "\n",
    "v2 = N.j\n",
    "\n",
    "# Define the vector which is not parallel to any edge vector, which will tend to zero:\n",
    "\n",
    "Phi = t*(v1 + 3*v2)\n",
    "\n",
    "# Define the vertices of the general triangle:\n",
    "\n",
    "def P12(n,d):\n",
    "    return 0*v1\n",
    "\n",
    "def P23(n,d):\n",
    "    return n*v1\n",
    "\n",
    "def P13(n,d):\n",
    "    return 2*n*v2\n",
    "\n",
    "def P12_1(n,d):\n",
    "    return -2*d*v2\n",
    "\n",
    "def P12_2(n,d):\n",
    "    return -2*d*v1\n",
    "\n",
    "def P23_2(n,d):\n",
    "    return (n+d)*v1\n",
    "\n",
    "def P23_3(n,d):\n",
    "    return (n+d)*v1 - 2*d*v2\n",
    "\n",
    "def P13_1(n,d):\n",
    "    return (n + 2*d)*v2\n",
    "\n",
    "def P13_3(n,d):\n",
    "    return -2*d*v1 + (n + 4*d)*v2"
   ]
  },
  {
   "cell_type": "code",
   "execution_count": 45,
   "metadata": {},
   "outputs": [],
   "source": [
    "# Define the term which is summed over each fixed point,\n",
    "# representing the character for the representation\n",
    "\n",
    "# def P(P, edge1, edge2, edge3, edge4):\n",
    "#    return exp( Phi.dot(P) ) / ( (1 - exp( Phi.dot(edge1) ) ) * ( 1 - exp( Phi.dot(edge2) ) ) * ( 1 - exp( Phi.dot(edge3) ) ) * ( 1 - exp( Phi.dot(edge4) ) ) )\n",
    "\n",
    "def Q(P, edge1, edge2):\n",
    "    return exp( Phi.dot(P) ) / ( (1 - exp( Phi.dot(edge1) ) ) * ( 1 - exp( Phi.dot(edge2) ) ) )\n",
    "\n",
    "def Exp(p, q):\n",
    "    return exp( 2*pi*I*Rational(p,q) )\n",
    "\n",
    "# Term for the orbifold points:\n",
    "\n",
    "def SmoothTerm(P, edge1, edge2):\n",
    "    return exp( Phi.dot(P) ) / ( ( 1 -  exp( Phi.dot(edge1) ) ) * ( 1 -  exp( Phi.dot(edge2) ) ) )\n",
    "    \n",
    "def UnityRootTerm(P, p, q, edge1, edge2):\n",
    "    return ( ( exp( Phi.dot(P) ) / q ) ) / ( (1 - ( (Exp(p,q) * exp( Rational(1,q) * Phi.dot(edge1) ) ) ) ) * ( 1 - ( Exp(p,q) * exp( Rational(1,q) * Phi.dot(edge2) ) ) ) )\n",
    "\n",
    "# Iterates the sum over each q-th root of unity:\n",
    "\n",
    "def OrbiCharacter(P, q, edge1, edge2):\n",
    "    return sum([UnityRootTerm(P, k, q, edge1, edge2) for k in range(0,q)])"
   ]
  },
  {
   "cell_type": "code",
   "execution_count": 80,
   "metadata": {},
   "outputs": [
    {
     "data": {
      "text/latex": [
       "$\\displaystyle n^{2} + 2 n + 1$"
      ],
      "text/plain": [
       " 2          \n",
       "n  + 2⋅n + 1"
      ]
     },
     "execution_count": 80,
     "metadata": {},
     "output_type": "execute_result"
    }
   ],
   "source": [
    "def Delta23Minus(n,d):\n",
    "    return UnityRootTerm(P23(n,d), 0, 2, -v1, -v1 + 2*v2) * ( UnityRootTerm(0*v1, 0, 2, v1, v1 - 2*v2) + UnityRootTerm(d*v1, 0, 2, -v1, -2*v2) + UnityRootTerm(d*v1 - 2*d*v2, 0, 2, -v1 + 2*v2, 2*v2) )\n",
    "\n",
    "def Delta23Plus(n,d):\n",
    "    return UnityRootTerm(P23(n,d), 1, 2, -v1, -v1 + 2*v2) * ( UnityRootTerm(0*v1, 1, 2, v1, v1 - 2*v2) + UnityRootTerm(d*v1, 1, 2, -v1, -2*v2) + UnityRootTerm(d*v1 - 2*d*v2, 1, 2, -v1 + 2*v2, 2*v2) )\n",
    "\n",
    "def CoreSum(n,d):\n",
    "    return UnityRootTerm(P23(n,d), 0, 2, -v1, -v1 + 2*v2) + UnityRootTerm(P23(n,d), 1, 2, -v1, -v1 + 2*v2) + SmoothTerm(P12(n,d), v1, v2) + SmoothTerm(P13(n,d), v1 - 2*v2, -v2)\n",
    "\n",
    "def Delta23(n,d):\n",
    "    return Delta23Minus(n,d) + Delta23Plus(n,d)\n",
    "\n",
    "limit(CoreSum(n,d), t, 0)"
   ]
  },
  {
   "cell_type": "code",
   "execution_count": 58,
   "metadata": {},
   "outputs": [],
   "source": [
    "# For Delta12:\n",
    "\n",
    "def Delta12(n,d):\n",
    "    return SmoothTerm(P12(n,d), v1, v2) * ( SmoothTerm(0*v1, -v1, -v2) + SmoothTerm(-2*d*v1, v1, v1 - v2) + SmoothTerm(-2*d*v2, v2, -v1 + v2) )\n",
    "\n",
    "def Delta13(n,d):\n",
    "    return SmoothTerm(P13(n,d), v1 - 2*v2, -v2) * ( SmoothTerm(0*v1, -v1 + 2*v2, v2) + SmoothTerm(2*d*v2, -v1 + v2, -v2) + SmoothTerm(-2*d*v1 + 4*d*v2, v1 - v2, v1 - 2*v2) )\n",
    "\n",
    "def RiemannRoch(n,d):\n",
    "    return Delta12(n,d) + Delta23(n,d) + Delta13(n,d)"
   ]
  },
  {
   "cell_type": "code",
   "execution_count": 59,
   "metadata": {},
   "outputs": [
    {
     "data": {
      "text/latex": [
       "$\\displaystyle \\frac{\\frac{e^{- 6 d t}}{\\left(1 - e^{2 t}\\right) \\left(1 - e^{3 t}\\right)} + \\frac{e^{- 2 d t}}{\\left(1 - e^{- 2 t}\\right) \\left(1 - e^{t}\\right)} + \\frac{1}{\\left(1 - e^{- 3 t}\\right) \\left(1 - e^{- t}\\right)}}{\\left(1 - e^{t}\\right) \\left(1 - e^{3 t}\\right)} + \\frac{\\left(\\frac{e^{- 5 d t}}{2 \\left(e^{\\frac{5 t}{2}} + 1\\right) \\left(e^{3 t} + 1\\right)} + \\frac{1}{2 \\left(1 + e^{- \\frac{5 t}{2}}\\right) \\left(e^{\\frac{t}{2}} + 1\\right)} + \\frac{e^{d t}}{2 \\left(1 + e^{- 3 t}\\right) \\left(1 + e^{- \\frac{t}{2}}\\right)}\\right) e^{n t}}{2 \\left(1 + e^{- \\frac{t}{2}}\\right) \\left(e^{\\frac{5 t}{2}} + 1\\right)} + \\frac{\\left(\\frac{e^{- 5 d t}}{2 \\left(1 - e^{\\frac{5 t}{2}}\\right) \\left(1 - e^{3 t}\\right)} + \\frac{1}{2 \\left(1 - e^{- \\frac{5 t}{2}}\\right) \\left(1 - e^{\\frac{t}{2}}\\right)} + \\frac{e^{d t}}{2 \\left(1 - e^{- 3 t}\\right) \\left(1 - e^{- \\frac{t}{2}}\\right)}\\right) e^{n t}}{2 \\left(1 - e^{- \\frac{t}{2}}\\right) \\left(1 - e^{\\frac{5 t}{2}}\\right)} + \\frac{\\left(\\frac{1}{\\left(1 - e^{3 t}\\right) \\left(1 - e^{5 t}\\right)} + \\frac{e^{6 d t}}{\\left(1 - e^{- 3 t}\\right) \\left(1 - e^{2 t}\\right)} + \\frac{e^{10 d t}}{\\left(1 - e^{- 5 t}\\right) \\left(1 - e^{- 2 t}\\right)}\\right) e^{6 n t}}{\\left(1 - e^{- 5 t}\\right) \\left(1 - e^{- 3 t}\\right)}$"
      ],
      "text/plain": [
       "                                                                       ⎛      \n",
       "                                                                       ⎜      \n",
       "        -6⋅d⋅t                 -2⋅d⋅t                                  ⎜──────\n",
       "       ℯ                      ℯ                          1             ⎜  ⎛ 5⋅\n",
       "───────────────────── + ──────────────────── + ─────────────────────   ⎜  ⎜ ──\n",
       "⎛     2⋅t⎞ ⎛     3⋅t⎞   ⎛     -2⋅t⎞ ⎛     t⎞   ⎛     -3⋅t⎞ ⎛     -t⎞   ⎜  ⎜  2\n",
       "⎝1 - ℯ   ⎠⋅⎝1 - ℯ   ⎠   ⎝1 - ℯ    ⎠⋅⎝1 - ℯ ⎠   ⎝1 - ℯ    ⎠⋅⎝1 - ℯ  ⎠   ⎝2⋅⎝ℯ  \n",
       "──────────────────────────────────────────────────────────────────── + ───────\n",
       "                        ⎛     t⎞ ⎛     3⋅t⎞                                   \n",
       "                        ⎝1 - ℯ ⎠⋅⎝1 - ℯ   ⎠                                   \n",
       "                                                                              \n",
       "                                                                              \n",
       "\n",
       "   -5⋅d⋅t                                                d⋅t          ⎞       \n",
       "  ℯ                            1                        ℯ             ⎟  n⋅t  \n",
       "───────────────── + ─────────────────────── + ────────────────────────⎟⋅ℯ     \n",
       "t    ⎞                ⎛     -5⋅t ⎞ ⎛ t    ⎞                 ⎛     -t ⎞⎟       \n",
       "─    ⎟                ⎜     ─────⎟ ⎜ ─    ⎟                 ⎜     ───⎟⎟       \n",
       "     ⎟ ⎛ 3⋅t    ⎞     ⎜       2  ⎟ ⎜ 2    ⎟     ⎛     -3⋅t⎞ ⎜      2 ⎟⎟       \n",
       "  + 1⎠⋅⎝ℯ    + 1⎠   2⋅⎝1 + ℯ     ⎠⋅⎝ℯ  + 1⎠   2⋅⎝1 + ℯ    ⎠⋅⎝1 + ℯ   ⎠⎠       \n",
       "──────────────────────────────────────────────────────────────────────────── +\n",
       "                         ⎛     -t ⎞ ⎛ 5⋅t    ⎞                                \n",
       "                         ⎜     ───⎟ ⎜ ───    ⎟                                \n",
       "                         ⎜      2 ⎟ ⎜  2     ⎟                                \n",
       "                       2⋅⎝1 + ℯ   ⎠⋅⎝ℯ    + 1⎠                                \n",
       "\n",
       " ⎛         -5⋅d⋅t                                                d⋅t          \n",
       " ⎜        ℯ                            1                        ℯ             \n",
       " ⎜─────────────────────── + ─────────────────────── + ────────────────────────\n",
       " ⎜  ⎛     5⋅t⎞                ⎛     -5⋅t ⎞ ⎛     t⎞                 ⎛     -t ⎞\n",
       " ⎜  ⎜     ───⎟                ⎜     ─────⎟ ⎜     ─⎟                 ⎜     ───⎟\n",
       " ⎜  ⎜      2 ⎟ ⎛     3⋅t⎞     ⎜       2  ⎟ ⎜     2⎟     ⎛     -3⋅t⎞ ⎜      2 ⎟\n",
       " ⎝2⋅⎝1 - ℯ   ⎠⋅⎝1 - ℯ   ⎠   2⋅⎝1 - ℯ     ⎠⋅⎝1 - ℯ ⎠   2⋅⎝1 - ℯ    ⎠⋅⎝1 - ℯ   ⎠\n",
       " ─────────────────────────────────────────────────────────────────────────────\n",
       "                                 ⎛     -t ⎞ ⎛     5⋅t⎞                        \n",
       "                                 ⎜     ───⎟ ⎜     ───⎟                        \n",
       "                                 ⎜      2 ⎟ ⎜      2 ⎟                        \n",
       "                               2⋅⎝1 - ℯ   ⎠⋅⎝1 - ℯ   ⎠                        \n",
       "\n",
       "⎞                                                                             \n",
       "⎟  n⋅t                                                                        \n",
       "⎟⋅ℯ      ⎛                                 6⋅d⋅t                    10⋅d⋅t    \n",
       "⎟        ⎜          1                     ℯ                        ℯ          \n",
       "⎟        ⎜───────────────────── + ────────────────────── + ───────────────────\n",
       "⎟        ⎜⎛     3⋅t⎞ ⎛     5⋅t⎞   ⎛     -3⋅t⎞ ⎛     2⋅t⎞   ⎛     -5⋅t⎞ ⎛     -\n",
       "⎠        ⎝⎝1 - ℯ   ⎠⋅⎝1 - ℯ   ⎠   ⎝1 - ℯ    ⎠⋅⎝1 - ℯ   ⎠   ⎝1 - ℯ    ⎠⋅⎝1 - ℯ \n",
       "────── + ─────────────────────────────────────────────────────────────────────\n",
       "                                      ⎛     -5⋅t⎞ ⎛     -3⋅t⎞                 \n",
       "                                      ⎝1 - ℯ    ⎠⋅⎝1 - ℯ    ⎠                 \n",
       "                                                                              \n",
       "                                                                              \n",
       "\n",
       "            \n",
       "            \n",
       "    ⎞       \n",
       "    ⎟  6⋅n⋅t\n",
       "────⎟⋅ℯ     \n",
       "2⋅t⎞⎟       \n",
       "   ⎠⎠       \n",
       "────────────\n",
       "            \n",
       "            \n",
       "            \n",
       "            "
      ]
     },
     "execution_count": 59,
     "metadata": {},
     "output_type": "execute_result"
    }
   ],
   "source": [
    "RiemannRoch(n,d)"
   ]
  },
  {
   "cell_type": "code",
   "execution_count": 70,
   "metadata": {},
   "outputs": [
    {
     "data": {
      "text/latex": [
       "$\\displaystyle \\infty$"
      ],
      "text/plain": [
       "∞"
      ]
     },
     "execution_count": 70,
     "metadata": {},
     "output_type": "execute_result"
    }
   ],
   "source": [
    "limit(RiemannRoch(1,2), t, 0)"
   ]
  },
  {
   "cell_type": "code",
   "execution_count": 69,
   "metadata": {},
   "outputs": [
    {
     "data": {
      "text/latex": [
       "$\\displaystyle \\infty \\operatorname{sign}{\\left(\\frac{8 d^{2}}{5} + \\frac{6 d}{5} + \\frac{1}{5} \\right)}$"
      ],
      "text/plain": [
       "      ⎛   2          ⎞\n",
       "      ⎜8⋅d    6⋅d   1⎟\n",
       "∞⋅sign⎜──── + ─── + ─⎟\n",
       "      ⎝ 5      5    5⎠"
      ]
     },
     "execution_count": 69,
     "metadata": {},
     "output_type": "execute_result"
    }
   ],
   "source": [
    "limit(expand(RiemannRoch(1,2), t, 10), t, 0)"
   ]
  },
  {
   "cell_type": "code",
   "execution_count": 40,
   "metadata": {},
   "outputs": [
    {
     "data": {
      "text/latex": [
       "$\\displaystyle 1$"
      ],
      "text/plain": [
       "1"
      ]
     },
     "metadata": {},
     "output_type": "display_data"
    },
    {
     "data": {
      "text/latex": [
       "$\\displaystyle 7$"
      ],
      "text/plain": [
       "7"
      ]
     },
     "metadata": {},
     "output_type": "display_data"
    },
    {
     "data": {
      "text/latex": [
       "$\\displaystyle 19$"
      ],
      "text/plain": [
       "19"
      ]
     },
     "metadata": {},
     "output_type": "display_data"
    },
    {
     "data": {
      "text/latex": [
       "$\\displaystyle 37$"
      ],
      "text/plain": [
       "37"
      ]
     },
     "metadata": {},
     "output_type": "display_data"
    },
    {
     "data": {
      "text/latex": [
       "$\\displaystyle 61$"
      ],
      "text/plain": [
       "61"
      ]
     },
     "metadata": {},
     "output_type": "display_data"
    },
    {
     "data": {
      "text/latex": [
       "$\\displaystyle 91$"
      ],
      "text/plain": [
       "91"
      ]
     },
     "metadata": {},
     "output_type": "display_data"
    },
    {
     "data": {
      "text/latex": [
       "$\\displaystyle 127$"
      ],
      "text/plain": [
       "127"
      ]
     },
     "metadata": {},
     "output_type": "display_data"
    },
    {
     "data": {
      "text/latex": [
       "$\\displaystyle 169$"
      ],
      "text/plain": [
       "169"
      ]
     },
     "metadata": {},
     "output_type": "display_data"
    },
    {
     "data": {
      "text/latex": [
       "$\\displaystyle 217$"
      ],
      "text/plain": [
       "217"
      ]
     },
     "metadata": {},
     "output_type": "display_data"
    },
    {
     "data": {
      "text/latex": [
       "$\\displaystyle 271$"
      ],
      "text/plain": [
       "271"
      ]
     },
     "metadata": {},
     "output_type": "display_data"
    }
   ],
   "source": [
    "for k in range(0, 10):\n",
    "    disp.display(re(radsimp(limit(Sum(2*k, 3*k), t, 0), k).as_numer_denom()[0]) / re(radsimp(limit(Sum(2*k, 3*k), t, 0), k).as_numer_denom()[1]))"
   ]
  },
  {
   "cell_type": "code",
   "execution_count": 78,
   "metadata": {},
   "outputs": [
    {
     "data": {
      "text/latex": [
       "$\\displaystyle \\left\\{\\left( d - k_{3} - l_{2} - l_{4} + n, \\  - k_{3} + l_{2} + l_{4} + m, \\  2 k_{3}, \\  2 k_{3}, \\  d - l_{2} - l_{3} - l_{4}, \\  l_{2}, \\  l_{3}, \\  l_{4}\\right)\\right\\}$"
      ],
      "text/plain": [
       "{(d - k₃ - l₂ - l₄ + n, -k₃ + l₂ + l₄ + m, 2⋅k₃, 2⋅k₃, d - l₂ - l₃ - l₄, l₂, l\n",
       "₃, l₄)}"
      ]
     },
     "execution_count": 78,
     "metadata": {},
     "output_type": "execute_result"
    }
   ],
   "source": [
    "k1, k2, k3, k4, l1, l2, l3, l4, n, m, d = symbols('k1 k2 k3 k3 l1 l2 l3 l4 n m d') \n",
    "linsolve( [ Eq( k1 + k3 - l1 - l3, n ), Eq( k2 + k4 - l2 - l4, m ), Eq( l1 + l2 + l3 + l4, d ) ], (k1, k2, k3, k4, l1, l2, l3, l4) )"
   ]
  },
  {
   "cell_type": "code",
   "execution_count": 94,
   "metadata": {},
   "outputs": [],
   "source": [
    "def TestPositive(n,d):\n",
    "    return 1 / (1 + t**(Rational(1,2)) )\n",
    "\n",
    "def TestNegative(n,d):\n",
    "    return 1 / (1 - t**(Rational(1,2)) )\n",
    "\n",
    "def Test(n,d):\n",
    "    return ( TestPositive(n,d) + TestNegative(n,d) ) / 2\n"
   ]
  },
  {
   "cell_type": "code",
   "execution_count": 95,
   "metadata": {},
   "outputs": [
    {
     "data": {
      "text/latex": [
       "$\\displaystyle \\frac{1}{2 \\left(\\sqrt{t} + 1\\right)} + \\frac{1}{2 \\left(1 - \\sqrt{t}\\right)}$"
      ],
      "text/plain": [
       "    1            1     \n",
       "────────── + ──────────\n",
       "2⋅(√t + 1)   2⋅(1 - √t)"
      ]
     },
     "execution_count": 95,
     "metadata": {},
     "output_type": "execute_result"
    }
   ],
   "source": [
    "Test(n,d)"
   ]
  },
  {
   "cell_type": "code",
   "execution_count": 96,
   "metadata": {},
   "outputs": [
    {
     "data": {
      "text/latex": [
       "$\\displaystyle 1 + t + t^{2} + t^{3} + t^{4} + t^{5} + O\\left(t^{6}\\right)$"
      ],
      "text/plain": [
       "         2    3    4    5    ⎛ 6⎞\n",
       "1 + t + t  + t  + t  + t  + O⎝t ⎠"
      ]
     },
     "execution_count": 96,
     "metadata": {},
     "output_type": "execute_result"
    }
   ],
   "source": [
    "series(Test(n,d), t, 0)"
   ]
  },
  {
   "cell_type": "code",
   "execution_count": null,
   "metadata": {},
   "outputs": [],
   "source": []
  }
 ],
 "metadata": {
  "kernelspec": {
   "display_name": "Python 3 (ipykernel)",
   "language": "python",
   "name": "python3"
  },
  "language_info": {
   "codemirror_mode": {
    "name": "ipython",
    "version": 3
   },
   "file_extension": ".py",
   "mimetype": "text/x-python",
   "name": "python",
   "nbconvert_exporter": "python",
   "pygments_lexer": "ipython3",
   "version": "3.9.7"
  }
 },
 "nbformat": 4,
 "nbformat_minor": 4
}
