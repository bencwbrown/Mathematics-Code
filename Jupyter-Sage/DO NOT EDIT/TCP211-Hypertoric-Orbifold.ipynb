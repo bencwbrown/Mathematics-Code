{
 "cells": [
  {
   "cell_type": "markdown",
   "metadata": {},
   "source": [
    "# Weighted Projective Line - 20/12/2021"
   ]
  },
  {
   "cell_type": "code",
   "execution_count": 1,
   "metadata": {},
   "outputs": [],
   "source": [
    "from sympy import *\n",
    "import numpy as np\n",
    "from sympy.vector import Vector\n",
    "from sympy.vector import CoordSys3D\n",
    "import IPython.display as disp\n",
    "\n",
    "N = CoordSys3D('N')\n",
    "\n",
    "t = symbols( 't')\n",
    "k = symbols('k', real = True)\n",
    "p, q = symbols('p q', integer=True)\n",
    "n, d = symbols('n d', positive=True, integer=True)\n",
    "# init_printing(use_unicode=True)\n",
    "init_printing(use_latex='mathjax')\n",
    "\n",
    "# Basis for the edge/weight vectors for the points \n",
    "\n",
    "v1 = N.i\n",
    "\n",
    "v2 = N.j\n",
    "\n",
    "# Define the vector which is not parallel to any edge vector, which will tend to zero:\n",
    "\n",
    "Phi = t*(v1 + 3*v2)\n",
    "\n",
    "# Define the vertices of the general triangle:\n",
    "\n",
    "def P12(n,d):\n",
    "    return 0*v1\n",
    "\n",
    "def P23(n,d):\n",
    "    return n*v1\n",
    "\n",
    "def P13(n,d):\n",
    "    return 2*n*v2\n",
    "\n",
    "def P12_1(n,d):\n",
    "    return -2*d*v2\n",
    "\n",
    "def P12_2(n,d):\n",
    "    return -2*d*v1\n",
    "\n",
    "def P23_2(n,d):\n",
    "    return (n+d)*v1\n",
    "\n",
    "def P23_3(n,d):\n",
    "    return (n+d)*v1 - 2*d*v2\n",
    "\n",
    "def P13_1(n,d):\n",
    "    return 2*(n + d)*v2\n",
    "\n",
    "def P13_3(n,d):\n",
    "    return -2*d*v1 + 2*(n + 2*d)*v2"
   ]
  },
  {
   "cell_type": "code",
   "execution_count": 2,
   "metadata": {},
   "outputs": [],
   "source": [
    "# Define the term which is summed over each fixed point,\n",
    "# representing the character for the representation\n",
    "\n",
    "# def P(P, edge1, edge2, edge3, edge4):\n",
    "#    return exp( Phi.dot(P) ) / ( (1 - exp( Phi.dot(edge1) ) ) * ( 1 - exp( Phi.dot(edge2) ) ) * ( 1 - exp( Phi.dot(edge3) ) ) * ( 1 - exp( Phi.dot(edge4) ) ) )\n",
    "\n",
    "def Q(P, edge1, edge2):\n",
    "    return exp( Phi.dot(P) ) / ( (1 - exp( Phi.dot(edge1) ) ) * ( 1 - exp( Phi.dot(edge2) ) ) )\n",
    "\n",
    "def Exp(p, q):\n",
    "    return exp( 2*pi*I*Rational(p,q) )\n",
    "\n",
    "# Term for the orbifold points:\n",
    "\n",
    "def SmoothTerm(P, edge1, edge2):\n",
    "    return exp( Phi.dot(P) ) / ( ( 1 -  exp( Phi.dot(edge1) ) ) * ( 1 -  exp( Phi.dot(edge2) ) ) )\n",
    "    \n",
    "def UnityRootTerm(P, p, q, edge1, edge2):\n",
    "    return ( ( exp( Phi.dot(P) ) / q ) ) / ( (1 - ( (Exp(p,q) * exp( Rational(1,q) * Phi.dot(edge1) ) ) ) ) * ( 1 - ( Exp(p,q) * exp( Rational(1,q) * Phi.dot(edge2) ) ) ) )\n",
    "\n",
    "# Iterates the sum over each q-th root of unity:\n",
    "\n",
    "def OrbiCharacter(P, q, edge1, edge2):\n",
    "    return sum([UnityRootTerm(P, k, q, edge1, edge2) for k in range(0,q)])"
   ]
  },
  {
   "cell_type": "code",
   "execution_count": 16,
   "metadata": {},
   "outputs": [
    {
     "data": {
      "text/latex": [
       "$\\displaystyle n^{2} + 2 n + 1$"
      ],
      "text/plain": [
       " 2          \n",
       "n  + 2⋅n + 1"
      ]
     },
     "execution_count": 16,
     "metadata": {},
     "output_type": "execute_result"
    }
   ],
   "source": [
    "def Delta23Minus(n,d):\n",
    "    return UnityRootTerm(P23(n,d), 0, 2, -v1, -v1 + 2*v2) * 2 * ( UnityRootTerm(0*v1, 0, 2, v1, v1 - 2*v2) + UnityRootTerm(d*v1, 0, 2, -v1, -2*v2) + UnityRootTerm(d*v1 - 2*d*v2, 0, 2, -v1 + 2*v2, 2*v2) )\n",
    "\n",
    "def Delta23Plus(n,d):\n",
    "    return UnityRootTerm(P23(n,d), 1, 2, -v1, -v1 + 2*v2) * 2 * ( UnityRootTerm(0*v1, 1, 2, v1, v1 - 2*v2) + UnityRootTerm(d*v1, 1, 2, -v1, -2*v2) + UnityRootTerm(d*v1 - 2*d*v2, 1, 2, -v1 + 2*v2, 2*v2) )\n",
    "\n",
    "def CoreSum(n,d):\n",
    "    return UnityRootTerm(P23(n,d), 0, 2, -v1, -v1 + 2*v2) + UnityRootTerm(P23(n,d), 1, 2, -v1, -v1 + 2*v2) + SmoothTerm(P12(n,d), v1, v2) + SmoothTerm(P13(n,d), v1 - 2*v2, -v2)\n",
    "\n",
    "def Delta23(n,d):\n",
    "    return Delta23Minus(n,d) + Delta23Plus(n,d)\n",
    "\n",
    "limit(CoreSum(n,d), t, 0)"
   ]
  },
  {
   "cell_type": "code",
   "execution_count": 17,
   "metadata": {},
   "outputs": [],
   "source": [
    "# For Delta12:\n",
    "\n",
    "def Delta12(n,d):\n",
    "    return SmoothTerm(P12(n,d), v1, v2) * ( SmoothTerm(0*v1, -v1, -v2) + SmoothTerm(-2*d*v1, v1, v1 - v2) + SmoothTerm(-2*d*v2, v2, -v1 + v2) )\n",
    "\n",
    "# For Delta12:\n",
    "\n",
    "def Delta13(n,d):\n",
    "    return SmoothTerm(P13(n,d), v1 - 2*v2, -v2) * ( SmoothTerm(0*v1, -v1 + 2*v2, v2) + SmoothTerm(2*d*v2, -v1 + v2, -v2) + SmoothTerm(-2*d*v1 + 4*d*v2, v1 - v2, v1 - 2*v2) )\n",
    "\n",
    "# Calculate Euler characteristic:\n",
    "\n",
    "def RiemannRoch(n,d):\n",
    "    return Delta12(n,d) + Delta23(n,d) + Delta13(n,d)"
   ]
  },
  {
   "cell_type": "code",
   "execution_count": 41,
   "metadata": {},
   "outputs": [
    {
     "data": {
      "text/latex": [
       "$\\displaystyle \\frac{1}{\\left(1 - e^{t}\\right) \\left(1 - e^{3 t}\\right)} + \\frac{e^{n t}}{2 \\left(1 + e^{- \\frac{t}{2}}\\right) \\left(e^{\\frac{5 t}{2}} + 1\\right)} + \\frac{e^{n t}}{2 \\left(1 - e^{- \\frac{t}{2}}\\right) \\left(1 - e^{\\frac{5 t}{2}}\\right)} + \\frac{e^{6 n t}}{\\left(1 - e^{- 5 t}\\right) \\left(1 - e^{- 3 t}\\right)}$"
      ],
      "text/plain": [
       "                                 n⋅t                       n⋅t                \n",
       "         1                      ℯ                         ℯ                   \n",
       "─────────────────── + ─────────────────────── + ─────────────────────── + ────\n",
       "⎛     t⎞ ⎛     3⋅t⎞     ⎛     -t ⎞ ⎛ 5⋅t    ⎞     ⎛     -t ⎞ ⎛     5⋅t⎞   ⎛   \n",
       "⎝1 - ℯ ⎠⋅⎝1 - ℯ   ⎠     ⎜     ───⎟ ⎜ ───    ⎟     ⎜     ───⎟ ⎜     ───⎟   ⎝1 -\n",
       "                        ⎜      2 ⎟ ⎜  2     ⎟     ⎜      2 ⎟ ⎜      2 ⎟       \n",
       "                      2⋅⎝1 + ℯ   ⎠⋅⎝ℯ    + 1⎠   2⋅⎝1 - ℯ   ⎠⋅⎝1 - ℯ   ⎠       \n",
       "\n",
       "      6⋅n⋅t        \n",
       "     ℯ             \n",
       "───────────────────\n",
       "  -5⋅t⎞ ⎛     -3⋅t⎞\n",
       " ℯ    ⎠⋅⎝1 - ℯ    ⎠\n",
       "                   \n",
       "                   "
      ]
     },
     "metadata": {},
     "output_type": "display_data"
    },
    {
     "data": {
      "text/latex": [
       "$\\displaystyle \\frac{\\frac{e^{- 6 d t}}{\\left(1 - e^{2 t}\\right) \\left(1 - e^{3 t}\\right)} + \\frac{e^{- 2 d t}}{\\left(1 - e^{- 2 t}\\right) \\left(1 - e^{t}\\right)} + \\frac{1}{\\left(1 - e^{- 3 t}\\right) \\left(1 - e^{- t}\\right)}}{\\left(1 - e^{t}\\right) \\left(1 - e^{3 t}\\right)} + \\frac{\\left(\\frac{e^{- 5 d t}}{2 \\left(e^{\\frac{5 t}{2}} + 1\\right) \\left(e^{3 t} + 1\\right)} + \\frac{1}{2 \\left(1 + e^{- \\frac{5 t}{2}}\\right) \\left(e^{\\frac{t}{2}} + 1\\right)} + \\frac{e^{d t}}{2 \\left(1 + e^{- 3 t}\\right) \\left(1 + e^{- \\frac{t}{2}}\\right)}\\right) e^{n t}}{\\left(1 + e^{- \\frac{t}{2}}\\right) \\left(e^{\\frac{5 t}{2}} + 1\\right)} + \\frac{\\left(\\frac{e^{- 5 d t}}{2 \\left(1 - e^{\\frac{5 t}{2}}\\right) \\left(1 - e^{3 t}\\right)} + \\frac{1}{2 \\left(1 - e^{- \\frac{5 t}{2}}\\right) \\left(1 - e^{\\frac{t}{2}}\\right)} + \\frac{e^{d t}}{2 \\left(1 - e^{- 3 t}\\right) \\left(1 - e^{- \\frac{t}{2}}\\right)}\\right) e^{n t}}{\\left(1 - e^{- \\frac{t}{2}}\\right) \\left(1 - e^{\\frac{5 t}{2}}\\right)} + \\frac{\\left(\\frac{1}{\\left(1 - e^{3 t}\\right) \\left(1 - e^{5 t}\\right)} + \\frac{e^{6 d t}}{\\left(1 - e^{- 3 t}\\right) \\left(1 - e^{2 t}\\right)} + \\frac{e^{10 d t}}{\\left(1 - e^{- 5 t}\\right) \\left(1 - e^{- 2 t}\\right)}\\right) e^{6 n t}}{\\left(1 - e^{- 5 t}\\right) \\left(1 - e^{- 3 t}\\right)}$"
      ],
      "text/plain": [
       "                                                                       ⎛      \n",
       "                                                                       ⎜      \n",
       "        -6⋅d⋅t                 -2⋅d⋅t                                  ⎜──────\n",
       "       ℯ                      ℯ                          1             ⎜  ⎛ 5⋅\n",
       "───────────────────── + ──────────────────── + ─────────────────────   ⎜  ⎜ ──\n",
       "⎛     2⋅t⎞ ⎛     3⋅t⎞   ⎛     -2⋅t⎞ ⎛     t⎞   ⎛     -3⋅t⎞ ⎛     -t⎞   ⎜  ⎜  2\n",
       "⎝1 - ℯ   ⎠⋅⎝1 - ℯ   ⎠   ⎝1 - ℯ    ⎠⋅⎝1 - ℯ ⎠   ⎝1 - ℯ    ⎠⋅⎝1 - ℯ  ⎠   ⎝2⋅⎝ℯ  \n",
       "──────────────────────────────────────────────────────────────────── + ───────\n",
       "                        ⎛     t⎞ ⎛     3⋅t⎞                                   \n",
       "                        ⎝1 - ℯ ⎠⋅⎝1 - ℯ   ⎠                                   \n",
       "                                                                              \n",
       "                                                                              \n",
       "\n",
       "   -5⋅d⋅t                                                d⋅t          ⎞       \n",
       "  ℯ                            1                        ℯ             ⎟  n⋅t  \n",
       "───────────────── + ─────────────────────── + ────────────────────────⎟⋅ℯ     \n",
       "t    ⎞                ⎛     -5⋅t ⎞ ⎛ t    ⎞                 ⎛     -t ⎞⎟       \n",
       "─    ⎟                ⎜     ─────⎟ ⎜ ─    ⎟                 ⎜     ───⎟⎟       \n",
       "     ⎟ ⎛ 3⋅t    ⎞     ⎜       2  ⎟ ⎜ 2    ⎟     ⎛     -3⋅t⎞ ⎜      2 ⎟⎟       \n",
       "  + 1⎠⋅⎝ℯ    + 1⎠   2⋅⎝1 + ℯ     ⎠⋅⎝ℯ  + 1⎠   2⋅⎝1 + ℯ    ⎠⋅⎝1 + ℯ   ⎠⎠       \n",
       "──────────────────────────────────────────────────────────────────────────── +\n",
       "                        ⎛     -t ⎞ ⎛ 5⋅t    ⎞                                 \n",
       "                        ⎜     ───⎟ ⎜ ───    ⎟                                 \n",
       "                        ⎜      2 ⎟ ⎜  2     ⎟                                 \n",
       "                        ⎝1 + ℯ   ⎠⋅⎝ℯ    + 1⎠                                 \n",
       "\n",
       " ⎛         -5⋅d⋅t                                                d⋅t          \n",
       " ⎜        ℯ                            1                        ℯ             \n",
       " ⎜─────────────────────── + ─────────────────────── + ────────────────────────\n",
       " ⎜  ⎛     5⋅t⎞                ⎛     -5⋅t ⎞ ⎛     t⎞                 ⎛     -t ⎞\n",
       " ⎜  ⎜     ───⎟                ⎜     ─────⎟ ⎜     ─⎟                 ⎜     ───⎟\n",
       " ⎜  ⎜      2 ⎟ ⎛     3⋅t⎞     ⎜       2  ⎟ ⎜     2⎟     ⎛     -3⋅t⎞ ⎜      2 ⎟\n",
       " ⎝2⋅⎝1 - ℯ   ⎠⋅⎝1 - ℯ   ⎠   2⋅⎝1 - ℯ     ⎠⋅⎝1 - ℯ ⎠   2⋅⎝1 - ℯ    ⎠⋅⎝1 - ℯ   ⎠\n",
       " ─────────────────────────────────────────────────────────────────────────────\n",
       "                                ⎛     -t ⎞ ⎛     5⋅t⎞                         \n",
       "                                ⎜     ───⎟ ⎜     ───⎟                         \n",
       "                                ⎜      2 ⎟ ⎜      2 ⎟                         \n",
       "                                ⎝1 - ℯ   ⎠⋅⎝1 - ℯ   ⎠                         \n",
       "\n",
       "⎞                                                                             \n",
       "⎟  n⋅t                                                                        \n",
       "⎟⋅ℯ      ⎛                                 6⋅d⋅t                    10⋅d⋅t    \n",
       "⎟        ⎜          1                     ℯ                        ℯ          \n",
       "⎟        ⎜───────────────────── + ────────────────────── + ───────────────────\n",
       "⎟        ⎜⎛     3⋅t⎞ ⎛     5⋅t⎞   ⎛     -3⋅t⎞ ⎛     2⋅t⎞   ⎛     -5⋅t⎞ ⎛     -\n",
       "⎠        ⎝⎝1 - ℯ   ⎠⋅⎝1 - ℯ   ⎠   ⎝1 - ℯ    ⎠⋅⎝1 - ℯ   ⎠   ⎝1 - ℯ    ⎠⋅⎝1 - ℯ \n",
       "────── + ─────────────────────────────────────────────────────────────────────\n",
       "                                      ⎛     -5⋅t⎞ ⎛     -3⋅t⎞                 \n",
       "                                      ⎝1 - ℯ    ⎠⋅⎝1 - ℯ    ⎠                 \n",
       "                                                                              \n",
       "                                                                              \n",
       "\n",
       "            \n",
       "            \n",
       "    ⎞       \n",
       "    ⎟  6⋅n⋅t\n",
       "────⎟⋅ℯ     \n",
       "2⋅t⎞⎟       \n",
       "   ⎠⎠       \n",
       "────────────\n",
       "            \n",
       "            \n",
       "            \n",
       "            "
      ]
     },
     "metadata": {},
     "output_type": "display_data"
    }
   ],
   "source": [
    "display(CoreSum(n,d))\n",
    "display(RiemannRoch(n,d))"
   ]
  },
  {
   "cell_type": "code",
   "execution_count": 19,
   "metadata": {},
   "outputs": [
    {
     "data": {
      "text/latex": [
       "$\\displaystyle \\frac{31}{32} + t \\left(\\frac{8 d^{5}}{3} + \\frac{35 d^{4} n}{3} + 10 d^{4} + \\frac{40 d^{3} n^{2}}{3} + 35 d^{3} n + \\frac{41 d^{3}}{3} + \\frac{14 d^{2} n^{3}}{3} + 30 d^{2} n^{2} + \\frac{223 d^{2} n}{6} + \\frac{33 d^{2}}{4} + 7 d n^{3} + \\frac{65 d n^{2}}{3} + \\frac{131 d n}{8} + \\frac{23 d}{12} + \\frac{7 n^{3}}{3} + 5 n^{2} + \\frac{253 n}{96} + \\frac{1}{32}\\right) + t^{2} \\left(\\frac{329 d^{6}}{30} + \\frac{152 d^{5} n}{5} + \\frac{987 d^{5}}{20} + \\frac{77 d^{4} n^{2}}{2} + 114 d^{4} n + \\frac{679 d^{4}}{8} + \\frac{232 d^{3} n^{3}}{9} + \\frac{231 d^{3} n^{2}}{2} + \\frac{1415 d^{3} n}{9} + \\frac{1113 d^{3}}{16} + \\frac{43 d^{2} n^{4}}{6} + 58 d^{2} n^{3} + \\frac{1459 d^{2} n^{2}}{12} + \\frac{389 d^{2} n}{4} + \\frac{26477 d^{2}}{960} + \\frac{43 d n^{4}}{4} + \\frac{377 d n^{3}}{9} + \\frac{839 d n^{2}}{16} + \\frac{4583 d n}{180} + \\frac{3041 d}{640} + \\frac{43 n^{4}}{12} + \\frac{29 n^{3}}{3} + \\frac{1517 n^{2}}{192} + \\frac{179 n}{96} + \\frac{9}{128}\\right) + t^{3} \\left(\\frac{466 d^{7}}{45} + \\frac{4507 d^{6} n}{90} + \\frac{1631 d^{6}}{30} + \\frac{1316 d^{5} n^{2}}{15} + \\frac{4507 d^{5} n}{20} + \\frac{6679 d^{5}}{60} + \\frac{469 d^{4} n^{3}}{6} + 329 d^{4} n^{2} + \\frac{27871 d^{4} n}{72} + \\frac{893 d^{4}}{8} + \\frac{346 d^{3} n^{4}}{9} + \\frac{469 d^{3} n^{3}}{2} + \\frac{8183 d^{3} n^{2}}{18} + \\frac{15179 d^{3} n}{48} + \\frac{13223 d^{3}}{240} + \\frac{259 d^{2} n^{5}}{30} + \\frac{173 d^{2} n^{4}}{2} + \\frac{8875 d^{2} n^{3}}{36} + \\frac{2261 d^{2} n^{2}}{8} + \\frac{355207 d^{2} n}{2880} + \\frac{417 d^{2}}{40} + \\frac{259 d n^{5}}{20} + \\frac{2249 d n^{4}}{36} + \\frac{5087 d n^{3}}{48} + \\frac{27071 d n^{2}}{360} + \\frac{37219 d n}{1920} - \\frac{253 d}{720} + \\frac{259 n^{5}}{60} + \\frac{173 n^{4}}{12} + \\frac{9101 n^{3}}{576} + \\frac{1139 n^{2}}{192} + \\frac{1621 n}{5760} - \\frac{31}{384}\\right) + t^{4} \\left(\\frac{2573 d^{8}}{144} + \\frac{3442 d^{7} n}{45} + \\frac{2573 d^{7}}{24} + \\frac{27563 d^{6} n^{2}}{180} + \\frac{12047 d^{6} n}{30} + \\frac{184417 d^{6}}{720} + \\frac{7844 d^{5} n^{3}}{45} + \\frac{27563 d^{5} n^{2}}{40} + \\frac{148181 d^{5} n}{180} + \\frac{98669 d^{5}}{320} + \\frac{2821 d^{4} n^{4}}{24} + \\frac{1961 d^{4} n^{3}}{3} + \\frac{170287 d^{4} n^{2}}{144} + \\frac{19879 d^{4} n}{24} + \\frac{49573 d^{4}}{256} + \\frac{2074 d^{3} n^{5}}{45} + \\frac{2821 d^{3} n^{4}}{8} + \\frac{48791 d^{3} n^{3}}{54} + \\frac{92507 d^{3} n^{2}}{96} + \\frac{898687 d^{3} n}{2160} + \\frac{14811 d^{3}}{256} + \\frac{311 d^{2} n^{6}}{36} + \\frac{1037 d^{2} n^{5}}{10} + \\frac{53371 d^{2} n^{4}}{144} + \\frac{13493 d^{2} n^{3}}{24} + \\frac{2147959 d^{2} n^{2}}{5760} + \\frac{10673 d^{2} n}{120} + \\frac{54913 d^{2}}{11520} + \\frac{311 d n^{6}}{24} + \\frac{13481 d n^{5}}{180} + \\frac{30575 d n^{4}}{192} + \\frac{161999 d n^{3}}{1080} + \\frac{217747 d n^{2}}{3840} + \\frac{5351 d n}{2160} - \\frac{20017 d}{15360} + \\frac{311 n^{6}}{72} + \\frac{1037 n^{5}}{60} + \\frac{54605 n^{4}}{2304} + \\frac{6899 n^{3}}{576} + \\frac{185 n^{2}}{256} - \\frac{3617 n}{5760} - \\frac{839}{8192}\\right) + t^{5} \\left(\\frac{2269 d^{9}}{135} + \\frac{7673 d^{8} n}{80} + \\frac{2269 d^{8}}{20} + \\frac{1137 d^{7} n^{2}}{5} + \\frac{23019 d^{7} n}{40} + \\frac{7417 d^{7}}{24} + \\frac{165899 d^{6} n^{3}}{540} + \\frac{23877 d^{6} n^{2}}{20} + \\frac{2968483 d^{6} n}{2160} + \\frac{68999 d^{6}}{160} + \\frac{11753 d^{5} n^{4}}{45} + \\frac{165899 d^{5} n^{3}}{120} + \\frac{881429 d^{5} n^{2}}{360} + \\frac{317275 d^{5} n}{192} + \\frac{38203 d^{5}}{120} + \\frac{16933 d^{4} n^{5}}{120} + \\frac{11753 d^{4} n^{4}}{12} + \\frac{1024783 d^{4} n^{3}}{432} + \\frac{118375 d^{4} n^{2}}{48} + \\frac{7130087 d^{4} n}{6912} + \\frac{138529 d^{4}}{1280} + \\frac{6221 d^{3} n^{6}}{135} + \\frac{16933 d^{3} n^{5}}{40} + \\frac{292439 d^{3} n^{4}}{216} + \\frac{556475 d^{3} n^{3}}{288} + \\frac{1074227 d^{3} n^{2}}{864} + \\frac{3418879 d^{3} n}{11520} + \\frac{37409 d^{3}}{8640} + \\frac{1333 d^{2} n^{7}}{180} + \\frac{6221 d^{2} n^{6}}{60} + \\frac{320347 d^{2} n^{5}}{720} + \\frac{80885 d^{2} n^{4}}{96} + \\frac{12904471 d^{2} n^{3}}{17280} + \\frac{64937 d^{2} n^{2}}{240} + \\frac{120359 d^{2} n}{6912} - \\frac{28349 d^{2}}{7680} + \\frac{1333 d n^{7}}{120} + \\frac{80873 d n^{6}}{1080} + \\frac{183503 d n^{5}}{960} + \\frac{971567 d n^{4}}{4320} + \\frac{260183 d n^{3}}{2304} + \\frac{8275 d n^{2}}{864} - \\frac{275731 d n}{46080} + \\frac{15923 d}{23040} + \\frac{1333 n^{7}}{360} + \\frac{6221 n^{6}}{360} + \\frac{327629 n^{5}}{11520} + \\frac{41459 n^{4}}{2304} + \\frac{16183 n^{3}}{11520} - \\frac{21857 n^{2}}{11520} - \\frac{81787 n}{368640} + \\frac{15977}{122880}\\right) + 2 n + n^{2} + \\frac{43 d}{8} + \\frac{26 d n}{3} + 3 d n^{2} + \\frac{71 d^{2}}{6} + 12 d^{2} n + 2 d^{2} n^{2} + 11 d^{3} + \\frac{16 d^{3} n}{3} + \\frac{11 d^{4}}{3} + O\\left(t^{6}\\right)$"
      ],
      "text/plain": [
       "       ⎛   5       4                 3  2                 3       2  3        \n",
       "31     ⎜8⋅d    35⋅d ⋅n       4   40⋅d ⋅n        3     41⋅d    14⋅d ⋅n        2\n",
       "── + t⋅⎜──── + ─────── + 10⋅d  + ──────── + 35⋅d ⋅n + ───── + ──────── + 30⋅d \n",
       "32     ⎝ 3        3                 3                   3        3            \n",
       "\n",
       "           2         2                  2                       3             \n",
       "  2   223⋅d ⋅n   33⋅d         3   65⋅d⋅n    131⋅d⋅n   23⋅d   7⋅n       2   253\n",
       "⋅n  + ──────── + ───── + 7⋅d⋅n  + ─────── + ─────── + ──── + ──── + 5⋅n  + ───\n",
       "         6         4                 3         8       12     3              9\n",
       "\n",
       "       ⎞      ⎛     6        5          5       4  2                   4      \n",
       "⋅n   1 ⎟    2 ⎜329⋅d    152⋅d ⋅n   987⋅d    77⋅d ⋅n         4     679⋅d    232\n",
       "── + ──⎟ + t ⋅⎜────── + ──────── + ────── + ──────── + 114⋅d ⋅n + ────── + ───\n",
       "6    32⎠      ⎝  30        5         20        2                    8         \n",
       "\n",
       "  3  3        3  2         3           3       2  4                    2  2   \n",
       "⋅d ⋅n    231⋅d ⋅n    1415⋅d ⋅n   1113⋅d    43⋅d ⋅n        2  3   1459⋅d ⋅n    \n",
       "────── + ───────── + ───────── + ─────── + ──────── + 58⋅d ⋅n  + ────────── + \n",
       " 9           2           9          16        6                      12       \n",
       "\n",
       "     2            2         4          3          2                           \n",
       "389⋅d ⋅n   26477⋅d    43⋅d⋅n    377⋅d⋅n    839⋅d⋅n    4583⋅d⋅n   3041⋅d   43⋅n\n",
       "──────── + ──────── + ─────── + ──────── + ──────── + ──────── + ────── + ────\n",
       "   4         960         4         9          16        180       640       12\n",
       "\n",
       "4       3         2              ⎞      ⎛     7         6           6         \n",
       "    29⋅n    1517⋅n    179⋅n    9 ⎟    3 ⎜466⋅d    4507⋅d ⋅n   1631⋅d    1316⋅d\n",
       "─ + ───── + ─────── + ───── + ───⎟ + t ⋅⎜────── + ───────── + ─────── + ──────\n",
       "      3       192       96    128⎠      ⎝  45         90         30         15\n",
       "\n",
       "5  2         5           5        4  3                      4          4      \n",
       " ⋅n    4507⋅d ⋅n   6679⋅d    469⋅d ⋅n         4  2   27871⋅d ⋅n   893⋅d    346\n",
       "──── + ───────── + ─────── + ───────── + 329⋅d ⋅n  + ────────── + ────── + ───\n",
       "           20         60         6                       72         8         \n",
       "\n",
       "  3  4        3  3         3  2          3            3        2  5        2  \n",
       "⋅d ⋅n    469⋅d ⋅n    8183⋅d ⋅n    15179⋅d ⋅n   13223⋅d    259⋅d ⋅n    173⋅d ⋅n\n",
       "────── + ───────── + ────────── + ────────── + ──────── + ───────── + ────────\n",
       " 9           2           18           48         240          30          2   \n",
       "\n",
       "4         2  3         2  2           2          2          5           4     \n",
       "    8875⋅d ⋅n    2261⋅d ⋅n    355207⋅d ⋅n   417⋅d    259⋅d⋅n    2249⋅d⋅n    50\n",
       "─ + ────────── + ────────── + ─────────── + ────── + ──────── + ───────── + ──\n",
       "        36           8            2880        40        20          36        \n",
       "\n",
       "      3            2                            5        4         3         2\n",
       "87⋅d⋅n    27071⋅d⋅n    37219⋅d⋅n   253⋅d   259⋅n    173⋅n    9101⋅n    1139⋅n \n",
       "─────── + ────────── + ───────── - ───── + ────── + ────── + ─────── + ───────\n",
       "  48         360          1920      720      60       12       576       192  \n",
       "\n",
       "               ⎞      ⎛      8         7           7          6  2          6 \n",
       "   1621⋅n    31⎟    4 ⎜2573⋅d    3442⋅d ⋅n   2573⋅d    27563⋅d ⋅n    12047⋅d ⋅\n",
       " + ────── - ───⎟ + t ⋅⎜─────── + ───────── + ─────── + ─────────── + ─────────\n",
       "    5760    384⎠      ⎝  144         45         24         180           30   \n",
       "\n",
       "            6         5  3          5  2           5            5         4  4\n",
       "n   184417⋅d    7844⋅d ⋅n    27563⋅d ⋅n    148181⋅d ⋅n   98669⋅d    2821⋅d ⋅n \n",
       "─ + ───────── + ────────── + ─────────── + ─────────── + ──────── + ──────────\n",
       "       720          45            40           180         320          24    \n",
       "\n",
       "         4  3           4  2          4            4         3  5         3  4\n",
       "   1961⋅d ⋅n    170287⋅d ⋅n    19879⋅d ⋅n   49573⋅d    2074⋅d ⋅n    2821⋅d ⋅n \n",
       " + ────────── + ──────────── + ────────── + ──────── + ────────── + ──────────\n",
       "       3            144            24         256          45           8     \n",
       "\n",
       "          3  3          3  2           3            3        2  6         2  5\n",
       "   48791⋅d ⋅n    92507⋅d ⋅n    898687⋅d ⋅n   14811⋅d    311⋅d ⋅n    1037⋅d ⋅n \n",
       " + ─────────── + ─────────── + ─────────── + ──────── + ───────── + ──────────\n",
       "        54            96           2160        256          36          10    \n",
       "\n",
       "          2  4          2  3            2  2          2            2          \n",
       "   53371⋅d ⋅n    13493⋅d ⋅n    2147959⋅d ⋅n    10673⋅d ⋅n   54913⋅d    311⋅d⋅n\n",
       " + ─────────── + ─────────── + ───────────── + ────────── + ──────── + ───────\n",
       "       144            24            5760          120        11520        24  \n",
       "\n",
       "6            5            4             3             2                       \n",
       "    13481⋅d⋅n    30575⋅d⋅n    161999⋅d⋅n    217747⋅d⋅n    5351⋅d⋅n   20017⋅d  \n",
       "─ + ────────── + ────────── + ─────────── + ─────────── + ──────── - ─────── +\n",
       "       180          192           1080          3840        2160      15360   \n",
       "\n",
       "      6         5          4         3        2                ⎞      ⎛      9\n",
       " 311⋅n    1037⋅n    54605⋅n    6899⋅n    185⋅n    3617⋅n   839 ⎟    5 ⎜2269⋅d \n",
       " ────── + ─────── + ──────── + ─────── + ────── - ────── - ────⎟ + t ⋅⎜───────\n",
       "   72        60       2304       576      256      5760    8192⎠      ⎝  135  \n",
       "\n",
       "         8           8         7  2          7           7           6  3     \n",
       "   7673⋅d ⋅n   2269⋅d    1137⋅d ⋅n    23019⋅d ⋅n   7417⋅d    165899⋅d ⋅n    23\n",
       " + ───────── + ─────── + ────────── + ────────── + ─────── + ──────────── + ──\n",
       "       80         20         5            40          24         540          \n",
       "\n",
       "     6  2            6            6          5  4           5  3           5  \n",
       "877⋅d ⋅n    2968483⋅d ⋅n   68999⋅d    11753⋅d ⋅n    165899⋅d ⋅n    881429⋅d ⋅n\n",
       "───────── + ──────────── + ──────── + ─────────── + ──────────── + ───────────\n",
       "   20           2160         160           45           120            360    \n",
       "\n",
       "2           5            5          4  5          4  4            4  3        \n",
       "    317275⋅d ⋅n   38203⋅d    16933⋅d ⋅n    11753⋅d ⋅n    1024783⋅d ⋅n    11837\n",
       "─ + ─────────── + ──────── + ─────────── + ─────────── + ───────────── + ─────\n",
       "        192         120          120            12            432             \n",
       "\n",
       "   4  2            4             4         3  6          3  5           3  4  \n",
       "5⋅d ⋅n    7130087⋅d ⋅n   138529⋅d    6221⋅d ⋅n    16933⋅d ⋅n    292439⋅d ⋅n   \n",
       "─────── + ──────────── + ───────── + ────────── + ─────────── + ──────────── +\n",
       "48            6912          1280        135            40           216       \n",
       "\n",
       "         3  3            3  2            3            3         2  7         2\n",
       " 556475⋅d ⋅n    1074227⋅d ⋅n    3418879⋅d ⋅n   37409⋅d    1333⋅d ⋅n    6221⋅d \n",
       " ──────────── + ───────────── + ──────────── + ──────── + ────────── + ───────\n",
       "     288             864           11520         8640        180           60 \n",
       "\n",
       "  6           2  5          2  4             2  3          2  2           2   \n",
       "⋅n    320347⋅d ⋅n    80885⋅d ⋅n    12904471⋅d ⋅n    64937⋅d ⋅n    120359⋅d ⋅n \n",
       "─── + ──────────── + ─────────── + ────────────── + ─────────── + ─────────── \n",
       "          720             96           17280            240           6912    \n",
       "\n",
       "         2           7            6             5             4             3 \n",
       "  28349⋅d    1333⋅d⋅n    80873⋅d⋅n    183503⋅d⋅n    971567⋅d⋅n    260183⋅d⋅n  \n",
       "- ──────── + ───────── + ────────── + ─────────── + ─────────── + ─────────── \n",
       "    7680        120         1080          960           4320          2304    \n",
       "\n",
       "          2                                7         6           5          4 \n",
       "  8275⋅d⋅n    275731⋅d⋅n   15923⋅d   1333⋅n    6221⋅n    327629⋅n    41459⋅n  \n",
       "+ ───────── - ────────── + ─────── + ─────── + ─────── + ───────── + ──────── \n",
       "     864        46080       23040      360       360       11520       2304   \n",
       "\n",
       "         3          2                   ⎞                                     \n",
       "  16183⋅n    21857⋅n    81787⋅n   15977 ⎟          2   43⋅d   26⋅d⋅n        2 \n",
       "+ ──────── - ──────── - ─────── + ──────⎟ + 2⋅n + n  + ──── + ────── + 3⋅d⋅n  \n",
       "   11520      11520      368640   122880⎠               8       3             \n",
       "\n",
       "      2                                   3         4        \n",
       "  71⋅d        2        2  2       3   16⋅d ⋅n   11⋅d     ⎛ 6⎞\n",
       "+ ───── + 12⋅d ⋅n + 2⋅d ⋅n  + 11⋅d  + ─────── + ───── + O⎝t ⎠\n",
       "    6                                    3        3          "
      ]
     },
     "execution_count": 19,
     "metadata": {},
     "output_type": "execute_result"
    }
   ],
   "source": [
    "series(RiemannRoch(n,d), t, 0)"
   ]
  },
  {
   "cell_type": "code",
   "execution_count": 25,
   "metadata": {},
   "outputs": [
    {
     "data": {
      "text/latex": [
       "$\\displaystyle \\frac{352 d^{4} + 512 d^{3} n + 1056 d^{3} + 192 d^{2} n^{2} + 1152 d^{2} n + 1136 d^{2} + 288 d n^{2} + 832 d n + 516 d + 96 n^{2} + 192 n + 93}{96}$"
      ],
      "text/plain": [
       "     4        3           3        2  2         2           2          2      \n",
       "352⋅d  + 512⋅d ⋅n + 1056⋅d  + 192⋅d ⋅n  + 1152⋅d ⋅n + 1136⋅d  + 288⋅d⋅n  + 832\n",
       "──────────────────────────────────────────────────────────────────────────────\n",
       "                                                       96                     \n",
       "\n",
       "                   2             \n",
       "⋅d⋅n + 516⋅d + 96⋅n  + 192⋅n + 93\n",
       "─────────────────────────────────\n",
       "                                 "
      ]
     },
     "execution_count": 25,
     "metadata": {},
     "output_type": "execute_result"
    }
   ],
   "source": [
    "factor(limit(RiemannRoch(n,d), t, 0))"
   ]
  },
  {
   "cell_type": "code",
   "execution_count": 26,
   "metadata": {},
   "outputs": [],
   "source": [
    "def Euler(n,d):\n",
    "    return factor((352*d**4 + 512*d**3*n + 1056*d**3 + 192*d**2*n**2 + 1152*d**2*n + 1136*d**2 + 288*d*n**2 + 832*d*n + 516*d + 96*n**2 + 192*n + 93)/96)"
   ]
  },
  {
   "cell_type": "code",
   "execution_count": 27,
   "metadata": {},
   "outputs": [
    {
     "data": {
      "text/latex": [
       "$\\displaystyle \\frac{352 d^{4} + 512 d^{3} n + 1056 d^{3} + 192 d^{2} n^{2} + 1152 d^{2} n + 1136 d^{2} + 288 d n^{2} + 832 d n + 516 d + 96 n^{2} + 192 n + 93}{96}$"
      ],
      "text/plain": [
       "     4        3           3        2  2         2           2          2      \n",
       "352⋅d  + 512⋅d ⋅n + 1056⋅d  + 192⋅d ⋅n  + 1152⋅d ⋅n + 1136⋅d  + 288⋅d⋅n  + 832\n",
       "──────────────────────────────────────────────────────────────────────────────\n",
       "                                                       96                     \n",
       "\n",
       "                   2             \n",
       "⋅d⋅n + 516⋅d + 96⋅n  + 192⋅n + 93\n",
       "─────────────────────────────────\n",
       "                                 "
      ]
     },
     "execution_count": 27,
     "metadata": {},
     "output_type": "execute_result"
    }
   ],
   "source": [
    "Euler(n,d)"
   ]
  },
  {
   "cell_type": "code",
   "execution_count": 35,
   "metadata": {},
   "outputs": [
    {
     "data": {
      "text/latex": [
       "$\\displaystyle \\frac{32 n^{2} + 64 n + 31}{32}$"
      ],
      "text/plain": [
       "    2            \n",
       "32⋅n  + 64⋅n + 31\n",
       "─────────────────\n",
       "        32       "
      ]
     },
     "execution_count": 35,
     "metadata": {},
     "output_type": "execute_result"
    }
   ],
   "source": [
    "Euler(n,0)"
   ]
  },
  {
   "cell_type": "code",
   "execution_count": 40,
   "metadata": {},
   "outputs": [
    {
     "data": {
      "text/latex": [
       "$\\displaystyle 0.96875$"
      ],
      "text/plain": [
       "0.968750000000000"
      ]
     },
     "metadata": {},
     "output_type": "display_data"
    },
    {
     "data": {
      "text/latex": [
       "$\\displaystyle 32.84375$"
      ],
      "text/plain": [
       "32.8437500000000"
      ]
     },
     "metadata": {},
     "output_type": "display_data"
    },
    {
     "data": {
      "text/latex": [
       "$\\displaystyle 205.71875$"
      ],
      "text/plain": [
       "205.718750000000"
      ]
     },
     "metadata": {},
     "output_type": "display_data"
    },
    {
     "data": {
      "text/latex": [
       "$\\displaystyle 717.59375$"
      ],
      "text/plain": [
       "717.593750000000"
      ]
     },
     "metadata": {},
     "output_type": "display_data"
    },
    {
     "data": {
      "text/latex": [
       "$\\displaystyle 1854.46875$"
      ],
      "text/plain": [
       "1854.46875000000"
      ]
     },
     "metadata": {},
     "output_type": "display_data"
    },
    {
     "data": {
      "text/latex": [
       "$\\displaystyle 3990.34375$"
      ],
      "text/plain": [
       "3990.34375000000"
      ]
     },
     "metadata": {},
     "output_type": "display_data"
    },
    {
     "data": {
      "text/latex": [
       "$\\displaystyle 7587.21875$"
      ],
      "text/plain": [
       "7587.21875000000"
      ]
     },
     "metadata": {},
     "output_type": "display_data"
    },
    {
     "data": {
      "text/latex": [
       "$\\displaystyle 13195.09375$"
      ],
      "text/plain": [
       "13195.0937500000"
      ]
     },
     "metadata": {},
     "output_type": "display_data"
    },
    {
     "data": {
      "text/latex": [
       "$\\displaystyle 21451.96875$"
      ],
      "text/plain": [
       "21451.9687500000"
      ]
     },
     "metadata": {},
     "output_type": "display_data"
    },
    {
     "data": {
      "text/latex": [
       "$\\displaystyle 33083.84375$"
      ],
      "text/plain": [
       "33083.8437500000"
      ]
     },
     "metadata": {},
     "output_type": "display_data"
    },
    {
     "data": {
      "text/latex": [
       "$\\displaystyle 48904.71875$"
      ],
      "text/plain": [
       "48904.7187500000"
      ]
     },
     "metadata": {},
     "output_type": "display_data"
    },
    {
     "data": {
      "text/latex": [
       "$\\displaystyle 3.96875$"
      ],
      "text/plain": [
       "3.96875000000000"
      ]
     },
     "metadata": {},
     "output_type": "display_data"
    },
    {
     "data": {
      "text/latex": [
       "$\\displaystyle 66.84375$"
      ],
      "text/plain": [
       "66.8437500000000"
      ]
     },
     "metadata": {},
     "output_type": "display_data"
    },
    {
     "data": {
      "text/latex": [
       "$\\displaystyle 330.71875$"
      ],
      "text/plain": [
       "330.718750000000"
      ]
     },
     "metadata": {},
     "output_type": "display_data"
    },
    {
     "data": {
      "text/latex": [
       "$\\displaystyle 1025.59375$"
      ],
      "text/plain": [
       "1025.59375000000"
      ]
     },
     "metadata": {},
     "output_type": "display_data"
    },
    {
     "data": {
      "text/latex": [
       "$\\displaystyle 2469.46875$"
      ],
      "text/plain": [
       "2469.46875000000"
      ]
     },
     "metadata": {},
     "output_type": "display_data"
    },
    {
     "data": {
      "text/latex": [
       "$\\displaystyle 5068.34375$"
      ],
      "text/plain": [
       "5068.34375000000"
      ]
     },
     "metadata": {},
     "output_type": "display_data"
    },
    {
     "data": {
      "text/latex": [
       "$\\displaystyle 9316.21875$"
      ],
      "text/plain": [
       "9316.21875000000"
      ]
     },
     "metadata": {},
     "output_type": "display_data"
    },
    {
     "data": {
      "text/latex": [
       "$\\displaystyle 15795.09375$"
      ],
      "text/plain": [
       "15795.0937500000"
      ]
     },
     "metadata": {},
     "output_type": "display_data"
    },
    {
     "data": {
      "text/latex": [
       "$\\displaystyle 25174.96875$"
      ],
      "text/plain": [
       "25174.9687500000"
      ]
     },
     "metadata": {},
     "output_type": "display_data"
    },
    {
     "data": {
      "text/latex": [
       "$\\displaystyle 38213.84375$"
      ],
      "text/plain": [
       "38213.8437500000"
      ]
     },
     "metadata": {},
     "output_type": "display_data"
    },
    {
     "data": {
      "text/latex": [
       "$\\displaystyle 55757.71875$"
      ],
      "text/plain": [
       "55757.7187500000"
      ]
     },
     "metadata": {},
     "output_type": "display_data"
    },
    {
     "data": {
      "text/latex": [
       "$\\displaystyle 8.96875$"
      ],
      "text/plain": [
       "8.96875000000000"
      ]
     },
     "metadata": {},
     "output_type": "display_data"
    },
    {
     "data": {
      "text/latex": [
       "$\\displaystyle 112.84375$"
      ],
      "text/plain": [
       "112.843750000000"
      ]
     },
     "metadata": {},
     "output_type": "display_data"
    },
    {
     "data": {
      "text/latex": [
       "$\\displaystyle 485.71875$"
      ],
      "text/plain": [
       "485.718750000000"
      ]
     },
     "metadata": {},
     "output_type": "display_data"
    },
    {
     "data": {
      "text/latex": [
       "$\\displaystyle 1389.59375$"
      ],
      "text/plain": [
       "1389.59375000000"
      ]
     },
     "metadata": {},
     "output_type": "display_data"
    },
    {
     "data": {
      "text/latex": [
       "$\\displaystyle 3174.46875$"
      ],
      "text/plain": [
       "3174.46875000000"
      ]
     },
     "metadata": {},
     "output_type": "display_data"
    },
    {
     "data": {
      "text/latex": [
       "$\\displaystyle 6278.34375$"
      ],
      "text/plain": [
       "6278.34375000000"
      ]
     },
     "metadata": {},
     "output_type": "display_data"
    },
    {
     "data": {
      "text/latex": [
       "$\\displaystyle 11227.21875$"
      ],
      "text/plain": [
       "11227.2187500000"
      ]
     },
     "metadata": {},
     "output_type": "display_data"
    },
    {
     "data": {
      "text/latex": [
       "$\\displaystyle 18635.09375$"
      ],
      "text/plain": [
       "18635.0937500000"
      ]
     },
     "metadata": {},
     "output_type": "display_data"
    },
    {
     "data": {
      "text/latex": [
       "$\\displaystyle 29203.96875$"
      ],
      "text/plain": [
       "29203.9687500000"
      ]
     },
     "metadata": {},
     "output_type": "display_data"
    },
    {
     "data": {
      "text/latex": [
       "$\\displaystyle 43723.84375$"
      ],
      "text/plain": [
       "43723.8437500000"
      ]
     },
     "metadata": {},
     "output_type": "display_data"
    },
    {
     "data": {
      "text/latex": [
       "$\\displaystyle 63072.71875$"
      ],
      "text/plain": [
       "63072.7187500000"
      ]
     },
     "metadata": {},
     "output_type": "display_data"
    },
    {
     "data": {
      "text/latex": [
       "$\\displaystyle 15.96875$"
      ],
      "text/plain": [
       "15.9687500000000"
      ]
     },
     "metadata": {},
     "output_type": "display_data"
    },
    {
     "data": {
      "text/latex": [
       "$\\displaystyle 170.84375$"
      ],
      "text/plain": [
       "170.843750000000"
      ]
     },
     "metadata": {},
     "output_type": "display_data"
    },
    {
     "data": {
      "text/latex": [
       "$\\displaystyle 670.71875$"
      ],
      "text/plain": [
       "670.718750000000"
      ]
     },
     "metadata": {},
     "output_type": "display_data"
    },
    {
     "data": {
      "text/latex": [
       "$\\displaystyle 1809.59375$"
      ],
      "text/plain": [
       "1809.59375000000"
      ]
     },
     "metadata": {},
     "output_type": "display_data"
    },
    {
     "data": {
      "text/latex": [
       "$\\displaystyle 3969.46875$"
      ],
      "text/plain": [
       "3969.46875000000"
      ]
     },
     "metadata": {},
     "output_type": "display_data"
    },
    {
     "data": {
      "text/latex": [
       "$\\displaystyle 7620.34375$"
      ],
      "text/plain": [
       "7620.34375000000"
      ]
     },
     "metadata": {},
     "output_type": "display_data"
    },
    {
     "data": {
      "text/latex": [
       "$\\displaystyle 13320.21875$"
      ],
      "text/plain": [
       "13320.2187500000"
      ]
     },
     "metadata": {},
     "output_type": "display_data"
    },
    {
     "data": {
      "text/latex": [
       "$\\displaystyle 21715.09375$"
      ],
      "text/plain": [
       "21715.0937500000"
      ]
     },
     "metadata": {},
     "output_type": "display_data"
    },
    {
     "data": {
      "text/latex": [
       "$\\displaystyle 33538.96875$"
      ],
      "text/plain": [
       "33538.9687500000"
      ]
     },
     "metadata": {},
     "output_type": "display_data"
    },
    {
     "data": {
      "text/latex": [
       "$\\displaystyle 49613.84375$"
      ],
      "text/plain": [
       "49613.8437500000"
      ]
     },
     "metadata": {},
     "output_type": "display_data"
    },
    {
     "data": {
      "text/latex": [
       "$\\displaystyle 70849.71875$"
      ],
      "text/plain": [
       "70849.7187500000"
      ]
     },
     "metadata": {},
     "output_type": "display_data"
    },
    {
     "data": {
      "text/latex": [
       "$\\displaystyle 24.96875$"
      ],
      "text/plain": [
       "24.9687500000000"
      ]
     },
     "metadata": {},
     "output_type": "display_data"
    },
    {
     "data": {
      "text/latex": [
       "$\\displaystyle 240.84375$"
      ],
      "text/plain": [
       "240.843750000000"
      ]
     },
     "metadata": {},
     "output_type": "display_data"
    },
    {
     "data": {
      "text/latex": [
       "$\\displaystyle 885.71875$"
      ],
      "text/plain": [
       "885.718750000000"
      ]
     },
     "metadata": {},
     "output_type": "display_data"
    },
    {
     "data": {
      "text/latex": [
       "$\\displaystyle 2285.59375$"
      ],
      "text/plain": [
       "2285.59375000000"
      ]
     },
     "metadata": {},
     "output_type": "display_data"
    },
    {
     "data": {
      "text/latex": [
       "$\\displaystyle 4854.46875$"
      ],
      "text/plain": [
       "4854.46875000000"
      ]
     },
     "metadata": {},
     "output_type": "display_data"
    },
    {
     "data": {
      "text/latex": [
       "$\\displaystyle 9094.34375$"
      ],
      "text/plain": [
       "9094.34375000000"
      ]
     },
     "metadata": {},
     "output_type": "display_data"
    },
    {
     "data": {
      "text/latex": [
       "$\\displaystyle 15595.21875$"
      ],
      "text/plain": [
       "15595.2187500000"
      ]
     },
     "metadata": {},
     "output_type": "display_data"
    },
    {
     "data": {
      "text/latex": [
       "$\\displaystyle 25035.09375$"
      ],
      "text/plain": [
       "25035.0937500000"
      ]
     },
     "metadata": {},
     "output_type": "display_data"
    },
    {
     "data": {
      "text/latex": [
       "$\\displaystyle 38179.96875$"
      ],
      "text/plain": [
       "38179.9687500000"
      ]
     },
     "metadata": {},
     "output_type": "display_data"
    },
    {
     "data": {
      "text/latex": [
       "$\\displaystyle 55883.84375$"
      ],
      "text/plain": [
       "55883.8437500000"
      ]
     },
     "metadata": {},
     "output_type": "display_data"
    },
    {
     "data": {
      "text/latex": [
       "$\\displaystyle 79088.71875$"
      ],
      "text/plain": [
       "79088.7187500000"
      ]
     },
     "metadata": {},
     "output_type": "display_data"
    },
    {
     "data": {
      "text/latex": [
       "$\\displaystyle 35.96875$"
      ],
      "text/plain": [
       "35.9687500000000"
      ]
     },
     "metadata": {},
     "output_type": "display_data"
    },
    {
     "data": {
      "text/latex": [
       "$\\displaystyle 322.84375$"
      ],
      "text/plain": [
       "322.843750000000"
      ]
     },
     "metadata": {},
     "output_type": "display_data"
    },
    {
     "data": {
      "text/latex": [
       "$\\displaystyle 1130.71875$"
      ],
      "text/plain": [
       "1130.71875000000"
      ]
     },
     "metadata": {},
     "output_type": "display_data"
    },
    {
     "data": {
      "text/latex": [
       "$\\displaystyle 2817.59375$"
      ],
      "text/plain": [
       "2817.59375000000"
      ]
     },
     "metadata": {},
     "output_type": "display_data"
    },
    {
     "data": {
      "text/latex": [
       "$\\displaystyle 5829.46875$"
      ],
      "text/plain": [
       "5829.46875000000"
      ]
     },
     "metadata": {},
     "output_type": "display_data"
    },
    {
     "data": {
      "text/latex": [
       "$\\displaystyle 10700.34375$"
      ],
      "text/plain": [
       "10700.3437500000"
      ]
     },
     "metadata": {},
     "output_type": "display_data"
    },
    {
     "data": {
      "text/latex": [
       "$\\displaystyle 18052.21875$"
      ],
      "text/plain": [
       "18052.2187500000"
      ]
     },
     "metadata": {},
     "output_type": "display_data"
    },
    {
     "data": {
      "text/latex": [
       "$\\displaystyle 28595.09375$"
      ],
      "text/plain": [
       "28595.0937500000"
      ]
     },
     "metadata": {},
     "output_type": "display_data"
    },
    {
     "data": {
      "text/latex": [
       "$\\displaystyle 43126.96875$"
      ],
      "text/plain": [
       "43126.9687500000"
      ]
     },
     "metadata": {},
     "output_type": "display_data"
    },
    {
     "data": {
      "text/latex": [
       "$\\displaystyle 62533.84375$"
      ],
      "text/plain": [
       "62533.8437500000"
      ]
     },
     "metadata": {},
     "output_type": "display_data"
    },
    {
     "data": {
      "text/latex": [
       "$\\displaystyle 87789.71875$"
      ],
      "text/plain": [
       "87789.7187500000"
      ]
     },
     "metadata": {},
     "output_type": "display_data"
    },
    {
     "data": {
      "text/latex": [
       "$\\displaystyle 48.96875$"
      ],
      "text/plain": [
       "48.9687500000000"
      ]
     },
     "metadata": {},
     "output_type": "display_data"
    },
    {
     "data": {
      "text/latex": [
       "$\\displaystyle 416.84375$"
      ],
      "text/plain": [
       "416.843750000000"
      ]
     },
     "metadata": {},
     "output_type": "display_data"
    },
    {
     "data": {
      "text/latex": [
       "$\\displaystyle 1405.71875$"
      ],
      "text/plain": [
       "1405.71875000000"
      ]
     },
     "metadata": {},
     "output_type": "display_data"
    },
    {
     "data": {
      "text/latex": [
       "$\\displaystyle 3405.59375$"
      ],
      "text/plain": [
       "3405.59375000000"
      ]
     },
     "metadata": {},
     "output_type": "display_data"
    },
    {
     "data": {
      "text/latex": [
       "$\\displaystyle 6894.46875$"
      ],
      "text/plain": [
       "6894.46875000000"
      ]
     },
     "metadata": {},
     "output_type": "display_data"
    },
    {
     "data": {
      "text/latex": [
       "$\\displaystyle 12438.34375$"
      ],
      "text/plain": [
       "12438.3437500000"
      ]
     },
     "metadata": {},
     "output_type": "display_data"
    },
    {
     "data": {
      "text/latex": [
       "$\\displaystyle 20691.21875$"
      ],
      "text/plain": [
       "20691.2187500000"
      ]
     },
     "metadata": {},
     "output_type": "display_data"
    },
    {
     "data": {
      "text/latex": [
       "$\\displaystyle 32395.09375$"
      ],
      "text/plain": [
       "32395.0937500000"
      ]
     },
     "metadata": {},
     "output_type": "display_data"
    },
    {
     "data": {
      "text/latex": [
       "$\\displaystyle 48379.96875$"
      ],
      "text/plain": [
       "48379.9687500000"
      ]
     },
     "metadata": {},
     "output_type": "display_data"
    },
    {
     "data": {
      "text/latex": [
       "$\\displaystyle 69563.84375$"
      ],
      "text/plain": [
       "69563.8437500000"
      ]
     },
     "metadata": {},
     "output_type": "display_data"
    },
    {
     "data": {
      "text/latex": [
       "$\\displaystyle 96952.71875$"
      ],
      "text/plain": [
       "96952.7187500000"
      ]
     },
     "metadata": {},
     "output_type": "display_data"
    },
    {
     "data": {
      "text/latex": [
       "$\\displaystyle 63.96875$"
      ],
      "text/plain": [
       "63.9687500000000"
      ]
     },
     "metadata": {},
     "output_type": "display_data"
    },
    {
     "data": {
      "text/latex": [
       "$\\displaystyle 522.84375$"
      ],
      "text/plain": [
       "522.843750000000"
      ]
     },
     "metadata": {},
     "output_type": "display_data"
    },
    {
     "data": {
      "text/latex": [
       "$\\displaystyle 1710.71875$"
      ],
      "text/plain": [
       "1710.71875000000"
      ]
     },
     "metadata": {},
     "output_type": "display_data"
    },
    {
     "data": {
      "text/latex": [
       "$\\displaystyle 4049.59375$"
      ],
      "text/plain": [
       "4049.59375000000"
      ]
     },
     "metadata": {},
     "output_type": "display_data"
    },
    {
     "data": {
      "text/latex": [
       "$\\displaystyle 8049.46875$"
      ],
      "text/plain": [
       "8049.46875000000"
      ]
     },
     "metadata": {},
     "output_type": "display_data"
    },
    {
     "data": {
      "text/latex": [
       "$\\displaystyle 14308.34375$"
      ],
      "text/plain": [
       "14308.3437500000"
      ]
     },
     "metadata": {},
     "output_type": "display_data"
    },
    {
     "data": {
      "text/latex": [
       "$\\displaystyle 23512.21875$"
      ],
      "text/plain": [
       "23512.2187500000"
      ]
     },
     "metadata": {},
     "output_type": "display_data"
    },
    {
     "data": {
      "text/latex": [
       "$\\displaystyle 36435.09375$"
      ],
      "text/plain": [
       "36435.0937500000"
      ]
     },
     "metadata": {},
     "output_type": "display_data"
    },
    {
     "data": {
      "text/latex": [
       "$\\displaystyle 53938.96875$"
      ],
      "text/plain": [
       "53938.9687500000"
      ]
     },
     "metadata": {},
     "output_type": "display_data"
    },
    {
     "data": {
      "text/latex": [
       "$\\displaystyle 76973.84375$"
      ],
      "text/plain": [
       "76973.8437500000"
      ]
     },
     "metadata": {},
     "output_type": "display_data"
    },
    {
     "data": {
      "text/latex": [
       "$\\displaystyle 106577.71875$"
      ],
      "text/plain": [
       "106577.718750000"
      ]
     },
     "metadata": {},
     "output_type": "display_data"
    },
    {
     "data": {
      "text/latex": [
       "$\\displaystyle 80.96875$"
      ],
      "text/plain": [
       "80.9687500000000"
      ]
     },
     "metadata": {},
     "output_type": "display_data"
    },
    {
     "data": {
      "text/latex": [
       "$\\displaystyle 640.84375$"
      ],
      "text/plain": [
       "640.843750000000"
      ]
     },
     "metadata": {},
     "output_type": "display_data"
    },
    {
     "data": {
      "text/latex": [
       "$\\displaystyle 2045.71875$"
      ],
      "text/plain": [
       "2045.71875000000"
      ]
     },
     "metadata": {},
     "output_type": "display_data"
    },
    {
     "data": {
      "text/latex": [
       "$\\displaystyle 4749.59375$"
      ],
      "text/plain": [
       "4749.59375000000"
      ]
     },
     "metadata": {},
     "output_type": "display_data"
    },
    {
     "data": {
      "text/latex": [
       "$\\displaystyle 9294.46875$"
      ],
      "text/plain": [
       "9294.46875000000"
      ]
     },
     "metadata": {},
     "output_type": "display_data"
    },
    {
     "data": {
      "text/latex": [
       "$\\displaystyle 16310.34375$"
      ],
      "text/plain": [
       "16310.3437500000"
      ]
     },
     "metadata": {},
     "output_type": "display_data"
    },
    {
     "data": {
      "text/latex": [
       "$\\displaystyle 26515.21875$"
      ],
      "text/plain": [
       "26515.2187500000"
      ]
     },
     "metadata": {},
     "output_type": "display_data"
    },
    {
     "data": {
      "text/latex": [
       "$\\displaystyle 40715.09375$"
      ],
      "text/plain": [
       "40715.0937500000"
      ]
     },
     "metadata": {},
     "output_type": "display_data"
    },
    {
     "data": {
      "text/latex": [
       "$\\displaystyle 59803.96875$"
      ],
      "text/plain": [
       "59803.9687500000"
      ]
     },
     "metadata": {},
     "output_type": "display_data"
    },
    {
     "data": {
      "text/latex": [
       "$\\displaystyle 84763.84375$"
      ],
      "text/plain": [
       "84763.8437500000"
      ]
     },
     "metadata": {},
     "output_type": "display_data"
    },
    {
     "data": {
      "text/latex": [
       "$\\displaystyle 116664.71875$"
      ],
      "text/plain": [
       "116664.718750000"
      ]
     },
     "metadata": {},
     "output_type": "display_data"
    },
    {
     "data": {
      "text/latex": [
       "$\\displaystyle 99.96875$"
      ],
      "text/plain": [
       "99.9687500000000"
      ]
     },
     "metadata": {},
     "output_type": "display_data"
    },
    {
     "data": {
      "text/latex": [
       "$\\displaystyle 770.84375$"
      ],
      "text/plain": [
       "770.843750000000"
      ]
     },
     "metadata": {},
     "output_type": "display_data"
    },
    {
     "data": {
      "text/latex": [
       "$\\displaystyle 2410.71875$"
      ],
      "text/plain": [
       "2410.71875000000"
      ]
     },
     "metadata": {},
     "output_type": "display_data"
    },
    {
     "data": {
      "text/latex": [
       "$\\displaystyle 5505.59375$"
      ],
      "text/plain": [
       "5505.59375000000"
      ]
     },
     "metadata": {},
     "output_type": "display_data"
    },
    {
     "data": {
      "text/latex": [
       "$\\displaystyle 10629.46875$"
      ],
      "text/plain": [
       "10629.4687500000"
      ]
     },
     "metadata": {},
     "output_type": "display_data"
    },
    {
     "data": {
      "text/latex": [
       "$\\displaystyle 18444.34375$"
      ],
      "text/plain": [
       "18444.3437500000"
      ]
     },
     "metadata": {},
     "output_type": "display_data"
    },
    {
     "data": {
      "text/latex": [
       "$\\displaystyle 29700.21875$"
      ],
      "text/plain": [
       "29700.2187500000"
      ]
     },
     "metadata": {},
     "output_type": "display_data"
    },
    {
     "data": {
      "text/latex": [
       "$\\displaystyle 45235.09375$"
      ],
      "text/plain": [
       "45235.0937500000"
      ]
     },
     "metadata": {},
     "output_type": "display_data"
    },
    {
     "data": {
      "text/latex": [
       "$\\displaystyle 65974.96875$"
      ],
      "text/plain": [
       "65974.9687500000"
      ]
     },
     "metadata": {},
     "output_type": "display_data"
    },
    {
     "data": {
      "text/latex": [
       "$\\displaystyle 92933.84375$"
      ],
      "text/plain": [
       "92933.8437500000"
      ]
     },
     "metadata": {},
     "output_type": "display_data"
    },
    {
     "data": {
      "text/latex": [
       "$\\displaystyle 127213.71875$"
      ],
      "text/plain": [
       "127213.718750000"
      ]
     },
     "metadata": {},
     "output_type": "display_data"
    },
    {
     "data": {
      "text/latex": [
       "$\\displaystyle 120.96875$"
      ],
      "text/plain": [
       "120.968750000000"
      ]
     },
     "metadata": {},
     "output_type": "display_data"
    },
    {
     "data": {
      "text/latex": [
       "$\\displaystyle 912.84375$"
      ],
      "text/plain": [
       "912.843750000000"
      ]
     },
     "metadata": {},
     "output_type": "display_data"
    },
    {
     "data": {
      "text/latex": [
       "$\\displaystyle 2805.71875$"
      ],
      "text/plain": [
       "2805.71875000000"
      ]
     },
     "metadata": {},
     "output_type": "display_data"
    },
    {
     "data": {
      "text/latex": [
       "$\\displaystyle 6317.59375$"
      ],
      "text/plain": [
       "6317.59375000000"
      ]
     },
     "metadata": {},
     "output_type": "display_data"
    },
    {
     "data": {
      "text/latex": [
       "$\\displaystyle 12054.46875$"
      ],
      "text/plain": [
       "12054.4687500000"
      ]
     },
     "metadata": {},
     "output_type": "display_data"
    },
    {
     "data": {
      "text/latex": [
       "$\\displaystyle 20710.34375$"
      ],
      "text/plain": [
       "20710.3437500000"
      ]
     },
     "metadata": {},
     "output_type": "display_data"
    },
    {
     "data": {
      "text/latex": [
       "$\\displaystyle 33067.21875$"
      ],
      "text/plain": [
       "33067.2187500000"
      ]
     },
     "metadata": {},
     "output_type": "display_data"
    },
    {
     "data": {
      "text/latex": [
       "$\\displaystyle 49995.09375$"
      ],
      "text/plain": [
       "49995.0937500000"
      ]
     },
     "metadata": {},
     "output_type": "display_data"
    },
    {
     "data": {
      "text/latex": [
       "$\\displaystyle 72451.96875$"
      ],
      "text/plain": [
       "72451.9687500000"
      ]
     },
     "metadata": {},
     "output_type": "display_data"
    },
    {
     "data": {
      "text/latex": [
       "$\\displaystyle 101483.84375$"
      ],
      "text/plain": [
       "101483.843750000"
      ]
     },
     "metadata": {},
     "output_type": "display_data"
    },
    {
     "data": {
      "text/latex": [
       "$\\displaystyle 138224.71875$"
      ],
      "text/plain": [
       "138224.718750000"
      ]
     },
     "metadata": {},
     "output_type": "display_data"
    }
   ],
   "source": [
    "for j in range(0,11):\n",
    "    for i in range(0,11):\n",
    "        display(Euler(j,i))"
   ]
  },
  {
   "cell_type": "code",
   "execution_count": 95,
   "metadata": {},
   "outputs": [
    {
     "data": {
      "text/latex": [
       "$\\displaystyle \\frac{1}{2 \\left(\\sqrt{t} + 1\\right)} + \\frac{1}{2 \\left(1 - \\sqrt{t}\\right)}$"
      ],
      "text/plain": [
       "    1            1     \n",
       "────────── + ──────────\n",
       "2⋅(√t + 1)   2⋅(1 - √t)"
      ]
     },
     "execution_count": 95,
     "metadata": {},
     "output_type": "execute_result"
    }
   ],
   "source": [
    "Test(n,d)"
   ]
  },
  {
   "cell_type": "code",
   "execution_count": 96,
   "metadata": {},
   "outputs": [
    {
     "data": {
      "text/latex": [
       "$\\displaystyle 1 + t + t^{2} + t^{3} + t^{4} + t^{5} + O\\left(t^{6}\\right)$"
      ],
      "text/plain": [
       "         2    3    4    5    ⎛ 6⎞\n",
       "1 + t + t  + t  + t  + t  + O⎝t ⎠"
      ]
     },
     "execution_count": 96,
     "metadata": {},
     "output_type": "execute_result"
    }
   ],
   "source": [
    "series(Test(n,d), t, 0)"
   ]
  },
  {
   "cell_type": "code",
   "execution_count": null,
   "metadata": {},
   "outputs": [],
   "source": []
  }
 ],
 "metadata": {
  "kernelspec": {
   "display_name": "Python 3",
   "language": "python",
   "name": "python3"
  },
  "language_info": {
   "codemirror_mode": {
    "name": "ipython",
    "version": 3
   },
   "file_extension": ".py",
   "mimetype": "text/x-python",
   "name": "python",
   "nbconvert_exporter": "python",
   "pygments_lexer": "ipython3",
   "version": "3.9.5"
  }
 },
 "nbformat": 4,
 "nbformat_minor": 4
}
