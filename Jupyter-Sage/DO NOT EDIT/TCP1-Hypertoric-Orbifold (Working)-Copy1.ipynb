{
 "cells": [
  {
   "cell_type": "code",
   "execution_count": 1,
   "metadata": {},
   "outputs": [],
   "source": [
    "from sympy import *\n",
    "import numpy as np\n",
    "from sympy.vector import Vector\n",
    "from sympy.vector import CoordSys3D\n",
    "import IPython.display as disp\n",
    "\n",
    "N = CoordSys3D('N')\n",
    "\n",
    "t = symbols( 't')\n",
    "k = symbols('k', real = True)\n",
    "p, q = symbols('p q', integer=True)\n",
    "a, b, d = symbols('a b d', positive=True, integer=True)\n",
    "# init_printing(use_unicode=True)\n",
    "init_printing(use_latex='mathjax')\n",
    "\n",
    "# Basis for the edge/weight vectors for the points \n",
    "\n",
    "v1 = N.i\n",
    "v2 = N.j\n",
    "\n",
    "# Define the vector which is not parallel to any edge vector, which will tend to zero:\n",
    "\n",
    "Phi = t*(v1)\n",
    "\n",
    "# Define the vertices of the general triangle:\n",
    "\n",
    "def P1(a,b):\n",
    "    return 0*v1\n",
    "\n",
    "def P2(a,b):\n",
    "    return a*v1\n",
    "\n",
    "def P3(a,b):\n",
    "    return (a + b)*v1\n",
    "\n",
    "def P3_3(a,b,d):\n",
    "    return (a + b + d)*v1\n",
    "\n",
    "def P1_1(d):\n",
    "    return -(b + 2*d)*v1"
   ]
  },
  {
   "cell_type": "code",
   "execution_count": 2,
   "metadata": {},
   "outputs": [],
   "source": [
    "# Define the term which is summed over each fixed point,\n",
    "# representing the character for the representation\n",
    "\n",
    "# def P(P, edge1, edge2, edge3, edge4):\n",
    "#    return exp( Phi.dot(P) ) / ( (1 - exp( Phi.dot(edge1) ) ) * ( 1 - exp( Phi.dot(edge2) ) ) * ( 1 - exp( Phi.dot(edge3) ) ) * ( 1 - exp( Phi.dot(edge4) ) ) )\n",
    "\n",
    "def Q(P, edge1, edge2):\n",
    "    return exp( Phi.dot(P) ) / ( (1 - exp( Phi.dot(edge1) ) ) * ( 1 - exp( Phi.dot(edge2) ) ) )\n",
    "\n",
    "def Exp(p, q):\n",
    "    return exp( 2*pi*I*Rational(p,q) )\n",
    "\n",
    "# Term for the orbifold points:\n",
    "\n",
    "#def UnityRootTerm(P, p, q, edge1, edge2):\n",
    "#    return ( Rational(1,q) * exp( Phi.dot(P) / q ) ) / ( (1 - ( Exp(p,q) * exp(  Phi.dot(edge1) ) ) ) * ( 1 - ( Exp(p,q) * exp( Rational(1,q) * Phi.dot(edge2) ) ) ) )\n",
    "\n",
    "def UnityRootTerm(P, p, q, edge1, edge2):\n",
    "    return ( exp( Phi.dot(P) / q ) ) / ( (1 - ( (Exp(p,q) * exp( Rational(1,q) * Phi.dot(edge1) ) ) ) * ( 1 - ( Exp(p,q) * exp( Rational(1,q) * Phi.dot(edge2) ) ) ) ) )\n",
    "\n",
    "# Iterates the sum over each q-th root of unity:\n",
    "\n",
    "def OrbiCharacter(P, q, edge1, edge2):\n",
    "    return sum([UnityRootTerm(P, k, q, edge1, edge2) for k in range(0,q)])\n"
   ]
  },
  {
   "cell_type": "code",
   "execution_count": 3,
   "metadata": {},
   "outputs": [
    {
     "data": {
      "text/latex": [
       "$\\displaystyle \\frac{e^{t \\left(a + b + d\\right)}}{2 \\left(1 + e^{- \\frac{t}{2}}\\right)^{2}} + \\frac{e^{t \\left(a + b + d\\right)}}{2 \\left(1 - e^{- \\frac{t}{2}}\\right)^{2}}$"
      ],
      "text/plain": [
       " t⋅(a + b + d)    t⋅(a + b + d)\n",
       "ℯ                ℯ             \n",
       "────────────── + ──────────────\n",
       "            2                2 \n",
       "  ⎛     -t ⎞       ⎛     -t ⎞  \n",
       "  ⎜     ───⎟       ⎜     ───⎟  \n",
       "  ⎜      2 ⎟       ⎜      2 ⎟  \n",
       "2⋅⎝1 + ℯ   ⎠     2⋅⎝1 - ℯ   ⎠  "
      ]
     },
     "execution_count": 3,
     "metadata": {},
     "output_type": "execute_result"
    }
   ],
   "source": [
    "def Exp(p, q):\n",
    "    return exp( 2*pi*I*Rational(p,q) )\n",
    "\n",
    "# For P3_3, which has orbifold structure group of order 2:\n",
    "\n",
    "def Sum_P3_3(a,b,d):\n",
    "    return Rational(1,2) * ( exp( Phi.dot(P3_3(a,b,d)) ) / ( ( (1 - Exp(0,2) * exp( Phi.dot( ( -v1 )*Rational(1,2) ) ) ) ) * ( 1 - Exp(0,2) * exp( Phi.dot( ( -v1 )*Rational(1,2) ) ) ) ) + ( exp( Phi.dot(P3_3(a,b,d)) ) ) / ( ( (1 - Exp(1,2) * exp( Phi.dot( ( -v1 )*Rational(1,2) ) ) ) ) * ( 1 - Exp(1,2) * exp( Phi.dot( ( -v1 )*Rational(1,2) ) ) ) ) )  \n",
    "\n",
    "Sum_P3_3(a,b,d)"
   ]
  },
  {
   "cell_type": "code",
   "execution_count": 4,
   "metadata": {},
   "outputs": [
    {
     "data": {
      "text/latex": [
       "$\\displaystyle \\frac{e^{t \\left(- b - 2 d\\right)}}{\\left(1 - e^{t}\\right)^{2}}$"
      ],
      "text/plain": [
       " t⋅(-b - 2⋅d)\n",
       "ℯ            \n",
       "─────────────\n",
       "          2  \n",
       "  ⎛     t⎞   \n",
       "  ⎝1 - ℯ ⎠   "
      ]
     },
     "execution_count": 4,
     "metadata": {},
     "output_type": "execute_result"
    }
   ],
   "source": [
    "# For P1_1, which is smooth:\n",
    "\n",
    "def Sum_P1_1(d):\n",
    "    return exp( Phi.dot( P1_1(d) ) ) / ( ( 1 - exp( Phi.dot( v1 ) ) ) * ( 1 - exp( Phi.dot( v1 ) ) ) )\n",
    "\n",
    "Sum_P1_1(d)"
   ]
  },
  {
   "cell_type": "code",
   "execution_count": 5,
   "metadata": {},
   "outputs": [
    {
     "data": {
      "text/latex": [
       "$\\displaystyle \\frac{1}{\\left(1 - e^{- t}\\right) \\left(1 - e^{t}\\right)}$"
      ],
      "text/plain": [
       "        1         \n",
       "──────────────────\n",
       "⎛     -t⎞ ⎛     t⎞\n",
       "⎝1 - ℯ  ⎠⋅⎝1 - ℯ ⎠"
      ]
     },
     "execution_count": 5,
     "metadata": {},
     "output_type": "execute_result"
    }
   ],
   "source": [
    "# For P1, which is smooth:\n",
    "\n",
    "def Sum_P1(a,b):\n",
    "    return exp( Phi.dot( P1(a,b) ) ) / ( ( 1 - exp( Phi.dot( v1 ) ) ) * ( 1 - exp( Phi.dot( -v1 ) ) ) )\n",
    "\n",
    "Sum_P1(a,b)"
   ]
  },
  {
   "cell_type": "code",
   "execution_count": 6,
   "metadata": {},
   "outputs": [
    {
     "data": {
      "text/latex": [
       "$\\displaystyle \\frac{e^{a t}}{\\left(1 - e^{- t}\\right) \\left(1 - e^{t}\\right)}$"
      ],
      "text/plain": [
       "        a⋅t       \n",
       "       ℯ          \n",
       "──────────────────\n",
       "⎛     -t⎞ ⎛     t⎞\n",
       "⎝1 - ℯ  ⎠⋅⎝1 - ℯ ⎠"
      ]
     },
     "execution_count": 6,
     "metadata": {},
     "output_type": "execute_result"
    }
   ],
   "source": [
    "# For P2, which is smooth:\n",
    "\n",
    "def Sum_P2(a,b):\n",
    "    return exp( Phi.dot( P2(a,b) ) ) / ( ( 1 - exp( Phi.dot( v1 ) ) ) * ( 1 - exp( Phi.dot( -v1 ) ) ) )\n",
    "\n",
    "Sum_P2(a,b)"
   ]
  },
  {
   "cell_type": "code",
   "execution_count": 7,
   "metadata": {},
   "outputs": [
    {
     "data": {
      "text/latex": [
       "$\\displaystyle \\frac{e^{t \\left(a + b\\right)}}{\\left(1 - e^{- t}\\right) \\left(1 - e^{t}\\right)}$"
      ],
      "text/plain": [
       "     t⋅(a + b)    \n",
       "    ℯ             \n",
       "──────────────────\n",
       "⎛     -t⎞ ⎛     t⎞\n",
       "⎝1 - ℯ  ⎠⋅⎝1 - ℯ ⎠"
      ]
     },
     "execution_count": 7,
     "metadata": {},
     "output_type": "execute_result"
    }
   ],
   "source": [
    "# For P3, which is smooth:\n",
    "\n",
    "def Sum_P3(a,b):\n",
    "    return exp( Phi.dot( P3(a,b) ) ) / ( ( 1 - exp( Phi.dot( v1 ) ) ) * ( 1 - exp( Phi.dot( -v1 ) ) ) )\n",
    "\n",
    "Sum_P3(a,b)"
   ]
  },
  {
   "cell_type": "code",
   "execution_count": 8,
   "metadata": {},
   "outputs": [
    {
     "data": {
      "text/latex": [
       "$\\displaystyle \\frac{e^{t \\left(- b - 2 d\\right)}}{\\left(1 - e^{t}\\right)^{2}} + \\frac{e^{t \\left(a + b + d\\right)}}{2 \\left(1 + e^{- \\frac{t}{2}}\\right)^{2}} + \\frac{e^{t \\left(a + b + d\\right)}}{2 \\left(1 - e^{- \\frac{t}{2}}\\right)^{2}} + \\frac{e^{a t}}{\\left(1 - e^{- t}\\right) \\left(1 - e^{t}\\right)} + \\frac{e^{t \\left(a + b\\right)}}{\\left(1 - e^{- t}\\right) \\left(1 - e^{t}\\right)} + \\frac{1}{\\left(1 - e^{- t}\\right) \\left(1 - e^{t}\\right)}$"
      ],
      "text/plain": [
       " t⋅(-b - 2⋅d)    t⋅(a + b + d)    t⋅(a + b + d)           a⋅t               t⋅\n",
       "ℯ               ℯ                ℯ                       ℯ                 ℯ  \n",
       "───────────── + ────────────── + ────────────── + ────────────────── + ───────\n",
       "          2                 2                2    ⎛     -t⎞ ⎛     t⎞   ⎛     -\n",
       "  ⎛     t⎞        ⎛     -t ⎞       ⎛     -t ⎞     ⎝1 - ℯ  ⎠⋅⎝1 - ℯ ⎠   ⎝1 - ℯ \n",
       "  ⎝1 - ℯ ⎠        ⎜     ───⎟       ⎜     ───⎟                                 \n",
       "                  ⎜      2 ⎟       ⎜      2 ⎟                                 \n",
       "                2⋅⎝1 + ℯ   ⎠     2⋅⎝1 - ℯ   ⎠                                 \n",
       "\n",
       "(a + b)                         \n",
       "                      1         \n",
       "─────────── + ──────────────────\n",
       "t⎞ ⎛     t⎞   ⎛     -t⎞ ⎛     t⎞\n",
       " ⎠⋅⎝1 - ℯ ⎠   ⎝1 - ℯ  ⎠⋅⎝1 - ℯ ⎠\n",
       "                                \n",
       "                                \n",
       "                                "
      ]
     },
     "execution_count": 8,
     "metadata": {},
     "output_type": "execute_result"
    }
   ],
   "source": [
    "def Sum(a,b,d):\n",
    "    return Sum_P1(a,b) + Sum_P2(a,b) + Sum_P3(a,b) + Sum_P1_1(d) + Sum_P3_3(a,b,d)\n",
    "\n",
    "Sum(a,b,d)"
   ]
  },
  {
   "cell_type": "code",
   "execution_count": 9,
   "metadata": {},
   "outputs": [
    {
     "data": {
      "text/latex": [
       "$\\displaystyle a b + 2 a d + a + b^{2} + 4 b d + 2 b + 3 d^{2} + 3 d + 1$"
      ],
      "text/plain": [
       "                   2                    2          \n",
       "a⋅b + 2⋅a⋅d + a + b  + 4⋅b⋅d + 2⋅b + 3⋅d  + 3⋅d + 1"
      ]
     },
     "execution_count": 9,
     "metadata": {},
     "output_type": "execute_result"
    }
   ],
   "source": [
    "factor( limit(Sum(a,b,d), t, 0) )"
   ]
  },
  {
   "cell_type": "code",
   "execution_count": 10,
   "metadata": {},
   "outputs": [
    {
     "data": {
      "text/latex": [
       "$\\displaystyle a b + 2 a d + a + b^{2} + 4 b d + 2 b + 3 d^{2} + 3 d + 1$"
      ],
      "text/plain": [
       "                   2                    2          \n",
       "a⋅b + 2⋅a⋅d + a + b  + 4⋅b⋅d + 2⋅b + 3⋅d  + 3⋅d + 1"
      ]
     },
     "execution_count": 10,
     "metadata": {},
     "output_type": "execute_result"
    }
   ],
   "source": [
    "def Euler(a,b,d):\n",
    "    return factor(a*b + 2*a*d + a + b**2 + 4*b*d + 2*b + 3*d**2 + 3*d + 1)\n",
    "\n",
    "Euler(a,b,d)"
   ]
  },
  {
   "cell_type": "code",
   "execution_count": 11,
   "metadata": {},
   "outputs": [
    {
     "data": {
      "text/latex": [
       "$\\displaystyle 2 \\left(a + 2 b + 3 d\\right)$"
      ],
      "text/plain": [
       "2⋅(a + 2⋅b + 3⋅d)"
      ]
     },
     "execution_count": 11,
     "metadata": {},
     "output_type": "execute_result"
    }
   ],
   "source": [
    "def Diff(a,b,d):\n",
    "    return factor(Euler(a,b,d) - Euler(a,b,d-1))\n",
    "\n",
    "factor(Diff(a,b,d))"
   ]
  },
  {
   "cell_type": "code",
   "execution_count": 12,
   "metadata": {},
   "outputs": [
    {
     "data": {
      "text/latex": [
       "$\\displaystyle 2 \\left(a + 3 d\\right)$"
      ],
      "text/plain": [
       "2⋅(a + 3⋅d)"
      ]
     },
     "execution_count": 12,
     "metadata": {},
     "output_type": "execute_result"
    }
   ],
   "source": [
    "Diff(a,0,d)"
   ]
  },
  {
   "cell_type": "code",
   "execution_count": 13,
   "metadata": {},
   "outputs": [
    {
     "data": {
      "text/latex": [
       "$\\displaystyle \\left(b + 1\\right) \\left(a + b + 1\\right)$"
      ],
      "text/plain": [
       "(b + 1)⋅(a + b + 1)"
      ]
     },
     "execution_count": 13,
     "metadata": {},
     "output_type": "execute_result"
    }
   ],
   "source": [
    "Euler(a,b,0)"
   ]
  },
  {
   "cell_type": "code",
   "execution_count": 16,
   "metadata": {},
   "outputs": [
    {
     "data": {
      "text/latex": [
       "$\\displaystyle 28$"
      ],
      "text/plain": [
       "28"
      ]
     },
     "execution_count": 16,
     "metadata": {},
     "output_type": "execute_result"
    }
   ],
   "source": [
    "Euler(1,2,1)"
   ]
  },
  {
   "cell_type": "code",
   "execution_count": null,
   "metadata": {},
   "outputs": [],
   "source": []
  }
 ],
 "metadata": {
  "kernelspec": {
   "display_name": "Python 3 (ipykernel)",
   "language": "python",
   "name": "python3"
  },
  "language_info": {
   "codemirror_mode": {
    "name": "ipython",
    "version": 3
   },
   "file_extension": ".py",
   "mimetype": "text/x-python",
   "name": "python",
   "nbconvert_exporter": "python",
   "pygments_lexer": "ipython3",
   "version": "3.9.9"
  }
 },
 "nbformat": 4,
 "nbformat_minor": 4
}
