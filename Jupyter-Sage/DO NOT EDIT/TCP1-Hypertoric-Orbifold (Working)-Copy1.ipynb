{
 "cells": [
  {
   "cell_type": "code",
   "execution_count": 2,
   "metadata": {},
   "outputs": [],
   "source": [
    "from sympy import *\n",
    "import numpy as np\n",
    "from sympy.vector import Vector\n",
    "from sympy.vector import CoordSys3D\n",
    "import IPython.display as disp\n",
    "\n",
    "N = CoordSys3D('N')\n",
    "\n",
    "t = symbols( 't')\n",
    "k = symbols('k', real = True)\n",
    "p, q = symbols('p q', integer=True)\n",
    "a, b, d = symbols('a b d', positive=True, integer=True)\n",
    "# init_printing(use_unicode=True)\n",
    "init_printing(use_latex='mathjax')\n",
    "\n",
    "# Basis for the edge/weight vectors for the points \n",
    "\n",
    "v1 = N.i\n",
    "v2 = N.j\n",
    "\n",
    "# Define the vector which is not parallel to any edge vector, which will tend to zero:\n",
    "\n",
    "Phi = t*(v1)\n",
    "\n",
    "# Define the vertices of the general triangle:\n",
    "\n",
    "def P1(a,b):\n",
    "    return 0*v1\n",
    "\n",
    "def P2(a,b):\n",
    "    return a*v1\n",
    "\n",
    "def P3(a,b):\n",
    "    return (a + b)*v1\n",
    "\n",
    "def P3_3(a,b,d):\n",
    "    return (a + b + d)*v1\n",
    "\n",
    "def P1_1(d):\n",
    "    return -(b + 2*d)*v1"
   ]
  },
  {
   "cell_type": "code",
   "execution_count": 3,
   "metadata": {},
   "outputs": [],
   "source": [
    "# Define the term which is summed over each fixed point,\n",
    "# representing the character for the representation\n",
    "\n",
    "# def P(P, edge1, edge2, edge3, edge4):\n",
    "#    return exp( Phi.dot(P) ) / ( (1 - exp( Phi.dot(edge1) ) ) * ( 1 - exp( Phi.dot(edge2) ) ) * ( 1 - exp( Phi.dot(edge3) ) ) * ( 1 - exp( Phi.dot(edge4) ) ) )\n",
    "\n",
    "def Q(P, edge1, edge2):\n",
    "    return exp( Phi.dot(P) ) / ( (1 - exp( Phi.dot(edge1) ) ) * ( 1 - exp( Phi.dot(edge2) ) ) )\n",
    "\n",
    "def Exp(p, q):\n",
    "    return exp( 2*pi*I*Rational(p,q) )\n",
    "\n",
    "# Term for the orbifold points:\n",
    "\n",
    "#def UnityRootTerm(P, p, q, edge1, edge2):\n",
    "#    return ( Rational(1,q) * exp( Phi.dot(P) / q ) ) / ( (1 - ( Exp(p,q) * exp(  Phi.dot(edge1) ) ) ) * ( 1 - ( Exp(p,q) * exp( Rational(1,q) * Phi.dot(edge2) ) ) ) )\n",
    "\n",
    "def UnityRootTerm(P, p, q, edge1, edge2):\n",
    "    return ( exp( Phi.dot(P) / q ) ) / ( (1 - ( (Exp(p,q) * exp( Rational(1,q) * Phi.dot(edge1) ) ) ) * ( 1 - ( Exp(p,q) * exp( Rational(1,q) * Phi.dot(edge2) ) ) ) ) )\n",
    "\n",
    "# Iterates the sum over each q-th root of unity:\n",
    "\n",
    "def OrbiCharacter(P, q, edge1, edge2):\n",
    "    return sum([UnityRootTerm(P, k, q, edge1, edge2) for k in range(0,q)])\n"
   ]
  },
  {
   "cell_type": "code",
   "execution_count": 4,
   "metadata": {},
   "outputs": [
    {
     "data": {
      "text/latex": [
       "$\\displaystyle \\frac{e^{t \\left(a + b + d\\right)}}{2 \\left(1 + e^{- \\frac{t}{2}}\\right)^{2}} + \\frac{e^{t \\left(a + b + d\\right)}}{2 \\left(1 - e^{- \\frac{t}{2}}\\right)^{2}}$"
      ],
      "text/plain": [
       " t⋅(a + b + d)    t⋅(a + b + d)\n",
       "ℯ                ℯ             \n",
       "────────────── + ──────────────\n",
       "            2                2 \n",
       "  ⎛     -t ⎞       ⎛     -t ⎞  \n",
       "  ⎜     ───⎟       ⎜     ───⎟  \n",
       "  ⎜      2 ⎟       ⎜      2 ⎟  \n",
       "2⋅⎝1 + ℯ   ⎠     2⋅⎝1 - ℯ   ⎠  "
      ]
     },
     "execution_count": 4,
     "metadata": {},
     "output_type": "execute_result"
    }
   ],
   "source": [
    "def Exp(p, q):\n",
    "    return exp( 2*pi*I*Rational(p,q) )\n",
    "\n",
    "# For P3_3, which has orbifold structure group of order 2:\n",
    "\n",
    "def Sum_P3_3(a,b,d):\n",
    "    return Rational(1,2) * ( exp( Phi.dot(P3_3(a,b,d)) ) / ( ( (1 - Exp(0,2) * exp( Phi.dot( ( -v1 )*Rational(1,2) ) ) ) ) * ( 1 - Exp(0,2) * exp( Phi.dot( ( -v1 )*Rational(1,2) ) ) ) ) + ( exp( Phi.dot(P3_3(a,b,d)) ) ) / ( ( (1 - Exp(1,2) * exp( Phi.dot( ( -v1 )*Rational(1,2) ) ) ) ) * ( 1 - Exp(1,2) * exp( Phi.dot( ( -v1 )*Rational(1,2) ) ) ) ) )  \n",
    "\n",
    "Sum_P3_3(a,b,d)"
   ]
  },
  {
   "cell_type": "code",
   "execution_count": 5,
   "metadata": {},
   "outputs": [
    {
     "data": {
      "text/latex": [
       "$\\displaystyle \\frac{e^{t \\left(- b - 2 d\\right)}}{\\left(1 - e^{t}\\right)^{2}}$"
      ],
      "text/plain": [
       " t⋅(-b - 2⋅d)\n",
       "ℯ            \n",
       "─────────────\n",
       "          2  \n",
       "  ⎛     t⎞   \n",
       "  ⎝1 - ℯ ⎠   "
      ]
     },
     "execution_count": 5,
     "metadata": {},
     "output_type": "execute_result"
    }
   ],
   "source": [
    "# For P1_1, which is smooth:\n",
    "\n",
    "def Sum_P1_1(d):\n",
    "    return exp( Phi.dot( P1_1(d) ) ) / ( ( 1 - exp( Phi.dot( v1 ) ) ) * ( 1 - exp( Phi.dot( v1 ) ) ) )\n",
    "\n",
    "Sum_P1_1(d)"
   ]
  },
  {
   "cell_type": "code",
   "execution_count": 6,
   "metadata": {},
   "outputs": [
    {
     "data": {
      "text/latex": [
       "$\\displaystyle \\frac{1}{\\left(1 - e^{- t}\\right) \\left(1 - e^{t}\\right)}$"
      ],
      "text/plain": [
       "        1         \n",
       "──────────────────\n",
       "⎛     -t⎞ ⎛     t⎞\n",
       "⎝1 - ℯ  ⎠⋅⎝1 - ℯ ⎠"
      ]
     },
     "execution_count": 6,
     "metadata": {},
     "output_type": "execute_result"
    }
   ],
   "source": [
    "# For P1, which is smooth:\n",
    "\n",
    "def Sum_P1(a,b):\n",
    "    return exp( Phi.dot( P1(a,b) ) ) / ( ( 1 - exp( Phi.dot( v1 ) ) ) * ( 1 - exp( Phi.dot( -v1 ) ) ) )\n",
    "\n",
    "Sum_P1(a,b)"
   ]
  },
  {
   "cell_type": "code",
   "execution_count": 7,
   "metadata": {},
   "outputs": [
    {
     "data": {
      "text/latex": [
       "$\\displaystyle \\frac{e^{a t}}{\\left(1 - e^{- t}\\right) \\left(1 - e^{t}\\right)}$"
      ],
      "text/plain": [
       "        a⋅t       \n",
       "       ℯ          \n",
       "──────────────────\n",
       "⎛     -t⎞ ⎛     t⎞\n",
       "⎝1 - ℯ  ⎠⋅⎝1 - ℯ ⎠"
      ]
     },
     "execution_count": 7,
     "metadata": {},
     "output_type": "execute_result"
    }
   ],
   "source": [
    "# For P2, which is smooth:\n",
    "\n",
    "def Sum_P2(a,b):\n",
    "    return exp( Phi.dot( P2(a,b) ) ) / ( ( 1 - exp( Phi.dot( v1 ) ) ) * ( 1 - exp( Phi.dot( -v1 ) ) ) )\n",
    "\n",
    "Sum_P2(a,b)"
   ]
  },
  {
   "cell_type": "code",
   "execution_count": 8,
   "metadata": {},
   "outputs": [
    {
     "data": {
      "text/latex": [
       "$\\displaystyle \\frac{e^{t \\left(a + b\\right)}}{\\left(1 - e^{- t}\\right) \\left(1 - e^{t}\\right)}$"
      ],
      "text/plain": [
       "     t⋅(a + b)    \n",
       "    ℯ             \n",
       "──────────────────\n",
       "⎛     -t⎞ ⎛     t⎞\n",
       "⎝1 - ℯ  ⎠⋅⎝1 - ℯ ⎠"
      ]
     },
     "execution_count": 8,
     "metadata": {},
     "output_type": "execute_result"
    }
   ],
   "source": [
    "# For P3, which is smooth:\n",
    "\n",
    "def Sum_P3(a,b):\n",
    "    return exp( Phi.dot( P3(a,b) ) ) / ( ( 1 - exp( Phi.dot( v1 ) ) ) * ( 1 - exp( Phi.dot( -v1 ) ) ) )\n",
    "\n",
    "Sum_P3(a,b)"
   ]
  },
  {
   "cell_type": "code",
   "execution_count": 9,
   "metadata": {},
   "outputs": [
    {
     "data": {
      "text/latex": [
       "$\\displaystyle \\frac{e^{t \\left(- b - 2 d\\right)}}{\\left(1 - e^{t}\\right)^{2}} + \\frac{e^{t \\left(a + b + d\\right)}}{2 \\left(1 + e^{- \\frac{t}{2}}\\right)^{2}} + \\frac{e^{t \\left(a + b + d\\right)}}{2 \\left(1 - e^{- \\frac{t}{2}}\\right)^{2}} + \\frac{e^{a t}}{\\left(1 - e^{- t}\\right) \\left(1 - e^{t}\\right)} + \\frac{e^{t \\left(a + b\\right)}}{\\left(1 - e^{- t}\\right) \\left(1 - e^{t}\\right)} + \\frac{1}{\\left(1 - e^{- t}\\right) \\left(1 - e^{t}\\right)}$"
      ],
      "text/plain": [
       " t⋅(-b - 2⋅d)    t⋅(a + b + d)    t⋅(a + b + d)           a⋅t               t⋅\n",
       "ℯ               ℯ                ℯ                       ℯ                 ℯ  \n",
       "───────────── + ────────────── + ────────────── + ────────────────── + ───────\n",
       "          2                 2                2    ⎛     -t⎞ ⎛     t⎞   ⎛     -\n",
       "  ⎛     t⎞        ⎛     -t ⎞       ⎛     -t ⎞     ⎝1 - ℯ  ⎠⋅⎝1 - ℯ ⎠   ⎝1 - ℯ \n",
       "  ⎝1 - ℯ ⎠        ⎜     ───⎟       ⎜     ───⎟                                 \n",
       "                  ⎜      2 ⎟       ⎜      2 ⎟                                 \n",
       "                2⋅⎝1 + ℯ   ⎠     2⋅⎝1 - ℯ   ⎠                                 \n",
       "\n",
       "(a + b)                         \n",
       "                      1         \n",
       "─────────── + ──────────────────\n",
       "t⎞ ⎛     t⎞   ⎛     -t⎞ ⎛     t⎞\n",
       " ⎠⋅⎝1 - ℯ ⎠   ⎝1 - ℯ  ⎠⋅⎝1 - ℯ ⎠\n",
       "                                \n",
       "                                \n",
       "                                "
      ]
     },
     "execution_count": 9,
     "metadata": {},
     "output_type": "execute_result"
    }
   ],
   "source": [
    "def Sum(a,b,d):\n",
    "    return Sum_P1(a,b) + Sum_P2(a,b) + Sum_P3(a,b) + Sum_P1_1(d) + Sum_P3_3(a,b,d)\n",
    "\n",
    "Sum(a,b,d)"
   ]
  },
  {
   "cell_type": "code",
   "execution_count": 10,
   "metadata": {},
   "outputs": [
    {
     "data": {
      "text/latex": [
       "$\\displaystyle a b + 2 a d + a + b^{2} + 4 b d + 2 b + 3 d^{2} + 3 d + 1$"
      ],
      "text/plain": [
       "                   2                    2          \n",
       "a⋅b + 2⋅a⋅d + a + b  + 4⋅b⋅d + 2⋅b + 3⋅d  + 3⋅d + 1"
      ]
     },
     "execution_count": 10,
     "metadata": {},
     "output_type": "execute_result"
    }
   ],
   "source": [
    "factor( limit(Sum(a,b,d), t, 0) )"
   ]
  },
  {
   "cell_type": "code",
   "execution_count": 11,
   "metadata": {},
   "outputs": [
    {
     "data": {
      "text/latex": [
       "$\\displaystyle a b + 2 a d + a + b^{2} + 4 b d + 2 b + 3 d^{2} + 3 d + 1$"
      ],
      "text/plain": [
       "                   2                    2          \n",
       "a⋅b + 2⋅a⋅d + a + b  + 4⋅b⋅d + 2⋅b + 3⋅d  + 3⋅d + 1"
      ]
     },
     "execution_count": 11,
     "metadata": {},
     "output_type": "execute_result"
    }
   ],
   "source": [
    "def Euler(a,b,d):\n",
    "    return factor(a*b + 2*a*d + a + b**2 + 4*b*d + 2*b + 3*d**2 + 3*d + 1)\n",
    "\n",
    "Euler(a,b,d)"
   ]
  },
  {
   "cell_type": "code",
   "execution_count": 12,
   "metadata": {},
   "outputs": [
    {
     "data": {
      "text/latex": [
       "$\\displaystyle 2 \\left(a + 2 b + 3 d\\right)$"
      ],
      "text/plain": [
       "2⋅(a + 2⋅b + 3⋅d)"
      ]
     },
     "execution_count": 12,
     "metadata": {},
     "output_type": "execute_result"
    }
   ],
   "source": [
    "def Diff(a,b,d):\n",
    "    return factor(Euler(a,b,d) - Euler(a,b,d-1))\n",
    "\n",
    "factor(Diff(a,b,d))"
   ]
  },
  {
   "cell_type": "code",
   "execution_count": 12,
   "metadata": {},
   "outputs": [
    {
     "data": {
      "text/latex": [
       "$\\displaystyle 2 \\left(a + 3 d\\right)$"
      ],
      "text/plain": [
       "2⋅(a + 3⋅d)"
      ]
     },
     "execution_count": 12,
     "metadata": {},
     "output_type": "execute_result"
    }
   ],
   "source": [
    "Diff(a,0,d)"
   ]
  },
  {
   "cell_type": "code",
   "execution_count": 13,
   "metadata": {},
   "outputs": [
    {
     "data": {
      "text/latex": [
       "$\\displaystyle \\left(b + 1\\right) \\left(a + b + 1\\right)$"
      ],
      "text/plain": [
       "(b + 1)⋅(a + b + 1)"
      ]
     },
     "execution_count": 13,
     "metadata": {},
     "output_type": "execute_result"
    }
   ],
   "source": [
    "Euler(a,b,0)"
   ]
  },
  {
   "cell_type": "code",
   "execution_count": 14,
   "metadata": {},
   "outputs": [
    {
     "data": {
      "text/latex": [
       "$\\displaystyle 28$"
      ],
      "text/plain": [
       "28"
      ]
     },
     "execution_count": 14,
     "metadata": {},
     "output_type": "execute_result"
    }
   ],
   "source": [
    "Euler(1,2,1)"
   ]
  },
  {
   "cell_type": "code",
   "execution_count": 22,
   "metadata": {},
   "outputs": [],
   "source": [
    "def FirstPoint(t):\n",
    "    return ( 1 / ( 1 - t )**2 )\n",
    "\n",
    "def OtherPoints(t):\n",
    "    return ( 1 / ( ( 1 - t )*(1 - t**(-1) ) ) )\n",
    "\n",
    "def OrbifoldPoint(t):\n",
    "    return ( Rational(1,2) / ( 1 - t**(-Rational(1,2)) )**2 )+ ( Rational(1,2) / ( 1 + t**(-Rational(1,2)) )**2 )\n",
    "\n",
    "def GenFunct(t):\n",
    "    return ( 1 + (1/t) ) / ( 1 - (1/t) )**2"
   ]
  },
  {
   "cell_type": "code",
   "execution_count": 18,
   "metadata": {},
   "outputs": [
    {
     "data": {
      "text/latex": [
       "$\\displaystyle \\frac{1}{\\left(1 - t\\right)^{2}}$"
      ],
      "text/plain": [
       "   1    \n",
       "────────\n",
       "       2\n",
       "(1 - t) "
      ]
     },
     "metadata": {},
     "output_type": "display_data"
    },
    {
     "data": {
      "text/latex": [
       "$\\displaystyle 1 + 2 t + 3 t^{2} + 4 t^{3} + 5 t^{4} + 6 t^{5} + O\\left(t^{6}\\right)$"
      ],
      "text/plain": [
       "             2      3      4      5    ⎛ 6⎞\n",
       "1 + 2⋅t + 3⋅t  + 4⋅t  + 5⋅t  + 6⋅t  + O⎝t ⎠"
      ]
     },
     "metadata": {},
     "output_type": "display_data"
    }
   ],
   "source": [
    "display(FirstPoint(t))\n",
    "\n",
    "display(series( FirstPoint(t), t, 0 ))"
   ]
  },
  {
   "cell_type": "code",
   "execution_count": 19,
   "metadata": {},
   "outputs": [
    {
     "data": {
      "text/latex": [
       "$\\displaystyle \\frac{1}{\\left(1 - \\frac{1}{t}\\right) \\left(1 - t\\right)}$"
      ],
      "text/plain": [
       "       1       \n",
       "───────────────\n",
       "⎛    1⎞        \n",
       "⎜1 - ─⎟⋅(1 - t)\n",
       "⎝    t⎠        "
      ]
     },
     "metadata": {},
     "output_type": "display_data"
    },
    {
     "data": {
      "text/latex": [
       "$\\displaystyle - t - 2 t^{2} - 3 t^{3} - 4 t^{4} - 5 t^{5} + O\\left(t^{6}\\right)$"
      ],
      "text/plain": [
       "        2      3      4      5    ⎛ 6⎞\n",
       "-t - 2⋅t  - 3⋅t  - 4⋅t  - 5⋅t  + O⎝t ⎠"
      ]
     },
     "metadata": {},
     "output_type": "display_data"
    }
   ],
   "source": [
    "display(OtherPoints(t)) \n",
    "\n",
    "display(series( OtherPoints(t), t, 0 ))"
   ]
  },
  {
   "cell_type": "code",
   "execution_count": 20,
   "metadata": {},
   "outputs": [
    {
     "data": {
      "text/latex": [
       "$\\displaystyle \\frac{1}{2 \\left(1 + \\frac{1}{\\sqrt{t}}\\right)^{2}} + \\frac{1}{2 \\left(1 - \\frac{1}{\\sqrt{t}}\\right)^{2}}$"
      ],
      "text/plain": [
       "     1             1     \n",
       "─────────── + ───────────\n",
       "          2             2\n",
       "  ⎛    1 ⎞      ⎛    1 ⎞ \n",
       "2⋅⎜1 + ──⎟    2⋅⎜1 - ──⎟ \n",
       "  ⎝    √t⎠      ⎝    √t⎠ "
      ]
     },
     "metadata": {},
     "output_type": "display_data"
    },
    {
     "data": {
      "text/latex": [
       "$\\displaystyle t + 3 t^{2} + 5 t^{3} + 7 t^{4} + 9 t^{5} + O\\left(t^{6}\\right)$"
      ],
      "text/plain": [
       "       2      3      4      5    ⎛ 6⎞\n",
       "t + 3⋅t  + 5⋅t  + 7⋅t  + 9⋅t  + O⎝t ⎠"
      ]
     },
     "metadata": {},
     "output_type": "display_data"
    }
   ],
   "source": [
    "display(OrbifoldPoint(t))\n",
    "\n",
    "display(series( OrbifoldPoint(t), t, 0 ))"
   ]
  },
  {
   "cell_type": "code",
   "execution_count": 23,
   "metadata": {},
   "outputs": [
    {
     "data": {
      "text/latex": [
       "$\\displaystyle \\frac{1 + \\frac{1}{t}}{\\left(1 - \\frac{1}{t}\\right)^{2}}$"
      ],
      "text/plain": [
       "     1  \n",
       " 1 + ─  \n",
       "     t  \n",
       "────────\n",
       "       2\n",
       "⎛    1⎞ \n",
       "⎜1 - ─⎟ \n",
       "⎝    t⎠ "
      ]
     },
     "metadata": {},
     "output_type": "display_data"
    },
    {
     "data": {
      "text/latex": [
       "$\\displaystyle t + 3 t^{2} + 5 t^{3} + 7 t^{4} + 9 t^{5} + O\\left(t^{6}\\right)$"
      ],
      "text/plain": [
       "       2      3      4      5    ⎛ 6⎞\n",
       "t + 3⋅t  + 5⋅t  + 7⋅t  + 9⋅t  + O⎝t ⎠"
      ]
     },
     "metadata": {},
     "output_type": "display_data"
    }
   ],
   "source": [
    "display(GenFunct(t))\n",
    "\n",
    "display(series( GenFunct(t), t, 0))"
   ]
  },
  {
   "cell_type": "code",
   "execution_count": 47,
   "metadata": {},
   "outputs": [
    {
     "data": {
      "text/latex": [
       "$\\displaystyle t^{2} + 2 t^{3} + 3 t^{4} + 4 t^{5} + O\\left(t^{6}\\right)$"
      ],
      "text/plain": [
       " 2      3      4      5    ⎛ 6⎞\n",
       "t  + 2⋅t  + 3⋅t  + 4⋅t  + O⎝t ⎠"
      ]
     },
     "execution_count": 47,
     "metadata": {},
     "output_type": "execute_result"
    }
   ],
   "source": [
    "series( 1 / ( 1 - (1/t) )**2, t, 0 )"
   ]
  },
  {
   "cell_type": "code",
   "execution_count": 48,
   "metadata": {},
   "outputs": [
    {
     "data": {
      "text/latex": [
       "$\\displaystyle t + 2 t^{2} + 3 t^{3} + 4 t^{4} + 5 t^{5} + O\\left(t^{6}\\right)$"
      ],
      "text/plain": [
       "       2      3      4      5    ⎛ 6⎞\n",
       "t + 2⋅t  + 3⋅t  + 4⋅t  + 5⋅t  + O⎝t ⎠"
      ]
     },
     "execution_count": 48,
     "metadata": {},
     "output_type": "execute_result"
    }
   ],
   "source": [
    "series( (1/t) / ( 1 - (1/t) )**2, t, 0 )"
   ]
  },
  {
   "cell_type": "code",
   "execution_count": 29,
   "metadata": {},
   "outputs": [
    {
     "data": {
      "text/latex": [
       "$\\displaystyle - t - 2 t^{2} + t^{2} \\left(- t - 2 t^{2} - 3 t^{3} - 4 t^{4} - 5 t^{5} + O\\left(t^{6}\\right)\\right) - 3 t^{3} + t^{3} \\left(- t - 2 t^{2} - 3 t^{3} - 4 t^{4} - 5 t^{5} + O\\left(t^{6}\\right)\\right) - 4 t^{4} + t^{4} \\left(t + 3 t^{2} + 5 t^{3} + 7 t^{4} + 9 t^{5} + O\\left(t^{6}\\right)\\right) - 5 t^{5} + O\\left(t^{6}\\right)$"
      ],
      "text/plain": [
       "        2    2 ⎛        2      3      4      5    ⎛ 6⎞⎞      3    3 ⎛        2\n",
       "-t - 2⋅t  + t ⋅⎝-t - 2⋅t  - 3⋅t  - 4⋅t  - 5⋅t  + O⎝t ⎠⎠ - 3⋅t  + t ⋅⎝-t - 2⋅t \n",
       "\n",
       "      3      4      5    ⎛ 6⎞⎞      4    4 ⎛       2      3      4      5    ⎛\n",
       " - 3⋅t  - 4⋅t  - 5⋅t  + O⎝t ⎠⎠ - 4⋅t  + t ⋅⎝t + 3⋅t  + 5⋅t  + 7⋅t  + 9⋅t  + O⎝\n",
       "\n",
       " 6⎞⎞      5    ⎛ 6⎞\n",
       "t ⎠⎠ - 5⋅t  + O⎝t ⎠"
      ]
     },
     "execution_count": 29,
     "metadata": {},
     "output_type": "execute_result"
    }
   ],
   "source": [
    "series( OtherPoints(t), t, 0 ) + (t**2) * series( OtherPoints(t), t, 0 ) + (t**(2+1)) * series( OtherPoints(t), t, 0 ) + (t**(2+1+1))*series( OrbifoldPoint(t), t, 0 )"
   ]
  },
  {
   "cell_type": "code",
   "execution_count": 42,
   "metadata": {},
   "outputs": [],
   "source": [
    "def fpsP1(t,a,b,d):\n",
    "    return t**(-b-2*d) * fps( 1 / ( 1 - t )**2 )\n",
    "\n",
    "def fpsP2(t,a,b,d):\n",
    "    return  fps( 1 / ( 1 - t )*(1 - (1/t)) )\n",
    "\n",
    "def fpsP3(t,a,b,d):\n",
    "    return  t**(a) * fps( 1 / ( 1 - t )*(1 - (1/t) ) )\n",
    "\n",
    "def fpsP4(t,a,b,d):\n",
    "    return  t**(a+b) * fps( 1 / ( 1 - t )*(1 - (1/t) ) )\n",
    "\n",
    "def fpsP5(t,a,b,d):\n",
    "    return  t**(a+b+2*d) * Rational(1,2) * fps( ( 1 / ( 1 - t**(-Rational(1,2)) )**2 ) + ( 1 / ( 1 + t**(-Rational(1,2)) )**2 ) )\n",
    "\n",
    "def OrbifoldPoint(t):\n",
    "    return ( Rational(1,2) / ( 1 - t**(-Rational(1,2)) )**2 )+ ( Rational(1,2) / ( 1 + t**(-Rational(1,2)) )**2 )"
   ]
  },
  {
   "cell_type": "code",
   "execution_count": 13,
   "metadata": {},
   "outputs": [
    {
     "data": {
      "text/latex": [
       "$\\displaystyle \\frac{t^{a} \\left(1 - \\frac{1}{t}\\right)}{1 - t} + \\frac{t^{a + b} \\left(1 - \\frac{1}{t}\\right)}{1 - t} + \\frac{t^{- b - 2 d}}{\\left(1 - t\\right)^{2}} + \\frac{t^{a + b + 2 d}}{2 \\left(\\left(1 - \\frac{1}{\\sqrt{t}}\\right)^{2} + \\left(1 + \\frac{1}{\\sqrt{t}}\\right)^{2}\\right)} + \\frac{1 - \\frac{1}{t}}{1 - t}$"
      ],
      "text/plain": [
       " a ⎛    1⎞    a + b ⎛    1⎞                                               1\n",
       "t ⋅⎜1 - ─⎟   t     ⋅⎜1 - ─⎟    -b - 2⋅d           a + b + 2⋅d         1 - ─\n",
       "   ⎝    t⎠          ⎝    t⎠   t                  t                        t\n",
       "────────── + ────────────── + ───────── + ───────────────────────── + ─────\n",
       "  1 - t          1 - t                2     ⎛        2           2⎞   1 - t\n",
       "                               (1 - t)      ⎜⎛    1 ⎞    ⎛    1 ⎞ ⎟        \n",
       "                                          2⋅⎜⎜1 - ──⎟  + ⎜1 + ──⎟ ⎟        \n",
       "                                            ⎝⎝    √t⎠    ⎝    √t⎠ ⎠        "
      ]
     },
     "execution_count": 13,
     "metadata": {},
     "output_type": "execute_result"
    }
   ],
   "source": [
    "def PointSum(t,a,b,d):\n",
    "    return ( t**(-b-2*d) / ( 1 - t )**2 ) + ( 1 / ( 1 - t )*(1 - (1/t)) ) + ( t**(a) / ( 1 - t )*(1 - (1/t) ) ) + ( t**(a+b) / ( 1 - t )*(1 - (1/t) ) ) + ( t**(a+b+2*d) * Rational(1,2) ) / ( ( ( 1 - t**(-Rational(1,2)) )**2 ) + ( (  1 + t**(-Rational(1,2)) )**2 ) )\n",
    "\n",
    "PointSum(t,a,b,d)"
   ]
  },
  {
   "cell_type": "code",
   "execution_count": 15,
   "metadata": {},
   "outputs": [
    {
     "data": {
      "text/latex": [
       "$\\displaystyle \\frac{t^{a} \\left(1 - \\frac{1}{t}\\right)}{1 - t} + \\frac{t^{a + b} \\left(1 - \\frac{1}{t}\\right)}{1 - t} + \\frac{t^{- b - 2 d}}{\\left(1 - t\\right)^{2}} + \\frac{t^{a + b + 2 d}}{4} + \\frac{1 - \\frac{1}{t}}{1 - t} + \\sum_{k=0}^{\\infty} \\frac{\\left(-1\\right)^{- k - 1} t^{k + a + b + 2 d}}{4}$"
      ],
      "text/plain": [
       "                                                                   ∞          \n",
       "                                                                  ____        \n",
       " a ⎛    1⎞    a + b ⎛    1⎞                                  1    ╲           \n",
       "t ⋅⎜1 - ─⎟   t     ⋅⎜1 - ─⎟    -b - 2⋅d    a + b + 2⋅d   1 - ─     ╲       -k \n",
       "   ⎝    t⎠          ⎝    t⎠   t           t                  t      ╲  (-1)   \n",
       "────────── + ────────────── + ───────── + ──────────── + ───── +    ╱  ───────\n",
       "  1 - t          1 - t                2        4         1 - t     ╱          \n",
       "                               (1 - t)                            ╱           \n",
       "                                                                  ‾‾‾‾        \n",
       "                                                                 k = 0        \n",
       "\n",
       "                    \n",
       "                    \n",
       "                    \n",
       "- 1  k + a + b + 2⋅d\n",
       "   ⋅t               \n",
       "────────────────────\n",
       "      4             \n",
       "                    \n",
       "                    \n",
       "                    "
      ]
     },
     "execution_count": 15,
     "metadata": {},
     "output_type": "execute_result"
    }
   ],
   "source": [
    "fps(PointSum(t,a,b,d), t)"
   ]
  },
  {
   "cell_type": "code",
   "execution_count": 40,
   "metadata": {},
   "outputs": [
    {
     "data": {
      "text/latex": [
       "$\\displaystyle t^{- b - 2 d} \\sum_{k=0}^{\\infty} \\frac{t^{k} \\left(k + 1\\right)!}{k!}$"
      ],
      "text/plain": [
       "          ⎛  ∞              ⎞\n",
       "          ⎜ ____            ⎟\n",
       "          ⎜ ╲               ⎟\n",
       "          ⎜  ╲    k         ⎟\n",
       " -b - 2⋅d ⎜   ╲  t ⋅(k + 1)!⎟\n",
       "t        ⋅⎜   ╱  ───────────⎟\n",
       "          ⎜  ╱        k!    ⎟\n",
       "          ⎜ ╱               ⎟\n",
       "          ⎜ ‾‾‾‾            ⎟\n",
       "          ⎝k = 0            ⎠"
      ]
     },
     "metadata": {},
     "output_type": "display_data"
    },
    {
     "data": {
      "text/latex": [
       "$\\displaystyle \\frac{1 - \\frac{1}{t}}{1 - t}$"
      ],
      "text/plain": [
       "    1\n",
       "1 - ─\n",
       "    t\n",
       "─────\n",
       "1 - t"
      ]
     },
     "metadata": {},
     "output_type": "display_data"
    },
    {
     "data": {
      "text/latex": [
       "$\\displaystyle \\frac{t^{a} \\left(1 - \\frac{1}{t}\\right)}{1 - t}$"
      ],
      "text/plain": [
       " a ⎛    1⎞\n",
       "t ⋅⎜1 - ─⎟\n",
       "   ⎝    t⎠\n",
       "──────────\n",
       "  1 - t   "
      ]
     },
     "metadata": {},
     "output_type": "display_data"
    },
    {
     "data": {
      "text/latex": [
       "$\\displaystyle \\frac{t^{a + b} \\left(1 - \\frac{1}{t}\\right)}{1 - t}$"
      ],
      "text/plain": [
       " a + b ⎛    1⎞\n",
       "t     ⋅⎜1 - ─⎟\n",
       "       ⎝    t⎠\n",
       "──────────────\n",
       "    1 - t     "
      ]
     },
     "metadata": {},
     "output_type": "display_data"
    }
   ],
   "source": [
    "display(fpsP1(t,a,b,d))\n",
    "\n",
    "display(fpsP2(t,a,b,d))\n",
    "\n",
    "display(fpsP3(t,a,b,d))\n",
    "\n",
    "display(fpsP4(t,a,b,d))"
   ]
  },
  {
   "cell_type": "code",
   "execution_count": 46,
   "metadata": {},
   "outputs": [
    {
     "data": {
      "text/latex": [
       "$\\displaystyle \\frac{t^{a} \\left(1 - \\frac{1}{t}\\right)}{1 - t} + \\frac{t^{a + b} \\left(1 - \\frac{1}{t}\\right)}{1 - t} + t^{- b - 2 d} \\sum_{k=0}^{\\infty} \\frac{t^{k} \\left(k + 1\\right)!}{k!} + \\frac{t^{a + b + 2 d} \\left(\\frac{1}{\\left(1 + \\frac{1}{\\sqrt{t}}\\right)^{2}} + \\frac{1}{\\left(1 - \\frac{1}{\\sqrt{t}}\\right)^{2}}\\right)}{2} + \\frac{1 - \\frac{1}{t}}{1 - t}$"
      ],
      "text/plain": [
       "                                                               a + b + 2⋅d ⎛  \n",
       "                                        ⎛  ∞              ⎞   t           ⋅⎜──\n",
       "                                        ⎜ ____            ⎟                ⎜  \n",
       " a ⎛    1⎞    a + b ⎛    1⎞             ⎜ ╲               ⎟                ⎜⎛ \n",
       "t ⋅⎜1 - ─⎟   t     ⋅⎜1 - ─⎟             ⎜  ╲    k         ⎟                ⎜⎜1\n",
       "   ⎝    t⎠          ⎝    t⎠    -b - 2⋅d ⎜   ╲  t ⋅(k + 1)!⎟                ⎝⎝ \n",
       "────────── + ────────────── + t        ⋅⎜   ╱  ───────────⎟ + ────────────────\n",
       "  1 - t          1 - t                  ⎜  ╱        k!    ⎟                   \n",
       "                                        ⎜ ╱               ⎟                   \n",
       "                                        ⎜ ‾‾‾‾            ⎟                   \n",
       "                                        ⎝k = 0            ⎠                   \n",
       "\n",
       "  1           1    ⎞        \n",
       "─────── + ─────────⎟        \n",
       "      2           2⎟        \n",
       "   1 ⎞    ⎛    1 ⎞ ⎟       1\n",
       " + ──⎟    ⎜1 - ──⎟ ⎟   1 - ─\n",
       "   √t⎠    ⎝    √t⎠ ⎠       t\n",
       "──────────────────── + ─────\n",
       " 2                     1 - t\n",
       "                            \n",
       "                            \n",
       "                            "
      ]
     },
     "execution_count": 46,
     "metadata": {},
     "output_type": "execute_result"
    }
   ],
   "source": [
    "fpsP1(t,a,b,d) + fpsP2(t,a,b,d) + fpsP3(t,a,b,d) +fpsP4(t,a,b,d) + fpsP5(t,a,b,d)"
   ]
  },
  {
   "cell_type": "code",
   "execution_count": null,
   "metadata": {},
   "outputs": [],
   "source": []
  }
 ],
 "metadata": {
  "kernelspec": {
   "display_name": "Python 3 (ipykernel)",
   "language": "python",
   "name": "python3"
  },
  "language_info": {
   "codemirror_mode": {
    "name": "ipython",
    "version": 3
   },
   "file_extension": ".py",
   "mimetype": "text/x-python",
   "name": "python",
   "nbconvert_exporter": "python",
   "pygments_lexer": "ipython3",
   "version": "3.9.9"
  }
 },
 "nbformat": 4,
 "nbformat_minor": 4
}
