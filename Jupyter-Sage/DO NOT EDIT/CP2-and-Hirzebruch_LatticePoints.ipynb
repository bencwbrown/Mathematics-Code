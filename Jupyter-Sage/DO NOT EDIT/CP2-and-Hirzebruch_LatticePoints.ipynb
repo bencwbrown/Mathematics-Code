{
 "cells": [
  {
   "cell_type": "code",
   "execution_count": 1,
   "metadata": {},
   "outputs": [],
   "source": [
    "from sympy import *\n",
    "from sympy.vector import Vector\n",
    "from sympy.vector import CoordSys3D\n",
    "import IPython.display as disp\n",
    "\n",
    "N = CoordSys3D('N')\n",
    "\n",
    "t, k = symbols( 't k' )\n",
    "n, d, m = symbols('n d m', positive=True, integer=True)\n",
    "# init_printing(use_unicode=True)\n",
    "init_printing(use_latex='mathjax')\n",
    "\n",
    "# Basis for the edge/weight vectors for the points \n",
    "\n",
    "v1 = N.i\n",
    "v2 = N.j\n",
    "\n",
    "# Define the vector which is not parallel to any edge vector, which will tend to zero:\n",
    "\n",
    "Phi = t*(v1 + 3*v2)"
   ]
  },
  {
   "cell_type": "code",
   "execution_count": 2,
   "metadata": {},
   "outputs": [
    {
     "data": {
      "text/latex": [
       "$\\displaystyle \\mathbf{\\hat{0}}$"
      ],
      "text/plain": [
       "0"
      ]
     },
     "metadata": {},
     "output_type": "display_data"
    },
    {
     "data": {
      "text/latex": [
       "$\\displaystyle (2 m + n)\\mathbf{\\hat{i}_{N}}$"
      ],
      "text/plain": [
       "(2⋅m + n) i_N"
      ]
     },
     "metadata": {},
     "output_type": "display_data"
    },
    {
     "data": {
      "text/latex": [
       "$\\displaystyle (n)\\mathbf{\\hat{i}_{N}} + (2 m)\\mathbf{\\hat{j}_{N}}$"
      ],
      "text/plain": [
       "(n) i_N + (2⋅m) j_N"
      ]
     },
     "metadata": {},
     "output_type": "display_data"
    },
    {
     "data": {
      "text/latex": [
       "$\\displaystyle (2 m)\\mathbf{\\hat{j}_{N}}$"
      ],
      "text/plain": [
       "(2⋅m) j_N"
      ]
     },
     "metadata": {},
     "output_type": "display_data"
    },
    {
     "data": {
      "text/latex": [
       "$\\displaystyle (2 m + n)\\mathbf{\\hat{j}_{N}}$"
      ],
      "text/plain": [
       "(2⋅m + n) j_N"
      ]
     },
     "metadata": {},
     "output_type": "display_data"
    }
   ],
   "source": [
    "# Set the fixed points of the action; P denotes those that belong\n",
    "# to the core, and Q those that come from the cut extended core:\n",
    "\n",
    "def P12(n,m):\n",
    "    return Vector.zero\n",
    "\n",
    "def P23(n,m):\n",
    "    return (2*m + n)*v1\n",
    "\n",
    "def P34(n,m):\n",
    "    return n*v1 + 2*m*v2\n",
    "\n",
    "def P14(n,m):\n",
    "    return 2*m*v2\n",
    "\n",
    "def P13(n,m):\n",
    "    return (2*m + n)*v2\n",
    "\n",
    "interiorPoints = [P12(n,m), P23(n,m), P34(n,m), P14(n,m), P13(n,m)]\n",
    "\n",
    "for P in interiorPoints:\n",
    "    display(P)"
   ]
  },
  {
   "cell_type": "code",
   "execution_count": 3,
   "metadata": {},
   "outputs": [
    {
     "data": {
      "text/latex": [
       "$\\displaystyle (- d + m)\\mathbf{\\hat{j}_{N}}$"
      ],
      "text/plain": [
       "(-d + m) j_N"
      ]
     },
     "metadata": {},
     "output_type": "display_data"
    },
    {
     "data": {
      "text/latex": [
       "$\\displaystyle (- 2 d + 2 m)\\mathbf{\\hat{i}_{N}}$"
      ],
      "text/plain": [
       "(-2⋅d + 2⋅m) i_N"
      ]
     },
     "metadata": {},
     "output_type": "display_data"
    },
    {
     "data": {
      "text/latex": [
       "$\\displaystyle (2 d + n)\\mathbf{\\hat{i}_{N}}$"
      ],
      "text/plain": [
       "(2⋅d + n) i_N"
      ]
     },
     "metadata": {},
     "output_type": "display_data"
    },
    {
     "data": {
      "text/latex": [
       "$\\displaystyle (d + m + n)\\mathbf{\\hat{i}_{N}} + (- d + m)\\mathbf{\\hat{j}_{N}}$"
      ],
      "text/plain": [
       "(d + m + n) i_N + (-d + m) j_N"
      ]
     },
     "metadata": {},
     "output_type": "display_data"
    },
    {
     "data": {
      "text/latex": [
       "$\\displaystyle (2 d + n)\\mathbf{\\hat{i}_{N}} + (2 m)\\mathbf{\\hat{j}_{N}}$"
      ],
      "text/plain": [
       "(2⋅d + n) i_N + (2⋅m) j_N"
      ]
     },
     "metadata": {},
     "output_type": "display_data"
    },
    {
     "data": {
      "text/latex": [
       "$\\displaystyle (- 2 d)\\mathbf{\\hat{i}_{N}} + (2 m)\\mathbf{\\hat{j}_{N}}$"
      ],
      "text/plain": [
       "(-2⋅d) i_N + (2⋅m) j_N"
      ]
     },
     "metadata": {},
     "output_type": "display_data"
    },
    {
     "data": {
      "text/latex": [
       "$\\displaystyle (2 d + 2 m + n)\\mathbf{\\hat{j}_{N}}$"
      ],
      "text/plain": [
       "(2⋅d + 2⋅m + n) j_N"
      ]
     },
     "metadata": {},
     "output_type": "display_data"
    },
    {
     "data": {
      "text/latex": [
       "$\\displaystyle (- 2 d)\\mathbf{\\hat{i}_{N}} + (2 d + 2 m + n)\\mathbf{\\hat{j}_{N}}$"
      ],
      "text/plain": [
       "(-2⋅d) i_N + (2⋅d + 2⋅m + n) j_N"
      ]
     },
     "metadata": {},
     "output_type": "display_data"
    }
   ],
   "source": [
    "def Q12_1(n,m,d):\n",
    "    return (m-d)*v2\n",
    "\n",
    "def Q12_2(n,m,d):\n",
    "    return (2*m-2*d)*v1\n",
    "\n",
    "def Q23_2(n,m,d):\n",
    "    return (n+2*d)*v1\n",
    "\n",
    "def Q23_3(n,m,d):\n",
    "    return (m+n+d)*v1 + (m-d)*v2\n",
    "\n",
    "def Q34_4(n,m,d):\n",
    "    return (n + 2*d)*v1 + 2*m*v2\n",
    "\n",
    "def Q14_4(n,m,d):\n",
    "    return -2*d*v1 + 2*m*v2\n",
    "\n",
    "def Q13_1(n,m,d):\n",
    "    return (2*m+n+2*d)*v2\n",
    "\n",
    "def Q13_3(n,m,d):\n",
    "    return -2*d*v1 + (n + 2*m + 2*d)*v2\n",
    "\n",
    "# Define the term which is summed over each fixed point,\n",
    "# representing the character for the representation\n",
    "\n",
    "def P(P, edge1, edge2, edge3, edge4):\n",
    "    return exp( Phi.dot(P) ) / ( (1 - exp( Phi.dot(edge1) ) ) * ( 1 - exp( Phi.dot(edge2) ) ) * ( 1 - exp( Phi.dot(edge3) ) ) * ( 1 - exp( Phi.dot(edge4) ) ) )\n",
    "\n",
    "\n",
    "def Q(P, edge1, edge2):\n",
    "    return exp( Phi.dot(P) ) / ( (1 - exp( Phi.dot(edge1) ) ) * ( 1 - exp( Phi.dot(edge2) ) ) )\n",
    "\n",
    "def Exp(p, q):\n",
    "    return exp( 2*pi*I*Rational(p,q) )\n",
    "\n",
    "def gExp(g, P):\n",
    "    return exp( 2*pi*I*g.dot(P) )\n",
    "\n",
    "def OrbiFactor(p, q, edge):\n",
    "    return ( 1 - ( Exp(p,q) * exp( Rational(p,q) * Phi.dot(edge) ) ) )\n",
    "\n",
    "def OrbiSum(Q, p, q, edge1, edge2, edge3, edge4):\n",
    "    return ( Rational(1,q) * exp( Phi.dot(Q) ) ) / ( (1 - ( Exp(p,q) * exp( Rational(1,q) * Phi.dot(edge1) ) ) ) * (1 - ( Exp(p,q) * exp( Rational(1,q) * Phi.dot(edge2) ) ) ) * (1 - ( Exp(p,q) * exp( Rational(1,q) * Phi.dot(edge3) ) ) ) * (1 - ( Exp(p,q) * exp( Rational(1,q) * Phi.dot(edge4) ) ) ) ) \n",
    "\n",
    "def gOrbiSum(Q, q, g, edge1, edge2, edge3, edge4):\n",
    "    return ( Rational(1,q) * exp( Phi.dot(Q) ) ) / ( (1 - ( gExp(g,edge1) * exp( Phi.dot(edge1) ) ) ) * (1 - ( gExp(g,edge2) * exp( Phi.dot(edge2) ) ) ) * (1 - ( gExp(g,edge3) * exp( Phi.dot(edge3) ) ) ) * (1 - ( gExp(g,edge4) * exp( Phi.dot(edge4) ) ) ) ) \n",
    "\n",
    "def OrbiHalfSum(Q, p, q, edge1, edge2, edge3, edge4):\n",
    "    return ( Rational(1,q) * exp( Phi.dot(Q) )  ) / ( (1 - ( Exp(p,q) * exp( Rational(1,q) * Phi.dot(edge1) ) ) ) * (1 - ( Exp(p,q) * exp( Rational(1,q) * Phi.dot(edge2) ) ) ) * (1 - ( Exp(p,q) * exp( Rational(1,q) * Phi.dot(edge3) ) ) ) * (1 - ( Exp(p,q) * exp( Rational(1,q) * Phi.dot(edge4) ) ) ) ) \n",
    "\n",
    "boundaryPoints = [Q12_1(n,m,d), Q12_2(n,m,d), Q23_2(n,m,d), Q23_3(n,m,d), Q34_4(n,m,d), Q14_4(n,m,d), Q13_1(n,m,d), Q13_3(n,m,d)]\n",
    "\n",
    "for Q in boundaryPoints:\n",
    "    display(Q)"
   ]
  },
  {
   "cell_type": "code",
   "execution_count": 6,
   "metadata": {},
   "outputs": [
    {
     "data": {
      "text/latex": [
       "$\\displaystyle \\frac{e^{3 t \\left(- d + m\\right)}}{2 \\left(1 - e^{t}\\right)^{2} \\left(1 - e^{\\frac{3 t}{2}}\\right)^{2}}$"
      ],
      "text/plain": [
       "      3⋅t⋅(-d + m)     \n",
       "     ℯ                 \n",
       "───────────────────────\n",
       "                      2\n",
       "            ⎛     3⋅t⎞ \n",
       "          2 ⎜     ───⎟ \n",
       "  ⎛     t⎞  ⎜      2 ⎟ \n",
       "2⋅⎝1 - ℯ ⎠ ⋅⎝1 - ℯ   ⎠ "
      ]
     },
     "metadata": {},
     "output_type": "display_data"
    },
    {
     "data": {
      "text/latex": [
       "$\\displaystyle \\frac{e^{3 t \\left(- d + m\\right)}}{2 \\cdot \\left(1 - e^{t}\\right) \\left(- i e^{t} + 1\\right) \\left(- i e^{\\frac{3 t}{2}} + 1\\right)^{2}}$"
      ],
      "text/plain": [
       "              3⋅t⋅(-d + m)             \n",
       "             ℯ                         \n",
       "───────────────────────────────────────\n",
       "                                      2\n",
       "                        ⎛     3⋅t    ⎞ \n",
       "                        ⎜     ───    ⎟ \n",
       "  ⎛     t⎞ ⎛     t    ⎞ ⎜      2     ⎟ \n",
       "2⋅⎝1 - ℯ ⎠⋅⎝- ⅈ⋅ℯ  + 1⎠⋅⎝- ⅈ⋅ℯ    + 1⎠ "
      ]
     },
     "metadata": {},
     "output_type": "display_data"
    }
   ],
   "source": [
    "# gOrbiSum(Q, q, g, edge1, edge2, edge3, edge4)\n",
    "\n",
    "display( gOrbiSum(Q12_1(n,m,d), 2, Vector.zero, v1, Rational(1,2)*v2, Rational(1,2)*v2, -Rational(1,2)*v1 + Rational(1,2)*v2) )\n",
    "\n",
    "display( gOrbiSum(Q12_1(n,m,d), 2, Rational(1,2)*v2, v1, Rational(1,2)*v2, Rational(1,2)*v2, -Rational(1,2)*v1 + Rational(1,2)*v2) )"
   ]
  },
  {
   "cell_type": "code",
   "execution_count": 4,
   "metadata": {},
   "outputs": [
    {
     "data": {
      "text/latex": [
       "$\\displaystyle \\frac{e^{t \\left(2 m + n\\right)}}{\\left(1 - e^{- 2 t}\\right) \\left(1 - e^{- t}\\right) \\left(1 - e^{t}\\right) \\left(1 - e^{2 t}\\right)} + \\frac{e^{6 m t + n t}}{\\left(1 - e^{- 2 t}\\right) \\left(1 - e^{- t}\\right) \\left(1 - e^{t}\\right) \\left(1 - e^{2 t}\\right)} + \\frac{e^{6 m t}}{\\left(1 - e^{- 3 t}\\right) \\left(1 - e^{- t}\\right) \\left(1 - e^{t}\\right) \\left(1 - e^{3 t}\\right)} + \\frac{1}{\\left(1 - e^{- 3 t}\\right) \\left(1 - e^{- t}\\right) \\left(1 - e^{t}\\right) \\left(1 - e^{3 t}\\right)} + \\frac{e^{3 t \\left(2 m + n\\right)}}{\\left(1 - e^{- 3 t}\\right) \\left(1 - e^{- 2 t}\\right) \\left(1 - e^{2 t}\\right) \\left(1 - e^{3 t}\\right)}$"
      ],
      "text/plain": [
       "                t⋅(2⋅m + n)                                 6⋅m⋅t + n⋅t       \n",
       "               ℯ                                           ℯ                  \n",
       "───────────────────────────────────────── + ──────────────────────────────────\n",
       "⎛     -2⋅t⎞ ⎛     -t⎞ ⎛     t⎞ ⎛     2⋅t⎞   ⎛     -2⋅t⎞ ⎛     -t⎞ ⎛     t⎞ ⎛  \n",
       "⎝1 - ℯ    ⎠⋅⎝1 - ℯ  ⎠⋅⎝1 - ℯ ⎠⋅⎝1 - ℯ   ⎠   ⎝1 - ℯ    ⎠⋅⎝1 - ℯ  ⎠⋅⎝1 - ℯ ⎠⋅⎝1 \n",
       "\n",
       "                             6⋅m⋅t                                            \n",
       "                            ℯ                                             1   \n",
       "─────── + ───────────────────────────────────────── + ────────────────────────\n",
       "   2⋅t⎞   ⎛     -3⋅t⎞ ⎛     -t⎞ ⎛     t⎞ ⎛     3⋅t⎞   ⎛     -3⋅t⎞ ⎛     -t⎞ ⎛ \n",
       "- ℯ   ⎠   ⎝1 - ℯ    ⎠⋅⎝1 - ℯ  ⎠⋅⎝1 - ℯ ⎠⋅⎝1 - ℯ   ⎠   ⎝1 - ℯ    ⎠⋅⎝1 - ℯ  ⎠⋅⎝1\n",
       "\n",
       "                                     3⋅t⋅(2⋅m + n)               \n",
       "                                    ℯ                            \n",
       "───────────────── + ─────────────────────────────────────────────\n",
       "    t⎞ ⎛     3⋅t⎞   ⎛     -3⋅t⎞ ⎛     -2⋅t⎞ ⎛     2⋅t⎞ ⎛     3⋅t⎞\n",
       " - ℯ ⎠⋅⎝1 - ℯ   ⎠   ⎝1 - ℯ    ⎠⋅⎝1 - ℯ    ⎠⋅⎝1 - ℯ   ⎠⋅⎝1 - ℯ   ⎠"
      ]
     },
     "execution_count": 4,
     "metadata": {},
     "output_type": "execute_result"
    }
   ],
   "source": [
    "def TermP12(n,m):\n",
    "    return P(P12(n,m), v1, v2, -v1, -v2)\n",
    "\n",
    "def TermP23(n,m):\n",
    "    return P(P23(n,m), v1, -v1 + v2, -v1, v1 - v2)\n",
    "\n",
    "def TermP34(n,m):\n",
    "    return P(P34(n,m), v1, -v1 + v2, -v1, v1 - v2)\n",
    "\n",
    "def TermP14(n,m):\n",
    "    return P(P14(n,m), v1, v2, -v1, -v2)\n",
    "\n",
    "def TermP13(n,m):\n",
    "    return P(P13(n,m), v1 - v2, v2, -v1 + v2, -v2)\n",
    "\n",
    "def InteriorSum(n,d):\n",
    "    return TermP12(n,m) + TermP23(n,m) + TermP34(n,m) + TermP14(n,m) + TermP13(n,m)\n",
    "\n",
    "InteriorSum(n,d)"
   ]
  },
  {
   "cell_type": "code",
   "execution_count": 5,
   "metadata": {},
   "outputs": [],
   "source": [
    "def TermQ12_2(n,m,d):\n",
    "    return P(Q12_2(n,m,d), v1, v1, -v1 + v2, 2*v1 - v2)\n",
    "\n",
    "def TermQ23_2(n,m,d):\n",
    "    return P(Q23_2(n,m,d), -v1, -v1, v2, -v1 - v2)\n",
    "\n",
    "def TermQ34_4(n,m,d):\n",
    "    return P(Q34_4(n,m,d), -v1, -v1, -v2, -v1 + v2)\n",
    "\n",
    "def TermQ14_4(n,m,d):\n",
    "    return P(Q14_4(n,m,d), v1, v1, v1 - v2, v2)\n",
    "\n",
    "def TermQ13_1(n,m,d):\n",
    "    return P(Q13_1(n,m,d), -v2, -v2, v1 - v2, -v1)\n",
    "\n",
    "def TermQ13_3(n,m,d):\n",
    "    return P(Q13_3(n,m,d), v1 - v2, v1 - v2, v1, -v2)\n",
    "\n",
    "# Q12_1 is an orbifold point of order 2:\n",
    "\n",
    "def TermQ12_1(n,m,d):\n",
    "    return gOrbiSum(Q12_1(n,m,d), 2, Vector.zero, v1, Rational(1,2)*v2, Rational(1,2)*v2, -v1 + Rational(1,2)*v2) + gOrbiSum(Q12_1(n,m,d), 2, v2, v1, Rational(1,2)*v2, Rational(1,2)*v2, -v1 + Rational(1,2)*v2)\n",
    "\n",
    "# Q23_3 is an orbifold point of order 2:\n",
    "\n",
    "def TermQ23_3(n,m,d):\n",
    "    return gOrbiSum(Q23_3(n,m,d), 2, Vector.zero, Rational(1,2)*v1 + Rational(1,2)*v2, -Rational(1,2)*v1 + Rational(1,2)*v2, -Rational(1,2)*v1 + Rational(1,2)*v2, -v1) + gOrbiSum(Q23_3(n,m,d), 2, v2, Rational(1,2)*v1 + Rational(1,2)*v2, -Rational(1,2)*v1 + Rational(1,2)*v2, -Rational(1,2)*v1 + Rational(1,2)*v2, -v1)"
   ]
  },
  {
   "cell_type": "code",
   "execution_count": 9,
   "metadata": {},
   "outputs": [
    {
     "data": {
      "text/latex": [
       "$\\displaystyle \\frac{e^{3 t \\left(- d + m\\right)}}{2 \\cdot \\left(1 - e^{t}\\right) \\left(e^{\\frac{t}{2}} + 1\\right) \\left(e^{\\frac{3 t}{2}} + 1\\right)^{2}} + \\frac{e^{3 t \\left(- d + m\\right)}}{2 \\cdot \\left(1 - e^{\\frac{t}{2}}\\right) \\left(1 - e^{t}\\right) \\left(1 - e^{\\frac{3 t}{2}}\\right)^{2}}$"
      ],
      "text/plain": [
       "          3⋅t⋅(-d + m)                      3⋅t⋅(-d + m)         \n",
       "         ℯ                                 ℯ                     \n",
       "─────────────────────────────── + ───────────────────────────────\n",
       "                              2                                 2\n",
       "           ⎛ t    ⎞ ⎛ 3⋅t    ⎞      ⎛     t⎞          ⎛     3⋅t⎞ \n",
       "           ⎜ ─    ⎟ ⎜ ───    ⎟      ⎜     ─⎟          ⎜     ───⎟ \n",
       "  ⎛     t⎞ ⎜ 2    ⎟ ⎜  2     ⎟      ⎜     2⎟ ⎛     t⎞ ⎜      2 ⎟ \n",
       "2⋅⎝1 - ℯ ⎠⋅⎝ℯ  + 1⎠⋅⎝ℯ    + 1⎠    2⋅⎝1 - ℯ ⎠⋅⎝1 - ℯ ⎠⋅⎝1 - ℯ   ⎠ "
      ]
     },
     "metadata": {},
     "output_type": "display_data"
    },
    {
     "data": {
      "text/latex": [
       "$\\displaystyle \\frac{e^{3 t \\left(- d + m\\right) + t \\left(d + m + n\\right)}}{2 \\cdot \\left(1 - e^{- t}\\right) \\left(e^{t} + 1\\right)^{2} \\left(e^{2 t} + 1\\right)} + \\frac{e^{3 t \\left(- d + m\\right) + t \\left(d + m + n\\right)}}{2 \\cdot \\left(1 - e^{- t}\\right) \\left(1 - e^{t}\\right)^{2} \\cdot \\left(1 - e^{2 t}\\right)}$"
      ],
      "text/plain": [
       "  3⋅t⋅(-d + m) + t⋅(d + m + n)       3⋅t⋅(-d + m) + t⋅(d + m + n)  \n",
       " ℯ                                  ℯ                              \n",
       "──────────────────────────────── + ────────────────────────────────\n",
       "                    2                                  2           \n",
       "  ⎛     -t⎞ ⎛ t    ⎞  ⎛ 2⋅t    ⎞     ⎛     -t⎞ ⎛     t⎞  ⎛     2⋅t⎞\n",
       "2⋅⎝1 - ℯ  ⎠⋅⎝ℯ  + 1⎠ ⋅⎝ℯ    + 1⎠   2⋅⎝1 - ℯ  ⎠⋅⎝1 - ℯ ⎠ ⋅⎝1 - ℯ   ⎠"
      ]
     },
     "metadata": {},
     "output_type": "display_data"
    }
   ],
   "source": [
    "display( TermQ12_1(n,m,d) )\n",
    "display( TermQ23_3(n,m,d) )"
   ]
  },
  {
   "cell_type": "code",
   "execution_count": 6,
   "metadata": {},
   "outputs": [
    {
     "data": {
      "text/latex": [
       "$\\displaystyle \\frac{e^{3 t \\left(- d + m\\right)}}{2 \\cdot \\left(1 - e^{t}\\right) \\left(e^{\\frac{t}{2}} + 1\\right) \\left(e^{\\frac{3 t}{2}} + 1\\right)^{2}} + \\frac{e^{3 t \\left(- d + m\\right)}}{2 \\cdot \\left(1 - e^{\\frac{t}{2}}\\right) \\left(1 - e^{t}\\right) \\left(1 - e^{\\frac{3 t}{2}}\\right)^{2}} + \\frac{e^{3 t \\left(- d + m\\right) + t \\left(d + m + n\\right)}}{2 \\cdot \\left(1 - e^{- t}\\right) \\left(e^{t} + 1\\right)^{2} \\left(e^{2 t} + 1\\right)} + \\frac{e^{t \\left(- 2 d + 2 m\\right)}}{\\left(1 - e^{- t}\\right) \\left(1 - e^{t}\\right)^{2} \\cdot \\left(1 - e^{2 t}\\right)} + \\frac{e^{3 t \\left(- d + m\\right) + t \\left(d + m + n\\right)}}{2 \\cdot \\left(1 - e^{- t}\\right) \\left(1 - e^{t}\\right)^{2} \\cdot \\left(1 - e^{2 t}\\right)} + \\frac{e^{- 2 d t + 6 m t}}{\\left(1 - e^{- 2 t}\\right) \\left(1 - e^{t}\\right)^{2} \\cdot \\left(1 - e^{3 t}\\right)} + \\frac{e^{6 m t + t \\left(2 d + n\\right)}}{\\left(1 - e^{- 3 t}\\right) \\left(1 - e^{- t}\\right)^{2} \\cdot \\left(1 - e^{2 t}\\right)} + \\frac{e^{- 2 d t + 3 t \\left(2 d + 2 m + n\\right)}}{\\left(1 - e^{- 3 t}\\right) \\left(1 - e^{- 2 t}\\right)^{2} \\cdot \\left(1 - e^{t}\\right)} + \\frac{e^{3 t \\left(2 d + 2 m + n\\right)}}{\\left(1 - e^{- 3 t}\\right)^{2} \\cdot \\left(1 - e^{- 2 t}\\right) \\left(1 - e^{- t}\\right)} + \\frac{e^{t \\left(2 d + n\\right)}}{\\left(1 - e^{- 4 t}\\right) \\left(1 - e^{- t}\\right)^{2} \\cdot \\left(1 - e^{3 t}\\right)}$"
      ],
      "text/plain": [
       "          3⋅t⋅(-d + m)                      3⋅t⋅(-d + m)              3⋅t⋅(-d \n",
       "         ℯ                                 ℯ                         ℯ        \n",
       "─────────────────────────────── + ─────────────────────────────── + ──────────\n",
       "                              2                                 2             \n",
       "           ⎛ t    ⎞ ⎛ 3⋅t    ⎞      ⎛     t⎞          ⎛     3⋅t⎞      ⎛     -t\n",
       "           ⎜ ─    ⎟ ⎜ ───    ⎟      ⎜     ─⎟          ⎜     ───⎟    2⋅⎝1 - ℯ  \n",
       "  ⎛     t⎞ ⎜ 2    ⎟ ⎜  2     ⎟      ⎜     2⎟ ⎛     t⎞ ⎜      2 ⎟              \n",
       "2⋅⎝1 - ℯ ⎠⋅⎝ℯ  + 1⎠⋅⎝ℯ    + 1⎠    2⋅⎝1 - ℯ ⎠⋅⎝1 - ℯ ⎠⋅⎝1 - ℯ   ⎠              \n",
       "\n",
       "+ m) + t⋅(d + m + n)             t⋅(-2⋅d + 2⋅m)             3⋅t⋅(-d + m) + t⋅(\n",
       "                                ℯ                          ℯ                  \n",
       "────────────────────── + ────────────────────────────── + ────────────────────\n",
       "          2                                2                                  \n",
       "⎞ ⎛ t    ⎞  ⎛ 2⋅t    ⎞   ⎛     -t⎞ ⎛     t⎞  ⎛     2⋅t⎞     ⎛     -t⎞ ⎛     t⎞\n",
       "⎠⋅⎝ℯ  + 1⎠ ⋅⎝ℯ    + 1⎠   ⎝1 - ℯ  ⎠⋅⎝1 - ℯ ⎠ ⋅⎝1 - ℯ   ⎠   2⋅⎝1 - ℯ  ⎠⋅⎝1 - ℯ ⎠\n",
       "                                                                              \n",
       "                                                                              \n",
       "\n",
       "d + m + n)              -2⋅d⋅t + 6⋅m⋅t                    6⋅m⋅t + t⋅(2⋅d + n) \n",
       "                       ℯ                                 ℯ                    \n",
       "──────────── + ──────────────────────────────── + ────────────────────────────\n",
       "2                                  2                                   2      \n",
       "  ⎛     2⋅t⎞   ⎛     -2⋅t⎞ ⎛     t⎞  ⎛     3⋅t⎞   ⎛     -3⋅t⎞ ⎛     -t⎞  ⎛    \n",
       " ⋅⎝1 - ℯ   ⎠   ⎝1 - ℯ    ⎠⋅⎝1 - ℯ ⎠ ⋅⎝1 - ℯ   ⎠   ⎝1 - ℯ    ⎠⋅⎝1 - ℯ  ⎠ ⋅⎝1 - \n",
       "                                                                              \n",
       "                                                                              \n",
       "\n",
       "           -2⋅d⋅t + 3⋅t⋅(2⋅d + 2⋅m + n)             3⋅t⋅(2⋅d + 2⋅m + n)       \n",
       "          ℯ                                        ℯ                          \n",
       "───── + ───────────────────────────────── + ──────────────────────────────────\n",
       "                               2                       2                      \n",
       " 2⋅t⎞   ⎛     -3⋅t⎞ ⎛     -2⋅t⎞  ⎛     t⎞   ⎛     -3⋅t⎞  ⎛     -2⋅t⎞ ⎛     -t⎞\n",
       "ℯ   ⎠   ⎝1 - ℯ    ⎠⋅⎝1 - ℯ    ⎠ ⋅⎝1 - ℯ ⎠   ⎝1 - ℯ    ⎠ ⋅⎝1 - ℯ    ⎠⋅⎝1 - ℯ  ⎠\n",
       "                                                                              \n",
       "                                                                              \n",
       "\n",
       "               t⋅(2⋅d + n)          \n",
       "              ℯ                     \n",
       " + ─────────────────────────────────\n",
       "                        2           \n",
       "   ⎛     -4⋅t⎞ ⎛     -t⎞  ⎛     3⋅t⎞\n",
       "   ⎝1 - ℯ    ⎠⋅⎝1 - ℯ  ⎠ ⋅⎝1 - ℯ   ⎠\n",
       "                                    \n",
       "                                    "
      ]
     },
     "execution_count": 6,
     "metadata": {},
     "output_type": "execute_result"
    }
   ],
   "source": [
    "def InteriorSum(n,m):\n",
    "    return TermP12(n,m) + TermP23(n,m) + TermP34(n,m) + TermP13(n,m) + TermP14(n,m)\n",
    "\n",
    "def ExteriorSum(n,m,d):\n",
    "    return TermQ12_1(n,m,d) + TermQ12_2(n,m,d) + TermQ23_2(n,m,d) + TermQ23_3(n,m,d) + TermQ34_4(n,m,d) + TermQ13_1(n,m,d) + TermQ13_3(n,m,d) + TermQ14_4(n,m,d)\n",
    "\n",
    "ExteriorSum(n,m,d)"
   ]
  },
  {
   "cell_type": "code",
   "execution_count": 7,
   "metadata": {},
   "outputs": [
    {
     "data": {
      "text/latex": [
       "$\\displaystyle \\frac{e^{3 t \\left(- d + m\\right)}}{2 \\cdot \\left(1 - e^{t}\\right) \\left(e^{\\frac{t}{2}} + 1\\right) \\left(e^{\\frac{3 t}{2}} + 1\\right)^{2}} + \\frac{e^{3 t \\left(- d + m\\right)}}{2 \\cdot \\left(1 - e^{\\frac{t}{2}}\\right) \\left(1 - e^{t}\\right) \\left(1 - e^{\\frac{3 t}{2}}\\right)^{2}} + \\frac{e^{3 t \\left(- d + m\\right) + t \\left(d + m + n\\right)}}{2 \\cdot \\left(1 - e^{- t}\\right) \\left(e^{t} + 1\\right)^{2} \\left(e^{2 t} + 1\\right)} + \\frac{e^{t \\left(- 2 d + 2 m\\right)}}{\\left(1 - e^{- t}\\right) \\left(1 - e^{t}\\right)^{2} \\cdot \\left(1 - e^{2 t}\\right)} + \\frac{e^{3 t \\left(- d + m\\right) + t \\left(d + m + n\\right)}}{2 \\cdot \\left(1 - e^{- t}\\right) \\left(1 - e^{t}\\right)^{2} \\cdot \\left(1 - e^{2 t}\\right)} + \\frac{e^{- 2 d t + 6 m t}}{\\left(1 - e^{- 2 t}\\right) \\left(1 - e^{t}\\right)^{2} \\cdot \\left(1 - e^{3 t}\\right)} + \\frac{e^{t \\left(2 m + n\\right)}}{\\left(1 - e^{- 2 t}\\right) \\left(1 - e^{- t}\\right) \\left(1 - e^{t}\\right) \\left(1 - e^{2 t}\\right)} + \\frac{e^{6 m t + n t}}{\\left(1 - e^{- 2 t}\\right) \\left(1 - e^{- t}\\right) \\left(1 - e^{t}\\right) \\left(1 - e^{2 t}\\right)} + \\frac{e^{6 m t}}{\\left(1 - e^{- 3 t}\\right) \\left(1 - e^{- t}\\right) \\left(1 - e^{t}\\right) \\left(1 - e^{3 t}\\right)} + \\frac{1}{\\left(1 - e^{- 3 t}\\right) \\left(1 - e^{- t}\\right) \\left(1 - e^{t}\\right) \\left(1 - e^{3 t}\\right)} + \\frac{e^{6 m t + t \\left(2 d + n\\right)}}{\\left(1 - e^{- 3 t}\\right) \\left(1 - e^{- t}\\right)^{2} \\cdot \\left(1 - e^{2 t}\\right)} + \\frac{e^{3 t \\left(2 m + n\\right)}}{\\left(1 - e^{- 3 t}\\right) \\left(1 - e^{- 2 t}\\right) \\left(1 - e^{2 t}\\right) \\left(1 - e^{3 t}\\right)} + \\frac{e^{- 2 d t + 3 t \\left(2 d + 2 m + n\\right)}}{\\left(1 - e^{- 3 t}\\right) \\left(1 - e^{- 2 t}\\right)^{2} \\cdot \\left(1 - e^{t}\\right)} + \\frac{e^{3 t \\left(2 d + 2 m + n\\right)}}{\\left(1 - e^{- 3 t}\\right)^{2} \\cdot \\left(1 - e^{- 2 t}\\right) \\left(1 - e^{- t}\\right)} + \\frac{e^{t \\left(2 d + n\\right)}}{\\left(1 - e^{- 4 t}\\right) \\left(1 - e^{- t}\\right)^{2} \\cdot \\left(1 - e^{3 t}\\right)}$"
      ],
      "text/plain": [
       "          3⋅t⋅(-d + m)                      3⋅t⋅(-d + m)              3⋅t⋅(-d \n",
       "         ℯ                                 ℯ                         ℯ        \n",
       "─────────────────────────────── + ─────────────────────────────── + ──────────\n",
       "                              2                                 2             \n",
       "           ⎛ t    ⎞ ⎛ 3⋅t    ⎞      ⎛     t⎞          ⎛     3⋅t⎞      ⎛     -t\n",
       "           ⎜ ─    ⎟ ⎜ ───    ⎟      ⎜     ─⎟          ⎜     ───⎟    2⋅⎝1 - ℯ  \n",
       "  ⎛     t⎞ ⎜ 2    ⎟ ⎜  2     ⎟      ⎜     2⎟ ⎛     t⎞ ⎜      2 ⎟              \n",
       "2⋅⎝1 - ℯ ⎠⋅⎝ℯ  + 1⎠⋅⎝ℯ    + 1⎠    2⋅⎝1 - ℯ ⎠⋅⎝1 - ℯ ⎠⋅⎝1 - ℯ   ⎠              \n",
       "\n",
       "+ m) + t⋅(d + m + n)             t⋅(-2⋅d + 2⋅m)             3⋅t⋅(-d + m) + t⋅(\n",
       "                                ℯ                          ℯ                  \n",
       "────────────────────── + ────────────────────────────── + ────────────────────\n",
       "          2                                2                                  \n",
       "⎞ ⎛ t    ⎞  ⎛ 2⋅t    ⎞   ⎛     -t⎞ ⎛     t⎞  ⎛     2⋅t⎞     ⎛     -t⎞ ⎛     t⎞\n",
       "⎠⋅⎝ℯ  + 1⎠ ⋅⎝ℯ    + 1⎠   ⎝1 - ℯ  ⎠⋅⎝1 - ℯ ⎠ ⋅⎝1 - ℯ   ⎠   2⋅⎝1 - ℯ  ⎠⋅⎝1 - ℯ ⎠\n",
       "                                                                              \n",
       "                                                                              \n",
       "\n",
       "d + m + n)              -2⋅d⋅t + 6⋅m⋅t                            t⋅(2⋅m + n) \n",
       "                       ℯ                                         ℯ            \n",
       "──────────── + ──────────────────────────────── + ────────────────────────────\n",
       "2                                  2              ⎛     -2⋅t⎞ ⎛     -t⎞ ⎛     \n",
       "  ⎛     2⋅t⎞   ⎛     -2⋅t⎞ ⎛     t⎞  ⎛     3⋅t⎞   ⎝1 - ℯ    ⎠⋅⎝1 - ℯ  ⎠⋅⎝1 - ℯ\n",
       " ⋅⎝1 - ℯ   ⎠   ⎝1 - ℯ    ⎠⋅⎝1 - ℯ ⎠ ⋅⎝1 - ℯ   ⎠                               \n",
       "                                                                              \n",
       "                                                                              \n",
       "\n",
       "                                6⋅m⋅t + n⋅t                                   \n",
       "                               ℯ                                              \n",
       "───────────── + ───────────────────────────────────────── + ──────────────────\n",
       "t⎞ ⎛     2⋅t⎞   ⎛     -2⋅t⎞ ⎛     -t⎞ ⎛     t⎞ ⎛     2⋅t⎞   ⎛     -3⋅t⎞ ⎛     \n",
       " ⎠⋅⎝1 - ℯ   ⎠   ⎝1 - ℯ    ⎠⋅⎝1 - ℯ  ⎠⋅⎝1 - ℯ ⎠⋅⎝1 - ℯ   ⎠   ⎝1 - ℯ    ⎠⋅⎝1 - ℯ\n",
       "                                                                              \n",
       "                                                                              \n",
       "                                                                              \n",
       "\n",
       " 6⋅m⋅t                                                                        \n",
       "ℯ                                             1                              ℯ\n",
       "─────────────────────── + ───────────────────────────────────────── + ────────\n",
       "-t⎞ ⎛     t⎞ ⎛     3⋅t⎞   ⎛     -3⋅t⎞ ⎛     -t⎞ ⎛     t⎞ ⎛     3⋅t⎞           \n",
       "  ⎠⋅⎝1 - ℯ ⎠⋅⎝1 - ℯ   ⎠   ⎝1 - ℯ    ⎠⋅⎝1 - ℯ  ⎠⋅⎝1 - ℯ ⎠⋅⎝1 - ℯ   ⎠   ⎛     -3\n",
       "                                                                      ⎝1 - ℯ  \n",
       "                                                                              \n",
       "                                                                              \n",
       "\n",
       "6⋅m⋅t + t⋅(2⋅d + n)                          3⋅t⋅(2⋅m + n)                    \n",
       "                                            ℯ                                 \n",
       "───────────────────────── + ───────────────────────────────────────────── + ──\n",
       "             2              ⎛     -3⋅t⎞ ⎛     -2⋅t⎞ ⎛     2⋅t⎞ ⎛     3⋅t⎞     \n",
       "⋅t⎞ ⎛     -t⎞  ⎛     2⋅t⎞   ⎝1 - ℯ    ⎠⋅⎝1 - ℯ    ⎠⋅⎝1 - ℯ   ⎠⋅⎝1 - ℯ   ⎠   ⎛ \n",
       "  ⎠⋅⎝1 - ℯ  ⎠ ⋅⎝1 - ℯ   ⎠                                                   ⎝1\n",
       "                                                                              \n",
       "                                                                              \n",
       "\n",
       " -2⋅d⋅t + 3⋅t⋅(2⋅d + 2⋅m + n)             3⋅t⋅(2⋅d + 2⋅m + n)                 \n",
       "ℯ                                        ℯ                                    \n",
       "─────────────────────────────── + ────────────────────────────────── + ───────\n",
       "                     2                       2                                \n",
       "    -3⋅t⎞ ⎛     -2⋅t⎞  ⎛     t⎞   ⎛     -3⋅t⎞  ⎛     -2⋅t⎞ ⎛     -t⎞   ⎛     -\n",
       " - ℯ    ⎠⋅⎝1 - ℯ    ⎠ ⋅⎝1 - ℯ ⎠   ⎝1 - ℯ    ⎠ ⋅⎝1 - ℯ    ⎠⋅⎝1 - ℯ  ⎠   ⎝1 - ℯ \n",
       "                                                                              \n",
       "                                                                              \n",
       "\n",
       "     t⋅(2⋅d + n)          \n",
       "    ℯ                     \n",
       "──────────────────────────\n",
       "              2           \n",
       "4⋅t⎞ ⎛     -t⎞  ⎛     3⋅t⎞\n",
       "   ⎠⋅⎝1 - ℯ  ⎠ ⋅⎝1 - ℯ   ⎠\n",
       "                          \n",
       "                          "
      ]
     },
     "execution_count": 7,
     "metadata": {},
     "output_type": "execute_result"
    }
   ],
   "source": [
    "def TotalSum(n,m,d):\n",
    "    return InteriorSum(n,m) + ExteriorSum(n,m,d)\n",
    "\n",
    "TotalSum(n,m,d)"
   ]
  },
  {
   "cell_type": "code",
   "execution_count": 63,
   "metadata": {
    "tags": []
   },
   "outputs": [
    {
     "data": {
      "text/latex": [
       "$\\displaystyle 1 + t \\left(\\frac{13 d^{5}}{6} + \\frac{29 d^{4} m}{2} + 6 d^{4} n + \\frac{65 d^{4}}{8} + 15 d^{3} m^{2} + 20 d^{3} m n + \\frac{87 d^{3} m}{2} + 5 d^{3} n^{2} + 18 d^{3} n + \\frac{45 d^{3}}{4} - \\frac{29 d^{2} m^{3}}{3} + 8 d^{2} m^{2} n + \\frac{135 d^{2} m^{2}}{4} + 7 d^{2} m n^{2} + 45 d^{2} m n + \\frac{581 d^{2} m}{12} + \\frac{4 d^{2} n^{3}}{3} + \\frac{45 d^{2} n^{2}}{4} + \\frac{233 d^{2} n}{12} + \\frac{55 d^{2}}{8} + \\frac{3 d m^{4}}{2} - \\frac{20 d m^{3} n}{3} - \\frac{29 d m^{3}}{2} - d m^{2} n^{2} + 12 d m^{2} n + \\frac{95 d m^{2}}{4} + \\frac{21 d m n^{2}}{2} + \\frac{199 d m n}{6} + \\frac{95 d m}{4} + 2 d n^{3} + \\frac{33 d n^{2}}{4} + \\frac{35 d n}{4} + \\frac{19 d}{12} + \\frac{m^{5}}{2} + 2 m^{4} n + \\frac{9 m^{4}}{8} + \\frac{m^{3} n^{2}}{3} - 5 m^{3} n - \\frac{65 m^{3}}{12} - \\frac{3 m^{2} n^{2}}{4} + \\frac{15 m^{2} n}{4} + \\frac{43 m^{2}}{8} + \\frac{41 m n^{2}}{12} + \\frac{33 m n}{4} + \\frac{53 m}{12} + \\frac{2 n^{3}}{3} + 2 n^{2} + \\frac{4 n}{3}\\right) + t^{2} \\cdot \\left(\\frac{125 d^{6}}{36} + \\frac{91 d^{5} m}{6} + \\frac{26 d^{5} n}{3} + \\frac{125 d^{5}}{8} + \\frac{155 d^{4} m^{2}}{4} + \\frac{110 d^{4} m n}{3} + \\frac{455 d^{4} m}{8} + \\frac{28 d^{4} n^{2}}{3} + \\frac{65 d^{4} n}{2} + \\frac{3899 d^{4}}{144} + \\frac{319 d^{3} m^{3}}{9} + \\frac{176 d^{3} m^{2} n}{3} + \\frac{465 d^{3} m^{2}}{4} + 30 d^{3} m n^{2} + 110 d^{3} m n + \\frac{2825 d^{3} m}{36} + 5 d^{3} n^{3} + 28 d^{3} n^{2} + \\frac{271 d^{3} n}{6} + \\frac{137 d^{3}}{6} - \\frac{69 d^{2} m^{4}}{4} + \\frac{56 d^{2} m^{3} n}{3} + \\frac{319 d^{2} m^{3}}{4} + 22 d^{2} m^{2} n^{2} + 132 d^{2} m^{2} n + \\frac{1037 d^{2} m^{2}}{8} + \\frac{25 d^{2} m n^{3}}{3} + \\frac{135 d^{2} m n^{2}}{2} + \\frac{352 d^{2} m n}{3} + \\frac{193 d^{2} m}{4} + \\frac{13 d^{2} n^{4}}{12} + \\frac{45 d^{2} n^{3}}{4} + \\frac{713 d^{2} n^{2}}{24} + \\frac{229 d^{2} n}{8} + \\frac{1361 d^{2}}{144} + \\frac{11 d m^{5}}{6} - \\frac{38 d m^{4} n}{3} - \\frac{207 d m^{4}}{8} - \\frac{10 d m^{3} n^{2}}{3} + 28 d m^{3} n + \\frac{2045 d m^{3}}{36} - \\frac{d m^{2} n^{3}}{3} + 33 d m^{2} n^{2} + \\frac{587 d m^{2} n}{6} + \\frac{127 d m^{2}}{2} + \\frac{25 d m n^{3}}{2} + \\frac{589 d m n^{2}}{12} + \\frac{207 d m n}{4} + \\frac{893 d m}{72} + \\frac{13 d n^{4}}{8} + \\frac{49 d n^{3}}{6} + 13 d n^{2} + \\frac{63 d n}{8} + \\frac{37 d}{24} + \\frac{29 m^{6}}{36} + \\frac{10 m^{5} n}{3} + \\frac{11 m^{5}}{8} + m^{4} n^{2} - \\frac{19 m^{4} n}{2} - \\frac{1405 m^{4}}{144} + \\frac{m^{3} n^{3}}{9} - \\frac{5 m^{3} n^{2}}{2} + \\frac{80 m^{3} n}{9} + \\frac{157 m^{3}}{12} - \\frac{m^{2} n^{3}}{4} + \\frac{87 m^{2} n^{2}}{8} + \\frac{195 m^{2} n}{8} + \\frac{1685 m^{2}}{144} + \\frac{149 m n^{3}}{36} + \\frac{93 m n^{2}}{8} + \\frac{569 m n}{72} + \\frac{19 m}{24} + \\frac{13 n^{4}}{24} + \\frac{23 n^{3}}{12} + \\frac{47 n^{2}}{24} + \\frac{7 n}{12}\\right) + t^{3} \\cdot \\left(\\frac{95 d^{7}}{36} + \\frac{79 d^{6} m}{4} + \\frac{28 d^{6} n}{3} + \\frac{665 d^{6}}{48} + \\frac{195 d^{5} m^{2}}{4} + 52 d^{5} m n + \\frac{711 d^{5} m}{8} + 13 d^{5} n^{2} + 42 d^{5} n + \\frac{455 d^{5}}{16} + \\frac{2611 d^{4} m^{3}}{36} + \\frac{332 d^{4} m^{2} n}{3} + \\frac{2925 d^{4} m^{2}}{16} + \\frac{169 d^{4} m n^{2}}{3} + 195 d^{4} m n + \\frac{22109 d^{4} m}{144} + \\frac{85 d^{4} n^{3}}{9} + \\frac{195 d^{4} n^{2}}{4} + \\frac{2603 d^{4} n}{36} + \\frac{685 d^{4}}{24} + \\frac{229 d^{3} m^{4}}{4} + \\frac{1040 d^{3} m^{3} n}{9} + \\frac{2611 d^{3} m^{3}}{12} + \\frac{268 d^{3} m^{2} n^{2}}{3} + 332 d^{3} m^{2} n + \\frac{6065 d^{3} m^{2}}{24} + 30 d^{3} m n^{3} + 169 d^{3} m n^{2} + \\frac{2434 d^{3} m n}{9} + \\frac{767 d^{3} m}{6} + \\frac{15 d^{3} n^{4}}{4} + \\frac{85 d^{3} n^{3}}{3} + \\frac{811 d^{3} n^{2}}{12} + \\frac{178 d^{3} n}{3} + \\frac{2015 d^{3}}{144} - \\frac{265 d^{2} m^{5}}{12} + \\frac{92 d^{2} m^{4} n}{3} + \\frac{2061 d^{2} m^{4}}{16} + \\frac{136 d^{2} m^{3} n^{2}}{3} + 260 d^{2} m^{3} n + \\frac{17501 d^{2} m^{3}}{72} + \\frac{76 d^{2} m^{2} n^{3}}{3} + 201 d^{2} m^{2} n^{2} + \\frac{1061 d^{2} m^{2} n}{3} + 157 d^{2} m^{2} + \\frac{79 d^{2} m n^{4}}{12} + \\frac{135 d^{2} m n^{3}}{2} + \\frac{536 d^{2} m n^{2}}{3} + \\frac{681 d^{2} m n}{4} + \\frac{7427 d^{2} m}{144} + \\frac{2 d^{2} n^{5}}{3} + \\frac{135 d^{2} n^{4}}{16} + \\frac{2153 d^{2} n^{3}}{72} + \\frac{679 d^{2} n^{2}}{16} + \\frac{415 d^{2} n}{18} + \\frac{125 d^{2}}{48} + \\frac{19 d m^{6}}{12} - \\frac{52 d m^{5} n}{3} - \\frac{265 d m^{5}}{8} - \\frac{19 d m^{4} n^{2}}{3} + 46 d m^{4} n + \\frac{1475 d m^{4}}{16} - \\frac{10 d m^{3} n^{3}}{9} + 68 d m^{3} n^{2} + \\frac{1741 d m^{3} n}{9} + \\frac{358 d m^{3}}{3} - \\frac{d m^{2} n^{4}}{12} + 38 d m^{2} n^{3} + \\frac{1757 d m^{2} n^{2}}{12} + 156 d m^{2} n + \\frac{2003 d m^{2}}{48} + \\frac{79 d m n^{4}}{8} + \\frac{1759 d m n^{3}}{36} + \\frac{621 d m n^{2}}{8} + \\frac{1679 d m n}{36} + \\frac{199 d m}{24} + d n^{5} + \\frac{293 d n^{4}}{48} + \\frac{311 d n^{3}}{24} + \\frac{553 d n^{2}}{48} + \\frac{41 d n}{12} - \\frac{5 d}{72} + \\frac{11 m^{7}}{12} + 4 m^{6} n + \\frac{19 m^{6}}{16} + \\frac{5 m^{5} n^{2}}{3} - 13 m^{5} n - \\frac{605 m^{5}}{48} + \\frac{m^{4} n^{3}}{3} - \\frac{19 m^{4} n^{2}}{4} + \\frac{175 m^{4} n}{12} + \\frac{511 m^{4}}{24} + \\frac{m^{3} n^{4}}{36} - \\frac{5 m^{3} n^{3}}{6} + \\frac{202 m^{3} n^{2}}{9} + \\frac{193 m^{3} n}{4} + \\frac{3173 m^{3}}{144} - \\frac{m^{2} n^{4}}{16} + \\frac{101 m^{2} n^{3}}{8} + \\frac{555 m^{2} n^{2}}{16} + \\frac{287 m^{2} n}{12} + \\frac{149 m^{2}}{48} + \\frac{473 m n^{4}}{144} + \\frac{91 m n^{3}}{8} + \\frac{1685 m n^{2}}{144} + \\frac{15 m n}{4} + \\frac{5 m}{72} + \\frac{n^{5}}{3} + \\frac{17 n^{4}}{12} + \\frac{35 n^{3}}{18} + \\frac{11 n^{2}}{12} + \\frac{n}{18}\\right) + t^{4} \\cdot \\left(\\frac{359 d^{8}}{160} + \\frac{589 d^{7} m}{36} + \\frac{76 d^{7} n}{9} + \\frac{1077 d^{7}}{80} + \\frac{6899 d^{6} m^{2}}{120} + \\frac{2524 d^{6} m n}{45} + \\frac{4123 d^{6} m}{48} + \\frac{632 d^{6} n^{2}}{45} + \\frac{133 d^{6} n}{3} + \\frac{139031 d^{6}}{4320} + \\frac{18151 d^{5} m^{3}}{180} + \\frac{2336 d^{5} m^{2} n}{15} + \\frac{20697 d^{5} m^{2}}{80} + 78 d^{5} m n^{2} + \\frac{1262 d^{5} m n}{5} + \\frac{25381 d^{5} m}{144} + 13 d^{5} n^{3} + \\frac{316 d^{5} n^{2}}{5} + \\frac{2731 d^{5} n}{30} + \\frac{467 d^{5}}{12} + \\frac{1681 d^{4} m^{4}}{16} + \\frac{2000 d^{4} m^{3} n}{9} + \\frac{18151 d^{4} m^{3}}{48} + \\frac{508 d^{4} m^{2} n^{2}}{3} + 584 d^{4} m^{2} n + \\frac{42893 d^{4} m^{2}}{96} + \\frac{511 d^{4} m n^{3}}{9} + \\frac{585 d^{4} m n^{2}}{2} + \\frac{3907 d^{4} m n}{9} + \\frac{532 d^{4} m}{3} + \\frac{64 d^{4} n^{4}}{9} + \\frac{195 d^{4} n^{3}}{4} + \\frac{7823 d^{4} n^{2}}{72} + \\frac{2209 d^{4} n}{24} + \\frac{213319 d^{4}}{8640} + \\frac{2555 d^{3} m^{5}}{36} + \\frac{1544 d^{3} m^{4} n}{9} + \\frac{5043 d^{3} m^{4}}{16} + \\frac{1600 d^{3} m^{3} n^{2}}{9} + \\frac{2000 d^{3} m^{3} n}{3} + \\frac{112985 d^{3} m^{3}}{216} + \\frac{808 d^{3} m^{2} n^{3}}{9} + 508 d^{3} m^{2} n^{2} + \\frac{7292 d^{3} m^{2} n}{9} + \\frac{2225 d^{3} m^{2}}{6} + \\frac{45 d^{3} m n^{4}}{2} + \\frac{511 d^{3} m n^{3}}{3} + \\frac{3647 d^{3} m n^{2}}{9} + \\frac{711 d^{3} m n}{2} + \\frac{38273 d^{3} m}{432} + \\frac{9 d^{3} n^{5}}{4} + \\frac{64 d^{3} n^{4}}{3} + \\frac{2431 d^{3} n^{3}}{36} + \\frac{1067 d^{3} n^{2}}{12} + \\frac{3367 d^{3} n}{72} + \\frac{10549 d^{3}}{1440} - \\frac{2701 d^{2} m^{6}}{120} + \\frac{584 d^{2} m^{5} n}{15} + \\frac{2555 d^{2} m^{5}}{16} + \\frac{208 d^{2} m^{4} n^{2}}{3} + 386 d^{2} m^{4} n + \\frac{11279 d^{2} m^{4}}{32} + \\frac{460 d^{2} m^{3} n^{3}}{9} + 400 d^{2} m^{3} n^{2} + \\frac{6386 d^{2} m^{3} n}{9} + \\frac{1957 d^{2} m^{3}}{6} + \\frac{119 d^{2} m^{2} n^{4}}{6} + 202 d^{2} m^{2} n^{3} + \\frac{3221 d^{2} m^{2} n^{2}}{6} + 510 d^{2} m^{2} n + \\frac{70933 d^{2} m^{2}}{480} + \\frac{241 d^{2} m n^{5}}{60} + \\frac{405 d^{2} m n^{4}}{8} + \\frac{1616 d^{2} m n^{3}}{9} + \\frac{2031 d^{2} m n^{2}}{8} + \\frac{49801 d^{2} m n}{360} + \\frac{1769 d^{2} m}{96} + \\frac{121 d^{2} n^{6}}{360} + \\frac{81 d^{2} n^{5}}{16} + \\frac{6473 d^{2} n^{4}}{288} + \\frac{2029 d^{2} n^{3}}{48} + \\frac{24911 d^{2} n^{2}}{720} + \\frac{979 d^{2} n}{96} + \\frac{4033 d^{2}}{8640} + \\frac{193 d m^{7}}{180} - \\frac{844 d m^{6} n}{45} - \\frac{2701 d m^{6}}{80} - \\frac{26 d m^{5} n^{2}}{3} + \\frac{292 d m^{5} n}{5} + \\frac{16501 d m^{5}}{144} - \\frac{19 d m^{4} n^{3}}{9} + 104 d m^{4} n^{2} + \\frac{5183 d m^{4} n}{18} + \\frac{2081 d m^{4}}{12} - \\frac{5 d m^{3} n^{4}}{18} + \\frac{230 d m^{3} n^{3}}{3} + \\frac{5251 d m^{3} n^{2}}{18} + 313 d m^{3} n + \\frac{189397 d m^{3}}{2160} - \\frac{d m^{2} n^{5}}{60} + \\frac{119 d m^{2} n^{4}}{4} + \\frac{5267 d m^{2} n^{3}}{36} + \\frac{933 d m^{2} n^{2}}{4} + \\frac{50149 d m^{2} n}{360} + \\frac{10889 d m^{2}}{480} + \\frac{241 d m n^{5}}{40} + \\frac{5269 d m n^{4}}{144} + \\frac{621 d m n^{3}}{8} + \\frac{4955 d m n^{2}}{72} + \\frac{1689 d m n}{80} + \\frac{197 d m}{864} + \\frac{121 d n^{6}}{240} + \\frac{439 d n^{5}}{120} + \\frac{233 d n^{4}}{24} + \\frac{1645 d n^{3}}{144} + \\frac{2527 d n^{2}}{480} + \\frac{379 d n}{1440} - \\frac{35 d}{288} + \\frac{1183 m^{8}}{1440} + \\frac{172 m^{7} n}{45} + \\frac{193 m^{7}}{240} + 2 m^{6} n^{2} - \\frac{211 m^{6} n}{15} - \\frac{11189 m^{6}}{864} + \\frac{5 m^{5} n^{3}}{9} - \\frac{13 m^{5} n^{2}}{2} + \\frac{166 m^{5} n}{9} + \\frac{397 m^{5}}{15} + \\frac{m^{4} n^{4}}{12} - \\frac{19 m^{4} n^{3}}{12} + \\frac{823 m^{4} n^{2}}{24} + \\frac{575 m^{4} n}{8} + \\frac{277927 m^{4}}{8640} + \\frac{m^{3} n^{5}}{180} - \\frac{5 m^{3} n^{4}}{24} + \\frac{688 m^{3} n^{3}}{27} + \\frac{553 m^{3} n^{2}}{8} + \\frac{52031 m^{3} n}{1080} + \\frac{9937 m^{3}}{1440} - \\frac{m^{2} n^{5}}{80} + \\frac{317 m^{2} n^{4}}{32} + \\frac{545 m^{2} n^{3}}{16} + \\frac{845 m^{2} n^{2}}{24} + \\frac{1791 m^{2} n}{160} - \\frac{103 m^{2}}{1728} + \\frac{289 m n^{5}}{144} + \\frac{271 m n^{4}}{32} + \\frac{5033 m n^{3}}{432} + \\frac{45 m n^{2}}{8} + \\frac{335 m n}{864} - \\frac{217 m}{1440} + \\frac{121 n^{6}}{720} + \\frac{203 n^{5}}{240} + \\frac{419 n^{4}}{288} + \\frac{67 n^{3}}{72} + \\frac{41 n^{2}}{480} - \\frac{49 n}{720}\\right) + t^{5} \\cdot \\left(\\frac{1261 d^{9}}{864} + \\frac{6367 d^{8} m}{480} + \\frac{98 d^{8} n}{15} + \\frac{1261 d^{8}}{128} + \\frac{399 d^{7} m^{2}}{8} + \\frac{152 d^{7} m n}{3} + \\frac{6367 d^{7} m}{80} + \\frac{38 d^{7} n^{2}}{3} + \\frac{196 d^{7} n}{5} + \\frac{859 d^{7}}{32} + \\frac{122251 d^{6} m^{3}}{1080} + \\frac{7576 d^{6} m^{2} n}{45} + \\frac{8379 d^{6} m^{2}}{32} + \\frac{3794 d^{6} m n^{2}}{45} + 266 d^{6} m n + \\frac{821621 d^{6} m}{4320} + \\frac{1898 d^{6} n^{3}}{135} + \\frac{133 d^{6} n^{2}}{2} + \\frac{25283 d^{6} n}{270} + \\frac{2695 d^{6}}{72} + \\frac{12301 d^{5} m^{4}}{80} + \\frac{2800 d^{5} m^{3} n}{9} + \\frac{122251 d^{5} m^{3}}{240} + \\frac{3508 d^{5} m^{2} n^{2}}{15} + \\frac{3788 d^{5} m^{2} n}{5} + \\frac{51589 d^{5} m^{2}}{96} + 78 d^{5} m n^{3} + \\frac{1897 d^{5} m n^{2}}{5} + \\frac{24574 d^{5} m n}{45} + \\frac{2753 d^{5} m}{12} + \\frac{39 d^{5} n^{4}}{4} + \\frac{949 d^{5} n^{3}}{15} + \\frac{8191 d^{5} n^{2}}{60} + \\frac{338 d^{5} n}{3} + \\frac{1761 d^{5}}{64} + \\frac{89227 d^{4} m^{5}}{720} + \\frac{3008 d^{4} m^{4} n}{9} + \\frac{36903 d^{4} m^{4}}{64} + \\frac{3052 d^{4} m^{3} n^{2}}{9} + \\frac{3500 d^{4} m^{3} n}{3} + \\frac{759989 d^{4} m^{3}}{864} + \\frac{1534 d^{4} m^{2} n^{3}}{9} + 877 d^{4} m^{2} n^{2} + \\frac{11726 d^{4} m^{2} n}{9} + \\frac{13001 d^{4} m^{2}}{24} + \\frac{1537 d^{4} m n^{4}}{36} + \\frac{585 d^{4} m n^{3}}{2} + \\frac{11737 d^{4} m n^{2}}{18} + \\frac{2207 d^{4} m n}{4} + \\frac{1247629 d^{4} m}{8640} + \\frac{769 d^{4} n^{5}}{180} + \\frac{585 d^{4} n^{4}}{16} + \\frac{23483 d^{4} n^{3}}{216} + \\frac{6619 d^{4} n^{2}}{48} + \\frac{75899 d^{4} n}{1080} + \\frac{10681 d^{4}}{1152} + \\frac{5179 d^{3} m^{6}}{72} + \\frac{1840 d^{3} m^{5} n}{9} + \\frac{89227 d^{3} m^{5}}{240} + \\frac{2392 d^{3} m^{4} n^{2}}{9} + \\frac{3008 d^{3} m^{4} n}{3} + \\frac{76595 d^{3} m^{4}}{96} + \\frac{4840 d^{3} m^{3} n^{3}}{27} + \\frac{3052 d^{3} m^{3} n^{2}}{3} + \\frac{43712 d^{3} m^{3} n}{27} + \\frac{13123 d^{3} m^{3}}{18} + \\frac{607 d^{3} m^{2} n^{4}}{9} + \\frac{1534 d^{3} m^{2} n^{3}}{3} + \\frac{10936 d^{3} m^{2} n^{2}}{9} + 1067 d^{3} m^{2} n + \\frac{78581 d^{3} m^{2}}{288} + \\frac{27 d^{3} m n^{5}}{2} + \\frac{1537 d^{3} m n^{4}}{12} + \\frac{10937 d^{3} m n^{3}}{27} + \\frac{2133 d^{3} m n^{2}}{4} + \\frac{30259 d^{3} m n}{108} + \\frac{60619 d^{3} m}{1440} + \\frac{9 d^{3} n^{6}}{8} + \\frac{769 d^{3} n^{5}}{60} + \\frac{7291 d^{3} n^{4}}{144} + \\frac{800 d^{3} n^{3}}{9} + \\frac{10073 d^{3} n^{2}}{144} + \\frac{7183 d^{3} n}{360} + \\frac{679 d^{3}}{1728} - \\frac{6947 d^{2} m^{7}}{360} + \\frac{1816 d^{2} m^{6} n}{45} + \\frac{5179 d^{2} m^{6}}{32} + \\frac{1264 d^{2} m^{5} n^{2}}{15} + 460 d^{2} m^{5} n + \\frac{598901 d^{2} m^{5}}{1440} + \\frac{694 d^{2} m^{4} n^{3}}{9} + 598 d^{2} m^{4} n^{2} + \\frac{9599 d^{2} m^{4} n}{9} + \\frac{11957 d^{2} m^{4}}{24} + \\frac{358 d^{2} m^{3} n^{4}}{9} + \\frac{1210 d^{2} m^{3} n^{3}}{3} + \\frac{9673 d^{2} m^{3} n^{2}}{9} + 1019 d^{2} m^{3} n + \\frac{1248037 d^{2} m^{3}}{4320} + \\frac{181 d^{2} m^{2} n^{5}}{15} + \\frac{607 d^{2} m^{2} n^{4}}{4} + \\frac{9701 d^{2} m^{2} n^{3}}{18} + \\frac{3045 d^{2} m^{2} n^{2}}{4} + \\frac{18703 d^{2} m^{2} n}{45} + \\frac{11245 d^{2} m^{2}}{192} + \\frac{727 d^{2} m n^{6}}{360} + \\frac{243 d^{2} m n^{5}}{8} + \\frac{1214 d^{2} m n^{4}}{9} + \\frac{2027 d^{2} m n^{3}}{8} + \\frac{149467 d^{2} m n^{2}}{720} + \\frac{987 d^{2} m n}{16} + \\frac{21343 d^{2} m}{8640} + \\frac{13 d^{2} n^{7}}{90} + \\frac{81 d^{2} n^{6}}{32} + \\frac{19433 d^{2} n^{5}}{1440} + \\frac{6079 d^{2} n^{4}}{192} + \\frac{9343 d^{2} n^{3}}{270} + \\frac{2953 d^{2} n^{2}}{192} + \\frac{2251 d^{2} n}{2160} - \\frac{175 d^{2}}{576} + \\frac{289 d m^{8}}{480} - \\frac{152 d m^{7} n}{9} - \\frac{6947 d m^{7}}{240} - \\frac{422 d m^{6} n^{2}}{45} + \\frac{908 d m^{6} n}{15} + \\frac{33509 d m^{6}}{288} - \\frac{26 d m^{5} n^{3}}{9} + \\frac{632 d m^{5} n^{2}}{5} + \\frac{15469 d m^{5} n}{45} + \\frac{2459 d m^{5}}{12} - \\frac{19 d m^{4} n^{4}}{36} + \\frac{347 d m^{4} n^{3}}{3} + \\frac{15713 d m^{4} n^{2}}{36} + \\frac{941 d m^{4} n}{2} + \\frac{129067 d m^{4}}{960} - \\frac{d m^{3} n^{5}}{18} + \\frac{179 d m^{3} n^{4}}{3} + \\frac{15781 d m^{3} n^{3}}{54} + 467 d m^{3} n^{2} + \\frac{30001 d m^{3} n}{108} + \\frac{62287 d m^{3}}{1440} - \\frac{d m^{2} n^{6}}{360} + \\frac{181 d m^{2} n^{5}}{10} + \\frac{15797 d m^{2} n^{4}}{144} + 233 d m^{2} n^{3} + \\frac{148429 d m^{2} n^{2}}{720} + \\frac{1269 d m^{2} n}{20} + \\frac{803 d m^{2}}{576} + \\frac{727 d m n^{6}}{240} + \\frac{15799 d m n^{5}}{720} + \\frac{1863 d m n^{4}}{32} + \\frac{14783 d m n^{3}}{216} + \\frac{5103 d m n^{2}}{160} + \\frac{4231 d m n}{2160} - \\frac{245 d m}{288} + \\frac{13 d n^{7}}{60} + \\frac{2633 d n^{6}}{1440} + \\frac{559 d n^{5}}{96} + \\frac{4921 d n^{4}}{576} + \\frac{239 d n^{3}}{45} + \\frac{171 d n^{2}}{320} - \\frac{49 d n}{144} + \\frac{11 d}{288} + \\frac{59 m^{9}}{96} + \\frac{46 m^{8} n}{15} + \\frac{289 m^{8}}{640} + \\frac{86 m^{7} n^{2}}{45} - \\frac{38 m^{7} n}{3} - \\frac{1073 m^{7}}{96} + \\frac{2 m^{6} n^{3}}{3} - \\frac{211 m^{6} n^{2}}{30} + \\frac{343 m^{6} n}{18} + \\frac{9671 m^{6}}{360} + \\frac{5 m^{5} n^{4}}{36} - \\frac{13 m^{5} n^{3}}{6} + \\frac{1873 m^{5} n^{2}}{45} + \\frac{1717 m^{5} n}{20} + \\frac{36641 m^{5}}{960} + \\frac{m^{4} n^{5}}{60} - \\frac{19 m^{4} n^{4}}{48} + \\frac{2767 m^{4} n^{3}}{72} + \\frac{1655 m^{4} n^{2}}{16} + \\frac{8717 m^{4} n}{120} + \\frac{62453 m^{4}}{5760} + \\frac{m^{3} n^{6}}{1080} - \\frac{m^{3} n^{5}}{24} + \\frac{1073 m^{3} n^{4}}{54} + \\frac{1633 m^{3} n^{3}}{24} + \\frac{152471 m^{3} n^{2}}{2160} + \\frac{357 m^{3} n}{16} - \\frac{257 m^{3}}{576} - \\frac{m^{2} n^{6}}{480} + \\frac{193 m^{2} n^{5}}{32} + \\frac{1625 m^{2} n^{4}}{64} + \\frac{2519 m^{2} n^{3}}{72} + \\frac{5391 m^{2} n^{2}}{320} + \\frac{37 m^{2} n}{36} - \\frac{1379 m^{2}}{2880} + \\frac{4361 m n^{6}}{4320} + \\frac{811 m n^{5}}{160} + \\frac{15077 m n^{4}}{1728} + \\frac{45 m n^{3}}{8} + \\frac{4663 m n^{2}}{8640} - \\frac{119 m n}{240} - \\frac{11 m}{288} + \\frac{13 n^{7}}{180} + \\frac{19 n^{6}}{45} + \\frac{157 n^{5}}{180} + \\frac{101 n^{4}}{144} + \\frac{31 n^{3}}{360} - \\frac{77 n^{2}}{720} - \\frac{n}{72}\\right) + \\frac{3 n}{2} + \\frac{n^{2}}{2} + m + \\frac{5 m n}{6} - \\frac{5 m^{2}}{3} - \\frac{3 m^{2} n}{2} + \\frac{m^{3}}{2} + \\frac{2 m^{3} n}{3} + \\frac{m^{4}}{6} + 5 d + \\frac{17 d n}{3} + \\frac{3 d n^{2}}{2} + 5 d m + 3 d m n - \\frac{9 d m^{2}}{2} - 2 d m^{2} n + \\frac{2 d m^{3}}{3} + \\frac{29 d^{2}}{3} + \\frac{15 d^{2} n}{2} + d^{2} n^{2} + \\frac{15 d^{2} m}{2} + 2 d^{2} m n - 3 d^{2} m^{2} + \\frac{17 d^{3}}{2} + \\frac{10 d^{3} n}{3} + \\frac{10 d^{3} m}{3} + \\frac{17 d^{4}}{6} + O\\left(t^{6}\\right)$"
      ],
      "text/plain": [
       "      ⎛    5       4                  4                              3        \n",
       "      ⎜13⋅d    29⋅d ⋅m      4     65⋅d        3  2       3       87⋅d ⋅m      \n",
       "1 + t⋅⎜───── + ─────── + 6⋅d ⋅n + ───── + 15⋅d ⋅m  + 20⋅d ⋅m⋅n + ─────── + 5⋅d\n",
       "      ⎝  6        2                 8                               2         \n",
       "\n",
       "                     3       2  3                    2  2                     \n",
       "3  2       3     45⋅d    29⋅d ⋅m       2  2     135⋅d ⋅m       2    2       2 \n",
       " ⋅n  + 18⋅d ⋅n + ───── - ──────── + 8⋅d ⋅m ⋅n + ───────── + 7⋅d ⋅m⋅n  + 45⋅d ⋅\n",
       "                   4        3                       4                         \n",
       "\n",
       "           2        2  3       2  2        2         2        4         3     \n",
       "      581⋅d ⋅m   4⋅d ⋅n    45⋅d ⋅n    233⋅d ⋅n   55⋅d    3⋅d⋅m    20⋅d⋅m ⋅n   \n",
       "m⋅n + ──────── + ─────── + ──────── + ──────── + ───── + ────── - ───────── - \n",
       "         12         3         4          12        8       2          3       \n",
       "\n",
       "      3                               2           2                           \n",
       "29⋅d⋅m       2  2         2     95⋅d⋅m    21⋅d⋅m⋅n    199⋅d⋅m⋅n   95⋅d⋅m      \n",
       "─────── - d⋅m ⋅n  + 12⋅d⋅m ⋅n + ─────── + ───────── + ───────── + ────── + 2⋅d\n",
       "   2                               4          2           6         4         \n",
       "\n",
       "            2                    5               4    3  2                3   \n",
       "  3   33⋅d⋅n    35⋅d⋅n   19⋅d   m       4     9⋅m    m ⋅n       3     65⋅m    \n",
       "⋅n  + ─────── + ────── + ──── + ── + 2⋅m ⋅n + ──── + ───── - 5⋅m ⋅n - ───── - \n",
       "         4        4       12    2              8       3                12    \n",
       "\n",
       "   2  2       2         2         2                      3             ⎞      \n",
       "3⋅m ⋅n    15⋅m ⋅n   43⋅m    41⋅m⋅n    33⋅m⋅n   53⋅m   2⋅n       2   4⋅n⎟    2 \n",
       "─────── + ─────── + ───── + ─────── + ────── + ──── + ──── + 2⋅n  + ───⎟ + t ⋅\n",
       "   4         4        8        12       4       12     3             3 ⎠      \n",
       "\n",
       "⎛     6       5         5          5        4  2        4            4        \n",
       "⎜125⋅d    91⋅d ⋅m   26⋅d ⋅n   125⋅d    155⋅d ⋅m    110⋅d ⋅m⋅n   455⋅d ⋅m   28⋅\n",
       "⎜────── + ─────── + ─────── + ────── + ───────── + ────────── + ──────── + ───\n",
       "⎝  36        6         3        8          4           3           8          \n",
       "\n",
       " 4  2       4           4        3  3        3  2          3  2               \n",
       "d ⋅n    65⋅d ⋅n   3899⋅d    319⋅d ⋅m    176⋅d ⋅m ⋅n   465⋅d ⋅m        3    2  \n",
       "───── + ─────── + ─────── + ───────── + ─────────── + ───────── + 30⋅d ⋅m⋅n  +\n",
       "3          2        144         9            3            4                   \n",
       "\n",
       "                    3                               3          3       2  4   \n",
       "      3       2825⋅d ⋅m      3  3       3  2   271⋅d ⋅n   137⋅d    69⋅d ⋅m    \n",
       " 110⋅d ⋅m⋅n + ───────── + 5⋅d ⋅n  + 28⋅d ⋅n  + ──────── + ────── - ──────── + \n",
       "                  36                              6         6         4       \n",
       "\n",
       "    2  3          2  3                                     2  2       2    3  \n",
       "56⋅d ⋅m ⋅n   319⋅d ⋅m        2  2  2        2  2     1037⋅d ⋅m    25⋅d ⋅m⋅n   \n",
       "────────── + ───────── + 22⋅d ⋅m ⋅n  + 132⋅d ⋅m ⋅n + ────────── + ────────── +\n",
       "    3            4                                       8            3       \n",
       "\n",
       "      2    2        2            2         2  4       2  3        2  2        \n",
       " 135⋅d ⋅m⋅n    352⋅d ⋅m⋅n   193⋅d ⋅m   13⋅d ⋅n    45⋅d ⋅n    713⋅d ⋅n    229⋅d\n",
       " ─────────── + ────────── + ──────── + ──────── + ──────── + ───────── + ─────\n",
       "      2            3           4          12         4           24         8 \n",
       "\n",
       "2           2         5         4            4         3  2                   \n",
       " ⋅n   1361⋅d    11⋅d⋅m    38⋅d⋅m ⋅n   207⋅d⋅m    10⋅d⋅m ⋅n          3     2045\n",
       "─── + ─────── + ─────── - ───────── - ──────── - ────────── + 28⋅d⋅m ⋅n + ────\n",
       "        144        6          3          8           3                        \n",
       "\n",
       "    3      2  3                       2            2           3            2 \n",
       "⋅d⋅m    d⋅m ⋅n          2  2   587⋅d⋅m ⋅n   127⋅d⋅m    25⋅d⋅m⋅n    589⋅d⋅m⋅n  \n",
       "───── - ─────── + 33⋅d⋅m ⋅n  + ────────── + ──────── + ───────── + ────────── \n",
       "36         3                       6           2           2           12     \n",
       "\n",
       "                              4         3                                 6   \n",
       "  207⋅d⋅m⋅n   893⋅d⋅m   13⋅d⋅n    49⋅d⋅n          2   63⋅d⋅n   37⋅d   29⋅m    \n",
       "+ ───────── + ─────── + ─────── + ─────── + 13⋅d⋅n  + ────── + ──── + ───── + \n",
       "      4          72        8         6                  8       24      36    \n",
       "\n",
       "    5         5               4           4    3  3      3  2       3         \n",
       "10⋅m ⋅n   11⋅m     4  2   19⋅m ⋅n   1405⋅m    m ⋅n    5⋅m ⋅n    80⋅m ⋅n   157⋅\n",
       "─────── + ───── + m ⋅n  - ─────── - ─────── + ───── - ─────── + ─────── + ────\n",
       "   3        8                2        144       9        2         9        12\n",
       "\n",
       " 3    2  3       2  2        2           2          3         2               \n",
       "m    m ⋅n    87⋅m ⋅n    195⋅m ⋅n   1685⋅m    149⋅m⋅n    93⋅m⋅n    569⋅m⋅n   19\n",
       "── - ───── + ──────── + ──────── + ─────── + ──────── + ─────── + ─────── + ──\n",
       "       4        8          8         144        36         8         72      2\n",
       "\n",
       "         4       3       2      ⎞      ⎛    7       6         6          6    \n",
       "⋅m   13⋅n    23⋅n    47⋅n    7⋅n⎟    3 ⎜95⋅d    79⋅d ⋅m   28⋅d ⋅n   665⋅d    1\n",
       "── + ───── + ───── + ───── + ───⎟ + t ⋅⎜───── + ─────── + ─────── + ────── + ─\n",
       "4      24      12      24     12⎠      ⎝  36       4         3        48      \n",
       "\n",
       "    5  2                    5                               5         4  3    \n",
       "95⋅d ⋅m        5       711⋅d ⋅m       5  2       5     455⋅d    2611⋅d ⋅m    3\n",
       "──────── + 52⋅d ⋅m⋅n + ──────── + 13⋅d ⋅n  + 42⋅d ⋅n + ────── + ────────── + ─\n",
       "   4                      8                              16         36        \n",
       "\n",
       "    4  2           4  2        4    2                       4         4  3    \n",
       "32⋅d ⋅m ⋅n   2925⋅d ⋅m    169⋅d ⋅m⋅n         4       22109⋅d ⋅m   85⋅d ⋅n    1\n",
       "────────── + ────────── + ─────────── + 195⋅d ⋅m⋅n + ────────── + ──────── + ─\n",
       "    3            16            3                        144          9        \n",
       "\n",
       "    4  2         4          4        3  4         3  3           3  3        3\n",
       "95⋅d ⋅n    2603⋅d ⋅n   685⋅d    229⋅d ⋅m    1040⋅d ⋅m ⋅n   2611⋅d ⋅m    268⋅d \n",
       "──────── + ───────── + ────── + ───────── + ──────────── + ────────── + ──────\n",
       "   4           36        24         4            9             12            3\n",
       "\n",
       "  2  2                       3  2                                    3        \n",
       "⋅m ⋅n         3  2     6065⋅d ⋅m        3    3        3    2   2434⋅d ⋅m⋅n   7\n",
       "────── + 332⋅d ⋅m ⋅n + ────────── + 30⋅d ⋅m⋅n  + 169⋅d ⋅m⋅n  + ─────────── + ─\n",
       "                           24                                       9         \n",
       "\n",
       "    3         3  4       3  3        3  2        3           3        2  5    \n",
       "67⋅d ⋅m   15⋅d ⋅n    85⋅d ⋅n    811⋅d ⋅n    178⋅d ⋅n   2015⋅d    265⋅d ⋅m    9\n",
       "─────── + ──────── + ──────── + ───────── + ──────── + ─────── - ───────── + ─\n",
       "  6          4          3           12         3         144         12       \n",
       "\n",
       "   2  4           2  4        2  3  2                        2  3       2  2  \n",
       "2⋅d ⋅m ⋅n   2061⋅d ⋅m    136⋅d ⋅m ⋅n         2  3     17501⋅d ⋅m    76⋅d ⋅m ⋅n\n",
       "───────── + ────────── + ──────────── + 260⋅d ⋅m ⋅n + ─────────── + ──────────\n",
       "   3            16            3                            72            3    \n",
       "\n",
       "3                        2  2                     2    4        2    3        \n",
       "         2  2  2   1061⋅d ⋅m ⋅n        2  2   79⋅d ⋅m⋅n    135⋅d ⋅m⋅n    536⋅d\n",
       "─ + 201⋅d ⋅m ⋅n  + ──────────── + 157⋅d ⋅m  + ────────── + ─────────── + ─────\n",
       "                        3                         12            2             \n",
       "\n",
       "2    2        2             2        2  5        2  4         2  3        2  2\n",
       " ⋅m⋅n    681⋅d ⋅m⋅n   7427⋅d ⋅m   2⋅d ⋅n    135⋅d ⋅n    2153⋅d ⋅n    679⋅d ⋅n \n",
       "────── + ────────── + ───────── + ─────── + ───────── + ────────── + ─────────\n",
       "3            4           144         3          16          72           16   \n",
       "\n",
       "        2          2         6         5            5         4  2            \n",
       "   415⋅d ⋅n   125⋅d    19⋅d⋅m    52⋅d⋅m ⋅n   265⋅d⋅m    19⋅d⋅m ⋅n          4  \n",
       " + ──────── + ────── + ─────── - ───────── - ──────── - ────────── + 46⋅d⋅m ⋅n\n",
       "      18        48        12         3          8           3                 \n",
       "\n",
       "           4         3  3                        3            3      2  4     \n",
       "   1475⋅d⋅m    10⋅d⋅m ⋅n          3  2   1741⋅d⋅m ⋅n   358⋅d⋅m    d⋅m ⋅n      \n",
       " + ───────── - ────────── + 68⋅d⋅m ⋅n  + ─────────── + ──────── - ─────── + 38\n",
       "       16          9                          9           3          12       \n",
       "\n",
       "                   2  2                        2           4             3    \n",
       "    2  3   1757⋅d⋅m ⋅n           2     2003⋅d⋅m    79⋅d⋅m⋅n    1759⋅d⋅m⋅n    6\n",
       "⋅d⋅m ⋅n  + ──────────── + 156⋅d⋅m ⋅n + ───────── + ───────── + ─────────── + ─\n",
       "                12                         48          8            36        \n",
       "\n",
       "        2                                        4          3          2      \n",
       "21⋅d⋅m⋅n    1679⋅d⋅m⋅n   199⋅d⋅m      5   293⋅d⋅n    311⋅d⋅n    553⋅d⋅n    41⋅\n",
       "───────── + ────────── + ─────── + d⋅n  + ──────── + ──────── + ──────── + ───\n",
       "   8            36          24               48         24         48        1\n",
       "\n",
       "                7                6      5  2                  5    4  3       \n",
       "d⋅n   5⋅d   11⋅m       6     19⋅m    5⋅m ⋅n        5     605⋅m    m ⋅n    19⋅m\n",
       "─── - ─── + ───── + 4⋅m ⋅n + ───── + ─────── - 13⋅m ⋅n - ────── + ───── - ────\n",
       "2      72     12               16       3                  48       3        4\n",
       "\n",
       "4  2        4          4    3  4      3  3        3  2        3           3   \n",
       " ⋅n    175⋅m ⋅n   511⋅m    m ⋅n    5⋅m ⋅n    202⋅m ⋅n    193⋅m ⋅n   3173⋅m    \n",
       "──── + ──────── + ────── + ───── - ─────── + ───────── + ──────── + ─────── - \n",
       "          12        24       36       6          9          4         144     \n",
       "\n",
       " 2  4        2  3        2  2        2          2          4         3        \n",
       "m ⋅n    101⋅m ⋅n    555⋅m ⋅n    287⋅m ⋅n   149⋅m    473⋅m⋅n    91⋅m⋅n    1685⋅\n",
       "───── + ───────── + ───────── + ──────── + ────── + ──────── + ─────── + ─────\n",
       "  16        8           16         12        48       144         8         14\n",
       "\n",
       "   2                   5       4       3       2     ⎞      ⎛     8        7  \n",
       "m⋅n    15⋅m⋅n   5⋅m   n    17⋅n    35⋅n    11⋅n    n ⎟    4 ⎜359⋅d    589⋅d ⋅m\n",
       "──── + ────── + ─── + ── + ───── + ───── + ───── + ──⎟ + t ⋅⎜────── + ────────\n",
       "4        4       72   3      12      18      12    18⎠      ⎝ 160        36   \n",
       "\n",
       "       7           7         6  2         6             6          6  2       \n",
       "   76⋅d ⋅n   1077⋅d    6899⋅d ⋅m    2524⋅d ⋅m⋅n   4123⋅d ⋅m   632⋅d ⋅n    133⋅\n",
       " + ─────── + ─────── + ────────── + ─────────── + ───────── + ───────── + ────\n",
       "      9         80        120            45           48          45         3\n",
       "\n",
       " 6             6          5  3         5  2            5  2                   \n",
       "d ⋅n   139031⋅d    18151⋅d ⋅m    2336⋅d ⋅m ⋅n   20697⋅d ⋅m        5    2   126\n",
       "──── + ───────── + ─────────── + ──────────── + ─────────── + 78⋅d ⋅m⋅n  + ───\n",
       "          4320         180            15             80                       \n",
       "\n",
       "   5              5                     5  2         5          5         4  4\n",
       "2⋅d ⋅m⋅n   25381⋅d ⋅m       5  3   316⋅d ⋅n    2731⋅d ⋅n   467⋅d    1681⋅d ⋅m \n",
       "──────── + ────────── + 13⋅d ⋅n  + ───────── + ───────── + ────── + ──────────\n",
       "  5           144                      5           30        12         16    \n",
       "\n",
       "         4  3            4  3        4  2  2                        4  2      \n",
       "   2000⋅d ⋅m ⋅n   18151⋅d ⋅m    508⋅d ⋅m ⋅n         4  2     42893⋅d ⋅m    511\n",
       " + ──────────── + ─────────── + ──────────── + 584⋅d ⋅m ⋅n + ─────────── + ───\n",
       "        9              48            3                            96          \n",
       "\n",
       "  4    3        4    2         4            4         4  4        4  3        \n",
       "⋅d ⋅m⋅n    585⋅d ⋅m⋅n    3907⋅d ⋅m⋅n   532⋅d ⋅m   64⋅d ⋅n    195⋅d ⋅n    7823⋅\n",
       "──────── + ─────────── + ─────────── + ──────── + ──────── + ───────── + ─────\n",
       "  9             2             9           3          9           4           7\n",
       "\n",
       " 4  2         4             4         3  5         3  4           3  4        \n",
       "d ⋅n    2209⋅d ⋅n   213319⋅d    2555⋅d ⋅m    1544⋅d ⋅m ⋅n   5043⋅d ⋅m    1600⋅\n",
       "───── + ───────── + ───────── + ────────── + ──────────── + ────────── + ─────\n",
       "2           24         8640         36            9             16            \n",
       "\n",
       " 3  3  2         3  3             3  3        3  2  3                        3\n",
       "d ⋅m ⋅n    2000⋅d ⋅m ⋅n   112985⋅d ⋅m    808⋅d ⋅m ⋅n         3  2  2   7292⋅d \n",
       "──────── + ──────────── + ──────────── + ──────────── + 508⋅d ⋅m ⋅n  + ───────\n",
       " 9              3             216             9                             9 \n",
       "\n",
       "  2           3  2       3    4        3    3         3    2        3         \n",
       "⋅m ⋅n   2225⋅d ⋅m    45⋅d ⋅m⋅n    511⋅d ⋅m⋅n    3647⋅d ⋅m⋅n    711⋅d ⋅m⋅n   38\n",
       "───── + ────────── + ────────── + ─────────── + ──────────── + ────────── + ──\n",
       "            6            2             3             9             2          \n",
       "\n",
       "     3        3  5       3  4         3  3         3  2         3            3\n",
       "273⋅d ⋅m   9⋅d ⋅n    64⋅d ⋅n    2431⋅d ⋅n    1067⋅d ⋅n    3367⋅d ⋅n   10549⋅d \n",
       "──────── + ─────── + ──────── + ────────── + ────────── + ───────── + ────────\n",
       " 432          4         3           36           12           72        1440  \n",
       "\n",
       "         2  6        2  5           2  5        2  4  2                       \n",
       "   2701⋅d ⋅m    584⋅d ⋅m ⋅n   2555⋅d ⋅m    208⋅d ⋅m ⋅n         2  4     11279⋅\n",
       " - ────────── + ─────────── + ────────── + ──────────── + 386⋅d ⋅m ⋅n + ──────\n",
       "      120            15           16            3                            3\n",
       "\n",
       " 2  4        2  3  3                        2  3           2  3        2  2  4\n",
       "d ⋅m    460⋅d ⋅m ⋅n         2  3  2   6386⋅d ⋅m ⋅n   1957⋅d ⋅m    119⋅d ⋅m ⋅n \n",
       "───── + ──────────── + 400⋅d ⋅m ⋅n  + ──────────── + ────────── + ────────────\n",
       "2            9                             9             6             6      \n",
       "\n",
       "                        2  2  2                        2  2        2    5     \n",
       "        2  2  3   3221⋅d ⋅m ⋅n         2  2     70933⋅d ⋅m    241⋅d ⋅m⋅n    40\n",
       " + 202⋅d ⋅m ⋅n  + ───────────── + 510⋅d ⋅m ⋅n + ─────────── + ─────────── + ──\n",
       "                        6                           480            60         \n",
       "\n",
       "   2    4         2    3         2    2          2             2          2  6\n",
       "5⋅d ⋅m⋅n    1616⋅d ⋅m⋅n    2031⋅d ⋅m⋅n    49801⋅d ⋅m⋅n   1769⋅d ⋅m   121⋅d ⋅n \n",
       "───────── + ──────────── + ──────────── + ──────────── + ───────── + ─────────\n",
       "   8             9              8             360            96         360   \n",
       "\n",
       "       2  5         2  4         2  3          2  2        2           2      \n",
       "   81⋅d ⋅n    6473⋅d ⋅n    2029⋅d ⋅n    24911⋅d ⋅n    979⋅d ⋅n   4033⋅d    193\n",
       " + ──────── + ────────── + ────────── + ─────────── + ──────── + ─────── + ───\n",
       "      16         288           48           720          96        8640      1\n",
       "\n",
       "    7          6             6         5  2          5              5         \n",
       "⋅d⋅m    844⋅d⋅m ⋅n   2701⋅d⋅m    26⋅d⋅m ⋅n    292⋅d⋅m ⋅n   16501⋅d⋅m    19⋅d⋅m\n",
       "───── - ────────── - ───────── - ────────── + ────────── + ────────── - ──────\n",
       "80          45           80          3            5           144           9 \n",
       "\n",
       "4  3                         4             4        3  4          3  3        \n",
       " ⋅n           4  2   5183⋅d⋅m ⋅n   2081⋅d⋅m    5⋅d⋅m ⋅n    230⋅d⋅m ⋅n    5251⋅\n",
       "──── + 104⋅d⋅m ⋅n  + ─────────── + ───────── - ───────── + ─────────── + ─────\n",
       "                          18           12          18           3             \n",
       "\n",
       "   3  2                          3      2  5          2  4           2  3     \n",
       "d⋅m ⋅n           3     189397⋅d⋅m    d⋅m ⋅n    119⋅d⋅m ⋅n    5267⋅d⋅m ⋅n    93\n",
       "─────── + 313⋅d⋅m ⋅n + ─────────── - ─────── + ─────────── + ──────────── + ──\n",
       "18                         2160         60          4             36          \n",
       "\n",
       "     2  2            2              2            5             4            3 \n",
       "3⋅d⋅m ⋅n    50149⋅d⋅m ⋅n   10889⋅d⋅m    241⋅d⋅m⋅n    5269⋅d⋅m⋅n    621⋅d⋅m⋅n  \n",
       "───────── + ──────────── + ────────── + ────────── + ─────────── + ────────── \n",
       "   4            360           480           40           144           8      \n",
       "\n",
       "            2                                 6          5          4         \n",
       "  4955⋅d⋅m⋅n    1689⋅d⋅m⋅n   197⋅d⋅m   121⋅d⋅n    439⋅d⋅n    233⋅d⋅n    1645⋅d\n",
       "+ ─────────── + ────────── + ─────── + ──────── + ──────── + ──────── + ──────\n",
       "       72           80         864       240        120         24         144\n",
       "\n",
       "  3           2                          8        7          7                \n",
       "⋅n    2527⋅d⋅n    379⋅d⋅n   35⋅d   1183⋅m    172⋅m ⋅n   193⋅m       6  2   211\n",
       "─── + ───────── + ─────── - ──── + ─────── + ──────── + ────── + 2⋅m ⋅n  - ───\n",
       "         480        1440    288      1440       45       240                  \n",
       "\n",
       "  6            6      5  3       5  2        5          5    4  4       4  3  \n",
       "⋅m ⋅n   11189⋅m    5⋅m ⋅n    13⋅m ⋅n    166⋅m ⋅n   397⋅m    m ⋅n    19⋅m ⋅n   \n",
       "───── - ──────── + ─────── - ──────── + ──────── + ────── + ───── - ──────── +\n",
       "15        864         9         2          9         15       12       12     \n",
       "\n",
       "      4  2        4             4    3  5      3  4        3  3        3  2   \n",
       " 823⋅m ⋅n    575⋅m ⋅n   277927⋅m    m ⋅n    5⋅m ⋅n    688⋅m ⋅n    553⋅m ⋅n    \n",
       " ───────── + ──────── + ───────── + ───── - ─────── + ───────── + ───────── + \n",
       "     24         8          8640      180       24         27          8       \n",
       "\n",
       "       3           3    2  5        2  4        2  3        2  2         2    \n",
       "52031⋅m ⋅n   9937⋅m    m ⋅n    317⋅m ⋅n    545⋅m ⋅n    845⋅m ⋅n    1791⋅m ⋅n  \n",
       "────────── + ─────── - ───── + ───────── + ───────── + ───────── + ───────── -\n",
       "   1080        1440      80        32          16          24         160     \n",
       "\n",
       "      2          5          4           3         2                          6\n",
       " 103⋅m    289⋅m⋅n    271⋅m⋅n    5033⋅m⋅n    45⋅m⋅n    335⋅m⋅n   217⋅m   121⋅n \n",
       " ────── + ──────── + ──────── + ───────── + ─────── + ─────── - ───── + ──────\n",
       "  1728      144         32         432         8        864      1440    720  \n",
       "\n",
       "        5        4       3       2       ⎞      ⎛      9         8         8  \n",
       "   203⋅n    419⋅n    67⋅n    41⋅n    49⋅n⎟    5 ⎜1261⋅d    6367⋅d ⋅m   98⋅d ⋅n\n",
       " + ────── + ────── + ───── + ───── - ────⎟ + t ⋅⎜─────── + ───────── + ───────\n",
       "    240      288       72     480    720 ⎠      ⎝  864        480         15  \n",
       "\n",
       "         8        7  2        7             7         7  2        7          7\n",
       "   1261⋅d    399⋅d ⋅m    152⋅d ⋅m⋅n   6367⋅d ⋅m   38⋅d ⋅n    196⋅d ⋅n   859⋅d \n",
       " + ─────── + ───────── + ────────── + ───────── + ──────── + ──────── + ──────\n",
       "     128         8           3            80         3          5         32  \n",
       "\n",
       "           6  3         6  2           6  2         6    2                    \n",
       "   122251⋅d ⋅m    7576⋅d ⋅m ⋅n   8379⋅d ⋅m    3794⋅d ⋅m⋅n         6       8216\n",
       " + ──────────── + ──────────── + ────────── + ──────────── + 266⋅d ⋅m⋅n + ────\n",
       "       1080            45            32            45                         \n",
       "\n",
       "    6           6  3        6  2          6           6          5  4         \n",
       "21⋅d ⋅m   1898⋅d ⋅n    133⋅d ⋅n    25283⋅d ⋅n   2695⋅d    12301⋅d ⋅m    2800⋅d\n",
       "─────── + ────────── + ───────── + ────────── + ─────── + ─────────── + ──────\n",
       "4320         135           2          270          72          80            9\n",
       "\n",
       "5  3             5  3         5  2  2         5  2            5  2            \n",
       " ⋅m ⋅n   122251⋅d ⋅m    3508⋅d ⋅m ⋅n    3788⋅d ⋅m ⋅n   51589⋅d ⋅m        5    \n",
       "────── + ──────────── + ───────────── + ──────────── + ─────────── + 78⋅d ⋅m⋅n\n",
       "             240              15             5              96                \n",
       "\n",
       "          5    2          5             5         5  4        5  3         5  \n",
       "3   1897⋅d ⋅m⋅n    24574⋅d ⋅m⋅n   2753⋅d ⋅m   39⋅d ⋅n    949⋅d ⋅n    8191⋅d ⋅n\n",
       "  + ──────────── + ──────────── + ───────── + ──────── + ───────── + ─────────\n",
       "         5              45            12         4           15          60   \n",
       "\n",
       "2        5           5          4  5         4  4            4  4         4  3\n",
       "    338⋅d ⋅n   1761⋅d    89227⋅d ⋅m    3008⋅d ⋅m ⋅n   36903⋅d ⋅m    3052⋅d ⋅m \n",
       "─ + ──────── + ─────── + ─────────── + ──────────── + ─────────── + ──────────\n",
       "       3          64         720            9              64             9   \n",
       "\n",
       "  2         4  3             4  3         4  2  3                         4  2\n",
       "⋅n    3500⋅d ⋅m ⋅n   759989⋅d ⋅m    1534⋅d ⋅m ⋅n         4  2  2   11726⋅d ⋅m \n",
       "─── + ──────────── + ──────────── + ───────────── + 877⋅d ⋅m ⋅n  + ───────────\n",
       "           3             864              9                              9    \n",
       "\n",
       "            4  2         4    4        4    3          4    2         4       \n",
       "⋅n   13001⋅d ⋅m    1537⋅d ⋅m⋅n    585⋅d ⋅m⋅n    11737⋅d ⋅m⋅n    2207⋅d ⋅m⋅n   \n",
       "── + ─────────── + ──────────── + ─────────── + ───────────── + ─────────── + \n",
       "          24            36             2              18             4        \n",
       "\n",
       "         4          4  5        4  4          4  3         4  2          4    \n",
       "1247629⋅d ⋅m   769⋅d ⋅n    585⋅d ⋅n    23483⋅d ⋅n    6619⋅d ⋅n    75899⋅d ⋅n  \n",
       "──────────── + ───────── + ───────── + ─────────── + ────────── + ────────── +\n",
       "    8640          180          16          216           48          1080     \n",
       "\n",
       "        4         3  6         3  5            3  5         3  4  2         3 \n",
       " 10681⋅d    5179⋅d ⋅m    1840⋅d ⋅m ⋅n   89227⋅d ⋅m    2392⋅d ⋅m ⋅n    3008⋅d ⋅\n",
       " ──────── + ────────── + ──────────── + ─────────── + ───────────── + ────────\n",
       "   1152         72            9             240             9              3  \n",
       "\n",
       " 4            3  4         3  3  3         3  3  2          3  3            3 \n",
       "m ⋅n   76595⋅d ⋅m    4840⋅d ⋅m ⋅n    3052⋅d ⋅m ⋅n    43712⋅d ⋅m ⋅n   13123⋅d ⋅\n",
       "──── + ─────────── + ───────────── + ───────────── + ───────────── + ─────────\n",
       "            96             27              3               27             18  \n",
       "\n",
       " 3        3  2  4         3  2  3          3  2  2                         3  \n",
       "m    607⋅d ⋅m ⋅n    1534⋅d ⋅m ⋅n    10936⋅d ⋅m ⋅n          3  2     78581⋅d ⋅m\n",
       "── + ──────────── + ───────────── + ────────────── + 1067⋅d ⋅m ⋅n + ──────────\n",
       "          9               3               9                             288   \n",
       "\n",
       "2       3    5         3    4          3    3         3    2          3       \n",
       "    27⋅d ⋅m⋅n    1537⋅d ⋅m⋅n    10937⋅d ⋅m⋅n    2133⋅d ⋅m⋅n    30259⋅d ⋅m⋅n   \n",
       "─ + ────────── + ──────────── + ───────────── + ──────────── + ──────────── + \n",
       "        2             12              27             4             108        \n",
       "\n",
       "       3        3  6        3  5         3  4        3  3          3  2       \n",
       "60619⋅d ⋅m   9⋅d ⋅n    769⋅d ⋅n    7291⋅d ⋅n    800⋅d ⋅n    10073⋅d ⋅n    7183\n",
       "────────── + ─────── + ───────── + ────────── + ───────── + ─────────── + ────\n",
       "   1440         8          60         144           9           144          3\n",
       "\n",
       "  3          3         2  7         2  6           2  6         2  5  2       \n",
       "⋅d ⋅n   679⋅d    6947⋅d ⋅m    1816⋅d ⋅m ⋅n   5179⋅d ⋅m    1264⋅d ⋅m ⋅n        \n",
       "───── + ────── - ────────── + ──────────── + ────────── + ───────────── + 460⋅\n",
       "60       1728       360            45            32             15            \n",
       "\n",
       "                  2  5        2  4  3                        2  4            2\n",
       " 2  5     598901⋅d ⋅m    694⋅d ⋅m ⋅n         2  4  2   9599⋅d ⋅m ⋅n   11957⋅d \n",
       "d ⋅m ⋅n + ──────────── + ──────────── + 598⋅d ⋅m ⋅n  + ──────────── + ────────\n",
       "              1440            9                             9              24 \n",
       "\n",
       "  4        2  3  4         2  3  3         2  3  2                           2\n",
       "⋅m    358⋅d ⋅m ⋅n    1210⋅d ⋅m ⋅n    9673⋅d ⋅m ⋅n          2  3     1248037⋅d \n",
       "─── + ──────────── + ───────────── + ───────────── + 1019⋅d ⋅m ⋅n + ──────────\n",
       "           9               3               9                             4320 \n",
       "\n",
       "  3        2  2  5        2  2  4         2  2  3         2  2  2          2  \n",
       "⋅m    181⋅d ⋅m ⋅n    607⋅d ⋅m ⋅n    9701⋅d ⋅m ⋅n    3045⋅d ⋅m ⋅n    18703⋅d ⋅m\n",
       "─── + ──────────── + ──────────── + ───────────── + ───────────── + ──────────\n",
       "           15             4               18              4               45  \n",
       "\n",
       "2            2  2        2    6        2    5         2    4         2    3   \n",
       " ⋅n   11245⋅d ⋅m    727⋅d ⋅m⋅n    243⋅d ⋅m⋅n    1214⋅d ⋅m⋅n    2027⋅d ⋅m⋅n    \n",
       "─── + ─────────── + ─────────── + ─────────── + ──────────── + ──────────── + \n",
       "          192           360            8             9              8         \n",
       "\n",
       "        2    2        2              2         2  7       2  6          2  5  \n",
       "149467⋅d ⋅m⋅n    987⋅d ⋅m⋅n   21343⋅d ⋅m   13⋅d ⋅n    81⋅d ⋅n    19433⋅d ⋅n   \n",
       "────────────── + ────────── + ────────── + ──────── + ──────── + ─────────── +\n",
       "     720             16          8640         90         32          1440     \n",
       "\n",
       "       2  4         2  3         2  2         2          2          8         \n",
       " 6079⋅d ⋅n    9343⋅d ⋅n    2953⋅d ⋅n    2251⋅d ⋅n   175⋅d    289⋅d⋅m    152⋅d⋅\n",
       " ────────── + ────────── + ────────── + ───────── - ────── + ──────── - ──────\n",
       "    192          270          192          2160      576       480          9 \n",
       "\n",
       " 7             7          6  2          6              6         5  3         \n",
       "m ⋅n   6947⋅d⋅m    422⋅d⋅m ⋅n    908⋅d⋅m ⋅n   33509⋅d⋅m    26⋅d⋅m ⋅n    632⋅d⋅\n",
       "──── - ───────── - ─────────── + ────────── + ────────── - ────────── + ──────\n",
       "          240           45           15          288           9             5\n",
       "\n",
       " 5  2            5             5         4  4          4  3            4  2   \n",
       "m ⋅n    15469⋅d⋅m ⋅n   2459⋅d⋅m    19⋅d⋅m ⋅n    347⋅d⋅m ⋅n    15713⋅d⋅m ⋅n    \n",
       "───── + ──────────── + ───────── - ────────── + ─────────── + ───────────── + \n",
       "             45            12          36            3              36        \n",
       "\n",
       "       4               4      3  5          3  4            3  3              \n",
       "941⋅d⋅m ⋅n   129067⋅d⋅m    d⋅m ⋅n    179⋅d⋅m ⋅n    15781⋅d⋅m ⋅n           3  2\n",
       "────────── + ─────────── - ─────── + ─────────── + ───────────── + 467⋅d⋅m ⋅n \n",
       "    2            960          18          3              54                   \n",
       "\n",
       "            3              3      2  6          2  5            2  4          \n",
       "   30001⋅d⋅m ⋅n   62287⋅d⋅m    d⋅m ⋅n    181⋅d⋅m ⋅n    15797⋅d⋅m ⋅n           \n",
       " + ──────────── + ────────── - ─────── + ─────────── + ───────────── + 233⋅d⋅m\n",
       "       108           1440        360          10            144               \n",
       "\n",
       "                 2  2           2            2            6              5    \n",
       "2  3   148429⋅d⋅m ⋅n    1269⋅d⋅m ⋅n   803⋅d⋅m    727⋅d⋅m⋅n    15799⋅d⋅m⋅n    1\n",
       " ⋅n  + ────────────── + ─────────── + ──────── + ────────── + ──────────── + ─\n",
       "            720              20         576         240           720         \n",
       "\n",
       "         4              3             2                                7      \n",
       "863⋅d⋅m⋅n    14783⋅d⋅m⋅n    5103⋅d⋅m⋅n    4231⋅d⋅m⋅n   245⋅d⋅m   13⋅d⋅n    263\n",
       "────────── + ──────────── + ─────────── + ────────── - ─────── + ─────── + ───\n",
       "    32           216            160          2160        288        60        \n",
       "\n",
       "     6          5           4          3          2                       9   \n",
       "3⋅d⋅n    559⋅d⋅n    4921⋅d⋅n    239⋅d⋅n    171⋅d⋅n    49⋅d⋅n   11⋅d   59⋅m    \n",
       "────── + ──────── + ───────── + ──────── + ──────── - ────── + ──── + ───── + \n",
       "1440        96         576         45        320       144     288      96    \n",
       "\n",
       "    8          8       7  2       7           7      6  3        6  2        6\n",
       "46⋅m ⋅n   289⋅m    86⋅m ⋅n    38⋅m ⋅n   1073⋅m    2⋅m ⋅n    211⋅m ⋅n    343⋅m \n",
       "─────── + ────── + ──────── - ─────── - ─────── + ─────── - ───────── + ──────\n",
       "   15      640        45         3         96        3          30         18 \n",
       "\n",
       "           6      5  4       5  3         5  2         5            5    4  5 \n",
       "⋅n   9671⋅m    5⋅m ⋅n    13⋅m ⋅n    1873⋅m ⋅n    1717⋅m ⋅n   36641⋅m    m ⋅n  \n",
       "── + ─────── + ─────── - ──────── + ────────── + ───────── + ──────── + ───── \n",
       "       360        36        6           45           20        960        60  \n",
       "\n",
       "      4  4         4  3         4  2         4            4    3  6    3  5   \n",
       "  19⋅m ⋅n    2767⋅m ⋅n    1655⋅m ⋅n    8717⋅m ⋅n   62453⋅m    m ⋅n    m ⋅n    \n",
       "- ──────── + ────────── + ────────── + ───────── + ──────── + ───── - ───── + \n",
       "     48          72           16          120        5760      1080     24    \n",
       "\n",
       "      3  4         3  3           3  2        3          3    2  6        2  5\n",
       "1073⋅m ⋅n    1633⋅m ⋅n    152471⋅m ⋅n    357⋅m ⋅n   257⋅m    m ⋅n    193⋅m ⋅n \n",
       "────────── + ────────── + ──────────── + ──────── - ────── - ───── + ─────────\n",
       "    54           24           2160          16       576      480        32   \n",
       "\n",
       "         2  4         2  3         2  2       2           2           6       \n",
       "   1625⋅m ⋅n    2519⋅m ⋅n    5391⋅m ⋅n    37⋅m ⋅n   1379⋅m    4361⋅m⋅n    811⋅\n",
       " + ────────── + ────────── + ────────── + ─────── - ─────── + ───────── + ────\n",
       "       64           72          320          36       2880       4320       16\n",
       "\n",
       "   5            4         3           2                        7       6      \n",
       "m⋅n    15077⋅m⋅n    45⋅m⋅n    4663⋅m⋅n    119⋅m⋅n   11⋅m   13⋅n    19⋅n    157\n",
       "──── + ────────── + ─────── + ───────── - ─────── - ──── + ───── + ───── + ───\n",
       "0         1728         8         8640       240     288     180      45     18\n",
       "\n",
       "  5        4       3       2     ⎞          2                  2      2      3\n",
       "⋅n    101⋅n    31⋅n    77⋅n    n ⎟   3⋅n   n        5⋅m⋅n   5⋅m    3⋅m ⋅n   m \n",
       "─── + ────── + ───── - ───── - ──⎟ + ─── + ── + m + ───── - ──── - ────── + ──\n",
       "0      144      360     720    72⎠    2    2          6      3       2      2 \n",
       "\n",
       "      3      4                       2                          2             \n",
       "   2⋅m ⋅n   m          17⋅d⋅n   3⋅d⋅n                      9⋅d⋅m         2    \n",
       " + ────── + ── + 5⋅d + ────── + ────── + 5⋅d⋅m + 3⋅d⋅m⋅n - ────── - 2⋅d⋅m ⋅n +\n",
       "     3      6            3        2                          2                \n",
       "\n",
       "      3       2       2                 2                              3      \n",
       " 2⋅d⋅m    29⋅d    15⋅d ⋅n    2  2   15⋅d ⋅m      2          2  2   17⋅d    10⋅\n",
       " ────── + ───── + ─────── + d ⋅n  + ─────── + 2⋅d ⋅m⋅n - 3⋅d ⋅m  + ───── + ───\n",
       "   3        3        2                 2                             2        \n",
       "\n",
       " 3         3         4        \n",
       "d ⋅n   10⋅d ⋅m   17⋅d     ⎛ 6⎞\n",
       "──── + ─────── + ───── + O⎝t ⎠\n",
       "3         3        6          "
      ]
     },
     "execution_count": 63,
     "metadata": {},
     "output_type": "execute_result"
    }
   ],
   "source": [
    "#limit(TotalSum(2*m,m,d), t, 0)\n",
    "series(TotalSum(n,m,d), t, 0)"
   ]
  },
  {
   "cell_type": "code",
   "execution_count": 64,
   "metadata": {},
   "outputs": [
    {
     "data": {
      "text/latex": [
       "$\\displaystyle \\frac{17 d^{4}}{6} + \\frac{10 d^{3} m}{3} + \\frac{10 d^{3} n}{3} + \\frac{17 d^{3}}{2} - 3 d^{2} m^{2} + 2 d^{2} m n + \\frac{15 d^{2} m}{2} + d^{2} n^{2} + \\frac{15 d^{2} n}{2} + \\frac{29 d^{2}}{3} + \\frac{2 d m^{3}}{3} - 2 d m^{2} n - \\frac{9 d m^{2}}{2} + 3 d m n + 5 d m + \\frac{3 d n^{2}}{2} + \\frac{17 d n}{3} + 5 d + \\frac{m^{4}}{6} + \\frac{2 m^{3} n}{3} + \\frac{m^{3}}{2} - \\frac{3 m^{2} n}{2} - \\frac{5 m^{2}}{3} + \\frac{5 m n}{6} + m + \\frac{n^{2}}{2} + \\frac{3 n}{2} + 1$"
      ],
      "text/plain": [
       "    4       3         3         3                            2                \n",
       "17⋅d    10⋅d ⋅m   10⋅d ⋅n   17⋅d       2  2      2       15⋅d ⋅m    2  2   15⋅\n",
       "───── + ─────── + ─────── + ───── - 3⋅d ⋅m  + 2⋅d ⋅m⋅n + ─────── + d ⋅n  + ───\n",
       "  6        3         3        2                             2                 \n",
       "\n",
       " 2         2        3                   2                          2          \n",
       "d ⋅n   29⋅d    2⋅d⋅m         2     9⋅d⋅m                      3⋅d⋅n    17⋅d⋅n \n",
       "──── + ───── + ────── - 2⋅d⋅m ⋅n - ────── + 3⋅d⋅m⋅n + 5⋅d⋅m + ────── + ────── \n",
       "2        3       3                   2                          2        3    \n",
       "\n",
       "         4      3      3      2        2                2          \n",
       "        m    2⋅m ⋅n   m    3⋅m ⋅n   5⋅m    5⋅m⋅n       n    3⋅n    \n",
       "+ 5⋅d + ── + ────── + ── - ────── - ──── + ───── + m + ── + ─── + 1\n",
       "        6      3      2      2       3       6         2     2     "
      ]
     },
     "execution_count": 64,
     "metadata": {},
     "output_type": "execute_result"
    }
   ],
   "source": [
    "limit(TotalSum(n,m,d), t, 0)"
   ]
  },
  {
   "cell_type": "code",
   "execution_count": 78,
   "metadata": {},
   "outputs": [],
   "source": [
    "def RR(n,m,d):\n",
    "    return factor(17*d**4/6 + 10*d**3*m/3 + 10*d**3*n/3 + 17*d**3/2 - 3*d**2*m**2 + 2*d**2*m*n + 15*d**2*m/2 + d**2*n**2 + 15*d**2*n/2 + 29*d**2/3 + 2*d*m**3/3 - 2*d*m**2*n - 9*d*m**2/2 + 3*d*m*n + 5*d*m + 3*d*n**2/2 + 17*d*n/3 + 5*d + m**4/6 + 2*m**3*n/3 + m**3/2 - 3*m**2*n/2 - 5*m**2/3 + 5*m*n/6 + m + n**2/2 + 3*n/2 + 1)\n",
    "\n",
    "def dWeight(n,m,d):\n",
    "    return simplify(RR(n,m,d) - RR(n,m,d-1))"
   ]
  },
  {
   "cell_type": "code",
   "execution_count": 85,
   "metadata": {},
   "outputs": [
    {
     "data": {
      "text/latex": [
       "$\\displaystyle -156.0$"
      ],
      "text/plain": [
       "-156.000000000000"
      ]
     },
     "execution_count": 85,
     "metadata": {},
     "output_type": "execute_result"
    }
   ],
   "source": [
    "dWeight(2,10,1)"
   ]
  },
  {
   "cell_type": "code",
   "execution_count": 8,
   "metadata": {},
   "outputs": [],
   "source": [
    "def HirzebruchRR(n,m,d):\n",
    "    return simplify(17*d**4/6 + 4*d**3*m + 8*d**3*n + 17*d**3/2 + d**2*m**2 + 8*d**2*m*n + 9*d**2*m + 8*d**2*n**2 + 18*d**2*n + 29*d**2/3 + d*m**2*n + 3*d*m**2/2 + 5*d*m*n**2 + 12*d*m*n + 13*d*m/2 + 10*d*n**3/3 + 12*d*n**2 + 41*d*n/3 + 5*d + m**2*n**2/4 + 3*m**2*n/4 + m**2/2 + m*n**3 + 15*m*n**2/4 + 17*m*n/4 + 3*m/2 + n**4/2 + 5*n**3/2 + 9*n**2/2 + 7*n/2 + 1)\n",
    "\n",
    "def CP2RR(n,m,d):\n",
    "    return simplify(17*d**4/6 + 10*d**3*m/3 + 10*d**3*n/3 + 17*d**3/2 - 3*d**2*m**2 + 2*d**2*m*n + 15*d**2*m/2 + d**2*n**2 + 15*d**2*n/2 + 29*d**2/3 + 2*d*m**3/3 - 2*d*m**2*n - 9*d*m**2/2 + 3*d*m*n + 5*d*m + 3*d*n**2/2 + 17*d*n/3 + 5*d + m**4/6 + 2*m**3*n/3 + m**3/2 - 3*m**2*n/2 - 5*m**2/3 + 5*m*n/6 + m + n**2/2 + 3*n/2 + 1)"
   ]
  },
  {
   "cell_type": "code",
   "execution_count": 13,
   "metadata": {},
   "outputs": [
    {
     "data": {
      "text/latex": [
       "$\\displaystyle \\frac{17 d^{4}}{6} + 4 d^{3} m + 8 d^{3} n + \\frac{17 d^{3}}{2} + d^{2} m^{2} + 8 d^{2} m n + 9 d^{2} m + 8 d^{2} n^{2} + 18 d^{2} n + \\frac{29 d^{2}}{3} + d m^{2} n + \\frac{3 d m^{2}}{2} + 5 d m n^{2} + 12 d m n + \\frac{13 d m}{2} + \\frac{10 d n^{3}}{3} + 12 d n^{2} + \\frac{41 d n}{3} + 5 d + \\frac{m^{2} n^{2}}{4} + \\frac{3 m^{2} n}{4} + \\frac{m^{2}}{2} + m n^{3} + \\frac{15 m n^{2}}{4} + \\frac{17 m n}{4} + \\frac{3 m}{2} + \\frac{n^{4}}{2} + \\frac{5 n^{3}}{2} + \\frac{9 n^{2}}{2} + \\frac{7 n}{2} + 1$"
      ],
      "text/plain": [
       "    4                         3                                               \n",
       "17⋅d       3        3     17⋅d     2  2      2          2        2  2       2 \n",
       "───── + 4⋅d ⋅m + 8⋅d ⋅n + ───── + d ⋅m  + 8⋅d ⋅m⋅n + 9⋅d ⋅m + 8⋅d ⋅n  + 18⋅d ⋅\n",
       "  6                         2                                                 \n",
       "\n",
       "        2                 2                                        3          \n",
       "    29⋅d       2     3⋅d⋅m           2              13⋅d⋅m   10⋅d⋅n          2\n",
       "n + ───── + d⋅m ⋅n + ────── + 5⋅d⋅m⋅n  + 12⋅d⋅m⋅n + ────── + ─────── + 12⋅d⋅n \n",
       "      3                2                              2         3             \n",
       "\n",
       "                   2  2      2      2                2                   4    \n",
       "   41⋅d⋅n         m ⋅n    3⋅m ⋅n   m       3   15⋅m⋅n    17⋅m⋅n   3⋅m   n    5\n",
       " + ────── + 5⋅d + ───── + ────── + ── + m⋅n  + ─────── + ────── + ─── + ── + ─\n",
       "     3              4       4      2              4        4       2    2     \n",
       "\n",
       "  3      2          \n",
       "⋅n    9⋅n    7⋅n    \n",
       "─── + ──── + ─── + 1\n",
       "2      2      2     "
      ]
     },
     "execution_count": 13,
     "metadata": {},
     "output_type": "execute_result"
    }
   ],
   "source": [
    "HirzebruchRR(n,m,d)"
   ]
  },
  {
   "cell_type": "code",
   "execution_count": 14,
   "metadata": {},
   "outputs": [
    {
     "data": {
      "text/latex": [
       "$\\displaystyle \\frac{17 d^{4}}{6} + \\frac{10 d^{3} m}{3} + \\frac{10 d^{3} n}{3} + \\frac{17 d^{3}}{2} - 3 d^{2} m^{2} + 2 d^{2} m n + \\frac{15 d^{2} m}{2} + d^{2} n^{2} + \\frac{15 d^{2} n}{2} + \\frac{29 d^{2}}{3} + \\frac{2 d m^{3}}{3} - 2 d m^{2} n - \\frac{9 d m^{2}}{2} + 3 d m n + 5 d m + \\frac{3 d n^{2}}{2} + \\frac{17 d n}{3} + 5 d + \\frac{m^{4}}{6} + \\frac{2 m^{3} n}{3} + \\frac{m^{3}}{2} - \\frac{3 m^{2} n}{2} - \\frac{5 m^{2}}{3} + \\frac{5 m n}{6} + m + \\frac{n^{2}}{2} + \\frac{3 n}{2} + 1$"
      ],
      "text/plain": [
       "    4       3         3         3                            2                \n",
       "17⋅d    10⋅d ⋅m   10⋅d ⋅n   17⋅d       2  2      2       15⋅d ⋅m    2  2   15⋅\n",
       "───── + ─────── + ─────── + ───── - 3⋅d ⋅m  + 2⋅d ⋅m⋅n + ─────── + d ⋅n  + ───\n",
       "  6        3         3        2                             2                 \n",
       "\n",
       " 2         2        3                   2                          2          \n",
       "d ⋅n   29⋅d    2⋅d⋅m         2     9⋅d⋅m                      3⋅d⋅n    17⋅d⋅n \n",
       "──── + ───── + ────── - 2⋅d⋅m ⋅n - ────── + 3⋅d⋅m⋅n + 5⋅d⋅m + ────── + ────── \n",
       "2        3       3                   2                          2        3    \n",
       "\n",
       "         4      3      3      2        2                2          \n",
       "        m    2⋅m ⋅n   m    3⋅m ⋅n   5⋅m    5⋅m⋅n       n    3⋅n    \n",
       "+ 5⋅d + ── + ────── + ── - ────── - ──── + ───── + m + ── + ─── + 1\n",
       "        6      3      2      2       3       6         2     2     "
      ]
     },
     "execution_count": 14,
     "metadata": {},
     "output_type": "execute_result"
    }
   ],
   "source": [
    "CP2RR(n,m,d)"
   ]
  },
  {
   "cell_type": "code",
   "execution_count": 26,
   "metadata": {},
   "outputs": [
    {
     "name": "stdout",
     "output_type": "stream",
     "text": [
      "17*d**4/6 + 4*d**3*m + 8*d**3*n + 17*d**3/2 + d**2*m**2 + 8*d**2*m*n + 9*d**2*m + 8*d**2*n**2 + 18*d**2*n + 29*d**2/3 + d*m**2*n + 3*d*m**2/2 + 5*d*m*n**2 + 12*d*m*n + 13*d*m/2 + 10*d*n**3/3 + 12*d*n**2 + 41*d*n/3 + 5*d + m**2*n**2/4 + 3*m**2*n/4 + m**2/2 + m*n**3 + 15*m*n**2/4 + 17*m*n/4 + 3*m/2 + n**4/2 + 5*n**3/2 + 9*n**2/2 + 7*n/2 + 1\n"
     ]
    }
   ],
   "source": [
    "print(HirzebruchRR(n,m,d))"
   ]
  },
  {
   "cell_type": "code",
   "execution_count": 25,
   "metadata": {},
   "outputs": [
    {
     "data": {
      "text/plain": [
       "'\\\\frac{d^{3} \\\\cdot \\\\left(20 m + 20 n + 51\\\\right)}{6}'"
      ]
     },
     "execution_count": 25,
     "metadata": {},
     "output_type": "execute_result"
    }
   ],
   "source": [
    "latex(simplify(10*d**3*m/3 + 10*d**3*n/3 + 17*d**3/2))"
   ]
  },
  {
   "cell_type": "code",
   "execution_count": 22,
   "metadata": {},
   "outputs": [
    {
     "data": {
      "text/plain": [
       "'\\\\frac{d^{2} \\\\left(- 18 m^{2} + 12 m n + 45 m + 6 n^{2} + 45 n + 58\\\\right)}{6}'"
      ]
     },
     "execution_count": 22,
     "metadata": {},
     "output_type": "execute_result"
    }
   ],
   "source": [
    "latex(simplify(-3*d**2*m**2 + 2*d**2*m*n + 15*d**2*m/2 + d**2*n**2 + 15*d**2*n/2 + 29*d**2/3))"
   ]
  },
  {
   "cell_type": "code",
   "execution_count": 23,
   "metadata": {},
   "outputs": [
    {
     "data": {
      "text/plain": [
       "'\\\\frac{d \\\\left(4 m^{3} - 12 m^{2} n - 27 m^{2} + 18 m n + 30 m + 9 n^{2} + 34 n + 30\\\\right)}{6}'"
      ]
     },
     "execution_count": 23,
     "metadata": {},
     "output_type": "execute_result"
    }
   ],
   "source": [
    "latex(simplify(2*d*m**3/3 - 2*d*m**2*n - 9*d*m**2/2 + 3*d*m*n + 5*d*m + 3*d*n**2/2 + 17*d*n/3 + 5*d))"
   ]
  },
  {
   "cell_type": "code",
   "execution_count": 24,
   "metadata": {},
   "outputs": [
    {
     "data": {
      "text/plain": [
       "'\\\\frac{m^{4} + 4 m^{3} n + 3 m^{3} - 9 m^{2} n - 10 m^{2} + 5 m n + 6 m + 3 n^{2} + 9 n + 6}{6}'"
      ]
     },
     "execution_count": 24,
     "metadata": {},
     "output_type": "execute_result"
    }
   ],
   "source": [
    "latex(factor(m**4/6 + 2*m**3*n/3 + m**3/2 - 3*m**2*n/2 - 5*m**2/3 + 5*m*n/6 + m + n**2/2 + 3*n/2 + 1))"
   ]
  },
  {
   "cell_type": "code",
   "execution_count": null,
   "metadata": {},
   "outputs": [],
   "source": []
  }
 ],
 "metadata": {
  "kernelspec": {
   "display_name": "Python 3 (ipykernel)",
   "language": "python",
   "name": "python3"
  },
  "language_info": {
   "codemirror_mode": {
    "name": "ipython",
    "version": 3
   },
   "file_extension": ".py",
   "mimetype": "text/x-python",
   "name": "python",
   "nbconvert_exporter": "python",
   "pygments_lexer": "ipython3",
   "version": "3.10.3"
  }
 },
 "nbformat": 4,
 "nbformat_minor": 4
}
