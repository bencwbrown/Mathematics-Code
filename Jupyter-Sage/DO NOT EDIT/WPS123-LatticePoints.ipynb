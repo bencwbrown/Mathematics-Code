{
 "cells": [
  {
   "cell_type": "code",
   "execution_count": 1,
   "metadata": {},
   "outputs": [
    {
     "data": {
      "text/latex": [
       "$\\displaystyle \\mathbf{\\hat{0}}$"
      ],
      "text/plain": [
       "0"
      ]
     },
     "metadata": {},
     "output_type": "display_data"
    },
    {
     "data": {
      "text/latex": [
       "$\\displaystyle (3 n)\\mathbf{\\hat{i}_{N}}$"
      ],
      "text/plain": [
       "(3⋅n) i_N"
      ]
     },
     "metadata": {},
     "output_type": "display_data"
    },
    {
     "data": {
      "text/latex": [
       "$\\displaystyle (2 n)\\mathbf{\\hat{j}_{N}}$"
      ],
      "text/plain": [
       "(2⋅n) j_N"
      ]
     },
     "metadata": {},
     "output_type": "display_data"
    }
   ],
   "source": [
    "from sympy import *\n",
    "from sympy.vector import Vector\n",
    "from sympy.vector import CoordSys3D\n",
    "import IPython.display as disp\n",
    "\n",
    "N = CoordSys3D('N')\n",
    "\n",
    "t, k = symbols( 't k' )\n",
    "n, d, m = symbols('n d m', positive=True, integer=True)\n",
    "# init_printing(use_unicode=True)\n",
    "init_printing(use_latex='mathjax')\n",
    "\n",
    "# Basis for the edge/weight vectors for the points \n",
    "\n",
    "v1 = N.i\n",
    "v2 = N.j\n",
    "\n",
    "# Define the vector which is not parallel to any edge vector, which will tend to zero:\n",
    "\n",
    "Phi = t*(v1 + 4*v2)\n",
    "\n",
    "# Set the fixed points of the action; P denotes those that belong\n",
    "# to the core, and Q those that come from the cut extended core:\n",
    "\n",
    "def P12(n):\n",
    "    return Vector.zero\n",
    "\n",
    "def P23(n):\n",
    "    return 3*n*v1\n",
    "\n",
    "def P13(n):\n",
    "    return 2*n*v2\n",
    "\n",
    "interiorPoints = [P12(n), P23(n), P13(n)]\n",
    "\n",
    "for P in interiorPoints:\n",
    "    display(P)"
   ]
  },
  {
   "cell_type": "code",
   "execution_count": 2,
   "metadata": {},
   "outputs": [
    {
     "data": {
      "text/latex": [
       "$\\displaystyle (- 6 d)\\mathbf{\\hat{j}_{N}}$"
      ],
      "text/plain": [
       "(-6⋅d) j_N"
      ]
     },
     "metadata": {},
     "output_type": "display_data"
    },
    {
     "data": {
      "text/latex": [
       "$\\displaystyle (- 6 d)\\mathbf{\\hat{i}_{N}}$"
      ],
      "text/plain": [
       "(-6⋅d) i_N"
      ]
     },
     "metadata": {},
     "output_type": "display_data"
    },
    {
     "data": {
      "text/latex": [
       "$\\displaystyle (3 d + 3 n)\\mathbf{\\hat{i}_{N}}$"
      ],
      "text/plain": [
       "(3⋅d + 3⋅n) i_N"
      ]
     },
     "metadata": {},
     "output_type": "display_data"
    },
    {
     "data": {
      "text/latex": [
       "$\\displaystyle (9 d + 3 n)\\mathbf{\\hat{i}_{N}} + (- 6 d)\\mathbf{\\hat{j}_{N}}$"
      ],
      "text/plain": [
       "(9⋅d + 3⋅n) i_N + (-6⋅d) j_N"
      ]
     },
     "metadata": {},
     "output_type": "display_data"
    },
    {
     "data": {
      "text/latex": [
       "$\\displaystyle (2 d + 2 n)\\mathbf{\\hat{j}_{N}}$"
      ],
      "text/plain": [
       "(2⋅d + 2⋅n) j_N"
      ]
     },
     "metadata": {},
     "output_type": "display_data"
    },
    {
     "data": {
      "text/latex": [
       "$\\displaystyle (- 6 d)\\mathbf{\\hat{i}_{N}} + (4 d + 2 n)\\mathbf{\\hat{j}_{N}}$"
      ],
      "text/plain": [
       "(-6⋅d) i_N + (4⋅d + 2⋅n) j_N"
      ]
     },
     "metadata": {},
     "output_type": "display_data"
    }
   ],
   "source": [
    "def Q12_1(n,d):\n",
    "    return (-6*d)*v2\n",
    "\n",
    "def Q12_2(n,d):\n",
    "    return (-6*d)*v1\n",
    "\n",
    "def Q23_2(n,d):\n",
    "    return 3*(n+d)*v1\n",
    "\n",
    "def Q23_3(n,d):\n",
    "    return 3*(n+3*d)*v1 - 6*d*v2\n",
    "\n",
    "def Q13_1(n,d):\n",
    "    return 2*(n+d)*v2\n",
    "\n",
    "def Q13_3(n,d):\n",
    "    return -6*d*v1 + 2*(n+2*d)*v2\n",
    "\n",
    "# Define the term which is summed over each fixed point,\n",
    "# representing the character for the representation\n",
    "\n",
    "def P(P, edge1, edge2, edge3, edge4):\n",
    "    return exp( Phi.dot(P) ) / ( (1 - exp( Phi.dot(edge1) ) ) * ( 1 - exp( Phi.dot(edge2) ) ) * ( 1 - exp( Phi.dot(edge3) ) ) * ( 1 - exp( Phi.dot(edge4) ) ) )\n",
    "\n",
    "\n",
    "def Q(P, edge1, edge2):\n",
    "    return exp( Phi.dot(P) ) / ( (1 - exp( Phi.dot(edge1) ) ) * ( 1 - exp( Phi.dot(edge2) ) ) )\n",
    "\n",
    "def Exp(p, q):\n",
    "    return exp( 2*pi*I*Rational(p,q) )\n",
    "\n",
    "def gExp(g, P):\n",
    "    return exp( 2*pi*I*g.dot(P) )\n",
    "\n",
    "def OrbiFactor(p, q, edge):\n",
    "    return ( 1 - ( Exp(p,q) * exp( Rational(p,q) * Phi.dot(edge) ) ) )\n",
    "\n",
    "def OrbiSum(Q, p, q, edge1, edge2, edge3, edge4):\n",
    "    return ( Rational(1,q) * exp( Phi.dot(Q) ) ) / ( (1 - ( Exp(p,q) * exp( Rational(1,q) * Phi.dot(edge1) ) ) ) * (1 - ( Exp(p,q) * exp( Rational(1,q) * Phi.dot(edge2) ) ) ) * (1 - ( Exp(p,q) * exp( Rational(1,q) * Phi.dot(edge3) ) ) ) * (1 - ( Exp(p,q) * exp( Rational(1,q) * Phi.dot(edge4) ) ) ) ) \n",
    "\n",
    "def gOrbiSum(Q, q, g, edge1, edge2, edge3, edge4):\n",
    "    return ( Rational(1,q) * exp( Phi.dot(Q) ) ) / ( (1 - ( gExp(g,edge1) * exp( Phi.dot(edge1) ) ) ) * (1 - ( gExp(g,edge2) * exp( Phi.dot(edge2) ) ) ) * (1 - ( gExp(g,edge3) * exp( Phi.dot(edge3) ) ) ) * (1 - ( gExp(g,edge4) * exp( Phi.dot(edge4) ) ) ) ) \n",
    "\n",
    "def OrbiHalfSum(Q, p, q, edge1, edge2, edge3, edge4):\n",
    "    return ( Rational(1,q) * exp( Phi.dot(Q) )  ) / ( (1 - ( Exp(p,q) * exp( Rational(1,q) * Phi.dot(edge1) ) ) ) * (1 - ( Exp(p,q) * exp( Rational(1,q) * Phi.dot(edge2) ) ) ) * (1 - ( Exp(p,q) * exp( Rational(1,q) * Phi.dot(edge3) ) ) ) * (1 - ( Exp(p,q) * exp( Rational(1,q) * Phi.dot(edge4) ) ) ) ) \n",
    "\n",
    "boundaryPoints = [Q12_1(n,d), Q12_2(n,d), Q23_2(n,d), Q23_3(n,d), Q13_1(n,d), Q13_3(n,d)]\n",
    "\n",
    "for Q in boundaryPoints:\n",
    "    display(Q)"
   ]
  },
  {
   "cell_type": "code",
   "execution_count": 3,
   "metadata": {},
   "outputs": [
    {
     "data": {
      "text/latex": [
       "$\\displaystyle \\frac{e^{8 n t}}{3 \\cdot \\left(1 - e^{- \\frac{5 t}{3}}\\right) \\left(1 - e^{- \\frac{4 t}{3}}\\right) \\left(1 - e^{\\frac{4 t}{3}}\\right) \\left(1 - e^{\\frac{5 t}{3}}\\right)} + \\frac{e^{3 n t}}{2 \\cdot \\left(1 + e^{- \\frac{5 t}{2}}\\right) \\left(1 + e^{- \\frac{t}{2}}\\right) \\left(e^{\\frac{t}{2}} + 1\\right) \\left(e^{\\frac{5 t}{2}} + 1\\right)} + \\frac{e^{3 n t}}{2 \\cdot \\left(1 - e^{- \\frac{5 t}{2}}\\right) \\left(1 - e^{- \\frac{t}{2}}\\right) \\left(1 - e^{\\frac{t}{2}}\\right) \\left(1 - e^{\\frac{5 t}{2}}\\right)} + \\frac{1}{\\left(1 - e^{- 4 t}\\right) \\left(1 - e^{- t}\\right) \\left(1 - e^{t}\\right) \\left(1 - e^{4 t}\\right)} + \\frac{e^{8 n t}}{3 \\cdot \\left(1 - e^{- \\frac{5 t}{3}} e^{\\frac{2 i \\pi}{3}}\\right) \\left(1 - e^{- \\frac{4 t}{3}} e^{- \\frac{2 i \\pi}{3}}\\right) \\left(- e^{\\frac{4 t}{3}} e^{\\frac{2 i \\pi}{3}} + 1\\right) \\left(- e^{\\frac{5 t}{3}} e^{- \\frac{2 i \\pi}{3}} + 1\\right)} + \\frac{e^{8 n t}}{3 \\cdot \\left(1 - e^{- \\frac{5 t}{3}} e^{- \\frac{2 i \\pi}{3}}\\right) \\left(1 - e^{- \\frac{4 t}{3}} e^{\\frac{2 i \\pi}{3}}\\right) \\left(- e^{\\frac{4 t}{3}} e^{- \\frac{2 i \\pi}{3}} + 1\\right) \\left(- e^{\\frac{5 t}{3}} e^{\\frac{2 i \\pi}{3}} + 1\\right)}$"
      ],
      "text/plain": [
       "                       8⋅n⋅t                                             3⋅n⋅t                     \n",
       "                      ℯ                                                 ℯ                          \n",
       "───────────────────────────────────────────────── + ───────────────────────────────────────────── +\n",
       "  ⎛     -5⋅t ⎞ ⎛     -4⋅t ⎞ ⎛     4⋅t⎞ ⎛     5⋅t⎞     ⎛     -5⋅t ⎞ ⎛     -t ⎞ ⎛ t    ⎞ ⎛ 5⋅t    ⎞  \n",
       "  ⎜     ─────⎟ ⎜     ─────⎟ ⎜     ───⎟ ⎜     ───⎟     ⎜     ─────⎟ ⎜     ───⎟ ⎜ ─    ⎟ ⎜ ───    ⎟  \n",
       "  ⎜       3  ⎟ ⎜       3  ⎟ ⎜      3 ⎟ ⎜      3 ⎟     ⎜       2  ⎟ ⎜      2 ⎟ ⎜ 2    ⎟ ⎜  2     ⎟  \n",
       "3⋅⎝1 - ℯ     ⎠⋅⎝1 - ℯ     ⎠⋅⎝1 - ℯ   ⎠⋅⎝1 - ℯ   ⎠   2⋅⎝1 + ℯ     ⎠⋅⎝1 + ℯ   ⎠⋅⎝ℯ  + 1⎠⋅⎝ℯ    + 1⎠  \n",
       "\n",
       "                      3⋅n⋅t                                                                        \n",
       "                     ℯ                                               1                             \n",
       " ───────────────────────────────────────────── + ───────────────────────────────────────── + ──────\n",
       "   ⎛     -5⋅t ⎞ ⎛     -t ⎞ ⎛     t⎞ ⎛     5⋅t⎞   ⎛     -4⋅t⎞ ⎛     -t⎞ ⎛     t⎞ ⎛     4⋅t⎞     ⎛   \n",
       "   ⎜     ─────⎟ ⎜     ───⎟ ⎜     ─⎟ ⎜     ───⎟   ⎝1 - ℯ    ⎠⋅⎝1 - ℯ  ⎠⋅⎝1 - ℯ ⎠⋅⎝1 - ℯ   ⎠     ⎜   \n",
       "   ⎜       2  ⎟ ⎜      2 ⎟ ⎜     2⎟ ⎜      2 ⎟                                                 ⎜   \n",
       " 2⋅⎝1 - ℯ     ⎠⋅⎝1 - ℯ   ⎠⋅⎝1 - ℯ ⎠⋅⎝1 - ℯ   ⎠                                               3⋅⎝1 -\n",
       "\n",
       "                                   8⋅n⋅t                                                           \n",
       "                                  ℯ                                                                \n",
       "─────────────────────────────────────────────────────────────────────────────── + ─────────────────\n",
       "  -5⋅t   2⋅ⅈ⋅π⎞ ⎛     -4⋅t   -2⋅ⅈ⋅π ⎞ ⎛   4⋅t  2⋅ⅈ⋅π    ⎞ ⎛   5⋅t  -2⋅ⅈ⋅π     ⎞     ⎛     -5⋅t   -2\n",
       "  ─────  ─────⎟ ⎜     ─────  ───────⎟ ⎜   ───  ─────    ⎟ ⎜   ───  ───────    ⎟     ⎜     ─────  ──\n",
       "    3      3  ⎟ ⎜       3       3   ⎟ ⎜    3     3      ⎟ ⎜    3      3       ⎟     ⎜       3      \n",
       " ℯ     ⋅ℯ     ⎠⋅⎝1 - ℯ     ⋅ℯ       ⎠⋅⎝- ℯ   ⋅ℯ      + 1⎠⋅⎝- ℯ   ⋅ℯ        + 1⎠   3⋅⎝1 - ℯ     ⋅ℯ  \n",
       "\n",
       "                        8⋅n⋅t                                       \n",
       "                       ℯ                                            \n",
       "────────────────────────────────────────────────────────────────────\n",
       "⋅ⅈ⋅π ⎞ ⎛     -4⋅t   2⋅ⅈ⋅π⎞ ⎛   4⋅t  -2⋅ⅈ⋅π     ⎞ ⎛   5⋅t  2⋅ⅈ⋅π    ⎞\n",
       "─────⎟ ⎜     ─────  ─────⎟ ⎜   ───  ───────    ⎟ ⎜   ───  ─────    ⎟\n",
       " 3   ⎟ ⎜       3      3  ⎟ ⎜    3      3       ⎟ ⎜    3     3      ⎟\n",
       "     ⎠⋅⎝1 - ℯ     ⋅ℯ     ⎠⋅⎝- ℯ   ⋅ℯ        + 1⎠⋅⎝- ℯ   ⋅ℯ      + 1⎠"
      ]
     },
     "metadata": {},
     "output_type": "display_data"
    }
   ],
   "source": [
    "def TermP12(n):\n",
    "    return P(P12(n), v1, v2, -v1, -v2)\n",
    "\n",
    "def TermP23(n):\n",
    "    return gOrbiSum(P23(n), 2, Vector.zero, Rational(1,2)*v1, -Rational(3,2)*v1 + v2, -Rational(1,2)*v1, Rational(3,2)*v1 - v2) + gOrbiSum(P23(n), 2, v1, Rational(1,2)*v1, -Rational(3,2)*v1 + v2, -Rational(1,2)*v1, Rational(3,2)*v1 - v2)\n",
    "\n",
    "def TermP13(n):\n",
    "    return gOrbiSum(P13(n), 3, Vector.zero, v1 - Rational(2,3)*v2, Rational(1,3)*v2, -v1 + Rational(2,3)*v2, -Rational(1,3)*v2) + gOrbiSum(P13(n), 3, -v2, v1 - Rational(2,3)*v2, Rational(1,3)*v2, -v1 + Rational(2,3)*v2, -Rational(1,3)*v2) + gOrbiSum(P13(n), 3, -2*v2, v1 - Rational(2,3)*v2, Rational(1,3)*v2, -v1 + Rational(2,3)*v2, -Rational(1,3)*v2)\n",
    "\n",
    "def InteriorSum(n):\n",
    "    return TermP12(n) + TermP23(n) + TermP13(n)\n",
    "\n",
    "display( InteriorSum(n) )"
   ]
  },
  {
   "cell_type": "code",
   "execution_count": 4,
   "metadata": {},
   "outputs": [],
   "source": [
    "def TermQ12_1(n,d):\n",
    "    return P(Q12_1(n,d), v2, v2, v1, -v1 + v2)\n",
    "\n",
    "def TermQ12_2(n,d):\n",
    "    return P(Q12_2(n,d), v1, v1, v2, v1 - v2)\n",
    "\n",
    "def TermQ23_2(n,d):\n",
    "    return gOrbiSum(Q23_2(n,d), 2, Vector.zero, -Rational(1,2)*v1, -Rational(1,2)*v1, v1 - v2,  -Rational(3,2)*v1 + v2) + gOrbiSum(Q23_2(n,d), 2, -v1, -Rational(1,2)*v1, -Rational(1,2)*v1, v1 - v2,  -Rational(3,2)*v1 + v2)\n",
    "\n",
    "def TermQ23_3(n,d):\n",
    "    return gOrbiSum(Q23_3(n,d), 2, Vector.zero, -Rational(3,2)*v1 + v2, -Rational(3,2)*v1 + v2, -v1 + v2,  -Rational(1,2)*v1) + gOrbiSum(Q23_3(n,d), 2, -v1, -Rational(3,2)*v1 + v2, -Rational(3,2)*v1 + v2, -v1 + v2,  -Rational(1,2)*v1)\n",
    "\n",
    "def TermQ13_1(n,d):\n",
    "    return gOrbiSum(Q13_1(n,d), 3, Vector.zero, -Rational(1,3)*v2, -Rational(1,3)*v2, v1 - Rational(2,3)*v2,  -v1 + Rational(1,3)*v2) + gOrbiSum(Q13_1(n,d), 3, -v2, -Rational(1,3)*v2, -Rational(1,3)*v2, v1 - Rational(2,3)*v2,  -v1 + Rational(1,3)*v2) + gOrbiSum(Q13_1(n,d), 3, -2*v2, -Rational(1,3)*v2, -Rational(1,3)*v2, v1 - Rational(2,3)*v2,  -v1 + Rational(1,3)*v2)\n",
    "\n",
    "def TermQ13_3(n,d):\n",
    "    return gOrbiSum(Q13_3(n,d), 3, Vector.zero, v1 - Rational(2,3)*v2, v1 - Rational(2,3)*v2, v1 - Rational(1,3)*v2, -Rational(1,3)*v2) + gOrbiSum(Q13_3(n,d), 3, -v2, v1 - Rational(2,3)*v2, v1 - Rational(2,3)*v2, v1 - Rational(1,3)*v2, -Rational(1,3)*v2) + gOrbiSum(Q13_3(n,d), 3, -v2, v1 - Rational(2,3)*v2, v1 - Rational(2,3)*v2, v1 - Rational(1,3)*v2, -Rational(1,3)*v2)\n"
   ]
  },
  {
   "cell_type": "code",
   "execution_count": 5,
   "metadata": {},
   "outputs": [
    {
     "data": {
      "text/latex": [
       "$\\displaystyle \\frac{e^{- 24 d t}}{\\left(1 - e^{t}\\right) \\left(1 - e^{3 t}\\right) \\left(1 - e^{4 t}\\right)^{2}} + \\frac{e^{- 24 d t + t \\left(9 d + 3 n\\right)}}{2 \\cdot \\left(1 + e^{- \\frac{t}{2}}\\right) \\left(1 - e^{3 t}\\right) \\left(e^{\\frac{5 t}{2}} + 1\\right)^{2}} + \\frac{e^{- 24 d t + t \\left(9 d + 3 n\\right)}}{2 \\cdot \\left(1 - e^{- \\frac{t}{2}}\\right) \\left(1 - e^{\\frac{5 t}{2}}\\right)^{2} \\cdot \\left(1 - e^{3 t}\\right)} + \\frac{e^{4 t \\left(2 d + 2 n\\right)}}{3 \\cdot \\left(1 - e^{- \\frac{5 t}{3}}\\right) \\left(1 - e^{- \\frac{4 t}{3}}\\right)^{2} \\cdot \\left(1 - e^{\\frac{t}{3}}\\right)} + \\frac{e^{- 6 d t + 4 t \\left(4 d + 2 n\\right)}}{3 \\left(1 - e^{- \\frac{5 t}{3}}\\right)^{2} \\cdot \\left(1 - e^{- \\frac{4 t}{3}}\\right) \\left(1 - e^{- \\frac{t}{3}}\\right)} + \\frac{e^{- 6 d t}}{\\left(1 - e^{- 3 t}\\right) \\left(1 - e^{t}\\right)^{2} \\cdot \\left(1 - e^{4 t}\\right)} + \\frac{e^{t \\left(3 d + 3 n\\right)}}{2 \\cdot \\left(1 - e^{- 3 t}\\right) \\left(1 + e^{- \\frac{t}{2}}\\right)^{2} \\left(e^{\\frac{5 t}{2}} + 1\\right)} + \\frac{e^{t \\left(3 d + 3 n\\right)}}{2 \\cdot \\left(1 - e^{- 3 t}\\right) \\left(1 - e^{- \\frac{t}{2}}\\right)^{2} \\cdot \\left(1 - e^{\\frac{5 t}{2}}\\right)} + \\frac{e^{4 t \\left(2 d + 2 n\\right)}}{3 \\cdot \\left(1 - e^{- \\frac{5 t}{3}} e^{\\frac{2 i \\pi}{3}}\\right) \\left(1 - e^{- \\frac{4 t}{3}} e^{- \\frac{2 i \\pi}{3}}\\right)^{2} \\left(- e^{\\frac{t}{3}} e^{\\frac{2 i \\pi}{3}} + 1\\right)} + \\frac{e^{4 t \\left(2 d + 2 n\\right)}}{3 \\cdot \\left(1 - e^{- \\frac{5 t}{3}} e^{- \\frac{2 i \\pi}{3}}\\right) \\left(1 - e^{- \\frac{4 t}{3}} e^{\\frac{2 i \\pi}{3}}\\right)^{2} \\left(- e^{\\frac{t}{3}} e^{- \\frac{2 i \\pi}{3}} + 1\\right)} + \\frac{2 e^{- 6 d t + 4 t \\left(4 d + 2 n\\right)}}{3 \\left(1 - e^{- \\frac{5 t}{3}} e^{- \\frac{2 i \\pi}{3}}\\right)^{2} \\cdot \\left(1 - e^{- \\frac{4 t}{3}} e^{\\frac{2 i \\pi}{3}}\\right) \\left(1 - e^{- \\frac{t}{3}} e^{\\frac{2 i \\pi}{3}}\\right)}$"
      ],
      "text/plain": [
       "             -24⋅d⋅t                     -24⋅d⋅t + t⋅(9⋅d + 3⋅n)               -24⋅d⋅t + t⋅(9⋅d + 3\n",
       "            ℯ                           ℯ                                     ℯ                    \n",
       "─────────────────────────────── + ─────────────────────────────────── + ───────────────────────────\n",
       "                              2                                     2                          2   \n",
       "⎛     t⎞ ⎛     3⋅t⎞ ⎛     4⋅t⎞      ⎛     -t ⎞            ⎛ 5⋅t    ⎞      ⎛     -t ⎞ ⎛     5⋅t⎞    \n",
       "⎝1 - ℯ ⎠⋅⎝1 - ℯ   ⎠⋅⎝1 - ℯ   ⎠      ⎜     ───⎟            ⎜ ───    ⎟      ⎜     ───⎟ ⎜     ───⎟    \n",
       "                                    ⎜      2 ⎟ ⎛     3⋅t⎞ ⎜  2     ⎟      ⎜      2 ⎟ ⎜      2 ⎟  ⎛ \n",
       "                                  2⋅⎝1 + ℯ   ⎠⋅⎝1 - ℯ   ⎠⋅⎝ℯ    + 1⎠    2⋅⎝1 - ℯ   ⎠⋅⎝1 - ℯ   ⎠ ⋅⎝1\n",
       "\n",
       "⋅n)                    4⋅t⋅(2⋅d + 2⋅n)                     -6⋅d⋅t + 4⋅t⋅(4⋅d + 2⋅n)                \n",
       "                      ℯ                                   ℯ                                        \n",
       "──────── + ───────────────────────────────────── + ─────────────────────────────────────── + ──────\n",
       "                                      2                          2                                 \n",
       "             ⎛     -5⋅t ⎞ ⎛     -4⋅t ⎞  ⎛     t⎞     ⎛     -5⋅t ⎞  ⎛     -4⋅t ⎞ ⎛     -t ⎞   ⎛     \n",
       "             ⎜     ─────⎟ ⎜     ─────⎟  ⎜     ─⎟     ⎜     ─────⎟  ⎜     ─────⎟ ⎜     ───⎟   ⎝1 - ℯ\n",
       "    3⋅t⎞     ⎜       3  ⎟ ⎜       3  ⎟  ⎜     3⎟     ⎜       3  ⎟  ⎜       3  ⎟ ⎜      3 ⎟         \n",
       " - ℯ   ⎠   3⋅⎝1 - ℯ     ⎠⋅⎝1 - ℯ     ⎠ ⋅⎝1 - ℯ ⎠   3⋅⎝1 - ℯ     ⎠ ⋅⎝1 - ℯ     ⎠⋅⎝1 - ℯ   ⎠         \n",
       "\n",
       "       -6⋅d⋅t                            t⋅(3⋅d + 3⋅n)                          t⋅(3⋅d + 3⋅n)      \n",
       "      ℯ                                 ℯ                                      ℯ                   \n",
       "────────────────────────── + ──────────────────────────────────── + ───────────────────────────────\n",
       "              2                                      2                                      2      \n",
       "-3⋅t⎞ ⎛     t⎞  ⎛     4⋅t⎞                 ⎛     -t ⎞  ⎛ 5⋅t    ⎞                 ⎛     -t ⎞  ⎛    \n",
       "    ⎠⋅⎝1 - ℯ ⎠ ⋅⎝1 - ℯ   ⎠                 ⎜     ───⎟  ⎜ ───    ⎟                 ⎜     ───⎟  ⎜    \n",
       "                               ⎛     -3⋅t⎞ ⎜      2 ⎟  ⎜  2     ⎟     ⎛     -3⋅t⎞ ⎜      2 ⎟  ⎜    \n",
       "                             2⋅⎝1 - ℯ    ⎠⋅⎝1 + ℯ   ⎠ ⋅⎝ℯ    + 1⎠   2⋅⎝1 - ℯ    ⎠⋅⎝1 - ℯ   ⎠ ⋅⎝1 - \n",
       "\n",
       "                                4⋅t⋅(2⋅d + 2⋅n)                                                   4\n",
       "                               ℯ                                                                 ℯ \n",
       "───── + ────────────────────────────────────────────────────────────── + ──────────────────────────\n",
       "                                                   2                                               \n",
       " 5⋅t⎞     ⎛     -5⋅t   2⋅ⅈ⋅π⎞ ⎛     -4⋅t   -2⋅ⅈ⋅π ⎞  ⎛   t  2⋅ⅈ⋅π    ⎞     ⎛     -5⋅t   -2⋅ⅈ⋅π ⎞ ⎛ \n",
       " ───⎟     ⎜     ─────  ─────⎟ ⎜     ─────  ───────⎟  ⎜   ─  ─────    ⎟     ⎜     ─────  ───────⎟ ⎜ \n",
       "  2 ⎟     ⎜       3      3  ⎟ ⎜       3       3   ⎟  ⎜   3    3      ⎟     ⎜       3       3   ⎟ ⎜ \n",
       "ℯ   ⎠   3⋅⎝1 - ℯ     ⋅ℯ     ⎠⋅⎝1 - ℯ     ⋅ℯ       ⎠ ⋅⎝- ℯ ⋅ℯ      + 1⎠   3⋅⎝1 - ℯ     ⋅ℯ       ⎠⋅⎝1\n",
       "\n",
       "⋅t⋅(2⋅d + 2⋅n)                                               -6⋅d⋅t + 4⋅t⋅(4⋅d + 2⋅n)              \n",
       "                                                          2⋅ℯ                                      \n",
       "────────────────────────────────────── + ──────────────────────────────────────────────────────────\n",
       "                 2                                              2                                  \n",
       "    -4⋅t   2⋅ⅈ⋅π⎞  ⎛   t  -2⋅ⅈ⋅π     ⎞     ⎛     -5⋅t   -2⋅ⅈ⋅π ⎞  ⎛     -4⋅t   2⋅ⅈ⋅π⎞ ⎛     -t   2⋅\n",
       "    ─────  ─────⎟  ⎜   ─  ───────    ⎟     ⎜     ─────  ───────⎟  ⎜     ─────  ─────⎟ ⎜     ───  ──\n",
       "      3      3  ⎟  ⎜   3     3       ⎟     ⎜       3       3   ⎟  ⎜       3      3  ⎟ ⎜      3     \n",
       " - ℯ     ⋅ℯ     ⎠ ⋅⎝- ℯ ⋅ℯ        + 1⎠   3⋅⎝1 - ℯ     ⋅ℯ       ⎠ ⋅⎝1 - ℯ     ⋅ℯ     ⎠⋅⎝1 - ℯ   ⋅ℯ  \n",
       "\n",
       "    \n",
       "    \n",
       "────\n",
       "    \n",
       "ⅈ⋅π⎞\n",
       "───⎟\n",
       "3  ⎟\n",
       "   ⎠"
      ]
     },
     "execution_count": 5,
     "metadata": {},
     "output_type": "execute_result"
    }
   ],
   "source": [
    "def InteriorSum(n):\n",
    "    return TermP12(n) + TermP23(n) + TermP13(n)\n",
    "\n",
    "def ExteriorSum(n,d):\n",
    "    return TermQ12_1(n,d) + TermQ12_2(n,d) + TermQ23_2(n,d) + TermQ23_3(n,d) + TermQ13_1(n,d) + TermQ13_3(n,d)\n",
    "\n",
    "ExteriorSum(n,d)"
   ]
  },
  {
   "cell_type": "code",
   "execution_count": 6,
   "metadata": {},
   "outputs": [
    {
     "data": {
      "text/latex": [
       "$\\displaystyle \\frac{e^{- 24 d t}}{\\left(1 - e^{t}\\right) \\left(1 - e^{3 t}\\right) \\left(1 - e^{4 t}\\right)^{2}} + \\frac{e^{- 24 d t + t \\left(9 d + 3 n\\right)}}{2 \\cdot \\left(1 + e^{- \\frac{t}{2}}\\right) \\left(1 - e^{3 t}\\right) \\left(e^{\\frac{5 t}{2}} + 1\\right)^{2}} + \\frac{e^{- 24 d t + t \\left(9 d + 3 n\\right)}}{2 \\cdot \\left(1 - e^{- \\frac{t}{2}}\\right) \\left(1 - e^{\\frac{5 t}{2}}\\right)^{2} \\cdot \\left(1 - e^{3 t}\\right)} + \\frac{e^{8 n t}}{3 \\cdot \\left(1 - e^{- \\frac{5 t}{3}}\\right) \\left(1 - e^{- \\frac{4 t}{3}}\\right) \\left(1 - e^{\\frac{4 t}{3}}\\right) \\left(1 - e^{\\frac{5 t}{3}}\\right)} + \\frac{e^{4 t \\left(2 d + 2 n\\right)}}{3 \\cdot \\left(1 - e^{- \\frac{5 t}{3}}\\right) \\left(1 - e^{- \\frac{4 t}{3}}\\right)^{2} \\cdot \\left(1 - e^{\\frac{t}{3}}\\right)} + \\frac{e^{- 6 d t + 4 t \\left(4 d + 2 n\\right)}}{3 \\left(1 - e^{- \\frac{5 t}{3}}\\right)^{2} \\cdot \\left(1 - e^{- \\frac{4 t}{3}}\\right) \\left(1 - e^{- \\frac{t}{3}}\\right)} + \\frac{e^{3 n t}}{2 \\cdot \\left(1 + e^{- \\frac{5 t}{2}}\\right) \\left(1 + e^{- \\frac{t}{2}}\\right) \\left(e^{\\frac{t}{2}} + 1\\right) \\left(e^{\\frac{5 t}{2}} + 1\\right)} + \\frac{e^{3 n t}}{2 \\cdot \\left(1 - e^{- \\frac{5 t}{2}}\\right) \\left(1 - e^{- \\frac{t}{2}}\\right) \\left(1 - e^{\\frac{t}{2}}\\right) \\left(1 - e^{\\frac{5 t}{2}}\\right)} + \\frac{e^{- 6 d t}}{\\left(1 - e^{- 3 t}\\right) \\left(1 - e^{t}\\right)^{2} \\cdot \\left(1 - e^{4 t}\\right)} + \\frac{e^{t \\left(3 d + 3 n\\right)}}{2 \\cdot \\left(1 - e^{- 3 t}\\right) \\left(1 + e^{- \\frac{t}{2}}\\right)^{2} \\left(e^{\\frac{5 t}{2}} + 1\\right)} + \\frac{e^{t \\left(3 d + 3 n\\right)}}{2 \\cdot \\left(1 - e^{- 3 t}\\right) \\left(1 - e^{- \\frac{t}{2}}\\right)^{2} \\cdot \\left(1 - e^{\\frac{5 t}{2}}\\right)} + \\frac{1}{\\left(1 - e^{- 4 t}\\right) \\left(1 - e^{- t}\\right) \\left(1 - e^{t}\\right) \\left(1 - e^{4 t}\\right)} + \\frac{e^{8 n t}}{3 \\cdot \\left(1 - e^{- \\frac{5 t}{3}} e^{\\frac{2 i \\pi}{3}}\\right) \\left(1 - e^{- \\frac{4 t}{3}} e^{- \\frac{2 i \\pi}{3}}\\right) \\left(- e^{\\frac{4 t}{3}} e^{\\frac{2 i \\pi}{3}} + 1\\right) \\left(- e^{\\frac{5 t}{3}} e^{- \\frac{2 i \\pi}{3}} + 1\\right)} + \\frac{e^{4 t \\left(2 d + 2 n\\right)}}{3 \\cdot \\left(1 - e^{- \\frac{5 t}{3}} e^{\\frac{2 i \\pi}{3}}\\right) \\left(1 - e^{- \\frac{4 t}{3}} e^{- \\frac{2 i \\pi}{3}}\\right)^{2} \\left(- e^{\\frac{t}{3}} e^{\\frac{2 i \\pi}{3}} + 1\\right)} + \\frac{e^{8 n t}}{3 \\cdot \\left(1 - e^{- \\frac{5 t}{3}} e^{- \\frac{2 i \\pi}{3}}\\right) \\left(1 - e^{- \\frac{4 t}{3}} e^{\\frac{2 i \\pi}{3}}\\right) \\left(- e^{\\frac{4 t}{3}} e^{- \\frac{2 i \\pi}{3}} + 1\\right) \\left(- e^{\\frac{5 t}{3}} e^{\\frac{2 i \\pi}{3}} + 1\\right)} + \\frac{e^{4 t \\left(2 d + 2 n\\right)}}{3 \\cdot \\left(1 - e^{- \\frac{5 t}{3}} e^{- \\frac{2 i \\pi}{3}}\\right) \\left(1 - e^{- \\frac{4 t}{3}} e^{\\frac{2 i \\pi}{3}}\\right)^{2} \\left(- e^{\\frac{t}{3}} e^{- \\frac{2 i \\pi}{3}} + 1\\right)} + \\frac{2 e^{- 6 d t + 4 t \\left(4 d + 2 n\\right)}}{3 \\left(1 - e^{- \\frac{5 t}{3}} e^{- \\frac{2 i \\pi}{3}}\\right)^{2} \\cdot \\left(1 - e^{- \\frac{4 t}{3}} e^{\\frac{2 i \\pi}{3}}\\right) \\left(1 - e^{- \\frac{t}{3}} e^{\\frac{2 i \\pi}{3}}\\right)}$"
      ],
      "text/plain": [
       "             -24⋅d⋅t                     -24⋅d⋅t + t⋅(9⋅d + 3⋅n)               -24⋅d⋅t + t⋅(9⋅d + 3\n",
       "            ℯ                           ℯ                                     ℯ                    \n",
       "─────────────────────────────── + ─────────────────────────────────── + ───────────────────────────\n",
       "                              2                                     2                          2   \n",
       "⎛     t⎞ ⎛     3⋅t⎞ ⎛     4⋅t⎞      ⎛     -t ⎞            ⎛ 5⋅t    ⎞      ⎛     -t ⎞ ⎛     5⋅t⎞    \n",
       "⎝1 - ℯ ⎠⋅⎝1 - ℯ   ⎠⋅⎝1 - ℯ   ⎠      ⎜     ───⎟            ⎜ ───    ⎟      ⎜     ───⎟ ⎜     ───⎟    \n",
       "                                    ⎜      2 ⎟ ⎛     3⋅t⎞ ⎜  2     ⎟      ⎜      2 ⎟ ⎜      2 ⎟  ⎛ \n",
       "                                  2⋅⎝1 + ℯ   ⎠⋅⎝1 - ℯ   ⎠⋅⎝ℯ    + 1⎠    2⋅⎝1 - ℯ   ⎠⋅⎝1 - ℯ   ⎠ ⋅⎝1\n",
       "\n",
       "⋅n)                               8⋅n⋅t                                    4⋅t⋅(2⋅d + 2⋅n)         \n",
       "                                 ℯ                                        ℯ                        \n",
       "──────── + ───────────────────────────────────────────────── + ────────────────────────────────────\n",
       "             ⎛     -5⋅t ⎞ ⎛     -4⋅t ⎞ ⎛     4⋅t⎞ ⎛     5⋅t⎞                              2        \n",
       "             ⎜     ─────⎟ ⎜     ─────⎟ ⎜     ───⎟ ⎜     ───⎟     ⎛     -5⋅t ⎞ ⎛     -4⋅t ⎞  ⎛     t\n",
       "             ⎜       3  ⎟ ⎜       3  ⎟ ⎜      3 ⎟ ⎜      3 ⎟     ⎜     ─────⎟ ⎜     ─────⎟  ⎜     ─\n",
       "    3⋅t⎞   3⋅⎝1 - ℯ     ⎠⋅⎝1 - ℯ     ⎠⋅⎝1 - ℯ   ⎠⋅⎝1 - ℯ   ⎠     ⎜       3  ⎟ ⎜       3  ⎟  ⎜     3\n",
       " - ℯ   ⎠                                                       3⋅⎝1 - ℯ     ⎠⋅⎝1 - ℯ     ⎠ ⋅⎝1 - ℯ \n",
       "\n",
       "            -6⋅d⋅t + 4⋅t⋅(4⋅d + 2⋅n)                               3⋅n⋅t                           \n",
       "           ℯ                                                      ℯ                                \n",
       "─ + ─────────────────────────────────────── + ───────────────────────────────────────────── + ─────\n",
       "                  2                             ⎛     -5⋅t ⎞ ⎛     -t ⎞ ⎛ t    ⎞ ⎛ 5⋅t    ⎞     ⎛  \n",
       "⎞     ⎛     -5⋅t ⎞  ⎛     -4⋅t ⎞ ⎛     -t ⎞     ⎜     ─────⎟ ⎜     ───⎟ ⎜ ─    ⎟ ⎜ ───    ⎟     ⎜  \n",
       "⎟     ⎜     ─────⎟  ⎜     ─────⎟ ⎜     ───⎟     ⎜       2  ⎟ ⎜      2 ⎟ ⎜ 2    ⎟ ⎜  2     ⎟     ⎜  \n",
       "⎟     ⎜       3  ⎟  ⎜       3  ⎟ ⎜      3 ⎟   2⋅⎝1 + ℯ     ⎠⋅⎝1 + ℯ   ⎠⋅⎝ℯ  + 1⎠⋅⎝ℯ    + 1⎠   2⋅⎝1 \n",
       "⎠   3⋅⎝1 - ℯ     ⎠ ⋅⎝1 - ℯ     ⎠⋅⎝1 - ℯ   ⎠                                                        \n",
       "\n",
       "                3⋅n⋅t                                   -6⋅d⋅t                            t⋅(3⋅d + \n",
       "               ℯ                                       ℯ                                 ℯ         \n",
       "──────────────────────────────────────── + ──────────────────────────────── + ─────────────────────\n",
       "   -5⋅t ⎞ ⎛     -t ⎞ ⎛     t⎞ ⎛     5⋅t⎞                       2                                   \n",
       "   ─────⎟ ⎜     ───⎟ ⎜     ─⎟ ⎜     ───⎟   ⎛     -3⋅t⎞ ⎛     t⎞  ⎛     4⋅t⎞                 ⎛     -\n",
       "     2  ⎟ ⎜      2 ⎟ ⎜     2⎟ ⎜      2 ⎟   ⎝1 - ℯ    ⎠⋅⎝1 - ℯ ⎠ ⋅⎝1 - ℯ   ⎠                 ⎜     ─\n",
       "- ℯ     ⎠⋅⎝1 - ℯ   ⎠⋅⎝1 - ℯ ⎠⋅⎝1 - ℯ   ⎠                                        ⎛     -3⋅t⎞ ⎜      \n",
       "                                                                              2⋅⎝1 - ℯ    ⎠⋅⎝1 + ℯ \n",
       "\n",
       "3⋅n)                          t⋅(3⋅d + 3⋅n)                                                        \n",
       "                             ℯ                                               1                     \n",
       "─────────────── + ──────────────────────────────────── + ───────────────────────────────────────── \n",
       "   2                                      2              ⎛     -4⋅t⎞ ⎛     -t⎞ ⎛     t⎞ ⎛     4⋅t⎞ \n",
       "t ⎞  ⎛ 5⋅t    ⎞                 ⎛     -t ⎞  ⎛     5⋅t⎞   ⎝1 - ℯ    ⎠⋅⎝1 - ℯ  ⎠⋅⎝1 - ℯ ⎠⋅⎝1 - ℯ   ⎠ \n",
       "──⎟  ⎜ ───    ⎟                 ⎜     ───⎟  ⎜     ───⎟                                             \n",
       "2 ⎟  ⎜  2     ⎟     ⎛     -3⋅t⎞ ⎜      2 ⎟  ⎜      2 ⎟                                             \n",
       "  ⎠ ⋅⎝ℯ    + 1⎠   2⋅⎝1 - ℯ    ⎠⋅⎝1 - ℯ   ⎠ ⋅⎝1 - ℯ   ⎠                                             \n",
       "\n",
       "                                           8⋅n⋅t                                                   \n",
       "                                          ℯ                                                        \n",
       "+ ───────────────────────────────────────────────────────────────────────────────────── + ─────────\n",
       "    ⎛     -5⋅t   2⋅ⅈ⋅π⎞ ⎛     -4⋅t   -2⋅ⅈ⋅π ⎞ ⎛   4⋅t  2⋅ⅈ⋅π    ⎞ ⎛   5⋅t  -2⋅ⅈ⋅π     ⎞            \n",
       "    ⎜     ─────  ─────⎟ ⎜     ─────  ───────⎟ ⎜   ───  ─────    ⎟ ⎜   ───  ───────    ⎟     ⎛     -\n",
       "    ⎜       3      3  ⎟ ⎜       3       3   ⎟ ⎜    3     3      ⎟ ⎜    3      3       ⎟     ⎜     ─\n",
       "  3⋅⎝1 - ℯ     ⋅ℯ     ⎠⋅⎝1 - ℯ     ⋅ℯ       ⎠⋅⎝- ℯ   ⋅ℯ      + 1⎠⋅⎝- ℯ   ⋅ℯ        + 1⎠     ⎜      \n",
       "                                                                                          3⋅⎝1 - ℯ \n",
       "\n",
       "               4⋅t⋅(2⋅d + 2⋅n)                                                                   8⋅\n",
       "              ℯ                                                                                 ℯ  \n",
       "───────────────────────────────────────────────────── + ───────────────────────────────────────────\n",
       "                                  2                       ⎛     -5⋅t   -2⋅ⅈ⋅π ⎞ ⎛     -4⋅t   2⋅ⅈ⋅π⎞\n",
       "5⋅t   2⋅ⅈ⋅π⎞ ⎛     -4⋅t   -2⋅ⅈ⋅π ⎞  ⎛   t  2⋅ⅈ⋅π    ⎞     ⎜     ─────  ───────⎟ ⎜     ─────  ─────⎟\n",
       "────  ─────⎟ ⎜     ─────  ───────⎟  ⎜   ─  ─────    ⎟     ⎜       3       3   ⎟ ⎜       3      3  ⎟\n",
       " 3      3  ⎟ ⎜       3       3   ⎟  ⎜   3    3      ⎟   3⋅⎝1 - ℯ     ⋅ℯ       ⎠⋅⎝1 - ℯ     ⋅ℯ     ⎠\n",
       "    ⋅ℯ     ⎠⋅⎝1 - ℯ     ⋅ℯ       ⎠ ⋅⎝- ℯ ⋅ℯ      + 1⎠                                              \n",
       "\n",
       "n⋅t                                                                   4⋅t⋅(2⋅d + 2⋅n)              \n",
       "                                                                     ℯ                             \n",
       "────────────────────────────────────────── + ──────────────────────────────────────────────────────\n",
       " ⎛   4⋅t  -2⋅ⅈ⋅π     ⎞ ⎛   5⋅t  2⋅ⅈ⋅π    ⎞                                              2          \n",
       " ⎜   ───  ───────    ⎟ ⎜   ───  ─────    ⎟     ⎛     -5⋅t   -2⋅ⅈ⋅π ⎞ ⎛     -4⋅t   2⋅ⅈ⋅π⎞  ⎛   t  -2\n",
       " ⎜    3      3       ⎟ ⎜    3     3      ⎟     ⎜     ─────  ───────⎟ ⎜     ─────  ─────⎟  ⎜   ─  ──\n",
       "⋅⎝- ℯ   ⋅ℯ        + 1⎠⋅⎝- ℯ   ⋅ℯ      + 1⎠     ⎜       3       3   ⎟ ⎜       3      3  ⎟  ⎜   3    \n",
       "                                             3⋅⎝1 - ℯ     ⋅ℯ       ⎠⋅⎝1 - ℯ     ⋅ℯ     ⎠ ⋅⎝- ℯ ⋅ℯ  \n",
       "\n",
       "                                 -6⋅d⋅t + 4⋅t⋅(4⋅d + 2⋅n)                  \n",
       "                              2⋅ℯ                                          \n",
       "────────── + ──────────────────────────────────────────────────────────────\n",
       "                                    2                                      \n",
       "⋅ⅈ⋅π     ⎞     ⎛     -5⋅t   -2⋅ⅈ⋅π ⎞  ⎛     -4⋅t   2⋅ⅈ⋅π⎞ ⎛     -t   2⋅ⅈ⋅π⎞\n",
       "─────    ⎟     ⎜     ─────  ───────⎟  ⎜     ─────  ─────⎟ ⎜     ───  ─────⎟\n",
       " 3       ⎟     ⎜       3       3   ⎟  ⎜       3      3  ⎟ ⎜      3     3  ⎟\n",
       "      + 1⎠   3⋅⎝1 - ℯ     ⋅ℯ       ⎠ ⋅⎝1 - ℯ     ⋅ℯ     ⎠⋅⎝1 - ℯ   ⋅ℯ     ⎠"
      ]
     },
     "execution_count": 6,
     "metadata": {},
     "output_type": "execute_result"
    }
   ],
   "source": [
    "def TotalSum(n,d):\n",
    "    return InteriorSum(n) + ExteriorSum(n,d)\n",
    "\n",
    "TotalSum(n,d)"
   ]
  },
  {
   "cell_type": "code",
   "execution_count": 11,
   "metadata": {
    "tags": []
   },
   "outputs": [
    {
     "data": {
      "text/latex": [
       "$\\displaystyle 225 d^{4} + 216 d^{3} n + 225 d^{3} + 54 d^{2} n^{2} + 162 d^{2} n + \\frac{161 d^{2}}{2} + 27 d n^{2} + 39 d n + \\frac{25 d}{2} + 3 n^{2} + 3 n + \\frac{2}{\\left(1 + \\sqrt[3]{-1}\\right)^{2} \\left(1 - \\left(-1\\right)^{\\frac{2}{3}}\\right)^{2}} + \\frac{7}{9}$"
      ],
      "text/plain": [
       "                                                        2                                          \n",
       "     4        3          3       2  2        2     161⋅d          2            25⋅d      2         \n",
       "225⋅d  + 216⋅d ⋅n + 225⋅d  + 54⋅d ⋅n  + 162⋅d ⋅n + ────── + 27⋅d⋅n  + 39⋅d⋅n + ──── + 3⋅n  + 3⋅n + \n",
       "                                                     2                          2                  \n",
       "                                                                                                   \n",
       "                                                                                                   \n",
       "\n",
       "                                \n",
       "             2                 7\n",
       "──────────────────────────── + ─\n",
       "            2              2   9\n",
       "⎛    3 ____⎞  ⎛        2/3⎞     \n",
       "⎝1 + ╲╱ -1 ⎠ ⋅⎝1 - (-1)   ⎠     "
      ]
     },
     "execution_count": 11,
     "metadata": {},
     "output_type": "execute_result"
    }
   ],
   "source": [
    "simplify(series(TotalSum(n,d), t, 0, 1).removeO())"
   ]
  },
  {
   "cell_type": "code",
   "execution_count": null,
   "metadata": {},
   "outputs": [],
   "source": [
    "series(TotalSum(n,d), t, 0)"
   ]
  },
  {
   "cell_type": "code",
   "execution_count": null,
   "metadata": {},
   "outputs": [],
   "source": [
    "limit(TotalSum(n,d), t, 0)"
   ]
  },
  {
   "cell_type": "code",
   "execution_count": 35,
   "metadata": {},
   "outputs": [
    {
     "data": {
      "text/latex": [
       "$\\displaystyle \\frac{11 d^{4}}{3} + \\frac{16 d^{3} n}{3} + 11 d^{3} + 2 d^{2} n^{2} + 12 d^{2} n + \\frac{71 d^{2}}{6} + 3 d n^{2} + \\frac{26 d n}{3} + \\frac{11 d}{2} + n^{2} + 2 n + 1$"
      ],
      "text/plain": [
       "    4       3                                     2                           \n",
       "11⋅d    16⋅d ⋅n       3      2  2       2     71⋅d         2   26⋅d⋅n   11⋅d  \n",
       "───── + ─────── + 11⋅d  + 2⋅d ⋅n  + 12⋅d ⋅n + ───── + 3⋅d⋅n  + ────── + ──── +\n",
       "  3        3                                    6                3       2    \n",
       "\n",
       "             \n",
       "  2          \n",
       " n  + 2⋅n + 1\n",
       "             "
      ]
     },
     "execution_count": 35,
     "metadata": {},
     "output_type": "execute_result"
    }
   ],
   "source": [
    "def Character(n,d):\n",
    "    return simplify( 11*d**4/3 + 16*d**3*n/3 + 11*d**3 + 2*d**2*n**2 + 12*d**2*n + 71*d**2/6 + 3*d*n**2 + 26*d*n/3 + 11*d/2 + n**2 + 2*n + 1 )\n",
    "\n",
    "Character(n,d)"
   ]
  },
  {
   "cell_type": "code",
   "execution_count": 36,
   "metadata": {},
   "outputs": [
    {
     "data": {
      "text/latex": [
       "$\\displaystyle n^{2} + 2 n + 1$"
      ],
      "text/plain": [
       " 2          \n",
       "n  + 2⋅n + 1"
      ]
     },
     "execution_count": 36,
     "metadata": {},
     "output_type": "execute_result"
    }
   ],
   "source": [
    "Character(n,0)"
   ]
  },
  {
   "cell_type": "code",
   "execution_count": null,
   "metadata": {},
   "outputs": [],
   "source": []
  }
 ],
 "metadata": {
  "kernelspec": {
   "display_name": "Python 3 (ipykernel)",
   "language": "python",
   "name": "python3"
  },
  "language_info": {
   "codemirror_mode": {
    "name": "ipython",
    "version": 3
   },
   "file_extension": ".py",
   "mimetype": "text/x-python",
   "name": "python",
   "nbconvert_exporter": "python",
   "pygments_lexer": "ipython3",
   "version": "3.10.3"
  }
 },
 "nbformat": 4,
 "nbformat_minor": 4
}
