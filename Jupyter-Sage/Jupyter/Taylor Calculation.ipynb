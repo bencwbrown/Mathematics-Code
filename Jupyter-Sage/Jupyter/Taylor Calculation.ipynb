{
 "cells": [
  {
   "cell_type": "code",
   "execution_count": 1,
   "metadata": {},
   "outputs": [
    {
     "data": {
      "text/plain": [
       "(x, y)"
      ]
     },
     "execution_count": 1,
     "metadata": {},
     "output_type": "execute_result"
    }
   ],
   "source": [
    "var('x y')"
   ]
  },
  {
   "cell_type": "code",
   "execution_count": 40,
   "metadata": {},
   "outputs": [],
   "source": [
    "P12(x,y) = 1 / ( (1 - x) * (1 - y) * (1 - (1/x)) * (1 - (1/y)) )\n",
    "\n",
    "P23(x,y) = x**6 / ( (1 - x) * (1 - y) * (1 - (1/x)) * (1 - (1/y)) )\n",
    "\n",
    "P34(x,y) = (x**6 * y**4) / ( (1 - x) * (1 - y) * (1 - (1/x)) * (1 - (1/y)) )\n",
    "\n",
    "P14(x,y) = y**4 / ( (1 - x) * (1 - y) * (1 - (1/x)) * (1 - (1/y)) )"
   ]
  },
  {
   "cell_type": "code",
   "execution_count": 41,
   "metadata": {},
   "outputs": [],
   "source": [
    "P12_1(x,y) = y**(-2) / ( ( 1 - x ) * ( 1 - y ) * ( 1 - y ) * ( 1 - (y/x) ) )\n",
    "\n",
    "P12_2(x,y) = x**(-2) / ( (1 - x) * (1 - x) * (1 - y) * (1 - (x/y)) )\n",
    "\n",
    "P23_2(x,y) = x**8 / ( ( 1 - (1/x) ) * ( 1 - (1/x) ) * ( 1 - y ) * ( 1 - (1/(x*y)) ) )\n",
    "\n",
    "P23_3(x,y) = (x**6 * y**(-2)) / ( (1 - y) * (1 - y) * (1 - (1/x)) * (1 - x*y) )\n",
    "                                \n",
    "P34_3(x,y) = (x**6 * y**6) / ( (1 - (1/y)) * (1 - (1/y)) * (1 - (1/x)) * (1 - x*(1/y)) )\n",
    "              \n",
    "P34_4(x,y) = (x**8 * y**4) / ( (1 - (1/x)) * (1 - (1/x)) * (1 - (1/y)) * (1 - (y/x)) )\n",
    "\n",
    "P14_1(x,y) = y**6 / ( (1 - (1/y)) * (1 - (1/y)) * (1 - x) * (1 - (1/x*y)) )                                            \n",
    "                                     \n",
    "P14_4(x,y) = (x**(-2) * y**4) / ( (1 - x) * (1 - x) * (1 - (1/y)) * (1 - x*y) )                                            "
   ]
  },
  {
   "cell_type": "code",
   "execution_count": 49,
   "metadata": {},
   "outputs": [],
   "source": [
    "f = P12(x,y) + P23(x,y) + P34(x,y) + P14(x,y) + P12_1(x,y) + P12_2(x,y) + P23_2(x,y) + P23_3(x,y) + P34_3(x,y) + P34_4(x,y) + P14_1(x,y) + P14_4(x,y)"
   ]
  },
  {
   "cell_type": "code",
   "execution_count": 55,
   "metadata": {},
   "outputs": [
    {
     "data": {
      "text/plain": [
       "1/((x - 1)*(y - 1)*(1/x - 1)*(1/y - 1)) + 1/((x - 1)^2*x^2*(y - 1)*(x/y - 1)) + 1/((x - 1)*(y - 1)^2*y^2*(y/x - 1))"
      ]
     },
     "execution_count": 55,
     "metadata": {},
     "output_type": "execute_result"
    }
   ],
   "source": [
    "P12(x,y) + P12_1(x,y) + P12_2(x,y)"
   ]
  },
  {
   "cell_type": "code",
   "execution_count": 51,
   "metadata": {},
   "outputs": [
    {
     "name": "stderr",
     "output_type": "stream",
     "text": [
      "<ipython-input-51-16cd1bcb9e18>:1: DeprecationWarning: Substitution using function-call syntax and unnamed arguments is deprecated and will be removed from a future release of Sage; you can use named arguments instead, like EXPR(x=..., y=...)\n",
      "See http://trac.sagemath.org/5930 for details.\n",
      "  f(Integer(1),Integer(1))\n"
     ]
    },
    {
     "ename": "ValueError",
     "evalue": "power::eval(): division by zero",
     "output_type": "error",
     "traceback": [
      "\u001b[0;31m---------------------------------------------------------------------------\u001b[0m",
      "\u001b[0;31mValueError\u001b[0m                                Traceback (most recent call last)",
      "\u001b[0;32m<ipython-input-51-16cd1bcb9e18>\u001b[0m in \u001b[0;36m<module>\u001b[0;34m\u001b[0m\n\u001b[0;32m----> 1\u001b[0;31m \u001b[0mf\u001b[0m\u001b[0;34m(\u001b[0m\u001b[0mInteger\u001b[0m\u001b[0;34m(\u001b[0m\u001b[0;36m1\u001b[0m\u001b[0;34m)\u001b[0m\u001b[0;34m,\u001b[0m\u001b[0mInteger\u001b[0m\u001b[0;34m(\u001b[0m\u001b[0;36m1\u001b[0m\u001b[0;34m)\u001b[0m\u001b[0;34m)\u001b[0m\u001b[0;34m\u001b[0m\u001b[0;34m\u001b[0m\u001b[0m\n\u001b[0m",
      "\u001b[0;32m/var/tmp/sage-9.4-current/local/lib/python3.9/site-packages/sage/symbolic/expression.pyx\u001b[0m in \u001b[0;36msage.symbolic.expression.Expression.__call__ (build/cythonized/sage/symbolic/expression.cpp:33254)\u001b[0;34m()\u001b[0m\n\u001b[1;32m   5773\u001b[0m             \u001b[0mz\u001b[0m\u001b[0;34m^\u001b[0m\u001b[0;36m2\u001b[0m \u001b[0;34m+\u001b[0m \u001b[0mx\u001b[0m\u001b[0;34m^\u001b[0m\u001b[0my\u001b[0m\u001b[0;34m\u001b[0m\u001b[0;34m\u001b[0m\u001b[0m\n\u001b[1;32m   5774\u001b[0m         \"\"\"\n\u001b[0;32m-> 5775\u001b[0;31m         \u001b[0;32mreturn\u001b[0m \u001b[0mself\u001b[0m\u001b[0;34m.\u001b[0m\u001b[0m_parent\u001b[0m\u001b[0;34m.\u001b[0m\u001b[0m_call_element_\u001b[0m\u001b[0;34m(\u001b[0m\u001b[0mself\u001b[0m\u001b[0;34m,\u001b[0m \u001b[0;34m*\u001b[0m\u001b[0margs\u001b[0m\u001b[0;34m,\u001b[0m \u001b[0;34m**\u001b[0m\u001b[0mkwds\u001b[0m\u001b[0;34m)\u001b[0m\u001b[0;34m\u001b[0m\u001b[0;34m\u001b[0m\u001b[0m\n\u001b[0m\u001b[1;32m   5776\u001b[0m \u001b[0;34m\u001b[0m\u001b[0m\n\u001b[1;32m   5777\u001b[0m     \u001b[0;32mdef\u001b[0m \u001b[0mvariables\u001b[0m\u001b[0;34m(\u001b[0m\u001b[0mself\u001b[0m\u001b[0;34m)\u001b[0m\u001b[0;34m:\u001b[0m\u001b[0;34m\u001b[0m\u001b[0;34m\u001b[0m\u001b[0m\n",
      "\u001b[0;32m/var/tmp/sage-9.4-current/local/lib/python3.9/site-packages/sage/symbolic/ring.pyx\u001b[0m in \u001b[0;36msage.symbolic.ring.SymbolicRing._call_element_ (build/cythonized/sage/symbolic/ring.cpp:12916)\u001b[0;34m()\u001b[0m\n\u001b[1;32m   1144\u001b[0m                     \u001b[0;32mraise\u001b[0m \u001b[0mValueError\u001b[0m\u001b[0;34m(\u001b[0m\u001b[0;34m\"the number of arguments must be less than or equal to %s\"\u001b[0m\u001b[0;34m%\u001b[0m\u001b[0mlen\u001b[0m\u001b[0;34m(\u001b[0m\u001b[0mvars\u001b[0m\u001b[0;34m)\u001b[0m\u001b[0;34m)\u001b[0m\u001b[0;34m\u001b[0m\u001b[0;34m\u001b[0m\u001b[0m\n\u001b[1;32m   1145\u001b[0m \u001b[0;34m\u001b[0m\u001b[0m\n\u001b[0;32m-> 1146\u001b[0;31m         \u001b[0;32mreturn\u001b[0m \u001b[0m_the_element\u001b[0m\u001b[0;34m.\u001b[0m\u001b[0msubs\u001b[0m\u001b[0;34m(\u001b[0m\u001b[0md\u001b[0m\u001b[0;34m,\u001b[0m \u001b[0;34m**\u001b[0m\u001b[0mkwds\u001b[0m\u001b[0;34m)\u001b[0m\u001b[0;34m\u001b[0m\u001b[0;34m\u001b[0m\u001b[0m\n\u001b[0m\u001b[1;32m   1147\u001b[0m \u001b[0;34m\u001b[0m\u001b[0m\n\u001b[1;32m   1148\u001b[0m     \u001b[0;32mdef\u001b[0m \u001b[0msubring\u001b[0m\u001b[0;34m(\u001b[0m\u001b[0mself\u001b[0m\u001b[0;34m,\u001b[0m \u001b[0;34m*\u001b[0m\u001b[0margs\u001b[0m\u001b[0;34m,\u001b[0m \u001b[0;34m**\u001b[0m\u001b[0mkwds\u001b[0m\u001b[0;34m)\u001b[0m\u001b[0;34m:\u001b[0m\u001b[0;34m\u001b[0m\u001b[0;34m\u001b[0m\u001b[0m\n",
      "\u001b[0;32m/var/tmp/sage-9.4-current/local/lib/python3.9/site-packages/sage/symbolic/expression.pyx\u001b[0m in \u001b[0;36msage.symbolic.expression.Expression.substitute (build/cythonized/sage/symbolic/expression.cpp:32355)\u001b[0;34m()\u001b[0m\n\u001b[1;32m   5630\u001b[0m             smap.insert(make_pair((<Expression>self.coerce_in(k))._gobj,\n\u001b[1;32m   5631\u001b[0m                                   (<Expression>self.coerce_in(v))._gobj))\n\u001b[0;32m-> 5632\u001b[0;31m         \u001b[0mres\u001b[0m \u001b[0;34m=\u001b[0m \u001b[0mself\u001b[0m\u001b[0;34m.\u001b[0m\u001b[0m_gobj\u001b[0m\u001b[0;34m.\u001b[0m\u001b[0msubs_map\u001b[0m\u001b[0;34m(\u001b[0m\u001b[0msmap\u001b[0m\u001b[0;34m,\u001b[0m \u001b[0;36m0\u001b[0m\u001b[0;34m)\u001b[0m\u001b[0;34m\u001b[0m\u001b[0;34m\u001b[0m\u001b[0m\n\u001b[0m\u001b[1;32m   5633\u001b[0m         \u001b[0;32mreturn\u001b[0m \u001b[0mnew_Expression_from_GEx\u001b[0m\u001b[0;34m(\u001b[0m\u001b[0mself\u001b[0m\u001b[0;34m.\u001b[0m\u001b[0m_parent\u001b[0m\u001b[0;34m,\u001b[0m \u001b[0mres\u001b[0m\u001b[0;34m)\u001b[0m\u001b[0;34m\u001b[0m\u001b[0;34m\u001b[0m\u001b[0m\n\u001b[1;32m   5634\u001b[0m \u001b[0;34m\u001b[0m\u001b[0m\n",
      "\u001b[0;31mValueError\u001b[0m: power::eval(): division by zero"
     ]
    }
   ],
   "source": [
    "f(1,1)"
   ]
  },
  {
   "cell_type": "code",
   "execution_count": 22,
   "metadata": {},
   "outputs": [
    {
     "data": {
      "text/plain": [
       "y^11/(x - y) + y^10/(x - y) + y^9/(x - y) + y^8/(x - y) + y^7/(x - y)"
      ]
     },
     "execution_count": 22,
     "metadata": {},
     "output_type": "execute_result"
    }
   ],
   "source": [
    "taylor(c(x,y),(x,0),(y,0),10)"
   ]
  },
  {
   "cell_type": "code",
   "execution_count": null,
   "metadata": {},
   "outputs": [],
   "source": []
  },
  {
   "cell_type": "code",
   "execution_count": 31,
   "metadata": {},
   "outputs": [
    {
     "data": {
      "text/plain": [
       "1/(x - y)"
      ]
     },
     "execution_count": 31,
     "metadata": {},
     "output_type": "execute_result"
    }
   ],
   "source": [
    "r(x,y) = 1 / ( x - y )\n",
    "\n",
    "taylor(r(x,y), (x,0), (y,0), 100)"
   ]
  }
 ],
 "metadata": {
  "kernelspec": {
   "display_name": "SageMath 9.4",
   "language": "sage",
   "name": "sagemath-9.4"
  },
  "language_info": {
   "codemirror_mode": {
    "name": "ipython",
    "version": 3
   },
   "file_extension": ".py",
   "mimetype": "text/x-python",
   "name": "python",
   "nbconvert_exporter": "python",
   "pygments_lexer": "ipython3",
   "version": "3.9.5"
  }
 },
 "nbformat": 4,
 "nbformat_minor": 4
}
