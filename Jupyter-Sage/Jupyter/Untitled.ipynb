{
 "cells": [
  {
   "cell_type": "code",
   "execution_count": 1,
   "metadata": {},
   "outputs": [
    {
     "data": {
      "text/plain": [
       "(x, y)"
      ]
     },
     "execution_count": 1,
     "metadata": {},
     "output_type": "execute_result"
    }
   ],
   "source": [
    "var('x y')"
   ]
  },
  {
   "cell_type": "code",
   "execution_count": 11,
   "metadata": {},
   "outputs": [],
   "source": [
    "a(x,y) = 1 / ( (1 - x) * (1 - y) )\n",
    "\n",
    "b(x,y) = x**5 / ( ( 1 - (1/x) ) * ( 1 - (y/x) ) )\n",
    "\n",
    "c(x,y) = y**5 / ( ( 1 - (1/y) ) * ( 1 - (x/y) ) )"
   ]
  },
  {
   "cell_type": "code",
   "execution_count": 29,
   "metadata": {},
   "outputs": [],
   "source": [
    "p(x,y) = a(x,y) + b(x,y) + c(x,y)\n",
    "\n",
    "q(x,y) = b(x,y) + c(x,y)"
   ]
  },
  {
   "cell_type": "code",
   "execution_count": 14,
   "metadata": {},
   "outputs": [
    {
     "data": {
      "text/plain": [
       "x^5 + x^4*y + x^3*y^2 + x^2*y^3 + x*y^4 + y^5 + x^4 + x^3*y + x^2*y^2 + x*y^3 + y^4 + x^3 + x^2*y + x*y^2 + y^3 + x^2 + x*y + y^2 + x + y + 1"
      ]
     },
     "execution_count": 14,
     "metadata": {},
     "output_type": "execute_result"
    }
   ],
   "source": [
    "taylor(p(x,y),(x,0),(y,0),1000)"
   ]
  },
  {
   "cell_type": "code",
   "execution_count": 30,
   "metadata": {},
   "outputs": [
    {
     "data": {
      "text/plain": [
       "-x^10 - x^9*y - x^8*y^2 - x^7*y^3 - x^6*y^4 - x^5*y^5 - x^4*y^6 - x^3*y^7 - x^2*y^8 - x*y^9 - y^10 - x^9 - x^8*y - x^7*y^2 - x^6*y^3 - x^5*y^4 - x^4*y^5 - x^3*y^6 - x^2*y^7 - x*y^8 - y^9 - x^8 - x^7*y - x^6*y^2 - x^5*y^3 - x^4*y^4 - x^3*y^5 - x^2*y^6 - x*y^7 - y^8 - x^7 - x^6*y - x^5*y^2 - x^4*y^3 - x^3*y^4 - x^2*y^5 - x*y^6 - y^7 - x^6 - x^5*y - x^4*y^2 - x^3*y^3 - x^2*y^4 - x*y^5 - y^6"
      ]
     },
     "execution_count": 30,
     "metadata": {},
     "output_type": "execute_result"
    }
   ],
   "source": [
    "taylor(q(x,y),(x,0),(y,0),10)"
   ]
  },
  {
   "cell_type": "code",
   "execution_count": 23,
   "metadata": {},
   "outputs": [
    {
     "data": {
      "text/plain": [
       "-x^101/(x - y) - x^100/(x - y) - x^99/(x - y) - x^98/(x - y) - x^97/(x - y) - x^96/(x - y) - x^95/(x - y) - x^94/(x - y) - x^93/(x - y) - x^92/(x - y) - x^91/(x - y) - x^90/(x - y) - x^89/(x - y) - x^88/(x - y) - x^87/(x - y) - x^86/(x - y) - x^85/(x - y) - x^84/(x - y) - x^83/(x - y) - x^82/(x - y) - x^81/(x - y) - x^80/(x - y) - x^79/(x - y) - x^78/(x - y) - x^77/(x - y) - x^76/(x - y) - x^75/(x - y) - x^74/(x - y) - x^73/(x - y) - x^72/(x - y) - x^71/(x - y) - x^70/(x - y) - x^69/(x - y) - x^68/(x - y) - x^67/(x - y) - x^66/(x - y) - x^65/(x - y) - x^64/(x - y) - x^63/(x - y) - x^62/(x - y) - x^61/(x - y) - x^60/(x - y) - x^59/(x - y) - x^58/(x - y) - x^57/(x - y) - x^56/(x - y) - x^55/(x - y) - x^54/(x - y) - x^53/(x - y) - x^52/(x - y) - x^51/(x - y) - x^50/(x - y) - x^49/(x - y) - x^48/(x - y) - x^47/(x - y) - x^46/(x - y) - x^45/(x - y) - x^44/(x - y) - x^43/(x - y) - x^42/(x - y) - x^41/(x - y) - x^40/(x - y) - x^39/(x - y) - x^38/(x - y) - x^37/(x - y) - x^36/(x - y) - x^35/(x - y) - x^34/(x - y) - x^33/(x - y) - x^32/(x - y) - x^31/(x - y) - x^30/(x - y) - x^29/(x - y) - x^28/(x - y) - x^27/(x - y) - x^26/(x - y) - x^25/(x - y) - x^24/(x - y) - x^23/(x - y) - x^22/(x - y) - x^21/(x - y) - x^20/(x - y) - x^19/(x - y) - x^18/(x - y) - x^17/(x - y) - x^16/(x - y) - x^15/(x - y) - x^14/(x - y) - x^13/(x - y) - x^12/(x - y) - x^11/(x - y) - x^10/(x - y) - x^9/(x - y) - x^8/(x - y) - x^7/(x - y)"
      ]
     },
     "execution_count": 23,
     "metadata": {},
     "output_type": "execute_result"
    }
   ],
   "source": [
    "simplify( taylor(b(x,y),(x,0),(y,0),100) )"
   ]
  },
  {
   "cell_type": "code",
   "execution_count": 22,
   "metadata": {},
   "outputs": [
    {
     "data": {
      "text/plain": [
       "y^11/(x - y) + y^10/(x - y) + y^9/(x - y) + y^8/(x - y) + y^7/(x - y)"
      ]
     },
     "execution_count": 22,
     "metadata": {},
     "output_type": "execute_result"
    }
   ],
   "source": [
    "taylor(c(x,y),(x,0),(y,0),10)"
   ]
  },
  {
   "cell_type": "code",
   "execution_count": null,
   "metadata": {},
   "outputs": [],
   "source": []
  },
  {
   "cell_type": "code",
   "execution_count": 31,
   "metadata": {},
   "outputs": [
    {
     "data": {
      "text/plain": [
       "1/(x - y)"
      ]
     },
     "execution_count": 31,
     "metadata": {},
     "output_type": "execute_result"
    }
   ],
   "source": [
    "r(x,y) = 1 / ( x - y )\n",
    "\n",
    "taylor(r(x,y), (x,0), (y,0), 100)"
   ]
  }
 ],
 "metadata": {
  "kernelspec": {
   "display_name": "SageMath 9.4",
   "language": "sage",
   "name": "sagemath-9.4"
  },
  "language_info": {
   "codemirror_mode": {
    "name": "ipython",
    "version": 3
   },
   "file_extension": ".py",
   "mimetype": "text/x-python",
   "name": "python",
   "nbconvert_exporter": "python",
   "pygments_lexer": "ipython3",
   "version": "3.9.5"
  }
 },
 "nbformat": 4,
 "nbformat_minor": 4
}
