{
 "cells": [
  {
   "cell_type": "code",
   "execution_count": 31,
   "metadata": {},
   "outputs": [
    {
     "data": {
      "text/plain": [
       "True"
      ]
     },
     "execution_count": 31,
     "metadata": {},
     "output_type": "execute_result"
    }
   ],
   "source": [
    "# polytope = Polyhedron(vertices = [[0, 0], [2, 0], [0, 1]])\n",
    "# simplex = LatticePolytope([(1,0), (0,1), (-1,-1)])\n",
    "# fan = Fan(cones=[(0,1), (1,2)], rays=[(1,0), (0,1), (-1,0)])\n",
    "\n",
    "fan = Fan2d(rays=[(1,0), (0,1), (-1,-2)])\n",
    "\n",
    "polytope = Polyhedron(vertices = [[0, 0], [2, 0], [0, 1]])\n",
    "normal_fan = NormalFan(polytope)\n",
    "\n",
    "normal_fan.is_equivalent(fan)"
   ]
  },
  {
   "cell_type": "code",
   "execution_count": 33,
   "metadata": {},
   "outputs": [
    {
     "name": "stdout",
     "output_type": "stream",
     "text": [
      "N( 1,  0),\n",
      "N( 0,  1),\n",
      "N(-1, -2)\n",
      "in 2-d lattice N\n",
      "N( 1,  0),\n",
      "N( 0,  1),\n",
      "N(-1, -2)\n",
      "in 2-d lattice N\n"
     ]
    }
   ],
   "source": [
    "print(fan.rays())\n",
    "print(normal_fan.rays())"
   ]
  },
  {
   "cell_type": "code",
   "execution_count": 26,
   "metadata": {},
   "outputs": [
    {
     "name": "stdout",
     "output_type": "stream",
     "text": [
      "True\n",
      "True\n",
      "False\n"
     ]
    }
   ],
   "source": [
    "print(fan.is_complete())\n",
    "print(fan.is_simplicial())\n",
    "print(fan.is_smooth())"
   ]
  },
  {
   "cell_type": "code",
   "execution_count": 37,
   "metadata": {},
   "outputs": [],
   "source": [
    "# wCP2 = ToricVariety(fan, base_field=CC)\n",
    "# wCP2.coordinate_ring()"
   ]
  },
  {
   "cell_type": "code",
   "execution_count": 47,
   "metadata": {},
   "outputs": [],
   "source": [
    "CP2 = toric_varieties.P2()\n",
    "wCP2 = toric_varieties.P2_112()"
   ]
  },
  {
   "cell_type": "code",
   "execution_count": 48,
   "metadata": {},
   "outputs": [
    {
     "name": "stdout",
     "output_type": "stream",
     "text": [
      "Multivariate Polynomial Ring in x, y, z over Rational Field\n",
      "Multivariate Polynomial Ring in z0, z1, z2 over Rational Field\n"
     ]
    }
   ],
   "source": [
    "print(CP2.coordinate_ring())\n",
    "print(wCP2.coordinate_ring())"
   ]
  },
  {
   "cell_type": "code",
   "execution_count": 59,
   "metadata": {},
   "outputs": [
    {
     "name": "stdout",
     "output_type": "stream",
     "text": [
      "The total, first, and second Chern classes for the weighted projective space CP(1,1,2) are: c= [5*z2^2 + 4*z2 + 1] , c1 = [4*z2] , c2 = [5*z2^2] .\n"
     ]
    }
   ],
   "source": [
    "print('The total, first, and second Chern classes for the weighted projective space CP(1,1,2) are: c=', wCP2.c(),', c1 =', wCP2.c(1),', c2 =', wCP2.c(2),'.')"
   ]
  },
  {
   "cell_type": "code",
   "execution_count": 60,
   "metadata": {},
   "outputs": [
    {
     "name": "stdout",
     "output_type": "stream",
     "text": [
      "Similarly, for the usual complex projective plane CP2, they are respectively: c = [3*z^2 + 3*z + 1] , c1 = [3*z] , c2 = [3*z^2] .\n"
     ]
    }
   ],
   "source": [
    "print('Similarly, for the usual complex projective plane CP2, they are respectively: c =', CP2.c(),', c1 =', CP2.c(1),', c2 =', CP2.c(2),'.')"
   ]
  },
  {
   "cell_type": "code",
   "execution_count": 61,
   "metadata": {},
   "outputs": [
    {
     "data": {
      "text/plain": [
       "3"
      ]
     },
     "execution_count": 61,
     "metadata": {},
     "output_type": "execute_result"
    }
   ],
   "source": [
    "CP2.Euler_number()\n",
    "wCP2.Euler_number()"
   ]
  },
  {
   "cell_type": "code",
   "execution_count": 67,
   "metadata": {},
   "outputs": [
    {
     "data": {
      "text/plain": [
       "5/2"
      ]
     },
     "execution_count": 67,
     "metadata": {},
     "output_type": "execute_result"
    }
   ],
   "source": [
    "CP2.integrate( CP2.c(2) )\n",
    "wCP2.integrate( wCP2.c(2) )"
   ]
  },
  {
   "cell_type": "code",
   "execution_count": 66,
   "metadata": {},
   "outputs": [
    {
     "name": "stdout",
     "output_type": "stream",
     "text": [
      "True\n",
      "True\n"
     ]
    }
   ],
   "source": [
    "print( CP2.Euler_number() == CP2.integrate( CP2.c(2) ) )\n",
    "print( wCP2.Euler_number() == wCP2.integrate( wCP2.c(2) ) )"
   ]
  },
  {
   "cell_type": "code",
   "execution_count": null,
   "metadata": {},
   "outputs": [],
   "source": []
  }
 ],
 "metadata": {
  "kernelspec": {
   "display_name": "SageMath 9.1",
   "language": "sage",
   "name": "sagemath"
  },
  "language_info": {
   "codemirror_mode": {
    "name": "ipython",
    "version": 3
   },
   "file_extension": ".py",
   "mimetype": "text/x-python",
   "name": "python",
   "nbconvert_exporter": "python",
   "pygments_lexer": "ipython3",
   "version": "3.7.3"
  }
 },
 "nbformat": 4,
 "nbformat_minor": 2
}
