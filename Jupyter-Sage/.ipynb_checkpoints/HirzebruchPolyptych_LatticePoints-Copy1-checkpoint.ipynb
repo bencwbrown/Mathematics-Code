{
 "cells": [
  {
   "cell_type": "code",
   "execution_count": null,
   "metadata": {},
   "outputs": [],
   "source": [
    "from sympy import *\n",
    "from sympy.vector import Vector\n",
    "from sympy.vector import CoordSys3D\n",
    "import IPython.display as disp\n",
    "\n",
    "N = CoordSys3D('N')\n",
    "\n",
    "t, k = symbols( 't k' )\n",
    "n, m, d = symbols('n m d', positive=True, integer=True)\n",
    "# init_printing(use_unicode=True)\n",
    "init_printing(use_latex='mathjax')\n",
    "\n",
    "# Basis for the edge/weight vectors for the points \n",
    "\n",
    "v1 = N.i\n",
    "v2 = N.j\n",
    "\n",
    "# Define the vector which is not parallel to any edge vector, which will tend to zero:\n",
    "\n",
    "Phi = t*(v1 + 3*v2)\n",
    "\n",
    "# Set the fixed points of the action; P denotes those that belong\n",
    "# to the core, and Q those that come from the cut extended core:\n",
    "\n",
    "def P12(n,m):\n",
    "    return Vector.zero\n",
    "\n",
    "def P23(n,m):\n",
    "    return (m+n)*v1\n",
    "\n",
    "def P34(n,m):\n",
    "    return m*v1 + n*v2\n",
    "\n",
    "def P14(n,m):\n",
    "    return n*v2\n",
    "\n",
    "def P13(n,m):\n",
    "    return (m+n)*v2"
   ]
  },
  {
   "cell_type": "code",
   "execution_count": 5,
   "metadata": {},
   "outputs": [],
   "source": [
    "def Q12_1(n,m,d):\n",
    "    return (-m-2*d)*v2\n",
    "\n",
    "def Q12_2(n,m,d):\n",
    "    return (-m-2*d)*v1\n",
    "\n",
    "def Q23_2(n,m,d):\n",
    "    return (2*m+n+2*d)*v1\n",
    "\n",
    "def Q23_3(n,m,d):\n",
    "    return (2*m+n+2*d)*v1 + (-m-2*d)*v2\n",
    "\n",
    "def Q34_4(n,m,d):\n",
    "    return (2*m + 2*d)*v1 + n*v2\n",
    "\n",
    "def Q13_1(n,m,d):\n",
    "    return (m+n+d)*v2\n",
    "\n",
    "def Q13_3(n,m,d):\n",
    "    return -d*v1 + (m+n+d)*v2\n",
    "\n",
    "def Q14_4(n,m,d):\n",
    "    return (-m-2*d)*v1 + n*v2\n",
    "\n",
    "# Define the term which is summed over each fixed point,\n",
    "# representing the character for the representation\n",
    "\n",
    "def P(P, edge1, edge2, edge3, edge4):\n",
    "    return exp( Phi.dot(P) ) / ( (1 - exp( Phi.dot(edge1) ) ) * ( 1 - exp( Phi.dot(edge2) ) ) * ( 1 - exp( Phi.dot(edge3) ) ) * ( 1 - exp( Phi.dot(edge4) ) ) )\n",
    "\n",
    "\n",
    "def Q(P, edge1, edge2):\n",
    "    return exp( Phi.dot(P) ) / ( (1 - exp( Phi.dot(edge1) ) ) * ( 1 - exp( Phi.dot(edge2) ) ) )\n",
    "\n",
    "def Exp(p, q):\n",
    "    return exp( 2*pi*I*Rational(p,q) )\n",
    "\n",
    "def OrbiFactor(p, q, edge):\n",
    "    return ( 1 - ( Exp(p,q) * exp( Rational(p,q) * Phi.dot(edge) ) ) )\n",
    "\n",
    "def OrbiSum(Q, p, q, edge1, edge2, edge3, edge4):\n",
    "    return ( Rational(1,q) * exp( Phi.dot(Q) ) ) / ( (1 - ( Exp(p,q) * exp( Rational(1,q) * Phi.dot(edge1) ) ) ) * (1 - ( Exp(p,q) * exp( Rational(1,q) * Phi.dot(edge2) ) ) ) * (1 - ( Exp(p,q) * exp( Rational(1,q) * Phi.dot(edge3) ) ) ) * (1 - ( Exp(p,q) * exp( Rational(1,q) * Phi.dot(edge4) ) ) ) ) \n",
    "\n"
   ]
  },
  {
   "cell_type": "code",
   "execution_count": 6,
   "metadata": {},
   "outputs": [
    {
     "data": {
      "text/latex": [
       "$\\displaystyle \\frac{e^{t \\left(m + n\\right)}}{\\left(1 - e^{- 2 t}\\right) \\left(1 - e^{- t}\\right) \\left(1 - e^{t}\\right) \\left(1 - e^{2 t}\\right)} + \\frac{e^{m t + 3 n t}}{\\left(1 - e^{- 2 t}\\right) \\left(1 - e^{- t}\\right) \\left(1 - e^{t}\\right) \\left(1 - e^{2 t}\\right)} + \\frac{e^{3 n t}}{\\left(1 - e^{- 3 t}\\right) \\left(1 - e^{- t}\\right) \\left(1 - e^{t}\\right) \\left(1 - e^{3 t}\\right)} + \\frac{1}{\\left(1 - e^{- 3 t}\\right) \\left(1 - e^{- t}\\right) \\left(1 - e^{t}\\right) \\left(1 - e^{3 t}\\right)} + \\frac{e^{3 t \\left(m + n\\right)}}{\\left(1 - e^{- 3 t}\\right) \\left(1 - e^{- 2 t}\\right) \\left(1 - e^{2 t}\\right) \\left(1 - e^{3 t}\\right)}$"
      ],
      "text/plain": [
       "                 t⋅(m + n)                                  m⋅t + 3⋅n⋅t       \n",
       "                ℯ                                          ℯ                  \n",
       "───────────────────────────────────────── + ──────────────────────────────────\n",
       "⎛     -2⋅t⎞ ⎛     -t⎞ ⎛     t⎞ ⎛     2⋅t⎞   ⎛     -2⋅t⎞ ⎛     -t⎞ ⎛     t⎞ ⎛  \n",
       "⎝1 - ℯ    ⎠⋅⎝1 - ℯ  ⎠⋅⎝1 - ℯ ⎠⋅⎝1 - ℯ   ⎠   ⎝1 - ℯ    ⎠⋅⎝1 - ℯ  ⎠⋅⎝1 - ℯ ⎠⋅⎝1 \n",
       "\n",
       "                             3⋅n⋅t                                            \n",
       "                            ℯ                                             1   \n",
       "─────── + ───────────────────────────────────────── + ────────────────────────\n",
       "   2⋅t⎞   ⎛     -3⋅t⎞ ⎛     -t⎞ ⎛     t⎞ ⎛     3⋅t⎞   ⎛     -3⋅t⎞ ⎛     -t⎞ ⎛ \n",
       "- ℯ   ⎠   ⎝1 - ℯ    ⎠⋅⎝1 - ℯ  ⎠⋅⎝1 - ℯ ⎠⋅⎝1 - ℯ   ⎠   ⎝1 - ℯ    ⎠⋅⎝1 - ℯ  ⎠⋅⎝1\n",
       "\n",
       "                                      3⋅t⋅(m + n)                \n",
       "                                     ℯ                           \n",
       "───────────────── + ─────────────────────────────────────────────\n",
       "    t⎞ ⎛     3⋅t⎞   ⎛     -3⋅t⎞ ⎛     -2⋅t⎞ ⎛     2⋅t⎞ ⎛     3⋅t⎞\n",
       " - ℯ ⎠⋅⎝1 - ℯ   ⎠   ⎝1 - ℯ    ⎠⋅⎝1 - ℯ    ⎠⋅⎝1 - ℯ   ⎠⋅⎝1 - ℯ   ⎠"
      ]
     },
     "execution_count": 6,
     "metadata": {},
     "output_type": "execute_result"
    }
   ],
   "source": [
    "def TermP12(n,m):\n",
    "    return P(P12(n,m), v1, v2, -v1, -v2)\n",
    "\n",
    "def TermP23(n,m):\n",
    "    return P(P23(n,m), v1, -v1 + v2, -v1, v1 - v2)\n",
    "\n",
    "def TermP34(n,m):\n",
    "    return P(P34(n,m), v1, -v1 + v2, -v1, v1 - v2)\n",
    "\n",
    "def TermP14(n,m):\n",
    "    return P(P14(n,m), v1, v2, -v1, -v2)\n",
    "\n",
    "def TermP13(n,m):\n",
    "    return P(P13(n,m), v1 - v2, v2, -v1 + v2, -v2)\n",
    "\n",
    "def InteriorSum(n,d):\n",
    "    return TermP12(n,m) + TermP23(n,m) + TermP34(n,m) + TermP14(n,m) + TermP13(n,m)\n",
    "\n",
    "InteriorSum(n,d)"
   ]
  },
  {
   "cell_type": "code",
   "execution_count": 14,
   "metadata": {},
   "outputs": [],
   "source": [
    "def TermQ12_1(n,m,d):\n",
    "    return P(Q12_1(n,m,d), v2, v2, v1, -v1 + v2)\n",
    "\n",
    "def TermQ12_2(n,m,d):\n",
    "    return P(Q12_2(n,m,d), v1, v1, v2, v1 - v2)\n",
    "\n",
    "def TermQ23_2(n,m,d):\n",
    "    return P(Q23_2(n,m,d), -v1, -v1, -v2, -v1 + v2)\n",
    "\n",
    "def TermQ23_3(n,m,d):\n",
    "    return P(Q23_3(n,m,d), -v1 + v2, -v1 + v2, -v1, -v2)\n",
    "\n",
    "def TermQ34_4(n,m,d):\n",
    "    return P(Q34_4(n,m,d), -v1, -v1, -2*v1 + v2, v1 - v2)\n",
    "\n",
    "# Q13_1 is an orbifold point of order 2:\n",
    "\n",
    "def TermQ13_1(n,m,d):\n",
    "    return OrbiSum(Q13_1(n,m,d), 0, 2, 2*v1 - v2, -v2, -v2, -2*v1) + OrbiSum(Q13_1(n,m,d), 1, 2, 2*v1 - v2, -v2, -v2, -2*v1)\n",
    "\n",
    "# Q13_3 is an orbifold point of order 2:\n",
    "\n",
    "def TermQ13_3(n,m,d):\n",
    "    return OrbiSum(Q13_3(n,m,d), 0, 2, 2*v1, v1 - v2, v1 - v2, -v1 - v2) + OrbiSum(Q13_3(n,m,d), 1, 2, 2*v1, v1 - v2, v1 - v2, -v1 - v2)\n",
    "\n",
    "def TermQ14_4(n,m,d):\n",
    "    return P(Q14_4(n,m,d), v1, v1, v1 + v2, -v2)"
   ]
  },
  {
   "cell_type": "code",
   "execution_count": 15,
   "metadata": {},
   "outputs": [
    {
     "data": {
      "text/latex": [
       "$\\displaystyle \\frac{e^{3 t \\left(- 2 d - m\\right)}}{\\left(1 - e^{t}\\right) \\left(1 - e^{2 t}\\right) \\left(1 - e^{3 t}\\right)^{2}} + \\frac{e^{3 t \\left(d + m + n\\right)}}{2 \\left(1 + e^{- \\frac{3 t}{2}}\\right)^{2} \\left(1 + e^{- t}\\right) \\left(1 + e^{- \\frac{t}{2}}\\right)} + \\frac{e^{3 t \\left(d + m + n\\right)}}{2 \\left(1 - e^{- \\frac{3 t}{2}}\\right)^{2} \\left(1 - e^{- t}\\right) \\left(1 - e^{- \\frac{t}{2}}\\right)} + \\frac{e^{- d t + 3 t \\left(d + m + n\\right)}}{2 \\left(1 + e^{- 2 t}\\right) \\left(1 + e^{- t}\\right)^{2} \\left(e^{t} + 1\\right)} + \\frac{e^{t \\left(- 2 d - m\\right)}}{\\left(1 - e^{- 2 t}\\right) \\left(1 - e^{t}\\right)^{2} \\left(1 - e^{3 t}\\right)} + \\frac{e^{- d t + 3 t \\left(d + m + n\\right)}}{2 \\left(1 - e^{- 2 t}\\right) \\left(1 - e^{- t}\\right)^{2} \\left(1 - e^{t}\\right)} + \\frac{e^{3 n t + t \\left(2 d + 2 m\\right)}}{\\left(1 - e^{- 2 t}\\right) \\left(1 - e^{- t}\\right)^{2} \\left(1 - e^{t}\\right)} + \\frac{e^{3 n t + t \\left(- 2 d - m\\right)}}{\\left(1 - e^{- 3 t}\\right) \\left(1 - e^{t}\\right)^{2} \\left(1 - e^{4 t}\\right)} + \\frac{e^{3 t \\left(- 2 d - m\\right) + t \\left(2 d + 2 m + n\\right)}}{\\left(1 - e^{- 3 t}\\right) \\left(1 - e^{- t}\\right) \\left(1 - e^{2 t}\\right)^{2}} + \\frac{e^{t \\left(2 d + 2 m + n\\right)}}{\\left(1 - e^{- 3 t}\\right) \\left(1 - e^{- t}\\right)^{2} \\left(1 - e^{2 t}\\right)}$"
      ],
      "text/plain": [
       "         3⋅t⋅(-2⋅d - m)                      3⋅t⋅(d + m + n)                  \n",
       "        ℯ                                   ℯ                                 \n",
       "─────────────────────────────── + ──────────────────────────────────── + ─────\n",
       "                              2                 2                             \n",
       "⎛     t⎞ ⎛     2⋅t⎞ ⎛     3⋅t⎞      ⎛     -3⋅t ⎞            ⎛     -t ⎞     ⎛  \n",
       "⎝1 - ℯ ⎠⋅⎝1 - ℯ   ⎠⋅⎝1 - ℯ   ⎠      ⎜     ─────⎟            ⎜     ───⎟     ⎜  \n",
       "                                    ⎜       2  ⎟  ⎛     -t⎞ ⎜      2 ⎟     ⎜  \n",
       "                                  2⋅⎝1 + ℯ     ⎠ ⋅⎝1 + ℯ  ⎠⋅⎝1 + ℯ   ⎠   2⋅⎝1 \n",
       "\n",
       "      3⋅t⋅(d + m + n)                   -d⋅t + 3⋅t⋅(d + m + n)                \n",
       "     ℯ                                 ℯ                                      \n",
       "─────────────────────────────── + ───────────────────────────────── + ────────\n",
       "         2                                               2                    \n",
       "   -3⋅t ⎞            ⎛     -t ⎞     ⎛     -2⋅t⎞ ⎛     -t⎞  ⎛ t    ⎞   ⎛     -2\n",
       "   ─────⎟            ⎜     ───⎟   2⋅⎝1 + ℯ    ⎠⋅⎝1 + ℯ  ⎠ ⋅⎝ℯ  + 1⎠   ⎝1 - ℯ  \n",
       "     2  ⎟  ⎛     -t⎞ ⎜      2 ⎟                                               \n",
       "- ℯ     ⎠ ⋅⎝1 - ℯ  ⎠⋅⎝1 - ℯ   ⎠                                               \n",
       "\n",
       "  t⋅(-2⋅d - m)                   -d⋅t + 3⋅t⋅(d + m + n)              3⋅n⋅t + t\n",
       " ℯ                              ℯ                                   ℯ         \n",
       "──────────────────────── + ───────────────────────────────── + ───────────────\n",
       "            2                                     2                           \n",
       "⋅t⎞ ⎛     t⎞  ⎛     3⋅t⎞     ⎛     -2⋅t⎞ ⎛     -t⎞  ⎛     t⎞   ⎛     -2⋅t⎞ ⎛  \n",
       "  ⎠⋅⎝1 - ℯ ⎠ ⋅⎝1 - ℯ   ⎠   2⋅⎝1 - ℯ    ⎠⋅⎝1 - ℯ  ⎠ ⋅⎝1 - ℯ ⎠   ⎝1 - ℯ    ⎠⋅⎝1 \n",
       "                                                                              \n",
       "                                                                              \n",
       "\n",
       "⋅(2⋅d + 2⋅m)             3⋅n⋅t + t⋅(-2⋅d - m)          3⋅t⋅(-2⋅d - m) + t⋅(2⋅d\n",
       "                        ℯ                             ℯ                       \n",
       "──────────────── + ──────────────────────────────── + ────────────────────────\n",
       "      2                                2                                      \n",
       "   -t⎞  ⎛     t⎞   ⎛     -3⋅t⎞ ⎛     t⎞  ⎛     4⋅t⎞    ⎛     -3⋅t⎞ ⎛     -t⎞ ⎛\n",
       "- ℯ  ⎠ ⋅⎝1 - ℯ ⎠   ⎝1 - ℯ    ⎠⋅⎝1 - ℯ ⎠ ⋅⎝1 - ℯ   ⎠    ⎝1 - ℯ    ⎠⋅⎝1 - ℯ  ⎠⋅⎝\n",
       "                                                                              \n",
       "                                                                              \n",
       "\n",
       " + 2⋅m + n)            t⋅(2⋅d + 2⋅m + n)       \n",
       "                      ℯ                        \n",
       "─────────── + ─────────────────────────────────\n",
       "         2                         2           \n",
       "     2⋅t⎞     ⎛     -3⋅t⎞ ⎛     -t⎞  ⎛     2⋅t⎞\n",
       "1 - ℯ   ⎠     ⎝1 - ℯ    ⎠⋅⎝1 - ℯ  ⎠ ⋅⎝1 - ℯ   ⎠\n",
       "                                               \n",
       "                                               "
      ]
     },
     "execution_count": 15,
     "metadata": {},
     "output_type": "execute_result"
    }
   ],
   "source": [
    "def InteriorSum(n,m):\n",
    "    return TermP12(n,d) + TermP23(n,m) + TermP34(n,m) + TermP13(n,m) + TermP14(n,m)\n",
    "\n",
    "def ExteriorSum(n,m,d):\n",
    "    return TermQ12_1(n,m,d) + TermQ12_2(n,m,d) + TermQ23_2(n,m,d) + TermQ23_3(n,m,d) + TermQ34_4(n,m,d) + TermQ13_1(n,m,d) + TermQ13_3(n,m,d) + TermQ14_4(n,m,d)\n",
    "\n",
    "ExteriorSum(n,m,d)"
   ]
  },
  {
   "cell_type": "code",
   "execution_count": 16,
   "metadata": {},
   "outputs": [
    {
     "data": {
      "text/latex": [
       "$\\displaystyle \\frac{e^{3 t \\left(- 2 d - m\\right)}}{\\left(1 - e^{t}\\right) \\left(1 - e^{2 t}\\right) \\left(1 - e^{3 t}\\right)^{2}} + \\frac{e^{3 t \\left(d + m + n\\right)}}{2 \\left(1 + e^{- \\frac{3 t}{2}}\\right)^{2} \\left(1 + e^{- t}\\right) \\left(1 + e^{- \\frac{t}{2}}\\right)} + \\frac{e^{3 t \\left(d + m + n\\right)}}{2 \\left(1 - e^{- \\frac{3 t}{2}}\\right)^{2} \\left(1 - e^{- t}\\right) \\left(1 - e^{- \\frac{t}{2}}\\right)} + \\frac{e^{- d t + 3 t \\left(d + m + n\\right)}}{2 \\left(1 + e^{- 2 t}\\right) \\left(1 + e^{- t}\\right)^{2} \\left(e^{t} + 1\\right)} + \\frac{e^{t \\left(- 2 d - m\\right)}}{\\left(1 - e^{- 2 t}\\right) \\left(1 - e^{t}\\right)^{2} \\left(1 - e^{3 t}\\right)} + \\frac{e^{t \\left(m + n\\right)}}{\\left(1 - e^{- 2 t}\\right) \\left(1 - e^{- t}\\right) \\left(1 - e^{t}\\right) \\left(1 - e^{2 t}\\right)} + \\frac{e^{m t + 3 n t}}{\\left(1 - e^{- 2 t}\\right) \\left(1 - e^{- t}\\right) \\left(1 - e^{t}\\right) \\left(1 - e^{2 t}\\right)} + \\frac{e^{- d t + 3 t \\left(d + m + n\\right)}}{2 \\left(1 - e^{- 2 t}\\right) \\left(1 - e^{- t}\\right)^{2} \\left(1 - e^{t}\\right)} + \\frac{e^{3 n t + t \\left(2 d + 2 m\\right)}}{\\left(1 - e^{- 2 t}\\right) \\left(1 - e^{- t}\\right)^{2} \\left(1 - e^{t}\\right)} + \\frac{e^{3 n t + t \\left(- 2 d - m\\right)}}{\\left(1 - e^{- 3 t}\\right) \\left(1 - e^{t}\\right)^{2} \\left(1 - e^{4 t}\\right)} + \\frac{e^{3 t \\left(- 2 d - m\\right) + t \\left(2 d + 2 m + n\\right)}}{\\left(1 - e^{- 3 t}\\right) \\left(1 - e^{- t}\\right) \\left(1 - e^{2 t}\\right)^{2}} + \\frac{e^{3 n t}}{\\left(1 - e^{- 3 t}\\right) \\left(1 - e^{- t}\\right) \\left(1 - e^{t}\\right) \\left(1 - e^{3 t}\\right)} + \\frac{1}{\\left(1 - e^{- 3 t}\\right) \\left(1 - e^{- t}\\right) \\left(1 - e^{t}\\right) \\left(1 - e^{3 t}\\right)} + \\frac{e^{t \\left(2 d + 2 m + n\\right)}}{\\left(1 - e^{- 3 t}\\right) \\left(1 - e^{- t}\\right)^{2} \\left(1 - e^{2 t}\\right)} + \\frac{e^{3 t \\left(m + n\\right)}}{\\left(1 - e^{- 3 t}\\right) \\left(1 - e^{- 2 t}\\right) \\left(1 - e^{2 t}\\right) \\left(1 - e^{3 t}\\right)}$"
      ],
      "text/plain": [
       "         3⋅t⋅(-2⋅d - m)                      3⋅t⋅(d + m + n)                  \n",
       "        ℯ                                   ℯ                                 \n",
       "─────────────────────────────── + ──────────────────────────────────── + ─────\n",
       "                              2                 2                             \n",
       "⎛     t⎞ ⎛     2⋅t⎞ ⎛     3⋅t⎞      ⎛     -3⋅t ⎞            ⎛     -t ⎞     ⎛  \n",
       "⎝1 - ℯ ⎠⋅⎝1 - ℯ   ⎠⋅⎝1 - ℯ   ⎠      ⎜     ─────⎟            ⎜     ───⎟     ⎜  \n",
       "                                    ⎜       2  ⎟  ⎛     -t⎞ ⎜      2 ⎟     ⎜  \n",
       "                                  2⋅⎝1 + ℯ     ⎠ ⋅⎝1 + ℯ  ⎠⋅⎝1 + ℯ   ⎠   2⋅⎝1 \n",
       "\n",
       "      3⋅t⋅(d + m + n)                   -d⋅t + 3⋅t⋅(d + m + n)                \n",
       "     ℯ                                 ℯ                                      \n",
       "─────────────────────────────── + ───────────────────────────────── + ────────\n",
       "         2                                               2                    \n",
       "   -3⋅t ⎞            ⎛     -t ⎞     ⎛     -2⋅t⎞ ⎛     -t⎞  ⎛ t    ⎞   ⎛     -2\n",
       "   ─────⎟            ⎜     ───⎟   2⋅⎝1 + ℯ    ⎠⋅⎝1 + ℯ  ⎠ ⋅⎝ℯ  + 1⎠   ⎝1 - ℯ  \n",
       "     2  ⎟  ⎛     -t⎞ ⎜      2 ⎟                                               \n",
       "- ℯ     ⎠ ⋅⎝1 - ℯ  ⎠⋅⎝1 - ℯ   ⎠                                               \n",
       "\n",
       "  t⋅(-2⋅d - m)                              t⋅(m + n)                         \n",
       " ℯ                                         ℯ                                  \n",
       "──────────────────────── + ───────────────────────────────────────── + ───────\n",
       "            2              ⎛     -2⋅t⎞ ⎛     -t⎞ ⎛     t⎞ ⎛     2⋅t⎞   ⎛     -\n",
       "⋅t⎞ ⎛     t⎞  ⎛     3⋅t⎞   ⎝1 - ℯ    ⎠⋅⎝1 - ℯ  ⎠⋅⎝1 - ℯ ⎠⋅⎝1 - ℯ   ⎠   ⎝1 - ℯ \n",
       "  ⎠⋅⎝1 - ℯ ⎠ ⋅⎝1 - ℯ   ⎠                                                      \n",
       "                                                                              \n",
       "                                                                              \n",
       "\n",
       "         m⋅t + 3⋅n⋅t                       -d⋅t + 3⋅t⋅(d + m + n)             \n",
       "        ℯ                                 ℯ                                   \n",
       "────────────────────────────────── + ───────────────────────────────── + ─────\n",
       "2⋅t⎞ ⎛     -t⎞ ⎛     t⎞ ⎛     2⋅t⎞                          2                 \n",
       "   ⎠⋅⎝1 - ℯ  ⎠⋅⎝1 - ℯ ⎠⋅⎝1 - ℯ   ⎠     ⎛     -2⋅t⎞ ⎛     -t⎞  ⎛     t⎞   ⎛    \n",
       "                                     2⋅⎝1 - ℯ    ⎠⋅⎝1 - ℯ  ⎠ ⋅⎝1 - ℯ ⎠   ⎝1 - \n",
       "                                                                              \n",
       "                                                                              \n",
       "\n",
       " 3⋅n⋅t + t⋅(2⋅d + 2⋅m)             3⋅n⋅t + t⋅(-2⋅d - m)          3⋅t⋅(-2⋅d - m\n",
       "ℯ                                 ℯ                             ℯ             \n",
       "────────────────────────── + ──────────────────────────────── + ──────────────\n",
       "                2                                2                            \n",
       " -2⋅t⎞ ⎛     -t⎞  ⎛     t⎞   ⎛     -3⋅t⎞ ⎛     t⎞  ⎛     4⋅t⎞    ⎛     -3⋅t⎞ ⎛\n",
       "ℯ    ⎠⋅⎝1 - ℯ  ⎠ ⋅⎝1 - ℯ ⎠   ⎝1 - ℯ    ⎠⋅⎝1 - ℯ ⎠ ⋅⎝1 - ℯ   ⎠    ⎝1 - ℯ    ⎠⋅⎝\n",
       "                                                                              \n",
       "                                                                              \n",
       "\n",
       ") + t⋅(2⋅d + 2⋅m + n)                      3⋅n⋅t                              \n",
       "                                          ℯ                                   \n",
       "───────────────────── + ───────────────────────────────────────── + ──────────\n",
       "                   2    ⎛     -3⋅t⎞ ⎛     -t⎞ ⎛     t⎞ ⎛     3⋅t⎞   ⎛     -3⋅t\n",
       "     -t⎞ ⎛     2⋅t⎞     ⎝1 - ℯ    ⎠⋅⎝1 - ℯ  ⎠⋅⎝1 - ℯ ⎠⋅⎝1 - ℯ   ⎠   ⎝1 - ℯ    \n",
       "1 - ℯ  ⎠⋅⎝1 - ℯ   ⎠                                                           \n",
       "                                                                              \n",
       "                                                                              \n",
       "\n",
       "                                           t⋅(2⋅d + 2⋅m + n)                  \n",
       "          1                               ℯ                                   \n",
       "─────────────────────────────── + ───────────────────────────────── + ────────\n",
       "⎞ ⎛     -t⎞ ⎛     t⎞ ⎛     3⋅t⎞                        2              ⎛     -3\n",
       "⎠⋅⎝1 - ℯ  ⎠⋅⎝1 - ℯ ⎠⋅⎝1 - ℯ   ⎠   ⎛     -3⋅t⎞ ⎛     -t⎞  ⎛     2⋅t⎞   ⎝1 - ℯ  \n",
       "                                  ⎝1 - ℯ    ⎠⋅⎝1 - ℯ  ⎠ ⋅⎝1 - ℯ   ⎠           \n",
       "                                                                              \n",
       "                                                                              \n",
       "\n",
       "          3⋅t⋅(m + n)                \n",
       "         ℯ                           \n",
       "─────────────────────────────────────\n",
       "⋅t⎞ ⎛     -2⋅t⎞ ⎛     2⋅t⎞ ⎛     3⋅t⎞\n",
       "  ⎠⋅⎝1 - ℯ    ⎠⋅⎝1 - ℯ   ⎠⋅⎝1 - ℯ   ⎠\n",
       "                                     \n",
       "                                     \n",
       "                                     "
      ]
     },
     "execution_count": 16,
     "metadata": {},
     "output_type": "execute_result"
    }
   ],
   "source": [
    "def TotalSum(n,m,d):\n",
    "    return InteriorSum(n,m) + ExteriorSum(n,m,d)\n",
    "\n",
    "TotalSum(n,m,d)"
   ]
  },
  {
   "cell_type": "code",
   "execution_count": 17,
   "metadata": {},
   "outputs": [
    {
     "data": {
      "text/latex": [
       "$\\displaystyle \\infty$"
      ],
      "text/plain": [
       "∞"
      ]
     },
     "execution_count": 17,
     "metadata": {},
     "output_type": "execute_result"
    }
   ],
   "source": [
    "limit(TotalSum(n,m,d), t, 0)"
   ]
  },
  {
   "cell_type": "code",
   "execution_count": null,
   "metadata": {},
   "outputs": [],
   "source": [
    "series(TotalSum(n,m,d), t, 0)"
   ]
  },
  {
   "cell_type": "code",
   "execution_count": null,
   "metadata": {},
   "outputs": [],
   "source": [
    "(n > m).simplify()"
   ]
  },
  {
   "cell_type": "code",
   "execution_count": null,
   "metadata": {},
   "outputs": [],
   "source": []
  }
 ],
 "metadata": {
  "kernelspec": {
   "display_name": "Python 3",
   "language": "python",
   "name": "python3"
  },
  "language_info": {
   "codemirror_mode": {
    "name": "ipython",
    "version": 3
   },
   "file_extension": ".py",
   "mimetype": "text/x-python",
   "name": "python",
   "nbconvert_exporter": "python",
   "pygments_lexer": "ipython3",
   "version": "3.9.5"
  }
 },
 "nbformat": 4,
 "nbformat_minor": 4
}
