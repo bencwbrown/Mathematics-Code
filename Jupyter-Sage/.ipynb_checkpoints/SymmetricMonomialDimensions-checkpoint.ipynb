{
 "cells": [
  {
   "cell_type": "code",
   "execution_count": 24,
   "id": "042eab23-bd6f-4cff-9147-0e7fc9ac9b72",
   "metadata": {},
   "outputs": [],
   "source": [
    "from sympy import *\n",
    "from sympy.vector import Vector\n",
    "from sympy.vector import CoordSys3D\n",
    "N = CoordSys3D('N')\n",
    "\n",
    "n, m, d, i = symbols( 'n m d i', integer=True, positive=True )\n",
    "init_printing(use_unicode=True)"
   ]
  },
  {
   "cell_type": "markdown",
   "id": "dec42d21-3a21-43d2-a76b-d30fd4e75a9c",
   "metadata": {},
   "source": [
    "For $(T^{*}\\mathbb{CP}^{1})^{d}$, where\n",
    "\n",
    "$$\\dim H^{0}((T^{*}\\mathbb{CP}^{1})^{d}; \\mathcal{L}^{n}) = (n + d + 1)(d + 1).$$"
   ]
  },
  {
   "cell_type": "code",
   "execution_count": 9,
   "id": "669fc7d4-5145-446d-8bd9-5280b2edd0d1",
   "metadata": {},
   "outputs": [
    {
     "data": {
      "image/png": "[encoded data removed]",
      "text/latex": [
       "$\\displaystyle \\left(d + 1\\right) \\left(d + n + 1\\right)$"
      ],
      "text/plain": [
       "(d + 1)⋅(d + n + 1)"
      ]
     },
     "execution_count": 9,
     "metadata": {},
     "output_type": "execute_result"
    }
   ],
   "source": [
    "factor(binomial(2 + n + d - 1, n + d) * binomial(2 + d - 1, d))"
   ]
  },
  {
   "cell_type": "markdown",
   "id": "21ece500-9ce1-4102-be24-a2fafe7bf48c",
   "metadata": {},
   "source": [
    "For $(T^{*}\\mathbb{CP}^{2})^{d}$, where\n",
    "\n",
    "$$\\dim H^{0}((T^{*}\\mathbb{CP}^{2})^{d}; \\mathcal{L}^{n}) = \\frac{(d + 1)(d + 2)}{2} \\cdot \\frac{(n + d + 1)(n + d + 2)}{2}.$$"
   ]
  },
  {
   "cell_type": "code",
   "execution_count": 11,
   "id": "da15bbde-8d50-4077-bd21-87c7413ad5cc",
   "metadata": {},
   "outputs": [
    {
     "data": {
      "image/png": "[encoded data removed]",
      "text/latex": [
       "$\\displaystyle \\frac{\\left(d + 1\\right) \\left(d + 2\\right) \\left(d + n + 1\\right) \\left(d + n + 2\\right)}{4}$"
      ],
      "text/plain": [
       "(d + 1)⋅(d + 2)⋅(d + n + 1)⋅(d + n + 2)\n",
       "───────────────────────────────────────\n",
       "                   4                   "
      ]
     },
     "execution_count": 11,
     "metadata": {},
     "output_type": "execute_result"
    }
   ],
   "source": [
    "simplify(binomial(3 + n + d - 1, n + d) * binomial(3 + d - 1, d))"
   ]
  },
  {
   "cell_type": "markdown",
   "id": "4fa53def-48fa-4985-b885-fd7703eebeb0",
   "metadata": {},
   "source": [
    "For $(T^{*}(\\mathbb{CP} \\times \\mathbb{CP})^{d}$, where\n",
    "\n",
    "$$\\dim H^{0}( (( T^{*}(\\mathbb{CP} \\times \\mathbb{CP}) )^{d}  ; \\mathcal{O}(n) \\boxtimes \\mathcal{O}(m)) = \\frac{(d + 1)(d + 2)}{2} \\cdot \\frac{d^{2} + 2dm + 2dn + 3d + 3mn + 3m + 3n + 3}{3}.$$"
   ]
  },
  {
   "cell_type": "code",
   "execution_count": 16,
   "id": "fb74b404-194f-4056-882d-9841a9bc6a03",
   "metadata": {},
   "outputs": [
    {
     "data": {
      "image/png": "[encoded data removed]",
      "text/latex": [
       "$\\displaystyle \\left(m + 1\\right) \\left(n + 1\\right)$"
      ],
      "text/plain": [
       "(m + 1)⋅(n + 1)"
      ]
     },
     "execution_count": 16,
     "metadata": {},
     "output_type": "execute_result"
    }
   ],
   "source": [
    "simplify(binomial(2 + n - 1, n) * binomial(2 + m - 1, m))"
   ]
  },
  {
   "cell_type": "markdown",
   "id": "b236053d-61a7-4a44-ba69-8de3a504e98a",
   "metadata": {},
   "source": [
    "Function to quickly enter:\n",
    "\n",
    "$$ \\dim S_{d}\\mathbb{C}^{n} = \\binom{n + d - 1}{d}.$$"
   ]
  },
  {
   "cell_type": "code",
   "execution_count": 19,
   "id": "cd6173e5-d70a-4f72-bf43-91a47eef20a8",
   "metadata": {},
   "outputs": [],
   "source": [
    "def SymPowerDim(n,d):\n",
    "    return binomial(n + d - 1, d)"
   ]
  },
  {
   "cell_type": "code",
   "execution_count": 20,
   "id": "b411e9e9-a62d-4469-b986-130debf06c9b",
   "metadata": {},
   "outputs": [
    {
     "data": {
      "image/png": "[encoded data removed]",
      "text/latex": [
       "$\\displaystyle d + n + 1$"
      ],
      "text/plain": [
       "d + n + 1"
      ]
     },
     "execution_count": 20,
     "metadata": {},
     "output_type": "execute_result"
    }
   ],
   "source": [
    "SymPowerDim(2,n+d)"
   ]
  },
  {
   "cell_type": "code",
   "execution_count": 36,
   "id": "8146e1bb-103b-485d-ad12-77ff35299d1e",
   "metadata": {},
   "outputs": [],
   "source": [
    "def ProdCP1Dim(n,m,d,i):\n",
    "    return SymPowerDim(2,n) * SymPowerDim(2,m) * SymPowerDim(2,d - i) * SymPowerDim(2,d - i) * SymPowerDim(2,i) * SymPowerDim(2,i)\n",
    "\n",
    "def CP1xCP1Euler(n,m,d):\n",
    "    return Rational(1, 6) * (d + 1) * (d + 2) * (d**2 + 2*d*m + 2*d*n + 3*d + 3*m*n + 3*m + 3*n + 3 )"
   ]
  },
  {
   "cell_type": "code",
   "execution_count": 33,
   "id": "9068b3e5-9072-46cc-9eb3-b7ec8433d717",
   "metadata": {},
   "outputs": [
    {
     "data": {
      "image/png": "[encoded data removed]",
      "text/latex": [
       "$\\displaystyle \\frac{\\left(d + 1\\right) \\left(d + 2\\right) \\left(2 d + 3\\right) \\left(m + 1\\right) \\left(n + 1\\right)}{6}$"
      ],
      "text/plain": [
       "(d + 1)⋅(d + 2)⋅(2⋅d + 3)⋅(m + 1)⋅(n + 1)\n",
       "─────────────────────────────────────────\n",
       "                    6                    "
      ]
     },
     "execution_count": 33,
     "metadata": {},
     "output_type": "execute_result"
    }
   ],
   "source": [
    "factor( Sum(ProdCP1Dim(n,m,d,i),(i,0,d)).doit() )"
   ]
  },
  {
   "cell_type": "code",
   "execution_count": 38,
   "id": "d2357c04-971f-46b3-b601-cec5c6fb67fe",
   "metadata": {},
   "outputs": [],
   "source": [
    "# Calculate the error:\n",
    "\n",
    "def Error(n,m,d):\n",
    "    return factor( Sum(ProdCP1Dim(n,m,d,i),(i,0,d)).doit() - CP1xCP1Euler(n,m,d) ) "
   ]
  },
  {
   "cell_type": "code",
   "execution_count": 41,
   "id": "ba1242c0-7004-4a43-9061-f120b82e52e0",
   "metadata": {},
   "outputs": [
    {
     "data": {
      "image/png": "[encoded data removed]",
      "text/latex": [
       "$\\displaystyle - \\frac{d \\left(d + 1\\right) \\left(d + 2\\right) \\left(d - 2 m n + 1\\right)}{6}$"
      ],
      "text/plain": [
       "-d⋅(d + 1)⋅(d + 2)⋅(d - 2⋅m⋅n + 1) \n",
       "───────────────────────────────────\n",
       "                 6                 "
      ]
     },
     "execution_count": 41,
     "metadata": {},
     "output_type": "execute_result"
    }
   ],
   "source": [
    "factor( Error(n,m,d) )"
   ]
  },
  {
   "cell_type": "code",
   "execution_count": null,
   "id": "220bbdd2-ea19-4956-b21f-3831277b5566",
   "metadata": {},
   "outputs": [],
   "source": []
  }
 ],
 "metadata": {
  "kernelspec": {
   "display_name": "Python 3 (ipykernel)",
   "language": "python",
   "name": "python3"
  },
  "language_info": {
   "codemirror_mode": {
    "name": "ipython",
    "version": 3
   },
   "file_extension": ".py",
   "mimetype": "text/x-python",
   "name": "python",
   "nbconvert_exporter": "python",
   "pygments_lexer": "ipython3",
   "version": "3.9.7"
  }
 },
 "nbformat": 4,
 "nbformat_minor": 5
}
