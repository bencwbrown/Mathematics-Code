{
 "cells": [
  {
   "cell_type": "code",
   "execution_count": 1,
   "id": "48a16f68-ea27-4e98-a299-f9aecd3cfac3",
   "metadata": {},
   "outputs": [],
   "source": [
    "A = Matrix([[0,1],[-1,1],[0,-1],[1,1]])"
   ]
  },
  {
   "cell_type": "code",
   "execution_count": 2,
   "id": "e74bbbc9-f99f-4f0c-9943-ba8e922b767f",
   "metadata": {},
   "outputs": [
    {
     "data": {
      "text/plain": [
       "Free module of degree 4 and rank 2 over Integer Ring\n",
       "Echelon basis matrix:\n",
       "[1 0 1 0]\n",
       "[0 1 2 1]"
      ]
     },
     "execution_count": 2,
     "metadata": {},
     "output_type": "execute_result"
    }
   ],
   "source": [
    "kernel(A)"
   ]
  },
  {
   "cell_type": "code",
   "execution_count": null,
   "id": "893f6322-4a63-4a4d-8289-adc7c4b94ac2",
   "metadata": {},
   "outputs": [],
   "source": []
  }
 ],
 "metadata": {
  "kernelspec": {
   "display_name": "SageMath 9.4",
   "language": "sage",
   "name": "sagemath-9.4"
  },
  "language_info": {
   "codemirror_mode": {
    "name": "ipython",
    "version": 3
   },
   "file_extension": ".py",
   "mimetype": "text/x-python",
   "name": "python",
   "nbconvert_exporter": "python",
   "pygments_lexer": "ipython3",
   "version": "3.9.5"
  }
 },
 "nbformat": 4,
 "nbformat_minor": 5
}
