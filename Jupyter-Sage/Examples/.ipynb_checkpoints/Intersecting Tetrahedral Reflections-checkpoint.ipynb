{
 "cells": [
  {
   "cell_type": "code",
   "execution_count": 1,
   "metadata": {},
   "outputs": [
    {
     "data": {
      "application/vnd.jupyter.widget-view+json": {
       "model_id": "",
       "version_major": 2,
       "version_minor": 0
      },
      "text/plain": [
       "Interactive function <function tetra_plot at 0x21cd187b8> with 1 widget\n",
       "  opac: SelectionSlider(description='o…"
      ]
     },
     "metadata": {},
     "output_type": "display_data"
    }
   ],
   "source": [
    "#Pairs of tetrahedra, one the reflection of the other in the internal face, are joined by union operations:\n",
    "p1 = Polyhedron(vertices = [[1,1,1],[1,1,0],[0,1,1],[1,0,1]])\n",
    "p2 = Polyhedron(vertices = [[1/3,1/3,1/3],[1,1,0],[0,1,1],[1,0,1]])\n",
    "p12 = p1.convex_hull(p2)\n",
    "p3 = Polyhedron(vertices = [[0,0,1],[0,0,0],[0,1,1],[1,0,1]])\n",
    "p4 = Polyhedron(vertices = [[2/3,2/3,1/3],[0,0,0],[0,1,1],[1,0,1]])\n",
    "p34 = p3.convex_hull(p4)\n",
    "p5 = Polyhedron(vertices = [[1,0,0],[1,0,1],[0,0,0],[1,1,0]])\n",
    "p6 = Polyhedron(vertices = [[1/3,2/3,2/3],[1,0,1],[0,0,0],[1,1,0]])\n",
    "p56 = p5.convex_hull(p6)\n",
    "p7 = Polyhedron(vertices = [[0,1,0],[0,0,0],[1,1,0],[0,1,1]])\n",
    "p8 = Polyhedron(vertices = [[2/3,1/3,2/3],[0,0,0],[1,1,0],[0,1,1]])\n",
    "p78 = p7.convex_hull(p8)\n",
    "pti = p12.intersection(p34).intersection(p56).intersection(p78)\n",
    "@interact\n",
    "def tetra_plot(opac = slider(srange(0,1.0,.25), default = .25)):\n",
    "    p12r = p12.render_wireframe()+p12.render_solid(opacity = opac)\n",
    "    p34r = p34.render_wireframe()+p34.render_solid(rgbcolor = (0,0,1),opacity = opac)\n",
    "    p56r = p56.render_wireframe()+p56.render_solid(rgbcolor = (0,1,0),opacity = opac)\n",
    "    p78r = p78.render_wireframe()+p78.render_solid(rgbcolor = (0,1,1),opacity = opac)\n",
    "    ptir = pti.render_wireframe()+pti.render_solid(rgbcolor = (1,0,1),opacity = .9)\n",
    "    show(p12r+p34r+p56r+p78r+ptir, frame = False)"
   ]
  },
  {
   "cell_type": "code",
   "execution_count": 2,
   "metadata": {},
   "outputs": [
    {
     "data": {
      "application/vnd.jupyter.widget-view+json": {
       "model_id": "843e064394924203a171aec4c94fdca3",
       "version_major": 2,
       "version_minor": 0
      },
      "text/plain": [
       "Interactive function <function render at 0x21d7d9e18> with 5 widgets\n",
       "  Display: Dropdown(description='Display'…"
      ]
     },
     "metadata": {},
     "output_type": "display_data"
    }
   ],
   "source": [
    "@interact\n",
    "def render(Display=selector(['2D Perspective', '2D Spring-layout', '3D']), Dimension=slider(0,10,default=4, step_size=1), Size=slider(0,10,default=5,step_size=1), Vertices=False, Calculations=False):\n",
    "    \n",
    "    if Display=='2D Perspective':\n",
    "        \n",
    "        if Dimension==0:\n",
    "            g=graphs.GridGraph([1])\n",
    "            print('Vertices:', len(g.vertices()), ('(2^%s)'%Dimension if Calculations else ''), '\\nEdges:', len(g.edges()), ('(%s*(%s/2))' %(len(g.vertices()), Dimension) if Calculations else ''))\n",
    "            g.show(figsize=[Size,Size], vertex_size=30, vertex_labels=False, transparent=True, vertex_colors='black')\n",
    "            \n",
    "        else:\n",
    "            g=graphs.CubeGraph(Dimension)\n",
    "            print('Vertices:', len(g.vertices()), ('(2^%s)'%Dimension if Calculations else ''), '\\nEdges:', len(g.edges()), ('(%s*(%s/2))' %(len(g.vertices()), Dimension) if Calculations else ''))\n",
    "            g.show(figsize=[Size,Size], vertex_size=(20 if Vertices else 0), vertex_labels=False, transparent=True, vertex_colors='black')\n",
    "            \n",
    "    if Display=='2D Spring-layout':\n",
    "        \n",
    "        if Dimension==0:\n",
    "            s=graphs.GridGraph([1])\n",
    "            print('Vertices:', len(s.vertices()), ('(2^%s)'%Dimension if Calculations else ''), '\\nEdges:', len(s.edges()), ('(%s*(%s/2))' %(len(s.vertices()), Dimension) if Calculations else ''))\n",
    "            s.show(figsize=[Size,Size], vertex_size=30, vertex_labels=False, transparent=True, vertex_colors='black')\n",
    "            \n",
    "        else:\n",
    "            s=graphs.GridGraph([2]*Dimension)\n",
    "            print('Vertices:', len(s.vertices()), ('(2^%s)'%Dimension if Calculations else ''), '\\nEdges:', len(s.edges()), ('(%s*(%s/2))' %(len(s.vertices()), Dimension) if Calculations else ''))\n",
    "            s.show(figsize=[Size,Size], vertex_size=(20 if Vertices else 0), vertex_labels=False, transparent=True, vertex_colors='black')\n",
    "            \n",
    "    if Display=='3D':\n",
    "        if Dimension==0:\n",
    "            d=graphs.GridGraph([1])\n",
    "            print('Vertices:', len(d.vertices()), ('(2^%s)'%Dimension if Calculations else ''), '\\nEdges:', len(d.edges()), ('(%s*(%s/2))' %(len(d.vertices()), Dimension) if Calculations else ''))\n",
    "            d.show3d(figsize=[Size/2,Size/2], vertex_size=0.001)\n",
    "\n",
    "        else:\n",
    "            d=graphs.CubeGraph(Dimension)\n",
    "            print('Vertices:', len(d.vertices()), ('(2^%s)'%Dimension if Calculations else ''), '\\nEdges:', len(d.edges()), ('(%s*(%s/2))' %(len(d.vertices()), Dimension) if Calculations else ''))\n",
    "            d.show3d(figsize=[Size,Size], vertex_size=(0.03 if Vertices else 0.001))"
   ]
  },
  {
   "cell_type": "code",
   "execution_count": null,
   "metadata": {},
   "outputs": [],
   "source": [
    "# Minkowski Sum:\n",
    "\n",
    "def minkdemo(list1, list2):\n",
    "    '''\n",
    "    Return the Minkowski sum of two lists.\n",
    "    '''\n",
    "    output = []\n",
    "    for stuff1 in list1:\n",
    "        for stuff2 in list2:\n",
    "            output.append([a + b for a, b in zip(stuff1, stuff2)])\n",
    "    return output\n",
    "\n",
    "@interact\n",
    "def minksumvis(x1tri=slider(-1,1,1/10,0, label='Triangle point x coord.'), yb=slider(1,4,1/10,2, label='Blue point y coord.')):\n",
    "    t_list = [[1,0], [x1tri,1], [0,0]]\n",
    "    kite_list = [[3, 0], [1, 0], [0, 1], [1, yb]]\n",
    "    triangle = polygon([[q[0]-6,q[1]] for q in t_list], alpha = .5, rgbcolor = (1,0,0))\n",
    "    t_vert = point([x1tri-6,1], rgbcolor = (1,0,0))\n",
    "    b_vert = point([kite_list[3][0]-4,yb], rgbcolor = (0,0,1))\n",
    "    kite = polygon([[q[0]-4,q[1]] for q in kite_list], alpha = .5,rgbcolor = (0,0,1))\n",
    "    p12 = minkdemo(t_list, kite_list)\n",
    "    p12 = [[q[0],q[1]] for q in p12]\n",
    "    p12poly = Polyhedron(p12)\n",
    "    edge_lines = Graphics()\n",
    "    verts = p12poly.vertices()\n",
    "    for v0, v1 in p12poly.graph().edges(False):\n",
    "       edge_lines += line([v0, v1])\n",
    "    triangle_sum = Graphics()\n",
    "    for vert in kite_list:\n",
    "        temp_list = []\n",
    "        for q in t_list:\n",
    "            temp_list.append([q[i] + vert[i] for i in range(len(t_list[0]))])\n",
    "        triangle_sum += polygon(temp_list, alpha = .5, rgbcolor = (1,0,0))\n",
    "    kite_sum = Graphics()\n",
    "    for vert in t_list:\n",
    "        temp_list = []\n",
    "        for q in kite_list:\n",
    "            temp_list.append([q[i] + vert[i] for i in range(len(t_list[0]))])\n",
    "        kite_sum += polygon(temp_list, alpha = .3,rgbcolor = (0,0,1))\n",
    "    labels = text('+', (-4.3,.5), rgbcolor = (0,0,0))\n",
    "    labels += text('=', (-.2,.5), rgbcolor = (0,0,0))\n",
    "    show(labels + t_vert + b_vert+ triangle + kite + triangle_sum + kite_sum + edge_lines, axes=False, figsize = [11.0*.7, 4*.7], xmin = -6, ymin = 0, ymax = 4)"
   ]
  }
 ],
 "metadata": {
  "kernelspec": {
   "display_name": "SageMath 9.1",
   "language": "sage",
   "name": "sagemath"
  },
  "language_info": {
   "codemirror_mode": {
    "name": "ipython",
    "version": 3
   },
   "file_extension": ".py",
   "mimetype": "text/x-python",
   "name": "python",
   "nbconvert_exporter": "python",
   "pygments_lexer": "ipython3",
   "version": "3.7.3"
  }
 },
 "nbformat": 4,
 "nbformat_minor": 2
}
