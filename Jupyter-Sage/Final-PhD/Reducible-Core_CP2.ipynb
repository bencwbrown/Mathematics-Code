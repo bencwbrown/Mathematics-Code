{
 "cells": [
  {
   "cell_type": "code",
   "execution_count": 1,
   "metadata": {},
   "outputs": [],
   "source": [
    "%run setup.py"
   ]
  },
  {
   "cell_type": "code",
   "execution_count": 2,
   "metadata": {},
   "outputs": [
    {
     "data": {
      "text/latex": [
       "$\\displaystyle \\mathbf{\\hat{0}}$"
      ],
      "text/plain": [
       "0"
      ]
     },
     "metadata": {},
     "output_type": "display_data"
    },
    {
     "data": {
      "text/latex": [
       "$\\displaystyle (m + n)\\mathbf{\\hat{i}_{N}}$"
      ],
      "text/plain": [
       "(m + n) i_N"
      ]
     },
     "metadata": {},
     "output_type": "display_data"
    },
    {
     "data": {
      "text/latex": [
       "$\\displaystyle (m)\\mathbf{\\hat{i}_{N}} + (n)\\mathbf{\\hat{j}_{N}}$"
      ],
      "text/plain": [
       "(m) i_N + (n) j_N"
      ]
     },
     "metadata": {},
     "output_type": "display_data"
    },
    {
     "data": {
      "text/latex": [
       "$\\displaystyle (n)\\mathbf{\\hat{j}_{N}}$"
      ],
      "text/plain": [
       "(n) j_N"
      ]
     },
     "metadata": {},
     "output_type": "display_data"
    },
    {
     "data": {
      "text/latex": [
       "$\\displaystyle (m + n)\\mathbf{\\hat{j}_{N}}$"
      ],
      "text/plain": [
       "(m + n) j_N"
      ]
     },
     "metadata": {},
     "output_type": "display_data"
    }
   ],
   "source": [
    "# Define the vertices corresponding to the fixed points of the action;\n",
    "# P denotes the vertices belonging to the interior:\n",
    "\n",
    "def P12(n,m):\n",
    "    return Vector.zero\n",
    "\n",
    "def P23(n,m):\n",
    "    return (m + n)*v1\n",
    "\n",
    "def P34(n,m):\n",
    "    return m*v1 + n*v2\n",
    "\n",
    "def P14(n,m):\n",
    "    return n*v2\n",
    "\n",
    "def P13(n,m):\n",
    "    return (m + n)*v2\n",
    "\n",
    "# List the interior vertices:\n",
    "\n",
    "interiorPoints = [P12(n,m), P23(n,m), P34(n,m), P14(n,m), P13(n,m)]\n",
    "\n",
    "for P in interiorPoints:\n",
    "    display(P)"
   ]
  },
  {
   "cell_type": "code",
   "execution_count": null,
   "metadata": {},
   "outputs": [],
   "source": [
    "# Q denotes the vertices that lie on the polyptych boundary:\n",
    "\n",
    "def Q12_1(n,m,d):\n",
    "    return (-d)*v2\n",
    "\n",
    "def Q12_2(n,m,d):\n",
    "    return (-2*d)*v1\n",
    "\n",
    "def Q23_2(n,m,d):\n",
    "    return (m+n+2*d)*v1\n",
    "\n",
    "def Q23_3(n,m,d):\n",
    "    return (m+n+d)*v1 + (-d)*v2\n",
    "\n",
    "def Q34_4(n,m,d):\n",
    "    return (m+n+2*d)*v1 + n*v2\n",
    "\n",
    "def Q14_4(n,m,d):\n",
    "    return (-n-2*d)*v1 + n*v2\n",
    "\n",
    "def Q13_1(n,m,d):\n",
    "    return (m+2*n+2*d)*v2\n",
    "\n",
    "def Q13_3(n,m,d):\n",
    "    return (-n-2*d)*v1 + (m+2*n+2*d)*v2\n",
    "\n",
    "# List the boundary vertices\n",
    "\n",
    "boundaryPoints = [Q12_1(n,m,d), Q12_2(n,m,d), Q23_2(n,m,d), Q23_3(n,m,d), Q34_4(n,m,d), Q14_4(n,m,d), Q13_1(n,m,d), Q13_3(n,m,d)]\n",
    "\n",
    "for Q in boundaryPoints:\n",
    "    display(Q)"
   ]
  },
  {
   "cell_type": "code",
   "execution_count": null,
   "metadata": {},
   "outputs": [],
   "source": [
    "# Define the term which is summed over each fixed point, representing the character for the representation (NON-ORBIFOLD POINT!):\n",
    "\n",
    "def P(P, edge1, edge2, edge3, edge4):\n",
    "    return exp( Xi.dot(P) ) / ( (1 - exp( Xi.dot(edge1) ) ) * ( 1 - exp( Xi.dot(edge2) ) ) * ( 1 - exp( Xi.dot(edge3) ) ) * ( 1 - exp( Xi.dot(edge4) ) ) )\n",
    "\n",
    "# Define the term which is summed over each fixed point, representing the character for the representation (ORBIFOLD POINT!):\n",
    "\n",
    "def gExp(g, P):\n",
    "    return exp( 2*pi*I*g.dot(P) )\n",
    "\n",
    "def gOrbiSum(Q, q, g, edge1, edge2, edge3, edge4):\n",
    "    return ( Rational(1,q) * exp( Xi.dot(Q) ) ) / ( (1 - ( gExp(g,edge1) * exp( Xi.dot(edge1) ) ) ) * (1 - ( gExp(g,edge2) * exp( Xi.dot(edge2) ) ) ) * (1 - ( gExp(g,edge3) * exp( Xi.dot(edge3) ) ) ) * (1 - ( gExp(g,edge4) * exp( Xi.dot(edge4) ) ) ) ) "
   ]
  },
  {
   "cell_type": "code",
   "execution_count": null,
   "metadata": {},
   "outputs": [],
   "source": [
    "# Contribution towards the equivariant character from each interior vertex:\n",
    "\n",
    "def TermP12(n,m):\n",
    "    return P(P12(n,m), v1, v2, -v1, -v2)\n",
    "\n",
    "def TermP23(n,m):\n",
    "    return P(P23(n,m), v1, -v1 + v2, -v1, v1 - v2)\n",
    "\n",
    "def TermP34(n,m):\n",
    "    return P(P34(n,m), v1, -v1 + v2, -v1, v1 - v2)\n",
    "\n",
    "def TermP14(n,m):\n",
    "    return P(P14(n,m), v1, v2, -v1, -v2)\n",
    "\n",
    "def TermP13(n,m):\n",
    "    return P(P13(n,m), v1 - v2, v2, -v1 + v2, -v2)\n",
    "\n",
    "def InteriorSum(n,d):\n",
    "    return TermP12(n,m) + TermP23(n,m) + TermP34(n,m) + TermP14(n,m) + TermP13(n,m)\n",
    "\n",
    "# Contribution towards the equivariant character from all of the interior vertices:\n",
    "\n",
    "def InteriorSum(n,m):\n",
    "    return TermP12(n,m) + TermP23(n,m) + TermP34(n,m) + TermP13(n,m) + TermP14(n,m)\n",
    "\n",
    "InteriorSum(n,m)"
   ]
  },
  {
   "cell_type": "code",
   "execution_count": null,
   "metadata": {},
   "outputs": [],
   "source": [
    "# Contribution towards the equivariant character each boundary vertex:\n",
    "\n",
    "def TermQ12_2(n,m,d):\n",
    "    return P(Q12_2(n,m,d), v1, v1, -v1 + v2, 2*v1 - v2)\n",
    "\n",
    "def TermQ23_2(n,m,d):\n",
    "    return P(Q23_2(n,m,d), -v1, -v1, v2, -v1 - v2)\n",
    "\n",
    "def TermQ34_4(n,m,d):\n",
    "    return P(Q34_4(n,m,d), -v1, -v1, -v2, -v1 + v2)\n",
    "\n",
    "def TermQ14_4(n,m,d):\n",
    "    return P(Q14_4(n,m,d), v1, v1, v1 - v2, v2)\n",
    "\n",
    "def TermQ13_1(n,m,d):\n",
    "    return P(Q13_1(n,m,d), -v2, -v2, v1 - v2, -v1)\n",
    "\n",
    "def TermQ13_3(n,m,d):\n",
    "    return P(Q13_3(n,m,d), v1 - v2, v1 - v2, v1, -v2)\n",
    "\n",
    "# Q12_1 is an orbifold point of order 2:\n",
    "\n",
    "def TermQ12_1(n,m,d):\n",
    "    return gOrbiSum(Q12_1(n,m,d), 2, Vector.zero, v1, Rational(1,2)*v2, Rational(1,2)*v2, -v1 + Rational(1,2)*v2) + gOrbiSum(Q12_1(n,m,d), 2, v2, v1, Rational(1,2)*v2, Rational(1,2)*v2, -v1 + Rational(1,2)*v2)\n",
    "\n",
    "# Q23_3 is an orbifold point of order 2:\n",
    "\n",
    "def TermQ23_3(n,m,d):\n",
    "    return gOrbiSum(Q23_3(n,m,d), 2, Vector.zero, Rational(1,2)*v1 + Rational(1,2)*v2, -Rational(1,2)*v1 + Rational(1,2)*v2, -Rational(1,2)*v1 + Rational(1,2)*v2, -v1) + gOrbiSum(Q23_3(n,m,d), 2, v2, Rational(1,2)*v1 + Rational(1,2)*v2, -Rational(1,2)*v1 + Rational(1,2)*v2, -Rational(1,2)*v1 + Rational(1,2)*v2, -v1)\n",
    "\n",
    "# Contribution towards the equivariant character from all of the exterior vertices:\n",
    "\n",
    "def ExteriorSum(n,m,d):\n",
    "    return TermQ12_1(n,m,d) + TermQ12_2(n,m,d) + TermQ23_2(n,m,d) + TermQ23_3(n,m,d) + TermQ34_4(n,m,d) + TermQ13_1(n,m,d) + TermQ13_3(n,m,d) + TermQ14_4(n,m,d)\n",
    "\n",
    "ExteriorSum(n,m,d)"
   ]
  },
  {
   "cell_type": "code",
   "execution_count": null,
   "metadata": {},
   "outputs": [],
   "source": [
    "# The total (i.e. interior and boundary) contribution towards the equivariant character with Xi as its argument:\n",
    "\n",
    "def Character(n,m,d):\n",
    "    return InteriorSum(n,m) + ExteriorSum(n,m,d)\n",
    "\n",
    "display(disp.Math(r'\\chi_{\\nu,d}(t,3t) = '), Character(n,m,d))"
   ]
  },
  {
   "cell_type": "code",
   "execution_count": null,
   "metadata": {},
   "outputs": [],
   "source": [
    "# Taking the limit t -> 0 calculates the dimension of H-naught for the cut space at level-d:\n",
    "\n",
    "display(disp.Math('\\dim H^{0}(M_{\\nu}^{\\leq d} ; \\mathcal{L}_{\\nu}^{\\leq d}) = '), limit(Character(n,m,d), t, 0))"
   ]
  },
  {
   "cell_type": "code",
   "execution_count": null,
   "metadata": {},
   "outputs": [],
   "source": [
    "# Use the output from above to define the Euler character (dimension of H-naught) to save future processing time:\n",
    "\n",
    "def Euler(n,m,d):\n",
    "    return factor(17*d**4/6 + 10*d**3*m/3 + 10*d**3*n/3 + 17*d**3/2 - 3*d**2*m**2 + 2*d**2*m*n + 15*d**2*m/2 + d**2*n**2 + 15*d**2*n/2 + 29*d**2/3 + 2*d*m**3/3 - 2*d*m**2*n - 9*d*m**2/2 + 3*d*m*n + 5*d*m + 3*d*n**2/2 + 17*d*n/3 + 5*d + m**4/6 + 2*m**3*n/3 + m**3/2 - 3*m**2*n/2 - 5*m**2/3 + 5*m*n/6 + m + n**2/2 + 3*n/2 + 1)\n",
    "\n",
    "# Take the difference between subsequent levels to get the d-weight space for the uncut hypertoric variety:\n",
    "\n",
    "def dWeight(n,m,d):\n",
    "    return simplify(Euler(n,m,d) - Euler(n,m,d-1))\n",
    "\n",
    "display(disp.Math(r'\\dim H_{d}^{0}(M_{\\nu}; \\mathcal{L}_{\\nu}) = \\dim H^{0}(M_{\\nu}^{\\leq d} ; \\mathcal{L}_{\\nu}^{\\leq d}) - \\dim H^{0}(M_{\\nu}^{\\leq d-1} ; \\mathcal{L}_{\\nu}^{\\leq d-1}) = '), dWeight(n,m,d))"
   ]
  }
 ],
 "metadata": {
  "kernelspec": {
   "display_name": "Python 3.10.5 64-bit ('3.10.5')",
   "language": "python",
   "name": "python3"
  },
  "language_info": {
   "codemirror_mode": {
    "name": "ipython",
    "version": 3
   },
   "file_extension": ".py",
   "mimetype": "text/x-python",
   "name": "python",
   "nbconvert_exporter": "python",
   "pygments_lexer": "ipython3",
   "version": "3.10.5"
  },
  "vscode": {
   "interpreter": {
    "hash": "02020deb1702f70da712288e072fe4661a793f15873684bcd16ddb3d9906e140"
   }
  }
 },
 "nbformat": 4,
 "nbformat_minor": 4
}
