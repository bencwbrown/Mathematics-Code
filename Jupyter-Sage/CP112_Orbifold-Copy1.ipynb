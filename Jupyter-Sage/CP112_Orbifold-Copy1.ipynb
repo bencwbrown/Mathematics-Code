{
 "cells": [
  {
   "cell_type": "code",
   "execution_count": 1,
   "metadata": {},
   "outputs": [],
   "source": [
    "from sympy import *\n",
    "from sympy.vector import Vector\n",
    "from sympy.vector import CoordSys3D\n",
    "import itertools\n",
    "N = CoordSys3D('N')\n",
    "\n",
    "s, t, k, d, z = symbols( 's t k d z' )\n",
    "init_printing(use_unicode=True)"
   ]
  },
  {
   "cell_type": "markdown",
   "metadata": {},
   "source": [
    " "
   ]
  },
  {
   "cell_type": "markdown",
   "metadata": {},
   "source": [
    "In Brion & Vergne (2007, Lattice Points in Simple Polytopes), the formula for the number of lattice points in a simple, yet non-basic, convex polytope is given. The polytope\n",
    "\n",
    "$$ \\Delta := \\text{Conv}\\left( (0,0),\\, (1,0),\\, (0,2) \\right) \\subseteq \\mathbb{R}^{2} $$\n",
    "\n",
    "is the moment map image for the orbifold $\\mathbb{CP}(1,1,2)$.\n",
    "\n",
    "The vertex $(1,0)$ has orbifold structure group $\\mathbb{Z}/2\\mathbb{Z}$; the other two have trivial structure groups.\n",
    "\n",
    "Edge vectors:\n",
    "\n",
    "$$ \\begin{align} \\alpha = (0,0) &\\rightsquigarrow \\begin{cases} \\lambda_{\\alpha}^{1} &= (1,0), \\\\ \\lambda_{\\alpha}^{2} &= (0,1). \\end{cases} \\\\ \\alpha = (0,2) &\\rightsquigarrow \\begin{cases} \\lambda_{\\alpha}^{1} &= (0,-1), \\\\ \\lambda_{\\alpha}^{2} &= (1,-2). \\end{cases} \\\\ \\alpha = (1,0) &\\rightsquigarrow \\begin{cases} \\lambda_{\\alpha}^{1} &= (-1,2), \\\\ \\lambda_{\\alpha}^{2} &= (-1,0). \\end{cases} \\end{align} $$"
   ]
  },
  {
   "cell_type": "code",
   "execution_count": 4,
   "metadata": {},
   "outputs": [
    {
     "data": {
      "image/png": "[encoded data removed]",
      "text/latex": [
       "$\\displaystyle \\frac{\\left(\\frac{1}{\\left(1 + e^{- \\frac{t}{2}}\\right) \\left(e^{\\frac{5 t}{2}} + 1\\right)} + \\frac{1}{\\left(1 - e^{- \\frac{t}{2}}\\right) \\left(1 - e^{\\frac{5 t}{2}}\\right)}\\right) e^{t}}{2} + \\frac{1}{\\left(1 - e^{t}\\right) \\left(1 - e^{3 t}\\right)} + \\frac{e^{6 t}}{\\left(1 - e^{- 5 t}\\right) \\left(1 - e^{- 3 t}\\right)}$"
      ],
      "text/plain": [
       "⎛          1                       1          ⎞  t                            \n",
       "⎜───────────────────── + ─────────────────────⎟⋅ℯ                             \n",
       "⎜⎛     -t ⎞ ⎛ 5⋅t    ⎞   ⎛     -t ⎞ ⎛     5⋅t⎞⎟                               \n",
       "⎜⎜     ───⎟ ⎜ ───    ⎟   ⎜     ───⎟ ⎜     ───⎟⎟                               \n",
       "⎜⎜      2 ⎟ ⎜  2     ⎟   ⎜      2 ⎟ ⎜      2 ⎟⎟                               \n",
       "⎝⎝1 + ℯ   ⎠⋅⎝ℯ    + 1⎠   ⎝1 - ℯ   ⎠⋅⎝1 - ℯ   ⎠⎠               1               \n",
       "────────────────────────────────────────────────── + ─────────────────── + ───\n",
       "                        2                            ⎛     t⎞ ⎛     3⋅t⎞   ⎛  \n",
       "                                                     ⎝1 - ℯ ⎠⋅⎝1 - ℯ   ⎠   ⎝1 \n",
       "\n",
       "                    \n",
       "                    \n",
       "                    \n",
       "                    \n",
       "        6⋅t         \n",
       "       ℯ            \n",
       "────────────────────\n",
       "   -5⋅t⎞ ⎛     -3⋅t⎞\n",
       "- ℯ    ⎠⋅⎝1 - ℯ    ⎠"
      ]
     },
     "execution_count": 4,
     "metadata": {},
     "output_type": "execute_result"
    }
   ],
   "source": [
    "#def Exp(t):\n",
    "#    return exp( 2*pi*I*t )\n",
    "\n",
    "def Exp(t):\n",
    "    return exp( 2*pi*I*t )\n",
    "\n",
    "def Sum1(t):\n",
    "    return 1 / ( ( 1 - exp(t) ) * ( 1 - exp(3*t ) ) ) \n",
    "\n",
    "def Sum2(t):\n",
    "    return exp(6*t) / ( ( 1 - exp(-3*t) ) * ( 1 - exp(-5*t) ) )\n",
    "\n",
    "def Sum3(t):\n",
    "    return exp(t)*( Rational(1,2) ) * ( 1 / ( ( 1 - exp( Rational(5,2)*t ) ) * ( 1 - exp( Rational(-1,2)*t ) ) )  + 1 / ( ( 1 + exp( Rational(5,2)*t ) ) * ( 1 + exp(Rational(-1,2)*t ) ) ) ) \n",
    "\n",
    "def Sum(t):\n",
    "    return Sum1(t) + Sum2(t) + Sum3(t)\n",
    "\n",
    "Sum(t)"
   ]
  },
  {
   "cell_type": "markdown",
   "metadata": {},
   "source": [
    "Expand the sum as a series around $t = 0:$"
   ]
  },
  {
   "cell_type": "code",
   "execution_count": 5,
   "metadata": {},
   "outputs": [
    {
     "data": {
      "image/png": "[encoded data removed]",
      "text/latex": [
       "$\\displaystyle 4 + 10 t + 23 t^{2} + \\frac{122 t^{3}}{3} + \\frac{689 t^{4}}{12} + \\frac{401 t^{5}}{6} + O\\left(t^{6}\\right)$"
      ],
      "text/plain": [
       "                        3        4        5        \n",
       "               2   122⋅t    689⋅t    401⋅t     ⎛ 6⎞\n",
       "4 + 10⋅t + 23⋅t  + ────── + ────── + ────── + O⎝t ⎠\n",
       "                     3        12       6           "
      ]
     },
     "execution_count": 5,
     "metadata": {},
     "output_type": "execute_result"
    }
   ],
   "source": [
    "def SeriesSum(t):\n",
    "    return series(Sum(t), t, 0)\n",
    "\n",
    "SeriesSum(t)"
   ]
  },
  {
   "cell_type": "code",
   "execution_count": 4,
   "metadata": {},
   "outputs": [
    {
     "data": {
      "image/png": "[encoded data removed]",
      "text/latex": [
       "$\\displaystyle 4$"
      ],
      "text/plain": [
       "4"
      ]
     },
     "execution_count": 4,
     "metadata": {},
     "output_type": "execute_result"
    }
   ],
   "source": [
    "def LimitSum(t):\n",
    "    return limit(Sum(t), t, 0)\n",
    "\n",
    "LimitSum(t)"
   ]
  },
  {
   "cell_type": "markdown",
   "metadata": {},
   "source": [
    "Same but for the polytope dilated by an integral factor $k$."
   ]
  },
  {
   "cell_type": "code",
   "execution_count": 6,
   "metadata": {},
   "outputs": [],
   "source": [
    "def DilatedSum1(t,k):\n",
    "    return 1 / ( ( 1 - exp(t) ) * ( 1 - exp(3*t ) ) ) \n",
    "\n",
    "def DilatedSum2(t,k):\n",
    "    return exp(6*k*t) / ( ( 1 - exp(-3*t) ) * ( 1 - exp(-5*t) ) )\n",
    "\n",
    "def DilatedSum3(t,k):\n",
    "    return exp(k*t)*( Rational(1,2) ) * ( 1 / ( ( 1 - exp( Rational(5,2)*t ) ) * ( 1 - exp( Rational(-1,2)*t ) ) )  + 1 / ( ( 1 + exp( Rational(5,2)*t ) ) * ( 1 + exp(Rational(-1,2)*t ) ) ) ) \n",
    "\n",
    "def DilatedSum(t,k):\n",
    "    return DilatedSum1(t,k) + DilatedSum2(t,k) + DilatedSum3(t,k)"
   ]
  },
  {
   "cell_type": "code",
   "execution_count": 7,
   "metadata": {},
   "outputs": [
    {
     "data": {
      "image/png": "[encoded data removed]",
      "text/latex": [
       "$\\displaystyle \\frac{\\left(\\frac{1}{\\left(1 + e^{- \\frac{t}{2}}\\right) \\left(e^{\\frac{5 t}{2}} + 1\\right)} + \\frac{1}{\\left(1 - e^{- \\frac{t}{2}}\\right) \\left(1 - e^{\\frac{5 t}{2}}\\right)}\\right) e^{k t}}{2} + \\frac{1}{\\left(1 - e^{t}\\right) \\left(1 - e^{3 t}\\right)} + \\frac{e^{6 k t}}{\\left(1 - e^{- 5 t}\\right) \\left(1 - e^{- 3 t}\\right)}$"
      ],
      "text/plain": [
       "⎛          1                       1          ⎞  k⋅t                          \n",
       "⎜───────────────────── + ─────────────────────⎟⋅ℯ                             \n",
       "⎜⎛     -t ⎞ ⎛ 5⋅t    ⎞   ⎛     -t ⎞ ⎛     5⋅t⎞⎟                               \n",
       "⎜⎜     ───⎟ ⎜ ───    ⎟   ⎜     ───⎟ ⎜     ───⎟⎟                               \n",
       "⎜⎜      2 ⎟ ⎜  2     ⎟   ⎜      2 ⎟ ⎜      2 ⎟⎟                               \n",
       "⎝⎝1 + ℯ   ⎠⋅⎝ℯ    + 1⎠   ⎝1 - ℯ   ⎠⋅⎝1 - ℯ   ⎠⎠                 1             \n",
       "──────────────────────────────────────────────────── + ─────────────────── + ─\n",
       "                         2                             ⎛     t⎞ ⎛     3⋅t⎞   ⎛\n",
       "                                                       ⎝1 - ℯ ⎠⋅⎝1 - ℯ   ⎠   ⎝\n",
       "\n",
       "                      \n",
       "                      \n",
       "                      \n",
       "                      \n",
       "         6⋅k⋅t        \n",
       "        ℯ             \n",
       "──────────────────────\n",
       "     -5⋅t⎞ ⎛     -3⋅t⎞\n",
       "1 - ℯ    ⎠⋅⎝1 - ℯ    ⎠"
      ]
     },
     "execution_count": 7,
     "metadata": {},
     "output_type": "execute_result"
    }
   ],
   "source": [
    "DilatedSum(t,k)"
   ]
  },
  {
   "cell_type": "code",
   "execution_count": 8,
   "metadata": {},
   "outputs": [
    {
     "data": {
      "image/png": "[encoded data removed]",
      "text/latex": [
       "$\\displaystyle 1 + t \\left(\\frac{7 k^{3}}{3} + 5 k^{2} + \\frac{8 k}{3}\\right) + t^{2} \\left(\\frac{43 k^{4}}{12} + \\frac{29 k^{3}}{3} + \\frac{95 k^{2}}{12} + \\frac{11 k}{6}\\right) + t^{3} \\left(\\frac{259 k^{5}}{60} + \\frac{173 k^{4}}{12} + \\frac{569 k^{3}}{36} + \\frac{71 k^{2}}{12} + \\frac{19 k}{90}\\right) + t^{4} \\left(\\frac{311 k^{6}}{72} + \\frac{1037 k^{5}}{60} + \\frac{3413 k^{4}}{144} + \\frac{431 k^{3}}{36} + \\frac{11 k^{2}}{16} - \\frac{197 k}{360}\\right) + t^{5} \\left(\\frac{1333 k^{7}}{360} + \\frac{6221 k^{6}}{360} + \\frac{20477 k^{5}}{720} + \\frac{2591 k^{4}}{144} + \\frac{1003 k^{3}}{720} - \\frac{1337 k^{2}}{720} - \\frac{43 k}{360}\\right) + 2 k + k^{2} + O\\left(t^{6}\\right)$"
      ],
      "text/plain": [
       "      ⎛   3             ⎞      ⎛    4       3       2       ⎞      ⎛     5    \n",
       "      ⎜7⋅k       2   8⋅k⎟    2 ⎜43⋅k    29⋅k    95⋅k    11⋅k⎟    3 ⎜259⋅k    1\n",
       "1 + t⋅⎜──── + 5⋅k  + ───⎟ + t ⋅⎜───── + ───── + ───── + ────⎟ + t ⋅⎜────── + ─\n",
       "      ⎝ 3             3 ⎠      ⎝  12      3       12     6  ⎠      ⎝  60      \n",
       "\n",
       "    4        3       2       ⎞      ⎛     6         5         4        3      \n",
       "73⋅k    569⋅k    71⋅k    19⋅k⎟    4 ⎜311⋅k    1037⋅k    3413⋅k    431⋅k    11⋅\n",
       "───── + ────── + ───── + ────⎟ + t ⋅⎜────── + ─────── + ─────── + ────── + ───\n",
       " 12       36       12     90 ⎠      ⎝  72        60       144       36       1\n",
       "\n",
       " 2        ⎞      ⎛      7         6          5         4         3         2  \n",
       "k    197⋅k⎟    5 ⎜1333⋅k    6221⋅k    20477⋅k    2591⋅k    1003⋅k    1337⋅k   \n",
       "── - ─────⎟ + t ⋅⎜─────── + ─────── + ──────── + ─────── + ─────── - ─────── -\n",
       "6     360 ⎠      ⎝  360       360       720        144       720       720    \n",
       "\n",
       "     ⎞                   \n",
       " 43⋅k⎟          2    ⎛ 6⎞\n",
       " ────⎟ + 2⋅k + k  + O⎝t ⎠\n",
       " 360 ⎠                   "
      ]
     },
     "execution_count": 8,
     "metadata": {},
     "output_type": "execute_result"
    }
   ],
   "source": [
    "def DilatedSeriesSum(t,k):\n",
    "    return series(DilatedSum(t,k), t, 0)\n",
    "\n",
    "DilatedSeriesSum(t,k)"
   ]
  },
  {
   "cell_type": "code",
   "execution_count": 9,
   "metadata": {},
   "outputs": [
    {
     "data": {
      "image/png": "[encoded data removed]",
      "text/latex": [
       "$\\displaystyle k^{2} + 2 k + 1$"
      ],
      "text/plain": [
       " 2          \n",
       "k  + 2⋅k + 1"
      ]
     },
     "execution_count": 9,
     "metadata": {},
     "output_type": "execute_result"
    }
   ],
   "source": [
    "def DilatedLimitSum(k):\n",
    "    return limit(DilatedSum(t,k), t, 0)\n",
    "\n",
    "DilatedLimitSum(k)"
   ]
  },
  {
   "cell_type": "code",
   "execution_count": 10,
   "metadata": {},
   "outputs": [],
   "source": [
    "def Points(k):\n",
    "    return k**2 + 2*k + 1\n",
    "\n"
   ]
  },
  {
   "cell_type": "code",
   "execution_count": 11,
   "metadata": {},
   "outputs": [
    {
     "data": {
      "image/png": "[encoded data removed]",
      "text/latex": [
       "$\\displaystyle 1$"
      ],
      "text/plain": [
       "1"
      ]
     },
     "execution_count": 11,
     "metadata": {},
     "output_type": "execute_result"
    }
   ],
   "source": [
    "Points(0)"
   ]
  },
  {
   "cell_type": "code",
   "execution_count": 12,
   "metadata": {},
   "outputs": [
    {
     "data": {
      "image/png": "[encoded data removed]",
      "text/latex": [
       "$\\displaystyle 4$"
      ],
      "text/plain": [
       "4"
      ]
     },
     "execution_count": 12,
     "metadata": {},
     "output_type": "execute_result"
    }
   ],
   "source": [
    "Points(1)"
   ]
  },
  {
   "cell_type": "code",
   "execution_count": 13,
   "metadata": {},
   "outputs": [
    {
     "data": {
      "image/png": "[encoded data removed]",
      "text/latex": [
       "$\\displaystyle 9$"
      ],
      "text/plain": [
       "9"
      ]
     },
     "execution_count": 13,
     "metadata": {},
     "output_type": "execute_result"
    }
   ],
   "source": [
    "Points(2)"
   ]
  },
  {
   "cell_type": "code",
   "execution_count": 15,
   "metadata": {},
   "outputs": [
    {
     "data": {
      "image/png": "[encoded data removed]",
      "text/latex": [
       "$\\displaystyle 16$"
      ],
      "text/plain": [
       "16"
      ]
     },
     "execution_count": 15,
     "metadata": {},
     "output_type": "execute_result"
    }
   ],
   "source": [
    "Points(3)"
   ]
  },
  {
   "cell_type": "code",
   "execution_count": 16,
   "metadata": {},
   "outputs": [
    {
     "data": {
      "image/png": "[encoded data removed]",
      "text/latex": [
       "$\\displaystyle 25$"
      ],
      "text/plain": [
       "25"
      ]
     },
     "execution_count": 16,
     "metadata": {},
     "output_type": "execute_result"
    }
   ],
   "source": [
    "Points(4)"
   ]
  },
  {
   "cell_type": "code",
   "execution_count": null,
   "metadata": {},
   "outputs": [],
   "source": []
  }
 ],
 "metadata": {
  "kernelspec": {
   "display_name": "Python 3",
   "language": "python",
   "name": "python3"
  },
  "language_info": {
   "codemirror_mode": {
    "name": "ipython",
    "version": 3
   },
   "file_extension": ".py",
   "mimetype": "text/x-python",
   "name": "python",
   "nbconvert_exporter": "python",
   "pygments_lexer": "ipython3",
   "version": "3.7.3"
  }
 },
 "nbformat": 4,
 "nbformat_minor": 4
}
