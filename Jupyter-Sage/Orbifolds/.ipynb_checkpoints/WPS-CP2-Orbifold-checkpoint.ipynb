{
 "cells": [
  {
   "cell_type": "markdown",
   "metadata": {},
   "source": [
    "# Weighted Projective Plane - 24/03/2021"
   ]
  },
  {
   "cell_type": "code",
   "execution_count": 1,
   "metadata": {},
   "outputs": [],
   "source": [
    "from sympy import *\n",
    "import numpy as np\n",
    "from sympy.vector import Vector\n",
    "from sympy.vector import CoordSys3D\n",
    "import IPython.display as disp\n",
    "\n",
    "N = CoordSys3D('N')\n",
    "\n",
    "t, a, b = symbols( 't a b' )\n",
    "p, q, d = symbols('p q d', integer=True)\n",
    "# init_printing(use_unicode=True)\n",
    "init_printing(use_latex='mathjax')\n",
    "\n",
    "# Basis for the edge/weight vectors for the points \n",
    "\n",
    "v1 = N.i\n",
    "v2 = N.j\n",
    "\n",
    "# Define the vector which is not parallel to any edge vector, which will tend to zero:\n",
    "\n",
    "Phi = t*(v1 + (a+b+1)*v2)\n",
    "\n",
    "# Define the vertices of the general triangle:\n",
    "\n",
    "def P12(a,b):\n",
    "    return 0*v1 + 0*v2\n",
    "\n",
    "def P23(a,b):\n",
    "    return a*v1\n",
    "\n",
    "def P13(a,b):\n",
    "    return b*v2"
   ]
  },
  {
   "cell_type": "code",
   "execution_count": 2,
   "metadata": {},
   "outputs": [
    {
     "data": {
      "text/latex": [
       "$\\displaystyle \\mathbf{\\hat{0}}$"
      ],
      "text/plain": [
       "0"
      ]
     },
     "metadata": {},
     "output_type": "display_data"
    },
    {
     "data": {
      "text/latex": [
       "$\\displaystyle (a)\\mathbf{\\hat{i}_{N}}$"
      ],
      "text/plain": [
       "a*N.i"
      ]
     },
     "metadata": {},
     "output_type": "display_data"
    },
    {
     "data": {
      "text/latex": [
       "$\\displaystyle (b)\\mathbf{\\hat{j}_{N}}$"
      ],
      "text/plain": [
       "b*N.j"
      ]
     },
     "metadata": {},
     "output_type": "display_data"
    }
   ],
   "source": [
    "disp.display(P12(a,b))\n",
    "disp.display(P23(a,b))\n",
    "disp.display(P13(a,b))"
   ]
  },
  {
   "cell_type": "markdown",
   "metadata": {},
   "source": [
    "The triangle $\\Delta$ is defined as the convex hull\n",
    "\n",
    "$$ \\Delta := \\text{Conv}\\{(0,0),\\, (a,0),\\, (0,b) \\} =: \\{ P_{12},\\, P_{23},\\, P_{13} \\}. $$\n",
    "\n",
    "The edge vectors are:\n",
    "\n",
    "$$ P_{12} \\rightarrow P_{23} \\rightsquigarrow (1,0); \\qquad P_{12} \\rightarrow P_{13} \\rightsquigarrow (0,1); $$\n",
    "\n",
    "$$ P_{23} \\rightarrow P_{12} \\rightsquigarrow (-1,0), \\qquad P_{23} \\rightarrow P_{13} \\rightsquigarrow (-a,b); $$\n",
    "\n",
    "$$ P_{13} \\rightarrow P_{12} \\rightsquigarrow (0,-1), \\qquad P_{13} \\rightarrow P_{23} \\rightsquigarrow (a,-b). $$"
   ]
  },
  {
   "cell_type": "code",
   "execution_count": 3,
   "metadata": {},
   "outputs": [],
   "source": [
    "# Define the term which is summed over each fixed point,\n",
    "# representing the character for the representation\n",
    "\n",
    "# def P(P, edge1, edge2, edge3, edge4):\n",
    "#    return exp( Phi.dot(P) ) / ( (1 - exp( Phi.dot(edge1) ) ) * ( 1 - exp( Phi.dot(edge2) ) ) * ( 1 - exp( Phi.dot(edge3) ) ) * ( 1 - exp( Phi.dot(edge4) ) ) )\n",
    "\n",
    "def Q(P, edge1, edge2):\n",
    "    return exp( Phi.dot(P) ) / ( (1 - exp( Phi.dot(edge1) ) ) * ( 1 - exp( Phi.dot(edge2) ) ) )\n",
    "\n",
    "def Exp(p, q):\n",
    "    return exp( 2*pi*I*Rational(p,q) )\n",
    "\n",
    "# Term for the orbifold points:\n",
    "\n",
    "#def UnityRootTerm(P, p, q, edge1, edge2):\n",
    "#    return ( Rational(1,q) * exp( Phi.dot(P) / q ) ) / ( (1 - ( Exp(p,q) * exp(  Phi.dot(edge1) ) ) ) * ( 1 - ( Exp(p,q) * exp( Rational(1,q) * Phi.dot(edge2) ) ) ) )\n",
    "\n",
    "def UnityRootTerm(P, p, q, edge1, edge2):\n",
    "    return ( Rational(1,q) * exp( Phi.dot(P) /q ) ) / ( (1 - ( Exp(p,q) * exp(  Phi.dot(edge1) ) ) ) * ( 1 - ( Exp(p,q) * exp( Rational(1,q) * Phi.dot(edge2) ) ) ) )\n",
    "\n",
    "# Iterates the sum over each q-th root of unity:\n",
    "\n",
    "def OrbiCharacter(P, q, edge1, edge2):\n",
    "    return sum([UnityRootTerm(P, k, q, edge1, edge2) for k in range(0,q)])\n"
   ]
  },
  {
   "cell_type": "code",
   "execution_count": 4,
   "metadata": {
    "tags": []
   },
   "outputs": [
    {
     "data": {
      "text/latex": [
       "$\\displaystyle \\frac{e^{\\frac{a t}{2}}}{2 \\left(1 + e^{- t}\\right) \\left(e^{- \\frac{a t}{2} + \\frac{b t \\left(a + b + 1\\right)}{2}} + 1\\right)} + \\frac{e^{\\frac{a t}{2}}}{2 \\left(1 - e^{- t}\\right) \\left(1 - e^{- \\frac{a t}{2} + \\frac{b t \\left(a + b + 1\\right)}{2}}\\right)}$"
      ],
      "text/plain": [
       "                    a⋅t                                          a⋅t          \n",
       "                    ───                                          ───          \n",
       "                     2                                            2           \n",
       "                   ℯ                                            ℯ             \n",
       "────────────────────────────────────────── + ─────────────────────────────────\n",
       "            ⎛   a⋅t   b⋅t⋅(a + b + 1)    ⎞               ⎛       a⋅t   b⋅t⋅(a \n",
       "            ⎜ - ─── + ───────────────    ⎟               ⎜     - ─── + ───────\n",
       "  ⎛     -t⎞ ⎜    2           2           ⎟     ⎛     -t⎞ ⎜        2           \n",
       "2⋅⎝1 + ℯ  ⎠⋅⎝ℯ                        + 1⎠   2⋅⎝1 - ℯ  ⎠⋅⎝1 - ℯ               \n",
       "\n",
       "         \n",
       "         \n",
       "         \n",
       "         \n",
       "─────────\n",
       "+ b + 1)⎞\n",
       "────────⎟\n",
       "2       ⎟\n",
       "        ⎠"
      ]
     },
     "metadata": {},
     "output_type": "display_data"
    }
   ],
   "source": [
    "# The factor for the orbifold point P23 = (a, 0):\n",
    "\n",
    "disp.display(OrbiCharacter(P23(a,b), 2, -v1, -a*v1 + b*v2))"
   ]
  },
  {
   "cell_type": "code",
   "execution_count": 5,
   "metadata": {
    "tags": []
   },
   "outputs": [
    {
     "data": {
      "text/latex": [
       "$\\displaystyle \\frac{e^{\\frac{b t \\left(a + b + 1\\right)}{3}}}{3 \\left(1 - e^{- \\frac{t \\left(a + b + 1\\right)}{3}}\\right) \\left(1 - e^{a t - b t \\left(a + b + 1\\right)}\\right)} + \\frac{e^{\\frac{b t \\left(a + b + 1\\right)}{3}}}{3 \\left(1 - e^{\\frac{2 i \\pi}{3}} e^{- \\frac{t \\left(a + b + 1\\right)}{3}}\\right) \\left(- e^{\\frac{2 i \\pi}{3}} e^{a t - b t \\left(a + b + 1\\right)} + 1\\right)} + \\frac{e^{\\frac{b t \\left(a + b + 1\\right)}{3}}}{3 \\left(1 - e^{- \\frac{2 i \\pi}{3}} e^{- \\frac{t \\left(a + b + 1\\right)}{3}}\\right) \\left(- e^{- \\frac{2 i \\pi}{3}} e^{a t - b t \\left(a + b + 1\\right)} + 1\\right)}$"
      ],
      "text/plain": [
       "                    b⋅t⋅(a + b + 1)                                           \n",
       "                    ───────────────                                           \n",
       "                           3                                                  \n",
       "                   ℯ                                                          \n",
       "───────────────────────────────────────────────────── + ──────────────────────\n",
       "  ⎛     -t⋅(a + b + 1) ⎞                                  ⎛     2⋅ⅈ⋅π  -t⋅(a +\n",
       "  ⎜     ───────────────⎟                                  ⎜     ─────  ───────\n",
       "  ⎜            3       ⎟ ⎛     a⋅t - b⋅t⋅(a + b + 1)⎞     ⎜       3           \n",
       "3⋅⎝1 - ℯ               ⎠⋅⎝1 - ℯ                     ⎠   3⋅⎝1 - ℯ     ⋅ℯ       \n",
       "\n",
       "      b⋅t⋅(a + b + 1)                                                         \n",
       "      ───────────────                                                         \n",
       "             3                                                                \n",
       "     ℯ                                                                        \n",
       "─────────────────────────────────────────────── + ────────────────────────────\n",
       " b + 1) ⎞ ⎛   2⋅ⅈ⋅π                           ⎞     ⎛     -2⋅ⅈ⋅π   -t⋅(a + b +\n",
       "────────⎟ ⎜   ─────                           ⎟     ⎜     ───────  ───────────\n",
       "3       ⎟ ⎜     3    a⋅t - b⋅t⋅(a + b + 1)    ⎟     ⎜        3            3   \n",
       "        ⎠⋅⎝- ℯ     ⋅ℯ                      + 1⎠   3⋅⎝1 - ℯ       ⋅ℯ           \n",
       "\n",
       "  b⋅t⋅(a + b + 1)                            \n",
       "  ───────────────                            \n",
       "         3                                   \n",
       " ℯ                                           \n",
       "─────────────────────────────────────────────\n",
       " 1) ⎞ ⎛   -2⋅ⅈ⋅π                            ⎞\n",
       "────⎟ ⎜   ───────                           ⎟\n",
       "    ⎟ ⎜      3     a⋅t - b⋅t⋅(a + b + 1)    ⎟\n",
       "    ⎠⋅⎝- ℯ       ⋅ℯ                      + 1⎠"
      ]
     },
     "metadata": {},
     "output_type": "display_data"
    }
   ],
   "source": [
    "# The factor for the orbifold point P13 = (0,b):\n",
    "\n",
    "disp.display(OrbiCharacter(P13(a,b), 3, a*v1 - b*v2, -v2))"
   ]
  },
  {
   "cell_type": "code",
   "execution_count": 6,
   "metadata": {},
   "outputs": [],
   "source": [
    "# Factor(s) for each fixed-point:\n",
    "\n",
    "def FactorP12(a,b):\n",
    "    return Q(P12(a,b), v1, v2)\n",
    "\n",
    "def FactorP23(a,b):\n",
    "    return OrbiCharacter(P23(a,b), 2, -v1, -a*v1 + b*v2)\n",
    "\n",
    "def FactorP13(a,b):\n",
    "    return OrbiCharacter(P13(a,b), 3, a*v1 - b*v2, -v2)"
   ]
  },
  {
   "cell_type": "code",
   "execution_count": 7,
   "metadata": {
    "tags": []
   },
   "outputs": [
    {
     "data": {
      "text/latex": [
       "$\\displaystyle \\frac{e^{\\frac{b t \\left(a + b + 1\\right)}{3}}}{3 \\left(1 - e^{- \\frac{t \\left(a + b + 1\\right)}{3}}\\right) \\left(1 - e^{a t - b t \\left(a + b + 1\\right)}\\right)} + \\frac{1}{\\left(1 - e^{t}\\right) \\left(1 - e^{t \\left(a + b + 1\\right)}\\right)} + \\frac{e^{\\frac{a t}{2}}}{2 \\left(1 + e^{- t}\\right) \\left(e^{- \\frac{a t}{2} + \\frac{b t \\left(a + b + 1\\right)}{2}} + 1\\right)} + \\frac{e^{\\frac{a t}{2}}}{2 \\left(1 - e^{- t}\\right) \\left(1 - e^{- \\frac{a t}{2} + \\frac{b t \\left(a + b + 1\\right)}{2}}\\right)} + \\frac{e^{\\frac{b t \\left(a + b + 1\\right)}{3}}}{3 \\left(1 - e^{\\frac{2 i \\pi}{3}} e^{- \\frac{t \\left(a + b + 1\\right)}{3}}\\right) \\left(- e^{\\frac{2 i \\pi}{3}} e^{a t - b t \\left(a + b + 1\\right)} + 1\\right)} + \\frac{e^{\\frac{b t \\left(a + b + 1\\right)}{3}}}{3 \\left(1 - e^{- \\frac{2 i \\pi}{3}} e^{- \\frac{t \\left(a + b + 1\\right)}{3}}\\right) \\left(- e^{- \\frac{2 i \\pi}{3}} e^{a t - b t \\left(a + b + 1\\right)} + 1\\right)}$"
      ],
      "text/plain": [
       "                    b⋅t⋅(a + b + 1)                                           \n",
       "                    ───────────────                                           \n",
       "                           3                                                  \n",
       "                   ℯ                                                  1       \n",
       "───────────────────────────────────────────────────── + ──────────────────────\n",
       "  ⎛     -t⋅(a + b + 1) ⎞                                ⎛     t⎞ ⎛     t⋅(a + \n",
       "  ⎜     ───────────────⎟                                ⎝1 - ℯ ⎠⋅⎝1 - ℯ       \n",
       "  ⎜            3       ⎟ ⎛     a⋅t - b⋅t⋅(a + b + 1)⎞                         \n",
       "3⋅⎝1 - ℯ               ⎠⋅⎝1 - ℯ                     ⎠                         \n",
       "\n",
       "                              a⋅t                                          a⋅t\n",
       "                              ───                                          ───\n",
       "                               2                                            2 \n",
       "                             ℯ                                            ℯ   \n",
       "─────── + ────────────────────────────────────────── + ───────────────────────\n",
       "b + 1)⎞               ⎛   a⋅t   b⋅t⋅(a + b + 1)    ⎞               ⎛       a⋅t\n",
       "      ⎠               ⎜ - ─── + ───────────────    ⎟               ⎜     - ───\n",
       "            ⎛     -t⎞ ⎜    2           2           ⎟     ⎛     -t⎞ ⎜        2 \n",
       "          2⋅⎝1 + ℯ  ⎠⋅⎝ℯ                        + 1⎠   2⋅⎝1 - ℯ  ⎠⋅⎝1 - ℯ     \n",
       "\n",
       "                                                  b⋅t⋅(a + b + 1)             \n",
       "                                                  ───────────────             \n",
       "                                                         3                    \n",
       "                                                 ℯ                            \n",
       "─────────────────── + ────────────────────────────────────────────────────────\n",
       "   b⋅t⋅(a + b + 1)⎞     ⎛     2⋅ⅈ⋅π  -t⋅(a + b + 1) ⎞ ⎛   2⋅ⅈ⋅π               \n",
       " + ───────────────⎟     ⎜     ─────  ───────────────⎟ ⎜   ─────               \n",
       "          2       ⎟     ⎜       3           3       ⎟ ⎜     3    a⋅t - b⋅t⋅(a \n",
       "                  ⎠   3⋅⎝1 - ℯ     ⋅ℯ               ⎠⋅⎝- ℯ     ⋅ℯ             \n",
       "\n",
       "                                              b⋅t⋅(a + b + 1)                 \n",
       "                                              ───────────────                 \n",
       "                                                     3                        \n",
       "                                             ℯ                                \n",
       "───────────── + ──────────────────────────────────────────────────────────────\n",
       "            ⎞     ⎛     -2⋅ⅈ⋅π   -t⋅(a + b + 1) ⎞ ⎛   -2⋅ⅈ⋅π                  \n",
       "            ⎟     ⎜     ───────  ───────────────⎟ ⎜   ───────                 \n",
       "+ b + 1)    ⎟     ⎜        3            3       ⎟ ⎜      3     a⋅t - b⋅t⋅(a + \n",
       "         + 1⎠   3⋅⎝1 - ℯ       ⋅ℯ               ⎠⋅⎝- ℯ       ⋅ℯ               \n",
       "\n",
       "           \n",
       "           \n",
       "           \n",
       "           \n",
       "───────────\n",
       "          ⎞\n",
       "          ⎟\n",
       "b + 1)    ⎟\n",
       "       + 1⎠"
      ]
     },
     "execution_count": 7,
     "metadata": {},
     "output_type": "execute_result"
    }
   ],
   "source": [
    "# Equivariant Index (with respect to the 1-PSG given by exp(t*Phi) ):\n",
    "\n",
    "def Characters(a,b):\n",
    "    return FactorP12(a,b) + FactorP23(a,b) + FactorP13(a,b)\n",
    "\n",
    "Characters(a,b)"
   ]
  },
  {
   "cell_type": "markdown",
   "metadata": {},
   "source": [
    "Let $\\mu : M \\rightarrow (\\mathfrak{t}^{d})^{\\ast}$ be the moment map, $p \\in M^{T}$ an isolated-fixed point, $\\mu_{q}$ a $q$-th root of unity, that is, $\\mu_{q} = e^{\\tfrac{2 \\pi i}{q}}$, and $\\Phi = t(1,q+1) \\in \\mathfrak{t}^{d}$ the generator of a $1$-PSG, whose image in $T^{d}$ is dense; what this says is that $\\langle \\mu(x),\\, \\Phi(t) \\rangle \\neq 0$ for $\\mu(x) \\in H_{i}$, $i = 1, \\ldots, n$.\n",
    "\n",
    "Then the equivariant index theorem yields the character for the $T^{d}$-represenation of $H^{0}(M; \\mathcal{L})$:\n",
    "\n",
    "$$ \\chi\\left(\\Phi(t)\\right) = \\sum\\limits_{p \\in M^{T}} \\frac{1}{q} \\sum\\limits_{k = 1}^{q} \\frac{e^{\\langle \\mu(p),\\, \\Phi(t) \\rangle}}{\\prod_{j = 1}^{d} \\left(1 - \\mu_{q}^{k} \\cdot e^{\\langle \\lambda_{p,j},\\, \\Phi(t) \\rangle} \\right) } $$"
   ]
  },
  {
   "cell_type": "code",
   "execution_count": 8,
   "metadata": {},
   "outputs": [
    {
     "data": {
      "text/latex": [
       "$\\displaystyle \\infty \\operatorname{sign}{\\left(\\frac{2 a + 2 b + 1}{3 a^{2} + 6 a b + 4 a + 3 b^{2} + 4 b + 1} \\right)}$"
      ],
      "text/plain": [
       "      ⎛           2⋅a + 2⋅b + 1           ⎞\n",
       "∞⋅sign⎜───────────────────────────────────⎟\n",
       "      ⎜   2                    2          ⎟\n",
       "      ⎝3⋅a  + 6⋅a⋅b + 4⋅a + 3⋅b  + 4⋅b + 1⎠"
      ]
     },
     "execution_count": 8,
     "metadata": {},
     "output_type": "execute_result"
    }
   ],
   "source": [
    "def Sum(a,b):\n",
    "    return limit(Characters(a,b), t, 0)\n",
    "\n",
    "Sum(2,3)"
   ]
  },
  {
   "cell_type": "code",
   "execution_count": 9,
   "metadata": {},
   "outputs": [],
   "source": [
    "#for i in range(0, 10):\n",
    "#    disp.display()"
   ]
  },
  {
   "cell_type": "code",
   "execution_count": null,
   "metadata": {},
   "outputs": [],
   "source": []
  },
  {
   "cell_type": "markdown",
   "metadata": {},
   "source": [
    "# Orbifold Atiyah-Bott\n",
    "\n",
    "For $\\mathbb{C}\\mathbb{P}(3,2,1) = \\mathbb{C}\\mathbb{P}(q_{1},q_{2},q_{3})$, with associated polytope given by\n",
    "\n",
    "$$ \\Delta = \\text{Conv}\\{ (0,0),\\, (2,0),\\, (0,3) \\}, $$\n",
    "\n",
    "the fixed-point data we need is:\n",
    "\n",
    "- $z_{1} \\neq 0:$ $\\Gamma_{23} \\cong \\mathbb{Z}/3\\mathbb{Z}$.\n",
    "\n",
    "Tangent space weights: $\\alpha_{ (1, -q_{2}/q_{3} ) = (1, -2/3)$"
   ]
  },
  {
   "cell_type": "code",
   "execution_count": null,
   "metadata": {},
   "outputs": [],
   "source": []
  }
 ],
 "metadata": {
  "kernelspec": {
   "display_name": "Python 3",
   "language": "python",
   "name": "python3"
  },
  "language_info": {
   "codemirror_mode": {
    "name": "ipython",
    "version": 3
   },
   "file_extension": ".py",
   "mimetype": "text/x-python",
   "name": "python",
   "nbconvert_exporter": "python",
   "pygments_lexer": "ipython3",
   "version": "3.8.5"
  }
 },
 "nbformat": 4,
 "nbformat_minor": 4
}
