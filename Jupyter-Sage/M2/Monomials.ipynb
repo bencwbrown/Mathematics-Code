{
 "cells": [
  {
   "cell_type": "code",
   "execution_count": 1,
   "metadata": {},
   "outputs": [
    {
     "data": {
      "text/plain": [
       "4"
      ]
     },
     "execution_count": 1,
     "metadata": {},
     "output_type": "execute_result"
    }
   ],
   "source": [
    "macaulay2.eval('2 + 2')"
   ]
  },
  {
   "cell_type": "code",
   "execution_count": 2,
   "metadata": {},
   "outputs": [
    {
     "data": {
      "text/plain": [
       "         3    2      2         2                 2    3    2         2    3\n",
       "ideal (z1 , z1 z2, z1 z3, z1*z2 , z1*z2*z3, z1*z3 , z2 , z2 z3, z2*z3 , z3 )"
      ]
     },
     "execution_count": 2,
     "metadata": {},
     "output_type": "execute_result"
    }
   ],
   "source": [
    "macaulay2.eval('R = QQ[z1, z2, z3, w1, w2, w3]')\n",
    "macaulay2.eval('I = ideal( z1*w1, z2*w2, z3*w3 )')\n",
    "\n",
    "macaulay2('A = ideal( z1, z2, z3 )')\n",
    "\n",
    "macaulay2.eval('B = ideal( w1, w2, w3 )')\n",
    "\n",
    "macaulay2('A3 = A^3')\n"
   ]
  },
  {
   "cell_type": "code",
   "execution_count": 10,
   "metadata": {},
   "outputs": [
    {
     "data": {
      "text/plain": [
       "10"
      ]
     },
     "execution_count": 10,
     "metadata": {},
     "output_type": "execute_result"
    }
   ],
   "source": [
    "macaulay2(' Cut3_0 = transpose( gens A3 ) ') # Weight (k,a) = (3,0) for (K X S1)-action\n",
    "\n",
    "macaulay2(' No3_0 = numgens A3' )"
   ]
  },
  {
   "cell_type": "code",
   "execution_count": 11,
   "metadata": {},
   "outputs": [
    {
     "data": {
      "text/plain": [
       "{-3} | z1^3   |\n",
       "{-3} | z1^2z2 |\n",
       "{-3} | z1^2z3 |\n",
       "{-3} | z1z2^2 |\n",
       "{-3} | z1z2z3 |\n",
       "{-3} | z1z3^2 |\n",
       "{-3} | z2^3   |\n",
       "{-3} | z2^2z3 |\n",
       "{-3} | z2z3^2 |\n",
       "{-3} | z3^3   |"
      ]
     },
     "execution_count": 11,
     "metadata": {},
     "output_type": "execute_result"
    }
   ],
   "source": [
    "macaulay2('Cut3_0')"
   ]
  },
  {
   "cell_type": "code",
   "execution_count": null,
   "metadata": {},
   "outputs": [],
   "source": []
  }
 ],
 "metadata": {
  "kernelspec": {
   "display_name": "SageMath 9.4",
   "language": "sage",
   "name": "sagemath-9.4"
  },
  "language_info": {
   "codemirror_mode": {
    "name": "ipython",
    "version": 3
   },
   "file_extension": ".py",
   "mimetype": "text/x-python",
   "name": "python",
   "nbconvert_exporter": "python",
   "pygments_lexer": "ipython3",
   "version": "3.9.5"
  }
 },
 "nbformat": 4,
 "nbformat_minor": 4
}
