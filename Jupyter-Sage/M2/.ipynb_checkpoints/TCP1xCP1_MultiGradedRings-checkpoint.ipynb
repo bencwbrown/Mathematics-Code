{
 "cells": [
  {
   "cell_type": "code",
   "execution_count": 30,
   "metadata": {},
   "outputs": [],
   "source": [
    "from sympy import *\n",
    "from sympy.vector import Vector\n",
    "from sympy.vector import CoordSys3D\n",
    "\n",
    "n, m, d, k = symbols( 'n m d k', positive=True, integer=True)\n",
    "init_printing(use_unicode=True)\n",
    "\n",
    "def Euler(n,m,d):    \n",
    "    return simplify(factor( Rational(1, 6) * (d + 1) * (d + 2) * (d**2 + 2*(d*n + d*m) + 3*(d + n*m  + n + m + 1) ) ))\n",
    "\n",
    "def Diff(n,m,d):\n",
    "    return factor(Euler(n,m,d) - Euler(n,m,d-1))"
   ]
  },
  {
   "cell_type": "code",
   "execution_count": null,
   "metadata": {},
   "outputs": [],
   "source": [
    "macaulay2.eval(' ')"
   ]
  },
  {
   "cell_type": "markdown",
   "metadata": {},
   "source": [
    "$$ R = \\mathbb{C}[z_{1}, z_{2}, z_{3}, z_{4}; w_{1}, w_{2}, w_{3}, w_{4}], $$\n",
    "where\n",
    "$$ \\deg(z_{1}) = \\deg(z_{3}) = (1,0,0), \\quad \\deg(z_{3}) = \\deg(z_{4}) = (0,1,0), $$\n",
    "and\n",
    "$$ \\deg(w_{1}) = \\deg(w_{3}) = (1,0,-1), \\quad \\deg(w_{3}) = \\deg(w_{4}) = (0,1,-1). $$"
   ]
  },
  {
   "cell_type": "code",
   "execution_count": 76,
   "metadata": {},
   "outputs": [
    {
     "data": {
      "text/plain": [
       "R\n",
       "\n",
       "PolynomialRing"
      ]
     },
     "execution_count": 76,
     "metadata": {},
     "output_type": "execute_result"
    }
   ],
   "source": [
    "macaulay2.eval('R = ZZ/101[z1,z2,z3,z4,w1,w2,w3,w4,Degrees=>{{1,0},{0,1},{1,0},{0,1},{-1,0},{0,-1},{-1,0},{0,-1}}]')"
   ]
  },
  {
   "cell_type": "markdown",
   "metadata": {},
   "source": [
    "$Q = R / (z_{1}z_{3} - z_{2}z_{4}),$ which is the coordinate ring of $\\mathbb{CP}^{1} \\times \\mathbb{CP}^{1}$ with the cotangent coordinates adjoined,\n",
    "\n",
    "$$ Q = \\mathbb{C}[\\mathbb{CP}^{1} \\times \\mathbb{CP}^{1}][w_{1}, w_{2}, w_{3}, w_{4}]. $$"
   ]
  },
  {
   "cell_type": "code",
   "execution_count": 2,
   "metadata": {},
   "outputs": [],
   "source": [
    "macaulay2.eval('R = ZZ/101[z1,z2,z3,z4,w1,w2,w3,w4,Degrees=>{{1,0,0},{0,1,0},{1,0,0},{0,1,0},{-1,0,1},{0,-1,1},{-1,0,1},{0,-1,1}}]');\n",
    "macaulay2.eval('I = ideal(z1*z3 - z2*z4)');\n",
    "macaulay2.eval('Q = R/I');"
   ]
  },
  {
   "cell_type": "code",
   "execution_count": 77,
   "metadata": {},
   "outputs": [
    {
     "data": {
      "text/plain": [
       "'Euler(10,10,0) ='"
      ]
     },
     "metadata": {},
     "output_type": "display_data"
    },
    {
     "data": {
      "image/png": "[encoded data removed]",
      "text/latex": [
       "$\\displaystyle 121$"
      ],
      "text/plain": [
       "121"
      ]
     },
     "metadata": {},
     "output_type": "display_data"
    },
    {
     "data": {
      "text/plain": [
       "'Euler(10,10,1) ='"
      ]
     },
     "metadata": {},
     "output_type": "display_data"
    },
    {
     "data": {
      "image/png": "[encoded data removed]",
      "text/latex": [
       "$\\displaystyle 407$"
      ],
      "text/plain": [
       "407"
      ]
     },
     "metadata": {},
     "output_type": "display_data"
    },
    {
     "data": {
      "text/plain": [
       "'Euler(10,10,2) ='"
      ]
     },
     "metadata": {},
     "output_type": "display_data"
    },
    {
     "data": {
      "image/png": "[encoded data removed]",
      "text/latex": [
       "$\\displaystyle 906$"
      ],
      "text/plain": [
       "906"
      ]
     },
     "metadata": {},
     "output_type": "display_data"
    },
    {
     "data": {
      "text/plain": [
       "'Euler(10,10,3) ='"
      ]
     },
     "metadata": {},
     "output_type": "display_data"
    },
    {
     "data": {
      "image/png": "[encoded data removed]",
      "text/latex": [
       "$\\displaystyle 1670$"
      ],
      "text/plain": [
       "1670"
      ]
     },
     "metadata": {},
     "output_type": "display_data"
    },
    {
     "data": {
      "text/plain": [
       "'Euler(10,10,4) ='"
      ]
     },
     "metadata": {},
     "output_type": "display_data"
    },
    {
     "data": {
      "image/png": "[encoded data removed]",
      "text/latex": [
       "$\\displaystyle 2755$"
      ],
      "text/plain": [
       "2755"
      ]
     },
     "metadata": {},
     "output_type": "display_data"
    },
    {
     "data": {
      "text/plain": [
       "'Euler(10,10,5) ='"
      ]
     },
     "metadata": {},
     "output_type": "display_data"
    },
    {
     "data": {
      "image/png": "[encoded data removed]",
      "text/latex": [
       "$\\displaystyle 4221$"
      ],
      "text/plain": [
       "4221"
      ]
     },
     "metadata": {},
     "output_type": "display_data"
    },
    {
     "data": {
      "text/plain": [
       "'Euler(10,10,6) ='"
      ]
     },
     "metadata": {},
     "output_type": "display_data"
    },
    {
     "data": {
      "image/png": "[encoded data removed]",
      "text/latex": [
       "$\\displaystyle 6132$"
      ],
      "text/plain": [
       "6132"
      ]
     },
     "metadata": {},
     "output_type": "display_data"
    },
    {
     "data": {
      "text/plain": [
       "'Euler(10,10,7) ='"
      ]
     },
     "metadata": {},
     "output_type": "display_data"
    },
    {
     "data": {
      "image/png": "[encoded data removed]",
      "text/latex": [
       "$\\displaystyle 8556$"
      ],
      "text/plain": [
       "8556"
      ]
     },
     "metadata": {},
     "output_type": "display_data"
    },
    {
     "data": {
      "text/plain": [
       "'Euler(10,10,8) ='"
      ]
     },
     "metadata": {},
     "output_type": "display_data"
    },
    {
     "data": {
      "image/png": "[encoded data removed]",
      "text/latex": [
       "$\\displaystyle 11565$"
      ],
      "text/plain": [
       "11565"
      ]
     },
     "metadata": {},
     "output_type": "display_data"
    },
    {
     "data": {
      "text/plain": [
       "'Euler(10,10,9) ='"
      ]
     },
     "metadata": {},
     "output_type": "display_data"
    },
    {
     "data": {
      "image/png": "[encoded data removed]",
      "text/latex": [
       "$\\displaystyle 15235$"
      ],
      "text/plain": [
       "15235"
      ]
     },
     "metadata": {},
     "output_type": "display_data"
    },
    {
     "data": {
      "text/plain": [
       "'Euler(10,10,10) ='"
      ]
     },
     "metadata": {},
     "output_type": "display_data"
    },
    {
     "data": {
      "image/png": "[encoded data removed]",
      "text/latex": [
       "$\\displaystyle 19646$"
      ],
      "text/plain": [
       "19646"
      ]
     },
     "metadata": {},
     "output_type": "display_data"
    }
   ],
   "source": [
    "for k in range(0,11):\n",
    "    display('Euler(10,10,' + str(k) + ') =', Euler(10,10,k))"
   ]
  },
  {
   "cell_type": "code",
   "execution_count": 68,
   "metadata": {},
   "outputs": [
    {
     "data": {
      "text/plain": [
       "| z1^2z2w1 z1^2z2w3 z1^2z4w1 z1^2z4w3 z1z2^2w2 z1z2^2w4 z1z2z4w2 z1z2z4w4 z1z4^2w2 z1z4^2w4 z2^2z3w2 z2^2z3w4 z2z3^2w1 z2z3^2w3 z2z3z4w2 z2z3z4w4 z3^2z4w1 z3^2z4w3 z3z4^2w2 z3z4^2w4 |\n",
       "\n",
       "        1       20\n",
       "Matrix Q  <--- Q"
      ]
     },
     "execution_count": 68,
     "metadata": {},
     "output_type": "execute_result"
    }
   ],
   "source": [
    "macaulay2.eval('for i from 0 to 10 list rank source basis({2,1,i}, Q) do print i');"
   ]
  },
  {
   "cell_type": "code",
   "execution_count": 91,
   "metadata": {},
   "outputs": [
    {
     "data": {
      "text/plain": [
       "{36, 168, 484, 1104, 2184, 3920, 6552, 10368, 15708, 22968, 32604, 45136, 61152, 81312, 106352, 137088, 174420, 219336, 272916, 336336, 410872}\n",
       "\n",
       "List"
      ]
     },
     "execution_count": 91,
     "metadata": {},
     "output_type": "execute_result"
    }
   ],
   "source": [
    "macaulay2.eval('for i from 0 to 20 list rank source basis({5,5,i}, R)')"
   ]
  },
  {
   "cell_type": "code",
   "execution_count": 92,
   "metadata": {},
   "outputs": [
    {
     "data": {
      "image/png": "[encoded data removed]",
      "text/latex": [
       "$\\displaystyle 410872$"
      ],
      "text/plain": [
       "410872"
      ]
     },
     "execution_count": 92,
     "metadata": {},
     "output_type": "execute_result"
    }
   ],
   "source": [
    "k = symbols('k', positive=True, integer=True)\n",
    "\n",
    "Sum(Euler(5,5,k), (k,0,20)).doit()"
   ]
  },
  {
   "cell_type": "code",
   "execution_count": 69,
   "metadata": {
    "scrolled": true
   },
   "outputs": [
    {
     "data": {
      "text/plain": [
       "| z1^3z2w1 z1^3z2w3 z1^3z4w1 z1^3z4w3 z1^2z2^2w2 z1^2z2^2w4 z1^2z2z3w1\n",
       "--------------------------------------------------------------------------------\n",
       "z1^2z2z3w3 z1^2z2z4w2 z1^2z2z4w4 z1^2z3z4w1 z1^2z3z4w3 z1^2z4^2w2 z1^2z4^2w4\n",
       "--------------------------------------------------------------------------------\n",
       "z1z2^2z3w2 z1z2^2z3w4 z1z2z3^2w1 z1z2z3^2w3 z1z2z3z4w2 z1z2z3z4w4 z1z3^2z4w1\n",
       "--------------------------------------------------------------------------------\n",
       "z1z3^2z4w3 z1z3z4^2w2 z1z3z4^2w4 z2^2z3^2w2 z2^2z3^2w4 z2z3^3w1 z2z3^3w3\n",
       "--------------------------------------------------------------------------------\n",
       "z2z3^2z4w2 z2z3^2z4w4 z3^3z4w1 z3^3z4w3 z3^2z4^2w2 z3^2z4^2w4 |"
      ]
     },
     "execution_count": 69,
     "metadata": {},
     "output_type": "execute_result"
    }
   ],
   "source": [
    "for i in range(0,11):\n",
    "    display(Euler(10,10,i))"
   ]
  },
  {
   "cell_type": "code",
   "execution_count": 24,
   "metadata": {},
   "outputs": [
    {
     "data": {
      "text/plain": [
       "{-4, 0, 0} | z1^4     |\n",
       "{-4, 0, 0} | z1^3z3   |\n",
       "{-4, 0, 0} | z1^2z3^2 |\n",
       "{-4, 0, 0} | z1z3^3   |\n",
       "{-4, 0, 0} | z3^4     |"
      ]
     },
     "execution_count": 24,
     "metadata": {},
     "output_type": "execute_result"
    }
   ],
   "source": [
    "macaulay2('transpose basis({4,0,0}, R)')"
   ]
  },
  {
   "cell_type": "code",
   "execution_count": 25,
   "metadata": {},
   "outputs": [
    {
     "data": {
      "text/plain": [
       "{-4, 0, -1} | z1^5w1       |\n",
       "{-4, 0, -1} | z1^5w3       |\n",
       "{-4, 0, -1} | z1^4z2w2     |\n",
       "{-4, 0, -1} | z1^4z2w4     |\n",
       "{-4, 0, -1} | z1^4z3w1     |\n",
       "{-4, 0, -1} | z1^4z3w3     |\n",
       "{-4, 0, -1} | z1^4z4w2     |\n",
       "{-4, 0, -1} | z1^4z4w4     |\n",
       "{-4, 0, -1} | z1^3z2z3w2   |\n",
       "{-4, 0, -1} | z1^3z2z3w4   |\n",
       "{-4, 0, -1} | z1^3z3^2w1   |\n",
       "{-4, 0, -1} | z1^3z3^2w3   |\n",
       "{-4, 0, -1} | z1^3z3z4w2   |\n",
       "{-4, 0, -1} | z1^3z3z4w4   |\n",
       "{-4, 0, -1} | z1^2z2z3^2w2 |\n",
       "{-4, 0, -1} | z1^2z2z3^2w4 |\n",
       "{-4, 0, -1} | z1^2z3^3w1   |\n",
       "{-4, 0, -1} | z1^2z3^3w3   |\n",
       "{-4, 0, -1} | z1^2z3^2z4w2 |\n",
       "{-4, 0, -1} | z1^2z3^2z4w4 |\n",
       "{-4, 0, -1} | z1z2z3^3w2   |\n",
       "{-4, 0, -1} | z1z2z3^3w4   |\n",
       "{-4, 0, -1} | z1z3^4w1     |\n",
       "{-4, 0, -1} | z1z3^4w3     |\n",
       "{-4, 0, -1} | z1z3^3z4w2   |\n",
       "{-4, 0, -1} | z1z3^3z4w4   |\n",
       "{-4, 0, -1} | z2z3^4w2     |\n",
       "{-4, 0, -1} | z2z3^4w4     |\n",
       "{-4, 0, -1} | z3^5w1       |\n",
       "{-4, 0, -1} | z3^5w3       |\n",
       "{-4, 0, -1} | z3^4z4w2     |\n",
       "{-4, 0, -1} | z3^4z4w4     |"
      ]
     },
     "execution_count": 25,
     "metadata": {},
     "output_type": "execute_result"
    }
   ],
   "source": [
    "macaulay2('transpose basis({4,0,1}, R)')"
   ]
  },
  {
   "cell_type": "code",
   "execution_count": 26,
   "metadata": {},
   "outputs": [
    {
     "data": {
      "text/plain": [
       "{-4, 0, -2} | z1^6w1^2         |\n",
       "{-4, 0, -2} | z1^6w1w3         |\n",
       "{-4, 0, -2} | z1^6w3^2         |\n",
       "{-4, 0, -2} | z1^5z2w1w2       |\n",
       "{-4, 0, -2} | z1^5z2w1w4       |\n",
       "{-4, 0, -2} | z1^5z2w2w3       |\n",
       "{-4, 0, -2} | z1^5z2w3w4       |\n",
       "{-4, 0, -2} | z1^5z3w1^2       |\n",
       "{-4, 0, -2} | z1^5z3w1w3       |\n",
       "{-4, 0, -2} | z1^5z3w3^2       |\n",
       "{-4, 0, -2} | z1^5z4w1w2       |\n",
       "{-4, 0, -2} | z1^5z4w1w4       |\n",
       "{-4, 0, -2} | z1^5z4w2w3       |\n",
       "{-4, 0, -2} | z1^5z4w3w4       |\n",
       "{-4, 0, -2} | z1^4z2^2w2^2     |\n",
       "{-4, 0, -2} | z1^4z2^2w2w4     |\n",
       "{-4, 0, -2} | z1^4z2^2w4^2     |\n",
       "{-4, 0, -2} | z1^4z2z3w1w2     |\n",
       "{-4, 0, -2} | z1^4z2z3w1w4     |\n",
       "{-4, 0, -2} | z1^4z2z3w2w3     |\n",
       "{-4, 0, -2} | z1^4z2z3w3w4     |\n",
       "{-4, 0, -2} | z1^4z2z4w2^2     |\n",
       "{-4, 0, -2} | z1^4z2z4w2w4     |\n",
       "{-4, 0, -2} | z1^4z2z4w4^2     |\n",
       "{-4, 0, -2} | z1^4z3^2w1^2     |\n",
       "{-4, 0, -2} | z1^4z3^2w1w3     |\n",
       "{-4, 0, -2} | z1^4z3^2w3^2     |\n",
       "{-4, 0, -2} | z1^4z3z4w1w2     |\n",
       "{-4, 0, -2} | z1^4z3z4w1w4     |\n",
       "{-4, 0, -2} | z1^4z3z4w2w3     |\n",
       "{-4, 0, -2} | z1^4z3z4w3w4     |\n",
       "{-4, 0, -2} | z1^4z4^2w2^2     |\n",
       "{-4, 0, -2} | z1^4z4^2w2w4     |\n",
       "{-4, 0, -2} | z1^4z4^2w4^2     |\n",
       "{-4, 0, -2} | z1^3z2^2z3w2^2   |\n",
       "{-4, 0, -2} | z1^3z2^2z3w2w4   |\n",
       "{-4, 0, -2} | z1^3z2^2z3w4^2   |\n",
       "{-4, 0, -2} | z1^3z2z3^2w1w2   |\n",
       "{-4, 0, -2} | z1^3z2z3^2w1w4   |\n",
       "{-4, 0, -2} | z1^3z2z3^2w2w3   |\n",
       "{-4, 0, -2} | z1^3z2z3^2w3w4   |\n",
       "{-4, 0, -2} | z1^3z2z3z4w2^2   |\n",
       "{-4, 0, -2} | z1^3z2z3z4w2w4   |\n",
       "{-4, 0, -2} | z1^3z2z3z4w4^2   |\n",
       "{-4, 0, -2} | z1^3z3^3w1^2     |\n",
       "{-4, 0, -2} | z1^3z3^3w1w3     |\n",
       "{-4, 0, -2} | z1^3z3^3w3^2     |\n",
       "{-4, 0, -2} | z1^3z3^2z4w1w2   |\n",
       "{-4, 0, -2} | z1^3z3^2z4w1w4   |\n",
       "{-4, 0, -2} | z1^3z3^2z4w2w3   |\n",
       "{-4, 0, -2} | z1^3z3^2z4w3w4   |\n",
       "{-4, 0, -2} | z1^3z3z4^2w2^2   |\n",
       "{-4, 0, -2} | z1^3z3z4^2w2w4   |\n",
       "{-4, 0, -2} | z1^3z3z4^2w4^2   |\n",
       "{-4, 0, -2} | z1^2z2^2z3^2w2^2 |\n",
       "{-4, 0, -2} | z1^2z2^2z3^2w2w4 |\n",
       "{-4, 0, -2} | z1^2z2^2z3^2w4^2 |\n",
       "{-4, 0, -2} | z1^2z2z3^3w1w2   |\n",
       "{-4, 0, -2} | z1^2z2z3^3w1w4   |\n",
       "{-4, 0, -2} | z1^2z2z3^3w2w3   |\n",
       "{-4, 0, -2} | z1^2z2z3^3w3w4   |\n",
       "{-4, 0, -2} | z1^2z2z3^2z4w2^2 |\n",
       "{-4, 0, -2} | z1^2z2z3^2z4w2w4 |\n",
       "{-4, 0, -2} | z1^2z2z3^2z4w4^2 |\n",
       "{-4, 0, -2} | z1^2z3^4w1^2     |\n",
       "{-4, 0, -2} | z1^2z3^4w1w3     |\n",
       "{-4, 0, -2} | z1^2z3^4w3^2     |\n",
       "{-4, 0, -2} | z1^2z3^3z4w1w2   |\n",
       "{-4, 0, -2} | z1^2z3^3z4w1w4   |\n",
       "{-4, 0, -2} | z1^2z3^3z4w2w3   |\n",
       "{-4, 0, -2} | z1^2z3^3z4w3w4   |\n",
       "{-4, 0, -2} | z1^2z3^2z4^2w2^2 |\n",
       "{-4, 0, -2} | z1^2z3^2z4^2w2w4 |\n",
       "{-4, 0, -2} | z1^2z3^2z4^2w4^2 |\n",
       "{-4, 0, -2} | z1z2^2z3^3w2^2   |\n",
       "{-4, 0, -2} | z1z2^2z3^3w2w4   |\n",
       "{-4, 0, -2} | z1z2^2z3^3w4^2   |\n",
       "{-4, 0, -2} | z1z2z3^4w1w2     |\n",
       "{-4, 0, -2} | z1z2z3^4w1w4     |\n",
       "{-4, 0, -2} | z1z2z3^4w2w3     |\n",
       "{-4, 0, -2} | z1z2z3^4w3w4     |\n",
       "{-4, 0, -2} | z1z2z3^3z4w2^2   |\n",
       "{-4, 0, -2} | z1z2z3^3z4w2w4   |\n",
       "{-4, 0, -2} | z1z2z3^3z4w4^2   |\n",
       "{-4, 0, -2} | z1z3^5w1^2       |\n",
       "{-4, 0, -2} | z1z3^5w1w3       |\n",
       "{-4, 0, -2} | z1z3^5w3^2       |\n",
       "{-4, 0, -2} | z1z3^4z4w1w2     |\n",
       "{-4, 0, -2} | z1z3^4z4w1w4     |\n",
       "{-4, 0, -2} | z1z3^4z4w2w3     |\n",
       "{-4, 0, -2} | z1z3^4z4w3w4     |\n",
       "{-4, 0, -2} | z1z3^3z4^2w2^2   |\n",
       "{-4, 0, -2} | z1z3^3z4^2w2w4   |\n",
       "{-4, 0, -2} | z1z3^3z4^2w4^2   |\n",
       "{-4, 0, -2} | z2^2z3^4w2^2     |\n",
       "{-4, 0, -2} | z2^2z3^4w2w4     |\n",
       "{-4, 0, -2} | z2^2z3^4w4^2     |\n",
       "{-4, 0, -2} | z2z3^5w1w2       |\n",
       "{-4, 0, -2} | z2z3^5w1w4       |\n",
       "{-4, 0, -2} | z2z3^5w2w3       |\n",
       "{-4, 0, -2} | z2z3^5w3w4       |\n",
       "{-4, 0, -2} | z2z3^4z4w2^2     |\n",
       "{-4, 0, -2} | z2z3^4z4w2w4     |\n",
       "{-4, 0, -2} | z2z3^4z4w4^2     |\n",
       "{-4, 0, -2} | z3^6w1^2         |\n",
       "{-4, 0, -2} | z3^6w1w3         |\n",
       "{-4, 0, -2} | z3^6w3^2         |\n",
       "{-4, 0, -2} | z3^5z4w1w2       |\n",
       "{-4, 0, -2} | z3^5z4w1w4       |\n",
       "{-4, 0, -2} | z3^5z4w2w3       |\n",
       "{-4, 0, -2} | z3^5z4w3w4       |\n",
       "{-4, 0, -2} | z3^4z4^2w2^2     |\n",
       "{-4, 0, -2} | z3^4z4^2w2w4     |\n",
       "{-4, 0, -2} | z3^4z4^2w4^2     |"
      ]
     },
     "execution_count": 26,
     "metadata": {},
     "output_type": "execute_result"
    }
   ],
   "source": [
    "macaulay2('transpose basis({4,0,2}, R)')"
   ]
  },
  {
   "cell_type": "code",
   "execution_count": 27,
   "metadata": {},
   "outputs": [
    {
     "data": {
      "text/plain": [
       "5"
      ]
     },
     "execution_count": 27,
     "metadata": {},
     "output_type": "execute_result"
    }
   ],
   "source": [
    "macaulay2('rank source basis({4,0,0}, R)')"
   ]
  },
  {
   "cell_type": "code",
   "execution_count": 28,
   "metadata": {},
   "outputs": [
    {
     "data": {
      "text/plain": [
       "32"
      ]
     },
     "execution_count": 28,
     "metadata": {},
     "output_type": "execute_result"
    }
   ],
   "source": [
    "macaulay2('rank source basis({4,0,1}, R)')"
   ]
  },
  {
   "cell_type": "code",
   "execution_count": 29,
   "metadata": {},
   "outputs": [
    {
     "data": {
      "text/plain": [
       "114"
      ]
     },
     "execution_count": 29,
     "metadata": {},
     "output_type": "execute_result"
    }
   ],
   "source": [
    "macaulay2('rank source basis({4,0,2}, R)')"
   ]
  },
  {
   "cell_type": "code",
   "execution_count": 34,
   "metadata": {},
   "outputs": [
    {
     "data": {
      "image/png": "[encoded data removed]",
      "text/latex": [
       "$\\displaystyle 5$"
      ],
      "text/plain": [
       "5"
      ]
     },
     "execution_count": 34,
     "metadata": {},
     "output_type": "execute_result"
    }
   ],
   "source": [
    "Euler(4,0,0)"
   ]
  },
  {
   "cell_type": "code",
   "execution_count": 35,
   "metadata": {},
   "outputs": [
    {
     "data": {
      "image/png": "[encoded data removed]",
      "text/latex": [
       "$\\displaystyle 27$"
      ],
      "text/plain": [
       "27"
      ]
     },
     "execution_count": 35,
     "metadata": {},
     "output_type": "execute_result"
    }
   ],
   "source": [
    "Euler(4,0,1)"
   ]
  },
  {
   "cell_type": "code",
   "execution_count": 36,
   "metadata": {},
   "outputs": [
    {
     "data": {
      "image/png": "[encoded data removed]",
      "text/latex": [
       "$\\displaystyle 82$"
      ],
      "text/plain": [
       "82"
      ]
     },
     "execution_count": 36,
     "metadata": {},
     "output_type": "execute_result"
    }
   ],
   "source": [
    "Euler(4,0,2)"
   ]
  },
  {
   "cell_type": "code",
   "execution_count": 37,
   "metadata": {},
   "outputs": [
    {
     "data": {
      "image/png": "[encoded data removed]",
      "text/latex": [
       "$\\displaystyle 15$"
      ],
      "text/plain": [
       "15"
      ]
     },
     "execution_count": 37,
     "metadata": {},
     "output_type": "execute_result"
    }
   ],
   "source": [
    "Euler(4,2,0)"
   ]
  },
  {
   "cell_type": "code",
   "execution_count": 38,
   "metadata": {},
   "outputs": [
    {
     "data": {
      "image/png": "[encoded data removed]",
      "text/latex": [
       "$\\displaystyle 27$"
      ],
      "text/plain": [
       "27"
      ]
     },
     "execution_count": 38,
     "metadata": {},
     "output_type": "execute_result"
    }
   ],
   "source": [
    "Euler(4,0,1)"
   ]
  },
  {
   "cell_type": "code",
   "execution_count": 39,
   "metadata": {},
   "outputs": [
    {
     "data": {
      "image/png": "[encoded data removed]",
      "text/latex": [
       "$\\displaystyle 82$"
      ],
      "text/plain": [
       "82"
      ]
     },
     "execution_count": 39,
     "metadata": {},
     "output_type": "execute_result"
    }
   ],
   "source": [
    "Euler(4,0,2)"
   ]
  },
  {
   "cell_type": "code",
   "execution_count": null,
   "metadata": {},
   "outputs": [],
   "source": []
  }
 ],
 "metadata": {
  "kernelspec": {
   "display_name": "SageMath 9.4",
   "language": "sage",
   "name": "sagemath-9.4"
  },
  "language_info": {
   "codemirror_mode": {
    "name": "ipython",
    "version": 3
   },
   "file_extension": ".py",
   "mimetype": "text/x-python",
   "name": "python",
   "nbconvert_exporter": "python",
   "pygments_lexer": "ipython3",
   "version": "3.9.5"
  }
 },
 "nbformat": 4,
 "nbformat_minor": 5
}
