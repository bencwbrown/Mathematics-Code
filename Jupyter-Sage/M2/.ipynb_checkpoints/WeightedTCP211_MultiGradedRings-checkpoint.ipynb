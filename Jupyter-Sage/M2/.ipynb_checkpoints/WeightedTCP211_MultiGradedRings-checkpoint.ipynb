{
 "cells": [
  {
   "cell_type": "code",
   "execution_count": 3,
   "metadata": {},
   "outputs": [],
   "source": [
    "from sympy import *\n",
    "from sympy.vector import Vector\n",
    "from sympy.vector import CoordSys3D\n",
    "\n",
    "n, d, k = symbols( 'n d k', positive=True, integer=True)\n",
    "init_printing(use_unicode=True)\n",
    "\n",
    "def Euler(n):    \n",
    "    return simplify(factor( n**2 + 2*n + 1 ) )\n",
    "\n",
    "def Diff(n,d):\n",
    "    return factor(Euler(n,d) - Euler(n,d-1))"
   ]
  },
  {
   "cell_type": "code",
   "execution_count": null,
   "metadata": {},
   "outputs": [],
   "source": [
    "macaulay2.eval(' ')"
   ]
  },
  {
   "cell_type": "markdown",
   "metadata": {},
   "source": [
    "$$ R = \\mathbb{C}[z_{1}, z_{2}, z_{3}; w_{1}, w_{2}, w_{3}], $$\n",
    "where\n",
    "$$ \\deg(z_{1}) = \\deg(z_{2}) = (1,0), \\deg(z_{3}) = (1,0), $$\n",
    "and\n",
    "$$ \\deg(w_{1}) = \\deg(w_{3}) = \\deg(w_{3}) = (-1,1). $$"
   ]
  },
  {
   "cell_type": "code",
   "execution_count": 8,
   "metadata": {},
   "outputs": [
    {
     "data": {
      "text/plain": [
       "R\n",
       "\n",
       "PolynomialRing"
      ]
     },
     "execution_count": 8,
     "metadata": {},
     "output_type": "execute_result"
    }
   ],
   "source": [
    "macaulay2.eval('R = ZZ/101[z1,z2,z3,Degrees=>{{2},{1},{1}}]')"
   ]
  },
  {
   "cell_type": "code",
   "execution_count": 10,
   "metadata": {},
   "outputs": [
    {
     "data": {
      "text/plain": [
       "{-4} | z1^2     |\n",
       "{-4} | z1z2^2   |\n",
       "{-4} | z1z2z3   |\n",
       "{-4} | z1z3^2   |\n",
       "{-4} | z2^4     |\n",
       "{-4} | z2^3z3   |\n",
       "{-4} | z2^2z3^2 |\n",
       "{-4} | z2z3^3   |\n",
       "{-4} | z3^4     |\n",
       "\n",
       "        9       1\n",
       "Matrix R  <--- R"
      ]
     },
     "execution_count": 10,
     "metadata": {},
     "output_type": "execute_result"
    }
   ],
   "source": [
    "macaulay2.eval('transpose basis({4}, R)')"
   ]
  },
  {
   "cell_type": "code",
   "execution_count": 13,
   "metadata": {},
   "outputs": [
    {
     "data": {
      "text/plain": [
       "S\n",
       "\n",
       "PolynomialRing"
      ]
     },
     "execution_count": 13,
     "metadata": {},
     "output_type": "execute_result"
    }
   ],
   "source": [
    "macaulay2.eval('S = ZZ/101[z1,z2,z3,w1,w2,w3,Degrees=>{{2,0},{1,0},{1,0},{-2,1},{-1,1},{-1,1}}]')"
   ]
  },
  {
   "cell_type": "markdown",
   "metadata": {},
   "source": [
    "$$ S = \\mathbb{C}[z_{1}, z_{2}, z_{3}; w_{1}, w_{2}, w_{3}], $$\n",
    "where\n",
    "$$ \\deg(z_{1}) = (2,0), \\qquad \\deg (z_{2}) = \\deg(z_{3}) = (1,0), $$\n",
    "and\n",
    "$$ \\deg(w_{1}) = (-2,1), \\qquad \\deg(w_{3}) = \\deg(w_{3}) = (-1,1). $$"
   ]
  },
  {
   "cell_type": "code",
   "execution_count": 4,
   "metadata": {},
   "outputs": [
    {
     "data": {
      "text/plain": [
       "'Euler(3,0) ='"
      ]
     },
     "metadata": {},
     "output_type": "display_data"
    },
    {
     "data": {
      "image/png": "[encoded data removed]",
      "text/latex": [
       "$\\displaystyle 10$"
      ],
      "text/plain": [
       "10"
      ]
     },
     "metadata": {},
     "output_type": "display_data"
    },
    {
     "data": {
      "text/plain": [
       "'Euler(3,1) ='"
      ]
     },
     "metadata": {},
     "output_type": "display_data"
    },
    {
     "data": {
      "image/png": "[encoded data removed]",
      "text/latex": [
       "$\\displaystyle 45$"
      ],
      "text/plain": [
       "45"
      ]
     },
     "metadata": {},
     "output_type": "display_data"
    },
    {
     "data": {
      "text/plain": [
       "'Euler(3,2) ='"
      ]
     },
     "metadata": {},
     "output_type": "display_data"
    },
    {
     "data": {
      "image/png": "[encoded data removed]",
      "text/latex": [
       "$\\displaystyle 126$"
      ],
      "text/plain": [
       "126"
      ]
     },
     "metadata": {},
     "output_type": "display_data"
    },
    {
     "data": {
      "text/plain": [
       "'Euler(3,3) ='"
      ]
     },
     "metadata": {},
     "output_type": "display_data"
    },
    {
     "data": {
      "image/png": "[encoded data removed]",
      "text/latex": [
       "$\\displaystyle 280$"
      ],
      "text/plain": [
       "280"
      ]
     },
     "metadata": {},
     "output_type": "display_data"
    },
    {
     "data": {
      "text/plain": [
       "'Euler(3,4) ='"
      ]
     },
     "metadata": {},
     "output_type": "display_data"
    },
    {
     "data": {
      "image/png": "[encoded data removed]",
      "text/latex": [
       "$\\displaystyle 540$"
      ],
      "text/plain": [
       "540"
      ]
     },
     "metadata": {},
     "output_type": "display_data"
    },
    {
     "data": {
      "text/plain": [
       "'Euler(3,5) ='"
      ]
     },
     "metadata": {},
     "output_type": "display_data"
    },
    {
     "data": {
      "image/png": "[encoded data removed]",
      "text/latex": [
       "$\\displaystyle 945$"
      ],
      "text/plain": [
       "945"
      ]
     },
     "metadata": {},
     "output_type": "display_data"
    },
    {
     "data": {
      "text/plain": [
       "'Euler(3,6) ='"
      ]
     },
     "metadata": {},
     "output_type": "display_data"
    },
    {
     "data": {
      "image/png": "[encoded data removed]",
      "text/latex": [
       "$\\displaystyle 1540$"
      ],
      "text/plain": [
       "1540"
      ]
     },
     "metadata": {},
     "output_type": "display_data"
    },
    {
     "data": {
      "text/plain": [
       "'Euler(3,7) ='"
      ]
     },
     "metadata": {},
     "output_type": "display_data"
    },
    {
     "data": {
      "image/png": "[encoded data removed]",
      "text/latex": [
       "$\\displaystyle 2376$"
      ],
      "text/plain": [
       "2376"
      ]
     },
     "metadata": {},
     "output_type": "display_data"
    },
    {
     "data": {
      "text/plain": [
       "'Euler(3,8) ='"
      ]
     },
     "metadata": {},
     "output_type": "display_data"
    },
    {
     "data": {
      "image/png": "[encoded data removed]",
      "text/latex": [
       "$\\displaystyle 3510$"
      ],
      "text/plain": [
       "3510"
      ]
     },
     "metadata": {},
     "output_type": "display_data"
    },
    {
     "data": {
      "text/plain": [
       "'Euler(3,9) ='"
      ]
     },
     "metadata": {},
     "output_type": "display_data"
    },
    {
     "data": {
      "image/png": "[encoded data removed]",
      "text/latex": [
       "$\\displaystyle 5005$"
      ],
      "text/plain": [
       "5005"
      ]
     },
     "metadata": {},
     "output_type": "display_data"
    },
    {
     "data": {
      "text/plain": [
       "'Euler(3,10) ='"
      ]
     },
     "metadata": {},
     "output_type": "display_data"
    },
    {
     "data": {
      "image/png": "[encoded data removed]",
      "text/latex": [
       "$\\displaystyle 6930$"
      ],
      "text/plain": [
       "6930"
      ]
     },
     "metadata": {},
     "output_type": "display_data"
    }
   ],
   "source": [
    "for k in range(0,11):\n",
    "    display('Euler(3,' + str(k) + ') =', Euler(3,k))"
   ]
  },
  {
   "cell_type": "code",
   "execution_count": 7,
   "metadata": {},
   "outputs": [
    {
     "data": {
      "text/plain": [
       "0\n",
       "1\n",
       "2\n",
       "3\n",
       "4\n",
       "5\n",
       "6\n",
       "7\n",
       "8\n",
       "9\n",
       "10\n",
       "\n",
       "o1000000004 = {10, 45, 126, 280, 540, 945, 1540, 2376, 3510, 5005, 6930}\n",
       "\n",
       "o1000000004 : List"
      ]
     },
     "execution_count": 7,
     "metadata": {},
     "output_type": "execute_result"
    }
   ],
   "source": [
    "macaulay2.eval('for i from 0 to 10 list rank source basis({3,i}, R) do print i')"
   ]
  },
  {
   "cell_type": "code",
   "execution_count": 92,
   "metadata": {},
   "outputs": [
    {
     "data": {
      "image/png": "[encoded data removed]",
      "text/latex": [
       "$\\displaystyle 410872$"
      ],
      "text/plain": [
       "410872"
      ]
     },
     "execution_count": 92,
     "metadata": {},
     "output_type": "execute_result"
    }
   ],
   "source": [
    "k = symbols('k', positive=True, integer=True)\n",
    "\n",
    "Sum(Euler(5,5,k), (k,0,20)).doit()"
   ]
  },
  {
   "cell_type": "code",
   "execution_count": 69,
   "metadata": {
    "scrolled": true
   },
   "outputs": [
    {
     "data": {
      "text/plain": [
       "| z1^3z2w1 z1^3z2w3 z1^3z4w1 z1^3z4w3 z1^2z2^2w2 z1^2z2^2w4 z1^2z2z3w1\n",
       "--------------------------------------------------------------------------------\n",
       "z1^2z2z3w3 z1^2z2z4w2 z1^2z2z4w4 z1^2z3z4w1 z1^2z3z4w3 z1^2z4^2w2 z1^2z4^2w4\n",
       "--------------------------------------------------------------------------------\n",
       "z1z2^2z3w2 z1z2^2z3w4 z1z2z3^2w1 z1z2z3^2w3 z1z2z3z4w2 z1z2z3z4w4 z1z3^2z4w1\n",
       "--------------------------------------------------------------------------------\n",
       "z1z3^2z4w3 z1z3z4^2w2 z1z3z4^2w4 z2^2z3^2w2 z2^2z3^2w4 z2z3^3w1 z2z3^3w3\n",
       "--------------------------------------------------------------------------------\n",
       "z2z3^2z4w2 z2z3^2z4w4 z3^3z4w1 z3^3z4w3 z3^2z4^2w2 z3^2z4^2w4 |"
      ]
     },
     "execution_count": 69,
     "metadata": {},
     "output_type": "execute_result"
    }
   ],
   "source": [
    "for i in range(0,11):\n",
    "    display(Euler(10,10,i))"
   ]
  },
  {
   "cell_type": "code",
   "execution_count": 14,
   "metadata": {},
   "outputs": [
    {
     "data": {
      "text/plain": [
       "30"
      ]
     },
     "execution_count": 14,
     "metadata": {},
     "output_type": "execute_result"
    }
   ],
   "source": [
    "macaulay2('rank source basis({2,1}, R)')"
   ]
  },
  {
   "cell_type": "code",
   "execution_count": 22,
   "metadata": {},
   "outputs": [
    {
     "data": {
      "text/plain": [
       "{-2, -1} | z1^3w1   |\n",
       "{-2, -1} | z1^3w2   |\n",
       "{-2, -1} | z1^3w3   |\n",
       "{-2, -1} | z1^2z2w1 |\n",
       "{-2, -1} | z1^2z2w2 |\n",
       "{-2, -1} | z1^2z2w3 |\n",
       "{-2, -1} | z1^2z3w1 |\n",
       "{-2, -1} | z1^2z3w2 |\n",
       "{-2, -1} | z1^2z3w3 |\n",
       "{-2, -1} | z1z2^2w1 |\n",
       "{-2, -1} | z1z2^2w2 |\n",
       "{-2, -1} | z1z2^2w3 |\n",
       "{-2, -1} | z1z2z3w1 |\n",
       "{-2, -1} | z1z2z3w2 |\n",
       "{-2, -1} | z1z2z3w3 |\n",
       "{-2, -1} | z1z3^2w1 |\n",
       "{-2, -1} | z1z3^2w2 |\n",
       "{-2, -1} | z1z3^2w3 |\n",
       "{-2, -1} | z2^3w1   |\n",
       "{-2, -1} | z2^3w2   |\n",
       "{-2, -1} | z2^3w3   |\n",
       "{-2, -1} | z2^2z3w1 |\n",
       "{-2, -1} | z2^2z3w2 |\n",
       "{-2, -1} | z2^2z3w3 |\n",
       "{-2, -1} | z2z3^2w1 |\n",
       "{-2, -1} | z2z3^2w2 |\n",
       "{-2, -1} | z2z3^2w3 |\n",
       "{-2, -1} | z3^3w1   |\n",
       "{-2, -1} | z3^3w2   |\n",
       "{-2, -1} | z3^3w3   |\n",
       "\n",
       "        30       1\n",
       "Matrix R   <--- R"
      ]
     },
     "execution_count": 22,
     "metadata": {},
     "output_type": "execute_result"
    }
   ],
   "source": [
    "macaulay2.eval('transpose basis({2,1}, R)')"
   ]
  },
  {
   "cell_type": "code",
   "execution_count": 19,
   "metadata": {},
   "outputs": [
    {
     "data": {
      "text/plain": [
       "| z1^3w1 z1^3w2 z1^3w3 z1^2z2w1 z1^2z2w2 z1^2z2w3 z1^2z3w1 z1^2z3w2 z1^2z3w3\n",
       "--------------------------------------------------------------------------------\n",
       "z1z2^2w1 z1z2^2w2 z1z2^2w3 z1z2z3w1 z1z2z3w2 z1z2z3w3 z1z3^2w1 z1z3^2w2 z1z3^2w3\n",
       "--------------------------------------------------------------------------------\n",
       "z2^3w1 z2^3w2 z2^3w3 z2^2z3w1 z2^2z3w2 z2^2z3w3 z2z3^2w1 z2z3^2w2 z2z3^2w3\n",
       "--------------------------------------------------------------------------------\n",
       "z3^3w1 z3^3w2 z3^3w3 |"
      ]
     },
     "execution_count": 19,
     "metadata": {},
     "output_type": "execute_result"
    }
   ],
   "source": [
    "macaulay2('basis({2,1}, R)')"
   ]
  },
  {
   "cell_type": "code",
   "execution_count": null,
   "metadata": {},
   "outputs": [],
   "source": []
  }
 ],
 "metadata": {
  "kernelspec": {
   "display_name": "SageMath 9.4",
   "language": "sage",
   "name": "sagemath-9.4"
  },
  "language_info": {
   "codemirror_mode": {
    "name": "ipython",
    "version": 3
   },
   "file_extension": ".py",
   "mimetype": "text/x-python",
   "name": "python",
   "nbconvert_exporter": "python",
   "pygments_lexer": "ipython3",
   "version": "3.9.5"
  }
 },
 "nbformat": 4,
 "nbformat_minor": 5
}
