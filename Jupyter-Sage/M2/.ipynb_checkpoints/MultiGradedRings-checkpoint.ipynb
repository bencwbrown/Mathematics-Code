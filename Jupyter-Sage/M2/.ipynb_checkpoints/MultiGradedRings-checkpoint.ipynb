{
 "cells": [
  {
   "cell_type": "code",
   "execution_count": null,
   "metadata": {},
   "outputs": [],
   "source": [
    "macaulay2.eval(' ')"
   ]
  },
  {
   "cell_type": "code",
   "execution_count": 24,
   "metadata": {},
   "outputs": [
    {
     "data": {
      "text/plain": [
       "R\n",
       "\n",
       "PolynomialRing"
      ]
     },
     "execution_count": 24,
     "metadata": {},
     "output_type": "execute_result"
    }
   ],
   "source": [
    "macaulay2.eval('R = ZZ/101[z1,z2,z3,z4,w1,w2,w3,w4,Degrees=>{{1,0},{0,1},{1,0},{0,1},{-1,0},{0,-1},{-1,0},{0,-1}}]')"
   ]
  },
  {
   "cell_type": "code",
   "execution_count": 27,
   "metadata": {},
   "outputs": [
    {
     "data": {
      "text/plain": [
       "R\n",
       "\n",
       "PolynomialRing"
      ]
     },
     "execution_count": 27,
     "metadata": {},
     "output_type": "execute_result"
    }
   ],
   "source": [
    "macaulay2.eval('R = ZZ/101[z1,z2,z3,z4,w1,w2,w3,w4,Degrees=>{{1,0,0},{0,1,0},{1,0,0},{0,1,0},{-1,0,1},{0,-1,1},{-1,0,1},{0,-1,1}}]')"
   ]
  },
  {
   "cell_type": "code",
   "execution_count": 30,
   "metadata": {},
   "outputs": [
    {
     "data": {
      "text/plain": [
       "| z1^2z2w1 z1^2z2w3 z1^2z4w1 z1^2z4w3 z1z2^2w2 z1z2^2w4 z1z2z3w1 z1z2z3w3 z1z2z4w2 z1z2z4w4 z1z3z4w1 z1z3z4w3 z1z4^2w2 z1z4^2w4 z2^2z3w2 z2^2z3w4 z2z3^2w1 z2z3^2w3 z2z3z4w2 z2z3z4w4 z3^2z4w1 z3^2z4w3 z3z4^2w2 z3z4^2w4 |\n",
       "\n",
       "        1       24\n",
       "Matrix R  <--- R"
      ]
     },
     "execution_count": 30,
     "metadata": {},
     "output_type": "execute_result"
    }
   ],
   "source": [
    "macaulay2.eval('basis({1,1,1},R)')"
   ]
  },
  {
   "cell_type": "code",
   "execution_count": 39,
   "metadata": {},
   "outputs": [
    {
     "data": {
      "text/plain": [
       "| z1^3z2w1^2 z1^3z2w1w3 z1^3z2w3^2 z1^3z4w1^2 z1^3z4w1w3 z1^3z4w3^2 z1^2z2^2w1w2 z1^2z2^2w1w4 z1^2z2^2w2w3 z1^2z2^2w3w4 z1^2z2z3w1^2 z1^2z2z3w1w3 z1^2z2z3w3^2 z1^2z2z4w1w2 z1^2z2z4w1w4 z1^2z2z4w2w3 z1^2z2z4w3w4 z1^2z3z4w1^2 z1^2z3z4w1w3 z1^2z3z4w3^2 z1^2z4^2w1w2 z1^2z4^2w1w4 z1^2z4^2w2w3 z1^2z4^2w3w4 z1z2^3w2^2 z1z2^3w2w4 z1z2^3w4^2 z1z2^2z3w1w2 z1z2^2z3w1w4 z1z2^2z3w2w3 z1z2^2z3w3w4 z1z2^2z4w2^2 z1z2^2z4w2w4 z1z2^2z4w4^2 z1z2z3^2w1^2 z1z2z3^2w1w3 z1z2z3^2w3^2 z1z2z3z4w1w2 z1z2z3z4w1w4 z1z2z3z4w2w3 z1z2z3z4w3w4 z1z2z4^2w2^2 z1z2z4^2w2w4 z1z2z4^2w4^2 z1z3^2z4w1^2 z1z3^2z4w1w3 z1z3^2z4w3^2 z1z3z4^2w1w2 z1z3z4^2w1w4 z1z3z4^2w2w3 z1z3z4^2w3w4 z1z4^3w2^2 z1z4^3w2w4 z1z4^3w4^2 z2^3z3w2^2 z2^3z3w2w4 z2^3z3w4^2 z2^2z3^2w1w2 z2^2z3^2w1w4 z2^2z3^2w2w3 z2^2z3^2w3w4 z2^2z3z4w2^2 z2^2z3z4w2w4 z2^2z3z4w4^2 z2z3^3w1^2 z2z3^3w1w3 z2z3^3w3^2 z2z3^2z4w1w2 z2z3^2z4w1w4 z2z3^2z4w2w3 z2z3^2z4w3w4 z2z3z4^2w2^2 z2z3z4^2w2w4 z2z3z4^2w4^2 z3^3z4w1^2 z3^3z4w1w3 z3^3z4w3^2 z3^2z4^2w1w2 z3^2z4^2w1w4 z3^2z4^2w2w3 z3^2z4^2w3w4 z3z4^3w2^2 z3z4^3w2w4 z3z4^3w4^2 |\n",
       "\n",
       "        1       84\n",
       "Matrix R  <--- R"
      ]
     },
     "execution_count": 39,
     "metadata": {},
     "output_type": "execute_result"
    }
   ],
   "source": [
    "macaulay2.eval('h = basis({1,1,2}, R)')"
   ]
  },
  {
   "cell_type": "code",
   "execution_count": 41,
   "metadata": {},
   "outputs": [
    {
     "data": {
      "text/plain": [
       "| z1^2z2w1 z1^2z2w3 z1^2z4w1 z1^2z4w3 z1z2^2w2 z1z2^2w4 z1z2z3w1 z1z2z3w3 z1z2z4w2 z1z2z4w4 z1z3z4w1 z1z3z4w3 z1z4^2w2 z1z4^2w4 z2^2z3w2 z2^2z3w4 z2z3^2w1 z2z3^2w3 z2z3z4w2 z2z3z4w4 z3^2z4w1 z3^2z4w3 z3z4^2w2 z3z4^2w4 |\n",
       "\n",
       "        1       24\n",
       "Matrix R  <--- R"
      ]
     },
     "execution_count": 41,
     "metadata": {},
     "output_type": "execute_result"
    }
   ],
   "source": [
    "macaulay2.eval('h = basis({1,1,1}, R)')"
   ]
  },
  {
   "cell_type": "code",
   "execution_count": 48,
   "metadata": {},
   "outputs": [
    {
     "data": {
      "text/plain": [
       "| z1z2 z1z4 z2z3 z3z4 |\n",
       "\n",
       "        1       4\n",
       "Matrix R  <--- R"
      ]
     },
     "execution_count": 48,
     "metadata": {},
     "output_type": "execute_result"
    }
   ],
   "source": [
    "macaulay2.eval('h = basis({1,1,0}, R)')"
   ]
  },
  {
   "cell_type": "code",
   "execution_count": 44,
   "metadata": {},
   "outputs": [
    {
     "data": {
      "image/png": "[encoded data removed]",
      "text/latex": [
       "$\\displaystyle \\frac{\\left(d + 1\\right) \\left(d + 2\\right) \\left(d^{2} + 2 d m + 2 d n + 3 d + 3 m n + 3 m + 3 n + 3\\right)}{6}$"
      ],
      "text/plain": [
       "(d + 1)*(d + 2)*(d**2 + 2*d*m + 2*d*n + 3*d + 3*m*n + 3*m + 3*n + 3)/6"
      ]
     },
     "execution_count": 44,
     "metadata": {},
     "output_type": "execute_result"
    }
   ],
   "source": [
    "from sympy import *\n",
    "from sympy.vector import Vector\n",
    "from sympy.vector import CoordSys3D\n",
    "\n",
    "n, m, d = symbols( 'n m d', positive=True, integer=True)\n",
    "init_printing(use_unicode=True)\n",
    "\n",
    "def Euler(n,m,d):    \n",
    "    return simplify(factor( Rational(1, 6) * (d + 1) * (d + 2) * (d**2 + 2*(d*n + d*m) + 3*(d + n*m  + n + m + 1) ) ))\n",
    "\n",
    "def Diff(n,m,d):\n",
    "    return factor(Euler(n,m,d) - Euler(n,m,d-1))\n",
    "\n",
    "Euler(n,m,d)"
   ]
  },
  {
   "cell_type": "code",
   "execution_count": 45,
   "metadata": {},
   "outputs": [
    {
     "data": {
      "image/png": "[encoded data removed]",
      "text/latex": [
       "$\\displaystyle \\frac{\\left(d + 1\\right) \\left(2 d^{2} + 3 d m + 3 d n + 4 d + 3 m n + 3 m + 3 n + 3\\right)}{3}$"
      ],
      "text/plain": [
       "(d + 1)*(2*d**2 + 3*d*m + 3*d*n + 4*d + 3*m*n + 3*m + 3*n + 3)/3"
      ]
     },
     "execution_count": 45,
     "metadata": {},
     "output_type": "execute_result"
    }
   ],
   "source": [
    "Diff(n,m,d)"
   ]
  },
  {
   "cell_type": "code",
   "execution_count": 47,
   "metadata": {},
   "outputs": [
    {
     "data": {
      "image/png": "[encoded data removed]",
      "text/latex": [
       "$\\displaystyle 40$"
      ],
      "text/plain": [
       "40"
      ]
     },
     "execution_count": 47,
     "metadata": {},
     "output_type": "execute_result"
    }
   ],
   "source": [
    "Diff(1,1,2)"
   ]
  },
  {
   "cell_type": "code",
   "execution_count": 49,
   "metadata": {},
   "outputs": [
    {
     "data": {
      "image/png": "[encoded data removed]",
      "text/latex": [
       "$\\displaystyle 4$"
      ],
      "text/plain": [
       "4"
      ]
     },
     "execution_count": 49,
     "metadata": {},
     "output_type": "execute_result"
    }
   ],
   "source": [
    "Euler(1,1,0)"
   ]
  },
  {
   "cell_type": "code",
   "execution_count": 50,
   "metadata": {},
   "outputs": [
    {
     "data": {
      "image/png": "[encoded data removed]",
      "text/latex": [
       "$\\displaystyle 20$"
      ],
      "text/plain": [
       "20"
      ]
     },
     "execution_count": 50,
     "metadata": {},
     "output_type": "execute_result"
    }
   ],
   "source": [
    "Euler(1,1,1)"
   ]
  },
  {
   "cell_type": "code",
   "execution_count": null,
   "metadata": {},
   "outputs": [],
   "source": []
  }
 ],
 "metadata": {
  "kernelspec": {
   "display_name": "SageMath 9.4",
   "language": "sage",
   "name": "sagemath-9.4"
  },
  "language_info": {
   "codemirror_mode": {
    "name": "ipython",
    "version": 3
   },
   "file_extension": ".py",
   "mimetype": "text/x-python",
   "name": "python",
   "nbconvert_exporter": "python",
   "pygments_lexer": "ipython3",
   "version": "3.9.5"
  }
 },
 "nbformat": 4,
 "nbformat_minor": 5
}
