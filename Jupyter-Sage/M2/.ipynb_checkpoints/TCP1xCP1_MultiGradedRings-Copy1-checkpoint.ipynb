{
 "cells": [
  {
   "cell_type": "code",
   "execution_count": 1,
   "metadata": {},
   "outputs": [],
   "source": [
    "from sympy import *\n",
    "from sympy.vector import Vector\n",
    "from sympy.vector import CoordSys3D\n",
    "\n",
    "n, m, d, k = symbols( 'n m d k', positive=True, integer=True)\n",
    "init_printing(use_unicode=True)\n",
    "\n",
    "def Euler(n,d):    \n",
    "    return simplify(factor( (n + d + 1)*(d + 1) ) )\n",
    "\n",
    "\n",
    "def ProdEuler(n,m,d):    \n",
    "    return simplify(factor( Rational(1, 6) * (d + 1) * (d + 2) * (d**2 + 2*(d*n + d*m) + 3*(d + n*m  + n + m + 1) ) ))\n",
    "\n",
    "def Diff(n,m,d):\n",
    "    return factor( ( Euler(n,d) * Euler(m,d) ) - ProdEuler(n,m,d) )"
   ]
  },
  {
   "cell_type": "code",
   "execution_count": null,
   "metadata": {},
   "outputs": [],
   "source": [
    "macaulay2.eval(' ')"
   ]
  },
  {
   "cell_type": "markdown",
   "metadata": {},
   "source": [
    "$$ R = \\mathbb{C}[z_{1}, z_{2}, z_{3}, z_{4}; w_{1}, w_{2}, w_{3}, w_{4}], $$\n",
    "where\n",
    "$$ \\deg(z_{1}) = \\deg(z_{3}) = (1,0,0), \\quad \\deg(z_{3}) = \\deg(z_{4}) = (0,1,0), $$\n",
    "and\n",
    "$$ \\deg(w_{1}) = \\deg(w_{3}) = (1,0,-1), \\quad \\deg(w_{3}) = \\deg(w_{4}) = (0,1,-1). $$"
   ]
  },
  {
   "cell_type": "code",
   "execution_count": 46,
   "metadata": {},
   "outputs": [
    {
     "data": {
      "text/plain": [
       "{z1, z2, z3, z4, w1, w2, w3, w4}"
      ]
     },
     "execution_count": 46,
     "metadata": {},
     "output_type": "execute_result"
    }
   ],
   "source": [
    "macaulay2.eval('R = ZZ/101[z1,z3,w1,w3,Degrees=>{{1,0,0},{1,0,0},{-1,0,1},{-1,0,1}}]');\n",
    "macaulay2.eval('S = ZZ/101[z2,z4,w2,w4,Degrees=>{{0,1,0},{0,1,0},{0,-1,1},{0,-1,1}}]');\n",
    "macaulay2.eval('T = ZZ/101[z1,z2,z3,z4,w1,w2,w3,w4,Degrees=>{{1,0,0},{0,1,0},{1,0,0},{0,1,0},{-1,0,1},{0,-1,1},{-1,0,1},{0,-1,1}}]');\n",
    "macaulay2.eval('I = ideal(z1*z2 - z3*z4)');\n",
    "macaulay2.eval('Q = T/I');"
   ]
  },
  {
   "cell_type": "code",
   "execution_count": 28,
   "metadata": {},
   "outputs": [
    {
     "data": {
      "text/plain": [
       "{z1, z2, z3, z4, w1, w2, w3, w4}"
      ]
     },
     "execution_count": 28,
     "metadata": {},
     "output_type": "execute_result"
    }
   ],
   "source": [
    "macaulay2.eval('T = ZZ/101[z1,z2,z3,z4,w1,w2,w3,w4,Degrees=>{{1,0,0},{0,1,0},{1,0,0},{0,1,0},{-1,0,1},{0,-1,1},{-1,0,1},{0,-1,1}}]');\n",
    "macaulay2.eval('I = ideal(z1*z2 - z3*z4)');\n",
    "macaulay2.eval('Q = T/I');\n",
    "macaulay2('gens Q')"
   ]
  },
  {
   "cell_type": "code",
   "execution_count": 43,
   "metadata": {},
   "outputs": [
    {
     "data": {
      "text/plain": [
       "4"
      ]
     },
     "execution_count": 43,
     "metadata": {},
     "output_type": "execute_result"
    }
   ],
   "source": [
    "macaulay2('rank source basis({1,1,0}, T)')"
   ]
  },
  {
   "cell_type": "code",
   "execution_count": 44,
   "metadata": {},
   "outputs": [
    {
     "data": {
      "text/plain": [
       "24"
      ]
     },
     "execution_count": 44,
     "metadata": {},
     "output_type": "execute_result"
    }
   ],
   "source": [
    "macaulay2('rank source basis({1,1,1}, T)')"
   ]
  },
  {
   "cell_type": "code",
   "execution_count": 45,
   "metadata": {},
   "outputs": [
    {
     "data": {
      "text/plain": [
       "84"
      ]
     },
     "execution_count": 45,
     "metadata": {},
     "output_type": "execute_result"
    }
   ],
   "source": [
    "macaulay2('rank source basis({1,1,2}, T)')"
   ]
  },
  {
   "cell_type": "code",
   "execution_count": 42,
   "metadata": {},
   "outputs": [
    {
     "data": {
      "image/png": "[encoded data removed]",
      "text/latex": [
       "$\\displaystyle 60$"
      ],
      "text/plain": [
       "60"
      ]
     },
     "execution_count": 42,
     "metadata": {},
     "output_type": "execute_result"
    }
   ],
   "source": [
    "ProdEuler(1,1,2)"
   ]
  },
  {
   "cell_type": "code",
   "execution_count": 6,
   "metadata": {},
   "outputs": [
    {
     "data": {
      "text/plain": [
       "{-2, -2, -1} | z1^3z4^2w1   |\n",
       "{-2, -2, -1} | z1^3z4^2w3   |\n",
       "{-2, -2, -1} | z1^2z3z4^2w1 |\n",
       "{-2, -2, -1} | z1^2z3z4^2w3 |\n",
       "{-2, -2, -1} | z1^2z4^3w2   |\n",
       "{-2, -2, -1} | z1^2z4^3w4   |\n",
       "{-2, -2, -1} | z1z3^2z4^2w1 |\n",
       "{-2, -2, -1} | z1z3^2z4^2w3 |\n",
       "{-2, -2, -1} | z1z3z4^3w2   |\n",
       "{-2, -2, -1} | z1z3z4^3w4   |\n",
       "{-2, -2, -1} | z2^3z3^2w2   |\n",
       "{-2, -2, -1} | z2^3z3^2w4   |\n",
       "{-2, -2, -1} | z2^2z3^3w1   |\n",
       "{-2, -2, -1} | z2^2z3^3w3   |\n",
       "{-2, -2, -1} | z2^2z3^2z4w2 |\n",
       "{-2, -2, -1} | z2^2z3^2z4w4 |\n",
       "{-2, -2, -1} | z2z3^3z4w1   |\n",
       "{-2, -2, -1} | z2z3^3z4w3   |\n",
       "{-2, -2, -1} | z2z3^2z4^2w2 |\n",
       "{-2, -2, -1} | z2z3^2z4^2w4 |\n",
       "{-2, -2, -1} | z3^3z4^2w1   |\n",
       "{-2, -2, -1} | z3^3z4^2w3   |\n",
       "{-2, -2, -1} | z3^2z4^3w2   |\n",
       "{-2, -2, -1} | z3^2z4^3w4   |"
      ]
     },
     "execution_count": 6,
     "metadata": {},
     "output_type": "execute_result"
    }
   ],
   "source": [
    "macaulay2('transpose basis({2,2,1}, S)')"
   ]
  },
  {
   "cell_type": "code",
   "execution_count": 5,
   "metadata": {},
   "outputs": [
    {
     "data": {
      "text/plain": [
       "{-2, -2, -1} | z1^3z2^2w1   |\n",
       "{-2, -2, -1} | z1^3z2^2w3   |\n",
       "{-2, -2, -1} | z1^3z2z4w1   |\n",
       "{-2, -2, -1} | z1^3z2z4w3   |\n",
       "{-2, -2, -1} | z1^3z4^2w1   |\n",
       "{-2, -2, -1} | z1^3z4^2w3   |\n",
       "{-2, -2, -1} | z1^2z2^3w2   |\n",
       "{-2, -2, -1} | z1^2z2^3w4   |\n",
       "{-2, -2, -1} | z1^2z2^2z3w1 |\n",
       "{-2, -2, -1} | z1^2z2^2z3w3 |\n",
       "{-2, -2, -1} | z1^2z2^2z4w2 |\n",
       "{-2, -2, -1} | z1^2z2^2z4w4 |\n",
       "{-2, -2, -1} | z1^2z2z3z4w1 |\n",
       "{-2, -2, -1} | z1^2z2z3z4w3 |\n",
       "{-2, -2, -1} | z1^2z2z4^2w2 |\n",
       "{-2, -2, -1} | z1^2z2z4^2w4 |\n",
       "{-2, -2, -1} | z1^2z3z4^2w1 |\n",
       "{-2, -2, -1} | z1^2z3z4^2w3 |\n",
       "{-2, -2, -1} | z1^2z4^3w2   |\n",
       "{-2, -2, -1} | z1^2z4^3w4   |\n",
       "{-2, -2, -1} | z1z2^3z3w2   |\n",
       "{-2, -2, -1} | z1z2^3z3w4   |\n",
       "{-2, -2, -1} | z1z2^2z3^2w1 |\n",
       "{-2, -2, -1} | z1z2^2z3^2w3 |\n",
       "{-2, -2, -1} | z1z2^2z3z4w2 |\n",
       "{-2, -2, -1} | z1z2^2z3z4w4 |\n",
       "{-2, -2, -1} | z1z2z3^2z4w1 |\n",
       "{-2, -2, -1} | z1z2z3^2z4w3 |\n",
       "{-2, -2, -1} | z1z2z3z4^2w2 |\n",
       "{-2, -2, -1} | z1z2z3z4^2w4 |\n",
       "{-2, -2, -1} | z1z3^2z4^2w1 |\n",
       "{-2, -2, -1} | z1z3^2z4^2w3 |\n",
       "{-2, -2, -1} | z1z3z4^3w2   |\n",
       "{-2, -2, -1} | z1z3z4^3w4   |\n",
       "{-2, -2, -1} | z2^3z3^2w2   |\n",
       "{-2, -2, -1} | z2^3z3^2w4   |\n",
       "{-2, -2, -1} | z2^2z3^3w1   |\n",
       "{-2, -2, -1} | z2^2z3^3w3   |\n",
       "{-2, -2, -1} | z2^2z3^2z4w2 |\n",
       "{-2, -2, -1} | z2^2z3^2z4w4 |\n",
       "{-2, -2, -1} | z2z3^3z4w1   |\n",
       "{-2, -2, -1} | z2z3^3z4w3   |\n",
       "{-2, -2, -1} | z2z3^2z4^2w2 |\n",
       "{-2, -2, -1} | z2z3^2z4^2w4 |\n",
       "{-2, -2, -1} | z3^3z4^2w1   |\n",
       "{-2, -2, -1} | z3^3z4^2w3   |\n",
       "{-2, -2, -1} | z3^2z4^3w2   |\n",
       "{-2, -2, -1} | z3^2z4^3w4   |"
      ]
     },
     "execution_count": 5,
     "metadata": {},
     "output_type": "execute_result"
    }
   ],
   "source": [
    "macaulay2('transpose basis({2,2,1}, T)')"
   ]
  },
  {
   "cell_type": "markdown",
   "metadata": {},
   "source": [
    "For $(n,m,d) = (1,1,0)$:"
   ]
  },
  {
   "cell_type": "code",
   "execution_count": 146,
   "metadata": {},
   "outputs": [
    {
     "name": "stdout",
     "output_type": "stream",
     "text": [
      "a 2\n"
     ]
    }
   ],
   "source": [
    "print('a', macaulay2('rank source basis({1,0,0}, R)'))"
   ]
  },
  {
   "cell_type": "code",
   "execution_count": 151,
   "metadata": {},
   "outputs": [
    {
     "name": "stdout",
     "output_type": "stream",
     "text": [
      "For z1, z3, w1, w3, the monomial no. is: 2\n",
      "For z2, z4, w2, w4, the monomial no. is: 2\n",
      "For T*(CP1 x CP1), the monomial no. is: 4\n",
      "The Index Character calculates: 4\n"
     ]
    }
   ],
   "source": [
    "print('For z1, z3, w1, w3, the monomial no. is:', macaulay2('rank source basis({1,0,0}, R)'))\n",
    "print('For z2, z4, w2, w4, the monomial no. is:', macaulay2('rank source basis({0,1,0}, S)'))\n",
    "print('For T*(CP1 x CP1), the monomial no. is:', macaulay2('rank source basis({1,1,0}, T)'))\n",
    "print('The Index Character calculates:', ProdEuler(1,1,0) )"
   ]
  },
  {
   "cell_type": "markdown",
   "metadata": {},
   "source": [
    "For $(n,m,d) = (1,1,1)$:"
   ]
  },
  {
   "cell_type": "code",
   "execution_count": 152,
   "metadata": {},
   "outputs": [
    {
     "name": "stdout",
     "output_type": "stream",
     "text": [
      "For z1, z3, w1, w3, the monomial no. is: 6\n",
      "For z2, z4, w2, w4, the monomial no. is: 6\n",
      "For T*(CP1 x CP1), the monomial no. is: 24\n",
      "The Index Character calculates: 20\n"
     ]
    }
   ],
   "source": [
    "print('For z1, z3, w1, w3, the monomial no. is:', macaulay2('rank source basis({1,0,1}, R)'))\n",
    "print('For z2, z4, w2, w4, the monomial no. is:', macaulay2('rank source basis({0,1,1}, S)'))\n",
    "print('For T*(CP1 x CP1), the monomial no. is:', macaulay2('rank source basis({1,1,1}, T)'))\n",
    "print('The Index Character calculates:', ProdEuler(1,1,1))"
   ]
  },
  {
   "cell_type": "markdown",
   "metadata": {},
   "source": [
    "For $(n,m,d) = (1,1,2)$:"
   ]
  },
  {
   "cell_type": "code",
   "execution_count": 153,
   "metadata": {},
   "outputs": [
    {
     "name": "stdout",
     "output_type": "stream",
     "text": [
      "For z1, z3, w1, w3, the monomial no. is: 12\n",
      "For z2, z4, w2, w4, the monomial no. is: 12\n",
      "For T*(CP1 x CP1), the monomial no. is: 84\n",
      "The Index Character calculates: 60\n"
     ]
    }
   ],
   "source": [
    "print('For z1, z3, w1, w3, the monomial no. is:', macaulay2('rank source basis({1,0,2}, R)'))\n",
    "print('For z2, z4, w2, w4, the monomial no. is:', macaulay2('rank source basis({0,1,2}, S)'))\n",
    "print('For T*(CP1 x CP1), the monomial no. is:', macaulay2('rank source basis({1,1,2}, T)'))\n",
    "print('The Index Character calculates:', ProdEuler(1,1,2))"
   ]
  },
  {
   "cell_type": "markdown",
   "metadata": {},
   "source": [
    "For $(n,m,d) = (1,1,2)$:"
   ]
  },
  {
   "cell_type": "code",
   "execution_count": 154,
   "metadata": {},
   "outputs": [
    {
     "name": "stdout",
     "output_type": "stream",
     "text": [
      "For z1, z3, w1, w3, the monomial no. is: 20\n",
      "For z2, z4, w2, w4, the monomial no. is: 20\n",
      "For T*(CP1 x CP1), the monomial no. is: 224\n",
      "The Index Character calculates: 140\n"
     ]
    }
   ],
   "source": [
    "print('For z1, z3, w1, w3, the monomial no. is:', macaulay2('rank source basis({1,0,3}, R)'))\n",
    "print('For z2, z4, w2, w4, the monomial no. is:', macaulay2('rank source basis({0,1,3}, S)'))\n",
    "print('For T*(CP1 x CP1), the monomial no. is:', macaulay2('rank source basis({1,1,3}, T)'))\n",
    "print('The Index Character calculates:', ProdEuler(1,1,3))"
   ]
  },
  {
   "cell_type": "code",
   "execution_count": 140,
   "metadata": {},
   "outputs": [
    {
     "name": "stdout",
     "output_type": "stream",
     "text": [
      "{-1, 0, 0} | z1 |\n",
      "{-1, 0, 0} | z3 |\n",
      "\n",
      "{0, -1, 0} | z2 |\n",
      "{0, -1, 0} | z4 |\n",
      "\n",
      "{-1, -1, 0} | z1z2 |\n",
      "{-1, -1, 0} | z1z4 |\n",
      "{-1, -1, 0} | z2z3 |\n",
      "{-1, -1, 0} | z3z4 |\n"
     ]
    }
   ],
   "source": [
    "print(macaulay2('transpose basis({1,0,0}, R)'))\n",
    "print('')\n",
    "print(macaulay2('transpose basis({0,1,0}, S)'))\n",
    "print('')\n",
    "print(macaulay2('transpose basis({1,1,0}, T)'))"
   ]
  },
  {
   "cell_type": "code",
   "execution_count": 141,
   "metadata": {},
   "outputs": [
    {
     "name": "stdout",
     "output_type": "stream",
     "text": [
      "{-1, 0, -1} | z1^2w1 |\n",
      "{-1, 0, -1} | z1^2w3 |\n",
      "{-1, 0, -1} | z1z3w1 |\n",
      "{-1, 0, -1} | z1z3w3 |\n",
      "{-1, 0, -1} | z3^2w1 |\n",
      "{-1, 0, -1} | z3^2w3 |\n",
      "\n",
      "{0, -1, -1} | z2^2w2 |\n",
      "{0, -1, -1} | z2^2w4 |\n",
      "{0, -1, -1} | z2z4w2 |\n",
      "{0, -1, -1} | z2z4w4 |\n",
      "{0, -1, -1} | z4^2w2 |\n",
      "{0, -1, -1} | z4^2w4 |\n",
      "\n",
      "{-1, -1, -1} | z1^2z2w1 |\n",
      "{-1, -1, -1} | z1^2z2w3 |\n",
      "{-1, -1, -1} | z1^2z4w1 |\n",
      "{-1, -1, -1} | z1^2z4w3 |\n",
      "{-1, -1, -1} | z1z2^2w2 |\n",
      "{-1, -1, -1} | z1z2^2w4 |\n",
      "{-1, -1, -1} | z1z2z3w1 |\n",
      "{-1, -1, -1} | z1z2z3w3 |\n",
      "{-1, -1, -1} | z1z2z4w2 |\n",
      "{-1, -1, -1} | z1z2z4w4 |\n",
      "{-1, -1, -1} | z1z3z4w1 |\n",
      "{-1, -1, -1} | z1z3z4w3 |\n",
      "{-1, -1, -1} | z1z4^2w2 |\n",
      "{-1, -1, -1} | z1z4^2w4 |\n",
      "{-1, -1, -1} | z2^2z3w2 |\n",
      "{-1, -1, -1} | z2^2z3w4 |\n",
      "{-1, -1, -1} | z2z3^2w1 |\n",
      "{-1, -1, -1} | z2z3^2w3 |\n",
      "{-1, -1, -1} | z2z3z4w2 |\n",
      "{-1, -1, -1} | z2z3z4w4 |\n",
      "{-1, -1, -1} | z3^2z4w1 |\n",
      "{-1, -1, -1} | z3^2z4w3 |\n",
      "{-1, -1, -1} | z3z4^2w2 |\n",
      "{-1, -1, -1} | z3z4^2w4 |\n"
     ]
    }
   ],
   "source": [
    "print(macaulay2('transpose basis({1,0,1}, R)'))\n",
    "print('')\n",
    "print(macaulay2('transpose basis({0,1,1}, S)'))\n",
    "print('')\n",
    "print(macaulay2('transpose basis({1,1,1}, T)'))"
   ]
  },
  {
   "cell_type": "code",
   "execution_count": 142,
   "metadata": {},
   "outputs": [
    {
     "name": "stdout",
     "output_type": "stream",
     "text": [
      "{-1, 0, -2} | z1^3w1^2   |\n",
      "{-1, 0, -2} | z1^3w1w3   |\n",
      "{-1, 0, -2} | z1^3w3^2   |\n",
      "{-1, 0, -2} | z1^2z3w1^2 |\n",
      "{-1, 0, -2} | z1^2z3w1w3 |\n",
      "{-1, 0, -2} | z1^2z3w3^2 |\n",
      "{-1, 0, -2} | z1z3^2w1^2 |\n",
      "{-1, 0, -2} | z1z3^2w1w3 |\n",
      "{-1, 0, -2} | z1z3^2w3^2 |\n",
      "{-1, 0, -2} | z3^3w1^2   |\n",
      "{-1, 0, -2} | z3^3w1w3   |\n",
      "{-1, 0, -2} | z3^3w3^2   |\n",
      "\n",
      "{0, -1, -2} | z2^3w2^2   |\n",
      "{0, -1, -2} | z2^3w2w4   |\n",
      "{0, -1, -2} | z2^3w4^2   |\n",
      "{0, -1, -2} | z2^2z4w2^2 |\n",
      "{0, -1, -2} | z2^2z4w2w4 |\n",
      "{0, -1, -2} | z2^2z4w4^2 |\n",
      "{0, -1, -2} | z2z4^2w2^2 |\n",
      "{0, -1, -2} | z2z4^2w2w4 |\n",
      "{0, -1, -2} | z2z4^2w4^2 |\n",
      "{0, -1, -2} | z4^3w2^2   |\n",
      "{0, -1, -2} | z4^3w2w4   |\n",
      "{0, -1, -2} | z4^3w4^2   |\n",
      "\n",
      "{-1, -1, -2} | z1^3z2w1^2   |\n",
      "{-1, -1, -2} | z1^3z2w1w3   |\n",
      "{-1, -1, -2} | z1^3z2w3^2   |\n",
      "{-1, -1, -2} | z1^3z4w1^2   |\n",
      "{-1, -1, -2} | z1^3z4w1w3   |\n",
      "{-1, -1, -2} | z1^3z4w3^2   |\n",
      "{-1, -1, -2} | z1^2z2^2w1w2 |\n",
      "{-1, -1, -2} | z1^2z2^2w1w4 |\n",
      "{-1, -1, -2} | z1^2z2^2w2w3 |\n",
      "{-1, -1, -2} | z1^2z2^2w3w4 |\n",
      "{-1, -1, -2} | z1^2z2z3w1^2 |\n",
      "{-1, -1, -2} | z1^2z2z3w1w3 |\n",
      "{-1, -1, -2} | z1^2z2z3w3^2 |\n",
      "{-1, -1, -2} | z1^2z2z4w1w2 |\n",
      "{-1, -1, -2} | z1^2z2z4w1w4 |\n",
      "{-1, -1, -2} | z1^2z2z4w2w3 |\n",
      "{-1, -1, -2} | z1^2z2z4w3w4 |\n",
      "{-1, -1, -2} | z1^2z3z4w1^2 |\n",
      "{-1, -1, -2} | z1^2z3z4w1w3 |\n",
      "{-1, -1, -2} | z1^2z3z4w3^2 |\n",
      "{-1, -1, -2} | z1^2z4^2w1w2 |\n",
      "{-1, -1, -2} | z1^2z4^2w1w4 |\n",
      "{-1, -1, -2} | z1^2z4^2w2w3 |\n",
      "{-1, -1, -2} | z1^2z4^2w3w4 |\n",
      "{-1, -1, -2} | z1z2^3w2^2   |\n",
      "{-1, -1, -2} | z1z2^3w2w4   |\n",
      "{-1, -1, -2} | z1z2^3w4^2   |\n",
      "{-1, -1, -2} | z1z2^2z3w1w2 |\n",
      "{-1, -1, -2} | z1z2^2z3w1w4 |\n",
      "{-1, -1, -2} | z1z2^2z3w2w3 |\n",
      "{-1, -1, -2} | z1z2^2z3w3w4 |\n",
      "{-1, -1, -2} | z1z2^2z4w2^2 |\n",
      "{-1, -1, -2} | z1z2^2z4w2w4 |\n",
      "{-1, -1, -2} | z1z2^2z4w4^2 |\n",
      "{-1, -1, -2} | z1z2z3^2w1^2 |\n",
      "{-1, -1, -2} | z1z2z3^2w1w3 |\n",
      "{-1, -1, -2} | z1z2z3^2w3^2 |\n",
      "{-1, -1, -2} | z1z2z3z4w1w2 |\n",
      "{-1, -1, -2} | z1z2z3z4w1w4 |\n",
      "{-1, -1, -2} | z1z2z3z4w2w3 |\n",
      "{-1, -1, -2} | z1z2z3z4w3w4 |\n",
      "{-1, -1, -2} | z1z2z4^2w2^2 |\n",
      "{-1, -1, -2} | z1z2z4^2w2w4 |\n",
      "{-1, -1, -2} | z1z2z4^2w4^2 |\n",
      "{-1, -1, -2} | z1z3^2z4w1^2 |\n",
      "{-1, -1, -2} | z1z3^2z4w1w3 |\n",
      "{-1, -1, -2} | z1z3^2z4w3^2 |\n",
      "{-1, -1, -2} | z1z3z4^2w1w2 |\n",
      "{-1, -1, -2} | z1z3z4^2w1w4 |\n",
      "{-1, -1, -2} | z1z3z4^2w2w3 |\n",
      "{-1, -1, -2} | z1z3z4^2w3w4 |\n",
      "{-1, -1, -2} | z1z4^3w2^2   |\n",
      "{-1, -1, -2} | z1z4^3w2w4   |\n",
      "{-1, -1, -2} | z1z4^3w4^2   |\n",
      "{-1, -1, -2} | z2^3z3w2^2   |\n",
      "{-1, -1, -2} | z2^3z3w2w4   |\n",
      "{-1, -1, -2} | z2^3z3w4^2   |\n",
      "{-1, -1, -2} | z2^2z3^2w1w2 |\n",
      "{-1, -1, -2} | z2^2z3^2w1w4 |\n",
      "{-1, -1, -2} | z2^2z3^2w2w3 |\n",
      "{-1, -1, -2} | z2^2z3^2w3w4 |\n",
      "{-1, -1, -2} | z2^2z3z4w2^2 |\n",
      "{-1, -1, -2} | z2^2z3z4w2w4 |\n",
      "{-1, -1, -2} | z2^2z3z4w4^2 |\n",
      "{-1, -1, -2} | z2z3^3w1^2   |\n",
      "{-1, -1, -2} | z2z3^3w1w3   |\n",
      "{-1, -1, -2} | z2z3^3w3^2   |\n",
      "{-1, -1, -2} | z2z3^2z4w1w2 |\n",
      "{-1, -1, -2} | z2z3^2z4w1w4 |\n",
      "{-1, -1, -2} | z2z3^2z4w2w3 |\n",
      "{-1, -1, -2} | z2z3^2z4w3w4 |\n",
      "{-1, -1, -2} | z2z3z4^2w2^2 |\n",
      "{-1, -1, -2} | z2z3z4^2w2w4 |\n",
      "{-1, -1, -2} | z2z3z4^2w4^2 |\n",
      "{-1, -1, -2} | z3^3z4w1^2   |\n",
      "{-1, -1, -2} | z3^3z4w1w3   |\n",
      "{-1, -1, -2} | z3^3z4w3^2   |\n",
      "{-1, -1, -2} | z3^2z4^2w1w2 |\n",
      "{-1, -1, -2} | z3^2z4^2w1w4 |\n",
      "{-1, -1, -2} | z3^2z4^2w2w3 |\n",
      "{-1, -1, -2} | z3^2z4^2w3w4 |\n",
      "{-1, -1, -2} | z3z4^3w2^2   |\n",
      "{-1, -1, -2} | z3z4^3w2w4   |\n",
      "{-1, -1, -2} | z3z4^3w4^2   |\n"
     ]
    }
   ],
   "source": [
    "print(macaulay2('transpose basis({1,0,2}, R)'))\n",
    "print('')\n",
    "print(macaulay2('transpose basis({0,1,2}, S)'))\n",
    "print('')\n",
    "print(macaulay2('transpose basis({1,1,2}, T)'))"
   ]
  },
  {
   "cell_type": "markdown",
   "metadata": {},
   "source": [
    "$(n,m,d) = (1,0,0):$"
   ]
  },
  {
   "cell_type": "code",
   "execution_count": 155,
   "metadata": {},
   "outputs": [
    {
     "name": "stdout",
     "output_type": "stream",
     "text": [
      "For z1, z3, w1, w3, the monomial no. is: 2\n",
      "For z2, z4, w2, w4, the monomial no. is: 1\n",
      "For T*(CP1 x CP1), the monomial no. is: 2\n",
      "The Index Character calculates: 2\n"
     ]
    }
   ],
   "source": [
    "print('For z1, z3, w1, w3, the monomial no. is:', macaulay2('rank source basis({1,0,0}, R)'))\n",
    "print('For z2, z4, w2, w4, the monomial no. is:', macaulay2('rank source basis({0,0,0}, S)'))\n",
    "print('For T*(CP1 x CP1), the monomial no. is:', macaulay2('rank source basis({1,0,0}, T)'))\n",
    "print('The Index Character calculates:', ProdEuler(1,0,0))"
   ]
  },
  {
   "cell_type": "code",
   "execution_count": 159,
   "metadata": {},
   "outputs": [
    {
     "name": "stdout",
     "output_type": "stream",
     "text": [
      "{-1, 0, 0} | z1 |\n",
      "{-1, 0, 0} | z3 |\n",
      "\n",
      "| 1 |\n",
      "\n",
      "{-1, 0, 0} | z1 |\n",
      "{-1, 0, 0} | z3 |\n"
     ]
    }
   ],
   "source": [
    "print(macaulay2('transpose basis({1,0,0}, R)'))\n",
    "print('')\n",
    "print(macaulay2('transpose basis({0,0,0}, S)'))\n",
    "print('')\n",
    "print(macaulay2('transpose basis({1,0,0}, T)'))"
   ]
  },
  {
   "cell_type": "markdown",
   "metadata": {},
   "source": [
    "$(n,m,d) = (1,0,1):$"
   ]
  },
  {
   "cell_type": "code",
   "execution_count": 156,
   "metadata": {
    "scrolled": true
   },
   "outputs": [
    {
     "name": "stdout",
     "output_type": "stream",
     "text": [
      "For z1, z3, w1, w3, the monomial no. is: 6\n",
      "For z2, z4, w2, w4, the monomial no. is: 4\n",
      "For T*(CP1 x CP1), the monomial no. is: 14\n",
      "The Index Character calculates: 12\n"
     ]
    }
   ],
   "source": [
    "print('For z1, z3, w1, w3, the monomial no. is:', macaulay2('rank source basis({1,0,1}, R)'))\n",
    "print('For z2, z4, w2, w4, the monomial no. is:', macaulay2('rank source basis({0,0,1}, S)'))\n",
    "print('For T*(CP1 x CP1), the monomial no. is:', macaulay2('rank source basis({1,0,1}, T)'))\n",
    "print('The Index Character calculates:', ProdEuler(1,0,1))"
   ]
  },
  {
   "cell_type": "code",
   "execution_count": 160,
   "metadata": {},
   "outputs": [
    {
     "name": "stdout",
     "output_type": "stream",
     "text": [
      "{-1, 0, -1} | z1^2w1 |\n",
      "{-1, 0, -1} | z1^2w3 |\n",
      "{-1, 0, -1} | z1z3w1 |\n",
      "{-1, 0, -1} | z1z3w3 |\n",
      "{-1, 0, -1} | z3^2w1 |\n",
      "{-1, 0, -1} | z3^2w3 |\n",
      "\n",
      "{0, 0, -1} | z2w2 |\n",
      "{0, 0, -1} | z2w4 |\n",
      "{0, 0, -1} | z4w2 |\n",
      "{0, 0, -1} | z4w4 |\n",
      "\n",
      "{-1, 0, -1} | z1^2w1 |\n",
      "{-1, 0, -1} | z1^2w3 |\n",
      "{-1, 0, -1} | z1z2w2 |\n",
      "{-1, 0, -1} | z1z2w4 |\n",
      "{-1, 0, -1} | z1z3w1 |\n",
      "{-1, 0, -1} | z1z3w3 |\n",
      "{-1, 0, -1} | z1z4w2 |\n",
      "{-1, 0, -1} | z1z4w4 |\n",
      "{-1, 0, -1} | z2z3w2 |\n",
      "{-1, 0, -1} | z2z3w4 |\n",
      "{-1, 0, -1} | z3^2w1 |\n",
      "{-1, 0, -1} | z3^2w3 |\n",
      "{-1, 0, -1} | z3z4w2 |\n",
      "{-1, 0, -1} | z3z4w4 |\n"
     ]
    }
   ],
   "source": [
    "print(macaulay2('transpose basis({1,0,1}, R)'))\n",
    "print('')\n",
    "print(macaulay2('transpose basis({0,0,1}, S)'))\n",
    "print('')\n",
    "print(macaulay2('transpose basis({1,0,1}, T)'))"
   ]
  },
  {
   "cell_type": "markdown",
   "metadata": {},
   "source": [
    "$(n,m,d) = (1,0,2):$"
   ]
  },
  {
   "cell_type": "code",
   "execution_count": 158,
   "metadata": {},
   "outputs": [
    {
     "name": "stdout",
     "output_type": "stream",
     "text": [
      "For z1, z3, w1, w3, the monomial no. is: 12\n",
      "For z2, z4, w2, w4, the monomial no. is: 9\n",
      "For T*(CP1 x CP1), the monomial no. is: 54\n",
      "The Index Character calculates: 40\n"
     ]
    }
   ],
   "source": [
    "print('For z1, z3, w1, w3, the monomial no. is:', macaulay2('rank source basis({1,0,2}, R)'))\n",
    "print('For z2, z4, w2, w4, the monomial no. is:', macaulay2('rank source basis({0,0,2}, S)'))\n",
    "print('For T*(CP1 x CP1), the monomial no. is:', macaulay2('rank source basis({1,0,2}, T)'))\n",
    "print('The Index Character calculates:', ProdEuler(1,0,2))"
   ]
  },
  {
   "cell_type": "code",
   "execution_count": 161,
   "metadata": {},
   "outputs": [
    {
     "name": "stdout",
     "output_type": "stream",
     "text": [
      "{-1, 0, -2} | z1^3w1^2   |\n",
      "{-1, 0, -2} | z1^3w1w3   |\n",
      "{-1, 0, -2} | z1^3w3^2   |\n",
      "{-1, 0, -2} | z1^2z3w1^2 |\n",
      "{-1, 0, -2} | z1^2z3w1w3 |\n",
      "{-1, 0, -2} | z1^2z3w3^2 |\n",
      "{-1, 0, -2} | z1z3^2w1^2 |\n",
      "{-1, 0, -2} | z1z3^2w1w3 |\n",
      "{-1, 0, -2} | z1z3^2w3^2 |\n",
      "{-1, 0, -2} | z3^3w1^2   |\n",
      "{-1, 0, -2} | z3^3w1w3   |\n",
      "{-1, 0, -2} | z3^3w3^2   |\n",
      "\n",
      "{0, 0, -2} | z2^2w2^2 |\n",
      "{0, 0, -2} | z2^2w2w4 |\n",
      "{0, 0, -2} | z2^2w4^2 |\n",
      "{0, 0, -2} | z2z4w2^2 |\n",
      "{0, 0, -2} | z2z4w2w4 |\n",
      "{0, 0, -2} | z2z4w4^2 |\n",
      "{0, 0, -2} | z4^2w2^2 |\n",
      "{0, 0, -2} | z4^2w2w4 |\n",
      "{0, 0, -2} | z4^2w4^2 |\n",
      "\n",
      "{-1, 0, -2} | z1^3w1^2   |\n",
      "{-1, 0, -2} | z1^3w1w3   |\n",
      "{-1, 0, -2} | z1^3w3^2   |\n",
      "{-1, 0, -2} | z1^2z2w1w2 |\n",
      "{-1, 0, -2} | z1^2z2w1w4 |\n",
      "{-1, 0, -2} | z1^2z2w2w3 |\n",
      "{-1, 0, -2} | z1^2z2w3w4 |\n",
      "{-1, 0, -2} | z1^2z3w1^2 |\n",
      "{-1, 0, -2} | z1^2z3w1w3 |\n",
      "{-1, 0, -2} | z1^2z3w3^2 |\n",
      "{-1, 0, -2} | z1^2z4w1w2 |\n",
      "{-1, 0, -2} | z1^2z4w1w4 |\n",
      "{-1, 0, -2} | z1^2z4w2w3 |\n",
      "{-1, 0, -2} | z1^2z4w3w4 |\n",
      "{-1, 0, -2} | z1z2^2w2^2 |\n",
      "{-1, 0, -2} | z1z2^2w2w4 |\n",
      "{-1, 0, -2} | z1z2^2w4^2 |\n",
      "{-1, 0, -2} | z1z2z3w1w2 |\n",
      "{-1, 0, -2} | z1z2z3w1w4 |\n",
      "{-1, 0, -2} | z1z2z3w2w3 |\n",
      "{-1, 0, -2} | z1z2z3w3w4 |\n",
      "{-1, 0, -2} | z1z2z4w2^2 |\n",
      "{-1, 0, -2} | z1z2z4w2w4 |\n",
      "{-1, 0, -2} | z1z2z4w4^2 |\n",
      "{-1, 0, -2} | z1z3^2w1^2 |\n",
      "{-1, 0, -2} | z1z3^2w1w3 |\n",
      "{-1, 0, -2} | z1z3^2w3^2 |\n",
      "{-1, 0, -2} | z1z3z4w1w2 |\n",
      "{-1, 0, -2} | z1z3z4w1w4 |\n",
      "{-1, 0, -2} | z1z3z4w2w3 |\n",
      "{-1, 0, -2} | z1z3z4w3w4 |\n",
      "{-1, 0, -2} | z1z4^2w2^2 |\n",
      "{-1, 0, -2} | z1z4^2w2w4 |\n",
      "{-1, 0, -2} | z1z4^2w4^2 |\n",
      "{-1, 0, -2} | z2^2z3w2^2 |\n",
      "{-1, 0, -2} | z2^2z3w2w4 |\n",
      "{-1, 0, -2} | z2^2z3w4^2 |\n",
      "{-1, 0, -2} | z2z3^2w1w2 |\n",
      "{-1, 0, -2} | z2z3^2w1w4 |\n",
      "{-1, 0, -2} | z2z3^2w2w3 |\n",
      "{-1, 0, -2} | z2z3^2w3w4 |\n",
      "{-1, 0, -2} | z2z3z4w2^2 |\n",
      "{-1, 0, -2} | z2z3z4w2w4 |\n",
      "{-1, 0, -2} | z2z3z4w4^2 |\n",
      "{-1, 0, -2} | z3^3w1^2   |\n",
      "{-1, 0, -2} | z3^3w1w3   |\n",
      "{-1, 0, -2} | z3^3w3^2   |\n",
      "{-1, 0, -2} | z3^2z4w1w2 |\n",
      "{-1, 0, -2} | z3^2z4w1w4 |\n",
      "{-1, 0, -2} | z3^2z4w2w3 |\n",
      "{-1, 0, -2} | z3^2z4w3w4 |\n",
      "{-1, 0, -2} | z3z4^2w2^2 |\n",
      "{-1, 0, -2} | z3z4^2w2w4 |\n",
      "{-1, 0, -2} | z3z4^2w4^2 |\n"
     ]
    }
   ],
   "source": [
    "print(macaulay2('transpose basis({1,0,2}, R)'))\n",
    "print('')\n",
    "print(macaulay2('transpose basis({0,0,2}, S)'))\n",
    "print('')\n",
    "print(macaulay2('transpose basis({1,0,2}, T)'))"
   ]
  },
  {
   "cell_type": "markdown",
   "metadata": {},
   "source": [
    "$(n,m,d) = (4,0,0):$"
   ]
  },
  {
   "cell_type": "code",
   "execution_count": 162,
   "metadata": {},
   "outputs": [
    {
     "name": "stdout",
     "output_type": "stream",
     "text": [
      "For z1, z3, w1, w3, the monomial no. is: 5\n",
      "For z2, z4, w2, w4, the monomial no. is: 1\n",
      "For T*(CP1 x CP1), the monomial no. is: 5\n",
      "The Index Character calculates: 5\n"
     ]
    }
   ],
   "source": [
    "print('For z1, z3, w1, w3, the monomial no. is:', macaulay2('rank source basis({4,0,0}, R)'))\n",
    "print('For z2, z4, w2, w4, the monomial no. is:', macaulay2('rank source basis({0,0,0}, S)'))\n",
    "print('For T*(CP1 x CP1), the monomial no. is:', macaulay2('rank source basis({4,0,0}, T)'))\n",
    "print('The Index Character calculates:', ProdEuler(4,0,0))"
   ]
  },
  {
   "cell_type": "code",
   "execution_count": 165,
   "metadata": {},
   "outputs": [
    {
     "name": "stdout",
     "output_type": "stream",
     "text": [
      "{-4, 0, 0} | z1^4     |\n",
      "{-4, 0, 0} | z1^3z3   |\n",
      "{-4, 0, 0} | z1^2z3^2 |\n",
      "{-4, 0, 0} | z1z3^3   |\n",
      "{-4, 0, 0} | z3^4     |\n",
      "\n",
      "| 1 |\n",
      "\n",
      "{-4, 0, 0} | z1^4     |\n",
      "{-4, 0, 0} | z1^3z3   |\n",
      "{-4, 0, 0} | z1^2z3^2 |\n",
      "{-4, 0, 0} | z1z3^3   |\n",
      "{-4, 0, 0} | z3^4     |\n"
     ]
    }
   ],
   "source": [
    "print(macaulay2('transpose basis({4,0,0}, R)'))\n",
    "print('')\n",
    "print(macaulay2('transpose basis({0,0,0}, S)'))\n",
    "print('')\n",
    "print(macaulay2('transpose basis({4,0,0}, T)'))"
   ]
  },
  {
   "cell_type": "markdown",
   "metadata": {},
   "source": [
    "$(n,m,d) = (4,0,1):$"
   ]
  },
  {
   "cell_type": "code",
   "execution_count": 164,
   "metadata": {},
   "outputs": [
    {
     "name": "stdout",
     "output_type": "stream",
     "text": [
      "For z1, z3, w1, w3, the monomial no. is: 12\n",
      "For z2, z4, w2, w4, the monomial no. is: 4\n",
      "For T*(CP1 x CP1), the monomial no. is: 32\n",
      "The Index Character calculates: 27\n"
     ]
    }
   ],
   "source": [
    "print('For z1, z3, w1, w3, the monomial no. is:', macaulay2('rank source basis({4,0,1}, R)'))\n",
    "print('For z2, z4, w2, w4, the monomial no. is:', macaulay2('rank source basis({0,0,1}, S)'))\n",
    "print('For T*(CP1 x CP1), the monomial no. is:', macaulay2('rank source basis({4,0,1}, T)'))\n",
    "print('The Index Character calculates:', ProdEuler(4,0,1))"
   ]
  },
  {
   "cell_type": "code",
   "execution_count": 166,
   "metadata": {},
   "outputs": [
    {
     "name": "stdout",
     "output_type": "stream",
     "text": [
      "{-4, 0, -1} | z1^5w1     |\n",
      "{-4, 0, -1} | z1^5w3     |\n",
      "{-4, 0, -1} | z1^4z3w1   |\n",
      "{-4, 0, -1} | z1^4z3w3   |\n",
      "{-4, 0, -1} | z1^3z3^2w1 |\n",
      "{-4, 0, -1} | z1^3z3^2w3 |\n",
      "{-4, 0, -1} | z1^2z3^3w1 |\n",
      "{-4, 0, -1} | z1^2z3^3w3 |\n",
      "{-4, 0, -1} | z1z3^4w1   |\n",
      "{-4, 0, -1} | z1z3^4w3   |\n",
      "{-4, 0, -1} | z3^5w1     |\n",
      "{-4, 0, -1} | z3^5w3     |\n",
      "\n",
      "{0, 0, -1} | z2w2 |\n",
      "{0, 0, -1} | z2w4 |\n",
      "{0, 0, -1} | z4w2 |\n",
      "{0, 0, -1} | z4w4 |\n",
      "\n",
      "{-4, 0, -1} | z1^5w1       |\n",
      "{-4, 0, -1} | z1^5w3       |\n",
      "{-4, 0, -1} | z1^4z2w2     |\n",
      "{-4, 0, -1} | z1^4z2w4     |\n",
      "{-4, 0, -1} | z1^4z3w1     |\n",
      "{-4, 0, -1} | z1^4z3w3     |\n",
      "{-4, 0, -1} | z1^4z4w2     |\n",
      "{-4, 0, -1} | z1^4z4w4     |\n",
      "{-4, 0, -1} | z1^3z2z3w2   |\n",
      "{-4, 0, -1} | z1^3z2z3w4   |\n",
      "{-4, 0, -1} | z1^3z3^2w1   |\n",
      "{-4, 0, -1} | z1^3z3^2w3   |\n",
      "{-4, 0, -1} | z1^3z3z4w2   |\n",
      "{-4, 0, -1} | z1^3z3z4w4   |\n",
      "{-4, 0, -1} | z1^2z2z3^2w2 |\n",
      "{-4, 0, -1} | z1^2z2z3^2w4 |\n",
      "{-4, 0, -1} | z1^2z3^3w1   |\n",
      "{-4, 0, -1} | z1^2z3^3w3   |\n",
      "{-4, 0, -1} | z1^2z3^2z4w2 |\n",
      "{-4, 0, -1} | z1^2z3^2z4w4 |\n",
      "{-4, 0, -1} | z1z2z3^3w2   |\n",
      "{-4, 0, -1} | z1z2z3^3w4   |\n",
      "{-4, 0, -1} | z1z3^4w1     |\n",
      "{-4, 0, -1} | z1z3^4w3     |\n",
      "{-4, 0, -1} | z1z3^3z4w2   |\n",
      "{-4, 0, -1} | z1z3^3z4w4   |\n",
      "{-4, 0, -1} | z2z3^4w2     |\n",
      "{-4, 0, -1} | z2z3^4w4     |\n",
      "{-4, 0, -1} | z3^5w1       |\n",
      "{-4, 0, -1} | z3^5w3       |\n",
      "{-4, 0, -1} | z3^4z4w2     |\n",
      "{-4, 0, -1} | z3^4z4w4     |\n"
     ]
    }
   ],
   "source": [
    "print(macaulay2('transpose basis({4,0,1}, R)'))\n",
    "print('')\n",
    "print(macaulay2('transpose basis({0,0,1}, S)'))\n",
    "print('')\n",
    "print(macaulay2('transpose basis({4,0,1}, T)'))"
   ]
  },
  {
   "cell_type": "markdown",
   "metadata": {},
   "source": [
    "$(n,m,d) = (4,0,2):$"
   ]
  },
  {
   "cell_type": "code",
   "execution_count": 168,
   "metadata": {},
   "outputs": [
    {
     "name": "stdout",
     "output_type": "stream",
     "text": [
      "For z1, z3, w1, w3, the monomial no. is: 21\n",
      "For z2, z4, w2, w4, the monomial no. is: 9\n",
      "For T*(CP1 x CP1), the monomial no. is: 114\n",
      "The Index Character calculates: 82\n"
     ]
    }
   ],
   "source": [
    "print('For z1, z3, w1, w3, the monomial no. is:', macaulay2('rank source basis({4,0,2}, R)'))\n",
    "print('For z2, z4, w2, w4, the monomial no. is:', macaulay2('rank source basis({0,0,2}, S)'))\n",
    "print('For T*(CP1 x CP1), the monomial no. is:', macaulay2('rank source basis({4,0,2}, T)'))\n",
    "print('The Index Character calculates:', ProdEuler(4,0,2))"
   ]
  },
  {
   "cell_type": "code",
   "execution_count": 8,
   "metadata": {},
   "outputs": [
    {
     "name": "stdout",
     "output_type": "stream",
     "text": [
      "For z1, z3, w1, w3, the monomial no. is: 1\n",
      "For z2, z4, w2, w4, the monomial no. is: 1\n",
      "For T*(CP1 x CP1), the monomial no. is: 1\n",
      "The Index Character calculates: 1\n"
     ]
    }
   ],
   "source": [
    "print('For z1, z3, w1, w3, the monomial no. is:', macaulay2('rank source basis({0,0,0}, R)'))\n",
    "print('For z2, z4, w2, w4, the monomial no. is:', macaulay2('rank source basis({0,0,0}, S)'))\n",
    "print('For T*(CP1 x CP1), the monomial no. is:', macaulay2('rank source basis({0,0,0}, T)'))\n",
    "print('The Index Character calculates:', ProdEuler(0,0,0))"
   ]
  },
  {
   "cell_type": "code",
   "execution_count": 9,
   "metadata": {},
   "outputs": [
    {
     "name": "stdout",
     "output_type": "stream",
     "text": [
      "For z1, z3, w1, w3, the monomial no. is: 4\n",
      "For z2, z4, w2, w4, the monomial no. is: 4\n",
      "For T*(CP1 x CP1), the monomial no. is: 8\n",
      "The Index Character calculates: 7\n"
     ]
    }
   ],
   "source": [
    "print('For z1, z3, w1, w3, the monomial no. is:', macaulay2('rank source basis({0,0,1}, R)'))\n",
    "print('For z2, z4, w2, w4, the monomial no. is:', macaulay2('rank source basis({0,0,1}, S)'))\n",
    "print('For T*(CP1 x CP1), the monomial no. is:', macaulay2('rank source basis({0,0,1}, T)'))\n",
    "print('The Index Character calculates:', ProdEuler(0,0,1))"
   ]
  },
  {
   "cell_type": "code",
   "execution_count": 10,
   "metadata": {},
   "outputs": [
    {
     "name": "stdout",
     "output_type": "stream",
     "text": [
      "For z1, z3, w1, w3, the monomial no. is: 9\n",
      "For z2, z4, w2, w4, the monomial no. is: 9\n",
      "For T*(CP1 x CP1), the monomial no. is: 34\n",
      "The Index Character calculates: 26\n"
     ]
    }
   ],
   "source": [
    "print('For z1, z3, w1, w3, the monomial no. is:', macaulay2('rank source basis({0,0,2}, R)'))\n",
    "print('For z2, z4, w2, w4, the monomial no. is:', macaulay2('rank source basis({0,0,2}, S)'))\n",
    "print('For T*(CP1 x CP1), the monomial no. is:', macaulay2('rank source basis({0,0,2}, T)'))\n",
    "print('The Index Character calculates:', ProdEuler(0,0,2))"
   ]
  },
  {
   "cell_type": "code",
   "execution_count": 11,
   "metadata": {},
   "outputs": [
    {
     "name": "stdout",
     "output_type": "stream",
     "text": [
      "For z1, z3, w1, w3, the monomial no. is: 16\n",
      "For z2, z4, w2, w4, the monomial no. is: 16\n",
      "For T*(CP1 x CP1), the monomial no. is: 104\n",
      "The Index Character calculates: 70\n"
     ]
    }
   ],
   "source": [
    "print('For z1, z3, w1, w3, the monomial no. is:', macaulay2('rank source basis({0,0,3}, R)'))\n",
    "print('For z2, z4, w2, w4, the monomial no. is:', macaulay2('rank source basis({0,0,3}, S)'))\n",
    "print('For T*(CP1 x CP1), the monomial no. is:', macaulay2('rank source basis({0,0,3}, T)'))\n",
    "print('The Index Character calculates:', ProdEuler(0,0,3))"
   ]
  },
  {
   "cell_type": "code",
   "execution_count": 23,
   "metadata": {},
   "outputs": [
    {
     "data": {
      "image/png": "[encoded data removed]",
      "text/latex": [
       "$\\displaystyle 26$"
      ],
      "text/plain": [
       "26"
      ]
     },
     "execution_count": 23,
     "metadata": {},
     "output_type": "execute_result"
    }
   ],
   "source": [
    "ProdEuler(0,0,2)"
   ]
  },
  {
   "cell_type": "code",
   "execution_count": 21,
   "metadata": {},
   "outputs": [
    {
     "data": {
      "image/png": "[encoded data removed]",
      "text/latex": [
       "$\\displaystyle \\frac{\\left(d + 1\\right) \\left(d + 2\\right) \\left(d^{2} + 2 d m + 3 d + 3 m + 3\\right)}{6}$"
      ],
      "text/plain": [
       "(d + 1)*(d + 2)*(d**2 + 2*d*m + 3*d + 3*m + 3)/6"
      ]
     },
     "execution_count": 21,
     "metadata": {},
     "output_type": "execute_result"
    }
   ],
   "source": [
    "ProdEuler(m,0,d)"
   ]
  },
  {
   "cell_type": "code",
   "execution_count": 24,
   "metadata": {},
   "outputs": [
    {
     "data": {
      "text/plain": [
       "34"
      ]
     },
     "execution_count": 24,
     "metadata": {},
     "output_type": "execute_result"
    }
   ],
   "source": [
    "macaulay2('rank source basis({0,0,2}, T)')"
   ]
  },
  {
   "cell_type": "code",
   "execution_count": null,
   "metadata": {},
   "outputs": [],
   "source": []
  }
 ],
 "metadata": {
  "kernelspec": {
   "display_name": "SageMath 9.4",
   "language": "sage",
   "name": "sagemath-9.4"
  },
  "language_info": {
   "codemirror_mode": {
    "name": "ipython",
    "version": 3
   },
   "file_extension": ".py",
   "mimetype": "text/x-python",
   "name": "python",
   "nbconvert_exporter": "python",
   "pygments_lexer": "ipython3",
   "version": "3.9.5"
  }
 },
 "nbformat": 4,
 "nbformat_minor": 5
}
