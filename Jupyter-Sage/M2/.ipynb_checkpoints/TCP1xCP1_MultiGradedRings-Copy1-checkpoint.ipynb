{
 "cells": [
  {
   "cell_type": "code",
   "execution_count": 66,
   "metadata": {},
   "outputs": [],
   "source": [
    "from sympy import *\n",
    "from sympy.vector import Vector\n",
    "from sympy.vector import CoordSys3D\n",
    "\n",
    "n, m, d, k = symbols( 'n m d k', positive=True, integer=True)\n",
    "init_printing(use_unicode=True)\n",
    "\n",
    "def Euler(n,d):    \n",
    "    return simplify(factor( (n + d + 1)*(d + 1) ) )\n",
    "\n",
    "\n",
    "def ProdEuler(n,m,d):    \n",
    "    return simplify(factor( Rational(1, 6) * (d + 1) * (d + 2) * (d**2 + 2*(d*n + d*m) + 3*(d + n*m  + n + m + 1) ) ))\n",
    "\n",
    "def Diff(n,m,d):\n",
    "    return factor( ( Euler(n,d) * Euler(m,d) ) - ProdEuler(n,m,d) )"
   ]
  },
  {
   "cell_type": "code",
   "execution_count": null,
   "metadata": {},
   "outputs": [],
   "source": [
    "macaulay2.eval(' ')"
   ]
  },
  {
   "cell_type": "markdown",
   "metadata": {},
   "source": [
    "$$ R = \\mathbb{C}[z_{1}, z_{2}, z_{3}, z_{4}; w_{1}, w_{2}, w_{3}, w_{4}], $$\n",
    "where\n",
    "$$ \\deg(z_{1}) = \\deg(z_{3}) = (1,0,0), \\quad \\deg(z_{3}) = \\deg(z_{4}) = (0,1,0), $$\n",
    "and\n",
    "$$ \\deg(w_{1}) = \\deg(w_{3}) = (1,0,-1), \\quad \\deg(w_{3}) = \\deg(w_{4}) = (0,1,-1). $$"
   ]
  },
  {
   "cell_type": "code",
   "execution_count": 69,
   "metadata": {},
   "outputs": [
    {
     "data": {
      "text/plain": [
       "T\n",
       "\n",
       "PolynomialRing"
      ]
     },
     "execution_count": 69,
     "metadata": {},
     "output_type": "execute_result"
    }
   ],
   "source": [
    "macaulay2.eval('R = ZZ/101[z1,z3,w1,w3,Degrees=>{{1,0,0},{1,0,0},{-1,0,1},{-1,0,1}}]');\n",
    "macaulay2.eval('S = ZZ/101[z2,z4,w2,w4,Degrees=>{{0,1,0},{0,1,0},{0,-1,1},{0,-1,1}}]');\n",
    "macaulay2.eval('T = ZZ/101[z1,z2,z3,z4,w1,w2,w3,w4,Degrees=>{{1,0,0},{0;1,0},{1,0,0},{0,1,0},{-1,0,1},{0,-1,1},{-1,0,1},{0,-1,1}}]');"
   ]
  },
  {
   "cell_type": "code",
   "execution_count": 26,
   "metadata": {},
   "outputs": [
    {
     "data": {
      "text/plain": [
       "image | z1^5w1 z1^5w3 z1^4z3w1 z1^4z3w3 z1^3z3^2w1 z1^3z3^2w3 z1^2z3^3w1 z1^2z3^3w3 z1z3^4w1 z1z3^4w3 z3^5w1 z3^5w3 |\n",
       "\n",
       "                        1\n",
       "R-module, submodule of R"
      ]
     },
     "execution_count": 26,
     "metadata": {},
     "output_type": "execute_result"
    }
   ],
   "source": [
    "macaulay2('class basis({4,0,0}, R)');\n",
    "macaulay2.eval('image basis({4,0,1}, R)')"
   ]
  },
  {
   "cell_type": "code",
   "execution_count": 100,
   "metadata": {},
   "outputs": [
    {
     "data": {
      "text/plain": [
       "image | z1^2z2w1 z1^2z2w3 z1^2z4w1 z1^2z4w3 z1z2^2w2 z1z2^2w4 z1z2z3w1 z1z2z3w3 z1z2z4w2 z1z2z4w4 z1z3z4w1 z1z3z4w3 z1z4^2w2 z1z4^2w4 z2^2z3w2 z2^2z3w4 z2z3^2w1 z2z3^2w3 z2z3z4w2 z2z3z4w4 z3^2z4w1 z3^2z4w3 z3z4^2w2 z3z4^2w4 |\n",
       "\n",
       "                        1\n",
       "T-module, submodule of T"
      ]
     },
     "execution_count": 100,
     "metadata": {},
     "output_type": "execute_result"
    }
   ],
   "source": [
    "macaulay2.eval('Rmod = image basis({1,0,1}, R)');\n",
    "macaulay2.eval('Smod = image basis({1,0,1}, S)');\n",
    "macaulay2.eval('Tmod = image basis({1,1,1}, T)')\n",
    "#macaulay2('hilbertSeries Smod')"
   ]
  },
  {
   "cell_type": "code",
   "execution_count": 106,
   "metadata": {},
   "outputs": [
    {
     "data": {
      "image/png": "[encoded data removed]",
      "text/latex": [
       "$\\displaystyle 144$"
      ],
      "text/plain": [
       "144"
      ]
     },
     "execution_count": 106,
     "metadata": {},
     "output_type": "execute_result"
    }
   ],
   "source": [
    "Euler(1,2) * Euler(1,2) "
   ]
  },
  {
   "cell_type": "code",
   "execution_count": 109,
   "metadata": {},
   "outputs": [
    {
     "data": {
      "image/png": "[encoded data removed]",
      "text/latex": [
       "$\\displaystyle 60$"
      ],
      "text/plain": [
       "60"
      ]
     },
     "execution_count": 109,
     "metadata": {},
     "output_type": "execute_result"
    }
   ],
   "source": [
    "ProdEuler(1,1,2)"
   ]
  },
  {
   "cell_type": "code",
   "execution_count": 110,
   "metadata": {},
   "outputs": [
    {
     "data": {
      "image/png": "[encoded data removed]",
      "text/latex": [
       "$\\displaystyle 84$"
      ],
      "text/plain": [
       "84"
      ]
     },
     "execution_count": 110,
     "metadata": {},
     "output_type": "execute_result"
    }
   ],
   "source": [
    "Diff(1,1,2)"
   ]
  },
  {
   "cell_type": "code",
   "execution_count": 111,
   "metadata": {},
   "outputs": [
    {
     "data": {
      "text/plain": [
       "12"
      ]
     },
     "execution_count": 111,
     "metadata": {},
     "output_type": "execute_result"
    }
   ],
   "source": [
    "macaulay2('rank source basis({1,0,2}, R)')"
   ]
  },
  {
   "cell_type": "code",
   "execution_count": 112,
   "metadata": {},
   "outputs": [
    {
     "data": {
      "text/plain": [
       "12"
      ]
     },
     "execution_count": 112,
     "metadata": {},
     "output_type": "execute_result"
    }
   ],
   "source": [
    "macaulay2('rank source basis({0,1,2}, S)')"
   ]
  },
  {
   "cell_type": "code",
   "execution_count": 113,
   "metadata": {},
   "outputs": [
    {
     "data": {
      "text/plain": [
       "84"
      ]
     },
     "execution_count": 113,
     "metadata": {},
     "output_type": "execute_result"
    }
   ],
   "source": [
    "macaulay2('rank source basis({1,1,2}, T)')"
   ]
  },
  {
   "cell_type": "code",
   "execution_count": 101,
   "metadata": {},
   "outputs": [
    {
     "data": {
      "text/plain": [
       "{-1, 0, -2} | z1^3w1^2   |\n",
       "{-1, 0, -2} | z1^3w1w3   |\n",
       "{-1, 0, -2} | z1^3w3^2   |\n",
       "{-1, 0, -2} | z1^2z3w1^2 |\n",
       "{-1, 0, -2} | z1^2z3w1w3 |\n",
       "{-1, 0, -2} | z1^2z3w3^2 |\n",
       "{-1, 0, -2} | z1z3^2w1^2 |\n",
       "{-1, 0, -2} | z1z3^2w1w3 |\n",
       "{-1, 0, -2} | z1z3^2w3^2 |\n",
       "{-1, 0, -2} | z3^3w1^2   |\n",
       "{-1, 0, -2} | z3^3w1w3   |\n",
       "{-1, 0, -2} | z3^3w3^2   |"
      ]
     },
     "execution_count": 101,
     "metadata": {},
     "output_type": "execute_result"
    }
   ],
   "source": [
    "macaulay2('transpose basis({1,0,2}, R)')"
   ]
  },
  {
   "cell_type": "code",
   "execution_count": 103,
   "metadata": {},
   "outputs": [
    {
     "data": {
      "text/plain": [
       "{0, -1, -2} | z2^3w2^2   |\n",
       "{0, -1, -2} | z2^3w2w4   |\n",
       "{0, -1, -2} | z2^3w4^2   |\n",
       "{0, -1, -2} | z2^2z4w2^2 |\n",
       "{0, -1, -2} | z2^2z4w2w4 |\n",
       "{0, -1, -2} | z2^2z4w4^2 |\n",
       "{0, -1, -2} | z2z4^2w2^2 |\n",
       "{0, -1, -2} | z2z4^2w2w4 |\n",
       "{0, -1, -2} | z2z4^2w4^2 |\n",
       "{0, -1, -2} | z4^3w2^2   |\n",
       "{0, -1, -2} | z4^3w2w4   |\n",
       "{0, -1, -2} | z4^3w4^2   |"
      ]
     },
     "execution_count": 103,
     "metadata": {},
     "output_type": "execute_result"
    }
   ],
   "source": [
    "macaulay2('transpose basis({0,1,2}, S)')"
   ]
  },
  {
   "cell_type": "code",
   "execution_count": 104,
   "metadata": {},
   "outputs": [
    {
     "data": {
      "text/plain": [
       "{-2, -2, -1} | z1^3z2^2w1   |\n",
       "{-2, -2, -1} | z1^3z2^2w3   |\n",
       "{-2, -2, -1} | z1^3z2z4w1   |\n",
       "{-2, -2, -1} | z1^3z2z4w3   |\n",
       "{-2, -2, -1} | z1^3z4^2w1   |\n",
       "{-2, -2, -1} | z1^3z4^2w3   |\n",
       "{-2, -2, -1} | z1^2z2^3w2   |\n",
       "{-2, -2, -1} | z1^2z2^3w4   |\n",
       "{-2, -2, -1} | z1^2z2^2z3w1 |\n",
       "{-2, -2, -1} | z1^2z2^2z3w3 |\n",
       "{-2, -2, -1} | z1^2z2^2z4w2 |\n",
       "{-2, -2, -1} | z1^2z2^2z4w4 |\n",
       "{-2, -2, -1} | z1^2z2z3z4w1 |\n",
       "{-2, -2, -1} | z1^2z2z3z4w3 |\n",
       "{-2, -2, -1} | z1^2z2z4^2w2 |\n",
       "{-2, -2, -1} | z1^2z2z4^2w4 |\n",
       "{-2, -2, -1} | z1^2z3z4^2w1 |\n",
       "{-2, -2, -1} | z1^2z3z4^2w3 |\n",
       "{-2, -2, -1} | z1^2z4^3w2   |\n",
       "{-2, -2, -1} | z1^2z4^3w4   |\n",
       "{-2, -2, -1} | z1z2^3z3w2   |\n",
       "{-2, -2, -1} | z1z2^3z3w4   |\n",
       "{-2, -2, -1} | z1z2^2z3^2w1 |\n",
       "{-2, -2, -1} | z1z2^2z3^2w3 |\n",
       "{-2, -2, -1} | z1z2^2z3z4w2 |\n",
       "{-2, -2, -1} | z1z2^2z3z4w4 |\n",
       "{-2, -2, -1} | z1z2z3^2z4w1 |\n",
       "{-2, -2, -1} | z1z2z3^2z4w3 |\n",
       "{-2, -2, -1} | z1z2z3z4^2w2 |\n",
       "{-2, -2, -1} | z1z2z3z4^2w4 |\n",
       "{-2, -2, -1} | z1z3^2z4^2w1 |\n",
       "{-2, -2, -1} | z1z3^2z4^2w3 |\n",
       "{-2, -2, -1} | z1z3z4^3w2   |\n",
       "{-2, -2, -1} | z1z3z4^3w4   |\n",
       "{-2, -2, -1} | z2^3z3^2w2   |\n",
       "{-2, -2, -1} | z2^3z3^2w4   |\n",
       "{-2, -2, -1} | z2^2z3^3w1   |\n",
       "{-2, -2, -1} | z2^2z3^3w3   |\n",
       "{-2, -2, -1} | z2^2z3^2z4w2 |\n",
       "{-2, -2, -1} | z2^2z3^2z4w4 |\n",
       "{-2, -2, -1} | z2z3^3z4w1   |\n",
       "{-2, -2, -1} | z2z3^3z4w3   |\n",
       "{-2, -2, -1} | z2z3^2z4^2w2 |\n",
       "{-2, -2, -1} | z2z3^2z4^2w4 |\n",
       "{-2, -2, -1} | z3^3z4^2w1   |\n",
       "{-2, -2, -1} | z3^3z4^2w3   |\n",
       "{-2, -2, -1} | z3^2z4^3w2   |\n",
       "{-2, -2, -1} | z3^2z4^3w4   |"
      ]
     },
     "execution_count": 104,
     "metadata": {},
     "output_type": "execute_result"
    }
   ],
   "source": [
    "macaulay2('transpose basis({2,2,1}, T)')"
   ]
  },
  {
   "cell_type": "code",
   "execution_count": 86,
   "metadata": {},
   "outputs": [
    {
     "data": {
      "text/plain": [
       "{-2, -2, -1} | z1^3z2^2w1   |\n",
       "{-2, -2, -1} | z1^3z2^2w3   |\n",
       "{-2, -2, -1} | z1^3z2z4w1   |\n",
       "{-2, -2, -1} | z1^3z2z4w3   |\n",
       "{-2, -2, -1} | z1^3z4^2w1   |\n",
       "{-2, -2, -1} | z1^3z4^2w3   |\n",
       "{-2, -2, -1} | z1^2z2^3w2   |\n",
       "{-2, -2, -1} | z1^2z2^3w4   |\n",
       "{-2, -2, -1} | z1^2z2^2z3w1 |\n",
       "{-2, -2, -1} | z1^2z2^2z3w3 |\n",
       "{-2, -2, -1} | z1^2z2^2z4w2 |\n",
       "{-2, -2, -1} | z1^2z2^2z4w4 |\n",
       "{-2, -2, -1} | z1^2z2z3z4w1 |\n",
       "{-2, -2, -1} | z1^2z2z3z4w3 |\n",
       "{-2, -2, -1} | z1^2z2z4^2w2 |\n",
       "{-2, -2, -1} | z1^2z2z4^2w4 |\n",
       "{-2, -2, -1} | z1^2z3z4^2w1 |\n",
       "{-2, -2, -1} | z1^2z3z4^2w3 |\n",
       "{-2, -2, -1} | z1^2z4^3w2   |\n",
       "{-2, -2, -1} | z1^2z4^3w4   |\n",
       "{-2, -2, -1} | z1z2^3z3w2   |\n",
       "{-2, -2, -1} | z1z2^3z3w4   |\n",
       "{-2, -2, -1} | z1z2^2z3^2w1 |\n",
       "{-2, -2, -1} | z1z2^2z3^2w3 |\n",
       "{-2, -2, -1} | z1z2^2z3z4w2 |\n",
       "{-2, -2, -1} | z1z2^2z3z4w4 |\n",
       "{-2, -2, -1} | z1z2z3^2z4w1 |\n",
       "{-2, -2, -1} | z1z2z3^2z4w3 |\n",
       "{-2, -2, -1} | z1z2z3z4^2w2 |\n",
       "{-2, -2, -1} | z1z2z3z4^2w4 |\n",
       "{-2, -2, -1} | z1z3^2z4^2w1 |\n",
       "{-2, -2, -1} | z1z3^2z4^2w3 |\n",
       "{-2, -2, -1} | z1z3z4^3w2   |\n",
       "{-2, -2, -1} | z1z3z4^3w4   |\n",
       "{-2, -2, -1} | z2^3z3^2w2   |\n",
       "{-2, -2, -1} | z2^3z3^2w4   |\n",
       "{-2, -2, -1} | z2^2z3^3w1   |\n",
       "{-2, -2, -1} | z2^2z3^3w3   |\n",
       "{-2, -2, -1} | z2^2z3^2z4w2 |\n",
       "{-2, -2, -1} | z2^2z3^2z4w4 |\n",
       "{-2, -2, -1} | z2z3^3z4w1   |\n",
       "{-2, -2, -1} | z2z3^3z4w3   |\n",
       "{-2, -2, -1} | z2z3^2z4^2w2 |\n",
       "{-2, -2, -1} | z2z3^2z4^2w4 |\n",
       "{-2, -2, -1} | z3^3z4^2w1   |\n",
       "{-2, -2, -1} | z3^3z4^2w3   |\n",
       "{-2, -2, -1} | z3^2z4^3w2   |\n",
       "{-2, -2, -1} | z3^2z4^3w4   |"
      ]
     },
     "execution_count": 86,
     "metadata": {},
     "output_type": "execute_result"
    }
   ],
   "source": [
    "macaulay2('transpose basis({2,2,1}, T)')"
   ]
  },
  {
   "cell_type": "markdown",
   "metadata": {},
   "source": [
    "For $(n,m,d) = (1,1,0)$:"
   ]
  },
  {
   "cell_type": "code",
   "execution_count": 131,
   "metadata": {},
   "outputs": [
    {
     "name": "stdout",
     "output_type": "stream",
     "text": [
      "2\n",
      "2\n"
     ]
    },
    {
     "data": {
      "text/plain": [
       "4"
      ]
     },
     "metadata": {},
     "output_type": "display_data"
    },
    {
     "data": {
      "image/png": "[encoded data removed]",
      "text/latex": [
       "$\\displaystyle 4$"
      ],
      "text/plain": [
       "4"
      ]
     },
     "metadata": {},
     "output_type": "display_data"
    }
   ],
   "source": [
    "print(macaulay2('rank source basis({1,0,0}, R)'))\n",
    "print(macaulay2('rank source basis({0,1,0}, S)'))\n",
    "print(macaulay2('rank source basis({1,1,0}, T)'))\n",
    "display(ProdEuler(1,1,0))"
   ]
  },
  {
   "cell_type": "markdown",
   "metadata": {},
   "source": [
    "For $(n,m,d) = (1,1,1)$:"
   ]
  },
  {
   "cell_type": "code",
   "execution_count": 132,
   "metadata": {},
   "outputs": [
    {
     "name": "stdout",
     "output_type": "stream",
     "text": [
      "6\n",
      "6\n",
      "24\n"
     ]
    },
    {
     "data": {
      "image/png": "[encoded data removed]",
      "text/latex": [
       "$\\displaystyle 20$"
      ],
      "text/plain": [
       "20"
      ]
     },
     "metadata": {},
     "output_type": "display_data"
    }
   ],
   "source": [
    "print(macaulay2('rank source basis({1,0,1}, R)'))\n",
    "print(macaulay2('rank source basis({0,1,1}, S)'))\n",
    "print(macaulay2('rank source basis({1,1,1}, T)'))\n",
    "display(ProdEuler(1,1,1))"
   ]
  },
  {
   "cell_type": "markdown",
   "metadata": {},
   "source": [
    "For $(n,m,d) = (1,1,2)$:"
   ]
  },
  {
   "cell_type": "code",
   "execution_count": 134,
   "metadata": {},
   "outputs": [
    {
     "name": "stdout",
     "output_type": "stream",
     "text": [
      "12\n",
      "12\n",
      "84\n"
     ]
    },
    {
     "data": {
      "image/png": "[encoded data removed]",
      "text/latex": [
       "$\\displaystyle 60$"
      ],
      "text/plain": [
       "60"
      ]
     },
     "metadata": {},
     "output_type": "display_data"
    }
   ],
   "source": [
    "print(macaulay2('rank source basis({1,0,2}, R)'))\n",
    "print(macaulay2('rank source basis({0,1,2}, S)'))\n",
    "print(macaulay2('rank source basis({1,1,2}, T)'))\n",
    "display(ProdEuler(1,1,2))"
   ]
  },
  {
   "cell_type": "markdown",
   "metadata": {},
   "source": [
    "For $(n,m,d) = (1,1,2)$:"
   ]
  },
  {
   "cell_type": "code",
   "execution_count": 135,
   "metadata": {},
   "outputs": [
    {
     "name": "stdout",
     "output_type": "stream",
     "text": [
      "20\n",
      "20\n",
      "224\n"
     ]
    },
    {
     "data": {
      "image/png": "[encoded data removed]",
      "text/latex": [
       "$\\displaystyle 140$"
      ],
      "text/plain": [
       "140"
      ]
     },
     "metadata": {},
     "output_type": "display_data"
    }
   ],
   "source": [
    "print(macaulay2('rank source basis({1,0,3}, R)'))\n",
    "print(macaulay2('rank source basis({0,1,3}, S)'))\n",
    "print(macaulay2('rank source basis({1,1,3}, T)'))\n",
    "display(ProdEuler(1,1,3))"
   ]
  },
  {
   "cell_type": "code",
   "execution_count": 140,
   "metadata": {},
   "outputs": [
    {
     "name": "stdout",
     "output_type": "stream",
     "text": [
      "{-1, 0, 0} | z1 |\n",
      "{-1, 0, 0} | z3 |\n",
      "\n",
      "{0, -1, 0} | z2 |\n",
      "{0, -1, 0} | z4 |\n",
      "\n",
      "{-1, -1, 0} | z1z2 |\n",
      "{-1, -1, 0} | z1z4 |\n",
      "{-1, -1, 0} | z2z3 |\n",
      "{-1, -1, 0} | z3z4 |\n"
     ]
    }
   ],
   "source": [
    "print(macaulay2('transpose basis({1,0,0}, R)'))\n",
    "print('')\n",
    "print(macaulay2('transpose basis({0,1,0}, S)'))\n",
    "print('')\n",
    "print(macaulay2('transpose basis({1,1,0}, T)'))"
   ]
  },
  {
   "cell_type": "code",
   "execution_count": 141,
   "metadata": {},
   "outputs": [
    {
     "name": "stdout",
     "output_type": "stream",
     "text": [
      "{-1, 0, -1} | z1^2w1 |\n",
      "{-1, 0, -1} | z1^2w3 |\n",
      "{-1, 0, -1} | z1z3w1 |\n",
      "{-1, 0, -1} | z1z3w3 |\n",
      "{-1, 0, -1} | z3^2w1 |\n",
      "{-1, 0, -1} | z3^2w3 |\n",
      "\n",
      "{0, -1, -1} | z2^2w2 |\n",
      "{0, -1, -1} | z2^2w4 |\n",
      "{0, -1, -1} | z2z4w2 |\n",
      "{0, -1, -1} | z2z4w4 |\n",
      "{0, -1, -1} | z4^2w2 |\n",
      "{0, -1, -1} | z4^2w4 |\n",
      "\n",
      "{-1, -1, -1} | z1^2z2w1 |\n",
      "{-1, -1, -1} | z1^2z2w3 |\n",
      "{-1, -1, -1} | z1^2z4w1 |\n",
      "{-1, -1, -1} | z1^2z4w3 |\n",
      "{-1, -1, -1} | z1z2^2w2 |\n",
      "{-1, -1, -1} | z1z2^2w4 |\n",
      "{-1, -1, -1} | z1z2z3w1 |\n",
      "{-1, -1, -1} | z1z2z3w3 |\n",
      "{-1, -1, -1} | z1z2z4w2 |\n",
      "{-1, -1, -1} | z1z2z4w4 |\n",
      "{-1, -1, -1} | z1z3z4w1 |\n",
      "{-1, -1, -1} | z1z3z4w3 |\n",
      "{-1, -1, -1} | z1z4^2w2 |\n",
      "{-1, -1, -1} | z1z4^2w4 |\n",
      "{-1, -1, -1} | z2^2z3w2 |\n",
      "{-1, -1, -1} | z2^2z3w4 |\n",
      "{-1, -1, -1} | z2z3^2w1 |\n",
      "{-1, -1, -1} | z2z3^2w3 |\n",
      "{-1, -1, -1} | z2z3z4w2 |\n",
      "{-1, -1, -1} | z2z3z4w4 |\n",
      "{-1, -1, -1} | z3^2z4w1 |\n",
      "{-1, -1, -1} | z3^2z4w3 |\n",
      "{-1, -1, -1} | z3z4^2w2 |\n",
      "{-1, -1, -1} | z3z4^2w4 |\n"
     ]
    }
   ],
   "source": [
    "print(macaulay2('transpose basis({1,0,1}, R)'))\n",
    "print('')\n",
    "print(macaulay2('transpose basis({0,1,1}, S)'))\n",
    "print('')\n",
    "print(macaulay2('transpose basis({1,1,1}, T)'))"
   ]
  },
  {
   "cell_type": "code",
   "execution_count": 142,
   "metadata": {},
   "outputs": [
    {
     "name": "stdout",
     "output_type": "stream",
     "text": [
      "{-1, 0, -2} | z1^3w1^2   |\n",
      "{-1, 0, -2} | z1^3w1w3   |\n",
      "{-1, 0, -2} | z1^3w3^2   |\n",
      "{-1, 0, -2} | z1^2z3w1^2 |\n",
      "{-1, 0, -2} | z1^2z3w1w3 |\n",
      "{-1, 0, -2} | z1^2z3w3^2 |\n",
      "{-1, 0, -2} | z1z3^2w1^2 |\n",
      "{-1, 0, -2} | z1z3^2w1w3 |\n",
      "{-1, 0, -2} | z1z3^2w3^2 |\n",
      "{-1, 0, -2} | z3^3w1^2   |\n",
      "{-1, 0, -2} | z3^3w1w3   |\n",
      "{-1, 0, -2} | z3^3w3^2   |\n",
      "\n",
      "{0, -1, -2} | z2^3w2^2   |\n",
      "{0, -1, -2} | z2^3w2w4   |\n",
      "{0, -1, -2} | z2^3w4^2   |\n",
      "{0, -1, -2} | z2^2z4w2^2 |\n",
      "{0, -1, -2} | z2^2z4w2w4 |\n",
      "{0, -1, -2} | z2^2z4w4^2 |\n",
      "{0, -1, -2} | z2z4^2w2^2 |\n",
      "{0, -1, -2} | z2z4^2w2w4 |\n",
      "{0, -1, -2} | z2z4^2w4^2 |\n",
      "{0, -1, -2} | z4^3w2^2   |\n",
      "{0, -1, -2} | z4^3w2w4   |\n",
      "{0, -1, -2} | z4^3w4^2   |\n",
      "\n",
      "{-1, -1, -2} | z1^3z2w1^2   |\n",
      "{-1, -1, -2} | z1^3z2w1w3   |\n",
      "{-1, -1, -2} | z1^3z2w3^2   |\n",
      "{-1, -1, -2} | z1^3z4w1^2   |\n",
      "{-1, -1, -2} | z1^3z4w1w3   |\n",
      "{-1, -1, -2} | z1^3z4w3^2   |\n",
      "{-1, -1, -2} | z1^2z2^2w1w2 |\n",
      "{-1, -1, -2} | z1^2z2^2w1w4 |\n",
      "{-1, -1, -2} | z1^2z2^2w2w3 |\n",
      "{-1, -1, -2} | z1^2z2^2w3w4 |\n",
      "{-1, -1, -2} | z1^2z2z3w1^2 |\n",
      "{-1, -1, -2} | z1^2z2z3w1w3 |\n",
      "{-1, -1, -2} | z1^2z2z3w3^2 |\n",
      "{-1, -1, -2} | z1^2z2z4w1w2 |\n",
      "{-1, -1, -2} | z1^2z2z4w1w4 |\n",
      "{-1, -1, -2} | z1^2z2z4w2w3 |\n",
      "{-1, -1, -2} | z1^2z2z4w3w4 |\n",
      "{-1, -1, -2} | z1^2z3z4w1^2 |\n",
      "{-1, -1, -2} | z1^2z3z4w1w3 |\n",
      "{-1, -1, -2} | z1^2z3z4w3^2 |\n",
      "{-1, -1, -2} | z1^2z4^2w1w2 |\n",
      "{-1, -1, -2} | z1^2z4^2w1w4 |\n",
      "{-1, -1, -2} | z1^2z4^2w2w3 |\n",
      "{-1, -1, -2} | z1^2z4^2w3w4 |\n",
      "{-1, -1, -2} | z1z2^3w2^2   |\n",
      "{-1, -1, -2} | z1z2^3w2w4   |\n",
      "{-1, -1, -2} | z1z2^3w4^2   |\n",
      "{-1, -1, -2} | z1z2^2z3w1w2 |\n",
      "{-1, -1, -2} | z1z2^2z3w1w4 |\n",
      "{-1, -1, -2} | z1z2^2z3w2w3 |\n",
      "{-1, -1, -2} | z1z2^2z3w3w4 |\n",
      "{-1, -1, -2} | z1z2^2z4w2^2 |\n",
      "{-1, -1, -2} | z1z2^2z4w2w4 |\n",
      "{-1, -1, -2} | z1z2^2z4w4^2 |\n",
      "{-1, -1, -2} | z1z2z3^2w1^2 |\n",
      "{-1, -1, -2} | z1z2z3^2w1w3 |\n",
      "{-1, -1, -2} | z1z2z3^2w3^2 |\n",
      "{-1, -1, -2} | z1z2z3z4w1w2 |\n",
      "{-1, -1, -2} | z1z2z3z4w1w4 |\n",
      "{-1, -1, -2} | z1z2z3z4w2w3 |\n",
      "{-1, -1, -2} | z1z2z3z4w3w4 |\n",
      "{-1, -1, -2} | z1z2z4^2w2^2 |\n",
      "{-1, -1, -2} | z1z2z4^2w2w4 |\n",
      "{-1, -1, -2} | z1z2z4^2w4^2 |\n",
      "{-1, -1, -2} | z1z3^2z4w1^2 |\n",
      "{-1, -1, -2} | z1z3^2z4w1w3 |\n",
      "{-1, -1, -2} | z1z3^2z4w3^2 |\n",
      "{-1, -1, -2} | z1z3z4^2w1w2 |\n",
      "{-1, -1, -2} | z1z3z4^2w1w4 |\n",
      "{-1, -1, -2} | z1z3z4^2w2w3 |\n",
      "{-1, -1, -2} | z1z3z4^2w3w4 |\n",
      "{-1, -1, -2} | z1z4^3w2^2   |\n",
      "{-1, -1, -2} | z1z4^3w2w4   |\n",
      "{-1, -1, -2} | z1z4^3w4^2   |\n",
      "{-1, -1, -2} | z2^3z3w2^2   |\n",
      "{-1, -1, -2} | z2^3z3w2w4   |\n",
      "{-1, -1, -2} | z2^3z3w4^2   |\n",
      "{-1, -1, -2} | z2^2z3^2w1w2 |\n",
      "{-1, -1, -2} | z2^2z3^2w1w4 |\n",
      "{-1, -1, -2} | z2^2z3^2w2w3 |\n",
      "{-1, -1, -2} | z2^2z3^2w3w4 |\n",
      "{-1, -1, -2} | z2^2z3z4w2^2 |\n",
      "{-1, -1, -2} | z2^2z3z4w2w4 |\n",
      "{-1, -1, -2} | z2^2z3z4w4^2 |\n",
      "{-1, -1, -2} | z2z3^3w1^2   |\n",
      "{-1, -1, -2} | z2z3^3w1w3   |\n",
      "{-1, -1, -2} | z2z3^3w3^2   |\n",
      "{-1, -1, -2} | z2z3^2z4w1w2 |\n",
      "{-1, -1, -2} | z2z3^2z4w1w4 |\n",
      "{-1, -1, -2} | z2z3^2z4w2w3 |\n",
      "{-1, -1, -2} | z2z3^2z4w3w4 |\n",
      "{-1, -1, -2} | z2z3z4^2w2^2 |\n",
      "{-1, -1, -2} | z2z3z4^2w2w4 |\n",
      "{-1, -1, -2} | z2z3z4^2w4^2 |\n",
      "{-1, -1, -2} | z3^3z4w1^2   |\n",
      "{-1, -1, -2} | z3^3z4w1w3   |\n",
      "{-1, -1, -2} | z3^3z4w3^2   |\n",
      "{-1, -1, -2} | z3^2z4^2w1w2 |\n",
      "{-1, -1, -2} | z3^2z4^2w1w4 |\n",
      "{-1, -1, -2} | z3^2z4^2w2w3 |\n",
      "{-1, -1, -2} | z3^2z4^2w3w4 |\n",
      "{-1, -1, -2} | z3z4^3w2^2   |\n",
      "{-1, -1, -2} | z3z4^3w2w4   |\n",
      "{-1, -1, -2} | z3z4^3w4^2   |\n"
     ]
    }
   ],
   "source": [
    "print(macaulay2('transpose basis({1,0,2}, R)'))\n",
    "print('')\n",
    "print(macaulay2('transpose basis({0,1,2}, S)'))\n",
    "print('')\n",
    "print(macaulay2('transpose basis({1,1,2}, T)'))"
   ]
  },
  {
   "cell_type": "code",
   "execution_count": null,
   "metadata": {},
   "outputs": [],
   "source": []
  },
  {
   "cell_type": "code",
   "execution_count": 69,
   "metadata": {
    "scrolled": true
   },
   "outputs": [
    {
     "data": {
      "text/plain": [
       "| z1^3z2w1 z1^3z2w3 z1^3z4w1 z1^3z4w3 z1^2z2^2w2 z1^2z2^2w4 z1^2z2z3w1\n",
       "--------------------------------------------------------------------------------\n",
       "z1^2z2z3w3 z1^2z2z4w2 z1^2z2z4w4 z1^2z3z4w1 z1^2z3z4w3 z1^2z4^2w2 z1^2z4^2w4\n",
       "--------------------------------------------------------------------------------\n",
       "z1z2^2z3w2 z1z2^2z3w4 z1z2z3^2w1 z1z2z3^2w3 z1z2z3z4w2 z1z2z3z4w4 z1z3^2z4w1\n",
       "--------------------------------------------------------------------------------\n",
       "z1z3^2z4w3 z1z3z4^2w2 z1z3z4^2w4 z2^2z3^2w2 z2^2z3^2w4 z2z3^3w1 z2z3^3w3\n",
       "--------------------------------------------------------------------------------\n",
       "z2z3^2z4w2 z2z3^2z4w4 z3^3z4w1 z3^3z4w3 z3^2z4^2w2 z3^2z4^2w4 |"
      ]
     },
     "execution_count": 69,
     "metadata": {},
     "output_type": "execute_result"
    }
   ],
   "source": [
    "for i in range(0,11):\n",
    "    display(Euler(10,10,i))"
   ]
  },
  {
   "cell_type": "code",
   "execution_count": 24,
   "metadata": {},
   "outputs": [
    {
     "data": {
      "text/plain": [
       "{-4, 0, 0} | z1^4     |\n",
       "{-4, 0, 0} | z1^3z3   |\n",
       "{-4, 0, 0} | z1^2z3^2 |\n",
       "{-4, 0, 0} | z1z3^3   |\n",
       "{-4, 0, 0} | z3^4     |"
      ]
     },
     "execution_count": 24,
     "metadata": {},
     "output_type": "execute_result"
    }
   ],
   "source": [
    "macaulay2('transpose basis({4,0,0}, R)')"
   ]
  },
  {
   "cell_type": "code",
   "execution_count": 25,
   "metadata": {},
   "outputs": [
    {
     "data": {
      "text/plain": [
       "{-4, 0, -1} | z1^5w1       |\n",
       "{-4, 0, -1} | z1^5w3       |\n",
       "{-4, 0, -1} | z1^4z2w2     |\n",
       "{-4, 0, -1} | z1^4z2w4     |\n",
       "{-4, 0, -1} | z1^4z3w1     |\n",
       "{-4, 0, -1} | z1^4z3w3     |\n",
       "{-4, 0, -1} | z1^4z4w2     |\n",
       "{-4, 0, -1} | z1^4z4w4     |\n",
       "{-4, 0, -1} | z1^3z2z3w2   |\n",
       "{-4, 0, -1} | z1^3z2z3w4   |\n",
       "{-4, 0, -1} | z1^3z3^2w1   |\n",
       "{-4, 0, -1} | z1^3z3^2w3   |\n",
       "{-4, 0, -1} | z1^3z3z4w2   |\n",
       "{-4, 0, -1} | z1^3z3z4w4   |\n",
       "{-4, 0, -1} | z1^2z2z3^2w2 |\n",
       "{-4, 0, -1} | z1^2z2z3^2w4 |\n",
       "{-4, 0, -1} | z1^2z3^3w1   |\n",
       "{-4, 0, -1} | z1^2z3^3w3   |\n",
       "{-4, 0, -1} | z1^2z3^2z4w2 |\n",
       "{-4, 0, -1} | z1^2z3^2z4w4 |\n",
       "{-4, 0, -1} | z1z2z3^3w2   |\n",
       "{-4, 0, -1} | z1z2z3^3w4   |\n",
       "{-4, 0, -1} | z1z3^4w1     |\n",
       "{-4, 0, -1} | z1z3^4w3     |\n",
       "{-4, 0, -1} | z1z3^3z4w2   |\n",
       "{-4, 0, -1} | z1z3^3z4w4   |\n",
       "{-4, 0, -1} | z2z3^4w2     |\n",
       "{-4, 0, -1} | z2z3^4w4     |\n",
       "{-4, 0, -1} | z3^5w1       |\n",
       "{-4, 0, -1} | z3^5w3       |\n",
       "{-4, 0, -1} | z3^4z4w2     |\n",
       "{-4, 0, -1} | z3^4z4w4     |"
      ]
     },
     "execution_count": 25,
     "metadata": {},
     "output_type": "execute_result"
    }
   ],
   "source": [
    "macaulay2('transpose basis({4,0,1}, R)')"
   ]
  },
  {
   "cell_type": "code",
   "execution_count": 26,
   "metadata": {},
   "outputs": [
    {
     "data": {
      "text/plain": [
       "{-4, 0, -2} | z1^6w1^2         |\n",
       "{-4, 0, -2} | z1^6w1w3         |\n",
       "{-4, 0, -2} | z1^6w3^2         |\n",
       "{-4, 0, -2} | z1^5z2w1w2       |\n",
       "{-4, 0, -2} | z1^5z2w1w4       |\n",
       "{-4, 0, -2} | z1^5z2w2w3       |\n",
       "{-4, 0, -2} | z1^5z2w3w4       |\n",
       "{-4, 0, -2} | z1^5z3w1^2       |\n",
       "{-4, 0, -2} | z1^5z3w1w3       |\n",
       "{-4, 0, -2} | z1^5z3w3^2       |\n",
       "{-4, 0, -2} | z1^5z4w1w2       |\n",
       "{-4, 0, -2} | z1^5z4w1w4       |\n",
       "{-4, 0, -2} | z1^5z4w2w3       |\n",
       "{-4, 0, -2} | z1^5z4w3w4       |\n",
       "{-4, 0, -2} | z1^4z2^2w2^2     |\n",
       "{-4, 0, -2} | z1^4z2^2w2w4     |\n",
       "{-4, 0, -2} | z1^4z2^2w4^2     |\n",
       "{-4, 0, -2} | z1^4z2z3w1w2     |\n",
       "{-4, 0, -2} | z1^4z2z3w1w4     |\n",
       "{-4, 0, -2} | z1^4z2z3w2w3     |\n",
       "{-4, 0, -2} | z1^4z2z3w3w4     |\n",
       "{-4, 0, -2} | z1^4z2z4w2^2     |\n",
       "{-4, 0, -2} | z1^4z2z4w2w4     |\n",
       "{-4, 0, -2} | z1^4z2z4w4^2     |\n",
       "{-4, 0, -2} | z1^4z3^2w1^2     |\n",
       "{-4, 0, -2} | z1^4z3^2w1w3     |\n",
       "{-4, 0, -2} | z1^4z3^2w3^2     |\n",
       "{-4, 0, -2} | z1^4z3z4w1w2     |\n",
       "{-4, 0, -2} | z1^4z3z4w1w4     |\n",
       "{-4, 0, -2} | z1^4z3z4w2w3     |\n",
       "{-4, 0, -2} | z1^4z3z4w3w4     |\n",
       "{-4, 0, -2} | z1^4z4^2w2^2     |\n",
       "{-4, 0, -2} | z1^4z4^2w2w4     |\n",
       "{-4, 0, -2} | z1^4z4^2w4^2     |\n",
       "{-4, 0, -2} | z1^3z2^2z3w2^2   |\n",
       "{-4, 0, -2} | z1^3z2^2z3w2w4   |\n",
       "{-4, 0, -2} | z1^3z2^2z3w4^2   |\n",
       "{-4, 0, -2} | z1^3z2z3^2w1w2   |\n",
       "{-4, 0, -2} | z1^3z2z3^2w1w4   |\n",
       "{-4, 0, -2} | z1^3z2z3^2w2w3   |\n",
       "{-4, 0, -2} | z1^3z2z3^2w3w4   |\n",
       "{-4, 0, -2} | z1^3z2z3z4w2^2   |\n",
       "{-4, 0, -2} | z1^3z2z3z4w2w4   |\n",
       "{-4, 0, -2} | z1^3z2z3z4w4^2   |\n",
       "{-4, 0, -2} | z1^3z3^3w1^2     |\n",
       "{-4, 0, -2} | z1^3z3^3w1w3     |\n",
       "{-4, 0, -2} | z1^3z3^3w3^2     |\n",
       "{-4, 0, -2} | z1^3z3^2z4w1w2   |\n",
       "{-4, 0, -2} | z1^3z3^2z4w1w4   |\n",
       "{-4, 0, -2} | z1^3z3^2z4w2w3   |\n",
       "{-4, 0, -2} | z1^3z3^2z4w3w4   |\n",
       "{-4, 0, -2} | z1^3z3z4^2w2^2   |\n",
       "{-4, 0, -2} | z1^3z3z4^2w2w4   |\n",
       "{-4, 0, -2} | z1^3z3z4^2w4^2   |\n",
       "{-4, 0, -2} | z1^2z2^2z3^2w2^2 |\n",
       "{-4, 0, -2} | z1^2z2^2z3^2w2w4 |\n",
       "{-4, 0, -2} | z1^2z2^2z3^2w4^2 |\n",
       "{-4, 0, -2} | z1^2z2z3^3w1w2   |\n",
       "{-4, 0, -2} | z1^2z2z3^3w1w4   |\n",
       "{-4, 0, -2} | z1^2z2z3^3w2w3   |\n",
       "{-4, 0, -2} | z1^2z2z3^3w3w4   |\n",
       "{-4, 0, -2} | z1^2z2z3^2z4w2^2 |\n",
       "{-4, 0, -2} | z1^2z2z3^2z4w2w4 |\n",
       "{-4, 0, -2} | z1^2z2z3^2z4w4^2 |\n",
       "{-4, 0, -2} | z1^2z3^4w1^2     |\n",
       "{-4, 0, -2} | z1^2z3^4w1w3     |\n",
       "{-4, 0, -2} | z1^2z3^4w3^2     |\n",
       "{-4, 0, -2} | z1^2z3^3z4w1w2   |\n",
       "{-4, 0, -2} | z1^2z3^3z4w1w4   |\n",
       "{-4, 0, -2} | z1^2z3^3z4w2w3   |\n",
       "{-4, 0, -2} | z1^2z3^3z4w3w4   |\n",
       "{-4, 0, -2} | z1^2z3^2z4^2w2^2 |\n",
       "{-4, 0, -2} | z1^2z3^2z4^2w2w4 |\n",
       "{-4, 0, -2} | z1^2z3^2z4^2w4^2 |\n",
       "{-4, 0, -2} | z1z2^2z3^3w2^2   |\n",
       "{-4, 0, -2} | z1z2^2z3^3w2w4   |\n",
       "{-4, 0, -2} | z1z2^2z3^3w4^2   |\n",
       "{-4, 0, -2} | z1z2z3^4w1w2     |\n",
       "{-4, 0, -2} | z1z2z3^4w1w4     |\n",
       "{-4, 0, -2} | z1z2z3^4w2w3     |\n",
       "{-4, 0, -2} | z1z2z3^4w3w4     |\n",
       "{-4, 0, -2} | z1z2z3^3z4w2^2   |\n",
       "{-4, 0, -2} | z1z2z3^3z4w2w4   |\n",
       "{-4, 0, -2} | z1z2z3^3z4w4^2   |\n",
       "{-4, 0, -2} | z1z3^5w1^2       |\n",
       "{-4, 0, -2} | z1z3^5w1w3       |\n",
       "{-4, 0, -2} | z1z3^5w3^2       |\n",
       "{-4, 0, -2} | z1z3^4z4w1w2     |\n",
       "{-4, 0, -2} | z1z3^4z4w1w4     |\n",
       "{-4, 0, -2} | z1z3^4z4w2w3     |\n",
       "{-4, 0, -2} | z1z3^4z4w3w4     |\n",
       "{-4, 0, -2} | z1z3^3z4^2w2^2   |\n",
       "{-4, 0, -2} | z1z3^3z4^2w2w4   |\n",
       "{-4, 0, -2} | z1z3^3z4^2w4^2   |\n",
       "{-4, 0, -2} | z2^2z3^4w2^2     |\n",
       "{-4, 0, -2} | z2^2z3^4w2w4     |\n",
       "{-4, 0, -2} | z2^2z3^4w4^2     |\n",
       "{-4, 0, -2} | z2z3^5w1w2       |\n",
       "{-4, 0, -2} | z2z3^5w1w4       |\n",
       "{-4, 0, -2} | z2z3^5w2w3       |\n",
       "{-4, 0, -2} | z2z3^5w3w4       |\n",
       "{-4, 0, -2} | z2z3^4z4w2^2     |\n",
       "{-4, 0, -2} | z2z3^4z4w2w4     |\n",
       "{-4, 0, -2} | z2z3^4z4w4^2     |\n",
       "{-4, 0, -2} | z3^6w1^2         |\n",
       "{-4, 0, -2} | z3^6w1w3         |\n",
       "{-4, 0, -2} | z3^6w3^2         |\n",
       "{-4, 0, -2} | z3^5z4w1w2       |\n",
       "{-4, 0, -2} | z3^5z4w1w4       |\n",
       "{-4, 0, -2} | z3^5z4w2w3       |\n",
       "{-4, 0, -2} | z3^5z4w3w4       |\n",
       "{-4, 0, -2} | z3^4z4^2w2^2     |\n",
       "{-4, 0, -2} | z3^4z4^2w2w4     |\n",
       "{-4, 0, -2} | z3^4z4^2w4^2     |"
      ]
     },
     "execution_count": 26,
     "metadata": {},
     "output_type": "execute_result"
    }
   ],
   "source": [
    "macaulay2('transpose basis({4,0,2}, R)')"
   ]
  },
  {
   "cell_type": "code",
   "execution_count": 27,
   "metadata": {},
   "outputs": [
    {
     "data": {
      "text/plain": [
       "5"
      ]
     },
     "execution_count": 27,
     "metadata": {},
     "output_type": "execute_result"
    }
   ],
   "source": [
    "macaulay2('rank source basis({4,0,0}, R)')"
   ]
  },
  {
   "cell_type": "code",
   "execution_count": 28,
   "metadata": {},
   "outputs": [
    {
     "data": {
      "text/plain": [
       "32"
      ]
     },
     "execution_count": 28,
     "metadata": {},
     "output_type": "execute_result"
    }
   ],
   "source": [
    "macaulay2('rank source basis({4,0,1}, R)')"
   ]
  },
  {
   "cell_type": "code",
   "execution_count": 29,
   "metadata": {},
   "outputs": [
    {
     "data": {
      "text/plain": [
       "114"
      ]
     },
     "execution_count": 29,
     "metadata": {},
     "output_type": "execute_result"
    }
   ],
   "source": [
    "macaulay2('rank source basis({4,0,2}, R)')"
   ]
  },
  {
   "cell_type": "code",
   "execution_count": 34,
   "metadata": {},
   "outputs": [
    {
     "data": {
      "image/png": "[encoded data removed]",
      "text/latex": [
       "$\\displaystyle 5$"
      ],
      "text/plain": [
       "5"
      ]
     },
     "execution_count": 34,
     "metadata": {},
     "output_type": "execute_result"
    }
   ],
   "source": [
    "Euler(4,0,0)"
   ]
  },
  {
   "cell_type": "code",
   "execution_count": 35,
   "metadata": {},
   "outputs": [
    {
     "data": {
      "image/png": "[encoded data removed]",
      "text/latex": [
       "$\\displaystyle 27$"
      ],
      "text/plain": [
       "27"
      ]
     },
     "execution_count": 35,
     "metadata": {},
     "output_type": "execute_result"
    }
   ],
   "source": [
    "Euler(4,0,1)"
   ]
  },
  {
   "cell_type": "code",
   "execution_count": 36,
   "metadata": {},
   "outputs": [
    {
     "data": {
      "image/png": "[encoded data removed]",
      "text/latex": [
       "$\\displaystyle 82$"
      ],
      "text/plain": [
       "82"
      ]
     },
     "execution_count": 36,
     "metadata": {},
     "output_type": "execute_result"
    }
   ],
   "source": [
    "Euler(4,0,2)"
   ]
  },
  {
   "cell_type": "code",
   "execution_count": 37,
   "metadata": {},
   "outputs": [
    {
     "data": {
      "image/png": "[encoded data removed]",
      "text/latex": [
       "$\\displaystyle 15$"
      ],
      "text/plain": [
       "15"
      ]
     },
     "execution_count": 37,
     "metadata": {},
     "output_type": "execute_result"
    }
   ],
   "source": [
    "Euler(4,2,0)"
   ]
  },
  {
   "cell_type": "code",
   "execution_count": 38,
   "metadata": {},
   "outputs": [
    {
     "data": {
      "image/png": "[encoded data removed]",
      "text/latex": [
       "$\\displaystyle 27$"
      ],
      "text/plain": [
       "27"
      ]
     },
     "execution_count": 38,
     "metadata": {},
     "output_type": "execute_result"
    }
   ],
   "source": [
    "Euler(4,0,1)"
   ]
  },
  {
   "cell_type": "code",
   "execution_count": 39,
   "metadata": {},
   "outputs": [
    {
     "data": {
      "image/png": "[encoded data removed]",
      "text/latex": [
       "$\\displaystyle 82$"
      ],
      "text/plain": [
       "82"
      ]
     },
     "execution_count": 39,
     "metadata": {},
     "output_type": "execute_result"
    }
   ],
   "source": [
    "Euler(4,1,2)"
   ]
  },
  {
   "cell_type": "code",
   "execution_count": 51,
   "metadata": {},
   "outputs": [
    {
     "data": {
      "text/plain": [
       "{-4, -1, -2} | z1^6z2w1^2     |\n",
       "{-4, -1, -2} | z1^6z2w1w3     |\n",
       "{-4, -1, -2} | z1^6z2w3^2     |\n",
       "{-4, -1, -2} | z1^6z4w1^2     |\n",
       "{-4, -1, -2} | z1^6z4w1w3     |\n",
       "{-4, -1, -2} | z1^6z4w3^2     |\n",
       "{-4, -1, -2} | z1^5z2^2w1w2   |\n",
       "{-4, -1, -2} | z1^5z2^2w1w4   |\n",
       "{-4, -1, -2} | z1^5z2^2w2w3   |\n",
       "{-4, -1, -2} | z1^5z2^2w3w4   |\n",
       "{-4, -1, -2} | z1^5z2z4w1w2   |\n",
       "{-4, -1, -2} | z1^5z2z4w1w4   |\n",
       "{-4, -1, -2} | z1^5z2z4w2w3   |\n",
       "{-4, -1, -2} | z1^5z2z4w3w4   |\n",
       "{-4, -1, -2} | z1^5z4^2w1w2   |\n",
       "{-4, -1, -2} | z1^5z4^2w1w4   |\n",
       "{-4, -1, -2} | z1^5z4^2w2w3   |\n",
       "{-4, -1, -2} | z1^5z4^2w3w4   |\n",
       "{-4, -1, -2} | z1^4z2^3w2^2   |\n",
       "{-4, -1, -2} | z1^4z2^3w2w4   |\n",
       "{-4, -1, -2} | z1^4z2^3w4^2   |\n",
       "{-4, -1, -2} | z1^4z2^2z4w2^2 |\n",
       "{-4, -1, -2} | z1^4z2^2z4w2w4 |\n",
       "{-4, -1, -2} | z1^4z2^2z4w4^2 |\n",
       "{-4, -1, -2} | z1^4z2z4^2w2^2 |\n",
       "{-4, -1, -2} | z1^4z2z4^2w2w4 |\n",
       "{-4, -1, -2} | z1^4z2z4^2w4^2 |\n",
       "{-4, -1, -2} | z1^4z4^3w2^2   |\n",
       "{-4, -1, -2} | z1^4z4^3w2w4   |\n",
       "{-4, -1, -2} | z1^4z4^3w4^2   |\n",
       "{-4, -1, -2} | z2^3z3^4w2^2   |\n",
       "{-4, -1, -2} | z2^3z3^4w2w4   |\n",
       "{-4, -1, -2} | z2^3z3^4w4^2   |\n",
       "{-4, -1, -2} | z2^2z3^5w1w2   |\n",
       "{-4, -1, -2} | z2^2z3^5w1w4   |\n",
       "{-4, -1, -2} | z2^2z3^5w2w3   |\n",
       "{-4, -1, -2} | z2^2z3^5w3w4   |\n",
       "{-4, -1, -2} | z2^2z3^4z4w2^2 |\n",
       "{-4, -1, -2} | z2^2z3^4z4w2w4 |\n",
       "{-4, -1, -2} | z2^2z3^4z4w4^2 |\n",
       "{-4, -1, -2} | z2z3^6w1^2     |\n",
       "{-4, -1, -2} | z2z3^6w1w3     |\n",
       "{-4, -1, -2} | z2z3^6w3^2     |\n",
       "{-4, -1, -2} | z2z3^5z4w1w2   |\n",
       "{-4, -1, -2} | z2z3^5z4w1w4   |\n",
       "{-4, -1, -2} | z2z3^5z4w2w3   |\n",
       "{-4, -1, -2} | z2z3^5z4w3w4   |\n",
       "{-4, -1, -2} | z2z3^4z4^2w2^2 |\n",
       "{-4, -1, -2} | z2z3^4z4^2w2w4 |\n",
       "{-4, -1, -2} | z2z3^4z4^2w4^2 |\n",
       "{-4, -1, -2} | z3^6z4w1^2     |\n",
       "{-4, -1, -2} | z3^6z4w1w3     |\n",
       "{-4, -1, -2} | z3^6z4w3^2     |\n",
       "{-4, -1, -2} | z3^5z4^2w1w2   |\n",
       "{-4, -1, -2} | z3^5z4^2w1w4   |\n",
       "{-4, -1, -2} | z3^5z4^2w2w3   |\n",
       "{-4, -1, -2} | z3^5z4^2w3w4   |\n",
       "{-4, -1, -2} | z3^4z4^3w2^2   |\n",
       "{-4, -1, -2} | z3^4z4^3w2w4   |\n",
       "{-4, -1, -2} | z3^4z4^3w4^2   |"
      ]
     },
     "execution_count": 51,
     "metadata": {},
     "output_type": "execute_result"
    }
   ],
   "source": [
    "macaulay2('transpose basis({4,1,2}, Q)')"
   ]
  },
  {
   "cell_type": "code",
   "execution_count": 43,
   "metadata": {},
   "outputs": [
    {
     "data": {
      "text/plain": [
       "{-4, 0, -1} | z1^5w1       |\n",
       "{-4, 0, -1} | z1^5w3       |\n",
       "{-4, 0, -1} | z1^4z2w2     |\n",
       "{-4, 0, -1} | z1^4z2w4     |\n",
       "{-4, 0, -1} | z1^4z3w1     |\n",
       "{-4, 0, -1} | z1^4z3w3     |\n",
       "{-4, 0, -1} | z1^4z4w2     |\n",
       "{-4, 0, -1} | z1^4z4w4     |\n",
       "{-4, 0, -1} | z1^3z2z3w2   |\n",
       "{-4, 0, -1} | z1^3z2z3w4   |\n",
       "{-4, 0, -1} | z1^3z3^2w1   |\n",
       "{-4, 0, -1} | z1^3z3^2w3   |\n",
       "{-4, 0, -1} | z1^3z3z4w2   |\n",
       "{-4, 0, -1} | z1^3z3z4w4   |\n",
       "{-4, 0, -1} | z1^2z2z3^2w2 |\n",
       "{-4, 0, -1} | z1^2z2z3^2w4 |\n",
       "{-4, 0, -1} | z1^2z3^3w1   |\n",
       "{-4, 0, -1} | z1^2z3^3w3   |\n",
       "{-4, 0, -1} | z1^2z3^2z4w2 |\n",
       "{-4, 0, -1} | z1^2z3^2z4w4 |\n",
       "{-4, 0, -1} | z1z2z3^3w2   |\n",
       "{-4, 0, -1} | z1z2z3^3w4   |\n",
       "{-4, 0, -1} | z1z3^4w1     |\n",
       "{-4, 0, -1} | z1z3^4w3     |\n",
       "{-4, 0, -1} | z1z3^3z4w2   |\n",
       "{-4, 0, -1} | z1z3^3z4w4   |\n",
       "{-4, 0, -1} | z2z3^4w2     |\n",
       "{-4, 0, -1} | z2z3^4w4     |\n",
       "{-4, 0, -1} | z3^5w1       |\n",
       "{-4, 0, -1} | z3^5w3       |\n",
       "{-4, 0, -1} | z3^4z4w2     |\n",
       "{-4, 0, -1} | z3^4z4w4     |\n",
       "\n",
       "        32       1\n",
       "Matrix R   <--- R"
      ]
     },
     "execution_count": 43,
     "metadata": {},
     "output_type": "execute_result"
    }
   ],
   "source": [
    "macaulay2.eval('transpose basis({4,0,1}, R)')"
   ]
  },
  {
   "cell_type": "code",
   "execution_count": 57,
   "metadata": {},
   "outputs": [
    {
     "data": {
      "text/plain": [
       "{-4, -2, -1} | z1^5z2^2w1   |\n",
       "{-4, -2, -1} | z1^5z2^2w3   |\n",
       "{-4, -2, -1} | z1^5z2z4w1   |\n",
       "{-4, -2, -1} | z1^5z2z4w3   |\n",
       "{-4, -2, -1} | z1^5z4^2w1   |\n",
       "{-4, -2, -1} | z1^5z4^2w3   |\n",
       "{-4, -2, -1} | z1^4z2^3w2   |\n",
       "{-4, -2, -1} | z1^4z2^3w4   |\n",
       "{-4, -2, -1} | z1^4z2^2z4w2 |\n",
       "{-4, -2, -1} | z1^4z2^2z4w4 |\n",
       "{-4, -2, -1} | z1^4z2z4^2w2 |\n",
       "{-4, -2, -1} | z1^4z2z4^2w4 |\n",
       "{-4, -2, -1} | z1^4z4^3w2   |\n",
       "{-4, -2, -1} | z1^4z4^3w4   |\n",
       "{-4, -2, -1} | z2^3z3^4w2   |\n",
       "{-4, -2, -1} | z2^3z3^4w4   |\n",
       "{-4, -2, -1} | z2^2z3^5w1   |\n",
       "{-4, -2, -1} | z2^2z3^5w3   |\n",
       "{-4, -2, -1} | z2^2z3^4z4w2 |\n",
       "{-4, -2, -1} | z2^2z3^4z4w4 |\n",
       "{-4, -2, -1} | z2z3^5z4w1   |\n",
       "{-4, -2, -1} | z2z3^5z4w3   |\n",
       "{-4, -2, -1} | z2z3^4z4^2w2 |\n",
       "{-4, -2, -1} | z2z3^4z4^2w4 |\n",
       "{-4, -2, -1} | z3^5z4^2w1   |\n",
       "{-4, -2, -1} | z3^5z4^2w3   |\n",
       "{-4, -2, -1} | z3^4z4^3w2   |\n",
       "{-4, -2, -1} | z3^4z4^3w4   |\n",
       "\n",
       "        28       1\n",
       "Matrix Q   <--- Q"
      ]
     },
     "execution_count": 57,
     "metadata": {},
     "output_type": "execute_result"
    }
   ],
   "source": [
    "macaulay2.eval('transpose basis({4,2,1}, Q)')"
   ]
  },
  {
   "cell_type": "code",
   "execution_count": 47,
   "metadata": {},
   "outputs": [
    {
     "data": {
      "image/png": "[encoded data removed]",
      "text/latex": [
       "$\\displaystyle 5$"
      ],
      "text/plain": [
       "5"
      ]
     },
     "execution_count": 47,
     "metadata": {},
     "output_type": "execute_result"
    }
   ],
   "source": [
    "Euler(4,2,0)"
   ]
  },
  {
   "cell_type": "code",
   "execution_count": 55,
   "metadata": {},
   "outputs": [
    {
     "data": {
      "image/png": "[encoded data removed]",
      "text/latex": [
       "$\\displaystyle 61$"
      ],
      "text/plain": [
       "61"
      ]
     },
     "execution_count": 55,
     "metadata": {},
     "output_type": "execute_result"
    }
   ],
   "source": [
    "Euler(4,2,1)"
   ]
  },
  {
   "cell_type": "code",
   "execution_count": 54,
   "metadata": {},
   "outputs": [
    {
     "data": {
      "image/png": "[encoded data removed]",
      "text/latex": [
       "$\\displaystyle 158$"
      ],
      "text/plain": [
       "158"
      ]
     },
     "execution_count": 54,
     "metadata": {},
     "output_type": "execute_result"
    }
   ],
   "source": [
    "Euler(4,2,2)"
   ]
  },
  {
   "cell_type": "code",
   "execution_count": 60,
   "metadata": {},
   "outputs": [],
   "source": [
    "macaulay2.eval('R = ZZ/101[z1,z2,z3,z4,w1,w2,w3,w4,Degrees=>{{1,0,0,1},{0,1,0,0},{1,0,1,0},{0,1,0,1},{-1,0,1,1},{0,-1,1,1},{-1,0,1,},{0,-1,1,0}}]');"
   ]
  },
  {
   "cell_type": "code",
   "execution_count": 61,
   "metadata": {},
   "outputs": [
    {
     "data": {
      "text/plain": [
       "stdio:77:11:(3): error: expected length of degree bound not to exceed that of ring"
      ]
     },
     "execution_count": 61,
     "metadata": {},
     "output_type": "execute_result"
    }
   ],
   "source": [
    "macaulay2.eval('transpose basis({4,0,1,1}, R)')"
   ]
  },
  {
   "cell_type": "code",
   "execution_count": null,
   "metadata": {},
   "outputs": [],
   "source": []
  }
 ],
 "metadata": {
  "kernelspec": {
   "display_name": "SageMath 9.4",
   "language": "sage",
   "name": "sagemath-9.4"
  },
  "language_info": {
   "codemirror_mode": {
    "name": "ipython",
    "version": 3
   },
   "file_extension": ".py",
   "mimetype": "text/x-python",
   "name": "python",
   "nbconvert_exporter": "python",
   "pygments_lexer": "ipython3",
   "version": "3.9.5"
  }
 },
 "nbformat": 4,
 "nbformat_minor": 5
}
