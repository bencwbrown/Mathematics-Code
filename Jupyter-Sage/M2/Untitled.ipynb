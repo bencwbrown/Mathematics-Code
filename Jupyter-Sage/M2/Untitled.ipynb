{
 "cells": [
  {
   "cell_type": "code",
   "execution_count": null,
   "metadata": {},
   "outputs": [],
   "source": [
    "macaulay2('2+2')"
   ]
  },
  {
   "cell_type": "code",
   "execution_count": null,
   "metadata": {},
   "outputs": [],
   "source": []
  }
 ],
 "metadata": {
  "kernelspec": {
   "display_name": "Macaulay2",
   "language": "macaulay2",
   "name": "m2kernel"
  }
 },
 "nbformat": 4,
 "nbformat_minor": 2
}
