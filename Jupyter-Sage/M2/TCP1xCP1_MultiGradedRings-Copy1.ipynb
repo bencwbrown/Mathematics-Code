{
 "cells": [
  {
   "cell_type": "code",
   "execution_count": 2,
   "metadata": {},
   "outputs": [],
   "source": [
    "from sympy import *\n",
    "from sympy.vector import Vector\n",
    "from sympy.vector import CoordSys3D\n",
    "\n",
    "n, m, d, k = symbols( 'n m d k', positive=True, integer=True)\n",
    "init_printing(use_unicode=True)\n",
    "\n",
    "def Euler(n,d):    \n",
    "    return simplify(factor( (n + d + 1)*(d + 1) ) )\n",
    "\n",
    "\n",
    "def ProdEuler(n,m,d):    \n",
    "    return simplify(factor( Rational(1, 6) * (d + 1) * (d + 2) * (d**2 + 2*(d*n + d*m) + 3*(d + n*m  + n + m + 1) ) ))\n",
    "\n",
    "def Diff(n,m,d):\n",
    "    return factor( ( Euler(n,d) * Euler(m,d) ) - ProdEuler(n,m,d) )"
   ]
  },
  {
   "cell_type": "code",
   "execution_count": null,
   "metadata": {},
   "outputs": [],
   "source": [
    "macaulay2.eval(' ')"
   ]
  },
  {
   "cell_type": "markdown",
   "metadata": {},
   "source": [
    "$$ R = \\mathbb{C}[z_{1}, z_{2}, z_{3}, z_{4}; w_{1}, w_{2}, w_{3}, w_{4}], $$\n",
    "where\n",
    "$$ \\deg(z_{1}) = \\deg(z_{3}) = (1,0,0), \\quad \\deg(z_{3}) = \\deg(z_{4}) = (0,1,0), $$\n",
    "and\n",
    "$$ \\deg(w_{1}) = \\deg(w_{3}) = (1,0,-1), \\quad \\deg(w_{3}) = \\deg(w_{4}) = (0,1,-1). $$"
   ]
  },
  {
   "cell_type": "code",
   "execution_count": null,
   "metadata": {},
   "outputs": [],
   "source": [
    "macaulay2.eval('R = ZZ/101[z1,z3,w1,w3,Degrees=>{{1,0,0},{1,0,0},{-1,0,1},{-1,0,1}}]');\n",
    "macaulay2.eval('S = ZZ/101[z2,z4,w2,w4,Degrees=>{{0,1,0},{0,1,0},{0,-1,1},{0,-1,1}}]');\n",
    "macaulay2.eval('T = ZZ/101[z1,z2,z3,z4,w1,w2,w3,w4,Degrees=>{{1,0,0},{0,1,0},{1,0,0},{0,1,0},{-1,0,1},{0,-1,1},{-1,0,1},{0,-1,1}}]');\n",
    "macaulay2.eval('I = ideal(z1*z2 - z3*z4)');\n",
    "macaulay2.eval('Q = T/I');"
   ]
  },
  {
   "cell_type": "code",
   "execution_count": null,
   "metadata": {},
   "outputs": [],
   "source": [
    "macaulay2.eval('T = ZZ/101[z1,z2,z3,z4,w1,w2,w3,w4,Degrees=>{{1,0,0},{0,1,0},{1,0,0},{0,1,0},{-1,0,1},{0,-1,1},{-1,0,1},{0,-1,1}}]');\n",
    "macaulay2.eval('I = ideal(z1*z2 - z3*z4)');\n",
    "macaulay2.eval('Q = T/I');\n",
    "macaulay2('gens Q')"
   ]
  },
  {
   "cell_type": "code",
   "execution_count": null,
   "metadata": {},
   "outputs": [],
   "source": [
    "macaulay2('rank source basis({1,1,0}, T)')"
   ]
  },
  {
   "cell_type": "code",
   "execution_count": null,
   "metadata": {},
   "outputs": [],
   "source": [
    "macaulay2('rank source basis({1,1,1}, T)')"
   ]
  },
  {
   "cell_type": "code",
   "execution_count": null,
   "metadata": {},
   "outputs": [],
   "source": [
    "macaulay2('rank source basis({1,1,2}, T)')"
   ]
  },
  {
   "cell_type": "code",
   "execution_count": 3,
   "metadata": {},
   "outputs": [
    {
     "data": {
      "image/png": "[encoded data removed]",
      "text/latex": [
       "$\\displaystyle 61$"
      ],
      "text/plain": [
       "61"
      ]
     },
     "execution_count": 3,
     "metadata": {},
     "output_type": "execute_result"
    }
   ],
   "source": [
    "ProdEuler(4,2,1)"
   ]
  },
  {
   "cell_type": "code",
   "execution_count": null,
   "metadata": {},
   "outputs": [],
   "source": [
    "ProdEuler(1,1,1)"
   ]
  },
  {
   "cell_type": "code",
   "execution_count": null,
   "metadata": {},
   "outputs": [],
   "source": [
    "macaulay2('transpose basis({1,1,0}, T)')"
   ]
  },
  {
   "cell_type": "code",
   "execution_count": null,
   "metadata": {},
   "outputs": [],
   "source": [
    "macaulay2('transpose basis({1,1,1}, T)')"
   ]
  },
  {
   "cell_type": "markdown",
   "metadata": {},
   "source": [
    "For $(n,m,d) = (1,1,0)$:"
   ]
  },
  {
   "cell_type": "code",
   "execution_count": null,
   "metadata": {},
   "outputs": [],
   "source": [
    "print('a', macaulay2('rank source basis({1,0,0}, R)'))"
   ]
  },
  {
   "cell_type": "code",
   "execution_count": null,
   "metadata": {},
   "outputs": [],
   "source": [
    "print('For z1, z3, w1, w3, the monomial no. is:', macaulay2('rank source basis({1,0,0}, R)'))\n",
    "print('For z2, z4, w2, w4, the monomial no. is:', macaulay2('rank source basis({0,1,0}, S)'))\n",
    "print('For T*(CP1 x CP1), the monomial no. is:', macaulay2('rank source basis({1,1,0}, T)'))\n",
    "print('The Index Character calculates:', ProdEuler(1,1,0) )"
   ]
  },
  {
   "cell_type": "markdown",
   "metadata": {},
   "source": [
    "For $(n,m,d) = (1,1,1)$:"
   ]
  },
  {
   "cell_type": "code",
   "execution_count": null,
   "metadata": {},
   "outputs": [],
   "source": [
    "print('For z1, z3, w1, w3, the monomial no. is:', macaulay2('rank source basis({1,0,1}, R)'))\n",
    "print('For z2, z4, w2, w4, the monomial no. is:', macaulay2('rank source basis({0,1,1}, S)'))\n",
    "print('For T*(CP1 x CP1), the monomial no. is:', macaulay2('rank source basis({1,1,1}, T)'))\n",
    "print('The Index Character calculates:', ProdEuler(1,1,1))"
   ]
  },
  {
   "cell_type": "markdown",
   "metadata": {},
   "source": [
    "For $(n,m,d) = (1,1,2)$:"
   ]
  },
  {
   "cell_type": "code",
   "execution_count": null,
   "metadata": {},
   "outputs": [],
   "source": [
    "print('For z1, z3, w1, w3, the monomial no. is:', macaulay2('rank source basis({1,0,2}, R)'))\n",
    "print('For z2, z4, w2, w4, the monomial no. is:', macaulay2('rank source basis({0,1,2}, S)'))\n",
    "print('For T*(CP1 x CP1), the monomial no. is:', macaulay2('rank source basis({1,1,2}, T)'))\n",
    "print('The Index Character calculates:', ProdEuler(1,1,2))"
   ]
  },
  {
   "cell_type": "markdown",
   "metadata": {},
   "source": [
    "For $(n,m,d) = (1,1,2)$:"
   ]
  },
  {
   "cell_type": "code",
   "execution_count": null,
   "metadata": {},
   "outputs": [],
   "source": [
    "print('For z1, z3, w1, w3, the monomial no. is:', macaulay2('rank source basis({1,0,3}, R)'))\n",
    "print('For z2, z4, w2, w4, the monomial no. is:', macaulay2('rank source basis({0,1,3}, S)'))\n",
    "print('For T*(CP1 x CP1), the monomial no. is:', macaulay2('rank source basis({1,1,3}, T)'))\n",
    "print('The Index Character calculates:', ProdEuler(1,1,3))"
   ]
  },
  {
   "cell_type": "code",
   "execution_count": null,
   "metadata": {},
   "outputs": [],
   "source": [
    "print(macaulay2('transpose basis({1,0,0}, R)'))\n",
    "print('')\n",
    "print(macaulay2('transpose basis({0,1,0}, S)'))\n",
    "print('')\n",
    "print(macaulay2('transpose basis({1,1,0}, T)'))"
   ]
  },
  {
   "cell_type": "code",
   "execution_count": null,
   "metadata": {},
   "outputs": [],
   "source": [
    "print(macaulay2('transpose basis({1,0,1}, R)'))\n",
    "print('')\n",
    "print(macaulay2('transpose basis({0,1,1}, S)'))\n",
    "print('')\n",
    "print(macaulay2('transpose basis({1,1,1}, T)'))"
   ]
  },
  {
   "cell_type": "code",
   "execution_count": null,
   "metadata": {},
   "outputs": [],
   "source": [
    "print(macaulay2('transpose basis({1,0,2}, R)'))\n",
    "print('')\n",
    "print(macaulay2('transpose basis({0,1,2}, S)'))\n",
    "print('')\n",
    "print(macaulay2('transpose basis({1,1,2}, T)'))"
   ]
  },
  {
   "cell_type": "markdown",
   "metadata": {},
   "source": [
    "$(n,m,d) = (1,0,0):$"
   ]
  },
  {
   "cell_type": "code",
   "execution_count": null,
   "metadata": {},
   "outputs": [],
   "source": [
    "print('For z1, z3, w1, w3, the monomial no. is:', macaulay2('rank source basis({1,0,0}, R)'))\n",
    "print('For z2, z4, w2, w4, the monomial no. is:', macaulay2('rank source basis({0,0,0}, S)'))\n",
    "print('For T*(CP1 x CP1), the monomial no. is:', macaulay2('rank source basis({1,0,0}, T)'))\n",
    "print('The Index Character calculates:', ProdEuler(1,0,0))"
   ]
  },
  {
   "cell_type": "code",
   "execution_count": null,
   "metadata": {},
   "outputs": [],
   "source": [
    "print(macaulay2('transpose basis({1,0,0}, R)'))\n",
    "print('')\n",
    "print(macaulay2('transpose basis({0,0,0}, S)'))\n",
    "print('')\n",
    "print(macaulay2('transpose basis({1,0,0}, T)'))"
   ]
  },
  {
   "cell_type": "markdown",
   "metadata": {},
   "source": [
    "$(n,m,d) = (1,0,1):$"
   ]
  },
  {
   "cell_type": "code",
   "execution_count": null,
   "metadata": {
    "scrolled": true
   },
   "outputs": [],
   "source": [
    "print('For z1, z3, w1, w3, the monomial no. is:', macaulay2('rank source basis({1,0,1}, R)'))\n",
    "print('For z2, z4, w2, w4, the monomial no. is:', macaulay2('rank source basis({0,0,1}, S)'))\n",
    "print('For T*(CP1 x CP1), the monomial no. is:', macaulay2('rank source basis({1,0,1}, T)'))\n",
    "print('The Index Character calculates:', ProdEuler(1,0,1))"
   ]
  },
  {
   "cell_type": "code",
   "execution_count": null,
   "metadata": {},
   "outputs": [],
   "source": [
    "print(macaulay2('transpose basis({1,0,1}, R)'))\n",
    "print('')\n",
    "print(macaulay2('transpose basis({0,0,1}, S)'))\n",
    "print('')\n",
    "print(macaulay2('transpose basis({1,0,1}, T)'))"
   ]
  },
  {
   "cell_type": "markdown",
   "metadata": {},
   "source": [
    "$(n,m,d) = (1,0,2):$"
   ]
  },
  {
   "cell_type": "code",
   "execution_count": null,
   "metadata": {},
   "outputs": [],
   "source": [
    "print('For z1, z3, w1, w3, the monomial no. is:', macaulay2('rank source basis({1,0,2}, R)'))\n",
    "print('For z2, z4, w2, w4, the monomial no. is:', macaulay2('rank source basis({0,0,2}, S)'))\n",
    "print('For T*(CP1 x CP1), the monomial no. is:', macaulay2('rank source basis({1,0,2}, T)'))\n",
    "print('The Index Character calculates:', ProdEuler(1,0,2))"
   ]
  },
  {
   "cell_type": "code",
   "execution_count": null,
   "metadata": {},
   "outputs": [],
   "source": [
    "print(macaulay2('transpose basis({1,0,2}, R)'))\n",
    "print('')\n",
    "print(macaulay2('transpose basis({0,0,2}, S)'))\n",
    "print('')\n",
    "print(macaulay2('transpose basis({1,0,2}, T)'))"
   ]
  },
  {
   "cell_type": "markdown",
   "metadata": {},
   "source": [
    "$(n,m,d) = (4,0,0):$"
   ]
  },
  {
   "cell_type": "code",
   "execution_count": null,
   "metadata": {},
   "outputs": [],
   "source": [
    "print('For z1, z3, w1, w3, the monomial no. is:', macaulay2('rank source basis({4,0,0}, R)'))\n",
    "print('For z2, z4, w2, w4, the monomial no. is:', macaulay2('rank source basis({0,0,0}, S)'))\n",
    "print('For T*(CP1 x CP1), the monomial no. is:', macaulay2('rank source basis({4,0,0}, T)'))\n",
    "print('The Index Character calculates:', ProdEuler(4,0,0))"
   ]
  },
  {
   "cell_type": "code",
   "execution_count": null,
   "metadata": {},
   "outputs": [],
   "source": [
    "print(macaulay2('transpose basis({4,0,0}, R)'))\n",
    "print('')\n",
    "print(macaulay2('transpose basis({0,0,0}, S)'))\n",
    "print('')\n",
    "print(macaulay2('transpose basis({4,0,0}, T)'))"
   ]
  },
  {
   "cell_type": "markdown",
   "metadata": {},
   "source": [
    "$(n,m,d) = (4,0,1):$"
   ]
  },
  {
   "cell_type": "code",
   "execution_count": null,
   "metadata": {},
   "outputs": [],
   "source": [
    "print('For z1, z3, w1, w3, the monomial no. is:', macaulay2('rank source basis({4,0,1}, R)'))\n",
    "print('For z2, z4, w2, w4, the monomial no. is:', macaulay2('rank source basis({0,0,1}, S)'))\n",
    "print('For T*(CP1 x CP1), the monomial no. is:', macaulay2('rank source basis({4,0,1}, T)'))\n",
    "print('The Index Character calculates:', ProdEuler(4,0,1))"
   ]
  },
  {
   "cell_type": "code",
   "execution_count": null,
   "metadata": {},
   "outputs": [],
   "source": [
    "print(macaulay2('transpose basis({4,0,1}, R)'))\n",
    "print('')\n",
    "print(macaulay2('transpose basis({0,0,1}, S)'))\n",
    "print('')\n",
    "print(macaulay2('transpose basis({4,0,1}, T)'))"
   ]
  },
  {
   "cell_type": "markdown",
   "metadata": {},
   "source": [
    "$(n,m,d) = (4,0,2):$"
   ]
  },
  {
   "cell_type": "code",
   "execution_count": null,
   "metadata": {},
   "outputs": [],
   "source": [
    "print('For z1, z3, w1, w3, the monomial no. is:', macaulay2('rank source basis({4,0,2}, R)'))\n",
    "print('For z2, z4, w2, w4, the monomial no. is:', macaulay2('rank source basis({0,0,2}, S)'))\n",
    "print('For T*(CP1 x CP1), the monomial no. is:', macaulay2('rank source basis({4,0,2}, T)'))\n",
    "print('The Index Character calculates:', ProdEuler(4,0,2))"
   ]
  },
  {
   "cell_type": "code",
   "execution_count": null,
   "metadata": {},
   "outputs": [],
   "source": [
    "print('For z1, z3, w1, w3, the monomial no. is:', macaulay2('rank source basis({0,0,0}, R)'))\n",
    "print('For z2, z4, w2, w4, the monomial no. is:', macaulay2('rank source basis({0,0,0}, S)'))\n",
    "print('For T*(CP1 x CP1), the monomial no. is:', macaulay2('rank source basis({0,0,0}, T)'))\n",
    "print('The Index Character calculates:', ProdEuler(0,0,0))"
   ]
  },
  {
   "cell_type": "code",
   "execution_count": null,
   "metadata": {},
   "outputs": [],
   "source": [
    "print('For z1, z3, w1, w3, the monomial no. is:', macaulay2('rank source basis({0,0,1}, R)'))\n",
    "print('For z2, z4, w2, w4, the monomial no. is:', macaulay2('rank source basis({0,0,1}, S)'))\n",
    "print('For T*(CP1 x CP1), the monomial no. is:', macaulay2('rank source basis({0,0,1}, T)'))\n",
    "print('The Index Character calculates:', ProdEuler(0,0,1))"
   ]
  },
  {
   "cell_type": "code",
   "execution_count": null,
   "metadata": {},
   "outputs": [],
   "source": [
    "print('For z1, z3, w1, w3, the monomial no. is:', macaulay2('rank source basis({0,0,2}, R)'))\n",
    "print('For z2, z4, w2, w4, the monomial no. is:', macaulay2('rank source basis({0,0,2}, S)'))\n",
    "print('For T*(CP1 x CP1), the monomial no. is:', macaulay2('rank source basis({0,0,2}, T)'))\n",
    "print('The Index Character calculates:', ProdEuler(0,0,2))"
   ]
  },
  {
   "cell_type": "code",
   "execution_count": null,
   "metadata": {},
   "outputs": [],
   "source": [
    "print('For z1, z3, w1, w3, the monomial no. is:', macaulay2('rank source basis({0,0,3}, R)'))\n",
    "print('For z2, z4, w2, w4, the monomial no. is:', macaulay2('rank source basis({0,0,3}, S)'))\n",
    "print('For T*(CP1 x CP1), the monomial no. is:', macaulay2('rank source basis({0,0,3}, T)'))\n",
    "print('The Index Character calculates:', ProdEuler(0,0,3))"
   ]
  },
  {
   "cell_type": "code",
   "execution_count": null,
   "metadata": {},
   "outputs": [],
   "source": [
    "ProdEuler(0,0,2)"
   ]
  },
  {
   "cell_type": "code",
   "execution_count": null,
   "metadata": {},
   "outputs": [],
   "source": [
    "ProdEuler(m,0,d)"
   ]
  },
  {
   "cell_type": "code",
   "execution_count": null,
   "metadata": {},
   "outputs": [],
   "source": [
    "macaulay2('rank source basis({0,0,2}, T)')"
   ]
  },
  {
   "cell_type": "code",
   "execution_count": null,
   "metadata": {},
   "outputs": [],
   "source": []
  }
 ],
 "metadata": {
  "kernelspec": {
   "display_name": "SageMath 9.4",
   "language": "sage",
   "name": "sagemath-9.4"
  },
  "language_info": {
   "codemirror_mode": {
    "name": "ipython",
    "version": 3
   },
   "file_extension": ".py",
   "mimetype": "text/x-python",
   "name": "python",
   "nbconvert_exporter": "python",
   "pygments_lexer": "ipython3",
   "version": "3.9.5"
  }
 },
 "nbformat": 4,
 "nbformat_minor": 5
}
