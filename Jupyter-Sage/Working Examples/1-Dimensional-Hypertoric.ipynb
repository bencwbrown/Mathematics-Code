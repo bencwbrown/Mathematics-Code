{
 "cells": [
  {
   "cell_type": "code",
   "execution_count": 3,
   "metadata": {},
   "outputs": [],
   "source": [
    "from sympy import *\n",
    "from sympy.vector import Vector\n",
    "from sympy.vector import CoordSys3D\n",
    "import itertools\n",
    "N = CoordSys3D('N')\n",
    "\n",
    "s, t, k, l, d, z = symbols( 's t k l d z' )\n",
    "init_printing(use_unicode=True)"
   ]
  },
  {
   "cell_type": "markdown",
   "metadata": {},
   "source": [
    " "
   ]
  },
  {
   "cell_type": "code",
   "execution_count": 4,
   "metadata": {},
   "outputs": [
    {
     "data": {
      "image/png": "[encoded data removed]",
      "text/latex": [
       "$\\displaystyle \\frac{1}{1 - e^{t}} + \\frac{e^{k t}}{1 - e^{- t}}$"
      ],
      "text/plain": [
       "            k⋅t \n",
       "  1        ℯ    \n",
       "────── + ───────\n",
       "     t        -t\n",
       "1 - ℯ    1 - ℯ  "
      ]
     },
     "execution_count": 4,
     "metadata": {},
     "output_type": "execute_result"
    }
   ],
   "source": [
    "def Exp(t):\n",
    "    return exp( 2*pi*I*t )\n",
    "\n",
    "def SmoothSum1(t):\n",
    "    return 1 / ( 1 - exp(t) ) \n",
    "\n",
    "def SmoothSum2(t):\n",
    "    return exp(k*t) / ( 1 - exp(-t) )\n",
    "\n",
    "#def Sum3(t):\n",
    "#    return exp(t)*( Rational(1,2) ) * ( 1 / ( ( 1 - exp( Rational(5,2)*t ) ) * ( 1 - exp( Rational(-1,2)*t ) ) )  + 1 / ( ( 1 + #exp( Rational(5,2)*t ) ) * ( 1 + exp(Rational(-1,2)*t ) ) ) ) \n",
    "\n",
    "def SmoothSum(t):\n",
    "    return SmoothSum1(t) + SmoothSum2(t)\n",
    "\n",
    "SmoothSum(t)"
   ]
  },
  {
   "cell_type": "markdown",
   "metadata": {},
   "source": [
    "Expand the sum as a series around $t = 0:$"
   ]
  },
  {
   "cell_type": "code",
   "execution_count": 5,
   "metadata": {},
   "outputs": [
    {
     "data": {
      "image/png": "[encoded data removed]",
      "text/latex": [
       "$\\displaystyle 1 + t \\left(\\frac{k^{2}}{2} + \\frac{k}{2}\\right) + t^{2} \\left(\\frac{k^{3}}{6} + \\frac{k^{2}}{4} + \\frac{k}{12}\\right) + t^{3} \\left(\\frac{k^{4}}{24} + \\frac{k^{3}}{12} + \\frac{k^{2}}{24}\\right) + t^{4} \\left(\\frac{k^{5}}{120} + \\frac{k^{4}}{48} + \\frac{k^{3}}{72} - \\frac{k}{720}\\right) + t^{5} \\left(\\frac{k^{6}}{720} + \\frac{k^{5}}{240} + \\frac{k^{4}}{288} - \\frac{k^{2}}{1440}\\right) + k + O\\left(t^{6}\\right)$"
      ],
      "text/plain": [
       "      ⎛ 2    ⎞      ⎛ 3    2     ⎞      ⎛ 4    3    2⎞      ⎛  5    4    3    \n",
       "      ⎜k    k⎟    2 ⎜k    k    k ⎟    3 ⎜k    k    k ⎟    4 ⎜ k    k    k     \n",
       "1 + t⋅⎜── + ─⎟ + t ⋅⎜── + ── + ──⎟ + t ⋅⎜── + ── + ──⎟ + t ⋅⎜─── + ── + ── - ─\n",
       "      ⎝2    2⎠      ⎝6    4    12⎠      ⎝24   12   24⎠      ⎝120   48   72   7\n",
       "\n",
       "  ⎞      ⎛  6     5     4     2 ⎞            \n",
       "k ⎟    5 ⎜ k     k     k     k  ⎟        ⎛ 6⎞\n",
       "──⎟ + t ⋅⎜─── + ─── + ─── - ────⎟ + k + O⎝t ⎠\n",
       "20⎠      ⎝720   240   288   1440⎠            "
      ]
     },
     "execution_count": 5,
     "metadata": {},
     "output_type": "execute_result"
    }
   ],
   "source": [
    "def SeriesSum(t):\n",
    "    return series(SmoothSum(t), t, 0)\n",
    "\n",
    "SeriesSum(t)"
   ]
  },
  {
   "cell_type": "code",
   "execution_count": 6,
   "metadata": {},
   "outputs": [
    {
     "data": {
      "image/png": "[encoded data removed]",
      "text/latex": [
       "$\\displaystyle k + 1$"
      ],
      "text/plain": [
       "k + 1"
      ]
     },
     "execution_count": 6,
     "metadata": {},
     "output_type": "execute_result"
    }
   ],
   "source": [
    "def LimitSmoothSum(t):\n",
    "    return limit(SmoothSum(t), t, 0)\n",
    "\n",
    "LimitSmoothSum(t)"
   ]
  },
  {
   "cell_type": "markdown",
   "metadata": {},
   "source": [
    "For hypertoric:"
   ]
  },
  {
   "cell_type": "code",
   "execution_count": 7,
   "metadata": {},
   "outputs": [],
   "source": [
    "def CoreSum0(t,k):\n",
    "    return 1 / ( ( 1 - exp(t) ) * ( 1 - exp(-t ) ) ) \n",
    "\n",
    "def CoreSum1(t,k):\n",
    "    return exp(k*t) / ( ( 1 - exp(t) ) * ( 1 - exp(-t) ) )\n",
    "\n",
    "def ExtendedSum0(t,k,d):\n",
    "    return exp(-d*t) / ( ( 1 - exp(t) ) * ( 1 - exp(t) ) )\n",
    "\n",
    "def ExtendedSum1(t,k,d):\n",
    "    return exp((k + d)*t) / ( ( 1 - exp(-t) ) * ( 1 - exp(-t) ) )\n",
    "\n",
    "\n",
    "def ExtendedSum(t,k,d):\n",
    "    return CoreSum0(t,k) + CoreSum1(t,k) + ExtendedSum0(t,k,d) + ExtendedSum1(t,k,d)"
   ]
  },
  {
   "cell_type": "code",
   "execution_count": 8,
   "metadata": {},
   "outputs": [
    {
     "data": {
      "image/png": "[encoded data removed]",
      "text/latex": [
       "$\\displaystyle \\frac{e^{- d t}}{\\left(1 - e^{t}\\right)^{2}} + \\frac{e^{k t}}{\\left(1 - e^{- t}\\right) \\left(1 - e^{t}\\right)} + \\frac{1}{\\left(1 - e^{- t}\\right) \\left(1 - e^{t}\\right)} + \\frac{e^{t \\left(d + k\\right)}}{\\left(1 - e^{- t}\\right)^{2}}$"
      ],
      "text/plain": [
       "   -d⋅t             k⋅t                                t⋅(d + k)\n",
       "  ℯ                ℯ                     1            ℯ         \n",
       "───────── + ────────────────── + ────────────────── + ──────────\n",
       "        2   ⎛     -t⎞ ⎛     t⎞   ⎛     -t⎞ ⎛     t⎞            2\n",
       "⎛     t⎞    ⎝1 - ℯ  ⎠⋅⎝1 - ℯ ⎠   ⎝1 - ℯ  ⎠⋅⎝1 - ℯ ⎠   ⎛     -t⎞ \n",
       "⎝1 - ℯ ⎠                                              ⎝1 - ℯ  ⎠ "
      ]
     },
     "execution_count": 8,
     "metadata": {},
     "output_type": "execute_result"
    }
   ],
   "source": [
    "ExtendedSum(t,k,d)"
   ]
  },
  {
   "cell_type": "code",
   "execution_count": 9,
   "metadata": {},
   "outputs": [
    {
     "data": {
      "image/png": "[encoded data removed]",
      "text/latex": [
       "$\\displaystyle 1 + t \\left(\\frac{d^{2} k}{2} + \\frac{d k^{2}}{2} + d k + \\frac{k^{2}}{2} + \\frac{k}{2}\\right) + t^{2} \\left(\\frac{d^{4}}{12} + \\frac{d^{3} k}{6} + \\frac{d^{3}}{3} + \\frac{d^{2} k^{2}}{4} + \\frac{d^{2} k}{2} + \\frac{5 d^{2}}{12} + \\frac{d k^{3}}{6} + \\frac{d k^{2}}{2} + \\frac{5 d k}{12} + \\frac{d}{6} + \\frac{k^{3}}{6} + \\frac{k^{2}}{4} + \\frac{k}{12}\\right) + t^{3} \\left(\\frac{d^{4} k}{24} + \\frac{d^{3} k^{2}}{12} + \\frac{d^{3} k}{6} + \\frac{d^{2} k^{3}}{12} + \\frac{d^{2} k^{2}}{4} + \\frac{5 d^{2} k}{24} + \\frac{d k^{4}}{24} + \\frac{d k^{3}}{6} + \\frac{5 d k^{2}}{24} + \\frac{d k}{12} + \\frac{k^{4}}{24} + \\frac{k^{3}}{12} + \\frac{k^{2}}{24}\\right) + t^{4} \\left(\\frac{d^{6}}{360} + \\frac{d^{5} k}{120} + \\frac{d^{5}}{60} + \\frac{d^{4} k^{2}}{48} + \\frac{d^{4} k}{24} + \\frac{5 d^{4}}{144} + \\frac{d^{3} k^{3}}{36} + \\frac{d^{3} k^{2}}{12} + \\frac{5 d^{3} k}{72} + \\frac{d^{3}}{36} + \\frac{d^{2} k^{4}}{48} + \\frac{d^{2} k^{3}}{12} + \\frac{5 d^{2} k^{2}}{48} + \\frac{d^{2} k}{24} + \\frac{d^{2}}{240} + \\frac{d k^{5}}{120} + \\frac{d k^{4}}{24} + \\frac{5 d k^{3}}{72} + \\frac{d k^{2}}{24} + \\frac{d k}{240} - \\frac{d}{360} + \\frac{k^{5}}{120} + \\frac{k^{4}}{48} + \\frac{k^{3}}{72} - \\frac{k}{720}\\right) + t^{5} \\left(\\frac{d^{6} k}{720} + \\frac{d^{5} k^{2}}{240} + \\frac{d^{5} k}{120} + \\frac{d^{4} k^{3}}{144} + \\frac{d^{4} k^{2}}{48} + \\frac{5 d^{4} k}{288} + \\frac{d^{3} k^{4}}{144} + \\frac{d^{3} k^{3}}{36} + \\frac{5 d^{3} k^{2}}{144} + \\frac{d^{3} k}{72} + \\frac{d^{2} k^{5}}{240} + \\frac{d^{2} k^{4}}{48} + \\frac{5 d^{2} k^{3}}{144} + \\frac{d^{2} k^{2}}{48} + \\frac{d^{2} k}{480} + \\frac{d k^{6}}{720} + \\frac{d k^{5}}{120} + \\frac{5 d k^{4}}{288} + \\frac{d k^{3}}{72} + \\frac{d k^{2}}{480} - \\frac{d k}{720} + \\frac{k^{6}}{720} + \\frac{k^{5}}{240} + \\frac{k^{4}}{288} - \\frac{k^{2}}{1440}\\right) + k + 2 d + d k + d^{2} + O\\left(t^{6}\\right)$"
      ],
      "text/plain": [
       "      ⎛ 2        2          2    ⎞      ⎛ 4    3      3    2  2    2        2 \n",
       "      ⎜d ⋅k   d⋅k          k    k⎟    2 ⎜d    d ⋅k   d    d ⋅k    d ⋅k   5⋅d  \n",
       "1 + t⋅⎜──── + ──── + d⋅k + ── + ─⎟ + t ⋅⎜── + ──── + ── + ───── + ──── + ──── \n",
       "      ⎝ 2      2           2    2⎠      ⎝12    6     3      4      2      12  \n",
       "\n",
       "     3      2                3    2     ⎞      ⎛ 4      3  2    3      2  3   \n",
       "  d⋅k    d⋅k    5⋅d⋅k   d   k    k    k ⎟    3 ⎜d ⋅k   d ⋅k    d ⋅k   d ⋅k    \n",
       "+ ──── + ──── + ───── + ─ + ── + ── + ──⎟ + t ⋅⎜──── + ───── + ──── + ───── + \n",
       "   6      2       12    6   6    4    12⎠      ⎝ 24      12     6       12    \n",
       "\n",
       " 2  2      2        4      3        2          4    3    2⎞      ⎛  6    5    \n",
       "d ⋅k    5⋅d ⋅k   d⋅k    d⋅k    5⋅d⋅k    d⋅k   k    k    k ⎟    4 ⎜ d    d ⋅k  \n",
       "───── + ────── + ──── + ──── + ────── + ─── + ── + ── + ──⎟ + t ⋅⎜─── + ──── +\n",
       "  4       24      24     6       24      12   24   12   24⎠      ⎝360   120   \n",
       "\n",
       "  5    4  2    4        4    3  3    3  2      3      3    2  4    2  3      2\n",
       " d    d ⋅k    d ⋅k   5⋅d    d ⋅k    d ⋅k    5⋅d ⋅k   d    d ⋅k    d ⋅k    5⋅d \n",
       " ── + ───── + ──── + ──── + ───── + ───── + ────── + ── + ───── + ───── + ────\n",
       " 60     48     24    144      36      12      72     36     48      12       4\n",
       "\n",
       "  2    2       2      5      4        3      2                 5    4    3    \n",
       "⋅k    d ⋅k    d    d⋅k    d⋅k    5⋅d⋅k    d⋅k    d⋅k    d     k    k    k     \n",
       "─── + ──── + ─── + ──── + ──── + ────── + ──── + ─── - ─── + ─── + ── + ── - ─\n",
       "8      24    240   120     24      72      24    240   360   120   48   72   7\n",
       "\n",
       "  ⎞      ⎛ 6      5  2    5      4  3    4  2      4      3  4    3  3      3 \n",
       "k ⎟    5 ⎜d ⋅k   d ⋅k    d ⋅k   d ⋅k    d ⋅k    5⋅d ⋅k   d ⋅k    d ⋅k    5⋅d ⋅\n",
       "──⎟ + t ⋅⎜──── + ───── + ──── + ───── + ───── + ────── + ───── + ───── + ─────\n",
       "20⎠      ⎝720     240    120     144      48     288      144      36      144\n",
       "\n",
       " 2    3      2  5    2  4      2  3    2  2    2        6      5        4     \n",
       "k    d ⋅k   d ⋅k    d ⋅k    5⋅d ⋅k    d ⋅k    d ⋅k   d⋅k    d⋅k    5⋅d⋅k    d⋅\n",
       "── + ──── + ───── + ───── + ─────── + ───── + ──── + ──── + ──── + ────── + ──\n",
       "      72     240      48      144       48    480    720    120     288      7\n",
       "\n",
       " 3      2           6     5     4     2 ⎞                             \n",
       "k    d⋅k    d⋅k    k     k     k     k  ⎟                    2    ⎛ 6⎞\n",
       "── + ──── - ─── + ─── + ─── + ─── - ────⎟ + k + 2⋅d + d⋅k + d  + O⎝t ⎠\n",
       "2    480    720   720   240   288   1440⎠                             "
      ]
     },
     "execution_count": 9,
     "metadata": {},
     "output_type": "execute_result"
    }
   ],
   "source": [
    "def ExtendedSeriesSum(t,k,d):\n",
    "    return series(ExtendedSum(t,k,d), t, 0)\n",
    "\n",
    "ExtendedSeriesSum(t,k,d)"
   ]
  },
  {
   "cell_type": "code",
   "execution_count": 11,
   "metadata": {},
   "outputs": [
    {
     "data": {
      "image/png": "[encoded data removed]",
      "text/latex": [
       "$\\displaystyle \\left(d + 1\\right) \\left(d + k + 1\\right)$"
      ],
      "text/plain": [
       "(d + 1)⋅(d + k + 1)"
      ]
     },
     "execution_count": 11,
     "metadata": {},
     "output_type": "execute_result"
    }
   ],
   "source": [
    "def ExtendedLimitSum(k,d):\n",
    "    return limit(ExtendedSum(t,k,d), t, 0)\n",
    "\n",
    "factor(ExtendedLimitSum(k,d))"
   ]
  },
  {
   "cell_type": "code",
   "execution_count": 26,
   "metadata": {},
   "outputs": [],
   "source": [
    "def NonConvexCoreSum0(t,k):\n",
    "    return 1 / ( ( 1 - exp(t) ) * ( 1 - exp(-t ) ) ) \n",
    "\n",
    "def NonConvexCoreSum1(t,k):\n",
    "    return exp(k*t) / ( ( 1 - exp(t) ) * ( 1 - exp(-t) ) )\n",
    "\n",
    "def NonConvexCoreSum2(t,k,l):\n",
    "    return exp((k+l)*t) / ( ( 1 - exp(t) ) * ( 1 - exp(-t) ) )\n",
    "\n",
    "def NonConvexExtendedSum0(t,k,l,d):\n",
    "    return exp(-2*d*t) / ( ( 1 - exp(t) ) * ( 1 - exp(t) ) )\n",
    "\n",
    "def NonConvexExtendedSum1(t,k,l,d):\n",
    "    return ( exp((k + l + d)*t) / 2 ) * ( ( 1 / ( ( 1 - exp(-t) ) * ( 1 - exp(-t/2) ) ) ) + ( 1 / ( ( 1 - exp(pi*I)*exp(-t) ) * ( 1 - exp(pi*I)*exp(-t/2) ) ) ) )\n",
    "\n",
    "def NonConvexSum(t,k,l,d):\n",
    "    return NonConvexCoreSum0(t,k) + NonConvexCoreSum1(t,k) + NonConvexCoreSum2(t,k,l) + NonConvexExtendedSum0(t,k,l,d) + NonConvexExtendedSum1(t,k,l,d)"
   ]
  },
  {
   "cell_type": "code",
   "execution_count": 27,
   "metadata": {},
   "outputs": [
    {
     "data": {
      "image/png": "[encoded data removed]",
      "text/latex": [
       "$\\displaystyle \\frac{\\left(\\frac{1}{\\left(1 + e^{- t}\\right) \\left(1 + e^{- \\frac{t}{2}}\\right)} + \\frac{1}{\\left(1 - e^{- t}\\right) \\left(1 - e^{- \\frac{t}{2}}\\right)}\\right) e^{t \\left(d + k + l\\right)}}{2} + \\frac{e^{- 2 d t}}{\\left(1 - e^{t}\\right)^{2}} + \\frac{e^{k t}}{\\left(1 - e^{- t}\\right) \\left(1 - e^{t}\\right)} + \\frac{e^{t \\left(k + l\\right)}}{\\left(1 - e^{- t}\\right) \\left(1 - e^{t}\\right)} + \\frac{1}{\\left(1 - e^{- t}\\right) \\left(1 - e^{t}\\right)}$"
      ],
      "text/plain": [
       "⎛         1                      1          ⎞  t⋅(d + k + l)                  \n",
       "⎜──────────────────── + ────────────────────⎟⋅ℯ                               \n",
       "⎜          ⎛     -t ⎞             ⎛     -t ⎞⎟                                 \n",
       "⎜          ⎜     ───⎟             ⎜     ───⎟⎟                                 \n",
       "⎜⎛     -t⎞ ⎜      2 ⎟   ⎛     -t⎞ ⎜      2 ⎟⎟                    -2⋅d⋅t       \n",
       "⎝⎝1 + ℯ  ⎠⋅⎝1 + ℯ   ⎠   ⎝1 - ℯ  ⎠⋅⎝1 - ℯ   ⎠⎠                   ℯ             \n",
       "──────────────────────────────────────────────────────────── + ───────── + ───\n",
       "                             2                                         2   ⎛  \n",
       "                                                               ⎛     t⎞    ⎝1 \n",
       "                                                               ⎝1 - ℯ ⎠       \n",
       "\n",
       "                                                         \n",
       "                                                         \n",
       "                                                         \n",
       "                                                         \n",
       "     k⋅t               t⋅(k + l)                         \n",
       "    ℯ                 ℯ                        1         \n",
       "─────────────── + ────────────────── + ──────────────────\n",
       "   -t⎞ ⎛     t⎞   ⎛     -t⎞ ⎛     t⎞   ⎛     -t⎞ ⎛     t⎞\n",
       "- ℯ  ⎠⋅⎝1 - ℯ ⎠   ⎝1 - ℯ  ⎠⋅⎝1 - ℯ ⎠   ⎝1 - ℯ  ⎠⋅⎝1 - ℯ ⎠\n",
       "                                                         "
      ]
     },
     "execution_count": 27,
     "metadata": {},
     "output_type": "execute_result"
    }
   ],
   "source": [
    "NonConvexSum(t,k,l,d)"
   ]
  },
  {
   "cell_type": "code",
   "execution_count": 28,
   "metadata": {},
   "outputs": [
    {
     "data": {
      "image/png": "[encoded data removed]",
      "text/latex": [
       "$\\displaystyle -\\infty$"
      ],
      "text/plain": [
       "-∞"
      ]
     },
     "execution_count": 28,
     "metadata": {},
     "output_type": "execute_result"
    }
   ],
   "source": [
    "def NonConvexLimitSum(k,l,d):\n",
    "    return limit(NonConvexSum(t,k,l,d), t, 0)\n",
    "\n",
    "NonConvexLimitSum(k,l,d)"
   ]
  },
  {
   "cell_type": "code",
   "execution_count": 15,
   "metadata": {},
   "outputs": [
    {
     "data": {
      "image/png": "[encoded data removed]",
      "text/latex": [
       "$\\displaystyle 16$"
      ],
      "text/plain": [
       "16"
      ]
     },
     "execution_count": 15,
     "metadata": {},
     "output_type": "execute_result"
    }
   ],
   "source": [
    "Points(3)"
   ]
  },
  {
   "cell_type": "code",
   "execution_count": 16,
   "metadata": {},
   "outputs": [
    {
     "data": {
      "image/png": "[encoded data removed]",
      "text/latex": [
       "$\\displaystyle 25$"
      ],
      "text/plain": [
       "25"
      ]
     },
     "execution_count": 16,
     "metadata": {},
     "output_type": "execute_result"
    }
   ],
   "source": [
    "Points(4)"
   ]
  },
  {
   "cell_type": "code",
   "execution_count": null,
   "metadata": {},
   "outputs": [],
   "source": []
  }
 ],
 "metadata": {
  "kernelspec": {
   "display_name": "Python 3 (ipykernel)",
   "language": "python",
   "name": "python3"
  },
  "language_info": {
   "codemirror_mode": {
    "name": "ipython",
    "version": 3
   },
   "file_extension": ".py",
   "mimetype": "text/x-python",
   "name": "python",
   "nbconvert_exporter": "python",
   "pygments_lexer": "ipython3",
   "version": "3.10.3"
  }
 },
 "nbformat": 4,
 "nbformat_minor": 4
}
