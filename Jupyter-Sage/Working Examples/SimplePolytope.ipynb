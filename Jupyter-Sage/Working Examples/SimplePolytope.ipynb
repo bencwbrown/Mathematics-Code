{
 "cells": [
  {
   "cell_type": "code",
   "execution_count": 7,
   "metadata": {},
   "outputs": [],
   "source": [
    "from sympy import *\n",
    "from sympy.vector import Vector\n",
    "from sympy.vector import CoordSys3D\n",
    "import IPython.display as disp\n",
    "\n",
    "N = CoordSys3D('N')\n",
    "\n",
    "t = symbols( 't' )\n",
    "k = symbols('k', positive=True, integer=True)\n",
    "# init_printing(use_unicode=True)\n",
    "init_printing(use_latex='mathjax')\n",
    "\n",
    "# Basis for the edge/weight vectors for the points \n",
    "\n",
    "v1 = N.i\n",
    "v2 = N.j\n",
    "\n",
    "# Define the vector which is not parallel to any edge vector, which will tend to zero:\n",
    "\n",
    "Phi = t*(v1 + 2*v2)\n",
    "\n",
    "# Set the fixed points of the action; P denotes those that belong\n",
    "# to the core, and Q those that come from the cut extended core:\n",
    "\n",
    "def P13(k):\n",
    "    return Vector.zero\n",
    "\n",
    "def P12(k):\n",
    "    return 2*k*v1\n",
    "\n",
    "def P23(k):\n",
    "    return k*v1 + k*v2"
   ]
  },
  {
   "cell_type": "code",
   "execution_count": 8,
   "metadata": {},
   "outputs": [],
   "source": [
    "# Define the term which is summed over each fixed point,\n",
    "# representing the character for the representation\n",
    "\n",
    "def P(P, edge1, edge2, edge3, edge4):\n",
    "    return exp( Phi.dot(P) ) / ( (1 - exp( Phi.dot(edge1) ) ) * ( 1 - exp( Phi.dot(edge2) ) ) * ( 1 - exp( Phi.dot(edge3) ) ) * ( 1 - exp( Phi.dot(edge4) ) ) )\n",
    "\n",
    "def Q(P, edge1, edge2):\n",
    "    return exp( Phi.dot(P) ) / ( (1 - exp( Phi.dot(edge1) ) ) * ( 1 - exp( Phi.dot(edge2) ) ) )\n",
    "\n",
    "def Exp(p, q):\n",
    "    return exp( 2*pi*I*Rational(p,q) )\n",
    "\n",
    "def OrbiFactor(p, q, edge):\n",
    "    return ( 1 - ( Exp(p,q) * exp( Rational(p,q) * Phi.dot(edge) ) ) )\n",
    "\n",
    "def OrbiSum(Q, p, q, edge1, edge2):\n",
    "    return ( Rational(1,q) * exp( Phi.dot(Q) ) ) / ( (1 - ( Exp(p,q) * exp( Rational(1,q) * Phi.dot(edge1) ) ) ) * (1 - ( Exp(p,q) * exp( Rational(1,q) * Phi.dot(edge2) ) ) ) )\n"
   ]
  },
  {
   "cell_type": "code",
   "execution_count": 12,
   "metadata": {},
   "outputs": [
    {
     "data": {
      "text/latex": [
       "$\\displaystyle \\frac{1}{\\left(1 - e^{t}\\right) \\left(1 - e^{3 t}\\right)} + \\frac{e^{2 k t}}{\\left(1 - e^{- t}\\right) \\left(1 - e^{t}\\right)} + \\frac{e^{3 k t}}{2 \\left(1 + e^{- \\frac{3 t}{2}}\\right) \\left(1 + e^{- \\frac{t}{2}}\\right)} + \\frac{e^{3 k t}}{2 \\left(1 - e^{- \\frac{3 t}{2}}\\right) \\left(1 - e^{- \\frac{t}{2}}\\right)}$"
      ],
      "text/plain": [
       "                             2⋅k⋅t                    3⋅k⋅t                   \n",
       "         1                  ℯ                        ℯ                        \n",
       "─────────────────── + ────────────────── + ───────────────────────── + ───────\n",
       "⎛     t⎞ ⎛     3⋅t⎞   ⎛     -t⎞ ⎛     t⎞     ⎛     -3⋅t ⎞ ⎛     -t ⎞     ⎛    \n",
       "⎝1 - ℯ ⎠⋅⎝1 - ℯ   ⎠   ⎝1 - ℯ  ⎠⋅⎝1 - ℯ ⎠     ⎜     ─────⎟ ⎜     ───⎟     ⎜    \n",
       "                                             ⎜       2  ⎟ ⎜      2 ⎟     ⎜    \n",
       "                                           2⋅⎝1 + ℯ     ⎠⋅⎝1 + ℯ   ⎠   2⋅⎝1 - \n",
       "\n",
       "    3⋅k⋅t         \n",
       "   ℯ              \n",
       "──────────────────\n",
       " -3⋅t ⎞ ⎛     -t ⎞\n",
       " ─────⎟ ⎜     ───⎟\n",
       "   2  ⎟ ⎜      2 ⎟\n",
       "ℯ     ⎠⋅⎝1 - ℯ   ⎠"
      ]
     },
     "execution_count": 12,
     "metadata": {},
     "output_type": "execute_result"
    }
   ],
   "source": [
    "def TermP13(k):\n",
    "    return Q(P13(k), v1, v1 + v2)\n",
    "\n",
    "def TermP12(k):\n",
    "    return Q(P12(k), -v1, -v1 + v2)\n",
    "\n",
    "def TermP23(k):\n",
    "    return OrbiSum(P23(k), 0, 2, v1 - v2, -v1 - v2) + OrbiSum(P23(k), 1, 2, v1 - v2, -v1 - v2)\n",
    "\n",
    "def Sum(k):\n",
    "    return TermP13(k) + TermP12(k) + TermP23(k)\n",
    "\n",
    "Sum(k)"
   ]
  },
  {
   "cell_type": "code",
   "execution_count": 13,
   "metadata": {},
   "outputs": [
    {
     "data": {
      "text/latex": [
       "$\\displaystyle k^{2} + 2 k + 1$"
      ],
      "text/plain": [
       " 2          \n",
       "k  + 2⋅k + 1"
      ]
     },
     "execution_count": 13,
     "metadata": {},
     "output_type": "execute_result"
    }
   ],
   "source": [
    "limit(Sum(k), t, 0)"
   ]
  },
  {
   "cell_type": "code",
   "execution_count": 14,
   "metadata": {},
   "outputs": [
    {
     "data": {
      "text/latex": [
       "$\\displaystyle 1 + t \\left(\\frac{5 k^{3}}{3} + 3 k^{2} + \\frac{4 k}{3}\\right) + t^{2} \\left(\\frac{19 k^{4}}{12} + 3 k^{3} + \\frac{23 k^{2}}{12} + \\frac{k}{2}\\right) + t^{3} \\left(\\frac{13 k^{5}}{12} + \\frac{9 k^{4}}{4} + \\frac{67 k^{3}}{36} + \\frac{3 k^{2}}{4} + \\frac{k}{18}\\right) + t^{4} \\left(\\frac{211 k^{6}}{360} + \\frac{27 k^{5}}{20} + \\frac{197 k^{4}}{144} + \\frac{3 k^{3}}{4} + \\frac{7 k^{2}}{80} - \\frac{7 k}{120}\\right) + t^{5} \\left(\\frac{19 k^{7}}{72} + \\frac{27 k^{6}}{40} + \\frac{583 k^{5}}{720} + \\frac{9 k^{4}}{16} + \\frac{13 k^{3}}{144} - \\frac{7 k^{2}}{80} - \\frac{k}{72}\\right) + 2 k + k^{2} + O\\left(t^{6}\\right)$"
      ],
      "text/plain": [
       "      ⎛   3             ⎞      ⎛    4              2    ⎞      ⎛    5      4  \n",
       "      ⎜5⋅k       2   4⋅k⎟    2 ⎜19⋅k       3   23⋅k    k⎟    3 ⎜13⋅k    9⋅k   \n",
       "1 + t⋅⎜──── + 3⋅k  + ───⎟ + t ⋅⎜───── + 3⋅k  + ───── + ─⎟ + t ⋅⎜───── + ──── +\n",
       "      ⎝ 3             3 ⎠      ⎝  12             12    2⎠      ⎝  12     4    \n",
       "\n",
       "     3      2     ⎞      ⎛     6       5        4      3      2      ⎞      ⎛ \n",
       " 67⋅k    3⋅k    k ⎟    4 ⎜211⋅k    27⋅k    197⋅k    3⋅k    7⋅k    7⋅k⎟    5 ⎜1\n",
       " ───── + ──── + ──⎟ + t ⋅⎜────── + ───── + ────── + ──── + ──── - ───⎟ + t ⋅⎜─\n",
       "   36     4     18⎠      ⎝ 360       20     144      4      80    120⎠      ⎝ \n",
       "\n",
       "   7       6        5      4       3      2     ⎞                   \n",
       "9⋅k    27⋅k    583⋅k    9⋅k    13⋅k    7⋅k    k ⎟          2    ⎛ 6⎞\n",
       "──── + ───── + ────── + ──── + ───── - ──── - ──⎟ + 2⋅k + k  + O⎝t ⎠\n",
       " 72      40     720      16     144     80    72⎠                   "
      ]
     },
     "execution_count": 14,
     "metadata": {},
     "output_type": "execute_result"
    }
   ],
   "source": [
    "series(Sum(k), t, 0)"
   ]
  },
  {
   "cell_type": "code",
   "execution_count": null,
   "metadata": {},
   "outputs": [],
   "source": []
  }
 ],
 "metadata": {
  "kernelspec": {
   "display_name": "Python 3",
   "language": "python",
   "name": "python3"
  },
  "language_info": {
   "codemirror_mode": {
    "name": "ipython",
    "version": 3
   },
   "file_extension": ".py",
   "mimetype": "text/x-python",
   "name": "python",
   "nbconvert_exporter": "python",
   "pygments_lexer": "ipython3",
   "version": "3.9.5"
  }
 },
 "nbformat": 4,
 "nbformat_minor": 4
}
