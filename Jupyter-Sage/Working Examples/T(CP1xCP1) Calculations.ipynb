{
 "cells": [
  {
   "cell_type": "code",
   "execution_count": 9,
   "metadata": {},
   "outputs": [],
   "source": [
    "from sympy import *\n",
    "from sympy.vector import Vector\n",
    "from sympy.vector import CoordSys3D\n",
    "N = CoordSys3D('N')\n",
    "\n",
    "t, k, l, a = symbols( 't k l a' )\n",
    "init_printing(use_unicode=True)\n",
    "\n",
    "# Basis vectors for convenience:\n",
    "\n",
    "v1 = N.i\n",
    "v2 = N.j\n",
    "\n",
    "# \"Generic\" choice of vector in the (dual of the) Lie algebra:\n",
    "\n",
    "Phi = t*(v1 + 2*v2)\n",
    "\n",
    "# Define the interior vertices:\n",
    "\n",
    "def P12(k,l,a):\n",
    "    return Vector.zero\n",
    "\n",
    "def P23(k,l,a):\n",
    "    return k*v1\n",
    "\n",
    "def P14(k,l,a):\n",
    "    return l*v2\n",
    "\n",
    "def P34(k,l,a):\n",
    "    return k*v1 + l*v2\n",
    "\n",
    "# Exterior points coming from the cut:\n",
    "\n",
    "def Q12_1(k,l,a):\n",
    "    return -a*v2\n",
    "\n",
    "def Q12_2(k,l,a):\n",
    "    return -a*v1\n",
    "\n",
    "def Q23_2(k,l,a):\n",
    "    return (k+a)*v1\n",
    "\n",
    "def Q23_3(k,l,a):\n",
    "    return k*v1 - a*v2\n",
    "\n",
    "def Q34_3(k,l,a):\n",
    "    return k*v1 + (k+a)*v2\n",
    "\n",
    "def Q34_4(k,l,a):\n",
    "    return (k+a)*v1 + k*v2\n",
    "\n",
    "def Q14_1(k,l,a):\n",
    "    return (l+a)*N.j\n",
    "\n",
    "def Q14_4(k,l,a):\n",
    "    return -a*N.i + l*N.j\n",
    "\n",
    "# Define the term which is summed over each fixed point,\n",
    "# representing the character for the representation\n",
    "\n",
    "def f(P, edge1, edge2):\n",
    "    return exp( Phi.dot(P) ) / ( (1 - exp( Phi.dot(edge1) ) ) * ( 1 - exp( Phi.dot(edge2) ) ) )\n",
    "\n",
    "def g(P, edge1, edge2, edge3, edge4):\n",
    "    return exp( Phi.dot(P) ) / ( (1 - exp( Phi.dot(edge1) ) ) * ( 1 - exp( Phi.dot(edge2) ) ) * ( 1 - exp( Phi.dot(edge3) ) ) * ( 1 - exp( Phi.dot(edge4) ) ) )\n",
    "\n",
    "# For each of the right-angled triangles:\n",
    "# Delta12 is the bottom-left simplex:\n",
    "\n",
    "def Delta12(k,l,a):\n",
    "    return f( P12(k,l,a), v1, v2 ) * ( f( Vector.zero, -v1, -v2 ) + f( -a*v1, v1, v1 - v2 ) + f( -a*v2, v2, -v1 + v2 ) )\n",
    "\n",
    "# Delta23 is the bottom-right simplex:\n",
    "\n",
    "def Delta23(k,l,a):\n",
    "    return f( P23(k,l,a), -v1, v2 ) * ( f( Vector.zero, v1, -v2 ) + f( a*v1, -v1, -v1 - v2 ) + f( -a*v2, v1 + v2, v2 ) )\n",
    "\n",
    "# Delta34 is the top-right simplex:\n",
    "\n",
    "def Delta34(k,l,a):\n",
    "    return f( P34(k,l,a), -v1 , -v2 ) * ( f( Vector.zero, v1, v2 ) + f( a*v1, -v1 + v2, -v1 ) + f( a*v2, v1 - v2, -v2 ) )\n",
    "\n",
    "# Delta14 is the top-left simplex:\n",
    "\n",
    "def Delta14(k,l,a):\n",
    "    return f( P14(k,l,a), v1 , -v2 ) * ( f( Vector.zero, v2, -v1 ) + f( -a*v1, v1, v1 + v2 ) + f( a*v2, -v1 - v2, -v2 ) )\n",
    "\n",
    "# And their sum:\n",
    "\n",
    "def Sum(k,l,a):\n",
    "    return Delta12(k,l,a) + Delta23(k,l,a) + Delta34(k,l,a) + Delta14(k,l,a)\n",
    "\n",
    "# Take the limit as t -> 0 to get the Euler characteristic(?):\n",
    "\n",
    "def SumLimit(k,l,a):\n",
    "    return limit(Sum(k,l,a),t,0)\n"
   ]
  },
  {
   "cell_type": "code",
   "execution_count": 3,
   "metadata": {},
   "outputs": [
    {
     "data": {
      "image/png": "[encoded data removed]",
      "text/latex": [
       "$\\displaystyle \\frac{\\frac{e^{- 2 a t}}{\\left(1 - e^{t}\\right) \\left(1 - e^{2 t}\\right)} + \\frac{e^{- a t}}{\\left(1 - e^{- t}\\right) \\left(1 - e^{t}\\right)} + \\frac{1}{\\left(1 - e^{- 2 t}\\right) \\left(1 - e^{- t}\\right)}}{\\left(1 - e^{t}\\right) \\left(1 - e^{2 t}\\right)}$"
      ],
      "text/plain": [
       "       -2⋅a⋅t                -a⋅t                               \n",
       "      ℯ                     ℯ                        1          \n",
       "─────────────────── + ────────────────── + ─────────────────────\n",
       "⎛     t⎞ ⎛     2⋅t⎞   ⎛     -t⎞ ⎛     t⎞   ⎛     -2⋅t⎞ ⎛     -t⎞\n",
       "⎝1 - ℯ ⎠⋅⎝1 - ℯ   ⎠   ⎝1 - ℯ  ⎠⋅⎝1 - ℯ ⎠   ⎝1 - ℯ    ⎠⋅⎝1 - ℯ  ⎠\n",
       "────────────────────────────────────────────────────────────────\n",
       "                      ⎛     t⎞ ⎛     2⋅t⎞                       \n",
       "                      ⎝1 - ℯ ⎠⋅⎝1 - ℯ   ⎠                       "
      ]
     },
     "execution_count": 3,
     "metadata": {},
     "output_type": "execute_result"
    }
   ],
   "source": [
    "Delta12(k,l,a) # The bottom-left simplex"
   ]
  },
  {
   "cell_type": "code",
   "execution_count": 4,
   "metadata": {},
   "outputs": [
    {
     "data": {
      "image/png": "[encoded data removed]",
      "text/latex": [
       "$\\displaystyle \\frac{\\left(\\frac{e^{- 2 a t}}{\\left(1 - e^{2 t}\\right) \\left(1 - e^{3 t}\\right)} + \\frac{1}{\\left(1 - e^{- 2 t}\\right) \\left(1 - e^{t}\\right)} + \\frac{e^{a t}}{\\left(1 - e^{- 3 t}\\right) \\left(1 - e^{- t}\\right)}\\right) e^{k t}}{\\left(1 - e^{- t}\\right) \\left(1 - e^{2 t}\\right)}$"
      ],
      "text/plain": [
       "⎛        -2⋅a⋅t                                           a⋅t        ⎞     \n",
       "⎜       ℯ                         1                      ℯ           ⎟  k⋅t\n",
       "⎜───────────────────── + ──────────────────── + ─────────────────────⎟⋅ℯ   \n",
       "⎜⎛     2⋅t⎞ ⎛     3⋅t⎞   ⎛     -2⋅t⎞ ⎛     t⎞   ⎛     -3⋅t⎞ ⎛     -t⎞⎟     \n",
       "⎝⎝1 - ℯ   ⎠⋅⎝1 - ℯ   ⎠   ⎝1 - ℯ    ⎠⋅⎝1 - ℯ ⎠   ⎝1 - ℯ    ⎠⋅⎝1 - ℯ  ⎠⎠     \n",
       "───────────────────────────────────────────────────────────────────────────\n",
       "                            ⎛     -t⎞ ⎛     2⋅t⎞                           \n",
       "                            ⎝1 - ℯ  ⎠⋅⎝1 - ℯ   ⎠                           "
      ]
     },
     "execution_count": 4,
     "metadata": {},
     "output_type": "execute_result"
    }
   ],
   "source": [
    "Delta23(k,l,a) # The bottom-right simplex"
   ]
  },
  {
   "cell_type": "code",
   "execution_count": 5,
   "metadata": {},
   "outputs": [
    {
     "data": {
      "image/png": "[encoded data removed]",
      "text/latex": [
       "$\\displaystyle \\frac{\\left(\\frac{1}{\\left(1 - e^{t}\\right) \\left(1 - e^{2 t}\\right)} + \\frac{e^{a t}}{\\left(1 - e^{- t}\\right) \\left(1 - e^{t}\\right)} + \\frac{e^{2 a t}}{\\left(1 - e^{- 2 t}\\right) \\left(1 - e^{- t}\\right)}\\right) e^{k t + 2 l t}}{\\left(1 - e^{- 2 t}\\right) \\left(1 - e^{- t}\\right)}$"
      ],
      "text/plain": [
       "⎛                              a⋅t                   2⋅a⋅t       ⎞            \n",
       "⎜         1                   ℯ                     ℯ            ⎟  k⋅t + 2⋅l⋅\n",
       "⎜─────────────────── + ────────────────── + ─────────────────────⎟⋅ℯ          \n",
       "⎜⎛     t⎞ ⎛     2⋅t⎞   ⎛     -t⎞ ⎛     t⎞   ⎛     -2⋅t⎞ ⎛     -t⎞⎟            \n",
       "⎝⎝1 - ℯ ⎠⋅⎝1 - ℯ   ⎠   ⎝1 - ℯ  ⎠⋅⎝1 - ℯ ⎠   ⎝1 - ℯ    ⎠⋅⎝1 - ℯ  ⎠⎠            \n",
       "──────────────────────────────────────────────────────────────────────────────\n",
       "                             ⎛     -2⋅t⎞ ⎛     -t⎞                            \n",
       "                             ⎝1 - ℯ    ⎠⋅⎝1 - ℯ  ⎠                            \n",
       "\n",
       " \n",
       "t\n",
       " \n",
       " \n",
       " \n",
       "─\n",
       " \n",
       " "
      ]
     },
     "execution_count": 5,
     "metadata": {},
     "output_type": "execute_result"
    }
   ],
   "source": [
    "Delta34(k,l,a) # The top-right simplex"
   ]
  },
  {
   "cell_type": "code",
   "execution_count": 6,
   "metadata": {},
   "outputs": [
    {
     "data": {
      "image/png": "[encoded data removed]",
      "text/latex": [
       "$\\displaystyle \\frac{\\left(\\frac{e^{- a t}}{\\left(1 - e^{t}\\right) \\left(1 - e^{3 t}\\right)} + \\frac{1}{\\left(1 - e^{- t}\\right) \\left(1 - e^{2 t}\\right)} + \\frac{e^{2 a t}}{\\left(1 - e^{- 3 t}\\right) \\left(1 - e^{- 2 t}\\right)}\\right) e^{2 l t}}{\\left(1 - e^{- 2 t}\\right) \\left(1 - e^{t}\\right)}$"
      ],
      "text/plain": [
       "⎛        -a⋅t                                           2⋅a⋅t        ⎞       \n",
       "⎜       ℯ                       1                      ℯ             ⎟  2⋅l⋅t\n",
       "⎜─────────────────── + ──────────────────── + ───────────────────────⎟⋅ℯ     \n",
       "⎜⎛     t⎞ ⎛     3⋅t⎞   ⎛     -t⎞ ⎛     2⋅t⎞   ⎛     -3⋅t⎞ ⎛     -2⋅t⎞⎟       \n",
       "⎝⎝1 - ℯ ⎠⋅⎝1 - ℯ   ⎠   ⎝1 - ℯ  ⎠⋅⎝1 - ℯ   ⎠   ⎝1 - ℯ    ⎠⋅⎝1 - ℯ    ⎠⎠       \n",
       "─────────────────────────────────────────────────────────────────────────────\n",
       "                             ⎛     -2⋅t⎞ ⎛     t⎞                            \n",
       "                             ⎝1 - ℯ    ⎠⋅⎝1 - ℯ ⎠                            "
      ]
     },
     "execution_count": 6,
     "metadata": {},
     "output_type": "execute_result"
    }
   ],
   "source": [
    "Delta14(k,l,a) # The top-left simplex"
   ]
  },
  {
   "cell_type": "code",
   "execution_count": 7,
   "metadata": {},
   "outputs": [
    {
     "data": {
      "image/png": "[encoded data removed]",
      "text/latex": [
       "$\\displaystyle \\frac{\\frac{e^{- 2 a t}}{\\left(1 - e^{t}\\right) \\left(1 - e^{2 t}\\right)} + \\frac{e^{- a t}}{\\left(1 - e^{- t}\\right) \\left(1 - e^{t}\\right)} + \\frac{1}{\\left(1 - e^{- 2 t}\\right) \\left(1 - e^{- t}\\right)}}{\\left(1 - e^{t}\\right) \\left(1 - e^{2 t}\\right)} + \\frac{\\left(\\frac{e^{- 2 a t}}{\\left(1 - e^{2 t}\\right) \\left(1 - e^{3 t}\\right)} + \\frac{1}{\\left(1 - e^{- 2 t}\\right) \\left(1 - e^{t}\\right)} + \\frac{e^{a t}}{\\left(1 - e^{- 3 t}\\right) \\left(1 - e^{- t}\\right)}\\right) e^{k t}}{\\left(1 - e^{- t}\\right) \\left(1 - e^{2 t}\\right)} + \\frac{\\left(\\frac{e^{- a t}}{\\left(1 - e^{t}\\right) \\left(1 - e^{3 t}\\right)} + \\frac{1}{\\left(1 - e^{- t}\\right) \\left(1 - e^{2 t}\\right)} + \\frac{e^{2 a t}}{\\left(1 - e^{- 3 t}\\right) \\left(1 - e^{- 2 t}\\right)}\\right) e^{2 l t}}{\\left(1 - e^{- 2 t}\\right) \\left(1 - e^{t}\\right)} + \\frac{\\left(\\frac{1}{\\left(1 - e^{t}\\right) \\left(1 - e^{2 t}\\right)} + \\frac{e^{a t}}{\\left(1 - e^{- t}\\right) \\left(1 - e^{t}\\right)} + \\frac{e^{2 a t}}{\\left(1 - e^{- 2 t}\\right) \\left(1 - e^{- t}\\right)}\\right) e^{k t + 2 l t}}{\\left(1 - e^{- 2 t}\\right) \\left(1 - e^{- t}\\right)}$"
      ],
      "text/plain": [
       "       -2⋅a⋅t                -a⋅t                                  ⎛        -2\n",
       "      ℯ                     ℯ                        1             ⎜       ℯ  \n",
       "─────────────────── + ────────────────── + ─────────────────────   ⎜──────────\n",
       "⎛     t⎞ ⎛     2⋅t⎞   ⎛     -t⎞ ⎛     t⎞   ⎛     -2⋅t⎞ ⎛     -t⎞   ⎜⎛     2⋅t⎞\n",
       "⎝1 - ℯ ⎠⋅⎝1 - ℯ   ⎠   ⎝1 - ℯ  ⎠⋅⎝1 - ℯ ⎠   ⎝1 - ℯ    ⎠⋅⎝1 - ℯ  ⎠   ⎝⎝1 - ℯ   ⎠\n",
       "──────────────────────────────────────────────────────────────── + ───────────\n",
       "                      ⎛     t⎞ ⎛     2⋅t⎞                                     \n",
       "                      ⎝1 - ℯ ⎠⋅⎝1 - ℯ   ⎠                                     \n",
       "\n",
       "⋅a⋅t                                           a⋅t        ⎞        ⎛        -a\n",
       "                       1                      ℯ           ⎟  k⋅t   ⎜       ℯ  \n",
       "─────────── + ──────────────────── + ─────────────────────⎟⋅ℯ      ⎜──────────\n",
       " ⎛     3⋅t⎞   ⎛     -2⋅t⎞ ⎛     t⎞   ⎛     -3⋅t⎞ ⎛     -t⎞⎟        ⎜⎛     t⎞ ⎛\n",
       "⋅⎝1 - ℯ   ⎠   ⎝1 - ℯ    ⎠⋅⎝1 - ℯ ⎠   ⎝1 - ℯ    ⎠⋅⎝1 - ℯ  ⎠⎠        ⎝⎝1 - ℯ ⎠⋅⎝\n",
       "──────────────────────────────────────────────────────────────── + ───────────\n",
       "                 ⎛     -t⎞ ⎛     2⋅t⎞                                         \n",
       "                 ⎝1 - ℯ  ⎠⋅⎝1 - ℯ   ⎠                                         \n",
       "\n",
       "⋅t                                           2⋅a⋅t        ⎞          ⎛        \n",
       "                     1                      ℯ             ⎟  2⋅l⋅t   ⎜        \n",
       "───────── + ──────────────────── + ───────────────────────⎟⋅ℯ        ⎜────────\n",
       "     3⋅t⎞   ⎛     -t⎞ ⎛     2⋅t⎞   ⎛     -3⋅t⎞ ⎛     -2⋅t⎞⎟          ⎜⎛     t⎞\n",
       "1 - ℯ   ⎠   ⎝1 - ℯ  ⎠⋅⎝1 - ℯ   ⎠   ⎝1 - ℯ    ⎠⋅⎝1 - ℯ    ⎠⎠          ⎝⎝1 - ℯ ⎠\n",
       "────────────────────────────────────────────────────────────────── + ─────────\n",
       "                  ⎛     -2⋅t⎞ ⎛     t⎞                                        \n",
       "                  ⎝1 - ℯ    ⎠⋅⎝1 - ℯ ⎠                                        \n",
       "\n",
       "                      a⋅t                   2⋅a⋅t       ⎞             \n",
       " 1                   ℯ                     ℯ            ⎟  k⋅t + 2⋅l⋅t\n",
       "─────────── + ────────────────── + ─────────────────────⎟⋅ℯ           \n",
       " ⎛     2⋅t⎞   ⎛     -t⎞ ⎛     t⎞   ⎛     -2⋅t⎞ ⎛     -t⎞⎟             \n",
       "⋅⎝1 - ℯ   ⎠   ⎝1 - ℯ  ⎠⋅⎝1 - ℯ ⎠   ⎝1 - ℯ    ⎠⋅⎝1 - ℯ  ⎠⎠             \n",
       "──────────────────────────────────────────────────────────────────────\n",
       "                    ⎛     -2⋅t⎞ ⎛     -t⎞                             \n",
       "                    ⎝1 - ℯ    ⎠⋅⎝1 - ℯ  ⎠                             "
      ]
     },
     "execution_count": 7,
     "metadata": {},
     "output_type": "execute_result"
    }
   ],
   "source": [
    "Sum(k,l,a) # Take their sum"
   ]
  },
  {
   "cell_type": "code",
   "execution_count": 10,
   "metadata": {},
   "outputs": [
    {
     "data": {
      "image/png": "[encoded data removed]",
      "text/latex": [
       "$\\displaystyle \\frac{a^{4}}{6} + \\frac{a^{3} k}{3} + \\frac{a^{3} l}{3} + a^{3} + \\frac{a^{2} k l}{2} + \\frac{3 a^{2} k}{2} + \\frac{3 a^{2} l}{2} + \\frac{7 a^{2}}{3} + \\frac{3 a k l}{2} + \\frac{13 a k}{6} + \\frac{13 a l}{6} + \\frac{5 a}{2} + k l + k + l + 1$"
      ],
      "text/plain": [
       " 4    3      3           2          2        2        2                       \n",
       "a    a ⋅k   a ⋅l    3   a ⋅k⋅l   3⋅a ⋅k   3⋅a ⋅l   7⋅a    3⋅a⋅k⋅l   13⋅a⋅k   1\n",
       "── + ──── + ──── + a  + ────── + ────── + ────── + ──── + ─────── + ────── + ─\n",
       "6     3      3            2        2        2       3        2        6       \n",
       "\n",
       "                             \n",
       "3⋅a⋅l   5⋅a                  \n",
       "───── + ─── + k⋅l + k + l + 1\n",
       " 6       2                   "
      ]
     },
     "execution_count": 10,
     "metadata": {},
     "output_type": "execute_result"
    }
   ],
   "source": [
    "SumLimit(k,l,a) # And let ϕ tend to zero"
   ]
  },
  {
   "cell_type": "code",
   "execution_count": 11,
   "metadata": {},
   "outputs": [
    {
     "data": {
      "image/png": "[encoded data removed]",
      "text/latex": [
       "$\\displaystyle \\frac{\\left(a + 1\\right) \\left(a + 2\\right) \\left(a^{2} + 2 a k + 2 a l + 3 a + 3 k l + 3 k + 3 l + 3\\right)}{6}$"
      ],
      "text/plain": [
       "                ⎛ 2                                              ⎞\n",
       "(a + 1)⋅(a + 2)⋅⎝a  + 2⋅a⋅k + 2⋅a⋅l + 3⋅a + 3⋅k⋅l + 3⋅k + 3⋅l + 3⎠\n",
       "──────────────────────────────────────────────────────────────────\n",
       "                                6                                 "
      ]
     },
     "execution_count": 11,
     "metadata": {},
     "output_type": "execute_result"
    }
   ],
   "source": [
    "factor(SumLimit(k,l,a))"
   ]
  },
  {
   "cell_type": "code",
   "execution_count": 14,
   "metadata": {},
   "outputs": [],
   "source": [
    "def Euler(k,l,a):    \n",
    "    return factor(( Rational(1, 6) * (a + 1) * (a + 2) * (a**2 + 4*a*k + 3*a + 3*k**2 + 6*k + 3) ))\n"
   ]
  },
  {
   "cell_type": "code",
   "execution_count": 27,
   "metadata": {},
   "outputs": [
    {
     "data": {
      "image/png": "[encoded data removed]",
      "text/latex": [
       "$\\displaystyle \\frac{\\left(a + 1\\right) \\left(a + 2\\right) \\left(a^{2} + 4 a k + 3 a + 3 k^{2} + 6 k + 3\\right)}{6}$"
      ],
      "text/plain": [
       "                ⎛ 2                    2          ⎞\n",
       "(a + 1)⋅(a + 2)⋅⎝a  + 4⋅a⋅k + 3⋅a + 3⋅k  + 6⋅k + 3⎠\n",
       "───────────────────────────────────────────────────\n",
       "                         6                         "
      ]
     },
     "execution_count": 27,
     "metadata": {},
     "output_type": "execute_result"
    }
   ],
   "source": [
    "Euler(k,a)"
   ]
  },
  {
   "cell_type": "code",
   "execution_count": 48,
   "metadata": {},
   "outputs": [],
   "source": [
    "# Calculate the lattice points by hand:\n",
    "\n",
    "def AuxiliaryLatticePoints(k,a):\n",
    "    return (k + 2*a + 1)**2 - 4 * ( ( Rational(1, 2) * (a+1) * (a + 2) ) - (a + 1) )\n",
    "\n",
    "def LatticePoints(k,a):\n",
    "    return factor(AuxiliaryLatticePoints(k,a))"
   ]
  },
  {
   "cell_type": "code",
   "execution_count": 49,
   "metadata": {},
   "outputs": [
    {
     "data": {
      "image/png": "[encoded data removed]",
      "text/latex": [
       "$\\displaystyle 2 a^{2} + 4 a k + 2 a + k^{2} + 2 k + 1$"
      ],
      "text/plain": [
       "   2                  2          \n",
       "2⋅a  + 4⋅a⋅k + 2⋅a + k  + 2⋅k + 1"
      ]
     },
     "execution_count": 49,
     "metadata": {},
     "output_type": "execute_result"
    }
   ],
   "source": [
    "LatticePoints(k,a)"
   ]
  },
  {
   "cell_type": "code",
   "execution_count": 50,
   "metadata": {},
   "outputs": [
    {
     "data": {
      "image/png": "[encoded data removed]",
      "text/latex": [
       "$\\displaystyle \\left(k + 1\\right)^{2}$"
      ],
      "text/plain": [
       "       2\n",
       "(k + 1) "
      ]
     },
     "execution_count": 50,
     "metadata": {},
     "output_type": "execute_result"
    }
   ],
   "source": [
    "LatticePoints(k,0)"
   ]
  },
  {
   "cell_type": "code",
   "execution_count": 52,
   "metadata": {},
   "outputs": [
    {
     "data": {
      "image/png": "[encoded data removed]",
      "text/latex": [
       "$\\displaystyle \\left(k + 1\\right) \\left(k + 5\\right)$"
      ],
      "text/plain": [
       "(k + 1)⋅(k + 5)"
      ]
     },
     "execution_count": 52,
     "metadata": {},
     "output_type": "execute_result"
    }
   ],
   "source": [
    "LatticePoints(k,1)     # Is equal to (k+1)^{2} + 4(k+1)"
   ]
  },
  {
   "cell_type": "code",
   "execution_count": 53,
   "metadata": {},
   "outputs": [
    {
     "data": {
      "image/png": "[encoded data removed]",
      "text/latex": [
       "$\\displaystyle \\left(k + 1\\right) \\left(3 k + 7\\right)$"
      ],
      "text/plain": [
       "(k + 1)⋅(3⋅k + 7)"
      ]
     },
     "execution_count": 53,
     "metadata": {},
     "output_type": "execute_result"
    }
   ],
   "source": [
    "Euler(k,1)"
   ]
  },
  {
   "cell_type": "code",
   "execution_count": 65,
   "metadata": {},
   "outputs": [
    {
     "data": {
      "image/png": "[encoded data removed]",
      "text/latex": [
       "$\\displaystyle \\frac{\\left(a + 1\\right) \\left(2 a^{2} + 6 a k + 4 a + 3 k^{2} + 6 k + 3\\right)}{3}$"
      ],
      "text/plain": [
       "        ⎛   2                    2          ⎞\n",
       "(a + 1)⋅⎝2⋅a  + 6⋅a⋅k + 4⋅a + 3⋅k  + 6⋅k + 3⎠\n",
       "─────────────────────────────────────────────\n",
       "                      3                      "
      ]
     },
     "execution_count": 65,
     "metadata": {},
     "output_type": "execute_result"
    }
   ],
   "source": [
    "def EulerDiff(k,a):\n",
    "    return factor(Euler(k,a) - Euler(k,a-1))\n",
    "\n",
    "EulerDiff(k,a)"
   ]
  },
  {
   "cell_type": "code",
   "execution_count": 63,
   "metadata": {},
   "outputs": [],
   "source": [
    "def kEulerAsymptotics(k,a):\n",
    "    return limit(Euler(k,a) / (k**2), k, oo )"
   ]
  },
  {
   "cell_type": "code",
   "execution_count": 64,
   "metadata": {},
   "outputs": [
    {
     "data": {
      "image/png": "[encoded data removed]",
      "text/latex": [
       "$\\displaystyle \\frac{\\left(a + 1\\right) \\left(a + 2\\right)}{2}$"
      ],
      "text/plain": [
       "(a + 1)⋅(a + 2)\n",
       "───────────────\n",
       "       2       "
      ]
     },
     "execution_count": 64,
     "metadata": {},
     "output_type": "execute_result"
    }
   ],
   "source": [
    "kEulerAsymptotics(k,a)"
   ]
  },
  {
   "cell_type": "code",
   "execution_count": 66,
   "metadata": {},
   "outputs": [],
   "source": [
    "def kEulerDiffAsymptotic(k,a):\n",
    "    return limit(EulerDiff(k,a) / (k**2), k, oo)"
   ]
  },
  {
   "cell_type": "code",
   "execution_count": 67,
   "metadata": {},
   "outputs": [
    {
     "data": {
      "image/png": "[encoded data removed]",
      "text/latex": [
       "$\\displaystyle a + 1$"
      ],
      "text/plain": [
       "a + 1"
      ]
     },
     "execution_count": 67,
     "metadata": {},
     "output_type": "execute_result"
    }
   ],
   "source": [
    "kEulerDiffAsymptotic(k,a)"
   ]
  },
  {
   "cell_type": "code",
   "execution_count": 68,
   "metadata": {},
   "outputs": [
    {
     "data": {
      "image/png": "[encoded data removed]",
      "text/latex": [
       "$\\displaystyle 1$"
      ],
      "text/plain": [
       "1"
      ]
     },
     "execution_count": 68,
     "metadata": {},
     "output_type": "execute_result"
    }
   ],
   "source": [
    "def kLatticeAsymptotic(k,a):\n",
    "    return limit(LatticePoints(k,a) / (k**2), k, oo)\n",
    "\n",
    "kLatticeAsymptotic(k,a)"
   ]
  },
  {
   "cell_type": "code",
   "execution_count": null,
   "metadata": {},
   "outputs": [],
   "source": []
  }
 ],
 "metadata": {
  "kernelspec": {
   "display_name": "Python 3 (ipykernel)",
   "language": "python",
   "name": "python3"
  },
  "language_info": {
   "codemirror_mode": {
    "name": "ipython",
    "version": 3
   },
   "file_extension": ".py",
   "mimetype": "text/x-python",
   "name": "python",
   "nbconvert_exporter": "python",
   "pygments_lexer": "ipython3",
   "version": "3.9.7"
  }
 },
 "nbformat": 4,
 "nbformat_minor": 4
}
