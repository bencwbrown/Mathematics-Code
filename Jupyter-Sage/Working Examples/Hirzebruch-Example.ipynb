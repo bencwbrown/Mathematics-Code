{
 "cells": [
  {
   "cell_type": "code",
   "execution_count": 2,
   "metadata": {},
   "outputs": [],
   "source": [
    "from sympy import *\n",
    "from sympy.vector import Vector\n",
    "from sympy.vector import CoordSys3D\n",
    "N = CoordSys3D('N')\n",
    "\n",
    "t, n, k, d = symbols( 't n k d' )\n",
    "init_printing(use_unicode=True)\n",
    "\n",
    "# Define the vector which is not parallel to any edge vector, which will tend to zero:\n",
    "\n",
    "Phi = t*(N.i + N.j)\n",
    "\n",
    "# Set the fixed points of the action; P denotes those that belong\n",
    "# to the core, and Q those that come from the cut extended core:\n",
    "\n",
    "def P12(n, k):\n",
    "    return Vector.zero\n",
    "\n",
    "def P23(n, k):\n",
    "    return n*(k+1)*N.i\n",
    "\n",
    "def P34(n, k):\n",
    "    return n*N.i + n*N.j\n",
    "\n",
    "def P14(n, k):\n",
    "    return n*N.j\n",
    "\n",
    "# Basis for the edge/weight vectors for the points \n",
    "\n",
    "v1 = N.i\n",
    "\n",
    "v2 = N.j\n",
    "\n",
    "# Define the term which is summed over each fixed point,\n",
    "# representing the character for the representation\n",
    "\n",
    "def f(P, edge1, edge2):\n",
    "    return exp( Phi.dot(P) ) / ( (1 - exp( Phi.dot(edge1) ) ) * ( 1 - exp( Phi.dot(edge2) ) ) )\n",
    "\n",
    "def g(P, edge1, edge2, edge3, edge4):\n",
    "    return exp( Phi.dot(P) ) / ( (1 - exp( Phi.dot(edge1) ) ) * ( 1 - exp( Phi.dot(edge2) ) ) * ( 1 - exp( Phi.dot(edge3) ) ) * ( 1 - exp( Phi.dot(edge4) ) ) )\n",
    "\n",
    "# For each of the right-angled triangles:\n",
    "\n",
    "def Sum12(n,k):\n",
    "    return f(P12(n,k), v1, v2 )\n",
    "\n",
    "def Sum23(n,k):\n",
    "    return f(P23(n,k), -v1, -k*v1 + v2 )\n",
    "\n",
    "def Sum34(n,k):\n",
    "    return f(P34(n,k), -v1 , k*v1 - v2 )\n",
    "\n",
    "def Sum14(n,k):\n",
    "    return f(P14(n,k), v1 , -v2 )\n",
    "\n",
    "def Sum(n,k):\n",
    "    return Sum12(n,k) + Sum23(n,k) + Sum34(n,k) + Sum14(n,k)    \n",
    "\n",
    "# Take the limit as t -> 0 to get the Euler characteristic(?)\n",
    "\n",
    "def EulerCalculation(n,k):\n",
    "    return limit(Sum(n,k),t,0)\n"
   ]
  },
  {
   "cell_type": "code",
   "execution_count": 12,
   "metadata": {},
   "outputs": [
    {
     "data": {
      "image/png": "[encoded data removed]",
      "text/latex": [
       "$\\displaystyle \\frac{1}{\\left(1 - e^{t}\\right)^{2}} + \\frac{e^{2 n t}}{\\left(1 - e^{- t}\\right) \\left(1 - e^{k t - t}\\right)} + \\frac{e^{n t \\left(k + 1\\right)}}{\\left(1 - e^{- t}\\right) \\left(1 - e^{- k t + t}\\right)} + \\frac{e^{n t}}{\\left(1 - e^{- t}\\right) \\left(1 - e^{t}\\right)}$"
      ],
      "text/plain": [
       "                      2⋅n⋅t                    n⋅t⋅(k + 1)                 n⋅t\n",
       "    1                ℯ                        ℯ                           ℯ   \n",
       "───────── + ──────────────────────── + ───────────────────────── + ───────────\n",
       "        2   ⎛     -t⎞ ⎛     k⋅t - t⎞   ⎛     -t⎞ ⎛     -k⋅t + t⎞   ⎛     -t⎞ ⎛\n",
       "⎛     t⎞    ⎝1 - ℯ  ⎠⋅⎝1 - ℯ       ⎠   ⎝1 - ℯ  ⎠⋅⎝1 - ℯ        ⎠   ⎝1 - ℯ  ⎠⋅⎝\n",
       "⎝1 - ℯ ⎠                                                                      \n",
       "\n",
       "       \n",
       "       \n",
       "───────\n",
       "     t⎞\n",
       "1 - ℯ ⎠\n",
       "       "
      ]
     },
     "execution_count": 12,
     "metadata": {},
     "output_type": "execute_result"
    }
   ],
   "source": [
    "Sum(n,k)"
   ]
  },
  {
   "cell_type": "code",
   "execution_count": 14,
   "metadata": {},
   "outputs": [
    {
     "data": {
      "image/png": "[encoded data removed]",
      "text/latex": [
       "$\\displaystyle \\frac{k n^{2}}{2} + \\frac{k n}{2} + n^{2} + 2 n + 1$"
      ],
      "text/plain": [
       "   2                     \n",
       "k⋅n    k⋅n    2          \n",
       "──── + ─── + n  + 2⋅n + 1\n",
       " 2      2                "
      ]
     },
     "execution_count": 14,
     "metadata": {},
     "output_type": "execute_result"
    }
   ],
   "source": [
    "simplify(EulerCalculation(n,k)) # Letting t -> 0  to obtain the Euler characteristic (n.b. degree-0 term in a is equal to lattice point count for CP2's polytope)"
   ]
  },
  {
   "cell_type": "code",
   "execution_count": 17,
   "metadata": {},
   "outputs": [
    {
     "data": {
      "image/png": "[encoded data removed]",
      "text/latex": [
       "$\\displaystyle \\frac{\\left(n + 1\\right) \\left(k n + 2 n + 2\\right)}{2}$"
      ],
      "text/plain": [
       "(n + 1)⋅(k⋅n + 2⋅n + 2)\n",
       "───────────────────────\n",
       "           2           "
      ]
     },
     "execution_count": 17,
     "metadata": {},
     "output_type": "execute_result"
    }
   ],
   "source": [
    "factor(simplify(EulerCalculation(n,k)))"
   ]
  },
  {
   "cell_type": "code",
   "execution_count": 8,
   "metadata": {},
   "outputs": [],
   "source": [
    "def Euler(k,a):\n",
    "    return simplify( Rational(1,4) * ( (a+1)*(a+2)*(a+k+1)*(a+k+2) ) )"
   ]
  },
  {
   "cell_type": "code",
   "execution_count": 9,
   "metadata": {},
   "outputs": [
    {
     "data": {
      "image/png": "[encoded data removed]",
      "text/latex": [
       "$\\displaystyle \\frac{\\left(a + 1\\right) \\left(a + 2\\right) \\left(a + k + 1\\right) \\left(a + k + 2\\right)}{4}$"
      ],
      "text/plain": [
       "(a + 1)⋅(a + 2)⋅(a + k + 1)⋅(a + k + 2)\n",
       "───────────────────────────────────────\n",
       "                   4                   "
      ]
     },
     "execution_count": 9,
     "metadata": {},
     "output_type": "execute_result"
    }
   ],
   "source": [
    "Euler(k,a)"
   ]
  },
  {
   "cell_type": "code",
   "execution_count": 10,
   "metadata": {},
   "outputs": [
    {
     "data": {
      "image/png": "[encoded data removed]",
      "text/latex": [
       "$\\displaystyle \\frac{\\left(k + 1\\right) \\left(k + 2\\right)}{2}$"
      ],
      "text/plain": [
       "(k + 1)⋅(k + 2)\n",
       "───────────────\n",
       "       2       "
      ]
     },
     "execution_count": 10,
     "metadata": {},
     "output_type": "execute_result"
    }
   ],
   "source": [
    "Euler(k,0) # The usual formula for the number of lattice points in the dilated 2-simplex"
   ]
  },
  {
   "cell_type": "code",
   "execution_count": 12,
   "metadata": {},
   "outputs": [
    {
     "data": {
      "image/png": "[encoded data removed]",
      "text/latex": [
       "$\\displaystyle 10$"
      ],
      "text/plain": [
       "10"
      ]
     },
     "execution_count": 12,
     "metadata": {},
     "output_type": "execute_result"
    }
   ],
   "source": [
    "Euler(3,0)"
   ]
  },
  {
   "cell_type": "code",
   "execution_count": 13,
   "metadata": {},
   "outputs": [
    {
     "data": {
      "image/png": "[encoded data removed]",
      "text/latex": [
       "$\\displaystyle 45$"
      ],
      "text/plain": [
       "45"
      ]
     },
     "execution_count": 13,
     "metadata": {},
     "output_type": "execute_result"
    }
   ],
   "source": [
    "Euler(3,1)"
   ]
  },
  {
   "cell_type": "code",
   "execution_count": 15,
   "metadata": {},
   "outputs": [
    {
     "data": {
      "image/png": "[encoded data removed]",
      "text/latex": [
       "$\\displaystyle 280$"
      ],
      "text/plain": [
       "280"
      ]
     },
     "execution_count": 15,
     "metadata": {},
     "output_type": "execute_result"
    }
   ],
   "source": [
    "Euler(3,3)"
   ]
  },
  {
   "cell_type": "code",
   "execution_count": 14,
   "metadata": {},
   "outputs": [
    {
     "data": {
      "image/png": "[encoded data removed]",
      "text/latex": [
       "$\\displaystyle \\frac{\\left(d + 1\\right) \\left(d + 2\\right) \\left(2 d - 3\\right)}{12}$"
      ],
      "text/plain": [
       "(d + 1)⋅(d + 2)⋅(2⋅d - 3)\n",
       "─────────────────────────\n",
       "            12           "
      ]
     },
     "execution_count": 14,
     "metadata": {},
     "output_type": "execute_result"
    }
   ],
   "source": [
    "def Delta12(n,d):\n",
    "    return factor(Rational(1,12)*d*(d+1)*(2*d + 1) - Rational(1,2)*(d+1))\n",
    "\n",
    "Delta12(n,d)"
   ]
  },
  {
   "cell_type": "code",
   "execution_count": 9,
   "metadata": {},
   "outputs": [
    {
     "data": {
      "image/png": "[encoded data removed]",
      "text/latex": [
       "$\\displaystyle \\frac{\\left(d + 1\\right) \\left(2 d^{2} + d + 6 n + 6\\right)}{6}$"
      ],
      "text/plain": [
       "        ⎛   2              ⎞\n",
       "(d + 1)⋅⎝2⋅d  + d + 6⋅n + 6⎠\n",
       "────────────────────────────\n",
       "             6              "
      ]
     },
     "execution_count": 9,
     "metadata": {},
     "output_type": "execute_result"
    }
   ],
   "source": [
    "def Delta1(n,d):\n",
    "    return factor(n*(d+1) + Rational(1,6)*d*(d+1)*(2*d+1) + (d+1))\n",
    "\n",
    "Delta1(n,d)"
   ]
  },
  {
   "cell_type": "code",
   "execution_count": 11,
   "metadata": {},
   "outputs": [
    {
     "data": {
      "image/png": "[encoded data removed]",
      "text/latex": [
       "$\\displaystyle \\frac{\\left(d + 1\\right) \\left(n + 1\\right) \\left(n + 2\\right)}{2}$"
      ],
      "text/plain": [
       "(d + 1)⋅(n + 1)⋅(n + 2)\n",
       "───────────────────────\n",
       "           2           "
      ]
     },
     "execution_count": 11,
     "metadata": {},
     "output_type": "execute_result"
    }
   ],
   "source": [
    "def DeltaEmpty(n,d):\n",
    "    return factor(Rational(1,2)*(d+1)*(n+1)*(n+2))\n",
    "\n",
    "DeltaEmpty(n,d)"
   ]
  },
  {
   "cell_type": "code",
   "execution_count": 16,
   "metadata": {},
   "outputs": [
    {
     "data": {
      "image/png": "[encoded data removed]",
      "text/latex": [
       "$\\displaystyle \\frac{\\left(d + 1\\right) \\left(6 d^{2} + 3 d + 2 n^{2} + 18 n + 10\\right)}{4}$"
      ],
      "text/plain": [
       "        ⎛   2            2            ⎞\n",
       "(d + 1)⋅⎝6⋅d  + 3⋅d + 2⋅n  + 18⋅n + 10⎠\n",
       "───────────────────────────────────────\n",
       "                   4                   "
      ]
     },
     "execution_count": 16,
     "metadata": {},
     "output_type": "execute_result"
    }
   ],
   "source": [
    "def Sum(n,d):\n",
    "    return factor( 3*Delta12(n,d) + 3*Delta1(n,d) + DeltaEmpty(n,d) )\n",
    "\n",
    "Sum(n,d)"
   ]
  },
  {
   "cell_type": "code",
   "execution_count": 18,
   "metadata": {},
   "outputs": [
    {
     "data": {
      "image/png": "[encoded data removed]",
      "text/latex": [
       "$\\displaystyle \\frac{n^{2} + 9 n + 5}{2}$"
      ],
      "text/plain": [
       " 2          \n",
       "n  + 9⋅n + 5\n",
       "────────────\n",
       "     2      "
      ]
     },
     "execution_count": 18,
     "metadata": {},
     "output_type": "execute_result"
    }
   ],
   "source": [
    "Sum(n,0)"
   ]
  },
  {
   "cell_type": "code",
   "execution_count": null,
   "metadata": {},
   "outputs": [],
   "source": []
  }
 ],
 "metadata": {
  "kernelspec": {
   "display_name": "Python 3",
   "language": "python",
   "name": "python3"
  },
  "language_info": {
   "codemirror_mode": {
    "name": "ipython",
    "version": 3
   },
   "file_extension": ".py",
   "mimetype": "text/x-python",
   "name": "python",
   "nbconvert_exporter": "python",
   "pygments_lexer": "ipython3",
   "version": "3.9.5"
  }
 },
 "nbformat": 4,
 "nbformat_minor": 4
}
