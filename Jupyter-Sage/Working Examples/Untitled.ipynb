{
 "cells": [
  {
   "cell_type": "code",
   "execution_count": 49,
   "metadata": {},
   "outputs": [],
   "source": [
    "R = PolynomialRing(QQ, 'x,y')"
   ]
  },
  {
   "cell_type": "code",
   "execution_count": 50,
   "metadata": {},
   "outputs": [],
   "source": [
    "x,y = R.gens()"
   ]
  },
  {
   "cell_type": "code",
   "execution_count": 52,
   "metadata": {},
   "outputs": [],
   "source": [
    "a = sum( x**i for i in range(0,7) )\n",
    "b = sum( y**i for i in range(0,7) )"
   ]
  },
  {
   "cell_type": "code",
   "execution_count": 53,
   "metadata": {},
   "outputs": [],
   "source": [
    "f = sum( (x*(y**-1))**i for i in range(0,7) )\n",
    "g = sum( (y*(x**-1))**i for i in range(0,7) )"
   ]
  },
  {
   "cell_type": "code",
   "execution_count": 54,
   "metadata": {},
   "outputs": [
    {
     "data": {
      "text/plain": [
       "(x*y + x + y)/(x*y)"
      ]
     },
     "execution_count": 54,
     "metadata": {},
     "output_type": "execute_result"
    }
   ],
   "source": [
    "W = 1 + x**-1 + y**-1\n",
    "W"
   ]
  },
  {
   "cell_type": "code",
   "execution_count": 61,
   "metadata": {},
   "outputs": [
    {
     "data": {
      "text/plain": [
       "y^-1 * x^-1 * (x*y + x + y) * (y^6 + y^5 + y^4 + y^3 + y^2 + y + 1) * (x^6 + x^5 + x^4 + x^3 + x^2 + x + 1)"
      ]
     },
     "execution_count": 61,
     "metadata": {},
     "output_type": "execute_result"
    }
   ],
   "source": [
    "P12 = W * a * b\n",
    "factor(P12)"
   ]
  },
  {
   "cell_type": "code",
   "execution_count": 62,
   "metadata": {},
   "outputs": [
    {
     "data": {
      "text/plain": [
       "y^-6 * x^5 * (x*y + x + y) * (x^6 + x^5 + x^4 + x^3 + x^2 + x + 1) * (x^6 + x^5*y + x^4*y^2 + x^3*y^3 + x^2*y^4 + x*y^5 + y^6)"
      ]
     },
     "execution_count": 62,
     "metadata": {},
     "output_type": "execute_result"
    }
   ],
   "source": [
    "P23 = W * (x**6) * (y) * f * a\n",
    "factor(P23)"
   ]
  },
  {
   "cell_type": "code",
   "execution_count": 63,
   "metadata": {},
   "outputs": [
    {
     "data": {
      "text/plain": [
       "(-1) * y^-2 * x^-1 * (x*y + x + y) * (y^6 + y^5 + y^4 + y^3 + y^2 + y + 1) * (x^6 + x^5*y + x^4*y^2 + x^3*y^3 + x^2*y^4 + x*y^5 + y^6)"
      ]
     },
     "execution_count": 63,
     "metadata": {},
     "output_type": "execute_result"
    }
   ],
   "source": [
    "P13 = -y * W * (y**4) * f * b\n",
    "factor(P13)"
   ]
  },
  {
   "cell_type": "code",
   "execution_count": 64,
   "metadata": {},
   "outputs": [
    {
     "data": {
      "text/plain": [
       "(-1) * y^-6 * x^-1 * (x*y + x + y) * (-x^18 - x^17*y - x^16*y^2 - x^15*y^3 - x^14*y^4 - x^13*y^5 - x^12*y^6 - x^17 - x^16*y - x^15*y^2 - x^14*y^3 - x^13*y^4 - x^12*y^5 - x^11*y^6 - x^6*y^11 - x^16 - x^15*y - x^14*y^2 - x^13*y^3 - x^12*y^4 - x^11*y^5 - x^10*y^6 + x^4*y^12 + x^3*y^13 + x^2*y^14 + x*y^15 + y^16 - x^15 - x^14*y - x^13*y^2 - x^12*y^3 - x^11*y^4 - x^10*y^5 - x^9*y^6 + x^3*y^12 + x^2*y^13 + x*y^14 + y^15 - x^14 - x^13*y - x^12*y^2 - x^11*y^3 - x^10*y^4 - x^9*y^5 - x^8*y^6 + x^2*y^12 + x*y^13 + y^14 - x^13 - x^12*y - x^11*y^2 - x^10*y^3 - x^9*y^4 - x^8*y^5 - x^7*y^6 + x*y^12 + y^13 - x^12 - x^11*y - x^10*y^2 - x^9*y^3 - x^8*y^4 - x^7*y^5 - x^6*y^6 + y^12 + x^6*y^4 - x^4*y^5 - x^3*y^6 - x^2*y^7 - x*y^8 - y^9 - x^3*y^5 - x^2*y^6 - x*y^7 - y^8 - x^2*y^5 - x*y^6 - y^7 - x*y^5 - y^6 - y^5)"
      ]
     },
     "execution_count": 64,
     "metadata": {},
     "output_type": "execute_result"
    }
   ],
   "source": [
    "factor(P12 + P23 + P13)"
   ]
  },
  {
   "cell_type": "code",
   "execution_count": null,
   "metadata": {},
   "outputs": [],
   "source": []
  }
 ],
 "metadata": {
  "kernelspec": {
   "display_name": "SageMath 9.4",
   "language": "sage",
   "name": "sagemath-9.4"
  },
  "language_info": {
   "codemirror_mode": {
    "name": "ipython",
    "version": 3
   },
   "file_extension": ".py",
   "mimetype": "text/x-python",
   "name": "python",
   "nbconvert_exporter": "python",
   "pygments_lexer": "ipython3",
   "version": "3.9.5"
  }
 },
 "nbformat": 4,
 "nbformat_minor": 4
}
