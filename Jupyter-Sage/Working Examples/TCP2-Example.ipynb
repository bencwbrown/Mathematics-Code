{
 "cells": [
  {
   "cell_type": "code",
   "execution_count": 1,
   "metadata": {},
   "outputs": [],
   "source": [
    "from sympy import *\n",
    "from sympy.vector import Vector\n",
    "from sympy.vector import CoordSys3D\n",
    "N = CoordSys3D('N')\n",
    "\n",
    "t = symbols( 't', real=True, positive=True )\n",
    "n, d, k = symbols( 'n d k', positive=True, integer=True )\n",
    "init_printing(use_unicode=True)\n",
    "\n",
    "# Define the vector which is not parallel to any edge vector, which will tend to zero:\n",
    "\n",
    "Phi = t*(N.i + 2*N.j)\n",
    "\n",
    "# Set the fixed points of the action; P denotes those that belong\n",
    "# to the core, and Q those that come from the cut extended core:\n",
    "\n",
    "def P12(n,d):\n",
    "    return Vector.zero\n",
    "\n",
    "def P23(n,d):\n",
    "    return n*N.i\n",
    "\n",
    "def P13(n,d):\n",
    "    return n*N.j\n",
    "\n",
    "def Q12_1(n,d):\n",
    "    return -d*N.j\n",
    "\n",
    "def Q12_2(n,d):\n",
    "    return -d*N.i\n",
    "\n",
    "def Q23_2(n,d):\n",
    "    return (n+d)*N.i\n",
    "\n",
    "def Q23_3(n,d):\n",
    "    return (n+d)*N.i - d*N.j\n",
    "\n",
    "def Q13_1(n,d):\n",
    "    return (n+d)*N.j\n",
    "\n",
    "def Q13_3(n,d):\n",
    "    return -d*N.i + (n+d)*N.j\n",
    "\n",
    "# Basis for the edge/weight vectors for the points \n",
    "\n",
    "v1 = N.i\n",
    "\n",
    "v2 = N.j\n",
    "\n",
    "# Define the term which is summed over each fixed point,\n",
    "# representing the character for the representation\n",
    "\n",
    "def f(P, edge1, edge2):\n",
    "    return exp( Phi.dot(P) ) / ( (1 - exp( Phi.dot(edge1) ) ) * ( 1 - exp( Phi.dot(edge2) ) ) )\n",
    "\n",
    "def g(P, edge1, edge2, edge3, edge4):\n",
    "    return exp( Phi.dot(P) ) / ( (1 - exp( Phi.dot(edge1) ) ) * ( 1 - exp( Phi.dot(edge2) ) ) * ( 1 - exp( Phi.dot(edge3) ) ) * ( 1 - exp( Phi.dot(edge4) ) ) )\n",
    "\n",
    "# For each of the right-angled triangles:\n",
    "\n",
    "def Delta1(n,d):\n",
    "    return f(P23(n,d), -v1, -v1 + v2 ) * ( f(0*v1 + 0*v2, v1, v1 - v2) + f(d*v1, -v1, -v2) + f(d*v1 - d*v2, v2, -v1 + v2) )\n",
    "\n",
    "def Delta2(n,d):\n",
    "    return f(P13(n,d), v1 - v2, -v2 ) * ( f(0*v1 + 0*v2, v2, -v1 + v2) + f(d*v2, -v1, -v2) + f(-d*v1 + d*v2, v1, v1 - v2) )\n",
    "\n",
    "def Delta3(n,d):\n",
    "    return f(P12(n,d), v1 , v2 ) * ( f(0*v1 + 0*v2, -v1, -v2) + f(-d*v1, v1, v1 - v2) + f(-d*v2, v2, -v1 + v2) )\n",
    "\n",
    "\n",
    "def Sum(n,d):\n",
    "    return Delta1(n,d) + Delta2(n,d) + Delta3(n,d)\n",
    "\n",
    "# Take the limit as t -> 0 to get the Euler characteristic(?)\n",
    "\n",
    "def EulerCalculation(n,d):\n",
    "    return limit(Sum(n,d),t,0)\n"
   ]
  },
  {
   "cell_type": "code",
   "execution_count": 2,
   "metadata": {},
   "outputs": [
    {
     "data": {
      "image/png": "[encoded data removed]",
      "text/latex": [
       "$\\displaystyle \\frac{d^{4}}{4} + \\frac{d^{3} n}{2} + \\frac{3 d^{3}}{2} + \\frac{d^{2} n^{2}}{4} + \\frac{9 d^{2} n}{4} + \\frac{13 d^{2}}{4} + \\frac{3 d n^{2}}{4} + \\frac{13 d n}{4} + 3 d + \\frac{n^{2}}{2} + \\frac{3 n}{2} + 1$"
      ],
      "text/plain": [
       " 4    3        3    2  2      2         2        2                   2        \n",
       "d    d ⋅n   3⋅d    d ⋅n    9⋅d ⋅n   13⋅d    3⋅d⋅n    13⋅d⋅n         n    3⋅n  \n",
       "── + ──── + ──── + ───── + ────── + ───── + ────── + ────── + 3⋅d + ── + ─── +\n",
       "4     2      2       4       4        4       4        4            2     2   \n",
       "\n",
       "  \n",
       "  \n",
       " 1\n",
       "  "
      ]
     },
     "execution_count": 2,
     "metadata": {},
     "output_type": "execute_result"
    }
   ],
   "source": [
    "EulerCalculation(n,d) # Letting t -> 0  to obtain the Euler characteristic (n.b. degree-0 term in a is equal to lattice point count for CP2's polytope)"
   ]
  },
  {
   "cell_type": "code",
   "execution_count": 3,
   "metadata": {},
   "outputs": [
    {
     "data": {
      "image/png": "[encoded data removed]",
      "text/latex": [
       "$\\displaystyle \\frac{\\left(d + 1\\right) \\left(d + 2\\right) \\left(d + n + 1\\right) \\left(d + n + 2\\right)}{4}$"
      ],
      "text/plain": [
       "(d + 1)⋅(d + 2)⋅(d + n + 1)⋅(d + n + 2)\n",
       "───────────────────────────────────────\n",
       "                   4                   "
      ]
     },
     "execution_count": 3,
     "metadata": {},
     "output_type": "execute_result"
    }
   ],
   "source": [
    "factor(EulerCalculation(n,d))"
   ]
  },
  {
   "cell_type": "code",
   "execution_count": 4,
   "metadata": {},
   "outputs": [],
   "source": [
    "def Euler(n,d):\n",
    "    return simplify( Rational(1,4) * ( (d+1)*(d+2)*(n+d+1)*(n+d+2) ) )"
   ]
  },
  {
   "cell_type": "code",
   "execution_count": 5,
   "metadata": {},
   "outputs": [],
   "source": [
    "def Diff(n,d):\n",
    "    return factor(Euler(n,d) - Euler(n,d-1))"
   ]
  },
  {
   "cell_type": "code",
   "execution_count": 6,
   "metadata": {},
   "outputs": [
    {
     "data": {
      "image/png": "[encoded data removed]",
      "text/latex": [
       "$\\displaystyle \\frac{\\left(k + 1\\right) \\left(k + 2\\right)}{2}$"
      ],
      "text/plain": [
       "(k + 1)⋅(k + 2)\n",
       "───────────────\n",
       "       2       "
      ]
     },
     "execution_count": 6,
     "metadata": {},
     "output_type": "execute_result"
    }
   ],
   "source": [
    "Euler(k,0) # The usual formula for the number of lattice points in the dilated 2-simplex"
   ]
  },
  {
   "cell_type": "code",
   "execution_count": 8,
   "metadata": {},
   "outputs": [
    {
     "data": {
      "image/png": "[encoded data removed]",
      "text/latex": [
       "$\\displaystyle \\frac{\\left(d + 1\\right) \\left(d + n + 1\\right) \\left(2 d + n + 2\\right)}{2}$"
      ],
      "text/plain": [
       "(d + 1)⋅(d + n + 1)⋅(2⋅d + n + 2)\n",
       "─────────────────────────────────\n",
       "                2                "
      ]
     },
     "execution_count": 8,
     "metadata": {},
     "output_type": "execute_result"
    }
   ],
   "source": [
    "Diff(n,d)"
   ]
  },
  {
   "cell_type": "markdown",
   "metadata": {},
   "source": [
    "Formula for $\\dim H^{0}(M_{\\nu}^{\\leq d}; \\mathcal{L}_{\\nu}^{\\leq d})$ with $M_{\\nu} = T^{\\ast}\\mathbb{CP}^{2}$ is:\n",
    "\n",
    "$ \\dim H^{0}(M_{n}^{\\leq d}; \\mathcal{L}_{n}^{\\leq d}) = \\frac{(n + d + 1)(n + d + 2)(d + 1)(d+2)}{4}.$ \n",
    "\n",
    "$ \\dim H_{d}^{0}(M_{n}; \\mathcal{L}_{n}) = \\frac{(n + d + 1)(d+1)(n + 2d + 2)}{2}.$"
   ]
  },
  {
   "cell_type": "code",
   "execution_count": 62,
   "metadata": {},
   "outputs": [],
   "source": [
    "def topDelta12(n,d):\n",
    "    return f( Q12_1(n,d), v1, -v1 + v2 ) + f( Q12_2(n,d), v1 - v2, v2 )\n",
    "\n",
    "def topDelta23(n,d):\n",
    "    return f( Q23_2(n,d), -v1 + v2, -v2 ) + f( Q23_3(n,d), v2, -v1 )\n",
    "\n",
    "def topDelta13(n,d):\n",
    "    return f( Q13_1(n,d), v1 - v2, -v1 ) + f( Q13_3(n,d), v1, -v2 )\n",
    "\n",
    "def Volume(n,d):\n",
    "    return factor( limit(topDelta12(n,d) + topDelta23(n,d) + topDelta13(n,d), t, 0) )\n",
    "\n",
    "def Fact(n,d,k):\n",
    "    return simplify( ( factorial(n+d+k) / factorial(n+d) ) / factorial(k) )\n",
    "\n",
    "def Dimension(n,d,k):\n",
    "    return simplify( ( Fact(n,d,k) * Fact(0,d,k) ) - ( Fact(n,d-1,k) * Fact(0,d-1,k) ) )"
   ]
  },
  {
   "cell_type": "code",
   "execution_count": 64,
   "metadata": {},
   "outputs": [
    {
     "data": {
      "image/png": "[encoded data removed]",
      "text/latex": [
       "$\\displaystyle 0$"
      ],
      "text/plain": [
       "0"
      ]
     },
     "execution_count": 64,
     "metadata": {},
     "output_type": "execute_result"
    }
   ],
   "source": [
    "Dimension(n,d,0)"
   ]
  },
  {
   "cell_type": "code",
   "execution_count": 63,
   "metadata": {},
   "outputs": [
    {
     "data": {
      "image/png": "[encoded data removed]",
      "text/latex": [
       "$\\displaystyle 2 d + n + 1$"
      ],
      "text/plain": [
       "2⋅d + n + 1"
      ]
     },
     "execution_count": 63,
     "metadata": {},
     "output_type": "execute_result"
    }
   ],
   "source": [
    "Dimension(n,d,1)"
   ]
  },
  {
   "cell_type": "code",
   "execution_count": 31,
   "metadata": {},
   "outputs": [
    {
     "data": {
      "image/png": "[encoded data removed]",
      "text/latex": [
       "$\\displaystyle \\frac{\\left(d + 1\\right) \\left(d + n + 1\\right) \\left(2 d + n + 2\\right)}{2}$"
      ],
      "text/plain": [
       "(d + 1)⋅(d + n + 1)⋅(2⋅d + n + 2)\n",
       "─────────────────────────────────\n",
       "                2                "
      ]
     },
     "execution_count": 31,
     "metadata": {},
     "output_type": "execute_result"
    }
   ],
   "source": [
    "Dimension(n,d,2)"
   ]
  },
  {
   "cell_type": "code",
   "execution_count": 32,
   "metadata": {},
   "outputs": [
    {
     "data": {
      "image/png": "[encoded data removed]",
      "text/latex": [
       "$\\displaystyle \\frac{\\left(d + 1\\right) \\left(d + 2\\right) \\left(d + n + 1\\right) \\left(d + n + 2\\right) \\left(2 d + n + 3\\right)}{12}$"
      ],
      "text/plain": [
       "(d + 1)⋅(d + 2)⋅(d + n + 1)⋅(d + n + 2)⋅(2⋅d + n + 3)\n",
       "─────────────────────────────────────────────────────\n",
       "                          12                         "
      ]
     },
     "execution_count": 32,
     "metadata": {},
     "output_type": "execute_result"
    }
   ],
   "source": [
    "Dimension(n,d,3)"
   ]
  },
  {
   "cell_type": "code",
   "execution_count": 34,
   "metadata": {},
   "outputs": [
    {
     "data": {
      "image/png": "[encoded data removed]",
      "text/latex": [
       "$\\displaystyle \\frac{\\left(d + 1\\right) \\left(d + 2\\right) \\left(d + 3\\right) \\left(d + n + 1\\right) \\left(d + n + 2\\right) \\left(d + n + 3\\right) \\left(2 d + n + 4\\right)}{144}$"
      ],
      "text/plain": [
       "(d + 1)⋅(d + 2)⋅(d + 3)⋅(d + n + 1)⋅(d + n + 2)⋅(d + n + 3)⋅(2⋅d + n + 4)\n",
       "─────────────────────────────────────────────────────────────────────────\n",
       "                                   144                                   "
      ]
     },
     "execution_count": 34,
     "metadata": {},
     "output_type": "execute_result"
    }
   ],
   "source": [
    "simplify( Dimension(n,d,4) )"
   ]
  },
  {
   "cell_type": "code",
   "execution_count": 65,
   "metadata": {},
   "outputs": [
    {
     "data": {
      "image/png": "[encoded data removed]",
      "text/latex": [
       "$\\displaystyle \\frac{\\left(d + 1\\right) \\left(d + 2\\right) \\left(d + 3\\right) \\left(d + 4\\right) \\left(d + n + 1\\right) \\left(d + n + 2\\right) \\left(d + n + 3\\right) \\left(d + n + 4\\right) \\left(2 d + n + 5\\right)}{2880}$"
      ],
      "text/plain": [
       "(d + 1)⋅(d + 2)⋅(d + 3)⋅(d + 4)⋅(d + n + 1)⋅(d + n + 2)⋅(d + n + 3)⋅(d + n + 4\n",
       "──────────────────────────────────────────────────────────────────────────────\n",
       "                                             2880                             \n",
       "\n",
       ")⋅(2⋅d + n + 5)\n",
       "───────────────\n",
       "               "
      ]
     },
     "execution_count": 65,
     "metadata": {},
     "output_type": "execute_result"
    }
   ],
   "source": [
    "simplify( Dimension(n,d,5) )"
   ]
  },
  {
   "cell_type": "code",
   "execution_count": 73,
   "metadata": {},
   "outputs": [
    {
     "data": {
      "image/png": "[encoded data removed]",
      "text/latex": [
       "$\\displaystyle \\frac{\\left(d + n + 1\\right) \\left(d + n + 2\\right) \\left(d + n + 3\\right)}{6}$"
      ],
      "text/plain": [
       "(d + n + 1)⋅(d + n + 2)⋅(d + n + 3)\n",
       "───────────────────────────────────\n",
       "                 6                 "
      ]
     },
     "metadata": {},
     "output_type": "display_data"
    },
    {
     "data": {
      "image/png": "[encoded data removed]",
      "text/latex": [
       "$\\displaystyle \\frac{\\left(d + n\\right) \\left(d + n + 1\\right) \\left(d + n + 2\\right)}{6}$"
      ],
      "text/plain": [
       "(d + n)⋅(d + n + 1)⋅(d + n + 2)\n",
       "───────────────────────────────\n",
       "               6               "
      ]
     },
     "metadata": {},
     "output_type": "display_data"
    }
   ],
   "source": [
    "display(Fact(n,d,3))\n",
    "\n",
    "display(Fact(n,d-1,3))"
   ]
  },
  {
   "cell_type": "code",
   "execution_count": 75,
   "metadata": {},
   "outputs": [
    {
     "data": {
      "image/png": "[encoded data removed]",
      "text/latex": [
       "$\\displaystyle \\frac{\\left(d + n + 1\\right) \\left(d + n + 2\\right)}{2}$"
      ],
      "text/plain": [
       "(d + n + 1)⋅(d + n + 2)\n",
       "───────────────────────\n",
       "           2           "
      ]
     },
     "execution_count": 75,
     "metadata": {},
     "output_type": "execute_result"
    }
   ],
   "source": [
    "factor( Fact(n,d,3) - Fact(n,d-1,3) )"
   ]
  },
  {
   "cell_type": "code",
   "execution_count": null,
   "metadata": {},
   "outputs": [],
   "source": []
  }
 ],
 "metadata": {
  "kernelspec": {
   "display_name": "Python 3 (ipykernel)",
   "language": "python",
   "name": "python3"
  },
  "language_info": {
   "codemirror_mode": {
    "name": "ipython",
    "version": 3
   },
   "file_extension": ".py",
   "mimetype": "text/x-python",
   "name": "python",
   "nbconvert_exporter": "python",
   "pygments_lexer": "ipython3",
   "version": "3.9.9"
  }
 },
 "nbformat": 4,
 "nbformat_minor": 4
}
