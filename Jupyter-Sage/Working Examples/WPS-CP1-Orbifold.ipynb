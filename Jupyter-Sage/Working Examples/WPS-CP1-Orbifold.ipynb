{
 "cells": [
  {
   "cell_type": "markdown",
   "metadata": {},
   "source": [
    "# Weighted Projective Line - 20/12/2021"
   ]
  },
  {
   "cell_type": "markdown",
   "metadata": {},
   "source": [
    "# Orbifold Atiyah-Bott\n",
    "\n",
    "For $\\mathbb{C}\\mathbb{P}(1,q) = \\mathbb{C}\\mathbb{P}(1,q)$, with associated polytope given by\n",
    "\n",
    "$$ \\Delta = \\text{Conv}\\{ 0,\\, k \\}. $$\n",
    "\n",
    "Denominator, where $\\mu_{3} = e^{2\\pi i / 3}$:\n",
    "\n",
    "$$ \\sum_{k = 0}^{2} \\left[ ( 1 - \\mu_{3}^{2k} \\cdot t_{1}^{-2/3}t_{2} ) \\cdot ( 1 - \\mu_{3}^{k} \\cdot t_{1}^{-1}t_{3} ) \\right] = \\left[ ( 1 - t_{1}^{-2/3}t_{2} ) \\cdot ( 1 - t_{1}^{-1}t_{3} ) \\right] + \\left[ ( 1 - \\mu_{3}^{2} \\cdot t_{1}^{-2/3}t_{2} ) \\cdot ( 1 - \\mu_{3} \\cdot t_{1}^{-1}t_{3} ) \\right] + \\left[ ( 1 - \\mu_{3} \\cdot t_{1}^{-2/3}t_{2} ) \\cdot ( 1 - \\mu_{3}^{2} \\cdot t_{1}^{-1}t_{3} ) \\right]. $$\n",
    "\n"
   ]
  },
  {
   "cell_type": "code",
   "execution_count": 8,
   "metadata": {},
   "outputs": [],
   "source": [
    "from sympy import *\n",
    "import numpy as np\n",
    "from sympy.vector import Vector\n",
    "from sympy.vector import CoordSys3D\n",
    "import IPython.display as disp\n",
    "\n",
    "N = CoordSys3D('N')\n",
    "\n",
    "t, a, b, d = symbols( 't a b d')\n",
    "k = symbols('k', real = True)\n",
    "p, q, d = symbols('p q d', integer=True)\n",
    "# init_printing(use_unicode=True)\n",
    "init_printing(use_latex='mathjax')\n",
    "\n",
    "# Basis for the edge/weight vectors for the points \n",
    "\n",
    "v1 = N.i\n",
    "v2 = N.j\n",
    "\n",
    "# Define the vector which is not parallel to any edge vector, which will tend to zero:\n",
    "\n",
    "Phi = t*(v1 + 2*v2)\n",
    "\n",
    "# Define the vertices of the general triangle:\n",
    "\n",
    "def P12(a,b):\n",
    "    return 0*v1 + 0*v2\n",
    "\n",
    "def P23(a,b):\n",
    "    return a*v1\n",
    "\n",
    "def P13(a,b):\n",
    "    return b*v2"
   ]
  },
  {
   "cell_type": "code",
   "execution_count": 15,
   "metadata": {},
   "outputs": [],
   "source": [
    "# Define the term which is summed over each fixed point,\n",
    "# representing the character for the representation\n",
    "\n",
    "# def P(P, edge1, edge2, edge3, edge4):\n",
    "#    return exp( Phi.dot(P) ) / ( (1 - exp( Phi.dot(edge1) ) ) * ( 1 - exp( Phi.dot(edge2) ) ) * ( 1 - exp( Phi.dot(edge3) ) ) * ( 1 - exp( Phi.dot(edge4) ) ) )\n",
    "\n",
    "def Q(P, edge1, edge2):\n",
    "    return exp( Phi.dot(P) ) / ( (1 - exp( Phi.dot(edge1) ) ) * ( 1 - exp( Phi.dot(edge2) ) ) )\n",
    "\n",
    "def Exp(p, q):\n",
    "    return exp( 2*pi*I*Rational(p,q) )\n",
    "\n",
    "# Term for the orbifold points:\n",
    "\n",
    "#def UnityRootTerm(P, p, q, edge1, edge2):\n",
    "#    return ( Rational(1,q) * exp( Phi.dot(P) / q ) ) / ( (1 - ( Exp(p,q) * exp(  Phi.dot(edge1) ) ) ) * ( 1 - ( Exp(p,q) * exp( Rational(1,q) * Phi.dot(edge2) ) ) ) )\n",
    "\n",
    "def UnityRootTerm(P, p, q, edge1, edge2):\n",
    "    return ( exp( Phi.dot(P) / q ) ) / ( (1 - ( (Exp(p,q) * exp( Rational(1,q) * Phi.dot(edge1) ) ) ) * ( 1 - ( Exp(p,q) * exp( Rational(1,q) * Phi.dot(edge2) ) ) ) ) )\n",
    "\n",
    "# Iterates the sum over each q-th root of unity:\n",
    "\n",
    "def OrbiCharacter(P, q, edge1, edge2):\n",
    "    return sum([UnityRootTerm(P, k, q, edge1, edge2) for k in range(0,q)])\n"
   ]
  },
  {
   "cell_type": "code",
   "execution_count": 4,
   "metadata": {},
   "outputs": [
    {
     "data": {
      "text/latex": [
       "$\\displaystyle \\frac{e^{a t}}{3 \\left(1 - e^{- \\frac{t}{3}}\\right) \\left(1 - e^{\\frac{4 t}{3}}\\right)} + \\frac{e^{a t}}{3 \\left(1 - e^{- \\frac{t}{3}} e^{\\frac{2 i \\pi}{3}}\\right) \\left(- e^{\\frac{4 t}{3}} e^{- \\frac{2 i \\pi}{3}} + 1\\right)} + \\frac{e^{a t}}{3 \\left(1 - e^{- \\frac{t}{3}} e^{- \\frac{2 i \\pi}{3}}\\right) \\left(- e^{\\frac{4 t}{3}} e^{\\frac{2 i \\pi}{3}} + 1\\right)}$"
      ],
      "text/plain": [
       "           a⋅t                                a⋅t                             \n",
       "          ℯ                                  ℯ                                \n",
       "─────────────────────── + ───────────────────────────────────────── + ────────\n",
       "  ⎛     -t ⎞ ⎛     4⋅t⎞     ⎛     -t   2⋅ⅈ⋅π⎞ ⎛   4⋅t  -2⋅ⅈ⋅π     ⎞     ⎛     \n",
       "  ⎜     ───⎟ ⎜     ───⎟     ⎜     ───  ─────⎟ ⎜   ───  ───────    ⎟     ⎜     \n",
       "  ⎜      3 ⎟ ⎜      3 ⎟     ⎜      3     3  ⎟ ⎜    3      3       ⎟     ⎜     \n",
       "3⋅⎝1 - ℯ   ⎠⋅⎝1 - ℯ   ⎠   3⋅⎝1 - ℯ   ⋅ℯ     ⎠⋅⎝- ℯ   ⋅ℯ        + 1⎠   3⋅⎝1 - ℯ\n",
       "\n",
       "            a⋅t                  \n",
       "           ℯ                     \n",
       "─────────────────────────────────\n",
       "-t   -2⋅ⅈ⋅π ⎞ ⎛   4⋅t  2⋅ⅈ⋅π    ⎞\n",
       "───  ───────⎟ ⎜   ───  ─────    ⎟\n",
       " 3      3   ⎟ ⎜    3     3      ⎟\n",
       "   ⋅ℯ       ⎠⋅⎝- ℯ   ⋅ℯ      + 1⎠"
      ]
     },
     "execution_count": 4,
     "metadata": {},
     "output_type": "execute_result"
    }
   ],
   "source": [
    "def Exp(p, q):\n",
    "    return exp( 2*pi*I*Rational(p,q) )\n",
    "\n",
    "# For z_{1} = 1, which has orbifold structure group of order 3:\n",
    "\n",
    "def zOne(a,b):\n",
    "    return Rational(1,3) * ( exp( Phi.dot(P23(a,b)) ) / ( ( (1 - Exp(0,3) * exp( Phi.dot( (-2*v1 + 3*v2)*Rational(1,3) ) ) ) ) * ( 1 - Exp(0,3) * exp( Phi.dot( (-v1)*Rational(1,3) ) ) ) ) + ( exp( Phi.dot(P23(a,b)) ) ) / ( ( (1 - Exp(2,3) * exp( Phi.dot( (-2*v1 + 3*v2)*Rational(1,3) ) ) ) ) * ( 1 - Exp(1,3) * exp( Phi.dot( (-v1)*Rational(1,3) ) ) ) ) + ( exp( Phi.dot(P23(a,b)) ) ) / ( ( (1 - Exp(4,3) * exp( Phi.dot( (-2*v1 + 3*v2)*Rational(1,3) ) ) ) ) * ( 1 - Exp(2,3) * exp( Phi.dot( (-v1)*Rational(1,3) ) ) ) ) )\n",
    "\n",
    "zOne(a,b)"
   ]
  },
  {
   "cell_type": "code",
   "execution_count": 5,
   "metadata": {},
   "outputs": [
    {
     "data": {
      "text/latex": [
       "$\\displaystyle \\frac{e^{2 b t}}{2 \\left(1 + e^{- 2 t}\\right) \\left(1 + e^{- t}\\right)} + \\frac{e^{2 b t}}{2 \\left(1 - e^{- 2 t}\\right) \\left(1 - e^{- t}\\right)}$"
      ],
      "text/plain": [
       "          2⋅b⋅t                     2⋅b⋅t        \n",
       "         ℯ                         ℯ             \n",
       "─────────────────────── + ───────────────────────\n",
       "  ⎛     -2⋅t⎞ ⎛     -t⎞     ⎛     -2⋅t⎞ ⎛     -t⎞\n",
       "2⋅⎝1 + ℯ    ⎠⋅⎝1 + ℯ  ⎠   2⋅⎝1 - ℯ    ⎠⋅⎝1 - ℯ  ⎠"
      ]
     },
     "execution_count": 5,
     "metadata": {},
     "output_type": "execute_result"
    }
   ],
   "source": [
    "# For z_{2} = 1, which has orbifold structure group of order 2:\n",
    "\n",
    "def zTwo(a,b):\n",
    "    return Rational(1,2) * ( exp( Phi.dot( P13(a,b) ) ) / ( ( (1 - Exp(0,2) * exp( Phi.dot( (2*v1 - 3*v2)*Rational(1,2) ) ) ) ) * ( 1 - Exp(0,2) * exp( Phi.dot( (-v2)*Rational(1,2) ) ) ) ) + exp( Phi.dot( P13(a,b) ) ) / ( ( (1 - Exp(1,2) * exp( Phi.dot( (2*v1 - 3*v2)*Rational(1,2) ) ) ) ) * ( 1 - Exp(1,2) * exp( Phi.dot( (-v2)*Rational(1,2) ) ) ) ) )\n",
    "\n",
    "zTwo(a,b)"
   ]
  },
  {
   "cell_type": "code",
   "execution_count": 6,
   "metadata": {},
   "outputs": [
    {
     "data": {
      "text/latex": [
       "$\\displaystyle \\frac{1}{\\left(1 - e^{t}\\right) \\left(1 - e^{2 t}\\right)}$"
      ],
      "text/plain": [
       "         1         \n",
       "───────────────────\n",
       "⎛     t⎞ ⎛     2⋅t⎞\n",
       "⎝1 - ℯ ⎠⋅⎝1 - ℯ   ⎠"
      ]
     },
     "execution_count": 6,
     "metadata": {},
     "output_type": "execute_result"
    }
   ],
   "source": [
    "# For z_{3} = 1, which has trivial orbifold structure group:\n",
    "def zThree(a,b):\n",
    "    return exp( Phi.dot( P12(a,b) ) ) / ( ( (1 - exp( Phi.dot( v1 ) )) ) * ( 1 - exp( Phi.dot(v2) ) ) )\n",
    "\n",
    "zThree(a,b)"
   ]
  },
  {
   "cell_type": "code",
   "execution_count": 20,
   "metadata": {},
   "outputs": [],
   "source": [
    "def Sum(a,b):\n",
    "    return zOne(a,b) + zTwo(a,b) + zThree(a,b)"
   ]
  },
  {
   "cell_type": "code",
   "execution_count": 21,
   "metadata": {},
   "outputs": [
    {
     "data": {
      "text/latex": [
       "$\\displaystyle \\frac{1}{\\left(1 - e^{t}\\right) \\left(1 - e^{2 t}\\right)} + \\frac{e^{a t}}{3 \\left(1 - e^{- \\frac{t}{3}}\\right) \\left(1 - e^{\\frac{4 t}{3}}\\right)} + \\frac{e^{2 b t}}{2 \\left(1 + e^{- 2 t}\\right) \\left(1 + e^{- t}\\right)} + \\frac{e^{2 b t}}{2 \\left(1 - e^{- 2 t}\\right) \\left(1 - e^{- t}\\right)} + \\frac{e^{a t}}{3 \\left(1 - e^{- \\frac{t}{3}} e^{\\frac{2 i \\pi}{3}}\\right) \\left(- e^{\\frac{4 t}{3}} e^{- \\frac{2 i \\pi}{3}} + 1\\right)} + \\frac{e^{a t}}{3 \\left(1 - e^{- \\frac{t}{3}} e^{- \\frac{2 i \\pi}{3}}\\right) \\left(- e^{\\frac{4 t}{3}} e^{\\frac{2 i \\pi}{3}} + 1\\right)}$"
      ],
      "text/plain": [
       "                                 a⋅t                      2⋅b⋅t               \n",
       "         1                      ℯ                        ℯ                    \n",
       "─────────────────── + ─────────────────────── + ─────────────────────── + ────\n",
       "⎛     t⎞ ⎛     2⋅t⎞     ⎛     -t ⎞ ⎛     4⋅t⎞     ⎛     -2⋅t⎞ ⎛     -t⎞     ⎛ \n",
       "⎝1 - ℯ ⎠⋅⎝1 - ℯ   ⎠     ⎜     ───⎟ ⎜     ───⎟   2⋅⎝1 + ℯ    ⎠⋅⎝1 + ℯ  ⎠   2⋅⎝1\n",
       "                        ⎜      3 ⎟ ⎜      3 ⎟                                 \n",
       "                      3⋅⎝1 - ℯ   ⎠⋅⎝1 - ℯ   ⎠                                 \n",
       "\n",
       "      2⋅b⋅t                               a⋅t                                 \n",
       "     ℯ                                   ℯ                                    \n",
       "─────────────────── + ───────────────────────────────────────── + ────────────\n",
       "    -2⋅t⎞ ⎛     -t⎞     ⎛     -t   2⋅ⅈ⋅π⎞ ⎛   4⋅t  -2⋅ⅈ⋅π     ⎞     ⎛     -t  \n",
       " - ℯ    ⎠⋅⎝1 - ℯ  ⎠     ⎜     ───  ─────⎟ ⎜   ───  ───────    ⎟     ⎜     ─── \n",
       "                        ⎜      3     3  ⎟ ⎜    3      3       ⎟     ⎜      3  \n",
       "                      3⋅⎝1 - ℯ   ⋅ℯ     ⎠⋅⎝- ℯ   ⋅ℯ        + 1⎠   3⋅⎝1 - ℯ   ⋅\n",
       "\n",
       "        a⋅t                  \n",
       "       ℯ                     \n",
       "─────────────────────────────\n",
       " -2⋅ⅈ⋅π ⎞ ⎛   4⋅t  2⋅ⅈ⋅π    ⎞\n",
       " ───────⎟ ⎜   ───  ─────    ⎟\n",
       "    3   ⎟ ⎜    3     3      ⎟\n",
       "ℯ       ⎠⋅⎝- ℯ   ⋅ℯ      + 1⎠"
      ]
     },
     "execution_count": 21,
     "metadata": {},
     "output_type": "execute_result"
    }
   ],
   "source": [
    "Sum(a,b)"
   ]
  },
  {
   "cell_type": "code",
   "execution_count": 22,
   "metadata": {},
   "outputs": [
    {
     "data": {
      "text/latex": [
       "$\\displaystyle 7$"
      ],
      "text/plain": [
       "7"
      ]
     },
     "execution_count": 22,
     "metadata": {},
     "output_type": "execute_result"
    }
   ],
   "source": [
    "nsimplify(limit(Sum(2,3), t, 0))"
   ]
  },
  {
   "cell_type": "code",
   "execution_count": 24,
   "metadata": {},
   "outputs": [
    {
     "data": {
      "text/latex": [
       "$\\displaystyle 19$"
      ],
      "text/plain": [
       "19"
      ]
     },
     "execution_count": 24,
     "metadata": {},
     "output_type": "execute_result"
    }
   ],
   "source": [
    "nsimplify(limit(Sum(4,6), t, 0))"
   ]
  },
  {
   "cell_type": "code",
   "execution_count": 27,
   "metadata": {},
   "outputs": [
    {
     "data": {
      "text/latex": [
       "$\\displaystyle 37$"
      ],
      "text/plain": [
       "37"
      ]
     },
     "execution_count": 27,
     "metadata": {},
     "output_type": "execute_result"
    }
   ],
   "source": [
    "nsimplify(limit(Sum(6,9), t, 0))"
   ]
  },
  {
   "cell_type": "code",
   "execution_count": 39,
   "metadata": {},
   "outputs": [
    {
     "data": {
      "text/latex": [
       "$\\displaystyle 3 k^{2} + 3 k + 1$"
      ],
      "text/plain": [
       "   2          \n",
       "3⋅k  + 3⋅k + 1"
      ]
     },
     "execution_count": 39,
     "metadata": {},
     "output_type": "execute_result"
    }
   ],
   "source": [
    "re(radsimp(limit(Sum(2*k, 3*k), t, 0), k).as_numer_denom()[0]) / re(radsimp(limit(Sum(2*k, 3*k), t, 0), k).as_numer_denom()[1])"
   ]
  },
  {
   "cell_type": "code",
   "execution_count": 40,
   "metadata": {},
   "outputs": [
    {
     "data": {
      "text/latex": [
       "$\\displaystyle 1$"
      ],
      "text/plain": [
       "1"
      ]
     },
     "metadata": {},
     "output_type": "display_data"
    },
    {
     "data": {
      "text/latex": [
       "$\\displaystyle 7$"
      ],
      "text/plain": [
       "7"
      ]
     },
     "metadata": {},
     "output_type": "display_data"
    },
    {
     "data": {
      "text/latex": [
       "$\\displaystyle 19$"
      ],
      "text/plain": [
       "19"
      ]
     },
     "metadata": {},
     "output_type": "display_data"
    },
    {
     "data": {
      "text/latex": [
       "$\\displaystyle 37$"
      ],
      "text/plain": [
       "37"
      ]
     },
     "metadata": {},
     "output_type": "display_data"
    },
    {
     "data": {
      "text/latex": [
       "$\\displaystyle 61$"
      ],
      "text/plain": [
       "61"
      ]
     },
     "metadata": {},
     "output_type": "display_data"
    },
    {
     "data": {
      "text/latex": [
       "$\\displaystyle 91$"
      ],
      "text/plain": [
       "91"
      ]
     },
     "metadata": {},
     "output_type": "display_data"
    },
    {
     "data": {
      "text/latex": [
       "$\\displaystyle 127$"
      ],
      "text/plain": [
       "127"
      ]
     },
     "metadata": {},
     "output_type": "display_data"
    },
    {
     "data": {
      "text/latex": [
       "$\\displaystyle 169$"
      ],
      "text/plain": [
       "169"
      ]
     },
     "metadata": {},
     "output_type": "display_data"
    },
    {
     "data": {
      "text/latex": [
       "$\\displaystyle 217$"
      ],
      "text/plain": [
       "217"
      ]
     },
     "metadata": {},
     "output_type": "display_data"
    },
    {
     "data": {
      "text/latex": [
       "$\\displaystyle 271$"
      ],
      "text/plain": [
       "271"
      ]
     },
     "metadata": {},
     "output_type": "display_data"
    }
   ],
   "source": [
    "for k in range(0, 10):\n",
    "    disp.display(re(radsimp(limit(Sum(2*k, 3*k), t, 0), k).as_numer_denom()[0]) / re(radsimp(limit(Sum(2*k, 3*k), t, 0), k).as_numer_denom()[1]))"
   ]
  },
  {
   "cell_type": "code",
   "execution_count": null,
   "metadata": {},
   "outputs": [],
   "source": []
  }
 ],
 "metadata": {
  "kernelspec": {
   "display_name": "Python 3",
   "language": "python",
   "name": "python3"
  },
  "language_info": {
   "codemirror_mode": {
    "name": "ipython",
    "version": 3
   },
   "file_extension": ".py",
   "mimetype": "text/x-python",
   "name": "python",
   "nbconvert_exporter": "python",
   "pygments_lexer": "ipython3",
   "version": "3.9.5"
  }
 },
 "nbformat": 4,
 "nbformat_minor": 4
}
