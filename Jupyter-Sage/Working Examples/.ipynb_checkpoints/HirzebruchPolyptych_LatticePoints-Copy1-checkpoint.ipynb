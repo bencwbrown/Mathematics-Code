{
 "cells": [
  {
   "cell_type": "code",
   "execution_count": 1,
   "metadata": {},
   "outputs": [],
   "source": [
    "from sympy import *\n",
    "from sympy.vector import Vector\n",
    "from sympy.vector import CoordSys3D\n",
    "import IPython.display as disp\n",
    "\n",
    "N = CoordSys3D('N')\n",
    "\n",
    "t, k = symbols( 't k' )\n",
    "n, m, d = symbols('n m d', positive=True, integer=True)\n",
    "# init_printing(use_unicode=True)\n",
    "init_printing(use_latex='mathjax')\n",
    "\n",
    "# Basis for the edge/weight vectors for the points \n",
    "\n",
    "v1 = N.i\n",
    "v2 = N.j\n",
    "\n",
    "# Define the vector which is not parallel to any edge vector, which will tend to zero:\n",
    "\n",
    "Phi = t*(v1 + 3*v2)\n",
    "\n",
    "# Set the fixed points of the action; P denotes those that belong\n",
    "# to the core, and Q those that come from the cut extended core:\n",
    "\n",
    "def P12(n,m):\n",
    "    return Vector.zero\n",
    "\n",
    "def P23(n,m):\n",
    "    return (m+n)*v1\n",
    "\n",
    "def P34(n,m):\n",
    "    return m*v1 + n*v2\n",
    "\n",
    "def P14(n,m):\n",
    "    return n*v2\n",
    "\n",
    "def P13(n,m):\n",
    "    return (m+n)*v2"
   ]
  },
  {
   "cell_type": "code",
   "execution_count": 2,
   "metadata": {},
   "outputs": [],
   "source": [
    "def Q12_1(n,m,d):\n",
    "    return (-m-2*d)*v2\n",
    "\n",
    "def Q12_2(n,m,d):\n",
    "    return (-m-2*d)*v1\n",
    "\n",
    "def Q23_2(n,m,d):\n",
    "    return (2*m+n+2*d)*v1\n",
    "\n",
    "def Q23_3(n,m,d):\n",
    "    return (2*m+n+2*d)*v1 + (-m-2*d)*v2\n",
    "\n",
    "def Q34_4(n,m,d):\n",
    "    return (2*m + 2*d)*v1 + n*v2\n",
    "\n",
    "def Q13_1(n,m,d):\n",
    "    return (m+n+d)*v2\n",
    "\n",
    "def Q13_3(n,m,d):\n",
    "    return -d*v1 + (m+n+d)*v2\n",
    "\n",
    "def Q14_4(n,m,d):\n",
    "    return (-m-2*d)*v1 + n*v2\n",
    "\n",
    "# Define the term which is summed over each fixed point,\n",
    "# representing the character for the representation\n",
    "\n",
    "def P(P, edge1, edge2, edge3, edge4):\n",
    "    return exp( Phi.dot(P) ) / ( (1 - exp( Phi.dot(edge1) ) ) * ( 1 - exp( Phi.dot(edge2) ) ) * ( 1 - exp( Phi.dot(edge3) ) ) * ( 1 - exp( Phi.dot(edge4) ) ) )\n",
    "\n",
    "\n",
    "def Q(P, edge1, edge2):\n",
    "    return exp( Phi.dot(P) ) / ( (1 - exp( Phi.dot(edge1) ) ) * ( 1 - exp( Phi.dot(edge2) ) ) )\n",
    "\n",
    "def Exp(p, q):\n",
    "    return exp( 2*pi*I*Rational(p,q) )\n",
    "\n",
    "def OrbiFactor(p, q, edge):\n",
    "    return ( 1 - ( Exp(p,q) * exp( Rational(p,q) * Phi.dot(edge) ) ) )\n",
    "\n",
    "def OrbiSum(Q, p, q, edge1, edge2, edge3, edge4):\n",
    "    return ( Rational(1,q) * exp( Phi.dot(Q) ) ) / ( (1 - ( Exp(p,q) * exp( Rational(1,q) * Phi.dot(edge1) ) ) ) * (1 - ( Exp(p,q) * exp( Rational(1,q) * Phi.dot(edge2) ) ) ) * (1 - ( Exp(p,q) * exp( Rational(1,q) * Phi.dot(edge3) ) ) ) * (1 - ( Exp(p,q) * exp( Rational(1,q) * Phi.dot(edge4) ) ) ) ) \n",
    "\n",
    "def OrbiHalfSum(Q, p, q, edge1, edge2, edge3, edge4):\n",
    "    return ( Rational(1,q) * exp( Phi.dot(Q) ) ) / ( (1 - ( Exp(p,q) * exp( Rational(1,q) * Phi.dot(edge1) ) ) ) * (1 - ( Exp(p,q) * exp( Rational(1,q) * Phi.dot(edge2) ) ) ) * (1 - ( Exp(p,q) * exp( Rational(1,q) * Phi.dot(edge3) ) ) ) * (1 - ( Exp(p,q) * exp( Rational(1,q) * Phi.dot(edge4) ) ) ) ) \n",
    "\n"
   ]
  },
  {
   "cell_type": "code",
   "execution_count": 3,
   "metadata": {},
   "outputs": [
    {
     "data": {
      "text/latex": [
       "$\\displaystyle \\frac{e^{t \\left(m + n\\right)}}{\\left(1 - e^{- 2 t}\\right) \\left(1 - e^{- t}\\right) \\left(1 - e^{t}\\right) \\left(1 - e^{2 t}\\right)} + \\frac{e^{m t + 3 n t}}{\\left(1 - e^{- 2 t}\\right) \\left(1 - e^{- t}\\right) \\left(1 - e^{t}\\right) \\left(1 - e^{2 t}\\right)} + \\frac{e^{3 n t}}{\\left(1 - e^{- 3 t}\\right) \\left(1 - e^{- t}\\right) \\left(1 - e^{t}\\right) \\left(1 - e^{3 t}\\right)} + \\frac{1}{\\left(1 - e^{- 3 t}\\right) \\left(1 - e^{- t}\\right) \\left(1 - e^{t}\\right) \\left(1 - e^{3 t}\\right)} + \\frac{e^{3 t \\left(m + n\\right)}}{\\left(1 - e^{- 3 t}\\right) \\left(1 - e^{- 2 t}\\right) \\left(1 - e^{2 t}\\right) \\left(1 - e^{3 t}\\right)}$"
      ],
      "text/plain": [
       "                 t⋅(m + n)                                  m⋅t + 3⋅n⋅t       \n",
       "                ℯ                                          ℯ                  \n",
       "───────────────────────────────────────── + ──────────────────────────────────\n",
       "⎛     -2⋅t⎞ ⎛     -t⎞ ⎛     t⎞ ⎛     2⋅t⎞   ⎛     -2⋅t⎞ ⎛     -t⎞ ⎛     t⎞ ⎛  \n",
       "⎝1 - ℯ    ⎠⋅⎝1 - ℯ  ⎠⋅⎝1 - ℯ ⎠⋅⎝1 - ℯ   ⎠   ⎝1 - ℯ    ⎠⋅⎝1 - ℯ  ⎠⋅⎝1 - ℯ ⎠⋅⎝1 \n",
       "\n",
       "                             3⋅n⋅t                                            \n",
       "                            ℯ                                             1   \n",
       "─────── + ───────────────────────────────────────── + ────────────────────────\n",
       "   2⋅t⎞   ⎛     -3⋅t⎞ ⎛     -t⎞ ⎛     t⎞ ⎛     3⋅t⎞   ⎛     -3⋅t⎞ ⎛     -t⎞ ⎛ \n",
       "- ℯ   ⎠   ⎝1 - ℯ    ⎠⋅⎝1 - ℯ  ⎠⋅⎝1 - ℯ ⎠⋅⎝1 - ℯ   ⎠   ⎝1 - ℯ    ⎠⋅⎝1 - ℯ  ⎠⋅⎝1\n",
       "\n",
       "                                      3⋅t⋅(m + n)                \n",
       "                                     ℯ                           \n",
       "───────────────── + ─────────────────────────────────────────────\n",
       "    t⎞ ⎛     3⋅t⎞   ⎛     -3⋅t⎞ ⎛     -2⋅t⎞ ⎛     2⋅t⎞ ⎛     3⋅t⎞\n",
       " - ℯ ⎠⋅⎝1 - ℯ   ⎠   ⎝1 - ℯ    ⎠⋅⎝1 - ℯ    ⎠⋅⎝1 - ℯ   ⎠⋅⎝1 - ℯ   ⎠"
      ]
     },
     "execution_count": 3,
     "metadata": {},
     "output_type": "execute_result"
    }
   ],
   "source": [
    "def TermP12(n,m):\n",
    "    return P(P12(n,m), v1, v2, -v1, -v2)\n",
    "\n",
    "def TermP23(n,m):\n",
    "    return P(P23(n,m), v1, -v1 + v2, -v1, v1 - v2)\n",
    "\n",
    "def TermP34(n,m):\n",
    "    return P(P34(n,m), v1, -v1 + v2, -v1, v1 - v2)\n",
    "\n",
    "def TermP14(n,m):\n",
    "    return P(P14(n,m), v1, v2, -v1, -v2)\n",
    "\n",
    "def TermP13(n,m):\n",
    "    return P(P13(n,m), v1 - v2, v2, -v1 + v2, -v2)\n",
    "\n",
    "def InteriorSum(n,d):\n",
    "    return TermP12(n,m) + TermP23(n,m) + TermP34(n,m) + TermP14(n,m) + TermP13(n,m)\n",
    "\n",
    "InteriorSum(n,d)"
   ]
  },
  {
   "cell_type": "code",
   "execution_count": 7,
   "metadata": {},
   "outputs": [],
   "source": [
    "def TermQ12_1(n,m,d):\n",
    "    return P(Q12_1(n,m,d), v2, v2, v1, -v1 + v2)\n",
    "\n",
    "def TermQ12_2(n,m,d):\n",
    "    return P(Q12_2(n,m,d), v1, v1, v2, v1 - v2)\n",
    "\n",
    "def TermQ23_2(n,m,d):\n",
    "    return P(Q23_2(n,m,d), -v1, -v1, -v2, -v1 + v2)\n",
    "\n",
    "def TermQ23_3(n,m,d):\n",
    "    return P(Q23_3(n,m,d), -v1 + v2, -v1 + v2, -v1, v2)\n",
    "\n",
    "def TermQ34_4(n,m,d):\n",
    "    return P(Q34_4(n,m,d), -v1, -v1, -2*v1 + v2, v1 - v2)\n",
    "\n",
    "# Q13_1 is an orbifold point of order 2:\n",
    "\n",
    "def TermQ13_1(n,m,d):\n",
    "    return OrbiSum(Q13_1(n,m,d), 0, 2, 2*v1 - v2, -v2, -v2, -2*v1) + OrbiSum(Q13_1(n,m,d), 1, 2, 2*v1 - v2, -v2, -v2, -2*v1)\n",
    "\n",
    "# Q13_3 is an orbifold point of order 2:\n",
    "\n",
    "def TermQ13_3(n,m,d):\n",
    "    return OrbiSum(Q13_3(n,m,d), 0, 2, 2*v1, v1 - v2, v1 - v2, -v1 - v2) + OrbiSum(Q13_3(n,m,d), 1, 2, 2*v1, v1 - v2, v1 - v2, -v1 - v2)\n",
    "\n",
    "def TermQ14_4(n,m,d):\n",
    "    return P(Q14_4(n,m,d), v1, v1, v1 + v2, -v2)"
   ]
  },
  {
   "cell_type": "code",
   "execution_count": 8,
   "metadata": {},
   "outputs": [
    {
     "data": {
      "text/latex": [
       "$\\displaystyle \\frac{e^{3 t \\left(- 2 d - m\\right)}}{\\left(1 - e^{t}\\right) \\left(1 - e^{2 t}\\right) \\left(1 - e^{3 t}\\right)^{2}} + \\frac{e^{3 t \\left(- 2 d - m\\right) + t \\left(2 d + 2 m + n\\right)}}{\\left(1 - e^{- t}\\right) \\left(1 - e^{2 t}\\right)^{2} \\left(1 - e^{3 t}\\right)} + \\frac{e^{3 t \\left(d + m + n\\right)}}{2 \\left(1 + e^{- \\frac{3 t}{2}}\\right)^{2} \\left(1 + e^{- t}\\right) \\left(1 + e^{- \\frac{t}{2}}\\right)} + \\frac{e^{3 t \\left(d + m + n\\right)}}{2 \\left(1 - e^{- \\frac{3 t}{2}}\\right)^{2} \\left(1 - e^{- t}\\right) \\left(1 - e^{- \\frac{t}{2}}\\right)} + \\frac{e^{- d t + 3 t \\left(d + m + n\\right)}}{2 \\left(1 + e^{- 2 t}\\right) \\left(1 + e^{- t}\\right)^{2} \\left(e^{t} + 1\\right)} + \\frac{e^{t \\left(- 2 d - m\\right)}}{\\left(1 - e^{- 2 t}\\right) \\left(1 - e^{t}\\right)^{2} \\left(1 - e^{3 t}\\right)} + \\frac{e^{- d t + 3 t \\left(d + m + n\\right)}}{2 \\left(1 - e^{- 2 t}\\right) \\left(1 - e^{- t}\\right)^{2} \\left(1 - e^{t}\\right)} + \\frac{e^{3 n t + t \\left(2 d + 2 m\\right)}}{\\left(1 - e^{- 2 t}\\right) \\left(1 - e^{- t}\\right)^{2} \\left(1 - e^{t}\\right)} + \\frac{e^{3 n t + t \\left(- 2 d - m\\right)}}{\\left(1 - e^{- 3 t}\\right) \\left(1 - e^{t}\\right)^{2} \\left(1 - e^{4 t}\\right)} + \\frac{e^{t \\left(2 d + 2 m + n\\right)}}{\\left(1 - e^{- 3 t}\\right) \\left(1 - e^{- t}\\right)^{2} \\left(1 - e^{2 t}\\right)}$"
      ],
      "text/plain": [
       "         3⋅t⋅(-2⋅d - m)            3⋅t⋅(-2⋅d - m) + t⋅(2⋅d + 2⋅m + n)         \n",
       "        ℯ                         ℯ                                           \n",
       "─────────────────────────────── + ─────────────────────────────────── + ──────\n",
       "                              2                         2                     \n",
       "⎛     t⎞ ⎛     2⋅t⎞ ⎛     3⋅t⎞      ⎛     -t⎞ ⎛     2⋅t⎞  ⎛     3⋅t⎞      ⎛   \n",
       "⎝1 - ℯ ⎠⋅⎝1 - ℯ   ⎠⋅⎝1 - ℯ   ⎠      ⎝1 - ℯ  ⎠⋅⎝1 - ℯ   ⎠ ⋅⎝1 - ℯ   ⎠      ⎜   \n",
       "                                                                          ⎜   \n",
       "                                                                        2⋅⎝1 +\n",
       "\n",
       "     3⋅t⋅(d + m + n)                        3⋅t⋅(d + m + n)                   \n",
       "    ℯ                                      ℯ                                 ℯ\n",
       "────────────────────────────── + ──────────────────────────────────── + ──────\n",
       "        2                                      2                              \n",
       "  -3⋅t ⎞            ⎛     -t ⎞     ⎛     -3⋅t ⎞            ⎛     -t ⎞     ⎛   \n",
       "  ─────⎟            ⎜     ───⎟     ⎜     ─────⎟            ⎜     ───⎟   2⋅⎝1 +\n",
       "    2  ⎟  ⎛     -t⎞ ⎜      2 ⎟     ⎜       2  ⎟  ⎛     -t⎞ ⎜      2 ⎟         \n",
       " ℯ     ⎠ ⋅⎝1 + ℯ  ⎠⋅⎝1 + ℯ   ⎠   2⋅⎝1 - ℯ     ⎠ ⋅⎝1 - ℯ  ⎠⋅⎝1 - ℯ   ⎠         \n",
       "\n",
       "-d⋅t + 3⋅t⋅(d + m + n)                  t⋅(-2⋅d - m)                   -d⋅t + \n",
       "                                       ℯ                              ℯ       \n",
       "─────────────────────────── + ──────────────────────────────── + ─────────────\n",
       "                 2                                2                           \n",
       "  -2⋅t⎞ ⎛     -t⎞  ⎛ t    ⎞   ⎛     -2⋅t⎞ ⎛     t⎞  ⎛     3⋅t⎞     ⎛     -2⋅t⎞\n",
       " ℯ    ⎠⋅⎝1 + ℯ  ⎠ ⋅⎝ℯ  + 1⎠   ⎝1 - ℯ    ⎠⋅⎝1 - ℯ ⎠ ⋅⎝1 - ℯ   ⎠   2⋅⎝1 - ℯ    ⎠\n",
       "                                                                              \n",
       "                                                                              \n",
       "\n",
       "3⋅t⋅(d + m + n)              3⋅n⋅t + t⋅(2⋅d + 2⋅m)             3⋅n⋅t + t⋅(-2⋅d\n",
       "                            ℯ                                 ℯ               \n",
       "──────────────────── + ─────────────────────────────── + ─────────────────────\n",
       "          2                                 2                                2\n",
       " ⎛     -t⎞  ⎛     t⎞   ⎛     -2⋅t⎞ ⎛     -t⎞  ⎛     t⎞   ⎛     -3⋅t⎞ ⎛     t⎞ \n",
       "⋅⎝1 - ℯ  ⎠ ⋅⎝1 - ℯ ⎠   ⎝1 - ℯ    ⎠⋅⎝1 - ℯ  ⎠ ⋅⎝1 - ℯ ⎠   ⎝1 - ℯ    ⎠⋅⎝1 - ℯ ⎠ \n",
       "                                                                              \n",
       "                                                                              \n",
       "\n",
       " - m)                  t⋅(2⋅d + 2⋅m + n)       \n",
       "                      ℯ                        \n",
       "─────────── + ─────────────────────────────────\n",
       "                                   2           \n",
       " ⎛     4⋅t⎞   ⎛     -3⋅t⎞ ⎛     -t⎞  ⎛     2⋅t⎞\n",
       "⋅⎝1 - ℯ   ⎠   ⎝1 - ℯ    ⎠⋅⎝1 - ℯ  ⎠ ⋅⎝1 - ℯ   ⎠\n",
       "                                               \n",
       "                                               "
      ]
     },
     "execution_count": 8,
     "metadata": {},
     "output_type": "execute_result"
    }
   ],
   "source": [
    "def InteriorSum(n,m):\n",
    "    return TermP12(n,d) + TermP23(n,m) + TermP34(n,m) + TermP13(n,m) + TermP14(n,m)\n",
    "\n",
    "def ExteriorSum(n,m,d):\n",
    "    return TermQ12_1(n,m,d) + TermQ12_2(n,m,d) + TermQ23_2(n,m,d) + TermQ23_3(n,m,d) + TermQ34_4(n,m,d) + TermQ13_1(n,m,d) + TermQ13_3(n,m,d) + TermQ14_4(n,m,d)\n",
    "\n",
    "ExteriorSum(n,m,d)"
   ]
  },
  {
   "cell_type": "code",
   "execution_count": 9,
   "metadata": {},
   "outputs": [
    {
     "data": {
      "text/latex": [
       "$\\displaystyle \\frac{e^{3 t \\left(- 2 d - m\\right)}}{\\left(1 - e^{t}\\right) \\left(1 - e^{2 t}\\right) \\left(1 - e^{3 t}\\right)^{2}} + \\frac{e^{3 t \\left(- 2 d - m\\right) + t \\left(2 d + 2 m + n\\right)}}{\\left(1 - e^{- t}\\right) \\left(1 - e^{2 t}\\right)^{2} \\left(1 - e^{3 t}\\right)} + \\frac{e^{3 t \\left(d + m + n\\right)}}{2 \\left(1 + e^{- \\frac{3 t}{2}}\\right)^{2} \\left(1 + e^{- t}\\right) \\left(1 + e^{- \\frac{t}{2}}\\right)} + \\frac{e^{3 t \\left(d + m + n\\right)}}{2 \\left(1 - e^{- \\frac{3 t}{2}}\\right)^{2} \\left(1 - e^{- t}\\right) \\left(1 - e^{- \\frac{t}{2}}\\right)} + \\frac{e^{- d t + 3 t \\left(d + m + n\\right)}}{2 \\left(1 + e^{- 2 t}\\right) \\left(1 + e^{- t}\\right)^{2} \\left(e^{t} + 1\\right)} + \\frac{e^{t \\left(- 2 d - m\\right)}}{\\left(1 - e^{- 2 t}\\right) \\left(1 - e^{t}\\right)^{2} \\left(1 - e^{3 t}\\right)} + \\frac{e^{t \\left(m + n\\right)}}{\\left(1 - e^{- 2 t}\\right) \\left(1 - e^{- t}\\right) \\left(1 - e^{t}\\right) \\left(1 - e^{2 t}\\right)} + \\frac{e^{m t + 3 n t}}{\\left(1 - e^{- 2 t}\\right) \\left(1 - e^{- t}\\right) \\left(1 - e^{t}\\right) \\left(1 - e^{2 t}\\right)} + \\frac{e^{- d t + 3 t \\left(d + m + n\\right)}}{2 \\left(1 - e^{- 2 t}\\right) \\left(1 - e^{- t}\\right)^{2} \\left(1 - e^{t}\\right)} + \\frac{e^{3 n t + t \\left(2 d + 2 m\\right)}}{\\left(1 - e^{- 2 t}\\right) \\left(1 - e^{- t}\\right)^{2} \\left(1 - e^{t}\\right)} + \\frac{e^{3 n t + t \\left(- 2 d - m\\right)}}{\\left(1 - e^{- 3 t}\\right) \\left(1 - e^{t}\\right)^{2} \\left(1 - e^{4 t}\\right)} + \\frac{e^{3 n t}}{\\left(1 - e^{- 3 t}\\right) \\left(1 - e^{- t}\\right) \\left(1 - e^{t}\\right) \\left(1 - e^{3 t}\\right)} + \\frac{1}{\\left(1 - e^{- 3 t}\\right) \\left(1 - e^{- t}\\right) \\left(1 - e^{t}\\right) \\left(1 - e^{3 t}\\right)} + \\frac{e^{t \\left(2 d + 2 m + n\\right)}}{\\left(1 - e^{- 3 t}\\right) \\left(1 - e^{- t}\\right)^{2} \\left(1 - e^{2 t}\\right)} + \\frac{e^{3 t \\left(m + n\\right)}}{\\left(1 - e^{- 3 t}\\right) \\left(1 - e^{- 2 t}\\right) \\left(1 - e^{2 t}\\right) \\left(1 - e^{3 t}\\right)}$"
      ],
      "text/plain": [
       "         3⋅t⋅(-2⋅d - m)            3⋅t⋅(-2⋅d - m) + t⋅(2⋅d + 2⋅m + n)         \n",
       "        ℯ                         ℯ                                           \n",
       "─────────────────────────────── + ─────────────────────────────────── + ──────\n",
       "                              2                         2                     \n",
       "⎛     t⎞ ⎛     2⋅t⎞ ⎛     3⋅t⎞      ⎛     -t⎞ ⎛     2⋅t⎞  ⎛     3⋅t⎞      ⎛   \n",
       "⎝1 - ℯ ⎠⋅⎝1 - ℯ   ⎠⋅⎝1 - ℯ   ⎠      ⎝1 - ℯ  ⎠⋅⎝1 - ℯ   ⎠ ⋅⎝1 - ℯ   ⎠      ⎜   \n",
       "                                                                          ⎜   \n",
       "                                                                        2⋅⎝1 +\n",
       "\n",
       "     3⋅t⋅(d + m + n)                        3⋅t⋅(d + m + n)                   \n",
       "    ℯ                                      ℯ                                 ℯ\n",
       "────────────────────────────── + ──────────────────────────────────── + ──────\n",
       "        2                                      2                              \n",
       "  -3⋅t ⎞            ⎛     -t ⎞     ⎛     -3⋅t ⎞            ⎛     -t ⎞     ⎛   \n",
       "  ─────⎟            ⎜     ───⎟     ⎜     ─────⎟            ⎜     ───⎟   2⋅⎝1 +\n",
       "    2  ⎟  ⎛     -t⎞ ⎜      2 ⎟     ⎜       2  ⎟  ⎛     -t⎞ ⎜      2 ⎟         \n",
       " ℯ     ⎠ ⋅⎝1 + ℯ  ⎠⋅⎝1 + ℯ   ⎠   2⋅⎝1 - ℯ     ⎠ ⋅⎝1 - ℯ  ⎠⋅⎝1 - ℯ   ⎠         \n",
       "\n",
       "-d⋅t + 3⋅t⋅(d + m + n)                  t⋅(-2⋅d - m)                          \n",
       "                                       ℯ                                      \n",
       "─────────────────────────── + ──────────────────────────────── + ─────────────\n",
       "                 2                                2              ⎛     -2⋅t⎞ ⎛\n",
       "  -2⋅t⎞ ⎛     -t⎞  ⎛ t    ⎞   ⎛     -2⋅t⎞ ⎛     t⎞  ⎛     3⋅t⎞   ⎝1 - ℯ    ⎠⋅⎝\n",
       " ℯ    ⎠⋅⎝1 + ℯ  ⎠ ⋅⎝ℯ  + 1⎠   ⎝1 - ℯ    ⎠⋅⎝1 - ℯ ⎠ ⋅⎝1 - ℯ   ⎠                \n",
       "                                                                              \n",
       "                                                                              \n",
       "\n",
       "    t⋅(m + n)                                  m⋅t + 3⋅n⋅t                    \n",
       "   ℯ                                          ℯ                               \n",
       "──────────────────────────── + ───────────────────────────────────────── + ───\n",
       "     -t⎞ ⎛     t⎞ ⎛     2⋅t⎞   ⎛     -2⋅t⎞ ⎛     -t⎞ ⎛     t⎞ ⎛     2⋅t⎞      \n",
       "1 - ℯ  ⎠⋅⎝1 - ℯ ⎠⋅⎝1 - ℯ   ⎠   ⎝1 - ℯ    ⎠⋅⎝1 - ℯ  ⎠⋅⎝1 - ℯ ⎠⋅⎝1 - ℯ   ⎠     ⎛\n",
       "                                                                           2⋅⎝\n",
       "                                                                              \n",
       "                                                                              \n",
       "\n",
       "   -d⋅t + 3⋅t⋅(d + m + n)              3⋅n⋅t + t⋅(2⋅d + 2⋅m)             3⋅n⋅t\n",
       "  ℯ                                   ℯ                                 ℯ     \n",
       "────────────────────────────── + ─────────────────────────────── + ───────────\n",
       "                    2                                 2                       \n",
       "     -2⋅t⎞ ⎛     -t⎞  ⎛     t⎞   ⎛     -2⋅t⎞ ⎛     -t⎞  ⎛     t⎞   ⎛     -3⋅t⎞\n",
       "1 - ℯ    ⎠⋅⎝1 - ℯ  ⎠ ⋅⎝1 - ℯ ⎠   ⎝1 - ℯ    ⎠⋅⎝1 - ℯ  ⎠ ⋅⎝1 - ℯ ⎠   ⎝1 - ℯ    ⎠\n",
       "                                                                              \n",
       "                                                                              \n",
       "\n",
       " + t⋅(-2⋅d - m)                            3⋅n⋅t                              \n",
       "                                          ℯ                                   \n",
       "───────────────────── + ───────────────────────────────────────── + ──────────\n",
       "         2              ⎛     -3⋅t⎞ ⎛     -t⎞ ⎛     t⎞ ⎛     3⋅t⎞   ⎛     -3⋅t\n",
       " ⎛     t⎞  ⎛     4⋅t⎞   ⎝1 - ℯ    ⎠⋅⎝1 - ℯ  ⎠⋅⎝1 - ℯ ⎠⋅⎝1 - ℯ   ⎠   ⎝1 - ℯ    \n",
       "⋅⎝1 - ℯ ⎠ ⋅⎝1 - ℯ   ⎠                                                         \n",
       "                                                                              \n",
       "                                                                              \n",
       "\n",
       "                                           t⋅(2⋅d + 2⋅m + n)                  \n",
       "          1                               ℯ                                   \n",
       "─────────────────────────────── + ───────────────────────────────── + ────────\n",
       "⎞ ⎛     -t⎞ ⎛     t⎞ ⎛     3⋅t⎞                        2              ⎛     -3\n",
       "⎠⋅⎝1 - ℯ  ⎠⋅⎝1 - ℯ ⎠⋅⎝1 - ℯ   ⎠   ⎛     -3⋅t⎞ ⎛     -t⎞  ⎛     2⋅t⎞   ⎝1 - ℯ  \n",
       "                                  ⎝1 - ℯ    ⎠⋅⎝1 - ℯ  ⎠ ⋅⎝1 - ℯ   ⎠           \n",
       "                                                                              \n",
       "                                                                              \n",
       "\n",
       "          3⋅t⋅(m + n)                \n",
       "         ℯ                           \n",
       "─────────────────────────────────────\n",
       "⋅t⎞ ⎛     -2⋅t⎞ ⎛     2⋅t⎞ ⎛     3⋅t⎞\n",
       "  ⎠⋅⎝1 - ℯ    ⎠⋅⎝1 - ℯ   ⎠⋅⎝1 - ℯ   ⎠\n",
       "                                     \n",
       "                                     \n",
       "                                     "
      ]
     },
     "execution_count": 9,
     "metadata": {},
     "output_type": "execute_result"
    }
   ],
   "source": [
    "def TotalSum(n,m,d):\n",
    "    return InteriorSum(n,m) + ExteriorSum(n,m,d)\n",
    "\n",
    "TotalSum(n,m,d)"
   ]
  },
  {
   "cell_type": "code",
   "execution_count": 14,
   "metadata": {},
   "outputs": [
    {
     "data": {
      "text/latex": [
       "$\\displaystyle \\frac{544 d^{4} + 1536 d^{3} m + 768 d^{3} n + 1632 d^{3} + 1536 d^{2} m^{2} + 1536 d^{2} m n + 3456 d^{2} m + 192 d^{2} n^{2} + 1728 d^{2} n + 1856 d^{2} + 640 d m^{3} + 960 d m^{2} n + 2304 d m^{2} + 192 d m n^{2} + 2304 d m n + 2624 d m + 288 d n^{2} + 1248 d n + 948 d + 96 m^{4} + 192 m^{3} n + 480 m^{3} + 48 m^{2} n^{2} + 720 m^{2} n + 864 m^{2} + 144 m n^{2} + 816 m n + 672 m + 96 n^{2} + 288 n + 195}{192}$"
      ],
      "text/plain": [
       "     4         3          3           3         2  2         2             2  \n",
       "544⋅d  + 1536⋅d ⋅m + 768⋅d ⋅n + 1632⋅d  + 1536⋅d ⋅m  + 1536⋅d ⋅m⋅n + 3456⋅d ⋅m\n",
       "──────────────────────────────────────────────────────────────────────────────\n",
       "                                                                              \n",
       "\n",
       "        2  2         2           2          3          2             2        \n",
       " + 192⋅d ⋅n  + 1728⋅d ⋅n + 1856⋅d  + 640⋅d⋅m  + 960⋅d⋅m ⋅n + 2304⋅d⋅m  + 192⋅d\n",
       "──────────────────────────────────────────────────────────────────────────────\n",
       "                                                                              \n",
       "\n",
       "    2                                  2                          4        3  \n",
       "⋅m⋅n  + 2304⋅d⋅m⋅n + 2624⋅d⋅m + 288⋅d⋅n  + 1248⋅d⋅n + 948⋅d + 96⋅m  + 192⋅m ⋅n\n",
       "──────────────────────────────────────────────────────────────────────────────\n",
       "     192                                                                      \n",
       "\n",
       "        3       2  2        2          2          2                         2 \n",
       " + 480⋅m  + 48⋅m ⋅n  + 720⋅m ⋅n + 864⋅m  + 144⋅m⋅n  + 816⋅m⋅n + 672⋅m + 96⋅n  \n",
       "──────────────────────────────────────────────────────────────────────────────\n",
       "                                                                              \n",
       "\n",
       "             \n",
       "+ 288⋅n + 195\n",
       "─────────────\n",
       "             "
      ]
     },
     "execution_count": 14,
     "metadata": {},
     "output_type": "execute_result"
    }
   ],
   "source": [
    "factor(limit(TotalSum(n,m,d), t, 0))"
   ]
  },
  {
   "cell_type": "code",
   "execution_count": 31,
   "metadata": {},
   "outputs": [
    {
     "data": {
      "text/latex": [
       "$\\displaystyle \\frac{34 d^{3}}{3} + 24 d^{2} m + 12 d^{2} n + \\frac{17 d^{2}}{2} + 16 d m^{2} + 16 d m n + 12 d m + 2 d n^{2} + 6 d n + \\frac{31 d}{6} + \\frac{10 m^{3}}{3} + 5 m^{2} n + 4 m^{2} + m n^{2} + 4 m n + \\frac{11 m}{3} + \\frac{n^{2}}{2} + \\frac{3 n}{2} + \\frac{15}{16}$"
      ],
      "text/plain": [
       "    3                           2                                             \n",
       "34⋅d        2         2     17⋅d          2                            2      \n",
       "───── + 24⋅d ⋅m + 12⋅d ⋅n + ───── + 16⋅d⋅m  + 16⋅d⋅m⋅n + 12⋅d⋅m + 2⋅d⋅n  + 6⋅d\n",
       "  3                           2                                               \n",
       "\n",
       "                3                                          2           \n",
       "     31⋅d   10⋅m       2        2      2           11⋅m   n    3⋅n   15\n",
       "⋅n + ──── + ───── + 5⋅m ⋅n + 4⋅m  + m⋅n  + 4⋅m⋅n + ──── + ── + ─── + ──\n",
       "      6       3                                     3     2     2    16"
      ]
     },
     "execution_count": 31,
     "metadata": {},
     "output_type": "execute_result"
    }
   ],
   "source": [
    "def Euler(m,n,d):\n",
    "    return factor((544*d**4 + 1536*d**3*m + 768*d**3*n + 1632*d**3 + 1536*d**2*m**2 + 1536*d**2*m*n + 3456*d**2*m + 192*d**2*n**2 + 1728*d**2*n + 1856*d**2 + 640*d*m**3 + 960*d*m**2*n + 2304*d*m**2 + 192*d*m*n**2 + 2304*d*m*n + 2624*d*m + 288*d*n**2 + 1248*d*n + 948*d + 96*m**4 + 192*m**3*n + 480*m**3 + 48*m**2*n**2 + 720*m**2*n + 864*m**2 + 144*m*n**2 + 816*m*n + 672*m + 96*n**2 + 288*n + 195)/192)\n",
    "\n",
    "def Diff(m,n,d):\n",
    "    return simplify(Euler(m,n,d) - Euler(m,n,d-1))\n",
    "\n",
    "Diff(m,n,d)"
   ]
  },
  {
   "cell_type": "code",
   "execution_count": 34,
   "metadata": {},
   "outputs": [
    {
     "data": {
      "text/latex": [
       "$\\displaystyle \\frac{10 m^{3}}{3} + 5 m^{2} n + 4 m^{2} + m n^{2} + 4 m n + \\frac{11 m}{3} + \\frac{n^{2}}{2} + \\frac{3 n}{2} + \\frac{15}{16}$"
      ],
      "text/plain": [
       "    3                                          2           \n",
       "10⋅m       2        2      2           11⋅m   n    3⋅n   15\n",
       "───── + 5⋅m ⋅n + 4⋅m  + m⋅n  + 4⋅m⋅n + ──── + ── + ─── + ──\n",
       "  3                                     3     2     2    16"
      ]
     },
     "execution_count": 34,
     "metadata": {},
     "output_type": "execute_result"
    }
   ],
   "source": [
    "Diff(m,n,0)"
   ]
  }
 ],
 "metadata": {
  "kernelspec": {
   "display_name": "Python 3",
   "language": "python",
   "name": "python3"
  },
  "language_info": {
   "codemirror_mode": {
    "name": "ipython",
    "version": 3
   },
   "file_extension": ".py",
   "mimetype": "text/x-python",
   "name": "python",
   "nbconvert_exporter": "python",
   "pygments_lexer": "ipython3",
   "version": "3.9.5"
  }
 },
 "nbformat": 4,
 "nbformat_minor": 4
}
