{
 "cells": [
  {
   "cell_type": "code",
   "execution_count": 1,
   "metadata": {},
   "outputs": [],
   "source": [
    "from sympy import *\n",
    "from sympy.vector import Vector\n",
    "from sympy.vector import CoordSys3D\n",
    "import IPython.display as disp\n",
    "\n",
    "N = CoordSys3D('N')\n",
    "\n",
    "t, k, a, n, m = symbols( 't k a n m' )\n",
    "# init_printing(use_unicode=True)\n",
    "init_printing(use_latex='mathjax')\n",
    "\n",
    "# Basis for the edge/weight vectors for the points \n",
    "\n",
    "v1 = N.i\n",
    "v2 = N.j\n",
    "\n",
    "def coords(X,Y):\n",
    "    return X*v1 + Y*v2\n",
    "\n",
    "# Define the vector which is not parallel to any edge vector, which will tend to zero:\n",
    "\n",
    "Phi = coords(t, 3*t)\n",
    "\n",
    "# Set the fixed points of the action; P denotes those that belong\n",
    "# to the core, and Q those that come from the cut extended core:\n",
    "\n",
    "def P12(n,m,a):\n",
    "    return Vector.zero\n",
    "\n",
    "def P23(n,m,a):\n",
    "    return n*v1\n",
    "\n",
    "def P34(n,m,a):\n",
    "    return -m*v1 + (n+m)*v2\n",
    "\n",
    "def P14(n,m,a):\n",
    "    return (n+m)*v2\n",
    "\n",
    "def P13(n,m,a):\n",
    "    return n*v2"
   ]
  },
  {
   "cell_type": "code",
   "execution_count": 2,
   "metadata": {},
   "outputs": [],
   "source": [
    "def Q12_1(n,m,a):\n",
    "    return -a*v2\n",
    "    \n",
    "def Q12_2(n,m,a):\n",
    "    return -2*a*v1\n",
    "\n",
    "def Q23_2(n,m,a):\n",
    "    return (n + 2*a)*v1\n",
    "\n",
    "def Q23_3(n,m,a):\n",
    "    return (n+a)*v1 - a*v2\n",
    "\n",
    "def Q34_3(n,m,a):\n",
    "    return (-n - m - 2*a)*v1 + (2*n + m + 2*a)*v2\n",
    "\n",
    "def Q34_4(n,m,a):\n",
    "    return (-n - m - 2*a)*v1 + (n + m)*v2\n",
    "\n",
    "def Q14_1(n,m,a):\n",
    "    return (2*n + m + 2*a)*v2\n",
    "\n",
    "def Q14_4(n,m,a):\n",
    "    return (n + 2*a)*v1 + (n + m)*v2\n",
    "\n",
    "# Define the term which is summed over each fixed point,\n",
    "# representing the character for the representation\n",
    "\n",
    "def P(P, edge1, edge2, edge3, edge4):\n",
    "    return exp( Phi.dot(P) ) / ( (1 - exp( Phi.dot(edge1) ) ) * ( 1 - exp( Phi.dot(edge2) ) ) * ( 1 - exp( Phi.dot(edge3) ) ) * ( 1 - exp( Phi.dot(edge4) ) ) )\n",
    "\n",
    "\n",
    "def Q(P, edge1, edge2):\n",
    "    return exp( Phi.dot(P) ) / ( (1 - exp( Phi.dot(edge1) ) ) * ( 1 - exp( Phi.dot(edge2) ) ) )\n",
    "\n",
    "def Exp(p, q):\n",
    "    return exp( 2*pi*I*Rational(p,q) )\n",
    "\n",
    "def OrbiFactor(p, q, edge):\n",
    "    return ( 1 - ( Exp(p,q) * exp( Rational(p,q) * Phi.dot(edge) ) ) )\n",
    "\n",
    "# In the OrbifoldFactor() function, the first two edges should correspond to the tangent space weights, i.e. the weights along the exterior boundary:\n",
    "\n",
    "def OrbifoldFactor(Q, p, q, edge1, edge2, edge3, edge4):\n",
    "    return ( Rational(1,q) * exp( Phi.dot(Q) ) ) / ( ( 1 - exp( Phi.dot(edge1) ) ) * ( 1 - exp( Phi.dot(edge2) ) ) * (1 - ( Exp(p,q) * exp( Rational(1,q) * Phi.dot(edge3) ) ) ) * ( 1 - ( Exp(p,q) * exp( Rational(1,q) * Phi.dot(edge4) ) ) ) )\n"
   ]
  },
  {
   "cell_type": "code",
   "execution_count": 41,
   "metadata": {},
   "outputs": [
    {
     "data": {
      "text/latex": [
       "$\\displaystyle \\frac{e^{- 3 a t}}{2 \\left(1 - e^{t}\\right) \\left(1 - e^{2 t}\\right) \\left(e^{\\frac{3 t}{2}} + 1\\right)^{2}} + \\frac{e^{- 3 a t}}{2 \\left(1 - e^{t}\\right) \\left(1 - e^{\\frac{3 t}{2}}\\right)^{2} \\left(1 - e^{2 t}\\right)}$"
      ],
      "text/plain": [
       "              -3⋅a⋅t                              -3⋅a⋅t             \n",
       "             ℯ                                   ℯ                   \n",
       "───────────────────────────────── + ─────────────────────────────────\n",
       "                                2                        2           \n",
       "                      ⎛ 3⋅t    ⎞               ⎛     3⋅t⎞            \n",
       "                      ⎜ ───    ⎟               ⎜     ───⎟            \n",
       "  ⎛     t⎞ ⎛     2⋅t⎞ ⎜  2     ⎟      ⎛     t⎞ ⎜      2 ⎟  ⎛     2⋅t⎞\n",
       "2⋅⎝1 - ℯ ⎠⋅⎝1 - ℯ   ⎠⋅⎝ℯ    + 1⎠    2⋅⎝1 - ℯ ⎠⋅⎝1 - ℯ   ⎠ ⋅⎝1 - ℯ   ⎠"
      ]
     },
     "execution_count": 41,
     "metadata": {},
     "output_type": "execute_result"
    }
   ],
   "source": [
    "# The factor for the orbifold point Q12_1, located at (0,-a):\n",
    "\n",
    "OrbifoldFactor(Q12_1(n,m,a), 1, 2, v1, -v1 + v2, v2, v2) + OrbifoldFactor(Q12_1(n,m,a), 2, 2, v1, -v1 + v2, v2, v2)"
   ]
  },
  {
   "cell_type": "code",
   "execution_count": 42,
   "metadata": {},
   "outputs": [
    {
     "data": {
      "text/latex": [
       "$\\displaystyle \\frac{e^{- 3 a t + t \\left(a + n\\right)}}{2 \\left(1 - e^{- t}\\right) \\left(1 - e^{4 t}\\right) \\left(e^{t} + 1\\right)^{2}} + \\frac{e^{- 3 a t + t \\left(a + n\\right)}}{2 \\left(1 - e^{- t}\\right) \\left(1 - e^{t}\\right)^{2} \\left(1 - e^{4 t}\\right)}$"
      ],
      "text/plain": [
       "       -3⋅a⋅t + t⋅(a + n)                 -3⋅a⋅t + t⋅(a + n)       \n",
       "      ℯ                                  ℯ                         \n",
       "──────────────────────────────── + ────────────────────────────────\n",
       "                               2                       2           \n",
       "  ⎛     -t⎞ ⎛     4⋅t⎞ ⎛ t    ⎞      ⎛     -t⎞ ⎛     t⎞  ⎛     4⋅t⎞\n",
       "2⋅⎝1 - ℯ  ⎠⋅⎝1 - ℯ   ⎠⋅⎝ℯ  + 1⎠    2⋅⎝1 - ℯ  ⎠⋅⎝1 - ℯ ⎠ ⋅⎝1 - ℯ   ⎠"
      ]
     },
     "execution_count": 42,
     "metadata": {},
     "output_type": "execute_result"
    }
   ],
   "source": [
    "# The factor for the orbifold point Q23_3, located at (n+a,-a):\n",
    "\n",
    "OrbifoldFactor(Q23_3(n,m,a), 1, 2, v1 + v2, -v1, -v1 + v2, -v1 + v2) + OrbifoldFactor(Q23_3(n,m,a), 2, 2, v1 + v2, -v1, -v1 + v2, -v1 + v2)"
   ]
  },
  {
   "cell_type": "code",
   "execution_count": 3,
   "metadata": {},
   "outputs": [
    {
     "data": {
      "text/latex": [
       "$\\displaystyle \\frac{e^{t \\left(2 a + n\\right) + 3 t \\left(m + n\\right)}}{2 \\left(1 - e^{- 2 t}\\right) \\left(1 + e^{- \\frac{3 t}{2}}\\right)^{2} \\left(1 - e^{- t}\\right)} + \\frac{e^{t \\left(2 a + n\\right) + 3 t \\left(m + n\\right)}}{2 \\left(1 - e^{- 2 t}\\right) \\left(1 - e^{- \\frac{3 t}{2}}\\right)^{2} \\left(1 - e^{- t}\\right)}$"
      ],
      "text/plain": [
       "       t⋅(2⋅a + n) + 3⋅t⋅(m + n)               t⋅(2⋅a + n) + 3⋅t⋅(m + n)     \n",
       "      ℯ                                       ℯ                              \n",
       "───────────────────────────────────── + ─────────────────────────────────────\n",
       "                          2                                       2          \n",
       "              ⎛     -3⋅t ⎞                            ⎛     -3⋅t ⎞           \n",
       "              ⎜     ─────⎟                            ⎜     ─────⎟           \n",
       "  ⎛     -2⋅t⎞ ⎜       2  ⎟  ⎛     -t⎞     ⎛     -2⋅t⎞ ⎜       2  ⎟  ⎛     -t⎞\n",
       "2⋅⎝1 - ℯ    ⎠⋅⎝1 + ℯ     ⎠ ⋅⎝1 - ℯ  ⎠   2⋅⎝1 - ℯ    ⎠⋅⎝1 - ℯ     ⎠ ⋅⎝1 - ℯ  ⎠"
      ]
     },
     "execution_count": 3,
     "metadata": {},
     "output_type": "execute_result"
    }
   ],
   "source": [
    "# The factor for the orbifold point Q14_1, located at (0, 2n+m+2a):(?)\n",
    "\n",
    "OrbifoldFactor(Q14_4(n,m,a), 1, 2, -v1, v1 - v2, -v2, -v2) + OrbifoldFactor(Q14_4(n,m,a), 2, 2, -v1, v1 - v2, -v2, -v2)"
   ]
  },
  {
   "cell_type": "code",
   "execution_count": 4,
   "metadata": {},
   "outputs": [
    {
     "data": {
      "text/latex": [
       "$\\displaystyle \\frac{e^{t \\left(- 2 a - m - n\\right) + 3 t \\left(2 a + m + 2 n\\right)}}{\\left(1 - e^{- 3 t}\\right) \\left(1 + e^{- t}\\right)^{2} \\left(1 - e^{t}\\right)}$"
      ],
      "text/plain": [
       " t⋅(-2⋅a - m - n) + 3⋅t⋅(2⋅a + m + 2⋅n)\n",
       "ℯ                                      \n",
       "───────────────────────────────────────\n",
       "                         2             \n",
       "    ⎛     -3⋅t⎞ ⎛     -t⎞  ⎛     t⎞    \n",
       "    ⎝1 - ℯ    ⎠⋅⎝1 + ℯ  ⎠ ⋅⎝1 - ℯ ⎠    "
      ]
     },
     "execution_count": 4,
     "metadata": {},
     "output_type": "execute_result"
    }
   ],
   "source": [
    "# The factor for the orbifold point Q34_3, located at (-n - m - 2a, 2n + m + 2a):\n",
    "\n",
    "OrbifoldFactor(Q34_3(n,m,a), 1, 2, -v2, v1, v1 - v2, v1 - v2) + OrbifoldFactor(Q34_3(n,m,a), 1, 2, -v2, v1, v1 - v2, v1 - v2)"
   ]
  },
  {
   "cell_type": "code",
   "execution_count": 43,
   "metadata": {},
   "outputs": [],
   "source": [
    "#def Delta134(n,a):\n",
    "#    return OrbTwo(Q12_1(n,a), 1, 2, v1, v2) + OrbTwo(Q12_1(n,a), 2, 2, v1, v2) + OrbTwo(Q23_3(n,a), 1, 2, -v1, -v1 + v2) + OrbTwo(Q23_3(n,a), 2, 2, -v1, -v1 + v2) + Q(P23(n,a), v1 - v2, -v1) + Q(P12(n,a), v1, -v2)\n",
    "\n",
    "#def Delta34(n,a):\n",
    "#    return OrbTwo(Q12_1(n,a), 1, 2, v2, -2*v1 + v2) + OrbTwo(Q12_1(n,a), 2, 2, v2, -2*v1 + v2) + Q(P12(n,a), -v2, -v1) + Q(Q12_2(n,a), 2*v1 - v2, v1)"
   ]
  },
  {
   "cell_type": "code",
   "execution_count": 13,
   "metadata": {},
   "outputs": [],
   "source": [
    "# Contribution for each non-orbifold point:\n",
    "\n",
    "# The interior points:\n",
    "\n",
    "def IntP12(n,m,a):\n",
    "    return P(P12(n,m,a), v1, v2, -v1, -v2 )\n",
    "\n",
    "def IntP23(n,m,a):\n",
    "    return P(P23(n,m,a), v1, -v1 + v2, -v1, v1 - v2)\n",
    "\n",
    "def IntP34(n,m,a):\n",
    "    return P(P34(n,m,a), v1, -v1 + v2, -v1, v1 - v2)\n",
    "\n",
    "def IntP13(n,m,a):\n",
    "    return P(P13(n,m,a), v2, -v1 + v2, -v2, v1 - v2)\n",
    "\n",
    "def IntP14(n,m,a):\n",
    "    return P(P14(n,m,a), v1, v2, -v1, -v2)\n",
    "\n",
    "# The (non-orbifold) exterior points:\n",
    "\n",
    "# Q12_1() has orbifold behaviour;\n",
    "\n",
    "def ExtQ12_2(n,m,a):\n",
    "    return P(Q12_2(n,m,a), 2*v1 - v2, v1, v1, -v1 + v2)\n",
    "\n",
    "def ExtQ23_2(n,m,a):\n",
    "    return P(Q23_2(n,m,a), v2, -v1, -v1, -v1 - v2)\n",
    "\n",
    "# Q23_3() has orbifold behaviour;\n",
    "\n",
    "def ExtQ34_3(n,m,a):\n",
    "    return P(Q34_3(n,m,a), v1, -v2, v1 - v2, v1 - v2)\n",
    "\n",
    "def ExtQ34_4(n,m,a):\n",
    "    return P(Q34_4(n,m,a), v1, v1, v2, v1 - v2)\n",
    "\n",
    "# def ExtQ14_1(n,m,a):\n",
    "#    return P(Q14_1(n,m,a), v1 - v2, -v1, -v2, -v2)\n",
    "\n",
    "def ExtQ14_4(n,m,a):\n",
    "    return P(Q14_4(n,m,a), -v1 + v2, -v1, -v1, -v2)\n",
    "\n",
    "# The two exterior orbifold points:\n",
    "\n",
    "def OrbQ12_1(n,m,a):\n",
    "    return OrbifoldFactor(Q12_1(n,m,a), 1, 2, v1, -v1 + v2, v2, v2) + OrbifoldFactor(Q12_1(n,m,a), 2, 2, v1, -v1 + v2, v2, v2)\n",
    "\n",
    "def OrbQ23_3(n,m,a):\n",
    "    return OrbifoldFactor(Q23_3(n,m,a), 1, 2, v1 + v2, -v1, -v1 + v2, -v1 + v2) + OrbifoldFactor(Q23_3(n,m,a), 2, 2, v1 + v2, -v1, -v1 + v2, -v1 + v2)\n",
    "\n",
    "def OrbQ14_1(n,m,a):\n",
    "    return OrbifoldFactor(Q14_4(n,m,a), 1, 2, -v1, v1 - v2, -v2, -v2) + OrbifoldFactor(Q14_4(n,m,a), 2, 2, -v1, v1 - v2, -v2, -v2)\n",
    "\n",
    "def OrbQ34_3(n,m,a):\n",
    "    return OrbifoldFactor(Q34_3(n,m,a), 1, 2, -v2, v1, v1 - v2, v1 - v2) + OrbifoldFactor(Q34_3(n,m,a), 2, 2, -v2, v1, v1 - v2, v1 - v2)"
   ]
  },
  {
   "cell_type": "code",
   "execution_count": 9,
   "metadata": {},
   "outputs": [],
   "source": [
    "#def Character(n,m,a):\n",
    "#    return IntP12(n,m,a) + OrbQ12_1(n,m,a) + ExtQ12_2(n,m,a) + IntP23(n,m,a) + ExtQ23_2(n,m,a) + Orb23_3(n,m,a) + \n",
    "# IntP34(n,a) + IntP13(n,a) + IntP14(n,a) + ExtQ23_2(n,a) + ExtQ34_4(n,a) + ExtQ13_1(n,a) + ExtQ13_3(n,a) + ExtQ14_4(n,a) + ExtQ12_2(n,a)\n",
    "\n",
    "def InteriorCharacters(n,m,a):\n",
    "    return IntP12(n,m,a) + IntP23(n,m,a) + IntP13(n,m,a) + IntP14(n,m,a) + IntP34(n,m,a)\n",
    "\n",
    "#def NonOrbifoldExteriorCharacters(n,m,a):\n",
    "#    return ExtQ12_2(n,m,a) + ExtQ23_2(n,m,a) + ExtQ34_3(n,m,a) + ExtQ34_4(n,m,a) + ExtQ14_1(n,m,a) + ExtQ14_4(n,m,a)\n",
    "\n",
    "def NonOrbifoldExteriorCharacters(n,m,a):\n",
    "    return ExtQ12_2(n,m,a) + ExtQ23_2(n,m,a) + ExtQ34_4(n,m,a) + ExtQ14_4(n,m,a)\n",
    "\n",
    "def OrbifoldCharactersOld(n,m,a):\n",
    "    return OrbQ12_1(n,m,a) + OrbQ23_3(n,m,a)\n",
    "\n",
    "def OrbifoldCharacters(n,m,a):\n",
    "    return OrbQ12_1(n,m,a) + OrbQ23_3(n,m,a) + OrbQ14_1(n,m,a) + OrbQ34_3(n,m,a)"
   ]
  },
  {
   "cell_type": "code",
   "execution_count": 15,
   "metadata": {},
   "outputs": [
    {
     "data": {
      "text/latex": [
       "$\\displaystyle \\frac{e^{- 3 a t}}{2 \\left(1 - e^{t}\\right) \\left(1 - e^{2 t}\\right) \\left(e^{\\frac{3 t}{2}} + 1\\right)^{2}} + \\frac{e^{- 3 a t}}{2 \\left(1 - e^{t}\\right) \\left(1 - e^{\\frac{3 t}{2}}\\right)^{2} \\left(1 - e^{2 t}\\right)} + \\frac{e^{- 3 a t + t \\left(a + n\\right)}}{2 \\left(1 - e^{- t}\\right) \\left(1 - e^{4 t}\\right) \\left(e^{t} + 1\\right)^{2}} + \\frac{e^{- 3 a t + t \\left(a + n\\right)}}{2 \\left(1 - e^{- t}\\right) \\left(1 - e^{t}\\right)^{2} \\left(1 - e^{4 t}\\right)} + \\frac{e^{t \\left(2 a + n\\right) + 3 t \\left(m + n\\right)}}{2 \\left(1 - e^{- 2 t}\\right) \\left(1 + e^{- \\frac{3 t}{2}}\\right)^{2} \\left(1 - e^{- t}\\right)} + \\frac{e^{t \\left(2 a + n\\right) + 3 t \\left(m + n\\right)}}{2 \\left(1 - e^{- 2 t}\\right) \\left(1 - e^{- \\frac{3 t}{2}}\\right)^{2} \\left(1 - e^{- t}\\right)} + \\frac{e^{t \\left(- 2 a - m - n\\right) + 3 t \\left(2 a + m + 2 n\\right)}}{2 \\left(1 - e^{- 3 t}\\right) \\left(1 + e^{- t}\\right)^{2} \\left(1 - e^{t}\\right)} + \\frac{e^{t \\left(- 2 a - m - n\\right) + 3 t \\left(2 a + m + 2 n\\right)}}{2 \\left(1 - e^{- 3 t}\\right) \\left(1 - e^{- t}\\right)^{2} \\left(1 - e^{t}\\right)}$"
      ],
      "text/plain": [
       "              -3⋅a⋅t                              -3⋅a⋅t                      \n",
       "             ℯ                                   ℯ                            \n",
       "───────────────────────────────── + ───────────────────────────────── + ──────\n",
       "                                2                        2                    \n",
       "                      ⎛ 3⋅t    ⎞               ⎛     3⋅t⎞                 ⎛   \n",
       "                      ⎜ ───    ⎟               ⎜     ───⎟               2⋅⎝1 -\n",
       "  ⎛     t⎞ ⎛     2⋅t⎞ ⎜  2     ⎟      ⎛     t⎞ ⎜      2 ⎟  ⎛     2⋅t⎞         \n",
       "2⋅⎝1 - ℯ ⎠⋅⎝1 - ℯ   ⎠⋅⎝ℯ    + 1⎠    2⋅⎝1 - ℯ ⎠⋅⎝1 - ℯ   ⎠ ⋅⎝1 - ℯ   ⎠         \n",
       "\n",
       " -3⋅a⋅t + t⋅(a + n)                 -3⋅a⋅t + t⋅(a + n)                 t⋅(2⋅a \n",
       "ℯ                                  ℯ                                  ℯ       \n",
       "────────────────────────── + ──────────────────────────────── + ──────────────\n",
       "                         2                       2                            \n",
       "  -t⎞ ⎛     4⋅t⎞ ⎛ t    ⎞      ⎛     -t⎞ ⎛     t⎞  ⎛     4⋅t⎞                 \n",
       " ℯ  ⎠⋅⎝1 - ℯ   ⎠⋅⎝ℯ  + 1⎠    2⋅⎝1 - ℯ  ⎠⋅⎝1 - ℯ ⎠ ⋅⎝1 - ℯ   ⎠                 \n",
       "                                                                  ⎛     -2⋅t⎞ \n",
       "                                                                2⋅⎝1 - ℯ    ⎠⋅\n",
       "\n",
       "+ n) + 3⋅t⋅(m + n)               t⋅(2⋅a + n) + 3⋅t⋅(m + n)         t⋅(-2⋅a - m\n",
       "                                ℯ                                 ℯ           \n",
       "─────────────────────── + ───────────────────────────────────── + ────────────\n",
       "            2                                       2                         \n",
       "⎛     -3⋅t ⎞                            ⎛     -3⋅t ⎞                   ⎛     -\n",
       "⎜     ─────⎟                            ⎜     ─────⎟                 2⋅⎝1 - ℯ \n",
       "⎜       2  ⎟  ⎛     -t⎞     ⎛     -2⋅t⎞ ⎜       2  ⎟  ⎛     -t⎞               \n",
       "⎝1 + ℯ     ⎠ ⋅⎝1 - ℯ  ⎠   2⋅⎝1 - ℯ    ⎠⋅⎝1 - ℯ     ⎠ ⋅⎝1 - ℯ  ⎠               \n",
       "\n",
       " - n) + 3⋅t⋅(2⋅a + m + 2⋅n)    t⋅(-2⋅a - m - n) + 3⋅t⋅(2⋅a + m + 2⋅n)\n",
       "                              ℯ                                      \n",
       "─────────────────────────── + ───────────────────────────────────────\n",
       "              2                                         2            \n",
       "3⋅t⎞ ⎛     -t⎞  ⎛     t⎞           ⎛     -3⋅t⎞ ⎛     -t⎞  ⎛     t⎞   \n",
       "   ⎠⋅⎝1 + ℯ  ⎠ ⋅⎝1 - ℯ ⎠         2⋅⎝1 - ℯ    ⎠⋅⎝1 - ℯ  ⎠ ⋅⎝1 - ℯ ⎠   \n",
       "                                                                     \n",
       "                                                                     "
      ]
     },
     "execution_count": 15,
     "metadata": {},
     "output_type": "execute_result"
    }
   ],
   "source": [
    "# InteriorCharacters(n,m,a)\n",
    "# NonOrbifoldExteriorCharacters(n,m,a)\n",
    "OrbifoldCharacters(n,m,a)"
   ]
  },
  {
   "cell_type": "code",
   "execution_count": 16,
   "metadata": {},
   "outputs": [
    {
     "data": {
      "text/latex": [
       "$\\displaystyle \\frac{e^{- 3 a t}}{2 \\left(1 - e^{t}\\right) \\left(1 - e^{2 t}\\right) \\left(e^{\\frac{3 t}{2}} + 1\\right)^{2}} + \\frac{e^{- 3 a t}}{2 \\left(1 - e^{t}\\right) \\left(1 - e^{\\frac{3 t}{2}}\\right)^{2} \\left(1 - e^{2 t}\\right)} + \\frac{e^{- 3 a t + t \\left(a + n\\right)}}{2 \\left(1 - e^{- t}\\right) \\left(1 - e^{4 t}\\right) \\left(e^{t} + 1\\right)^{2}} + \\frac{e^{- 3 a t + t \\left(a + n\\right)}}{2 \\left(1 - e^{- t}\\right) \\left(1 - e^{t}\\right)^{2} \\left(1 - e^{4 t}\\right)} + \\frac{e^{- 2 a t}}{\\left(1 - e^{- t}\\right) \\left(1 - e^{t}\\right)^{2} \\left(1 - e^{2 t}\\right)} + \\frac{e^{3 t \\left(m + n\\right) + t \\left(- 2 a - m - n\\right)}}{\\left(1 - e^{- 2 t}\\right) \\left(1 - e^{t}\\right)^{2} \\left(1 - e^{3 t}\\right)} + \\frac{e^{n t}}{\\left(1 - e^{- 2 t}\\right) \\left(1 - e^{- t}\\right) \\left(1 - e^{t}\\right) \\left(1 - e^{2 t}\\right)} + \\frac{e^{- m t + 3 t \\left(m + n\\right)}}{\\left(1 - e^{- 2 t}\\right) \\left(1 - e^{- t}\\right) \\left(1 - e^{t}\\right) \\left(1 - e^{2 t}\\right)} + \\frac{e^{t \\left(2 a + n\\right) + 3 t \\left(m + n\\right)}}{2 \\left(1 - e^{- 2 t}\\right) \\left(1 + e^{- \\frac{3 t}{2}}\\right)^{2} \\left(1 - e^{- t}\\right)} + \\frac{e^{t \\left(2 a + n\\right) + 3 t \\left(m + n\\right)}}{2 \\left(1 - e^{- 2 t}\\right) \\left(1 - e^{- \\frac{3 t}{2}}\\right)^{2} \\left(1 - e^{- t}\\right)} + \\frac{e^{t \\left(- 2 a - m - n\\right) + 3 t \\left(2 a + m + 2 n\\right)}}{2 \\left(1 - e^{- 3 t}\\right) \\left(1 + e^{- t}\\right)^{2} \\left(1 - e^{t}\\right)} + \\frac{e^{3 t \\left(m + n\\right)}}{\\left(1 - e^{- 3 t}\\right) \\left(1 - e^{- t}\\right) \\left(1 - e^{t}\\right) \\left(1 - e^{3 t}\\right)} + \\frac{1}{\\left(1 - e^{- 3 t}\\right) \\left(1 - e^{- t}\\right) \\left(1 - e^{t}\\right) \\left(1 - e^{3 t}\\right)} + \\frac{e^{t \\left(2 a + n\\right) + 3 t \\left(m + n\\right)}}{\\left(1 - e^{- 3 t}\\right) \\left(1 - e^{- t}\\right)^{2} \\left(1 - e^{2 t}\\right)} + \\frac{e^{t \\left(- 2 a - m - n\\right) + 3 t \\left(2 a + m + 2 n\\right)}}{2 \\left(1 - e^{- 3 t}\\right) \\left(1 - e^{- t}\\right)^{2} \\left(1 - e^{t}\\right)} + \\frac{e^{3 n t}}{\\left(1 - e^{- 3 t}\\right) \\left(1 - e^{- 2 t}\\right) \\left(1 - e^{2 t}\\right) \\left(1 - e^{3 t}\\right)} + \\frac{e^{t \\left(2 a + n\\right)}}{\\left(1 - e^{- 4 t}\\right) \\left(1 - e^{- t}\\right)^{2} \\left(1 - e^{3 t}\\right)}$"
      ],
      "text/plain": [
       "              -3⋅a⋅t                              -3⋅a⋅t                      \n",
       "             ℯ                                   ℯ                            \n",
       "───────────────────────────────── + ───────────────────────────────── + ──────\n",
       "                                2                        2                    \n",
       "                      ⎛ 3⋅t    ⎞               ⎛     3⋅t⎞                 ⎛   \n",
       "                      ⎜ ───    ⎟               ⎜     ───⎟               2⋅⎝1 -\n",
       "  ⎛     t⎞ ⎛     2⋅t⎞ ⎜  2     ⎟      ⎛     t⎞ ⎜      2 ⎟  ⎛     2⋅t⎞         \n",
       "2⋅⎝1 - ℯ ⎠⋅⎝1 - ℯ   ⎠⋅⎝ℯ    + 1⎠    2⋅⎝1 - ℯ ⎠⋅⎝1 - ℯ   ⎠ ⋅⎝1 - ℯ   ⎠         \n",
       "\n",
       " -3⋅a⋅t + t⋅(a + n)                 -3⋅a⋅t + t⋅(a + n)                      -2\n",
       "ℯ                                  ℯ                                       ℯ  \n",
       "────────────────────────── + ──────────────────────────────── + ──────────────\n",
       "                         2                       2                            \n",
       "  -t⎞ ⎛     4⋅t⎞ ⎛ t    ⎞      ⎛     -t⎞ ⎛     t⎞  ⎛     4⋅t⎞   ⎛     -t⎞ ⎛   \n",
       " ℯ  ⎠⋅⎝1 - ℯ   ⎠⋅⎝ℯ  + 1⎠    2⋅⎝1 - ℯ  ⎠⋅⎝1 - ℯ ⎠ ⋅⎝1 - ℯ   ⎠   ⎝1 - ℯ  ⎠⋅⎝1 -\n",
       "                                                                              \n",
       "                                                                              \n",
       "\n",
       "⋅a⋅t                3⋅t⋅(m + n) + t⋅(-2⋅a - m - n)                        n⋅t \n",
       "                   ℯ                                                     ℯ    \n",
       "──────────────── + ──────────────────────────────── + ────────────────────────\n",
       "    2                                  2              ⎛     -2⋅t⎞ ⎛     -t⎞ ⎛ \n",
       "  t⎞  ⎛     2⋅t⎞   ⎛     -2⋅t⎞ ⎛     t⎞  ⎛     3⋅t⎞   ⎝1 - ℯ    ⎠⋅⎝1 - ℯ  ⎠⋅⎝1\n",
       " ℯ ⎠ ⋅⎝1 - ℯ   ⎠   ⎝1 - ℯ    ⎠⋅⎝1 - ℯ ⎠ ⋅⎝1 - ℯ   ⎠                           \n",
       "                                                                              \n",
       "                                                                              \n",
       "\n",
       "                                -m⋅t + 3⋅t⋅(m + n)                     t⋅(2⋅a \n",
       "                               ℯ                                      ℯ       \n",
       "───────────────── + ───────────────────────────────────────── + ──────────────\n",
       "    t⎞ ⎛     2⋅t⎞   ⎛     -2⋅t⎞ ⎛     -t⎞ ⎛     t⎞ ⎛     2⋅t⎞                 \n",
       " - ℯ ⎠⋅⎝1 - ℯ   ⎠   ⎝1 - ℯ    ⎠⋅⎝1 - ℯ  ⎠⋅⎝1 - ℯ ⎠⋅⎝1 - ℯ   ⎠                 \n",
       "                                                                              \n",
       "                                                                  ⎛     -2⋅t⎞ \n",
       "                                                                2⋅⎝1 - ℯ    ⎠⋅\n",
       "\n",
       "+ n) + 3⋅t⋅(m + n)               t⋅(2⋅a + n) + 3⋅t⋅(m + n)         t⋅(-2⋅a - m\n",
       "                                ℯ                                 ℯ           \n",
       "─────────────────────── + ───────────────────────────────────── + ────────────\n",
       "            2                                       2                         \n",
       "⎛     -3⋅t ⎞                            ⎛     -3⋅t ⎞                   ⎛     -\n",
       "⎜     ─────⎟                            ⎜     ─────⎟                 2⋅⎝1 - ℯ \n",
       "⎜       2  ⎟  ⎛     -t⎞     ⎛     -2⋅t⎞ ⎜       2  ⎟  ⎛     -t⎞               \n",
       "⎝1 + ℯ     ⎠ ⋅⎝1 - ℯ  ⎠   2⋅⎝1 - ℯ    ⎠⋅⎝1 - ℯ     ⎠ ⋅⎝1 - ℯ  ⎠               \n",
       "\n",
       " - n) + 3⋅t⋅(2⋅a + m + 2⋅n)                   3⋅t⋅(m + n)                     \n",
       "                                             ℯ                                \n",
       "─────────────────────────── + ───────────────────────────────────────── + ────\n",
       "              2               ⎛     -3⋅t⎞ ⎛     -t⎞ ⎛     t⎞ ⎛     3⋅t⎞   ⎛   \n",
       "3⋅t⎞ ⎛     -t⎞  ⎛     t⎞      ⎝1 - ℯ    ⎠⋅⎝1 - ℯ  ⎠⋅⎝1 - ℯ ⎠⋅⎝1 - ℯ   ⎠   ⎝1 -\n",
       "   ⎠⋅⎝1 + ℯ  ⎠ ⋅⎝1 - ℯ ⎠                                                      \n",
       "                                                                              \n",
       "                                                                              \n",
       "\n",
       "                                             t⋅(2⋅a + n) + 3⋅t⋅(m + n)       t\n",
       "                1                           ℯ                               ℯ \n",
       "───────────────────────────────────── + ───────────────────────────────── + ──\n",
       "  -3⋅t⎞ ⎛     -t⎞ ⎛     t⎞ ⎛     3⋅t⎞                        2                \n",
       " ℯ    ⎠⋅⎝1 - ℯ  ⎠⋅⎝1 - ℯ ⎠⋅⎝1 - ℯ   ⎠   ⎛     -3⋅t⎞ ⎛     -t⎞  ⎛     2⋅t⎞     \n",
       "                                        ⎝1 - ℯ    ⎠⋅⎝1 - ℯ  ⎠ ⋅⎝1 - ℯ   ⎠     \n",
       "                                                                              \n",
       "                                                                              \n",
       "\n",
       "⋅(-2⋅a - m - n) + 3⋅t⋅(2⋅a + m + 2⋅n)                        3⋅n⋅t            \n",
       "                                                            ℯ                 \n",
       "───────────────────────────────────── + ──────────────────────────────────────\n",
       "                        2               ⎛     -3⋅t⎞ ⎛     -2⋅t⎞ ⎛     2⋅t⎞ ⎛  \n",
       "   ⎛     -3⋅t⎞ ⎛     -t⎞  ⎛     t⎞      ⎝1 - ℯ    ⎠⋅⎝1 - ℯ    ⎠⋅⎝1 - ℯ   ⎠⋅⎝1 \n",
       " 2⋅⎝1 - ℯ    ⎠⋅⎝1 - ℯ  ⎠ ⋅⎝1 - ℯ ⎠                                            \n",
       "                                                                              \n",
       "                                                                              \n",
       "\n",
       "                      t⋅(2⋅a + n)          \n",
       "                     ℯ                     \n",
       "─────── + ─────────────────────────────────\n",
       "   3⋅t⎞                        2           \n",
       "- ℯ   ⎠   ⎛     -4⋅t⎞ ⎛     -t⎞  ⎛     3⋅t⎞\n",
       "          ⎝1 - ℯ    ⎠⋅⎝1 - ℯ  ⎠ ⋅⎝1 - ℯ   ⎠\n",
       "                                           \n",
       "                                           "
      ]
     },
     "execution_count": 16,
     "metadata": {},
     "output_type": "execute_result"
    }
   ],
   "source": [
    "def Character(n,m,a):\n",
    "    return InteriorCharacters(n,m,a) + NonOrbifoldExteriorCharacters(n,m,a) + OrbifoldCharacters(n,m,a)\n",
    "\n",
    "Character(n,m,a)"
   ]
  },
  {
   "cell_type": "code",
   "execution_count": 17,
   "metadata": {},
   "outputs": [
    {
     "data": {
      "text/latex": [
       "$\\displaystyle -\\infty$"
      ],
      "text/plain": [
       "-∞"
      ]
     },
     "execution_count": 17,
     "metadata": {},
     "output_type": "execute_result"
    }
   ],
   "source": [
    "limit(Character(n,m,a), t, 0)"
   ]
  },
  {
   "cell_type": "code",
   "execution_count": null,
   "metadata": {},
   "outputs": [],
   "source": []
  },
  {
   "cell_type": "code",
   "execution_count": null,
   "metadata": {},
   "outputs": [],
   "source": []
  },
  {
   "cell_type": "code",
   "execution_count": null,
   "metadata": {},
   "outputs": [],
   "source": []
  },
  {
   "cell_type": "code",
   "execution_count": null,
   "metadata": {},
   "outputs": [],
   "source": []
  },
  {
   "cell_type": "code",
   "execution_count": null,
   "metadata": {},
   "outputs": [],
   "source": []
  },
  {
   "cell_type": "code",
   "execution_count": null,
   "metadata": {},
   "outputs": [],
   "source": []
  },
  {
   "cell_type": "code",
   "execution_count": null,
   "metadata": {},
   "outputs": [],
   "source": []
  },
  {
   "cell_type": "code",
   "execution_count": null,
   "metadata": {},
   "outputs": [],
   "source": [
    "for a in range(0, 5):\n",
    "    disp.display(simplify(CutDiff(k,a)))\n",
    "\n",
    "a = symbols('a')"
   ]
  }
 ],
 "metadata": {
  "kernelspec": {
   "display_name": "Python 3",
   "language": "python",
   "name": "python3"
  },
  "language_info": {
   "codemirror_mode": {
    "name": "ipython",
    "version": 3
   },
   "file_extension": ".py",
   "mimetype": "text/x-python",
   "name": "python",
   "nbconvert_exporter": "python",
   "pygments_lexer": "ipython3",
   "version": "3.7.3"
  }
 },
 "nbformat": 4,
 "nbformat_minor": 4
}
