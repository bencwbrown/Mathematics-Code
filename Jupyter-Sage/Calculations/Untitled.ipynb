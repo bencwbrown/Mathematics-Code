{
 "cells": [
  {
   "cell_type": "code",
   "execution_count": 1,
   "id": "e04c9310-57bd-4016-b24b-3b846802414e",
   "metadata": {},
   "outputs": [],
   "source": [
    "from sympy import *\n",
    "from sympy.vector import Vector\n",
    "from sympy.vector import CoordSys3D\n",
    "N = CoordSys3D('N')\n",
    "\n",
    "t, n, d = symbols( 't n d' )\n",
    "init_printing(use_unicode=True)"
   ]
  },
  {
   "cell_type": "code",
   "execution_count": 3,
   "id": "809dffe4-14f1-40a4-bf13-33f12e3e76bf",
   "metadata": {},
   "outputs": [
    {
     "data": {
      "image/png": "[encoded data removed]",
      "text/latex": [
       "$\\displaystyle \\frac{\\left(n + 1\\right) \\left(n + 2\\right)}{2}$"
      ],
      "text/plain": [
       "(n + 1)*(n + 2)/2"
      ]
     },
     "execution_count": 3,
     "metadata": {},
     "output_type": "execute_result"
    }
   ],
   "source": [
    "def Simplex(n):\n",
    "    return (n+1)*(n+2) / 2\n",
    "\n",
    "Simplex(n)"
   ]
  },
  {
   "cell_type": "code",
   "execution_count": 17,
   "id": "1a7f0ea9-089e-4444-9741-b0b1e421dc80",
   "metadata": {},
   "outputs": [],
   "source": [
    "def Delta3(n,d):\n",
    "    return factor(Simplex(n+d) - Simplex(n-1))"
   ]
  },
  {
   "cell_type": "code",
   "execution_count": 12,
   "id": "949611c0-e940-4c54-bdec-0275418adc60",
   "metadata": {},
   "outputs": [
    {
     "data": {
      "image/png": "[encoded data removed]",
      "text/latex": [
       "$\\displaystyle \\frac{\\left(d + 1\\right) \\left(d + 2 n + 2\\right)}{2}$"
      ],
      "text/plain": [
       "(d + 1)*(d + 2*n + 2)/2"
      ]
     },
     "execution_count": 12,
     "metadata": {},
     "output_type": "execute_result"
    }
   ],
   "source": [
    "Delta3(n,d)"
   ]
  },
  {
   "cell_type": "code",
   "execution_count": 13,
   "id": "f6ecf877-8ba7-446d-bfe1-3f6f3f4c6ea9",
   "metadata": {},
   "outputs": [],
   "source": [
    "def Delta12(n,d):\n",
    "    return Simplex(d-2)"
   ]
  },
  {
   "cell_type": "code",
   "execution_count": 14,
   "id": "e1103c77-555e-4e89-827d-7a13cc9cffce",
   "metadata": {},
   "outputs": [
    {
     "data": {
      "image/png": "[encoded data removed]",
      "text/latex": [
       "$\\displaystyle \\frac{d \\left(d - 1\\right)}{2}$"
      ],
      "text/plain": [
       "d*(d - 1)/2"
      ]
     },
     "execution_count": 14,
     "metadata": {},
     "output_type": "execute_result"
    }
   ],
   "source": [
    "Delta12(n,d)"
   ]
  },
  {
   "cell_type": "code",
   "execution_count": 7,
   "id": "d0842b15-3e5a-4d7e-aa08-058bb29d7432",
   "metadata": {},
   "outputs": [],
   "source": [
    "def TCP2(n,d):\n",
    "    return simplify( Rational(1,4) * ( (d+1)*(d+2)*(n+d+1)*(n+d+2) ) )"
   ]
  },
  {
   "cell_type": "code",
   "execution_count": 9,
   "id": "e746c8ae-b87c-431c-acc7-9bb04f47c7f7",
   "metadata": {},
   "outputs": [
    {
     "data": {
      "image/png": "[encoded data removed]",
      "text/latex": [
       "$\\displaystyle \\frac{\\left(d + 1\\right) \\left(d + n + 1\\right) \\left(2 d + n + 2\\right)}{2}$"
      ],
      "text/plain": [
       "(d + 1)*(d + n + 1)*(2*d + n + 2)/2"
      ]
     },
     "execution_count": 9,
     "metadata": {},
     "output_type": "execute_result"
    }
   ],
   "source": [
    "factor(TCP2(n,d) - TCP2(n,d-1))"
   ]
  },
  {
   "cell_type": "code",
   "execution_count": 21,
   "id": "dd4b97d6-012d-41e6-b570-cd44059ea6b3",
   "metadata": {},
   "outputs": [],
   "source": [
    "def Sum(n,d):\n",
    "    return Simplex(n-3) + Delta3(n,d) + Delta12(n,d)"
   ]
  },
  {
   "cell_type": "code",
   "execution_count": 22,
   "id": "62d35cc5-342d-44bc-905e-13e95c229997",
   "metadata": {},
   "outputs": [
    {
     "data": {
      "image/png": "[encoded data removed]",
      "text/latex": [
       "$\\displaystyle \\frac{2 d^{2} + 2 d n + 2 d + n^{2} - n + 4}{2}$"
      ],
      "text/plain": [
       "(2*d**2 + 2*d*n + 2*d + n**2 - n + 4)/2"
      ]
     },
     "execution_count": 22,
     "metadata": {},
     "output_type": "execute_result"
    }
   ],
   "source": [
    "factor(Sum(n,d))"
   ]
  },
  {
   "cell_type": "code",
   "execution_count": null,
   "id": "2d6d719f-f09a-48fe-8333-55e22deb5a5d",
   "metadata": {},
   "outputs": [],
   "source": []
  }
 ],
 "metadata": {
  "kernelspec": {
   "display_name": "SageMath 9.4",
   "language": "sage",
   "name": "sagemath-9.4"
  },
  "language_info": {
   "codemirror_mode": {
    "name": "ipython",
    "version": 3
   },
   "file_extension": ".py",
   "mimetype": "text/x-python",
   "name": "python",
   "nbconvert_exporter": "python",
   "pygments_lexer": "ipython3",
   "version": "3.9.5"
  }
 },
 "nbformat": 4,
 "nbformat_minor": 5
}
