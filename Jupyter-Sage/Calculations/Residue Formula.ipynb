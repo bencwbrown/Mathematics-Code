{
 "cells": [
  {
   "cell_type": "code",
   "execution_count": 28,
   "metadata": {},
   "outputs": [],
   "source": [
    "from sympy import *\n",
    "from sympy.vector import Vector\n",
    "from sympy.vector import CoordSys3D\n",
    "import IPython.display as disp\n",
    "\n",
    "N = CoordSys3D('N')\n",
    "\n",
    "z, t, n, x, y, a, b = symbols( 'z, t, n, x, y, a, b' )\n",
    "# init_printing(use_unicode=True)\n",
    "init_printing(use_latex='mathjax')\n",
    "\n",
    "def Function(z):\n",
    "    return (1 - z) / ( (1 - 2*z)**2 )\n",
    "\n"
   ]
  },
  {
   "cell_type": "code",
   "execution_count": 4,
   "metadata": {},
   "outputs": [
    {
     "data": {
      "text/latex": [
       "$\\displaystyle \\frac{1 - z}{\\left(1 - 2 z\\right)^{2}}$"
      ],
      "text/plain": [
       "  1 - z   \n",
       "──────────\n",
       "         2\n",
       "(1 - 2⋅z) "
      ]
     },
     "execution_count": 4,
     "metadata": {},
     "output_type": "execute_result"
    }
   ],
   "source": [
    "Function(z)"
   ]
  },
  {
   "cell_type": "code",
   "execution_count": 7,
   "metadata": {},
   "outputs": [
    {
     "data": {
      "text/latex": [
       "$\\displaystyle - \\frac{1}{4 \\left(z - \\frac{1}{2}\\right)} + \\frac{1}{8 \\left(z - \\frac{1}{2}\\right)^{2}}$"
      ],
      "text/plain": [
       "       1             1      \n",
       "- ─────────── + ────────────\n",
       "  4⋅(z - 1/2)              2\n",
       "                8⋅(z - 1/2) "
      ]
     },
     "execution_count": 7,
     "metadata": {},
     "output_type": "execute_result"
    }
   ],
   "source": [
    "series(Function(z), z, Rational(1,2))"
   ]
  },
  {
   "cell_type": "code",
   "execution_count": 30,
   "metadata": {},
   "outputs": [
    {
     "data": {
      "text/latex": [
       "$\\displaystyle \\frac{x^{a}}{\\left(1 - \\frac{1}{x}\\right) \\left(1 - \\frac{y}{x}\\right)}$"
      ],
      "text/plain": [
       "        a      \n",
       "       x       \n",
       "───────────────\n",
       "⎛    1⎞ ⎛    y⎞\n",
       "⎜1 - ─⎟⋅⎜1 - ─⎟\n",
       "⎝    x⎠ ⎝    x⎠"
      ]
     },
     "execution_count": 30,
     "metadata": {},
     "output_type": "execute_result"
    }
   ],
   "source": [
    "def Term(x, y, a, b):\n",
    "    return (x**a) / ( (1 - (1/x)) * (1 - (y/x) ) )\n",
    "\n",
    "Term(x, y, a, b)"
   ]
  },
  {
   "cell_type": "code",
   "execution_count": 46,
   "metadata": {},
   "outputs": [
    {
     "data": {
      "text/latex": [
       "$\\displaystyle \\frac{x^{a}}{1 - \\frac{1}{x}} + \\frac{x^{a} y}{x - 1} + \\frac{x^{a} y^{2}}{x^{2} - x} + \\frac{x^{a} y^{3}}{x^{3} - x^{2}} + \\frac{x^{a} y^{4}}{x^{4} - x^{3}} + \\frac{x^{a} y^{5}}{x^{5} - x^{4}} + O\\left(y^{6}\\right)$"
      ],
      "text/plain": [
       "   a      a      a  2      a  3      a  4      a  5         \n",
       "  x      x ⋅y   x ⋅y      x ⋅y      x ⋅y      x ⋅y      ⎛ 6⎞\n",
       "───── + ───── + ────── + ─────── + ─────── + ─────── + O⎝y ⎠\n",
       "    1   x - 1    2        3    2    4    3    5    4        \n",
       "1 - ─           x  - x   x  - x    x  - x    x  - x         \n",
       "    x                                                       "
      ]
     },
     "execution_count": 46,
     "metadata": {},
     "output_type": "execute_result"
    }
   ],
   "source": [
    "series(Term(x, y, a, b), y, 0)"
   ]
  },
  {
   "cell_type": "code",
   "execution_count": 37,
   "metadata": {},
   "outputs": [],
   "source": [
    "def Residue(x, y, a, b):\n",
    "    return (y**(a + 2)) / ((x - y) * (y - 1) )"
   ]
  },
  {
   "cell_type": "code",
   "execution_count": 38,
   "metadata": {},
   "outputs": [
    {
     "data": {
      "text/latex": [
       "$\\displaystyle \\frac{y^{a + 2}}{\\left(x - y\\right) \\left(y - 1\\right)}$"
      ],
      "text/plain": [
       "      a + 2    \n",
       "     y         \n",
       "───────────────\n",
       "(x - y)⋅(y - 1)"
      ]
     },
     "execution_count": 38,
     "metadata": {},
     "output_type": "execute_result"
    }
   ],
   "source": [
    "Residue(x, y, a, b)"
   ]
  },
  {
   "cell_type": "code",
   "execution_count": 41,
   "metadata": {},
   "outputs": [
    {
     "data": {
      "text/latex": [
       "$\\displaystyle \\frac{y^{a + 6}}{x^{5} \\left(y - 1\\right)} + \\frac{y^{a + 5}}{x^{4} \\left(y - 1\\right)} + \\frac{y^{a + 4}}{x^{3} \\left(y - 1\\right)} + \\frac{y^{a + 3}}{x^{2} \\left(y - 1\\right)} + \\frac{y^{a + 2}}{x \\left(y - 1\\right)} + O\\left(\\frac{1}{x^{6}}; x\\rightarrow \\infty\\right)$"
      ],
      "text/plain": [
       "   a + 6        a + 5        a + 4        a + 3        a + 2                \n",
       "  y            y            y            y            y          ⎛1        ⎞\n",
       "────────── + ────────── + ────────── + ────────── + ───────── + O⎜──; x → ∞⎟\n",
       " 5            4            3            2           x⋅(y - 1)    ⎜ 6       ⎟\n",
       "x ⋅(y - 1)   x ⋅(y - 1)   x ⋅(y - 1)   x ⋅(y - 1)                ⎝x        ⎠"
      ]
     },
     "execution_count": 41,
     "metadata": {},
     "output_type": "execute_result"
    }
   ],
   "source": [
    "series(Residue(x, y, a, b), x, oo)"
   ]
  },
  {
   "cell_type": "code",
   "execution_count": null,
   "metadata": {},
   "outputs": [],
   "source": []
  }
 ],
 "metadata": {
  "kernelspec": {
   "display_name": "Python 3",
   "language": "python",
   "name": "python3"
  },
  "language_info": {
   "codemirror_mode": {
    "name": "ipython",
    "version": 3
   },
   "file_extension": ".py",
   "mimetype": "text/x-python",
   "name": "python",
   "nbconvert_exporter": "python",
   "pygments_lexer": "ipython3",
   "version": "3.8.5"
  }
 },
 "nbformat": 4,
 "nbformat_minor": 4
}
