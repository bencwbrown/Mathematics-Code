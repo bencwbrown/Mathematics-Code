{
 "cells": [
  {
   "cell_type": "code",
   "execution_count": null,
   "id": "e04c9310-57bd-4016-b24b-3b846802414e",
   "metadata": {},
   "outputs": [],
   "source": [
    "from sympy import *\n",
    "from sympy.vector import Vector\n",
    "from sympy.vector import CoordSys3D\n",
    "N = CoordSys3D('N')\n",
    "\n",
    "t, n, k = symbols( 't n k' )\n",
    "init_printing(use_unicode=True)\n"
   ]
  }
 ],
 "metadata": {
  "kernelspec": {
   "display_name": "SageMath 9.4",
   "language": "sage",
   "name": "sagemath-9.4"
  },
  "language_info": {
   "codemirror_mode": {
    "name": "ipython",
    "version": 3
   },
   "file_extension": ".py",
   "mimetype": "text/x-python",
   "name": "python",
   "nbconvert_exporter": "python",
   "pygments_lexer": "ipython3",
   "version": "3.9.5"
  }
 },
 "nbformat": 4,
 "nbformat_minor": 5
}
