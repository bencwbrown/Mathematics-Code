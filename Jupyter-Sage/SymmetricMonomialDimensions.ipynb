{
 "cells": [
  {
   "cell_type": "code",
   "execution_count": 24,
   "id": "042eab23-bd6f-4cff-9147-0e7fc9ac9b72",
   "metadata": {},
   "outputs": [],
   "source": [
    "from sympy import *\n",
    "from sympy.vector import Vector\n",
    "from sympy.vector import CoordSys3D\n",
    "N = CoordSys3D('N')\n",
    "\n",
    "n, m, d, i, d2 = symbols( 'n m d i d2', integer=True, positive=True )\n",
    "init_printing(use_unicode=True)"
   ]
  },
  {
   "cell_type": "markdown",
   "id": "dec42d21-3a21-43d2-a76b-d30fd4e75a9c",
   "metadata": {},
   "source": [
    "For $(T^{*}\\mathbb{CP}^{1})^{d}$, where\n",
    "\n",
    "$$\\dim H^{0}((T^{*}\\mathbb{CP}^{1})^{d}; \\mathcal{L}^{n}) = (n + d + 1)(d + 1).$$"
   ]
  },
  {
   "cell_type": "code",
   "execution_count": 9,
   "id": "669fc7d4-5145-446d-8bd9-5280b2edd0d1",
   "metadata": {},
   "outputs": [
    {
     "data": {
      "image/png": "[encoded data removed]",
      "text/latex": [
       "$\\displaystyle \\left(d + 1\\right) \\left(d + n + 1\\right)$"
      ],
      "text/plain": [
       "(d + 1)⋅(d + n + 1)"
      ]
     },
     "execution_count": 9,
     "metadata": {},
     "output_type": "execute_result"
    }
   ],
   "source": [
    "factor(binomial(2 + n + d - 1, n + d) * binomial(2 + d - 1, d))"
   ]
  },
  {
   "cell_type": "markdown",
   "id": "21ece500-9ce1-4102-be24-a2fafe7bf48c",
   "metadata": {},
   "source": [
    "For $(T^{*}\\mathbb{CP}^{2})^{d}$, where\n",
    "\n",
    "$$\\dim H^{0}((T^{*}\\mathbb{CP}^{2})^{d}; \\mathcal{L}^{n}) = \\frac{(d + 1)(d + 2)}{2} \\cdot \\frac{(n + d + 1)(n + d + 2)}{2}.$$"
   ]
  },
  {
   "cell_type": "code",
   "execution_count": 11,
   "id": "da15bbde-8d50-4077-bd21-87c7413ad5cc",
   "metadata": {},
   "outputs": [
    {
     "data": {
      "image/png": "[encoded data removed]",
      "text/latex": [
       "$\\displaystyle \\frac{\\left(d + 1\\right) \\left(d + 2\\right) \\left(d + n + 1\\right) \\left(d + n + 2\\right)}{4}$"
      ],
      "text/plain": [
       "(d + 1)⋅(d + 2)⋅(d + n + 1)⋅(d + n + 2)\n",
       "───────────────────────────────────────\n",
       "                   4                   "
      ]
     },
     "execution_count": 11,
     "metadata": {},
     "output_type": "execute_result"
    }
   ],
   "source": [
    "simplify(binomial(3 + n + d - 1, n + d) * binomial(3 + d - 1, d))"
   ]
  },
  {
   "cell_type": "markdown",
   "id": "4fa53def-48fa-4985-b885-fd7703eebeb0",
   "metadata": {},
   "source": [
    "For $(T^{*}(\\mathbb{CP} \\times \\mathbb{CP})^{d}$, where\n",
    "\n",
    "$$\\dim H^{0}( (( T^{*}(\\mathbb{CP} \\times \\mathbb{CP}) )^{d}  ; \\mathcal{O}(n) \\boxtimes \\mathcal{O}(m)) = \\frac{(d + 1)(d + 2)}{2} \\cdot \\frac{d^{2} + 2dm + 2dn + 3d + 3mn + 3m + 3n + 3}{3}.$$"
   ]
  },
  {
   "cell_type": "code",
   "execution_count": 16,
   "id": "fb74b404-194f-4056-882d-9841a9bc6a03",
   "metadata": {},
   "outputs": [
    {
     "data": {
      "image/png": "[encoded data removed]",
      "text/latex": [
       "$\\displaystyle \\left(m + 1\\right) \\left(n + 1\\right)$"
      ],
      "text/plain": [
       "(m + 1)⋅(n + 1)"
      ]
     },
     "execution_count": 16,
     "metadata": {},
     "output_type": "execute_result"
    }
   ],
   "source": [
    "simplify(binomial(2 + n - 1, n) * binomial(2 + m - 1, m))"
   ]
  },
  {
   "cell_type": "markdown",
   "id": "b236053d-61a7-4a44-ba69-8de3a504e98a",
   "metadata": {},
   "source": [
    "Function to quickly enter:\n",
    "\n",
    "$$ \\dim S_{d}\\mathbb{C}^{n} = \\binom{n + d - 1}{d}.$$"
   ]
  },
  {
   "cell_type": "code",
   "execution_count": 19,
   "id": "cd6173e5-d70a-4f72-bf43-91a47eef20a8",
   "metadata": {},
   "outputs": [],
   "source": [
    "def SymPowerDim(n,d):\n",
    "    return binomial(n + d - 1, d)"
   ]
  },
  {
   "cell_type": "code",
   "execution_count": 20,
   "id": "b411e9e9-a62d-4469-b986-130debf06c9b",
   "metadata": {},
   "outputs": [
    {
     "data": {
      "image/png": "[encoded data removed]",
      "text/latex": [
       "$\\displaystyle d + n + 1$"
      ],
      "text/plain": [
       "d + n + 1"
      ]
     },
     "execution_count": 20,
     "metadata": {},
     "output_type": "execute_result"
    }
   ],
   "source": [
    "SymPowerDim(2,n+d)"
   ]
  },
  {
   "cell_type": "code",
   "execution_count": 73,
   "id": "8146e1bb-103b-485d-ad12-77ff35299d1e",
   "metadata": {},
   "outputs": [],
   "source": [
    "def ProdCP1Dim(n,m,d,d2):\n",
    "    return SymPowerDim(2, n + d - d2) * SymPowerDim(2, m + d2) * SymPowerDim(2, d - d2) * SymPowerDim(2, d2)\n",
    "\n",
    "def CP1xCP1Euler(n,m,d):\n",
    "    return factor(Rational(1, 6) * (d + 1) * (d + 2) * (d**2 + 2*d*m + 2*d*n + 3*d + 3*m*n + 3*m + 3*n + 3 ))"
   ]
  },
  {
   "cell_type": "code",
   "execution_count": 33,
   "id": "9068b3e5-9072-46cc-9eb3-b7ec8433d717",
   "metadata": {},
   "outputs": [
    {
     "data": {
      "image/png": "[encoded data removed]",
      "text/latex": [
       "$\\displaystyle \\frac{\\left(d + 1\\right) \\left(d + 2\\right) \\left(2 d + 3\\right) \\left(m + 1\\right) \\left(n + 1\\right)}{6}$"
      ],
      "text/plain": [
       "(d + 1)⋅(d + 2)⋅(2⋅d + 3)⋅(m + 1)⋅(n + 1)\n",
       "─────────────────────────────────────────\n",
       "                    6                    "
      ]
     },
     "execution_count": 33,
     "metadata": {},
     "output_type": "execute_result"
    }
   ],
   "source": [
    "factor( Sum(ProdCP1Dim(n,m,d,i),(i,0,d)).doit() )"
   ]
  },
  {
   "cell_type": "code",
   "execution_count": 53,
   "id": "bc3f8916-0167-44d1-8982-5a4448d9c653",
   "metadata": {},
   "outputs": [
    {
     "data": {
      "image/png": "[encoded data removed]",
      "text/latex": [
       "$\\displaystyle \\frac{\\left(d + 1\\right) \\left(d + 2\\right) \\left(d^{2} + 2 d m + 2 d n + 3 d + 3 m n + 3 m + 3 n + 3\\right)}{6}$"
      ],
      "text/plain": [
       "                ⎛ 2                                              ⎞\n",
       "(d + 1)⋅(d + 2)⋅⎝d  + 2⋅d⋅m + 2⋅d⋅n + 3⋅d + 3⋅m⋅n + 3⋅m + 3⋅n + 3⎠\n",
       "──────────────────────────────────────────────────────────────────\n",
       "                                6                                 "
      ]
     },
     "execution_count": 53,
     "metadata": {},
     "output_type": "execute_result"
    }
   ],
   "source": [
    "CP1xCP1Euler(n,m,d)"
   ]
  },
  {
   "cell_type": "code",
   "execution_count": 60,
   "id": "d2357c04-971f-46b3-b601-cec5c6fb67fe",
   "metadata": {},
   "outputs": [],
   "source": [
    "# Calculate the error:\n",
    "\n",
    "def Error(n,m,d):\n",
    "    return factor( Sum(ProdCP1Dim(n,m,d,i),(i,0,d)).doit() - CP1xCP1Euler(n,m,d) ) \n",
    "\n",
    "def strProdCP1Dim(n,m,d):\n",
    "    return factor((d + 1)*(d + 2)*(2*d + 3)*(m + 1)*(n + 1)/6)\n",
    "\n",
    "def strCP1xCP1Euler(n,m,d):\n",
    "    return factor((d + 1)*(d + 2)*(d**2 + 2*d*m + 2*d*n + 3*d + 3*m*n + 3*m + 3*n + 3)/6)"
   ]
  },
  {
   "cell_type": "code",
   "execution_count": 41,
   "id": "ba1242c0-7004-4a43-9061-f120b82e52e0",
   "metadata": {},
   "outputs": [
    {
     "data": {
      "image/png": "[encoded data removed]",
      "text/latex": [
       "$\\displaystyle - \\frac{d \\left(d + 1\\right) \\left(d + 2\\right) \\left(d - 2 m n + 1\\right)}{6}$"
      ],
      "text/plain": [
       "-d⋅(d + 1)⋅(d + 2)⋅(d - 2⋅m⋅n + 1) \n",
       "───────────────────────────────────\n",
       "                 6                 "
      ]
     },
     "execution_count": 41,
     "metadata": {},
     "output_type": "execute_result"
    }
   ],
   "source": [
    "factor( Error(n,m,d) )"
   ]
  },
  {
   "cell_type": "code",
   "execution_count": 45,
   "id": "220bbdd2-ea19-4956-b21f-3831277b5566",
   "metadata": {},
   "outputs": [
    {
     "data": {
      "text/plain": [
       "'(d + 1)*(d + 2)*(2*d + 3)*(m + 1)*(n + 1)/6'"
      ]
     },
     "execution_count": 45,
     "metadata": {},
     "output_type": "execute_result"
    }
   ],
   "source": [
    "str(factor( Sum(ProdCP1Dim(n,m,d,i),(i,0,d)).doit()))"
   ]
  },
  {
   "cell_type": "code",
   "execution_count": 58,
   "id": "97c9a2b9-bb7c-4cbb-976f-07a5a0c8748c",
   "metadata": {},
   "outputs": [
    {
     "data": {
      "image/png": "[encoded data removed]",
      "text/latex": [
       "$\\displaystyle \\frac{\\left(d + 1\\right) \\left(d + 2\\right) \\left(2 d + 3\\right) \\left(m + 1\\right) \\left(n + 1\\right)}{6}$"
      ],
      "text/plain": [
       "(d + 1)⋅(d + 2)⋅(2⋅d + 3)⋅(m + 1)⋅(n + 1)\n",
       "─────────────────────────────────────────\n",
       "                    6                    "
      ]
     },
     "execution_count": 58,
     "metadata": {},
     "output_type": "execute_result"
    }
   ],
   "source": [
    "strProdCP1Dim(n,m,d)\n",
    "\n",
    "# strCP1xCP1Euler(n,m,d)\n"
   ]
  },
  {
   "cell_type": "code",
   "execution_count": 63,
   "id": "4b919c0c-feaa-4b9e-8642-6446db125751",
   "metadata": {},
   "outputs": [
    {
     "data": {
      "image/png": "[encoded data removed]",
      "text/latex": [
       "$\\displaystyle \\frac{\\left(d + 1\\right) \\left(d + 2\\right) \\left(2 d + 3\\right) \\left(n + 1\\right)}{6}$"
      ],
      "text/plain": [
       "(d + 1)⋅(d + 2)⋅(2⋅d + 3)⋅(n + 1)\n",
       "─────────────────────────────────\n",
       "                6                "
      ]
     },
     "execution_count": 63,
     "metadata": {},
     "output_type": "execute_result"
    }
   ],
   "source": [
    "strProdCP1Dim(n,0,d)"
   ]
  },
  {
   "cell_type": "code",
   "execution_count": 64,
   "id": "9197de47-7d62-47f3-abb9-e19138bd24dd",
   "metadata": {},
   "outputs": [
    {
     "data": {
      "image/png": "[encoded data removed]",
      "text/latex": [
       "$\\displaystyle \\frac{\\left(d + 1\\right) \\left(d + 2\\right) \\left(d^{2} + 2 d n + 3 d + 3 n + 3\\right)}{6}$"
      ],
      "text/plain": [
       "                ⎛ 2                        ⎞\n",
       "(d + 1)⋅(d + 2)⋅⎝d  + 2⋅d⋅n + 3⋅d + 3⋅n + 3⎠\n",
       "────────────────────────────────────────────\n",
       "                     6                      "
      ]
     },
     "execution_count": 64,
     "metadata": {},
     "output_type": "execute_result"
    }
   ],
   "source": [
    "strCP1xCP1Euler(n,0,d)"
   ]
  },
  {
   "cell_type": "code",
   "execution_count": 66,
   "id": "80125a61-0e62-4b92-a4ac-1bcae5f3e355",
   "metadata": {},
   "outputs": [
    {
     "data": {
      "image/png": "[encoded data removed]",
      "text/latex": [
       "$\\displaystyle \\frac{d \\left(d + 1\\right)^{2} \\left(d + 2\\right)}{6}$"
      ],
      "text/plain": [
       "         2        \n",
       "d⋅(d + 1) ⋅(d + 2)\n",
       "──────────────────\n",
       "        6         "
      ]
     },
     "execution_count": 66,
     "metadata": {},
     "output_type": "execute_result"
    }
   ],
   "source": [
    "factor( strCP1xCP1Euler(n,0,d) - strProdCP1Dim(n,0,d) )"
   ]
  },
  {
   "cell_type": "code",
   "execution_count": 67,
   "id": "40255dcf-de8a-4d01-8b68-bf33e13b0fa0",
   "metadata": {},
   "outputs": [
    {
     "data": {
      "image/png": "[encoded data removed]",
      "text/latex": [
       "$\\displaystyle \\frac{d \\left(d + 1\\right) \\left(d + 2\\right) \\left(d - 2 m n + 1\\right)}{6}$"
      ],
      "text/plain": [
       "d⋅(d + 1)⋅(d + 2)⋅(d - 2⋅m⋅n + 1)\n",
       "─────────────────────────────────\n",
       "                6                "
      ]
     },
     "execution_count": 67,
     "metadata": {},
     "output_type": "execute_result"
    }
   ],
   "source": [
    "factor( strCP1xCP1Euler(n,m,d) - strProdCP1Dim(n,m,d) )"
   ]
  },
  {
   "cell_type": "code",
   "execution_count": 68,
   "id": "eeab93f1-c30d-4713-bd14-d1c315608b30",
   "metadata": {},
   "outputs": [],
   "source": [
    "def NewProdCP1Dim(n,m,d,d2):\n",
    "    return SymPowerDim(2,n + d - i) * SymPowerDim(2,m + i) * SymPowerDim(2,d - i) * SymPowerDim(2,i)\n"
   ]
  },
  {
   "cell_type": "code",
   "execution_count": 69,
   "id": "94dc5f7a-5825-460b-94e4-fcb23569e5a8",
   "metadata": {},
   "outputs": [
    {
     "data": {
      "image/png": "[encoded data removed]",
      "text/latex": [
       "$\\displaystyle \\left(i + 1\\right) \\left(i + m + 1\\right) {\\binom{d - i + 1}{d - i}} {\\binom{d - i + n + 1}{d - i + n}}$"
      ],
      "text/plain": [
       "                    ⎛d - i + 1⎞ ⎛d - i + n + 1⎞\n",
       "(i + 1)⋅(i + m + 1)⋅⎜         ⎟⋅⎜             ⎟\n",
       "                    ⎝  d - i  ⎠ ⎝  d - i + n  ⎠"
      ]
     },
     "execution_count": 69,
     "metadata": {},
     "output_type": "execute_result"
    }
   ],
   "source": [
    "NewProdCP1Dim(n,m,d,i)"
   ]
  },
  {
   "cell_type": "code",
   "execution_count": 70,
   "id": "9055bc8b-80fb-4ce6-a81a-3a7a708038dc",
   "metadata": {},
   "outputs": [
    {
     "data": {
      "image/png": "[encoded data removed]",
      "text/latex": [
       "$\\displaystyle \\frac{\\left(d + 1\\right) \\left(d + 2\\right) \\left(2 d + 3\\right) \\left(m + 1\\right) \\left(n + 1\\right)}{6}$"
      ],
      "text/plain": [
       "(d + 1)⋅(d + 2)⋅(2⋅d + 3)⋅(m + 1)⋅(n + 1)\n",
       "─────────────────────────────────────────\n",
       "                    6                    "
      ]
     },
     "execution_count": 70,
     "metadata": {},
     "output_type": "execute_result"
    }
   ],
   "source": [
    "def SumNewProdCP1Dim(n,m,d):\n",
    "    return factor( Sum(ProdCP1Dim(n,m,d,i),(i,0,d)).doit())\n",
    "\n",
    "SumNewProdCP1Dim(n,m,d)"
   ]
  },
  {
   "cell_type": "code",
   "execution_count": 71,
   "id": "3d715bb7-42be-4123-bc3c-62c3e0bde3ee",
   "metadata": {},
   "outputs": [
    {
     "data": {
      "image/png": "[encoded data removed]",
      "text/latex": [
       "$\\displaystyle 34 \\left(m + 1\\right) \\left(n + 1\\right)$"
      ],
      "text/plain": [
       "34⋅(m + 1)⋅(n + 1)"
      ]
     },
     "execution_count": 71,
     "metadata": {},
     "output_type": "execute_result"
    }
   ],
   "source": [
    "SumNewProdCP1Dim(n,m,2)"
   ]
  },
  {
   "cell_type": "code",
   "execution_count": 72,
   "id": "e0d27406-a48d-40fb-8449-be003c091f31",
   "metadata": {},
   "outputs": [
    {
     "data": {
      "image/png": "[encoded data removed]",
      "text/latex": [
       "$\\displaystyle 2 \\left(3 m n + 7 m + 7 n + 13\\right)$"
      ],
      "text/plain": [
       "2⋅(3⋅m⋅n + 7⋅m + 7⋅n + 13)"
      ]
     },
     "execution_count": 72,
     "metadata": {},
     "output_type": "execute_result"
    }
   ],
   "source": [
    "CP1xCP1Euler(n,m,2)"
   ]
  },
  {
   "cell_type": "code",
   "execution_count": 74,
   "id": "a05387fb-99de-4e83-9215-08e0ebb7d19b",
   "metadata": {},
   "outputs": [
    {
     "data": {
      "image/png": "[encoded data removed]",
      "text/latex": [
       "$\\displaystyle 3 \\left(m + 1\\right) \\left(n + 3\\right)$"
      ],
      "text/plain": [
       "3⋅(m + 1)⋅(n + 3)"
      ]
     },
     "execution_count": 74,
     "metadata": {},
     "output_type": "execute_result"
    }
   ],
   "source": [
    "ProdCP1Dim(n,m,2,0)"
   ]
  },
  {
   "cell_type": "code",
   "execution_count": 75,
   "id": "2bdd0698-d0eb-4472-8690-b17f62becd48",
   "metadata": {},
   "outputs": [
    {
     "data": {
      "image/png": "[encoded data removed]",
      "text/latex": [
       "$\\displaystyle 4 \\left(m + 2\\right) \\left(n + 2\\right)$"
      ],
      "text/plain": [
       "4⋅(m + 2)⋅(n + 2)"
      ]
     },
     "execution_count": 75,
     "metadata": {},
     "output_type": "execute_result"
    }
   ],
   "source": [
    "ProdCP1Dim(n,m,2,1)"
   ]
  },
  {
   "cell_type": "code",
   "execution_count": 76,
   "id": "a82adf57-1b16-4e7a-a4c7-ec7e4098102c",
   "metadata": {},
   "outputs": [
    {
     "data": {
      "image/png": "[encoded data removed]",
      "text/latex": [
       "$\\displaystyle 3 \\left(m + 3\\right) \\left(n + 1\\right)$"
      ],
      "text/plain": [
       "3⋅(m + 3)⋅(n + 1)"
      ]
     },
     "execution_count": 76,
     "metadata": {},
     "output_type": "execute_result"
    }
   ],
   "source": [
    "ProdCP1Dim(n,m,2,2)"
   ]
  },
  {
   "cell_type": "code",
   "execution_count": 78,
   "id": "8f816c81-10e8-4c3b-b400-443dccad5e5b",
   "metadata": {},
   "outputs": [
    {
     "data": {
      "image/png": "[encoded data removed]",
      "text/latex": [
       "$\\displaystyle 2 \\left(5 m n + 10 m + 10 n + 17\\right)$"
      ],
      "text/plain": [
       "2⋅(5⋅m⋅n + 10⋅m + 10⋅n + 17)"
      ]
     },
     "execution_count": 78,
     "metadata": {},
     "output_type": "execute_result"
    }
   ],
   "source": [
    "factor( ProdCP1Dim(n,m,2,0) + ProdCP1Dim(n,m,2,1) + ProdCP1Dim(n,m,2,2) )"
   ]
  },
  {
   "cell_type": "code",
   "execution_count": 79,
   "id": "f7b79068-5b90-4612-993f-1f2f3969336e",
   "metadata": {},
   "outputs": [
    {
     "data": {
      "image/png": "[encoded data removed]",
      "text/latex": [
       "$\\displaystyle 2 \\left(3 m n + 7 m + 7 n + 13\\right)$"
      ],
      "text/plain": [
       "2⋅(3⋅m⋅n + 7⋅m + 7⋅n + 13)"
      ]
     },
     "execution_count": 79,
     "metadata": {},
     "output_type": "execute_result"
    }
   ],
   "source": [
    "CP1xCP1Euler(n,m,2)"
   ]
  },
  {
   "cell_type": "code",
   "execution_count": null,
   "id": "13e52c17-788a-487e-9711-1e0fcd28d0a5",
   "metadata": {},
   "outputs": [],
   "source": []
  }
 ],
 "metadata": {
  "kernelspec": {
   "display_name": "Python 3 (ipykernel)",
   "language": "python",
   "name": "python3"
  },
  "language_info": {
   "codemirror_mode": {
    "name": "ipython",
    "version": 3
   },
   "file_extension": ".py",
   "mimetype": "text/x-python",
   "name": "python",
   "nbconvert_exporter": "python",
   "pygments_lexer": "ipython3",
   "version": "3.9.7"
  }
 },
 "nbformat": 4,
 "nbformat_minor": 5
}
