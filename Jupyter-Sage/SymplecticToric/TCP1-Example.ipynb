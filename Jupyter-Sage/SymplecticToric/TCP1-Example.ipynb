{
 "cells": [
  {
   "cell_type": "code",
   "execution_count": 2,
   "metadata": {},
   "outputs": [],
   "source": [
    "from sympy import *\n",
    "from sympy.vector import Vector\n",
    "from sympy.vector import CoordSys3D\n",
    "N = CoordSys3D('N')\n",
    "\n",
    "t, k, a = symbols( 't k a' )\n",
    "init_printing(use_unicode=True)\n",
    "\n",
    "# Basis for the edge/weight vectors for the points \n",
    "\n",
    "v1 = N.i\n",
    "\n",
    "Phi = t*v1\n",
    "\n",
    "# Set the fixed points of the action; P denotes those that belong\n",
    "# to the core, and Q those that come from the cut extended core:\n",
    "\n",
    "def P1(k,a):\n",
    "    return Vector.zero\n",
    "\n",
    "def P2(k,a):\n",
    "    return k*v1\n",
    "\n",
    "def Q1_1(k,a):\n",
    "    return -a*v1\n",
    "\n",
    "def Q2_2(k,a):\n",
    "    return (k+a)*v1\n",
    "\n",
    "# Define the term which is summed over each fixed point,\n",
    "# representing the character for the representation\n",
    "\n",
    "def f(P, edge1, edge2):\n",
    "    return exp( Phi.dot(P) ) / ( (1 - exp( Phi.dot(edge1) ) ) * ( 1 - exp( Phi.dot(edge2) ) ) )\n",
    "\n",
    "def Character(k,a):\n",
    "    return f(P1(k,a), v1, -v1) + f(P2(k,a), -v1, v1) + f(Q1_1(k,a), v1, v1) + f(Q2_2(k,a), -v1, -v1)\n",
    "\n",
    "# Take the limit as t -> 0 to get the Euler characteristic(?)\n",
    "\n",
    "def Euler(k,a):\n",
    "    return limit(Character(k,a),t,0)\n",
    "\n"
   ]
  },
  {
   "cell_type": "code",
   "execution_count": 3,
   "metadata": {},
   "outputs": [
    {
     "data": {
      "image/png": "[encoded data removed]",
      "text/latex": [
       "$\\displaystyle a^{2} + a k + 2 a + k + 1$"
      ],
      "text/plain": [
       " 2                    \n",
       "a  + a⋅k + 2⋅a + k + 1"
      ]
     },
     "execution_count": 3,
     "metadata": {},
     "output_type": "execute_result"
    }
   ],
   "source": [
    "Euler(k,a)"
   ]
  },
  {
   "cell_type": "code",
   "execution_count": 5,
   "metadata": {},
   "outputs": [
    {
     "data": {
      "image/png": "[encoded data removed]",
      "text/latex": [
       "$\\displaystyle \\left(a + 1\\right) \\left(a + k + 1\\right)$"
      ],
      "text/plain": [
       "(a + 1)⋅(a + k + 1)"
      ]
     },
     "execution_count": 5,
     "metadata": {},
     "output_type": "execute_result"
    }
   ],
   "source": [
    "factor(Euler(k,a))"
   ]
  },
  {
   "cell_type": "code",
   "execution_count": 6,
   "metadata": {},
   "outputs": [
    {
     "data": {
      "image/png": "[encoded data removed]",
      "text/latex": [
       "$\\displaystyle k + 1$"
      ],
      "text/plain": [
       "k + 1"
      ]
     },
     "execution_count": 6,
     "metadata": {},
     "output_type": "execute_result"
    }
   ],
   "source": [
    "Euler(k,0)"
   ]
  },
  {
   "cell_type": "code",
   "execution_count": null,
   "metadata": {},
   "outputs": [],
   "source": []
  }
 ],
 "metadata": {
  "kernelspec": {
   "display_name": "Python 3",
   "language": "python",
   "name": "python3"
  },
  "language_info": {
   "codemirror_mode": {
    "name": "ipython",
    "version": 3
   },
   "file_extension": ".py",
   "mimetype": "text/x-python",
   "name": "python",
   "nbconvert_exporter": "python",
   "pygments_lexer": "ipython3",
   "version": "3.8.5"
  }
 },
 "nbformat": 4,
 "nbformat_minor": 4
}
