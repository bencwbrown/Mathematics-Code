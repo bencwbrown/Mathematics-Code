{
 "cells": [
  {
   "cell_type": "code",
   "execution_count": 1,
   "metadata": {},
   "outputs": [],
   "source": [
    "from sympy import *\n",
    "import numpy as np\n",
    "from sympy.vector import Vector\n",
    "from sympy.vector import CoordSys3D\n",
    "import IPython.display as disp\n",
    "\n",
    "N = CoordSys3D('N')\n",
    "\n",
    "t, a, b, m = symbols( 't a b m' )\n",
    "p,q = symbols('p q', integer=True)\n",
    "# init_printing(use_unicode=True)\n",
    "init_printing(use_latex='mathjax')\n",
    "\n",
    "# Basis for the edge/weight vectors for the points \n",
    "\n",
    "v1 = N.i\n",
    "v2 = N.j\n",
    "\n",
    "# Define the vector which is not parallel to any edge vector, which will tend to zero:\n",
    "\n",
    "q = 2\n",
    "Phi = t*(v1 + (q+1)*v2)\n",
    "\n",
    "# Set the fixed points of the action; P denotes those that belong\n",
    "# to the core, and Q those that come from the cut extended core:\n",
    "\n",
    "def P12(a,b,q):\n",
    "    return Vector.zero\n",
    "\n",
    "def P23(a,b,q):\n",
    "    return (a + q*b)*v1\n",
    "\n",
    "def P34(a,b,q):\n",
    "    return a*v1 + b*v2\n",
    "\n",
    "def P14(a,b,m):\n",
    "    return b*v2"
   ]
  },
  {
   "cell_type": "code",
   "execution_count": 2,
   "metadata": {},
   "outputs": [
    {
     "data": {
      "text/latex": [
       "$\\displaystyle \\mathbf{\\hat{0}}$"
      ],
      "text/plain": [
       "0"
      ]
     },
     "metadata": {},
     "output_type": "display_data"
    },
    {
     "data": {
      "text/latex": [
       "$\\displaystyle (a + b m)\\mathbf{\\hat{i}_{N}}$"
      ],
      "text/plain": [
       "(a + b*m)*N.i"
      ]
     },
     "metadata": {},
     "output_type": "display_data"
    },
    {
     "data": {
      "text/latex": [
       "$\\displaystyle (a)\\mathbf{\\hat{i}_{N}} + (b)\\mathbf{\\hat{j}_{N}}$"
      ],
      "text/plain": [
       "a*N.i + b*N.j"
      ]
     },
     "metadata": {},
     "output_type": "display_data"
    },
    {
     "data": {
      "text/latex": [
       "$\\displaystyle (b)\\mathbf{\\hat{j}_{N}}$"
      ],
      "text/plain": [
       "b*N.j"
      ]
     },
     "metadata": {},
     "output_type": "display_data"
    }
   ],
   "source": [
    "disp.display(P12(a,b,m))\n",
    "disp.display(P23(a,b,m))\n",
    "disp.display(P34(a,b,m))\n",
    "disp.display(P14(a,b,m))"
   ]
  },
  {
   "cell_type": "code",
   "execution_count": 3,
   "metadata": {},
   "outputs": [],
   "source": [
    "# Define the term which is summed over each fixed point,\n",
    "# representing the character for the representation\n",
    "\n",
    "def P(P, edge1, edge2, edge3, edge4):\n",
    "    return exp( Phi.dot(P) ) / ( (1 - exp( Phi.dot(edge1) ) ) * ( 1 - exp( Phi.dot(edge2) ) ) * ( 1 - exp( Phi.dot(edge3) ) ) * ( 1 - exp( Phi.dot(edge4) ) ) )\n",
    "\n",
    "def Q(P, edge1, edge2):\n",
    "    return exp( Phi.dot(P) ) / ( (1 - exp( Phi.dot(edge1) ) ) * ( 1 - exp( Phi.dot(edge2) ) ) )\n",
    "\n",
    "def Exp(p, q):\n",
    "    return exp( 2*pi*I*Rational(p,q) )\n",
    "\n",
    "# Term for the orbifold points:\n",
    "\n",
    "def UnityRootTerm(Q, p, q, edge1, edge2):\n",
    "    return ( Rational(1,q) * exp( Phi.dot(Q) ) ) / ( (1 - ( Exp(p,q) * exp(  Phi.dot(edge1) ) ) ) * ( 1 - ( Exp(p,q) * exp( Rational(1,q) * Phi.dot(edge2) ) ) ) )\n",
    "\n",
    "# Iterates the sum over each q-th root of unity:\n",
    "\n",
    "def OrbiCharacter(Q, q, edge1, edge2):\n",
    "    return sum([UnityRootTerm(Q, k, q, edge1, edge2) for k in range(0,q)])\n"
   ]
  },
  {
   "cell_type": "code",
   "execution_count": 4,
   "metadata": {},
   "outputs": [
    {
     "data": {
      "text/latex": [
       "$\\displaystyle \\frac{e^{a t + 3 b t}}{2 \\left(1 + e^{- t}\\right) \\left(1 + e^{- \\frac{t}{2}}\\right)} + \\frac{e^{a t + 3 b t}}{2 \\left(1 - e^{- t}\\right) \\left(1 - e^{- \\frac{t}{2}}\\right)}$"
      ],
      "text/plain": [
       "      a⋅t + 3⋅b⋅t              a⋅t + 3⋅b⋅t     \n",
       "     ℯ                        ℯ                \n",
       "────────────────────── + ──────────────────────\n",
       "            ⎛     -t ⎞               ⎛     -t ⎞\n",
       "            ⎜     ───⎟               ⎜     ───⎟\n",
       "  ⎛     -t⎞ ⎜      2 ⎟     ⎛     -t⎞ ⎜      2 ⎟\n",
       "2⋅⎝1 + ℯ  ⎠⋅⎝1 + ℯ   ⎠   2⋅⎝1 - ℯ  ⎠⋅⎝1 - ℯ   ⎠"
      ]
     },
     "execution_count": 4,
     "metadata": {},
     "output_type": "execute_result"
    }
   ],
   "source": [
    "# The factor for the orbifold point P34 = (a, b):\n",
    "\n",
    "OrbiCharacter(P34(a,b,m), q, q*v1 - v2, -v1)"
   ]
  },
  {
   "cell_type": "code",
   "execution_count": 5,
   "metadata": {},
   "outputs": [
    {
     "data": {
      "text/latex": [
       "$\\displaystyle \\frac{e^{t \\left(a + b m\\right)}}{2 \\left(1 + e^{- \\frac{t}{2}}\\right) \\left(e^{t} + 1\\right)} + \\frac{e^{t \\left(a + b m\\right)}}{2 \\left(1 - e^{- \\frac{t}{2}}\\right) \\left(1 - e^{t}\\right)}$"
      ],
      "text/plain": [
       "      t⋅(a + b⋅m)             t⋅(a + b⋅m)    \n",
       "     ℯ                       ℯ               \n",
       "───────────────────── + ─────────────────────\n",
       "  ⎛     -t ⎞              ⎛     -t ⎞         \n",
       "  ⎜     ───⎟              ⎜     ───⎟         \n",
       "  ⎜      2 ⎟ ⎛ t    ⎞     ⎜      2 ⎟ ⎛     t⎞\n",
       "2⋅⎝1 + ℯ   ⎠⋅⎝ℯ  + 1⎠   2⋅⎝1 - ℯ   ⎠⋅⎝1 - ℯ ⎠"
      ]
     },
     "execution_count": 5,
     "metadata": {},
     "output_type": "execute_result"
    }
   ],
   "source": [
    "# The factor for the orbifold point P23 = (a + mb, 0):\n",
    "\n",
    "OrbiCharacter(P23(a,b,m), q, -q*v1 + v2, -v1)"
   ]
  },
  {
   "cell_type": "code",
   "execution_count": 6,
   "metadata": {},
   "outputs": [],
   "source": [
    "# Factor(s) for each fixed-point:\n",
    "\n",
    "def IntP12(a,b,m):\n",
    "    return Q(P12(a,b,m), v1, v2)\n",
    "\n",
    "def OrbP23(a,b,m,q):\n",
    "    return OrbiCharacter(P23(a,b,m), q, -q*v1 + v2, -v1)\n",
    "\n",
    "def OrbP34(a,b,m,q):\n",
    "    return OrbiCharacter(P34(a,b,m), q, q*v1 - v2, -v1)\n",
    "\n",
    "def IntP14(a,b,m):\n",
    "    return Q(P14(a,b,m), v1, -v2)"
   ]
  },
  {
   "cell_type": "code",
   "execution_count": 7,
   "metadata": {},
   "outputs": [
    {
     "data": {
      "text/latex": [
       "$\\displaystyle \\frac{1}{\\left(1 - e^{t}\\right) \\left(1 - e^{3 t}\\right)} + \\frac{e^{t \\left(a + b m\\right)}}{2 \\left(1 + e^{- \\frac{t}{2}}\\right) \\left(e^{t} + 1\\right)} + \\frac{e^{t \\left(a + b m\\right)}}{2 \\left(1 - e^{- \\frac{t}{2}}\\right) \\left(1 - e^{t}\\right)} + \\frac{e^{a t + 3 b t}}{2 \\left(1 + e^{- t}\\right) \\left(1 + e^{- \\frac{t}{2}}\\right)} + \\frac{e^{a t + 3 b t}}{2 \\left(1 - e^{- t}\\right) \\left(1 - e^{- \\frac{t}{2}}\\right)} + \\frac{e^{3 b t}}{\\left(1 - e^{- 3 t}\\right) \\left(1 - e^{t}\\right)}$"
      ],
      "text/plain": [
       "                            t⋅(a + b⋅m)             t⋅(a + b⋅m)             a⋅\n",
       "         1                 ℯ                       ℯ                       ℯ  \n",
       "─────────────────── + ───────────────────── + ───────────────────── + ────────\n",
       "⎛     t⎞ ⎛     3⋅t⎞     ⎛     -t ⎞              ⎛     -t ⎞                    \n",
       "⎝1 - ℯ ⎠⋅⎝1 - ℯ   ⎠     ⎜     ───⎟              ⎜     ───⎟                    \n",
       "                        ⎜      2 ⎟ ⎛ t    ⎞     ⎜      2 ⎟ ⎛     t⎞     ⎛     \n",
       "                      2⋅⎝1 + ℯ   ⎠⋅⎝ℯ  + 1⎠   2⋅⎝1 - ℯ   ⎠⋅⎝1 - ℯ ⎠   2⋅⎝1 + ℯ\n",
       "\n",
       "t + 3⋅b⋅t              a⋅t + 3⋅b⋅t                3⋅b⋅t       \n",
       "                      ℯ                          ℯ            \n",
       "────────────── + ────────────────────── + ────────────────────\n",
       "    ⎛     -t ⎞               ⎛     -t ⎞   ⎛     -3⋅t⎞ ⎛     t⎞\n",
       "    ⎜     ───⎟               ⎜     ───⎟   ⎝1 - ℯ    ⎠⋅⎝1 - ℯ ⎠\n",
       "-t⎞ ⎜      2 ⎟     ⎛     -t⎞ ⎜      2 ⎟                       \n",
       "  ⎠⋅⎝1 + ℯ   ⎠   2⋅⎝1 - ℯ  ⎠⋅⎝1 - ℯ   ⎠                       "
      ]
     },
     "metadata": {},
     "output_type": "display_data"
    }
   ],
   "source": [
    "# Equivariant Index (with respect to the 1-PSG given by exp(t*Phi) ):\n",
    "\n",
    "def Characters(a,b,m,q):\n",
    "    return IntP12(a,b,m) + OrbP23(a,b,m,q) + OrbP34(a,b,m,q) + IntP14(a,b,m)\n",
    "\n",
    "disp.display(Characters(a,b,m,q))"
   ]
  },
  {
   "cell_type": "markdown",
   "metadata": {},
   "source": [
    "Let $\\mu : M \\rightarrow (\\mathfrak{t}^{d})^{\\ast}$ be the moment map, $p \\in M^{T}$ an isolated-fixed point, $\\mu_{q}$ a $q$-th root of unity, that is, $\\mu_{q} = e^{\\tfrac{2 \\pi i}{q}}$, and $\\Phi = t(1,q+1) \\in \\mathfrak{t}^{d}$ the generator of a $1$-PSG, whose image in $T^{d}$ is dense; what this says is that $\\langle \\mu(x),\\, \\Phi(t) \\rangle \\neq 0$ for $\\mu(x) \\in H_{i}$, $i = 1, \\ldots, n$.\n",
    "\n",
    "Then the equivariant index theorem yields the character for the $T^{d}$-represenation of $H^{0}(M; \\mathcal{L})$:\n",
    "\n",
    "$$ \\chi\\left(\\Phi(t)\\right) = \\sum\\limits_{p \\in M^{T}} \\frac{1}{q} \\sum\\limits_{k = 1}^{q} \\frac{e^{\\langle \\mu(p),\\, \\Phi(t) \\rangle}}{\\prod_{j = 1}^{d} \\left(1 - \\mu_{q}^{k} \\cdot e^{\\langle \\lambda_{p,j},\\, \\Phi(t) \\rangle} \\right) } $$"
   ]
  },
  {
   "cell_type": "code",
   "execution_count": 11,
   "metadata": {},
   "outputs": [
    {
     "data": {
      "text/latex": [
       "$\\displaystyle \\frac{29}{2}$"
      ],
      "text/plain": [
       "29/2"
      ]
     },
     "execution_count": 11,
     "metadata": {},
     "output_type": "execute_result"
    }
   ],
   "source": [
    "limit(Characters(2,2,2,q), t, 0)"
   ]
  },
  {
   "cell_type": "code",
   "execution_count": 9,
   "metadata": {},
   "outputs": [
    {
     "data": {
      "text/latex": [
       "$\\displaystyle 44$"
      ],
      "text/plain": [
       "44"
      ]
     },
     "execution_count": 9,
     "metadata": {},
     "output_type": "execute_result"
    }
   ],
   "source": [
    "limit(Characters(4,4,2,q), t, 0)"
   ]
  },
  {
   "cell_type": "code",
   "execution_count": 10,
   "metadata": {},
   "outputs": [
    {
     "data": {
      "text/latex": [
       "$\\displaystyle \\frac{179}{2}$"
      ],
      "text/plain": [
       "179/2"
      ]
     },
     "execution_count": 10,
     "metadata": {},
     "output_type": "execute_result"
    }
   ],
   "source": [
    "limit(Characters(6,6,2,q), t, 0)"
   ]
  },
  {
   "cell_type": "code",
   "execution_count": null,
   "metadata": {},
   "outputs": [],
   "source": []
  }
 ],
 "metadata": {
  "kernelspec": {
   "display_name": "Python 3",
   "language": "python",
   "name": "python3"
  },
  "language_info": {
   "codemirror_mode": {
    "name": "ipython",
    "version": 3
   },
   "file_extension": ".py",
   "mimetype": "text/x-python",
   "name": "python",
   "nbconvert_exporter": "python",
   "pygments_lexer": "ipython3",
   "version": "3.8.5"
  }
 },
 "nbformat": 4,
 "nbformat_minor": 4
}
