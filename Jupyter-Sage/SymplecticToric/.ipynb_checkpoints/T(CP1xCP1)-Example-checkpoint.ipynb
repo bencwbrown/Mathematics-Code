{
 "cells": [
  {
   "cell_type": "code",
   "execution_count": 1,
   "metadata": {},
   "outputs": [],
   "source": [
    "from sympy import *\n",
    "from sympy.vector import Vector\n",
    "from sympy.vector import CoordSys3D\n",
    "import IPython.display as disp\n",
    "\n",
    "N = CoordSys3D('N')\n",
    "\n",
    "t, k = symbols( 't k' )\n",
    "n, d, m = symbols('n d m', positive=True, integer=True)\n",
    "init_printing(use_latex='mathjax')\n",
    "\n",
    "# Define a vector which is not parallel to any edge vector (non-degeneracy), which will eventually be sent to zero:\n",
    "\n",
    "Phi = t*(N.i + 2*N.j)\n",
    "\n",
    "# Set the fixed points of the action; P denotes those that belong\n",
    "# to the core, and Q those that come from the cut extended core:\n",
    "\n",
    "# Define the interior points which make up the vertices to the core:\n",
    "\n",
    "def P12(k,a):\n",
    "    return Vector.zero\n",
    "\n",
    "def P23(k,a):\n",
    "    return k*N.i\n",
    "\n",
    "def P34(k,a):\n",
    "    return k*N.i + k*N.j\n",
    "\n",
    "def P14(k,a):\n",
    "    return k*N.j\n",
    "\n",
    "# Exterior points coming from the cut:\n",
    "\n",
    "def Q12_1(k,a):\n",
    "    return -a*N.j\n",
    "\n",
    "def Q12_2(k,a):\n",
    "    return -a*N.i\n",
    "\n",
    "def Q23_2(k,a):\n",
    "    return (k+a)*N.i\n",
    "\n",
    "def Q23_3(k,a):\n",
    "    return k*N.i - a*N.j\n",
    "\n",
    "def Q34_3(k,a):\n",
    "    return k*N.i + (k+a)*N.j\n",
    "\n",
    "def Q34_4(k,a):\n",
    "    return (k+a)*N.i + k*N.j\n",
    "\n",
    "def Q14_1(k,a):\n",
    "    return (k+a)*N.j\n",
    "\n",
    "def Q14_4(k,a):\n",
    "    return -a*N.i + k*N.i\n",
    "\n",
    "# Basis for the edge/weight vectors for the points \n",
    "\n",
    "v1 = N.i\n",
    "\n",
    "v2 = N.j\n",
    "\n",
    "# Define the term which is summed over each fixed point,\n",
    "# representing the character for the representation\n",
    "\n",
    "def f(P, edge1, edge2):\n",
    "    return exp( Phi.dot(P) ) / ( (1 - exp( Phi.dot(edge1) ) ) * ( 1 - exp( Phi.dot(edge2) ) ) )\n",
    "\n",
    "def g(P, edge1, edge2, edge3, edge4):\n",
    "    return exp( Phi.dot(P) ) / ( (1 - exp( Phi.dot(edge1) ) ) * ( 1 - exp( Phi.dot(edge2) ) ) * ( 1 - exp( Phi.dot(edge3) ) ) * ( 1 - exp( Phi.dot(edge4) ) ) )\n",
    "\n",
    "# For each of the right-angled triangles:\n",
    "# Delta34 is the bottom-left simplex:\n",
    "\n",
    "def Delta34(k,a):\n",
    "    return f( P12(k,a), v1, v2 ) * ( f( Vector.zero, -v1, -v2 ) + f( -a*v1, v1, v1 - v2 ) + f( -a*v2, v2, -v1 + v2 ) )\n",
    "\n",
    "# Delta14 is the bottom-right simplex:\n",
    "\n",
    "def Delta14(k,a):\n",
    "    return f( P23(k,a), -v1, v2 ) * ( f( Vector.zero, v1, -v2 ) + f( a*v1, -v1, -v1 - v2 ) + f( -a*v2, v1 + v2, v2 ) )\n",
    "\n",
    "# Delta12 is the top-right simplex:\n",
    "\n",
    "def Delta12(k,a):\n",
    "    return f( P34(k,a), -v1 , -v2 ) * ( f( Vector.zero, v1, v2 ) + f( a*v1, -v1 + v2, -v1 ) + f( a*v2, v1 - v2, -v2 ) )\n",
    "\n",
    "# Delta23 is the top-left simplex:\n",
    "\n",
    "def Delta23(k,a):\n",
    "    return f( P14(k,a), v1 , -v2 ) * ( f( Vector.zero, v2, -v1 ) + f( -a*v1, v1, v1 + v2 ) + f( a*v2, -v1 - v2, -v2 ) )\n",
    "\n",
    "# And their sum:\n",
    "\n",
    "def Sum(k,a):\n",
    "    return Delta34(k,a) + Delta14(k,a) + Delta12(k,a) + Delta23(k,a)\n",
    "\n",
    "# Take the limit as t -> 0 to get the Euler characteristic(?):\n",
    "\n",
    "def SumLimit(k,a):\n",
    "    return limit(Sum(k,a),t,0)\n"
   ]
  },
  {
   "cell_type": "code",
   "execution_count": 2,
   "metadata": {},
   "outputs": [
    {
     "data": {
      "image/png": "[encoded data removed]",
      "text/latex": [
       "$\\displaystyle \\frac{\\frac{e^{- 2 a t}}{\\left(1 - e^{t}\\right) \\left(1 - e^{2 t}\\right)} + \\frac{e^{- a t}}{\\left(1 - e^{- t}\\right) \\left(1 - e^{t}\\right)} + \\frac{1}{\\left(1 - e^{- 2 t}\\right) \\left(1 - e^{- t}\\right)}}{\\left(1 - e^{t}\\right) \\left(1 - e^{2 t}\\right)}$"
      ],
      "text/plain": [
       "       -2⋅a⋅t                -a⋅t                               \n",
       "      ℯ                     ℯ                        1          \n",
       "─────────────────── + ────────────────── + ─────────────────────\n",
       "⎛     t⎞ ⎛     2⋅t⎞   ⎛     -t⎞ ⎛     t⎞   ⎛     -2⋅t⎞ ⎛     -t⎞\n",
       "⎝1 - ℯ ⎠⋅⎝1 - ℯ   ⎠   ⎝1 - ℯ  ⎠⋅⎝1 - ℯ ⎠   ⎝1 - ℯ    ⎠⋅⎝1 - ℯ  ⎠\n",
       "────────────────────────────────────────────────────────────────\n",
       "                      ⎛     t⎞ ⎛     2⋅t⎞                       \n",
       "                      ⎝1 - ℯ ⎠⋅⎝1 - ℯ   ⎠                       "
      ]
     },
     "execution_count": 2,
     "metadata": {},
     "output_type": "execute_result"
    }
   ],
   "source": [
    "Delta34(k,a) # The bottom-left simplex"
   ]
  },
  {
   "cell_type": "code",
   "execution_count": 3,
   "metadata": {},
   "outputs": [
    {
     "data": {
      "image/png": "[encoded data removed]",
      "text/latex": [
       "$\\displaystyle \\frac{\\left(\\frac{e^{- 2 a t}}{\\left(1 - e^{2 t}\\right) \\left(1 - e^{3 t}\\right)} + \\frac{1}{\\left(1 - e^{- 2 t}\\right) \\left(1 - e^{t}\\right)} + \\frac{e^{a t}}{\\left(1 - e^{- 3 t}\\right) \\left(1 - e^{- t}\\right)}\\right) e^{k t}}{\\left(1 - e^{- t}\\right) \\left(1 - e^{2 t}\\right)}$"
      ],
      "text/plain": [
       "⎛        -2⋅a⋅t                                           a⋅t        ⎞     \n",
       "⎜       ℯ                         1                      ℯ           ⎟  k⋅t\n",
       "⎜───────────────────── + ──────────────────── + ─────────────────────⎟⋅ℯ   \n",
       "⎜⎛     2⋅t⎞ ⎛     3⋅t⎞   ⎛     -2⋅t⎞ ⎛     t⎞   ⎛     -3⋅t⎞ ⎛     -t⎞⎟     \n",
       "⎝⎝1 - ℯ   ⎠⋅⎝1 - ℯ   ⎠   ⎝1 - ℯ    ⎠⋅⎝1 - ℯ ⎠   ⎝1 - ℯ    ⎠⋅⎝1 - ℯ  ⎠⎠     \n",
       "───────────────────────────────────────────────────────────────────────────\n",
       "                            ⎛     -t⎞ ⎛     2⋅t⎞                           \n",
       "                            ⎝1 - ℯ  ⎠⋅⎝1 - ℯ   ⎠                           "
      ]
     },
     "execution_count": 3,
     "metadata": {},
     "output_type": "execute_result"
    }
   ],
   "source": [
    "Delta14(k,a) # The bottom-right simplex"
   ]
  },
  {
   "cell_type": "code",
   "execution_count": 4,
   "metadata": {},
   "outputs": [
    {
     "data": {
      "image/png": "[encoded data removed]",
      "text/latex": [
       "$\\displaystyle \\frac{\\left(\\frac{1}{\\left(1 - e^{t}\\right) \\left(1 - e^{2 t}\\right)} + \\frac{e^{a t}}{\\left(1 - e^{- t}\\right) \\left(1 - e^{t}\\right)} + \\frac{e^{2 a t}}{\\left(1 - e^{- 2 t}\\right) \\left(1 - e^{- t}\\right)}\\right) e^{3 k t}}{\\left(1 - e^{- 2 t}\\right) \\left(1 - e^{- t}\\right)}$"
      ],
      "text/plain": [
       "⎛                              a⋅t                   2⋅a⋅t       ⎞       \n",
       "⎜         1                   ℯ                     ℯ            ⎟  3⋅k⋅t\n",
       "⎜─────────────────── + ────────────────── + ─────────────────────⎟⋅ℯ     \n",
       "⎜⎛     t⎞ ⎛     2⋅t⎞   ⎛     -t⎞ ⎛     t⎞   ⎛     -2⋅t⎞ ⎛     -t⎞⎟       \n",
       "⎝⎝1 - ℯ ⎠⋅⎝1 - ℯ   ⎠   ⎝1 - ℯ  ⎠⋅⎝1 - ℯ ⎠   ⎝1 - ℯ    ⎠⋅⎝1 - ℯ  ⎠⎠       \n",
       "─────────────────────────────────────────────────────────────────────────\n",
       "                          ⎛     -2⋅t⎞ ⎛     -t⎞                          \n",
       "                          ⎝1 - ℯ    ⎠⋅⎝1 - ℯ  ⎠                          "
      ]
     },
     "execution_count": 4,
     "metadata": {},
     "output_type": "execute_result"
    }
   ],
   "source": [
    "Delta12(k,a) # The top-right simplex"
   ]
  },
  {
   "cell_type": "code",
   "execution_count": 5,
   "metadata": {},
   "outputs": [
    {
     "data": {
      "image/png": "[encoded data removed]",
      "text/latex": [
       "$\\displaystyle \\frac{\\left(\\frac{e^{- a t}}{\\left(1 - e^{t}\\right) \\left(1 - e^{3 t}\\right)} + \\frac{1}{\\left(1 - e^{- t}\\right) \\left(1 - e^{2 t}\\right)} + \\frac{e^{2 a t}}{\\left(1 - e^{- 3 t}\\right) \\left(1 - e^{- 2 t}\\right)}\\right) e^{2 k t}}{\\left(1 - e^{- 2 t}\\right) \\left(1 - e^{t}\\right)}$"
      ],
      "text/plain": [
       "⎛        -a⋅t                                           2⋅a⋅t        ⎞       \n",
       "⎜       ℯ                       1                      ℯ             ⎟  2⋅k⋅t\n",
       "⎜─────────────────── + ──────────────────── + ───────────────────────⎟⋅ℯ     \n",
       "⎜⎛     t⎞ ⎛     3⋅t⎞   ⎛     -t⎞ ⎛     2⋅t⎞   ⎛     -3⋅t⎞ ⎛     -2⋅t⎞⎟       \n",
       "⎝⎝1 - ℯ ⎠⋅⎝1 - ℯ   ⎠   ⎝1 - ℯ  ⎠⋅⎝1 - ℯ   ⎠   ⎝1 - ℯ    ⎠⋅⎝1 - ℯ    ⎠⎠       \n",
       "─────────────────────────────────────────────────────────────────────────────\n",
       "                             ⎛     -2⋅t⎞ ⎛     t⎞                            \n",
       "                             ⎝1 - ℯ    ⎠⋅⎝1 - ℯ ⎠                            "
      ]
     },
     "execution_count": 5,
     "metadata": {},
     "output_type": "execute_result"
    }
   ],
   "source": [
    "Delta23(k,a) # The top-left simplex"
   ]
  },
  {
   "cell_type": "code",
   "execution_count": 6,
   "metadata": {},
   "outputs": [
    {
     "data": {
      "image/png": "[encoded data removed]",
      "text/latex": [
       "$\\displaystyle \\frac{\\frac{e^{- 2 a t}}{\\left(1 - e^{t}\\right) \\left(1 - e^{2 t}\\right)} + \\frac{e^{- a t}}{\\left(1 - e^{- t}\\right) \\left(1 - e^{t}\\right)} + \\frac{1}{\\left(1 - e^{- 2 t}\\right) \\left(1 - e^{- t}\\right)}}{\\left(1 - e^{t}\\right) \\left(1 - e^{2 t}\\right)} + \\frac{\\left(\\frac{e^{- 2 a t}}{\\left(1 - e^{2 t}\\right) \\left(1 - e^{3 t}\\right)} + \\frac{1}{\\left(1 - e^{- 2 t}\\right) \\left(1 - e^{t}\\right)} + \\frac{e^{a t}}{\\left(1 - e^{- 3 t}\\right) \\left(1 - e^{- t}\\right)}\\right) e^{k t}}{\\left(1 - e^{- t}\\right) \\left(1 - e^{2 t}\\right)} + \\frac{\\left(\\frac{e^{- a t}}{\\left(1 - e^{t}\\right) \\left(1 - e^{3 t}\\right)} + \\frac{1}{\\left(1 - e^{- t}\\right) \\left(1 - e^{2 t}\\right)} + \\frac{e^{2 a t}}{\\left(1 - e^{- 3 t}\\right) \\left(1 - e^{- 2 t}\\right)}\\right) e^{2 k t}}{\\left(1 - e^{- 2 t}\\right) \\left(1 - e^{t}\\right)} + \\frac{\\left(\\frac{1}{\\left(1 - e^{t}\\right) \\left(1 - e^{2 t}\\right)} + \\frac{e^{a t}}{\\left(1 - e^{- t}\\right) \\left(1 - e^{t}\\right)} + \\frac{e^{2 a t}}{\\left(1 - e^{- 2 t}\\right) \\left(1 - e^{- t}\\right)}\\right) e^{3 k t}}{\\left(1 - e^{- 2 t}\\right) \\left(1 - e^{- t}\\right)}$"
      ],
      "text/plain": [
       "       -2⋅a⋅t                -a⋅t                                  ⎛        -2\n",
       "      ℯ                     ℯ                        1             ⎜       ℯ  \n",
       "─────────────────── + ────────────────── + ─────────────────────   ⎜──────────\n",
       "⎛     t⎞ ⎛     2⋅t⎞   ⎛     -t⎞ ⎛     t⎞   ⎛     -2⋅t⎞ ⎛     -t⎞   ⎜⎛     2⋅t⎞\n",
       "⎝1 - ℯ ⎠⋅⎝1 - ℯ   ⎠   ⎝1 - ℯ  ⎠⋅⎝1 - ℯ ⎠   ⎝1 - ℯ    ⎠⋅⎝1 - ℯ  ⎠   ⎝⎝1 - ℯ   ⎠\n",
       "──────────────────────────────────────────────────────────────── + ───────────\n",
       "                      ⎛     t⎞ ⎛     2⋅t⎞                                     \n",
       "                      ⎝1 - ℯ ⎠⋅⎝1 - ℯ   ⎠                                     \n",
       "\n",
       "⋅a⋅t                                           a⋅t        ⎞        ⎛        -a\n",
       "                       1                      ℯ           ⎟  k⋅t   ⎜       ℯ  \n",
       "─────────── + ──────────────────── + ─────────────────────⎟⋅ℯ      ⎜──────────\n",
       " ⎛     3⋅t⎞   ⎛     -2⋅t⎞ ⎛     t⎞   ⎛     -3⋅t⎞ ⎛     -t⎞⎟        ⎜⎛     t⎞ ⎛\n",
       "⋅⎝1 - ℯ   ⎠   ⎝1 - ℯ    ⎠⋅⎝1 - ℯ ⎠   ⎝1 - ℯ    ⎠⋅⎝1 - ℯ  ⎠⎠        ⎝⎝1 - ℯ ⎠⋅⎝\n",
       "──────────────────────────────────────────────────────────────── + ───────────\n",
       "                 ⎛     -t⎞ ⎛     2⋅t⎞                                         \n",
       "                 ⎝1 - ℯ  ⎠⋅⎝1 - ℯ   ⎠                                         \n",
       "\n",
       "⋅t                                           2⋅a⋅t        ⎞          ⎛        \n",
       "                     1                      ℯ             ⎟  2⋅k⋅t   ⎜        \n",
       "───────── + ──────────────────── + ───────────────────────⎟⋅ℯ        ⎜────────\n",
       "     3⋅t⎞   ⎛     -t⎞ ⎛     2⋅t⎞   ⎛     -3⋅t⎞ ⎛     -2⋅t⎞⎟          ⎜⎛     t⎞\n",
       "1 - ℯ   ⎠   ⎝1 - ℯ  ⎠⋅⎝1 - ℯ   ⎠   ⎝1 - ℯ    ⎠⋅⎝1 - ℯ    ⎠⎠          ⎝⎝1 - ℯ ⎠\n",
       "────────────────────────────────────────────────────────────────── + ─────────\n",
       "                  ⎛     -2⋅t⎞ ⎛     t⎞                                        \n",
       "                  ⎝1 - ℯ    ⎠⋅⎝1 - ℯ ⎠                                        \n",
       "\n",
       "                      a⋅t                   2⋅a⋅t       ⎞       \n",
       " 1                   ℯ                     ℯ            ⎟  3⋅k⋅t\n",
       "─────────── + ────────────────── + ─────────────────────⎟⋅ℯ     \n",
       " ⎛     2⋅t⎞   ⎛     -t⎞ ⎛     t⎞   ⎛     -2⋅t⎞ ⎛     -t⎞⎟       \n",
       "⋅⎝1 - ℯ   ⎠   ⎝1 - ℯ  ⎠⋅⎝1 - ℯ ⎠   ⎝1 - ℯ    ⎠⋅⎝1 - ℯ  ⎠⎠       \n",
       "────────────────────────────────────────────────────────────────\n",
       "                 ⎛     -2⋅t⎞ ⎛     -t⎞                          \n",
       "                 ⎝1 - ℯ    ⎠⋅⎝1 - ℯ  ⎠                          "
      ]
     },
     "execution_count": 6,
     "metadata": {},
     "output_type": "execute_result"
    }
   ],
   "source": [
    "Sum(k,a) # Take their sum"
   ]
  },
  {
   "cell_type": "code",
   "execution_count": 7,
   "metadata": {},
   "outputs": [
    {
     "data": {
      "image/png": "[encoded data removed]",
      "text/latex": [
       "$\\displaystyle \\frac{a^{4}}{6} + \\frac{2 a^{3} k}{3} + a^{3} + \\frac{a^{2} k^{2}}{2} + 3 a^{2} k + \\frac{7 a^{2}}{3} + \\frac{3 a k^{2}}{2} + \\frac{13 a k}{3} + \\frac{5 a}{2} + k^{2} + 2 k + 1$"
      ],
      "text/plain": [
       " 4      3           2  2               2        2                             \n",
       "a    2⋅a ⋅k    3   a ⋅k       2     7⋅a    3⋅a⋅k    13⋅a⋅k   5⋅a    2         \n",
       "── + ────── + a  + ───── + 3⋅a ⋅k + ──── + ────── + ────── + ─── + k  + 2⋅k + \n",
       "6      3             2               3       2        3       2               \n",
       "\n",
       " \n",
       " \n",
       "1\n",
       " "
      ]
     },
     "execution_count": 7,
     "metadata": {},
     "output_type": "execute_result"
    }
   ],
   "source": [
    "SumLimit(k,a) # And let ϕ tend to zero"
   ]
  },
  {
   "cell_type": "code",
   "execution_count": 8,
   "metadata": {},
   "outputs": [
    {
     "data": {
      "image/png": "[encoded data removed]",
      "text/latex": [
       "$\\displaystyle \\frac{\\left(a + 1\\right) \\left(a + 2\\right) \\left(a^{2} + 4 a k + 3 a + 3 k^{2} + 6 k + 3\\right)}{6}$"
      ],
      "text/plain": [
       "                ⎛ 2                    2          ⎞\n",
       "(a + 1)⋅(a + 2)⋅⎝a  + 4⋅a⋅k + 3⋅a + 3⋅k  + 6⋅k + 3⎠\n",
       "───────────────────────────────────────────────────\n",
       "                         6                         "
      ]
     },
     "execution_count": 8,
     "metadata": {},
     "output_type": "execute_result"
    }
   ],
   "source": [
    "factor(SumLimit(k,a))"
   ]
  },
  {
   "cell_type": "code",
   "execution_count": 9,
   "metadata": {},
   "outputs": [],
   "source": [
    "def Euler(k,a):    \n",
    "    return factor(( Rational(1, 6) * (a + 1) * (a + 2) * (a**2 + 4*a*k + 3*a + 3*k**2 + 6*k + 3) ))\n"
   ]
  },
  {
   "cell_type": "code",
   "execution_count": 10,
   "metadata": {},
   "outputs": [
    {
     "data": {
      "image/png": "[encoded data removed]",
      "text/latex": [
       "$\\displaystyle \\frac{\\left(a + 1\\right) \\left(a + 2\\right) \\left(a^{2} + 4 a k + 3 a + 3 k^{2} + 6 k + 3\\right)}{6}$"
      ],
      "text/plain": [
       "                ⎛ 2                    2          ⎞\n",
       "(a + 1)⋅(a + 2)⋅⎝a  + 4⋅a⋅k + 3⋅a + 3⋅k  + 6⋅k + 3⎠\n",
       "───────────────────────────────────────────────────\n",
       "                         6                         "
      ]
     },
     "execution_count": 10,
     "metadata": {},
     "output_type": "execute_result"
    }
   ],
   "source": [
    "Euler(k,a)"
   ]
  },
  {
   "cell_type": "code",
   "execution_count": 11,
   "metadata": {},
   "outputs": [],
   "source": [
    "# Calculate the lattice points by hand:\n",
    "\n",
    "def AuxiliaryLatticePoints(k,a):\n",
    "    return (k + 2*a + 1)**2 - 4 * ( ( Rational(1, 2) * (a+1) * (a + 2) ) - (a + 1) )\n",
    "\n",
    "def LatticePoints(k,a):\n",
    "    return factor(AuxiliaryLatticePoints(k,a))"
   ]
  },
  {
   "cell_type": "code",
   "execution_count": 12,
   "metadata": {},
   "outputs": [
    {
     "data": {
      "image/png": "[encoded data removed]",
      "text/latex": [
       "$\\displaystyle 2 a^{2} + 4 a k + 2 a + k^{2} + 2 k + 1$"
      ],
      "text/plain": [
       "   2                  2          \n",
       "2⋅a  + 4⋅a⋅k + 2⋅a + k  + 2⋅k + 1"
      ]
     },
     "execution_count": 12,
     "metadata": {},
     "output_type": "execute_result"
    }
   ],
   "source": [
    "LatticePoints(k,a)"
   ]
  },
  {
   "cell_type": "code",
   "execution_count": 13,
   "metadata": {},
   "outputs": [
    {
     "data": {
      "image/png": "[encoded data removed]",
      "text/latex": [
       "$\\displaystyle \\left(k + 1\\right)^{2}$"
      ],
      "text/plain": [
       "       2\n",
       "(k + 1) "
      ]
     },
     "execution_count": 13,
     "metadata": {},
     "output_type": "execute_result"
    }
   ],
   "source": [
    "LatticePoints(k,0)"
   ]
  },
  {
   "cell_type": "code",
   "execution_count": 14,
   "metadata": {},
   "outputs": [
    {
     "data": {
      "image/png": "[encoded data removed]",
      "text/latex": [
       "$\\displaystyle \\left(k + 1\\right) \\left(k + 5\\right)$"
      ],
      "text/plain": [
       "(k + 1)⋅(k + 5)"
      ]
     },
     "execution_count": 14,
     "metadata": {},
     "output_type": "execute_result"
    }
   ],
   "source": [
    "LatticePoints(k,1)     # Is equal to (k+1)^{2} + 4(k+1)"
   ]
  },
  {
   "cell_type": "code",
   "execution_count": 15,
   "metadata": {},
   "outputs": [
    {
     "data": {
      "image/png": "[encoded data removed]",
      "text/latex": [
       "$\\displaystyle \\left(k + 1\\right)^{2}$"
      ],
      "text/plain": [
       "       2\n",
       "(k + 1) "
      ]
     },
     "execution_count": 15,
     "metadata": {},
     "output_type": "execute_result"
    }
   ],
   "source": [
    "Euler(k,0)"
   ]
  },
  {
   "cell_type": "code",
   "execution_count": 16,
   "metadata": {},
   "outputs": [
    {
     "data": {
      "image/png": "[encoded data removed]",
      "text/latex": [
       "$\\displaystyle 64$"
      ],
      "text/plain": [
       "64"
      ]
     },
     "execution_count": 16,
     "metadata": {},
     "output_type": "execute_result"
    }
   ],
   "source": [
    "Euler(3,1)"
   ]
  },
  {
   "cell_type": "code",
   "execution_count": 17,
   "metadata": {},
   "outputs": [
    {
     "data": {
      "image/png": "[encoded data removed]",
      "text/latex": [
       "$\\displaystyle \\left(k + 1\\right)^{2}$"
      ],
      "text/plain": [
       "       2\n",
       "(k + 1) "
      ]
     },
     "metadata": {},
     "output_type": "display_data"
    },
    {
     "data": {
      "image/png": "[encoded data removed]",
      "text/latex": [
       "$\\displaystyle \\left(k + 1\\right) \\left(3 k + 7\\right)$"
      ],
      "text/plain": [
       "(k + 1)⋅(3⋅k + 7)"
      ]
     },
     "metadata": {},
     "output_type": "display_data"
    },
    {
     "data": {
      "image/png": "[encoded data removed]",
      "text/latex": [
       "$\\displaystyle 2 \\left(3 k^{2} + 14 k + 13\\right)$"
      ],
      "text/plain": [
       "  ⎛   2            ⎞\n",
       "2⋅⎝3⋅k  + 14⋅k + 13⎠"
      ]
     },
     "metadata": {},
     "output_type": "display_data"
    },
    {
     "data": {
      "image/png": "[encoded data removed]",
      "text/latex": [
       "$\\displaystyle 10 \\left(k^{2} + 6 k + 7\\right)$"
      ],
      "text/plain": [
       "   ⎛ 2          ⎞\n",
       "10⋅⎝k  + 6⋅k + 7⎠"
      ]
     },
     "metadata": {},
     "output_type": "display_data"
    },
    {
     "data": {
      "image/png": "[encoded data removed]",
      "text/latex": [
       "$\\displaystyle 5 \\left(3 k^{2} + 22 k + 31\\right)$"
      ],
      "text/plain": [
       "  ⎛   2            ⎞\n",
       "5⋅⎝3⋅k  + 22⋅k + 31⎠"
      ]
     },
     "metadata": {},
     "output_type": "display_data"
    }
   ],
   "source": [
    "for a in range(0, 5):\n",
    "    disp.display(Euler(k,a))\n",
    "    \n",
    "a = symbols('a')"
   ]
  },
  {
   "cell_type": "code",
   "execution_count": 18,
   "metadata": {},
   "outputs": [
    {
     "data": {
      "image/png": "[encoded data removed]",
      "text/latex": [
       "$\\displaystyle 16$"
      ],
      "text/plain": [
       "16"
      ]
     },
     "metadata": {},
     "output_type": "display_data"
    },
    {
     "data": {
      "image/png": "[encoded data removed]",
      "text/latex": [
       "$\\displaystyle 64$"
      ],
      "text/plain": [
       "64"
      ]
     },
     "metadata": {},
     "output_type": "display_data"
    },
    {
     "data": {
      "image/png": "[encoded data removed]",
      "text/latex": [
       "$\\displaystyle 164$"
      ],
      "text/plain": [
       "164"
      ]
     },
     "metadata": {},
     "output_type": "display_data"
    },
    {
     "data": {
      "image/png": "[encoded data removed]",
      "text/latex": [
       "$\\displaystyle 340$"
      ],
      "text/plain": [
       "340"
      ]
     },
     "metadata": {},
     "output_type": "display_data"
    },
    {
     "data": {
      "image/png": "[encoded data removed]",
      "text/latex": [
       "$\\displaystyle 620$"
      ],
      "text/plain": [
       "620"
      ]
     },
     "metadata": {},
     "output_type": "display_data"
    }
   ],
   "source": [
    "for a in range(0, 5):\n",
    "    disp.display(Euler(3,a))\n",
    "    \n",
    "a = symbols('a')"
   ]
  },
  {
   "cell_type": "code",
   "execution_count": 20,
   "metadata": {},
   "outputs": [
    {
     "data": {
      "image/png": "[encoded data removed]",
      "text/latex": [
       "$\\displaystyle 10 \\left(k^{2} + 20 k + 67\\right)$"
      ],
      "text/plain": [
       "   ⎛ 2            ⎞\n",
       "10⋅⎝k  + 20⋅k + 67⎠"
      ]
     },
     "execution_count": 20,
     "metadata": {},
     "output_type": "execute_result"
    }
   ],
   "source": [
    "# Different of the a-level and the (a-1)-level of the cut for the Euler characteristic:\n",
    "def CutDiff(k,a):\n",
    "    return factor(Euler(k,a) - Euler(k,a-1))\n",
    "\n",
    "CutDiff(k,a)"
   ]
  },
  {
   "cell_type": "code",
   "execution_count": 21,
   "metadata": {},
   "outputs": [
    {
     "data": {
      "image/png": "[encoded data removed]",
      "text/latex": [
       "$\\displaystyle \\left(k + 1\\right)^{2}$"
      ],
      "text/plain": [
       "       2\n",
       "(k + 1) "
      ]
     },
     "metadata": {},
     "output_type": "display_data"
    },
    {
     "data": {
      "image/png": "[encoded data removed]",
      "text/latex": [
       "$\\displaystyle 2 \\left(k + 1\\right) \\left(k + 3\\right)$"
      ],
      "text/plain": [
       "2⋅(k + 1)⋅(k + 3)"
      ]
     },
     "metadata": {},
     "output_type": "display_data"
    },
    {
     "data": {
      "image/png": "[encoded data removed]",
      "text/latex": [
       "$\\displaystyle 3 k^{2} + 18 k + 19$"
      ],
      "text/plain": [
       "   2            \n",
       "3⋅k  + 18⋅k + 19"
      ]
     },
     "metadata": {},
     "output_type": "display_data"
    },
    {
     "data": {
      "image/png": "[encoded data removed]",
      "text/latex": [
       "$\\displaystyle 4 k^{2} + 32 k + 44$"
      ],
      "text/plain": [
       "   2            \n",
       "4⋅k  + 32⋅k + 44"
      ]
     },
     "metadata": {},
     "output_type": "display_data"
    },
    {
     "data": {
      "image/png": "[encoded data removed]",
      "text/latex": [
       "$\\displaystyle 5 k^{2} + 50 k + 85$"
      ],
      "text/plain": [
       "   2            \n",
       "5⋅k  + 50⋅k + 85"
      ]
     },
     "metadata": {},
     "output_type": "display_data"
    },
    {
     "data": {
      "image/png": "[encoded data removed]",
      "text/latex": [
       "$\\displaystyle 6 k^{2} + 72 k + 146$"
      ],
      "text/plain": [
       "   2             \n",
       "6⋅k  + 72⋅k + 146"
      ]
     },
     "metadata": {},
     "output_type": "display_data"
    },
    {
     "data": {
      "image/png": "[encoded data removed]",
      "text/latex": [
       "$\\displaystyle 7 \\left(k + 3\\right) \\left(k + 11\\right)$"
      ],
      "text/plain": [
       "7⋅(k + 3)⋅(k + 11)"
      ]
     },
     "metadata": {},
     "output_type": "display_data"
    },
    {
     "data": {
      "image/png": "[encoded data removed]",
      "text/latex": [
       "$\\displaystyle 8 k^{2} + 128 k + 344$"
      ],
      "text/plain": [
       "   2              \n",
       "8⋅k  + 128⋅k + 344"
      ]
     },
     "metadata": {},
     "output_type": "display_data"
    },
    {
     "data": {
      "image/png": "[encoded data removed]",
      "text/latex": [
       "$\\displaystyle 9 k^{2} + 162 k + 489$"
      ],
      "text/plain": [
       "   2              \n",
       "9⋅k  + 162⋅k + 489"
      ]
     },
     "metadata": {},
     "output_type": "display_data"
    },
    {
     "data": {
      "image/png": "[encoded data removed]",
      "text/latex": [
       "$\\displaystyle 10 k^{2} + 200 k + 670$"
      ],
      "text/plain": [
       "    2              \n",
       "10⋅k  + 200⋅k + 670"
      ]
     },
     "metadata": {},
     "output_type": "display_data"
    }
   ],
   "source": [
    "for a in range(0, 10):\n",
    "    disp.display(simplify(CutDiff(k,a)))"
   ]
  },
  {
   "cell_type": "code",
   "execution_count": null,
   "metadata": {},
   "outputs": [],
   "source": []
  }
 ],
 "metadata": {
  "kernelspec": {
   "display_name": "Python 3 (ipykernel)",
   "language": "python",
   "name": "python3"
  },
  "language_info": {
   "codemirror_mode": {
    "name": "ipython",
    "version": 3
   },
   "file_extension": ".py",
   "mimetype": "text/x-python",
   "name": "python",
   "nbconvert_exporter": "python",
   "pygments_lexer": "ipython3",
   "version": "3.10.3"
  }
 },
 "nbformat": 4,
 "nbformat_minor": 4
}
